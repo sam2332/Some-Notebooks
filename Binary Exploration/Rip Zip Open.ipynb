{
    "cells": [
        {
            "cell_type": "code",
            "execution_count": 16,
            "id": "12dfef6c-eda2-4d7e-915f-bccc2b7c933a",
            "metadata": {},
            "outputs": [],
            "source": [
                "from pathlib import Path\n",
                "\n",
                "p = Path(\"./samples\")\n",
                "p.mkdir(exist_ok=True)\n",
                "files = list(filter(None,[f if f.is_file() else None for f in p.glob(\"*.*\")]))\n",
                "files"
            ]
        },
        {
            "cell_type": "code",
            "execution_count": 17,
            "id": "8c64f93b-e0de-4800-b2ba-be80657df6f7",
            "metadata": {},
            "outputs": [],
            "source": [
                "file = files[0]\n",
                "file"
            ]
        },
        {
            "cell_type": "code",
            "execution_count": 18,
            "id": "68fd9a04-2d49-438b-ba5f-b75c76a4153a",
            "metadata": {},
            "outputs": [],
            "source": [
                "from zipfile import ZipFile"
            ]
        },
        {
            "cell_type": "code",
            "execution_count": 19,
            "id": "c34bc24e-3220-4371-9be2-f611b7f5e5ff",
            "metadata": {},
            "outputs": [],
            "source": [
                "zf = ZipFile(file)"
            ]
        },
        {
            "cell_type": "code",
            "execution_count": 20,
            "id": "dc386356-8e79-410c-aa2b-06e4df3c40d2",
            "metadata": {},
            "outputs": [],
            "source": [
                "zf.filelist"
            ]
        },
        {
            "cell_type": "code",
            "execution_count": null,
            "id": "1e21f7a0-4c31-499d-a16a-f88ece74c80f",
            "metadata": {},
            "outputs": [],
            "source": []
        }
    ],
    "metadata": {
        "kernelspec": {
            "display_name": "Python 3 (ipykernel)",
            "language": "python",
            "name": "python3"
        },
        "language_info": {
            "codemirror_mode": {
                "name": "ipython",
                "version": 3
            },
            "file_extension": ".py",
            "mimetype": "text/x-python",
            "name": "python",
            "nbconvert_exporter": "python",
            "pygments_lexer": "ipython3",
            "version": "3.10.4"
        },
        "widgets": {
            "application/vnd.jupyter.widget-state+json": {
                "state": {},
                "version_major": 2,
                "version_minor": 0
            }
        }
    },
    "nbformat": 4,
    "nbformat_minor": 5
}