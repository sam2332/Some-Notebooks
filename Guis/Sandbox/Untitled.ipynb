{
 "cells": [
  {
   "cell_type": "code",
   "execution_count": null,
   "id": "b4819855-0768-4d86-964c-761fd914c21f",
   "metadata": {},
   "outputs": [],
   "source": [
    "import PySimpleGUI as sg\n",
    "\n",
    "sg.theme(\"DarkTeal9\")"
   ]
  },
  {
   "cell_type": "code",
   "execution_count": null,
   "id": "d9dbc9dc-01bf-4e9a-a229-93749d424436",
   "metadata": {},
   "outputs": [],
   "source": [
    "layout = [\n",
    "    [\n",
    "        sg.Image(\"game.png\"),\n",
    "    ],\n",
    "    [\n",
    "        sg.Submit(),\n",
    "        sg.Cancel(),\n",
    "    ],\n",
    "]"
   ]
  },
  {
   "cell_type": "code",
   "execution_count": null,
   "id": "8a4ce76c-490a-44a2-8c08-778e1678a162",
   "metadata": {},
   "outputs": [],
   "source": [
    "window = sg.Window(\"Image\", layout, no_titlebar=False)\n",
    "\n",
    "\n",
    "while True:\n",
    "    event, values = window.read()"
   ]
  },
  {
   "cell_type": "code",
   "execution_count": null,
   "id": "8cbca217-70bc-4eb5-8e9f-0d919f0ff3ce",
   "metadata": {},
   "outputs": [],
   "source": []
  }
 ],
 "metadata": {
  "kernelspec": {
   "display_name": "Python 3 (ipykernel)",
   "language": "python",
   "name": "python3"
  },
  "language_info": {
   "codemirror_mode": {
    "name": "ipython",
    "version": 3
   },
   "file_extension": ".py",
   "mimetype": "text/x-python",
   "name": "python",
   "nbconvert_exporter": "python",
   "pygments_lexer": "ipython3",
   "version": "3.10.7"
  },
  "widgets": {
   "application/vnd.jupyter.widget-state+json": {
    "state": {},
    "version_major": 2,
    "version_minor": 0
   }
  }
 },
 "nbformat": 4,
 "nbformat_minor": 5
}
