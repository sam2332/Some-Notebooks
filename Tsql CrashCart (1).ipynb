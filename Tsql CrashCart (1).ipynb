{
 "cells": [
  {
   "cell_type": "code",
   "execution_count": null,
   "id": "b7912295-6402-48ba-9bcc-07554ce93cb1",
   "metadata": {},
   "outputs": [],
   "source": [
    "from getpass import getpass\n",
    "import pytds\n",
    "from pytds.login import NtlmAuth\n",
    "from pathlib import Path\n",
    "from collections import defaultdict\n",
    "import time\n",
    "password = ''"
   ]
  },
  {
   "cell_type": "code",
   "execution_count": null,
   "id": "b12f782a-d8c3-4cda-961e-08634febdd5c",
   "metadata": {
    "tags": [
     "parameters"
    ]
   },
   "outputs": [],
   "source": [
    "host=''\n",
    "myuser = ''\n",
    "dump_queries =True\n",
    "sleep = 0.25"
   ]
  },
  {
   "cell_type": "code",
   "execution_count": null,
   "id": "064a913b-bd05-4ec6-8cbd-38b614c3d08e",
   "metadata": {},
   "outputs": [],
   "source": [
    "ignore_users = [myuser, 'NT AUTHORITY\\\\SYSTEM']"
   ]
  },
  {
   "cell_type": "code",
   "execution_count": null,
   "id": "f202cb4f-aefa-4263-a938-e407456bd67b",
   "metadata": {},
   "outputs": [],
   "source": [
    "if password == '':\n",
    "    password = getpass('please enter your password')"
   ]
  },
  {
   "cell_type": "code",
   "execution_count": null,
   "id": "2af69130-07da-4bab-855e-1fa513fbf5f2",
   "metadata": {
    "tags": []
   },
   "outputs": [],
   "source": [
    "def run_query(query, host, database=None):\n",
    "    global password\n",
    "    with pytds.connect(\n",
    "        server=host,\n",
    "        database=database,\n",
    "        auth=NtlmAuth(user_name=\"ingham-county\\\\srudloff\",password=password),\n",
    "        as_dict=True,\n",
    "    ) as conn:\n",
    "        with conn.cursor() as cur: \n",
    "            cur.execute(query)\n",
    "\n",
    "            c = True\n",
    "            while c is not None:\n",
    "                try:\n",
    "                    return list(cur.fetchall())\n",
    "                except Exception as e:\n",
    "                    c = cur.nextset()"
   ]
  },
  {
   "cell_type": "code",
   "execution_count": null,
   "id": "1109b9ef-b43a-41a2-9841-2565f211d43b",
   "metadata": {
    "tags": []
   },
   "outputs": [],
   "source": [
    "for file in Path('sql_dumps').iterdir():\n",
    "    if file.is_file():\n",
    "        file.unlink()"
   ]
  },
  {
   "cell_type": "code",
   "execution_count": null,
   "id": "4fd93a47-16a5-4068-bb2f-2c203d4ca778",
   "metadata": {},
   "outputs": [],
   "source": [
    "def getRunningQueries(host):\n",
    "    return run_query(\"\"\"SELECT\n",
    "        p.spid, p.status, p.hostname, p.loginame, p.cpu, r.start_time, r.command,\n",
    "        p.program_name, text \n",
    "    FROM\n",
    "        sys.dm_exec_requests AS r,\n",
    "        master.dbo.sysprocesses AS p \n",
    "        CROSS APPLY sys.dm_exec_sql_text(p.sql_handle)\n",
    "    WHERE\n",
    "        p.status NOT IN ('sleeping', 'background') \n",
    "    AND r.session_id = p.spid\"\"\",host=host)"
   ]
  },
  {
   "cell_type": "code",
   "execution_count": null,
   "id": "d84c94b1-43c8-441f-92e7-539e5295d867",
   "metadata": {},
   "outputs": [],
   "source": []
  },
  {
   "cell_type": "code",
   "execution_count": null,
   "id": "afd94fe6-83da-47d2-a227-f2f6254590c7",
   "metadata": {},
   "outputs": [],
   "source": [
    "i = defaultdict(int)\n",
    "runs = 0\n",
    "known = []\n",
    "while True:\n",
    "    runs+=1\n",
    "    if runs % 100 == 0:\n",
    "        print(f'{runs} runs')\n",
    "    try:\n",
    "        for query in getRunningQueries(host=host):\n",
    "            if query not in known:\n",
    "                if query['loginame'].strip() in ignore_users:\n",
    "                    continue\n",
    "                for item in ['hostname', 'status', 'loginame', 'command', 'program_name', 'start_time']:\n",
    "                    print(str(query[item]).strip(), end='\\t')\n",
    "                if dump_queries:\n",
    "                    fn = f'query_{query[\"spid\"]}_{i[query[\"spid\"]]}.sql'\n",
    "                    print(f\"dump: {fn}\")\n",
    "                    with open(f\"sql_dumps/{fn}\", 'w') as f:\n",
    "                        f.write(query['text'])\n",
    "                    i[query['spid']] += 1\n",
    "                known.append(query)\n",
    "    except Exception as e:\n",
    "        print(e)\n",
    "        time.sleep(1)\n",
    "    time.sleep(sleep)"
   ]
  },
  {
   "cell_type": "code",
   "execution_count": null,
   "id": "126cfaf0-70fa-4c8f-8b95-bfa3a8ecf158",
   "metadata": {},
   "outputs": [],
   "source": []
  }
 ],
 "metadata": {
  "kernelspec": {
   "display_name": "Python 3 (ipykernel)",
   "language": "python",
   "name": "python3"
  },
  "language_info": {
   "codemirror_mode": {
    "name": "ipython",
    "version": 3
   },
   "file_extension": ".py",
   "mimetype": "text/x-python",
   "name": "python",
   "nbconvert_exporter": "python",
   "pygments_lexer": "ipython3",
   "version": "3.8.10"
  }
 },
 "nbformat": 4,
 "nbformat_minor": 5
}
