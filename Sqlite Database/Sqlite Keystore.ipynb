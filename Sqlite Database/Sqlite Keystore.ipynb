{
 "cells": [
  {
   "cell_type": "code",
   "execution_count": 6,
   "id": "aa160564-4a0f-4222-a0cb-6f0dab330b95",
   "metadata": {
    "tags": []
   },
   "outputs": [],
   "source": [
    "import jsonpickle\n",
    "import sqlite3\n",
    "\n",
    "class KeyValueStore:\n",
    "    def __init__(self, db_name):\n",
    "        self.db_name = db_name\n",
    "        if not self.table_exists():\n",
    "            self.create_table()\n",
    "\n",
    "    def table_exists(self):\n",
    "        conn = sqlite3.connect(self.db_name)\n",
    "        c = conn.cursor()\n",
    "        c.execute(\"SELECT name FROM sqlite_master WHERE type='table' AND name='key_value_store'\")\n",
    "        result = c.fetchone()\n",
    "        conn.close()\n",
    "        return result is not None\n",
    "\n",
    "    def create_table(self):\n",
    "        conn = sqlite3.connect(self.db_name)\n",
    "        c = conn.cursor()\n",
    "        c.execute('''CREATE TABLE key_value_store\n",
    "                     (key TEXT PRIMARY KEY, serialized_object TEXT)''')\n",
    "        conn.commit()\n",
    "        conn.close()\n",
    "\n",
    "    def __getitem__(self, key):\n",
    "        conn = sqlite3.connect(self.db_name)\n",
    "        c = conn.cursor()\n",
    "        c.execute(\"SELECT serialized_object FROM key_value_store WHERE key = ?\", (key,))\n",
    "        result = c.fetchone()\n",
    "        conn.close()\n",
    "        if result is None:\n",
    "            raise KeyError(f\"Key '{key}' not found\")\n",
    "        serialized_object = result[0]\n",
    "        deserialized_object = jsonpickle.decode(serialized_object)\n",
    "        return deserialized_object\n",
    "\n",
    "    def __setitem__(self, key, value):\n",
    "        serialized_object = jsonpickle.encode(value)\n",
    "        conn = sqlite3.connect(self.db_name)\n",
    "        c = conn.cursor()\n",
    "        c.execute('''INSERT OR REPLACE INTO key_value_store (key, serialized_object)\n",
    "                     VALUES (?, ?)''', (key, serialized_object))\n",
    "        conn.commit()\n",
    "        conn.close()\n",
    "\n",
    "    def __delitem__(self, key):\n",
    "        conn = sqlite3.connect(self.db_name)\n",
    "        c = conn.cursor()\n",
    "        c.execute(\"DELETE FROM key_value_store WHERE key = ?\", (key,))\n",
    "        conn.commit()\n",
    "        conn.close()\n"
   ]
  },
  {
   "cell_type": "code",
   "execution_count": 7,
   "id": "ac544158-b2a6-49ca-ab72-fca019149ad5",
   "metadata": {
    "tags": []
   },
   "outputs": [],
   "source": [
    "db_name = 'key_value_store.db'\n",
    "store = KeyValueStore(db_name)"
   ]
  },
  {
   "cell_type": "code",
   "execution_count": 2,
   "id": "c4cdb93e-eb9b-492c-b0de-e3fa04c175cc",
   "metadata": {
    "tags": []
   },
   "outputs": [
    {
     "name": "stdout",
     "output_type": "stream",
     "text": [
      "example_value\n",
      "\"Key 'example_key' not found\"\n"
     ]
    }
   ],
   "source": [
    "store['example_key'] = 'example_value'  # Set a key-value pair\n",
    "print(store['example_key'])             # Get value by key\n",
    "del store['example_key']                # Delete key-value pair\n",
    "\n",
    "# Verify deletion\n",
    "try:\n",
    "    print(store['example_key'])\n",
    "except KeyError as e:\n",
    "    print(e)  # Expected: \"Key 'example_key' not found\""
   ]
  },
  {
   "cell_type": "code",
   "execution_count": 12,
   "id": "55802721-3ddd-41ca-99e9-c1e3993e7828",
   "metadata": {
    "tags": []
   },
   "outputs": [],
   "source": [
    "class  Dump:\n",
    "    attribute=None"
   ]
  },
  {
   "cell_type": "code",
   "execution_count": 15,
   "id": "3a414d57-894a-46a7-83af-229c2381036a",
   "metadata": {
    "tags": []
   },
   "outputs": [],
   "source": [
    "a = Dump()\n",
    "a.attribute = \"Testing\"\n",
    "store['class'] = a"
   ]
  },
  {
   "cell_type": "code",
   "execution_count": 16,
   "id": "b4284b03-2274-4ba6-a20b-df84cb433c96",
   "metadata": {
    "tags": []
   },
   "outputs": [
    {
     "data": {
      "text/plain": [
       "'Testing'"
      ]
     },
     "execution_count": 16,
     "metadata": {},
     "output_type": "execute_result"
    }
   ],
   "source": [
    "store['class'].attribute"
   ]
  },
  {
   "cell_type": "code",
   "execution_count": null,
   "id": "6e4dd7b4-9d67-407e-897e-446142c47f97",
   "metadata": {},
   "outputs": [],
   "source": []
  }
 ],
 "metadata": {
  "kernelspec": {
   "display_name": "Python 3 (ipykernel)",
   "language": "python",
   "name": "python3"
  },
  "language_info": {
   "codemirror_mode": {
    "name": "ipython",
    "version": 3
   },
   "file_extension": ".py",
   "mimetype": "text/x-python",
   "name": "python",
   "nbconvert_exporter": "python",
   "pygments_lexer": "ipython3",
   "version": "3.10.7"
  }
 },
 "nbformat": 4,
 "nbformat_minor": 5
}
