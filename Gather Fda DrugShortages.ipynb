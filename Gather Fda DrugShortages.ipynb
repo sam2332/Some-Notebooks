{
 "cells": [
  {
   "cell_type": "code",
   "execution_count": null,
   "id": "dd225e28-8d6d-4105-a5d9-08392f6d023f",
   "metadata": {},
   "outputs": [],
   "source": [
    "import requests\n",
    "import csv"
   ]
  },
  {
   "cell_type": "code",
   "execution_count": null,
   "id": "da1ae533-ad50-4ac5-b6e8-1311ea26d2db",
   "metadata": {},
   "outputs": [],
   "source": [
    "data = requests.get(\"https://www.accessdata.fda.gov/scripts/drugshortages/Drugshortages.cfm\").text.strip().splitlines()"
   ]
  },
  {
   "cell_type": "code",
   "execution_count": null,
   "id": "e0125906-15d9-41f2-b088-c7ced72d2782",
   "metadata": {},
   "outputs": [],
   "source": [
    "# pop off the keys\n",
    "keys = data.pop(0)\n",
    "keys = keys.split(',')\n",
    "keys = [i.strip() for i in keys]"
   ]
  },
  {
   "cell_type": "code",
   "execution_count": null,
   "id": "d3d62243-a00b-42b8-bd36-8b6b4c53d7cc",
   "metadata": {},
   "outputs": [],
   "source": [
    "for perscription in csv.DictReader(data, keys):\n",
    "    print(perscription)\n",
    "    print()"
   ]
  }
 ],
 "metadata": {
  "kernelspec": {
   "display_name": "Python 3 (ipykernel)",
   "language": "python",
   "name": "python3"
  },
  "language_info": {
   "codemirror_mode": {
    "name": "ipython",
    "version": 3
   },
   "file_extension": ".py",
   "mimetype": "text/x-python",
   "name": "python",
   "nbconvert_exporter": "python",
   "pygments_lexer": "ipython3",
   "version": "3.8.10"
  }
 },
 "nbformat": 4,
 "nbformat_minor": 5
}
