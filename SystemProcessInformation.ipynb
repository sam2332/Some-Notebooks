{
 "cells": [
  {
   "cell_type": "code",
   "execution_count": null,
   "id": "5040fa95-eda6-4b1b-ab12-0bf48da4ea8b",
   "metadata": {},
   "outputs": [],
   "source": [
    "import psutil\n",
    "from multiprocessing import Pool\n",
    "import tqdm"
   ]
  },
  {
   "cell_type": "code",
   "execution_count": null,
   "id": "6782d1c4-07fe-4f00-9957-7115e26f7aca",
   "metadata": {},
   "outputs": [],
   "source": [
    "def checkProcess(pid):\n",
    "    try:\n",
    "        proc = psutil.Process(pid)\n",
    "        # Get process name & pid from process object.\n",
    "        processName = proc.name()\n",
    "        processID = proc.pid\n",
    "        commandline = proc.cmdline()\n",
    "        cpu = proc.cpu_percent(1)\n",
    "        memory = proc.memory_info()\n",
    "        return((processID, processName,cpu,memory))\n",
    "    except (psutil.NoSuchProcess, psutil.AccessDenied, psutil.ZombieProcess):\n",
    "        pass"
   ]
  },
  {
   "cell_type": "code",
   "execution_count": null,
   "id": "3fb995e9-a2c9-4010-b84d-379d6535b030",
   "metadata": {},
   "outputs": [],
   "source": [
    "procs =  [p.pid for p in psutil.process_iter()]"
   ]
  },
  {
   "cell_type": "code",
   "execution_count": null,
   "id": "cf491540-1115-4d9a-bbd5-a7e69667064a",
   "metadata": {},
   "outputs": [],
   "source": [
    "results = []\n",
    "pool = Pool(processes=8)\n",
    "for x in tqdm.tqdm(pool.imap_unordered(checkProcess, procs), total=len(procs)):\n",
    "    results.append(x)"
   ]
  },
  {
   "cell_type": "code",
   "execution_count": null,
   "id": "1f6add9a-1ad2-40d6-9339-5819a93d4776",
   "metadata": {},
   "outputs": [],
   "source": [
    "results"
   ]
  },
  {
   "cell_type": "code",
   "execution_count": 8,
   "id": "def8948a-bae7-4bf4-a454-bbbbc09a5f93",
   "metadata": {},
   "outputs": [],
   "source": []
  },
  {
   "cell_type": "code",
   "execution_count": 9,
   "id": "f261f5e3-8f39-4677-9c63-d929107340d9",
   "metadata": {},
   "outputs": [
    {
     "data": {
      "text/plain": [
      ]
     },
     "execution_count": 9,
     "metadata": {},
     "output_type": "execute_result"
    }
   ],
   "source": []
  },
  {
   "cell_type": "code",
   "execution_count": null,
   "id": "d7732afc-3e75-46ae-821b-bc2e30c33c83",
   "metadata": {},
   "outputs": [],
   "source": []
  }
 ],
 "metadata": {
  "kernelspec": {
   "display_name": "Python 3 (ipykernel)",
   "language": "python",
   "name": "python3"
  },
  "language_info": {
   "codemirror_mode": {
    "name": "ipython",
    "version": 3
   },
   "file_extension": ".py",
   "mimetype": "text/x-python",
   "name": "python",
   "nbconvert_exporter": "python",
   "pygments_lexer": "ipython3",
   "version": "3.8.10"
  }
 },
 "nbformat": 4,
 "nbformat_minor": 5
}
