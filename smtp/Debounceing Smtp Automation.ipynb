{
 "cells": [
  {
   "cell_type": "code",
   "execution_count": null,
   "id": "497507d2-59ea-482a-b3cf-aed5055657da",
   "metadata": {},
   "outputs": [],
   "source": [
    "#!/usr/bin/python\n",
    "import json\n",
    "import smtplib\n",
    "import sys\n",
    "import time\n",
    "from email.mime.text import MIMEText\n",
    "from pathlib import Path\n",
    "\n",
    "\n",
    "def debounce(timeout=300):\n",
    "    p = Path(\"EmailDebounceTracker.lock\")\n",
    "    if p.exists():\n",
    "        if time.time() - p.stat().st_mtime > timeout:\n",
    "            p.unlink()\n",
    "            p.touch()\n",
    "            return True\n",
    "        else:\n",
    "            return False\n",
    "    else:\n",
    "        p.touch()\n",
    "        return True\n",
    "\n",
    "\n",
    "p = Path(\"config.json\")\n",
    "if p.exists() == False:\n",
    "    config = {\n",
    "        \"smtp_host\": \"\",\n",
    "        \"from\": \"\",\n",
    "        \"to\": [\"\"],\n",
    "        \"subject\": \"Automation - Service Down\",\n",
    "        \"message\": \"The service has gone down\",\n",
    "        \"Debounce_Seconds\": 300,\n",
    "    }\n",
    "    p.write_text(json.dumps(config, indent=4))\n",
    "    print(\"Config created, exiting\")\n",
    "    sys.exit(1)\n",
    "else:\n",
    "    config = json.loads(p.read_text())\n",
    "\n",
    "try:\n",
    "    msg = MIMEText(config[\"message\"])\n",
    "    msg[\"Subject\"] = config[\"subject\"]\n",
    "    msg[\"From\"] = config[\"from\"]\n",
    "    msg[\"To\"] = \",\".join(config[\"to\"])\n",
    "    smtpObj = smtplib.SMTP(config[\"smtp_host\"])\n",
    "    if debounce(config[\"Debounce_Seconds\"]):\n",
    "        smtpObj.sendmail(config[\"from\"], config[\"to\"], msg.as_string())\n",
    "        print(\"Successfully sent email\")\n",
    "    else:\n",
    "        print(\"debounce\")\n",
    "except Exception as e:\n",
    "    print(e)"
   ]
  },
  {
   "cell_type": "code",
   "execution_count": null,
   "id": "bfe9b55e-54a6-4973-ba5b-e04c79a4d63d",
   "metadata": {},
   "outputs": [],
   "source": []
  }
 ],
 "metadata": {
  "kernelspec": {
   "display_name": "Python 3 (ipykernel)",
   "language": "python",
   "name": "python3"
  },
  "language_info": {
   "codemirror_mode": {
    "name": "ipython",
    "version": 3
   },
   "file_extension": ".py",
   "mimetype": "text/x-python",
   "name": "python",
   "nbconvert_exporter": "python",
   "pygments_lexer": "ipython3",
   "version": "3.10.6"
  },
  "widgets": {
   "application/vnd.jupyter.widget-state+json": {
    "state": {},
    "version_major": 2,
    "version_minor": 0
   }
  }
 },
 "nbformat": 4,
 "nbformat_minor": 5
}
