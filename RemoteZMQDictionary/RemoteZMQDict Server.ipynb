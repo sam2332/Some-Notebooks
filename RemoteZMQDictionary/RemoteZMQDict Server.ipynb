{
    "cells": [
        {
            "cell_type": "code",
            "execution_count": 1,
            "id": "264f04af-9c21-4ac8-a4e4-b6d08cebf5c1",
            "metadata": {
                "scrolled": true,
                "tags": []
            },
            "outputs": [],
            "source": [
                "from pathlib import Path\n",
                "import time\n",
                "import zmq\n",
                "import json"
            ]
        },
        {
            "cell_type": "code",
            "execution_count": 2,
            "id": "33b01595-c1de-4cd3-b5a6-0838e0cd23a1",
            "metadata": {
                "scrolled": true,
                "tags": []
            },
            "outputs": [],
            "source": [
                "class StoredDict():\n",
                "    def __init__(self,bucket='default'):\n",
                "        self.data = {}\n",
                "        self.file = Path(bucket+'.json')\n",
                "        if self.file.exists():\n",
                "            self.data = json.loads(self.file.read_text())\n",
                "    def update(self, other):\n",
                "        self.data.update(other)\n",
                "        self.file.write_text(json.dumps(self.data,indent=4))\n",
                "    def delete(self,key):\n",
                "        if key in self.data:\n",
                "            del self.data[key]\n",
                "            self.file.write_text(json.dumps(self.data,indent=4))\n",
                "    def toPacket(self):\n",
                "        return self.data\n",
                "    \n",
                "    "
            ]
        },
        {
            "cell_type": "code",
            "execution_count": null,
            "id": "21dca9a3-5315-45a2-9e3d-4e060f56a5b5",
            "metadata": {
                "tags": []
            },
            "outputs": [],
            "source": [
                "context = zmq.Context()\n",
                "socket = context.socket(zmq.REP)\n",
                "socket.bind(\"tcp://*:5555\")\n",
                "data = {\n",
                "    'default':StoredDict('default')\n",
                "}\n",
                "print('loop running')\n",
                "while True:\n",
                "    #  Wait for next request from client\n",
                "    message = socket.recv()    \n",
                "    if len(message)>1:\n",
                "        bucket,message  = message.decode('utf-8').split(':',maxsplit=1)\n",
                "        if bucket in data:\n",
                "            if message.startswith('del'):\n",
                "                data[bucket].delete(message[4:])\n",
                "            elif len(message)>1:\n",
                "                message = json.loads(message)\n",
                "                data[bucket].update(message)\n",
                "        else:\n",
                "            data[bucket] = StoredDict(bucket)\n",
                "    \n",
                "        socket.send_json(data[bucket].toPacket())\n",
                "    else:\n",
                "        socket.send_json({k:data[k].toPacket() for k in data})\n",
                "    print()\n"
            ]
        },
        {
            "cell_type": "code",
            "execution_count": null,
            "id": "31b1abda-0ce5-4605-bb19-a062742ac336",
            "metadata": {},
            "outputs": [],
            "source": []
        },
        {
            "cell_type": "code",
            "execution_count": null,
            "id": "3014b754-4a8d-4054-868d-a93daea55bca",
            "metadata": {},
            "outputs": [],
            "source": []
        }
    ],
    "metadata": {
        "kernelspec": {
            "display_name": "Python 3 (ipykernel)",
            "language": "python",
            "name": "python3"
        },
        "language_info": {
            "codemirror_mode": {
                "name": "ipython",
                "version": 3
            },
            "file_extension": ".py",
            "mimetype": "text/x-python",
            "name": "python",
            "nbconvert_exporter": "python",
            "pygments_lexer": "ipython3",
            "version": "3.8.10"
        }
    },
    "nbformat": 4,
    "nbformat_minor": 5
}