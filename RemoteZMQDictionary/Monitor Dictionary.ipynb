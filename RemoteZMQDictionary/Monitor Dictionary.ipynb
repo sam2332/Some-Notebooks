{
    "cells": [
        {
            "cell_type": "code",
            "execution_count": 1,
            "id": "2944a3bd-0905-4514-bd76-118398626392",
            "metadata": {},
            "outputs": [],
            "source": [
                "import zmq\n",
                "import json\n",
                "import time\n",
                "context = zmq.Context()\n",
                "from ipywidgets import Output\n",
                "from IPython.display import display, clear_output"
            ]
        },
        {
            "cell_type": "code",
            "execution_count": 2,
            "id": "51c7a16f-1331-485e-9713-636a28c5120e",
            "metadata": {},
            "outputs": [],
            "source": [
                "out = Output()\n",
                "display(out)"
            ]
        },
        {
            "cell_type": "code",
            "execution_count": null,
            "id": "ddb57d21-cf84-41ad-88a5-954237a0bacb",
            "metadata": {},
            "outputs": [],
            "source": [
                "#  Socket to talk to server\n",
                "print(\"Connecting to dict server\u2026\")\n",
                "socket = context.socket(zmq.REQ)\n",
                "socket.connect(\"tcp://localhost:5555\")\n",
                "while True:\n",
                "\n",
                "    socket.send_string('1')\n",
                "    data = json.loads(socket.recv())\n",
                "    with out:\n",
                "        clear_output()\n",
                "        print(data)\n",
                "    time.sleep(1)"
            ]
        },
        {
            "cell_type": "code",
            "execution_count": null,
            "id": "357d5ff5-7fe5-4753-9461-9c921c1fc057",
            "metadata": {},
            "outputs": [],
            "source": []
        },
        {
            "cell_type": "code",
            "execution_count": null,
            "id": "c6b067d5-77fd-4279-870d-fd6851b0f0a8",
            "metadata": {},
            "outputs": [],
            "source": []
        }
    ],
    "metadata": {
        "kernelspec": {
            "display_name": "Python 3 (ipykernel)",
            "language": "python",
            "name": "python3"
        },
        "language_info": {
            "codemirror_mode": {
                "name": "ipython",
                "version": 3
            },
            "file_extension": ".py",
            "mimetype": "text/x-python",
            "name": "python",
            "nbconvert_exporter": "python",
            "pygments_lexer": "ipython3",
            "version": "3.8.10"
        }
    },
    "nbformat": 4,
    "nbformat_minor": 5
}