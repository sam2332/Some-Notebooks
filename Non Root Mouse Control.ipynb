{
 "cells": [
  {
   "cell_type": "code",
   "execution_count": 4,
   "id": "a866fe38-ff87-45d9-9717-8d7eae555832",
   "metadata": {},
   "outputs": [],
   "source": [
    "import time"
   ]
  },
  {
   "cell_type": "code",
   "execution_count": 1,
   "id": "531133bc-9d65-405b-a589-cbe4347c8c6b",
   "metadata": {},
   "outputs": [],
   "source": [
    "from subprocess import check_output"
   ]
  },
  {
   "cell_type": "code",
   "execution_count": 3,
   "id": "224eb7a6-af83-4f77-aa56-c4e3cfe2f9a5",
   "metadata": {},
   "outputs": [
    {
     "data": {
      "text/plain": [
       "b''"
      ]
     },
     "execution_count": 3,
     "metadata": {},
     "output_type": "execute_result"
    }
   ],
   "source": [
    "x=1\n",
    "y=500\n",
    "check_output(f\"xdotool mousemove {x} {y}\".split())"
   ]
  },
  {
   "cell_type": "code",
   "execution_count": 5,
   "id": "23b85a80-a55b-42bd-a76f-628dd80e3e73",
   "metadata": {},
   "outputs": [
    {
     "data": {
      "text/plain": [
       "b''"
      ]
     },
     "execution_count": 5,
     "metadata": {},
     "output_type": "execute_result"
    }
   ],
   "source": [
    "check_output(f\"xdotool click 1\".split())"
   ]
  },
  {
   "cell_type": "code",
   "execution_count": null,
   "id": "9f4e57d2-7062-4869-addf-a77a079a98f1",
   "metadata": {},
   "outputs": [],
   "source": []
  }
 ],
 "metadata": {
  "kernelspec": {
   "display_name": "Python 3 (ipykernel)",
   "language": "python",
   "name": "python3"
  },
  "language_info": {
   "codemirror_mode": {
    "name": "ipython",
    "version": 3
   },
   "file_extension": ".py",
   "mimetype": "text/x-python",
   "name": "python",
   "nbconvert_exporter": "python",
   "pygments_lexer": "ipython3",
   "version": "3.8.10"
  }
 },
 "nbformat": 4,
 "nbformat_minor": 5
}
