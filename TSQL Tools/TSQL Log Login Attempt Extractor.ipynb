{
 "cells": [
  {
   "cell_type": "code",
   "execution_count": null,
   "id": "adf90156-5fda-4367-a037-59454e8bf9ac",
   "metadata": {},
   "outputs": [],
   "source": [
    "import re\n",
    "import pandas as pd\n",
    "from getpass import getpass\n",
    "import pytds\n",
    "from pytds.login import NtlmAuth\n",
    "from pathlib import Path\n",
    "from collections import defaultdict\n",
    "import time\n",
    "password = ''"
   ]
  },
  {
   "cell_type": "code",
   "execution_count": null,
   "id": "7aa60ee3-dba6-472f-ba44-f6e2d2904df9",
   "metadata": {
    "tags": [
     "parameters"
    ]
   },
   "outputs": [],
   "source": [
    "host=''\n",
    "myuser = ''\n",
    "dump_queries =True"
   ]
  },
  {
   "cell_type": "code",
   "execution_count": null,
   "id": "352469cb-774d-4953-bad4-05cb9c198def",
   "metadata": {},
   "outputs": [],
   "source": [
    "if password == '':\n",
    "    password = getpass('please enter your password')"
   ]
  },
  {
   "cell_type": "code",
   "execution_count": null,
   "id": "4eb7f300-24ef-4887-9d4e-28d7394ad1d1",
   "metadata": {
    "tags": []
   },
   "outputs": [],
   "source": [
    "def run_query(query, database=None):\n",
    "    global password\n",
    "    with pytds.connect(\n",
    "        server=host,\n",
    "        database=database,\n",
    "        auth=NtlmAuth(user_name=myuser,password=password),\n",
    "        as_dict=True,\n",
    "    ) as conn:\n",
    "        with conn.cursor() as cur: \n",
    "            cur.execute(query)\n",
    "\n",
    "            c = True\n",
    "            while c is not None:\n",
    "                try:\n",
    "                    return list(cur.fetchall())\n",
    "                except Exception as e:\n",
    "                    c = cur.nextset()"
   ]
  },
  {
   "cell_type": "markdown",
   "id": "e5a5798d-c204-45b7-bc67-1578e5ae62c8",
   "metadata": {},
   "source": [
    "# below is the logs found on the server"
   ]
  },
  {
   "cell_type": "code",
   "execution_count": null,
   "id": "390d7abd-51e6-4a4d-a8ea-620ad6f1b3ca",
   "metadata": {},
   "outputs": [],
   "source": [
    "pd.DataFrame(run_query(\"EXEC sys.sp_enumerrorlogs;\")).sort_values(by=\"Archive #\")"
   ]
  },
  {
   "cell_type": "markdown",
   "id": "823deefe-63f4-474a-b826-7c2e1b7f19f2",
   "metadata": {},
   "source": [
    "## please select log"
   ]
  },
  {
   "cell_type": "code",
   "execution_count": null,
   "id": "64a669ec-4f52-48f8-9eb8-70e38930a82f",
   "metadata": {},
   "outputs": [],
   "source": [
    "log = 3"
   ]
  },
  {
   "cell_type": "markdown",
   "id": "65e60dc9-4abb-42d9-832f-4a6d6d068c5a",
   "metadata": {},
   "source": [
    "# below is failed password finding."
   ]
  },
  {
   "cell_type": "code",
   "execution_count": null,
   "id": "a75a5207-0c8b-4fed-8eaa-cf41477dc418",
   "metadata": {},
   "outputs": [],
   "source": [
    "failed = run_query(f\"EXEC xp_ReadErrorLog {log},1, N'Login fa'\")\n",
    "len(failed)"
   ]
  },
  {
   "cell_type": "code",
   "execution_count": null,
   "id": "d3d0fd9b-be33-4c34-9938-33c02381cf11",
   "metadata": {},
   "outputs": [],
   "source": [
    "ips =defaultdict(list)"
   ]
  },
  {
   "cell_type": "code",
   "execution_count": null,
   "id": "5d706610-edba-4ef5-b307-bc1a38d14e82",
   "metadata": {},
   "outputs": [],
   "source": [
    "for item in pd.DataFrame(failed)[\"Text\"]:\n",
    "    m = re.search(\"CLIENT: (.*)]\",item)\n",
    "    if m is not None:\n",
    "        ips[m.groups()[0]].append(item)"
   ]
  },
  {
   "cell_type": "code",
   "execution_count": null,
   "id": "31f72d31-8569-4c2d-8577-681c74afc063",
   "metadata": {},
   "outputs": [],
   "source": [
    "{ip:len(ips[ip]) for ip in ips}"
   ]
  },
  {
   "cell_type": "code",
   "execution_count": null,
   "id": "af07f98f-3b8b-4e85-8595-4625f768c59b",
   "metadata": {},
   "outputs": [],
   "source": [
    "for ip in ips:\n",
    "    if any([\"Login failed for user\" in a for a in ips[ip]]):\n",
    "        print(ip)\n",
    "        for item in ips[ip]:\n",
    "            if \"Login failed for user\" in item:\n",
    "                print(\"\\t\",item)\n",
    "        print(\"\")"
   ]
  },
  {
   "cell_type": "markdown",
   "id": "e5882eac-8ed8-407d-bac0-f41496f3817d",
   "metadata": {},
   "source": [
    "# below is error finding\n"
   ]
  },
  {
   "cell_type": "code",
   "execution_count": null,
   "id": "1804248e-8971-4a3c-a5d8-1965c061e086",
   "metadata": {},
   "outputs": [],
   "source": [
    "system_error_codes =run_query(\"\"\"\n",
    "SELECT message_id AS Error, severity AS Severity,  \n",
    "[Event Logged] = CASE is_event_logged WHEN 0 THEN 'No' ELSE 'Yes' END,\n",
    "text AS [Description]\n",
    "FROM sys.messages\n",
    "WHERE language_id = 1033 /* replace 1040 with the desired language ID, such as 1033 for US English*/\n",
    "ORDER BY message_id\"\"\")\n",
    "system_error_codes = pd.DataFrame(system_error_codes)"
   ]
  },
  {
   "cell_type": "code",
   "execution_count": null,
   "id": "5edc50fd-7844-4d20-a7e0-23a1d019e635",
   "metadata": {},
   "outputs": [],
   "source": [
    "errors = run_query(\"EXEC xp_ReadErrorLog 0,1, N'Error', N'Severity'\")\n",
    "len(errors)\n",
    "\n",
    "present_error_codes = [a.groups()[0] for a in filter(None,[re.match(\"Error: (.*), Sev\",e['Text']) for e in errors])]\n",
    "pd.DataFrame(present_error_codes)[0].value_counts()"
   ]
  },
  {
   "cell_type": "code",
   "execution_count": null,
   "id": "6c82edc4-4547-4cb6-be7a-67680dedabd1",
   "metadata": {},
   "outputs": [],
   "source": [
    "present_error_codes = list(set(present_error_codes))\n",
    "for item in present_error_codes:\n",
    "    print(item,':',system_error_codes.loc[system_error_codes['Error'] == int(item)]['Description'].values[0])\n",
    "    print()"
   ]
  },
  {
   "cell_type": "code",
   "execution_count": null,
   "id": "761cb83a-7d52-40e1-9027-3288f49a532d",
   "metadata": {},
   "outputs": [],
   "source": [
    "for row  in errors:\n",
    "    if '17836' in row['Text']:\n",
    "        print(row)"
   ]
  },
  {
   "cell_type": "raw",
   "id": "53d8e578-36c0-4106-a388-ef10f3190f49",
   "metadata": {},
   "source": []
  }
 ],
 "metadata": {
  "kernelspec": {
   "display_name": "Python 3 (ipykernel)",
   "language": "python",
   "name": "python3"
  },
  "language_info": {
   "codemirror_mode": {
    "name": "ipython",
    "version": 3
   },
   "file_extension": ".py",
   "mimetype": "text/x-python",
   "name": "python",
   "nbconvert_exporter": "python",
   "pygments_lexer": "ipython3",
   "version": "3.8.10"
  }
 },
 "nbformat": 4,
 "nbformat_minor": 5
}
