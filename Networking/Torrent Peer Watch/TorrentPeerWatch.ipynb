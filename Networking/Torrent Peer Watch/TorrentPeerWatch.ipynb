{
    "cells": [
        {
            "cell_type": "code",
            "execution_count": null,
            "id": "98dc0a32-9dd5-4fc0-98a6-ebd9fba474ff",
            "metadata": {},
            "outputs": [],
            "source": [
                "import json\n",
                "from functools import lru_cache"
            ]
        },
        {
            "cell_type": "code",
            "execution_count": null,
            "id": "bd030e9c-bc28-4758-a742-14272fced0ce",
            "metadata": {},
            "outputs": [],
            "source": [
                "from collections import defaultdict\n",
                "\n",
                "import ipywidgets as widgets\n",
                "import requests\n",
                "\n",
                "tor_list = requests.get(\n",
                "    \"https://raw.githubusercontent.com/SecOps-Institute/Tor-IP-Addresses/master/tor-exit-nodes.lst\"\n",
                ").text.splitlines()\n",
                "tor_list = [i.strip() for i in tor_list]\n",
                "print(f\"{len(tor_list)} Node Ips Loaded\")\n",
                "\n",
                "\n",
                "def isittor(ip):\n",
                "    if ip in tor_list:\n",
                "        return True\n",
                "    else:\n",
                "        return False"
            ]
        },
        {
            "cell_type": "code",
            "execution_count": null,
            "id": "adb80760-eb3e-42eb-b999-a1873afd9f34",
            "metadata": {},
            "outputs": [],
            "source": [
                "from geolite2 import geolite2\n",
                "\n",
                "\n",
                "@lru_cache()\n",
                "def get_country(ip):\n",
                "    try:\n",
                "        if isittor(ip):\n",
                "            return \"TOR\"\n",
                "        x = geo.get(ip)\n",
                "    except ValueError:\n",
                "        return None\n",
                "    try:\n",
                "        return x[\"country\"][\"names\"][\"en\"] if x else None\n",
                "    except KeyError:\n",
                "        return None\n",
                "\n",
                "\n",
                "geo = geolite2.reader()"
            ]
        },
        {
            "cell_type": "code",
            "execution_count": null,
            "id": "3118e1a9-5e5f-4288-bc8f-b764ff270cc1",
            "metadata": {},
            "outputs": [],
            "source": [
                "new_ip_out = widgets.Output(layout={\"border\": \"1px solid black\"})\n",
                "country_out = widgets.Output(layout={\"border\": \"1px solid tan\"})\n",
                "all_country_out = widgets.Output(layout={\"border\": \"1px solid orange\"})"
            ]
        },
        {
            "cell_type": "code",
            "execution_count": null,
            "id": "526bf114-8f4c-4ebf-8b88-7861e712faf9",
            "metadata": {},
            "outputs": [],
            "source": [
                "import sys\n",
                "import time\n",
                "\n",
                "import libtorrent as lt"
            ]
        },
        {
            "cell_type": "code",
            "execution_count": null,
            "id": "75c804ce-efb0-4f94-bd8b-40c14be41396",
            "metadata": {},
            "outputs": [],
            "source": [
                "ses = lt.session({\"listen_interfaces\": \"0.0.0.0:6881\"})\n",
                "\n",
                "info = lt.torrent_info(\"./Your Torrent File.torrent\")\n",
                "h = ses.add_torrent({\"ti\": info, \"save_path\": \"./download\"})\n",
                "s = h.status()"
            ]
        },
        {
            "cell_type": "code",
            "execution_count": null,
            "id": "a72089ff-d813-456d-9728-bfee0fd7c77d",
            "metadata": {},
            "outputs": [],
            "source": [
                "additional_trackers = [\n",
                "    s.strip()\n",
                "    for s in requests.get(\n",
                "        \"https://raw.githubusercontent.com/ngosang/trackerslist/master/trackers_best_ip.txt\"\n",
                "    )\n",
                "    .text.replace(\"\\n\\n\", \"\\n\")\n",
                "    .splitlines()\n",
                "]\n",
                "additional_trackers"
            ]
        },
        {
            "cell_type": "code",
            "execution_count": null,
            "id": "3041aa57-4a0e-42cb-b6b9-b7e8c1a99662",
            "metadata": {},
            "outputs": [],
            "source": [
                "bad_trackers = []\n",
                "for t in h.trackers():\n",
                "    if t[\"last_error\"][\"value\"] == 0:\n",
                "        print(t[\"last_error\"][\"value\"])"
            ]
        },
        {
            "cell_type": "code",
            "execution_count": null,
            "id": "da942718-b003-450e-9f5a-cfcc31567200",
            "metadata": {},
            "outputs": [],
            "source": [
                "[h.add_tracker({\"url\": url}) for url in additional_trackers]\n",
                "print(\"Adding Trackers\")"
            ]
        },
        {
            "cell_type": "code",
            "execution_count": null,
            "id": "1d59d272-5661-4f82-aa39-805d09bb38f9",
            "metadata": {},
            "outputs": [],
            "source": [
                "all_ips = []"
            ]
        },
        {
            "cell_type": "code",
            "execution_count": null,
            "id": "c42ab5b3-44c8-4f16-844f-ec0eeb7383c2",
            "metadata": {},
            "outputs": [],
            "source": [
                "new_ip_out"
            ]
        },
        {
            "cell_type": "code",
            "execution_count": null,
            "id": "e7e674de-940c-4d58-a72a-05f8dad7dbd2",
            "metadata": {},
            "outputs": [],
            "source": [
                "country_out"
            ]
        },
        {
            "cell_type": "code",
            "execution_count": null,
            "id": "06092033-dbc0-445a-a6c2-04c3b28792f8",
            "metadata": {},
            "outputs": [],
            "source": [
                "all_country_out"
            ]
        },
        {
            "cell_type": "code",
            "execution_count": null,
            "id": "a8193ceb-ed94-44fd-b37b-a5e5010b357a",
            "metadata": {},
            "outputs": [],
            "source": [
                "print(\"starting\", s.name)\n",
                "start = time.time()\n",
                "h.force_dht_announce()\n",
                "h.force_reannounce()\n",
                "while not s.is_seeding:\n",
                "    s = h.status()\n",
                "    if time.time() - start > 10:\n",
                "        start = time.time()\n",
                "        h.force_dht_announce()\n",
                "        h.force_reannounce()\n",
                "    print(f\"\\r{s.progress*100}% tp: {len(all_ips)} {s.state}\", end=\" \")\n",
                "\n",
                "    alerts = ses.pop_alerts()\n",
                "    for a in alerts:\n",
                "        if a.category() & lt.alert.category_t.error_notification:\n",
                "            print(a)\n",
                "    with new_ip_out:\n",
                "        for peer in h.get_peer_info():\n",
                "            if peer.ip[0] not in all_ips:\n",
                "                all_ips.append(peer.ip[0])\n",
                "                with open(\"all_ips2.json\", \"w\") as f:\n",
                "                    f.write(json.dumps(all_ips, indent=4))\n",
                "                print(peer.ip[0])\n",
                "    country_out.clear_output()\n",
                "    with country_out:\n",
                "        c = defaultdict(int)\n",
                "        for peer in h.get_peer_info():\n",
                "            c[get_country(peer.ip[0])] += 1\n",
                "        for item in sorted(c.items(), key=lambda item: item[1], reverse=True):\n",
                "            print(item[0], item[1])\n",
                "\n",
                "    sys.stdout.flush()\n",
                "\n",
                "    time.sleep(1)\n",
                "print(h.status().name, \"download complete\")"
            ]
        },
        {
            "cell_type": "code",
            "execution_count": null,
            "id": "90aba878-40f5-4455-b683-2e576c2cdcfe",
            "metadata": {},
            "outputs": [],
            "source": [
                "start2 = time.time()\n",
                "while s.is_seeding:\n",
                "    s = h.status()\n",
                "    print(\n",
                "        f\"down: {s.download_rate / 1000} kB/s up: {s.upload_rate / 1000} kB/s | active: {s.num_peers} | total known: {len(all_ips)}) \",\n",
                "        end=\"\\r\",\n",
                "    )\n",
                "\n",
                "    if time.time() - start > 15:\n",
                "        start = time.time()\n",
                "        h.force_dht_announce()\n",
                "        h.force_reannounce()\n",
                "    if time.time() - start2 > 20:\n",
                "        start2 = time.time()\n",
                "        all_country_out.clear_output()\n",
                "        with all_country_out:\n",
                "            print(f\"total discovered {len(all_ips)}\")\n",
                "            c = defaultdict(int)\n",
                "            for peer in all_ips:\n",
                "                c[get_country(peer)] += 1\n",
                "            for item in sorted(c.items(), key=lambda item: item[1], reverse=True):\n",
                "                print(item[0], item[1])\n",
                "    alerts = ses.pop_alerts()\n",
                "    for a in alerts:\n",
                "        if a.category() & lt.alert.category_t.error_notification:\n",
                "            print(a)\n",
                "    for peer in h.get_peer_info():\n",
                "        if peer.ip[0] not in all_ips:\n",
                "            all_ips.append(peer.ip[0])\n",
                "            with open(\"all_ips2.json\", \"w\") as f:\n",
                "                f.write(json.dumps(all_ips, indent=4))\n",
                "            with new_ip_out:\n",
                "                print(peer.ip[0])\n",
                "    country_out.clear_output()\n",
                "    \"\"\" with country_out:\n",
                "        c = defaultdict(int)\n",
                "        for peer in h.get_peer_info():\n",
                "            c[get_country(peer.ip[0])] += 1\n",
                "        for item in sorted(c.items(), key=lambda item: item[1],reverse=True):\n",
                "            print(item[0], item[1])\"\"\"\n",
                "\n",
                "    time.sleep(1)"
            ]
        },
        {
            "cell_type": "code",
            "execution_count": null,
            "id": "55033e63-37a5-4980-b14d-87ae85260c5d",
            "metadata": {},
            "outputs": [],
            "source": [
                "with open(\"all_ips2.json\", \"w\") as f:\n",
                "    f.write(json.dumps(all_ips, indent=4))"
            ]
        },
        {
            "cell_type": "code",
            "execution_count": null,
            "id": "ded4ae10-c131-472e-af50-8aca235d3d0b",
            "metadata": {},
            "outputs": [],
            "source": [
                "!pip3 install pytorrent\n",
                "!pip3 install maxminddb-geolite2"
            ]
        },
        {
            "cell_type": "code",
            "execution_count": null,
            "id": "4e09afa0-7c0d-40f7-b072-5b1196676af5",
            "metadata": {},
            "outputs": [],
            "source": [
                "all_ips"
            ]
        },
        {
            "cell_type": "code",
            "execution_count": null,
            "id": "ad897323-e4df-4427-a88b-f77da2c5fa6a",
            "metadata": {},
            "outputs": [],
            "source": []
        }
    ],
    "metadata": {
        "kernelspec": {
            "display_name": "Python 3 (ipykernel)",
            "language": "python",
            "name": "python3"
        },
        "language_info": {
            "codemirror_mode": {
                "name": "ipython",
                "version": 3
            },
            "file_extension": ".py",
            "mimetype": "text/x-python",
            "name": "python",
            "nbconvert_exporter": "python",
            "pygments_lexer": "ipython3",
            "version": "3.10.4"
        },
        "scenes_data": {
            "active_scene": "Default Scene",
            "init_scene": "",
            "scenes": [
                "Default Scene"
            ]
        },
        "widgets": {
            "application/vnd.jupyter.widget-state+json": {
                "state": {},
                "version_major": 2,
                "version_minor": 0
            }
        }
    },
    "nbformat": 4,
    "nbformat_minor": 5
}