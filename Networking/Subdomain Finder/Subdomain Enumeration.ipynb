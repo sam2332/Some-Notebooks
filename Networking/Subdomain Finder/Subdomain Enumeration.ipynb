{
    "cells": [
        {
            "cell_type": "code",
            "execution_count": null,
            "id": "720e1038-a09b-45fa-b21a-ab5934faa424",
            "metadata": {},
            "outputs": [],
            "source": [
                "import random\n",
                "import time\n",
                "\n",
                "import ipywidgets as widgets\n",
                "import requests\n",
                "from tqdm.notebook import tqdm"
            ]
        },
        {
            "cell_type": "code",
            "execution_count": null,
            "id": "fb93dcfc-0738-4a23-b366-78ccbda9ec8d",
            "metadata": {},
            "outputs": [],
            "source": [
                "base_domain = input(\"domain:\")"
            ]
        },
        {
            "cell_type": "code",
            "execution_count": null,
            "id": "d8742736-0b3b-452b-9d79-266a2a9afa0e",
            "metadata": {},
            "outputs": [],
            "source": [
                "def genDomains(base_domain):\n",
                "    with open(\"lists/subdomains-100.txt\", \"r\") as f:\n",
                "        subdomains = f.read().splitlines()\n",
                "    for sub_domain in tqdm(subdomains, desc=\"scanning subdomains\"):\n",
                "        yield \"http://{}.{}\".format(sub_domain, base_domain)"
            ]
        },
        {
            "cell_type": "code",
            "execution_count": null,
            "id": "cf317a38-0bdc-40fb-89bc-a67b4c8fb509",
            "metadata": {},
            "outputs": [],
            "source": [
                "found = {}\n",
                "redirects = {}\n",
                "log = widgets.Output()\n",
                "log"
            ]
        },
        {
            "cell_type": "code",
            "execution_count": null,
            "id": "807fb495-657a-408d-b821-562c4845bf72",
            "metadata": {},
            "outputs": [],
            "source": [
                "for domain in genDomains(base_domain):\n",
                "    try:\n",
                "        r = requests.get(domain, timeout=0.7)\n",
                "        if \"Set-Cookie\" in r.headers:\n",
                "            del r.headers[\"Set-Cookie\"]\n",
                "        found[domain] = {\"status_code\": r.status_code, \"headers\": r.headers}\n",
                "        with log:\n",
                "            print(domain)\n",
                "        redirects[domain] = response.url\n",
                "    except Exception as e:\n",
                "        pass\n",
                "    time.sleep(0.1)"
            ]
        },
        {
            "cell_type": "code",
            "execution_count": null,
            "id": "c5e925c8-989a-4308-9ad3-abf83d8c420d",
            "metadata": {},
            "outputs": [],
            "source": [
                "filelog = widgets.Output()\n",
                "filelog"
            ]
        },
        {
            "cell_type": "code",
            "execution_count": null,
            "id": "e44560fd-a710-468b-b9ab-b1afa6cd9659",
            "metadata": {},
            "outputs": [],
            "source": [
                "def generateCommonFilenames(base_domain):\n",
                "    with open(\"lists/filenames.txt\", \"r\") as f:\n",
                "        filenames = [l.strip() for l in f.read().splitlines()]\n",
                "    for file_name in tqdm(filenames, desc=\"scanning files\"):\n",
                "        yield \"http://{}/{}\".format(base_domain, file_name)\n",
                "\n",
                "\n",
                "for base_domain in found:\n",
                "    for url in generateCommonFilenames(base_domain):\n",
                "        try:\n",
                "            r = requests.get(url, timeout=0.7)\n",
                "            if \"Set-Cookie\" in r.headers:\n",
                "                del r.headers[\"Set-Cookie\"]\n",
                "            files[url] = {\"status_code\": r.status_code, \"length\": len(r.content)}\n",
                "            with filelog:\n",
                "                print(url)\n",
                "        except Exception as e:\n",
                "            pass"
            ]
        },
        {
            "cell_type": "code",
            "execution_count": null,
            "id": "aa68ea9f-49a4-4f3e-9768-51180263436e",
            "metadata": {},
            "outputs": [],
            "source": []
        }
    ],
    "metadata": {
        "kernelspec": {
            "display_name": "Python 3 (ipykernel)",
            "language": "python",
            "name": "python3"
        },
        "language_info": {
            "codemirror_mode": {
                "name": "ipython",
                "version": 3
            },
            "file_extension": ".py",
            "mimetype": "text/x-python",
            "name": "python",
            "nbconvert_exporter": "python",
            "pygments_lexer": "ipython3",
            "version": "3.10.4"
        },
        "widgets": {
            "application/vnd.jupyter.widget-state+json": {
                "state": {
                    "01c4a50c9b9843f0a2046ea4b3559138": {
                        "model_module": "@jupyter-widgets/controls",
                        "model_module_version": "1.5.0",
                        "model_name": "DescriptionStyleModel",
                        "state": {
                            "description_width": ""
                        }
                    },
                    "0b10ed7d60974921ae7a79d7f2688517": {
                        "model_module": "@jupyter-widgets/controls",
                        "model_module_version": "1.5.0",
                        "model_name": "HTMLModel",
                        "state": {
                            "layout": "IPY_MODEL_e452370af0b3407eb20807dd1a60b61c",
                            "style": "IPY_MODEL_62f1675aabbf4ad9b602bcb63a1fe9d4",
                            "value": " 26/5000 [00:57&lt;7:02:01,  5.09s/it]"
                        }
                    },
                    "1fa9ffe4490545559e59a179d9efd100": {
                        "model_module": "@jupyter-widgets/controls",
                        "model_module_version": "1.5.0",
                        "model_name": "HTMLModel",
                        "state": {
                            "layout": "IPY_MODEL_ea3cf43aa19146a5899a18188830a322",
                            "style": "IPY_MODEL_8feefe113690454f8514a167c6a69b2d",
                            "value": " 100/100 [00:53&lt;00:00,  1.02it/s]"
                        }
                    },
                    "2c6ee9ded7eb4d079a30eda2bbbd30d8": {
                        "model_module": "@jupyter-widgets/controls",
                        "model_module_version": "1.5.0",
                        "model_name": "DescriptionStyleModel",
                        "state": {
                            "description_width": ""
                        }
                    },
                    "31033b54197e4761b09550b1d3840def": {
                        "model_module": "@jupyter-widgets/base",
                        "model_module_version": "1.2.0",
                        "model_name": "LayoutModel",
                        "state": {}
                    },
                    "32cf1ab449f644a89e97aa58e9eb93ef": {
                        "model_module": "@jupyter-widgets/base",
                        "model_module_version": "1.2.0",
                        "model_name": "LayoutModel",
                        "state": {}
                    },
                    "33513b883b9c4283a53cd6d62e3d57cb": {
                        "model_module": "@jupyter-widgets/base",
                        "model_module_version": "1.2.0",
                        "model_name": "LayoutModel",
                        "state": {}
                    },
                    "34459a2e04fc4212b221748d65469f4e": {
                        "model_module": "@jupyter-widgets/controls",
                        "model_module_version": "1.5.0",
                        "model_name": "HTMLModel",
                        "state": {
                            "layout": "IPY_MODEL_92f46c0ace4a41c89ee203077ec85a7f",
                            "style": "IPY_MODEL_01c4a50c9b9843f0a2046ea4b3559138",
                            "value": "scanning subdomains: 100%"
                        }
                    },
                    "3745acc123464c3a99ac10b4d93a0f6f": {
                        "model_module": "@jupyter-widgets/output",
                        "model_module_version": "1.0.0",
                        "model_name": "OutputModel",
                        "state": {
                            "layout": "IPY_MODEL_6fd0960d6f2147038c52eb6dea893060",
                            "outputs": [
                                {
                                    "name": "stdout",
                                    "output_type": "stream",
                                    "text": "http://www.ingham.org\nhttp://autodiscover.ingham.org\n"
                                }
                            ]
                        }
                    },
                    "37df212f915245f8b2a338b71b17fe43": {
                        "model_module": "@jupyter-widgets/controls",
                        "model_module_version": "1.5.0",
                        "model_name": "FloatProgressModel",
                        "state": {
                            "bar_style": "success",
                            "layout": "IPY_MODEL_4b7bb245b8164ae3835982e6dda605af",
                            "style": "IPY_MODEL_f6343293b18b4f7d88d42aecc68cd3d7",
                            "value": 100
                        }
                    },
                    "3e67f64b6e6548f7a9e9f3397bc150c3": {
                        "model_module": "@jupyter-widgets/controls",
                        "model_module_version": "1.5.0",
                        "model_name": "FloatProgressModel",
                        "state": {
                            "bar_style": "danger",
                            "layout": "IPY_MODEL_42dadc081d9e4d7abba27e19091e7558",
                            "max": 5000,
                            "style": "IPY_MODEL_95f7bd07696d4325acdcb347788a9f12",
                            "value": 26
                        }
                    },
                    "42dadc081d9e4d7abba27e19091e7558": {
                        "model_module": "@jupyter-widgets/base",
                        "model_module_version": "1.2.0",
                        "model_name": "LayoutModel",
                        "state": {}
                    },
                    "457732b5440745a8af1294afdda1d163": {
                        "model_module": "@jupyter-widgets/output",
                        "model_module_version": "1.0.0",
                        "model_name": "OutputModel",
                        "state": {
                            "layout": "IPY_MODEL_5b6ccbbce8d44d8abb4acc55cb685f48",
                            "outputs": [
                                {
                                    "name": "stdout",
                                    "output_type": "stream",
                                    "text": "http://www.ingham.org\nhttp://autodiscover.ingham.org\nhttp://docs.ingham.org\nhttp://lyncdiscover.ingham.org\nhttp://apps.ingham.org\nhttp://files.ingham.org\nhttp://www.ingham.org\nhttp://autodiscover.ingham.org\nhttp://docs.ingham.org\nhttp://lyncdiscover.ingham.org\nhttp://apps.ingham.org\nhttp://files.ingham.org\n"
                                }
                            ]
                        }
                    },
                    "4592b4810c7e4ca88f866ca2b0f2ec7a": {
                        "model_module": "@jupyter-widgets/controls",
                        "model_module_version": "1.5.0",
                        "model_name": "ProgressStyleModel",
                        "state": {
                            "description_width": ""
                        }
                    },
                    "4b7bb245b8164ae3835982e6dda605af": {
                        "model_module": "@jupyter-widgets/base",
                        "model_module_version": "1.2.0",
                        "model_name": "LayoutModel",
                        "state": {}
                    },
                    "5973d9d86c8340cba0a2a78fb5ab6500": {
                        "model_module": "@jupyter-widgets/base",
                        "model_module_version": "1.2.0",
                        "model_name": "LayoutModel",
                        "state": {}
                    },
                    "5b6ccbbce8d44d8abb4acc55cb685f48": {
                        "model_module": "@jupyter-widgets/base",
                        "model_module_version": "1.2.0",
                        "model_name": "LayoutModel",
                        "state": {}
                    },
                    "5e4a4e17687746f6bbab1f3a940abcf2": {
                        "model_module": "@jupyter-widgets/base",
                        "model_module_version": "1.2.0",
                        "model_name": "LayoutModel",
                        "state": {}
                    },
                    "62f1675aabbf4ad9b602bcb63a1fe9d4": {
                        "model_module": "@jupyter-widgets/controls",
                        "model_module_version": "1.5.0",
                        "model_name": "DescriptionStyleModel",
                        "state": {
                            "description_width": ""
                        }
                    },
                    "67a0bf199d464121b754c7ff2adfc269": {
                        "model_module": "@jupyter-widgets/controls",
                        "model_module_version": "1.5.0",
                        "model_name": "HTMLModel",
                        "state": {
                            "layout": "IPY_MODEL_5973d9d86c8340cba0a2a78fb5ab6500",
                            "style": "IPY_MODEL_9c0d23c79ce04b9395a0eb02b0abfaef",
                            "value": " 100/100 [00:28&lt;00:00,  3.08it/s]"
                        }
                    },
                    "6c40bd8d5335481db19bb07216d39251": {
                        "model_module": "@jupyter-widgets/base",
                        "model_module_version": "1.2.0",
                        "model_name": "LayoutModel",
                        "state": {}
                    },
                    "6c713912514749ec9ddb9bc64609fb7e": {
                        "model_module": "@jupyter-widgets/controls",
                        "model_module_version": "1.5.0",
                        "model_name": "ProgressStyleModel",
                        "state": {
                            "description_width": ""
                        }
                    },
                    "6d1fa9418aff498bb8c9a2392f4604f4": {
                        "model_module": "@jupyter-widgets/controls",
                        "model_module_version": "1.5.0",
                        "model_name": "DescriptionStyleModel",
                        "state": {
                            "description_width": ""
                        }
                    },
                    "6fd0960d6f2147038c52eb6dea893060": {
                        "model_module": "@jupyter-widgets/base",
                        "model_module_version": "1.2.0",
                        "model_name": "LayoutModel",
                        "state": {}
                    },
                    "7c8c32aeb927484fa2990ff585a4f6f0": {
                        "model_module": "@jupyter-widgets/output",
                        "model_module_version": "1.0.0",
                        "model_name": "OutputModel",
                        "state": {
                            "layout": "IPY_MODEL_32cf1ab449f644a89e97aa58e9eb93ef"
                        }
                    },
                    "7cb4489ebe0f4c5683b79ceaffc44caf": {
                        "model_module": "@jupyter-widgets/controls",
                        "model_module_version": "1.5.0",
                        "model_name": "HTMLModel",
                        "state": {
                            "layout": "IPY_MODEL_6c40bd8d5335481db19bb07216d39251",
                            "style": "IPY_MODEL_2c6ee9ded7eb4d079a30eda2bbbd30d8",
                            "value": " 100/100 [01:06&lt;00:00,  5.29it/s]"
                        }
                    },
                    "83de18cc16234624ac07664aae5b1e3d": {
                        "model_module": "@jupyter-widgets/controls",
                        "model_module_version": "1.5.0",
                        "model_name": "DescriptionStyleModel",
                        "state": {
                            "description_width": ""
                        }
                    },
                    "85f962e47c034ee08e4af2fc842b3196": {
                        "model_module": "@jupyter-widgets/base",
                        "model_module_version": "1.2.0",
                        "model_name": "LayoutModel",
                        "state": {}
                    },
                    "8dcba17b9d954a779f02b63e4f4b0ea0": {
                        "model_module": "@jupyter-widgets/controls",
                        "model_module_version": "1.5.0",
                        "model_name": "FloatProgressModel",
                        "state": {
                            "bar_style": "success",
                            "layout": "IPY_MODEL_9b3af733152a4302ae13be1279aa5a10",
                            "style": "IPY_MODEL_4592b4810c7e4ca88f866ca2b0f2ec7a",
                            "value": 100
                        }
                    },
                    "8feefe113690454f8514a167c6a69b2d": {
                        "model_module": "@jupyter-widgets/controls",
                        "model_module_version": "1.5.0",
                        "model_name": "DescriptionStyleModel",
                        "state": {
                            "description_width": ""
                        }
                    },
                    "91b42bad952b4ef1aa5021b951e54681": {
                        "model_module": "@jupyter-widgets/controls",
                        "model_module_version": "1.5.0",
                        "model_name": "HBoxModel",
                        "state": {
                            "children": [
                                "IPY_MODEL_a64607d9623143eca43395098478295b",
                                "IPY_MODEL_37df212f915245f8b2a338b71b17fe43",
                                "IPY_MODEL_1fa9ffe4490545559e59a179d9efd100"
                            ],
                            "layout": "IPY_MODEL_f2576d03949f4800a5904762de4af0b0"
                        }
                    },
                    "92f46c0ace4a41c89ee203077ec85a7f": {
                        "model_module": "@jupyter-widgets/base",
                        "model_module_version": "1.2.0",
                        "model_name": "LayoutModel",
                        "state": {}
                    },
                    "95f7bd07696d4325acdcb347788a9f12": {
                        "model_module": "@jupyter-widgets/controls",
                        "model_module_version": "1.5.0",
                        "model_name": "ProgressStyleModel",
                        "state": {
                            "description_width": ""
                        }
                    },
                    "9b3af733152a4302ae13be1279aa5a10": {
                        "model_module": "@jupyter-widgets/base",
                        "model_module_version": "1.2.0",
                        "model_name": "LayoutModel",
                        "state": {}
                    },
                    "9c0d23c79ce04b9395a0eb02b0abfaef": {
                        "model_module": "@jupyter-widgets/controls",
                        "model_module_version": "1.5.0",
                        "model_name": "DescriptionStyleModel",
                        "state": {
                            "description_width": ""
                        }
                    },
                    "a4d4d805020e444d83c898408bc09318": {
                        "model_module": "@jupyter-widgets/base",
                        "model_module_version": "1.2.0",
                        "model_name": "LayoutModel",
                        "state": {}
                    },
                    "a64607d9623143eca43395098478295b": {
                        "model_module": "@jupyter-widgets/controls",
                        "model_module_version": "1.5.0",
                        "model_name": "HTMLModel",
                        "state": {
                            "layout": "IPY_MODEL_85f962e47c034ee08e4af2fc842b3196",
                            "style": "IPY_MODEL_6d1fa9418aff498bb8c9a2392f4604f4",
                            "value": "scanning subdomains: 100%"
                        }
                    },
                    "a8ed2c87c8d84080a4814a7a5ad99a6d": {
                        "model_module": "@jupyter-widgets/controls",
                        "model_module_version": "1.5.0",
                        "model_name": "HTMLModel",
                        "state": {
                            "layout": "IPY_MODEL_a4d4d805020e444d83c898408bc09318",
                            "style": "IPY_MODEL_83de18cc16234624ac07664aae5b1e3d",
                            "value": "scanning subdomains:   1%"
                        }
                    },
                    "ae63d24f60ee4bb1ac11ab4da35e552a": {
                        "model_module": "@jupyter-widgets/controls",
                        "model_module_version": "1.5.0",
                        "model_name": "FloatProgressModel",
                        "state": {
                            "bar_style": "success",
                            "layout": "IPY_MODEL_33513b883b9c4283a53cd6d62e3d57cb",
                            "style": "IPY_MODEL_6c713912514749ec9ddb9bc64609fb7e",
                            "value": 100
                        }
                    },
                    "b9400ace49c6459b99d12a328f7cc3e6": {
                        "model_module": "@jupyter-widgets/controls",
                        "model_module_version": "1.5.0",
                        "model_name": "HBoxModel",
                        "state": {
                            "children": [
                                "IPY_MODEL_bf7c6a61b0e9407a948702a5d27e2bd6",
                                "IPY_MODEL_8dcba17b9d954a779f02b63e4f4b0ea0",
                                "IPY_MODEL_7cb4489ebe0f4c5683b79ceaffc44caf"
                            ],
                            "layout": "IPY_MODEL_ca7546dea9584e3db56d4e76c6c1fa3c"
                        }
                    },
                    "bf7c6a61b0e9407a948702a5d27e2bd6": {
                        "model_module": "@jupyter-widgets/controls",
                        "model_module_version": "1.5.0",
                        "model_name": "HTMLModel",
                        "state": {
                            "layout": "IPY_MODEL_5e4a4e17687746f6bbab1f3a940abcf2",
                            "style": "IPY_MODEL_d7e889dbe4f7403b9cd637a31c4e90e5",
                            "value": "scanning subdomains: 100%"
                        }
                    },
                    "c6410c78fab14a83a161150ad2141a2d": {
                        "model_module": "@jupyter-widgets/controls",
                        "model_module_version": "1.5.0",
                        "model_name": "HBoxModel",
                        "state": {
                            "children": [
                                "IPY_MODEL_34459a2e04fc4212b221748d65469f4e",
                                "IPY_MODEL_ae63d24f60ee4bb1ac11ab4da35e552a",
                                "IPY_MODEL_67a0bf199d464121b754c7ff2adfc269"
                            ],
                            "layout": "IPY_MODEL_d1c754aad4d14ab4b59edc83a9ffce7d"
                        }
                    },
                    "c6868eb2bb854d8d839a76c209df2f48": {
                        "model_module": "@jupyter-widgets/base",
                        "model_module_version": "1.2.0",
                        "model_name": "LayoutModel",
                        "state": {}
                    },
                    "ca7546dea9584e3db56d4e76c6c1fa3c": {
                        "model_module": "@jupyter-widgets/base",
                        "model_module_version": "1.2.0",
                        "model_name": "LayoutModel",
                        "state": {}
                    },
                    "d1c754aad4d14ab4b59edc83a9ffce7d": {
                        "model_module": "@jupyter-widgets/base",
                        "model_module_version": "1.2.0",
                        "model_name": "LayoutModel",
                        "state": {}
                    },
                    "d7e889dbe4f7403b9cd637a31c4e90e5": {
                        "model_module": "@jupyter-widgets/controls",
                        "model_module_version": "1.5.0",
                        "model_name": "DescriptionStyleModel",
                        "state": {
                            "description_width": ""
                        }
                    },
                    "e452370af0b3407eb20807dd1a60b61c": {
                        "model_module": "@jupyter-widgets/base",
                        "model_module_version": "1.2.0",
                        "model_name": "LayoutModel",
                        "state": {}
                    },
                    "ea3cf43aa19146a5899a18188830a322": {
                        "model_module": "@jupyter-widgets/base",
                        "model_module_version": "1.2.0",
                        "model_name": "LayoutModel",
                        "state": {}
                    },
                    "f2576d03949f4800a5904762de4af0b0": {
                        "model_module": "@jupyter-widgets/base",
                        "model_module_version": "1.2.0",
                        "model_name": "LayoutModel",
                        "state": {}
                    },
                    "f6343293b18b4f7d88d42aecc68cd3d7": {
                        "model_module": "@jupyter-widgets/controls",
                        "model_module_version": "1.5.0",
                        "model_name": "ProgressStyleModel",
                        "state": {
                            "description_width": ""
                        }
                    },
                    "f74c4a0a5f764b9aa630363eb531800e": {
                        "model_module": "@jupyter-widgets/controls",
                        "model_module_version": "1.5.0",
                        "model_name": "HBoxModel",
                        "state": {
                            "children": [
                                "IPY_MODEL_a8ed2c87c8d84080a4814a7a5ad99a6d",
                                "IPY_MODEL_3e67f64b6e6548f7a9e9f3397bc150c3",
                                "IPY_MODEL_0b10ed7d60974921ae7a79d7f2688517"
                            ],
                            "layout": "IPY_MODEL_c6868eb2bb854d8d839a76c209df2f48"
                        }
                    },
                    "fe41609dc14f4eb282729e50ac76a531": {
                        "model_module": "@jupyter-widgets/output",
                        "model_module_version": "1.0.0",
                        "model_name": "OutputModel",
                        "state": {
                            "layout": "IPY_MODEL_31033b54197e4761b09550b1d3840def",
                            "outputs": [
                                {
                                    "name": "stdout",
                                    "output_type": "stream",
                                    "text": "http://www.ingham.org\nhttp://autodiscover.ingham.org\nhttp://docs.ingham.org\nhttp://lyncdiscover.ingham.org\nhttp://apps.ingham.org\nhttp://files.ingham.org\n"
                                }
                            ]
                        }
                    }
                },
                "version_major": 2,
                "version_minor": 0
            }
        }
    },
    "nbformat": 4,
    "nbformat_minor": 5
}