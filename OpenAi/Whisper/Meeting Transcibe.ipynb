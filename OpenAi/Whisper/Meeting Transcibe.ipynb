{
 "cells": [
  {
   "cell_type": "code",
   "execution_count": null,
   "id": "831233a2-6d33-4129-8b28-92d5deea79d3",
   "metadata": {
    "tags": []
   },
   "outputs": [
    {
     "name": "stdout",
     "output_type": "stream",
     "text": [
      "{\n",
      "  \"text\": \"\"\n",
      "}\n"
     ]
    }
   ],
   "source": [
    "import io\n",
    "import wave\n",
    "import numpy as np\n",
    "import sounddevice as sd\n",
    "import PySimpleGUI as sg\n",
    "import openai\n",
    "import keyring\n",
    "import threading\n",
    "from queue import Queue\n",
    "from typing import List\n",
    "from datetime import datetime\n",
    "\n",
    "openai.api_key =keyring.get_password(\"system\", \"openai_key\")\n",
    "\n",
    "\n",
    "# Define a function to save the numpy array as a WAV file in memory\n",
    "def save_wav_in_memory(audio_data: List[np.ndarray], sample_rate: int) -> bytes:\n",
    "    byte_io = io.BytesIO()\n",
    "    with wave.open(byte_io, 'wb') as wav_file:\n",
    "        wav_file.setnchannels(1)\n",
    "        wav_file.setsampwidth(2)\n",
    "        wav_file.setframerate(sample_rate)\n",
    "        for chunk in audio_data:\n",
    "            wav_file.writeframes(chunk.astype(np.int16).tobytes())\n",
    "    byte_io.seek(0)\n",
    "    return byte_io.read()\n",
    "\n",
    "# Define audio recording parameters\n",
    "fs = 44100  # Sample rate\n",
    "\n",
    "# Callback function for audio recording\n",
    "def audio_callback(indata, frames, time, status, q):\n",
    "    q.put(indata.copy())\n",
    "\n",
    "# Function for recording audio on a separate thread\n",
    "def record_audio(q, stop_event):\n",
    "    with sd.InputStream(callback=lambda *args: audio_callback(*args, q), samplerate=fs):\n",
    "        while not stop_event.is_set():\n",
    "            sd.sleep(100)  # Sleep for a short duration to reduce CPU usage\n",
    "\n",
    "\n",
    "# Define GUI layout\n",
    "layout = [\n",
    "    [sg.Button('Start Recording'), sg.Button('Stop Recording')],\n",
    "    [sg.Multiline(size=(60, 20), key='transcription')],\n",
    "]\n",
    "\n",
    "# Create GUI window\n",
    "window = sg.Window('Meeting Transcription', layout)\n",
    "\n",
    "# Create an event to signal recording thread to stop\n",
    "stop_event = threading.Event()\n",
    "\n",
    "# Create a queue to hold audio data chunks\n",
    "audio_queue = Queue()\n",
    "\n",
    "# Event loop\n",
    "recording_thread = None\n",
    "while True:\n",
    "    event, values = window.read()\n",
    "    if event == sg.WIN_CLOSED:\n",
    "        break\n",
    "    elif event == 'Start Recording':\n",
    "        # Start recording on a separate thread\n",
    "        stop_event.clear()\n",
    "        recording_thread = threading.Thread(target=record_audio, args=(audio_queue, stop_event))\n",
    "        recording_thread.start()\n",
    "    elif event == 'Stop Recording':\n",
    "        # Signal the recording thread to stop\n",
    "        stop_event.set()\n",
    "        if recording_thread is not None:\n",
    "            recording_thread.join()\n",
    "        # Collect audio data from the queue\n",
    "        audio_data = []\n",
    "        while not audio_queue.empty():\n",
    "            audio_data.append(audio_queue.get())\n",
    "        # Convert recording to audio file\n",
    "        audio_bytes = save_wav_in_memory(audio_data, fs)\n",
    "        current_timestamp = datetime.now()       \n",
    "        temp_audio_path = current_timestamp.strftime(\"temp_audio_%Y%m%d_%H%M%S.wav\")\n",
    "\n",
    "        # Save the audio to a temporary WAV file\n",
    "        with open(temp_audio_path, \"wb\") as f:\n",
    "            f.write(audio_bytes)\n",
    "\n",
    "        file = open(temp_audio_path, \"rb\")\n",
    "        transcription = openai.Audio.transcribe(\"whisper-1\", file)\n",
    "\n",
    "        print(transcription)\n",
    "        # Update GUI with transcribed text\n",
    "        window['transcription'].update(transcription['text'])\n",
    "\n",
    "# Close GUI window\n",
    "window.close()\n"
   ]
  },
  {
   "cell_type": "code",
   "execution_count": 2,
   "id": "1583557d-261c-40e0-8e65-4fdd51f36945",
   "metadata": {
    "tags": []
   },
   "outputs": [
    {
     "name": "stdout",
     "output_type": "stream",
     "text": [
      "Input Device ID: 0 / HD-Audio Generic: ALC257 Analog (hw:1,0) / Max Input Channels: 2\n",
      "Input Device ID: 0 / acp: - (hw:2,0) / Max Input Channels: 2\n",
      "Input Device ID: 0 / ThinkPad USB-C Dock Gen2 USB Au: Audio (hw:3,0) / Max Input Channels: 1\n"
     ]
    }
   ],
   "source": [
    "import sounddevice as sd\n",
    "\n",
    "# Get the list of all devices\n",
    "devices = sd.query_devices()\n",
    "\n",
    "# Filter input devices\n",
    "input_devices = [device for device in devices if device['max_input_channels'] > 0]\n",
    "\n",
    "# Print input devices\n",
    "for idx, device in enumerate(input_devices):\n",
    "    print(f\"Input Device ID: {device['hostapi']} / {device['name']} / Max Input Channels: {device['max_input_channels']}\")\n",
    "\n",
    "# If "
   ]
  },
  {
   "cell_type": "code",
   "execution_count": null,
   "id": "09450fc2-6715-455b-b884-3e36873e4832",
   "metadata": {},
   "outputs": [],
   "source": []
  }
 ],
 "metadata": {
  "kernelspec": {
   "display_name": "Python 3 (ipykernel)",
   "language": "python",
   "name": "python3"
  },
  "language_info": {
   "codemirror_mode": {
    "name": "ipython",
    "version": 3
   },
   "file_extension": ".py",
   "mimetype": "text/x-python",
   "name": "python",
   "nbconvert_exporter": "python",
   "pygments_lexer": "ipython3",
   "version": "3.10.7"
  }
 },
 "nbformat": 4,
 "nbformat_minor": 5
}
