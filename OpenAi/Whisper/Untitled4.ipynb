{
 "cells": [
  {
   "cell_type": "code",
   "execution_count": null,
   "id": "1c44e642-58d7-4c5e-8d64-ff2e6dee4853",
   "metadata": {
    "tags": []
   },
   "outputs": [],
   "source": [
    "import os\n",
    "import sounddevice as sd\n",
    "import numpy as np\n",
    "from datetime import datetime\n",
    "import time\n",
    "# Create the \"Recordings\" folder if it doesn't exist\n",
    "folder_name = \"Recordings\"\n",
    "if not os.path.exists(folder_name):\n",
    "    os.makedirs(folder_name)\n",
    "\n",
    "# Set the sample rate and duration for recording\n",
    "sample_rate = 44100  # CD quality\n",
    "duration = 5  # Duration of each recording in seconds\n",
    "\n",
    "# Initialize recording parameters\n",
    "frames = []\n",
    "start_time = None\n",
    "def calculate_threshold(indata):\n",
    "    rms = np.sqrt(np.mean(np.square(indata)))\n",
    "    threshold = rms * 100\n",
    "    return threshold\n",
    "\n",
    "def start_recording(indata, data_frames, ctime, status):\n",
    "    global start_time, frames\n",
    "    if status:\n",
    "        print(\"Error:\", status)\n",
    "    frames.append(indata.copy())\n",
    "    print(np.max(indata) )\n",
    "    if start_time is None:\n",
    "        threshold = calculate_threshold(indata)\n",
    "        start_time = time.time()\n",
    "        print(\"start\")\n",
    "        \n",
    "    else:\n",
    "        # Check for silence based on the calculated threshold\n",
    "        if np.max(indata) < threshold:\n",
    "            \n",
    "            # Stop recording and save the recorded audio as a WAV file\n",
    "            filename = f\"{start_time.strftime('%Y-%m-%d_%H-%M-%S')}.wav\"\n",
    "            filepath = os.path.join(folder_name, filename)\n",
    "            sd.write(filepath, np.concatenate(frames), sample_rate)\n",
    "            print(f\"Saved recording: {filename}\")\n",
    "            frames.clear()\n",
    "            start_time = None\n",
    "\n",
    "# Start the audio stream\n",
    "with sd.InputStream(callback=start_recording, channels=1, samplerate=sample_rate,device=6):\n",
    "    print(\"Listening for speech...\")\n",
    "    while True:\n",
    "        try:\n",
    "            sd.sleep(duration * 1000)\n",
    "        except KeyboardInterrupt:\n",
    "            if start_time is not None:\n",
    "                # Stop recording if interrupted by user\n",
    "                print(\"Recording stopped by user.\")\n",
    "                start_recording(None, None, None, None)\n",
    "            break\n"
   ]
  },
  {
   "cell_type": "code",
   "execution_count": null,
   "id": "ece74b81-6687-418e-a1d0-f9c55522adf6",
   "metadata": {},
   "outputs": [],
   "source": []
  }
 ],
 "metadata": {
  "kernelspec": {
   "display_name": "Python 3 (ipykernel)",
   "language": "python",
   "name": "python3"
  },
  "language_info": {
   "codemirror_mode": {
    "name": "ipython",
    "version": 3
   },
   "file_extension": ".py",
   "mimetype": "text/x-python",
   "name": "python",
   "nbconvert_exporter": "python",
   "pygments_lexer": "ipython3",
   "version": "3.10.6"
  }
 },
 "nbformat": 4,
 "nbformat_minor": 5
}
