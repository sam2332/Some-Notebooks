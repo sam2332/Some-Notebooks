{
 "cells": [
  {
   "cell_type": "code",
   "execution_count": null,
   "id": "b1d23dfc-ff4f-4b8b-8d41-e5cdbd874540",
   "metadata": {
    "tags": []
   },
   "outputs": [],
   "source": [
    "import numpy as np\n",
    "import cv2\n",
    "from PIL import Image\n",
    "import pyautogui\n",
    "\n",
    "class TemplateLibrary:\n",
    "    def __init__(self):\n",
    "        self.templates = {}\n",
    "\n",
    "    def add_template(self, name, template_path):\n",
    "        # Load the template image and add it to the dictionary\n",
    "        try:\n",
    "            template = np.asarray(Image.open(template_path))\n",
    "        except FileNotFoundError:\n",
    "            print(f\"Error: Could not find file '{template_path}'\")\n",
    "            return\n",
    "        gray_template = cv2.cvtColor(template, cv2.COLOR_BGR2GRAY)\n",
    "        self.templates[name] = gray_template\n",
    "\n",
    "  \n",
    "    def find_template(self, gray_image, template_name):\n",
    "        # Check if the template exists in the dictionary\n",
    "        if template_name not in self.templates:\n",
    "            print(f\"Error: Template '{template_name}' not found in library\")\n",
    "            return []\n",
    "\n",
    "        # Convert the screenshot to grayscale\n",
    "        template = self.templates[template_name]\n",
    "\n",
    "        # Find all matches using template matching\n",
    "        result = cv2.matchTemplate(gray_image, template, cv2.TM_CCOEFF_NORMED)\n",
    "        threshold = 0.9\n",
    "        loc = np.where(result >= threshold)\n",
    "        print(loc)\n",
    "        matches = []\n",
    "        for pt in zip(*loc[::-1]):\n",
    "            # Compute the center of the match\n",
    "            center_x = pt[0] + template.shape[1] // 2\n",
    "            center_y = pt[1] + template.shape[0] // 2\n",
    "            matches.append((center_x, center_y))\n",
    "\n",
    "        return matches\n",
    "\n",
    "    def find_all_templates(self, image):\n",
    "        # Initialize an empty dictionary to store the results\n",
    "        results = {}\n",
    "\n",
    "        image = cv2.cvtColor(image, cv2.COLOR_BGR2GRAY)\n",
    "        # Find the center positions of all templates in the image\n",
    "        for name, template in self.templates.items():\n",
    "            centers = self.find_template(image, name)\n",
    "            if centers:\n",
    "                results[name] = centers\n",
    "\n",
    "        return results"
   ]
  },
  {
   "cell_type": "code",
   "execution_count": null,
   "id": "2c11e076-e701-4eb6-b469-34d9041b473c",
   "metadata": {
    "tags": []
   },
   "outputs": [],
   "source": [
    "# Example usage\n",
    "library = TemplateLibrary()\n",
    "library.add_template('small_image', 'small_image.png')"
   ]
  },
  {
   "cell_type": "code",
   "execution_count": null,
   "id": "49ff474c-7ba9-4fe5-92cb-a33cb0b4c58b",
   "metadata": {
    "tags": []
   },
   "outputs": [],
   "source": [
    "from PIL import ImageGrab\n",
    "\n",
    "# Capture the entire screen\n",
    "screenshot = ImageGrab.grab()\n",
    "image = np.asarray(screenshot)"
   ]
  },
  {
   "cell_type": "code",
   "execution_count": null,
   "id": "915498c9-accf-4c0b-8f1b-e44816c6eb97",
   "metadata": {
    "tags": []
   },
   "outputs": [],
   "source": [
    "image_o = pyautogui.screenshot()\n",
    "image = np.asarray(image_o)\n",
    "\n",
    "image_o"
   ]
  },
  {
   "cell_type": "code",
   "execution_count": null,
   "id": "0a45cc65-76ad-494b-91a5-951a1bd61ca4",
   "metadata": {
    "tags": []
   },
   "outputs": [],
   "source": [
    "results = library.find_all_templates(image)\n",
    "print(results)"
   ]
  },
  {
   "cell_type": "code",
   "execution_count": null,
   "id": "34a6f12b-f5d3-4495-a53f-00b47cc0b728",
   "metadata": {},
   "outputs": [],
   "source": []
  },
  {
   "cell_type": "code",
   "execution_count": null,
   "id": "c1d080bf-210b-4523-bd56-b3cd558e7e84",
   "metadata": {},
   "outputs": [],
   "source": []
  }
 ],
 "metadata": {
  "kernelspec": {
   "display_name": "Python 3 (ipykernel)",
   "language": "python",
   "name": "python3"
  },
  "language_info": {
   "codemirror_mode": {
    "name": "ipython",
    "version": 3
   },
   "file_extension": ".py",
   "mimetype": "text/x-python",
   "name": "python",
   "nbconvert_exporter": "python",
   "pygments_lexer": "ipython3",
   "version": "3.10.7"
  }
 },
 "nbformat": 4,
 "nbformat_minor": 5
}
