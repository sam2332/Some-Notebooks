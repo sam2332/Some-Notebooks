{
    "cells": [
        {
            "cell_type": "code",
            "execution_count": null,
            "id": "3ede6d03-edb5-455a-b32b-e848e31fa4e4",
            "metadata": {},
            "outputs": [],
            "source": [
                "import subprocess\n",
                "\n",
                "\n",
                "def shell(cmd, debug=False, returns_POpen=False, close_fds=False):\n",
                "    if type(cmd) != list:\n",
                "        cmd = cmd.split(\" \")\n",
                "    if debug:\n",
                "        print(cmd)\n",
                "\n",
                "    if returns_POpen:\n",
                "        process = subprocess.Popen(cmd, close_fds=close_fds)\n",
                "        return process\n",
                "\n",
                "    process = subprocess.run(cmd, stdout=subprocess.PIPE)\n",
                "    return process.stdout.decode(\"utf-8\").strip().splitlines()"
            ]
        },
        {
            "cell_type": "code",
            "execution_count": null,
            "id": "51bb93e0-2051-4eb6-aedf-c90bb49ead54",
            "metadata": {},
            "outputs": [],
            "source": [
                "url = \"http://music.youtube.com/watch?v=knzzHy0NlXs&feature=share\"\n",
                "ytdl = Path(\"~/.local/bin/youtube-dl\").expanduser()\n",
                "cmd = f\"{ytdl} --ignore-errors --format bestaudio --extract-audio --audio-format mp3 --audio-quality 160K --output %(title)s.%(ext)s --yes-playlist {url}\"\n",
                "print(cmd)"
            ]
        },
        {
            "cell_type": "code",
            "execution_count": null,
            "id": "a9999e22-fbbb-4ad2-9908-d3609ba76659",
            "metadata": {},
            "outputs": [],
            "source": [
                "shell(cmd)"
            ]
        },
        {
            "cell_type": "code",
            "execution_count": null,
            "id": "2af7e43b-9408-4a77-8531-895d7c7e094c",
            "metadata": {},
            "outputs": [],
            "source": []
        },
        {
            "cell_type": "code",
            "execution_count": null,
            "id": "f4264f00-0683-487f-b59f-831b3dbdd47e",
            "metadata": {},
            "outputs": [],
            "source": []
        }
    ],
    "metadata": {
        "kernelspec": {
            "display_name": "Python 3 (ipykernel)",
            "language": "python",
            "name": "python3"
        },
        "language_info": {
            "codemirror_mode": {
                "name": "ipython",
                "version": 3
            },
            "file_extension": ".py",
            "mimetype": "text/x-python",
            "name": "python",
            "nbconvert_exporter": "python",
            "pygments_lexer": "ipython3",
            "version": "3.10.4"
        },
        "widgets": {
            "application/vnd.jupyter.widget-state+json": {
                "state": {},
                "version_major": 2,
                "version_minor": 0
            }
        }
    },
    "nbformat": 4,
    "nbformat_minor": 5
}