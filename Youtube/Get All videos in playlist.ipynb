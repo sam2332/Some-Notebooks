{
 "cells": [
  {
   "cell_type": "code",
   "execution_count": null,
   "id": "157cb7bc-1a2e-4dc6-bd08-8b437c49ec95",
   "metadata": {},
   "outputs": [],
   "source": [
    "import os\n",
    "from pathlib import Path  # Python 3.6+ only\n",
    "\n",
    "import googleapiclient.discovery\n",
    "from dotenv import load_dotenv\n",
    "\n",
    "env_path = Path(\".\") / \".env\"\n",
    "load_dotenv(dotenv_path=env_path)"
   ]
  },
  {
   "cell_type": "code",
   "execution_count": null,
   "id": "07be64c0-fd0b-4a9c-ba67-e4c5279ee661",
   "metadata": {},
   "outputs": [],
   "source": [
    "playlist_id = \"PLWi7PxnyAMeOJmVLv8Z_N3edNyipsnHbo\"\n",
    "\n",
    "youtube = googleapiclient.discovery.build(\n",
    "    \"youtube\", \"v3\", developerKey=os.environ[\"google_developer_key\"]\n",
    ")\n",
    "\n",
    "request = youtube.playlistItems().list(\n",
    "    part=\"snippet\", playlistId=playlist_id, maxResults=50\n",
    ")\n",
    "response = request.execute()\n",
    "\n",
    "playlist_items = []\n",
    "while request is not None:\n",
    "    response = request.execute()\n",
    "    playlist_items += response[\"items\"]\n",
    "    request = youtube.playlistItems().list_next(request, response)\n",
    "\n",
    "print(f\"total: {len(playlist_items)}\")\n",
    "print(playlist_items)"
   ]
  }
 ],
 "metadata": {
  "kernelspec": {
   "display_name": "Python 3 (ipykernel)",
   "language": "python",
   "name": "python3"
  },
  "language_info": {
   "codemirror_mode": {
    "name": "ipython",
    "version": 3
   },
   "file_extension": ".py",
   "mimetype": "text/x-python",
   "name": "python",
   "nbconvert_exporter": "python",
   "pygments_lexer": "ipython3",
   "version": "3.10.4"
  },
  "widgets": {
   "application/vnd.jupyter.widget-state+json": {
    "state": {},
    "version_major": 2,
    "version_minor": 0
   }
  }
 },
 "nbformat": 4,
 "nbformat_minor": 5
}
