{
    "cells": [
        {
            "cell_type": "code",
            "execution_count": null,
            "id": "afc3a0e3-8aeb-40c9-b98f-8a2fc8a1f426",
            "metadata": {},
            "outputs": [],
            "source": [
                "import os\n",
                "from pathlib import Path  # Python 3.6+ only\n",
                "\n",
                "import googleapiclient.discovery\n",
                "from dotenv import load_dotenv\n",
                "\n",
                "env_path = Path(\".\") / \".env\"\n",
                "load_dotenv(dotenv_path=env_path)"
            ]
        },
        {
            "cell_type": "code",
            "execution_count": null,
            "id": "29bff62d-35f4-44a8-bcea-f61b6719d1ed",
            "metadata": {},
            "outputs": [],
            "source": [
                "channel_id = \"UC1udnO-W6gpR9qzleJ5SDKw\"\n",
                "youtube = googleapiclient.discovery.build(\n",
                "    \"youtube\", \"v3\", developerKey=os.environ[\"google_developer_key\"]\n",
                ")\n",
                "request = youtube.playlists().list(part=\"snippet\", channelId=channel_id, maxResults=50)\n",
                "response = request.execute()\n",
                "\n",
                "playlists = []\n",
                "while request is not None:\n",
                "    response = request.execute()\n",
                "    playlists += response[\"items\"]\n",
                "    request = youtube.playlists().list_next(request, response)\n",
                "\n",
                "print(f\"total: {len(playlists)}\")\n",
                "print(playlists)"
            ]
        },
        {
            "cell_type": "code",
            "execution_count": null,
            "id": "4e89e332-3c04-4e10-b7df-58adbafad09b",
            "metadata": {},
            "outputs": [],
            "source": []
        }
    ],
    "metadata": {
        "kernelspec": {
            "display_name": "Python 3 (ipykernel)",
            "language": "python",
            "name": "python3"
        },
        "language_info": {
            "codemirror_mode": {
                "name": "ipython",
                "version": 3
            },
            "file_extension": ".py",
            "mimetype": "text/x-python",
            "name": "python",
            "nbconvert_exporter": "python",
            "pygments_lexer": "ipython3",
            "version": "3.10.4"
        },
        "widgets": {
            "application/vnd.jupyter.widget-state+json": {
                "state": {},
                "version_major": 2,
                "version_minor": 0
            }
        }
    },
    "nbformat": 4,
    "nbformat_minor": 5
}