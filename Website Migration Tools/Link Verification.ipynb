{
 "cells": [
  {
   "cell_type": "code",
   "execution_count": 1,
   "id": "9e981f9f-2df7-43f7-a2ce-cc77245ebf5e",
   "metadata": {},
   "outputs": [],
   "source": [
    "from collections import defaultdict\n",
    "from urllib.parse import urlparse\n",
    "\n",
    "import requests\n",
    "from bs4 import BeautifulSoup"
   ]
  },
  {
   "cell_type": "code",
   "execution_count": 2,
   "id": "12ed5c1f-eb40-4cec-b607-b6bed9958048",
   "metadata": {},
   "outputs": [],
   "source": [
    "url = \"https://pu_dev.ingham.org/departments_and_officials/purchasing/bid_center.php\""
   ]
  },
  {
   "cell_type": "code",
   "execution_count": 3,
   "id": "efe4931b-308b-4f21-96c4-7907dcceba00",
   "metadata": {},
   "outputs": [],
   "source": [
    "res = requests.get(url)\n",
    "soup = BeautifulSoup(res.text)\n",
    "\n",
    "\n",
    "class Report:\n",
    "    def __init__(self):\n",
    "        self.links = []\n",
    "        self.no_url = []\n",
    "        self.todo = []\n",
    "        self.relative = []\n",
    "        self.domains = defaultdict(list)\n",
    "        self.schemes = defaultdict(list)\n",
    "        self.mailto = []\n",
    "\n",
    "    def scanlink(self, link):\n",
    "        url = None\n",
    "        if \"href\" in link.attrs:\n",
    "            url = link.attrs[\"href\"]\n",
    "        if url is None or url == \"#\":\n",
    "            self.no_url.append(link)\n",
    "            return False\n",
    "        if \"todo\" in url:\n",
    "            self.todo.append(link)\n",
    "            return False\n",
    "        if \"../\" in url:\n",
    "            self.relative.append(link)\n",
    "            return False\n",
    "        if \"mailto:\" in url:\n",
    "            self.mailto.append(link)\n",
    "            return False\n",
    "\n",
    "        self.links.append(link)\n",
    "        up = urlparse(url)\n",
    "        scheme = up.scheme\n",
    "        domain = up.netloc\n",
    "        self.domains[domain].append(link)\n",
    "        self.schemes[scheme].append(link)\n",
    "        return True\n",
    "\n",
    "\n",
    "r = Report()\n",
    "for link in soup.find_all(\"a\"):\n",
    "    r.scanlink(link)"
   ]
  },
  {
   "cell_type": "code",
   "execution_count": 4,
   "id": "7326f441-4c18-4775-b25c-76c382ce69a9",
   "metadata": {},
   "outputs": [
    {
     "data": {
      "text/plain": [
       "[<a name=\"faq_rz660\"></a>,\n",
       " <a name=\"faq_rz661\"></a>,\n",
       " <a name=\"faq_rz662\"></a>,\n",
       " <a name=\"faq_rz664\"></a>]"
      ]
     },
     "execution_count": 4,
     "metadata": {},
     "output_type": "execute_result"
    }
   ],
   "source": [
    "r.no_url"
   ]
  },
  {
   "cell_type": "code",
   "execution_count": 5,
   "id": "f4ad3ec5-be4e-4c9f-8132-f27469bb28b0",
   "metadata": {},
   "outputs": [
    {
     "data": {
      "text/plain": [
       "[]"
      ]
     },
     "execution_count": 5,
     "metadata": {},
     "output_type": "execute_result"
    }
   ],
   "source": [
    "r.todo"
   ]
  },
  {
   "cell_type": "code",
   "execution_count": 6,
   "id": "0d544926-8fb1-4747-84f2-d698b3e234c5",
   "metadata": {},
   "outputs": [
    {
     "data": {
      "text/plain": [
       "[<a href=\"mailto:jbuckmaster@ingham.org\" target=\"_blank\">jbuckmaster@ingham.org</a>,\n",
       " <a href=\"mailto:packetresponse@ingham.org\" target=\"_blank\">packetresponse@ingham.org</a>,\n",
       " <a href=\"mailto:ingham-bids@grangerconstruction.com?subject=Request%20for%20Bid%20Opening%20and-or%20Results\">Click Here to email a request for Bid Opening &amp; Results</a>,\n",
       " <a href=\"mailto:ingham-bids@grangerconstruction.com?subject=Request%20for%20Bid%20Opening%20and-or%20Results\">Click Here to email a request for Bid Opening &amp; Results</a>,\n",
       " <a href=\"mailto:tom.shanley@kramermg.com\">For Addendums<br/>contact Kramer<br/>Management<br/>Group, <br/>Tom Shanley</a>,\n",
       " <a href=\"mailto:tom.shanley@kramermg.com\">tom.shanley@kramermg.com</a>,\n",
       " <a href=\"mailto:tom.shanley@kramermg.com?subject=Packet%20196-19\">Contact<br/>Kramer Mgmt</a>]"
      ]
     },
     "execution_count": 6,
     "metadata": {},
     "output_type": "execute_result"
    }
   ],
   "source": [
    "r.mailto"
   ]
  },
  {
   "cell_type": "code",
   "execution_count": 7,
   "id": "3f1e68c6-a619-4df9-a573-b2064b3fed17",
   "metadata": {},
   "outputs": [
    {
     "name": "stdout",
     "output_type": "stream",
     "text": [
      "<a href=\"departments_and_officials/purchasing/../index.php\">Departments &amp; Officials</a>\n",
      "<div id=\"breadcrumbs\">\n",
      "<a href=\"./\">Home</a>   <a href=\"departments_and_officials/purchasing/../index.php\">Departments &amp; Officials</a>   <a href=\"departments_and_officials/purchasing/index.php\">Purchasing</a>   Bid Center\n",
      "        </div>\n",
      "\n",
      "\n"
     ]
    }
   ],
   "source": [
    "for link in r.relative:\n",
    "    print(link)\n",
    "    print(link.parent)\n",
    "    print()\n",
    "    print()"
   ]
  },
  {
   "cell_type": "code",
   "execution_count": 8,
   "id": "92341aff-2d18-4d3f-8df0-da01b5508fb0",
   "metadata": {},
   "outputs": [
    {
     "data": {
      "text/plain": [
       "dict_keys(['', 'http', 'https'])"
      ]
     },
     "execution_count": 8,
     "metadata": {},
     "output_type": "execute_result"
    }
   ],
   "source": [
    "r.schemes.keys()"
   ]
  },
  {
   "cell_type": "code",
   "execution_count": 9,
   "id": "89f1757e-64de-4fac-a532-54dc7ccb1372",
   "metadata": {},
   "outputs": [
    {
     "data": {
      "text/plain": [
       "[<a href=\"departments_and_officials/purchasing/bid_center.php#main\" id=\"skip\" tabindex=\"0\">Skip to content</a>,\n",
       " <a class=\"Afrikaans\" data-lang=\"Afrikaans\" href=\"departments_and_officials/purchasing/bid_center.php#\">Afrikaans</a>,\n",
       " <a class=\"Albanian\" data-lang=\"Albanian\" href=\"departments_and_officials/purchasing/bid_center.php#\">Albanian</a>,\n",
       " <a class=\"Arabic\" data-lang=\"Arabic\" href=\"departments_and_officials/purchasing/bid_center.php#\">Arabic</a>,\n",
       " <a class=\"Armenian\" data-lang=\"Armenian\" href=\"departments_and_officials/purchasing/bid_center.php#\">Armenian</a>,\n",
       " <a class=\"Azerbaijani\" data-lang=\"Azerbaijani\" href=\"departments_and_officials/purchasing/bid_center.php#\">Azerbaijani</a>,\n",
       " <a class=\"Basque\" data-lang=\"Basque\" href=\"departments_and_officials/purchasing/bid_center.php#\">Basque</a>,\n",
       " <a class=\"Belarusian\" data-lang=\"Belarusian\" href=\"departments_and_officials/purchasing/bid_center.php#\">Belarusian</a>,\n",
       " <a class=\"Bengali\" data-lang=\"Bengali\" href=\"departments_and_officials/purchasing/bid_center.php#\">Bengali</a>,\n",
       " <a class=\"Bosnian\" data-lang=\"Bosnian\" href=\"departments_and_officials/purchasing/bid_center.php#\">Bosnian</a>,\n",
       " <a class=\"Bulgarian\" data-lang=\"Bulgarian\" href=\"departments_and_officials/purchasing/bid_center.php#\">Bulgarian</a>,\n",
       " <a class=\"Catalan\" data-lang=\"Catalan\" href=\"departments_and_officials/purchasing/bid_center.php#\">Catalan</a>,\n",
       " <a class=\"Cebuano\" data-lang=\"Cebuano\" href=\"departments_and_officials/purchasing/bid_center.php#\">Cebuano</a>,\n",
       " <a class=\"Chinese\" data-lang=\"Chinese (Simplified)\" href=\"departments_and_officials/purchasing/bid_center.php#\">Chinese (Simplified)</a>,\n",
       " <a class=\"Chinese\" data-lang=\"Chinese (Traditional)\" href=\"departments_and_officials/purchasing/bid_center.php#\">Chinese (Traditional)</a>,\n",
       " <a class=\"Croatian\" data-lang=\"Croatian\" href=\"departments_and_officials/purchasing/bid_center.php#\">Croatian</a>,\n",
       " <a class=\"Czech\" data-lang=\"Czech\" href=\"departments_and_officials/purchasing/bid_center.php#\">Czech</a>,\n",
       " <a class=\"Danish\" data-lang=\"Danish\" href=\"departments_and_officials/purchasing/bid_center.php#\">Danish</a>,\n",
       " <a class=\"Dutch\" data-lang=\"Dutch\" href=\"departments_and_officials/purchasing/bid_center.php#\">Dutch</a>,\n",
       " <a class=\"English\" data-lang=\"English\" href=\"departments_and_officials/purchasing/bid_center.php#\">English</a>,\n",
       " <a class=\"Esperanto\" data-lang=\"Esperanto\" href=\"departments_and_officials/purchasing/bid_center.php#\">Esperanto</a>,\n",
       " <a class=\"Estonian\" data-lang=\"Estonian\" href=\"departments_and_officials/purchasing/bid_center.php#\">Estonian</a>,\n",
       " <a class=\"Filipino\" data-lang=\"Filipino\" href=\"departments_and_officials/purchasing/bid_center.php#\">Filipino</a>,\n",
       " <a class=\"Finnish\" data-lang=\"Finnish\" href=\"departments_and_officials/purchasing/bid_center.php#\">Finnish</a>,\n",
       " <a class=\"French\" data-lang=\"French\" href=\"departments_and_officials/purchasing/bid_center.php#\">French</a>,\n",
       " <a class=\"Galician\" data-lang=\"Galician\" href=\"departments_and_officials/purchasing/bid_center.php#\">Galician</a>,\n",
       " <a class=\"Georgian\" data-lang=\"Georgian\" href=\"departments_and_officials/purchasing/bid_center.php#\">Georgian</a>,\n",
       " <a class=\"German\" data-lang=\"German\" href=\"departments_and_officials/purchasing/bid_center.php#\">German</a>,\n",
       " <a class=\"Greek\" data-lang=\"Greek\" href=\"departments_and_officials/purchasing/bid_center.php#\">Greek</a>,\n",
       " <a class=\"Gujarati\" data-lang=\"Gujarati\" href=\"departments_and_officials/purchasing/bid_center.php#\">Gujarati</a>,\n",
       " <a class=\"Haitian Creole\" data-lang=\"Haitian Creole\" href=\"departments_and_officials/purchasing/bid_center.php#\">Haitian Creole</a>,\n",
       " <a class=\"Hausa\" data-lang=\"Hausa\" href=\"departments_and_officials/purchasing/bid_center.php#\">Hausa</a>,\n",
       " <a class=\"Hebrew\" data-lang=\"Hebrew\" href=\"departments_and_officials/purchasing/bid_center.php#\">Hebrew</a>,\n",
       " <a class=\"Hindi\" data-lang=\"\" href=\"departments_and_officials/purchasing/bid_center.php#\">Hindi</a>,\n",
       " <a class=\"Hmong\" data-lang=\"Hmong\" href=\"departments_and_officials/purchasing/bid_center.php#\">Hmong</a>,\n",
       " <a class=\"Hungarian\" data-lang=\"Hungarian\" href=\"departments_and_officials/purchasing/bid_center.php#\">Hungarian</a>,\n",
       " <a class=\"Icelandic\" data-lang=\"Icelandic\" href=\"departments_and_officials/purchasing/bid_center.php#\">Icelandic</a>,\n",
       " <a class=\"Igbo\" data-lang=\"Igbo\" href=\"departments_and_officials/purchasing/bid_center.php#\">Igbo</a>,\n",
       " <a class=\"Indonesian\" data-lang=\"Indonesian\" href=\"departments_and_officials/purchasing/bid_center.php#\">Indonesian</a>,\n",
       " <a class=\"Irish\" data-lang=\"Irish\" href=\"departments_and_officials/purchasing/bid_center.php#\">Irish</a>,\n",
       " <a class=\"Italian\" data-lang=\"Italian\" href=\"departments_and_officials/purchasing/bid_center.php#\">Italian</a>,\n",
       " <a class=\"Japanese\" data-lang=\"Japanese\" href=\"departments_and_officials/purchasing/bid_center.php#\">Japanese</a>,\n",
       " <a class=\"Javanese\" data-lang=\"Javanese\" href=\"departments_and_officials/purchasing/bid_center.php#\">Javanese</a>,\n",
       " <a class=\"Kannada\" data-lang=\"Kannada\" href=\"departments_and_officials/purchasing/bid_center.php#\">Kannada</a>,\n",
       " <a class=\"Khmer\" data-lang=\"Khmer\" href=\"departments_and_officials/purchasing/bid_center.php#\">Khmer</a>,\n",
       " <a class=\"Korean\" data-lang=\"Korean\" href=\"departments_and_officials/purchasing/bid_center.php#\">Korean</a>,\n",
       " <a class=\"Lao\" data-lang=\"Lao\" href=\"departments_and_officials/purchasing/bid_center.php#\">Lao</a>,\n",
       " <a class=\"Latin\" data-lang=\"Latin\" href=\"departments_and_officials/purchasing/bid_center.php#\">Latin</a>,\n",
       " <a class=\"Latvian\" data-lang=\"Latvian\" href=\"departments_and_officials/purchasing/bid_center.php#\">Latvian</a>,\n",
       " <a class=\"Lithuanian\" data-lang=\"Lithuanian\" href=\"departments_and_officials/purchasing/bid_center.php#\">Lithuanian</a>,\n",
       " <a class=\"Macedonian\" data-lang=\"Macedonian\" href=\"departments_and_officials/purchasing/bid_center.php#\">Macedonian</a>,\n",
       " <a class=\"Malay\" data-lang=\"Malay\" href=\"departments_and_officials/purchasing/bid_center.php#\">Malay</a>,\n",
       " <a class=\"Maltese\" data-lang=\"Maltese\" href=\"departments_and_officials/purchasing/bid_center.php#\">Maltese</a>,\n",
       " <a class=\"Maori\" data-lang=\"Maori\" href=\"departments_and_officials/purchasing/bid_center.php#\">Maori</a>,\n",
       " <a class=\"Marathi\" data-lang=\"Marathi\" href=\"departments_and_officials/purchasing/bid_center.php#\">Marathi</a>,\n",
       " <a class=\"Mongolian\" data-lang=\"Mongolian\" href=\"departments_and_officials/purchasing/bid_center.php#\">Mongolian</a>,\n",
       " <a class=\"Nepali\" data-lang=\"Nepali\" href=\"departments_and_officials/purchasing/bid_center.php#\">Nepali</a>,\n",
       " <a class=\"Norwegian\" data-lang=\"Norwegian\" href=\"departments_and_officials/purchasing/bid_center.php#\">Norwegian</a>,\n",
       " <a class=\"Persian\" data-lang=\"Persian\" href=\"departments_and_officials/purchasing/bid_center.php#\">Persian</a>,\n",
       " <a class=\"Polish\" data-lang=\"Polish\" href=\"departments_and_officials/purchasing/bid_center.php#\">Polish</a>,\n",
       " <a class=\"Portuguese\" data-lang=\"Portuguese\" href=\"departments_and_officials/purchasing/bid_center.php#\">Portuguese</a>,\n",
       " <a class=\"Punjabi\" data-lang=\"Punjabi\" href=\"departments_and_officials/purchasing/bid_center.php#\">Punjabi</a>,\n",
       " <a class=\"Romanian\" data-lang=\"Romanian\" href=\"departments_and_officials/purchasing/bid_center.php#\">Romanian</a>,\n",
       " <a class=\"Russian\" data-lang=\"Russian\" href=\"departments_and_officials/purchasing/bid_center.php#\">Russian</a>,\n",
       " <a class=\"Serbian\" data-lang=\"Serbian\" href=\"departments_and_officials/purchasing/bid_center.php#\">Serbian</a>,\n",
       " <a class=\"Slovak\" data-lang=\"Slovak\" href=\"departments_and_officials/purchasing/bid_center.php#\">Slovak</a>,\n",
       " <a class=\"Slovenian\" data-lang=\"Slovenian\" href=\"departments_and_officials/purchasing/bid_center.php#\">Slovenian</a>,\n",
       " <a class=\"Somali\" data-lang=\"Somali\" href=\"departments_and_officials/purchasing/bid_center.php#\">Somali</a>,\n",
       " <a class=\"Spanish\" data-lang=\"Spanish\" href=\"departments_and_officials/purchasing/bid_center.php#\">Spanish</a>,\n",
       " <a class=\"Swahili\" data-lang=\"Swahili\" href=\"departments_and_officials/purchasing/bid_center.php#\">Swahili</a>,\n",
       " <a class=\"Swedish\" data-lang=\"Swedish\" href=\"departments_and_officials/purchasing/bid_center.php#\">Swedish</a>,\n",
       " <a class=\"Tamil\" data-lang=\"Tamil\" href=\"departments_and_officials/purchasing/bid_center.php#\">Tamil</a>,\n",
       " <a class=\"Telugu\" data-lang=\"Telugu\" href=\"departments_and_officials/purchasing/bid_center.php#\">Telugu</a>,\n",
       " <a class=\"Thai\" data-lang=\"Thai\" href=\"departments_and_officials/purchasing/bid_center.php#\">Thai</a>,\n",
       " <a class=\"Turkish\" data-lang=\"Turkish\" href=\"departments_and_officials/purchasing/bid_center.php#\">Turkish</a>,\n",
       " <a class=\"Ukrainian\" data-lang=\"Ukrainian\" href=\"departments_and_officials/purchasing/bid_center.php#\">Ukrainian</a>,\n",
       " <a class=\"Urdu\" data-lang=\"Urdu\" href=\"departments_and_officials/purchasing/bid_center.php#\">Urdu</a>,\n",
       " <a class=\"Vietnamese\" data-lang=\"Vietnamese\" href=\"departments_and_officials/purchasing/bid_center.php#\">Vietnamese</a>,\n",
       " <a class=\"Welsh\" data-lang=\"Welsh\" href=\"departments_and_officials/purchasing/bid_center.php#\">Welsh</a>,\n",
       " <a class=\"Yiddish\" data-lang=\"Yiddish\" href=\"departments_and_officials/purchasing/bid_center.php#\">Yiddish</a>,\n",
       " <a class=\"Yoruba\" data-lang=\"Yoruba\" href=\"departments_and_officials/purchasing/bid_center.php#\">Yoruba</a>,\n",
       " <a class=\"Zulu\" data-lang=\"Zulu\" href=\"departments_and_officials/purchasing/bid_center.php#\">Zulu</a>,\n",
       " <a href=\"./\" id=\"logo\"><h1><span class=\"sr-only\">Ingham County</span><img alt=\"describe site\" src=\"_assets_/images/logo.png\"/></h1></a>,\n",
       " <a class=\"menuA level0 menuDisplay\" href=\"online_services/index.php\" target=\"_self\">Online Services</a>,\n",
       " <a class=\"menuA level0 menuDisplay\" href=\"departments_and_officials/index.php\" target=\"_self\">Departments &amp; Officials</a>,\n",
       " <a class=\"menuA level1 menuHidden\" href=\"departments_and_officials/animal_control/index.php\" target=\"_self\">Animal Control</a>,\n",
       " <a class=\"menuA level1 menuHidden\" href=\"departments_and_officials/board_of_commissioners/index.php\" target=\"_self\">Board of Commissioners</a>,\n",
       " <a class=\"menuA level1 menuHidden\" href=\"departments_and_officials/community_corrections/index.php\" target=\"_self\">Community Corrections</a>,\n",
       " <a class=\"menuA level1 menuHidden\" href=\"departments_and_officials/controller/index.php\" target=\"_self\">Controller</a>,\n",
       " <a class=\"menuA level1 menuHidden\" href=\"departments_and_officials/county_clerk/index.php\" target=\"_self\">County Clerk</a>,\n",
       " <a class=\"menuA level1 menuHidden\" href=\"departments_and_officials/dei/index.php\" target=\"_self\">Diversity, Equity and Inclusion</a>,\n",
       " <a class=\"menuA level1 menuHidden\" href=\"departments_and_officials/drain_commission/index.php\" target=\"_self\">Drain Commissioner</a>,\n",
       " <a class=\"menuA level1 menuHidden\" href=\"departments_and_officials/economic_development/index.php\" target=\"_self\">Economic Development</a>,\n",
       " <a class=\"menuA level1 menuHidden\" href=\"departments_and_officials/equalization/index.php\" target=\"_self\">Equalization</a>,\n",
       " <a class=\"menuA level1 menuHidden\" href=\"departments_and_officials/facilities/index.php\" target=\"_self\">Facilities</a>,\n",
       " <a class=\"menuA level1 menuHidden\" href=\"departments_and_officials/farmland_open_spaces_preservation/index.php\" target=\"_self\">Farmland &amp; Open Spaces Preservation</a>,\n",
       " <a class=\"menuA level1 menuHidden\" href=\"departments_and_officials/financial_services/index.php\" target=\"_self\">Financial Services</a>,\n",
       " <a class=\"menuA level1 menuHidden\" href=\"departments_and_officials/housing_commission/index.php\" target=\"_self\">Housing Commission</a>,\n",
       " <a class=\"menuA level1 menuHidden\" href=\"departments_and_officials/innovation_and_technology/index.php\" target=\"_self\">Innovation and Technology</a>,\n",
       " <a class=\"menuA level1 menuHidden\" href=\"departments_and_officials/msu_extention.php\" target=\"_self\">MSU Extension</a>,\n",
       " <a class=\"menuA level1 menuHidden\" href=\"departments_and_officials/purchasing/index.php\" target=\"_self\">Purchasing</a>,\n",
       " <a class=\"menuA level1 menuHidden\" href=\"departments_and_officials/register_of_deeds/index.php\" target=\"_self\">Register of Deeds</a>,\n",
       " <a class=\"menuA level1 menuHidden\" href=\"departments_and_officials/roads/index.php\" target=\"_self\">Road Department</a>,\n",
       " <a class=\"menuA level1 menuHidden\" href=\"departments_and_officials/treasurer/index.php\" target=\"_self\">Treasurer's Office</a>,\n",
       " <a class=\"menuA level0 menuDisplay\" href=\"courts_and_sheriff/index.php\" target=\"_self\">Courts &amp; Sheriff</a>,\n",
       " <a class=\"menuA level1 menuHidden\" href=\"courts_and_sheriff/circuit_court/index.php\" target=\"_self\">30th Judicial Circuit Court</a>,\n",
       " <a class=\"menuA level1 menuHidden\" href=\"courts_and_sheriff/55th_judicial_district_court/index.php\" target=\"_self\">55th Judicial District Court</a>,\n",
       " <a class=\"menuA level1 menuHidden\" href=\"courts_and_sheriff/friend_of_the_court/index.php\" target=\"_self\">Friend of the Court</a>,\n",
       " <a class=\"menuA level1 menuHidden\" href=\"courts_and_sheriff/jury_administration/index.php\" target=\"_self\">Jury Administration</a>,\n",
       " <a class=\"menuA level1 menuHidden\" href=\"courts_and_sheriff/public_defender/index.php\" target=\"_self\">Public Defender</a>,\n",
       " <a class=\"menuA level1 menuHidden\" href=\"courts_and_sheriff/probate_court/index.php\" target=\"_self\">Probate Court</a>,\n",
       " <a class=\"menuA level1 menuHidden\" href=\"courts_and_sheriff/prosecuting_attorney/index.php\" target=\"_self\">Prosecuting Attorney</a>,\n",
       " <a class=\"menuA level1 menuHidden\" href=\"courts_and_sheriff/sheriffs_office/index.php\" target=\"_self\">Sheriff's Office</a>,\n",
       " <a class=\"menuA level1 menuHidden\" href=\"courts_and_sheriff/youth_center/index.php\" target=\"_self\">Ingham County Youth Center</a>,\n",
       " <a class=\"menuA level0 menuDisplay\" href=\"parks___recreation/index.php\" target=\"_self\">Parks &amp; Rec</a>,\n",
       " <a class=\"menuA level0 menuDisplay\" href=\"health_and_safety/index.php\" target=\"_self\">Health &amp; Safety</a>,\n",
       " <a class=\"menuA level1 menuHidden\" href=\"index_health.php\" target=\"_self\">Health Department</a>,\n",
       " <a class=\"menuA level1 menuHidden\" href=\"health_and_safety/911/index.php\" target=\"_self\">Ingham County 911</a>,\n",
       " <a class=\"menuA level1 menuHidden\" href=\"departments_and_officials/animal_control/index.php\" target=\"_self\">Animal Control</a>,\n",
       " <a class=\"menuA level0 menuDisplay\" href=\"contacts/index.php\" target=\"_self\">Contacts</a>,\n",
       " <a class=\"navigation-image\" href=\"./\" style=\"background:url('nimage-1.jpg') center no-repeat;background-size:cover\">\n",
       " <span></span>\n",
       " </a>,\n",
       " <a class=\"navigation-image\" href=\"./\" style=\"background:url('nimage-1.jpg') center no-repeat;background-size:cover\">\n",
       " <span>Caption for this clickable image 2</span>\n",
       " </a>,\n",
       " <a class=\"navigation-image\" href=\"./\" style=\"background:url('nimage-1.jpg') center no-repeat;background-size:cover\">\n",
       " <span>Caption for this clickable image 3</span>\n",
       " </a>,\n",
       " <a class=\"navigation-image\" href=\"./\" style=\"background:url('nimage-1.jpg') center no-repeat;background-size:cover\">\n",
       " <span>Caption for this clickable image 4</span>\n",
       " </a>,\n",
       " <a class=\"navigation-image\" href=\"./\" style=\"background:url('nimage-1.jpg') center no-repeat;background-size:cover\">\n",
       " <span>Caption for this clickable image 5</span>\n",
       " </a>,\n",
       " <a class=\"navigation-image\" href=\"./\" style=\"background:url('nimage-1.jpg') center no-repeat;background-size:cover\">\n",
       " <span>Caption for this clickable image 6</span>\n",
       " </a>,\n",
       " <a class=\"navigation-image\" href=\"./\" style=\"background:url('nimage-1.jpg') center no-repeat;background-size:cover\">\n",
       " <span>Caption for this clickable image 7</span>\n",
       " </a>,\n",
       " <a class=\"menuA level0 menuSelectedLevel first\" href=\"departments_and_officials/purchasing/index.php\" target=\"_self\">Purchasing Home</a>,\n",
       " <a class=\"menuA level0 menuSelectedLevel\" href=\"departments_and_officials/purchasing/contact_us.php\" target=\"_self\">Contact Us</a>,\n",
       " <a class=\"menuA level0 menuSelectedLevel\" href=\"Department/Purchasing/Vendor Standard of Conduct.pdf\" target=\"_blank\">Vendor Standard of Conduct</a>,\n",
       " <a class=\"menuA level0 menuSelectedLevel\" href=\"departments_and_officials/purchasing/bidding_methods___procedures.php\" target=\"_self\">Bidding Methods &amp; Procedures</a>,\n",
       " <a class=\"menuA level0 menuSelectedItem\" href=\"departments_and_officials/purchasing/bid_center.php\" target=\"_self\">Bid Center</a>,\n",
       " <a class=\"menuA level0 menuSelectedLevel\" href=\"departments_and_officials/purchasing/directions.php\" target=\"_self\">Directions</a>,\n",
       " <a class=\"menuA level0 menuSelectedLevel\" href=\"departments_and_officials/purchasing/forms.php\" target=\"_self\">Forms</a>,\n",
       " <a class=\"menuA level0 menuSelectedLevel\" href=\"departments_and_officials/purchasing/policies.php\" target=\"_self\">Policies</a>,\n",
       " <a class=\"menuA level0 menuSelectedLevel\" href=\"departments_and_officials/purchasing/procurement_guide.php\" target=\"_self\">Procurement Guide</a>,\n",
       " <a class=\"menuA level0 menuSelectedLevel\" href=\"departments_and_officials/purchasing/terms_and_conditions.php\" target=\"_self\">Terms &amp;  Conditions</a>,\n",
       " <a href=\"./\">Home</a>,\n",
       " <a href=\"departments_and_officials/purchasing/index.php\">Purchasing</a>,\n",
       " <a href=\"departments_and_officials/purchasing/BidQuestions.php\" target=\"_self\">Click Here</a>,\n",
       " <a href=\"departments_and_officials/purchasing/BidQuestions.php\" target=\"_self\">Click Here</a>]"
      ]
     },
     "execution_count": 9,
     "metadata": {},
     "output_type": "execute_result"
    }
   ],
   "source": [
    "r.schemes[\"\"]"
   ]
  },
  {
   "cell_type": "code",
   "execution_count": 10,
   "id": "ff24d02b-b19b-49e5-83ca-f534323680ba",
   "metadata": {},
   "outputs": [
    {
     "data": {
      "text/plain": [
       "[<a class=\"menuA level1 menuHidden\" href=\"http://pe.ingham.org\" target=\"_new\">Human Resources</a>,\n",
       " <a class=\"menuA level1 menuHidden\" href=\"http://va.ingham.org\" target=\"_new\">Veterans Affairs</a>,\n",
       " <a class=\"menuA level1 menuHidden\" href=\"http://parks.ingham.org\" target=\"_new\">Ingham County Parks</a>,\n",
       " <a class=\"menuA level1 menuHidden\" href=\"http://cms3.revize.com/revize/inghamfair/index.php\" target=\"_new\">Ingham County Fairgrounds</a>,\n",
       " <a class=\"menuA level0 menuDisplay\" href=\"http://emergency.ingham.org\" target=\"_new\">Emergencies</a>,\n",
       " <a href=\"http://bc.ingham.org/Resolutions/tabid/2220/articleType/CategoryView/CategoryID/7/currentpage/3/Default.aspx\" target=\"_blank\">Resolution<br/>20-219</a>,\n",
       " <a href=\"http://bc.ingham.org/Resolutions/tabid/2220/articleType/ArchiveView/year/2019/Default.aspx\">See Resolution<br/>19-029</a>,\n",
       " <a href=\"http://bc.ingham.org/Resolutions/tabid/2220/articleType/CategoryView/CategoryID/17/currentpage/8/Default.aspx\">See Resolution<br/>19-044</a>,\n",
       " <a href=\"http://bc.ingham.org/Resolutions/tabid/2220/articleType/ArchiveView/Year/2018/currentpage/10/Default.aspx\">See<br/>Resolution<br/>18-473 for<br/>more information</a>]"
      ]
     },
     "execution_count": 10,
     "metadata": {},
     "output_type": "execute_result"
    }
   ],
   "source": [
    "r.schemes[\"http\"]"
   ]
  },
  {
   "cell_type": "code",
   "execution_count": 11,
   "id": "c7c684d3-e3a0-49d2-9ae0-c14435364565",
   "metadata": {},
   "outputs": [
    {
     "name": "stdout",
     "output_type": "stream",
     "text": [
      "                                  \t141\n",
      "pe.ingham.org                     \t1\n",
      "va.ingham.org                     \t1\n",
      "parks.ingham.org                  \t1\n",
      "cms3.revize.com                   \t2\n",
      "potterparkzoo.org                 \t1\n",
      "emergency.ingham.org              \t1\n",
      "apps.ingham.org                   \t2\n",
      "www.irs.gov                       \t1\n",
      "pu.ingham.org                     \t1\n",
      "inghamcnty.sharepoint.com         \t464\n",
      "inghamcnty-my.sharepoint.com      \t4\n",
      "bc.ingham.org                     \t4\n",
      "grangerconstruction-my.sharepoint.com\t2\n",
      "www.facebook.com                  \t1\n",
      "www.twitter.com                   \t1\n",
      "www.reddit.com                    \t1\n"
     ]
    }
   ],
   "source": [
    "for item in r.domains.keys():\n",
    "    print(f\"{item.ljust(34,' ')}\\t{len(r.domains[item])}\")"
   ]
  },
  {
   "cell_type": "code",
   "execution_count": null,
   "id": "6961bf36-9310-44b8-874a-0a6cbe3eab3a",
   "metadata": {},
   "outputs": [],
   "source": [
    "for link in r.domains[\"\"]:\n",
    "    print(link)\n",
    "    # print(link.parent.parent)\n",
    "    print()\n",
    "    print()"
   ]
  },
  {
   "cell_type": "code",
   "execution_count": null,
   "id": "235aa7de-33fd-4d09-8819-c77a9e7ee377",
   "metadata": {
    "tags": []
   },
   "outputs": [],
   "source": [
    "st = True\n",
    "for l in r.links:\n",
    "    url = l.attrs[\"href\"]\n",
    "    if url == \"departments_and_officials/purchasing/bid_center.php#\":\n",
    "        continue\n",
    "    if url == \"./\":\n",
    "        continue\n",
    "    if st:\n",
    "        if url != \"departments_and_officials/purchasing/BidQuestions.php\":\n",
    "            continue\n",
    "        else:\n",
    "            st = False\n",
    "    print(url)"
   ]
  },
  {
   "cell_type": "code",
   "execution_count": 27,
   "id": "c439d32a-741b-417f-b5f4-653410e3f720",
   "metadata": {},
   "outputs": [],
   "source": [
    "s = {}"
   ]
  },
  {
   "cell_type": "code",
   "execution_count": 27,
   "id": "8fad1fda-cfc0-470f-8a71-81efe6e1f642",
   "metadata": {},
   "outputs": [],
   "source": [
    "def check_link(url):\n",
    "    url = \"https://pu_dev.ingham.org/\" + url\n",
    "    if url in s:\n",
    "        return s[url]\n",
    "    print(\"checking \" + url)\n",
    "    res = requests.get(url)\n",
    "    if not str(res.status_code).startswith(\"2\"):\n",
    "        s[url] = False\n",
    "        return False\n",
    "    s[url] = True\n",
    "    return True"
   ]
  },
  {
   "cell_type": "code",
   "execution_count": 31,
   "id": "fbc5681d-ce34-4379-87a5-782dba0af133",
   "metadata": {},
   "outputs": [],
   "source": [
    "for u in [link.attrs[\"href\"] for link in r.domains[\"\"]]:\n",
    "    if not check_link(u):\n",
    "        print(u)"
   ]
  },
  {
   "cell_type": "code",
   "execution_count": null,
   "id": "e216a260-8eb4-4593-ac08-6465a1ef7b86",
   "metadata": {},
   "outputs": [],
   "source": []
  }
 ],
 "metadata": {
  "kernelspec": {
   "display_name": "Python 3 (ipykernel)",
   "language": "python",
   "name": "python3"
  },
  "language_info": {
   "codemirror_mode": {
    "name": "ipython",
    "version": 3
   },
   "file_extension": ".py",
   "mimetype": "text/x-python",
   "name": "python",
   "nbconvert_exporter": "python",
   "pygments_lexer": "ipython3",
   "version": "3.10.6"
  },
  "widgets": {
   "application/vnd.jupyter.widget-state+json": {
    "state": {},
    "version_major": 2,
    "version_minor": 0
   }
  }
 },
 "nbformat": 4,
 "nbformat_minor": 5
}
