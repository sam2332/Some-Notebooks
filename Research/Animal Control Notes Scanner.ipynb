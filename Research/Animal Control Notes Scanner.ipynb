{
    "cells": [
        {
            "cell_type": "markdown",
            "id": "d6305412-26fa-41e1-b93b-dad5bddbeee4",
            "metadata": {},
            "source": [
                "# Warning\n",
                "this data is for educational use only and does not represent all breeds or species equally"
            ]
        },
        {
            "cell_type": "code",
            "execution_count": 1,
            "id": "1252afcb-1e15-49b3-9c55-8036fd4b5045",
            "metadata": {},
            "outputs": [],
            "source": [
                "from collections import defaultdict"
            ]
        },
        {
            "cell_type": "code",
            "execution_count": 2,
            "id": "987a8fd4-a5cb-4e8a-b3a2-2ae7f292459a",
            "metadata": {},
            "outputs": [],
            "source": [
                "import csv\n",
                "def yieldcsv(file):\n",
                "    with open(file,'r', encoding='utf-8-sig') as f:\n",
                "        DictReader_obj = csv.DictReader(f)\n",
                "        for item in DictReader_obj:\n",
                "            yield(dict(item))"
            ]
        },
        {
            "cell_type": "code",
            "execution_count": 49,
            "id": "d711b6ef-3cb0-425c-b376-b6f8ab1247a6",
            "metadata": {},
            "outputs": [],
            "source": [
                "def chain(*iterables):\n",
                "    for it in iterables:\n",
                "        for element in it:\n",
                "            yield element"
            ]
        },
        {
            "cell_type": "code",
            "execution_count": 3,
            "id": "2c79e52d-b4a8-466d-a2bc-d4d5fd526678",
            "metadata": {},
            "outputs": [],
            "source": [
                "def buildKeyValueFromCsv(file,key_item,value_item):\n",
                "    out ={}\n",
                "    for line in yieldcsv(file):\n",
                "        \n",
                "        if type(key_item) == list:\n",
                "            key = []\n",
                "            for i in key_item:\n",
                "                key.append(line[i])\n",
                "            key = tuple(key)\n",
                "        else:\n",
                "            key = line[key_item]\n",
                "            \n",
                "        if type(value_item) == list:\n",
                "            value = []\n",
                "            for i in value_item:\n",
                "                value.append(line[i])\n",
                "            value = tuple(value)\n",
                "        if value_item is None:\n",
                "            value = line\n",
                "        else:\n",
                "            value = line[value_item]\n",
                "            \n",
                "        out[key] = value\n",
                "    return out"
            ]
        },
        {
            "cell_type": "code",
            "execution_count": 50,
            "id": "eb94f2b2-356a-4b76-a1f7-1627f9075f6b",
            "metadata": {},
            "outputs": [],
            "source": [
                "breed_lookup = buildKeyValueFromCsv('Breeds.csv',['sysSpeciesID','sysBreedsID'],'Breed')\n",
                "sizes_lookup = buildKeyValueFromCsv('Sizes.csv',['sysSpeciesID','sysSizeChoicesID'],'SizeType')\n",
                "species_lookup = buildKeyValueFromCsv('Species.csv','sysSpeciesID','Species')\n",
                "nonpits = buildKeyValueFromCsv('NonPits.csv','tblAnimalsID',None)\n",
                "pits = buildKeyValueFromCsv('Pits.csv','tblAnimalsID',None)\n",
                "masterlist = {}\n",
                "masterlist.update(pits)\n",
                "masterlist.update(nonpits)\n",
                "triggers = ['bite','aggressive','fight','bitten','tranq','attacked','killed']\n",
                "matchedBreeds=defaultdict(list)"
            ]
        },
        {
            "cell_type": "code",
            "execution_count": 72,
            "id": "d80d10ce-4c7a-4d55-88d5-c2488eaa4f6e",
            "metadata": {},
            "outputs": [],
            "source": [
                "matchedSpecies=defaultdict(int)\n",
                "for line in yieldcsv('PitsNotes.csv'):\n",
                "    if any([v in line['Note'] for v in triggers]):\n",
                "        if line['tblAnimalsID'] not in masterlist:\n",
                "            continue\n",
                "        animal = masterlist[line['tblAnimalsID']]\n",
                "        matchedSpecies[animal['sysSpeciesID']]+=1\n",
                "    \n",
                "for line in yieldcsv('NonPitNotes.csv'):\n",
                "    if any([v in line['Note'] for v in triggers]):\n",
                "        if line['tblAnimalsID'] not in masterlist:\n",
                "            continue\n",
                "        animal = masterlist[line['tblAnimalsID']]\n",
                "        matchedSpecies[animal['sysSpeciesID']]+=1\n",
                "    \n",
                "for item in sorted(matchedSpecies,key=lambda a: matchedSpecies[a]):\n",
                "    name = \"unknown\"\n",
                "    if item in species_lookup:\n",
                "        name = species_lookup[item]\n",
                "    print(name, matchedSpecies[item])\n",
                "    "
            ]
        },
        {
            "cell_type": "code",
            "execution_count": 66,
            "id": "2521022a-1562-462f-8ef8-fb4a145f9123",
            "metadata": {},
            "outputs": [],
            "source": [
                "f =0\n",
                "nf=0\n",
                "for line in yieldcsv('PitsNotes.csv'):\n",
                "    if any([v in line['Note'] for v in triggers]):\n",
                "        f +=1\n",
                "        if line['tblAnimalsID'] not in masterlist:\n",
                "            continue\n",
                "        animal = masterlist[line['tblAnimalsID']]\n",
                "        if animal['sysSpeciesID'] != \"1\":\n",
                "            continue\n",
                "        if animal['sysBreedSecondaryID'] =='NULL':\n",
                "            secondary = \"\"\n",
                "        else:\n",
                "            if (animal['sysSpeciesID'],animal['sysBreedSecondaryID']) not in breed_lookup:\n",
                "                secondary = \"Unknown\"\n",
                "            else:\n",
                "                secondary = breed_lookup[(animal['sysSpeciesID'],animal['sysBreedSecondaryID'])]\n",
                "        if animal['sysBreedPrimaryID'] ==\"NULL\":\n",
                "            primary = \"\"\n",
                "        else:\n",
                "            primary = breed_lookup[(animal['sysSpeciesID'],animal['sysBreedPrimaryID'])]\n",
                "        breed = primary +\" \"+secondary\n",
                "        matchedBreeds[breed].append(line)\n",
                "    else:\n",
                "        nf +=1\n",
                "print(f'{f} items match keywords')\n",
                "print(f'{nf} items do not match  keywords')"
            ]
        },
        {
            "cell_type": "code",
            "execution_count": 67,
            "id": "2eba66d2-fd77-4fea-a3a6-39287dce13e1",
            "metadata": {},
            "outputs": [],
            "source": [
                "(f/(nf+f))*100"
            ]
        },
        {
            "cell_type": "code",
            "execution_count": 68,
            "id": "c80836f8-c5e4-4305-80af-f707d8ad149d",
            "metadata": {
                "tags": []
            },
            "outputs": [],
            "source": [
                "f =0\n",
                "nf=0\n",
                "for line in yieldcsv('NonPitNotes.csv'):\n",
                "    if any([v in line['Note'] for v in triggers]):\n",
                "        f +=1\n",
                "        if line['tblAnimalsID'] not in masterlist:\n",
                "            continue\n",
                "        animal = masterlist[line['tblAnimalsID']]\n",
                "        if animal['sysSpeciesID'] != \"1\":\n",
                "            continue\n",
                "        if animal['sysBreedSecondaryID'] =='NULL':\n",
                "            secondary = \"\"\n",
                "        else:\n",
                "            secondary = breed_lookup[(animal['sysSpeciesID'],animal['sysBreedSecondaryID'])]\n",
                "        if animal['sysBreedPrimaryID'] ==\"NULL\":\n",
                "            primary = \"\"\n",
                "        else:\n",
                "            primary = breed_lookup[(animal['sysSpeciesID'],animal['sysBreedPrimaryID'])]\n",
                "        breed = primary +\" \"+secondary\n",
                "        matchedBreeds[breed].append(line)\n",
                "    else:\n",
                "        nf +=1\n",
                "print(f'{f} items match keywords')\n",
                "print(f'{nf} items do not match keywords')"
            ]
        },
        {
            "cell_type": "code",
            "execution_count": 69,
            "id": "de2477c2-0113-4ac9-b612-e81c0dd86c94",
            "metadata": {},
            "outputs": [],
            "source": [
                "(f/(nf+f))*100"
            ]
        },
        {
            "cell_type": "code",
            "execution_count": 70,
            "id": "2fa25ade-33a4-4921-8a61-0d7d48b9890c",
            "metadata": {
                "tags": []
            },
            "outputs": [],
            "source": [
                "for i in sorted(matchedBreeds,key=lambda a: len(matchedBreeds[a])):\n",
                "    print(i.ljust(len(max(matchedBreeds.keys(),key=len)),' '), '#'*len(matchedBreeds[i]))"
            ]
        },
        {
            "cell_type": "raw",
            "id": "e3f24df9-556e-4567-b3c6-d5e5fe1c9ce7",
            "metadata": {
                "tags": []
            },
            "source": []
        },
        {
            "cell_type": "code",
            "execution_count": null,
            "id": "ed9ad88f-8ad6-4682-b04c-8c17bc0bf4b6",
            "metadata": {},
            "outputs": [],
            "source": []
        },
        {
            "cell_type": "code",
            "execution_count": null,
            "id": "5125bae1-e26e-45d0-821c-bbf6f5a4f8b0",
            "metadata": {},
            "outputs": [],
            "source": []
        }
    ],
    "metadata": {
        "kernelspec": {
            "display_name": "Python 3 (ipykernel)",
            "language": "python",
            "name": "python3"
        },
        "language_info": {
            "codemirror_mode": {
                "name": "ipython",
                "version": 3
            },
            "file_extension": ".py",
            "mimetype": "text/x-python",
            "name": "python",
            "nbconvert_exporter": "python",
            "pygments_lexer": "ipython3",
            "version": "3.8.10"
        }
    },
    "nbformat": 4,
    "nbformat_minor": 5
}