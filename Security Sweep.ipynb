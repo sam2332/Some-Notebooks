{
 "cells": [
  {
   "cell_type": "code",
   "execution_count": 1,
   "metadata": {},
   "outputs": [],
   "source": [
    "from pathlib import Path"
   ]
  },
  {
   "cell_type": "code",
   "execution_count": 20,
   "metadata": {},
   "outputs": [],
   "source": [
    "tree = Path(\"./\")"
   ]
  },
  {
   "cell_type": "code",
   "execution_count": 15,
   "metadata": {},
   "outputs": [
    {
     "name": "stdout",
     "output_type": "stream",
     "text": [
      "/home/srudloff/github/__pycache__\n"
     ]
    }
   ],
   "source": [
    "delete_me = [\n",
    "    '.ipynb_checkpoints',\n",
    "    '__pycache__',\n",
    "    \".virtual_documents\"\n",
    "]\n",
    "def CleanTreeOfTrash(tree):\n",
    "    for item in tree.iterdir():\n",
    "        if item.is_dir():\n",
    "            if any([item.name == s for s in delete_me]):\n",
    "                print('Removing', item)\n",
    "                try:\n",
    "                    item.unlink()\n",
    "                except Exception:\n",
    "                    pass\n",
    "            else:\n",
    "                CleanTreeOfTrash(item)\n",
    "                        \n",
    "CleanTreeOfTrash(tree)"
   ]
  },
  {
   "cell_type": "code",
   "execution_count": 26,
   "metadata": {},
   "outputs": [
    {
     "data": {
      "text/plain": [
       "{PosixPath('/home/srudloff/github/Some-Notebooks/FileDrive.ipynb'): pw, password,\n",
       " PosixPath('/home/srudloff/github/Some-Notebooks/L4J Scanner.ipynb'): user,\n",
       " PosixPath('/home/srudloff/github/Some-Notebooks/Verify System Certs.ipynb'): auth, user,\n",
       " PosixPath('/home/srudloff/github/Some-Notebooks/WebView 3/Templates/Login.html'): password, auth, user,\n",
       " PosixPath('/home/srudloff/github/Some-Notebooks/WebView 3/Templates/Error.html'): auth,\n",
       " PosixPath('/home/srudloff/github/Some-Notebooks/WebView 3/Templates/partials/frame.html'): auth, user,\n",
       " PosixPath('/home/srudloff/github/Some-Notebooks/WebView 3/lastRender.html'): auth, user,\n",
       " PosixPath('/home/srudloff/github/Some-Notebooks/WebView 3/pages/loginPage.py'): password, user,\n",
       " PosixPath('/home/srudloff/github/Some-Notebooks/Reddit User Comment Scanner.ipynb'): pw, user,\n",
       " PosixPath('/home/srudloff/github/Some-Notebooks/Tsql Active Query Logger.ipynb'): password, auth, user,\n",
       " PosixPath('/home/srudloff/github/Some-Notebooks/random horns prank.ipynb'): user,\n",
       " PosixPath('/home/srudloff/github/Some-Notebooks/TSQL Log Login Attempt Extractor.ipynb'): password, auth, user}"
      ]
     },
     "execution_count": 26,
     "metadata": {},
     "output_type": "execute_result"
    }
   ],
   "source": [
    "from collections import defaultdict\n",
    "skip_folders=[\n",
    "    '.git',\n",
    "    '.virtual_documents'\n",
    "]\n",
    "class Result():\n",
    "    def __init__(self):\n",
    "        self.keys = []\n",
    "    def __repr__(self):\n",
    "        return ', '.join(self.keys)\n",
    "    \n",
    "def IterTree(tree):\n",
    "    discovered = defaultdict(Result)\n",
    "    for item in tree.iterdir():\n",
    "        if item.is_dir():\n",
    "            if item.name in skip_folders:\n",
    "                continue\n",
    "            discovered.update(IterTree(item))\n",
    "        else:\n",
    "            try:\n",
    "                data = item.read_text().lower()\n",
    "                for search in ['pw','password','token','cred','auth','bearer','user','client_secret']:\n",
    "                    if search in data:\n",
    "                        discovered[item].keys.append(search)\n",
    "            except UnicodeDecodeError:\n",
    "                pass\n",
    "            except Exception as e:\n",
    "                print(type(e),e)\n",
    "                print()\n",
    "    return dict(discovered)\n",
    "results = IterTree(tree)\n",
    "results"
   ]
  }
 ],
 "metadata": {
  "kernelspec": {
   "display_name": "Python 3 (ipykernel)",
   "language": "python",
   "name": "python3"
  },
  "language_info": {
   "codemirror_mode": {
    "name": "ipython",
    "version": 3
   },
   "file_extension": ".py",
   "mimetype": "text/x-python",
   "name": "python",
   "nbconvert_exporter": "python",
   "pygments_lexer": "ipython3",
   "version": "3.8.10"
  }
 },
 "nbformat": 4,
 "nbformat_minor": 4
}
