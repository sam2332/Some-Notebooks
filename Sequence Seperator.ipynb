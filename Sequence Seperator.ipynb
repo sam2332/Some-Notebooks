{
 "cells": [
  {
   "cell_type": "code",
   "execution_count": 45,
   "id": "316d3dd7-9f6b-4ae7-944e-f7c803729b3d",
   "metadata": {},
   "outputs": [
    {
     "name": "stdout",
     "output_type": "stream",
     "text": [
      "mass contains 17 points\n",
      "mass contains 35 points\n",
      "mass contains 11 points\n",
      "mass contains 23 points\n"
     ]
    }
   ],
   "source": [
    "class Mass():\n",
    "    def __init__(self, locs, start_x,start_y, search_distance=2):\n",
    "        \n",
    "        self.locs=locs\n",
    "        self.start_x = start_x\n",
    "        self.start_y = start_y\n",
    "        self.toSearch = []\n",
    "        self.search_distance = search_distance\n",
    "        self.points = []\n",
    "        self.addRelated((start_x,start_y))\n",
    "        self.processCells()\n",
    "        \n",
    "        \n",
    "        \n",
    "    def addRelated(self,point):\n",
    "        for i in range(1, self.search_distance):\n",
    "            self.toSearch.append((point[0]+i,point[1]))\n",
    "            self.toSearch.append((point[0]-i,point[1]))\n",
    "            self.toSearch.append((point[0],point[1]+i))\n",
    "            self.toSearch.append((point[0],point[1]-i))\n",
    "            self.toSearch.append((point[0]-i,point[1]-i))\n",
    "            self.toSearch.append((point[0]+i,point[1]-i))\n",
    "            self.toSearch.append((point[0]-i,point[1]+i))\n",
    "            self.toSearch.append((point[0]+i,point[1]+i))\n",
    "    \n",
    "    def processCells(self):\n",
    "        while len(self.toSearch ) > 0:\n",
    "            i = self.toSearch.pop()\n",
    "            if i in self.locs:\n",
    "                self.addRelated(i)\n",
    "                self.points.append(i)\n",
    "                self.locs.remove(i)\n",
    "                \n",
    "    def __repr__(self):\n",
    "        return f\" {len(self.points)}\"\n",
    "    def __gt__(self,other):\n",
    "        return len(self.points) > len(other.points)\n",
    "    \n",
    "def split_into_seperate_objects(l):\n",
    "    masses = []\n",
    "    while len(l)>0:\n",
    "        seed = l.pop()\n",
    "        mass = Mass(l, seed[0],seed[1])\n",
    "        if len(mass.points )<10:\n",
    "            continue\n",
    "        print('mass contains',len(mass.points),'points')\n",
    "        for item in mass.points:\n",
    "            if item in l:\n",
    "                l.remove(item)\n",
    "        masses.append(mass)\n",
    "    return masses\n",
    "def getLargestMass(l):\n",
    "    a = split_into_seperate_objects(l)\n",
    "    m =max(a)\n",
    "    return m\n",
    "a = getLargestMass([(153, 1026), (159, 1020), (163, 1016), (164, 1059), (167, 1012), (174, 1004), (178, 1061), (179, 1005), (179, 1061), (184, 1014), (198, 1061), (199, 1061), (208, 1060), (212, 96), (218, 1058), (297, 77), (308, 77), (391, 95), (393, 99), (399, 576), (405, 570), (958, 509), (958, 510), (959, 509), (959, 510), (960, 509), (960, 510), (970, 511), (970, 512), (971, 511), (971, 512), (979, 513), (979, 514), (980, 513), (980, 514), (981, 513), (981, 514), (982, 513), (982, 514), (992, 515), (992, 516), (993, 515), (993, 516), (1005, 517), (1006, 517), (1007, 517), (1021, 518), (1021, 519), (1022, 518), (1022, 519), (1023, 518), (1023, 519), (1024, 518), (1024, 519), (1025, 518), (1025, 519), (1026, 518), (1026, 519), (1027, 518), (1027, 519), (1028, 518), (1028, 519), (1029, 518), (1029, 519), (1030, 518), (1030, 519), (1030, 581), (1030, 582), (1030, 583), (1030, 584), (1031, 518), (1031, 519), (1031, 581), (1031, 582), (1031, 583), (1031, 584), (1032, 518), (1032, 519), (1032, 580), (1051, 520), (1051, 521), (1052, 520), (1052, 521), (1053, 520), (1053, 521), (1054, 520), (1054, 521), (1055, 520), (1055, 521), (1056, 520), (1056, 521), (1059, 583), (1059, 584), (1060, 583), (1060, 584), (1061, 583), (1061, 584), (1066, 522), (1066, 523), (1067, 522), (1067, 523), (1068, 522), (1068, 523), (1069, 522), (1069, 523), (1070, 522), (1070, 523), (1071, 522), (1071, 523), (1072, 522), (1072, 523), (1073, 522), (1073, 523), (1074, 522), (1074, 523), (1075, 522), (1075, 523), (1076, 522), (1076, 523), (1077, 522), (1077, 523), (1078, 522), (1078, 523), (1078, 580), (1079, 522), (1079, 523), (1079, 580), (1080, 522), (1080, 523), (1081, 522), (1081, 523), (1082, 522), (1082, 523), (1083, 522), (1083, 523), (1084, 578), (1084, 579), (1085, 578), (1085, 579), (1086, 578), (1086, 579), (1091, 576), (1091, 577), (1092, 576), (1092, 577), (1859, 226), (1861, 224), (1862, 223), (1863, 222), (1868, 219), (1870, 218), (1871, 218), (1873, 217), (1887, 217), (1888, 218), (1889, 218), (1894, 220), (1895, 221), (1899, 224), (1900, 225), (2173, 759), (2196, 709), (2306, 672), (2308, 679), (2315, 62), (2316, 61), (2317, 60), (2317, 61), (2318, 59), (2318, 60), (2319, 59), (2320, 58), (2320, 59), (2321, 56), (2321, 57), (2321, 58), (2321, 59), (2322, 58), (2322, 59), (2322, 60), (2323, 59), (2323, 60), (2329, 709), (2331, 683), (2333, 708), (2342, 312), (2347, 705), (2351, 324)])"
   ]
  },
  {
   "cell_type": "code",
   "execution_count": 46,
   "id": "46e432c7-3923-4ac4-9923-5aa5d0654610",
   "metadata": {},
   "outputs": [
    {
     "data": {
      "text/plain": [
       " 35"
      ]
     },
     "execution_count": 46,
     "metadata": {},
     "output_type": "execute_result"
    }
   ],
   "source": [
    "a"
   ]
  },
  {
   "cell_type": "code",
   "execution_count": null,
   "id": "f8204a51-e530-4e54-9e4e-e5ade48fe416",
   "metadata": {},
   "outputs": [],
   "source": [
    "a.st"
   ]
  },
  {
   "cell_type": "code",
   "execution_count": 47,
   "id": "2b8f8c5d-96f0-47be-bc69-7eb27b61eaaa",
   "metadata": {},
   "outputs": [
    {
     "data": {
      "text/plain": [
       "[(1082, 522),\n",
       " (1081, 523),\n",
       " (1080, 522),\n",
       " (1079, 523),\n",
       " (1078, 522),\n",
       " (1077, 523),\n",
       " (1076, 522),\n",
       " (1075, 523),\n",
       " (1074, 522),\n",
       " (1073, 523),\n",
       " (1072, 522),\n",
       " (1071, 523),\n",
       " (1070, 522),\n",
       " (1069, 523),\n",
       " (1068, 522),\n",
       " (1067, 523),\n",
       " (1066, 522),\n",
       " (1066, 523),\n",
       " (1067, 522),\n",
       " (1068, 523),\n",
       " (1069, 522),\n",
       " (1070, 523),\n",
       " (1071, 522),\n",
       " (1072, 523),\n",
       " (1073, 522),\n",
       " (1074, 523),\n",
       " (1075, 522),\n",
       " (1076, 523),\n",
       " (1077, 522),\n",
       " (1078, 523),\n",
       " (1079, 522),\n",
       " (1080, 523),\n",
       " (1081, 522),\n",
       " (1082, 523),\n",
       " (1083, 522)]"
      ]
     },
     "execution_count": 47,
     "metadata": {},
     "output_type": "execute_result"
    }
   ],
   "source": [
    "a.points"
   ]
  },
  {
   "cell_type": "code",
   "execution_count": null,
   "id": "a6385b1f-ea48-4e84-9f83-3c9282f256e5",
   "metadata": {},
   "outputs": [],
   "source": []
  }
 ],
 "metadata": {
  "kernelspec": {
   "display_name": "Python 3 (ipykernel)",
   "language": "python",
   "name": "python3"
  },
  "language_info": {
   "codemirror_mode": {
    "name": "ipython",
    "version": 3
   },
   "file_extension": ".py",
   "mimetype": "text/x-python",
   "name": "python",
   "nbconvert_exporter": "python",
   "pygments_lexer": "ipython3",
   "version": "3.8.10"
  }
 },
 "nbformat": 4,
 "nbformat_minor": 5
}
