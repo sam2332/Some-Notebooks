{
 "cells": [
  {
   "cell_type": "code",
   "execution_count": null,
   "id": "b7c3b73c-8ae1-4f9e-8f07-2fbeb45f243a",
   "metadata": {},
   "outputs": [],
   "source": [
    "def get_links_recursive(url, base_url, visited, depth):\n",
    "    if depth == 0:\n",
    "        return\n",
    "    if url in visited:\n",
    "        return\n",
    "    print(\"Scanning:\", url)\n",
    "    visited.append(url)\n",
    "\n",
    "    try:\n",
    "        response = requests.get(url)\n",
    "        if response.status_code != 200:\n",
    "            return\n",
    "    except requests.exceptions.RequestException:\n",
    "        return\n",
    "\n",
    "    soup = BeautifulSoup(response.content, 'html.parser')\n",
    "\n",
    "    for link in soup.find_all('a'):\n",
    "        href = link.get('href')\n",
    "        if href:\n",
    "            parsed_url = urlparse(href)\n",
    "            current_base_url = f\"{parsed_url.scheme}://{parsed_url.netloc}\"\n",
    "            if not parsed_url.netloc or current_base_url == base_url:\n",
    "                next_url = urljoin(base_url, href)\n",
    "                next_url = next_url.split(\"#\")[0].lower()\n",
    "                if next_url.endswith('php'):\n",
    "                    get_links_recursive(next_url, base_url, visited, depth - 1)\n",
    "\n",
    "def crawl_subdomain(start_url, depth):\n",
    "    parsed_start_url = urlparse(start_url)\n",
    "    base_url = f\"{parsed_start_url.scheme}://{parsed_start_url.netloc}{parsed_start_url.path.rsplit('/', 1)[0]}/\"\n",
    "    visited = list()\n",
    "    get_links_recursive(start_url, base_url, visited, depth)\n",
    "    return visited"
   ]
  }
 ],
 "metadata": {
  "kernelspec": {
   "display_name": "Python 3 (ipykernel)",
   "language": "python",
   "name": "python3"
  },
  "language_info": {
   "codemirror_mode": {
    "name": "ipython",
    "version": 3
   },
   "file_extension": ".py",
   "mimetype": "text/x-python",
   "name": "python",
   "nbconvert_exporter": "python",
   "pygments_lexer": "ipython3",
   "version": "3.10.7"
  }
 },
 "nbformat": 4,
 "nbformat_minor": 5
}
