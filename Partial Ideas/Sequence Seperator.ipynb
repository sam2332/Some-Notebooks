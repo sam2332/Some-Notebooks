{
    "cells": [
        {
            "cell_type": "code",
            "execution_count": 56,
            "id": "316d3dd7-9f6b-4ae7-944e-f7c803729b3d",
            "metadata": {},
            "outputs": [],
            "source": [
                "class Mass():\n",
                "    def __init__(self, locs, start_x,start_y, search_distance=2):\n",
                "        \n",
                "        self.locs=locs\n",
                "        self.start_x = start_x\n",
                "        self.start_y = start_y\n",
                "        self.toSearch = []\n",
                "        self.search_distance = search_distance\n",
                "        self.points = []\n",
                "        self.addRelated((start_x,start_y))\n",
                "        self.processCells()\n",
                "        \n",
                "        \n",
                "        \n",
                "    def addRelated(self,point):\n",
                "        for i in range(1, self.search_distance):\n",
                "            self.toSearch.append((point[0]+i,point[1]))\n",
                "            self.toSearch.append((point[0]-i,point[1]))\n",
                "            self.toSearch.append((point[0],point[1]+i))\n",
                "            self.toSearch.append((point[0],point[1]-i))\n",
                "            self.toSearch.append((point[0]-i,point[1]-i))\n",
                "            self.toSearch.append((point[0]+i,point[1]-i))\n",
                "            self.toSearch.append((point[0]-i,point[1]+i))\n",
                "            self.toSearch.append((point[0]+i,point[1]+i))\n",
                "    \n",
                "    def processCells(self):\n",
                "        while len(self.toSearch ) > 0:\n",
                "            i = self.toSearch.pop()\n",
                "            if i in self.locs:\n",
                "                self.addRelated(i)\n",
                "                self.points.append(i)\n",
                "                self.locs.remove(i)\n",
                "                \n",
                "    def __repr__(self):\n",
                "        return f\" {len(self.points)}\"\n",
                "    def __gt__(self,other):\n",
                "        return len(self.points) > len(other.points)\n",
                "    \n",
                "def split_into_seperate_objects(l):\n",
                "    masses = []\n",
                "    while len(l)>0:\n",
                "        seed = l.pop()\n",
                "        mass = Mass(l, seed[0],seed[1])\n",
                "        if len(mass.points )<10:\n",
                "            continue\n",
                "        print('mass contains',len(mass.points),'points')\n",
                "        for item in mass.points:\n",
                "            if item in l:\n",
                "                l.remove(item)\n",
                "        masses.append(mass)\n",
                "    return masses\n",
                "def getLargestMass(l):\n",
                "    a = split_into_seperate_objects(l)\n",
                "    m =max(a)\n",
                "    return m\n",
                "a = getLargestMass(\n",
                "   [(59, 33), (59, 34), (59, 35), (59, 36), (59, 37), (59, 38), (60, 34), (60, 35), (60, 36), (60, 37), (60, 38), (60, 39), (60, 40), (61, 34), (61, 35), (61, 36), (61, 37), (61, 38), (61, 39), (61, 40), (61, 41), (62, 33), (62, 34), (62, 35), (62, 36), (62, 37), (62, 38), (62, 39), (62, 40), (62, 41), (63, 29), (63, 35), (63, 36), (63, 39), (63, 40), (63, 41), (63, 42), (64, 32), (64, 35), (64, 40), (64, 41), (64, 42), (65, 35), (65, 40), (65, 41), (65, 42), (66, 32), (66, 37), (66, 40), (66, 41), (66, 42), (67, 29), (67, 33), (67, 36), (67, 37), (67, 38), (67, 39), (67, 40), (67, 41), (67, 42), (68, 34), (68, 35), (68, 36), (68, 37), (68, 38), (68, 39), (68, 40), (68, 41), (68, 42), (69, 34), (69, 35), (69, 36), (69, 37), (69, 38), (69, 39), (69, 40), (69, 41), (70, 31), (70, 34), (70, 35), (70, 36), (70, 37), (70, 38), (70, 39), (70, 40), (71, 33), (71, 34), (71, 35), (71, 36), (71, 37), (71, 38), (71, 39), (72, 36), (118, 20), (119, 26), (122, 25), (123, 26), (123, 29), (124, 26), (124, 27), (124, 28), (125, 19), (126, 28), (334, 156), (378, 304), (378, 305), (378, 306), (378, 307), (379, 304), (379, 305), (379, 306), (379, 307), (379, 308), (379, 309), (380, 304), (380, 305), (380, 306), (380, 307), (380, 308), (380, 309), (380, 310), (381, 304), (381, 305), (381, 306), (381, 307), (381, 308), (381, 309), (381, 310), (381, 311), (382, 301), (382, 304), (382, 305), (382, 306), (382, 307), (382, 308), (382, 309), (382, 310), (382, 311), (383, 304), (383, 305), (383, 306), (383, 307), (383, 308), (383, 309), (383, 310), (384, 304), (384, 305), (384, 306), (384, 307), (384, 308), (384, 309), (385, 304), (385, 305), (385, 306), (385, 307), (385, 308), (386, 303), (386, 304), (386, 305), (386, 306), (387, 299), (387, 302), (387, 303), (388, 300), (388, 301), (388, 302), (551, 71), (552, 70), (552, 71), (553, 69), (553, 70), (553, 71), (553, 72), (559, 69), (560, 73), (561, 67), (561, 78), (561, 79), (562, 67), (562, 77), (562, 79), (563, 67), (563, 76), (563, 79), (564, 17), (564, 77), (564, 79), (565, 18), (565, 77), (565, 78), (565, 79), (566, 67), (566, 69), (566, 79), (568, 73), (569, 16), (603, 57), (604, 63), (605, 63), (631, 57), (631, 59), (632, 58), (648, 23), (653, 45), (654, 47), (657, 45), (658, 45), (659, 44), (660, 44), (692, 149), (692, 150), (692, 151), (692, 152), (692, 153), (692, 154), (693, 145), (693, 146), (693, 151), (693, 152), (693, 153), (693, 154), (694, 150), (694, 151), (694, 152), (694, 153), (695, 147), (695, 148), (695, 149), (695, 150), (696, 146), (701, 92), (703, 91), (705, 98)]\n",
                ")"
            ]
        },
        {
            "cell_type": "code",
            "execution_count": 57,
            "id": "46e432c7-3923-4ac4-9923-5aa5d0654610",
            "metadata": {},
            "outputs": [],
            "source": [
                "a"
            ]
        },
        {
            "cell_type": "code",
            "execution_count": 58,
            "id": "f8204a51-e530-4e54-9e4e-e5ade48fe416",
            "metadata": {},
            "outputs": [],
            "source": [
                "a.st"
            ]
        },
        {
            "cell_type": "code",
            "execution_count": 59,
            "id": "2b8f8c5d-96f0-47be-bc69-7eb27b61eaaa",
            "metadata": {},
            "outputs": [],
            "source": [
                "a.points"
            ]
        },
        {
            "cell_type": "code",
            "execution_count": null,
            "id": "a6385b1f-ea48-4e84-9f83-3c9282f256e5",
            "metadata": {},
            "outputs": [],
            "source": []
        }
    ],
    "metadata": {
        "kernelspec": {
            "display_name": "Python 3 (ipykernel)",
            "language": "python",
            "name": "python3"
        },
        "language_info": {
            "codemirror_mode": {
                "name": "ipython",
                "version": 3
            },
            "file_extension": ".py",
            "mimetype": "text/x-python",
            "name": "python",
            "nbconvert_exporter": "python",
            "pygments_lexer": "ipython3",
            "version": "3.10.4"
        },
        "widgets": {
            "application/vnd.jupyter.widget-state+json": {
                "state": {},
                "version_major": 2,
                "version_minor": 0
            }
        }
    },
    "nbformat": 4,
    "nbformat_minor": 5
}