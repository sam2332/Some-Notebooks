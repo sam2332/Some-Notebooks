{
 "cells": [
  {
   "cell_type": "code",
   "execution_count": 3,
   "id": "d0350f4d-9418-4e23-a408-495fa4d1058c",
   "metadata": {},
   "outputs": [],
   "source": [
    "!sudo apt-get install libhunspell-dev libhunspell-1.7-0 hunspell hunspell-en-us dictionaries-common-dev dictionaries-common"
   ]
  },
  {
   "cell_type": "code",
   "execution_count": null,
   "id": "9fcec9a8-0547-4980-8ff3-b3714c44afc4",
   "metadata": {},
   "outputs": [],
   "source": [
    "!pip install hunspell"
   ]
  },
  {
   "cell_type": "code",
   "execution_count": null,
   "id": "164b6da6-64e3-45d6-9016-1797df34d9a2",
   "metadata": {},
   "outputs": [],
   "source": [
    "!wget -O en_US.aff  https://cgit.freedesktop.org/libreoffice/dictionaries/plain/en/en_US.aff?id=a4473e06b56bfe35187e302754f6baaa8d75e54f\n",
    "!wget -O en_US.dic https://cgit.freedesktop.org/libreoffice/dictionaries/plain/en/en_US.dic?id=a4473e06b56bfe35187e302754f6baaa8d75e54f"
   ]
  },
  {
   "cell_type": "code",
   "execution_count": 6,
   "id": "a6d8a925-6e30-4bab-a09e-5e600427dcfa",
   "metadata": {},
   "outputs": [],
   "source": [
    "import hunspell\n",
    "\n",
    "hobj = hunspell.HunSpell(\"./en_US.dic\", \"./en_US.aff\")"
   ]
  },
  {
   "cell_type": "code",
   "execution_count": 7,
   "id": "6236dda0-f043-4dc9-a186-dc8817effd4a",
   "metadata": {},
   "outputs": [
    {
     "data": {
      "text/plain": [
       "False"
      ]
     },
     "execution_count": 7,
     "metadata": {},
     "output_type": "execute_result"
    }
   ],
   "source": [
    "hobj.spell(\"spookie\")"
   ]
  },
  {
   "cell_type": "code",
   "execution_count": 12,
   "id": "bf9f9005-0e6a-40b5-913a-de110bc114b4",
   "metadata": {},
   "outputs": [
    {
     "data": {
      "text/plain": [
       "['spookier', 'spook', 'pokiest', 'kookie', 'bookie', 'Spokane', 'spoken']"
      ]
     },
     "execution_count": 12,
     "metadata": {},
     "output_type": "execute_result"
    }
   ],
   "source": [
    "hobj.suggest(\"spookie\")"
   ]
  },
  {
   "cell_type": "code",
   "execution_count": 13,
   "id": "f04c4e18-f330-4492-83c4-e37869edfd93",
   "metadata": {},
   "outputs": [
    {
     "data": {
      "text/plain": [
       "True"
      ]
     },
     "execution_count": 13,
     "metadata": {},
     "output_type": "execute_result"
    }
   ],
   "source": [
    "hobj.spell(\"spooky\")"
   ]
  },
  {
   "cell_type": "code",
   "execution_count": 14,
   "id": "17d6496b-f170-4036-88fb-76ea6ce06bda",
   "metadata": {},
   "outputs": [
    {
     "data": {
      "text/plain": [
       "[b' st:link ts:0 is:Vd']"
      ]
     },
     "execution_count": 14,
     "metadata": {},
     "output_type": "execute_result"
    }
   ],
   "source": [
    "hobj.analyze(\"linked\")"
   ]
  },
  {
   "cell_type": "code",
   "execution_count": 15,
   "id": "a9156f4b-e025-4b69-b30f-9e7adee011b9",
   "metadata": {},
   "outputs": [
    {
     "data": {
      "text/plain": [
       "[b'link']"
      ]
     },
     "execution_count": 15,
     "metadata": {},
     "output_type": "execute_result"
    }
   ],
   "source": [
    "hobj.stem(\"linked\")"
   ]
  },
  {
   "cell_type": "code",
   "execution_count": null,
   "id": "7cbde90b-2ef5-4bdb-9409-a400cc593809",
   "metadata": {},
   "outputs": [],
   "source": []
  },
  {
   "cell_type": "code",
   "execution_count": 16,
   "id": "930d3710-bdfb-4180-b576-9e0e0f09fb57",
   "metadata": {},
   "outputs": [
    {
     "data": {
      "text/plain": [
       "False"
      ]
     },
     "execution_count": 16,
     "metadata": {},
     "output_type": "execute_result"
    }
   ],
   "source": [
    "hobj.spell(\"spookie\")"
   ]
  },
  {
   "cell_type": "code",
   "execution_count": 17,
   "id": "1f3a6eab-c4bb-41a6-8f4c-54ddb31fbe60",
   "metadata": {},
   "outputs": [
    {
     "data": {
      "text/plain": [
       "0"
      ]
     },
     "execution_count": 17,
     "metadata": {},
     "output_type": "execute_result"
    }
   ],
   "source": [
    "hobj.add(\"spookie\")"
   ]
  },
  {
   "cell_type": "code",
   "execution_count": 18,
   "id": "4ef80f1e-ed14-4959-a477-0cff385f7edd",
   "metadata": {},
   "outputs": [
    {
     "data": {
      "text/plain": [
       "True"
      ]
     },
     "execution_count": 18,
     "metadata": {},
     "output_type": "execute_result"
    }
   ],
   "source": [
    "hobj.spell(\"spookie\")"
   ]
  },
  {
   "cell_type": "code",
   "execution_count": 19,
   "id": "c33a1f6d-5699-422f-af82-8622d99ddeb9",
   "metadata": {},
   "outputs": [
    {
     "data": {
      "text/plain": [
       "0"
      ]
     },
     "execution_count": 19,
     "metadata": {},
     "output_type": "execute_result"
    }
   ],
   "source": [
    "hobj.remove(\"spookie\")"
   ]
  },
  {
   "cell_type": "code",
   "execution_count": 20,
   "id": "7699a3e4-1c14-42f2-9035-61ee59276814",
   "metadata": {},
   "outputs": [
    {
     "data": {
      "text/plain": [
       "False"
      ]
     },
     "execution_count": 20,
     "metadata": {},
     "output_type": "execute_result"
    }
   ],
   "source": [
    "hobj.spell(\"spookie\")"
   ]
  },
  {
   "cell_type": "code",
   "execution_count": null,
   "id": "d346d676-caf6-4b43-9f6b-1540031e1d28",
   "metadata": {},
   "outputs": [],
   "source": []
  }
 ],
 "metadata": {
  "kernelspec": {
   "display_name": "Python 3 (ipykernel)",
   "language": "python",
   "name": "python3"
  },
  "language_info": {
   "codemirror_mode": {
    "name": "ipython",
    "version": 3
   },
   "file_extension": ".py",
   "mimetype": "text/x-python",
   "name": "python",
   "nbconvert_exporter": "python",
   "pygments_lexer": "ipython3",
   "version": "3.10.4"
  },
  "scenes_data": {
   "active_scene": "Default Scene",
   "init_scene": "",
   "scenes": [
    "Default Scene"
   ]
  },
  "widgets": {
   "application/vnd.jupyter.widget-state+json": {
    "state": {},
    "version_major": 2,
    "version_minor": 0
   }
  }
 },
 "nbformat": 4,
 "nbformat_minor": 5
}
