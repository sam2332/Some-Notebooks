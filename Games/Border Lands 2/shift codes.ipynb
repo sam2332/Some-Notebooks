{
 "cells": [
  {
   "cell_type": "code",
   "execution_count": 7,
   "id": "e01ac73b-d0a7-4cd8-b6cf-daaf67d4d865",
   "metadata": {},
   "outputs": [],
   "source": [
    "from bs4 import BeautifulSoup"
   ]
  },
  {
   "cell_type": "markdown",
   "id": "dba975fc-241e-487a-b453-15f68af921c3",
   "metadata": {},
   "source": [
    " copy html table of codes from https://www.supereasy.com/borderlands-2-shift-codes/\n"
   ]
  },
  {
   "cell_type": "code",
   "execution_count": null,
   "id": "b0f4add1-6347-40a6-a222-fb261fbebcf7",
   "metadata": {},
   "outputs": [],
   "source": [
    "soup = BeautifulSoup(input())"
   ]
  },
  {
   "cell_type": "code",
   "execution_count": 16,
   "id": "24fde75e-c2c1-430b-97af-64d3c447ad24",
   "metadata": {},
   "outputs": [],
   "source": [
    "codes = []\n",
    "for row in soup.find_all('tr'):\n",
    "    link = row.find('code')\n",
    "    if link is None:\n",
    "        continue\n",
    "    code = link.text\n",
    "    codes.append(code)"
   ]
  },
  {
   "cell_type": "code",
   "execution_count": 23,
   "id": "f197f7bd-4a91-41e8-9c70-4c0039622431",
   "metadata": {},
   "outputs": [],
   "source": [
    "\n",
    "import keyboard\n",
    "import time"
   ]
  },
  {
   "cell_type": "code",
   "execution_count": 40,
   "id": "b9e687ed-c1ef-483f-bd0d-55526fd49936",
   "metadata": {},
   "outputs": [],
   "source": [
    "while len(codes):    \n",
    "    time.sleep(5)\n",
    "    code = codes.pop()\n",
    "    code = code.lower()\n",
    "    print(code)\n",
    "    for letter in code:\n",
    "        keyboard.press_and_release(letter)\n",
    "        time.sleep(0.2)\n",
    "    keyboard.press_and_release('Enter')\n",
    "    input()"
   ]
  },
  {
   "cell_type": "code",
   "execution_count": 30,
   "id": "beb2751d-123c-416e-bc23-cce32de76509",
   "metadata": {},
   "outputs": [
    {
     "data": {
      "text/plain": [
       "'W3KBTXFKWHJBRJHJJBTBT99HC'"
      ]
     },
     "execution_count": 30,
     "metadata": {},
     "output_type": "execute_result"
    }
   ],
   "source": [
    "code.strip()"
   ]
  },
  {
   "cell_type": "code",
   "execution_count": null,
   "id": "97a6b1a6-2da6-44de-a345-e43486fd644c",
   "metadata": {},
   "outputs": [],
   "source": [
    "        \n",
    "    w3kbtxfkwhj"
   ]
  }
 ],
 "metadata": {
  "kernelspec": {
   "display_name": "Python 3 (ipykernel)",
   "language": "python",
   "name": "python3"
  },
  "language_info": {
   "codemirror_mode": {
    "name": "ipython",
    "version": 3
   },
   "file_extension": ".py",
   "mimetype": "text/x-python",
   "name": "python",
   "nbconvert_exporter": "python",
   "pygments_lexer": "ipython3",
   "version": "3.10.6"
  }
 },
 "nbformat": 4,
 "nbformat_minor": 5
}
