{
 "cells": [
  {
   "cell_type": "code",
   "execution_count": 1,
   "id": "91ae95c3-34d9-4699-b9b8-f01e4fc4164b",
   "metadata": {},
   "outputs": [],
   "source": [
    "import requests\n",
    "from bs4 import BeautifulSoup"
   ]
  },
  {
   "cell_type": "code",
   "execution_count": 6,
   "id": "11eaf747-e48f-442d-b528-e58f4a0ec731",
   "metadata": {},
   "outputs": [
    {
     "data": {
      "text/plain": [
       "{'Ammo': 'https://secure.runescape.com/m=itemdb_rs/catalogue?cat=1',\n",
       " 'Archaeology materials': 'https://secure.runescape.com/m=itemdb_rs/catalogue?cat=41',\n",
       " 'Arrows': 'https://secure.runescape.com/m=itemdb_rs/catalogue?cat=2',\n",
       " 'Bolts': 'https://secure.runescape.com/m=itemdb_rs/catalogue?cat=3',\n",
       " 'Construction materials': 'https://secure.runescape.com/m=itemdb_rs/catalogue?cat=4',\n",
       " 'Construction products': 'https://secure.runescape.com/m=itemdb_rs/catalogue?cat=5',\n",
       " 'Cooking ingredients': 'https://secure.runescape.com/m=itemdb_rs/catalogue?cat=6',\n",
       " 'Costumes': 'https://secure.runescape.com/m=itemdb_rs/catalogue?cat=7',\n",
       " 'Crafting materials': 'https://secure.runescape.com/m=itemdb_rs/catalogue?cat=8',\n",
       " 'Familiars': 'https://secure.runescape.com/m=itemdb_rs/catalogue?cat=9',\n",
       " 'Farming produce': 'https://secure.runescape.com/m=itemdb_rs/catalogue?cat=10',\n",
       " 'Firemaking products': 'https://secure.runescape.com/m=itemdb_rs/catalogue?cat=40',\n",
       " 'Fletching materials': 'https://secure.runescape.com/m=itemdb_rs/catalogue?cat=11',\n",
       " 'Food and Drink': 'https://secure.runescape.com/m=itemdb_rs/catalogue?cat=12',\n",
       " 'Herblore materials': 'https://secure.runescape.com/m=itemdb_rs/catalogue?cat=13',\n",
       " 'Hunting equipment': 'https://secure.runescape.com/m=itemdb_rs/catalogue?cat=14',\n",
       " 'Hunting Produce': 'https://secure.runescape.com/m=itemdb_rs/catalogue?cat=15',\n",
       " 'Jewellery': 'https://secure.runescape.com/m=itemdb_rs/catalogue?cat=16',\n",
       " 'Mage armour': 'https://secure.runescape.com/m=itemdb_rs/catalogue?cat=17',\n",
       " 'Mage weapons': 'https://secure.runescape.com/m=itemdb_rs/catalogue?cat=18',\n",
       " 'Melee armour - high level': 'https://secure.runescape.com/m=itemdb_rs/catalogue?cat=21',\n",
       " 'Melee armour - low level': 'https://secure.runescape.com/m=itemdb_rs/catalogue?cat=19',\n",
       " 'Melee armour - mid level': 'https://secure.runescape.com/m=itemdb_rs/catalogue?cat=20',\n",
       " 'Melee weapons - high level': 'https://secure.runescape.com/m=itemdb_rs/catalogue?cat=24',\n",
       " 'Melee weapons - low level': 'https://secure.runescape.com/m=itemdb_rs/catalogue?cat=22',\n",
       " 'Melee weapons - mid level': 'https://secure.runescape.com/m=itemdb_rs/catalogue?cat=23',\n",
       " 'Mining and Smithing': 'https://secure.runescape.com/m=itemdb_rs/catalogue?cat=25',\n",
       " 'Miscellaneous': 'https://secure.runescape.com/m=itemdb_rs/catalogue?cat=0',\n",
       " 'Pocket items': 'https://secure.runescape.com/m=itemdb_rs/catalogue?cat=37',\n",
       " 'Potions': 'https://secure.runescape.com/m=itemdb_rs/catalogue?cat=26',\n",
       " 'Prayer armour': 'https://secure.runescape.com/m=itemdb_rs/catalogue?cat=27',\n",
       " 'Prayer materials': 'https://secure.runescape.com/m=itemdb_rs/catalogue?cat=28',\n",
       " 'Range armour': 'https://secure.runescape.com/m=itemdb_rs/catalogue?cat=29',\n",
       " 'Range weapons': 'https://secure.runescape.com/m=itemdb_rs/catalogue?cat=30',\n",
       " 'Runecrafting': 'https://secure.runescape.com/m=itemdb_rs/catalogue?cat=31',\n",
       " 'Runes, Spells and Teleports': 'https://secure.runescape.com/m=itemdb_rs/catalogue?cat=32',\n",
       " 'Salvage': 'https://secure.runescape.com/m=itemdb_rs/catalogue?cat=39',\n",
       " 'Seeds': 'https://secure.runescape.com/m=itemdb_rs/catalogue?cat=33',\n",
       " 'Stone spirits': 'https://secure.runescape.com/m=itemdb_rs/catalogue?cat=38',\n",
       " 'Summoning scrolls': 'https://secure.runescape.com/m=itemdb_rs/catalogue?cat=34',\n",
       " 'Tools and containers': 'https://secure.runescape.com/m=itemdb_rs/catalogue?cat=35',\n",
       " 'Woodcutting product': 'https://secure.runescape.com/m=itemdb_rs/catalogue?cat=36'}"
      ]
     },
     "execution_count": 6,
     "metadata": {},
     "output_type": "execute_result"
    }
   ],
   "source": [
    "res = requests.get(\"https://secure.runescape.com/m=itemdb_rs/catalogue\")\n",
    "soup = BeautifulSoup(res.text)\n",
    "categories = soup.find(\"div\", {\"class\": \"categories\"})\n",
    "categories = {\n",
    "    i.text: \"https://secure.runescape.com/m=itemdb_rs/\" + i.get(\"href\")\n",
    "    for i in categories.find_all(\"a\")\n",
    "}\n",
    "categories"
   ]
  },
  {
   "cell_type": "code",
   "execution_count": null,
   "id": "6d7ec92b-949f-40ab-92bd-31c3c10e1683",
   "metadata": {},
   "outputs": [],
   "source": []
  }
 ],
 "metadata": {
  "kernelspec": {
   "display_name": "Python 3 (ipykernel)",
   "language": "python",
   "name": "python3"
  },
  "language_info": {
   "codemirror_mode": {
    "name": "ipython",
    "version": 3
   },
   "file_extension": ".py",
   "mimetype": "text/x-python",
   "name": "python",
   "nbconvert_exporter": "python",
   "pygments_lexer": "ipython3",
   "version": "3.10.4"
  },
  "widgets": {
   "application/vnd.jupyter.widget-state+json": {
    "state": {},
    "version_major": 2,
    "version_minor": 0
   }
  }
 },
 "nbformat": 4,
 "nbformat_minor": 5
}
