{
    "cells": [
        {
            "cell_type": "code",
            "execution_count": null,
            "id": "91ae95c3-34d9-4699-b9b8-f01e4fc4164b",
            "metadata": {},
            "outputs": [],
            "source": [
                "import requests\n",
                "from bs4 import BeautifulSoup"
            ]
        },
        {
            "cell_type": "code",
            "execution_count": null,
            "id": "11eaf747-e48f-442d-b528-e58f4a0ec731",
            "metadata": {},
            "outputs": [],
            "source": [
                "res = requests.get(\"https://secure.runescape.com/m=itemdb_rs/catalogue\")\n",
                "soup = BeautifulSoup(res.text)\n",
                "categories = soup.find(\"div\", {\"class\": \"categories\"})\n",
                "categories = {\n",
                "    i.text: \"https://secure.runescape.com/m=itemdb_rs/\" + i.get(\"href\")\n",
                "    for i in categories.find_all(\"a\")\n",
                "}\n",
                "categories"
            ]
        },
        {
            "cell_type": "code",
            "execution_count": null,
            "id": "6d7ec92b-949f-40ab-92bd-31c3c10e1683",
            "metadata": {},
            "outputs": [],
            "source": [
                "res.text"
            ]
        },
        {
            "cell_type": "code",
            "execution_count": null,
            "id": "93cc28e5-5193-479b-bebd-61553ff1a993",
            "metadata": {},
            "outputs": [],
            "source": [
                "session.headers"
            ]
        },
        {
            "cell_type": "code",
            "execution_count": null,
            "id": "0d55de74-23ce-4fcd-ab89-c887c102ea1a",
            "metadata": {},
            "outputs": [],
            "source": []
        }
    ],
    "metadata": {
        "kernelspec": {
            "display_name": "Python 3 (ipykernel)",
            "language": "python",
            "name": "python3"
        },
        "language_info": {
            "codemirror_mode": {
                "name": "ipython",
                "version": 3
            },
            "file_extension": ".py",
            "mimetype": "text/x-python",
            "name": "python",
            "nbconvert_exporter": "python",
            "pygments_lexer": "ipython3",
            "version": "3.10.4"
        },
        "widgets": {
            "application/vnd.jupyter.widget-state+json": {
                "state": {},
                "version_major": 2,
                "version_minor": 0
            }
        }
    },
    "nbformat": 4,
    "nbformat_minor": 5
}