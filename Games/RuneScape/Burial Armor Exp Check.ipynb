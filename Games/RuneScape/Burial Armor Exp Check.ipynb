{
 "cells": [
  {
   "cell_type": "markdown",
   "id": "11f117d2-5721-4dbf-a936-498e3d073425",
   "metadata": {},
   "source": [
    "# Burial Armor Exp checking."
   ]
  },
  {
   "cell_type": "code",
   "execution_count": 53,
   "id": "1254211c-5984-4276-9505-cabdf0f8acef",
   "metadata": {},
   "outputs": [],
   "source": [
    "class Item:\n",
    "    def __init__(self, name, base, p1=None, p2=None, p3=None, burial=None):\n",
    "        self.name = name\n",
    "        self.base = base\n",
    "        self.p1 = p1\n",
    "        self.p2 = p2\n",
    "        self.p3 = p3\n",
    "        self.burial = burial\n",
    "        self.total = sum(\n",
    "            filter(None, [self.base, self.p1, self.p2, self.p3, self.burial])\n",
    "        )\n",
    "\n",
    "    def __repr__(self):\n",
    "        return f\"{self.name} - {self.total}\""
   ]
  },
  {
   "cell_type": "code",
   "execution_count": 54,
   "id": "9472ab2f-1c29-45ca-a590-307d242daa27",
   "metadata": {},
   "outputs": [
    {
     "name": "stdout",
     "output_type": "stream",
     "text": [
      "Okikalkum full helm - 5600\n",
      "Okikalkum platelegs - 8300\n",
      "Okikalkum platebody - 13900\n",
      "Okikalkum kiteshield - 5600\n",
      "Okikalkum armoured boots - 2800\n"
     ]
    }
   ],
   "source": [
    "item_set = []\n",
    "item_set.append(\n",
    "    Item(\"Okikalkum full helm\", base=700, p1=700, p2=1400, p3=2800, burial=0)\n",
    ")\n",
    "item_set.append(\n",
    "    Item(\"Okikalkum platelegs\", base=1000, p1=1000, p2=2100, p3=4200, burial=0)\n",
    ")\n",
    "item_set.append(\n",
    "    Item(\"Okikalkum platebody\", base=1700, p1=1700, p2=3500, p3=7000, burial=0)\n",
    ")\n",
    "item_set.append(\n",
    "    Item(\"Okikalkum kiteshield\", base=700, p1=700, p2=1400, p3=2800, burial=0)\n",
    ")\n",
    "item_set.append(\n",
    "    Item(\"Okikalkum armoured boots\", base=350, p1=350, p2=700, p3=1400, burial=0)\n",
    ")\n",
    "for item in item_set:\n",
    "    print(item)"
   ]
  },
  {
   "cell_type": "code",
   "execution_count": 55,
   "id": "b0d027d2-ccd2-4f92-ab8e-8f954fa8f878",
   "metadata": {},
   "outputs": [
    {
     "name": "stdout",
     "output_type": "stream",
     "text": [
      "36200 exp\n"
     ]
    }
   ],
   "source": [
    "total_without_burial = 0\n",
    "for item in item_set:\n",
    "    total_without_burial += item.total\n",
    "print(total_without_burial,\"exp\")"
   ]
  },
  {
   "cell_type": "code",
   "execution_count": 56,
   "id": "2ad226bb-11b0-4933-948e-00f0e88a3fee",
   "metadata": {},
   "outputs": [
    {
     "name": "stdout",
     "output_type": "stream",
     "text": [
      "Okikalkum full helm - 8400\n",
      "Okikalkum platelegs - 12500\n",
      "Okikalkum platebody - 20900\n",
      "Okikalkum kiteshield - 8400\n",
      "Okikalkum armoured boots - 4200\n"
     ]
    }
   ],
   "source": [
    "item_set = []\n",
    "item_set.append(\n",
    "    Item(\"Okikalkum full helm\", base=700, p1=700, p2=1400, p3=2800, burial=2800)\n",
    ")\n",
    "item_set.append(\n",
    "    Item(\"Okikalkum platelegs\", base=1000, p1=1000, p2=2100, p3=4200, burial=4200)\n",
    ")\n",
    "item_set.append(\n",
    "    Item(\"Okikalkum platebody\", base=1700, p1=1700, p2=3500, p3=7000, burial=7000)\n",
    ")\n",
    "item_set.append(\n",
    "    Item(\"Okikalkum kiteshield\", base=700, p1=700, p2=1400, p3=2800, burial=2800)\n",
    ")\n",
    "item_set.append(\n",
    "    Item(\"Okikalkum armoured boots\", base=350, p1=350, p2=700, p3=1400, burial=1400)\n",
    ")\n",
    "for item in item_set:\n",
    "    print(item)"
   ]
  },
  {
   "cell_type": "code",
   "execution_count": 57,
   "id": "cdcf3eab-b122-45a4-acca-3634259013bd",
   "metadata": {},
   "outputs": [
    {
     "name": "stdout",
     "output_type": "stream",
     "text": [
      "54400 exp\n"
     ]
    }
   ],
   "source": [
    "total_with_burial = 0\n",
    "for item in item_set:\n",
    "    total_with_burial += item.total\n",
    "print(total_with_burial,'exp')"
   ]
  },
  {
   "cell_type": "code",
   "execution_count": 58,
   "id": "64db9c4c-072f-474a-9afc-754ea4929a79",
   "metadata": {},
   "outputs": [
    {
     "name": "stdout",
     "output_type": "stream",
     "text": [
      "18200 total gained from doing burial of each item\n"
     ]
    }
   ],
   "source": [
    "print(total_with_burial - total_without_burial, \"total gained from doing burial of each item\")"
   ]
  },
  {
   "cell_type": "markdown",
   "id": "6b9a4f6a-7d34-4418-b3cc-48f495a8350f",
   "metadata": {},
   "source": [
    "## the \"Okikalkum burial set\" smithing item grants you 16k exp therefore doing \"burial sets\" is a bad deal you lose out on 2.2k exp\n"
   ]
  }
 ],
 "metadata": {
  "kernelspec": {
   "display_name": "Python 3 (ipykernel)",
   "language": "python",
   "name": "python3"
  },
  "language_info": {
   "codemirror_mode": {
    "name": "ipython",
    "version": 3
   },
   "file_extension": ".py",
   "mimetype": "text/x-python",
   "name": "python",
   "nbconvert_exporter": "python",
   "pygments_lexer": "ipython3",
   "version": "3.10.4"
  },
  "widgets": {
   "application/vnd.jupyter.widget-state+json": {
    "state": {},
    "version_major": 2,
    "version_minor": 0
   }
  }
 },
 "nbformat": 4,
 "nbformat_minor": 5
}
