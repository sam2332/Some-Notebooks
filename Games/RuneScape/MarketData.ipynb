{
 "cells": [
  {
   "cell_type": "code",
   "execution_count": 2,
   "id": "f8585bba-0616-47e5-bde3-9f4337f2d48e",
   "metadata": {},
   "outputs": [],
   "source": [
    "import time\n",
    "\n",
    "import requests\n",
    "from bs4 import BeautifulSoup"
   ]
  },
  {
   "cell_type": "markdown",
   "id": "c69b4f5e-1e5c-45e9-8171-9e64e933e277",
   "metadata": {},
   "source": [
    "https://secure.runescape.com/m=itemdb_rs/top100?list=0"
   ]
  },
  {
   "cell_type": "code",
   "execution_count": 35,
   "id": "a3ed5240-3abb-4d83-bf35-a51c220c47dd",
   "metadata": {},
   "outputs": [],
   "source": [
    "class RS_ITEM:\n",
    "    def __init__(self, item=None):\n",
    "        if item is None:\n",
    "            self.item = {}\n",
    "        else:\n",
    "            self.item = item\n",
    "\n",
    "    def __repr__(self):\n",
    "        return f\"{self.item}\"\n",
    "\n",
    "    @staticmethod\n",
    "    def fromSearchHTMLRow(soup):\n",
    "        c = RS_ITEM()\n",
    "        tds = soup.find_all(\"td\")\n",
    "        d = tds[2]\n",
    "        c.item = {\n",
    "            \"name\": tds[0].find(\"a\").get(\"title\").strip(),\n",
    "            \"price\": int(\n",
    "                d.find(\"a\")\n",
    "                .text.strip()\n",
    "                .replace(\",\", \"\")\n",
    "                .replace(\".\", \"\")\n",
    "                .replace(\"k\", \"000\")\n",
    "            ),\n",
    "            \"url\": d.find(\"a\").get(\"href\"),\n",
    "            \"itemid\": d.find(\"a\").get(\"href\").split(\"?\")[-1].split(\"=\")[-1],\n",
    "        }\n",
    "        return c"
   ]
  },
  {
   "cell_type": "code",
   "execution_count": 57,
   "id": "6f362c62-09ba-4b7d-a2eb-9d2cf8aa113a",
   "metadata": {},
   "outputs": [],
   "source": [
    "def search(query, page=None):\n",
    "    items = []\n",
    "\n",
    "    if page == None:\n",
    "        res = requests.post(\n",
    "            \"https://secure.runescape.com/m=itemdb_rs/results#main-search\",\n",
    "            {\"query\": query},\n",
    "        )\n",
    "    else:\n",
    "        res = requests.get(f\"https://secure.runescape.com/m=itemdb_rs/results{page}\")\n",
    "\n",
    "    soup = BeautifulSoup(res.text)\n",
    "    table = soup.find(\"table\", {\"class\": \"results-table\"})\n",
    "    tbody = table.find(\"tbody\")\n",
    "    # print(table)\n",
    "    for row in tbody.find_all(\"tr\"):\n",
    "        items.append(RS_ITEM.fromSearchHTMLRow(row))\n",
    "\n",
    "    if page == None:\n",
    "        pages = soup.find(\"div\", {\"class\": \"pagination\"}).find_all(\"li\")\n",
    "        if len(pages) > 1:\n",
    "            for page in range(1, len(pages)):\n",
    "                items.extend(search(query, page=pages[page].find(\"a\").get(\"href\")))\n",
    "\n",
    "    return items"
   ]
  },
  {
   "cell_type": "code",
   "execution_count": 58,
   "id": "521be75d-35dc-459d-8784-97cd9d26e8bb",
   "metadata": {},
   "outputs": [
    {
     "data": {
      "text/plain": [
       "[{'name': 'Orichalcite ore', 'price': 2877, 'url': 'https://secure.runescape.com/m=itemdb_rs/Orichalcite+ore/viewitem?obj=44822', 'itemid': '44822'},\n",
       " {'name': 'Orichalcite stone spirit', 'price': 182, 'url': 'https://secure.runescape.com/m=itemdb_rs/Orichalcite+stone+spirit/viewitem?obj=44809', 'itemid': '44809'}]"
      ]
     },
     "execution_count": 58,
     "metadata": {},
     "output_type": "execute_result"
    }
   ],
   "source": [
    "search(\"Orichalcite Ore\")"
   ]
  },
  {
   "cell_type": "code",
   "execution_count": 59,
   "id": "544085d7-1d97-4185-99a8-e76960feebad",
   "metadata": {},
   "outputs": [
    {
     "data": {
      "text/plain": [
       "[{'name': 'Orikalkum 2h warhammer', 'price': 236000, 'url': 'https://secure.runescape.com/m=itemdb_rs/Orikalkum+2h+warhammer/viewitem?obj=46565', 'itemid': '46565'},\n",
       " {'name': 'Orikalkum 2h warhammer + 1', 'price': 321000, 'url': 'https://secure.runescape.com/m=itemdb_rs/Orikalkum+2h+warhammer+%2B+1/viewitem?obj=46568', 'itemid': '46568'},\n",
       " {'name': 'Orikalkum 2h warhammer + 2', 'price': 991000, 'url': 'https://secure.runescape.com/m=itemdb_rs/Orikalkum+2h+warhammer+%2B+2/viewitem?obj=46571', 'itemid': '46571'},\n",
       " {'name': 'Orikalkum 2h warhammer + 3', 'price': 2429000, 'url': 'https://secure.runescape.com/m=itemdb_rs/Orikalkum+2h+warhammer+%2B+3/viewitem?obj=46574', 'itemid': '46574'},\n",
       " {'name': 'Orikalkum armour set', 'price': 1135000, 'url': 'https://secure.runescape.com/m=itemdb_rs/Orikalkum+armour+set/viewitem?obj=44660', 'itemid': '44660'},\n",
       " {'name': 'Orikalkum armour set + 1', 'price': 3905000, 'url': 'https://secure.runescape.com/m=itemdb_rs/Orikalkum+armour+set+%2B+1/viewitem?obj=44662', 'itemid': '44662'},\n",
       " {'name': 'Orikalkum armour set + 2', 'price': 5360000, 'url': 'https://secure.runescape.com/m=itemdb_rs/Orikalkum+armour+set+%2B+2/viewitem?obj=44664', 'itemid': '44664'},\n",
       " {'name': 'Orikalkum armour set + 3', 'price': 8697000, 'url': 'https://secure.runescape.com/m=itemdb_rs/Orikalkum+armour+set+%2B+3/viewitem?obj=44666', 'itemid': '44666'},\n",
       " {'name': 'Orikalkum armoured boots', 'price': 2567, 'url': 'https://secure.runescape.com/m=itemdb_rs/Orikalkum+armoured+boots/viewitem?obj=46643', 'itemid': '46643'},\n",
       " {'name': 'Orikalkum armoured boots + 1', 'price': 126000, 'url': 'https://secure.runescape.com/m=itemdb_rs/Orikalkum+armoured+boots+%2B+1/viewitem?obj=46646', 'itemid': '46646'},\n",
       " {'name': 'Orikalkum armoured boots + 2', 'price': 432000, 'url': 'https://secure.runescape.com/m=itemdb_rs/Orikalkum+armoured+boots+%2B+2/viewitem?obj=46649', 'itemid': '46649'},\n",
       " {'name': 'Orikalkum armoured boots + 3', 'price': 366000, 'url': 'https://secure.runescape.com/m=itemdb_rs/Orikalkum+armoured+boots+%2B+3/viewitem?obj=46652', 'itemid': '46652'},\n",
       " {'name': 'Orikalkum full helm', 'price': 5519, 'url': 'https://secure.runescape.com/m=itemdb_rs/Orikalkum+full+helm/viewitem?obj=46591', 'itemid': '46591'},\n",
       " {'name': 'Orikalkum full helm + 1', 'price': 139000, 'url': 'https://secure.runescape.com/m=itemdb_rs/Orikalkum+full+helm+%2B+1/viewitem?obj=46594', 'itemid': '46594'},\n",
       " {'name': 'Orikalkum full helm + 2', 'price': 389000, 'url': 'https://secure.runescape.com/m=itemdb_rs/Orikalkum+full+helm+%2B+2/viewitem?obj=46597', 'itemid': '46597'},\n",
       " {'name': 'Orikalkum full helm + 3', 'price': 1129000, 'url': 'https://secure.runescape.com/m=itemdb_rs/Orikalkum+full+helm+%2B+3/viewitem?obj=46600', 'itemid': '46600'},\n",
       " {'name': 'Orikalkum gauntlets', 'price': 2611, 'url': 'https://secure.runescape.com/m=itemdb_rs/Orikalkum+gauntlets/viewitem?obj=46656', 'itemid': '46656'},\n",
       " {'name': 'Orikalkum gauntlets + 1', 'price': 122000, 'url': 'https://secure.runescape.com/m=itemdb_rs/Orikalkum+gauntlets+%2B+1/viewitem?obj=46659', 'itemid': '46659'},\n",
       " {'name': 'Orikalkum gauntlets + 2', 'price': 410000, 'url': 'https://secure.runescape.com/m=itemdb_rs/Orikalkum+gauntlets+%2B+2/viewitem?obj=46662', 'itemid': '46662'},\n",
       " {'name': 'Orikalkum gauntlets + 3', 'price': 286000, 'url': 'https://secure.runescape.com/m=itemdb_rs/Orikalkum+gauntlets+%2B+3/viewitem?obj=46665', 'itemid': '46665'},\n",
       " {'name': 'Orikalkum kiteshield', 'price': 141000, 'url': 'https://secure.runescape.com/m=itemdb_rs/Orikalkum+kiteshield/viewitem?obj=46630', 'itemid': '46630'},\n",
       " {'name': 'Orikalkum kiteshield + 1', 'price': 549000, 'url': 'https://secure.runescape.com/m=itemdb_rs/Orikalkum+kiteshield+%2B+1/viewitem?obj=46633', 'itemid': '46633'},\n",
       " {'name': 'Orikalkum kiteshield + 2', 'price': 1052000, 'url': 'https://secure.runescape.com/m=itemdb_rs/Orikalkum+kiteshield+%2B+2/viewitem?obj=46636', 'itemid': '46636'},\n",
       " {'name': 'Orikalkum kiteshield + 3', 'price': 912000, 'url': 'https://secure.runescape.com/m=itemdb_rs/Orikalkum+kiteshield+%2B+3/viewitem?obj=46639', 'itemid': '46639'},\n",
       " {'name': 'Orikalkum mattock', 'price': 147000, 'url': 'https://secure.runescape.com/m=itemdb_rs/Orikalkum+mattock/viewitem?obj=49557', 'itemid': '49557'},\n",
       " {'name': 'Orikalkum off hand warhammer', 'price': 105000, 'url': 'https://secure.runescape.com/m=itemdb_rs/Orikalkum+off+hand+warhammer/viewitem?obj=46552', 'itemid': '46552'},\n",
       " {'name': 'Orikalkum off hand warhammer + 1', 'price': 561000, 'url': 'https://secure.runescape.com/m=itemdb_rs/Orikalkum+off+hand+warhammer+%2B+1/viewitem?obj=46555', 'itemid': '46555'},\n",
       " {'name': 'Orikalkum off hand warhammer + 2', 'price': 1127000, 'url': 'https://secure.runescape.com/m=itemdb_rs/Orikalkum+off+hand+warhammer+%2B+2/viewitem?obj=46558', 'itemid': '46558'},\n",
       " {'name': 'Orikalkum off hand warhammer + 3', 'price': 1046000, 'url': 'https://secure.runescape.com/m=itemdb_rs/Orikalkum+off+hand+warhammer+%2B+3/viewitem?obj=46561', 'itemid': '46561'},\n",
       " {'name': 'Orikalkum pickaxe', 'price': 168000, 'url': 'https://secure.runescape.com/m=itemdb_rs/Orikalkum+pickaxe/viewitem?obj=46578', 'itemid': '46578'},\n",
       " {'name': 'Orikalkum pickaxe + 1', 'price': 366000, 'url': 'https://secure.runescape.com/m=itemdb_rs/Orikalkum+pickaxe+%2B+1/viewitem?obj=46581', 'itemid': '46581'},\n",
       " {'name': 'Orikalkum pickaxe + 2', 'price': 534000, 'url': 'https://secure.runescape.com/m=itemdb_rs/Orikalkum+pickaxe+%2B+2/viewitem?obj=46584', 'itemid': '46584'},\n",
       " {'name': 'Orikalkum pickaxe + 3', 'price': 1145000, 'url': 'https://secure.runescape.com/m=itemdb_rs/Orikalkum+pickaxe+%2B+3/viewitem?obj=46587', 'itemid': '46587'},\n",
       " {'name': 'Orikalkum platebody', 'price': 190000, 'url': 'https://secure.runescape.com/m=itemdb_rs/Orikalkum+platebody/viewitem?obj=46617', 'itemid': '46617'},\n",
       " {'name': 'Orikalkum platebody + 1', 'price': 517000, 'url': 'https://secure.runescape.com/m=itemdb_rs/Orikalkum+platebody+%2B+1/viewitem?obj=46620', 'itemid': '46620'},\n",
       " {'name': 'Orikalkum platebody + 2', 'price': 1632000, 'url': 'https://secure.runescape.com/m=itemdb_rs/Orikalkum+platebody+%2B+2/viewitem?obj=46623', 'itemid': '46623'},\n",
       " {'name': 'Orikalkum platebody + 3', 'price': 2673000, 'url': 'https://secure.runescape.com/m=itemdb_rs/Orikalkum+platebody+%2B+3/viewitem?obj=46626', 'itemid': '46626'},\n",
       " {'name': 'Orikalkum platelegs', 'price': 9328, 'url': 'https://secure.runescape.com/m=itemdb_rs/Orikalkum+platelegs/viewitem?obj=46604', 'itemid': '46604'},\n",
       " {'name': 'Orikalkum platelegs + 1', 'price': 608000, 'url': 'https://secure.runescape.com/m=itemdb_rs/Orikalkum+platelegs+%2B+1/viewitem?obj=46607', 'itemid': '46607'},\n",
       " {'name': 'Orikalkum platelegs + 2', 'price': 698000, 'url': 'https://secure.runescape.com/m=itemdb_rs/Orikalkum+platelegs+%2B+2/viewitem?obj=46610', 'itemid': '46610'},\n",
       " {'name': 'Orikalkum platelegs + 3', 'price': 1948000, 'url': 'https://secure.runescape.com/m=itemdb_rs/Orikalkum+platelegs+%2B+3/viewitem?obj=46613', 'itemid': '46613'},\n",
       " {'name': 'Orikalkum warhammer', 'price': 117000, 'url': 'https://secure.runescape.com/m=itemdb_rs/Orikalkum+warhammer/viewitem?obj=46539', 'itemid': '46539'},\n",
       " {'name': 'Orikalkum warhammer + 1', 'price': 533000, 'url': 'https://secure.runescape.com/m=itemdb_rs/Orikalkum+warhammer+%2B+1/viewitem?obj=46542', 'itemid': '46542'},\n",
       " {'name': 'Orikalkum warhammer + 2', 'price': 489000, 'url': 'https://secure.runescape.com/m=itemdb_rs/Orikalkum+warhammer+%2B+2/viewitem?obj=46545', 'itemid': '46545'},\n",
       " {'name': 'Orikalkum warhammer + 3', 'price': 1093000, 'url': 'https://secure.runescape.com/m=itemdb_rs/Orikalkum+warhammer+%2B+3/viewitem?obj=46548', 'itemid': '46548'},\n",
       " {'name': 'Huge bladed orikalkum salvage', 'price': 1228000, 'url': 'https://secure.runescape.com/m=itemdb_rs/Huge+bladed+orikalkum+salvage/viewitem?obj=52548', 'itemid': '52548'},\n",
       " {'name': 'Huge plated orikalkum salvage', 'price': 1227000, 'url': 'https://secure.runescape.com/m=itemdb_rs/Huge+plated+orikalkum+salvage/viewitem?obj=51105', 'itemid': '51105'},\n",
       " {'name': 'Large blunt orikalkum salvage', 'price': 971000, 'url': 'https://secure.runescape.com/m=itemdb_rs/Large+blunt+orikalkum+salvage/viewitem?obj=52552', 'itemid': '52552'},\n",
       " {'name': 'Large plated orikalkum salvage', 'price': 972000, 'url': 'https://secure.runescape.com/m=itemdb_rs/Large+plated+orikalkum+salvage/viewitem?obj=51877', 'itemid': '51877'},\n",
       " {'name': 'Medium bladed orikalkum salvage', 'price': 728000, 'url': 'https://secure.runescape.com/m=itemdb_rs/Medium+bladed+orikalkum+salvage/viewitem?obj=50252', 'itemid': '50252'},\n",
       " {'name': 'Medium blunt orikalkum salvage', 'price': 722000, 'url': 'https://secure.runescape.com/m=itemdb_rs/Medium+blunt+orikalkum+salvage/viewitem?obj=52121', 'itemid': '52121'},\n",
       " {'name': 'Medium plated orikalkum salvage', 'price': 720000, 'url': 'https://secure.runescape.com/m=itemdb_rs/Medium+plated+orikalkum+salvage/viewitem?obj=51875', 'itemid': '51875'},\n",
       " {'name': 'Medium spiky orikalkum salvage', 'price': 714000, 'url': 'https://secure.runescape.com/m=itemdb_rs/Medium+spiky+orikalkum+salvage/viewitem?obj=51103', 'itemid': '51103'},\n",
       " {'name': 'Orikalkum bar', 'price': 7132, 'url': 'https://secure.runescape.com/m=itemdb_rs/Orikalkum+bar/viewitem?obj=44838', 'itemid': '44838'},\n",
       " {'name': 'Orikalkum ore box', 'price': 678000, 'url': 'https://secure.runescape.com/m=itemdb_rs/Orikalkum+ore+box/viewitem?obj=44791', 'itemid': '44791'},\n",
       " {'name': 'Small bladed orikalkum salvage', 'price': 472000, 'url': 'https://secure.runescape.com/m=itemdb_rs/Small+bladed+orikalkum+salvage/viewitem?obj=52945', 'itemid': '52945'},\n",
       " {'name': 'Small plated orikalkum salvage', 'price': 467000, 'url': 'https://secure.runescape.com/m=itemdb_rs/Small+plated+orikalkum+salvage/viewitem?obj=51873', 'itemid': '51873'},\n",
       " {'name': 'Small spiky orikalkum salvage', 'price': 468000, 'url': 'https://secure.runescape.com/m=itemdb_rs/Small+spiky+orikalkum+salvage/viewitem?obj=52947', 'itemid': '52947'},\n",
       " {'name': 'Tiny bladed orikalkum salvage', 'price': 227000, 'url': 'https://secure.runescape.com/m=itemdb_rs/Tiny+bladed+orikalkum+salvage/viewitem?obj=51869', 'itemid': '51869'},\n",
       " {'name': 'Tiny blunt orikalkum salvage', 'price': 216000, 'url': 'https://secure.runescape.com/m=itemdb_rs/Tiny+blunt+orikalkum+salvage/viewitem?obj=52550', 'itemid': '52550'},\n",
       " {'name': 'Tiny spiky orikalkum salvage', 'price': 228000, 'url': 'https://secure.runescape.com/m=itemdb_rs/Tiny+spiky+orikalkum+salvage/viewitem?obj=51871', 'itemid': '51871'}]"
      ]
     },
     "execution_count": 59,
     "metadata": {},
     "output_type": "execute_result"
    }
   ],
   "source": [
    "search(\"Orikalkum\")"
   ]
  },
  {
   "cell_type": "code",
   "execution_count": 60,
   "id": "897730ae-1ad2-4035-b973-1e637fc16b9e",
   "metadata": {},
   "outputs": [
    {
     "data": {
      "text/plain": [
       "[{'name': 'Magic notepaper', 'price': 440, 'url': 'https://secure.runescape.com/m=itemdb_rs/Magic+notepaper/viewitem?obj=30372', 'itemid': '30372'}]"
      ]
     },
     "execution_count": 60,
     "metadata": {},
     "output_type": "execute_result"
    }
   ],
   "source": [
    "search(\"notepaper\")"
   ]
  },
  {
   "cell_type": "code",
   "execution_count": null,
   "id": "c348e25f-d9c4-44f4-9033-bb26694f070a",
   "metadata": {},
   "outputs": [],
   "source": []
  }
 ],
 "metadata": {
  "kernelspec": {
   "display_name": "Python 3 (ipykernel)",
   "language": "python",
   "name": "python3"
  },
  "language_info": {
   "codemirror_mode": {
    "name": "ipython",
    "version": 3
   },
   "file_extension": ".py",
   "mimetype": "text/x-python",
   "name": "python",
   "nbconvert_exporter": "python",
   "pygments_lexer": "ipython3",
   "version": "3.10.4"
  },
  "widgets": {
   "application/vnd.jupyter.widget-state+json": {
    "state": {},
    "version_major": 2,
    "version_minor": 0
   }
  }
 },
 "nbformat": 4,
 "nbformat_minor": 5
}
