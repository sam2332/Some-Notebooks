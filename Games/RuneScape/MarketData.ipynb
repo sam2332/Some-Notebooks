{
 "cells": [
  {
   "cell_type": "code",
   "execution_count": 1,
   "id": "f8585bba-0616-47e5-bde3-9f4337f2d48e",
   "metadata": {},
   "outputs": [],
   "source": [
    "import time\n",
    "\n",
    "import requests\n",
    "from bs4 import BeautifulSoup"
   ]
  },
  {
   "cell_type": "markdown",
   "id": "c69b4f5e-1e5c-45e9-8171-9e64e933e277",
   "metadata": {},
   "source": [
    "https://secure.runescape.com/m=itemdb_rs/top100?list=0"
   ]
  },
  {
   "cell_type": "code",
   "execution_count": 2,
   "id": "a3ed5240-3abb-4d83-bf35-a51c220c47dd",
   "metadata": {},
   "outputs": [],
   "source": [
    "class RS_ITEM:\n",
    "    def __init__(self, item=None):\n",
    "        if item is None:\n",
    "            self.item = {}\n",
    "        else:\n",
    "            self.item = item\n",
    "\n",
    "    def __repr__(self):\n",
    "        return f\"{self.item}\"\n",
    "\n",
    "    @staticmethod\n",
    "    def fromSearchHTMLRow(soup):\n",
    "        c = RS_ITEM()\n",
    "        tds = soup.find_all(\"td\")\n",
    "        d = tds[2]\n",
    "        c.item = {\n",
    "            \"name\": tds[0].find(\"a\").get(\"title\").strip(),\n",
    "            \"price\": int(\n",
    "                d.find(\"a\")\n",
    "                .text.strip()\n",
    "                .replace(\",\", \"\")\n",
    "                .replace(\".\", \"\")\n",
    "                .replace(\"k\", \"00\")\n",
    "            ),\n",
    "            \"url\": d.find(\"a\").get(\"href\"),\n",
    "            \"itemid\": d.find(\"a\").get(\"href\").split(\"?\")[-1].split(\"=\")[-1],\n",
    "        }\n",
    "        return c"
   ]
  },
  {
   "cell_type": "code",
   "execution_count": 3,
   "id": "6f362c62-09ba-4b7d-a2eb-9d2cf8aa113a",
   "metadata": {},
   "outputs": [],
   "source": [
    "def search(query, page=None):\n",
    "    items = []\n",
    "\n",
    "    if page == None:\n",
    "        res = requests.post(\n",
    "            \"https://secure.runescape.com/m=itemdb_rs/results#main-search\",\n",
    "            {\"query\": query},\n",
    "        )\n",
    "    else:\n",
    "        res = requests.get(f\"https://secure.runescape.com/m=itemdb_rs/results{page}\")\n",
    "\n",
    "    soup = BeautifulSoup(res.text)\n",
    "    table = soup.find(\"table\", {\"class\": \"results-table\"})\n",
    "    tbody = table.find(\"tbody\")\n",
    "    # print(table)\n",
    "    for row in tbody.find_all(\"tr\"):\n",
    "        items.append(RS_ITEM.fromSearchHTMLRow(row))\n",
    "\n",
    "    if page == None:\n",
    "        pages = soup.find(\"div\", {\"class\": \"pagination\"}).find_all(\"li\")\n",
    "        if len(pages) > 1:\n",
    "            for page in range(1, len(pages)):\n",
    "                items.extend(search(query, page=pages[page].find(\"a\").get(\"href\")))\n",
    "\n",
    "    return items"
   ]
  },
  {
   "cell_type": "code",
   "execution_count": 4,
   "id": "521be75d-35dc-459d-8784-97cd9d26e8bb",
   "metadata": {},
   "outputs": [
    {
     "data": {
      "text/plain": [
       "[{'name': 'Orichalcite ore', 'price': 2951, 'url': 'https://secure.runescape.com/m=itemdb_rs/Orichalcite+ore/viewitem?obj=44822', 'itemid': '44822'},\n",
       " {'name': 'Orichalcite stone spirit', 'price': 186, 'url': 'https://secure.runescape.com/m=itemdb_rs/Orichalcite+stone+spirit/viewitem?obj=44809', 'itemid': '44809'}]"
      ]
     },
     "execution_count": 4,
     "metadata": {},
     "output_type": "execute_result"
    }
   ],
   "source": [
    "search(\"Orichalcite Ore\")"
   ]
  },
  {
   "cell_type": "code",
   "execution_count": 5,
   "id": "dd2395ca-fed9-4667-857c-7007d231252a",
   "metadata": {},
   "outputs": [
    {
     "data": {
      "text/plain": [
       "[{'name': 'Drakolith stone spirit', 'price': 128, 'url': 'https://secure.runescape.com/m=itemdb_rs/Drakolith+stone+spirit/viewitem?obj=44810', 'itemid': '44810'},\n",
       " {'name': 'Drakolith', 'price': 3533, 'url': 'https://secure.runescape.com/m=itemdb_rs/Drakolith/viewitem?obj=44824', 'itemid': '44824'}]"
      ]
     },
     "execution_count": 5,
     "metadata": {},
     "output_type": "execute_result"
    }
   ],
   "source": [
    "search(\"Drakolith\")"
   ]
  },
  {
   "cell_type": "code",
   "execution_count": 6,
   "id": "86b8197b-e1b7-47d6-8d2c-f681b74a4f10",
   "metadata": {},
   "outputs": [
    {
     "name": "stdout",
     "output_type": "stream",
     "text": [
      "{'name': 'Orikalkum 2h warhammer + 3', 'price': 242900, 'url': 'https://secure.runescape.com/m=itemdb_rs/Orikalkum+2h+warhammer+%2B+3/viewitem?obj=46574', 'itemid': '46574'}\n",
      "{'name': 'Orikalkum armour set + 3', 'price': 869700, 'url': 'https://secure.runescape.com/m=itemdb_rs/Orikalkum+armour+set+%2B+3/viewitem?obj=44666', 'itemid': '44666'}\n",
      "{'name': 'Orikalkum armoured boots + 3', 'price': 37200, 'url': 'https://secure.runescape.com/m=itemdb_rs/Orikalkum+armoured+boots+%2B+3/viewitem?obj=46652', 'itemid': '46652'}\n",
      "{'name': 'Orikalkum full helm + 3', 'price': 112900, 'url': 'https://secure.runescape.com/m=itemdb_rs/Orikalkum+full+helm+%2B+3/viewitem?obj=46600', 'itemid': '46600'}\n",
      "{'name': 'Orikalkum gauntlets + 3', 'price': 28600, 'url': 'https://secure.runescape.com/m=itemdb_rs/Orikalkum+gauntlets+%2B+3/viewitem?obj=46665', 'itemid': '46665'}\n",
      "{'name': 'Orikalkum kiteshield + 3', 'price': 91200, 'url': 'https://secure.runescape.com/m=itemdb_rs/Orikalkum+kiteshield+%2B+3/viewitem?obj=46639', 'itemid': '46639'}\n",
      "{'name': 'Orikalkum off hand warhammer + 3', 'price': 104600, 'url': 'https://secure.runescape.com/m=itemdb_rs/Orikalkum+off+hand+warhammer+%2B+3/viewitem?obj=46561', 'itemid': '46561'}\n",
      "{'name': 'Orikalkum pickaxe + 3', 'price': 114500, 'url': 'https://secure.runescape.com/m=itemdb_rs/Orikalkum+pickaxe+%2B+3/viewitem?obj=46587', 'itemid': '46587'}\n",
      "{'name': 'Orikalkum platebody + 3', 'price': 267300, 'url': 'https://secure.runescape.com/m=itemdb_rs/Orikalkum+platebody+%2B+3/viewitem?obj=46626', 'itemid': '46626'}\n",
      "{'name': 'Orikalkum platelegs + 3', 'price': 194100, 'url': 'https://secure.runescape.com/m=itemdb_rs/Orikalkum+platelegs+%2B+3/viewitem?obj=46613', 'itemid': '46613'}\n",
      "{'name': 'Orikalkum warhammer + 3', 'price': 110800, 'url': 'https://secure.runescape.com/m=itemdb_rs/Orikalkum+warhammer+%2B+3/viewitem?obj=46548', 'itemid': '46548'}\n"
     ]
    }
   ],
   "source": [
    "ori = search(\"Orikalkum\")\n",
    "for item in ori:\n",
    "    if \"+ 3\" in item.item[\"name\"]:\n",
    "        print(item)"
   ]
  },
  {
   "cell_type": "code",
   "execution_count": 7,
   "id": "897730ae-1ad2-4035-b973-1e637fc16b9e",
   "metadata": {},
   "outputs": [
    {
     "data": {
      "text/plain": [
       "[{'name': 'Magic notepaper', 'price': 438, 'url': 'https://secure.runescape.com/m=itemdb_rs/Magic+notepaper/viewitem?obj=30372', 'itemid': '30372'}]"
      ]
     },
     "execution_count": 7,
     "metadata": {},
     "output_type": "execute_result"
    }
   ],
   "source": [
    "search(\"notepaper\")"
   ]
  },
  {
   "cell_type": "code",
   "execution_count": 8,
   "id": "c348e25f-d9c4-44f4-9033-bb26694f070a",
   "metadata": {},
   "outputs": [
    {
     "data": {
      "text/plain": [
       "[{'name': 'Chronotes', 'price': 224, 'url': 'https://secure.runescape.com/m=itemdb_rs/Chronotes/viewitem?obj=49430', 'itemid': '49430'}]"
      ]
     },
     "execution_count": 8,
     "metadata": {},
     "output_type": "execute_result"
    }
   ],
   "source": [
    "search('chronotes')"
   ]
  },
  {
   "cell_type": "code",
   "execution_count": 9,
   "id": "cc9cecc7-3a4c-49b8-9b80-51110e9dfb86",
   "metadata": {},
   "outputs": [
    {
     "data": {
      "text/plain": [
       "452000"
      ]
     },
     "execution_count": 9,
     "metadata": {},
     "output_type": "execute_result"
    }
   ],
   "source": [
    "226*2000\n"
   ]
  },
  {
   "cell_type": "code",
   "execution_count": null,
   "id": "93341600-0117-4090-a465-80f25b44c9ba",
   "metadata": {},
   "outputs": [],
   "source": []
  }
 ],
 "metadata": {
  "kernelspec": {
   "display_name": "Python 3 (ipykernel)",
   "language": "python",
   "name": "python3"
  },
  "language_info": {
   "codemirror_mode": {
    "name": "ipython",
    "version": 3
   },
   "file_extension": ".py",
   "mimetype": "text/x-python",
   "name": "python",
   "nbconvert_exporter": "python",
   "pygments_lexer": "ipython3",
   "version": "3.10.4"
  },
  "widgets": {
   "application/vnd.jupyter.widget-state+json": {
    "state": {},
    "version_major": 2,
    "version_minor": 0
   }
  }
 },
 "nbformat": 4,
 "nbformat_minor": 5
}
