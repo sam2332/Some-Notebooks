{
 "cells": [
  {
   "cell_type": "code",
   "execution_count": 1,
   "id": "1c901a61-2f6c-4aa5-95be-ec21553dec26",
   "metadata": {},
   "outputs": [],
   "source": [
    "import json\n",
    "import os\n",
    "from collections import defaultdict\n",
    "from datetime import datetime\n",
    "from pathlib import Path\n",
    "\n",
    "import matplotlib.pyplot as plt"
   ]
  },
  {
   "cell_type": "code",
   "execution_count": 11,
   "id": "4a9bc48d-3afe-43ab-80fd-d65c733349e2",
   "metadata": {},
   "outputs": [],
   "source": [
    "class Day:\n",
    "    def __init__(self, file):\n",
    "        self.file = file\n",
    "        self.activities, self.skills = json.loads(self.file.read_text())\n",
    "\n",
    "\n",
    "def checkAllElementsEqual(lst):\n",
    "    return len(set(lst)) == 1\n",
    "\n",
    "\n",
    "class Dataset:\n",
    "    def __init__(self, days):\n",
    "        self.days = days\n",
    "\n",
    "    def getSkillExpLists(\n",
    "        self, removeDeltaZero=False, minMaxToleranceGT=None, LastXDays=None\n",
    "    ):\n",
    "        data = self.days\n",
    "        if LastXDays is not None:\n",
    "            days = self.limitDays(LastXDays)\n",
    "        if removeDeltaZero:\n",
    "            data = self.removeDeltaZero(days)\n",
    "        else:\n",
    "            out = defaultdict(list)\n",
    "            for item in self.days:\n",
    "                for skill in self.days[item].skills:\n",
    "                    out[skill].append(int(self.days[item].skills[skill][\"level\"]))\n",
    "            data = dict(out)\n",
    "        if minMaxToleranceGT is not None:\n",
    "            data = self.removeMinMaxTollerance(data, minMaxToleranceGT)\n",
    "\n",
    "        return (days.keys(), data)\n",
    "\n",
    "    def removeMinMaxTollerance(self, ds, minMaxToleranceGT):\n",
    "        keep = []\n",
    "        for skill in ds:\n",
    "            ma = max(ds[skill])\n",
    "            mi = min(ds[skill])\n",
    "            de = int(ma - mi)\n",
    "            if de > minMaxToleranceGT:\n",
    "                keep.append(skill)\n",
    "        new_ds = {}\n",
    "        for skill in keep:\n",
    "            new_ds[skill] = ds[skill]\n",
    "        return dict(new_ds)\n",
    "\n",
    "    def limitDays(self, LastXDays):\n",
    "        new_days = {}\n",
    "        for day in self.days:\n",
    "            if (datetime.now() - day).days <= LastXDays:\n",
    "                new_days[day] = self.days[day]\n",
    "        return new_days\n",
    "\n",
    "    def getDays(self):\n",
    "        return list(self.days.keys())\n",
    "\n",
    "    def removeDeltaZero(self, data):\n",
    "        values = defaultdict(list)\n",
    "        for day in data:\n",
    "            for skill in self.days[day].skills:\n",
    "                values[skill].append(int(self.days[day].skills[skill][\"level\"]))\n",
    "        keep = []\n",
    "        for skill in values:\n",
    "            if not checkAllElementsEqual(values[skill]):\n",
    "                keep.append(skill)\n",
    "        new_ds = {}\n",
    "        for skill in keep:\n",
    "            new_ds[skill] = values[skill]\n",
    "        return dict(new_ds)\n",
    "\n",
    "\n",
    "def getDataSet():\n",
    "    paths = list(\n",
    "        filter(None, [p if p.is_file() else None for p in Path(\"data\").iterdir()])\n",
    "    )\n",
    "    paths = sorted(paths, key=os.path.getmtime)\n",
    "    return Dataset(\n",
    "        {\n",
    "            datetime.strptime(f.name.replace(\".json\", \"\"), \"%Y-%m-%d\"): Day(f)\n",
    "            for f in list(paths)\n",
    "        }\n",
    "    )"
   ]
  },
  {
   "cell_type": "markdown",
   "id": "6978e375-2c74-4df0-9b8a-a1229a0ac9a4",
   "metadata": {},
   "source": [
    "# Main"
   ]
  },
  {
   "cell_type": "code",
   "execution_count": 12,
   "id": "2a330b3c-b72c-476d-8c1e-8e9d0e10f6d0",
   "metadata": {},
   "outputs": [],
   "source": [
    "ds = getDataSet()"
   ]
  },
  {
   "cell_type": "code",
   "execution_count": null,
   "id": "03a886ee-6f53-4513-9fd4-c798c48b1890",
   "metadata": {},
   "outputs": [],
   "source": []
  },
  {
   "cell_type": "code",
   "execution_count": 15,
   "id": "72483daf-cc4b-41d6-bb92-097c7987a7d2",
   "metadata": {},
   "outputs": [
    {
     "data": {
      "text/plain": [
       "(dict_keys([datetime.datetime(2022, 9, 20, 0, 0), datetime.datetime(2022, 9, 21, 0, 0), datetime.datetime(2022, 9, 22, 0, 0), datetime.datetime(2022, 9, 23, 0, 0), datetime.datetime(2022, 9, 24, 0, 0)]),\n",
       " {'prayer': [33, 33, 33, 35, 35],\n",
       "  'fletching': [60, 60, 60, 63, 63],\n",
       "  'fishing': [51, 51, 53, 53, 53],\n",
       "  'firemaking': [52, 52, 52, 57, 57],\n",
       "  'crafting': [46, 46, 46, 50, 50],\n",
       "  'construction': [38, 38, 38, 41, 41],\n",
       "  'divination': [43, 43, 43, 48, 48]})"
      ]
     },
     "execution_count": 15,
     "metadata": {},
     "output_type": "execute_result"
    }
   ],
   "source": [
    "x_Axes, expandedDataset = ds.getSkillExpLists(\n",
    "    removeDeltaZero=True, minMaxToleranceGT=1, LastXDays=5\n",
    ")\n",
    "del expandedDataset[\"overall\"]\n",
    "x_Axes, expandedDataset"
   ]
  },
  {
   "cell_type": "code",
   "execution_count": null,
   "id": "8dcd3c45-e23e-4ea2-9331-fe72007e2245",
   "metadata": {},
   "outputs": [],
   "source": []
  },
  {
   "cell_type": "code",
   "execution_count": 16,
   "id": "88799e12-7bfb-4e58-9004-6d99ee2c1ecc",
   "metadata": {},
   "outputs": [
    {
     "name": "stdout",
     "output_type": "stream",
     "text": [
      "0 63\n"
     ]
    },
    {
     "data": {
      "image/png": "[encoded data removed]",
      "text/plain": [
       "<Figure size 576x576 with 1 Axes>"
      ]
     },
     "metadata": {},
     "output_type": "display_data"
    }
   ],
   "source": [
    "plt.figure(figsize=(8, 8), facecolor=\"white\")\n",
    "# Plot a simple line chart\n",
    "mi = 0\n",
    "ma = 0\n",
    "for name in expandedDataset:\n",
    "    l = expandedDataset[name]\n",
    "    for item in l:\n",
    "        mi = min(item, mi)\n",
    "        ma = max(item, ma)\n",
    "    plt.plot(x_Axes, l, label=name)\n",
    "# Plot another line on the same chart/graph\n",
    "plt.legend(loc=\"lower left\")\n",
    "plt.xticks(rotation=45)\n",
    "print(mi, ma)\n",
    "plt.yticks(list(range(mi, ma, 10)))\n",
    "plt.grid(True, color=\"grey\", linewidth=\"1.4\", linestyle=\"-.\")\n",
    "\n",
    "plt.savefig(f'charts/{datetime.now().date().strftime(\"%m-%d-%Y\")}.png')"
   ]
  },
  {
   "cell_type": "code",
   "execution_count": 17,
   "id": "a6abee63-16de-4aa4-bcb5-28d3c25bac58",
   "metadata": {},
   "outputs": [
    {
     "data": {
      "text/plain": [
       "'09-25-2022'"
      ]
     },
     "execution_count": 17,
     "metadata": {},
     "output_type": "execute_result"
    }
   ],
   "source": [
    "datetime.now().date().strftime(\"%m-%d-%Y\")"
   ]
  },
  {
   "cell_type": "code",
   "execution_count": 1,
   "id": "c8c563bb-268f-4cd0-ae85-27c6e99b25ba",
   "metadata": {},
   "outputs": [
    {
     "ename": "SyntaxError",
     "evalue": "invalid syntax (1377255658.py, line 3)",
     "output_type": "error",
     "traceback": [
      "\u001b[0;36m  Input \u001b[0;32mIn [1]\u001b[0;36m\u001b[0m\n\u001b[0;31m    def\u001b[0m\n\u001b[0m        ^\u001b[0m\n\u001b[0;31mSyntaxError\u001b[0m\u001b[0;31m:\u001b[0m invalid syntax\n"
     ]
    }
   ],
   "source": []
  },
  {
   "cell_type": "code",
   "execution_count": null,
   "id": "1ba7ab07-6fa5-4b5b-b37c-899f386e349d",
   "metadata": {},
   "outputs": [],
   "source": []
  }
 ],
 "metadata": {
  "kernelspec": {
   "display_name": "Python 3 (ipykernel)",
   "language": "python",
   "name": "python3"
  },
  "language_info": {
   "codemirror_mode": {
    "name": "ipython",
    "version": 3
   },
   "file_extension": ".py",
   "mimetype": "text/x-python",
   "name": "python",
   "nbconvert_exporter": "python",
   "pygments_lexer": "ipython3",
   "version": "3.10.6"
  },
  "widgets": {
   "application/vnd.jupyter.widget-state+json": {
    "state": {},
    "version_major": 2,
    "version_minor": 0
   }
  }
 },
 "nbformat": 4,
 "nbformat_minor": 5
}
