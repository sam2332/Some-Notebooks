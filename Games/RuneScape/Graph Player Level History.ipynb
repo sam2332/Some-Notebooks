{
 "cells": [
  {
   "cell_type": "code",
   "execution_count": null,
   "id": "1c901a61-2f6c-4aa5-95be-ec21553dec26",
   "metadata": {},
   "outputs": [],
   "source": [
    "import json\n",
    "import os\n",
    "from collections import defaultdict\n",
    "from datetime import datetime\n",
    "from pathlib import Path\n",
    "\n",
    "import matplotlib.pyplot as plt"
   ]
  },
  {
   "cell_type": "code",
   "execution_count": 86,
   "id": "4a9bc48d-3afe-43ab-80fd-d65c733349e2",
   "metadata": {},
   "outputs": [],
   "source": [
    "class Day:\n",
    "    def __init__(self, file):\n",
    "        self.file = file\n",
    "        self.activities, self.skills = json.loads(self.file.read_text())\n",
    "\n",
    "\n",
    "def checkAllElementsEqual(lst):\n",
    "    return len(set(lst)) == 1\n",
    "\n",
    "\n",
    "class Dataset:\n",
    "    def __init__(self, days):\n",
    "        self.days = days\n",
    "\n",
    "    def getSkillExpLists(self, removeDeltaZero=False, minMaxToleranceGT=None):\n",
    "        if removeDeltaZero:\n",
    "            data = self.removeDeltaZero()\n",
    "        else:\n",
    "            out = defaultdict(list)\n",
    "            for item in self.days:\n",
    "                for skill in self.days[item].skills:\n",
    "                    out[skill].append(int(self.days[item].skills[skill][\"experience\"]))\n",
    "            data = dict(out)\n",
    "        if minMaxToleranceGT is not None:\n",
    "            data = self.removeMinMaxTollerance(data, minMaxToleranceGT)\n",
    "        return data\n",
    "\n",
    "    def removeMinMaxTollerance(self, ds, minMaxToleranceGT):\n",
    "        keep = []\n",
    "        for skill in ds:\n",
    "            ma = max(ds[skill])\n",
    "            mi = min(ds[skill])\n",
    "            de = int(ma - mi)\n",
    "            if de > minMaxToleranceGT:\n",
    "                keep.append(skill)\n",
    "        new_ds = {}\n",
    "        for skill in keep:\n",
    "            new_ds[skill] = ds[skill]\n",
    "        return dict(new_ds)\n",
    "\n",
    "    def getDays(self):\n",
    "        return list(self.days.keys())\n",
    "\n",
    "    def removeDeltaZero(self):\n",
    "        values = defaultdict(list)\n",
    "        for day in self.days:\n",
    "            for skill in self.days[day].skills:\n",
    "                values[skill].append(int(self.days[day].skills[skill][\"level\"]))\n",
    "        keep = []\n",
    "        for skill in values:\n",
    "            if not checkAllElementsEqual(values[skill]):\n",
    "                keep.append(skill)\n",
    "        new_ds = {}\n",
    "        for skill in keep:\n",
    "            new_ds[skill] = values[skill]\n",
    "        return dict(new_ds)\n",
    "\n",
    "\n",
    "def getDataSet():\n",
    "    paths = list(\n",
    "        filter(None, [p if p.is_file() else None for p in Path(\"data\").iterdir()])\n",
    "    )\n",
    "    paths = sorted(paths, key=os.path.getmtime)\n",
    "    return Dataset(\n",
    "        {\n",
    "            datetime.strptime(f.name.replace(\".json\", \"\"), \"%Y-%m-%d\"): Day(f)\n",
    "            for f in list(paths)\n",
    "        }\n",
    "    )"
   ]
  },
  {
   "cell_type": "code",
   "execution_count": null,
   "id": "29a6f19a-baeb-4ec2-9f26-f68a741e31b9",
   "metadata": {},
   "outputs": [],
   "source": []
  },
  {
   "cell_type": "code",
   "execution_count": 87,
   "id": "eb6490ba-0aa7-4523-9fb0-94cb6e6cf7c3",
   "metadata": {},
   "outputs": [],
   "source": [
    "ds = getDataSet()\n",
    "x = ds.getDays()"
   ]
  },
  {
   "cell_type": "code",
   "execution_count": 88,
   "id": "72483daf-cc4b-41d6-bb92-097c7987a7d2",
   "metadata": {},
   "outputs": [
    {
     "data": {
      "text/plain": [
       "{'fletching': [59, 60, 60, 60, 60, 60, 60, 60, 60, 60, 63],\n",
       " 'firemaking': [50, 52, 52, 52, 52, 52, 52, 52, 52, 52, 57],\n",
       " 'crafting': [46, 46, 46, 46, 46, 46, 46, 46, 46, 46, 50],\n",
       " 'smithing': [79, 82, 82, 82, 82, 82, 82, 82, 83, 83, 83],\n",
       " 'mining': [83, 84, 85, 87, 87, 87, 87, 87, 87, 87, 87],\n",
       " 'slayer': [1, 1, 1, 15, 15, 15, 15, 15, 15, 15, 15],\n",
       " 'divination': [43, 43, 43, 43, 43, 43, 43, 43, 43, 43, 48]}"
      ]
     },
     "execution_count": 88,
     "metadata": {},
     "output_type": "execute_result"
    }
   ],
   "source": [
    "expandedDataset = ds.getSkillExpLists(removeDeltaZero=True, minMaxToleranceGT=3)\n",
    "del expandedDataset[\"overall\"]\n",
    "expandedDataset"
   ]
  },
  {
   "cell_type": "code",
   "execution_count": null,
   "id": "8dcd3c45-e23e-4ea2-9331-fe72007e2245",
   "metadata": {},
   "outputs": [],
   "source": []
  },
  {
   "cell_type": "code",
   "execution_count": 83,
   "id": "88799e12-7bfb-4e58-9004-6d99ee2c1ecc",
   "metadata": {},
   "outputs": [
    {
     "data": {
      "image/png": "[encoded data removed]",
      "text/plain": [
       "<Figure size 432x288 with 1 Axes>"
      ]
     },
     "metadata": {
      "needs_background": "light"
     },
     "output_type": "display_data"
    }
   ],
   "source": [
    "# Plot a simple line chart\n",
    "for name in expandedDataset:\n",
    "    l = expandedDataset[name]\n",
    "    plt.plot(x, l, label=name)\n",
    "# Plot another line on the same chart/graph\n",
    "plt.legend(loc=\"lower left\")\n",
    "plt.savefig(f'charts/{datetime.now().date().strftime(\"%m-%d-%Y\")}.png')"
   ]
  },
  {
   "cell_type": "code",
   "execution_count": 73,
   "id": "a6abee63-16de-4aa4-bcb5-28d3c25bac58",
   "metadata": {},
   "outputs": [
    {
     "data": {
      "text/plain": [
       "'09-24-2022'"
      ]
     },
     "execution_count": 73,
     "metadata": {},
     "output_type": "execute_result"
    }
   ],
   "source": [
    "datetime.now().date().strftime(\"%m-%d-%Y\")"
   ]
  },
  {
   "cell_type": "code",
   "execution_count": null,
   "id": "c8c563bb-268f-4cd0-ae85-27c6e99b25ba",
   "metadata": {},
   "outputs": [],
   "source": []
  }
 ],
 "metadata": {
  "kernelspec": {
   "display_name": "Python 3 (ipykernel)",
   "language": "python",
   "name": "python3"
  },
  "language_info": {
   "codemirror_mode": {
    "name": "ipython",
    "version": 3
   },
   "file_extension": ".py",
   "mimetype": "text/x-python",
   "name": "python",
   "nbconvert_exporter": "python",
   "pygments_lexer": "ipython3",
   "version": "3.10.4"
  },
  "widgets": {
   "application/vnd.jupyter.widget-state+json": {
    "state": {},
    "version_major": 2,
    "version_minor": 0
   }
  }
 },
 "nbformat": 4,
 "nbformat_minor": 5
}
