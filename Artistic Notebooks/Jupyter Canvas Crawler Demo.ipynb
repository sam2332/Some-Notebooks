{
 "cells": [
  {
   "cell_type": "code",
   "execution_count": 1,
   "id": "67036533-440b-4434-9067-aca47f5446ea",
   "metadata": {
    "tags": []
   },
   "outputs": [],
   "source": [
    "import numpy as np\n",
    "import time\n",
    "from copy import copy\n",
    "import random\n",
    "from IPython.display import clear_output,display\n",
    "from ipycanvas import Canvas, hold_canvas"
   ]
  },
  {
   "cell_type": "code",
   "execution_count": 2,
   "id": "dcdc2fce-ed66-4435-9dda-fc655898cd5a",
   "metadata": {
    "tags": []
   },
   "outputs": [],
   "source": [
    "world_width = 800\n",
    "world_height = 600\n",
    "canvas = Canvas(width=world_width,height=world_height)\n",
    "canvas.fill_style = 'black'\n",
    "canvas.fill_rect(0,0,world_width,world_height)"
   ]
  },
  {
   "cell_type": "code",
   "execution_count": 3,
   "id": "8c3b9cae-d6e7-43d0-9522-202b585354e7",
   "metadata": {
    "tags": []
   },
   "outputs": [],
   "source": [
    "class Crawler():\n",
    "    def __init__(self,x,y):\n",
    "        self.x=x\n",
    "        self.y=y\n",
    "        \n",
    "        self.ox=x\n",
    "        self.oy=y\n",
    "        \n",
    "        self.r = random.randint(50,200)\n",
    "        self.g = random.randint(50,200)\n",
    "        self.b = random.randint(50,200)\n",
    "        self.color_distance_max = 255\n",
    "        self.color_distance = int(self.color_distance_max/2)\n",
    "        self.color_distance_walk_mode = random.choice([\"+\",\"-\"])\n",
    "        self.color_distance_walk_color = random.choice([\"r\",\"g\",\"b\"])\n",
    "        self.mode = 'run'\n",
    "        self.mode_dict = {}\n",
    "        self.setupRun()\n",
    "        if self.mode_dict['steps_direction']=='y':\n",
    "            if self.mode_dict['steps_direction_mode'] == '+':\n",
    "                self.mode_dict['steps_left'] = random.randint(100,250)\n",
    "    def setupRun(self):\n",
    "        self.mode='run'\n",
    "        self.mode_dict['steps_left'] = random.randint(50,100)\n",
    "        self.mode_dict['steps_direction'] =random.choice([\"x\",\"y\"])\n",
    "        self.mode_dict['steps_direction_mode'] =random.choice([\"+\",\"-\"])\n",
    "    def run(self,world):\n",
    "        updates = {}        \n",
    "        \n",
    "        if self.color_distance_walk_mode == \"+\":\n",
    "            self.color_distance += 1\n",
    "        else:\n",
    "            self.color_distance -=1\n",
    "            \n",
    "        r = copy(self.r)\n",
    "        g = copy(self.g)\n",
    "        b = copy(self.b)\n",
    "        if self.color_distance_walk_color == 'r':\n",
    "            r += self.color_distance\n",
    "        elif self.color_distance_walk_color == 'g':\n",
    "            g += self.color_distance\n",
    "        elif self.color_distance_walk_color == 'b':\n",
    "            b += self.color_distance\n",
    "        if r > 255:\n",
    "            r = 255\n",
    "            \n",
    "        if g > 255:\n",
    "            g= 255\n",
    "            \n",
    "        if b > 255:\n",
    "            b = 255\n",
    "            \n",
    "        if r < 0:\n",
    "            r = 0\n",
    "            \n",
    "        if g < 0:\n",
    "            g= 0\n",
    "            \n",
    "        if b < 0:\n",
    "            b = 0\n",
    "            \n",
    "        updates[(self.x,self.y)] = f'rgba({r},{g},{b},0.2)'\n",
    "        valid = False\n",
    "        while not valid:\n",
    "            valid = True\n",
    "            if self.mode =='random':\n",
    "                direction = random.choice([1,2,3,4])\n",
    "                if direction==1:\n",
    "                    self.y +=1\n",
    "                elif direction == 2:\n",
    "                    self.x +=1\n",
    "                elif direction == 3:\n",
    "                    self.y-= 1\n",
    "                elif direction == 4:\n",
    "                    self.x -= 1\n",
    "                if random.randint(0,9999) == 5:\n",
    "                    self.setupRun()\n",
    "            elif self.mode=='run':\n",
    "                if self.mode_dict['steps_left']>0:\n",
    "                    if self.mode_dict['steps_direction'] == 'x':\n",
    "                        if self.mode_dict['steps_direction_mode'] == '+':\n",
    "                            self.x+=1\n",
    "                        elif self.mode_dict['steps_direction_mode'] == '-':\n",
    "                            self.x-=1\n",
    "                    elif self.mode_dict['steps_direction'] == 'y':\n",
    "                        if self.mode_dict['steps_direction_mode'] == '+':\n",
    "                            self.y+=1\n",
    "                        elif self.mode_dict['steps_direction_mode'] == '-':\n",
    "                            self.y-=1\n",
    "                    self.mode_dict['steps_left']-=1\n",
    "                else:\n",
    "                    self.mode = 'random'\n",
    "                        \n",
    "\n",
    "            if self.y < 0:\n",
    "                self.y = 0\n",
    "\n",
    "            if self.y > world_height:\n",
    "                self.y = world_height\n",
    "\n",
    "            if self.x < 0:\n",
    "                self.x = 0\n",
    "\n",
    "        if self.x > world_width:\n",
    "            self.x = 0\n",
    "            \n",
    "        if self.x <=0:\n",
    "            self.x = world_width\n",
    "        updates[(self.x,self.y)] = f'rgb({r},{g},{b})'\n",
    "        if self.color_distance_max< self.color_distance:\n",
    "            if self.color_distance_walk_mode == \"+\":\n",
    "                self.color_distance_walk_mode = \"-\"\n",
    "            else:\n",
    "                self.color_distance_walk_mode = \"+\"\n",
    "            self.color_distance_walk_color = random.choice([\"r\",\"g\",\"b\"])\n",
    "           \n",
    "        valid = False\n",
    "        return updates\n",
    "    "
   ]
  },
  {
   "cell_type": "code",
   "execution_count": null,
   "id": "ce4412a3-5f02-4842-a8c0-84a0129d1538",
   "metadata": {
    "tags": []
   },
   "outputs": [],
   "source": []
  },
  {
   "cell_type": "code",
   "execution_count": 4,
   "id": "e66ce743-df7d-4060-8035-98bd0084c4c8",
   "metadata": {
    "tags": []
   },
   "outputs": [],
   "source": [
    "class World():\n",
    "    data = {}\n",
    "    actors = []\n",
    "    data_since_last_update = {}\n",
    "    def __init__(self,width,height):\n",
    "        self.width = width\n",
    "        self.height = height\n",
    "                \n",
    "    def update(self, update_data):\n",
    "        self.data.update(update_data)\n",
    "        self.data_since_last_update.update(update_data)\n",
    "        \n",
    "    def updateCanvas(self,canvas):\n",
    "        for loc in self.data_since_last_update:\n",
    "            x,y = loc\n",
    "            canvas.fill_style = self.data_since_last_update[loc]\n",
    "            canvas.fill_rect(x,y,1,1)\n",
    "        self.data_since_last_update = {}"
   ]
  },
  {
   "cell_type": "code",
   "execution_count": 5,
   "id": "0cb81fd3-840e-44c7-a9f2-7d0568eee3e0",
   "metadata": {
    "tags": []
   },
   "outputs": [],
   "source": [
    "world = World(world_width,world_height)\n",
    "for i in range(100):\n",
    "    world.actors.append(Crawler(int(world_width/2)+random.randint(-10,10),int(world_height/2)+random.randint(-10,10)))\n"
   ]
  },
  {
   "cell_type": "code",
   "execution_count": 6,
   "id": "a8a0cb1a-29d7-4e5a-b701-9dc46d49d095",
   "metadata": {
    "tags": []
   },
   "outputs": [],
   "source": [
    "def update(world):\n",
    "    for ap in world.actors:\n",
    "        world.update(ap.run(world))\n",
    "    world.updateCanvas(canvas)"
   ]
  },
  {
   "cell_type": "code",
   "execution_count": 7,
   "id": "60e9caa7-d81b-4e88-a667-26e25aa1a9ec",
   "metadata": {
    "scrolled": false,
    "tags": []
   },
   "outputs": [
    {
     "data": {
      "application/vnd.jupyter.widget-view+json": {
       "model_id": "3f46a060eebb48879f81171bb4faab4d",
       "version_major": 2,
       "version_minor": 0
      },
      "text/plain": [
       "Canvas(height=600, width=800)"
      ]
     },
     "metadata": {},
     "output_type": "display_data"
    }
   ],
   "source": [
    "display(canvas)\n",
    "update(world)"
   ]
  },
  {
   "cell_type": "code",
   "execution_count": 8,
   "id": "d9e34644-e5a1-4ac5-8922-d165c9df205c",
   "metadata": {
    "tags": []
   },
   "outputs": [
    {
     "data": {
      "application/vnd.jupyter.widget-view+json": {
       "model_id": "7aaff6d8afdc42829e2bdab3cb0e823b",
       "version_major": 2,
       "version_minor": 0
      },
      "text/plain": [
       "Output(layout=Layout(border='1px solid white'))"
      ]
     },
     "metadata": {},
     "output_type": "display_data"
    }
   ],
   "source": [
    "import ipywidgets as widgets\n",
    "count = 0\n",
    "out = widgets.Output(layout={'border': '1px solid white'})\n",
    "out"
   ]
  },
  {
   "cell_type": "code",
   "execution_count": null,
   "id": "f3b947f3-1c47-4a53-b81b-f6acef54a414",
   "metadata": {
    "tags": []
   },
   "outputs": [],
   "source": [
    "while(True):\n",
    "    with hold_canvas(canvas):\n",
    "        # Clear the old animation step\n",
    "        #canvas.clear()\n",
    "        update(world)\n",
    "        count +=1\n",
    "        if count%100==0:\n",
    "            out.clear_output()\n",
    "            with out:\n",
    "                print(count)\n",
    "    # Animation frequency ~50Hz = 1./50. seconds\n",
    "    time.sleep(0.01)"
   ]
  },
  {
   "cell_type": "code",
   "execution_count": null,
   "id": "43b7ef85-bcc1-4df4-a855-3d36d65326b6",
   "metadata": {
    "tags": []
   },
   "outputs": [],
   "source": [
    "canvas.to_file(f'{time.time()}.png')"
   ]
  },
  {
   "cell_type": "code",
   "execution_count": null,
   "id": "b0858e13-4ac5-491d-a2f0-0649dad9f6cf",
   "metadata": {},
   "outputs": [],
   "source": []
  },
  {
   "cell_type": "code",
   "execution_count": null,
   "id": "843caeeb",
   "metadata": {},
   "outputs": [],
   "source": []
  }
 ],
 "metadata": {
  "kernelspec": {
   "display_name": "Python 3 (ipykernel)",
   "language": "python",
   "name": "python3"
  },
  "language_info": {
   "codemirror_mode": {
    "name": "ipython",
    "version": 3
   },
   "file_extension": ".py",
   "mimetype": "text/x-python",
   "name": "python",
   "nbconvert_exporter": "python",
   "pygments_lexer": "ipython3",
   "version": "3.10.4"
  }
 },
 "nbformat": 4,
 "nbformat_minor": 5
}
