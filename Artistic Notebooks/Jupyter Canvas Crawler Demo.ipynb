{
 "cells": [
  {
   "cell_type": "code",
   "execution_count": 1,
   "id": "67036533-440b-4434-9067-aca47f5446ea",
   "metadata": {
    "tags": []
   },
   "outputs": [],
   "source": [
    "import random\n",
    "import time\n",
    "from copy import copy\n",
    "\n",
    "import numpy as np\n",
    "from ipycanvas import Canvas, hold_canvas\n",
    "from IPython.display import clear_output, display"
   ]
  },
  {
   "cell_type": "code",
   "execution_count": 2,
   "id": "dcdc2fce-ed66-4435-9dda-fc655898cd5a",
   "metadata": {},
   "outputs": [],
   "source": [
    "world_width = 800\n",
    "world_height = 600\n",
    "canvas = Canvas(width=world_width, height=world_height)\n",
    "canvas.fill_style = \"black\"\n",
    "canvas.fill_rect(0, 0, world_width, world_height)"
   ]
  },
  {
   "cell_type": "code",
   "execution_count": 3,
   "id": "8c3b9cae-d6e7-43d0-9522-202b585354e7",
   "metadata": {},
   "outputs": [],
   "source": [
    "class Crawler:\n",
    "    def __init__(self, x, y, base_color=None):\n",
    "        self.x = x\n",
    "        self.y = y\n",
    "\n",
    "        self.ox = x\n",
    "        self.oy = y\n",
    "        self.hunger = 100\n",
    "        if base_color is None:\n",
    "            self.r = random.randint(50, 200)\n",
    "            self.g = random.randint(50, 200)\n",
    "            self.b = random.randint(50, 200)\n",
    "        else:\n",
    "            self.r, self.g, self.b = base_color\n",
    "        self.color_distance_max = random.randint(50, 170)\n",
    "        self.color_distance = int(self.color_distance_max / 2)\n",
    "        self.color_distance_walk_mode = random.choice([\"+\", \"-\"])\n",
    "        self.color_distance_walk_color = random.choice([\"r\", \"g\", \"b\"])\n",
    "        self.mode = \"run\"\n",
    "        self.mode_dict = {}\n",
    "        self.setupRun()\n",
    "        \"\"\"\n",
    "        if self.mode_dict[\"steps_direction\"] == \"y\":\n",
    "            if self.mode_dict[\"steps_direction_mode\"] == \"+\":\n",
    "                self.mode_dict[\"steps_left\"] = random.randint(100, 250)\"\"\"\n",
    "\n",
    "    def setupRun(self):\n",
    "        self.mode = \"run\"\n",
    "        self.mode_dict[\"steps_left\"] = random.randint(50, 100)\n",
    "        self.mode_dict[\"steps_direction\"] = random.choice([\"x\", \"y\"])\n",
    "        self.mode_dict[\"steps_direction_mode\"] = random.choice([\"+\", \"-\"])\n",
    "\n",
    "    def run(self, world):\n",
    "        updates = {}\n",
    "\n",
    "        if self.color_distance_walk_mode == \"+\":\n",
    "            self.color_distance += 1\n",
    "        else:\n",
    "            self.color_distance -= 1\n",
    "\n",
    "        r = copy(self.r)\n",
    "        g = copy(self.g)\n",
    "        b = copy(self.b)\n",
    "        if self.color_distance_walk_color == \"r\":\n",
    "            r += self.color_distance\n",
    "        elif self.color_distance_walk_color == \"g\":\n",
    "            g += self.color_distance\n",
    "        elif self.color_distance_walk_color == \"b\":\n",
    "            b += self.color_distance\n",
    "        if r > 255:\n",
    "            r = 255\n",
    "\n",
    "        if g > 255:\n",
    "            g = 255\n",
    "\n",
    "        if b > 255:\n",
    "            b = 255\n",
    "\n",
    "        if r < 0:\n",
    "            r = 0\n",
    "\n",
    "        if g < 0:\n",
    "            g = 0\n",
    "\n",
    "        if b < 0:\n",
    "            b = 0\n",
    "\n",
    "        updates[(self.x, self.y)] = f\"rgba({r},{g},{b},0.2)\"\n",
    "        valid = False\n",
    "        while not valid:\n",
    "            valid = True\n",
    "            if self.mode == \"random\":\n",
    "                direction = random.choice([1, 2, 3, 4])\n",
    "                if direction == 1:\n",
    "                    self.y += 1\n",
    "                elif direction == 2:\n",
    "                    self.x += 1\n",
    "                elif direction == 3:\n",
    "                    self.y -= 1\n",
    "                elif direction == 4:\n",
    "                    self.x -= 1\n",
    "                if random.randint(0, 505) == 5:\n",
    "                    self.setupRun()\n",
    "            elif self.mode == \"run\":\n",
    "                if self.mode_dict[\"steps_left\"] > 0:\n",
    "                    if self.mode_dict[\"steps_direction\"] == \"x\":\n",
    "                        if self.mode_dict[\"steps_direction_mode\"] == \"+\":\n",
    "                            self.x += 1\n",
    "                        elif self.mode_dict[\"steps_direction_mode\"] == \"-\":\n",
    "                            self.x -= 1\n",
    "                    elif self.mode_dict[\"steps_direction\"] == \"y\":\n",
    "                        if self.mode_dict[\"steps_direction_mode\"] == \"+\":\n",
    "                            self.y += 1\n",
    "                        elif self.mode_dict[\"steps_direction_mode\"] == \"-\":\n",
    "                            self.y -= 1\n",
    "                    self.mode_dict[\"steps_left\"] -= 1\n",
    "                else:\n",
    "                    self.mode = \"random\"\n",
    "\n",
    "            if self.y < 0:\n",
    "                self.y = world_height\n",
    "\n",
    "            if self.y > world_height:\n",
    "                self.y = 0\n",
    "\n",
    "            if self.x < 0:\n",
    "                self.x = world_width\n",
    "\n",
    "        if self.x > world_width:\n",
    "            self.x = 0\n",
    "\n",
    "        if self.x <= 0:\n",
    "            self.x = world_width\n",
    "        updates[(self.x, self.y)] = f\"rgb({r},{g},{b})\"\n",
    "        if self.color_distance_max < self.color_distance or 0 > self.color_distance:\n",
    "            if self.color_distance_walk_mode == \"+\":\n",
    "                self.color_distance_walk_mode = \"-\"\n",
    "            else:\n",
    "                self.color_distance_walk_mode = \"+\"\n",
    "            # self.color_distance_walk_color = random.choice([\"r\", \"g\", \"b\"])\n",
    "\n",
    "        valid = False\n",
    "        return updates"
   ]
  },
  {
   "cell_type": "code",
   "execution_count": 4,
   "id": "d600af1a-917e-4f83-8a20-adf7e2194ed2",
   "metadata": {},
   "outputs": [],
   "source": [
    "pallets = []"
   ]
  },
  {
   "cell_type": "code",
   "execution_count": 5,
   "id": "724e7fad-776c-4a14-9923-cfabe90e9aff",
   "metadata": {},
   "outputs": [],
   "source": [
    "# hex\n",
    "html_colors = \"#c7522a, #e5c185, #fbf2c4, #74a892, #008585\""
   ]
  },
  {
   "cell_type": "code",
   "execution_count": 6,
   "id": "6b2bb044-d2b6-496d-b121-789dcc20b9c9",
   "metadata": {},
   "outputs": [],
   "source": [
    "html_colors = \"#d1dbe4, #a3b7ca, #7593af, #476f95,  #194a7a\""
   ]
  },
  {
   "cell_type": "code",
   "execution_count": 7,
   "id": "02c129e5-63fe-4db4-8fc9-6c43b671972e",
   "metadata": {},
   "outputs": [],
   "source": [
    "html_colors = \"#003f5c,  #58508d,  #bc5090,  #ff6361 ,  #ffa600\""
   ]
  },
  {
   "cell_type": "code",
   "execution_count": 8,
   "id": "2d2e5d83-db44-4196-9961-712cb84fb75a",
   "metadata": {},
   "outputs": [],
   "source": [
    "html_colors = \"#cac7ff,  #d7cdfe,  #e4d3fc,  #f1dafb ,  #fee0f9\""
   ]
  },
  {
   "cell_type": "code",
   "execution_count": 9,
   "id": "899e4104-aa53-49c4-abf5-8748d75488de",
   "metadata": {},
   "outputs": [],
   "source": [
    "html_colors = \" #d9042b,  #730220,  #03658c,  #f29f05,  #f27b50.\""
   ]
  },
  {
   "cell_type": "code",
   "execution_count": 10,
   "id": "6c035b43-6190-4247-b87d-6f136c1a072d",
   "metadata": {},
   "outputs": [],
   "source": [
    "hexes = [i.strip().strip(\"#\") for i in html_colors.strip().split(\",\")]\n",
    "pallets.extend([tuple(int(h[i : i + 2], 16) for i in (0, 2, 4)) for h in hexes])"
   ]
  },
  {
   "cell_type": "code",
   "execution_count": 11,
   "id": "e66ce743-df7d-4060-8035-98bd0084c4c8",
   "metadata": {},
   "outputs": [],
   "source": [
    "class World:\n",
    "    data = {}\n",
    "    actors = []\n",
    "    data_since_last_update = {}\n",
    "\n",
    "    def __init__(self, width, height):\n",
    "        self.width = width\n",
    "        self.height = height\n",
    "\n",
    "    def update(self, update_data):\n",
    "        self.data.update(update_data)\n",
    "        self.data_since_last_update.update(update_data)\n",
    "\n",
    "    def updateCanvas(self, canvas):\n",
    "        for loc in self.data_since_last_update:\n",
    "            x, y = loc\n",
    "            canvas.fill_style = self.data_since_last_update[loc]\n",
    "            canvas.fill_rect(x, y, 1, 1)\n",
    "        self.data_since_last_update = {}"
   ]
  },
  {
   "cell_type": "code",
   "execution_count": 12,
   "id": "0cb81fd3-840e-44c7-a9f2-7d0568eee3e0",
   "metadata": {},
   "outputs": [],
   "source": [
    "world = World(world_width, world_height)\n",
    "for i in range(100):\n",
    "    world.actors.append(\n",
    "        Crawler(\n",
    "            int(world_width / 2) + random.randint(-10, 10),\n",
    "            int(world_height / 2) + random.randint(-10, 10),\n",
    "            base_color=random.choice(pallets),\n",
    "        )\n",
    "    )"
   ]
  },
  {
   "cell_type": "code",
   "execution_count": 13,
   "id": "a8a0cb1a-29d7-4e5a-b701-9dc46d49d095",
   "metadata": {},
   "outputs": [],
   "source": [
    "def update(world):\n",
    "    for ap in world.actors:\n",
    "        world.update(ap.run(world))\n",
    "    world.updateCanvas(canvas)"
   ]
  },
  {
   "cell_type": "code",
   "execution_count": 14,
   "id": "60e9caa7-d81b-4e88-a667-26e25aa1a9ec",
   "metadata": {},
   "outputs": [
    {
     "data": {
      "application/vnd.jupyter.widget-view+json": {
       "model_id": "425aa90fe02942fb836c4745fdb990ed",
       "version_major": 2,
       "version_minor": 0
      },
      "text/plain": [
       "Canvas(height=600, width=800)"
      ]
     },
     "metadata": {},
     "output_type": "display_data"
    }
   ],
   "source": [
    "display(canvas)\n",
    "update(world)"
   ]
  },
  {
   "cell_type": "code",
   "execution_count": 15,
   "id": "d9e34644-e5a1-4ac5-8922-d165c9df205c",
   "metadata": {},
   "outputs": [
    {
     "data": {
      "application/vnd.jupyter.widget-view+json": {
       "model_id": "b5fd9f87d79f4f2aa8f9677ea2771670",
       "version_major": 2,
       "version_minor": 0
      },
      "text/plain": [
       "Output(layout=Layout(border='1px solid white'))"
      ]
     },
     "metadata": {},
     "output_type": "display_data"
    }
   ],
   "source": [
    "import ipywidgets as widgets\n",
    "\n",
    "count = 0\n",
    "out = widgets.Output(layout={\"border\": \"1px solid white\"})\n",
    "out"
   ]
  },
  {
   "cell_type": "code",
   "execution_count": null,
   "id": "f3b947f3-1c47-4a53-b81b-f6acef54a414",
   "metadata": {},
   "outputs": [],
   "source": [
    "while count < 6000:\n",
    "    with hold_canvas(canvas):\n",
    "        # Clear the old animation step\n",
    "        # canvas.clear()\n",
    "        update(world)\n",
    "        count += 1\n",
    "        if count % 100 == 0:\n",
    "            out.clear_output()\n",
    "            with out:\n",
    "                print(count)\n",
    "    # Animation frequency ~50Hz = 1./50. seconds\n",
    "    time.sleep(0.001)"
   ]
  },
  {
   "cell_type": "code",
   "execution_count": null,
   "id": "43b7ef85-bcc1-4df4-a855-3d36d65326b6",
   "metadata": {},
   "outputs": [],
   "source": [
    "canvas.to_file(f\"{time.time()}.png\")"
   ]
  },
  {
   "cell_type": "code",
   "execution_count": null,
   "id": "b0858e13-4ac5-491d-a2f0-0649dad9f6cf",
   "metadata": {},
   "outputs": [],
   "source": []
  },
  {
   "cell_type": "code",
   "execution_count": null,
   "id": "843caeeb",
   "metadata": {},
   "outputs": [],
   "source": []
  }
 ],
 "metadata": {
  "kernelspec": {
   "display_name": "Python 3 (ipykernel)",
   "language": "python",
   "name": "python3"
  },
  "language_info": {
   "codemirror_mode": {
    "name": "ipython",
    "version": 3
   },
   "file_extension": ".py",
   "mimetype": "text/x-python",
   "name": "python",
   "nbconvert_exporter": "python",
   "pygments_lexer": "ipython3",
   "version": "3.10.4"
  },
  "scenes_data": {
   "active_scene": "Default Scene",
   "init_scene": "",
   "scenes": [
    "Default Scene"
   ]
  },
  "widgets": {
   "application/vnd.jupyter.widget-state+json": {
    "state": {
     "425aa90fe02942fb836c4745fdb990ed": {
      "model_module": "ipycanvas",
      "model_module_version": "^0.13",
      "model_name": "CanvasModel",
      "state": {
       "_canvas_manager": "IPY_MODEL_f2d9e43ff14947b8966978098025a2bb",
       "_model_module_version": "^0.13",
       "_view_module_version": "^0.13",
       "height": 600,
       "layout": "IPY_MODEL_4447dbd3ec6849f9bc90cb645fc8921c",
       "width": 800
      }
     },
     "4447dbd3ec6849f9bc90cb645fc8921c": {
      "model_module": "@jupyter-widgets/base",
      "model_module_version": "1.2.0",
      "model_name": "LayoutModel",
      "state": {}
     },
     "8820ac09cf3941f4995b68e55bcdbfe3": {
      "model_module": "@jupyter-widgets/base",
      "model_module_version": "1.2.0",
      "model_name": "LayoutModel",
      "state": {
       "border": "1px solid white"
      }
     },
     "b5fd9f87d79f4f2aa8f9677ea2771670": {
      "model_module": "@jupyter-widgets/output",
      "model_module_version": "1.0.0",
      "model_name": "OutputModel",
      "state": {
       "layout": "IPY_MODEL_8820ac09cf3941f4995b68e55bcdbfe3",
       "outputs": [
        {
         "name": "stdout",
         "output_type": "stream",
         "text": "9300\n"
        }
       ]
      }
     },
     "f2d9e43ff14947b8966978098025a2bb": {
      "model_module": "ipycanvas",
      "model_module_version": "^0.13",
      "model_name": "CanvasManagerModel",
      "state": {
       "_model_module_version": "^0.13",
       "_view_module": null,
       "_view_module_version": ""
      }
     }
    },
    "version_major": 2,
    "version_minor": 0
   }
  }
 },
 "nbformat": 4,
 "nbformat_minor": 5
}
