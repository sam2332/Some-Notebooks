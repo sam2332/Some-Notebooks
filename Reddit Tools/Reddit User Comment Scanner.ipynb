{
 "cells": [
  {
   "cell_type": "code",
   "execution_count": null,
   "id": "8d3aad82-6ec0-4829-b4c0-3d1c22999bae",
   "metadata": {},
   "outputs": [],
   "source": [
    "import time\n",
    "from collections import defaultdict\n",
    "\n",
    "import requests"
   ]
  },
  {
   "cell_type": "code",
   "execution_count": null,
   "id": "f6293ea6-4acf-48c5-9b4c-b5025176ff17",
   "metadata": {},
   "outputs": [],
   "source": [
    "stop_words = requests.get(\n",
    "    \"https://gist.githubusercontent.com/sebleier/554280/raw/7e0e4a1ce04c2bb7bd41089c9821dbcf6d0c786c/NLTK's%2520list%2520of%2520english%2520stopwords\"\n",
    ").text.splitlines()\n",
    "len(stop_words)"
   ]
  },
  {
   "cell_type": "code",
   "execution_count": null,
   "id": "2a8952b3-2b1c-46b1-9b1f-387f2988b355",
   "metadata": {},
   "outputs": [],
   "source": [
    "bad_words_data = requests.get(\n",
    "    \"https://raw.githubusercontent.com/citiususc/VERY-NEG-and-VERY-POS-Lexicons/master/VERY-NEG%20B%3D1.csv\"\n",
    ").text.splitlines()\n",
    "bad_words = []\n",
    "for line in bad_words_data:\n",
    "    line = line.split(\",\")\n",
    "    if line[2] == \"MN\":\n",
    "        if line[0] not in bad_words:\n",
    "            bad_words.append(line[0])\n",
    "len(bad_words)\n",
    "bad_words[:15]"
   ]
  },
  {
   "cell_type": "code",
   "execution_count": null,
   "id": "739a0449-7947-4521-bc68-9b59c2a436dc",
   "metadata": {},
   "outputs": [],
   "source": [
    "good_words_data = requests.get(\n",
    "    \"https://raw.githubusercontent.com/citiususc/VERY-NEG-and-VERY-POS-Lexicons/master/VERY-POS%20B%3D2.csv\"\n",
    ").text.splitlines()\n",
    "good_words = []\n",
    "for line in good_words_data:\n",
    "    line = line.split(\",\")\n",
    "    if line[2] == \"MP\":\n",
    "        if line[0] not in good_words:\n",
    "            good_words.append(line[0])\n",
    "len(good_words)\n",
    "good_words[:15]"
   ]
  },
  {
   "cell_type": "code",
   "execution_count": null,
   "id": "1f4956bb-f13f-45f7-98ee-425842056441",
   "metadata": {},
   "outputs": [],
   "source": [
    "class RedditClient:\n",
    "    def __init__(self):\n",
    "        self.headers = {\"User-Agent\": \"User-Bot 0.1 by Some User\"}\n",
    "        self.client = requests.Session()\n",
    "        self.client.headers = self.headers\n",
    "\n",
    "    def getUrlJson(self, url):\n",
    "        return self.client.get(url).json()"
   ]
  },
  {
   "cell_type": "code",
   "execution_count": null,
   "id": "bf0dbbaa-c1b3-470e-849b-7df362d72ae9",
   "metadata": {},
   "outputs": [],
   "source": [
    "username = \"\""
   ]
  },
  {
   "cell_type": "code",
   "execution_count": null,
   "id": "81e17d60-8df4-4c53-886c-a7d7a2fba552",
   "metadata": {},
   "outputs": [],
   "source": [
    "r = RedditClient()"
   ]
  },
  {
   "cell_type": "code",
   "execution_count": null,
   "id": "fc3072c4-2513-4754-b34c-d635dc3986f6",
   "metadata": {},
   "outputs": [],
   "source": [
    "comments = []\n",
    "after = None\n",
    "\n",
    "url = f\"https://api.reddit.com/user/{username}/?limit=10\"\n",
    "print(url)\n",
    "data = r.getUrlJson(url)\n",
    "after = data[\"data\"][\"after\"]\n",
    "while len(comments) < 10000:\n",
    "    url = f\"https://api.reddit.com/user/{username}/?limit=10&after=\" + after\n",
    "    print(url, len(comments))\n",
    "    data = r.getUrlJson(url)\n",
    "    after = data[\"data\"][\"after\"]\n",
    "    if after is None:\n",
    "        break\n",
    "    comments.extend(data[\"data\"][\"children\"])\n",
    "    time.sleep(0.5)"
   ]
  },
  {
   "cell_type": "code",
   "execution_count": null,
   "id": "6a6279aa-89b6-4dc2-b17b-02d250b184d5",
   "metadata": {},
   "outputs": [],
   "source": [
    "len(comments)"
   ]
  },
  {
   "cell_type": "code",
   "execution_count": null,
   "id": "5a2ec992-2e8f-4190-8715-29bd131559bd",
   "metadata": {},
   "outputs": [],
   "source": []
  },
  {
   "cell_type": "code",
   "execution_count": null,
   "id": "2edc3fd7-ce2b-40eb-a4f8-32fd39c07500",
   "metadata": {},
   "outputs": [],
   "source": [
    "subreddits = defaultdict(int)\n",
    "for post in comments:\n",
    "    subreddits[post[\"data\"][\"subreddit_name_prefixed\"]] += 1\n",
    "subreddits = dict(subreddits)\n",
    "dict(sorted(subreddits.items(), key=lambda item: item[1], reverse=True))"
   ]
  },
  {
   "cell_type": "code",
   "execution_count": null,
   "id": "d772eb81-c754-4b3d-9bf8-520aae36aaec",
   "metadata": {},
   "outputs": [],
   "source": [
    "print(\"Top posts\")\n",
    "for post in sorted(comments, key=lambda a: a[\"data\"][\"ups\"], reverse=True)[:10]:\n",
    "    if post[\"kind\"] == \"t1\":\n",
    "        print(post[\"data\"][\"ups\"])\n",
    "        print(post[\"data\"][\"subreddit\"])\n",
    "        print(post[\"data\"][\"body\"])\n",
    "        print()"
   ]
  },
  {
   "cell_type": "code",
   "execution_count": null,
   "id": "0981ab6a-39a1-4e32-9ed5-4fc9278bcce0",
   "metadata": {},
   "outputs": [],
   "source": [
    "print(\"Bottom posts\")\n",
    "for post in sorted(comments, key=lambda a: a[\"data\"][\"ups\"])[:10]:\n",
    "    if post[\"kind\"] == \"t1\":\n",
    "        print(post[\"data\"][\"ups\"])\n",
    "        print(post[\"data\"][\"subreddit\"])\n",
    "        print(post[\"data\"][\"body\"])\n",
    "        print()"
   ]
  },
  {
   "cell_type": "code",
   "execution_count": null,
   "id": "3e0f4f35-cdfa-4d8c-b39a-7e56ec5fae22",
   "metadata": {},
   "outputs": [],
   "source": [
    "words = defaultdict(int)\n",
    "for post in comments:\n",
    "    if post[\"kind\"] == \"t1\":\n",
    "        for word in post[\"data\"][\"body\"].strip().replace(\"'\", \"\").lower().split():\n",
    "            if word not in stop_words:\n",
    "                words[word] += 1\n",
    "\n",
    "word = dict(words)\n",
    "scored_words = dict(sorted(words.items(), key=lambda item: item[1], reverse=True))"
   ]
  },
  {
   "cell_type": "code",
   "execution_count": null,
   "id": "82daac82-8a6d-494a-a4fd-51a86ee7db20",
   "metadata": {},
   "outputs": [],
   "source": [
    "good_score = 0\n",
    "for word in scored_words:\n",
    "    if word in good_words:\n",
    "        good_score += 1\n",
    "good_score"
   ]
  },
  {
   "cell_type": "code",
   "execution_count": null,
   "id": "cf5f0bf1-d792-4491-8809-4f07b240e7b0",
   "metadata": {},
   "outputs": [],
   "source": [
    "bad_score = 0\n",
    "for word in scored_words:\n",
    "    if word in bad_words:\n",
    "        bad_score -= 1\n",
    "bad_score"
   ]
  },
  {
   "cell_type": "code",
   "execution_count": null,
   "id": "0c8b14a7-0921-4db0-a2aa-10b268364d20",
   "metadata": {},
   "outputs": [],
   "source": [
    "good_score + bad_score"
   ]
  },
  {
   "cell_type": "code",
   "execution_count": null,
   "id": "f52230c8-65de-4b5a-9a4d-28be31794bd9",
   "metadata": {},
   "outputs": [],
   "source": [
    "len(scored_words)"
   ]
  },
  {
   "cell_type": "code",
   "execution_count": null,
   "id": "1fd79ba4-e016-41fd-bbfe-0f5a9b4cd2f4",
   "metadata": {},
   "outputs": [],
   "source": []
  },
  {
   "cell_type": "code",
   "execution_count": null,
   "id": "c3c5f0b7-4b2b-4def-a7b6-5372825909a9",
   "metadata": {},
   "outputs": [],
   "source": []
  },
  {
   "cell_type": "code",
   "execution_count": null,
   "id": "6d038a97-b135-44fc-ba1e-85f86a4ab2e9",
   "metadata": {},
   "outputs": [],
   "source": [
    "import time\n",
    "from collections import defaultdict"
   ]
  },
  {
   "cell_type": "code",
   "execution_count": null,
   "id": "2652c47d-b31c-4c93-a26f-8fffe86ba58f",
   "metadata": {},
   "outputs": [],
   "source": [
    "class RedditClient:\n",
    "    def __init__(self):\n",
    "        self.headers = {\"User-Agent\": \"User-Bot 0.1 by Some User\"}\n",
    "        self.client = requests.Session()\n",
    "        self.client.headers = self.headers\n",
    "\n",
    "    def getUrlJson(self, url):\n",
    "        return self.client.get(url).json()"
   ]
  },
  {
   "cell_type": "code",
   "execution_count": null,
   "id": "44c8e893-b106-46c0-8939-7921be60a65f",
   "metadata": {},
   "outputs": [],
   "source": [
    "def getComments(username):\n",
    "    r = RedditClient()\n",
    "    comments = []\n",
    "    after = None\n",
    "\n",
    "    url = f\"https://api.reddit.com/user/{username}/?limit=100\"\n",
    "    print(url)\n",
    "    data = r.getUrlJson(url)\n",
    "    comments.extend(data[\"data\"][\"children\"])\n",
    "    after = data[\"data\"][\"after\"]\n",
    "    while len(comments) < 10000:\n",
    "        url = f\"https://api.reddit.com/user/{username}/?limit=100&after=\" + after\n",
    "        print(url, len(comments), \"+\", len(data[\"data\"][\"children\"]))\n",
    "        data = r.getUrlJson(url)\n",
    "        after = data[\"data\"][\"after\"]\n",
    "        comments.extend(\n",
    "            filter(\n",
    "                None,\n",
    "                [\n",
    "                    item if item[\"kind\"] == \"t1\" else None\n",
    "                    for item in data[\"data\"][\"children\"]\n",
    "                ],\n",
    "            )\n",
    "        )\n",
    "        if after is None:\n",
    "            break\n",
    "        time.sleep(0.5)\n",
    "    return comments"
   ]
  },
  {
   "cell_type": "code",
   "execution_count": null,
   "id": "ba4a9893-aee1-4fdc-b34d-0fc765f8ec74",
   "metadata": {},
   "outputs": [],
   "source": [
    "import requests\n",
    "\n",
    "\n",
    "def doInvestigation(reddit_user):\n",
    "    log = []\n",
    "    comments = getComments(reddit_user)\n",
    "    subreddits = defaultdict(int)\n",
    "    for post in comments:\n",
    "        subreddits[post[\"data\"][\"subreddit_name_prefixed\"]] += 1\n",
    "    subreddits = dict(subreddits)\n",
    "    dict(sorted(subreddits.items(), key=lambda item: item[1], reverse=True))\n",
    "    print(\"Top posts\")\n",
    "\n",
    "    for post in sorted(comments, key=lambda a: a[\"data\"][\"ups\"], reverse=True)[:10]:\n",
    "        print(post[\"data\"][\"ups\"])\n",
    "        print(post[\"data\"][\"subreddit\"])\n",
    "        print(post[\"data\"][\"body\"])\n",
    "        print(post[\"data\"][\"link_permalink\"])\n",
    "        print()\n",
    "    print()\n",
    "    print(\"Bottom posts\")\n",
    "    for post in sorted(comments, key=lambda a: a[\"data\"][\"ups\"])[:10]:\n",
    "        print(post[\"data\"][\"ups\"])\n",
    "        print(post[\"data\"][\"subreddit\"])\n",
    "        print(post[\"data\"][\"body\"])\n",
    "        print(post[\"data\"][\"link_permalink\"])\n",
    "        print()"
   ]
  },
  {
   "cell_type": "code",
   "execution_count": null,
   "id": "e9238ef0-a764-4889-a773-68ee4eea2ab1",
   "metadata": {},
   "outputs": [],
   "source": []
  },
  {
   "cell_type": "code",
   "execution_count": null,
   "id": "7274c854-4b47-43f1-9c1a-dc0372591811",
   "metadata": {},
   "outputs": [],
   "source": [
    "def hasEmojiReaction(message, emoji):\n",
    "    return emoji in [i[\"emoji\"] for i in message[\"reactions\"]]"
   ]
  },
  {
   "cell_type": "code",
   "execution_count": null,
   "id": "ded07a1e-75c6-4177-b026-6b4fdceafcec",
   "metadata": {},
   "outputs": [],
   "source": [
    "doInvestigation(\"\")"
   ]
  }
 ],
 "metadata": {
  "kernelspec": {
   "display_name": "Python 3 (ipykernel)",
   "language": "python",
   "name": "python3"
  },
  "language_info": {
   "codemirror_mode": {
    "name": "ipython",
    "version": 3
   },
   "file_extension": ".py",
   "mimetype": "text/x-python",
   "name": "python",
   "nbconvert_exporter": "python",
   "pygments_lexer": "ipython3",
   "version": "3.10.4"
  },
  "widgets": {
   "application/vnd.jupyter.widget-state+json": {
    "state": {},
    "version_major": 2,
    "version_minor": 0
   }
  }
 },
 "nbformat": 4,
 "nbformat_minor": 5
}
