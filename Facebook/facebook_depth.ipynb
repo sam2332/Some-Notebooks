{
 "cells": [
  {
   "cell_type": "code",
   "execution_count": null,
   "metadata": {},
   "outputs": [],
   "source": [
    "from collections import defaultdict\n",
    "from PIL import Image\n",
    "import random\n",
    "from tqdm import trange"
   ]
  },
  {
   "cell_type": "code",
   "execution_count": null,
   "metadata": {},
   "outputs": [],
   "source": [
    "height = 2400\n",
    "width = 360"
   ]
  },
  {
   "cell_type": "code",
   "execution_count": null,
   "metadata": {},
   "outputs": [],
   "source": [
    "class Circle():\n",
    "    def __init__(self, x, y, r, d,color):\n",
    "        self.x = x\n",
    "        self.y = y\n",
    "        self.r = r\n",
    "        self.d = d\n",
    "        self.color = color\n",
    "    def draw(self, canvas, depth_map):\n",
    "        for i in range(-self.r, self.r + 1):  # Adjusted to cover all quadrants.\n",
    "            for j in range(-self.r, self.r + 1):\n",
    "                if i**2 + j**2 <= self.r**2:\n",
    "                    x = self.x + i\n",
    "                    y = self.y + j\n",
    "                    if 0 <= x < width and 0 <= y < height:\n",
    "                        canvas.putpixel((x, y), self.color)\n",
    "                        depth_map.putpixel((x, y), self.d)\n"
   ]
  },
  {
   "cell_type": "code",
   "execution_count": null,
   "metadata": {},
   "outputs": [],
   "source": [
    "def random_position():\n",
    "    import random\n",
    "    return (random.randint(0, width), random.randint(0, height))"
   ]
  },
  {
   "cell_type": "code",
   "execution_count": null,
   "metadata": {},
   "outputs": [],
   "source": [
    "def random_color():\n",
    "    import random\n",
    "    return (random.randint(0, 255), random.randint(0, 255), random.randint(0, 255))\n",
    "\n",
    "def random_sun_color():\n",
    "    import random\n",
    "    return random.choice([\n",
    "        (247,192,76),\n",
    "        (28,79,142),\n",
    "        (174,126,126),\n",
    "        (174,174,174)\n",
    "\n",
    "    ])"
   ]
  },
  {
   "cell_type": "code",
   "execution_count": null,
   "metadata": {},
   "outputs": [],
   "source": [
    "def get_trans_colors():\n",
    "    colors = [\n",
    "        (91,206,250),\n",
    "        (245,169,184),\n",
    "        (255,255,255)\n",
    "    ]\n",
    "    return random.choice(colors)\n"
   ]
  },
  {
   "cell_type": "code",
   "execution_count": 164,
   "metadata": {},
   "outputs": [],
   "source": [
    "def doesnt_overlap(pos,circle_radius):\n",
    "    for layer in entities:\n",
    "        for b in entities[layer]:\n",
    "            #circle\n",
    "            if isinstance(b, Circle):\n",
    "                # if pos in circle \n",
    "                if (pos[0] - b.x)**2 + (pos[1] - b.y)**2 <= (circle_radius)**2:\n",
    "                \n",
    "\n",
    "                    return False\n",
    "        \n",
    "    return True"
   ]
  },
  {
   "cell_type": "code",
   "execution_count": 165,
   "metadata": {},
   "outputs": [
    {
     "ename": "Exception",
     "evalue": "Stop",
     "output_type": "error",
     "traceback": [
      "\u001b[0;31m---------------------------------------------------------------------------\u001b[0m",
      "\u001b[0;31mException\u001b[0m                                 Traceback (most recent call last)",
      "Cell \u001b[0;32mIn[165], line 1\u001b[0m\n\u001b[0;32m----> 1\u001b[0m \u001b[38;5;28;01mraise\u001b[39;00m \u001b[38;5;167;01mException\u001b[39;00m(\u001b[38;5;124m\"\u001b[39m\u001b[38;5;124mStop\u001b[39m\u001b[38;5;124m\"\u001b[39m)\n",
      "\u001b[0;31mException\u001b[0m: Stop"
     ]
    }
   ],
   "source": [
    "raise Exception(\"Stop\")"
   ]
  },
  {
   "cell_type": "markdown",
   "metadata": {},
   "source": [
    "# stars"
   ]
  },
  {
   "cell_type": "code",
   "execution_count": null,
   "metadata": {},
   "outputs": [],
   "source": [
    "depth_map = Image.new('L', (width, height))\n",
    "canvas = Image.new('RGB', (width, height))\n",
    "\n",
    "min_box_width = 1\n",
    "min_box_height = 1\n",
    "\n",
    "max_box_width = 4\n",
    "max_box_height =4\n",
    "\n",
    "box_layer_count = 10\n",
    "box_layers=60\n",
    "max_radius = 3\n",
    "entities = defaultdict(list)\n",
    "for layer_id in range(box_layers,0,-1):\n",
    "    for box_id in trange(box_layer_count):\n",
    "        #scaling based on layer\n",
    "        circle_radius = int(10 + (layer_id / box_layers) * max_radius)\n",
    "        layer_depth = int(255 * (layer_id / box_layers))\n",
    "\n",
    "        max_tries = 2\n",
    "        while True:\n",
    "            max_tries -= 1\n",
    "            if max_tries == 0:\n",
    "                break\n",
    "            position = random_position()\n",
    "            if doesnt_overlap(position,circle_radius):\n",
    "                entities[layer_id].append(Circle(*position, circle_radius, layer_depth))\n",
    "                break\n",
    "        \n",
    "for layer_id, layer in entities.items():\n",
    "    print(layer_id, len(layer))\n",
    "    for b in layer:\n",
    "        b.draw(canvas, depth_map)\n",
    "\n",
    "canvas.save('canvas.jpg')\n",
    "depth_map.save('canvas_depth.jpg')"
   ]
  },
  {
   "cell_type": "code",
   "execution_count": null,
   "metadata": {},
   "outputs": [],
   "source": [
    "\n",
    "#fill center oval with black\n",
    "\n",
    "center_x = width // 2\n",
    "center_y = height // 2\n",
    "center_r = 625\n",
    "center_d = 157\n",
    "center = Circle(center_x, center_y, center_r, center_d)\n",
    "center.color = (0,0,0)\n",
    "center.draw(canvas, depth_map)\n",
    "max_levels=35\n",
    "\n",
    "\n",
    "for level in trange(max_levels):\n",
    "    center_x = width // 2\n",
    "    center_y = height // 2\n",
    "    center_r = 600-(level*50)\n",
    "    center_d = max([(255-(15*max_levels)),150])+(level*3)\n",
    "    center = Circle(center_x, center_y, center_r, center_d)\n",
    "    center.color = (level*5,level*5,level*5)\n",
    "    center.draw(canvas, depth_map)"
   ]
  },
  {
   "cell_type": "code",
   "execution_count": null,
   "metadata": {},
   "outputs": [],
   "source": [
    "\n",
    "text = [\n",
    "    \"Trans Rights\",\n",
    "    \"Are Human Rights\",\n",
    "]\n",
    "text_depth = 250\n",
    "#render text in side 27 font, centered horizontally and vertically on the canvas and depth map\n",
    "\n",
    "font = ImageFont.truetype(\"/usr/share/fonts/truetype/ubuntu/UbuntuMono-B.ttf\", 121)\n",
    "font_big = ImageFont.truetype(\"/usr/share/fonts/truetype/ubuntu/UbuntuMono-B.ttf\", 122)\n",
    "draw = ImageDraw.Draw(canvas)\n",
    "depth_draw = ImageDraw.Draw(depth_map)\n",
    "\n",
    "second_line_offset = 120\n",
    "text_height = 120\n",
    "for i, line in enumerate(text):\n",
    "    text_width = draw.textlength(line, font)\n",
    "    draw.text((int((width - text_width) // 2), int((height - text_height ) // 2 + i * second_line_offset)), line, font=font, fill=(255,00,0))\n",
    "    depth_draw.text((int((width - text_width) // 2), int((height - text_height) // 2 + i * second_line_offset)), line, font=font, fill=text_depth)\n",
    "\n",
    "#write cavas.jpg and canvas_depth.jpg\n",
    "canvas.save('canvas.jpg')\n",
    "depth_map.save('canvas_depth.jpg')"
   ]
  },
  {
   "cell_type": "markdown",
   "metadata": {},
   "source": [
    "# Image In Stars"
   ]
  },
  {
   "cell_type": "code",
   "execution_count": null,
   "metadata": {},
   "outputs": [],
   "source": [
    "class CanvasImage():\n",
    "    def __init__(self,file_path, x,y,depth):\n",
    "        self.file_path = file_path\n",
    "        self.image = Image.open(file_path)\n",
    "        # transparency\n",
    "        self.image = self.image.convert(\"RGBA\")\n",
    "        self.width = self.image.width\n",
    "        self.height = self.image.height\n",
    "        self.pixels = self.image.load()\n",
    "        self.x = x\n",
    "        self.y = y\n",
    "        self.depth = depth\n",
    "    def draw(self, canvas, depth_map):\n",
    "        for ix in range(self.width):\n",
    "            x = self.x + ix\n",
    "            for iy in range(self.height):\n",
    "                y = self.y + iy\n",
    "                if 0 <= x < width and 0 <= y < height:\n",
    "                    #with transparency\n",
    "                    r,g,b,a = self.pixels[ix,iy]\n",
    "                    if a > 0:\n",
    "                        canvas.putpixel((x, y), (r,g,b))\n",
    "                        depth_map.putpixel((x, y), self.depth)"
   ]
  },
  {
   "cell_type": "code",
   "execution_count": null,
   "metadata": {},
   "outputs": [],
   "source": [
    "class BubbleCanvasImage():\n",
    "    def __init__(self,file_path, x,y,depth,max_image_depth):\n",
    "        self.file_path = file_path\n",
    "        self.image = Image.open(file_path)\n",
    "        # transparency\n",
    "        self.image = self.image.convert(\"RGBA\")\n",
    "        self.width = self.image.width\n",
    "        self.height = self.image.height\n",
    "        self.pixels = self.image.load()\n",
    "        self.x = x\n",
    "        self.y = y\n",
    "        self.depth = depth\n",
    "        self.max_image_depth = max_image_depth\n",
    "        self.image_center = (self.width // 2, self.height // 2)\n",
    "\n",
    "    def get_falloff_distance(self, x, y,rate):\n",
    "        dx = abs(x - self.x - self.image_center[0])\n",
    "        dy = abs(y - self.y - self.image_center[1])\n",
    "        return (dx ** 2 + dy ** 2) ** 0.5 * rate\n",
    "\n",
    "    def adjust_depth(self, x, y, depth):\n",
    "        #start at depth and get lighter the closer to the center\n",
    "        falloff_distance = self.get_falloff_distance(x, y,rate=0.45)\n",
    "        falloff = falloff_distance / self.max_image_depth\n",
    "        falloff = min(1, falloff)\n",
    "        falloff = max(0, falloff)\n",
    "        return depth - int((255 - depth) * falloff)\n",
    "\n",
    "    def draw(self, canvas, depth_map):\n",
    "        for ix in range(self.width):\n",
    "            x = self.x + ix\n",
    "            for iy in range(self.height):\n",
    "                y = self.y + iy\n",
    "                if 0 <= x < width and 0 <= y < height:\n",
    "                    #with transparency\n",
    "                    r,g,b,a = self.pixels[ix,iy]\n",
    "                    if a > 0:\n",
    "                        canvas.putpixel((x, y), (r,g,b))\n",
    "                        depth_map.putpixel((x, y), self.adjust_depth(x,y,self.depth))"
   ]
  },
  {
   "cell_type": "code",
   "execution_count": 170,
   "metadata": {},
   "outputs": [],
   "source": [
    "class ColorExtractorAndGenerator():\n",
    "    def __init__(self, image_obj, max_colors=15, avg_color_amount= 15,ignore_most_common=1):\n",
    "        self.image_obj = image_obj\n",
    "        self.colors = self.extract_colors(avg_color_amount, max_colors,ignore_most_common)\n",
    "        print(self.colors)\n",
    "    def group_color(self, color, color_counts, avg_color_grouping_amount):\n",
    "        for cc_color in color_counts.keys():\n",
    "            if abs(color[0] - cc_color[0]) < avg_color_grouping_amount and \\\n",
    "               abs(color[1] - cc_color[1]) < avg_color_grouping_amount and \\\n",
    "               abs(color[2] - cc_color[2]) < avg_color_grouping_amount:\n",
    "                return cc_color\n",
    "        return color\n",
    "    def extract_colors(self, avg_color_grouping_amount, max_colors,ignore_most_common=1):\n",
    "        extracted_colors = []\n",
    "        sampling_amount = 1000\n",
    "        for i in range(sampling_amount):\n",
    "            x = random.randint(0, self.image_obj.width - 1)\n",
    "            y = random.randint(0, self.image_obj.height - 1)\n",
    "            r,g,b,a = self.image_obj.getpixel((x, y))\n",
    "            extracted_colors.append((r,g,b))\n",
    "        \n",
    "\n",
    "        #sort by most common and deduplicate, reduce to max_colors based on avg_color_amount\n",
    "        color_counts = defaultdict(int)\n",
    "        for color in extracted_colors:\n",
    "            color = self.group_color(color,color_counts,avg_color_grouping_amount)\n",
    "            color_counts[color] += 1\n",
    "        color_counts = sorted(color_counts.items(), key=lambda x: x[1], reverse=True)\n",
    "        \n",
    "        #ignore\n",
    "        color_counts = color_counts[ignore_most_common:]\n",
    "        color_counts = color_counts[:max_colors]\n",
    "\n",
    "        return [color for color, count in color_counts]\n",
    "\n",
    "    def generate(self):\n",
    "        return random.choice(self.colors)\n"
   ]
  },
  {
   "cell_type": "code",
   "execution_count": 173,
   "metadata": {},
   "outputs": [
    {
     "name": "stdout",
     "output_type": "stream",
     "text": [
      "[(239, 242, 244), (246, 126, 30), (15, 17, 24), (249, 54, 9), (31, 6, 38), (252, 104, 22), (251, 78, 21), (53, 34, 29), (23, 37, 31), (239, 51, 24), (43, 41, 50), (32, 15, 23), (73, 23, 0), (248, 71, 46), (218, 210, 214)]\n"
     ]
    },
    {
     "name": "stderr",
     "output_type": "stream",
     "text": [
      "100%|██████████| 500/500 [00:00<00:00, 4720.78it/s]\n"
     ]
    }
   ],
   "source": [
    "for file in os.listdir('input'):\n",
    "    input_image = Image.open(os.path.join('input', file))\n",
    "    colors = ColorExtractorAndGenerator(input_image)\n",
    "    border_vertical = 100\n",
    "    border_horizontal =75\n",
    "    height = input_image.size[1] + 2 * border_vertical\n",
    "    width = input_image.size[0] + 2 * border_horizontal\n",
    "\n",
    "    depth_map = Image.new('L', (width, height))\n",
    "    canvas = Image.new('RGB', (width, height),(175,175,175)) \n",
    "    #gradient dark to light near ( 175,175,175)\n",
    "\n",
    "    for y in range(height):\n",
    "        for x in range(width):\n",
    "            d = int(175 * (1 - (abs(y - height // 2) / (height // 2))))\n",
    "            canvas.putpixel((x, y), (d,d,d))\n",
    "\n",
    "    entities = defaultdict(list)\n",
    "\n",
    "    #background circles\n",
    "    background_circles = 500\n",
    "    background_circles_start_depth = 5\n",
    "    background_circles_end_depth= 150\n",
    "\n",
    "    for i in trange(background_circles):\n",
    "        circle_radius = random.randint(1, 5)\n",
    "        color = colors.generate()\n",
    "        layer_depth = random.randint(background_circles_start_depth, background_circles_end_depth)\n",
    "        max_tries = 15\n",
    "        while True:\n",
    "            max_tries -= 1\n",
    "            if max_tries == 0:\n",
    "                print(\"max tries\")\n",
    "                break\n",
    "            position = random_position()\n",
    "            if doesnt_overlap(position,circle_radius):\n",
    "                entities[layer_depth].append(Circle(*position, circle_radius, layer_depth,color))\n",
    "                break\n",
    "\n",
    "    image_depth = 200\n",
    "    max_image_depth = 110\n",
    "    center_x = width // 2\n",
    "    center_y = height // 2\n",
    "    actual_image_x = center_x - input_image.width // 2\n",
    "    actual_image_y = center_y - input_image.height // 2\n",
    "    entities[image_depth].append(BubbleCanvasImage(os.path.join('input', file), actual_image_x, actual_image_y, image_depth,max_image_depth))\n",
    "\n",
    "\n",
    "\n",
    "            \n",
    "    for layer_id, layer in entities.items():\n",
    "        for b in layer:\n",
    "            b.draw(canvas, depth_map)\n",
    "\n",
    "\n",
    "    canvas.save(os.path.join('output', file))\n",
    "    depth_map.save(os.path.join('output', file.replace('.png', '_depth.png')))"
   ]
  },
  {
   "cell_type": "code",
   "execution_count": null,
   "metadata": {},
   "outputs": [],
   "source": []
  },
  {
   "cell_type": "code",
   "execution_count": null,
   "metadata": {},
   "outputs": [],
   "source": []
  }
 ],
 "metadata": {
  "kernelspec": {
   "display_name": "Python 3",
   "language": "python",
   "name": "python3"
  },
  "language_info": {
   "codemirror_mode": {
    "name": "ipython",
    "version": 3
   },
   "file_extension": ".py",
   "mimetype": "text/x-python",
   "name": "python",
   "nbconvert_exporter": "python",
   "pygments_lexer": "ipython3",
   "version": "3.10.12"
  }
 },
 "nbformat": 4,
 "nbformat_minor": 2
}
