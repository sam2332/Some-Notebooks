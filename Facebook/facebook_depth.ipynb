{
 "cells": [
  {
   "cell_type": "code",
   "execution_count": null,
   "metadata": {},
   "outputs": [],
   "source": [
    "from collections import defaultdict\n",
    "from PIL import Image\n",
    "import random\n",
    "from tqdm import trange"
   ]
  },
  {
   "cell_type": "code",
   "execution_count": null,
   "metadata": {},
   "outputs": [],
   "source": [
    "height = 2400\n",
    "width = 2400"
   ]
  },
  {
   "cell_type": "code",
   "execution_count": null,
   "metadata": {},
   "outputs": [],
   "source": [
    "class Circle():\n",
    "    def __init__(self, x, y, r, d):\n",
    "        self.x = x\n",
    "        self.y = y\n",
    "        self.r = r\n",
    "        self.d = d\n",
    "        self.color = get_trans_colors()\n",
    "    def draw(self, canvas, depth_map):\n",
    "        for i in range(-self.r, self.r + 1):  # Adjusted to cover all quadrants.\n",
    "            for j in range(-self.r, self.r + 1):\n",
    "                if i**2 + j**2 <= self.r**2:\n",
    "                    x = self.x + i\n",
    "                    y = self.y + j\n",
    "                    if 0 <= x < width and 0 <= y < height:\n",
    "                        #one pix smaller\n",
    "                        if i**2 + j**2 <= (self.r - 1)**2:\n",
    "                            for x_r in range(-1, 1):\n",
    "                                for y_r in range(-1,1):\n",
    "                                    depth_map.putpixel((x+x_r, y+y_r), self.d)\n",
    "                        canvas.putpixel((x, y), self.color)\n"
   ]
  },
  {
   "cell_type": "code",
   "execution_count": null,
   "metadata": {},
   "outputs": [],
   "source": [
    "def random_position():\n",
    "    import random\n",
    "    return (random.randint(0, width), random.randint(0, height))"
   ]
  },
  {
   "cell_type": "code",
   "execution_count": null,
   "metadata": {},
   "outputs": [],
   "source": [
    "def random_color():\n",
    "    import random\n",
    "    return (random.randint(0, 255), random.randint(0, 255), random.randint(0, 255))"
   ]
  },
  {
   "cell_type": "code",
   "execution_count": null,
   "metadata": {},
   "outputs": [],
   "source": [
    "def get_trans_colors():\n",
    "    colors = [\n",
    "        (91,206,250),\n",
    "        (245,169,184),\n",
    "        (255,255,255)\n",
    "    ]\n",
    "    return random.choice(colors)\n"
   ]
  },
  {
   "cell_type": "code",
   "execution_count": null,
   "metadata": {},
   "outputs": [],
   "source": [
    "def doesnt_overlap(pos,circle_radius):\n",
    "    for layer in boxes:\n",
    "        for b in boxes[layer]:\n",
    "            #circle\n",
    "            if isinstance(b, Circle):\n",
    "                # if pos in circle \n",
    "                if (pos[0] - b.x)**2 + (pos[1] - b.y)**2 <= (circle_radius+50)**2:\n",
    "                \n",
    "\n",
    "                    return False\n",
    "        \n",
    "    return True"
   ]
  },
  {
   "cell_type": "code",
   "execution_count": null,
   "metadata": {},
   "outputs": [],
   "source": [
    "depth_map = Image.new('L', (width, height))\n",
    "canvas = Image.new('RGB', (width, height))\n",
    "\n",
    "min_box_width = 4\n",
    "min_box_height = 4\n",
    "\n",
    "max_box_width = 45\n",
    "max_box_height =45\n",
    "\n",
    "box_layer_count = 10\n",
    "box_layers=60\n",
    "\n",
    "boxes = defaultdict(list)\n",
    "for layer_id in range(box_layers,0,-1):\n",
    "    for box_id in trange(box_layer_count):\n",
    "        #scaling based on layer\n",
    "        circle_radius = int(10 + (layer_id / box_layers) * 40)\n",
    "        layer_depth = int(255 * (layer_id / box_layers))\n",
    "\n",
    "        max_tries = 2\n",
    "        while True:\n",
    "            max_tries -= 1\n",
    "            if max_tries == 0:\n",
    "                break\n",
    "            position = random_position()\n",
    "            if doesnt_overlap(position,circle_radius):\n",
    "                boxes[layer_id].append(Circle(*position, circle_radius, layer_depth))\n",
    "                break\n",
    "        \n",
    "for layer_id, layer in boxes.items():\n",
    "    print(layer_id, len(layer))\n",
    "    for b in layer:\n",
    "        b.draw(canvas, depth_map)\n",
    "\n",
    "canvas.save('canvas.jpg')\n",
    "depth_map.save('canvas_depth.jpg')"
   ]
  },
  {
   "cell_type": "code",
   "execution_count": null,
   "metadata": {},
   "outputs": [],
   "source": [
    "\n",
    "#fill center oval with black\n",
    "center_x = width // 2\n",
    "center_y = height // 2\n",
    "center_r = 600\n",
    "center_d = 150\n",
    "center = Circle(center_x, center_y, center_r, center_d)\n",
    "center.color = (0,0,0)\n",
    "center.draw(canvas, depth_map)\n"
   ]
  },
  {
   "cell_type": "code",
   "execution_count": null,
   "metadata": {},
   "outputs": [],
   "source": [
    "\n",
    "text = [\n",
    "    \"Trans Rights\",\n",
    "    \"Are Human Rights\",\n",
    "]\n",
    "text_depth = 155\n",
    "#render text in side 27 font, centered horizontally and vertically on the canvas and depth map\n",
    "\n",
    "font = ImageFont.truetype(\"/usr/share/fonts/truetype/ubuntu/UbuntuMono-B.ttf\", 121)\n",
    "font_big = ImageFont.truetype(\"/usr/share/fonts/truetype/ubuntu/UbuntuMono-B.ttf\", 122)\n",
    "draw = ImageDraw.Draw(canvas)\n",
    "depth_draw = ImageDraw.Draw(depth_map)\n",
    "\n",
    "second_line_offset = 120\n",
    "text_height = 120\n",
    "for i, line in enumerate(text):\n",
    "    text_width = draw.textlength(line, font)\n",
    "    draw.text((int((width - text_width) // 2), int((height - text_height ) // 2 + i * second_line_offset)), line, font=font, fill=(255,00,0))\n",
    "    depth_draw.text((int((width - text_width) // 2), int((height - text_height) // 2 + i * second_line_offset)), line, font=font, fill=text_depth)\n",
    "\n",
    "#write cavas.jpg and canvas_depth.jpg\n",
    "canvas.save('canvas.jpg')\n",
    "depth_map.save('canvas_depth.jpg')"
   ]
  }
 ],
 "metadata": {
  "kernelspec": {
   "display_name": "Python 3",
   "language": "python",
   "name": "python3"
  },
  "language_info": {
   "codemirror_mode": {
    "name": "ipython",
    "version": 3
   },
   "file_extension": ".py",
   "mimetype": "text/x-python",
   "name": "python",
   "nbconvert_exporter": "python",
   "pygments_lexer": "ipython3",
   "version": "3.10.12"
  }
 },
 "nbformat": 4,
 "nbformat_minor": 2
}
