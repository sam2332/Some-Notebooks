{
    "cells": [
        {
            "cell_type": "code",
            "execution_count": 1,
            "id": "ddc238da-149c-480a-aa69-89165b32ad06",
            "metadata": {},
            "outputs": [],
            "source": [
                "import torch"
            ]
        },
        {
            "cell_type": "code",
            "execution_count": 5,
            "id": "96137cf5-0770-4919-825c-7247ec881c55",
            "metadata": {},
            "outputs": [],
            "source": [
                "one_d = torch.arange(0, 9)\n",
                "one_d"
            ]
        },
        {
            "cell_type": "code",
            "execution_count": 9,
            "id": "c28275eb-dc29-4c9f-b87b-040b2e1b9bd5",
            "metadata": {},
            "outputs": [],
            "source": [
                "two_d = one_d.view(3, 3)\n",
                "two_d"
            ]
        },
        {
            "cell_type": "code",
            "execution_count": 10,
            "id": "3a9e3a16-16ce-4f32-98e8-594d27ed44c5",
            "metadata": {},
            "outputs": [],
            "source": [
                "two_d.dim()"
            ]
        },
        {
            "cell_type": "code",
            "execution_count": 20,
            "id": "769e92ca-f0aa-4211-b50f-d609e6457b4a",
            "metadata": {},
            "outputs": [],
            "source": [
                "two_d[0,1]"
            ]
        },
        {
            "cell_type": "code",
            "execution_count": null,
            "id": "a25f37f1-8658-4e31-b1bd-f70d014195bc",
            "metadata": {},
            "outputs": [],
            "source": []
        }
    ],
    "metadata": {
        "kernelspec": {
            "display_name": "Python 3 (ipykernel)",
            "language": "python",
            "name": "python3"
        },
        "language_info": {
            "codemirror_mode": {
                "name": "ipython",
                "version": 3
            },
            "file_extension": ".py",
            "mimetype": "text/x-python",
            "name": "python",
            "nbconvert_exporter": "python",
            "pygments_lexer": "ipython3",
            "version": "3.10.4"
        },
        "widgets": {
            "application/vnd.jupyter.widget-state+json": {
                "state": {},
                "version_major": 2,
                "version_minor": 0
            }
        }
    },
    "nbformat": 4,
    "nbformat_minor": 5
}