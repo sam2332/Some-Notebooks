{
    "cells": [
        {
            "cell_type": "code",
            "execution_count": 1,
            "id": "ac149426-2c87-4ba6-bd4d-82db47dd60f8",
            "metadata": {},
            "outputs": [],
            "source": [
                "import torch"
            ]
        },
        {
            "cell_type": "code",
            "execution_count": 2,
            "id": "fea5c7af-10ac-466f-9d3e-ad619ffd7172",
            "metadata": {},
            "outputs": [],
            "source": [
                "x = torch.arange(18).view(3, 2, 3)\n",
                "x"
            ]
        },
        {
            "cell_type": "code",
            "execution_count": 4,
            "id": "f304e237-d093-463b-8688-56994a46cedb",
            "metadata": {},
            "outputs": [],
            "source": [
                "x[1][1][1]"
            ]
        },
        {
            "cell_type": "code",
            "execution_count": 5,
            "id": "34b6bf78-c5b2-41b5-82af-9b1f8f3b8d0f",
            "metadata": {},
            "outputs": [],
            "source": [
                "x[1, 1, 1]"
            ]
        },
        {
            "cell_type": "code",
            "execution_count": 9,
            "id": "6f7e97bb-b037-4df4-89a3-dfae71e852f6",
            "metadata": {},
            "outputs": [],
            "source": [
                "e = tuple([1, 1, 1])\n",
                "x[e]"
            ]
        },
        {
            "cell_type": "code",
            "execution_count": 11,
            "id": "f1d24586-6762-48c7-b571-6991a22ce20c",
            "metadata": {},
            "outputs": [],
            "source": [
                "x[1, 0:2, 0:3]"
            ]
        },
        {
            "cell_type": "code",
            "execution_count": 13,
            "id": "4f8251df-85f0-4f09-b762-809c375ce70a",
            "metadata": {},
            "outputs": [],
            "source": [
                "x[1, :, 0:3]"
            ]
        },
        {
            "cell_type": "code",
            "execution_count": 14,
            "id": "a7d8b619-be42-4451-97fb-9de35163bf2a",
            "metadata": {},
            "outputs": [],
            "source": [
                "x[1,:,:]"
            ]
        },
        {
            "cell_type": "code",
            "execution_count": 15,
            "id": "f44fbec2-bd23-46fa-94b6-814f73d49a47",
            "metadata": {},
            "outputs": [],
            "source": [
                "x[1]"
            ]
        },
        {
            "cell_type": "code",
            "execution_count": null,
            "id": "38ffc348-899d-4556-8f31-e6c332e180fe",
            "metadata": {},
            "outputs": [],
            "source": []
        }
    ],
    "metadata": {
        "kernelspec": {
            "display_name": "Python 3 (ipykernel)",
            "language": "python",
            "name": "python3"
        },
        "language_info": {
            "codemirror_mode": {
                "name": "ipython",
                "version": 3
            },
            "file_extension": ".py",
            "mimetype": "text/x-python",
            "name": "python",
            "nbconvert_exporter": "python",
            "pygments_lexer": "ipython3",
            "version": "3.10.4"
        },
        "widgets": {
            "application/vnd.jupyter.widget-state+json": {
                "state": {},
                "version_major": 2,
                "version_minor": 0
            }
        }
    },
    "nbformat": 4,
    "nbformat_minor": 5
}