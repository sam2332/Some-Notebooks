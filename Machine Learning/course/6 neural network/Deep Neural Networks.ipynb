{
    "cells": [
        {
            "cell_type": "code",
            "execution_count": 18,
            "id": "6bb7f99f-d2d5-4b06-a7c2-835a93cfba64",
            "metadata": {},
            "outputs": [],
            "source": [
                "import matplotlib.pyplot as plt\n",
                "import numpy as np\n",
                "import torch\n",
                "import torch.nn as nn\n",
                "from sklearn import datasets\n",
                "from tqdm.notebook import tqdm\n",
                "\n",
                "torch.manual_seed(32)"
            ]
        },
        {
            "cell_type": "code",
            "execution_count": 2,
            "id": "a415d6d9-5c2b-4cc3-a502-2d3f04873d28",
            "metadata": {},
            "outputs": [],
            "source": [
                "n_pts = 500\n",
                "X, y = datasets.make_circles(n_samples=n_pts, random_state=123, noise=0.1, factor=0.4)\n",
                "x_data = torch.Tensor(X)\n",
                "y_data = torch.Tensor(y.reshape(500, 1))"
            ]
        },
        {
            "cell_type": "code",
            "execution_count": 3,
            "id": "6dc00be1-62e4-4446-8fee-5e8866f26035",
            "metadata": {},
            "outputs": [],
            "source": [
                "plt.scatter(X[y == 0, 0], X[y == 0, 1])\n",
                "plt.scatter(X[y == 1, 0], X[y == 1, 1])"
            ]
        },
        {
            "cell_type": "code",
            "execution_count": 4,
            "id": "7893ee94-0085-4c5f-aeb6-f543d7120148",
            "metadata": {},
            "outputs": [],
            "source": [
                "class Model(nn.Module):\n",
                "    def __init__(self, input_size, H1, output_size):\n",
                "        super().__init__()\n",
                "        self.linear = nn.Linear(input_size, H1)\n",
                "        self.linear2 = nn.Linear(H1, output_size)\n",
                "\n",
                "    def forward(self, x):\n",
                "        x = torch.sigmoid(self.linear(x))\n",
                "        x = torch.sigmoid(self.linear2(x))\n",
                "        return x\n",
                "\n",
                "    def predict(self, x):\n",
                "        pred = self.forward(x)\n",
                "        if pred >= 0.5:\n",
                "            return 1\n",
                "        else:\n",
                "            return 0"
            ]
        },
        {
            "cell_type": "code",
            "execution_count": 5,
            "id": "0bbfa12d-d4a0-4b5b-aeb1-6a9dc38346cb",
            "metadata": {},
            "outputs": [],
            "source": [
                "model = Model(2, 6, 1)\n",
                "print(list(model.parameters()))"
            ]
        },
        {
            "cell_type": "code",
            "execution_count": 6,
            "id": "9de2ff8d-6a82-4cf9-b51d-704a44867099",
            "metadata": {},
            "outputs": [],
            "source": [
                "criterion = nn.BCELoss()\n",
                "optimizer = torch.optim.Adam(model.parameters(), lr=0.1)"
            ]
        },
        {
            "cell_type": "code",
            "execution_count": 21,
            "id": "0064c8fc-9813-487f-855f-4b68c899e620",
            "metadata": {
                "scrolled": true,
                "tags": []
            },
            "outputs": [],
            "source": [
                "epochs = 1000\n",
                "losses = []\n",
                "\n",
                "progress_bar = tqdm(range(epochs))\n",
                "for i in progress_bar:\n",
                "    y_pred = model.forward(x_data)\n",
                "    loss = criterion(y_pred, y_data)\n",
                "    losses.append(loss.item())\n",
                "    optimizer.zero_grad()\n",
                "    loss.backward()\n",
                "    optimizer.step()\n",
                "    progress_bar.set_description(f\"epoch: {i} loss: {loss.item()}\")"
            ]
        },
        {
            "cell_type": "code",
            "execution_count": 8,
            "id": "5e118115-b450-4f86-89a6-8a390e0d6e9d",
            "metadata": {},
            "outputs": [],
            "source": [
                "plt.plot(range(epochs), losses)\n",
                "plt.ylabel(\"Loss\")\n",
                "plt.xlabel(\"Epoc\")\n",
                "print(\"Loss over time\")"
            ]
        },
        {
            "cell_type": "code",
            "execution_count": 9,
            "id": "e9708d55-cf00-4eea-a6d6-9085d206b92f",
            "metadata": {},
            "outputs": [],
            "source": [
                "def plot_decision_boundry(X, y):\n",
                "    x_span = np.linspace(min(X[:, 0]) - 0.25, max(X[:, 0] + 0.25))\n",
                "    y_span = np.linspace(min(X[:, 1]) - 0.25, max(X[:, 1] + 0.25))\n",
                "    xx, yy = np.meshgrid(x_span, y_span)\n",
                "    grid = torch.Tensor(np.c_[xx.ravel(), yy.ravel()])\n",
                "    pred_func = model.forward(grid)\n",
                "    z = pred_func.view(xx.shape).detach().numpy()\n",
                "    plt.contourf(xx, yy, z)\n",
                "    plt.scatter(X[y == 0, 0], X[y == 0, 1])\n",
                "    plt.scatter(X[y == 1, 0], X[y == 1, 1])"
            ]
        },
        {
            "cell_type": "code",
            "execution_count": 13,
            "id": "8f07b02b-760d-45e6-b24a-215fd9fb3043",
            "metadata": {},
            "outputs": [],
            "source": [
                "print(\"Trained Network\")\n",
                "plot_decision_boundry(X, y)"
            ]
        },
        {
            "cell_type": "code",
            "execution_count": 14,
            "id": "8826069c-aa37-4074-9c45-f114ac2fb087",
            "metadata": {},
            "outputs": [],
            "source": [
                "p_x = 0.025\n",
                "p_y = 0.025\n",
                "point = torch.Tensor([p_x, p_y])\n",
                "\n",
                "pred = model.predict(point)\n",
                "print(\"First Prediction, item in center of graph, group 1\")\n",
                "print(pred)\n",
                "plt.plot([p_x], [p_y], \"o\")\n",
                "plot_decision_boundry(X, y)"
            ]
        },
        {
            "cell_type": "code",
            "execution_count": 12,
            "id": "f609ed86-c226-485a-985e-9c1f84ee2af1",
            "metadata": {},
            "outputs": [],
            "source": [
                "p_x = 1\n",
                "p_y = 1\n",
                "point = torch.Tensor([p_x, p_y])\n",
                "pred = model.predict(point)\n",
                "print(\"Second Prediction, item in upper right of graph, group 0\")\n",
                "print(pred)\n",
                "plot_decision_boundry(X, y)\n",
                "plt.plot([p_x], [p_y], \"ro\")"
            ]
        },
        {
            "cell_type": "code",
            "execution_count": null,
            "id": "09ef2710-446d-4bf9-a439-1a0f3145e56e",
            "metadata": {},
            "outputs": [],
            "source": []
        },
        {
            "cell_type": "code",
            "execution_count": null,
            "id": "32f07a95-fda4-42ee-b40f-7689c6a4c3c9",
            "metadata": {},
            "outputs": [],
            "source": []
        }
    ],
    "metadata": {
        "kernelspec": {
            "display_name": "Python 3 (ipykernel)",
            "language": "python",
            "name": "python3"
        },
        "language_info": {
            "codemirror_mode": {
                "name": "ipython",
                "version": 3
            },
            "file_extension": ".py",
            "mimetype": "text/x-python",
            "name": "python",
            "nbconvert_exporter": "python",
            "pygments_lexer": "ipython3",
            "version": "3.10.4"
        },
        "widgets": {
            "application/vnd.jupyter.widget-state+json": {
                "state": {
                    "07fd3cc351c04873b5ed8b382850a28a": {
                        "model_module": "@jupyter-widgets/controls",
                        "model_module_version": "1.5.0",
                        "model_name": "DescriptionStyleModel",
                        "state": {
                            "description_width": ""
                        }
                    },
                    "09fa4a98189d42749d9e95c0288d1f60": {
                        "model_module": "@jupyter-widgets/base",
                        "model_module_version": "1.2.0",
                        "model_name": "LayoutModel",
                        "state": {}
                    },
                    "16ddbaebfa544dc38e6f8216e47b5ef0": {
                        "model_module": "@jupyter-widgets/controls",
                        "model_module_version": "1.5.0",
                        "model_name": "DescriptionStyleModel",
                        "state": {
                            "description_width": ""
                        }
                    },
                    "1986213a458044b4b29a84bd10a41fff": {
                        "model_module": "@jupyter-widgets/controls",
                        "model_module_version": "1.5.0",
                        "model_name": "ProgressStyleModel",
                        "state": {
                            "description_width": ""
                        }
                    },
                    "1d0afca4f5f9421392c5d99e6bb51c5e": {
                        "model_module": "@jupyter-widgets/controls",
                        "model_module_version": "1.5.0",
                        "model_name": "HBoxModel",
                        "state": {
                            "children": [
                                "IPY_MODEL_fed2010531a44ca5a7afd37102d1f024",
                                "IPY_MODEL_4860abebf4904b6db3b99f66ef9e49ed",
                                "IPY_MODEL_fef3b8413f3e4053b919f7410851e83d"
                            ],
                            "layout": "IPY_MODEL_4c418cb5f8e74c7e9c2507b41cd9da4c"
                        }
                    },
                    "1f001f51932d450ba73c9b932e255fbb": {
                        "model_module": "@jupyter-widgets/base",
                        "model_module_version": "1.2.0",
                        "model_name": "LayoutModel",
                        "state": {}
                    },
                    "20abee78432245398b7d4948aababd54": {
                        "model_module": "@jupyter-widgets/controls",
                        "model_module_version": "1.5.0",
                        "model_name": "HTMLModel",
                        "state": {
                            "layout": "IPY_MODEL_5ac58937dcc74daab29f9ef189fee463",
                            "style": "IPY_MODEL_5ef9e83c5c9e4de9bc765755e38cc267",
                            "value": "epoch: 999 loss: 0.00024973839754238725: 100%"
                        }
                    },
                    "4860abebf4904b6db3b99f66ef9e49ed": {
                        "model_module": "@jupyter-widgets/controls",
                        "model_module_version": "1.5.0",
                        "model_name": "FloatProgressModel",
                        "state": {
                            "bar_style": "danger",
                            "layout": "IPY_MODEL_7f0c3a5177d24d96a271a4a0c693cd1a",
                            "max": 1000,
                            "style": "IPY_MODEL_98e2326083f2408f80949fc6344415fc"
                        }
                    },
                    "487db36b55404d10b470e367747b081a": {
                        "model_module": "@jupyter-widgets/controls",
                        "model_module_version": "1.5.0",
                        "model_name": "DescriptionStyleModel",
                        "state": {
                            "description_width": ""
                        }
                    },
                    "4c418cb5f8e74c7e9c2507b41cd9da4c": {
                        "model_module": "@jupyter-widgets/base",
                        "model_module_version": "1.2.0",
                        "model_name": "LayoutModel",
                        "state": {}
                    },
                    "4f646ec01239474197adc6de3a8c97cf": {
                        "model_module": "@jupyter-widgets/controls",
                        "model_module_version": "1.5.0",
                        "model_name": "DescriptionStyleModel",
                        "state": {
                            "description_width": ""
                        }
                    },
                    "5562b8c6641c4a62b0505c9b48a1b4bc": {
                        "model_module": "@jupyter-widgets/base",
                        "model_module_version": "1.2.0",
                        "model_name": "LayoutModel",
                        "state": {}
                    },
                    "5980ae08cbfb4803aff8429fd01d6169": {
                        "model_module": "@jupyter-widgets/base",
                        "model_module_version": "1.2.0",
                        "model_name": "LayoutModel",
                        "state": {}
                    },
                    "5ac58937dcc74daab29f9ef189fee463": {
                        "model_module": "@jupyter-widgets/base",
                        "model_module_version": "1.2.0",
                        "model_name": "LayoutModel",
                        "state": {}
                    },
                    "5d7ac42b047d40ad9fdbfb7d5c9ab18a": {
                        "model_module": "@jupyter-widgets/controls",
                        "model_module_version": "1.5.0",
                        "model_name": "HTMLModel",
                        "state": {
                            "layout": "IPY_MODEL_75265ff519b74d1fbad0b976f90b8c0c",
                            "style": "IPY_MODEL_16ddbaebfa544dc38e6f8216e47b5ef0",
                            "value": " 1000/1000 [00:01&lt;00:00, 675.59it/s]"
                        }
                    },
                    "5ef9e83c5c9e4de9bc765755e38cc267": {
                        "model_module": "@jupyter-widgets/controls",
                        "model_module_version": "1.5.0",
                        "model_name": "DescriptionStyleModel",
                        "state": {
                            "description_width": ""
                        }
                    },
                    "745c7d65c51c4440b8accc65b92af959": {
                        "model_module": "@jupyter-widgets/controls",
                        "model_module_version": "1.5.0",
                        "model_name": "HTMLModel",
                        "state": {
                            "layout": "IPY_MODEL_8b8c655c92824d4187e9297d43a04109",
                            "style": "IPY_MODEL_487db36b55404d10b470e367747b081a",
                            "value": "epoch: 999 loss: 0.0005537947872653604: 100%"
                        }
                    },
                    "75265ff519b74d1fbad0b976f90b8c0c": {
                        "model_module": "@jupyter-widgets/base",
                        "model_module_version": "1.2.0",
                        "model_name": "LayoutModel",
                        "state": {}
                    },
                    "7f0c3a5177d24d96a271a4a0c693cd1a": {
                        "model_module": "@jupyter-widgets/base",
                        "model_module_version": "1.2.0",
                        "model_name": "LayoutModel",
                        "state": {}
                    },
                    "8b8c655c92824d4187e9297d43a04109": {
                        "model_module": "@jupyter-widgets/base",
                        "model_module_version": "1.2.0",
                        "model_name": "LayoutModel",
                        "state": {}
                    },
                    "8e56fb2a5ce9460889ca6a47a83c38c7": {
                        "model_module": "@jupyter-widgets/controls",
                        "model_module_version": "1.5.0",
                        "model_name": "FloatProgressModel",
                        "state": {
                            "bar_style": "success",
                            "layout": "IPY_MODEL_09fa4a98189d42749d9e95c0288d1f60",
                            "max": 1000,
                            "style": "IPY_MODEL_cbf8da61ba89425db0235625dcabeb47",
                            "value": 1000
                        }
                    },
                    "98e2326083f2408f80949fc6344415fc": {
                        "model_module": "@jupyter-widgets/controls",
                        "model_module_version": "1.5.0",
                        "model_name": "ProgressStyleModel",
                        "state": {
                            "description_width": ""
                        }
                    },
                    "99b6a7eadfc94fdfb5e30098fd14e10c": {
                        "model_module": "@jupyter-widgets/controls",
                        "model_module_version": "1.5.0",
                        "model_name": "HBoxModel",
                        "state": {
                            "children": [
                                "IPY_MODEL_745c7d65c51c4440b8accc65b92af959",
                                "IPY_MODEL_f0833ca5e04746908d32d177ceab876e",
                                "IPY_MODEL_5d7ac42b047d40ad9fdbfb7d5c9ab18a"
                            ],
                            "layout": "IPY_MODEL_c301492c24974da5b842e45dae851b0d"
                        }
                    },
                    "9d644002c0e942a28b162ef647af925b": {
                        "model_module": "@jupyter-widgets/controls",
                        "model_module_version": "1.5.0",
                        "model_name": "HTMLModel",
                        "state": {
                            "layout": "IPY_MODEL_1f001f51932d450ba73c9b932e255fbb",
                            "style": "IPY_MODEL_4f646ec01239474197adc6de3a8c97cf",
                            "value": " 1000/1000 [00:01&lt;00:00, 735.34it/s]"
                        }
                    },
                    "b57a324c6141458fa44545a2acb992d8": {
                        "model_module": "@jupyter-widgets/controls",
                        "model_module_version": "1.5.0",
                        "model_name": "DescriptionStyleModel",
                        "state": {
                            "description_width": ""
                        }
                    },
                    "bcb0905a126f414096053723dda3b4c0": {
                        "model_module": "@jupyter-widgets/base",
                        "model_module_version": "1.2.0",
                        "model_name": "LayoutModel",
                        "state": {}
                    },
                    "bd7b720b5fad482fa856a5c75e780e1e": {
                        "model_module": "@jupyter-widgets/base",
                        "model_module_version": "1.2.0",
                        "model_name": "LayoutModel",
                        "state": {}
                    },
                    "c301492c24974da5b842e45dae851b0d": {
                        "model_module": "@jupyter-widgets/base",
                        "model_module_version": "1.2.0",
                        "model_name": "LayoutModel",
                        "state": {}
                    },
                    "cae29024fcc04bbc85abc8037d6d97c7": {
                        "model_module": "@jupyter-widgets/controls",
                        "model_module_version": "1.5.0",
                        "model_name": "HBoxModel",
                        "state": {
                            "children": [
                                "IPY_MODEL_20abee78432245398b7d4948aababd54",
                                "IPY_MODEL_8e56fb2a5ce9460889ca6a47a83c38c7",
                                "IPY_MODEL_9d644002c0e942a28b162ef647af925b"
                            ],
                            "layout": "IPY_MODEL_5562b8c6641c4a62b0505c9b48a1b4bc"
                        }
                    },
                    "cbf8da61ba89425db0235625dcabeb47": {
                        "model_module": "@jupyter-widgets/controls",
                        "model_module_version": "1.5.0",
                        "model_name": "ProgressStyleModel",
                        "state": {
                            "description_width": ""
                        }
                    },
                    "f0833ca5e04746908d32d177ceab876e": {
                        "model_module": "@jupyter-widgets/controls",
                        "model_module_version": "1.5.0",
                        "model_name": "FloatProgressModel",
                        "state": {
                            "bar_style": "success",
                            "layout": "IPY_MODEL_5980ae08cbfb4803aff8429fd01d6169",
                            "max": 1000,
                            "style": "IPY_MODEL_1986213a458044b4b29a84bd10a41fff",
                            "value": 1000
                        }
                    },
                    "fed2010531a44ca5a7afd37102d1f024": {
                        "model_module": "@jupyter-widgets/controls",
                        "model_module_version": "1.5.0",
                        "model_name": "HTMLModel",
                        "state": {
                            "layout": "IPY_MODEL_bcb0905a126f414096053723dda3b4c0",
                            "style": "IPY_MODEL_07fd3cc351c04873b5ed8b382850a28a",
                            "value": "  0%"
                        }
                    },
                    "fef3b8413f3e4053b919f7410851e83d": {
                        "model_module": "@jupyter-widgets/controls",
                        "model_module_version": "1.5.0",
                        "model_name": "HTMLModel",
                        "state": {
                            "layout": "IPY_MODEL_bd7b720b5fad482fa856a5c75e780e1e",
                            "style": "IPY_MODEL_b57a324c6141458fa44545a2acb992d8",
                            "value": " 0/1000 [00:00&lt;?, ?it/s]"
                        }
                    }
                },
                "version_major": 2,
                "version_minor": 0
            }
        }
    },
    "nbformat": 4,
    "nbformat_minor": 5
}