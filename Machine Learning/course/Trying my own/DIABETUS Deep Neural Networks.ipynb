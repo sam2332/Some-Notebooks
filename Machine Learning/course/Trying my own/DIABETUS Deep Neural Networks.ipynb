{
 "cells": [
  {
   "cell_type": "code",
   "execution_count": 1,
   "id": "6bb7f99f-d2d5-4b06-a7c2-835a93cfba64",
   "metadata": {},
   "outputs": [
    {
     "data": {
      "text/plain": [
       "<torch._C.Generator at 0x7f10678b1630>"
      ]
     },
     "execution_count": 1,
     "metadata": {},
     "output_type": "execute_result"
    }
   ],
   "source": [
    "import csv\n",
    "\n",
    "import matplotlib.pyplot as plt\n",
    "import numpy as np\n",
    "import torch\n",
    "import torch.nn as nn\n",
    "from sklearn import datasets\n",
    "from tqdm.notebook import tqdm\n",
    "\n",
    "torch.manual_seed(32)"
   ]
  },
  {
   "cell_type": "code",
   "execution_count": 2,
   "id": "a415d6d9-5c2b-4cc3-a502-2d3f04873d28",
   "metadata": {},
   "outputs": [
    {
     "name": "stdout",
     "output_type": "stream",
     "text": [
      "{'Pregnancies': '6', 'Glucose': '148', 'BloodPressure': '72', 'SkinThickness': '35', 'Insulin': '0', 'BMI': '33.6', 'DiabetesPedigreeFunction': '0.627', 'Age': '50', 'Outcome': '1'}\n"
     ]
    }
   ],
   "source": [
    "f = True\n",
    "X = []\n",
    "y = []\n",
    "\n",
    "\n",
    "with open(\n",
    "    \"../../data/diabetes1.csv\",\n",
    "    newline=\"\",\n",
    ") as csvfile:\n",
    "    reader = csv.DictReader(csvfile)\n",
    "    for row in reader:\n",
    "        if f:\n",
    "            print(row)\n",
    "            f = False\n",
    "        if float(row[\"Glucose\"]) < 50:\n",
    "            continue\n",
    "        X.append(np.array([float(row[\"Age\"]), float(row[\"Glucose\"])]))\n",
    "        y.append(np.intc(1 if row[\"Outcome\"].strip().upper() == \"1\" else 0))\n",
    "\n",
    "\n",
    "with open(\n",
    "    \"../../data/diabetes2.csv\",\n",
    "    newline=\"\",\n",
    ") as csvfile:\n",
    "    reader = csv.DictReader(csvfile)\n",
    "    for row in reader:\n",
    "        if f:\n",
    "            print(row)\n",
    "            f = False\n",
    "        if float(row[\"Glucose\"]) < 50:\n",
    "            continue\n",
    "        X.append(np.array([float(row[\"Age\"]), float(row[\"Glucose\"])]))\n",
    "        y.append(np.intc(1 if row[\"Outcome\"].strip().upper() == \"1\" else 0))\n",
    "\n",
    "\n",
    "X = np.array(X)\n",
    "y = np.array(y)\n",
    "\n",
    "x_data = torch.Tensor(X)\n",
    "y_data = torch.Tensor(y.reshape(len(X), 1))"
   ]
  },
  {
   "cell_type": "code",
   "execution_count": 3,
   "id": "6dc00be1-62e4-4446-8fee-5e8866f26035",
   "metadata": {},
   "outputs": [
    {
     "data": {
      "text/plain": [
       "<matplotlib.collections.PathCollection at 0x7f102186baf0>"
      ]
     },
     "execution_count": 3,
     "metadata": {},
     "output_type": "execute_result"
    },
    {
     "data": {
      "image/png": "[encoded data removed]",
      "text/plain": [
       "<Figure size 432x288 with 1 Axes>"
      ]
     },
     "metadata": {
      "needs_background": "light"
     },
     "output_type": "display_data"
    }
   ],
   "source": [
    "plt.scatter(X[y == 0, 0], X[y == 0, 1])\n",
    "plt.scatter(X[y == 1, 0], X[y == 1, 1])"
   ]
  },
  {
   "cell_type": "code",
   "execution_count": 4,
   "id": "7893ee94-0085-4c5f-aeb6-f543d7120148",
   "metadata": {},
   "outputs": [],
   "source": [
    "class Model(nn.Module):\n",
    "    def __init__(self, input_size, layers, output_size):\n",
    "        super().__init__()\n",
    "        self.layers = []\n",
    "        first = True\n",
    "        for node_size in layers:\n",
    "            if first:\n",
    "                item = nn.Linear(input_size, layers[0])\n",
    "                setattr(self, str(hash(item)), item)\n",
    "                self.layers.append(item)\n",
    "                previous_node_size = layers[0]\n",
    "                first = False\n",
    "                continue\n",
    "            else:\n",
    "                item = nn.Linear(previous_node_size, node_size)\n",
    "                setattr(self, str(hash(item)), item)\n",
    "                self.layers.append(item)\n",
    "            previous_node_size = node_size\n",
    "        item = nn.Linear(previous_node_size, output_size)\n",
    "        setattr(self, str(hash(item)), item)\n",
    "        self.layers.append(item)\n",
    "\n",
    "    def forward(self, x):\n",
    "        for layer in self.layers:\n",
    "            x = torch.sigmoid(layer(x))\n",
    "        return x\n",
    "\n",
    "    def predict(self, x):\n",
    "        pred = self.forward(x)\n",
    "        if pred >= 0.5:\n",
    "            return 1\n",
    "        else:\n",
    "            return 0"
   ]
  },
  {
   "cell_type": "code",
   "execution_count": 17,
   "id": "d455b7f5-9c5f-482d-9e03-caad2c57a6d0",
   "metadata": {},
   "outputs": [
    {
     "name": "stdout",
     "output_type": "stream",
     "text": [
      "Untrained Network\n"
     ]
    },
    {
     "data": {
      "image/png": "[encoded data removed]",
      "text/plain": [
       "<Figure size 432x288 with 1 Axes>"
      ]
     },
     "metadata": {
      "needs_background": "light"
     },
     "output_type": "display_data"
    }
   ],
   "source": [
    "model = Model(2, [20, 20], 1)\n",
    "# print(list(model.parameters()))\n",
    "print(\"Untrained Network\")\n",
    "plot_decision_boundry(X, y)"
   ]
  },
  {
   "cell_type": "code",
   "execution_count": 18,
   "id": "c6695952-3149-4b29-a42c-d32096da8d27",
   "metadata": {},
   "outputs": [
    {
     "data": {
      "text/plain": [
       "[Linear(in_features=2, out_features=20, bias=True),\n",
       " Linear(in_features=20, out_features=20, bias=True),\n",
       " Linear(in_features=20, out_features=1, bias=True)]"
      ]
     },
     "execution_count": 18,
     "metadata": {},
     "output_type": "execute_result"
    }
   ],
   "source": [
    "model.layers"
   ]
  },
  {
   "cell_type": "raw",
   "id": "d17fd557-0275-43be-8f75-8bb7c75895e6",
   "metadata": {},
   "source": [
    "list(model.parameters())"
   ]
  },
  {
   "cell_type": "code",
   "execution_count": 19,
   "id": "9de2ff8d-6a82-4cf9-b51d-704a44867099",
   "metadata": {},
   "outputs": [],
   "source": [
    "criterion = nn.BCELoss()\n",
    "optimizer = torch.optim.Adam(model.parameters(), lr=0.001)"
   ]
  },
  {
   "cell_type": "code",
   "execution_count": 20,
   "id": "0064c8fc-9813-487f-855f-4b68c899e620",
   "metadata": {
    "scrolled": true,
    "tags": []
   },
   "outputs": [
    {
     "data": {
      "application/vnd.jupyter.widget-view+json": {
       "model_id": "6ec2a3e138564d6fafacc54edd3d1e0a",
       "version_major": 2,
       "version_minor": 0
      },
      "text/plain": [
       "  0%|          | 0/4000 [00:00<?, ?it/s]"
      ]
     },
     "metadata": {},
     "output_type": "display_data"
    }
   ],
   "source": [
    "epochs = 4000\n",
    "losses = []\n",
    "\n",
    "progress_bar = tqdm(range(epochs))\n",
    "for i in progress_bar:\n",
    "    y_pred = model.forward(x_data)\n",
    "    loss = criterion(y_pred, y_data)\n",
    "    losses.append(loss.item())\n",
    "    optimizer.zero_grad()\n",
    "    loss.backward()\n",
    "    optimizer.step()\n",
    "    progress_bar.set_description(f\"epoch: {i} loss: {loss.item()}\")"
   ]
  },
  {
   "cell_type": "code",
   "execution_count": 21,
   "id": "5e118115-b450-4f86-89a6-8a390e0d6e9d",
   "metadata": {},
   "outputs": [
    {
     "name": "stdout",
     "output_type": "stream",
     "text": [
      "Loss over time\n"
     ]
    },
    {
     "data": {
      "image/png": "[encoded data removed]",
      "text/plain": [
       "<Figure size 432x288 with 1 Axes>"
      ]
     },
     "metadata": {
      "needs_background": "light"
     },
     "output_type": "display_data"
    }
   ],
   "source": [
    "plt.plot(range(epochs), losses)\n",
    "plt.ylabel(\"Loss\")\n",
    "plt.xlabel(\"Epoc\")\n",
    "print(\"Loss over time\")"
   ]
  },
  {
   "cell_type": "code",
   "execution_count": 22,
   "id": "e9708d55-cf00-4eea-a6d6-9085d206b92f",
   "metadata": {},
   "outputs": [],
   "source": [
    "def plot_decision_boundry(X, y, scatter=False):\n",
    "    x_span = np.linspace(min(X[:, 0]) - 0.25, max(X[:, 0] + 0.25))\n",
    "    y_span = np.linspace(min(X[:, 1]) - 0.25, max(X[:, 1] + 0.25))\n",
    "    xx, yy = np.meshgrid(x_span, y_span)\n",
    "    grid = torch.Tensor(np.c_[xx.ravel(), yy.ravel()])\n",
    "    pred_func = model.forward(grid)\n",
    "    z = pred_func.view(xx.shape).detach().numpy()\n",
    "    plt.contourf(xx, yy, z)\n",
    "    if scatter:\n",
    "        plt.scatter(X[y == 0, 0], X[y == 0, 1])\n",
    "        plt.scatter(X[y == 1, 0], X[y == 1, 1])"
   ]
  },
  {
   "cell_type": "code",
   "execution_count": 23,
   "id": "71fd342d-2542-418f-a5ad-80c4faeb2c8a",
   "metadata": {},
   "outputs": [
    {
     "name": "stdout",
     "output_type": "stream",
     "text": [
      "Trained Network\n"
     ]
    },
    {
     "data": {
      "image/png": "[encoded data removed]",
      "text/plain": [
       "<Figure size 432x288 with 1 Axes>"
      ]
     },
     "metadata": {
      "needs_background": "light"
     },
     "output_type": "display_data"
    }
   ],
   "source": [
    "print(\"Trained Network\")\n",
    "plot_decision_boundry(X, y)"
   ]
  },
  {
   "cell_type": "code",
   "execution_count": 24,
   "id": "6255263d-50bc-4cd3-9e54-1339792c5dd0",
   "metadata": {},
   "outputs": [
    {
     "name": "stdout",
     "output_type": "stream",
     "text": [
      "Trained Network With data\n"
     ]
    },
    {
     "data": {
      "image/png": "[encoded data removed]",
      "text/plain": [
       "<Figure size 432x288 with 1 Axes>"
      ]
     },
     "metadata": {
      "needs_background": "light"
     },
     "output_type": "display_data"
    }
   ],
   "source": [
    "print(\"Trained Network With data\")\n",
    "plot_decision_boundry(X, y, scatter=True)"
   ]
  },
  {
   "cell_type": "code",
   "execution_count": 25,
   "id": "8826069c-aa37-4074-9c45-f114ac2fb087",
   "metadata": {},
   "outputs": [
    {
     "name": "stdout",
     "output_type": "stream",
     "text": [
      "First Prediction, 33 years old with BGL 103, group 0 = No Diabetus\n",
      "0\n",
      "0.3079895079135895\n"
     ]
    },
    {
     "data": {
      "image/png": "[encoded data removed]",
      "text/plain": [
       "<Figure size 432x288 with 1 Axes>"
      ]
     },
     "metadata": {
      "needs_background": "light"
     },
     "output_type": "display_data"
    }
   ],
   "source": [
    "age = 33\n",
    "bgl = 103\n",
    "point = torch.Tensor([age, bgl])\n",
    "\n",
    "pred = model.predict(point)\n",
    "print(\"First Prediction, 33 years old with BGL 103, group 0 = No Diabetus\")\n",
    "print(pred)\n",
    "print(model.forward(point).item())\n",
    "plt.plot([age], [bgl], \"or\")\n",
    "plot_decision_boundry(X, y)"
   ]
  },
  {
   "cell_type": "code",
   "execution_count": 26,
   "id": "f609ed86-c226-485a-985e-9c1f84ee2af1",
   "metadata": {},
   "outputs": [
    {
     "name": "stdout",
     "output_type": "stream",
     "text": [
      "Second Prediction, 36 Years old with BGL 120, group 0 = No Diabetus\n",
      "1\n",
      "0.5002802610397339\n"
     ]
    },
    {
     "data": {
      "image/png": "[encoded data removed]",
      "text/plain": [
       "<Figure size 432x288 with 1 Axes>"
      ]
     },
     "metadata": {
      "needs_background": "light"
     },
     "output_type": "display_data"
    }
   ],
   "source": [
    "age = 36\n",
    "bgl = 120\n",
    "point = torch.Tensor([age, bgl])\n",
    "\n",
    "pred = model.predict(point)\n",
    "print(\"Second Prediction, 36 Years old with BGL 120, group 0 = No Diabetus\")\n",
    "print(pred)\n",
    "print(model.forward(point).item())\n",
    "plt.plot([age], [bgl], \"or\")\n",
    "plot_decision_boundry(X, y)"
   ]
  },
  {
   "cell_type": "code",
   "execution_count": 27,
   "id": "09ef2710-446d-4bf9-a439-1a0f3145e56e",
   "metadata": {},
   "outputs": [
    {
     "name": "stdout",
     "output_type": "stream",
     "text": [
      "Second Prediction, 36 Years old with BGL 140, group 1 =  Diabetus\n",
      "1\n",
      "0.6453069448471069\n"
     ]
    },
    {
     "data": {
      "image/png": "[encoded data removed]",
      "text/plain": [
       "<Figure size 432x288 with 1 Axes>"
      ]
     },
     "metadata": {
      "needs_background": "light"
     },
     "output_type": "display_data"
    }
   ],
   "source": [
    "age = 36\n",
    "bgl = 140\n",
    "point = torch.Tensor([age, bgl])\n",
    "\n",
    "pred = model.predict(point)\n",
    "print(\"Second Prediction, 36 Years old with BGL 140, group 1 =  Diabetus\")\n",
    "print(pred)\n",
    "print(model.forward(point).item())\n",
    "plt.plot([age], [bgl], \"or\")\n",
    "plot_decision_boundry(X, y)"
   ]
  },
  {
   "cell_type": "code",
   "execution_count": null,
   "id": "32f07a95-fda4-42ee-b40f-7689c6a4c3c9",
   "metadata": {},
   "outputs": [],
   "source": []
  },
  {
   "cell_type": "code",
   "execution_count": null,
   "id": "535e0522-06fa-4839-b57e-f085baecb4bc",
   "metadata": {},
   "outputs": [],
   "source": []
  }
 ],
 "metadata": {
  "kernelspec": {
   "display_name": "Python 3 (ipykernel)",
   "language": "python",
   "name": "python3"
  },
  "language_info": {
   "codemirror_mode": {
    "name": "ipython",
    "version": 3
   },
   "file_extension": ".py",
   "mimetype": "text/x-python",
   "name": "python",
   "nbconvert_exporter": "python",
   "pygments_lexer": "ipython3",
   "version": "3.10.4"
  },
  "widgets": {
   "application/vnd.jupyter.widget-state+json": {
    "state": {
     "0122327edf7e4ac596aee5a0c97a1b97": {
      "model_module": "@jupyter-widgets/base",
      "model_module_version": "1.2.0",
      "model_name": "LayoutModel",
      "state": {}
     },
     "014bca45c0694582b1fb0fcc3de50b14": {
      "model_module": "@jupyter-widgets/controls",
      "model_module_version": "1.5.0",
      "model_name": "HBoxModel",
      "state": {
       "children": [
        "IPY_MODEL_a8a526d0bc4749ce9790a21fcf65210b",
        "IPY_MODEL_1bc010834b9a4e498f41011d8a1a8607",
        "IPY_MODEL_c849e580b51b49b1baa28c6f97b90d9a"
       ],
       "layout": "IPY_MODEL_78d44e1b2baa410ebdc880b6bddcf454"
      }
     },
     "04aa01553e384c8d86aecc70c928fd16": {
      "model_module": "@jupyter-widgets/base",
      "model_module_version": "1.2.0",
      "model_name": "LayoutModel",
      "state": {}
     },
     "1bc010834b9a4e498f41011d8a1a8607": {
      "model_module": "@jupyter-widgets/controls",
      "model_module_version": "1.5.0",
      "model_name": "FloatProgressModel",
      "state": {
       "bar_style": "success",
       "layout": "IPY_MODEL_8d88b563d7fa423da97bbba95ba7cf48",
       "max": 4000,
       "style": "IPY_MODEL_7190b1931dbf41feb35b89782339ae7a",
       "value": 4000
      }
     },
     "1bf60822e17c44eb9f2236686c5689d4": {
      "model_module": "@jupyter-widgets/base",
      "model_module_version": "1.2.0",
      "model_name": "LayoutModel",
      "state": {}
     },
     "298770e38f3348308974069586c8e297": {
      "model_module": "@jupyter-widgets/controls",
      "model_module_version": "1.5.0",
      "model_name": "DescriptionStyleModel",
      "state": {
       "description_width": ""
      }
     },
     "351ffdd8b9c14c9aa2b9bd8fa6f7d02b": {
      "model_module": "@jupyter-widgets/controls",
      "model_module_version": "1.5.0",
      "model_name": "ProgressStyleModel",
      "state": {
       "description_width": ""
      }
     },
     "6624d130336f4bf0b33e06887a45f60a": {
      "model_module": "@jupyter-widgets/controls",
      "model_module_version": "1.5.0",
      "model_name": "FloatProgressModel",
      "state": {
       "bar_style": "success",
       "layout": "IPY_MODEL_a760fda6a8a54a51beae26f5403ec3fb",
       "max": 4000,
       "style": "IPY_MODEL_351ffdd8b9c14c9aa2b9bd8fa6f7d02b",
       "value": 4000
      }
     },
     "6ec2a3e138564d6fafacc54edd3d1e0a": {
      "model_module": "@jupyter-widgets/controls",
      "model_module_version": "1.5.0",
      "model_name": "HBoxModel",
      "state": {
       "children": [
        "IPY_MODEL_fdc0a032c00f4a749ccb12383a10c953",
        "IPY_MODEL_6624d130336f4bf0b33e06887a45f60a",
        "IPY_MODEL_ba4187c1ba6746a995107d58d182d77d"
       ],
       "layout": "IPY_MODEL_0122327edf7e4ac596aee5a0c97a1b97"
      }
     },
     "7190b1931dbf41feb35b89782339ae7a": {
      "model_module": "@jupyter-widgets/controls",
      "model_module_version": "1.5.0",
      "model_name": "ProgressStyleModel",
      "state": {
       "description_width": ""
      }
     },
     "78d44e1b2baa410ebdc880b6bddcf454": {
      "model_module": "@jupyter-widgets/base",
      "model_module_version": "1.2.0",
      "model_name": "LayoutModel",
      "state": {}
     },
     "7c038dbadfc54d20892e912cbc8208c7": {
      "model_module": "@jupyter-widgets/controls",
      "model_module_version": "1.5.0",
      "model_name": "DescriptionStyleModel",
      "state": {
       "description_width": ""
      }
     },
     "834ac5bcbb394c9b8ccdd1cee0dc4612": {
      "model_module": "@jupyter-widgets/controls",
      "model_module_version": "1.5.0",
      "model_name": "DescriptionStyleModel",
      "state": {
       "description_width": ""
      }
     },
     "8d88b563d7fa423da97bbba95ba7cf48": {
      "model_module": "@jupyter-widgets/base",
      "model_module_version": "1.2.0",
      "model_name": "LayoutModel",
      "state": {}
     },
     "a760fda6a8a54a51beae26f5403ec3fb": {
      "model_module": "@jupyter-widgets/base",
      "model_module_version": "1.2.0",
      "model_name": "LayoutModel",
      "state": {}
     },
     "a8a526d0bc4749ce9790a21fcf65210b": {
      "model_module": "@jupyter-widgets/controls",
      "model_module_version": "1.5.0",
      "model_name": "HTMLModel",
      "state": {
       "layout": "IPY_MODEL_bb8f30f2217b49d4a95b258d9e539ba6",
       "style": "IPY_MODEL_834ac5bcbb394c9b8ccdd1cee0dc4612",
       "value": "epoch: 3999 loss: 0.46977317333221436: 100%"
      }
     },
     "b9d3eb20b5e14dcda55dd4755f6bcc6f": {
      "model_module": "@jupyter-widgets/controls",
      "model_module_version": "1.5.0",
      "model_name": "DescriptionStyleModel",
      "state": {
       "description_width": ""
      }
     },
     "ba4187c1ba6746a995107d58d182d77d": {
      "model_module": "@jupyter-widgets/controls",
      "model_module_version": "1.5.0",
      "model_name": "HTMLModel",
      "state": {
       "layout": "IPY_MODEL_04aa01553e384c8d86aecc70c928fd16",
       "style": "IPY_MODEL_298770e38f3348308974069586c8e297",
       "value": " 4000/4000 [00:06&lt;00:00, 573.75it/s]"
      }
     },
     "bb8f30f2217b49d4a95b258d9e539ba6": {
      "model_module": "@jupyter-widgets/base",
      "model_module_version": "1.2.0",
      "model_name": "LayoutModel",
      "state": {}
     },
     "c849e580b51b49b1baa28c6f97b90d9a": {
      "model_module": "@jupyter-widgets/controls",
      "model_module_version": "1.5.0",
      "model_name": "HTMLModel",
      "state": {
       "layout": "IPY_MODEL_d35ad7994a784a9c841ece852817e953",
       "style": "IPY_MODEL_7c038dbadfc54d20892e912cbc8208c7",
       "value": " 4000/4000 [00:07&lt;00:00, 601.50it/s]"
      }
     },
     "d35ad7994a784a9c841ece852817e953": {
      "model_module": "@jupyter-widgets/base",
      "model_module_version": "1.2.0",
      "model_name": "LayoutModel",
      "state": {}
     },
     "fdc0a032c00f4a749ccb12383a10c953": {
      "model_module": "@jupyter-widgets/controls",
      "model_module_version": "1.5.0",
      "model_name": "HTMLModel",
      "state": {
       "layout": "IPY_MODEL_1bf60822e17c44eb9f2236686c5689d4",
       "style": "IPY_MODEL_b9d3eb20b5e14dcda55dd4755f6bcc6f",
       "value": "epoch: 3999 loss: 0.4746595621109009: 100%"
      }
     }
    },
    "version_major": 2,
    "version_minor": 0
   }
  }
 },
 "nbformat": 4,
 "nbformat_minor": 5
}
