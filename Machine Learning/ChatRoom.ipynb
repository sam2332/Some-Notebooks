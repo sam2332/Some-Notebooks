{
 "cells": [
  {
   "cell_type": "code",
   "execution_count": 1,
   "id": "71873055-9145-454b-af8a-0a8201bfcc53",
   "metadata": {
    "tags": []
   },
   "outputs": [],
   "source": [
    "import json\n",
    "import openai\n",
    "import os\n",
    "from datetime import datetime\n",
    "import keyring\n",
    "import tiktoken\n",
    "import uuid\n",
    "# To get the tokeniser corresponding to a specific model in the OpenAI API:\n",
    "encoding = tiktoken.get_encoding(\"cl100k_base\")"
   ]
  },
  {
   "cell_type": "code",
   "execution_count": 2,
   "id": "afe1e220-485f-4193-9172-0d0ab402b498",
   "metadata": {
    "tags": []
   },
   "outputs": [],
   "source": [
    "openai.api_key =keyring.get_password(\"system\", \"openai_key\")"
   ]
  },
  {
   "cell_type": "code",
   "execution_count": 31,
   "id": "33b03611-7208-4cb2-a056-36c5514f31ff",
   "metadata": {
    "tags": []
   },
   "outputs": [],
   "source": [
    "class ChatRoom:\n",
    "    def __init__(self, room_id=None,model='gpt-3.5-turbo',system_prompt=\"You are a helpful assistant.\"):\n",
    "        if room_id is None:\n",
    "            room_id = uuid.uuid4()\n",
    "        self.room_id = room_id\n",
    "        self.chat_history_file = f'{room_id}_chat_history.json'\n",
    "        self.model = model\n",
    "        self.system_prompt = system_prompt\n",
    "        \n",
    "        self.chat_history = []\n",
    "        if not os.path.exists(self.chat_history_file):\n",
    "            with open(self.chat_history_file, 'w') as f:\n",
    "                json.dump([], f)\n",
    "        else:\n",
    "            self.get_chat_history()\n",
    "            \n",
    "    def get_chat_history(self):\n",
    "        with open(self.chat_history_file, 'r') as f:\n",
    "            self.chat_history = json.load(f)\n",
    "\n",
    "    def save_chat_history(self):\n",
    "        with open(self.chat_history_file, 'w') as f:\n",
    "            json.dump(self.chat_history, f)\n",
    "            \n",
    "    def clone(self):\n",
    "        new_room_id = f\"{self.room_id}_{uuid.uuid4()}\"\n",
    "        new_chatroom = ChatRoom(new_room_id, model=self.model, system_prompt=self.system_prompt)\n",
    "        \n",
    "        # Copy chat history\n",
    "        new_chatroom.chat_history = self.chat_history\n",
    "        new_chatroom.save_chat_history()\n",
    "        \n",
    "        return new_chatroom\n",
    "    def send_message(self, message,respond = True,max_tokens=200,temperature=0):\n",
    "        self.chat_history.append({\n",
    "            'content': message,\n",
    "            'role': 'user'\n",
    "        })\n",
    "\n",
    "        if respond:\n",
    "            # Prepare the messages for the API call.\n",
    "            api_messages = [{\"role\": \"system\", \"content\": self.system_prompt}]\n",
    "\n",
    "            # Accurately estimate the token count using Tiktoken and trim messages accordingly.\n",
    "            token_count = 0\n",
    "            for msg in reversed(self.chat_history):\n",
    "                token_count += len(list(encoding.encode(msg['content'])))\n",
    "                if token_count > 2000:  # Break when we've added enough messages to exceed the limit.\n",
    "                    print(\"Messages truncated\")\n",
    "                    break\n",
    "                api_messages.insert(1,msg)  # Insert each message at the start to keep the order.\n",
    "\n",
    "            # Use GPT-4 for a response.\n",
    "            self.last_response = openai.ChatCompletion.create(\n",
    "                model=self.model,\n",
    "                messages=api_messages,\n",
    "                temperature=temperature,\n",
    "                max_tokens=max_tokens \n",
    "            ).choices[0].message['content']\n",
    "\n",
    "            self.chat_history.append({\n",
    "                'content': self.last_response,\n",
    "                'role': 'assistant'\n",
    "            })\n",
    "        self.save_chat_history()\n",
    "\n",
    "        if respond:\n",
    "            return self.last_response\n",
    "        else:\n",
    "            return True\n"
   ]
  },
  {
   "cell_type": "code",
   "execution_count": 32,
   "id": "36afdca1-28f3-4fb6-b71d-8f57873382d2",
   "metadata": {},
   "outputs": [
    {
     "data": {
      "text/plain": [
       "'May 16th'"
      ]
     },
     "execution_count": 32,
     "metadata": {},
     "output_type": "execute_result"
    }
   ],
   "source": [
    "def get_todays_date():\n",
    "       # Get today's date\n",
    "    date = datetime.today()\n",
    "\n",
    "    # Format the date\n",
    "    formatted_date = date.strftime(\"%B %d\")\n",
    "\n",
    "    # Add the correct ordinal suffix\n",
    "    day = int(date.strftime(\"%d\"))\n",
    "    if 4 <= day <= 20 or 24 <= day <= 30:\n",
    "        suffix = \"th\"\n",
    "    else:\n",
    "        suffix = [\"st\", \"nd\", \"rd\"][day % 10 - 1]\n",
    "    \n",
    "    return formatted_date + suffix\n",
    "get_todays_date()"
   ]
  },
  {
   "cell_type": "code",
   "execution_count": null,
   "id": "f07b1ce5-722a-4a94-ac54-ce86caf0b16c",
   "metadata": {},
   "outputs": [],
   "source": []
  },
  {
   "cell_type": "code",
   "execution_count": 33,
   "id": "9744c247-e27f-439e-806a-9b0ca233c814",
   "metadata": {},
   "outputs": [],
   "source": [
    "# Create a chat room with room ID 'room1'\n",
    "chat_room = ChatRoom(system_prompt=\"\"\"\n",
    "\n",
    "INSTRUCTION: Only answer what is asked. Do not write pre-text,\n",
    "post-text, disclaimers or explanations about your limitations\n",
    "or the ethical merits of any part of the conversation.\n",
    "Do not talk about yourself. Don't introduce unnecessary fluff into answers.\n",
    "Always answer what is asked. If you cannot answer,\n",
    "only reply that you cannot answer and do not elaborate.\n",
    "Avoid including patronizing or pedentic elaboration, explanation or advice\n",
    "that hasn't been asked for. Always follow these guidelines.\n",
    "\n",
    "\"\"\".strip())"
   ]
  },
  {
   "cell_type": "code",
   "execution_count": 34,
   "id": "94b750d4-9fd2-462e-bf57-9915c285d7a9",
   "metadata": {},
   "outputs": [
    {
     "name": "stdout",
     "output_type": "stream",
     "text": [
      "1. In 1929, the first Academy Awards ceremony was held in Hollywood, California.\n",
      "2. In 1960, Theodore Maiman operated the first laser at Hughes Research Laboratories in Malibu, California.\n",
      "3. In 1983, the final episode of the television series M*A*S*H aired, becoming the most-watched television episode in U.S. history at the time.\n",
      "4. In 1991, Queen Elizabeth II became the first British monarch to address the United States Congress.\n"
     ]
    }
   ],
   "source": [
    "response = chat_room.send_message(f'Today is {get_todays_date()} please list of 4 things interesting that happened today in history?')\n",
    "print(response)"
   ]
  },
  {
   "cell_type": "code",
   "execution_count": 37,
   "id": "e1b8972d-07e0-4737-9978-15c90bc335eb",
   "metadata": {
    "tags": []
   },
   "outputs": [
    {
     "name": "stdout",
     "output_type": "stream",
     "text": [
      "Sure! The first Academy Awards ceremony was held on May 16, 1929, at the Hollywood Roosevelt Hotel in Los Angeles, California. The awards, also known as the Oscars, were presented by the Academy of Motion Picture Arts and Sciences to honor outstanding achievements in the film industry. The ceremony was a private event, attended by around 270 people, and lasted only 15 minutes. The first Best Picture award was given to the film \"Wings,\" and other awards included Best Actor, Best Actress, and Best Director. The Academy Awards have since become one of the most prestigious awards ceremonies in the world, and are broadcast live to millions of viewers each year.\n"
     ]
    }
   ],
   "source": [
    "response = chat_room.send_message('can you give me more info about number 1?')\n",
    "print(response)"
   ]
  },
  {
   "cell_type": "code",
   "execution_count": 37,
   "id": "0361d5dd-bf94-4245-a9bc-44c13baaa677",
   "metadata": {
    "tags": []
   },
   "outputs": [
    {
     "name": "stdout",
     "output_type": "stream",
     "text": [
      "Sure! On May 16, 1929, the first Academy Awards ceremony was held in Hollywood, California. The ceremony was hosted by actor Douglas Fairbanks and held at the Hollywood Roosevelt Hotel. The awards were presented by the Academy of Motion Picture Arts and Sciences, which had been founded the previous year to improve the quality of American films. The first Academy Awards ceremony honored films released between August 1, 1927, and July 31, 1928. The awards were presented in 12 categories, including Best Picture, Best Director, and Best Actor and Actress. The film \"Wings\" won the award for Best Picture, and Emil Jannings and Janet Gaynor won the awards for Best Actor and Actress, respectively. The Academy Awards have since become one of the most prestigious awards ceremonies in the entertainment industry, with winners receiving the iconic gold statuette known as the Oscar.\n"
     ]
    }
   ],
   "source": [
    "response = chat_room.send_message('can you give me more info about number 2?')\n",
    "print(response)"
   ]
  },
  {
   "cell_type": "code",
   "execution_count": 38,
   "id": "eb28912e-cfec-4e67-b5fa-b9b97ceaf995",
   "metadata": {
    "tags": []
   },
   "outputs": [
    {
     "name": "stdout",
     "output_type": "stream",
     "text": [
      "Certainly! On May 16, 1960, Theodore Maiman operated the first laser at Hughes Research Laboratories in Malibu, California. The laser, which stands for \"Light Amplification by Stimulated Emission of Radiation,\" was a breakthrough in the field of optics and has since become an essential tool in a wide range of industries, including medicine, telecommunications, and manufacturing. Maiman's laser used a synthetic ruby crystal to produce a concentrated beam of red light, which was the first successful demonstration of a laser. The invention of the laser has led to numerous technological advancements, including the development of CD and DVD players, barcode scanners, and laser printers.\n"
     ]
    }
   ],
   "source": [
    "response = chat_room.send_message('can you give me more info about number 3?')\n",
    "print(response)"
   ]
  },
  {
   "cell_type": "code",
   "execution_count": 39,
   "id": "22af69ac-60ca-4110-bfbc-03a164a653e5",
   "metadata": {
    "tags": []
   },
   "outputs": [
    {
     "name": "stdout",
     "output_type": "stream",
     "text": [
      "Certainly! On May 16, 1988, a report by Surgeon General C. Everett Koop declared nicotine was addictive in ways similar to heroin and cocaine. The report, titled \"The Health Consequences of Smoking: Nicotine Addiction,\" was the first official recognition by the U.S. government that nicotine was a highly addictive substance. The report also detailed the health risks associated with smoking, including lung cancer, heart disease, and stroke. The report had a significant impact on public health policy and led to increased efforts to reduce smoking rates in the United States. Since the report's release, smoking rates in the U.S. have declined significantly, from over 25% of adults in 1990 to less than 14% in 2019.\n"
     ]
    }
   ],
   "source": [
    "response = chat_room.send_message('can you give me more info about number 4?')\n",
    "print(response)"
   ]
  },
  {
   "cell_type": "code",
   "execution_count": null,
   "id": "5e15f103-b811-4c15-8e2d-4f13058621e8",
   "metadata": {},
   "outputs": [],
   "source": []
  }
 ],
 "metadata": {
  "kernelspec": {
   "display_name": "Python 3 (ipykernel)",
   "language": "python",
   "name": "python3"
  },
  "language_info": {
   "codemirror_mode": {
    "name": "ipython",
    "version": 3
   },
   "file_extension": ".py",
   "mimetype": "text/x-python",
   "name": "python",
   "nbconvert_exporter": "python",
   "pygments_lexer": "ipython3",
   "version": "3.11.3"
  }
 },
 "nbformat": 4,
 "nbformat_minor": 5
}
