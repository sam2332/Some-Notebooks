{
 "cells": [
  {
   "cell_type": "code",
   "execution_count": 15,
   "id": "cc0da9c7-3e33-4dad-836d-0c201690db71",
   "metadata": {},
   "outputs": [],
   "source": [
    "import pandas as pd\n",
    "import torch\n",
    "from transformers import DistilBertTokenizer, DistilBertModel\n",
    "from sklearn.metrics.pairwise import cosine_similarity"
   ]
  },
  {
   "cell_type": "code",
   "execution_count": 16,
   "id": "beb97c44-842a-406c-86f7-cf305a17e523",
   "metadata": {
    "tags": []
   },
   "outputs": [],
   "source": [
    "my_comments = pd.read_csv('my_comments_cleaned.csv')"
   ]
  },
  {
   "cell_type": "code",
   "execution_count": 17,
   "id": "3eedf072-c660-4b3c-9197-4064f98f4bac",
   "metadata": {
    "tags": []
   },
   "outputs": [
    {
     "data": {
      "text/html": [
       "<div>\n",
       "<style scoped>\n",
       "    .dataframe tbody tr th:only-of-type {\n",
       "        vertical-align: middle;\n",
       "    }\n",
       "\n",
       "    .dataframe tbody tr th {\n",
       "        vertical-align: top;\n",
       "    }\n",
       "\n",
       "    .dataframe thead th {\n",
       "        text-align: right;\n",
       "    }\n",
       "</style>\n",
       "<table border=\"1\" class=\"dataframe\">\n",
       "  <thead>\n",
       "    <tr style=\"text-align: right;\">\n",
       "      <th></th>\n",
       "      <th>TicketId</th>\n",
       "      <th>Body</th>\n",
       "    </tr>\n",
       "  </thead>\n",
       "  <tbody>\n",
       "    <tr>\n",
       "      <th>2375</th>\n",
       "      <td>90984</td>\n",
       "      <td>['reasonable', 'workflow', ',', 'next', 'speci...</td>\n",
       "    </tr>\n",
       "  </tbody>\n",
       "</table>\n",
       "</div>"
      ],
      "text/plain": [
       "      TicketId                                               Body\n",
       "2375     90984  ['reasonable', 'workflow', ',', 'next', 'speci..."
      ]
     },
     "execution_count": 17,
     "metadata": {},
     "output_type": "execute_result"
    }
   ],
   "source": [
    "my_comments.tail(1)"
   ]
  },
  {
   "cell_type": "code",
   "execution_count": 18,
   "id": "eb4a64a8-5390-4e60-9260-86ffc29327d8",
   "metadata": {
    "tags": []
   },
   "outputs": [],
   "source": [
    "from sentence_transformers import SentenceTransformer\n",
    "# Load the model\n",
    "model = SentenceTransformer('all-MiniLM-L6-v2')\n",
    "\n",
    "# Generate embeddings for each sentence in the DataFrame\n",
    "embeddings = model.encode(my_comments['Body'].tolist())\n",
    "\n",
    "# Add the embeddings as a new column in the DataFrame\n",
    "my_comments['Embeddings'] = embeddings.tolist()"
   ]
  },
  {
   "cell_type": "code",
   "execution_count": 19,
   "id": "c5ed0bf1-166e-4816-83fb-0616705fe705",
   "metadata": {
    "tags": []
   },
   "outputs": [
    {
     "data": {
      "text/html": [
       "<div>\n",
       "<style scoped>\n",
       "    .dataframe tbody tr th:only-of-type {\n",
       "        vertical-align: middle;\n",
       "    }\n",
       "\n",
       "    .dataframe tbody tr th {\n",
       "        vertical-align: top;\n",
       "    }\n",
       "\n",
       "    .dataframe thead th {\n",
       "        text-align: right;\n",
       "    }\n",
       "</style>\n",
       "<table border=\"1\" class=\"dataframe\">\n",
       "  <thead>\n",
       "    <tr style=\"text-align: right;\">\n",
       "      <th></th>\n",
       "      <th>TicketId</th>\n",
       "      <th>Body</th>\n",
       "      <th>Embeddings</th>\n",
       "    </tr>\n",
       "  </thead>\n",
       "  <tbody>\n",
       "    <tr>\n",
       "      <th>0</th>\n",
       "      <td>29019</td>\n",
       "      <td>['belive', 'ticket', '#', '48099', '(', 'anima...</td>\n",
       "      <td>[-0.004830608610063791, -0.0642997995018959, -...</td>\n",
       "    </tr>\n",
       "    <tr>\n",
       "      <th>1</th>\n",
       "      <td>29019</td>\n",
       "      <td>['discover', 'image-svr', 'found', 'websites',...</td>\n",
       "      <td>[-0.0446159727871418, -0.04055335000157356, -0...</td>\n",
       "    </tr>\n",
       "    <tr>\n",
       "      <th>2</th>\n",
       "      <td>29019</td>\n",
       "      <td>['internal', 'last', 'one', 'need', 'migrate',...</td>\n",
       "      <td>[-0.024702059105038643, -0.08453138917684555, ...</td>\n",
       "    </tr>\n",
       "    <tr>\n",
       "      <th>3</th>\n",
       "      <td>29019</td>\n",
       "      <td>['intranet', 'internal', '!', ',', 'internal',...</td>\n",
       "      <td>[0.002092576352879405, -0.12320775538682938, -...</td>\n",
       "    </tr>\n",
       "    <tr>\n",
       "      <th>4</th>\n",
       "      <td>29019</td>\n",
       "      <td>['wrong', 'inside', 'new', 'intranet', 'server...</td>\n",
       "      <td>[-0.008758921176195145, -0.09801120311021805, ...</td>\n",
       "    </tr>\n",
       "    <tr>\n",
       "      <th>5</th>\n",
       "      <td>29019</td>\n",
       "      <td>['downloaded', 'wwwroot', 'folder', 'intranet'...</td>\n",
       "      <td>[0.034271255135536194, -0.0651484876871109, -0...</td>\n",
       "    </tr>\n",
       "    <tr>\n",
       "      <th>6</th>\n",
       "      <td>29019</td>\n",
       "      <td>['got', 'files', 'copied', '`', 'inside', '`',...</td>\n",
       "      <td>[-0.03758913651108742, -0.03336770087480545, -...</td>\n",
       "    </tr>\n",
       "    <tr>\n",
       "      <th>7</th>\n",
       "      <td>29019</td>\n",
       "      <td>['broken', 'url', ':', 'http', ':', '//inside....</td>\n",
       "      <td>[-0.07648590952157974, -0.013141995295882225, ...</td>\n",
       "    </tr>\n",
       "    <tr>\n",
       "      <th>8</th>\n",
       "      <td>29019</td>\n",
       "      <td>['scanned', 'found', 'broken', 'images', ':', ...</td>\n",
       "      <td>[-0.05242156609892845, -0.018617600202560425, ...</td>\n",
       "    </tr>\n",
       "  </tbody>\n",
       "</table>\n",
       "</div>"
      ],
      "text/plain": [
       "   TicketId                                               Body   \n",
       "0     29019  ['belive', 'ticket', '#', '48099', '(', 'anima...  \\\n",
       "1     29019  ['discover', 'image-svr', 'found', 'websites',...   \n",
       "2     29019  ['internal', 'last', 'one', 'need', 'migrate',...   \n",
       "3     29019  ['intranet', 'internal', '!', ',', 'internal',...   \n",
       "4     29019  ['wrong', 'inside', 'new', 'intranet', 'server...   \n",
       "5     29019  ['downloaded', 'wwwroot', 'folder', 'intranet'...   \n",
       "6     29019  ['got', 'files', 'copied', '`', 'inside', '`',...   \n",
       "7     29019  ['broken', 'url', ':', 'http', ':', '//inside....   \n",
       "8     29019  ['scanned', 'found', 'broken', 'images', ':', ...   \n",
       "\n",
       "                                          Embeddings  \n",
       "0  [-0.004830608610063791, -0.0642997995018959, -...  \n",
       "1  [-0.0446159727871418, -0.04055335000157356, -0...  \n",
       "2  [-0.024702059105038643, -0.08453138917684555, ...  \n",
       "3  [0.002092576352879405, -0.12320775538682938, -...  \n",
       "4  [-0.008758921176195145, -0.09801120311021805, ...  \n",
       "5  [0.034271255135536194, -0.0651484876871109, -0...  \n",
       "6  [-0.03758913651108742, -0.03336770087480545, -...  \n",
       "7  [-0.07648590952157974, -0.013141995295882225, ...  \n",
       "8  [-0.05242156609892845, -0.018617600202560425, ...  "
      ]
     },
     "execution_count": 19,
     "metadata": {},
     "output_type": "execute_result"
    }
   ],
   "source": [
    "my_comments.head(9)"
   ]
  },
  {
   "cell_type": "code",
   "execution_count": 20,
   "id": "5603755a-2131-46ca-bc8a-7629a77414bb",
   "metadata": {
    "tags": []
   },
   "outputs": [],
   "source": [
    "# Save the DataFrame to a pickle file\n",
    "my_comments.to_pickle(\"my_comments_embeddings.pkl\")"
   ]
  },
  {
   "cell_type": "code",
   "execution_count": null,
   "id": "d03e7035-6fe1-4ebe-96f2-6652e92e829b",
   "metadata": {},
   "outputs": [],
   "source": []
  },
  {
   "cell_type": "code",
   "execution_count": null,
   "id": "03fcda88-8885-4f41-9344-200d8381c6fb",
   "metadata": {},
   "outputs": [],
   "source": []
  },
  {
   "cell_type": "code",
   "execution_count": 24,
   "id": "07751f94-d149-4cae-b3e4-3762e9ad1377",
   "metadata": {},
   "outputs": [],
   "source": [
    "my_tickets = pd.read_csv('my_tickets_keyworded.csv')"
   ]
  },
  {
   "cell_type": "code",
   "execution_count": 25,
   "id": "7ede7b49-2b6a-4d85-baea-3bd154e3ddf2",
   "metadata": {
    "tags": []
   },
   "outputs": [],
   "source": [
    "\n",
    "# Generate embeddings for each sentence in the DataFrame\n",
    "embeddings = model.encode(my_tickets['Keywords'].tolist())\n",
    "\n",
    "# Add the embeddings as a new column in the DataFrame\n",
    "my_tickets['Embeddings'] = embeddings.tolist()"
   ]
  },
  {
   "cell_type": "code",
   "execution_count": 26,
   "id": "47a34683-017c-4bff-ac1e-a446d8dc0e74",
   "metadata": {
    "tags": []
   },
   "outputs": [],
   "source": [
    "# Save the DataFrame to a pickle file\n",
    "my_tickets.to_pickle(\"my_tickets_embedded.pkl\")"
   ]
  },
  {
   "cell_type": "code",
   "execution_count": null,
   "id": "138064b5-b68f-4bec-b4cb-7569f1b17f96",
   "metadata": {},
   "outputs": [],
   "source": []
  },
  {
   "cell_type": "code",
   "execution_count": null,
   "id": "5e739b55-62c9-43d8-83eb-b65002e2a6f8",
   "metadata": {},
   "outputs": [],
   "source": []
  }
 ],
 "metadata": {
  "kernelspec": {
   "display_name": "Python 3 (ipykernel)",
   "language": "python",
   "name": "python3"
  },
  "language_info": {
   "codemirror_mode": {
    "name": "ipython",
    "version": 3
   },
   "file_extension": ".py",
   "mimetype": "text/x-python",
   "name": "python",
   "nbconvert_exporter": "python",
   "pygments_lexer": "ipython3",
   "version": "3.11.3"
  }
 },
 "nbformat": 4,
 "nbformat_minor": 5
}
