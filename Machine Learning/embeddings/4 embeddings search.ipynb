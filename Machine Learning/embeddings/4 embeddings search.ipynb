{
 "cells": [
  {
   "cell_type": "code",
   "execution_count": null,
   "id": "bcb70c77-5b1e-4ca6-ba53-873d4cb90055",
   "metadata": {
    "tags": []
   },
   "outputs": [],
   "source": [
    "from sentence_transformers import SentenceTransformer\n",
    "from sklearn.metrics.pairwise import cosine_similarity\n",
    "import numpy as np\n",
    "import pandas as pd\n"
   ]
  },
  {
   "cell_type": "code",
   "execution_count": 34,
   "id": "4a224242-8a7a-4d29-a36d-65e302a95830",
   "metadata": {
    "tags": []
   },
   "outputs": [],
   "source": [
    "df = pd.read_pickle(\"my_comments_embeddings.pkl\")"
   ]
  },
  {
   "cell_type": "code",
   "execution_count": 35,
   "id": "013a2e41-4e5c-4095-b8c4-afc7d450849d",
   "metadata": {
    "tags": []
   },
   "outputs": [
    {
     "data": {
      "text/html": [
       "<div>\n",
       "<style scoped>\n",
       "    .dataframe tbody tr th:only-of-type {\n",
       "        vertical-align: middle;\n",
       "    }\n",
       "\n",
       "    .dataframe tbody tr th {\n",
       "        vertical-align: top;\n",
       "    }\n",
       "\n",
       "    .dataframe thead th {\n",
       "        text-align: right;\n",
       "    }\n",
       "</style>\n",
       "<table border=\"1\" class=\"dataframe\">\n",
       "  <thead>\n",
       "    <tr style=\"text-align: right;\">\n",
       "      <th></th>\n",
       "      <th>TicketId</th>\n",
       "      <th>Body</th>\n",
       "      <th>Embeddings</th>\n",
       "    </tr>\n",
       "  </thead>\n",
       "  <tbody>\n",
       "    <tr>\n",
       "      <th>0</th>\n",
       "      <td>29019</td>\n",
       "      <td>i belive ticket# 48099 (animal adoption websit...</td>\n",
       "      <td>[-0.03223938122391701, -0.0068447222001850605,...</td>\n",
       "    </tr>\n",
       "    <tr>\n",
       "      <th>1</th>\n",
       "      <td>29019</td>\n",
       "      <td>i did a discover on image-svr and have found t...</td>\n",
       "      <td>[-0.03919854387640953, 0.007493453565984964, -...</td>\n",
       "    </tr>\n",
       "  </tbody>\n",
       "</table>\n",
       "</div>"
      ],
      "text/plain": [
       "   TicketId                                               Body   \n",
       "0     29019  i belive ticket# 48099 (animal adoption websit...  \\\n",
       "1     29019  i did a discover on image-svr and have found t...   \n",
       "\n",
       "                                          Embeddings  \n",
       "0  [-0.03223938122391701, -0.0068447222001850605,...  \n",
       "1  [-0.03919854387640953, 0.007493453565984964, -...  "
      ]
     },
     "execution_count": 35,
     "metadata": {},
     "output_type": "execute_result"
    }
   ],
   "source": [
    "df.head(2)"
   ]
  },
  {
   "cell_type": "code",
   "execution_count": 36,
   "id": "7e0b2cf0-9d54-4286-a58a-7fae04437c95",
   "metadata": {
    "tags": []
   },
   "outputs": [],
   "source": [
    "# Load the model\n",
    "model = SentenceTransformer('all-MiniLM-L6-v2')\n",
    "\n",
    "# Convert the embeddings into a 2D numpy array\n",
    "embeddings = np.vstack(df['Embeddings'].values)"
   ]
  },
  {
   "cell_type": "code",
   "execution_count": 40,
   "id": "8ac3fb4e-76e7-400c-8a9f-a250fd5bf805",
   "metadata": {
    "tags": []
   },
   "outputs": [
    {
     "name": "stdout",
     "output_type": "stream",
     "text": [
      "sorry cindy one more thingdo you have the orginal document, we cannot use this scanned pdf., Similarity: 0.5981747358865792\n",
      "hey rona,you can go ahead and email those pdfs to me at srudloff@ingham.org thanks!, Similarity: 0.5732004872503735\n",
      "inital document, Similarity: 0.5423142577878631\n",
      "okay those should be all set, your going to want to test it by filling out a complete form and checking the pdf it sends you, Similarity: 0.5383366857087649\n",
      "hey rachel, metadata scan results:https://www.metadata2go.com/result/0baa059b-dba8-4837-a4ba-310e980e6d52i uploaded the document here and it appears that the pdf document has a title of december 2017i currently do not have pdf software installed, is this something you can change and re upload the file?, Similarity: 0.5357393632943989\n",
      "yeah i forgot to say just upload any pdfit does not submit the file till the end, Similarity: 0.5340809858162104\n",
      "yeah i forgot to say just upload any pdfit does not submit the file till the end, Similarity: 0.5340809858162104\n",
      "file, Similarity: 0.5226060122135603\n",
      "uploaded \"flattened\" copyfigured out that just means to print to pdf from a fillable pdf >.>either way i think this form is foobar and i plan on replacing it with a webapp., Similarity: 0.516159882634067\n",
      "this is the file to upload for the warrantlist.pdf, Similarity: 0.5054695573907427\n",
      "user forgot to add .pdf to the end of the file url., Similarity: 0.5016905227639599\n"
     ]
    }
   ],
   "source": [
    "# New query sentence\n",
    "query = \"pdf\"\n",
    "\n",
    "# Generate embedding for the query\n",
    "query_embedding = model.encode([query])[0]\n",
    "\n",
    "# Compute cosine similarity between the query embedding and each sentence embedding\n",
    "similarities = cosine_similarity([query_embedding], embeddings)\n",
    "\n",
    "# Get the indices of the top 5 most similar sentences\n",
    "top_5_indices = np.argsort(similarities[0])[-15:][::-1]\n",
    "\n",
    "# Print the most similar sentences\n",
    "for index in top_5_indices:\n",
    "    if similarities[0][index]>0.5:\n",
    "        print(f\"{df['Body'].iloc[index]}, Similarity: {similarities[0][index]}\")#,df['Description'].iloc[index])"
   ]
  },
  {
   "cell_type": "code",
   "execution_count": null,
   "id": "53dd6675-20b1-421d-b54c-886e068d7c40",
   "metadata": {},
   "outputs": [],
   "source": []
  }
 ],
 "metadata": {
  "kernelspec": {
   "display_name": "Python 3 (ipykernel)",
   "language": "python",
   "name": "python3"
  },
  "language_info": {
   "codemirror_mode": {
    "name": "ipython",
    "version": 3
   },
   "file_extension": ".py",
   "mimetype": "text/x-python",
   "name": "python",
   "nbconvert_exporter": "python",
   "pygments_lexer": "ipython3",
   "version": "3.11.3"
  }
 },
 "nbformat": 4,
 "nbformat_minor": 5
}
