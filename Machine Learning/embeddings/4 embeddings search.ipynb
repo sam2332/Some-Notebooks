{
 "cells": [
  {
   "cell_type": "code",
   "execution_count": 17,
   "id": "bcb70c77-5b1e-4ca6-ba53-873d4cb90055",
   "metadata": {
    "tags": []
   },
   "outputs": [],
   "source": [
    "from sentence_transformers import SentenceTransformer\n",
    "from sklearn.metrics.pairwise import cosine_similarity\n",
    "import numpy as np\n",
    "import pandas as pd\n"
   ]
  },
  {
   "cell_type": "code",
   "execution_count": 21,
   "id": "4a224242-8a7a-4d29-a36d-65e302a95830",
   "metadata": {
    "tags": []
   },
   "outputs": [],
   "source": [
    "df = pd.read_pickle(\"my_tickets_embedded.pkl\")"
   ]
  },
  {
   "cell_type": "code",
   "execution_count": 22,
   "id": "013a2e41-4e5c-4095-b8c4-afc7d450849d",
   "metadata": {
    "tags": []
   },
   "outputs": [
    {
     "data": {
      "text/html": [
       "<div>\n",
       "<style scoped>\n",
       "    .dataframe tbody tr th:only-of-type {\n",
       "        vertical-align: middle;\n",
       "    }\n",
       "\n",
       "    .dataframe tbody tr th {\n",
       "        vertical-align: top;\n",
       "    }\n",
       "\n",
       "    .dataframe thead th {\n",
       "        text-align: right;\n",
       "    }\n",
       "</style>\n",
       "<table border=\"1\" class=\"dataframe\">\n",
       "  <thead>\n",
       "    <tr style=\"text-align: right;\">\n",
       "      <th></th>\n",
       "      <th>Id</th>\n",
       "      <th>Title</th>\n",
       "      <th>Description</th>\n",
       "      <th>Keywords</th>\n",
       "      <th>Embeddings</th>\n",
       "    </tr>\n",
       "  </thead>\n",
       "  <tbody>\n",
       "    <tr>\n",
       "      <th>0</th>\n",
       "      <td>29019</td>\n",
       "      <td>Migrate web apps off of old Windows Server 200...</td>\n",
       "      <td>These servers are a huge security risk as they...</td>\n",
       "      <td>migrate web old windows web servers servers hu...</td>\n",
       "      <td>[-0.018122773617506027, 0.002207129029557109, ...</td>\n",
       "    </tr>\n",
       "    <tr>\n",
       "      <th>1</th>\n",
       "      <td>42683</td>\n",
       "      <td>Consult regarding Client Documentation Program...</td>\n",
       "      <td>I have questions about the program we use to d...</td>\n",
       "      <td>consult client documentation program use cshcs...</td>\n",
       "      <td>[-0.09886232018470764, 0.10643637180328369, -0...</td>\n",
       "    </tr>\n",
       "  </tbody>\n",
       "</table>\n",
       "</div>"
      ],
      "text/plain": [
       "      Id                                              Title   \n",
       "0  29019  Migrate web apps off of old Windows Server 200...  \\\n",
       "1  42683  Consult regarding Client Documentation Program...   \n",
       "\n",
       "                                         Description   \n",
       "0  These servers are a huge security risk as they...  \\\n",
       "1  I have questions about the program we use to d...   \n",
       "\n",
       "                                            Keywords   \n",
       "0  migrate web old windows web servers servers hu...  \\\n",
       "1  consult client documentation program use cshcs...   \n",
       "\n",
       "                                          Embeddings  \n",
       "0  [-0.018122773617506027, 0.002207129029557109, ...  \n",
       "1  [-0.09886232018470764, 0.10643637180328369, -0...  "
      ]
     },
     "execution_count": 22,
     "metadata": {},
     "output_type": "execute_result"
    }
   ],
   "source": [
    "df.head(2)"
   ]
  },
  {
   "cell_type": "code",
   "execution_count": 23,
   "id": "7e0b2cf0-9d54-4286-a58a-7fae04437c95",
   "metadata": {
    "tags": []
   },
   "outputs": [],
   "source": [
    "# Load the model\n",
    "model = SentenceTransformer('all-MiniLM-L6-v2')\n",
    "\n",
    "# Convert the embeddings into a 2D numpy array\n",
    "embeddings = np.vstack(df['Embeddings'].values)"
   ]
  },
  {
   "cell_type": "code",
   "execution_count": 34,
   "id": "8ac3fb4e-76e7-400c-8a9f-a250fd5bf805",
   "metadata": {
    "tags": []
   },
   "outputs": [
    {
     "name": "stdout",
     "output_type": "stream",
     "text": [
      "78582 Website update issues, Similarity: 0.6357587627697824\n",
      "90802 Website update for closing -, Similarity: 0.5635059633379138\n",
      "87321 Update Website and upload new project files, Similarity: 0.561881871285842\n",
      "56117 Controller/Budget - Revise Website Update, Similarity: 0.544022687098916\n",
      "56118 Facilities - Revise Website Update, Similarity: 0.5167693175438826\n"
     ]
    }
   ],
   "source": [
    "# New query sentence\n",
    "query = \"update website\"\n",
    "\n",
    "# Generate embedding for the query\n",
    "query_embedding = model.encode([query])[0]\n",
    "\n",
    "# Compute cosine similarity between the query embedding and each sentence embedding\n",
    "similarities = cosine_similarity([query_embedding], embeddings)\n",
    "\n",
    "# Get the indices of the top 5 most similar sentences\n",
    "top_5_indices = np.argsort(similarities[0])[-5:][::-1]\n",
    "\n",
    "# Print the most similar sentences\n",
    "for index in top_5_indices:\n",
    "    if similarities[0][index]>0.1:\n",
    "        print(f\"{df['Id'].iloc[index]} {df['Title'].iloc[index]}, Similarity: {similarities[0][index]}\")#,df['Description'].iloc[index])"
   ]
  },
  {
   "cell_type": "code",
   "execution_count": null,
   "id": "53dd6675-20b1-421d-b54c-886e068d7c40",
   "metadata": {},
   "outputs": [],
   "source": []
  }
 ],
 "metadata": {
  "kernelspec": {
   "display_name": "Python 3 (ipykernel)",
   "language": "python",
   "name": "python3"
  },
  "language_info": {
   "codemirror_mode": {
    "name": "ipython",
    "version": 3
   },
   "file_extension": ".py",
   "mimetype": "text/x-python",
   "name": "python",
   "nbconvert_exporter": "python",
   "pygments_lexer": "ipython3",
   "version": "3.11.3"
  }
 },
 "nbformat": 4,
 "nbformat_minor": 5
}
