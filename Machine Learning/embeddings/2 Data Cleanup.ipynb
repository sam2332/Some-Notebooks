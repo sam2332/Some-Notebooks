{
 "cells": [
  {
   "cell_type": "code",
   "execution_count": null,
   "id": "9d21c793-d22c-4735-8f14-f52e666c3a50",
   "metadata": {
    "tags": []
   },
   "outputs": [],
   "source": [
    "import pandas as pd"
   ]
  },
  {
   "cell_type": "code",
   "execution_count": 76,
   "id": "606583ac-8c3d-4296-80f3-727b32d64d47",
   "metadata": {
    "tags": []
   },
   "outputs": [],
   "source": [
    "tickets = pd.read_csv('my_comments.csv')"
   ]
  },
  {
   "cell_type": "code",
   "execution_count": 77,
   "id": "8f8ef129-737e-4049-9e2b-b784b7be10e7",
   "metadata": {
    "tags": []
   },
   "outputs": [
    {
     "data": {
      "text/html": [
       "<div>\n",
       "<style scoped>\n",
       "    .dataframe tbody tr th:only-of-type {\n",
       "        vertical-align: middle;\n",
       "    }\n",
       "\n",
       "    .dataframe tbody tr th {\n",
       "        vertical-align: top;\n",
       "    }\n",
       "\n",
       "    .dataframe thead th {\n",
       "        text-align: right;\n",
       "    }\n",
       "</style>\n",
       "<table border=\"1\" class=\"dataframe\">\n",
       "  <thead>\n",
       "    <tr style=\"text-align: right;\">\n",
       "      <th></th>\n",
       "      <th>TicketId</th>\n",
       "      <th>Body</th>\n",
       "    </tr>\n",
       "  </thead>\n",
       "  <tbody>\n",
       "    <tr>\n",
       "      <th>2350</th>\n",
       "      <td>92400</td>\n",
       "      <td>&lt;p&gt;I published the pages again and then&amp;nbsp;&lt;...</td>\n",
       "    </tr>\n",
       "    <tr>\n",
       "      <th>2351</th>\n",
       "      <td>92165</td>\n",
       "      <td>Hello Craig, &lt;br&gt;&lt;br&gt;I hope this message finds...</td>\n",
       "    </tr>\n",
       "    <tr>\n",
       "      <th>2352</th>\n",
       "      <td>92420</td>\n",
       "      <td>Hello,&lt;br&gt;&lt;br&gt;It seems there was an issue with...</td>\n",
       "    </tr>\n",
       "    <tr>\n",
       "      <th>2353</th>\n",
       "      <td>92165</td>\n",
       "      <td>&lt;p&gt;Hope you have a great day craig, let me kno...</td>\n",
       "    </tr>\n",
       "    <tr>\n",
       "      <th>2354</th>\n",
       "      <td>92304</td>\n",
       "      <td>&lt;p&gt;Hey Mary, Yeah i see that now, i have put i...</td>\n",
       "    </tr>\n",
       "    <tr>\n",
       "      <th>2355</th>\n",
       "      <td>92304</td>\n",
       "      <td>Hello Mary, &lt;br&gt;&lt;br&gt;I have submitted another t...</td>\n",
       "    </tr>\n",
       "    <tr>\n",
       "      <th>2356</th>\n",
       "      <td>92419</td>\n",
       "      <td>Hello,&lt;br&gt;&lt;br&gt;I'm writing to let you know that...</td>\n",
       "    </tr>\n",
       "    <tr>\n",
       "      <th>2357</th>\n",
       "      <td>92420</td>\n",
       "      <td>&lt;p&gt;agenda&lt;/p&gt;</td>\n",
       "    </tr>\n",
       "    <tr>\n",
       "      <th>2358</th>\n",
       "      <td>92420</td>\n",
       "      <td>&lt;p&gt;attachment&lt;/p&gt;</td>\n",
       "    </tr>\n",
       "    <tr>\n",
       "      <th>2359</th>\n",
       "      <td>92420</td>\n",
       "      <td>Hello, &lt;br&gt;&lt;br&gt;I am following up regarding you...</td>\n",
       "    </tr>\n",
       "    <tr>\n",
       "      <th>2360</th>\n",
       "      <td>92469</td>\n",
       "      <td>&lt;p&gt;Hi Carmina, I have updated the images on th...</td>\n",
       "    </tr>\n",
       "    <tr>\n",
       "      <th>2361</th>\n",
       "      <td>92431</td>\n",
       "      <td>&lt;p&gt;Hello Alexis, I have confirmed the page has...</td>\n",
       "    </tr>\n",
       "    <tr>\n",
       "      <th>2362</th>\n",
       "      <td>92304</td>\n",
       "      <td>&lt;p&gt;Hey Mary I am sorry this is taking so long,...</td>\n",
       "    </tr>\n",
       "    <tr>\n",
       "      <th>2363</th>\n",
       "      <td>92573</td>\n",
       "      <td>&lt;p&gt;so there is no real way to center embeds wi...</td>\n",
       "    </tr>\n",
       "    <tr>\n",
       "      <th>2364</th>\n",
       "      <td>91526</td>\n",
       "      <td>&lt;p style=\"margin: 0in 0in 0.0001pt; font-size:...</td>\n",
       "    </tr>\n",
       "  </tbody>\n",
       "</table>\n",
       "</div>"
      ],
      "text/plain": [
       "      TicketId                                               Body\n",
       "2350     92400  <p>I published the pages again and then&nbsp;<...\n",
       "2351     92165  Hello Craig, <br><br>I hope this message finds...\n",
       "2352     92420  Hello,<br><br>It seems there was an issue with...\n",
       "2353     92165  <p>Hope you have a great day craig, let me kno...\n",
       "2354     92304  <p>Hey Mary, Yeah i see that now, i have put i...\n",
       "2355     92304  Hello Mary, <br><br>I have submitted another t...\n",
       "2356     92419  Hello,<br><br>I'm writing to let you know that...\n",
       "2357     92420                                      <p>agenda</p>\n",
       "2358     92420                                  <p>attachment</p>\n",
       "2359     92420  Hello, <br><br>I am following up regarding you...\n",
       "2360     92469  <p>Hi Carmina, I have updated the images on th...\n",
       "2361     92431  <p>Hello Alexis, I have confirmed the page has...\n",
       "2362     92304  <p>Hey Mary I am sorry this is taking so long,...\n",
       "2363     92573  <p>so there is no real way to center embeds wi...\n",
       "2364     91526  <p style=\"margin: 0in 0in 0.0001pt; font-size:..."
      ]
     },
     "execution_count": 77,
     "metadata": {},
     "output_type": "execute_result"
    }
   ],
   "source": [
    "tickets.tail(15)"
   ]
  },
  {
   "cell_type": "code",
   "execution_count": 78,
   "id": "fa45212e-8894-4746-81b4-ae0d3e4567fa",
   "metadata": {
    "tags": []
   },
   "outputs": [
    {
     "data": {
      "text/plain": [
       "2365"
      ]
     },
     "execution_count": 78,
     "metadata": {},
     "output_type": "execute_result"
    }
   ],
   "source": [
    "len(tickets)"
   ]
  },
  {
   "cell_type": "code",
   "execution_count": 79,
   "id": "c38bfcea-0a3a-4c3e-ba93-6fc66523eab8",
   "metadata": {
    "tags": []
   },
   "outputs": [],
   "source": [
    "from bs4 import BeautifulSoup\n",
    "def extractonlytext(text):\n",
    "    return BeautifulSoup(str(text)).text"
   ]
  },
  {
   "cell_type": "code",
   "execution_count": 80,
   "id": "e2f6ce27-5428-4c9f-bd7c-35790b8aae7e",
   "metadata": {
    "tags": []
   },
   "outputs": [
    {
     "name": "stderr",
     "output_type": "stream",
     "text": [
      "C:\\Users\\srudloff\\AppData\\Local\\Temp\\ipykernel_11212\\1103239754.py:3: MarkupResemblesLocatorWarning: The input looks more like a filename than markup. You may want to open this file and pass the filehandle into Beautiful Soup.\n",
      "  return BeautifulSoup(str(text)).text\n"
     ]
    }
   ],
   "source": [
    "tickets['Body'] = tickets['Body'].apply(extractonlytext)"
   ]
  },
  {
   "cell_type": "code",
   "execution_count": 81,
   "id": "6f8a6d4d-9468-4cdb-8272-9b0e80f2afa4",
   "metadata": {
    "tags": []
   },
   "outputs": [],
   "source": [
    "autoremove=[\"Requester (If other than yourself)::\",\"\\r\"]\n",
    "def cleanUp(text):\n",
    "    for item in autoremove:\n",
    "        text = text.replace(item,' ')\n",
    "    return text.lower().strip()"
   ]
  },
  {
   "cell_type": "code",
   "execution_count": 82,
   "id": "601200ca-16e7-4fdc-b949-aa19ab9dc6a1",
   "metadata": {
    "tags": []
   },
   "outputs": [],
   "source": [
    "tickets['Body'] = tickets['Body'].apply(cleanUp)"
   ]
  },
  {
   "cell_type": "code",
   "execution_count": 83,
   "id": "9cbe893c-bdba-4f62-8c49-9fbb66634560",
   "metadata": {
    "tags": []
   },
   "outputs": [
    {
     "data": {
      "text/html": [
       "<div>\n",
       "<style scoped>\n",
       "    .dataframe tbody tr th:only-of-type {\n",
       "        vertical-align: middle;\n",
       "    }\n",
       "\n",
       "    .dataframe tbody tr th {\n",
       "        vertical-align: top;\n",
       "    }\n",
       "\n",
       "    .dataframe thead th {\n",
       "        text-align: right;\n",
       "    }\n",
       "</style>\n",
       "<table border=\"1\" class=\"dataframe\">\n",
       "  <thead>\n",
       "    <tr style=\"text-align: right;\">\n",
       "      <th></th>\n",
       "      <th>TicketId</th>\n",
       "      <th>Body</th>\n",
       "    </tr>\n",
       "  </thead>\n",
       "  <tbody>\n",
       "    <tr>\n",
       "      <th>2350</th>\n",
       "      <td>92400</td>\n",
       "      <td>i published the pages again and then johnathan...</td>\n",
       "    </tr>\n",
       "    <tr>\n",
       "      <th>2351</th>\n",
       "      <td>92165</td>\n",
       "      <td>hello craig, i hope this message finds you wel...</td>\n",
       "    </tr>\n",
       "    <tr>\n",
       "      <th>2352</th>\n",
       "      <td>92420</td>\n",
       "      <td>hello,it seems there was an issue with the fil...</td>\n",
       "    </tr>\n",
       "    <tr>\n",
       "      <th>2353</th>\n",
       "      <td>92165</td>\n",
       "      <td>hope you have a great day craig, let me know i...</td>\n",
       "    </tr>\n",
       "    <tr>\n",
       "      <th>2354</th>\n",
       "      <td>92304</td>\n",
       "      <td>hey mary, yeah i see that now, i have put in a...</td>\n",
       "    </tr>\n",
       "    <tr>\n",
       "      <th>2355</th>\n",
       "      <td>92304</td>\n",
       "      <td>hello mary, i have submitted another ticket to...</td>\n",
       "    </tr>\n",
       "    <tr>\n",
       "      <th>2356</th>\n",
       "      <td>92419</td>\n",
       "      <td>hello,i'm writing to let you know that i've su...</td>\n",
       "    </tr>\n",
       "    <tr>\n",
       "      <th>2357</th>\n",
       "      <td>92420</td>\n",
       "      <td>agenda</td>\n",
       "    </tr>\n",
       "    <tr>\n",
       "      <th>2358</th>\n",
       "      <td>92420</td>\n",
       "      <td>attachment</td>\n",
       "    </tr>\n",
       "    <tr>\n",
       "      <th>2359</th>\n",
       "      <td>92420</td>\n",
       "      <td>hello, i am following up regarding your reques...</td>\n",
       "    </tr>\n",
       "    <tr>\n",
       "      <th>2360</th>\n",
       "      <td>92469</td>\n",
       "      <td>hi carmina, i have updated the images on the w...</td>\n",
       "    </tr>\n",
       "    <tr>\n",
       "      <th>2361</th>\n",
       "      <td>92431</td>\n",
       "      <td>hello alexis, i have confirmed the page has be...</td>\n",
       "    </tr>\n",
       "    <tr>\n",
       "      <th>2362</th>\n",
       "      <td>92304</td>\n",
       "      <td>hey mary i am sorry this is taking so long, i ...</td>\n",
       "    </tr>\n",
       "    <tr>\n",
       "      <th>2363</th>\n",
       "      <td>92573</td>\n",
       "      <td>so there is no real way to center embeds with ...</td>\n",
       "    </tr>\n",
       "    <tr>\n",
       "      <th>2364</th>\n",
       "      <td>91526</td>\n",
       "      <td>sam, all changes look great! i love the pdf so...</td>\n",
       "    </tr>\n",
       "  </tbody>\n",
       "</table>\n",
       "</div>"
      ],
      "text/plain": [
       "      TicketId                                               Body\n",
       "2350     92400  i published the pages again and then johnathan...\n",
       "2351     92165  hello craig, i hope this message finds you wel...\n",
       "2352     92420  hello,it seems there was an issue with the fil...\n",
       "2353     92165  hope you have a great day craig, let me know i...\n",
       "2354     92304  hey mary, yeah i see that now, i have put in a...\n",
       "2355     92304  hello mary, i have submitted another ticket to...\n",
       "2356     92419  hello,i'm writing to let you know that i've su...\n",
       "2357     92420                                             agenda\n",
       "2358     92420                                         attachment\n",
       "2359     92420  hello, i am following up regarding your reques...\n",
       "2360     92469  hi carmina, i have updated the images on the w...\n",
       "2361     92431  hello alexis, i have confirmed the page has be...\n",
       "2362     92304  hey mary i am sorry this is taking so long, i ...\n",
       "2363     92573  so there is no real way to center embeds with ...\n",
       "2364     91526  sam, all changes look great! i love the pdf so..."
      ]
     },
     "execution_count": 83,
     "metadata": {},
     "output_type": "execute_result"
    }
   ],
   "source": [
    "tickets.tail(15)"
   ]
  },
  {
   "cell_type": "code",
   "execution_count": 84,
   "id": "53fee8f2-2f5f-421d-aaad-5d2484537115",
   "metadata": {
    "tags": []
   },
   "outputs": [],
   "source": [
    "tickets.to_csv(\"my_comments_cleaned.csv\",index=False)"
   ]
  },
  {
   "cell_type": "code",
   "execution_count": null,
   "id": "09ff0f23-4593-4292-bb17-2b1c7c6bcce3",
   "metadata": {},
   "outputs": [],
   "source": []
  },
  {
   "cell_type": "code",
   "execution_count": null,
   "id": "804112f2-67b5-47b0-bc68-08aedb28153c",
   "metadata": {},
   "outputs": [],
   "source": []
  }
 ],
 "metadata": {
  "kernelspec": {
   "display_name": "Python 3 (ipykernel)",
   "language": "python",
   "name": "python3"
  },
  "language_info": {
   "codemirror_mode": {
    "name": "ipython",
    "version": 3
   },
   "file_extension": ".py",
   "mimetype": "text/x-python",
   "name": "python",
   "nbconvert_exporter": "python",
   "pygments_lexer": "ipython3",
   "version": "3.11.3"
  }
 },
 "nbformat": 4,
 "nbformat_minor": 5
}
