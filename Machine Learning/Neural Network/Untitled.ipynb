{
    "cells": [
        {
            "cell_type": "markdown",
            "id": "95bc9037-198a-4aa8-8a88-ee636412693e",
            "metadata": {},
            "source": [
                "# make a basic neural network"
            ]
        },
        {
            "cell_type": "code",
            "execution_count": 1,
            "id": "1e9045a3-1f7b-4a34-9271-9b2c96d1ac61",
            "metadata": {},
            "outputs": [],
            "source": [
                "class Node:\n",
                "    def __init__(self):\n",
                "        pass\n",
                "\n",
                "\n",
                "class Layer:\n",
                "    def __init__(self):\n",
                "        self.nodes = []\n",
                "\n",
                "\n",
                "class Network:\n",
                "    def __init__(self):\n",
                "        self.layers = []"
            ]
        },
        {
            "cell_type": "code",
            "execution_count": 2,
            "id": "ab22e20a-ab77-4faa-a317-ec77f09a07d7",
            "metadata": {},
            "outputs": [],
            "source": [
                "n = network()"
            ]
        },
        {
            "cell_type": "code",
            "execution_count": 2,
            "id": "8fef4f18-1034-46bd-a924-fa8d76f10d47",
            "metadata": {},
            "outputs": [],
            "source": []
        },
        {
            "cell_type": "code",
            "execution_count": null,
            "id": "167e6638-92e6-412e-88d4-f2877af2bf36",
            "metadata": {},
            "outputs": [],
            "source": []
        }
    ],
    "metadata": {
        "kernelspec": {
            "display_name": "Python 3 (ipykernel)",
            "language": "python",
            "name": "python3"
        },
        "language_info": {
            "codemirror_mode": {
                "name": "ipython",
                "version": 3
            },
            "file_extension": ".py",
            "mimetype": "text/x-python",
            "name": "python",
            "nbconvert_exporter": "python",
            "pygments_lexer": "ipython3",
            "version": "3.10.4"
        },
        "scenes_data": {
            "active_scene": "Default Scene",
            "init_scene": "",
            "scenes": [
                "Default Scene"
            ]
        },
        "widgets": {
            "application/vnd.jupyter.widget-state+json": {
                "state": {},
                "version_major": 2,
                "version_minor": 0
            }
        }
    },
    "nbformat": 4,
    "nbformat_minor": 5
}