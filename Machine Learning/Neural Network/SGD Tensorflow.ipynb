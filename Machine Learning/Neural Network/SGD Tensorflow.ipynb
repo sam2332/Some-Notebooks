{
 "cells": [
  {
   "cell_type": "markdown",
   "id": "95bc9037-198a-4aa8-8a88-ee636412693e",
   "metadata": {},
   "source": [
    "# Module"
   ]
  },
  {
   "cell_type": "code",
   "execution_count": 63,
   "id": "1e9045a3-1f7b-4a34-9271-9b2c96d1ac61",
   "metadata": {
    "tags": []
   },
   "outputs": [],
   "source": [
    "import tensorflow as tf\n",
    "\n",
    "model = tf.keras.models.Sequential([\n",
    "    tf.keras.layers.Dense(10, activation='sigmoid', input_shape=(4,)),\n",
    "])\n",
    "\n",
    "model.compile(\n",
    "    optimizer='sgd',  # Stochastic gradient descent\n",
    "    loss='mean_squared_error',  # Mean squared error loss function\n",
    ")"
   ]
  },
  {
   "cell_type": "markdown",
   "id": "c6a922d6-6078-4c9a-b5e9-754a26e25e08",
   "metadata": {
    "tags": []
   },
   "source": [
    "# Training"
   ]
  },
  {
   "cell_type": "code",
   "execution_count": 64,
   "id": "d239b4ee-5956-4d15-b2d6-26b73efa89e1",
   "metadata": {
    "tags": []
   },
   "outputs": [
    {
     "name": "stdout",
     "output_type": "stream",
     "text": [
      "Epoch 1/10\n",
      "4/4 [==============================] - 0s 0s/step - loss: 0.0910\n",
      "Epoch 2/10\n",
      "4/4 [==============================] - 0s 0s/step - loss: 0.0910\n",
      "Epoch 3/10\n",
      "4/4 [==============================] - 0s 5ms/step - loss: 0.0910\n",
      "Epoch 4/10\n",
      "4/4 [==============================] - 0s 0s/step - loss: 0.0910\n",
      "Epoch 5/10\n",
      "4/4 [==============================] - 0s 0s/step - loss: 0.0910\n",
      "Epoch 6/10\n",
      "4/4 [==============================] - 0s 5ms/step - loss: 0.0910\n",
      "Epoch 7/10\n",
      "4/4 [==============================] - 0s 0s/step - loss: 0.0910\n",
      "Epoch 8/10\n",
      "4/4 [==============================] - 0s 0s/step - loss: 0.0909\n",
      "Epoch 9/10\n",
      "4/4 [==============================] - 0s 0s/step - loss: 0.0909\n",
      "Epoch 10/10\n",
      "4/4 [==============================] - 0s 0s/step - loss: 0.0909\n"
     ]
    },
    {
     "data": {
      "text/plain": [
       "<keras.callbacks.History at 0x2045d26d350>"
      ]
     },
     "execution_count": 64,
     "metadata": {},
     "output_type": "execute_result"
    }
   ],
   "source": [
    "# Random example data\n",
    "import numpy as np\n",
    "X = np.random.rand(100, 4)\n",
    "y = np.random.rand(100, 10)\n",
    "model.fit(X, y, epochs=10)"
   ]
  },
  {
   "cell_type": "markdown",
   "id": "9f312e8f-8728-4cd9-ae3a-6cf280c87a92",
   "metadata": {
    "tags": []
   },
   "source": [
    "# Prediction"
   ]
  },
  {
   "cell_type": "code",
   "execution_count": 65,
   "id": "fe053a5d-575d-4722-b25a-687c884b3c71",
   "metadata": {
    "tags": []
   },
   "outputs": [],
   "source": [
    "# Let's say we have some new data we want to predict\n",
    "X_new = np.random.rand(1, 4)  # 10 new examples, each with 4 features"
   ]
  },
  {
   "cell_type": "code",
   "execution_count": 66,
   "id": "dbe4d5ae-1f14-4b9a-8298-42eec33646da",
   "metadata": {
    "tags": []
   },
   "outputs": [
    {
     "name": "stdout",
     "output_type": "stream",
     "text": [
      "1/1 [==============================] - 0s 31ms/step\n"
     ]
    },
    {
     "data": {
      "text/plain": [
       "array([[0.4991413 , 0.4108754 , 0.48807305, 0.57922244, 0.46108174,\n",
       "        0.5753558 , 0.46721584, 0.46860704, 0.45809436, 0.4389876 ]],\n",
       "      dtype=float32)"
      ]
     },
     "execution_count": 66,
     "metadata": {},
     "output_type": "execute_result"
    }
   ],
   "source": [
    "# Make predictions\n",
    "predictions = model.predict(X_new)\n",
    "predictions"
   ]
  },
  {
   "cell_type": "code",
   "execution_count": null,
   "id": "ac08ad65-0189-4fa9-b156-9fdc4f5e65cf",
   "metadata": {},
   "outputs": [],
   "source": []
  }
 ],
 "metadata": {
  "kernelspec": {
   "display_name": "Python 3 (ipykernel)",
   "language": "python",
   "name": "python3"
  },
  "language_info": {
   "codemirror_mode": {
    "name": "ipython",
    "version": 3
   },
   "file_extension": ".py",
   "mimetype": "text/x-python",
   "name": "python",
   "nbconvert_exporter": "python",
   "pygments_lexer": "ipython3",
   "version": "3.11.3"
  },
  "scenes_data": {
   "active_scene": "Default Scene",
   "init_scene": "",
   "scenes": [
    "Default Scene"
   ]
  },
  "widgets": {
   "application/vnd.jupyter.widget-state+json": {
    "state": {},
    "version_major": 2,
    "version_minor": 0
   }
  }
 },
 "nbformat": 4,
 "nbformat_minor": 5
}
