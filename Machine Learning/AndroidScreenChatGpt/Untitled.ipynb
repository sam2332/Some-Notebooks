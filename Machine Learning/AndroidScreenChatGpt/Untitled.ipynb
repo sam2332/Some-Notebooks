{
 "cells": [
  {
   "cell_type": "code",
   "execution_count": 2,
   "id": "89bce3a1-3a95-4813-8ff7-526cdef841f3",
   "metadata": {
    "tags": []
   },
   "outputs": [
    {
     "name": "stdout",
     "output_type": "stream",
     "text": [
      "Active window info:\n",
      "\n",
      "Error running OCR on the screenshot.\n"
     ]
    }
   ],
   "source": [
    "import os\n",
    "import subprocess\n",
    "\n",
    "def adb(command):\n",
    "    adb_command = f\"adb {command}\"\n",
    "    return subprocess.run(adb_command, stdout=subprocess.PIPE, stderr=subprocess.PIPE, shell=True, text=True)\n",
    "\n",
    "# Get the active window\n",
    "active_window_result = adb(\"shell dumpsys window windows | grep -E 'mCurrentFocus|mFocusedApp'\")\n",
    "print(\"Active window info:\")\n",
    "print(active_window_result.stdout)\n",
    "\n",
    "# Take a screenshot\n",
    "adb(\"shell screencap /sdcard/screenshot.png\")\n",
    "\n",
    "# Transfer the screenshot to your computer\n",
    "adb(\"pull /sdcard/screenshot.png\")\n",
    "\n",
    "# Run OCR on the screenshot\n",
    "ocr_command = \"tesseract screenshot.png output.txt\"\n",
    "ocr_result = subprocess.run(ocr_command, shell=True)\n",
    "if ocr_result.returncode == 0:\n",
    "    print(\"OCR output:\")\n",
    "    with open(\"output.txt\", \"r\") as output_file:\n",
    "        print(output_file.read())\n",
    "else:\n",
    "    print(\"Error running OCR on the screenshot.\")\n"
   ]
  },
  {
   "cell_type": "code",
   "execution_count": 3,
   "id": "53bbd044-d7f1-4e00-b6cc-de1e3caf41fb",
   "metadata": {
    "tags": []
   },
   "outputs": [
    {
     "data": {
      "text/plain": [
       "CompletedProcess(args=\"adb shell dumpsys window windows | grep -E 'mCurrentFocus|mFocusedApp'\", returncode=255, stdout='', stderr=\"'adb' is not recognized as an internal or external command,\\noperable program or batch file.\\n\")"
      ]
     },
     "execution_count": 3,
     "metadata": {},
     "output_type": "execute_result"
    }
   ],
   "source": [
    "adb(\"shell dumpsys window windows | grep -E 'mCurrentFocus|mFocusedApp'\")"
   ]
  },
  {
   "cell_type": "code",
   "execution_count": null,
   "id": "2600078d-31a4-40d3-9965-0e368eb84d1c",
   "metadata": {},
   "outputs": [],
   "source": []
  }
 ],
 "metadata": {
  "kernelspec": {
   "display_name": "Python 3 (ipykernel)",
   "language": "python",
   "name": "python3"
  },
  "language_info": {
   "codemirror_mode": {
    "name": "ipython",
    "version": 3
   },
   "file_extension": ".py",
   "mimetype": "text/x-python",
   "name": "python",
   "nbconvert_exporter": "python",
   "pygments_lexer": "ipython3",
   "version": "3.11.3"
  }
 },
 "nbformat": 4,
 "nbformat_minor": 5
}
