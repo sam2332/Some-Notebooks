{
 "cells": [
  {
   "cell_type": "code",
   "execution_count": null,
   "id": "c78ebf58-4f77-4beb-8862-ef5cfddd242e",
   "metadata": {},
   "outputs": [],
   "source": [
    "import numpy as np\n",
    "from sklearn.linear_model import LinearRegression"
   ]
  },
  {
   "cell_type": "code",
   "execution_count": null,
   "id": "e1d1f678-3e5d-47b0-8e2a-670b4060c2f6",
   "metadata": {},
   "outputs": [],
   "source": [
    "def train_LinearRegressionModel(x, y):\n",
    "    model = LinearRegression()\n",
    "    model.fit(x, y)\n",
    "    return model"
   ]
  },
  {
   "cell_type": "code",
   "execution_count": null,
   "id": "7b9ecdd1-2892-4368-9a89-2612b3168096",
   "metadata": {},
   "outputs": [],
   "source": [
    "X = np.array([[12, 12], [1, 1]])\n",
    "Y = np.array([1, 0])"
   ]
  },
  {
   "cell_type": "code",
   "execution_count": null,
   "id": "c441167d-5bb6-4ab0-802d-68ffd2eea35d",
   "metadata": {},
   "outputs": [],
   "source": [
    "model = train_LinearRegressionModel(X, Y)\n",
    "new_x = np.array([23.0])\n",
    "pred = model.predict(new_x)\n",
    "pred"
   ]
  },
  {
   "cell_type": "code",
   "execution_count": null,
   "id": "f9a53eea-f88e-4c6b-95b2-320bca57838f",
   "metadata": {},
   "outputs": [],
   "source": []
  }
 ],
 "metadata": {
  "kernelspec": {
   "display_name": "Python 3 (ipykernel)",
   "language": "python",
   "name": "python3"
  },
  "language_info": {
   "codemirror_mode": {
    "name": "ipython",
    "version": 3
   },
   "file_extension": ".py",
   "mimetype": "text/x-python",
   "name": "python",
   "nbconvert_exporter": "python",
   "pygments_lexer": "ipython3",
   "version": "3.10.4"
  },
  "widgets": {
   "application/vnd.jupyter.widget-state+json": {
    "state": {},
    "version_major": 2,
    "version_minor": 0
   }
  }
 },
 "nbformat": 4,
 "nbformat_minor": 5
}
