{
 "cells": [
  {
   "cell_type": "code",
   "execution_count": 2,
   "id": "5199038a-bd5e-4254-b9fa-0ae504c21072",
   "metadata": {
    "tags": []
   },
   "outputs": [],
   "source": [
    "import sounddevice as sd\n",
    "import numpy as np\n",
    "import PySimpleGUI as sg\n",
    "import threading\n",
    "from queue import Queue\n",
    "\n",
    "# Get a list of input devices\n",
    "devices = sd.query_devices()\n",
    "input_devices = [device for device in devices if device['max_input_channels'] > 0]\n",
    "\n",
    "# Function to convert the device info into a string for display\n",
    "def device_info_to_string(device):\n",
    "    return f\"{device['name']} (Index: {device['index']})\"\n",
    "\n",
    "# Define the GUI layout\n",
    "layout = [\n",
    "    [sg.Text(\"Select a Microphone:\")],\n",
    "    [sg.Listbox([device_info_to_string(device) for device in input_devices], size=(60, 6), key='device_list')],\n",
    "    [sg.Button('Start Preview'), sg.Button('Stop Preview')],\n",
    "    [sg.Text(\"Microphone Sound Level:\")],\n",
    "    [sg.ProgressBar(100, orientation='h', size=(20, 20), key='sound_level')],\n",
    "]\n",
    "\n",
    "# Create GUI window\n",
    "window = sg.Window('Microphone Sound Level Preview', layout)\n",
    "\n",
    "# Callback function for audio recording\n",
    "def audio_callback(indata, frames, time, status, q):\n",
    "    q.put(indata.copy())\n",
    "\n",
    "# Function for recording audio on a separate thread\n",
    "def record_audio(q, stop_event, device_index):\n",
    "    with sd.InputStream(callback=lambda *args: audio_callback(*args, q), samplerate=44100, device=device_index):\n",
    "        while not stop_event.is_set():\n",
    "            sd.sleep(100)\n",
    "\n",
    "stop_event = threading.Event()\n",
    "recording_thread = None\n",
    "audio_queue = Queue()\n",
    "\n",
    "# Event loop\n",
    "while True:\n",
    "    event, values = window.read(timeout=10)\n",
    "    if event == sg.WIN_CLOSED:\n",
    "        break\n",
    "    elif event == 'Start Preview':\n",
    "        selected_device_str = values['device_list'][0]\n",
    "        selected_device_index = int(selected_device_str.split(\"Index: \")[1].split(\")\")[0])\n",
    "        stop_event.clear()\n",
    "        recording_thread = threading.Thread(target=record_audio, args=(audio_queue, stop_event, selected_device_index))\n",
    "        recording_thread.start()\n",
    "    elif event == 'Stop Preview':\n",
    "        stop_event.set()\n",
    "        if recording_thread is not None:\n",
    "            recording_thread.join()\n",
    "\n",
    "    # Update sound level progress bar\n",
    "    if not audio_queue.empty():\n",
    "        audio_data = audio_queue.get()\n",
    "        sound_level = int(np.mean(np.abs(audio_data)) * 100)\n",
    "        window['sound_level'].update(sound_level)\n",
    "\n",
    "# Close GUI window\n",
    "window.close()"
   ]
  },
  {
   "cell_type": "code",
   "execution_count": 1,
   "id": "5b77c257-c188-4904-a955-4b8bd832e6c1",
   "metadata": {
    "tags": []
   },
   "outputs": [
    {
     "name": "stdout",
     "output_type": "stream",
     "text": [
      "< 0 HD-Audio Generic: DELL U2417H (hw:0,3), ALSA (0 in, 2 out)\n",
      "  1 HD-Audio Generic: DELL P2418HZm (hw:0,7), ALSA (0 in, 2 out)\n",
      "  2 HD-Audio Generic: DELL U2417H (hw:0,8), ALSA (0 in, 2 out)\n",
      "> 3 HD-Audio Generic: ALC257 Analog (hw:1,0), ALSA (2 in, 2 out)\n",
      "  4 acp: - (hw:2,0), ALSA (2 in, 0 out)\n",
      "  5 ThinkPad USB-C Dock Gen2 USB Au: Audio (hw:3,0), ALSA (1 in, 2 out)\n",
      "  6 JOUNIVO JV601: USB Audio (hw:4,0), ALSA (2 in, 0 out)\n",
      "  7 P2418HZm: USB Audio (hw:5,0), ALSA (2 in, 2 out)\n",
      "  8 hdmi, ALSA (0 in, 2 out)\n"
     ]
    }
   ],
   "source": [
    "import sounddevice as sd\n",
    "print(sd.query_devices())\n"
   ]
  },
  {
   "cell_type": "code",
   "execution_count": null,
   "id": "04c05d34-dd82-4de7-92ac-569c2c246e73",
   "metadata": {},
   "outputs": [],
   "source": []
  }
 ],
 "metadata": {
  "kernelspec": {
   "display_name": "Python 3 (ipykernel)",
   "language": "python",
   "name": "python3"
  },
  "language_info": {
   "codemirror_mode": {
    "name": "ipython",
    "version": 3
   },
   "file_extension": ".py",
   "mimetype": "text/x-python",
   "name": "python",
   "nbconvert_exporter": "python",
   "pygments_lexer": "ipython3",
   "version": "3.10.7"
  }
 },
 "nbformat": 4,
 "nbformat_minor": 5
}
