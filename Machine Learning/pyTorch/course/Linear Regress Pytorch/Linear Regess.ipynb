{
 "cells": [
  {
   "cell_type": "code",
   "execution_count": null,
   "id": "63841c59-d1e3-4c36-8e8c-d7879e7edd2e",
   "metadata": {},
   "outputs": [],
   "source": [
    "import matplotlib.pyplot as plt\n",
    "import numpy as np\n",
    "import torch\n",
    "import torch.nn as nn\n",
    "\n",
    "torch.manual_seed(1)"
   ]
  },
  {
   "cell_type": "code",
   "execution_count": null,
   "id": "74d0075f-385c-4314-960d-39e7ad00b23f",
   "metadata": {},
   "outputs": [],
   "source": [
    "x = torch.randn(100, 1) * 10\n",
    "y = x + torch.randn(100, 1) * 3\n",
    "plt.plot(x.numpy(), y.numpy(), \"o\")\n",
    "plt.ylabel(\"y\")\n",
    "plt.xlabel(\"x\")"
   ]
  },
  {
   "cell_type": "code",
   "execution_count": null,
   "id": "dcde550a-9915-41e8-b655-5c0fd4cca5b4",
   "metadata": {},
   "outputs": [],
   "source": [
    "class LR(nn.Module):\n",
    "    def __init__(self, input_size, output_size, learning_rate=None):\n",
    "        if learning_rate is None:\n",
    "            self.learning_rate = 1 / 100\n",
    "        super().__init__()\n",
    "        self.linear = nn.Linear(input_size, output_size)\n",
    "\n",
    "    def forward(self, x):\n",
    "        pred = self.linear(x)\n",
    "        return pred"
   ]
  },
  {
   "cell_type": "code",
   "execution_count": null,
   "id": "5e078c5e-7786-4c33-b84d-a685d962ebc0",
   "metadata": {},
   "outputs": [],
   "source": [
    "model = LR(1, 1)"
   ]
  },
  {
   "cell_type": "code",
   "execution_count": null,
   "id": "d782434f-d4d3-4189-8956-95068d6d7e39",
   "metadata": {},
   "outputs": [],
   "source": [
    "[w, b] = model.parameters()\n",
    "\n",
    "\n",
    "def getparams():\n",
    "    return (w[0, 0].item(), b[0].item())"
   ]
  },
  {
   "cell_type": "code",
   "execution_count": null,
   "id": "c5c9fe9c-abfd-43eb-82da-d96f9d60121b",
   "metadata": {},
   "outputs": [],
   "source": [
    "def plot_fit(title):\n",
    "    plt.title = title\n",
    "    w1, b1 = getparams()\n",
    "    x1 = np.array([-30, 30])\n",
    "    y1 = w1 * x1 + b1\n",
    "    plt.plot(x1, y1, \"r\")\n",
    "    plt.scatter(x, y)\n",
    "    plt.show()"
   ]
  },
  {
   "cell_type": "code",
   "execution_count": null,
   "id": "3f41de5e-a97a-40ee-9df6-6d79d75b9c25",
   "metadata": {},
   "outputs": [],
   "source": [
    "plot_fit(\"Inital Model\")"
   ]
  },
  {
   "cell_type": "code",
   "execution_count": null,
   "id": "22753fef-6d3c-47d9-a52e-0b1ddda8ae2a",
   "metadata": {},
   "outputs": [],
   "source": [
    "criterion = nn.MSELoss()\n",
    "optimizer = torch.optim.SGD(model.parameters(), lr=0.01)"
   ]
  },
  {
   "cell_type": "code",
   "execution_count": 25,
   "id": "2237d9fc-63aa-43bc-a208-a9ef79840edf",
   "metadata": {},
   "outputs": [
    {
     "name": "stdout",
     "output_type": "stream",
     "text": [
      "epoch: 0 loss: 9.981285095214844\n",
      "epoch: 1 loss: 9.981280326843262\n",
      "epoch: 2 loss: 9.981276512145996\n",
      "epoch: 3 loss: 9.98127269744873\n",
      "epoch: 4 loss: 9.981269836425781\n",
      "epoch: 5 loss: 9.981266021728516\n",
      "epoch: 6 loss: 9.98126220703125\n",
      "epoch: 7 loss: 9.9812593460083\n",
      "epoch: 8 loss: 9.981255531311035\n",
      "epoch: 9 loss: 9.98125171661377\n",
      "epoch: 10 loss: 9.981249809265137\n",
      "epoch: 11 loss: 9.981246948242188\n",
      "epoch: 12 loss: 9.981245040893555\n",
      "epoch: 13 loss: 9.981241226196289\n",
      "epoch: 14 loss: 9.98123836517334\n",
      "epoch: 15 loss: 9.981237411499023\n",
      "epoch: 16 loss: 9.98123550415039\n",
      "epoch: 17 loss: 9.981232643127441\n",
      "epoch: 18 loss: 9.981229782104492\n",
      "epoch: 19 loss: 9.98122787475586\n",
      "epoch: 20 loss: 9.981225967407227\n",
      "epoch: 21 loss: 9.981224060058594\n",
      "epoch: 22 loss: 9.981222152709961\n",
      "epoch: 23 loss: 9.981220245361328\n",
      "epoch: 24 loss: 9.981219291687012\n",
      "epoch: 25 loss: 9.981217384338379\n",
      "epoch: 26 loss: 9.981215476989746\n",
      "epoch: 27 loss: 9.98121452331543\n",
      "epoch: 28 loss: 9.981213569641113\n",
      "epoch: 29 loss: 9.981212615966797\n",
      "epoch: 30 loss: 9.98121166229248\n",
      "epoch: 31 loss: 9.981209754943848\n",
      "epoch: 32 loss: 9.981208801269531\n",
      "epoch: 33 loss: 9.981206893920898\n",
      "epoch: 34 loss: 9.981205940246582\n",
      "epoch: 35 loss: 9.981205940246582\n",
      "epoch: 36 loss: 9.981204986572266\n",
      "epoch: 37 loss: 9.98120403289795\n",
      "epoch: 38 loss: 9.981202125549316\n",
      "epoch: 39 loss: 9.981202125549316\n",
      "epoch: 40 loss: 9.981200218200684\n",
      "epoch: 41 loss: 9.981199264526367\n",
      "epoch: 42 loss: 9.981199264526367\n",
      "epoch: 43 loss: 9.98119831085205\n",
      "epoch: 44 loss: 9.98119831085205\n",
      "epoch: 45 loss: 9.981197357177734\n",
      "epoch: 46 loss: 9.981197357177734\n",
      "epoch: 47 loss: 9.981196403503418\n",
      "epoch: 48 loss: 9.981194496154785\n",
      "epoch: 49 loss: 9.981194496154785\n",
      "epoch: 50 loss: 9.981193542480469\n",
      "epoch: 51 loss: 9.981193542480469\n",
      "epoch: 52 loss: 9.981192588806152\n",
      "epoch: 53 loss: 9.981193542480469\n",
      "epoch: 54 loss: 9.981192588806152\n",
      "epoch: 55 loss: 9.981191635131836\n",
      "epoch: 56 loss: 9.98119068145752\n",
      "epoch: 57 loss: 9.981191635131836\n",
      "epoch: 58 loss: 9.98119068145752\n",
      "epoch: 59 loss: 9.98119068145752\n",
      "epoch: 60 loss: 9.98119068145752\n",
      "epoch: 61 loss: 9.981189727783203\n",
      "epoch: 62 loss: 9.981188774108887\n",
      "epoch: 63 loss: 9.981188774108887\n",
      "epoch: 64 loss: 9.98118782043457\n",
      "epoch: 65 loss: 9.981186866760254\n",
      "epoch: 66 loss: 9.98118782043457\n",
      "epoch: 67 loss: 9.98118782043457\n",
      "epoch: 68 loss: 9.981186866760254\n",
      "epoch: 69 loss: 9.981186866760254\n",
      "epoch: 70 loss: 9.981186866760254\n",
      "epoch: 71 loss: 9.981186866760254\n",
      "epoch: 72 loss: 9.98118782043457\n",
      "epoch: 73 loss: 9.981186866760254\n",
      "epoch: 74 loss: 9.981186866760254\n",
      "epoch: 75 loss: 9.981185913085938\n",
      "epoch: 76 loss: 9.981184959411621\n",
      "epoch: 77 loss: 9.981185913085938\n",
      "epoch: 78 loss: 9.981184959411621\n",
      "epoch: 79 loss: 9.981184959411621\n",
      "epoch: 80 loss: 9.981185913085938\n",
      "epoch: 81 loss: 9.981184959411621\n",
      "epoch: 82 loss: 9.981184005737305\n",
      "epoch: 83 loss: 9.981184959411621\n",
      "epoch: 84 loss: 9.981184959411621\n",
      "epoch: 85 loss: 9.981184005737305\n",
      "epoch: 86 loss: 9.981184005737305\n",
      "epoch: 87 loss: 9.981184005737305\n",
      "epoch: 88 loss: 9.981184005737305\n",
      "epoch: 89 loss: 9.981184005737305\n",
      "epoch: 90 loss: 9.981184005737305\n",
      "epoch: 91 loss: 9.981183052062988\n",
      "epoch: 92 loss: 9.981184005737305\n",
      "epoch: 93 loss: 9.981184005737305\n",
      "epoch: 94 loss: 9.981183052062988\n",
      "epoch: 95 loss: 9.981183052062988\n",
      "epoch: 96 loss: 9.981184005737305\n",
      "epoch: 97 loss: 9.981183052062988\n",
      "epoch: 98 loss: 9.981184005737305\n",
      "epoch: 99 loss: 9.981183052062988\n"
     ]
    }
   ],
   "source": [
    "epochs = 100\n",
    "losses = []\n",
    "for i in range(epochs):\n",
    "    y_pred = model.forward(x)\n",
    "    loss = criterion(y_pred, y)\n",
    "    print(\"epoch:\", i, \"loss:\", loss.item())\n",
    "    losses.append(loss.item())\n",
    "    optimizer.zero_grad()\n",
    "    loss.backward()\n",
    "    optimizer.step()"
   ]
  },
  {
   "cell_type": "code",
   "execution_count": 31,
   "id": "16f534da-8d16-489c-8aa7-1e66b203369e",
   "metadata": {},
   "outputs": [
    {
     "data": {
      "text/plain": [
       "Text(0.5, 0, 'Epoc')"
      ]
     },
     "execution_count": 31,
     "metadata": {},
     "output_type": "execute_result"
    },
    {
     "data": {
      "image/png": "[encoded data removed]",
      "text/plain": [
       "<Figure size 432x288 with 1 Axes>"
      ]
     },
     "metadata": {
      "needs_background": "light"
     },
     "output_type": "display_data"
    }
   ],
   "source": [
    "plt.plot(range(epochs), losses)\n",
    "plt.ylabel(\"Loss\")\n",
    "plt.xlabel(\"Epoc\")"
   ]
  },
  {
   "cell_type": "code",
   "execution_count": 26,
   "id": "1dabb3af-0359-43ca-af41-f24f67f98adf",
   "metadata": {
    "tags": []
   },
   "outputs": [
    {
     "data": {
      "image/png": "[encoded data removed]",
      "text/plain": [
       "<Figure size 432x288 with 1 Axes>"
      ]
     },
     "metadata": {
      "needs_background": "light"
     },
     "output_type": "display_data"
    }
   ],
   "source": [
    "plot_fit(\"Trained Model\")"
   ]
  },
  {
   "cell_type": "code",
   "execution_count": null,
   "id": "7399668f-461c-41af-86d4-6c2249603d14",
   "metadata": {},
   "outputs": [],
   "source": []
  },
  {
   "cell_type": "code",
   "execution_count": null,
   "id": "8b838c6b-a4ba-4d98-ae7a-085f1f4cefb6",
   "metadata": {},
   "outputs": [],
   "source": []
  },
  {
   "cell_type": "code",
   "execution_count": null,
   "id": "68e2cbf8-899b-47fa-8b8b-1943634d2fdb",
   "metadata": {},
   "outputs": [],
   "source": []
  },
  {
   "cell_type": "code",
   "execution_count": null,
   "id": "6c414e08-1084-4c9c-a597-1bb9fa345b46",
   "metadata": {},
   "outputs": [],
   "source": []
  },
  {
   "cell_type": "code",
   "execution_count": null,
   "id": "a330b2b6-92f0-4811-bb1f-0b29c4fee35b",
   "metadata": {},
   "outputs": [],
   "source": []
  },
  {
   "cell_type": "code",
   "execution_count": null,
   "id": "88850c75-732d-438a-ad08-5cf12f2fbdd1",
   "metadata": {},
   "outputs": [],
   "source": []
  },
  {
   "cell_type": "code",
   "execution_count": null,
   "id": "2f28f05f-94fd-4412-9b7f-7467c69f094e",
   "metadata": {},
   "outputs": [],
   "source": []
  },
  {
   "cell_type": "code",
   "execution_count": null,
   "id": "804caa5f-35dd-4643-9e30-741eabe02100",
   "metadata": {},
   "outputs": [],
   "source": []
  }
 ],
 "metadata": {
  "kernelspec": {
   "display_name": "Python 3 (ipykernel)",
   "language": "python",
   "name": "python3"
  },
  "language_info": {
   "codemirror_mode": {
    "name": "ipython",
    "version": 3
   },
   "file_extension": ".py",
   "mimetype": "text/x-python",
   "name": "python",
   "nbconvert_exporter": "python",
   "pygments_lexer": "ipython3",
   "version": "3.10.4"
  },
  "widgets": {
   "application/vnd.jupyter.widget-state+json": {
    "state": {},
    "version_major": 2,
    "version_minor": 0
   }
  }
 },
 "nbformat": 4,
 "nbformat_minor": 5
}
