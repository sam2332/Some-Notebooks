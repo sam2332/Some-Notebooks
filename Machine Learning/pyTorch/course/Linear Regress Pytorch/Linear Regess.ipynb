{
 "cells": [
  {
   "cell_type": "code",
   "execution_count": 1,
   "id": "63841c59-d1e3-4c36-8e8c-d7879e7edd2e",
   "metadata": {},
   "outputs": [],
   "source": [
    "import matplotlib.pyplot as plt\n",
    "import numpy as np\n",
    "import torch\n",
    "import torch.nn as nn\n",
    "\n",
    "# torch.manual_seed(1)"
   ]
  },
  {
   "cell_type": "code",
   "execution_count": 2,
   "id": "74d0075f-385c-4314-960d-39e7ad00b23f",
   "metadata": {},
   "outputs": [
    {
     "data": {
      "text/plain": [
       "Text(0.5, 0, 'x')"
      ]
     },
     "execution_count": 2,
     "metadata": {},
     "output_type": "execute_result"
    },
    {
     "data": {
      "image/png": "[encoded data removed]",
      "text/plain": [
       "<Figure size 432x288 with 1 Axes>"
      ]
     },
     "metadata": {
      "needs_background": "light"
     },
     "output_type": "display_data"
    }
   ],
   "source": [
    "x = torch.randn(100, 1) * 10\n",
    "y = x + torch.randn(100, 1) * 3\n",
    "plt.plot(x.numpy(), y.numpy(), \"o\")\n",
    "plt.ylabel(\"y\")\n",
    "plt.xlabel(\"x\")"
   ]
  },
  {
   "cell_type": "code",
   "execution_count": 3,
   "id": "dcde550a-9915-41e8-b655-5c0fd4cca5b4",
   "metadata": {},
   "outputs": [],
   "source": [
    "class LR(nn.Module):\n",
    "    def __init__(self, input_size, output_size, learning_rate=None):\n",
    "        if learning_rate is None:\n",
    "            self.learning_rate = 1 / 100\n",
    "        super().__init__()\n",
    "        self.linear = nn.Linear(input_size, output_size)\n",
    "\n",
    "    def forward(self, x):\n",
    "        pred = self.linear(x)\n",
    "        return pred"
   ]
  },
  {
   "cell_type": "code",
   "execution_count": 4,
   "id": "5e078c5e-7786-4c33-b84d-a685d962ebc0",
   "metadata": {},
   "outputs": [],
   "source": [
    "model = LR(1, 1)"
   ]
  },
  {
   "cell_type": "code",
   "execution_count": 5,
   "id": "d782434f-d4d3-4189-8956-95068d6d7e39",
   "metadata": {},
   "outputs": [],
   "source": [
    "[w, b] = model.parameters()\n",
    "\n",
    "\n",
    "def getparams():\n",
    "    return (w[0, 0].item(), b[0].item())"
   ]
  },
  {
   "cell_type": "code",
   "execution_count": 6,
   "id": "c5c9fe9c-abfd-43eb-82da-d96f9d60121b",
   "metadata": {},
   "outputs": [],
   "source": [
    "def plot_fit(title):\n",
    "    plt.title = title\n",
    "    w1, b1 = getparams()\n",
    "    x1 = np.array([-30, 30])\n",
    "    y1 = w1 * x1 + b1\n",
    "    plt.plot(x1, y1, \"r\")\n",
    "    plt.scatter(x, y)\n",
    "    plt.show()"
   ]
  },
  {
   "cell_type": "code",
   "execution_count": 7,
   "id": "3f41de5e-a97a-40ee-9df6-6d79d75b9c25",
   "metadata": {},
   "outputs": [
    {
     "data": {
      "image/png": "[encoded data removed]",
      "text/plain": [
       "<Figure size 432x288 with 1 Axes>"
      ]
     },
     "metadata": {
      "needs_background": "light"
     },
     "output_type": "display_data"
    }
   ],
   "source": [
    "plot_fit(\"Inital Model\")"
   ]
  },
  {
   "cell_type": "code",
   "execution_count": 8,
   "id": "22753fef-6d3c-47d9-a52e-0b1ddda8ae2a",
   "metadata": {},
   "outputs": [],
   "source": [
    "criterion = nn.MSELoss()\n",
    "optimizer = torch.optim.SGD(model.parameters(), lr=0.01)"
   ]
  },
  {
   "cell_type": "code",
   "execution_count": 12,
   "id": "2237d9fc-63aa-43bc-a208-a9ef79840edf",
   "metadata": {},
   "outputs": [
    {
     "name": "stdout",
     "output_type": "stream",
     "text": [
      "epoch: 0 loss: 17.79054069519043\n",
      "epoch: 1 loss: 17.550189971923828\n",
      "epoch: 2 loss: 17.316068649291992\n",
      "epoch: 3 loss: 17.088010787963867\n",
      "epoch: 4 loss: 16.865856170654297\n",
      "epoch: 5 loss: 16.649459838867188\n",
      "epoch: 6 loss: 16.438671112060547\n",
      "epoch: 7 loss: 16.233339309692383\n",
      "epoch: 8 loss: 16.033327102661133\n",
      "epoch: 9 loss: 15.83849811553955\n",
      "epoch: 10 loss: 15.648717880249023\n",
      "epoch: 11 loss: 15.463848114013672\n",
      "epoch: 12 loss: 15.283761024475098\n",
      "epoch: 13 loss: 15.108336448669434\n",
      "epoch: 14 loss: 14.937463760375977\n",
      "epoch: 15 loss: 14.771017074584961\n",
      "epoch: 16 loss: 14.608877182006836\n",
      "epoch: 17 loss: 14.450932502746582\n",
      "epoch: 18 loss: 14.297080993652344\n",
      "epoch: 19 loss: 14.147208213806152\n",
      "epoch: 20 loss: 14.001214981079102\n",
      "epoch: 21 loss: 13.859004020690918\n",
      "epoch: 22 loss: 13.720486640930176\n",
      "epoch: 23 loss: 13.585554122924805\n",
      "epoch: 24 loss: 13.454110145568848\n",
      "epoch: 25 loss: 13.326068878173828\n",
      "epoch: 26 loss: 13.201342582702637\n",
      "epoch: 27 loss: 13.079851150512695\n",
      "epoch: 28 loss: 12.961496353149414\n",
      "epoch: 29 loss: 12.846200942993164\n",
      "epoch: 30 loss: 12.733898162841797\n",
      "epoch: 31 loss: 12.624510765075684\n",
      "epoch: 32 loss: 12.517949104309082\n",
      "epoch: 33 loss: 12.414142608642578\n",
      "epoch: 34 loss: 12.313030242919922\n",
      "epoch: 35 loss: 12.214526176452637\n",
      "epoch: 36 loss: 12.118572235107422\n",
      "epoch: 37 loss: 12.025107383728027\n",
      "epoch: 38 loss: 11.934064865112305\n",
      "epoch: 39 loss: 11.845373153686523\n",
      "epoch: 40 loss: 11.758983612060547\n",
      "epoch: 41 loss: 11.674821853637695\n",
      "epoch: 42 loss: 11.592844009399414\n",
      "epoch: 43 loss: 11.512986183166504\n",
      "epoch: 44 loss: 11.435197830200195\n",
      "epoch: 45 loss: 11.359416961669922\n",
      "epoch: 46 loss: 11.285602569580078\n",
      "epoch: 47 loss: 11.213693618774414\n",
      "epoch: 48 loss: 11.143651008605957\n",
      "epoch: 49 loss: 11.075416564941406\n",
      "epoch: 50 loss: 11.008951187133789\n",
      "epoch: 51 loss: 10.944205284118652\n",
      "epoch: 52 loss: 10.881134033203125\n",
      "epoch: 53 loss: 10.819696426391602\n",
      "epoch: 54 loss: 10.759849548339844\n",
      "epoch: 55 loss: 10.701549530029297\n",
      "epoch: 56 loss: 10.644757270812988\n",
      "epoch: 57 loss: 10.589438438415527\n",
      "epoch: 58 loss: 10.535550117492676\n",
      "epoch: 59 loss: 10.483054161071777\n",
      "epoch: 60 loss: 10.43191909790039\n",
      "epoch: 61 loss: 10.38210678100586\n",
      "epoch: 62 loss: 10.33358383178711\n",
      "epoch: 63 loss: 10.286319732666016\n",
      "epoch: 64 loss: 10.240276336669922\n",
      "epoch: 65 loss: 10.195425033569336\n",
      "epoch: 66 loss: 10.151734352111816\n",
      "epoch: 67 loss: 10.109173774719238\n",
      "epoch: 68 loss: 10.067712783813477\n",
      "epoch: 69 loss: 10.027327537536621\n",
      "epoch: 70 loss: 9.987983703613281\n",
      "epoch: 71 loss: 9.949660301208496\n",
      "epoch: 72 loss: 9.912325859069824\n",
      "epoch: 73 loss: 9.875962257385254\n",
      "epoch: 74 loss: 9.840536117553711\n",
      "epoch: 75 loss: 9.80602741241455\n",
      "epoch: 76 loss: 9.772412300109863\n",
      "epoch: 77 loss: 9.739666938781738\n",
      "epoch: 78 loss: 9.707768440246582\n",
      "epoch: 79 loss: 9.6766939163208\n",
      "epoch: 80 loss: 9.6464262008667\n",
      "epoch: 81 loss: 9.616939544677734\n",
      "epoch: 82 loss: 9.588215827941895\n",
      "epoch: 83 loss: 9.560236930847168\n",
      "epoch: 84 loss: 9.532980918884277\n",
      "epoch: 85 loss: 9.506429672241211\n",
      "epoch: 86 loss: 9.480566024780273\n",
      "epoch: 87 loss: 9.455370903015137\n",
      "epoch: 88 loss: 9.430826187133789\n",
      "epoch: 89 loss: 9.406917572021484\n",
      "epoch: 90 loss: 9.383628845214844\n",
      "epoch: 91 loss: 9.360943794250488\n",
      "epoch: 92 loss: 9.338842391967773\n",
      "epoch: 93 loss: 9.317313194274902\n",
      "epoch: 94 loss: 9.296342849731445\n",
      "epoch: 95 loss: 9.275914192199707\n",
      "epoch: 96 loss: 9.256013870239258\n",
      "epoch: 97 loss: 9.236628532409668\n",
      "epoch: 98 loss: 9.217743873596191\n",
      "epoch: 99 loss: 9.199349403381348\n"
     ]
    }
   ],
   "source": [
    "epochs = 100\n",
    "losses = []\n",
    "for i in range(epochs):\n",
    "    y_pred = model.forward(x)\n",
    "    loss = criterion(y_pred, y)\n",
    "    print(\"epoch:\", i, \"loss:\", loss.item())\n",
    "    losses.append(loss.item())\n",
    "    optimizer.zero_grad()\n",
    "    loss.backward()\n",
    "    optimizer.step()"
   ]
  },
  {
   "cell_type": "code",
   "execution_count": 13,
   "id": "16f534da-8d16-489c-8aa7-1e66b203369e",
   "metadata": {},
   "outputs": [
    {
     "data": {
      "text/plain": [
       "Text(0.5, 0, 'Epoc')"
      ]
     },
     "execution_count": 13,
     "metadata": {},
     "output_type": "execute_result"
    },
    {
     "data": {
      "image/png": "[encoded data removed]",
      "text/plain": [
       "<Figure size 432x288 with 1 Axes>"
      ]
     },
     "metadata": {
      "needs_background": "light"
     },
     "output_type": "display_data"
    }
   ],
   "source": [
    "plt.plot(range(epochs), losses)\n",
    "plt.ylabel(\"Loss\")\n",
    "plt.xlabel(\"Epoc\")"
   ]
  },
  {
   "cell_type": "code",
   "execution_count": 14,
   "id": "1dabb3af-0359-43ca-af41-f24f67f98adf",
   "metadata": {
    "tags": []
   },
   "outputs": [
    {
     "data": {
      "image/png": "[encoded data removed]",
      "text/plain": [
       "<Figure size 432x288 with 1 Axes>"
      ]
     },
     "metadata": {
      "needs_background": "light"
     },
     "output_type": "display_data"
    }
   ],
   "source": [
    "plot_fit(\"Trained Model\")"
   ]
  },
  {
   "cell_type": "code",
   "execution_count": null,
   "id": "d9f503cc-d00f-4136-bdd9-a58c1c0a104d",
   "metadata": {},
   "outputs": [],
   "source": []
  }
 ],
 "metadata": {
  "kernelspec": {
   "display_name": "Python 3 (ipykernel)",
   "language": "python",
   "name": "python3"
  },
  "language_info": {
   "codemirror_mode": {
    "name": "ipython",
    "version": 3
   },
   "file_extension": ".py",
   "mimetype": "text/x-python",
   "name": "python",
   "nbconvert_exporter": "python",
   "pygments_lexer": "ipython3",
   "version": "3.10.4"
  },
  "widgets": {
   "application/vnd.jupyter.widget-state+json": {
    "state": {},
    "version_major": 2,
    "version_minor": 0
   }
  }
 },
 "nbformat": 4,
 "nbformat_minor": 5
}
