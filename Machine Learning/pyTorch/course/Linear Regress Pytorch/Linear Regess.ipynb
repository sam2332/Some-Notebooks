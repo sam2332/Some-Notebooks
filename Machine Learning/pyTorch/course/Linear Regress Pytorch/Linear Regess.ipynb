{
 "cells": [
  {
   "cell_type": "code",
   "execution_count": 1,
   "id": "63841c59-d1e3-4c36-8e8c-d7879e7edd2e",
   "metadata": {},
   "outputs": [],
   "source": [
    "import matplotlib.pyplot as plt\n",
    "import numpy as np\n",
    "import torch\n",
    "import torch.nn as nn\n",
    "\n",
    "# torch.manual_seed(1)"
   ]
  },
  {
   "cell_type": "code",
   "execution_count": 2,
   "id": "74d0075f-385c-4314-960d-39e7ad00b23f",
   "metadata": {},
   "outputs": [
    {
     "data": {
      "text/plain": [
       "Text(0.5, 0, 'x')"
      ]
     },
     "execution_count": 2,
     "metadata": {},
     "output_type": "execute_result"
    },
    {
     "data": {
      "image/png": "[encoded data removed]",
      "text/plain": [
       "<Figure size 432x288 with 1 Axes>"
      ]
     },
     "metadata": {
      "needs_background": "light"
     },
     "output_type": "display_data"
    }
   ],
   "source": [
    "x = torch.randn(100, 1) * 10\n",
    "y = x + torch.randn(100, 1) * 3\n",
    "plt.plot(x.numpy(), y.numpy(), \"o\")\n",
    "plt.ylabel(\"y\")\n",
    "plt.xlabel(\"x\")"
   ]
  },
  {
   "cell_type": "code",
   "execution_count": 3,
   "id": "dcde550a-9915-41e8-b655-5c0fd4cca5b4",
   "metadata": {},
   "outputs": [],
   "source": [
    "class LR(nn.Module):\n",
    "    def __init__(self, input_size, output_size, learning_rate=None):\n",
    "        if learning_rate is None:\n",
    "            self.learning_rate = 1 / 100\n",
    "        super().__init__()\n",
    "        self.linear = nn.Linear(input_size, output_size)\n",
    "\n",
    "    def forward(self, x):\n",
    "        pred = self.linear(x)\n",
    "        return pred"
   ]
  },
  {
   "cell_type": "code",
   "execution_count": 4,
   "id": "5e078c5e-7786-4c33-b84d-a685d962ebc0",
   "metadata": {},
   "outputs": [],
   "source": [
    "model = LR(1, 1)"
   ]
  },
  {
   "cell_type": "code",
   "execution_count": 5,
   "id": "d782434f-d4d3-4189-8956-95068d6d7e39",
   "metadata": {},
   "outputs": [],
   "source": [
    "[w, b] = model.parameters()\n",
    "\n",
    "\n",
    "def getparams():\n",
    "    return (w[0, 0].item(), b[0].item())"
   ]
  },
  {
   "cell_type": "code",
   "execution_count": 6,
   "id": "c5c9fe9c-abfd-43eb-82da-d96f9d60121b",
   "metadata": {},
   "outputs": [],
   "source": [
    "def plot_fit(title):\n",
    "    plt.title = title\n",
    "    w1, b1 = getparams()\n",
    "    x1 = np.array([-30, 30])\n",
    "    y1 = w1 * x1 + b1\n",
    "    plt.plot(x1, y1, \"r\")\n",
    "    plt.scatter(x, y)\n",
    "    plt.show()"
   ]
  },
  {
   "cell_type": "code",
   "execution_count": 7,
   "id": "3f41de5e-a97a-40ee-9df6-6d79d75b9c25",
   "metadata": {},
   "outputs": [
    {
     "data": {
      "image/png": "[encoded data removed]",
      "text/plain": [
       "<Figure size 432x288 with 1 Axes>"
      ]
     },
     "metadata": {
      "needs_background": "light"
     },
     "output_type": "display_data"
    }
   ],
   "source": [
    "plot_fit(\"Inital Model\")"
   ]
  },
  {
   "cell_type": "code",
   "execution_count": 8,
   "id": "22753fef-6d3c-47d9-a52e-0b1ddda8ae2a",
   "metadata": {},
   "outputs": [],
   "source": [
    "criterion = nn.MSELoss()\n",
    "optimizer = torch.optim.SGD(model.parameters(), lr=0.01)"
   ]
  },
  {
   "cell_type": "code",
   "execution_count": 9,
   "id": "2237d9fc-63aa-43bc-a208-a9ef79840edf",
   "metadata": {},
   "outputs": [
    {
     "name": "stdout",
     "output_type": "stream",
     "text": [
      "epoch: 0 loss: 280.8083190917969\n",
      "epoch: 1 loss: 182.24990844726562\n",
      "epoch: 2 loss: 119.31604766845703\n",
      "epoch: 3 loss: 79.13015747070312\n",
      "epoch: 4 loss: 53.469783782958984\n",
      "epoch: 5 loss: 37.08457946777344\n",
      "epoch: 6 loss: 26.62189483642578\n",
      "epoch: 7 loss: 19.941024780273438\n",
      "epoch: 8 loss: 15.675021171569824\n",
      "epoch: 9 loss: 12.950987815856934\n",
      "epoch: 10 loss: 11.211566925048828\n",
      "epoch: 11 loss: 10.100863456726074\n",
      "epoch: 12 loss: 9.391618728637695\n",
      "epoch: 13 loss: 8.93872356414795\n",
      "epoch: 14 loss: 8.649521827697754\n",
      "epoch: 15 loss: 8.464842796325684\n",
      "epoch: 16 loss: 8.346909523010254\n",
      "epoch: 17 loss: 8.271594047546387\n",
      "epoch: 18 loss: 8.223491668701172\n",
      "epoch: 19 loss: 8.192768096923828\n",
      "epoch: 20 loss: 8.173142433166504\n",
      "epoch: 21 loss: 8.160601615905762\n",
      "epoch: 22 loss: 8.152586936950684\n",
      "epoch: 23 loss: 8.1474609375\n",
      "epoch: 24 loss: 8.144181251525879\n",
      "epoch: 25 loss: 8.142078399658203\n",
      "epoch: 26 loss: 8.140730857849121\n",
      "epoch: 27 loss: 8.139864921569824\n",
      "epoch: 28 loss: 8.139303207397461\n",
      "epoch: 29 loss: 8.138940811157227\n",
      "epoch: 30 loss: 8.138703346252441\n",
      "epoch: 31 loss: 8.138545036315918\n",
      "epoch: 32 loss: 8.138440132141113\n",
      "epoch: 33 loss: 8.138367652893066\n",
      "epoch: 34 loss: 8.138317108154297\n",
      "epoch: 35 loss: 8.13827896118164\n",
      "epoch: 36 loss: 8.138252258300781\n",
      "epoch: 37 loss: 8.138229370117188\n",
      "epoch: 38 loss: 8.138211250305176\n",
      "epoch: 39 loss: 8.138195991516113\n",
      "epoch: 40 loss: 8.138182640075684\n",
      "epoch: 41 loss: 8.13817024230957\n",
      "epoch: 42 loss: 8.138157844543457\n",
      "epoch: 43 loss: 8.138147354125977\n",
      "epoch: 44 loss: 8.138137817382812\n",
      "epoch: 45 loss: 8.138128280639648\n",
      "epoch: 46 loss: 8.1381196975708\n",
      "epoch: 47 loss: 8.138111114501953\n",
      "epoch: 48 loss: 8.138103485107422\n",
      "epoch: 49 loss: 8.13809585571289\n",
      "epoch: 50 loss: 8.13808822631836\n",
      "epoch: 51 loss: 8.138080596923828\n",
      "epoch: 52 loss: 8.138073921203613\n",
      "epoch: 53 loss: 8.138066291809082\n",
      "epoch: 54 loss: 8.138060569763184\n",
      "epoch: 55 loss: 8.138054847717285\n",
      "epoch: 56 loss: 8.13804817199707\n",
      "epoch: 57 loss: 8.138043403625488\n",
      "epoch: 58 loss: 8.13803768157959\n",
      "epoch: 59 loss: 8.138031959533691\n",
      "epoch: 60 loss: 8.138028144836426\n",
      "epoch: 61 loss: 8.138022422790527\n",
      "epoch: 62 loss: 8.138018608093262\n",
      "epoch: 63 loss: 8.13801383972168\n",
      "epoch: 64 loss: 8.138009071350098\n",
      "epoch: 65 loss: 8.138005256652832\n",
      "epoch: 66 loss: 8.138001441955566\n",
      "epoch: 67 loss: 8.1379976272583\n",
      "epoch: 68 loss: 8.137993812561035\n",
      "epoch: 69 loss: 8.137990951538086\n",
      "epoch: 70 loss: 8.137988090515137\n",
      "epoch: 71 loss: 8.137984275817871\n",
      "epoch: 72 loss: 8.137981414794922\n",
      "epoch: 73 loss: 8.137978553771973\n",
      "epoch: 74 loss: 8.137975692749023\n",
      "epoch: 75 loss: 8.137972831726074\n",
      "epoch: 76 loss: 8.137969970703125\n",
      "epoch: 77 loss: 8.137967109680176\n",
      "epoch: 78 loss: 8.137965202331543\n",
      "epoch: 79 loss: 8.137962341308594\n",
      "epoch: 80 loss: 8.137960433959961\n",
      "epoch: 81 loss: 8.137958526611328\n",
      "epoch: 82 loss: 8.137955665588379\n",
      "epoch: 83 loss: 8.137954711914062\n",
      "epoch: 84 loss: 8.13795280456543\n",
      "epoch: 85 loss: 8.137950897216797\n",
      "epoch: 86 loss: 8.137948989868164\n",
      "epoch: 87 loss: 8.137947082519531\n",
      "epoch: 88 loss: 8.137945175170898\n",
      "epoch: 89 loss: 8.137944221496582\n",
      "epoch: 90 loss: 8.13794231414795\n",
      "epoch: 91 loss: 8.137941360473633\n",
      "epoch: 92 loss: 8.137940406799316\n",
      "epoch: 93 loss: 8.137938499450684\n",
      "epoch: 94 loss: 8.13793659210205\n",
      "epoch: 95 loss: 8.137935638427734\n",
      "epoch: 96 loss: 8.137934684753418\n",
      "epoch: 97 loss: 8.137933731079102\n",
      "epoch: 98 loss: 8.137931823730469\n",
      "epoch: 99 loss: 8.137931823730469\n"
     ]
    }
   ],
   "source": [
    "epochs = 100\n",
    "losses = []\n",
    "for i in range(epochs):\n",
    "    y_pred = model.forward(x)\n",
    "    loss = criterion(y_pred, y)\n",
    "    print(\"epoch:\", i, \"loss:\", loss.item())\n",
    "    losses.append(loss.item())\n",
    "    optimizer.zero_grad()\n",
    "    loss.backward()\n",
    "    optimizer.step()"
   ]
  },
  {
   "cell_type": "code",
   "execution_count": 10,
   "id": "16f534da-8d16-489c-8aa7-1e66b203369e",
   "metadata": {},
   "outputs": [
    {
     "data": {
      "text/plain": [
       "Text(0.5, 0, 'Epoc')"
      ]
     },
     "execution_count": 10,
     "metadata": {},
     "output_type": "execute_result"
    },
    {
     "data": {
      "image/png": "[encoded data removed]",
      "text/plain": [
       "<Figure size 432x288 with 1 Axes>"
      ]
     },
     "metadata": {
      "needs_background": "light"
     },
     "output_type": "display_data"
    }
   ],
   "source": [
    "plt.plot(range(epochs), losses)\n",
    "plt.ylabel(\"Loss\")\n",
    "plt.xlabel(\"Epoc\")"
   ]
  },
  {
   "cell_type": "code",
   "execution_count": 11,
   "id": "1dabb3af-0359-43ca-af41-f24f67f98adf",
   "metadata": {
    "tags": []
   },
   "outputs": [
    {
     "data": {
      "image/png": "[encoded data removed]",
      "text/plain": [
       "<Figure size 432x288 with 1 Axes>"
      ]
     },
     "metadata": {
      "needs_background": "light"
     },
     "output_type": "display_data"
    }
   ],
   "source": [
    "plot_fit(\"Trained Model\")"
   ]
  }
 ],
 "metadata": {
  "kernelspec": {
   "display_name": "Python 3 (ipykernel)",
   "language": "python",
   "name": "python3"
  },
  "language_info": {
   "codemirror_mode": {
    "name": "ipython",
    "version": 3
   },
   "file_extension": ".py",
   "mimetype": "text/x-python",
   "name": "python",
   "nbconvert_exporter": "python",
   "pygments_lexer": "ipython3",
   "version": "3.10.4"
  },
  "widgets": {
   "application/vnd.jupyter.widget-state+json": {
    "state": {},
    "version_major": 2,
    "version_minor": 0
   }
  }
 },
 "nbformat": 4,
 "nbformat_minor": 5
}
