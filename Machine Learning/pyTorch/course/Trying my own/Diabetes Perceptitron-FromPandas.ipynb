{
 "cells": [
  {
   "cell_type": "code",
   "execution_count": null,
   "id": "9a4e9641-81e7-446d-9dcb-e0c013984c4e",
   "metadata": {},
   "outputs": [],
   "source": [
    "import csv\n",
    "\n",
    "import matplotlib.pyplot as plt\n",
    "import numpy as np\n",
    "import torch\n",
    "import torch.nn as nn\n",
    "from sklearn import datasets\n",
    "\n",
    "torch.manual_seed(3)"
   ]
  },
  {
   "cell_type": "code",
   "execution_count": null,
   "id": "28a6572c-fee6-4d21-867f-7eee0830dae3",
   "metadata": {},
   "outputs": [],
   "source": [
    "X = []\n",
    "y = []\n",
    "with open(\n",
    "    \"../../data/Dataset for People for their Blood Glucose Level with their Superficial body feature readings.csv\",\n",
    "    newline=\"\",\n",
    ") as csvfile:\n",
    "    reader = csv.DictReader(csvfile)\n",
    "    for row in reader:\n",
    "        X.append(np.array([float(row[\"Age\"]), float(row[\"Blood Glucose Level(BGL)\"])]))\n",
    "        y.append(\n",
    "            np.intc(\n",
    "                1 if row[\"Diabetic/NonDiabetic (D/N)\"].strip().upper() == \"D\" else 0\n",
    "            )\n",
    "        )\n",
    "X = np.array(X)\n",
    "y = np.array(y)\n",
    "\n",
    "x_data = torch.Tensor(X)\n",
    "y_data = torch.Tensor(y.reshape(16969, 1))"
   ]
  },
  {
   "cell_type": "code",
   "execution_count": 28,
   "id": "054ae1a3-8541-4166-9760-452786e6ca9c",
   "metadata": {},
   "outputs": [
    {
     "name": "stdout",
     "output_type": "stream",
     "text": [
      "{'Pregnancies': '6', 'Glucose': '148', 'BloodPressure': '72', 'SkinThickness': '35', 'Insulin': '0', 'BMI': '33.6', 'DiabetesPedigreeFunction': '0.627', 'Age': '50', 'Outcome': '1'}\n"
     ]
    }
   ],
   "source": [
    "f = True\n",
    "X = []\n",
    "y = []\n",
    "with open(\n",
    "    \"../../data/diabetes1.csv\",\n",
    "    newline=\"\",\n",
    ") as csvfile:\n",
    "    reader = csv.DictReader(csvfile)\n",
    "    for row in reader:\n",
    "        if f:\n",
    "            print(row)\n",
    "            f = False\n",
    "        X.append(np.array([float(row[\"Age\"]), float(row[\"Glucose\"])]))\n",
    "        y.append(np.intc(1 if row[\"Outcome\"].strip().upper() == \"1\" else 0))\n",
    "X = np.array(X)\n",
    "y = np.array(y)\n",
    "\n",
    "x_data = torch.Tensor(X)\n",
    "y_data = torch.Tensor(y.reshape(len(X), 1))"
   ]
  },
  {
   "cell_type": "code",
   "execution_count": null,
   "id": "87bb7cff-e552-47bd-a56a-c618fd1463dc",
   "metadata": {},
   "outputs": [],
   "source": []
  },
  {
   "cell_type": "code",
   "execution_count": null,
   "id": "c59e2b4e-29d9-45d2-b111-c04401942bae",
   "metadata": {},
   "outputs": [],
   "source": []
  },
  {
   "cell_type": "code",
   "execution_count": null,
   "id": "6dc00be1-62e4-4446-8fee-5e8866f26035",
   "metadata": {},
   "outputs": [],
   "source": [
    "plt.xlabel(\"Age\")\n",
    "plt.ylabel(\"BGL\")\n",
    "plt.scatter(X[y == 1, 0], X[y == 1, 1])\n",
    "plt.scatter(X[y == 0, 0], X[y == 0, 1])"
   ]
  },
  {
   "cell_type": "code",
   "execution_count": null,
   "id": "7893ee94-0085-4c5f-aeb6-f543d7120148",
   "metadata": {},
   "outputs": [],
   "source": [
    "class Model(nn.Module):\n",
    "    def __init__(self, input_size, output_size):\n",
    "        super().__init__()\n",
    "        self.linear = nn.Linear(input_size, output_size)\n",
    "\n",
    "    def forward(self, x):\n",
    "        pred = torch.sigmoid(self.linear(x))\n",
    "        return pred\n",
    "\n",
    "    def predict(self, x):\n",
    "        pred = self.forward(x)\n",
    "        if pred >= 0.5:\n",
    "            return 1\n",
    "        else:\n",
    "            return 0"
   ]
  },
  {
   "cell_type": "code",
   "execution_count": null,
   "id": "0bbfa12d-d4a0-4b5b-aeb1-6a9dc38346cb",
   "metadata": {},
   "outputs": [],
   "source": [
    "model = Model(2, 1)\n",
    "print(list(model.parameters()))"
   ]
  },
  {
   "cell_type": "code",
   "execution_count": null,
   "id": "10fbb565-1e75-48bc-b007-9d8c286286c3",
   "metadata": {},
   "outputs": [],
   "source": [
    "[w, b] = model.parameters()\n",
    "w1, w2 = w.view(2)\n",
    "\n",
    "\n",
    "def getparams():\n",
    "    return (w1.item(), w2.item(), b[0].item())"
   ]
  },
  {
   "cell_type": "code",
   "execution_count": null,
   "id": "9466f39f-1e57-40fd-ab88-1d00987b90ce",
   "metadata": {},
   "outputs": [],
   "source": [
    "def scatterplot():\n",
    "    plt.scatter(X[y == 1, 0], X[y == 1, 1])\n",
    "    plt.scatter(X[y == 0, 0], X[y == 0, 1])"
   ]
  },
  {
   "cell_type": "code",
   "execution_count": null,
   "id": "cc71cbc2-2c7c-4cc9-ba9b-66bc245de909",
   "metadata": {},
   "outputs": [],
   "source": [
    "plt.scatter(X[y == 0, 0], X[y == 0, 1])"
   ]
  },
  {
   "cell_type": "code",
   "execution_count": null,
   "id": "6242a89c-92f0-46e7-8660-7386608c128c",
   "metadata": {},
   "outputs": [],
   "source": [
    "plt.scatter(X[y == 1, 0], X[y == 1, 1])"
   ]
  },
  {
   "cell_type": "code",
   "execution_count": null,
   "id": "99516396-1d4f-4ce6-aadf-0e62bde82a92",
   "metadata": {},
   "outputs": [],
   "source": [
    "def plot_fit(title):\n",
    "    plt.title = title\n",
    "    w1, w2, b1 = getparams()\n",
    "    x1 = np.array([-2.0, 2.0])\n",
    "    x2 = (w1 * x1 + b1) / -w2\n",
    "    plt.plot(x1, x2, \"r\")\n",
    "    scatterplot()"
   ]
  },
  {
   "cell_type": "code",
   "execution_count": null,
   "id": "b1b6064d-81df-4d7f-a01d-441f289dda23",
   "metadata": {},
   "outputs": [],
   "source": [
    "plot_fit(\"Inital Model\")"
   ]
  },
  {
   "cell_type": "code",
   "execution_count": null,
   "id": "9de2ff8d-6a82-4cf9-b51d-704a44867099",
   "metadata": {},
   "outputs": [],
   "source": [
    "criterion = nn.BCELoss()\n",
    "optimizer = torch.optim.SGD(model.parameters(), lr=0.1)"
   ]
  },
  {
   "cell_type": "code",
   "execution_count": null,
   "id": "29831b3a-ba74-4508-9c88-7eda4e0678b7",
   "metadata": {},
   "outputs": [],
   "source": [
    "epochs = 1000000\n",
    "losses = []\n",
    "for i in range(epochs):\n",
    "    y_pred = model.forward(x_data)\n",
    "\n",
    "    loss = criterion(y_pred, y_data)\n",
    "    if i % 100 == 0:\n",
    "        print(\"epoch:\", i, \"loss:\", loss.item())\n",
    "    losses.append(loss.item())\n",
    "    optimizer.zero_grad()\n",
    "    loss.backward()\n",
    "    optimizer.step()\n",
    "\n",
    "plt.plot(range(epochs), losses)\n",
    "plt.ylabel(\"Loss\")\n",
    "plt.xlabel(\"Epoc\")\n",
    "print(\"Loss over time\")"
   ]
  },
  {
   "cell_type": "code",
   "execution_count": null,
   "id": "5a474675-ba52-4546-b249-066ce4144d7e",
   "metadata": {},
   "outputs": [],
   "source": [
    "plot_fit(\"Trained Model\")"
   ]
  },
  {
   "cell_type": "code",
   "execution_count": null,
   "id": "48437cdd-2114-4f7c-ac1a-9359dc1a5136",
   "metadata": {},
   "outputs": [],
   "source": [
    "point1 = torch.Tensor([1.0, -1.0])\n",
    "plt.plot(point1.numpy()[0], point1.numpy()[1], \"ro\")\n",
    "plot_fit(\"prediction\")\n",
    "print(f\"red pp {model.forward(point1)}\")\n",
    "print(f\"red predict class {model.predict(point1)}\")"
   ]
  },
  {
   "cell_type": "code",
   "execution_count": null,
   "id": "078b0533-308a-477f-ad96-b1b1426b4ce2",
   "metadata": {},
   "outputs": [],
   "source": [
    "point2 = torch.Tensor([-1.0, 1.0])\n",
    "plt.plot(point2.numpy()[0], point2.numpy()[1], \"ko\")\n",
    "print(f\"black np {model.forward(point2)}\")\n",
    "print(f\"black predict class {model.predict(point2)}\")\n",
    "plot_fit(\"prediction\")"
   ]
  },
  {
   "cell_type": "code",
   "execution_count": null,
   "id": "0fbffd76-9a39-43ce-a25a-3029de108889",
   "metadata": {},
   "outputs": [],
   "source": []
  }
 ],
 "metadata": {
  "kernelspec": {
   "display_name": "Python 3 (ipykernel)",
   "language": "python",
   "name": "python3"
  },
  "language_info": {
   "codemirror_mode": {
    "name": "ipython",
    "version": 3
   },
   "file_extension": ".py",
   "mimetype": "text/x-python",
   "name": "python",
   "nbconvert_exporter": "python",
   "pygments_lexer": "ipython3",
   "version": "3.10.4"
  },
  "widgets": {
   "application/vnd.jupyter.widget-state+json": {
    "state": {},
    "version_major": 2,
    "version_minor": 0
   }
  }
 },
 "nbformat": 4,
 "nbformat_minor": 5
}
