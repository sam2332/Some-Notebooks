{
 "cells": [
  {
   "cell_type": "code",
   "execution_count": 3,
   "id": "6bb7f99f-d2d5-4b06-a7c2-835a93cfba64",
   "metadata": {},
   "outputs": [
    {
     "data": {
      "text/plain": [
       "<torch._C.Generator at 0x7fa89af49430>"
      ]
     },
     "execution_count": 3,
     "metadata": {},
     "output_type": "execute_result"
    }
   ],
   "source": [
    "import csv\n",
    "\n",
    "import matplotlib.pyplot as plt\n",
    "import numpy as np\n",
    "import torch\n",
    "import torch.nn as nn\n",
    "from sklearn import datasets\n",
    "from tqdm.notebook import tqdm\n",
    "\n",
    "torch.manual_seed(32)"
   ]
  },
  {
   "cell_type": "code",
   "execution_count": 4,
   "id": "a415d6d9-5c2b-4cc3-a502-2d3f04873d28",
   "metadata": {},
   "outputs": [
    {
     "name": "stdout",
     "output_type": "stream",
     "text": [
      "{'Pregnancies': '6', 'Glucose': '148', 'BloodPressure': '72', 'SkinThickness': '35', 'Insulin': '0', 'BMI': '33.6', 'DiabetesPedigreeFunction': '0.627', 'Age': '50', 'Outcome': '1'}\n"
     ]
    }
   ],
   "source": [
    "f = True\n",
    "X = []\n",
    "y = []\n",
    "with open(\n",
    "    \"../../data/diabetes1.csv\",\n",
    "    newline=\"\",\n",
    ") as csvfile:\n",
    "    reader = csv.DictReader(csvfile)\n",
    "    for row in reader:\n",
    "        if f:\n",
    "            print(row)\n",
    "            f = False\n",
    "        X.append(np.array([float(row[\"Age\"]), float(row[\"Glucose\"])]))\n",
    "        y.append(np.intc(1 if row[\"Outcome\"].strip().upper() == \"1\" else 0))\n",
    "X = np.array(X)\n",
    "y = np.array(y)\n",
    "\n",
    "x_data = torch.Tensor(X)\n",
    "y_data = torch.Tensor(y.reshape(len(X), 1))"
   ]
  },
  {
   "cell_type": "code",
   "execution_count": 5,
   "id": "6dc00be1-62e4-4446-8fee-5e8866f26035",
   "metadata": {},
   "outputs": [
    {
     "data": {
      "text/plain": [
       "<matplotlib.collections.PathCollection at 0x7fa8535f1c00>"
      ]
     },
     "execution_count": 5,
     "metadata": {},
     "output_type": "execute_result"
    },
    {
     "data": {
      "image/png": "[encoded data removed]",
      "text/plain": [
       "<Figure size 432x288 with 1 Axes>"
      ]
     },
     "metadata": {
      "needs_background": "light"
     },
     "output_type": "display_data"
    }
   ],
   "source": [
    "plt.scatter(X[y == 0, 0], X[y == 0, 1])\n",
    "plt.scatter(X[y == 1, 0], X[y == 1, 1])"
   ]
  },
  {
   "cell_type": "code",
   "execution_count": 71,
   "id": "7893ee94-0085-4c5f-aeb6-f543d7120148",
   "metadata": {},
   "outputs": [],
   "source": [
    "class Model(nn.Module):\n",
    "    def __init__(self, input_size, layers, output_size):\n",
    "        super().__init__()\n",
    "        self.layers = []\n",
    "        first = True\n",
    "        for node_size in layers:\n",
    "            if first:\n",
    "                item = nn.Linear(input_size, layers[0])\n",
    "                setattr(self, str(hash(item)), item)\n",
    "                self.layers.append(item)\n",
    "                previous_node_size = layers[0]\n",
    "                first = False\n",
    "                continue\n",
    "            else:\n",
    "                item = nn.Linear(previous_node_size, node_size)\n",
    "                setattr(self, str(hash(item)), item)\n",
    "                self.layers.append(item)\n",
    "            previous_node_size = node_size\n",
    "        item = nn.Linear(previous_node_size, output_size)\n",
    "        setattr(self, str(hash(item)), item)\n",
    "        self.layers.append(item)\n",
    "\n",
    "    def forward(self, x):\n",
    "        for layer in self.layers:\n",
    "            x = torch.sigmoid(layer(x))\n",
    "        return x\n",
    "\n",
    "    def predict(self, x):\n",
    "        pred = self.forward(x)\n",
    "        if pred >= 0.5:\n",
    "            return 1\n",
    "        else:\n",
    "            return 0"
   ]
  },
  {
   "cell_type": "code",
   "execution_count": 191,
   "id": "d455b7f5-9c5f-482d-9e03-caad2c57a6d0",
   "metadata": {},
   "outputs": [
    {
     "name": "stdout",
     "output_type": "stream",
     "text": [
      "[Parameter containing:\n",
      "tensor([[-0.0214, -0.3043],\n",
      "        [-0.5744, -0.2134],\n",
      "        [ 0.0110,  0.0784],\n",
      "        [-0.6067,  0.2122],\n",
      "        [-0.4422,  0.2120],\n",
      "        [ 0.1795,  0.2422],\n",
      "        [ 0.1990, -0.2011],\n",
      "        [-0.6642, -0.3482],\n",
      "        [ 0.1303,  0.2032],\n",
      "        [-0.0319,  0.5276],\n",
      "        [-0.0940, -0.0461],\n",
      "        [ 0.6513,  0.6095],\n",
      "        [-0.4859,  0.3198],\n",
      "        [-0.0041, -0.2875],\n",
      "        [-0.2104,  0.6729],\n",
      "        [-0.5594, -0.6006],\n",
      "        [ 0.1342,  0.4850],\n",
      "        [ 0.2093, -0.3364],\n",
      "        [ 0.2728, -0.4114],\n",
      "        [ 0.4297, -0.0297]], requires_grad=True), Parameter containing:\n",
      "tensor([ 0.1607, -0.3613, -0.4443, -0.0506,  0.3912, -0.5235,  0.6874,  0.3650,\n",
      "         0.5366, -0.4994,  0.5018, -0.2186, -0.0169, -0.1068,  0.4817, -0.4234,\n",
      "         0.5416, -0.2952, -0.2237,  0.1613], requires_grad=True), Parameter containing:\n",
      "tensor([[-0.0275,  0.0082,  0.0624, -0.2181, -0.1425, -0.2135,  0.1131,  0.1006,\n",
      "          0.1773,  0.0092, -0.2089,  0.0518,  0.0996, -0.0050,  0.0622,  0.1416,\n",
      "          0.1722, -0.0474, -0.1818, -0.1717],\n",
      "        [ 0.0710, -0.1992, -0.0005,  0.1325, -0.0326,  0.1732, -0.0990, -0.0723,\n",
      "         -0.0437,  0.2072, -0.0376,  0.0096,  0.0599,  0.0771,  0.1535,  0.0263,\n",
      "          0.2057, -0.0863, -0.1703,  0.0888],\n",
      "        [-0.0869, -0.2219, -0.0409,  0.0065,  0.0962, -0.0780,  0.1716, -0.1429,\n",
      "         -0.2058,  0.0199, -0.1518, -0.1595, -0.1305, -0.1656, -0.1330,  0.0892,\n",
      "          0.2008, -0.1296,  0.2179,  0.1161],\n",
      "        [-0.2232, -0.0770,  0.1868, -0.0258,  0.1494,  0.1479, -0.2231,  0.1631,\n",
      "          0.1142,  0.0521,  0.1136, -0.0785, -0.0158,  0.0188,  0.0753,  0.1455,\n",
      "          0.2011, -0.1721, -0.0383, -0.0930],\n",
      "        [ 0.0819,  0.0713, -0.1026,  0.1328, -0.0546,  0.0564,  0.1101,  0.1833,\n",
      "         -0.0012,  0.0008, -0.0748, -0.1967,  0.1227,  0.0743,  0.0452,  0.0552,\n",
      "          0.1539,  0.0928,  0.1024,  0.0164],\n",
      "        [ 0.0324, -0.1926,  0.1175,  0.1847,  0.2121,  0.0587,  0.1032,  0.1176,\n",
      "         -0.0260,  0.1771,  0.1216, -0.0970,  0.0377, -0.0950,  0.0032, -0.2004,\n",
      "          0.0259, -0.0275,  0.1618,  0.1264],\n",
      "        [-0.0325,  0.1890,  0.1539,  0.1189, -0.1476,  0.0843,  0.2008,  0.1028,\n",
      "         -0.0558, -0.1280,  0.1990,  0.1352,  0.1391, -0.1692, -0.1797, -0.0088,\n",
      "         -0.1595, -0.0763, -0.0188, -0.1079],\n",
      "        [ 0.1812,  0.0130,  0.0313,  0.0017,  0.0238, -0.0037,  0.0803,  0.0679,\n",
      "          0.1350,  0.0138, -0.0849, -0.1911, -0.1366,  0.0434,  0.0655, -0.0828,\n",
      "         -0.0881, -0.2121,  0.2018, -0.2007],\n",
      "        [-0.1830,  0.0873,  0.0115,  0.0558,  0.0498, -0.0218, -0.0560, -0.0121,\n",
      "         -0.0415,  0.0529, -0.0077,  0.0814, -0.0432, -0.2200, -0.1666, -0.1448,\n",
      "          0.1638,  0.0040,  0.0616, -0.1372],\n",
      "        [-0.0410, -0.1986, -0.1025, -0.0278,  0.0703, -0.0512, -0.1224, -0.2084,\n",
      "         -0.0424, -0.1858,  0.0550, -0.1677,  0.1141, -0.2057,  0.1157, -0.1561,\n",
      "         -0.1047,  0.0970,  0.0682, -0.0485],\n",
      "        [ 0.0939,  0.0932, -0.2152,  0.1128, -0.1383, -0.1242,  0.1945,  0.1199,\n",
      "          0.0652,  0.1155,  0.1331, -0.0071, -0.0644,  0.2027,  0.0622, -0.1306,\n",
      "          0.0068,  0.2171, -0.1748,  0.0832],\n",
      "        [ 0.0876,  0.0462, -0.1957, -0.1934,  0.1219,  0.1646,  0.1015,  0.0689,\n",
      "         -0.0113, -0.1337, -0.0362, -0.0387, -0.1571,  0.0513, -0.0263,  0.2114,\n",
      "          0.1222,  0.0407, -0.2168, -0.1506],\n",
      "        [ 0.0292,  0.0251, -0.0051,  0.0819, -0.0146,  0.0876, -0.1415, -0.1151,\n",
      "          0.0061,  0.1461,  0.1138, -0.1923, -0.1636, -0.2093,  0.1786,  0.1021,\n",
      "         -0.1455, -0.1339, -0.1130,  0.1806],\n",
      "        [-0.0651, -0.0957, -0.0509,  0.1099, -0.0680,  0.2194, -0.0058,  0.1451,\n",
      "          0.2167,  0.2188, -0.2180, -0.1547,  0.2187, -0.1396, -0.2127, -0.0510,\n",
      "          0.1550, -0.0041,  0.0440, -0.0738],\n",
      "        [ 0.1300, -0.1274,  0.1607,  0.1522,  0.0644, -0.0536, -0.1116, -0.1576,\n",
      "         -0.1067,  0.2137, -0.0108, -0.0549, -0.0164,  0.2130,  0.1284, -0.1604,\n",
      "         -0.0009,  0.1970, -0.1047, -0.0128],\n",
      "        [-0.0312,  0.2136,  0.1951,  0.1453,  0.0949,  0.1796, -0.1525, -0.1458,\n",
      "         -0.2210,  0.0006, -0.1200, -0.0339, -0.0130,  0.0988,  0.0642,  0.0731,\n",
      "         -0.0769, -0.1830,  0.1468,  0.0032],\n",
      "        [-0.2103, -0.1148,  0.0143, -0.1350, -0.0999,  0.0952, -0.0117, -0.1440,\n",
      "          0.0441, -0.0204, -0.1373,  0.1336,  0.0956,  0.1988, -0.2103, -0.1185,\n",
      "         -0.0546,  0.0309,  0.0638, -0.0564],\n",
      "        [-0.1288, -0.1879, -0.0192, -0.1019, -0.0150,  0.0403, -0.0203, -0.1788,\n",
      "         -0.1598,  0.1982,  0.1092,  0.0519,  0.0414,  0.0311, -0.1302, -0.1867,\n",
      "          0.1050,  0.0316,  0.2040, -0.1440],\n",
      "        [-0.0006,  0.0226, -0.0149, -0.1067,  0.1000, -0.0103,  0.0759, -0.0760,\n",
      "          0.2053, -0.0309,  0.1782, -0.0589,  0.0134, -0.0393,  0.1368, -0.0568,\n",
      "         -0.1611, -0.0233,  0.1967,  0.1817],\n",
      "        [ 0.1501,  0.0974, -0.2133,  0.1167,  0.0427,  0.0804,  0.1148,  0.1229,\n",
      "          0.1840, -0.1766,  0.0835,  0.1757, -0.0495, -0.0652, -0.0026,  0.1284,\n",
      "         -0.1570, -0.0899,  0.1926, -0.0509]], requires_grad=True), Parameter containing:\n",
      "tensor([ 0.0338,  0.0120, -0.1259, -0.2144, -0.0772,  0.0375, -0.1846,  0.0297,\n",
      "         0.0068,  0.0087,  0.0875,  0.1352, -0.0778,  0.0283, -0.1084, -0.2164,\n",
      "         0.1847, -0.1328,  0.0885, -0.0168], requires_grad=True), Parameter containing:\n",
      "tensor([[-0.1298, -0.0811,  0.0304, -0.0321, -0.0527, -0.0555,  0.0317, -0.0369,\n",
      "          0.0760, -0.0521,  0.1910, -0.0226,  0.1539,  0.1484, -0.0052,  0.0674,\n",
      "          0.0933, -0.1010, -0.1784, -0.2062],\n",
      "        [ 0.1035, -0.1646,  0.1649, -0.0777, -0.1864,  0.0447, -0.1750,  0.0789,\n",
      "          0.1897, -0.1519, -0.0561,  0.0101,  0.0412,  0.0159,  0.2236, -0.1393,\n",
      "          0.0353, -0.0532,  0.2038,  0.1624],\n",
      "        [ 0.1846, -0.1707,  0.1784, -0.1421, -0.2022,  0.0586,  0.0667,  0.1265,\n",
      "         -0.1640, -0.2026,  0.1942, -0.1388, -0.0726,  0.1068,  0.2008, -0.0131,\n",
      "         -0.0749, -0.2089, -0.1494,  0.1130],\n",
      "        [-0.1035,  0.1145,  0.0308, -0.0040,  0.1855, -0.0861,  0.0043,  0.0626,\n",
      "         -0.0688, -0.0429, -0.1325,  0.2118,  0.2125,  0.1163,  0.0658, -0.1115,\n",
      "          0.0841,  0.0790,  0.0949, -0.2014],\n",
      "        [-0.2031, -0.1346, -0.1181, -0.1646, -0.1217, -0.1111, -0.1192,  0.1916,\n",
      "          0.0091,  0.0191,  0.1306, -0.0543,  0.1573,  0.1033,  0.1526,  0.0224,\n",
      "          0.1305,  0.2123,  0.1385, -0.1450],\n",
      "        [-0.0770, -0.0107, -0.1709,  0.0348,  0.1043, -0.1367,  0.0254,  0.1780,\n",
      "          0.0715, -0.0080, -0.0240, -0.0373, -0.0081, -0.0469, -0.0397,  0.1148,\n",
      "          0.1090,  0.0211, -0.1924,  0.2030],\n",
      "        [-0.1174,  0.1070, -0.1012, -0.1110,  0.0812, -0.1509,  0.2197, -0.0372,\n",
      "         -0.1822,  0.0467,  0.0826,  0.0540,  0.1626,  0.0570, -0.1771, -0.0547,\n",
      "         -0.0996,  0.1525,  0.1669,  0.1734],\n",
      "        [-0.1498,  0.2067, -0.1445,  0.1086,  0.1278, -0.0688,  0.0093, -0.1151,\n",
      "          0.2180,  0.1597,  0.0648, -0.2145,  0.2021, -0.1701,  0.0303, -0.0769,\n",
      "         -0.2084,  0.0838, -0.1417,  0.2035],\n",
      "        [ 0.0672, -0.1575, -0.0063,  0.2032,  0.0007, -0.1256, -0.0565,  0.2154,\n",
      "          0.0256, -0.0122,  0.1874,  0.0694,  0.2178, -0.0583,  0.2135,  0.2167,\n",
      "          0.0497,  0.1200, -0.0972,  0.1914],\n",
      "        [-0.1473, -0.0003, -0.1932, -0.0354,  0.0715,  0.0728, -0.0445,  0.0265,\n",
      "          0.2114, -0.1373, -0.1409, -0.1204,  0.1426,  0.1215, -0.1949,  0.2180,\n",
      "          0.1799, -0.0563, -0.2045, -0.2018]], requires_grad=True), Parameter containing:\n",
      "tensor([ 0.0634,  0.1593,  0.1686, -0.0473,  0.0389,  0.1531,  0.0269, -0.0989,\n",
      "        -0.1012,  0.1471], requires_grad=True), Parameter containing:\n",
      "tensor([[-0.2423,  0.2488,  0.2817, -0.1344,  0.1860, -0.2621,  0.0986, -0.2009,\n",
      "         -0.2967,  0.1404]], requires_grad=True), Parameter containing:\n",
      "tensor([-0.2817], requires_grad=True)]\n"
     ]
    }
   ],
   "source": [
    "model = Model(2, [20,20,10], 1)\n",
    "print(list(model.parameters()))"
   ]
  },
  {
   "cell_type": "code",
   "execution_count": 192,
   "id": "c6695952-3149-4b29-a42c-d32096da8d27",
   "metadata": {},
   "outputs": [
    {
     "data": {
      "text/plain": [
       "[Linear(in_features=2, out_features=20, bias=True),\n",
       " Linear(in_features=20, out_features=20, bias=True),\n",
       " Linear(in_features=20, out_features=10, bias=True),\n",
       " Linear(in_features=10, out_features=1, bias=True)]"
      ]
     },
     "execution_count": 192,
     "metadata": {},
     "output_type": "execute_result"
    }
   ],
   "source": [
    "model.layers"
   ]
  },
  {
   "cell_type": "code",
   "execution_count": 193,
   "id": "1257616c-b29c-4e5a-919d-145a3efe600e",
   "metadata": {},
   "outputs": [
    {
     "data": {
      "text/plain": [
       "[Parameter containing:\n",
       " tensor([[-0.0214, -0.3043],\n",
       "         [-0.5744, -0.2134],\n",
       "         [ 0.0110,  0.0784],\n",
       "         [-0.6067,  0.2122],\n",
       "         [-0.4422,  0.2120],\n",
       "         [ 0.1795,  0.2422],\n",
       "         [ 0.1990, -0.2011],\n",
       "         [-0.6642, -0.3482],\n",
       "         [ 0.1303,  0.2032],\n",
       "         [-0.0319,  0.5276],\n",
       "         [-0.0940, -0.0461],\n",
       "         [ 0.6513,  0.6095],\n",
       "         [-0.4859,  0.3198],\n",
       "         [-0.0041, -0.2875],\n",
       "         [-0.2104,  0.6729],\n",
       "         [-0.5594, -0.6006],\n",
       "         [ 0.1342,  0.4850],\n",
       "         [ 0.2093, -0.3364],\n",
       "         [ 0.2728, -0.4114],\n",
       "         [ 0.4297, -0.0297]], requires_grad=True),\n",
       " Parameter containing:\n",
       " tensor([ 0.1607, -0.3613, -0.4443, -0.0506,  0.3912, -0.5235,  0.6874,  0.3650,\n",
       "          0.5366, -0.4994,  0.5018, -0.2186, -0.0169, -0.1068,  0.4817, -0.4234,\n",
       "          0.5416, -0.2952, -0.2237,  0.1613], requires_grad=True),\n",
       " Parameter containing:\n",
       " tensor([[-0.0275,  0.0082,  0.0624, -0.2181, -0.1425, -0.2135,  0.1131,  0.1006,\n",
       "           0.1773,  0.0092, -0.2089,  0.0518,  0.0996, -0.0050,  0.0622,  0.1416,\n",
       "           0.1722, -0.0474, -0.1818, -0.1717],\n",
       "         [ 0.0710, -0.1992, -0.0005,  0.1325, -0.0326,  0.1732, -0.0990, -0.0723,\n",
       "          -0.0437,  0.2072, -0.0376,  0.0096,  0.0599,  0.0771,  0.1535,  0.0263,\n",
       "           0.2057, -0.0863, -0.1703,  0.0888],\n",
       "         [-0.0869, -0.2219, -0.0409,  0.0065,  0.0962, -0.0780,  0.1716, -0.1429,\n",
       "          -0.2058,  0.0199, -0.1518, -0.1595, -0.1305, -0.1656, -0.1330,  0.0892,\n",
       "           0.2008, -0.1296,  0.2179,  0.1161],\n",
       "         [-0.2232, -0.0770,  0.1868, -0.0258,  0.1494,  0.1479, -0.2231,  0.1631,\n",
       "           0.1142,  0.0521,  0.1136, -0.0785, -0.0158,  0.0188,  0.0753,  0.1455,\n",
       "           0.2011, -0.1721, -0.0383, -0.0930],\n",
       "         [ 0.0819,  0.0713, -0.1026,  0.1328, -0.0546,  0.0564,  0.1101,  0.1833,\n",
       "          -0.0012,  0.0008, -0.0748, -0.1967,  0.1227,  0.0743,  0.0452,  0.0552,\n",
       "           0.1539,  0.0928,  0.1024,  0.0164],\n",
       "         [ 0.0324, -0.1926,  0.1175,  0.1847,  0.2121,  0.0587,  0.1032,  0.1176,\n",
       "          -0.0260,  0.1771,  0.1216, -0.0970,  0.0377, -0.0950,  0.0032, -0.2004,\n",
       "           0.0259, -0.0275,  0.1618,  0.1264],\n",
       "         [-0.0325,  0.1890,  0.1539,  0.1189, -0.1476,  0.0843,  0.2008,  0.1028,\n",
       "          -0.0558, -0.1280,  0.1990,  0.1352,  0.1391, -0.1692, -0.1797, -0.0088,\n",
       "          -0.1595, -0.0763, -0.0188, -0.1079],\n",
       "         [ 0.1812,  0.0130,  0.0313,  0.0017,  0.0238, -0.0037,  0.0803,  0.0679,\n",
       "           0.1350,  0.0138, -0.0849, -0.1911, -0.1366,  0.0434,  0.0655, -0.0828,\n",
       "          -0.0881, -0.2121,  0.2018, -0.2007],\n",
       "         [-0.1830,  0.0873,  0.0115,  0.0558,  0.0498, -0.0218, -0.0560, -0.0121,\n",
       "          -0.0415,  0.0529, -0.0077,  0.0814, -0.0432, -0.2200, -0.1666, -0.1448,\n",
       "           0.1638,  0.0040,  0.0616, -0.1372],\n",
       "         [-0.0410, -0.1986, -0.1025, -0.0278,  0.0703, -0.0512, -0.1224, -0.2084,\n",
       "          -0.0424, -0.1858,  0.0550, -0.1677,  0.1141, -0.2057,  0.1157, -0.1561,\n",
       "          -0.1047,  0.0970,  0.0682, -0.0485],\n",
       "         [ 0.0939,  0.0932, -0.2152,  0.1128, -0.1383, -0.1242,  0.1945,  0.1199,\n",
       "           0.0652,  0.1155,  0.1331, -0.0071, -0.0644,  0.2027,  0.0622, -0.1306,\n",
       "           0.0068,  0.2171, -0.1748,  0.0832],\n",
       "         [ 0.0876,  0.0462, -0.1957, -0.1934,  0.1219,  0.1646,  0.1015,  0.0689,\n",
       "          -0.0113, -0.1337, -0.0362, -0.0387, -0.1571,  0.0513, -0.0263,  0.2114,\n",
       "           0.1222,  0.0407, -0.2168, -0.1506],\n",
       "         [ 0.0292,  0.0251, -0.0051,  0.0819, -0.0146,  0.0876, -0.1415, -0.1151,\n",
       "           0.0061,  0.1461,  0.1138, -0.1923, -0.1636, -0.2093,  0.1786,  0.1021,\n",
       "          -0.1455, -0.1339, -0.1130,  0.1806],\n",
       "         [-0.0651, -0.0957, -0.0509,  0.1099, -0.0680,  0.2194, -0.0058,  0.1451,\n",
       "           0.2167,  0.2188, -0.2180, -0.1547,  0.2187, -0.1396, -0.2127, -0.0510,\n",
       "           0.1550, -0.0041,  0.0440, -0.0738],\n",
       "         [ 0.1300, -0.1274,  0.1607,  0.1522,  0.0644, -0.0536, -0.1116, -0.1576,\n",
       "          -0.1067,  0.2137, -0.0108, -0.0549, -0.0164,  0.2130,  0.1284, -0.1604,\n",
       "          -0.0009,  0.1970, -0.1047, -0.0128],\n",
       "         [-0.0312,  0.2136,  0.1951,  0.1453,  0.0949,  0.1796, -0.1525, -0.1458,\n",
       "          -0.2210,  0.0006, -0.1200, -0.0339, -0.0130,  0.0988,  0.0642,  0.0731,\n",
       "          -0.0769, -0.1830,  0.1468,  0.0032],\n",
       "         [-0.2103, -0.1148,  0.0143, -0.1350, -0.0999,  0.0952, -0.0117, -0.1440,\n",
       "           0.0441, -0.0204, -0.1373,  0.1336,  0.0956,  0.1988, -0.2103, -0.1185,\n",
       "          -0.0546,  0.0309,  0.0638, -0.0564],\n",
       "         [-0.1288, -0.1879, -0.0192, -0.1019, -0.0150,  0.0403, -0.0203, -0.1788,\n",
       "          -0.1598,  0.1982,  0.1092,  0.0519,  0.0414,  0.0311, -0.1302, -0.1867,\n",
       "           0.1050,  0.0316,  0.2040, -0.1440],\n",
       "         [-0.0006,  0.0226, -0.0149, -0.1067,  0.1000, -0.0103,  0.0759, -0.0760,\n",
       "           0.2053, -0.0309,  0.1782, -0.0589,  0.0134, -0.0393,  0.1368, -0.0568,\n",
       "          -0.1611, -0.0233,  0.1967,  0.1817],\n",
       "         [ 0.1501,  0.0974, -0.2133,  0.1167,  0.0427,  0.0804,  0.1148,  0.1229,\n",
       "           0.1840, -0.1766,  0.0835,  0.1757, -0.0495, -0.0652, -0.0026,  0.1284,\n",
       "          -0.1570, -0.0899,  0.1926, -0.0509]], requires_grad=True),\n",
       " Parameter containing:\n",
       " tensor([ 0.0338,  0.0120, -0.1259, -0.2144, -0.0772,  0.0375, -0.1846,  0.0297,\n",
       "          0.0068,  0.0087,  0.0875,  0.1352, -0.0778,  0.0283, -0.1084, -0.2164,\n",
       "          0.1847, -0.1328,  0.0885, -0.0168], requires_grad=True),\n",
       " Parameter containing:\n",
       " tensor([[-0.1298, -0.0811,  0.0304, -0.0321, -0.0527, -0.0555,  0.0317, -0.0369,\n",
       "           0.0760, -0.0521,  0.1910, -0.0226,  0.1539,  0.1484, -0.0052,  0.0674,\n",
       "           0.0933, -0.1010, -0.1784, -0.2062],\n",
       "         [ 0.1035, -0.1646,  0.1649, -0.0777, -0.1864,  0.0447, -0.1750,  0.0789,\n",
       "           0.1897, -0.1519, -0.0561,  0.0101,  0.0412,  0.0159,  0.2236, -0.1393,\n",
       "           0.0353, -0.0532,  0.2038,  0.1624],\n",
       "         [ 0.1846, -0.1707,  0.1784, -0.1421, -0.2022,  0.0586,  0.0667,  0.1265,\n",
       "          -0.1640, -0.2026,  0.1942, -0.1388, -0.0726,  0.1068,  0.2008, -0.0131,\n",
       "          -0.0749, -0.2089, -0.1494,  0.1130],\n",
       "         [-0.1035,  0.1145,  0.0308, -0.0040,  0.1855, -0.0861,  0.0043,  0.0626,\n",
       "          -0.0688, -0.0429, -0.1325,  0.2118,  0.2125,  0.1163,  0.0658, -0.1115,\n",
       "           0.0841,  0.0790,  0.0949, -0.2014],\n",
       "         [-0.2031, -0.1346, -0.1181, -0.1646, -0.1217, -0.1111, -0.1192,  0.1916,\n",
       "           0.0091,  0.0191,  0.1306, -0.0543,  0.1573,  0.1033,  0.1526,  0.0224,\n",
       "           0.1305,  0.2123,  0.1385, -0.1450],\n",
       "         [-0.0770, -0.0107, -0.1709,  0.0348,  0.1043, -0.1367,  0.0254,  0.1780,\n",
       "           0.0715, -0.0080, -0.0240, -0.0373, -0.0081, -0.0469, -0.0397,  0.1148,\n",
       "           0.1090,  0.0211, -0.1924,  0.2030],\n",
       "         [-0.1174,  0.1070, -0.1012, -0.1110,  0.0812, -0.1509,  0.2197, -0.0372,\n",
       "          -0.1822,  0.0467,  0.0826,  0.0540,  0.1626,  0.0570, -0.1771, -0.0547,\n",
       "          -0.0996,  0.1525,  0.1669,  0.1734],\n",
       "         [-0.1498,  0.2067, -0.1445,  0.1086,  0.1278, -0.0688,  0.0093, -0.1151,\n",
       "           0.2180,  0.1597,  0.0648, -0.2145,  0.2021, -0.1701,  0.0303, -0.0769,\n",
       "          -0.2084,  0.0838, -0.1417,  0.2035],\n",
       "         [ 0.0672, -0.1575, -0.0063,  0.2032,  0.0007, -0.1256, -0.0565,  0.2154,\n",
       "           0.0256, -0.0122,  0.1874,  0.0694,  0.2178, -0.0583,  0.2135,  0.2167,\n",
       "           0.0497,  0.1200, -0.0972,  0.1914],\n",
       "         [-0.1473, -0.0003, -0.1932, -0.0354,  0.0715,  0.0728, -0.0445,  0.0265,\n",
       "           0.2114, -0.1373, -0.1409, -0.1204,  0.1426,  0.1215, -0.1949,  0.2180,\n",
       "           0.1799, -0.0563, -0.2045, -0.2018]], requires_grad=True),\n",
       " Parameter containing:\n",
       " tensor([ 0.0634,  0.1593,  0.1686, -0.0473,  0.0389,  0.1531,  0.0269, -0.0989,\n",
       "         -0.1012,  0.1471], requires_grad=True),\n",
       " Parameter containing:\n",
       " tensor([[-0.2423,  0.2488,  0.2817, -0.1344,  0.1860, -0.2621,  0.0986, -0.2009,\n",
       "          -0.2967,  0.1404]], requires_grad=True),\n",
       " Parameter containing:\n",
       " tensor([-0.2817], requires_grad=True)]"
      ]
     },
     "execution_count": 193,
     "metadata": {},
     "output_type": "execute_result"
    }
   ],
   "source": [
    "list(model.parameters())"
   ]
  },
  {
   "cell_type": "code",
   "execution_count": 194,
   "id": "9de2ff8d-6a82-4cf9-b51d-704a44867099",
   "metadata": {},
   "outputs": [],
   "source": [
    "criterion = nn.BCELoss()\n",
    "optimizer = torch.optim.Adam(model.parameters(), lr=0.001)"
   ]
  },
  {
   "cell_type": "code",
   "execution_count": 195,
   "id": "0064c8fc-9813-487f-855f-4b68c899e620",
   "metadata": {
    "scrolled": true,
    "tags": []
   },
   "outputs": [
    {
     "data": {
      "application/vnd.jupyter.widget-view+json": {
       "model_id": "c7a0b2682ef845968f4763b8b994f430",
       "version_major": 2,
       "version_minor": 0
      },
      "text/plain": [
       "  0%|          | 0/4000 [00:00<?, ?it/s]"
      ]
     },
     "metadata": {},
     "output_type": "display_data"
    }
   ],
   "source": [
    "epochs = 4000\n",
    "losses = []\n",
    "\n",
    "progress_bar = tqdm(range(epochs))\n",
    "for i in progress_bar:\n",
    "    y_pred = model.forward(x_data)\n",
    "    loss = criterion(y_pred, y_data)\n",
    "    losses.append(loss.item())\n",
    "    optimizer.zero_grad()\n",
    "    loss.backward()\n",
    "    optimizer.step()\n",
    "    progress_bar.set_description(f\"epoch: {i} loss: {loss.item()}\")"
   ]
  },
  {
   "cell_type": "code",
   "execution_count": 196,
   "id": "5e118115-b450-4f86-89a6-8a390e0d6e9d",
   "metadata": {},
   "outputs": [
    {
     "name": "stdout",
     "output_type": "stream",
     "text": [
      "Loss over time\n"
     ]
    },
    {
     "data": {
      "image/png": "[encoded data removed]",
      "text/plain": [
       "<Figure size 432x288 with 1 Axes>"
      ]
     },
     "metadata": {
      "needs_background": "light"
     },
     "output_type": "display_data"
    }
   ],
   "source": [
    "plt.plot(range(epochs), losses)\n",
    "plt.ylabel(\"Loss\")\n",
    "plt.xlabel(\"Epoc\")\n",
    "print(\"Loss over time\")"
   ]
  },
  {
   "cell_type": "code",
   "execution_count": 197,
   "id": "e9708d55-cf00-4eea-a6d6-9085d206b92f",
   "metadata": {},
   "outputs": [],
   "source": [
    "def plot_decision_boundry(X, y, scatter=False):\n",
    "    x_span = np.linspace(min(X[:, 0]) - 0.25, max(X[:, 0] + 0.25))\n",
    "    y_span = np.linspace(min(X[:, 1]) - 0.25, max(X[:, 1] + 0.25))\n",
    "    xx, yy = np.meshgrid(x_span, y_span)\n",
    "    grid = torch.Tensor(np.c_[xx.ravel(), yy.ravel()])\n",
    "    pred_func = model.forward(grid)\n",
    "    z = pred_func.view(xx.shape).detach().numpy()\n",
    "    plt.contourf(xx, yy, z)\n",
    "    if scatter:\n",
    "        plt.scatter(X[y == 0, 0], X[y == 0, 1])\n",
    "        plt.scatter(X[y == 1, 0], X[y == 1, 1])"
   ]
  },
  {
   "cell_type": "code",
   "execution_count": 204,
   "id": "71fd342d-2542-418f-a5ad-80c4faeb2c8a",
   "metadata": {},
   "outputs": [
    {
     "name": "stdout",
     "output_type": "stream",
     "text": [
      "Trained Network\n"
     ]
    },
    {
     "data": {
      "image/png": "[encoded data removed]",
      "text/plain": [
       "<Figure size 432x288 with 1 Axes>"
      ]
     },
     "metadata": {
      "needs_background": "light"
     },
     "output_type": "display_data"
    }
   ],
   "source": [
    "print(\"Trained Network\")\n",
    "plot_decision_boundry(X, y)"
   ]
  },
  {
   "cell_type": "code",
   "execution_count": 203,
   "id": "6255263d-50bc-4cd3-9e54-1339792c5dd0",
   "metadata": {},
   "outputs": [
    {
     "name": "stdout",
     "output_type": "stream",
     "text": [
      "Trained Network With data\n"
     ]
    },
    {
     "data": {
      "image/png": "[encoded data removed]",
      "text/plain": [
       "<Figure size 432x288 with 1 Axes>"
      ]
     },
     "metadata": {
      "needs_background": "light"
     },
     "output_type": "display_data"
    }
   ],
   "source": [
    "print(\"Trained Network With data\")\n",
    "plot_decision_boundry(X, y,scatter=True)"
   ]
  },
  {
   "cell_type": "code",
   "execution_count": 199,
   "id": "8826069c-aa37-4074-9c45-f114ac2fb087",
   "metadata": {},
   "outputs": [
    {
     "name": "stdout",
     "output_type": "stream",
     "text": [
      "First Prediction, item in center of graph, group 1\n",
      "0\n"
     ]
    },
    {
     "data": {
      "image/png": "[encoded data removed]",
      "text/plain": [
       "<Figure size 432x288 with 1 Axes>"
      ]
     },
     "metadata": {
      "needs_background": "light"
     },
     "output_type": "display_data"
    }
   ],
   "source": [
    "age = 33\n",
    "bgl = 103\n",
    "point = torch.Tensor([age, bgl])\n",
    "\n",
    "pred = model.predict(point)\n",
    "print(\"First Prediction, item in center of graph, group 1\")\n",
    "print(pred)\n",
    "plt.plot([age], [bgl], \"or\")\n",
    "plot_decision_boundry(X, y)"
   ]
  },
  {
   "cell_type": "code",
   "execution_count": 202,
   "id": "f609ed86-c226-485a-985e-9c1f84ee2af1",
   "metadata": {},
   "outputs": [
    {
     "name": "stdout",
     "output_type": "stream",
     "text": [
      "First Prediction, item in center of graph, group 1\n",
      "1\n"
     ]
    },
    {
     "data": {
      "image/png": "[encoded data removed]",
      "text/plain": [
       "<Figure size 432x288 with 1 Axes>"
      ]
     },
     "metadata": {
      "needs_background": "light"
     },
     "output_type": "display_data"
    }
   ],
   "source": [
    "age = 45\n",
    "bgl = 120\n",
    "point = torch.Tensor([age, bgl])\n",
    "\n",
    "pred = model.predict(point)\n",
    "print(\"First Prediction, item in center of graph, group 1\")\n",
    "print(pred)\n",
    "plt.plot([age], [bgl], \"or\")\n",
    "plot_decision_boundry(X, y)"
   ]
  },
  {
   "cell_type": "code",
   "execution_count": null,
   "id": "09ef2710-446d-4bf9-a439-1a0f3145e56e",
   "metadata": {},
   "outputs": [],
   "source": []
  },
  {
   "cell_type": "code",
   "execution_count": null,
   "id": "32f07a95-fda4-42ee-b40f-7689c6a4c3c9",
   "metadata": {},
   "outputs": [],
   "source": []
  }
 ],
 "metadata": {
  "kernelspec": {
   "display_name": "Python 3 (ipykernel)",
   "language": "python",
   "name": "python3"
  },
  "language_info": {
   "codemirror_mode": {
    "name": "ipython",
    "version": 3
   },
   "file_extension": ".py",
   "mimetype": "text/x-python",
   "name": "python",
   "nbconvert_exporter": "python",
   "pygments_lexer": "ipython3",
   "version": "3.10.4"
  },
  "widgets": {
   "application/vnd.jupyter.widget-state+json": {
    "state": {
     "00016d7adf7743b7900153ba4007f8f7": {
      "model_module": "@jupyter-widgets/controls",
      "model_module_version": "1.5.0",
      "model_name": "HTMLModel",
      "state": {
       "layout": "IPY_MODEL_5972b1ed71194ff3871690f8f009b080",
       "style": "IPY_MODEL_3c1b08bc3ccf485d808a1f8d23f05188",
       "value": "epoch: 14999 loss: 0.4765261709690094: 100%"
      }
     },
     "02573bb8eca54bfbad77034b75938476": {
      "model_module": "@jupyter-widgets/controls",
      "model_module_version": "1.5.0",
      "model_name": "HTMLModel",
      "state": {
       "layout": "IPY_MODEL_a6db5a527b8d4ba882f2552fa8e4c821",
       "style": "IPY_MODEL_76eb7845bc0742668a7d5423907992ed",
       "value": " 11204/500000 [00:21&lt;15:11, 536.25it/s]"
      }
     },
     "0260004b8f174dd7983bd8c5204ba067": {
      "model_module": "@jupyter-widgets/base",
      "model_module_version": "1.2.0",
      "model_name": "LayoutModel",
      "state": {}
     },
     "03505ae0620a456c98a2a89d396ca1e9": {
      "model_module": "@jupyter-widgets/controls",
      "model_module_version": "1.5.0",
      "model_name": "DescriptionStyleModel",
      "state": {
       "description_width": ""
      }
     },
     "05a675d697ef4fd69591b6fc8f98127e": {
      "model_module": "@jupyter-widgets/base",
      "model_module_version": "1.2.0",
      "model_name": "LayoutModel",
      "state": {}
     },
     "06590de4c89a43a88d5c27a24f570974": {
      "model_module": "@jupyter-widgets/base",
      "model_module_version": "1.2.0",
      "model_name": "LayoutModel",
      "state": {}
     },
     "07e9bb58856a457eb95e6ffe1d2e3c08": {
      "model_module": "@jupyter-widgets/controls",
      "model_module_version": "1.5.0",
      "model_name": "HBoxModel",
      "state": {
       "children": [
        "IPY_MODEL_dfe39b1bf3c74667a28516e070100f81",
        "IPY_MODEL_fc5b840dffe944cbba0be4f8ff68d77b",
        "IPY_MODEL_df00c424c3fb4b50bb9e28bfc435c8e5"
       ],
       "layout": "IPY_MODEL_6f308354017546968c75a46e083c4449"
      }
     },
     "08dd4917fb364330953af2437f39772f": {
      "model_module": "@jupyter-widgets/controls",
      "model_module_version": "1.5.0",
      "model_name": "HTMLModel",
      "state": {
       "layout": "IPY_MODEL_b948847708ce4cf9b8cb745986cc5afd",
       "style": "IPY_MODEL_43375108a0114f9b9017842f76cedf39",
       "value": "epoch: 1999 loss: 0.6403379440307617: 100%"
      }
     },
     "0a7657f3ef5d4f97bf0e60b87b2426c9": {
      "model_module": "@jupyter-widgets/controls",
      "model_module_version": "1.5.0",
      "model_name": "DescriptionStyleModel",
      "state": {
       "description_width": ""
      }
     },
     "0bf64797897f4aa9b45719f96eab6212": {
      "model_module": "@jupyter-widgets/controls",
      "model_module_version": "1.5.0",
      "model_name": "HTMLModel",
      "state": {
       "layout": "IPY_MODEL_43426b789daa495990535ac345cd8bd3",
       "style": "IPY_MODEL_e83b2ab9fa264690bcbb7da70d3b96d3",
       "value": "epoch: 1999 loss: 0.6466779708862305: 100%"
      }
     },
     "0dee1984db7940d79aa9fbdf1efce698": {
      "model_module": "@jupyter-widgets/base",
      "model_module_version": "1.2.0",
      "model_name": "LayoutModel",
      "state": {}
     },
     "0e37c55a149b4f05a628fc00b3787381": {
      "model_module": "@jupyter-widgets/controls",
      "model_module_version": "1.5.0",
      "model_name": "DescriptionStyleModel",
      "state": {
       "description_width": ""
      }
     },
     "0f6700d5f0f448fa92542f0dba37e361": {
      "model_module": "@jupyter-widgets/controls",
      "model_module_version": "1.5.0",
      "model_name": "DescriptionStyleModel",
      "state": {
       "description_width": ""
      }
     },
     "0faa3b05d4774322bf04984022830daa": {
      "model_module": "@jupyter-widgets/base",
      "model_module_version": "1.2.0",
      "model_name": "LayoutModel",
      "state": {}
     },
     "11c165bea6b7417bbe9d5e805708fbb4": {
      "model_module": "@jupyter-widgets/controls",
      "model_module_version": "1.5.0",
      "model_name": "DescriptionStyleModel",
      "state": {
       "description_width": ""
      }
     },
     "12eeb2710a2b4ba3888c9c3185ba21dd": {
      "model_module": "@jupyter-widgets/base",
      "model_module_version": "1.2.0",
      "model_name": "LayoutModel",
      "state": {}
     },
     "144e1a5503e443ae8a7b2af09784fc26": {
      "model_module": "@jupyter-widgets/controls",
      "model_module_version": "1.5.0",
      "model_name": "FloatProgressModel",
      "state": {
       "bar_style": "success",
       "layout": "IPY_MODEL_c5982adc995a4b899a7f4a805f6b1d4e",
       "max": 5000,
       "style": "IPY_MODEL_839fc0e3ea78481bb8ae2ac4f290d417",
       "value": 5000
      }
     },
     "165fe08789e84432be84c82dd54dec6e": {
      "model_module": "@jupyter-widgets/controls",
      "model_module_version": "1.5.0",
      "model_name": "HTMLModel",
      "state": {
       "layout": "IPY_MODEL_7ac8cb70c8494323b8621cb0a459409c",
       "style": "IPY_MODEL_97f7e4a931a2424bb4eb41caee1b89ce",
       "value": " 5000/5000 [00:05&lt;00:00, 798.88it/s]"
      }
     },
     "177314b07af24cc8a869e2faa19640fb": {
      "model_module": "@jupyter-widgets/controls",
      "model_module_version": "1.5.0",
      "model_name": "DescriptionStyleModel",
      "state": {
       "description_width": ""
      }
     },
     "187e538c669046cd8c28129f09076119": {
      "model_module": "@jupyter-widgets/controls",
      "model_module_version": "1.5.0",
      "model_name": "FloatProgressModel",
      "state": {
       "bar_style": "success",
       "layout": "IPY_MODEL_460c8fae44f048c6bd403c2d2c4bb10f",
       "max": 5000,
       "style": "IPY_MODEL_4e6303186b04432ea950ed38149383cd",
       "value": 5000
      }
     },
     "1993f4ee751b49548072376700daeb61": {
      "model_module": "@jupyter-widgets/controls",
      "model_module_version": "1.5.0",
      "model_name": "HTMLModel",
      "state": {
       "layout": "IPY_MODEL_12eeb2710a2b4ba3888c9c3185ba21dd",
       "style": "IPY_MODEL_c63bebfff86e4a81bcbe77ad61ffcc91",
       "value": " 4000/4000 [00:07&lt;00:00, 568.69it/s]"
      }
     },
     "1a80e858eb5349daacb2d84f790a3006": {
      "model_module": "@jupyter-widgets/controls",
      "model_module_version": "1.5.0",
      "model_name": "DescriptionStyleModel",
      "state": {
       "description_width": ""
      }
     },
     "2021e1470c2340eca45b3a180034221e": {
      "model_module": "@jupyter-widgets/controls",
      "model_module_version": "1.5.0",
      "model_name": "ProgressStyleModel",
      "state": {
       "description_width": ""
      }
     },
     "202c7a855069428eaf311d74819f7791": {
      "model_module": "@jupyter-widgets/base",
      "model_module_version": "1.2.0",
      "model_name": "LayoutModel",
      "state": {}
     },
     "20c84e5c70584e69badfcedd070c7e0a": {
      "model_module": "@jupyter-widgets/base",
      "model_module_version": "1.2.0",
      "model_name": "LayoutModel",
      "state": {}
     },
     "20fe75a482cb463b85815212b30e07ed": {
      "model_module": "@jupyter-widgets/controls",
      "model_module_version": "1.5.0",
      "model_name": "FloatProgressModel",
      "state": {
       "bar_style": "success",
       "layout": "IPY_MODEL_aba382694f0242089185e9e4da0f55af",
       "max": 2000,
       "style": "IPY_MODEL_ce3db3adfa4f49d6bf47edf565ca6ebd",
       "value": 2000
      }
     },
     "2308172d087f4148a74fbe1f8cd0358e": {
      "model_module": "@jupyter-widgets/base",
      "model_module_version": "1.2.0",
      "model_name": "LayoutModel",
      "state": {}
     },
     "2361b28423fc45afa1b34ca45bf7cf31": {
      "model_module": "@jupyter-widgets/base",
      "model_module_version": "1.2.0",
      "model_name": "LayoutModel",
      "state": {}
     },
     "25543a896dc449aca46bf740aae7341b": {
      "model_module": "@jupyter-widgets/controls",
      "model_module_version": "1.5.0",
      "model_name": "HTMLModel",
      "state": {
       "layout": "IPY_MODEL_575a39a7c7264e74b6cdc30173cf98a3",
       "style": "IPY_MODEL_b490a736cf6a4eb2b926656e80054d8a",
       "value": " 2000/2000 [00:02&lt;00:00, 682.98it/s]"
      }
     },
     "260c2b804f754df49a5a92d6cb72900c": {
      "model_module": "@jupyter-widgets/controls",
      "model_module_version": "1.5.0",
      "model_name": "HBoxModel",
      "state": {
       "children": [
        "IPY_MODEL_e2dad992a0d94a6fa164d0c00c740aed",
        "IPY_MODEL_84011d86fa6446adb5f3237ad2337f38",
        "IPY_MODEL_79b597629a764cd2ac1e36ae4a88d039"
       ],
       "layout": "IPY_MODEL_3bb953c88efb4086b7cea14076a75bb0"
      }
     },
     "27d4dae0854e44ee908b84e762a53cac": {
      "model_module": "@jupyter-widgets/controls",
      "model_module_version": "1.5.0",
      "model_name": "DescriptionStyleModel",
      "state": {
       "description_width": ""
      }
     },
     "28e4c0ebe85d4a38b571a20bebbd816f": {
      "model_module": "@jupyter-widgets/controls",
      "model_module_version": "1.5.0",
      "model_name": "HBoxModel",
      "state": {
       "children": [
        "IPY_MODEL_5058f6a3204f4e4fb1cba05f88df001e",
        "IPY_MODEL_3eecbb3c19484ac6a64b36b6206aee9b",
        "IPY_MODEL_cb0fa52e05614565a330649dcea79132"
       ],
       "layout": "IPY_MODEL_0260004b8f174dd7983bd8c5204ba067"
      }
     },
     "2b77334da5cd460da24b8d04dfe2670f": {
      "model_module": "@jupyter-widgets/controls",
      "model_module_version": "1.5.0",
      "model_name": "FloatProgressModel",
      "state": {
       "bar_style": "success",
       "layout": "IPY_MODEL_44d9afb5644248278eb602873426397c",
       "max": 15000,
       "style": "IPY_MODEL_707343d9587d425d8d358fe0814224dc",
       "value": 15000
      }
     },
     "2c9138cd2f004f5481c63d471173f3cc": {
      "model_module": "@jupyter-widgets/base",
      "model_module_version": "1.2.0",
      "model_name": "LayoutModel",
      "state": {}
     },
     "2df868137f074ff190e25269312df989": {
      "model_module": "@jupyter-widgets/base",
      "model_module_version": "1.2.0",
      "model_name": "LayoutModel",
      "state": {}
     },
     "2e15c63189b84c17b0b1ba4c3d2c4388": {
      "model_module": "@jupyter-widgets/base",
      "model_module_version": "1.2.0",
      "model_name": "LayoutModel",
      "state": {}
     },
     "2e3ed01afc9c43ebb703efaf2f1b8fc5": {
      "model_module": "@jupyter-widgets/controls",
      "model_module_version": "1.5.0",
      "model_name": "HTMLModel",
      "state": {
       "layout": "IPY_MODEL_59976be9c5c14383a69af710d4baddb8",
       "style": "IPY_MODEL_e774a107f5bd46878e10b8989109c0af",
       "value": "epoch: 3999 loss: 0.47323277592658997: 100%"
      }
     },
     "309d82f0d1e449a4bd9ae12dfbaff734": {
      "model_module": "@jupyter-widgets/controls",
      "model_module_version": "1.5.0",
      "model_name": "FloatProgressModel",
      "state": {
       "bar_style": "danger",
       "layout": "IPY_MODEL_2e15c63189b84c17b0b1ba4c3d2c4388",
       "max": 500000,
       "style": "IPY_MODEL_f470e2d56cf24b9cbe1dd11efbc2bc3d",
       "value": 18569
      }
     },
     "318695fdbf2544028fd93aad92fceb49": {
      "model_module": "@jupyter-widgets/base",
      "model_module_version": "1.2.0",
      "model_name": "LayoutModel",
      "state": {}
     },
     "32cd6645dd9c4529939129425c7aa563": {
      "model_module": "@jupyter-widgets/base",
      "model_module_version": "1.2.0",
      "model_name": "LayoutModel",
      "state": {}
     },
     "34da4c56e97f4a58a35e5724367ac51a": {
      "model_module": "@jupyter-widgets/controls",
      "model_module_version": "1.5.0",
      "model_name": "FloatProgressModel",
      "state": {
       "bar_style": "success",
       "layout": "IPY_MODEL_d7c5bd1a0f2a48bcb0874e4079c51d8e",
       "max": 5000,
       "style": "IPY_MODEL_c3dadd7048c6405ba6150f80c956fe19",
       "value": 5000
      }
     },
     "35136315b96f45eebde8d57dc4223bd2": {
      "model_module": "@jupyter-widgets/base",
      "model_module_version": "1.2.0",
      "model_name": "LayoutModel",
      "state": {}
     },
     "374b159ce34a407ca803026dfc850bf7": {
      "model_module": "@jupyter-widgets/controls",
      "model_module_version": "1.5.0",
      "model_name": "DescriptionStyleModel",
      "state": {
       "description_width": ""
      }
     },
     "3929856504804adc94747b23e2263685": {
      "model_module": "@jupyter-widgets/base",
      "model_module_version": "1.2.0",
      "model_name": "LayoutModel",
      "state": {}
     },
     "39fdcb0100b344f3b7dc756fbd0a71a4": {
      "model_module": "@jupyter-widgets/controls",
      "model_module_version": "1.5.0",
      "model_name": "HTMLModel",
      "state": {
       "layout": "IPY_MODEL_2308172d087f4148a74fbe1f8cd0358e",
       "style": "IPY_MODEL_fe78a55dfe2d4de591fd6b1090ff229f",
       "value": "epoch: 4999 loss: 0.6423812508583069: 100%"
      }
     },
     "3b79034ffc19406a9343b020eb0f8ade": {
      "model_module": "@jupyter-widgets/base",
      "model_module_version": "1.2.0",
      "model_name": "LayoutModel",
      "state": {}
     },
     "3bb953c88efb4086b7cea14076a75bb0": {
      "model_module": "@jupyter-widgets/base",
      "model_module_version": "1.2.0",
      "model_name": "LayoutModel",
      "state": {}
     },
     "3c1b08bc3ccf485d808a1f8d23f05188": {
      "model_module": "@jupyter-widgets/controls",
      "model_module_version": "1.5.0",
      "model_name": "DescriptionStyleModel",
      "state": {
       "description_width": ""
      }
     },
     "3e3ee7bf347449d09d6e346195f4766d": {
      "model_module": "@jupyter-widgets/controls",
      "model_module_version": "1.5.0",
      "model_name": "HTMLModel",
      "state": {
       "layout": "IPY_MODEL_05a675d697ef4fd69591b6fc8f98127e",
       "style": "IPY_MODEL_03505ae0620a456c98a2a89d396ca1e9",
       "value": " 5000/5000 [00:05&lt;00:00, 877.60it/s]"
      }
     },
     "3eecbb3c19484ac6a64b36b6206aee9b": {
      "model_module": "@jupyter-widgets/controls",
      "model_module_version": "1.5.0",
      "model_name": "FloatProgressModel",
      "state": {
       "bar_style": "success",
       "layout": "IPY_MODEL_76c07ed2c7ee4246be9656ddb7e9cb01",
       "max": 5000,
       "style": "IPY_MODEL_ba7a5144e0be4897a1efcfc45b15e731",
       "value": 5000
      }
     },
     "4065bc0b41f74b88834b034c3bf99a53": {
      "model_module": "@jupyter-widgets/controls",
      "model_module_version": "1.5.0",
      "model_name": "ProgressStyleModel",
      "state": {
       "description_width": ""
      }
     },
     "4065ff39cbbb49198ef2517feca86b9d": {
      "model_module": "@jupyter-widgets/base",
      "model_module_version": "1.2.0",
      "model_name": "LayoutModel",
      "state": {}
     },
     "42e24fa2e3fb4f1eb719defcec146230": {
      "model_module": "@jupyter-widgets/controls",
      "model_module_version": "1.5.0",
      "model_name": "ProgressStyleModel",
      "state": {
       "description_width": ""
      }
     },
     "43332a288ab64a6c87a6aa6ed7077883": {
      "model_module": "@jupyter-widgets/controls",
      "model_module_version": "1.5.0",
      "model_name": "HBoxModel",
      "state": {
       "children": [
        "IPY_MODEL_0bf64797897f4aa9b45719f96eab6212",
        "IPY_MODEL_20fe75a482cb463b85815212b30e07ed",
        "IPY_MODEL_5c6e97a7f6134bd7b17c42f5d5523ac4"
       ],
       "layout": "IPY_MODEL_691526ad11f244a4ae0c45b1307f0776"
      }
     },
     "43375108a0114f9b9017842f76cedf39": {
      "model_module": "@jupyter-widgets/controls",
      "model_module_version": "1.5.0",
      "model_name": "DescriptionStyleModel",
      "state": {
       "description_width": ""
      }
     },
     "43426b789daa495990535ac345cd8bd3": {
      "model_module": "@jupyter-widgets/base",
      "model_module_version": "1.2.0",
      "model_name": "LayoutModel",
      "state": {}
     },
     "4411741fc2ae43848dbfbc060891fe59": {
      "model_module": "@jupyter-widgets/controls",
      "model_module_version": "1.5.0",
      "model_name": "HTMLModel",
      "state": {
       "layout": "IPY_MODEL_ec945d0762b14e2197e0cf9bf9a31225",
       "style": "IPY_MODEL_5be8891e9510454294fc6bf2e5391b60",
       "value": "epoch: 4999 loss: 0.6423811316490173: 100%"
      }
     },
     "449eb538e15a4a86829d3385620910f1": {
      "model_module": "@jupyter-widgets/controls",
      "model_module_version": "1.5.0",
      "model_name": "DescriptionStyleModel",
      "state": {
       "description_width": ""
      }
     },
     "44d9afb5644248278eb602873426397c": {
      "model_module": "@jupyter-widgets/base",
      "model_module_version": "1.2.0",
      "model_name": "LayoutModel",
      "state": {}
     },
     "4586f199a5394f0db3392e5cfe26451b": {
      "model_module": "@jupyter-widgets/base",
      "model_module_version": "1.2.0",
      "model_name": "LayoutModel",
      "state": {}
     },
     "45dd4184b18245478431d988712345c5": {
      "model_module": "@jupyter-widgets/controls",
      "model_module_version": "1.5.0",
      "model_name": "ProgressStyleModel",
      "state": {
       "description_width": ""
      }
     },
     "460c8fae44f048c6bd403c2d2c4bb10f": {
      "model_module": "@jupyter-widgets/base",
      "model_module_version": "1.2.0",
      "model_name": "LayoutModel",
      "state": {}
     },
     "4860ffe32f434dcc9ef679a3f0c919ff": {
      "model_module": "@jupyter-widgets/controls",
      "model_module_version": "1.5.0",
      "model_name": "DescriptionStyleModel",
      "state": {
       "description_width": ""
      }
     },
     "48da1ce7f2ec49fc8befe849ff29200b": {
      "model_module": "@jupyter-widgets/controls",
      "model_module_version": "1.5.0",
      "model_name": "DescriptionStyleModel",
      "state": {
       "description_width": ""
      }
     },
     "4bed54b5b1d141c5ac6c8e462a172509": {
      "model_module": "@jupyter-widgets/base",
      "model_module_version": "1.2.0",
      "model_name": "LayoutModel",
      "state": {}
     },
     "4df3e71a5baa401bb32cc092f8ed0ecf": {
      "model_module": "@jupyter-widgets/controls",
      "model_module_version": "1.5.0",
      "model_name": "ProgressStyleModel",
      "state": {
       "description_width": ""
      }
     },
     "4e6303186b04432ea950ed38149383cd": {
      "model_module": "@jupyter-widgets/controls",
      "model_module_version": "1.5.0",
      "model_name": "ProgressStyleModel",
      "state": {
       "description_width": ""
      }
     },
     "4e8f3b54df75413a85e78ac2cc520c7a": {
      "model_module": "@jupyter-widgets/base",
      "model_module_version": "1.2.0",
      "model_name": "LayoutModel",
      "state": {}
     },
     "4f5d2d6f68b7447da5fe6733a037e696": {
      "model_module": "@jupyter-widgets/base",
      "model_module_version": "1.2.0",
      "model_name": "LayoutModel",
      "state": {}
     },
     "5058f6a3204f4e4fb1cba05f88df001e": {
      "model_module": "@jupyter-widgets/controls",
      "model_module_version": "1.5.0",
      "model_name": "HTMLModel",
      "state": {
       "layout": "IPY_MODEL_b1be28b122034292b1e21654a79d907a",
       "style": "IPY_MODEL_27d4dae0854e44ee908b84e762a53cac",
       "value": "epoch: 4999 loss: 0.6467993855476379: 100%"
      }
     },
     "50a1dba81e694a7fbf0f4d95a7703775": {
      "model_module": "@jupyter-widgets/base",
      "model_module_version": "1.2.0",
      "model_name": "LayoutModel",
      "state": {}
     },
     "524ec6cb4b3b45e999013707392f8d05": {
      "model_module": "@jupyter-widgets/controls",
      "model_module_version": "1.5.0",
      "model_name": "HTMLModel",
      "state": {
       "layout": "IPY_MODEL_619ef8ed51454ea4b7b0b454bf5e034f",
       "style": "IPY_MODEL_177314b07af24cc8a869e2faa19640fb",
       "value": " 15000/15000 [00:24&lt;00:00, 606.41it/s]"
      }
     },
     "539cafe59e6043ea9716849078ae1e62": {
      "model_module": "@jupyter-widgets/controls",
      "model_module_version": "1.5.0",
      "model_name": "HTMLModel",
      "state": {
       "layout": "IPY_MODEL_202c7a855069428eaf311d74819f7791",
       "style": "IPY_MODEL_374b159ce34a407ca803026dfc850bf7",
       "value": "epoch: 4999 loss: 0.6440615057945251: 100%"
      }
     },
     "53b3b9bdeeb04465a8f1934fbd346494": {
      "model_module": "@jupyter-widgets/controls",
      "model_module_version": "1.5.0",
      "model_name": "ProgressStyleModel",
      "state": {
       "description_width": ""
      }
     },
     "53d8266b94184504a3bc8116311f85c5": {
      "model_module": "@jupyter-widgets/base",
      "model_module_version": "1.2.0",
      "model_name": "LayoutModel",
      "state": {}
     },
     "53e515d00e2c48b583ed30f986af664b": {
      "model_module": "@jupyter-widgets/controls",
      "model_module_version": "1.5.0",
      "model_name": "ProgressStyleModel",
      "state": {
       "description_width": ""
      }
     },
     "552121da37624f9b9fec186e24b3290f": {
      "model_module": "@jupyter-widgets/base",
      "model_module_version": "1.2.0",
      "model_name": "LayoutModel",
      "state": {}
     },
     "5745481524ae4b579ed5d39a25e16de6": {
      "model_module": "@jupyter-widgets/controls",
      "model_module_version": "1.5.0",
      "model_name": "DescriptionStyleModel",
      "state": {
       "description_width": ""
      }
     },
     "575a39a7c7264e74b6cdc30173cf98a3": {
      "model_module": "@jupyter-widgets/base",
      "model_module_version": "1.2.0",
      "model_name": "LayoutModel",
      "state": {}
     },
     "5972b1ed71194ff3871690f8f009b080": {
      "model_module": "@jupyter-widgets/base",
      "model_module_version": "1.2.0",
      "model_name": "LayoutModel",
      "state": {}
     },
     "59976be9c5c14383a69af710d4baddb8": {
      "model_module": "@jupyter-widgets/base",
      "model_module_version": "1.2.0",
      "model_name": "LayoutModel",
      "state": {}
     },
     "5aac1b068a7c42feb0990b99fc62cb06": {
      "model_module": "@jupyter-widgets/controls",
      "model_module_version": "1.5.0",
      "model_name": "FloatProgressModel",
      "state": {
       "bar_style": "success",
       "layout": "IPY_MODEL_6cb5c03a47664e4c9a07cb09a6d83447",
       "max": 2000,
       "style": "IPY_MODEL_8bb356b0dad9439eafa3563b9e70781d",
       "value": 2000
      }
     },
     "5b937236ba554873b14b95b6d96f1dc6": {
      "model_module": "@jupyter-widgets/controls",
      "model_module_version": "1.5.0",
      "model_name": "DescriptionStyleModel",
      "state": {
       "description_width": ""
      }
     },
     "5be8891e9510454294fc6bf2e5391b60": {
      "model_module": "@jupyter-widgets/controls",
      "model_module_version": "1.5.0",
      "model_name": "DescriptionStyleModel",
      "state": {
       "description_width": ""
      }
     },
     "5c6e97a7f6134bd7b17c42f5d5523ac4": {
      "model_module": "@jupyter-widgets/controls",
      "model_module_version": "1.5.0",
      "model_name": "HTMLModel",
      "state": {
       "layout": "IPY_MODEL_97842743747341fe865ed38baba65343",
       "style": "IPY_MODEL_77e0cb9eaf3f4a54b3b369a5f5b82dd6",
       "value": " 2000/2000 [00:03&lt;00:00, 642.26it/s]"
      }
     },
     "5c9f0a3b23e049cea7af631291e2cb3c": {
      "model_module": "@jupyter-widgets/controls",
      "model_module_version": "1.5.0",
      "model_name": "DescriptionStyleModel",
      "state": {
       "description_width": ""
      }
     },
     "5e7e37f1bfe94017a4f6e8242ddecc93": {
      "model_module": "@jupyter-widgets/controls",
      "model_module_version": "1.5.0",
      "model_name": "FloatProgressModel",
      "state": {
       "bar_style": "success",
       "layout": "IPY_MODEL_94fe09327955430aaa40c17f1a68f93a",
       "max": 4000,
       "style": "IPY_MODEL_6e7f30095b82426cb614e220679155a1",
       "value": 4000
      }
     },
     "5f73c79a9fcc4c348fc74c0adfebcd36": {
      "model_module": "@jupyter-widgets/controls",
      "model_module_version": "1.5.0",
      "model_name": "HTMLModel",
      "state": {
       "layout": "IPY_MODEL_f890006a0d5d4e5795487777174ce54a",
       "style": "IPY_MODEL_5c9f0a3b23e049cea7af631291e2cb3c",
       "value": " 5000/5000 [00:06&lt;00:00, 814.80it/s]"
      }
     },
     "608f4f7ad9b948aea21bebc165def3d6": {
      "model_module": "@jupyter-widgets/controls",
      "model_module_version": "1.5.0",
      "model_name": "FloatProgressModel",
      "state": {
       "bar_style": "danger",
       "layout": "IPY_MODEL_53d8266b94184504a3bc8116311f85c5",
       "max": 500000,
       "style": "IPY_MODEL_42e24fa2e3fb4f1eb719defcec146230",
       "value": 11204
      }
     },
     "60ecf5a8bdcd4e81b93af8677638faa4": {
      "model_module": "@jupyter-widgets/controls",
      "model_module_version": "1.5.0",
      "model_name": "ProgressStyleModel",
      "state": {
       "description_width": ""
      }
     },
     "619ef8ed51454ea4b7b0b454bf5e034f": {
      "model_module": "@jupyter-widgets/base",
      "model_module_version": "1.2.0",
      "model_name": "LayoutModel",
      "state": {}
     },
     "6754e9012e924b69af31ac87526081b7": {
      "model_module": "@jupyter-widgets/base",
      "model_module_version": "1.2.0",
      "model_name": "LayoutModel",
      "state": {}
     },
     "681f31e4954841f194abd5334f5291b1": {
      "model_module": "@jupyter-widgets/controls",
      "model_module_version": "1.5.0",
      "model_name": "HBoxModel",
      "state": {
       "children": [
        "IPY_MODEL_2e3ed01afc9c43ebb703efaf2f1b8fc5",
        "IPY_MODEL_5e7e37f1bfe94017a4f6e8242ddecc93",
        "IPY_MODEL_d04a10fe72074fae85d232ad58644565"
       ],
       "layout": "IPY_MODEL_c5a36c0e4899487eab13f3804e83145e"
      }
     },
     "691526ad11f244a4ae0c45b1307f0776": {
      "model_module": "@jupyter-widgets/base",
      "model_module_version": "1.2.0",
      "model_name": "LayoutModel",
      "state": {}
     },
     "69c0c0b5a0724fa7a232b533c1c41307": {
      "model_module": "@jupyter-widgets/base",
      "model_module_version": "1.2.0",
      "model_name": "LayoutModel",
      "state": {}
     },
     "6a9828b6522048aa8e422e5be4e41bd5": {
      "model_module": "@jupyter-widgets/controls",
      "model_module_version": "1.5.0",
      "model_name": "HTMLModel",
      "state": {
       "layout": "IPY_MODEL_a2e2804b649549ed820c14f071a3ded9",
       "style": "IPY_MODEL_9ffeda05d53f487297a9785cc5f7d5d5",
       "value": "epoch: 4999 loss: 0.646815299987793: 100%"
      }
     },
     "6adf0b507e33474a8cb118996e50ae92": {
      "model_module": "@jupyter-widgets/base",
      "model_module_version": "1.2.0",
      "model_name": "LayoutModel",
      "state": {}
     },
     "6cb5c03a47664e4c9a07cb09a6d83447": {
      "model_module": "@jupyter-widgets/base",
      "model_module_version": "1.2.0",
      "model_name": "LayoutModel",
      "state": {}
     },
     "6e7f30095b82426cb614e220679155a1": {
      "model_module": "@jupyter-widgets/controls",
      "model_module_version": "1.5.0",
      "model_name": "ProgressStyleModel",
      "state": {
       "description_width": ""
      }
     },
     "6f308354017546968c75a46e083c4449": {
      "model_module": "@jupyter-widgets/base",
      "model_module_version": "1.2.0",
      "model_name": "LayoutModel",
      "state": {}
     },
     "707343d9587d425d8d358fe0814224dc": {
      "model_module": "@jupyter-widgets/controls",
      "model_module_version": "1.5.0",
      "model_name": "ProgressStyleModel",
      "state": {
       "description_width": ""
      }
     },
     "71950993e7314b2f98a39b599e08e18d": {
      "model_module": "@jupyter-widgets/base",
      "model_module_version": "1.2.0",
      "model_name": "LayoutModel",
      "state": {}
     },
     "72862640d98145e9b78a6a7350a9d723": {
      "model_module": "@jupyter-widgets/controls",
      "model_module_version": "1.5.0",
      "model_name": "DescriptionStyleModel",
      "state": {
       "description_width": ""
      }
     },
     "76ad6fbd1da64390b0cc292ef57728fe": {
      "model_module": "@jupyter-widgets/controls",
      "model_module_version": "1.5.0",
      "model_name": "HTMLModel",
      "state": {
       "layout": "IPY_MODEL_7b52251c52c242128b64a846562b5b10",
       "style": "IPY_MODEL_a79a314d2d09421eaeeac01e3cd29ca5",
       "value": " 2000/2000 [00:03&lt;00:00, 692.28it/s]"
      }
     },
     "76c07ed2c7ee4246be9656ddb7e9cb01": {
      "model_module": "@jupyter-widgets/base",
      "model_module_version": "1.2.0",
      "model_name": "LayoutModel",
      "state": {}
     },
     "76de233f7f3d4f2cb4e295629cad6c3e": {
      "model_module": "@jupyter-widgets/controls",
      "model_module_version": "1.5.0",
      "model_name": "FloatProgressModel",
      "state": {
       "bar_style": "success",
       "layout": "IPY_MODEL_3b79034ffc19406a9343b020eb0f8ade",
       "max": 2000,
       "style": "IPY_MODEL_fa82a368bcad44cbabcac5ccf143ac0f",
       "value": 2000
      }
     },
     "76eb7845bc0742668a7d5423907992ed": {
      "model_module": "@jupyter-widgets/controls",
      "model_module_version": "1.5.0",
      "model_name": "DescriptionStyleModel",
      "state": {
       "description_width": ""
      }
     },
     "77e0cb9eaf3f4a54b3b369a5f5b82dd6": {
      "model_module": "@jupyter-widgets/controls",
      "model_module_version": "1.5.0",
      "model_name": "DescriptionStyleModel",
      "state": {
       "description_width": ""
      }
     },
     "79b597629a764cd2ac1e36ae4a88d039": {
      "model_module": "@jupyter-widgets/controls",
      "model_module_version": "1.5.0",
      "model_name": "HTMLModel",
      "state": {
       "layout": "IPY_MODEL_0dee1984db7940d79aa9fbdf1efce698",
       "style": "IPY_MODEL_ccd4e03ef61841b09926b5ef1032160f",
       "value": " 5000/5000 [00:06&lt;00:00, 783.35it/s]"
      }
     },
     "7a64e139e8c14808953b28098f4da852": {
      "model_module": "@jupyter-widgets/controls",
      "model_module_version": "1.5.0",
      "model_name": "FloatProgressModel",
      "state": {
       "bar_style": "success",
       "layout": "IPY_MODEL_fcc0407d329a49919004074b09bfb434",
       "max": 1000,
       "style": "IPY_MODEL_60ecf5a8bdcd4e81b93af8677638faa4",
       "value": 1000
      }
     },
     "7aacf5568adf46aea06419b2b502e909": {
      "model_module": "@jupyter-widgets/controls",
      "model_module_version": "1.5.0",
      "model_name": "FloatProgressModel",
      "state": {
       "bar_style": "success",
       "layout": "IPY_MODEL_9c8a4e10a47c455b8298912a9a5ffed4",
       "max": 2000,
       "style": "IPY_MODEL_45dd4184b18245478431d988712345c5",
       "value": 2000
      }
     },
     "7ac8cb70c8494323b8621cb0a459409c": {
      "model_module": "@jupyter-widgets/base",
      "model_module_version": "1.2.0",
      "model_name": "LayoutModel",
      "state": {}
     },
     "7b52251c52c242128b64a846562b5b10": {
      "model_module": "@jupyter-widgets/base",
      "model_module_version": "1.2.0",
      "model_name": "LayoutModel",
      "state": {}
     },
     "7cfa77771c0b4bc9b92815bc19135dee": {
      "model_module": "@jupyter-widgets/controls",
      "model_module_version": "1.5.0",
      "model_name": "HBoxModel",
      "state": {
       "children": [
        "IPY_MODEL_fdea318f9b55464380a5192938ce42f5",
        "IPY_MODEL_7aacf5568adf46aea06419b2b502e909",
        "IPY_MODEL_9fb10c704353426887928bb92b33d7bd"
       ],
       "layout": "IPY_MODEL_06590de4c89a43a88d5c27a24f570974"
      }
     },
     "7d9eec1098dc4567846cd8c27eb6f25e": {
      "model_module": "@jupyter-widgets/base",
      "model_module_version": "1.2.0",
      "model_name": "LayoutModel",
      "state": {}
     },
     "7e641f4ea4d3427d9515f37a67367c3d": {
      "model_module": "@jupyter-widgets/base",
      "model_module_version": "1.2.0",
      "model_name": "LayoutModel",
      "state": {}
     },
     "7f38ed91d6924442b6686356f1756fe6": {
      "model_module": "@jupyter-widgets/controls",
      "model_module_version": "1.5.0",
      "model_name": "HBoxModel",
      "state": {
       "children": [
        "IPY_MODEL_39fdcb0100b344f3b7dc756fbd0a71a4",
        "IPY_MODEL_f1c45e5bfa8640f284ab9c49acf3bf01",
        "IPY_MODEL_e7508e25dec84b599fc239d01e1211e1"
       ],
       "layout": "IPY_MODEL_b233c9470b134ddd9e6d59bf07adf2b2"
      }
     },
     "81dd18b26e014359b62381bf51e15d3a": {
      "model_module": "@jupyter-widgets/controls",
      "model_module_version": "1.5.0",
      "model_name": "DescriptionStyleModel",
      "state": {
       "description_width": ""
      }
     },
     "839fc0e3ea78481bb8ae2ac4f290d417": {
      "model_module": "@jupyter-widgets/controls",
      "model_module_version": "1.5.0",
      "model_name": "ProgressStyleModel",
      "state": {
       "description_width": ""
      }
     },
     "84011d86fa6446adb5f3237ad2337f38": {
      "model_module": "@jupyter-widgets/controls",
      "model_module_version": "1.5.0",
      "model_name": "FloatProgressModel",
      "state": {
       "bar_style": "success",
       "layout": "IPY_MODEL_f1aada7d42194ba3903ec30f115c9c16",
       "max": 5000,
       "style": "IPY_MODEL_b809678a11a3421d8115dc9b83268dda",
       "value": 5000
      }
     },
     "8a8c6eb1d6324eb5bde128d84fe4873c": {
      "model_module": "@jupyter-widgets/controls",
      "model_module_version": "1.5.0",
      "model_name": "HBoxModel",
      "state": {
       "children": [
        "IPY_MODEL_eb89d08141a04a2bae360b04254cd2bb",
        "IPY_MODEL_144e1a5503e443ae8a7b2af09784fc26",
        "IPY_MODEL_ac8d3b95586449d191e792249d170f4c"
       ],
       "layout": "IPY_MODEL_fb5311904666481facfbd51319f5dc21"
      }
     },
     "8bb356b0dad9439eafa3563b9e70781d": {
      "model_module": "@jupyter-widgets/controls",
      "model_module_version": "1.5.0",
      "model_name": "ProgressStyleModel",
      "state": {
       "description_width": ""
      }
     },
     "8bc21755a45942199b0a8db75fd5bab2": {
      "model_module": "@jupyter-widgets/controls",
      "model_module_version": "1.5.0",
      "model_name": "ProgressStyleModel",
      "state": {
       "description_width": ""
      }
     },
     "8cbd983fe24d4bde91892e384402a508": {
      "model_module": "@jupyter-widgets/controls",
      "model_module_version": "1.5.0",
      "model_name": "DescriptionStyleModel",
      "state": {
       "description_width": ""
      }
     },
     "8e3efe8d58a941dfb9cb40c36dd3421a": {
      "model_module": "@jupyter-widgets/base",
      "model_module_version": "1.2.0",
      "model_name": "LayoutModel",
      "state": {}
     },
     "8fe5d6b4b54f4635a7e6bbcd74a4e15f": {
      "model_module": "@jupyter-widgets/controls",
      "model_module_version": "1.5.0",
      "model_name": "HBoxModel",
      "state": {
       "children": [
        "IPY_MODEL_539cafe59e6043ea9716849078ae1e62",
        "IPY_MODEL_187e538c669046cd8c28129f09076119",
        "IPY_MODEL_3e3ee7bf347449d09d6e346195f4766d"
       ],
       "layout": "IPY_MODEL_bfce1466d7f04b3eb1cc4cff85f36657"
      }
     },
     "930c4ba2482d46a696eba562077c970c": {
      "model_module": "@jupyter-widgets/controls",
      "model_module_version": "1.5.0",
      "model_name": "HTMLModel",
      "state": {
       "layout": "IPY_MODEL_4586f199a5394f0db3392e5cfe26451b",
       "style": "IPY_MODEL_c756a69b7525465b9ee0984da436aab5",
       "value": "epoch: 11203 loss: 0.39901161193847656:   2%"
      }
     },
     "93f973b46994443c8746d136aef9bdc9": {
      "model_module": "@jupyter-widgets/controls",
      "model_module_version": "1.5.0",
      "model_name": "FloatProgressModel",
      "state": {
       "bar_style": "success",
       "layout": "IPY_MODEL_3929856504804adc94747b23e2263685",
       "max": 2000,
       "style": "IPY_MODEL_4df3e71a5baa401bb32cc092f8ed0ecf",
       "value": 2000
      }
     },
     "94fe09327955430aaa40c17f1a68f93a": {
      "model_module": "@jupyter-widgets/base",
      "model_module_version": "1.2.0",
      "model_name": "LayoutModel",
      "state": {}
     },
     "95dc4a4b8eae46eb9b1c1fdb17f26a65": {
      "model_module": "@jupyter-widgets/controls",
      "model_module_version": "1.5.0",
      "model_name": "HBoxModel",
      "state": {
       "children": [
        "IPY_MODEL_c00c33d609394d88a7f0137889a2d9ad",
        "IPY_MODEL_93f973b46994443c8746d136aef9bdc9",
        "IPY_MODEL_db5c8cd9ecaf408c8fabdabb377dcf0b"
       ],
       "layout": "IPY_MODEL_7e641f4ea4d3427d9515f37a67367c3d"
      }
     },
     "976dad7cea8044be9dc2b1072d8d3b58": {
      "model_module": "@jupyter-widgets/base",
      "model_module_version": "1.2.0",
      "model_name": "LayoutModel",
      "state": {}
     },
     "97842743747341fe865ed38baba65343": {
      "model_module": "@jupyter-widgets/base",
      "model_module_version": "1.2.0",
      "model_name": "LayoutModel",
      "state": {}
     },
     "97f7e4a931a2424bb4eb41caee1b89ce": {
      "model_module": "@jupyter-widgets/controls",
      "model_module_version": "1.5.0",
      "model_name": "DescriptionStyleModel",
      "state": {
       "description_width": ""
      }
     },
     "99bc29bf98e44dee9a84e1ecc303e07f": {
      "model_module": "@jupyter-widgets/controls",
      "model_module_version": "1.5.0",
      "model_name": "HTMLModel",
      "state": {
       "layout": "IPY_MODEL_c109da1fa8c844aca7a42257ff01be01",
       "style": "IPY_MODEL_1a80e858eb5349daacb2d84f790a3006",
       "value": " 18569/500000 [00:34&lt;15:56, 503.07it/s]"
      }
     },
     "9c5ccd36470b4197b15bcf4f7e76aa5e": {
      "model_module": "@jupyter-widgets/controls",
      "model_module_version": "1.5.0",
      "model_name": "DescriptionStyleModel",
      "state": {
       "description_width": ""
      }
     },
     "9c8a4e10a47c455b8298912a9a5ffed4": {
      "model_module": "@jupyter-widgets/base",
      "model_module_version": "1.2.0",
      "model_name": "LayoutModel",
      "state": {}
     },
     "9fb10c704353426887928bb92b33d7bd": {
      "model_module": "@jupyter-widgets/controls",
      "model_module_version": "1.5.0",
      "model_name": "HTMLModel",
      "state": {
       "layout": "IPY_MODEL_976dad7cea8044be9dc2b1072d8d3b58",
       "style": "IPY_MODEL_449eb538e15a4a86829d3385620910f1",
       "value": " 2000/2000 [00:03&lt;00:00, 606.33it/s]"
      }
     },
     "9ffeda05d53f487297a9785cc5f7d5d5": {
      "model_module": "@jupyter-widgets/controls",
      "model_module_version": "1.5.0",
      "model_name": "DescriptionStyleModel",
      "state": {
       "description_width": ""
      }
     },
     "a2e2804b649549ed820c14f071a3ded9": {
      "model_module": "@jupyter-widgets/base",
      "model_module_version": "1.2.0",
      "model_name": "LayoutModel",
      "state": {}
     },
     "a428ee77cf3f4ad2b3a0f7bab1dbc989": {
      "model_module": "@jupyter-widgets/base",
      "model_module_version": "1.2.0",
      "model_name": "LayoutModel",
      "state": {}
     },
     "a5c23f3b3fb74261bae1ebb915883706": {
      "model_module": "@jupyter-widgets/controls",
      "model_module_version": "1.5.0",
      "model_name": "HTMLModel",
      "state": {
       "layout": "IPY_MODEL_d40240b615314ceb8b2cb3477f034122",
       "style": "IPY_MODEL_81dd18b26e014359b62381bf51e15d3a",
       "value": "epoch: 18568 loss: 0.4244134724140167:   4%"
      }
     },
     "a6db5a527b8d4ba882f2552fa8e4c821": {
      "model_module": "@jupyter-widgets/base",
      "model_module_version": "1.2.0",
      "model_name": "LayoutModel",
      "state": {}
     },
     "a79a314d2d09421eaeeac01e3cd29ca5": {
      "model_module": "@jupyter-widgets/controls",
      "model_module_version": "1.5.0",
      "model_name": "DescriptionStyleModel",
      "state": {
       "description_width": ""
      }
     },
     "aba382694f0242089185e9e4da0f55af": {
      "model_module": "@jupyter-widgets/base",
      "model_module_version": "1.2.0",
      "model_name": "LayoutModel",
      "state": {}
     },
     "ac5142e939c748fdb1865cf8dca49aef": {
      "model_module": "@jupyter-widgets/base",
      "model_module_version": "1.2.0",
      "model_name": "LayoutModel",
      "state": {}
     },
     "ac8d3b95586449d191e792249d170f4c": {
      "model_module": "@jupyter-widgets/controls",
      "model_module_version": "1.5.0",
      "model_name": "HTMLModel",
      "state": {
       "layout": "IPY_MODEL_ad20f2d7faa142869a548733b6bba000",
       "style": "IPY_MODEL_8cbd983fe24d4bde91892e384402a508",
       "value": " 5000/5000 [00:06&lt;00:00, 733.76it/s]"
      }
     },
     "acbf9e624e6b4bb09b6c2415688d4a63": {
      "model_module": "@jupyter-widgets/controls",
      "model_module_version": "1.5.0",
      "model_name": "DescriptionStyleModel",
      "state": {
       "description_width": ""
      }
     },
     "ad20f2d7faa142869a548733b6bba000": {
      "model_module": "@jupyter-widgets/base",
      "model_module_version": "1.2.0",
      "model_name": "LayoutModel",
      "state": {}
     },
     "adcf86049756426e888948a127d9fd1e": {
      "model_module": "@jupyter-widgets/controls",
      "model_module_version": "1.5.0",
      "model_name": "HBoxModel",
      "state": {
       "children": [
        "IPY_MODEL_930c4ba2482d46a696eba562077c970c",
        "IPY_MODEL_608f4f7ad9b948aea21bebc165def3d6",
        "IPY_MODEL_02573bb8eca54bfbad77034b75938476"
       ],
       "layout": "IPY_MODEL_32cd6645dd9c4529939129425c7aa563"
      }
     },
     "ae3272d6a46e410fa61f5a5d71f92218": {
      "model_module": "@jupyter-widgets/controls",
      "model_module_version": "1.5.0",
      "model_name": "HBoxModel",
      "state": {
       "children": [
        "IPY_MODEL_4411741fc2ae43848dbfbc060891fe59",
        "IPY_MODEL_34da4c56e97f4a58a35e5724367ac51a",
        "IPY_MODEL_165fe08789e84432be84c82dd54dec6e"
       ],
       "layout": "IPY_MODEL_dbd6d219f3644895a387e9c2c3d92aef"
      }
     },
     "b1b8395dc9894a2aa11f8accb1389347": {
      "model_module": "@jupyter-widgets/controls",
      "model_module_version": "1.5.0",
      "model_name": "HBoxModel",
      "state": {
       "children": [
        "IPY_MODEL_08dd4917fb364330953af2437f39772f",
        "IPY_MODEL_76de233f7f3d4f2cb4e295629cad6c3e",
        "IPY_MODEL_c7984fde01f54c54927523fd2e3936c4"
       ],
       "layout": "IPY_MODEL_7d9eec1098dc4567846cd8c27eb6f25e"
      }
     },
     "b1be28b122034292b1e21654a79d907a": {
      "model_module": "@jupyter-widgets/base",
      "model_module_version": "1.2.0",
      "model_name": "LayoutModel",
      "state": {}
     },
     "b233c9470b134ddd9e6d59bf07adf2b2": {
      "model_module": "@jupyter-widgets/base",
      "model_module_version": "1.2.0",
      "model_name": "LayoutModel",
      "state": {}
     },
     "b490a736cf6a4eb2b926656e80054d8a": {
      "model_module": "@jupyter-widgets/controls",
      "model_module_version": "1.5.0",
      "model_name": "DescriptionStyleModel",
      "state": {
       "description_width": ""
      }
     },
     "b809678a11a3421d8115dc9b83268dda": {
      "model_module": "@jupyter-widgets/controls",
      "model_module_version": "1.5.0",
      "model_name": "ProgressStyleModel",
      "state": {
       "description_width": ""
      }
     },
     "b948847708ce4cf9b8cb745986cc5afd": {
      "model_module": "@jupyter-widgets/base",
      "model_module_version": "1.2.0",
      "model_name": "LayoutModel",
      "state": {}
     },
     "ba7a5144e0be4897a1efcfc45b15e731": {
      "model_module": "@jupyter-widgets/controls",
      "model_module_version": "1.5.0",
      "model_name": "ProgressStyleModel",
      "state": {
       "description_width": ""
      }
     },
     "bfce1466d7f04b3eb1cc4cff85f36657": {
      "model_module": "@jupyter-widgets/base",
      "model_module_version": "1.2.0",
      "model_name": "LayoutModel",
      "state": {}
     },
     "c00c33d609394d88a7f0137889a2d9ad": {
      "model_module": "@jupyter-widgets/controls",
      "model_module_version": "1.5.0",
      "model_name": "HTMLModel",
      "state": {
       "layout": "IPY_MODEL_0faa3b05d4774322bf04984022830daa",
       "style": "IPY_MODEL_72862640d98145e9b78a6a7350a9d723",
       "value": "epoch: 1999 loss: 0.6467482447624207: 100%"
      }
     },
     "c109da1fa8c844aca7a42257ff01be01": {
      "model_module": "@jupyter-widgets/base",
      "model_module_version": "1.2.0",
      "model_name": "LayoutModel",
      "state": {}
     },
     "c37783ae562246b3aeb2755993bbe86a": {
      "model_module": "@jupyter-widgets/controls",
      "model_module_version": "1.5.0",
      "model_name": "HBoxModel",
      "state": {
       "children": [
        "IPY_MODEL_cc9b1ba9ed77461fa73b0d1d9eb8f724",
        "IPY_MODEL_d6db9824db9e4919be7c9c390f38e4eb",
        "IPY_MODEL_76ad6fbd1da64390b0cc292ef57728fe"
       ],
       "layout": "IPY_MODEL_20c84e5c70584e69badfcedd070c7e0a"
      }
     },
     "c3dadd7048c6405ba6150f80c956fe19": {
      "model_module": "@jupyter-widgets/controls",
      "model_module_version": "1.5.0",
      "model_name": "ProgressStyleModel",
      "state": {
       "description_width": ""
      }
     },
     "c5982adc995a4b899a7f4a805f6b1d4e": {
      "model_module": "@jupyter-widgets/base",
      "model_module_version": "1.2.0",
      "model_name": "LayoutModel",
      "state": {}
     },
     "c5a36c0e4899487eab13f3804e83145e": {
      "model_module": "@jupyter-widgets/base",
      "model_module_version": "1.2.0",
      "model_name": "LayoutModel",
      "state": {}
     },
     "c63bebfff86e4a81bcbe77ad61ffcc91": {
      "model_module": "@jupyter-widgets/controls",
      "model_module_version": "1.5.0",
      "model_name": "DescriptionStyleModel",
      "state": {
       "description_width": ""
      }
     },
     "c69108af1ac04c15b5bcc2e20b2f8d05": {
      "model_module": "@jupyter-widgets/controls",
      "model_module_version": "1.5.0",
      "model_name": "HBoxModel",
      "state": {
       "children": [
        "IPY_MODEL_6a9828b6522048aa8e422e5be4e41bd5",
        "IPY_MODEL_e33512c76c8a48638085dafcff559ea7",
        "IPY_MODEL_5f73c79a9fcc4c348fc74c0adfebcd36"
       ],
       "layout": "IPY_MODEL_2361b28423fc45afa1b34ca45bf7cf31"
      }
     },
     "c756a69b7525465b9ee0984da436aab5": {
      "model_module": "@jupyter-widgets/controls",
      "model_module_version": "1.5.0",
      "model_name": "DescriptionStyleModel",
      "state": {
       "description_width": ""
      }
     },
     "c7984fde01f54c54927523fd2e3936c4": {
      "model_module": "@jupyter-widgets/controls",
      "model_module_version": "1.5.0",
      "model_name": "HTMLModel",
      "state": {
       "layout": "IPY_MODEL_35136315b96f45eebde8d57dc4223bd2",
       "style": "IPY_MODEL_f03c3f5bd9f54296bd2e126562770526",
       "value": " 2000/2000 [00:03&lt;00:00, 632.70it/s]"
      }
     },
     "c7a0b2682ef845968f4763b8b994f430": {
      "model_module": "@jupyter-widgets/controls",
      "model_module_version": "1.5.0",
      "model_name": "HBoxModel",
      "state": {
       "children": [
        "IPY_MODEL_ccf43d68cdc641798186cb9c7f830d48",
        "IPY_MODEL_ee6d69d5291a4451ae09c0353be647cf",
        "IPY_MODEL_1993f4ee751b49548072376700daeb61"
       ],
       "layout": "IPY_MODEL_6754e9012e924b69af31ac87526081b7"
      }
     },
     "c7abfeba8762499c8c836d8d4941442b": {
      "model_module": "@jupyter-widgets/controls",
      "model_module_version": "1.5.0",
      "model_name": "HBoxModel",
      "state": {
       "children": [
        "IPY_MODEL_00016d7adf7743b7900153ba4007f8f7",
        "IPY_MODEL_2b77334da5cd460da24b8d04dfe2670f",
        "IPY_MODEL_524ec6cb4b3b45e999013707392f8d05"
       ],
       "layout": "IPY_MODEL_fbdbbb2b6d3944188a596c81b5f2dd26"
      }
     },
     "c984972a5e36426e8dfa324c50354a3a": {
      "model_module": "@jupyter-widgets/base",
      "model_module_version": "1.2.0",
      "model_name": "LayoutModel",
      "state": {}
     },
     "cb0fa52e05614565a330649dcea79132": {
      "model_module": "@jupyter-widgets/controls",
      "model_module_version": "1.5.0",
      "model_name": "HTMLModel",
      "state": {
       "layout": "IPY_MODEL_4bed54b5b1d141c5ac6c8e462a172509",
       "style": "IPY_MODEL_5b937236ba554873b14b95b6d96f1dc6",
       "value": " 5000/5000 [00:06&lt;00:00, 771.72it/s]"
      }
     },
     "cc9b1ba9ed77461fa73b0d1d9eb8f724": {
      "model_module": "@jupyter-widgets/controls",
      "model_module_version": "1.5.0",
      "model_name": "HTMLModel",
      "state": {
       "layout": "IPY_MODEL_2df868137f074ff190e25269312df989",
       "style": "IPY_MODEL_fd686cbc9377450abb9435c2d0990254",
       "value": "epoch: 1999 loss: 0.47205856442451477: 100%"
      }
     },
     "ccd4e03ef61841b09926b5ef1032160f": {
      "model_module": "@jupyter-widgets/controls",
      "model_module_version": "1.5.0",
      "model_name": "DescriptionStyleModel",
      "state": {
       "description_width": ""
      }
     },
     "ccf43d68cdc641798186cb9c7f830d48": {
      "model_module": "@jupyter-widgets/controls",
      "model_module_version": "1.5.0",
      "model_name": "HTMLModel",
      "state": {
       "layout": "IPY_MODEL_4e8f3b54df75413a85e78ac2cc520c7a",
       "style": "IPY_MODEL_d84d161a01ab4ed390d0d65cb0202808",
       "value": "epoch: 3999 loss: 0.4708434045314789: 100%"
      }
     },
     "cdf14c6a1a9e44a58929cc7b88f18ddc": {
      "model_module": "@jupyter-widgets/controls",
      "model_module_version": "1.5.0",
      "model_name": "HBoxModel",
      "state": {
       "children": [
        "IPY_MODEL_f1041a6674c74a43a599a0ba5abe60ea",
        "IPY_MODEL_5aac1b068a7c42feb0990b99fc62cb06",
        "IPY_MODEL_25543a896dc449aca46bf740aae7341b"
       ],
       "layout": "IPY_MODEL_69c0c0b5a0724fa7a232b533c1c41307"
      }
     },
     "ce3db3adfa4f49d6bf47edf565ca6ebd": {
      "model_module": "@jupyter-widgets/controls",
      "model_module_version": "1.5.0",
      "model_name": "ProgressStyleModel",
      "state": {
       "description_width": ""
      }
     },
     "ce4312ba65354221bb2af5a4e2d0c20c": {
      "model_module": "@jupyter-widgets/controls",
      "model_module_version": "1.5.0",
      "model_name": "HBoxModel",
      "state": {
       "children": [
        "IPY_MODEL_e7dd615680ca4674b3ad01dac2029593",
        "IPY_MODEL_7a64e139e8c14808953b28098f4da852",
        "IPY_MODEL_e8c9c989611d4a96bf9901549823b108"
       ],
       "layout": "IPY_MODEL_a428ee77cf3f4ad2b3a0f7bab1dbc989"
      }
     },
     "d04a10fe72074fae85d232ad58644565": {
      "model_module": "@jupyter-widgets/controls",
      "model_module_version": "1.5.0",
      "model_name": "HTMLModel",
      "state": {
       "layout": "IPY_MODEL_8e3efe8d58a941dfb9cb40c36dd3421a",
       "style": "IPY_MODEL_acbf9e624e6b4bb09b6c2415688d4a63",
       "value": " 4000/4000 [00:06&lt;00:00, 571.09it/s]"
      }
     },
     "d40240b615314ceb8b2cb3477f034122": {
      "model_module": "@jupyter-widgets/base",
      "model_module_version": "1.2.0",
      "model_name": "LayoutModel",
      "state": {}
     },
     "d6618a9655c14798a71ba38df23b0fe8": {
      "model_module": "@jupyter-widgets/controls",
      "model_module_version": "1.5.0",
      "model_name": "DescriptionStyleModel",
      "state": {
       "description_width": ""
      }
     },
     "d6db9824db9e4919be7c9c390f38e4eb": {
      "model_module": "@jupyter-widgets/controls",
      "model_module_version": "1.5.0",
      "model_name": "FloatProgressModel",
      "state": {
       "bar_style": "success",
       "layout": "IPY_MODEL_c984972a5e36426e8dfa324c50354a3a",
       "max": 2000,
       "style": "IPY_MODEL_53b3b9bdeeb04465a8f1934fbd346494",
       "value": 2000
      }
     },
     "d724525e8c7b44518a6519e8551b697e": {
      "model_module": "@jupyter-widgets/base",
      "model_module_version": "1.2.0",
      "model_name": "LayoutModel",
      "state": {}
     },
     "d7c5bd1a0f2a48bcb0874e4079c51d8e": {
      "model_module": "@jupyter-widgets/base",
      "model_module_version": "1.2.0",
      "model_name": "LayoutModel",
      "state": {}
     },
     "d84d161a01ab4ed390d0d65cb0202808": {
      "model_module": "@jupyter-widgets/controls",
      "model_module_version": "1.5.0",
      "model_name": "DescriptionStyleModel",
      "state": {
       "description_width": ""
      }
     },
     "d96aebeec9f6491c92d7b45499d9142f": {
      "model_module": "@jupyter-widgets/controls",
      "model_module_version": "1.5.0",
      "model_name": "DescriptionStyleModel",
      "state": {
       "description_width": ""
      }
     },
     "db5c8cd9ecaf408c8fabdabb377dcf0b": {
      "model_module": "@jupyter-widgets/controls",
      "model_module_version": "1.5.0",
      "model_name": "HTMLModel",
      "state": {
       "layout": "IPY_MODEL_50a1dba81e694a7fbf0f4d95a7703775",
       "style": "IPY_MODEL_48da1ce7f2ec49fc8befe849ff29200b",
       "value": " 2000/2000 [00:03&lt;00:00, 671.54it/s]"
      }
     },
     "dbd6d219f3644895a387e9c2c3d92aef": {
      "model_module": "@jupyter-widgets/base",
      "model_module_version": "1.2.0",
      "model_name": "LayoutModel",
      "state": {}
     },
     "df00c424c3fb4b50bb9e28bfc435c8e5": {
      "model_module": "@jupyter-widgets/controls",
      "model_module_version": "1.5.0",
      "model_name": "HTMLModel",
      "state": {
       "layout": "IPY_MODEL_ef183d98c51c4557a799f18278b3a8ed",
       "style": "IPY_MODEL_d6618a9655c14798a71ba38df23b0fe8",
       "value": " 15000/15000 [00:21&lt;00:00, 678.12it/s]"
      }
     },
     "dfe39b1bf3c74667a28516e070100f81": {
      "model_module": "@jupyter-widgets/controls",
      "model_module_version": "1.5.0",
      "model_name": "HTMLModel",
      "state": {
       "layout": "IPY_MODEL_552121da37624f9b9fec186e24b3290f",
       "style": "IPY_MODEL_4860ffe32f434dcc9ef679a3f0c919ff",
       "value": "epoch: 14999 loss: 0.4748479425907135: 100%"
      }
     },
     "e2dad992a0d94a6fa164d0c00c740aed": {
      "model_module": "@jupyter-widgets/controls",
      "model_module_version": "1.5.0",
      "model_name": "HTMLModel",
      "state": {
       "layout": "IPY_MODEL_4065ff39cbbb49198ef2517feca86b9d",
       "style": "IPY_MODEL_0a7657f3ef5d4f97bf0e60b87b2426c9",
       "value": "epoch: 4999 loss: 0.6467999815940857: 100%"
      }
     },
     "e33512c76c8a48638085dafcff559ea7": {
      "model_module": "@jupyter-widgets/controls",
      "model_module_version": "1.5.0",
      "model_name": "FloatProgressModel",
      "state": {
       "bar_style": "success",
       "layout": "IPY_MODEL_6adf0b507e33474a8cb118996e50ae92",
       "max": 5000,
       "style": "IPY_MODEL_53e515d00e2c48b583ed30f986af664b",
       "value": 5000
      }
     },
     "e7508e25dec84b599fc239d01e1211e1": {
      "model_module": "@jupyter-widgets/controls",
      "model_module_version": "1.5.0",
      "model_name": "HTMLModel",
      "state": {
       "layout": "IPY_MODEL_d724525e8c7b44518a6519e8551b697e",
       "style": "IPY_MODEL_9c5ccd36470b4197b15bcf4f7e76aa5e",
       "value": " 5000/5000 [00:05&lt;00:00, 848.84it/s]"
      }
     },
     "e774a107f5bd46878e10b8989109c0af": {
      "model_module": "@jupyter-widgets/controls",
      "model_module_version": "1.5.0",
      "model_name": "DescriptionStyleModel",
      "state": {
       "description_width": ""
      }
     },
     "e7dd615680ca4674b3ad01dac2029593": {
      "model_module": "@jupyter-widgets/controls",
      "model_module_version": "1.5.0",
      "model_name": "HTMLModel",
      "state": {
       "layout": "IPY_MODEL_318695fdbf2544028fd93aad92fceb49",
       "style": "IPY_MODEL_0e37c55a149b4f05a628fc00b3787381",
       "value": "epoch: 999 loss: 0.6423887610435486: 100%"
      }
     },
     "e83b2ab9fa264690bcbb7da70d3b96d3": {
      "model_module": "@jupyter-widgets/controls",
      "model_module_version": "1.5.0",
      "model_name": "DescriptionStyleModel",
      "state": {
       "description_width": ""
      }
     },
     "e8c9c989611d4a96bf9901549823b108": {
      "model_module": "@jupyter-widgets/controls",
      "model_module_version": "1.5.0",
      "model_name": "HTMLModel",
      "state": {
       "layout": "IPY_MODEL_f756d37459424931a6d6fa459ed4ac58",
       "style": "IPY_MODEL_5745481524ae4b579ed5d39a25e16de6",
       "value": " 1000/1000 [00:01&lt;00:00, 823.08it/s]"
      }
     },
     "eb89d08141a04a2bae360b04254cd2bb": {
      "model_module": "@jupyter-widgets/controls",
      "model_module_version": "1.5.0",
      "model_name": "HTMLModel",
      "state": {
       "layout": "IPY_MODEL_4f5d2d6f68b7447da5fe6733a037e696",
       "style": "IPY_MODEL_11c165bea6b7417bbe9d5e805708fbb4",
       "value": "epoch: 4999 loss: 0.6440514922142029: 100%"
      }
     },
     "ec945d0762b14e2197e0cf9bf9a31225": {
      "model_module": "@jupyter-widgets/base",
      "model_module_version": "1.2.0",
      "model_name": "LayoutModel",
      "state": {}
     },
     "ee6d69d5291a4451ae09c0353be647cf": {
      "model_module": "@jupyter-widgets/controls",
      "model_module_version": "1.5.0",
      "model_name": "FloatProgressModel",
      "state": {
       "bar_style": "success",
       "layout": "IPY_MODEL_2c9138cd2f004f5481c63d471173f3cc",
       "max": 4000,
       "style": "IPY_MODEL_2021e1470c2340eca45b3a180034221e",
       "value": 4000
      }
     },
     "ef183d98c51c4557a799f18278b3a8ed": {
      "model_module": "@jupyter-widgets/base",
      "model_module_version": "1.2.0",
      "model_name": "LayoutModel",
      "state": {}
     },
     "f03c3f5bd9f54296bd2e126562770526": {
      "model_module": "@jupyter-widgets/controls",
      "model_module_version": "1.5.0",
      "model_name": "DescriptionStyleModel",
      "state": {
       "description_width": ""
      }
     },
     "f1041a6674c74a43a599a0ba5abe60ea": {
      "model_module": "@jupyter-widgets/controls",
      "model_module_version": "1.5.0",
      "model_name": "HTMLModel",
      "state": {
       "layout": "IPY_MODEL_f25e0b36df144e6eafafc310ae234633",
       "style": "IPY_MODEL_0f6700d5f0f448fa92542f0dba37e361",
       "value": "epoch: 1999 loss: 0.48672452569007874: 100%"
      }
     },
     "f1aada7d42194ba3903ec30f115c9c16": {
      "model_module": "@jupyter-widgets/base",
      "model_module_version": "1.2.0",
      "model_name": "LayoutModel",
      "state": {}
     },
     "f1c45e5bfa8640f284ab9c49acf3bf01": {
      "model_module": "@jupyter-widgets/controls",
      "model_module_version": "1.5.0",
      "model_name": "FloatProgressModel",
      "state": {
       "bar_style": "success",
       "layout": "IPY_MODEL_71950993e7314b2f98a39b599e08e18d",
       "max": 5000,
       "style": "IPY_MODEL_4065bc0b41f74b88834b034c3bf99a53",
       "value": 5000
      }
     },
     "f25e0b36df144e6eafafc310ae234633": {
      "model_module": "@jupyter-widgets/base",
      "model_module_version": "1.2.0",
      "model_name": "LayoutModel",
      "state": {}
     },
     "f313b4609ba04011bcc4f868ab615261": {
      "model_module": "@jupyter-widgets/base",
      "model_module_version": "1.2.0",
      "model_name": "LayoutModel",
      "state": {}
     },
     "f470e2d56cf24b9cbe1dd11efbc2bc3d": {
      "model_module": "@jupyter-widgets/controls",
      "model_module_version": "1.5.0",
      "model_name": "ProgressStyleModel",
      "state": {
       "description_width": ""
      }
     },
     "f6271848d7244184928286f778d825e5": {
      "model_module": "@jupyter-widgets/base",
      "model_module_version": "1.2.0",
      "model_name": "LayoutModel",
      "state": {}
     },
     "f756d37459424931a6d6fa459ed4ac58": {
      "model_module": "@jupyter-widgets/base",
      "model_module_version": "1.2.0",
      "model_name": "LayoutModel",
      "state": {}
     },
     "f890006a0d5d4e5795487777174ce54a": {
      "model_module": "@jupyter-widgets/base",
      "model_module_version": "1.2.0",
      "model_name": "LayoutModel",
      "state": {}
     },
     "f9a90e9530b74bbf86968eaf961faf90": {
      "model_module": "@jupyter-widgets/controls",
      "model_module_version": "1.5.0",
      "model_name": "HBoxModel",
      "state": {
       "children": [
        "IPY_MODEL_a5c23f3b3fb74261bae1ebb915883706",
        "IPY_MODEL_309d82f0d1e449a4bd9ae12dfbaff734",
        "IPY_MODEL_99bc29bf98e44dee9a84e1ecc303e07f"
       ],
       "layout": "IPY_MODEL_ac5142e939c748fdb1865cf8dca49aef"
      }
     },
     "fa82a368bcad44cbabcac5ccf143ac0f": {
      "model_module": "@jupyter-widgets/controls",
      "model_module_version": "1.5.0",
      "model_name": "ProgressStyleModel",
      "state": {
       "description_width": ""
      }
     },
     "fb5311904666481facfbd51319f5dc21": {
      "model_module": "@jupyter-widgets/base",
      "model_module_version": "1.2.0",
      "model_name": "LayoutModel",
      "state": {}
     },
     "fbdbbb2b6d3944188a596c81b5f2dd26": {
      "model_module": "@jupyter-widgets/base",
      "model_module_version": "1.2.0",
      "model_name": "LayoutModel",
      "state": {}
     },
     "fc5b840dffe944cbba0be4f8ff68d77b": {
      "model_module": "@jupyter-widgets/controls",
      "model_module_version": "1.5.0",
      "model_name": "FloatProgressModel",
      "state": {
       "bar_style": "success",
       "layout": "IPY_MODEL_f6271848d7244184928286f778d825e5",
       "max": 15000,
       "style": "IPY_MODEL_8bc21755a45942199b0a8db75fd5bab2",
       "value": 15000
      }
     },
     "fcc0407d329a49919004074b09bfb434": {
      "model_module": "@jupyter-widgets/base",
      "model_module_version": "1.2.0",
      "model_name": "LayoutModel",
      "state": {}
     },
     "fd686cbc9377450abb9435c2d0990254": {
      "model_module": "@jupyter-widgets/controls",
      "model_module_version": "1.5.0",
      "model_name": "DescriptionStyleModel",
      "state": {
       "description_width": ""
      }
     },
     "fdea318f9b55464380a5192938ce42f5": {
      "model_module": "@jupyter-widgets/controls",
      "model_module_version": "1.5.0",
      "model_name": "HTMLModel",
      "state": {
       "layout": "IPY_MODEL_f313b4609ba04011bcc4f868ab615261",
       "style": "IPY_MODEL_d96aebeec9f6491c92d7b45499d9142f",
       "value": "epoch: 1999 loss: 0.47432199120521545: 100%"
      }
     },
     "fe78a55dfe2d4de591fd6b1090ff229f": {
      "model_module": "@jupyter-widgets/controls",
      "model_module_version": "1.5.0",
      "model_name": "DescriptionStyleModel",
      "state": {
       "description_width": ""
      }
     }
    },
    "version_major": 2,
    "version_minor": 0
   }
  }
 },
 "nbformat": 4,
 "nbformat_minor": 5
}
