{
 "cells": [
  {
   "cell_type": "code",
   "execution_count": 1,
   "id": "6bb7f99f-d2d5-4b06-a7c2-835a93cfba64",
   "metadata": {},
   "outputs": [
    {
     "data": {
      "text/plain": [
       "<torch._C.Generator at 0x7f4aca629650>"
      ]
     },
     "execution_count": 1,
     "metadata": {},
     "output_type": "execute_result"
    }
   ],
   "source": [
    "import csv\n",
    "\n",
    "import matplotlib.pyplot as plt\n",
    "import numpy as np\n",
    "import torch\n",
    "import torch.nn as nn\n",
    "from sklearn import datasets\n",
    "from tqdm.notebook import tqdm\n",
    "\n",
    "torch.manual_seed(32)"
   ]
  },
  {
   "cell_type": "code",
   "execution_count": 2,
   "id": "a415d6d9-5c2b-4cc3-a502-2d3f04873d28",
   "metadata": {},
   "outputs": [
    {
     "name": "stdout",
     "output_type": "stream",
     "text": [
      "{'Pregnancies': '6', 'Glucose': '148', 'BloodPressure': '72', 'SkinThickness': '35', 'Insulin': '0', 'BMI': '33.6', 'DiabetesPedigreeFunction': '0.627', 'Age': '50', 'Outcome': '1'}\n"
     ]
    }
   ],
   "source": [
    "f = True\n",
    "X = []\n",
    "y = []\n",
    "with open(\n",
    "    \"../../data/diabetes1.csv\",\n",
    "    newline=\"\",\n",
    ") as csvfile:\n",
    "    reader = csv.DictReader(csvfile)\n",
    "    for row in reader:\n",
    "        if f:\n",
    "            print(row)\n",
    "            f = False\n",
    "        X.append(np.array([float(row[\"Age\"]), float(row[\"Glucose\"])]))\n",
    "        y.append(np.intc(1 if row[\"Outcome\"].strip().upper() == \"1\" else 0))\n",
    "X = np.array(X)\n",
    "y = np.array(y)\n",
    "\n",
    "x_data = torch.Tensor(X)\n",
    "y_data = torch.Tensor(y.reshape(len(X), 1))"
   ]
  },
  {
   "cell_type": "code",
   "execution_count": 3,
   "id": "6dc00be1-62e4-4446-8fee-5e8866f26035",
   "metadata": {},
   "outputs": [
    {
     "data": {
      "text/plain": [
       "<matplotlib.collections.PathCollection at 0x7f4a9ea57a90>"
      ]
     },
     "execution_count": 3,
     "metadata": {},
     "output_type": "execute_result"
    },
    {
     "data": {
      "image/png": "[encoded data removed]",
      "text/plain": [
       "<Figure size 432x288 with 1 Axes>"
      ]
     },
     "metadata": {
      "needs_background": "light"
     },
     "output_type": "display_data"
    }
   ],
   "source": [
    "plt.scatter(X[y == 0, 0], X[y == 0, 1])\n",
    "plt.scatter(X[y == 1, 0], X[y == 1, 1])"
   ]
  },
  {
   "cell_type": "code",
   "execution_count": 4,
   "id": "7893ee94-0085-4c5f-aeb6-f543d7120148",
   "metadata": {},
   "outputs": [],
   "source": [
    "class Model(nn.Module):\n",
    "    def __init__(self, input_size, layers, output_size):\n",
    "        super().__init__()\n",
    "        self.layers = []\n",
    "        first = True\n",
    "        for node_size in layers:\n",
    "            if first:\n",
    "                item = nn.Linear(input_size, layers[0])\n",
    "                setattr(self, str(hash(item)), item)\n",
    "                self.layers.append(item)\n",
    "                previous_node_size = layers[0]\n",
    "                first = False\n",
    "                continue\n",
    "            else:\n",
    "                item = nn.Linear(previous_node_size, node_size)\n",
    "                setattr(self, str(hash(item)), item)\n",
    "                self.layers.append(item)\n",
    "            previous_node_size = node_size\n",
    "        item = nn.Linear(previous_node_size, output_size)\n",
    "        setattr(self, str(hash(item)), item)\n",
    "        self.layers.append(item)\n",
    "\n",
    "    def forward(self, x):\n",
    "        for layer in self.layers:\n",
    "            x = torch.sigmoid(layer(x))\n",
    "        return x\n",
    "\n",
    "    def predict(self, x):\n",
    "        pred = self.forward(x)\n",
    "        if pred >= 0.5:\n",
    "            return 1\n",
    "        else:\n",
    "            return 0"
   ]
  },
  {
   "cell_type": "code",
   "execution_count": 5,
   "id": "d455b7f5-9c5f-482d-9e03-caad2c57a6d0",
   "metadata": {},
   "outputs": [],
   "source": [
    "model = Model(2, [20, 20, 10], 1)\n",
    "# print(list(model.parameters()))"
   ]
  },
  {
   "cell_type": "code",
   "execution_count": 6,
   "id": "c6695952-3149-4b29-a42c-d32096da8d27",
   "metadata": {},
   "outputs": [
    {
     "data": {
      "text/plain": [
       "[Linear(in_features=2, out_features=20, bias=True),\n",
       " Linear(in_features=20, out_features=20, bias=True),\n",
       " Linear(in_features=20, out_features=10, bias=True),\n",
       " Linear(in_features=10, out_features=1, bias=True)]"
      ]
     },
     "execution_count": 6,
     "metadata": {},
     "output_type": "execute_result"
    }
   ],
   "source": [
    "model.layers"
   ]
  },
  {
   "cell_type": "code",
   "execution_count": 7,
   "id": "1257616c-b29c-4e5a-919d-145a3efe600e",
   "metadata": {},
   "outputs": [
    {
     "data": {
      "text/plain": [
       "[Parameter containing:\n",
       " tensor([[ 0.5313, -0.3223],\n",
       "         [-0.1215,  0.4041],\n",
       "         [-0.5473,  0.1122],\n",
       "         [ 0.2094, -0.6747],\n",
       "         [ 0.1236, -0.2469],\n",
       "         [ 0.6343,  0.0310],\n",
       "         [ 0.5348,  0.3188],\n",
       "         [ 0.2729, -0.6705],\n",
       "         [ 0.6109, -0.5780],\n",
       "         [ 0.3078,  0.3212],\n",
       "         [-0.0046,  0.6092],\n",
       "         [-0.1871, -0.4174],\n",
       "         [ 0.2328, -0.1575],\n",
       "         [-0.5959, -0.5025],\n",
       "         [-0.4513,  0.2036],\n",
       "         [-0.4944,  0.3225],\n",
       "         [ 0.5469, -0.2869],\n",
       "         [ 0.3999,  0.0148],\n",
       "         [ 0.4507, -0.0892],\n",
       "         [-0.4416,  0.5347]], requires_grad=True),\n",
       " Parameter containing:\n",
       " tensor([-0.4348,  0.1642,  0.4030, -0.5118, -0.6428,  0.3951, -0.6988, -0.5278,\n",
       "          0.3065, -0.2371,  0.4991, -0.1528,  0.1138, -0.3906,  0.1398, -0.6531,\n",
       "         -0.5377, -0.5433,  0.0832, -0.1256], requires_grad=True),\n",
       " Parameter containing:\n",
       " tensor([[ 0.2226,  0.0084,  0.1928, -0.1329,  0.0555, -0.0384,  0.2026,  0.0746,\n",
       "           0.0161, -0.1430, -0.1898, -0.0713,  0.1152, -0.1209, -0.0939, -0.1957,\n",
       "           0.2109,  0.2021, -0.1286,  0.0072],\n",
       "         [-0.0125,  0.0396, -0.1453, -0.1395, -0.0328, -0.1719,  0.0249, -0.1143,\n",
       "          -0.1767, -0.0110, -0.0937,  0.0924,  0.1818, -0.1321, -0.0699, -0.0395,\n",
       "          -0.2179, -0.2169,  0.0892, -0.0145],\n",
       "         [-0.1143,  0.2137, -0.2228,  0.1976, -0.2135, -0.1317,  0.1224, -0.0566,\n",
       "          -0.0671, -0.1526,  0.0683,  0.1803,  0.0729,  0.2189, -0.1776, -0.1842,\n",
       "          -0.1340, -0.0227,  0.0391,  0.0046],\n",
       "         [ 0.0266, -0.1446, -0.0580,  0.0183,  0.0637, -0.1505,  0.1520, -0.0173,\n",
       "           0.0832,  0.2020,  0.1181,  0.0882, -0.0837, -0.1576,  0.0786,  0.1824,\n",
       "           0.1207,  0.0183,  0.1851, -0.0787],\n",
       "         [-0.0895, -0.0973, -0.1192, -0.0090, -0.2160,  0.1585, -0.2234, -0.1062,\n",
       "           0.0897, -0.0124, -0.0921, -0.2005,  0.1327,  0.2103,  0.0170, -0.0880,\n",
       "          -0.0521, -0.1669,  0.0639,  0.0932],\n",
       "         [-0.0456, -0.1099,  0.1166, -0.0282,  0.0824,  0.0445,  0.1523, -0.1055,\n",
       "          -0.1999,  0.0163, -0.1878, -0.2082,  0.1651, -0.0181,  0.1515,  0.1005,\n",
       "           0.1887,  0.0420,  0.2035, -0.0924],\n",
       "         [-0.1398, -0.0114, -0.0507,  0.1310, -0.0302,  0.0258, -0.1079, -0.1733,\n",
       "           0.0816, -0.1110,  0.2071,  0.2043, -0.1967, -0.0932, -0.1385,  0.2234,\n",
       "          -0.1146,  0.2112,  0.1775, -0.0308],\n",
       "         [-0.0663,  0.1642, -0.0349, -0.0323,  0.0403, -0.2085, -0.0091,  0.1165,\n",
       "          -0.0922, -0.0220, -0.1382, -0.0320,  0.1113, -0.0119, -0.1628,  0.0492,\n",
       "          -0.1660,  0.1967,  0.0886,  0.0194],\n",
       "         [-0.1749,  0.2169, -0.2164, -0.0093, -0.1842, -0.1849,  0.0573,  0.1511,\n",
       "           0.0801,  0.2110, -0.0180, -0.1623,  0.0514, -0.0194,  0.0302, -0.0208,\n",
       "          -0.2021, -0.0798,  0.2112,  0.1303],\n",
       "         [ 0.1861,  0.0605,  0.1904,  0.0407,  0.0228, -0.0293, -0.0920,  0.1286,\n",
       "          -0.1533, -0.0619,  0.1092, -0.0190, -0.1373, -0.0396,  0.0913, -0.0765,\n",
       "           0.1581, -0.1773,  0.1828, -0.0074],\n",
       "         [ 0.1495, -0.0556,  0.1001, -0.1973, -0.0661,  0.0525,  0.0901, -0.2102,\n",
       "           0.1770,  0.0938,  0.1036, -0.1132,  0.1902, -0.0897,  0.1039, -0.1794,\n",
       "          -0.0118,  0.0753, -0.2196, -0.0662],\n",
       "         [-0.1026,  0.0053, -0.1049,  0.0341,  0.1129,  0.0532, -0.1620, -0.0928,\n",
       "           0.0196,  0.1351, -0.1972, -0.2064, -0.1913, -0.0886,  0.0927,  0.1468,\n",
       "           0.1524,  0.1352, -0.0224, -0.0296],\n",
       "         [ 0.1801, -0.1035,  0.0603,  0.0382, -0.1067, -0.0585, -0.1246,  0.1887,\n",
       "           0.1751,  0.2060,  0.0834, -0.0899,  0.0599, -0.2063,  0.1685,  0.0530,\n",
       "           0.1816,  0.1369,  0.1662, -0.0376],\n",
       "         [-0.0137,  0.0190, -0.1062,  0.1108, -0.1653,  0.1264, -0.2043,  0.1062,\n",
       "           0.1895, -0.1053, -0.1220, -0.1947,  0.0182,  0.0546,  0.1555,  0.0349,\n",
       "          -0.1935, -0.2140, -0.1962, -0.1849],\n",
       "         [-0.1345, -0.2213, -0.1684, -0.1037,  0.0089,  0.1493,  0.0440,  0.0506,\n",
       "          -0.1751,  0.1070,  0.0439, -0.1689, -0.0922, -0.2010, -0.1302,  0.0931,\n",
       "           0.0306, -0.2139,  0.1624, -0.0674],\n",
       "         [ 0.0661,  0.1913, -0.1229,  0.1290, -0.0491,  0.0840,  0.1704, -0.0778,\n",
       "          -0.1027, -0.1798, -0.0972, -0.0427, -0.1489, -0.0094,  0.0009,  0.1970,\n",
       "          -0.2075,  0.0068, -0.1511,  0.1324],\n",
       "         [ 0.0459, -0.0820, -0.0687,  0.1821, -0.0027,  0.0276,  0.1220,  0.2109,\n",
       "          -0.0502,  0.0490, -0.1393, -0.1923,  0.0411,  0.0104,  0.1110, -0.1295,\n",
       "           0.1432,  0.0812, -0.0818,  0.0661],\n",
       "         [ 0.0523,  0.0729, -0.0154,  0.0112,  0.0366,  0.0244,  0.1952,  0.0238,\n",
       "          -0.0955, -0.1334, -0.0490, -0.0969,  0.1892, -0.1441, -0.1055, -0.2197,\n",
       "           0.0418, -0.0180,  0.0525, -0.1679],\n",
       "         [ 0.0627,  0.1634,  0.0867,  0.0763, -0.0660,  0.0062, -0.1807,  0.1781,\n",
       "           0.0943,  0.1055,  0.0474, -0.0168,  0.0934, -0.1477,  0.0105,  0.1033,\n",
       "          -0.2197, -0.0551,  0.1701,  0.0515],\n",
       "         [ 0.0585, -0.0877,  0.0029,  0.0942,  0.1888,  0.1751, -0.0086,  0.0198,\n",
       "          -0.2020, -0.2236,  0.1053, -0.1361,  0.0378, -0.0111, -0.0223,  0.1072,\n",
       "           0.1766,  0.0073,  0.2001,  0.0137]], requires_grad=True),\n",
       " Parameter containing:\n",
       " tensor([-0.0039, -0.1900, -0.0894, -0.1831,  0.2082, -0.1636,  0.0103,  0.0026,\n",
       "         -0.0707, -0.1112,  0.1545, -0.1175, -0.1489, -0.0960,  0.0350,  0.1358,\n",
       "          0.0833,  0.0361, -0.1764,  0.2222], requires_grad=True),\n",
       " Parameter containing:\n",
       " tensor([[ 0.1577,  0.1120, -0.1225,  0.1418, -0.1997, -0.1712, -0.1069,  0.1006,\n",
       "           0.0427,  0.0679,  0.0946,  0.2114, -0.0026,  0.0341,  0.0641, -0.0518,\n",
       "          -0.1835, -0.2000,  0.0749,  0.0330],\n",
       "         [ 0.0355, -0.0611,  0.0817,  0.0049,  0.0921,  0.1376,  0.0425,  0.0056,\n",
       "          -0.2016, -0.1057, -0.0412, -0.1800,  0.0564, -0.1484, -0.1779, -0.0341,\n",
       "           0.1632,  0.1438,  0.1441,  0.0260],\n",
       "         [ 0.1391,  0.1777, -0.0764, -0.1782,  0.2095,  0.1141, -0.0358, -0.1037,\n",
       "           0.1258,  0.1542, -0.0177,  0.1856,  0.1834, -0.0478, -0.0566,  0.0906,\n",
       "           0.2213, -0.1576,  0.1242,  0.1564],\n",
       "         [ 0.2084,  0.1501,  0.1922,  0.1399,  0.0254,  0.0278,  0.0914, -0.0036,\n",
       "          -0.1256, -0.1364, -0.1971, -0.1482, -0.0779, -0.1617, -0.1923,  0.1023,\n",
       "          -0.0657, -0.0678,  0.1599, -0.0995],\n",
       "         [ 0.1833, -0.0490, -0.1209,  0.1968, -0.1547, -0.1431, -0.0397, -0.1653,\n",
       "           0.1138,  0.0922, -0.1961,  0.0954, -0.1565, -0.1042,  0.1253, -0.1365,\n",
       "          -0.0860,  0.2008, -0.0166,  0.1828],\n",
       "         [ 0.1183,  0.0201, -0.0537,  0.0518, -0.0614,  0.0374,  0.1009,  0.0575,\n",
       "           0.1689, -0.2153, -0.1465, -0.1782, -0.1315,  0.0040, -0.1277,  0.0282,\n",
       "           0.0623,  0.1820,  0.0167, -0.0818],\n",
       "         [-0.1124, -0.2202,  0.2204, -0.2082,  0.1339, -0.1931, -0.1591,  0.0501,\n",
       "          -0.1459, -0.2107,  0.0767,  0.1267, -0.1487, -0.0390,  0.1709,  0.2103,\n",
       "           0.0611,  0.0335, -0.1050, -0.0310],\n",
       "         [-0.1920, -0.0527,  0.1451,  0.1906, -0.0684, -0.1867,  0.1782, -0.0658,\n",
       "          -0.2195,  0.0531, -0.1069,  0.2209, -0.0844, -0.0719,  0.1420, -0.0965,\n",
       "           0.1025,  0.1400, -0.0490, -0.1086],\n",
       "         [ 0.1354,  0.0263, -0.0169, -0.0962,  0.0580,  0.0766,  0.0407, -0.0365,\n",
       "           0.0212,  0.1247, -0.1741,  0.1764,  0.1948,  0.0988, -0.0520,  0.2034,\n",
       "           0.2094,  0.1578, -0.2020,  0.0270],\n",
       "         [ 0.0561,  0.2180,  0.1172, -0.0415,  0.1767, -0.0901,  0.1012,  0.0889,\n",
       "          -0.1097,  0.0333, -0.0978, -0.0558,  0.0467, -0.1151, -0.1651, -0.1575,\n",
       "          -0.0134,  0.1314,  0.1162, -0.1953]], requires_grad=True),\n",
       " Parameter containing:\n",
       " tensor([ 0.1637, -0.0179, -0.1395, -0.1119,  0.2012, -0.2000, -0.1990,  0.1627,\n",
       "          0.0816, -0.0877], requires_grad=True),\n",
       " Parameter containing:\n",
       " tensor([[ 0.2266,  0.2792,  0.0483,  0.1959,  0.2173,  0.2440, -0.1037,  0.1302,\n",
       "          -0.1946, -0.2958]], requires_grad=True),\n",
       " Parameter containing:\n",
       " tensor([-0.2051], requires_grad=True)]"
      ]
     },
     "execution_count": 7,
     "metadata": {},
     "output_type": "execute_result"
    }
   ],
   "source": [
    "list(model.parameters())"
   ]
  },
  {
   "cell_type": "code",
   "execution_count": 8,
   "id": "9de2ff8d-6a82-4cf9-b51d-704a44867099",
   "metadata": {},
   "outputs": [],
   "source": [
    "criterion = nn.BCELoss()\n",
    "optimizer = torch.optim.Adam(model.parameters(), lr=0.001)"
   ]
  },
  {
   "cell_type": "code",
   "execution_count": 9,
   "id": "0064c8fc-9813-487f-855f-4b68c899e620",
   "metadata": {
    "scrolled": true,
    "tags": []
   },
   "outputs": [
    {
     "data": {
      "application/vnd.jupyter.widget-view+json": {
       "model_id": "ec48cfa0dde44c959dcbf55d2d42706b",
       "version_major": 2,
       "version_minor": 0
      },
      "text/plain": [
       "  0%|          | 0/4000 [00:00<?, ?it/s]"
      ]
     },
     "metadata": {},
     "output_type": "display_data"
    }
   ],
   "source": [
    "epochs = 4000\n",
    "losses = []\n",
    "\n",
    "progress_bar = tqdm(range(epochs))\n",
    "for i in progress_bar:\n",
    "    y_pred = model.forward(x_data)\n",
    "    loss = criterion(y_pred, y_data)\n",
    "    losses.append(loss.item())\n",
    "    optimizer.zero_grad()\n",
    "    loss.backward()\n",
    "    optimizer.step()\n",
    "    progress_bar.set_description(f\"epoch: {i} loss: {loss.item()}\")"
   ]
  },
  {
   "cell_type": "code",
   "execution_count": 10,
   "id": "5e118115-b450-4f86-89a6-8a390e0d6e9d",
   "metadata": {},
   "outputs": [
    {
     "name": "stdout",
     "output_type": "stream",
     "text": [
      "Loss over time\n"
     ]
    },
    {
     "data": {
      "image/png": "[encoded data removed]",
      "text/plain": [
       "<Figure size 432x288 with 1 Axes>"
      ]
     },
     "metadata": {
      "needs_background": "light"
     },
     "output_type": "display_data"
    }
   ],
   "source": [
    "plt.plot(range(epochs), losses)\n",
    "plt.ylabel(\"Loss\")\n",
    "plt.xlabel(\"Epoc\")\n",
    "print(\"Loss over time\")"
   ]
  },
  {
   "cell_type": "code",
   "execution_count": 11,
   "id": "e9708d55-cf00-4eea-a6d6-9085d206b92f",
   "metadata": {},
   "outputs": [],
   "source": [
    "def plot_decision_boundry(X, y, scatter=False):\n",
    "    x_span = np.linspace(min(X[:, 0]) - 0.25, max(X[:, 0] + 0.25))\n",
    "    y_span = np.linspace(min(X[:, 1]) - 0.25, max(X[:, 1] + 0.25))\n",
    "    xx, yy = np.meshgrid(x_span, y_span)\n",
    "    grid = torch.Tensor(np.c_[xx.ravel(), yy.ravel()])\n",
    "    pred_func = model.forward(grid)\n",
    "    z = pred_func.view(xx.shape).detach().numpy()\n",
    "    plt.contourf(xx, yy, z)\n",
    "    if scatter:\n",
    "        plt.scatter(X[y == 0, 0], X[y == 0, 1])\n",
    "        plt.scatter(X[y == 1, 0], X[y == 1, 1])"
   ]
  },
  {
   "cell_type": "code",
   "execution_count": 12,
   "id": "71fd342d-2542-418f-a5ad-80c4faeb2c8a",
   "metadata": {},
   "outputs": [
    {
     "name": "stdout",
     "output_type": "stream",
     "text": [
      "Trained Network\n"
     ]
    },
    {
     "data": {
      "image/png": "[encoded data removed]",
      "text/plain": [
       "<Figure size 432x288 with 1 Axes>"
      ]
     },
     "metadata": {
      "needs_background": "light"
     },
     "output_type": "display_data"
    }
   ],
   "source": [
    "print(\"Trained Network\")\n",
    "plot_decision_boundry(X, y)"
   ]
  },
  {
   "cell_type": "code",
   "execution_count": 13,
   "id": "6255263d-50bc-4cd3-9e54-1339792c5dd0",
   "metadata": {},
   "outputs": [
    {
     "name": "stdout",
     "output_type": "stream",
     "text": [
      "Trained Network With data\n"
     ]
    },
    {
     "data": {
      "image/png": "[encoded data removed]",
      "text/plain": [
       "<Figure size 432x288 with 1 Axes>"
      ]
     },
     "metadata": {
      "needs_background": "light"
     },
     "output_type": "display_data"
    }
   ],
   "source": [
    "print(\"Trained Network With data\")\n",
    "plot_decision_boundry(X, y, scatter=True)"
   ]
  },
  {
   "cell_type": "code",
   "execution_count": 16,
   "id": "8826069c-aa37-4074-9c45-f114ac2fb087",
   "metadata": {},
   "outputs": [
    {
     "name": "stdout",
     "output_type": "stream",
     "text": [
      "First Prediction, 33 years old with BGL 103, group 0 = No Diabetus\n",
      "0\n"
     ]
    },
    {
     "data": {
      "image/png": "[encoded data removed]",
      "text/plain": [
       "<Figure size 432x288 with 1 Axes>"
      ]
     },
     "metadata": {
      "needs_background": "light"
     },
     "output_type": "display_data"
    }
   ],
   "source": [
    "age = 33\n",
    "bgl = 103\n",
    "point = torch.Tensor([age, bgl])\n",
    "\n",
    "pred = model.predict(point)\n",
    "print(\"First Prediction, 33 years old with BGL 103, group 0 = No Diabetus\")\n",
    "print(pred)\n",
    "plt.plot([age], [bgl], \"or\")\n",
    "plot_decision_boundry(X, y)"
   ]
  },
  {
   "cell_type": "code",
   "execution_count": 17,
   "id": "f609ed86-c226-485a-985e-9c1f84ee2af1",
   "metadata": {},
   "outputs": [
    {
     "name": "stdout",
     "output_type": "stream",
     "text": [
      "Second Prediction, 45 Years old with BGL 120, group 1 = Possible Diabetus\n",
      "1\n"
     ]
    },
    {
     "data": {
      "image/png": "[encoded data removed]",
      "text/plain": [
       "<Figure size 432x288 with 1 Axes>"
      ]
     },
     "metadata": {
      "needs_background": "light"
     },
     "output_type": "display_data"
    }
   ],
   "source": [
    "age = 45\n",
    "bgl = 120\n",
    "point = torch.Tensor([age, bgl])\n",
    "\n",
    "pred = model.predict(point)\n",
    "print(\"Second Prediction, 45 Years old with BGL 120, group 1 = Possible Diabetus\")\n",
    "print(pred)\n",
    "plt.plot([age], [bgl], \"or\")\n",
    "plot_decision_boundry(X, y)"
   ]
  },
  {
   "cell_type": "code",
   "execution_count": null,
   "id": "09ef2710-446d-4bf9-a439-1a0f3145e56e",
   "metadata": {},
   "outputs": [],
   "source": []
  },
  {
   "cell_type": "code",
   "execution_count": null,
   "id": "32f07a95-fda4-42ee-b40f-7689c6a4c3c9",
   "metadata": {},
   "outputs": [],
   "source": []
  }
 ],
 "metadata": {
  "kernelspec": {
   "display_name": "Python 3 (ipykernel)",
   "language": "python",
   "name": "python3"
  },
  "language_info": {
   "codemirror_mode": {
    "name": "ipython",
    "version": 3
   },
   "file_extension": ".py",
   "mimetype": "text/x-python",
   "name": "python",
   "nbconvert_exporter": "python",
   "pygments_lexer": "ipython3",
   "version": "3.10.4"
  },
  "widgets": {
   "application/vnd.jupyter.widget-state+json": {
    "state": {
     "10e8a771ef4944709b055a3d6d33bf79": {
      "model_module": "@jupyter-widgets/base",
      "model_module_version": "1.2.0",
      "model_name": "LayoutModel",
      "state": {}
     },
     "1d4301a846e94009a06bb50be7af2d46": {
      "model_module": "@jupyter-widgets/controls",
      "model_module_version": "1.5.0",
      "model_name": "HTMLModel",
      "state": {
       "layout": "IPY_MODEL_10e8a771ef4944709b055a3d6d33bf79",
       "style": "IPY_MODEL_d79de790ccab4470b153792f0b3ff917",
       "value": " 4000/4000 [00:07&lt;00:00, 525.26it/s]"
      }
     },
     "2a3d622f253f4e0a95c479ec8d4967cc": {
      "model_module": "@jupyter-widgets/controls",
      "model_module_version": "1.5.0",
      "model_name": "FloatProgressModel",
      "state": {
       "bar_style": "success",
       "layout": "IPY_MODEL_7c3517200968425eb362437389489e0e",
       "max": 4000,
       "style": "IPY_MODEL_fbbf732e2e794f20811ec13e5b676527",
       "value": 4000
      }
     },
     "3df31ab8022c4f798935a0a1df8f9941": {
      "model_module": "@jupyter-widgets/controls",
      "model_module_version": "1.5.0",
      "model_name": "DescriptionStyleModel",
      "state": {
       "description_width": ""
      }
     },
     "7c3517200968425eb362437389489e0e": {
      "model_module": "@jupyter-widgets/base",
      "model_module_version": "1.2.0",
      "model_name": "LayoutModel",
      "state": {}
     },
     "a4c8080b3dbf46669b72240a9c9f69e8": {
      "model_module": "@jupyter-widgets/base",
      "model_module_version": "1.2.0",
      "model_name": "LayoutModel",
      "state": {}
     },
     "c7617a9407bf432e93e9071ec0302c1f": {
      "model_module": "@jupyter-widgets/controls",
      "model_module_version": "1.5.0",
      "model_name": "HTMLModel",
      "state": {
       "layout": "IPY_MODEL_a4c8080b3dbf46669b72240a9c9f69e8",
       "style": "IPY_MODEL_3df31ab8022c4f798935a0a1df8f9941",
       "value": "epoch: 3999 loss: 0.464341402053833: 100%"
      }
     },
     "d79de790ccab4470b153792f0b3ff917": {
      "model_module": "@jupyter-widgets/controls",
      "model_module_version": "1.5.0",
      "model_name": "DescriptionStyleModel",
      "state": {
       "description_width": ""
      }
     },
     "e44b6b7fbf724d42bdaaf4bd7c80825a": {
      "model_module": "@jupyter-widgets/base",
      "model_module_version": "1.2.0",
      "model_name": "LayoutModel",
      "state": {}
     },
     "ec48cfa0dde44c959dcbf55d2d42706b": {
      "model_module": "@jupyter-widgets/controls",
      "model_module_version": "1.5.0",
      "model_name": "HBoxModel",
      "state": {
       "children": [
        "IPY_MODEL_c7617a9407bf432e93e9071ec0302c1f",
        "IPY_MODEL_2a3d622f253f4e0a95c479ec8d4967cc",
        "IPY_MODEL_1d4301a846e94009a06bb50be7af2d46"
       ],
       "layout": "IPY_MODEL_e44b6b7fbf724d42bdaaf4bd7c80825a"
      }
     },
     "fbbf732e2e794f20811ec13e5b676527": {
      "model_module": "@jupyter-widgets/controls",
      "model_module_version": "1.5.0",
      "model_name": "ProgressStyleModel",
      "state": {
       "description_width": ""
      }
     }
    },
    "version_major": 2,
    "version_minor": 0
   }
  }
 },
 "nbformat": 4,
 "nbformat_minor": 5
}
