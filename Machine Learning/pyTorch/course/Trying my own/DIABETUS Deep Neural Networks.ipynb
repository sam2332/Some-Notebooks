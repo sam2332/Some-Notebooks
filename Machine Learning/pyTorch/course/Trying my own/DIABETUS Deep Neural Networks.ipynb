{
 "cells": [
  {
   "cell_type": "code",
   "execution_count": 3,
   "id": "6bb7f99f-d2d5-4b06-a7c2-835a93cfba64",
   "metadata": {},
   "outputs": [
    {
     "data": {
      "text/plain": [
       "<torch._C.Generator at 0x7fa89af49430>"
      ]
     },
     "execution_count": 3,
     "metadata": {},
     "output_type": "execute_result"
    }
   ],
   "source": [
    "import csv\n",
    "\n",
    "import matplotlib.pyplot as plt\n",
    "import numpy as np\n",
    "import torch\n",
    "import torch.nn as nn\n",
    "from sklearn import datasets\n",
    "from tqdm.notebook import tqdm\n",
    "\n",
    "torch.manual_seed(32)"
   ]
  },
  {
   "cell_type": "code",
   "execution_count": 4,
   "id": "a415d6d9-5c2b-4cc3-a502-2d3f04873d28",
   "metadata": {},
   "outputs": [
    {
     "name": "stdout",
     "output_type": "stream",
     "text": [
      "{'Pregnancies': '6', 'Glucose': '148', 'BloodPressure': '72', 'SkinThickness': '35', 'Insulin': '0', 'BMI': '33.6', 'DiabetesPedigreeFunction': '0.627', 'Age': '50', 'Outcome': '1'}\n"
     ]
    }
   ],
   "source": [
    "f = True\n",
    "X = []\n",
    "y = []\n",
    "with open(\n",
    "    \"../../data/diabetes1.csv\",\n",
    "    newline=\"\",\n",
    ") as csvfile:\n",
    "    reader = csv.DictReader(csvfile)\n",
    "    for row in reader:\n",
    "        if f:\n",
    "            print(row)\n",
    "            f = False\n",
    "        X.append(np.array([float(row[\"Age\"]), float(row[\"Glucose\"])]))\n",
    "        y.append(np.intc(1 if row[\"Outcome\"].strip().upper() == \"1\" else 0))\n",
    "X = np.array(X)\n",
    "y = np.array(y)\n",
    "\n",
    "x_data = torch.Tensor(X)\n",
    "y_data = torch.Tensor(y.reshape(len(X), 1))"
   ]
  },
  {
   "cell_type": "code",
   "execution_count": 5,
   "id": "6dc00be1-62e4-4446-8fee-5e8866f26035",
   "metadata": {},
   "outputs": [
    {
     "data": {
      "text/plain": [
       "<matplotlib.collections.PathCollection at 0x7fa8535f1c00>"
      ]
     },
     "execution_count": 5,
     "metadata": {},
     "output_type": "execute_result"
    },
    {
     "data": {
      "image/png": "[encoded data removed]",
      "text/plain": [
       "<Figure size 432x288 with 1 Axes>"
      ]
     },
     "metadata": {
      "needs_background": "light"
     },
     "output_type": "display_data"
    }
   ],
   "source": [
    "plt.scatter(X[y == 0, 0], X[y == 0, 1])\n",
    "plt.scatter(X[y == 1, 0], X[y == 1, 1])"
   ]
  },
  {
   "cell_type": "code",
   "execution_count": 71,
   "id": "7893ee94-0085-4c5f-aeb6-f543d7120148",
   "metadata": {},
   "outputs": [],
   "source": [
    "class Model(nn.Module):\n",
    "    def __init__(self, input_size, layers, output_size):\n",
    "        super().__init__()\n",
    "        self.layers = []\n",
    "        first = True\n",
    "        for node_size in layers:\n",
    "            if first:\n",
    "                item = nn.Linear(input_size, layers[0])\n",
    "                setattr(self, str(hash(item)), item)\n",
    "                self.layers.append(item)\n",
    "                previous_node_size = layers[0]\n",
    "                first = False\n",
    "                continue\n",
    "            else:\n",
    "                item = nn.Linear(previous_node_size, node_size)\n",
    "                setattr(self, str(hash(item)), item)\n",
    "                self.layers.append(item)\n",
    "            previous_node_size = node_size\n",
    "        item = nn.Linear(previous_node_size, output_size)\n",
    "        setattr(self, str(hash(item)), item)\n",
    "        self.layers.append(item)\n",
    "\n",
    "    def forward(self, x):\n",
    "        for layer in self.layers:\n",
    "            x = torch.sigmoid(layer(x))\n",
    "        return x\n",
    "\n",
    "    def predict(self, x):\n",
    "        pred = self.forward(x)\n",
    "        if pred >= 0.5:\n",
    "            return 1\n",
    "        else:\n",
    "            return 0"
   ]
  },
  {
   "cell_type": "code",
   "execution_count": 96,
   "id": "d455b7f5-9c5f-482d-9e03-caad2c57a6d0",
   "metadata": {},
   "outputs": [
    {
     "name": "stdout",
     "output_type": "stream",
     "text": [
      "[Parameter containing:\n",
      "tensor([[-0.2639,  0.1255],\n",
      "        [-0.4709, -0.6637],\n",
      "        [-0.3782, -0.2814],\n",
      "        [-0.5911, -0.1895],\n",
      "        [-0.2782,  0.3041],\n",
      "        [ 0.2234, -0.3589]], requires_grad=True), Parameter containing:\n",
      "tensor([ 0.6360,  0.3059, -0.6850, -0.3637,  0.1755,  0.1452],\n",
      "       requires_grad=True), Parameter containing:\n",
      "tensor([[ 5.9926e-02, -9.6093e-02, -2.9567e-01,  3.3602e-01, -3.4905e-01,\n",
      "          6.6903e-02],\n",
      "        [ 1.4635e-01,  1.4514e-01,  1.0347e-01, -2.1377e-01,  7.9751e-03,\n",
      "         -1.8370e-01],\n",
      "        [ 3.3567e-01, -1.8665e-01,  1.1286e-01, -6.7231e-03,  2.9382e-01,\n",
      "          7.1321e-02],\n",
      "        [ 2.8230e-01, -6.4931e-02,  2.2026e-01,  2.1449e-01,  1.3417e-01,\n",
      "          2.7747e-01],\n",
      "        [-9.1956e-02,  3.8194e-01,  2.4510e-01,  2.2306e-01, -2.8218e-01,\n",
      "          3.0952e-05],\n",
      "        [ 3.3462e-01,  1.4852e-01, -1.9415e-01,  4.0235e-01,  5.4096e-02,\n",
      "         -1.5747e-01]], requires_grad=True), Parameter containing:\n",
      "tensor([ 0.1975,  0.3852,  0.1504, -0.2027,  0.0185,  0.3513],\n",
      "       requires_grad=True), Parameter containing:\n",
      "tensor([[ 0.3877,  0.1569, -0.0357,  0.2409, -0.1293,  0.3930],\n",
      "        [-0.2774,  0.1080, -0.3136, -0.1379, -0.3112,  0.2073],\n",
      "        [ 0.3163,  0.2000, -0.2971,  0.4067,  0.0515,  0.3034],\n",
      "        [ 0.0805,  0.2884,  0.3228,  0.2873,  0.2133,  0.0205],\n",
      "        [-0.0360, -0.0968, -0.2883, -0.1322, -0.0380,  0.2634],\n",
      "        [ 0.0160, -0.3474,  0.1822,  0.1357,  0.0830, -0.1194]],\n",
      "       requires_grad=True), Parameter containing:\n",
      "tensor([-0.2104,  0.1241,  0.3652,  0.1713,  0.4073, -0.2588],\n",
      "       requires_grad=True), Parameter containing:\n",
      "tensor([[-0.2148,  0.1061,  0.3052,  0.0108,  0.2138, -0.1947]],\n",
      "       requires_grad=True), Parameter containing:\n",
      "tensor([-0.2928], requires_grad=True)]\n"
     ]
    }
   ],
   "source": [
    "model = Model(2, [6, 6, 6], 1)\n",
    "print(list(model.parameters()))"
   ]
  },
  {
   "cell_type": "code",
   "execution_count": 97,
   "id": "c6695952-3149-4b29-a42c-d32096da8d27",
   "metadata": {},
   "outputs": [
    {
     "data": {
      "text/plain": [
       "[Linear(in_features=2, out_features=6, bias=True),\n",
       " Linear(in_features=6, out_features=6, bias=True),\n",
       " Linear(in_features=6, out_features=6, bias=True),\n",
       " Linear(in_features=6, out_features=1, bias=True)]"
      ]
     },
     "execution_count": 97,
     "metadata": {},
     "output_type": "execute_result"
    }
   ],
   "source": [
    "model.layers"
   ]
  },
  {
   "cell_type": "code",
   "execution_count": 98,
   "id": "1257616c-b29c-4e5a-919d-145a3efe600e",
   "metadata": {},
   "outputs": [
    {
     "data": {
      "text/plain": [
       "[Parameter containing:\n",
       " tensor([[-0.2639,  0.1255],\n",
       "         [-0.4709, -0.6637],\n",
       "         [-0.3782, -0.2814],\n",
       "         [-0.5911, -0.1895],\n",
       "         [-0.2782,  0.3041],\n",
       "         [ 0.2234, -0.3589]], requires_grad=True),\n",
       " Parameter containing:\n",
       " tensor([ 0.6360,  0.3059, -0.6850, -0.3637,  0.1755,  0.1452],\n",
       "        requires_grad=True),\n",
       " Parameter containing:\n",
       " tensor([[ 5.9926e-02, -9.6093e-02, -2.9567e-01,  3.3602e-01, -3.4905e-01,\n",
       "           6.6903e-02],\n",
       "         [ 1.4635e-01,  1.4514e-01,  1.0347e-01, -2.1377e-01,  7.9751e-03,\n",
       "          -1.8370e-01],\n",
       "         [ 3.3567e-01, -1.8665e-01,  1.1286e-01, -6.7231e-03,  2.9382e-01,\n",
       "           7.1321e-02],\n",
       "         [ 2.8230e-01, -6.4931e-02,  2.2026e-01,  2.1449e-01,  1.3417e-01,\n",
       "           2.7747e-01],\n",
       "         [-9.1956e-02,  3.8194e-01,  2.4510e-01,  2.2306e-01, -2.8218e-01,\n",
       "           3.0952e-05],\n",
       "         [ 3.3462e-01,  1.4852e-01, -1.9415e-01,  4.0235e-01,  5.4096e-02,\n",
       "          -1.5747e-01]], requires_grad=True),\n",
       " Parameter containing:\n",
       " tensor([ 0.1975,  0.3852,  0.1504, -0.2027,  0.0185,  0.3513],\n",
       "        requires_grad=True),\n",
       " Parameter containing:\n",
       " tensor([[ 0.3877,  0.1569, -0.0357,  0.2409, -0.1293,  0.3930],\n",
       "         [-0.2774,  0.1080, -0.3136, -0.1379, -0.3112,  0.2073],\n",
       "         [ 0.3163,  0.2000, -0.2971,  0.4067,  0.0515,  0.3034],\n",
       "         [ 0.0805,  0.2884,  0.3228,  0.2873,  0.2133,  0.0205],\n",
       "         [-0.0360, -0.0968, -0.2883, -0.1322, -0.0380,  0.2634],\n",
       "         [ 0.0160, -0.3474,  0.1822,  0.1357,  0.0830, -0.1194]],\n",
       "        requires_grad=True),\n",
       " Parameter containing:\n",
       " tensor([-0.2104,  0.1241,  0.3652,  0.1713,  0.4073, -0.2588],\n",
       "        requires_grad=True),\n",
       " Parameter containing:\n",
       " tensor([[-0.2148,  0.1061,  0.3052,  0.0108,  0.2138, -0.1947]],\n",
       "        requires_grad=True),\n",
       " Parameter containing:\n",
       " tensor([-0.2928], requires_grad=True)]"
      ]
     },
     "execution_count": 98,
     "metadata": {},
     "output_type": "execute_result"
    }
   ],
   "source": [
    "list(model.parameters())"
   ]
  },
  {
   "cell_type": "code",
   "execution_count": 99,
   "id": "9de2ff8d-6a82-4cf9-b51d-704a44867099",
   "metadata": {},
   "outputs": [],
   "source": [
    "criterion = nn.BCELoss()\n",
    "optimizer = torch.optim.Adam(model.parameters(), lr=0.001)"
   ]
  },
  {
   "cell_type": "code",
   "execution_count": 100,
   "id": "0064c8fc-9813-487f-855f-4b68c899e620",
   "metadata": {
    "scrolled": true,
    "tags": []
   },
   "outputs": [
    {
     "data": {
      "application/vnd.jupyter.widget-view+json": {
       "model_id": "c7abfeba8762499c8c836d8d4941442b",
       "version_major": 2,
       "version_minor": 0
      },
      "text/plain": [
       "  0%|          | 0/15000 [00:00<?, ?it/s]"
      ]
     },
     "metadata": {},
     "output_type": "display_data"
    }
   ],
   "source": [
    "epochs = 15000\n",
    "losses = []\n",
    "\n",
    "progress_bar = tqdm(range(epochs))\n",
    "for i in progress_bar:\n",
    "    y_pred = model.forward(x_data)\n",
    "    loss = criterion(y_pred, y_data)\n",
    "    losses.append(loss.item())\n",
    "    optimizer.zero_grad()\n",
    "    loss.backward()\n",
    "    optimizer.step()\n",
    "    progress_bar.set_description(f\"epoch: {i} loss: {loss.item()}\")"
   ]
  },
  {
   "cell_type": "code",
   "execution_count": 101,
   "id": "5e118115-b450-4f86-89a6-8a390e0d6e9d",
   "metadata": {},
   "outputs": [
    {
     "name": "stdout",
     "output_type": "stream",
     "text": [
      "Loss over time\n"
     ]
    },
    {
     "data": {
      "image/png": "[encoded data removed]",
      "text/plain": [
       "<Figure size 432x288 with 1 Axes>"
      ]
     },
     "metadata": {
      "needs_background": "light"
     },
     "output_type": "display_data"
    }
   ],
   "source": [
    "plt.plot(range(epochs), losses)\n",
    "plt.ylabel(\"Loss\")\n",
    "plt.xlabel(\"Epoc\")\n",
    "print(\"Loss over time\")"
   ]
  },
  {
   "cell_type": "code",
   "execution_count": 102,
   "id": "e9708d55-cf00-4eea-a6d6-9085d206b92f",
   "metadata": {},
   "outputs": [],
   "source": [
    "def plot_decision_boundry(X, y):\n",
    "    x_span = np.linspace(min(X[:, 0]) - 0.25, max(X[:, 0] + 0.25))\n",
    "    y_span = np.linspace(min(X[:, 1]) - 0.25, max(X[:, 1] + 0.25))\n",
    "    xx, yy = np.meshgrid(x_span, y_span)\n",
    "    grid = torch.Tensor(np.c_[xx.ravel(), yy.ravel()])\n",
    "    pred_func = model.forward(grid)\n",
    "    z = pred_func.view(xx.shape).detach().numpy()\n",
    "    plt.contourf(xx, yy, z)\n",
    "    plt.scatter(X[y == 0, 0], X[y == 0, 1])\n",
    "    plt.scatter(X[y == 1, 0], X[y == 1, 1])"
   ]
  },
  {
   "cell_type": "code",
   "execution_count": 103,
   "id": "8f07b02b-760d-45e6-b24a-215fd9fb3043",
   "metadata": {},
   "outputs": [
    {
     "name": "stdout",
     "output_type": "stream",
     "text": [
      "Trained Network\n"
     ]
    },
    {
     "data": {
      "image/png": "[encoded data removed]",
      "text/plain": [
       "<Figure size 432x288 with 1 Axes>"
      ]
     },
     "metadata": {
      "needs_background": "light"
     },
     "output_type": "display_data"
    }
   ],
   "source": [
    "print(\"Trained Network\")\n",
    "plot_decision_boundry(X, y)"
   ]
  },
  {
   "cell_type": "code",
   "execution_count": 104,
   "id": "8826069c-aa37-4074-9c45-f114ac2fb087",
   "metadata": {},
   "outputs": [
    {
     "name": "stdout",
     "output_type": "stream",
     "text": [
      "First Prediction, item in center of graph, group 1\n",
      "0\n"
     ]
    },
    {
     "data": {
      "image/png": "[encoded data removed]",
      "text/plain": [
       "<Figure size 432x288 with 1 Axes>"
      ]
     },
     "metadata": {
      "needs_background": "light"
     },
     "output_type": "display_data"
    }
   ],
   "source": [
    "age = 32\n",
    "bgl = 100\n",
    "point = torch.Tensor([age, bgl])\n",
    "\n",
    "pred = model.predict(point)\n",
    "print(\"First Prediction, item in center of graph, group 1\")\n",
    "print(pred)\n",
    "plt.plot([age], [bgl], \"or\")\n",
    "plot_decision_boundry(X, y)"
   ]
  },
  {
   "cell_type": "code",
   "execution_count": 105,
   "id": "f609ed86-c226-485a-985e-9c1f84ee2af1",
   "metadata": {},
   "outputs": [
    {
     "name": "stdout",
     "output_type": "stream",
     "text": [
      "First Prediction, item in center of graph, group 1\n",
      "1\n"
     ]
    },
    {
     "data": {
      "image/png": "[encoded data removed]",
      "text/plain": [
       "<Figure size 432x288 with 1 Axes>"
      ]
     },
     "metadata": {
      "needs_background": "light"
     },
     "output_type": "display_data"
    }
   ],
   "source": [
    "age = 40\n",
    "bgl = 150\n",
    "point = torch.Tensor([age, bgl])\n",
    "\n",
    "pred = model.predict(point)\n",
    "print(\"First Prediction, item in center of graph, group 1\")\n",
    "print(pred)\n",
    "plt.plot([age], [bgl], \"or\")\n",
    "plot_decision_boundry(X, y)"
   ]
  },
  {
   "cell_type": "code",
   "execution_count": null,
   "id": "09ef2710-446d-4bf9-a439-1a0f3145e56e",
   "metadata": {},
   "outputs": [],
   "source": []
  },
  {
   "cell_type": "code",
   "execution_count": null,
   "id": "32f07a95-fda4-42ee-b40f-7689c6a4c3c9",
   "metadata": {},
   "outputs": [],
   "source": []
  }
 ],
 "metadata": {
  "kernelspec": {
   "display_name": "Python 3 (ipykernel)",
   "language": "python",
   "name": "python3"
  },
  "language_info": {
   "codemirror_mode": {
    "name": "ipython",
    "version": 3
   },
   "file_extension": ".py",
   "mimetype": "text/x-python",
   "name": "python",
   "nbconvert_exporter": "python",
   "pygments_lexer": "ipython3",
   "version": "3.10.4"
  },
  "widgets": {
   "application/vnd.jupyter.widget-state+json": {
    "state": {
     "00016d7adf7743b7900153ba4007f8f7": {
      "model_module": "@jupyter-widgets/controls",
      "model_module_version": "1.5.0",
      "model_name": "HTMLModel",
      "state": {
       "layout": "IPY_MODEL_5972b1ed71194ff3871690f8f009b080",
       "style": "IPY_MODEL_3c1b08bc3ccf485d808a1f8d23f05188",
       "value": "epoch: 14999 loss: 0.4765261709690094: 100%"
      }
     },
     "02573bb8eca54bfbad77034b75938476": {
      "model_module": "@jupyter-widgets/controls",
      "model_module_version": "1.5.0",
      "model_name": "HTMLModel",
      "state": {
       "layout": "IPY_MODEL_a6db5a527b8d4ba882f2552fa8e4c821",
       "style": "IPY_MODEL_76eb7845bc0742668a7d5423907992ed",
       "value": " 11204/500000 [00:21&lt;15:11, 536.25it/s]"
      }
     },
     "0260004b8f174dd7983bd8c5204ba067": {
      "model_module": "@jupyter-widgets/base",
      "model_module_version": "1.2.0",
      "model_name": "LayoutModel",
      "state": {}
     },
     "03505ae0620a456c98a2a89d396ca1e9": {
      "model_module": "@jupyter-widgets/controls",
      "model_module_version": "1.5.0",
      "model_name": "DescriptionStyleModel",
      "state": {
       "description_width": ""
      }
     },
     "05a675d697ef4fd69591b6fc8f98127e": {
      "model_module": "@jupyter-widgets/base",
      "model_module_version": "1.2.0",
      "model_name": "LayoutModel",
      "state": {}
     },
     "0a7657f3ef5d4f97bf0e60b87b2426c9": {
      "model_module": "@jupyter-widgets/controls",
      "model_module_version": "1.5.0",
      "model_name": "DescriptionStyleModel",
      "state": {
       "description_width": ""
      }
     },
     "0dee1984db7940d79aa9fbdf1efce698": {
      "model_module": "@jupyter-widgets/base",
      "model_module_version": "1.2.0",
      "model_name": "LayoutModel",
      "state": {}
     },
     "0e37c55a149b4f05a628fc00b3787381": {
      "model_module": "@jupyter-widgets/controls",
      "model_module_version": "1.5.0",
      "model_name": "DescriptionStyleModel",
      "state": {
       "description_width": ""
      }
     },
     "11c165bea6b7417bbe9d5e805708fbb4": {
      "model_module": "@jupyter-widgets/controls",
      "model_module_version": "1.5.0",
      "model_name": "DescriptionStyleModel",
      "state": {
       "description_width": ""
      }
     },
     "144e1a5503e443ae8a7b2af09784fc26": {
      "model_module": "@jupyter-widgets/controls",
      "model_module_version": "1.5.0",
      "model_name": "FloatProgressModel",
      "state": {
       "bar_style": "success",
       "layout": "IPY_MODEL_c5982adc995a4b899a7f4a805f6b1d4e",
       "max": 5000,
       "style": "IPY_MODEL_839fc0e3ea78481bb8ae2ac4f290d417",
       "value": 5000
      }
     },
     "165fe08789e84432be84c82dd54dec6e": {
      "model_module": "@jupyter-widgets/controls",
      "model_module_version": "1.5.0",
      "model_name": "HTMLModel",
      "state": {
       "layout": "IPY_MODEL_7ac8cb70c8494323b8621cb0a459409c",
       "style": "IPY_MODEL_97f7e4a931a2424bb4eb41caee1b89ce",
       "value": " 5000/5000 [00:05&lt;00:00, 798.88it/s]"
      }
     },
     "177314b07af24cc8a869e2faa19640fb": {
      "model_module": "@jupyter-widgets/controls",
      "model_module_version": "1.5.0",
      "model_name": "DescriptionStyleModel",
      "state": {
       "description_width": ""
      }
     },
     "187e538c669046cd8c28129f09076119": {
      "model_module": "@jupyter-widgets/controls",
      "model_module_version": "1.5.0",
      "model_name": "FloatProgressModel",
      "state": {
       "bar_style": "success",
       "layout": "IPY_MODEL_460c8fae44f048c6bd403c2d2c4bb10f",
       "max": 5000,
       "style": "IPY_MODEL_4e6303186b04432ea950ed38149383cd",
       "value": 5000
      }
     },
     "1a80e858eb5349daacb2d84f790a3006": {
      "model_module": "@jupyter-widgets/controls",
      "model_module_version": "1.5.0",
      "model_name": "DescriptionStyleModel",
      "state": {
       "description_width": ""
      }
     },
     "202c7a855069428eaf311d74819f7791": {
      "model_module": "@jupyter-widgets/base",
      "model_module_version": "1.2.0",
      "model_name": "LayoutModel",
      "state": {}
     },
     "2308172d087f4148a74fbe1f8cd0358e": {
      "model_module": "@jupyter-widgets/base",
      "model_module_version": "1.2.0",
      "model_name": "LayoutModel",
      "state": {}
     },
     "2361b28423fc45afa1b34ca45bf7cf31": {
      "model_module": "@jupyter-widgets/base",
      "model_module_version": "1.2.0",
      "model_name": "LayoutModel",
      "state": {}
     },
     "260c2b804f754df49a5a92d6cb72900c": {
      "model_module": "@jupyter-widgets/controls",
      "model_module_version": "1.5.0",
      "model_name": "HBoxModel",
      "state": {
       "children": [
        "IPY_MODEL_e2dad992a0d94a6fa164d0c00c740aed",
        "IPY_MODEL_84011d86fa6446adb5f3237ad2337f38",
        "IPY_MODEL_79b597629a764cd2ac1e36ae4a88d039"
       ],
       "layout": "IPY_MODEL_3bb953c88efb4086b7cea14076a75bb0"
      }
     },
     "27d4dae0854e44ee908b84e762a53cac": {
      "model_module": "@jupyter-widgets/controls",
      "model_module_version": "1.5.0",
      "model_name": "DescriptionStyleModel",
      "state": {
       "description_width": ""
      }
     },
     "28e4c0ebe85d4a38b571a20bebbd816f": {
      "model_module": "@jupyter-widgets/controls",
      "model_module_version": "1.5.0",
      "model_name": "HBoxModel",
      "state": {
       "children": [
        "IPY_MODEL_5058f6a3204f4e4fb1cba05f88df001e",
        "IPY_MODEL_3eecbb3c19484ac6a64b36b6206aee9b",
        "IPY_MODEL_cb0fa52e05614565a330649dcea79132"
       ],
       "layout": "IPY_MODEL_0260004b8f174dd7983bd8c5204ba067"
      }
     },
     "2b77334da5cd460da24b8d04dfe2670f": {
      "model_module": "@jupyter-widgets/controls",
      "model_module_version": "1.5.0",
      "model_name": "FloatProgressModel",
      "state": {
       "bar_style": "success",
       "layout": "IPY_MODEL_44d9afb5644248278eb602873426397c",
       "max": 15000,
       "style": "IPY_MODEL_707343d9587d425d8d358fe0814224dc",
       "value": 15000
      }
     },
     "2e15c63189b84c17b0b1ba4c3d2c4388": {
      "model_module": "@jupyter-widgets/base",
      "model_module_version": "1.2.0",
      "model_name": "LayoutModel",
      "state": {}
     },
     "309d82f0d1e449a4bd9ae12dfbaff734": {
      "model_module": "@jupyter-widgets/controls",
      "model_module_version": "1.5.0",
      "model_name": "FloatProgressModel",
      "state": {
       "bar_style": "danger",
       "layout": "IPY_MODEL_2e15c63189b84c17b0b1ba4c3d2c4388",
       "max": 500000,
       "style": "IPY_MODEL_f470e2d56cf24b9cbe1dd11efbc2bc3d",
       "value": 18569
      }
     },
     "318695fdbf2544028fd93aad92fceb49": {
      "model_module": "@jupyter-widgets/base",
      "model_module_version": "1.2.0",
      "model_name": "LayoutModel",
      "state": {}
     },
     "32cd6645dd9c4529939129425c7aa563": {
      "model_module": "@jupyter-widgets/base",
      "model_module_version": "1.2.0",
      "model_name": "LayoutModel",
      "state": {}
     },
     "34da4c56e97f4a58a35e5724367ac51a": {
      "model_module": "@jupyter-widgets/controls",
      "model_module_version": "1.5.0",
      "model_name": "FloatProgressModel",
      "state": {
       "bar_style": "success",
       "layout": "IPY_MODEL_d7c5bd1a0f2a48bcb0874e4079c51d8e",
       "max": 5000,
       "style": "IPY_MODEL_c3dadd7048c6405ba6150f80c956fe19",
       "value": 5000
      }
     },
     "374b159ce34a407ca803026dfc850bf7": {
      "model_module": "@jupyter-widgets/controls",
      "model_module_version": "1.5.0",
      "model_name": "DescriptionStyleModel",
      "state": {
       "description_width": ""
      }
     },
     "39fdcb0100b344f3b7dc756fbd0a71a4": {
      "model_module": "@jupyter-widgets/controls",
      "model_module_version": "1.5.0",
      "model_name": "HTMLModel",
      "state": {
       "layout": "IPY_MODEL_2308172d087f4148a74fbe1f8cd0358e",
       "style": "IPY_MODEL_fe78a55dfe2d4de591fd6b1090ff229f",
       "value": "epoch: 4999 loss: 0.6423812508583069: 100%"
      }
     },
     "3bb953c88efb4086b7cea14076a75bb0": {
      "model_module": "@jupyter-widgets/base",
      "model_module_version": "1.2.0",
      "model_name": "LayoutModel",
      "state": {}
     },
     "3c1b08bc3ccf485d808a1f8d23f05188": {
      "model_module": "@jupyter-widgets/controls",
      "model_module_version": "1.5.0",
      "model_name": "DescriptionStyleModel",
      "state": {
       "description_width": ""
      }
     },
     "3e3ee7bf347449d09d6e346195f4766d": {
      "model_module": "@jupyter-widgets/controls",
      "model_module_version": "1.5.0",
      "model_name": "HTMLModel",
      "state": {
       "layout": "IPY_MODEL_05a675d697ef4fd69591b6fc8f98127e",
       "style": "IPY_MODEL_03505ae0620a456c98a2a89d396ca1e9",
       "value": " 5000/5000 [00:05&lt;00:00, 877.60it/s]"
      }
     },
     "3eecbb3c19484ac6a64b36b6206aee9b": {
      "model_module": "@jupyter-widgets/controls",
      "model_module_version": "1.5.0",
      "model_name": "FloatProgressModel",
      "state": {
       "bar_style": "success",
       "layout": "IPY_MODEL_76c07ed2c7ee4246be9656ddb7e9cb01",
       "max": 5000,
       "style": "IPY_MODEL_ba7a5144e0be4897a1efcfc45b15e731",
       "value": 5000
      }
     },
     "4065bc0b41f74b88834b034c3bf99a53": {
      "model_module": "@jupyter-widgets/controls",
      "model_module_version": "1.5.0",
      "model_name": "ProgressStyleModel",
      "state": {
       "description_width": ""
      }
     },
     "4065ff39cbbb49198ef2517feca86b9d": {
      "model_module": "@jupyter-widgets/base",
      "model_module_version": "1.2.0",
      "model_name": "LayoutModel",
      "state": {}
     },
     "42e24fa2e3fb4f1eb719defcec146230": {
      "model_module": "@jupyter-widgets/controls",
      "model_module_version": "1.5.0",
      "model_name": "ProgressStyleModel",
      "state": {
       "description_width": ""
      }
     },
     "4411741fc2ae43848dbfbc060891fe59": {
      "model_module": "@jupyter-widgets/controls",
      "model_module_version": "1.5.0",
      "model_name": "HTMLModel",
      "state": {
       "layout": "IPY_MODEL_ec945d0762b14e2197e0cf9bf9a31225",
       "style": "IPY_MODEL_5be8891e9510454294fc6bf2e5391b60",
       "value": "epoch: 4999 loss: 0.6423811316490173: 100%"
      }
     },
     "44d9afb5644248278eb602873426397c": {
      "model_module": "@jupyter-widgets/base",
      "model_module_version": "1.2.0",
      "model_name": "LayoutModel",
      "state": {}
     },
     "4586f199a5394f0db3392e5cfe26451b": {
      "model_module": "@jupyter-widgets/base",
      "model_module_version": "1.2.0",
      "model_name": "LayoutModel",
      "state": {}
     },
     "460c8fae44f048c6bd403c2d2c4bb10f": {
      "model_module": "@jupyter-widgets/base",
      "model_module_version": "1.2.0",
      "model_name": "LayoutModel",
      "state": {}
     },
     "4bed54b5b1d141c5ac6c8e462a172509": {
      "model_module": "@jupyter-widgets/base",
      "model_module_version": "1.2.0",
      "model_name": "LayoutModel",
      "state": {}
     },
     "4e6303186b04432ea950ed38149383cd": {
      "model_module": "@jupyter-widgets/controls",
      "model_module_version": "1.5.0",
      "model_name": "ProgressStyleModel",
      "state": {
       "description_width": ""
      }
     },
     "4f5d2d6f68b7447da5fe6733a037e696": {
      "model_module": "@jupyter-widgets/base",
      "model_module_version": "1.2.0",
      "model_name": "LayoutModel",
      "state": {}
     },
     "5058f6a3204f4e4fb1cba05f88df001e": {
      "model_module": "@jupyter-widgets/controls",
      "model_module_version": "1.5.0",
      "model_name": "HTMLModel",
      "state": {
       "layout": "IPY_MODEL_b1be28b122034292b1e21654a79d907a",
       "style": "IPY_MODEL_27d4dae0854e44ee908b84e762a53cac",
       "value": "epoch: 4999 loss: 0.6467993855476379: 100%"
      }
     },
     "524ec6cb4b3b45e999013707392f8d05": {
      "model_module": "@jupyter-widgets/controls",
      "model_module_version": "1.5.0",
      "model_name": "HTMLModel",
      "state": {
       "layout": "IPY_MODEL_619ef8ed51454ea4b7b0b454bf5e034f",
       "style": "IPY_MODEL_177314b07af24cc8a869e2faa19640fb",
       "value": " 15000/15000 [00:24&lt;00:00, 606.41it/s]"
      }
     },
     "539cafe59e6043ea9716849078ae1e62": {
      "model_module": "@jupyter-widgets/controls",
      "model_module_version": "1.5.0",
      "model_name": "HTMLModel",
      "state": {
       "layout": "IPY_MODEL_202c7a855069428eaf311d74819f7791",
       "style": "IPY_MODEL_374b159ce34a407ca803026dfc850bf7",
       "value": "epoch: 4999 loss: 0.6440615057945251: 100%"
      }
     },
     "53d8266b94184504a3bc8116311f85c5": {
      "model_module": "@jupyter-widgets/base",
      "model_module_version": "1.2.0",
      "model_name": "LayoutModel",
      "state": {}
     },
     "53e515d00e2c48b583ed30f986af664b": {
      "model_module": "@jupyter-widgets/controls",
      "model_module_version": "1.5.0",
      "model_name": "ProgressStyleModel",
      "state": {
       "description_width": ""
      }
     },
     "5745481524ae4b579ed5d39a25e16de6": {
      "model_module": "@jupyter-widgets/controls",
      "model_module_version": "1.5.0",
      "model_name": "DescriptionStyleModel",
      "state": {
       "description_width": ""
      }
     },
     "5972b1ed71194ff3871690f8f009b080": {
      "model_module": "@jupyter-widgets/base",
      "model_module_version": "1.2.0",
      "model_name": "LayoutModel",
      "state": {}
     },
     "5b937236ba554873b14b95b6d96f1dc6": {
      "model_module": "@jupyter-widgets/controls",
      "model_module_version": "1.5.0",
      "model_name": "DescriptionStyleModel",
      "state": {
       "description_width": ""
      }
     },
     "5be8891e9510454294fc6bf2e5391b60": {
      "model_module": "@jupyter-widgets/controls",
      "model_module_version": "1.5.0",
      "model_name": "DescriptionStyleModel",
      "state": {
       "description_width": ""
      }
     },
     "5c9f0a3b23e049cea7af631291e2cb3c": {
      "model_module": "@jupyter-widgets/controls",
      "model_module_version": "1.5.0",
      "model_name": "DescriptionStyleModel",
      "state": {
       "description_width": ""
      }
     },
     "5f73c79a9fcc4c348fc74c0adfebcd36": {
      "model_module": "@jupyter-widgets/controls",
      "model_module_version": "1.5.0",
      "model_name": "HTMLModel",
      "state": {
       "layout": "IPY_MODEL_f890006a0d5d4e5795487777174ce54a",
       "style": "IPY_MODEL_5c9f0a3b23e049cea7af631291e2cb3c",
       "value": " 5000/5000 [00:06&lt;00:00, 814.80it/s]"
      }
     },
     "608f4f7ad9b948aea21bebc165def3d6": {
      "model_module": "@jupyter-widgets/controls",
      "model_module_version": "1.5.0",
      "model_name": "FloatProgressModel",
      "state": {
       "bar_style": "danger",
       "layout": "IPY_MODEL_53d8266b94184504a3bc8116311f85c5",
       "max": 500000,
       "style": "IPY_MODEL_42e24fa2e3fb4f1eb719defcec146230",
       "value": 11204
      }
     },
     "60ecf5a8bdcd4e81b93af8677638faa4": {
      "model_module": "@jupyter-widgets/controls",
      "model_module_version": "1.5.0",
      "model_name": "ProgressStyleModel",
      "state": {
       "description_width": ""
      }
     },
     "619ef8ed51454ea4b7b0b454bf5e034f": {
      "model_module": "@jupyter-widgets/base",
      "model_module_version": "1.2.0",
      "model_name": "LayoutModel",
      "state": {}
     },
     "6a9828b6522048aa8e422e5be4e41bd5": {
      "model_module": "@jupyter-widgets/controls",
      "model_module_version": "1.5.0",
      "model_name": "HTMLModel",
      "state": {
       "layout": "IPY_MODEL_a2e2804b649549ed820c14f071a3ded9",
       "style": "IPY_MODEL_9ffeda05d53f487297a9785cc5f7d5d5",
       "value": "epoch: 4999 loss: 0.646815299987793: 100%"
      }
     },
     "6adf0b507e33474a8cb118996e50ae92": {
      "model_module": "@jupyter-widgets/base",
      "model_module_version": "1.2.0",
      "model_name": "LayoutModel",
      "state": {}
     },
     "707343d9587d425d8d358fe0814224dc": {
      "model_module": "@jupyter-widgets/controls",
      "model_module_version": "1.5.0",
      "model_name": "ProgressStyleModel",
      "state": {
       "description_width": ""
      }
     },
     "71950993e7314b2f98a39b599e08e18d": {
      "model_module": "@jupyter-widgets/base",
      "model_module_version": "1.2.0",
      "model_name": "LayoutModel",
      "state": {}
     },
     "76c07ed2c7ee4246be9656ddb7e9cb01": {
      "model_module": "@jupyter-widgets/base",
      "model_module_version": "1.2.0",
      "model_name": "LayoutModel",
      "state": {}
     },
     "76eb7845bc0742668a7d5423907992ed": {
      "model_module": "@jupyter-widgets/controls",
      "model_module_version": "1.5.0",
      "model_name": "DescriptionStyleModel",
      "state": {
       "description_width": ""
      }
     },
     "79b597629a764cd2ac1e36ae4a88d039": {
      "model_module": "@jupyter-widgets/controls",
      "model_module_version": "1.5.0",
      "model_name": "HTMLModel",
      "state": {
       "layout": "IPY_MODEL_0dee1984db7940d79aa9fbdf1efce698",
       "style": "IPY_MODEL_ccd4e03ef61841b09926b5ef1032160f",
       "value": " 5000/5000 [00:06&lt;00:00, 783.35it/s]"
      }
     },
     "7a64e139e8c14808953b28098f4da852": {
      "model_module": "@jupyter-widgets/controls",
      "model_module_version": "1.5.0",
      "model_name": "FloatProgressModel",
      "state": {
       "bar_style": "success",
       "layout": "IPY_MODEL_fcc0407d329a49919004074b09bfb434",
       "max": 1000,
       "style": "IPY_MODEL_60ecf5a8bdcd4e81b93af8677638faa4",
       "value": 1000
      }
     },
     "7ac8cb70c8494323b8621cb0a459409c": {
      "model_module": "@jupyter-widgets/base",
      "model_module_version": "1.2.0",
      "model_name": "LayoutModel",
      "state": {}
     },
     "7f38ed91d6924442b6686356f1756fe6": {
      "model_module": "@jupyter-widgets/controls",
      "model_module_version": "1.5.0",
      "model_name": "HBoxModel",
      "state": {
       "children": [
        "IPY_MODEL_39fdcb0100b344f3b7dc756fbd0a71a4",
        "IPY_MODEL_f1c45e5bfa8640f284ab9c49acf3bf01",
        "IPY_MODEL_e7508e25dec84b599fc239d01e1211e1"
       ],
       "layout": "IPY_MODEL_b233c9470b134ddd9e6d59bf07adf2b2"
      }
     },
     "81dd18b26e014359b62381bf51e15d3a": {
      "model_module": "@jupyter-widgets/controls",
      "model_module_version": "1.5.0",
      "model_name": "DescriptionStyleModel",
      "state": {
       "description_width": ""
      }
     },
     "839fc0e3ea78481bb8ae2ac4f290d417": {
      "model_module": "@jupyter-widgets/controls",
      "model_module_version": "1.5.0",
      "model_name": "ProgressStyleModel",
      "state": {
       "description_width": ""
      }
     },
     "84011d86fa6446adb5f3237ad2337f38": {
      "model_module": "@jupyter-widgets/controls",
      "model_module_version": "1.5.0",
      "model_name": "FloatProgressModel",
      "state": {
       "bar_style": "success",
       "layout": "IPY_MODEL_f1aada7d42194ba3903ec30f115c9c16",
       "max": 5000,
       "style": "IPY_MODEL_b809678a11a3421d8115dc9b83268dda",
       "value": 5000
      }
     },
     "8a8c6eb1d6324eb5bde128d84fe4873c": {
      "model_module": "@jupyter-widgets/controls",
      "model_module_version": "1.5.0",
      "model_name": "HBoxModel",
      "state": {
       "children": [
        "IPY_MODEL_eb89d08141a04a2bae360b04254cd2bb",
        "IPY_MODEL_144e1a5503e443ae8a7b2af09784fc26",
        "IPY_MODEL_ac8d3b95586449d191e792249d170f4c"
       ],
       "layout": "IPY_MODEL_fb5311904666481facfbd51319f5dc21"
      }
     },
     "8cbd983fe24d4bde91892e384402a508": {
      "model_module": "@jupyter-widgets/controls",
      "model_module_version": "1.5.0",
      "model_name": "DescriptionStyleModel",
      "state": {
       "description_width": ""
      }
     },
     "8fe5d6b4b54f4635a7e6bbcd74a4e15f": {
      "model_module": "@jupyter-widgets/controls",
      "model_module_version": "1.5.0",
      "model_name": "HBoxModel",
      "state": {
       "children": [
        "IPY_MODEL_539cafe59e6043ea9716849078ae1e62",
        "IPY_MODEL_187e538c669046cd8c28129f09076119",
        "IPY_MODEL_3e3ee7bf347449d09d6e346195f4766d"
       ],
       "layout": "IPY_MODEL_bfce1466d7f04b3eb1cc4cff85f36657"
      }
     },
     "930c4ba2482d46a696eba562077c970c": {
      "model_module": "@jupyter-widgets/controls",
      "model_module_version": "1.5.0",
      "model_name": "HTMLModel",
      "state": {
       "layout": "IPY_MODEL_4586f199a5394f0db3392e5cfe26451b",
       "style": "IPY_MODEL_c756a69b7525465b9ee0984da436aab5",
       "value": "epoch: 11203 loss: 0.39901161193847656:   2%"
      }
     },
     "97f7e4a931a2424bb4eb41caee1b89ce": {
      "model_module": "@jupyter-widgets/controls",
      "model_module_version": "1.5.0",
      "model_name": "DescriptionStyleModel",
      "state": {
       "description_width": ""
      }
     },
     "99bc29bf98e44dee9a84e1ecc303e07f": {
      "model_module": "@jupyter-widgets/controls",
      "model_module_version": "1.5.0",
      "model_name": "HTMLModel",
      "state": {
       "layout": "IPY_MODEL_c109da1fa8c844aca7a42257ff01be01",
       "style": "IPY_MODEL_1a80e858eb5349daacb2d84f790a3006",
       "value": " 18569/500000 [00:34&lt;15:56, 503.07it/s]"
      }
     },
     "9c5ccd36470b4197b15bcf4f7e76aa5e": {
      "model_module": "@jupyter-widgets/controls",
      "model_module_version": "1.5.0",
      "model_name": "DescriptionStyleModel",
      "state": {
       "description_width": ""
      }
     },
     "9ffeda05d53f487297a9785cc5f7d5d5": {
      "model_module": "@jupyter-widgets/controls",
      "model_module_version": "1.5.0",
      "model_name": "DescriptionStyleModel",
      "state": {
       "description_width": ""
      }
     },
     "a2e2804b649549ed820c14f071a3ded9": {
      "model_module": "@jupyter-widgets/base",
      "model_module_version": "1.2.0",
      "model_name": "LayoutModel",
      "state": {}
     },
     "a428ee77cf3f4ad2b3a0f7bab1dbc989": {
      "model_module": "@jupyter-widgets/base",
      "model_module_version": "1.2.0",
      "model_name": "LayoutModel",
      "state": {}
     },
     "a5c23f3b3fb74261bae1ebb915883706": {
      "model_module": "@jupyter-widgets/controls",
      "model_module_version": "1.5.0",
      "model_name": "HTMLModel",
      "state": {
       "layout": "IPY_MODEL_d40240b615314ceb8b2cb3477f034122",
       "style": "IPY_MODEL_81dd18b26e014359b62381bf51e15d3a",
       "value": "epoch: 18568 loss: 0.4244134724140167:   4%"
      }
     },
     "a6db5a527b8d4ba882f2552fa8e4c821": {
      "model_module": "@jupyter-widgets/base",
      "model_module_version": "1.2.0",
      "model_name": "LayoutModel",
      "state": {}
     },
     "ac5142e939c748fdb1865cf8dca49aef": {
      "model_module": "@jupyter-widgets/base",
      "model_module_version": "1.2.0",
      "model_name": "LayoutModel",
      "state": {}
     },
     "ac8d3b95586449d191e792249d170f4c": {
      "model_module": "@jupyter-widgets/controls",
      "model_module_version": "1.5.0",
      "model_name": "HTMLModel",
      "state": {
       "layout": "IPY_MODEL_ad20f2d7faa142869a548733b6bba000",
       "style": "IPY_MODEL_8cbd983fe24d4bde91892e384402a508",
       "value": " 5000/5000 [00:06&lt;00:00, 733.76it/s]"
      }
     },
     "ad20f2d7faa142869a548733b6bba000": {
      "model_module": "@jupyter-widgets/base",
      "model_module_version": "1.2.0",
      "model_name": "LayoutModel",
      "state": {}
     },
     "adcf86049756426e888948a127d9fd1e": {
      "model_module": "@jupyter-widgets/controls",
      "model_module_version": "1.5.0",
      "model_name": "HBoxModel",
      "state": {
       "children": [
        "IPY_MODEL_930c4ba2482d46a696eba562077c970c",
        "IPY_MODEL_608f4f7ad9b948aea21bebc165def3d6",
        "IPY_MODEL_02573bb8eca54bfbad77034b75938476"
       ],
       "layout": "IPY_MODEL_32cd6645dd9c4529939129425c7aa563"
      }
     },
     "ae3272d6a46e410fa61f5a5d71f92218": {
      "model_module": "@jupyter-widgets/controls",
      "model_module_version": "1.5.0",
      "model_name": "HBoxModel",
      "state": {
       "children": [
        "IPY_MODEL_4411741fc2ae43848dbfbc060891fe59",
        "IPY_MODEL_34da4c56e97f4a58a35e5724367ac51a",
        "IPY_MODEL_165fe08789e84432be84c82dd54dec6e"
       ],
       "layout": "IPY_MODEL_dbd6d219f3644895a387e9c2c3d92aef"
      }
     },
     "b1be28b122034292b1e21654a79d907a": {
      "model_module": "@jupyter-widgets/base",
      "model_module_version": "1.2.0",
      "model_name": "LayoutModel",
      "state": {}
     },
     "b233c9470b134ddd9e6d59bf07adf2b2": {
      "model_module": "@jupyter-widgets/base",
      "model_module_version": "1.2.0",
      "model_name": "LayoutModel",
      "state": {}
     },
     "b809678a11a3421d8115dc9b83268dda": {
      "model_module": "@jupyter-widgets/controls",
      "model_module_version": "1.5.0",
      "model_name": "ProgressStyleModel",
      "state": {
       "description_width": ""
      }
     },
     "ba7a5144e0be4897a1efcfc45b15e731": {
      "model_module": "@jupyter-widgets/controls",
      "model_module_version": "1.5.0",
      "model_name": "ProgressStyleModel",
      "state": {
       "description_width": ""
      }
     },
     "bfce1466d7f04b3eb1cc4cff85f36657": {
      "model_module": "@jupyter-widgets/base",
      "model_module_version": "1.2.0",
      "model_name": "LayoutModel",
      "state": {}
     },
     "c109da1fa8c844aca7a42257ff01be01": {
      "model_module": "@jupyter-widgets/base",
      "model_module_version": "1.2.0",
      "model_name": "LayoutModel",
      "state": {}
     },
     "c3dadd7048c6405ba6150f80c956fe19": {
      "model_module": "@jupyter-widgets/controls",
      "model_module_version": "1.5.0",
      "model_name": "ProgressStyleModel",
      "state": {
       "description_width": ""
      }
     },
     "c5982adc995a4b899a7f4a805f6b1d4e": {
      "model_module": "@jupyter-widgets/base",
      "model_module_version": "1.2.0",
      "model_name": "LayoutModel",
      "state": {}
     },
     "c69108af1ac04c15b5bcc2e20b2f8d05": {
      "model_module": "@jupyter-widgets/controls",
      "model_module_version": "1.5.0",
      "model_name": "HBoxModel",
      "state": {
       "children": [
        "IPY_MODEL_6a9828b6522048aa8e422e5be4e41bd5",
        "IPY_MODEL_e33512c76c8a48638085dafcff559ea7",
        "IPY_MODEL_5f73c79a9fcc4c348fc74c0adfebcd36"
       ],
       "layout": "IPY_MODEL_2361b28423fc45afa1b34ca45bf7cf31"
      }
     },
     "c756a69b7525465b9ee0984da436aab5": {
      "model_module": "@jupyter-widgets/controls",
      "model_module_version": "1.5.0",
      "model_name": "DescriptionStyleModel",
      "state": {
       "description_width": ""
      }
     },
     "c7abfeba8762499c8c836d8d4941442b": {
      "model_module": "@jupyter-widgets/controls",
      "model_module_version": "1.5.0",
      "model_name": "HBoxModel",
      "state": {
       "children": [
        "IPY_MODEL_00016d7adf7743b7900153ba4007f8f7",
        "IPY_MODEL_2b77334da5cd460da24b8d04dfe2670f",
        "IPY_MODEL_524ec6cb4b3b45e999013707392f8d05"
       ],
       "layout": "IPY_MODEL_fbdbbb2b6d3944188a596c81b5f2dd26"
      }
     },
     "cb0fa52e05614565a330649dcea79132": {
      "model_module": "@jupyter-widgets/controls",
      "model_module_version": "1.5.0",
      "model_name": "HTMLModel",
      "state": {
       "layout": "IPY_MODEL_4bed54b5b1d141c5ac6c8e462a172509",
       "style": "IPY_MODEL_5b937236ba554873b14b95b6d96f1dc6",
       "value": " 5000/5000 [00:06&lt;00:00, 771.72it/s]"
      }
     },
     "ccd4e03ef61841b09926b5ef1032160f": {
      "model_module": "@jupyter-widgets/controls",
      "model_module_version": "1.5.0",
      "model_name": "DescriptionStyleModel",
      "state": {
       "description_width": ""
      }
     },
     "ce4312ba65354221bb2af5a4e2d0c20c": {
      "model_module": "@jupyter-widgets/controls",
      "model_module_version": "1.5.0",
      "model_name": "HBoxModel",
      "state": {
       "children": [
        "IPY_MODEL_e7dd615680ca4674b3ad01dac2029593",
        "IPY_MODEL_7a64e139e8c14808953b28098f4da852",
        "IPY_MODEL_e8c9c989611d4a96bf9901549823b108"
       ],
       "layout": "IPY_MODEL_a428ee77cf3f4ad2b3a0f7bab1dbc989"
      }
     },
     "d40240b615314ceb8b2cb3477f034122": {
      "model_module": "@jupyter-widgets/base",
      "model_module_version": "1.2.0",
      "model_name": "LayoutModel",
      "state": {}
     },
     "d724525e8c7b44518a6519e8551b697e": {
      "model_module": "@jupyter-widgets/base",
      "model_module_version": "1.2.0",
      "model_name": "LayoutModel",
      "state": {}
     },
     "d7c5bd1a0f2a48bcb0874e4079c51d8e": {
      "model_module": "@jupyter-widgets/base",
      "model_module_version": "1.2.0",
      "model_name": "LayoutModel",
      "state": {}
     },
     "dbd6d219f3644895a387e9c2c3d92aef": {
      "model_module": "@jupyter-widgets/base",
      "model_module_version": "1.2.0",
      "model_name": "LayoutModel",
      "state": {}
     },
     "e2dad992a0d94a6fa164d0c00c740aed": {
      "model_module": "@jupyter-widgets/controls",
      "model_module_version": "1.5.0",
      "model_name": "HTMLModel",
      "state": {
       "layout": "IPY_MODEL_4065ff39cbbb49198ef2517feca86b9d",
       "style": "IPY_MODEL_0a7657f3ef5d4f97bf0e60b87b2426c9",
       "value": "epoch: 4999 loss: 0.6467999815940857: 100%"
      }
     },
     "e33512c76c8a48638085dafcff559ea7": {
      "model_module": "@jupyter-widgets/controls",
      "model_module_version": "1.5.0",
      "model_name": "FloatProgressModel",
      "state": {
       "bar_style": "success",
       "layout": "IPY_MODEL_6adf0b507e33474a8cb118996e50ae92",
       "max": 5000,
       "style": "IPY_MODEL_53e515d00e2c48b583ed30f986af664b",
       "value": 5000
      }
     },
     "e7508e25dec84b599fc239d01e1211e1": {
      "model_module": "@jupyter-widgets/controls",
      "model_module_version": "1.5.0",
      "model_name": "HTMLModel",
      "state": {
       "layout": "IPY_MODEL_d724525e8c7b44518a6519e8551b697e",
       "style": "IPY_MODEL_9c5ccd36470b4197b15bcf4f7e76aa5e",
       "value": " 5000/5000 [00:05&lt;00:00, 848.84it/s]"
      }
     },
     "e7dd615680ca4674b3ad01dac2029593": {
      "model_module": "@jupyter-widgets/controls",
      "model_module_version": "1.5.0",
      "model_name": "HTMLModel",
      "state": {
       "layout": "IPY_MODEL_318695fdbf2544028fd93aad92fceb49",
       "style": "IPY_MODEL_0e37c55a149b4f05a628fc00b3787381",
       "value": "epoch: 999 loss: 0.6423887610435486: 100%"
      }
     },
     "e8c9c989611d4a96bf9901549823b108": {
      "model_module": "@jupyter-widgets/controls",
      "model_module_version": "1.5.0",
      "model_name": "HTMLModel",
      "state": {
       "layout": "IPY_MODEL_f756d37459424931a6d6fa459ed4ac58",
       "style": "IPY_MODEL_5745481524ae4b579ed5d39a25e16de6",
       "value": " 1000/1000 [00:01&lt;00:00, 823.08it/s]"
      }
     },
     "eb89d08141a04a2bae360b04254cd2bb": {
      "model_module": "@jupyter-widgets/controls",
      "model_module_version": "1.5.0",
      "model_name": "HTMLModel",
      "state": {
       "layout": "IPY_MODEL_4f5d2d6f68b7447da5fe6733a037e696",
       "style": "IPY_MODEL_11c165bea6b7417bbe9d5e805708fbb4",
       "value": "epoch: 4999 loss: 0.6440514922142029: 100%"
      }
     },
     "ec945d0762b14e2197e0cf9bf9a31225": {
      "model_module": "@jupyter-widgets/base",
      "model_module_version": "1.2.0",
      "model_name": "LayoutModel",
      "state": {}
     },
     "f1aada7d42194ba3903ec30f115c9c16": {
      "model_module": "@jupyter-widgets/base",
      "model_module_version": "1.2.0",
      "model_name": "LayoutModel",
      "state": {}
     },
     "f1c45e5bfa8640f284ab9c49acf3bf01": {
      "model_module": "@jupyter-widgets/controls",
      "model_module_version": "1.5.0",
      "model_name": "FloatProgressModel",
      "state": {
       "bar_style": "success",
       "layout": "IPY_MODEL_71950993e7314b2f98a39b599e08e18d",
       "max": 5000,
       "style": "IPY_MODEL_4065bc0b41f74b88834b034c3bf99a53",
       "value": 5000
      }
     },
     "f470e2d56cf24b9cbe1dd11efbc2bc3d": {
      "model_module": "@jupyter-widgets/controls",
      "model_module_version": "1.5.0",
      "model_name": "ProgressStyleModel",
      "state": {
       "description_width": ""
      }
     },
     "f756d37459424931a6d6fa459ed4ac58": {
      "model_module": "@jupyter-widgets/base",
      "model_module_version": "1.2.0",
      "model_name": "LayoutModel",
      "state": {}
     },
     "f890006a0d5d4e5795487777174ce54a": {
      "model_module": "@jupyter-widgets/base",
      "model_module_version": "1.2.0",
      "model_name": "LayoutModel",
      "state": {}
     },
     "f9a90e9530b74bbf86968eaf961faf90": {
      "model_module": "@jupyter-widgets/controls",
      "model_module_version": "1.5.0",
      "model_name": "HBoxModel",
      "state": {
       "children": [
        "IPY_MODEL_a5c23f3b3fb74261bae1ebb915883706",
        "IPY_MODEL_309d82f0d1e449a4bd9ae12dfbaff734",
        "IPY_MODEL_99bc29bf98e44dee9a84e1ecc303e07f"
       ],
       "layout": "IPY_MODEL_ac5142e939c748fdb1865cf8dca49aef"
      }
     },
     "fb5311904666481facfbd51319f5dc21": {
      "model_module": "@jupyter-widgets/base",
      "model_module_version": "1.2.0",
      "model_name": "LayoutModel",
      "state": {}
     },
     "fbdbbb2b6d3944188a596c81b5f2dd26": {
      "model_module": "@jupyter-widgets/base",
      "model_module_version": "1.2.0",
      "model_name": "LayoutModel",
      "state": {}
     },
     "fcc0407d329a49919004074b09bfb434": {
      "model_module": "@jupyter-widgets/base",
      "model_module_version": "1.2.0",
      "model_name": "LayoutModel",
      "state": {}
     },
     "fe78a55dfe2d4de591fd6b1090ff229f": {
      "model_module": "@jupyter-widgets/controls",
      "model_module_version": "1.5.0",
      "model_name": "DescriptionStyleModel",
      "state": {
       "description_width": ""
      }
     }
    },
    "version_major": 2,
    "version_minor": 0
   }
  }
 },
 "nbformat": 4,
 "nbformat_minor": 5
}
