{
 "cells": [
  {
   "cell_type": "code",
   "execution_count": 1,
   "id": "67036533-440b-4434-9067-aca47f5446ea",
   "metadata": {
    "tags": []
   },
   "outputs": [],
   "source": [
    "import numpy as np\n",
    "import time\n",
    "import random\n",
    "from IPython.display import clear_output,display\n",
    "from ipycanvas import Canvas, hold_canvas"
   ]
  },
  {
   "cell_type": "code",
   "execution_count": 2,
   "id": "dcdc2fce-ed66-4435-9dda-fc655898cd5a",
   "metadata": {
    "tags": []
   },
   "outputs": [],
   "source": [
    "world_width = 1920\n",
    "world_height = 1080\n",
    "canvas = Canvas(width=world_width,height=world_height)\n",
    "canvas.fill_style = 'black'\n",
    "canvas.fill_rect(0,0,world_width,world_height)"
   ]
  },
  {
   "cell_type": "code",
   "execution_count": 3,
   "id": "8c3b9cae-d6e7-43d0-9522-202b585354e7",
   "metadata": {
    "tags": []
   },
   "outputs": [],
   "source": [
    "class Crawler():\n",
    "    def __init__(self,x,y):\n",
    "        self.x=x\n",
    "        self.y=y\n",
    "        \n",
    "        self.ox=x\n",
    "        self.oy=y\n",
    "        \n",
    "        self.r = random.randint(175,255)\n",
    "        self.g = random.randint(175,255)\n",
    "        self.b = random.randint(175,255)\n",
    "        \n",
    "    def run(self,world):\n",
    "        updates = {}        \n",
    "        updates[(self.x,self.y)] = f'rgba({self.r},{self.g},{self.b},0.2)'\n",
    "        \n",
    "        valid = False\n",
    "        while not valid:\n",
    "            valid = True\n",
    "            direction = random.choice([1,2,3,4])\n",
    "            if direction==1:\n",
    "                self.y +=1\n",
    "            elif direction == 2:\n",
    "                self.x +=1\n",
    "            elif direction == 3:\n",
    "                self.y-= 1\n",
    "            elif direction == 4:\n",
    "                self.x -= 1\n",
    "\n",
    "            if self.y < 0:\n",
    "                self.y = 0\n",
    "\n",
    "            if self.y > world_height:\n",
    "                self.y = world_height\n",
    "\n",
    "            if self.x < 0:\n",
    "                self.x = 0\n",
    "\n",
    "        if self.x > world_width:\n",
    "            self.x = world_width\n",
    "        \n",
    "        updates[(self.x,self.y)] = f'rgb({self.r},{self.g},{self.b})'\n",
    "        return updates\n",
    "    "
   ]
  },
  {
   "cell_type": "code",
   "execution_count": null,
   "id": "ce4412a3-5f02-4842-a8c0-84a0129d1538",
   "metadata": {
    "tags": []
   },
   "outputs": [],
   "source": []
  },
  {
   "cell_type": "code",
   "execution_count": 4,
   "id": "e66ce743-df7d-4060-8035-98bd0084c4c8",
   "metadata": {
    "tags": []
   },
   "outputs": [],
   "source": [
    "class World():\n",
    "    data = {}\n",
    "    actors = []\n",
    "    data_since_last_update = {}\n",
    "    def __init__(self,width,height):\n",
    "        self.width = width\n",
    "        self.height = height\n",
    "                \n",
    "    def update(self, update_data):\n",
    "        self.data.update(update_data)\n",
    "        self.data_since_last_update.update(update_data)\n",
    "        \n",
    "    def updateCanvas(self,canvas):\n",
    "        for loc in self.data_since_last_update:\n",
    "            x,y = loc\n",
    "            canvas.fill_style = self.data_since_last_update[loc]\n",
    "            canvas.fill_rect(x,y,1,1)\n",
    "        self.data_since_last_update = {}"
   ]
  },
  {
   "cell_type": "code",
   "execution_count": 5,
   "id": "0cb81fd3-840e-44c7-a9f2-7d0568eee3e0",
   "metadata": {
    "tags": []
   },
   "outputs": [],
   "source": [
    "world = World(world_width,world_height)\n",
    "for i in range(75):\n",
    "    world.actors.append(Crawler(world_width/2,world_height/2))\n"
   ]
  },
  {
   "cell_type": "code",
   "execution_count": 6,
   "id": "a8a0cb1a-29d7-4e5a-b701-9dc46d49d095",
   "metadata": {
    "tags": []
   },
   "outputs": [],
   "source": [
    "def update(world):\n",
    "    for ap in world.actors:\n",
    "        world.update(ap.run(world))\n",
    "    world.updateCanvas(canvas)"
   ]
  },
  {
   "cell_type": "code",
   "execution_count": 7,
   "id": "60e9caa7-d81b-4e88-a667-26e25aa1a9ec",
   "metadata": {
    "tags": []
   },
   "outputs": [
    {
     "data": {
      "application/vnd.jupyter.widget-view+json": {
       "model_id": "aac54444dcf743f68c9cbbeee7751da6",
       "version_major": 2,
       "version_minor": 0
      },
      "text/plain": [
       "Canvas(height=1080, width=1920)"
      ]
     },
     "metadata": {},
     "output_type": "display_data"
    }
   ],
   "source": [
    "display(canvas)\n",
    "update(world)"
   ]
  },
  {
   "cell_type": "code",
   "execution_count": 8,
   "id": "d9e34644-e5a1-4ac5-8922-d165c9df205c",
   "metadata": {
    "tags": []
   },
   "outputs": [
    {
     "data": {
      "application/vnd.jupyter.widget-view+json": {
       "model_id": "e8fd95c33061400ca6d252b2eb84cd8b",
       "version_major": 2,
       "version_minor": 0
      },
      "text/plain": [
       "Output(layout=Layout(border='1px solid white'))"
      ]
     },
     "metadata": {},
     "output_type": "display_data"
    }
   ],
   "source": [
    "import ipywidgets as widgets\n",
    "count = 0\n",
    "out = widgets.Output(layout={'border': '1px solid white'})\n",
    "out"
   ]
  },
  {
   "cell_type": "code",
   "execution_count": 9,
   "id": "f3b947f3-1c47-4a53-b81b-f6acef54a414",
   "metadata": {
    "tags": []
   },
   "outputs": [
    {
     "ename": "KeyboardInterrupt",
     "evalue": "",
     "output_type": "error",
     "traceback": [
      "\u001b[0;31m---------------------------------------------------------------------------\u001b[0m",
      "\u001b[0;31mKeyboardInterrupt\u001b[0m                         Traceback (most recent call last)",
      "Input \u001b[0;32mIn [9]\u001b[0m, in \u001b[0;36m<module>\u001b[0;34m\u001b[0m\n\u001b[1;32m     10\u001b[0m             \u001b[38;5;28mprint\u001b[39m(count)\n\u001b[1;32m     11\u001b[0m \u001b[38;5;66;03m# Animation frequency ~50Hz = 1./50. seconds\u001b[39;00m\n\u001b[0;32m---> 12\u001b[0m \u001b[43mtime\u001b[49m\u001b[38;5;241;43m.\u001b[39;49m\u001b[43msleep\u001b[49m\u001b[43m(\u001b[49m\u001b[38;5;241;43m0.01\u001b[39;49m\u001b[43m)\u001b[49m\n",
      "\u001b[0;31mKeyboardInterrupt\u001b[0m: "
     ]
    }
   ],
   "source": [
    "while(True):\n",
    "    with hold_canvas(canvas):\n",
    "        # Clear the old animation step\n",
    "        #canvas.clear()\n",
    "        update(world)\n",
    "        count +=1\n",
    "        if count%100==0:\n",
    "            out.clear_output()\n",
    "            with out:\n",
    "                print(count)\n",
    "    # Animation frequency ~50Hz = 1./50. seconds\n",
    "    time.sleep(0.01)"
   ]
  },
  {
   "cell_type": "code",
   "execution_count": null,
   "id": "43b7ef85-bcc1-4df4-a855-3d36d65326b6",
   "metadata": {
    "tags": []
   },
   "outputs": [],
   "source": [
    "canvas.to_file(f'{time.time()}.png')"
   ]
  },
  {
   "cell_type": "code",
   "execution_count": null,
   "id": "b0858e13-4ac5-491d-a2f0-0649dad9f6cf",
   "metadata": {},
   "outputs": [],
   "source": []
  }
 ],
 "metadata": {
  "kernelspec": {
   "display_name": "Python 3 (ipykernel)",
   "language": "python",
   "name": "python3"
  },
  "language_info": {
   "codemirror_mode": {
    "name": "ipython",
    "version": 3
   },
   "file_extension": ".py",
   "mimetype": "text/x-python",
   "name": "python",
   "nbconvert_exporter": "python",
   "pygments_lexer": "ipython3",
   "version": "3.8.10"
  }
 },
 "nbformat": 4,
 "nbformat_minor": 5
}
