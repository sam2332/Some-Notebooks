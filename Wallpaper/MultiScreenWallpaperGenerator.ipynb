{
 "cells": [
  {
   "cell_type": "code",
   "execution_count": null,
   "id": "d6cce0eb-6a6f-43ee-a4c8-1f5abc7c409e",
   "metadata": {
    "tags": [
     "parameters"
    ]
   },
   "outputs": [],
   "source": [
    "force_change = True  # Set to false to wait\n",
    "min_auto_seconds = 58  # Seconds to wait"
   ]
  },
  {
   "cell_type": "code",
   "execution_count": null,
   "id": "023899e6-d655-4aa8-b057-6f94b67d90eb",
   "metadata": {},
   "outputs": [],
   "source": [
    "import io\n",
    "import json\n",
    "import logging\n",
    "import os\n",
    "import random\n",
    "import subprocess\n",
    "import sys\n",
    "import time\n",
    "from datetime import datetime\n",
    "from functools import lru_cache\n",
    "from math import gcd\n",
    "from pathlib import Path\n",
    "\n",
    "import astral\n",
    "import astral.sun\n",
    "import psutil\n",
    "import pytz\n",
    "import requests\n",
    "from bs4 import BeautifulSoup\n",
    "from PIL import Image, ImageDraw, ImageEnhance\n",
    "\n",
    "\n",
    "# Function to reduce a fraction\n",
    "# to its lowest form\n",
    "@lru_cache\n",
    "def reduceFraction(x, y):\n",
    "    d = gcd(x, y)\n",
    "\n",
    "    x = x // d\n",
    "    y = y // d\n",
    "    return x, y"
   ]
  },
  {
   "cell_type": "code",
   "execution_count": null,
   "id": "899b1eb9-d5cd-4a55-8682-f2319a74f5d2",
   "metadata": {},
   "outputs": [],
   "source": [
    "wallpaper_dir = os.path.expanduser(\"~/Pictures/Wallpapers/\")"
   ]
  },
  {
   "cell_type": "code",
   "execution_count": null,
   "id": "7033492f-2ef7-4840-9d68-6bada1286192",
   "metadata": {
    "tags": []
   },
   "outputs": [],
   "source": [
    "if not force_change:\n",
    "    if (time.time() - os.stat(\"randomWp.log\").st_mtime) < min_auto_seconds:\n",
    "        sys.exit(0)"
   ]
  },
  {
   "cell_type": "code",
   "execution_count": null,
   "id": "87322b73-aea3-4c14-b1b2-fac5099a486e",
   "metadata": {},
   "outputs": [],
   "source": [
    "##Magic Logging Bootstrap\n",
    "logging.basicConfig(\n",
    "    filename=\"randomWp.log\",\n",
    "    level=logging.INFO,\n",
    "    format=\"%(asctime)s.%(msecs)03d %(levelname)s %(module)s - %(funcName)s: %(message)s\",\n",
    "    datefmt=\"%Y-%m-%d %H:%M:%S\",\n",
    ")\n",
    "\n",
    "logging.getLogger().addHandler(logging.StreamHandler(sys.stdout))\n",
    "\n",
    "exlogger = logging.getLogger(\"Exception\")\n",
    "\n",
    "\n",
    "def handle_exception(exc_type, exc_value, exc_traceback):\n",
    "    if issubclass(exc_type, KeyboardInterrupt):\n",
    "        sys.__excepthook__(exc_type, exc_value, exc_traceback)\n",
    "        return\n",
    "    exlogger.error(\"Uncaught exception\", exc_info=(exc_type, exc_value, exc_traceback))\n",
    "\n",
    "\n",
    "sys.excepthook = handle_exception"
   ]
  },
  {
   "cell_type": "raw",
   "id": "96b00a59-fcef-46cf-b50c-1f223dc17e8e",
   "metadata": {},
   "source": [
    "def getRandomBackground(size=None):\n",
    "    if size is None:\n",
    "        size = random.choice(os.listdir(wallpaper_dir))\n",
    "        logging.info(\"Selecting random size images\")\n",
    "    try:\n",
    "        bgs = os.listdir(os.path.join(wallpaper_dir,size))\n",
    "        if len(bgs)==0:\n",
    "            return None\n",
    "        return os.path.join(wallpaper_dir,size,random.choice(bgs))\n",
    "    except Exception as e:\n",
    "        print(e)\n",
    "        return None"
   ]
  },
  {
   "cell_type": "code",
   "execution_count": null,
   "id": "5f8cb6dd-89d1-4f2f-a61c-b0e3b12e4753",
   "metadata": {},
   "outputs": [],
   "source": [
    "def downloadSomePapers(size=None):\n",
    "    resolution = \"\"\n",
    "    if size is not None:\n",
    "        resolution = f\"&atleast={size}\"\n",
    "    if os.path.exists(\"wp-downloading\"):\n",
    "        if (time.time() - os.stat(\"wp-downloading\").st_mtime) > 3 * 60:\n",
    "            os.unlink(\"wp-downloading\")\n",
    "        else:\n",
    "            print(\n",
    "                f'wp-downloading file is present and good for {(3*60)-(time.time() - os.stat(\"wp-downloading\").st_mtime)} seconds more'\n",
    "            )\n",
    "            sys.exit(1)\n",
    "\n",
    "    with open(\"wp-downloading\", \"w\") as f:\n",
    "        f.write(\" \")\n",
    "\n",
    "    sfw = 1\n",
    "    sketchy = 0\n",
    "    nsfw = 0\n",
    "    blacklist = [\"https://wallhaven.cc/images/layout/logo_sm.png\"]\n",
    "    wallpaper_dir = os.path.expanduser(\"~/Pictures/Wallpapers\")\n",
    "    if not os.path.exists(wallpaper_dir):\n",
    "        os.mkdir(wallpaper_dir)\n",
    "\n",
    "    def process4WalledPage(url):\n",
    "        res = requests.get(\n",
    "            url,\n",
    "            headers={\n",
    "                \"User-Agent\": \"Mozilla/5.0 (X11; Linux x86_64) AppleWebKit/537.36 (KHTML, like Gecko) Chrome/98.0.4758.102 Safari/537.36\"\n",
    "            },\n",
    "        )\n",
    "        soup = BeautifulSoup(res.text, features=\"lxml\")\n",
    "        for item in soup.find_all(\"img\"):\n",
    "            if \"data-src\" in item.attrs:\n",
    "                if item.attrs[\"data-src\"] not in blacklist:\n",
    "                    item = item.attrs[\"data-src\"]\n",
    "                    item = item.replace(\"https://th.wallhaven.cc/small/\", \"\")\n",
    "                    item = item.replace(\"/\", \"/wallhaven-\")\n",
    "                    url = f\"https://w.wallhaven.cc/full/{item}\"\n",
    "                    fn = item.split(\"/\").pop()\n",
    "                    yield ((fn, url))\n",
    "\n",
    "    random_url = f\"https://wallhaven.cc/search?categories=111&purity={sfw}{sketchy}{nsfw}&atleast={resolution}&sorting=random&order=desc&page=3\"\n",
    "    print(f\"scraping {random_url}\")\n",
    "    for filename, url in process4WalledPage(random_url):\n",
    "        print(f\"{url} => {filename}\")\n",
    "        res = requests.get(url)\n",
    "        if res.status_code == 200 and len(res.content) > 1:\n",
    "            img = Image.open(io.BytesIO(res.content))\n",
    "            height, width = img.size\n",
    "            size_str = f\"{height}x{width}\"\n",
    "            print(f\"adding image to: {size_str}\")\n",
    "            size_folder = Path(os.path.join(wallpaper_dir, size_str))\n",
    "            if not size_folder.exists():\n",
    "                size_folder.mkdir()\n",
    "            out_path = os.path.join(wallpaper_dir, size_str, filename)\n",
    "            with open(out_path, \"wb\") as f:\n",
    "                f.write(res.content)\n",
    "    os.unlink(\"wp-downloading\")"
   ]
  },
  {
   "cell_type": "code",
   "execution_count": null,
   "id": "3bba6586-79dc-4665-a624-f55bf309cc5b",
   "metadata": {},
   "outputs": [],
   "source": [
    "def get_DBUS_SESSION_BUS_ADDRESS():\n",
    "    PID = None\n",
    "    for p in psutil.process_iter():\n",
    "        if p.name() == \"gnome-session-binary\":\n",
    "            PID = p.pid\n",
    "            break\n",
    "\n",
    "    logging.debug(PID)\n",
    "\n",
    "    DBUS_SESSION_BUS_ADDRESS = None\n",
    "    with open(f\"/proc/{PID}/environ\", \"rb\") as f:\n",
    "        d = f.read()\n",
    "        for line in d.split(b\"\\x00\"):\n",
    "            if b\"DBUS_SESSION_BUS_ADDRESS\" in line:\n",
    "                line = line.split(b\"=\", maxsplit=1)\n",
    "                DBUS_SESSION_BUS_ADDRESS = line[1].decode(\"utf-8\")\n",
    "    logging.debug(DBUS_SESSION_BUS_ADDRESS)\n",
    "    os.environ[\"DBUS_SESSION_BUS_ADDRESS\"] = DBUS_SESSION_BUS_ADDRESS\n",
    "    return DBUS_SESSION_BUS_ADDRESS"
   ]
  },
  {
   "cell_type": "raw",
   "id": "0b047a4e-70f2-41d6-acd2-eb81e593a43b",
   "metadata": {},
   "source": [
    "old_wp = subprocess.check_output([\"/usr/bin/gsettings\",\"get\",\"org.gnome.desktop.background\",\"picture-uri\"]).decode('utf-8').strip().rstrip(\"'\").lstrip(\"'\")\n",
    "try:\n",
    "os.unlink(old_wp)\n",
    "except Exception as e:\n",
    "    "
   ]
  },
  {
   "cell_type": "raw",
   "id": "4207d6b7-8f4f-4405-9085-23dcbfb2f3c1",
   "metadata": {},
   "source": [
    "pass"
   ]
  },
  {
   "cell_type": "raw",
   "id": "5766befc-a9c5-458c-b52b-2baff2399bd6",
   "metadata": {},
   "source": [
    "for _ in range(10):\n",
    "    print(getRandomBackground())"
   ]
  },
  {
   "cell_type": "code",
   "execution_count": null,
   "id": "aafebd0d-45fc-446b-9de7-52418b50bd31",
   "metadata": {},
   "outputs": [],
   "source": []
  },
  {
   "cell_type": "code",
   "execution_count": null,
   "id": "f6ee9e46-ed26-4db4-a489-60834bddd3a7",
   "metadata": {},
   "outputs": [],
   "source": [
    "def getSunset():\n",
    "    latitude = 42.703750\n",
    "    longitude = -84.438410\n",
    "    tz_chicago = pytz.timezone(\"America/Chicago\")\n",
    "    tz_name = \"America/Chicago\"\n",
    "    for_date = datetime.now().date()\n",
    "    locationInfoObj = astral.LocationInfo(\n",
    "        \"Custom Name\", \"My Region\", tz_name, latitude, longitude\n",
    "    )\n",
    "    s = astral.sun.sun(locationInfoObj.observer, date=for_date)\n",
    "    return s[\"sunset\"].astimezone(tz_chicago)"
   ]
  },
  {
   "cell_type": "raw",
   "id": "9e986b38-65f3-4ae7-800d-a08047017f9e",
   "metadata": {},
   "source": [
    "raise Exception('stop')"
   ]
  },
  {
   "cell_type": "code",
   "execution_count": null,
   "id": "468733a5-291d-4bc8-901f-4afc82a756fa",
   "metadata": {},
   "outputs": [],
   "source": []
  },
  {
   "cell_type": "code",
   "execution_count": null,
   "id": "b2f09ba6-fc32-4f5b-841c-77b9d99d2cb4",
   "metadata": {},
   "outputs": [],
   "source": [
    "from screeninfo import get_monitors"
   ]
  },
  {
   "cell_type": "code",
   "execution_count": null,
   "id": "72c1ec60-e200-41f1-a131-d150afd34a57",
   "metadata": {},
   "outputs": [],
   "source": [
    "max_height = 0\n",
    "max_width = 0\n",
    "\n",
    "for m in get_monitors():\n",
    "    logging.info(m)\n",
    "    if m.x + m.width > max_width:\n",
    "        max_width = m.x + m.width\n",
    "    if m.y + m.height > max_height:\n",
    "        max_height = m.y + m.height\n",
    "logging.info(f\"maxes {max_width},{max_height}\")"
   ]
  },
  {
   "cell_type": "code",
   "execution_count": null,
   "id": "e505a71c-2a71-4818-96f0-7a81e5fc662c",
   "metadata": {},
   "outputs": [],
   "source": []
  },
  {
   "cell_type": "code",
   "execution_count": null,
   "id": "0ef3cd00",
   "metadata": {},
   "outputs": [],
   "source": [
    "p = Path(\"weather.json\")\n",
    "not p.exists() or (\n",
    "    datetime.now() - datetime.fromtimestamp(p.stat().st_mtime)\n",
    ").seconds > 60 * 60 * 10"
   ]
  },
  {
   "cell_type": "code",
   "execution_count": null,
   "id": "d4a2eb82",
   "metadata": {},
   "outputs": [],
   "source": []
  },
  {
   "cell_type": "code",
   "execution_count": null,
   "id": "991afbf6",
   "metadata": {},
   "outputs": [],
   "source": []
  },
  {
   "cell_type": "code",
   "execution_count": null,
   "id": "9fad2571",
   "metadata": {},
   "outputs": [],
   "source": [
    "def isStorming():\n",
    "    if (\n",
    "        not p.exists()\n",
    "        or (datetime.now() - datetime.fromtimestamp(p.stat().st_mtime)).seconds\n",
    "        > 60 * 60 * 10\n",
    "    ):\n",
    "        weather = requests.get(\n",
    "            \"https://dataservice.accuweather.com/forecasts/v1/hourly/1hour/2211489?apikey=lzAwADaLJIEGXGWS4eCsSL7jVGmiBw9l&language=en-us&details=true\"\n",
    "        ).json()\n",
    "        if \"Code\" in weather and weather[\"Code\"] == \"ServiceUnavailable\":\n",
    "            return False\n",
    "        p.write_text(json.dumps(weather))\n",
    "    else:\n",
    "        weather = json.loads(p.read_text())\n",
    "    return weather[0][\"IconPhrase\"] == \"Thunderstorms\""
   ]
  },
  {
   "cell_type": "code",
   "execution_count": null,
   "id": "bff7f948-306e-4d55-8fdf-bfde3b48a495",
   "metadata": {},
   "outputs": [],
   "source": [
    "def imgToRatio(h, w):\n",
    "    if h > w:\n",
    "        return \"16x9\"\n",
    "    elif w > h:\n",
    "        return \"9x16\"\n",
    "    else:\n",
    "        return \"square\""
   ]
  },
  {
   "cell_type": "code",
   "execution_count": null,
   "id": "9ce3d1aa-9eb2-418a-9fc6-225f18d38f9e",
   "metadata": {},
   "outputs": [],
   "source": [
    "import pytesseract\n",
    "\n",
    "offensive_words = requests.get(\n",
    "    \"https://raw.githubusercontent.com/LDNOOBW/List-of-Dirty-Naughty-Obscene-and-Otherwise-Bad-Words/master/en\"\n",
    ").text.splitlines()\n",
    "\n",
    "\n",
    "def hasOffenseiveText(path):\n",
    "    text = pytesseract.image_to_string(path).strip()\n",
    "    for w in offensive_words:\n",
    "        if w in text:\n",
    "            return True\n",
    "\n",
    "    return False"
   ]
  },
  {
   "cell_type": "code",
   "execution_count": null,
   "id": "79928dbd-b7a7-44f7-9796-82fe212ae851",
   "metadata": {},
   "outputs": [],
   "source": [
    "import cv2\n",
    "import numpy as np\n",
    "\n",
    "face_cascade = cv2.CascadeClassifier(\n",
    "    \"/home/srudloff/github/Some-Notebooks/Wallpaper/lbpcascade_animeface.xml\"\n",
    ")\n",
    "\n",
    "\n",
    "def hasAnimeFace(path):\n",
    "    print(path)\n",
    "    # loading in the cascades.\n",
    "\n",
    "    image = cv2.imread(path)\n",
    "    gray = cv2.cvtColor(image, cv2.COLOR_BGR2GRAY)\n",
    "    faces = face_cascade.detectMultiScale(gray, 1.3, 5)\n",
    "    print(f\"Found {len(faces)} Anime faces\")\n",
    "    return len(faces) > 0\n",
    "\n",
    "\n",
    "faceCascade = cv2.CascadeClassifier(\n",
    "    \"/home/srudloff/github/Some-Notebooks/Wallpaper/haarcascade_frontalface_default.xml\"\n",
    ")\n",
    "\n",
    "\n",
    "def hasHumanFace(path):\n",
    "    image = cv2.imread(path)\n",
    "    gray = cv2.cvtColor(image, cv2.COLOR_BGR2GRAY)\n",
    "\n",
    "    # Detect faces in the image\n",
    "    faces = faceCascade.detectMultiScale(\n",
    "        gray,\n",
    "        scaleFactor=1.1,\n",
    "        minNeighbors=5,\n",
    "        minSize=(30, 30)\n",
    "        # flags = cv2.CV_HAAR_SCALE_IMAGE\n",
    "    )\n",
    "\n",
    "    print(f\"Found {len(faces)} human faces!\")\n",
    "    return len(faces) > 0"
   ]
  },
  {
   "cell_type": "code",
   "execution_count": null,
   "id": "47ecb147-c2f6-49d8-9a08-5bb00226b331",
   "metadata": {},
   "outputs": [],
   "source": [
    "def getRandomBackground(size=None, used=None):\n",
    "    print(\"grb size\", size)\n",
    "    if used is None:\n",
    "        used = []\n",
    "    if size is None:\n",
    "        size = random.choice(os.listdir(wallpaper_dir))\n",
    "        logging.info(\"Selecting random size images\")\n",
    "    try:\n",
    "        bgs = os.listdir(os.path.join(wallpaper_dir, size))\n",
    "        if len(bgs) == 0:\n",
    "            return None\n",
    "        path = os.path.join(wallpaper_dir, size, random.choice(bgs))\n",
    "        max_i = 10\n",
    "        while (\n",
    "            path in used\n",
    "            or hasAnimeFace(path)\n",
    "            or hasHumanFace(path)\n",
    "            or hasOffenseiveText(path)\n",
    "        ):\n",
    "            max_i -= 1\n",
    "            print(\"ReRollin\", max_i)\n",
    "            path = os.path.join(wallpaper_dir, size, random.choice(bgs))\n",
    "            if max_i == 0:\n",
    "                return None\n",
    "        return path\n",
    "    except Exception as e:\n",
    "        print(e)\n",
    "        return None"
   ]
  },
  {
   "cell_type": "code",
   "execution_count": null,
   "id": "47f3c852-7381-463e-8bf8-711755597ca7",
   "metadata": {},
   "outputs": [],
   "source": [
    "class ImageSpot:\n",
    "    def __init__(self, image, x, y, h, w):\n",
    "        self.image = image\n",
    "        self.x = x\n",
    "        self.y = y\n",
    "        self.height = h\n",
    "        self.width = w\n",
    "        print(self)\n",
    "        self.fillColor = \"\"\n",
    "        self.size_data = reduceFraction(h, w)\n",
    "        self.size_str = f\"{self.size_data[0]}x{self.size_data[1]}\"\n",
    "        self.ratio = w / h\n",
    "\n",
    "    def fill(self, im):\n",
    "        pos = (self.x, self.y)\n",
    "        logging.info(f\"pasting at {pos}, {im.size}\")\n",
    "        self.image.paste(im, pos)\n",
    "\n",
    "    def fakeit(self):\n",
    "        shape = [(self.x, self.y), (self.x + self.width, self.y + self.height)]\n",
    "        # create rectangle image\n",
    "        img1 = ImageDraw.Draw(self.image)\n",
    "        img1.rectangle(shape, fill=self.fillColor)\n",
    "\n",
    "    def __repr__(self):\n",
    "        return f\"Monitor({self.x},{self.y}) {self.width}X{self.height}\""
   ]
  },
  {
   "cell_type": "code",
   "execution_count": null,
   "id": "fc9fb224-8435-44ad-8c3e-7ceea72dee8b",
   "metadata": {},
   "outputs": [],
   "source": [
    "im = Image.new(mode=\"RGBA\", size=(max_width, max_height))\n",
    "image_spots = []\n",
    "for m in get_monitors():\n",
    "    image_spots.append(ImageSpot(image=im, x=m.x, y=m.y, h=m.height, w=m.width))\n",
    "\n",
    "\n",
    "backup_colors = [\"#151515\", \"#131313\", \"#171717\", \"#ff00ff\"]\n",
    "needs_more_papers = []\n",
    "used = []\n",
    "for item in image_spots:\n",
    "    logging.info(item)\n",
    "    wallpaper = None\n",
    "    wallpaper = getRandomBackground(item.size_str, used)\n",
    "    logging.info(f\"wpf {wallpaper}\")\n",
    "    if wallpaper is None:\n",
    "        logging.info(f\"no image of size:{item.size_str}, faking it\")\n",
    "        needs_more_papers.append(item.size_str)\n",
    "        item.fillColor = backup_colors.pop(0)\n",
    "        item.fakeit()\n",
    "    else:\n",
    "        img = Image.open(wallpaper)\n",
    "        logging.info(f\"{item} - {item.size_str},{img.size},{wallpaper}\")\n",
    "        item.fill(img)\n",
    "        used.append(wallpaper)\n",
    "    print()\n",
    "wallpaper = os.path.expanduser(\"~/bg.png\")\n",
    "\n",
    "a = getSunset()\n",
    "if datetime.now().time().hour > a.hour or isStorming():\n",
    "    print(\"Sunset mode\")\n",
    "    enhancer = ImageEnhance.Brightness(im)\n",
    "    factor = 0.5  # Darkens the image\n",
    "    im = enhancer.enhance(factor)\n",
    "\n",
    "im.save(wallpaper)"
   ]
  },
  {
   "cell_type": "raw",
   "id": "e95f761a-851c-4bd6-82df-159f25fb2ff5",
   "metadata": {},
   "source": [
    "im.show()"
   ]
  },
  {
   "cell_type": "code",
   "execution_count": null,
   "id": "f49ee1b9-aecf-471b-8412-e59f3c261dba",
   "metadata": {},
   "outputs": [],
   "source": [
    "get_DBUS_SESSION_BUS_ADDRESS()"
   ]
  },
  {
   "cell_type": "code",
   "execution_count": null,
   "id": "fe1c8a78-ecbb-4094-9147-938c28e8fd1e",
   "metadata": {},
   "outputs": [],
   "source": [
    "cmd = f\"DBUS_SESSION_BUS_ADDRESS='{get_DBUS_SESSION_BUS_ADDRESS()}' /usr/bin/gsettings set org.gnome.desktop.background picture-uri {wallpaper}\"\n",
    "logging.debug(cmd)\n",
    "os.system(cmd)\n",
    "\n",
    "cmd = f\"DBUS_SESSION_BUS_ADDRESS='{get_DBUS_SESSION_BUS_ADDRESS()}' /usr/bin/gsettings set org.gnome.desktop.background picture-uri-dark {wallpaper}\"\n",
    "logging.debug(cmd)\n",
    "os.system(cmd)\n",
    "\n",
    "try:\n",
    "    os.unlink(\"wp-lock\")\n",
    "except Exception:\n",
    "    pass\n",
    "\n",
    "cmd = f\"DBUS_SESSION_BUS_ADDRESS='{get_DBUS_SESSION_BUS_ADDRESS()}' /usr/bin/gsettings set org.gnome.desktop.background picture-options spanned\"\n",
    "os.system(cmd)"
   ]
  },
  {
   "cell_type": "raw",
   "id": "d91ea9e9-3885-479d-b463-414d19c860d9",
   "metadata": {},
   "source": [
    "\n",
    "urls = [\n",
    "    \"https://wallhaven.cc/search?categories=111&purity=100&ratios=9x16&sorting=random&order=desc\",\n",
    "    \"https://wallhaven.cc/search?categories=111&purity=100&ratios=16x9&sorting=random&order=desc\",\n",
    "]\n",
    "\n",
    "\n",
    "blacklist = [\"https://wallhaven.cc/images/layout/logo_sm.png\"]\n",
    "\n",
    "\"\"\n",
    "\n",
    "def process4WalledPage(url):\n",
    "    res = requests.get(\n",
    "        url,\n",
    "        headers={\n",
    "            \"User-Agent\": \"Mozilla/5.0 (X11; Linux x86_64) AppleWebKit/537.36 (KHTML, like Gecko) Chrome/98.0.4758.102 Safari/537.36\"\n",
    "        },\n",
    "    )\n",
    "    soup = BeautifulSoup(res.text, features=\"lxml\")\n",
    "    for item in soup.find_all(\"img\"):\n",
    "        if \"data-src\" in item.attrs:\n",
    "            if item.attrs[\"data-src\"] not in blacklist:\n",
    "                item = item.attrs[\"data-src\"]\n",
    "                item = item.replace(\"https://th.wallhaven.cc/small/\", \"\")\n",
    "                item = item.replace(\"/\", \"/wallhaven-\")\n",
    "                url = f\"https://w.wallhaven.cc/full/{item}\"\n",
    "                fn = item.split(\"/\").pop()\n",
    "                yield ((fn, url))\n",
    "\n",
    "\n",
    "for url in urls:\n",
    "    print(f\"{url}\")\n",
    "    for filename, url in process4WalledPage(url):\n",
    "        res = requests.get(url)\n",
    "        if res.status_code == 200 and len(res.content) > 1:\n",
    "            print(f\"{url} => {filename}\")\n",
    "            img = Image.open(io.BytesIO(res.content))\n",
    "            height, width = img.size\n",
    "            fheight, fwidth = reduceFraction(height,width)\n",
    "            size_str = f\"{fheight}x{fwidth}\"\n",
    "            print(f\"adding image to: {size_str}\")\n",
    "            size_folder = Path(os.path.join(wallpaper_dir, size_str))\n",
    "            if not size_folder.exists():\n",
    "                size_folder.mkdir()\n",
    "            out_path = os.path.join(wallpaper_dir, size_str, filename)\n",
    "            with open(out_path, \"wb\") as f:\n",
    "                f.write(res.content)"
   ]
  },
  {
   "cell_type": "raw",
   "id": "ac54bd06-2918-4f46-adfb-ff6f1047954e",
   "metadata": {},
   "source": [
    "if len(needs_more_papers):\n",
    "    for size in needs_more_papers:\n",
    "        downloadSomePapers(size)"
   ]
  },
  {
   "cell_type": "raw",
   "id": "bfaf97db-ba12-441a-9bbf-56c6a27fea43",
   "metadata": {},
   "source": [
    "for i in Path(wallpaper_dir).iterdir():\n",
    "    print(i.name)"
   ]
  },
  {
   "cell_type": "code",
   "execution_count": null,
   "id": "434bef3a-24c0-45d4-9314-6a37850cf372",
   "metadata": {},
   "outputs": [],
   "source": []
  }
 ],
 "metadata": {
  "celltoolbar": "Tags",
  "kernelspec": {
   "display_name": "Python 3 (ipykernel)",
   "language": "python",
   "name": "python3"
  },
  "language_info": {
   "codemirror_mode": {
    "name": "ipython",
    "version": 3
   },
   "file_extension": ".py",
   "mimetype": "text/x-python",
   "name": "python",
   "nbconvert_exporter": "python",
   "pygments_lexer": "ipython3",
   "version": "3.10.6"
  },
  "widgets": {
   "application/vnd.jupyter.widget-state+json": {
    "state": {},
    "version_major": 2,
    "version_minor": 0
   }
  }
 },
 "nbformat": 4,
 "nbformat_minor": 5
}
