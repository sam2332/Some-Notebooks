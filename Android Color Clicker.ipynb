{
 "cells": [
  {
   "cell_type": "code",
   "execution_count": 1,
   "metadata": {
    "tags": []
   },
   "outputs": [],
   "source": [
    "# App https://play.google.com/store/apps/details?id=droidhang.twgame.restaurant&hl=en_US&gl=US\n",
    "\n",
    "# General Includes\n",
    "import subprocess, json,os\n",
    "from tqdm import tqdm\n",
    "from IPython.display import clear_output,display\n",
    "import time\n",
    "from pathlib import Path\n",
    "import random"
   ]
  },
  {
   "cell_type": "code",
   "execution_count": 5,
   "metadata": {
    "tags": []
   },
   "outputs": [
    {
     "data": {
      "text/plain": [
       "[]"
      ]
     },
     "execution_count": 5,
     "metadata": {},
     "output_type": "execute_result"
    }
   ],
   "source": [
    "def shell(cmd,debug=False,returns_POpen = False,close_fds=False):\n",
    "    if debug: print(cmd)\n",
    "    \n",
    "    if returns_POpen:\n",
    "        process = subprocess.Popen(cmd, close_fds=close_fds)\n",
    "        return process\n",
    "    \n",
    "    process = subprocess.run(cmd, stdout=subprocess.PIPE)\n",
    "    return process.stdout.decode('utf-8').strip().splitlines()\n",
    "\n",
    "\n",
    "def adb(cmd,debug = False,returns_POpen = False,close_fds=False):\n",
    "    # This function runs adb commands on your connected device or emulator.\n",
    "    if type(cmd) == str:\n",
    "        cmd = cmd.split(' ')\n",
    "    cmd = ['adb'] + cmd\n",
    "    return shell(\n",
    "        cmd,\n",
    "        debug=debug,\n",
    "        returns_POpen=returns_POpen,\n",
    "        close_fds=close_fds\n",
    "    )\n",
    "adb('wait-for-device')"
   ]
  },
  {
   "cell_type": "code",
   "execution_count": null,
   "metadata": {},
   "outputs": [],
   "source": []
  },
  {
   "cell_type": "code",
   "execution_count": 6,
   "metadata": {},
   "outputs": [],
   "source": [
    "def FindColor(im,color,tolerence):\n",
    "    min_r = color[0]-tolerence\n",
    "    min_g = color[1]-tolerence\n",
    "    min_b = color[2]-tolerence\n",
    "\n",
    "    max_r = color[0]+tolerence\n",
    "    max_g = color[1]+tolerence\n",
    "    max_b = color[2]+tolerence\n",
    "\n",
    "    for x in range(1,im.width-1,1):\n",
    "        for y in range(1,im.height-1,1):\n",
    "            rgb = im.getpixel((x,y))\n",
    "            if (rgb[0] > min_r and rgb[0] < max_r and\n",
    "                rgb[1] > min_g and rgb[1] < max_g and\n",
    "                rgb[2] > min_b and rgb[2] < max_b\n",
    "               ):\n",
    "                yield(x,y)"
   ]
  },
  {
   "cell_type": "code",
   "execution_count": 7,
   "metadata": {
    "tags": []
   },
   "outputs": [],
   "source": [
    "from PIL import Image, ImageDraw\n",
    "def pullImage():\n",
    "    adb('shell screencap -p /sdcard/screen.png')\n",
    "    adb('pull /sdcard/screen.png ./game.png')\n",
    "    adb(\"shell rm /sdcard/screen.png\")\n",
    "    im = Image.open(\"game.png\")\n",
    "    rgb_im = im.convert('RGB')\n",
    "    return rgb_im"
   ]
  },
  {
   "cell_type": "code",
   "execution_count": 8,
   "metadata": {},
   "outputs": [],
   "source": [
    "def getCenter(points,area_range=5):\n",
    "    x = [p[0] for p in points]\n",
    "    y = [p[1] for p in points]\n",
    "    return (int(sum(x) / len(points))+random.randint(0-area_range,area_range), int(sum(y) / len(points))+random.randint(0-area_range,area_range))"
   ]
  },
  {
   "cell_type": "code",
   "execution_count": 9,
   "metadata": {
    "tags": []
   },
   "outputs": [],
   "source": [
    "last_click = time.time()\n",
    "click_throttle = 10\n",
    "resize_ratio=0.25\n",
    "can_click = True\n",
    "color = (173,133,153)"
   ]
  },
  {
   "cell_type": "code",
   "execution_count": 10,
   "metadata": {
    "tags": []
   },
   "outputs": [
    {
     "name": "stdout",
     "output_type": "stream",
     "text": [
      "(1186, 549)\n",
      "(1178, 552)\n",
      "(1178, 554)\n",
      "(1165, 559)\n",
      "(1185, 557)\n",
      "(1185, 557)\n",
      "(1183, 551)\n",
      "(1181, 559)\n",
      "(1185, 554)\n",
      "(1177, 558)\n",
      "(1185, 558)\n",
      "(1185, 555)\n",
      "(1179, 551)\n",
      "(1176, 551)\n",
      "(913, 371)\n",
      "(1704, 562)\n",
      "(1483, 242)\n",
      "(1151, 140)\n",
      "(942, 213)\n",
      "(945, 208)\n",
      "(951, 209)\n",
      "(1156, 137)\n",
      "(851, 13)\n",
      "(952, 207)\n",
      "(949, 209)\n",
      "(989, 1030)\n",
      "(1340, 273)\n",
      "(1159, 199)\n",
      "(933, 255)\n",
      "(937, 250)\n",
      "(932, 253)\n",
      "(931, 253)\n",
      "(932, 253)\n",
      "(932, 251)\n",
      "(928, 259)\n",
      "(927, 252)\n",
      "(933, 253)\n",
      "(990, 237)\n",
      "(994, 243)\n",
      "(979, 245)\n",
      "(928, 259)\n",
      "(936, 252)\n",
      "(930, 260)\n",
      "(927, 251)\n",
      "(931, 260)\n",
      "(983, 236)\n",
      "(984, 240)\n",
      "(935, 260)\n",
      "(930, 256)\n",
      "(937, 260)\n",
      "(927, 251)\n",
      "(937, 254)\n",
      "(928, 254)\n",
      "(973, 247)\n",
      "(936, 259)\n",
      "(935, 257)\n",
      "(932, 258)\n",
      "(946, 250)\n",
      "(935, 251)\n",
      "(933, 255)\n",
      "(932, 256)\n",
      "(932, 260)\n",
      "(935, 259)\n",
      "(987, 246)\n",
      "(947, 246)\n",
      "(929, 251)\n",
      "(936, 250)\n",
      "(934, 250)\n",
      "(993, 240)\n",
      "(932, 253)\n",
      "(933, 259)\n",
      "(935, 254)\n",
      "(930, 260)\n",
      "(934, 251)\n",
      "(934, 254)\n",
      "(931, 256)\n",
      "(928, 252)\n",
      "(927, 254)\n",
      "(932, 252)\n",
      "(935, 259)\n",
      "(936, 255)\n",
      "(1237, 222)\n",
      "(1235, 214)\n",
      "(1244, 215)\n",
      "(1235, 225)\n",
      "(1236, 216)\n",
      "(1237, 216)\n",
      "(1244, 209)\n",
      "(1238, 223)\n",
      "(1241, 220)\n",
      "(1239, 214)\n",
      "(1236, 224)\n",
      "(1233, 218)\n",
      "(1229, 219)\n"
     ]
    },
    {
     "ename": "KeyboardInterrupt",
     "evalue": "",
     "output_type": "error",
     "traceback": [
      "\u001b[0;31m---------------------------------------------------------------------------\u001b[0m",
      "\u001b[0;31mKeyboardInterrupt\u001b[0m                         Traceback (most recent call last)",
      "Input \u001b[0;32mIn [10]\u001b[0m, in \u001b[0;36m<module>\u001b[0;34m\u001b[0m\n\u001b[1;32m     13\u001b[0m             adb(\u001b[38;5;124mf\u001b[39m\u001b[38;5;124m\"\u001b[39m\u001b[38;5;124mshell input tap \u001b[39m\u001b[38;5;132;01m{\u001b[39;00mcenter[\u001b[38;5;241m0\u001b[39m]\u001b[38;5;132;01m}\u001b[39;00m\u001b[38;5;124m \u001b[39m\u001b[38;5;132;01m{\u001b[39;00mcenter[\u001b[38;5;241m1\u001b[39m]\u001b[38;5;132;01m}\u001b[39;00m\u001b[38;5;124m\"\u001b[39m)\n\u001b[1;32m     14\u001b[0m             time\u001b[38;5;241m.\u001b[39msleep(random\u001b[38;5;241m.\u001b[39mchoice([\u001b[38;5;241m2.5\u001b[39m,\u001b[38;5;241m7\u001b[39m,\u001b[38;5;241m14\u001b[39m,\u001b[38;5;241m2\u001b[39m,\u001b[38;5;241m1\u001b[39m,\u001b[38;5;241m0\u001b[39m]))\n\u001b[0;32m---> 15\u001b[0m \u001b[43mtime\u001b[49m\u001b[38;5;241;43m.\u001b[39;49m\u001b[43msleep\u001b[49m\u001b[43m(\u001b[49m\u001b[38;5;241;43m5\u001b[39;49m\u001b[43m)\u001b[49m\n",
      "\u001b[0;31mKeyboardInterrupt\u001b[0m: "
     ]
    }
   ],
   "source": [
    "while True:\n",
    "    a = pullImage()\n",
    "    #a = a.resize((int(a.width*resize_ratio),int(a.height*resize_ratio)), Image.Resampling.LANCZOS)\n",
    "    #clear_output()\n",
    "    #display(a)\n",
    "    c = list(FindColor(a,color,10))\n",
    "    if len(c)>2:\n",
    "        center = getCenter(c)\n",
    "        if time.time()-last_click > click_throttle:\n",
    "            last_click = time.time()\n",
    "            print(center)\n",
    "            if can_click:\n",
    "                adb(f\"shell input tap {center[0]} {center[1]}\")\n",
    "                time.sleep(random.choice([2.5,7,14,2,1,0]))\n",
    "    time.sleep(5)"
   ]
  },
  {
   "cell_type": "code",
   "execution_count": null,
   "metadata": {},
   "outputs": [],
   "source": [
    "display(a)"
   ]
  },
  {
   "cell_type": "code",
   "execution_count": null,
   "metadata": {
    "tags": []
   },
   "outputs": [],
   "source": [
    "a.width"
   ]
  },
  {
   "cell_type": "code",
   "execution_count": null,
   "metadata": {
    "tags": []
   },
   "outputs": [],
   "source": [
    "a.height"
   ]
  },
  {
   "cell_type": "code",
   "execution_count": null,
   "metadata": {},
   "outputs": [],
   "source": []
  }
 ],
 "metadata": {
  "kernelspec": {
   "display_name": "Python 3 (ipykernel)",
   "language": "python",
   "name": "python3"
  },
  "language_info": {
   "codemirror_mode": {
    "name": "ipython",
    "version": 3
   },
   "file_extension": ".py",
   "mimetype": "text/x-python",
   "name": "python",
   "nbconvert_exporter": "python",
   "pygments_lexer": "ipython3",
   "version": "3.8.10"
  }
 },
 "nbformat": 4,
 "nbformat_minor": 4
}
