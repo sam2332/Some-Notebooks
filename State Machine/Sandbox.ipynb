{
 "cells": [
  {
   "cell_type": "code",
   "execution_count": 35,
   "id": "a6cc643a-4124-4a3d-96f8-caa82a5354e6",
   "metadata": {},
   "outputs": [],
   "source": [
    "from pathlib import Path\n",
    "import random\n",
    "from functools import partial\n",
    "from collections import defaultdict"
   ]
  },
  {
   "cell_type": "code",
   "execution_count": 41,
   "id": "6325bd20-5461-4b7f-9919-0a16036c7c70",
   "metadata": {
    "tags": []
   },
   "outputs": [],
   "source": [
    "class StateMachine():\n",
    "    def __init__(self,name,startup_db=None,startup_state=None):\n",
    "        if startup_db is None:\n",
    "            self.db = defaultdict(lambda: defaultdict(dict))\n",
    "        else:\n",
    "            self.db = startup_db\n",
    "        self.startup_db = startup_db\n",
    "        self.file = Path(f'{name}.StateMachine.json')\n",
    "        self.function_arguments={}\n",
    "        self.functions={}\n",
    "        if not self.file.exists():\n",
    "            self.file.write_text(json.dumps({\n",
    "                'name': name,\n",
    "                'initialState':startup_state,\n",
    "                'currentState':None,\n",
    "                'rules':{}\n",
    "            }))\n",
    "        self.state = json.loads(self.file.read_text())\n",
    "        self.changeState( self.state['initialState'])\n",
    "    def changeState(self,new_state_name):\n",
    "        if new_state_name is not None:\n",
    "            if new_state_name in self.state['rules']:\n",
    "                self.currentState = self.state['rules'][new_state_name]\n",
    "            \n",
    "            else:\n",
    "                raise Exception(f\"No State Named {new_state_name}\")\n",
    "        \n",
    "        \n",
    "    def setupInitalTo(self,name):\n",
    "        self.state['initialState'] = name\n",
    "        self.file.write_text(json.dumps(self.state))\n",
    "        self.currentState = self.state['rules'][self.state['initialState']]\n",
    "        \n",
    "    def addState(self, state_name,can_move_directly_to, *args, **kwargs):\n",
    "        self.state['rules'][state_name] = {\n",
    "            'name':state_name,\n",
    "            'to':can_move_directly_to\n",
    "        }\n",
    "        self.function_arguments[state_name] = kwargs\n",
    "        self.file.write_text(json.dumps(self.state))\n",
    "        print(\"State Added:\", state_name)\n",
    "\n",
    "        def inner(func):\n",
    "\n",
    "            self.functions[state_name] = partial(func,db=self.db)\n",
    "            # code functionality here\n",
    "            return partial(func,db=self.db)\n",
    "\n",
    "        # returning inner function   \n",
    "        return inner\n",
    "    def resetState(self):\n",
    "        self.currentState = self.state['rules'][self.state['initialState']]\n",
    "        self.state['currentState'] = self.state['initialState']\n",
    "        self.db = self.startup_db\n",
    "        self.file.write_text(json.dumps(self.state))\n",
    "        \n",
    "    def moveState(self, new_state):\n",
    "        if new_state in self.currentState['to']:\n",
    "            self.currentState = self.state['rules'][new_state]\n",
    "            self.state['currentState'] = new_state\n",
    "            self.file.write_text(json.dumps(self.state))\n",
    "        else:\n",
    "            raise Exception(f\"Bad State Move:{new_state}\")\n",
    "            \n",
    "    def run(\n",
    "        self,\n",
    "        maxOperations = 100,\n",
    "        print_state_change=False\n",
    "       ):        \n",
    "        self.running = True\n",
    "        while self.running and maxOperations > 0:\n",
    "            maxOperations-=1\n",
    "            next_state = self._run_once(print_state_change=print_state_change)\n",
    "            if next_state is None:\n",
    "                self.running=False\n",
    "                break\n",
    "    def _run_once(\n",
    "        self,\n",
    "        print_state_change=False\n",
    "    ):\n",
    "        if self.currentState['name'] in s.functions:\n",
    "            next_state = self.functions[self.currentState['name']]()\n",
    "            if print_state_change: print(next_state)\n",
    "            if next_state is not None:\n",
    "                self.moveState(next_state)\n",
    "            return next_state\n",
    "        else:\n",
    "            raise Exception(\"Not Callable\")\n",
    "                "
   ]
  },
  {
   "cell_type": "code",
   "execution_count": 42,
   "id": "346a6082-70e5-423b-8325-6e799bfee566",
   "metadata": {
    "tags": []
   },
   "outputs": [
    {
     "name": "stdout",
     "output_type": "stream",
     "text": [
      "State Added: CheckInventory\n",
      "State Added: DoMining\n",
      "State Added: BankOre\n"
     ]
    }
   ],
   "source": [
    "s = StateMachine(\n",
    "    'Mining and Smelting',\n",
    "    startup_db={'Inventory':{'FreeSpace':2,'Ore':0},'Bank':{'FreeSpace':6,'Ore':0}},\n",
    "    startup_state=\"CheckInventory\"\n",
    ")\n",
    "\n",
    "@s.addState(state_name=\"CheckInventory\",can_move_directly_to=['DoMining','BankOre'])\n",
    "def bot_CheckInventory(db):\n",
    "    if db['Inventory']['FreeSpace'] > 0:\n",
    "        return \"DoMining\"\n",
    "    \n",
    "    if db['Inventory']['FreeSpace'] == 0:\n",
    "        return \"BankOre\"\n",
    "    \n",
    "\n",
    "@s.addState(state_name=\"DoMining\",can_move_directly_to=['CheckInventory'])\n",
    "def bot_DoMining(db):\n",
    "    if random.choice([True,False,False]):\n",
    "        if db['Inventory']['FreeSpace'] > 0:\n",
    "            db['Inventory']['FreeSpace']-=1\n",
    "            db['Inventory']['Ore']+=1\n",
    "    return \"CheckInventory\"\n",
    "\n",
    "@s.addState(state_name=\"BankOre\",can_move_directly_to=['DoMining'])\n",
    "def bot_BankOre(db):\n",
    "    if db['Bank']['FreeSpace'] > 0:\n",
    "        db['Bank']['Ore']+=db['Inventory']['Ore']\n",
    "        db['Bank']['FreeSpace']-=db['Inventory']['Ore']\n",
    "        db['Inventory']['FreeSpace']=4\n",
    "        db['Inventory']['Ore']=0\n",
    "        return \"DoMining\"\n",
    "    \n",
    "\n",
    "s.resetState()\n",
    "s.run(maxOperations=9999)"
   ]
  },
  {
   "cell_type": "code",
   "execution_count": 43,
   "id": "a88dc262-b767-4bf5-b6d4-5a5e86f53034",
   "metadata": {
    "tags": []
   },
   "outputs": [
    {
     "data": {
      "text/plain": [
       "{'Inventory': {'FreeSpace': 0, 'Ore': 4}, 'Bank': {'FreeSpace': 0, 'Ore': 6}}"
      ]
     },
     "execution_count": 43,
     "metadata": {},
     "output_type": "execute_result"
    }
   ],
   "source": [
    "s.db"
   ]
  },
  {
   "cell_type": "code",
   "execution_count": null,
   "id": "078a0e8a-fb10-43e8-8360-3764fa7fce58",
   "metadata": {},
   "outputs": [],
   "source": []
  }
 ],
 "metadata": {
  "kernelspec": {
   "display_name": "Python 3 (ipykernel)",
   "language": "python",
   "name": "python3"
  },
  "language_info": {
   "codemirror_mode": {
    "name": "ipython",
    "version": 3
   },
   "file_extension": ".py",
   "mimetype": "text/x-python",
   "name": "python",
   "nbconvert_exporter": "python",
   "pygments_lexer": "ipython3",
   "version": "3.8.10"
  }
 },
 "nbformat": 4,
 "nbformat_minor": 5
}
