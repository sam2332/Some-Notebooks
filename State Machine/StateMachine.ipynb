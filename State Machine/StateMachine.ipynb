{
 "cells": [
  {
   "cell_type": "code",
   "execution_count": 88,
   "id": "fc452f34-a5e7-476a-a661-94f2bc9b7d89",
   "metadata": {},
   "outputs": [],
   "source": [
    "import random\n",
    "from collections import defaultdict\n",
    "from functools import partial\n",
    "from pathlib import Path\n",
    "from copy import copy\n",
    "\n",
    "class StateMachine:\n",
    "    def __init__(self, name, startup_db=None, startup_state=None):\n",
    "        if startup_db is None:\n",
    "            self.db = defaultdict(lambda: defaultdict(dict))\n",
    "        else:\n",
    "            self.db = startup_db\n",
    "        self.startup_db = copy(startup_db)\n",
    "        self.file = Path(f\"{name}.StateMachine.json\")\n",
    "        self.function_arguments = {}\n",
    "        self.functions = {}\n",
    "        if not self.file.exists():\n",
    "            self.file.write_text(\n",
    "                json.dumps(\n",
    "                    {\n",
    "                        \"name\": name,\n",
    "                        \"initialState\": startup_state,\n",
    "                        \"currentState\": None,\n",
    "                        \"rules\": {},\n",
    "                    }\n",
    "                )\n",
    "            )\n",
    "        self.state = json.loads(self.file.read_text())\n",
    "        self.changeState(self.state[\"initialState\"])\n",
    "\n",
    "    def changeState(self, new_state_name):\n",
    "        if new_state_name is not None:\n",
    "            if new_state_name in self.state[\"rules\"]:\n",
    "                self.currentState = self.state[\"rules\"][new_state_name]\n",
    "\n",
    "            else:\n",
    "                raise Exception(f\"No State Named {new_state_name}\")\n",
    "\n",
    "    def setupInitalTo(self, name):\n",
    "        self.state[\"initialState\"] = name\n",
    "        self.file.write_text(json.dumps(self.state))\n",
    "        self.currentState = self.state[\"rules\"][self.state[\"initialState\"]]\n",
    "\n",
    "    def addState(self, state_name, can_move_directly_to, *args, **kwargs):\n",
    "        self.state[\"rules\"][state_name] = {\n",
    "            \"name\": state_name,\n",
    "            \"to\": can_move_directly_to,\n",
    "        }\n",
    "        self.function_arguments[state_name] = kwargs\n",
    "        self.file.write_text(json.dumps(self.state))\n",
    "        print(\"State Added:\", state_name)\n",
    "\n",
    "        def inner(func):\n",
    "\n",
    "            self.functions[state_name] = func  # partial(func,db=self.db)\n",
    "            # code functionality here\n",
    "            return func  # partial(func,db=self.db)\n",
    "\n",
    "        # returning inner function\n",
    "        return inner\n",
    "\n",
    "    def resetState(self):\n",
    "        self.currentState = self.state[\"rules\"][self.state[\"initialState\"]]\n",
    "        self.state[\"currentState\"] = self.state[\"initialState\"]\n",
    "        self.db = self.startup_db\n",
    "        self.file.write_text(json.dumps(self.state))\n",
    "\n",
    "    def moveState(self, new_state):\n",
    "        if new_state in self.currentState[\"to\"]:\n",
    "            self.currentState = self.state[\"rules\"][new_state]\n",
    "            self.state[\"currentState\"] = new_state\n",
    "            self.file.write_text(json.dumps(self.state))\n",
    "        else:\n",
    "            raise Exception(f\"Bad State Move:{new_state}\")\n",
    "\n",
    "    def run(self, maxOperations=100, print_state_change=False):\n",
    "        self.running = True\n",
    "        while self.running and maxOperations > 0:\n",
    "            maxOperations -= 1\n",
    "            next_state = self._run_once(print_state_change=print_state_change)\n",
    "            if next_state is None:\n",
    "                self.running = False\n",
    "                break\n",
    "\n",
    "    def _run_once(self, print_state_change=False):\n",
    "        if self.currentState[\"name\"] in s.functions:\n",
    "            next_state = self.functions[self.currentState[\"name\"]](db=self.db)\n",
    "            if print_state_change:\n",
    "                print(next_state)\n",
    "            if next_state is not None:\n",
    "                self.moveState(next_state)\n",
    "            return next_state\n",
    "        else:\n",
    "            raise Exception(\"Not Callable\")"
   ]
  },
  {
   "cell_type": "code",
   "execution_count": 93,
   "id": "14154198-07ee-4e19-b0b9-8fac8cef6597",
   "metadata": {},
   "outputs": [
    {
     "name": "stdout",
     "output_type": "stream",
     "text": [
      "State Added: CheckInventory\n",
      "State Added: DoMining\n",
      "State Added: BankOre\n"
     ]
    },
    {
     "data": {
      "text/plain": [
       "{'Inventory': {'FreeSpace': 2, 'Ore': 0}, 'Bank': {'FreeSpace': 6, 'Ore': 0}}"
      ]
     },
     "execution_count": 93,
     "metadata": {},
     "output_type": "execute_result"
    }
   ],
   "source": [
    "s = StateMachine(\n",
    "    \"Mining and Smelting\",\n",
    "    startup_db={\n",
    "        \"Inventory\": {\"FreeSpace\": 2, \"Ore\": 0},\n",
    "        \"Bank\": {\"FreeSpace\": 6, \"Ore\": 0},\n",
    "    },\n",
    "    startup_state=\"CheckInventory\",\n",
    ")\n",
    "\n",
    "\n",
    "@s.addState(state_name=\"CheckInventory\", can_move_directly_to=[\"DoMining\", \"BankOre\"])\n",
    "def bot_CheckInventory(db):\n",
    "    if db[\"Inventory\"][\"FreeSpace\"] > 0:\n",
    "        return \"DoMining\"\n",
    "\n",
    "    if db[\"Inventory\"][\"FreeSpace\"] == 0:\n",
    "        return \"BankOre\"\n",
    "\n",
    "\n",
    "@s.addState(state_name=\"DoMining\", can_move_directly_to=[\"CheckInventory\"])\n",
    "def bot_DoMining(db):\n",
    "    if random.choice([True, False, False]):\n",
    "        if db[\"Inventory\"][\"FreeSpace\"] > 0:\n",
    "            db[\"Inventory\"][\"FreeSpace\"] -= 1\n",
    "            db[\"Inventory\"][\"Ore\"] += 1\n",
    "    return \"CheckInventory\"\n",
    "\n",
    "\n",
    "@s.addState(state_name=\"BankOre\", can_move_directly_to=[\"DoMining\"])\n",
    "def bot_BankOre(db):\n",
    "    if db[\"Bank\"][\"FreeSpace\"] > 0:\n",
    "        db[\"Bank\"][\"Ore\"] += db[\"Inventory\"][\"Ore\"]\n",
    "        db[\"Bank\"][\"FreeSpace\"] -= db[\"Inventory\"][\"Ore\"]\n",
    "        db[\"Inventory\"][\"FreeSpace\"] = 4\n",
    "        db[\"Inventory\"][\"Ore\"] = 0\n",
    "        return \"DoMining\"\n",
    "\n",
    "\n",
    "s.resetState()\n",
    "s.db"
   ]
  },
  {
   "cell_type": "code",
   "execution_count": 94,
   "id": "069f94a5-f64b-4dc8-a683-3a3b5026fd93",
   "metadata": {},
   "outputs": [
    {
     "name": "stdout",
     "output_type": "stream",
     "text": [
      "DoMining\n",
      "CheckInventory\n",
      "DoMining\n",
      "CheckInventory\n",
      "DoMining\n",
      "CheckInventory\n",
      "DoMining\n",
      "CheckInventory\n",
      "DoMining\n",
      "CheckInventory\n",
      "DoMining\n",
      "CheckInventory\n",
      "DoMining\n",
      "CheckInventory\n",
      "BankOre\n",
      "DoMining\n",
      "CheckInventory\n",
      "DoMining\n",
      "CheckInventory\n",
      "DoMining\n",
      "CheckInventory\n",
      "DoMining\n",
      "CheckInventory\n",
      "DoMining\n",
      "CheckInventory\n",
      "DoMining\n",
      "CheckInventory\n",
      "DoMining\n",
      "CheckInventory\n",
      "BankOre\n",
      "DoMining\n",
      "CheckInventory\n",
      "DoMining\n",
      "CheckInventory\n",
      "DoMining\n",
      "CheckInventory\n",
      "DoMining\n",
      "CheckInventory\n",
      "DoMining\n",
      "CheckInventory\n",
      "DoMining\n",
      "CheckInventory\n",
      "DoMining\n",
      "CheckInventory\n",
      "DoMining\n",
      "CheckInventory\n",
      "DoMining\n",
      "CheckInventory\n",
      "DoMining\n",
      "CheckInventory\n",
      "DoMining\n",
      "CheckInventory\n",
      "DoMining\n",
      "CheckInventory\n",
      "DoMining\n",
      "CheckInventory\n",
      "DoMining\n",
      "CheckInventory\n",
      "DoMining\n",
      "CheckInventory\n",
      "DoMining\n",
      "CheckInventory\n",
      "BankOre\n",
      "None\n"
     ]
    }
   ],
   "source": [
    "s.run(maxOperations=9999,print_state_change=True)"
   ]
  },
  {
   "cell_type": "code",
   "execution_count": 95,
   "id": "a88dc262-b767-4bf5-b6d4-5a5e86f53034",
   "metadata": {},
   "outputs": [
    {
     "data": {
      "text/plain": [
       "{'Inventory': {'FreeSpace': 0, 'Ore': 4}, 'Bank': {'FreeSpace': 0, 'Ore': 6}}"
      ]
     },
     "execution_count": 95,
     "metadata": {},
     "output_type": "execute_result"
    }
   ],
   "source": [
    "s.db"
   ]
  },
  {
   "cell_type": "code",
   "execution_count": 96,
   "id": "132fe657-c42d-48ba-9a5f-c2ff1d8de3ae",
   "metadata": {},
   "outputs": [],
   "source": [
    "s.resetState()"
   ]
  },
  {
   "cell_type": "code",
   "execution_count": 97,
   "id": "5a60bbe4-abe8-407b-85af-c9ef2e4a8e52",
   "metadata": {},
   "outputs": [
    {
     "data": {
      "text/plain": [
       "{'Inventory': {'FreeSpace': 0, 'Ore': 4}, 'Bank': {'FreeSpace': 0, 'Ore': 6}}"
      ]
     },
     "execution_count": 97,
     "metadata": {},
     "output_type": "execute_result"
    }
   ],
   "source": [
    "s.db"
   ]
  },
  {
   "cell_type": "code",
   "execution_count": null,
   "id": "5d7ad743-07f5-4c06-87da-d6b00b69ff7b",
   "metadata": {},
   "outputs": [
    {
     "data": {
      "text/plain": [
       "{'Inventory': {'FreeSpace': 26, 'Ore': 0},\n",
       " 'Bank': {'FreeSpace': 1000, 'Ore': 0}}"
      ]
     },
     "execution_count": 70,
     "metadata": {},
     "output_type": "execute_result"
    }
   ],
   "source": []
  }
 ],
 "metadata": {
  "kernelspec": {
   "display_name": "Python 3 (ipykernel)",
   "language": "python",
   "name": "python3"
  },
  "language_info": {
   "codemirror_mode": {
    "name": "ipython",
    "version": 3
   },
   "file_extension": ".py",
   "mimetype": "text/x-python",
   "name": "python",
   "nbconvert_exporter": "python",
   "pygments_lexer": "ipython3",
   "version": "3.10.4"
  },
  "scenes_data": {
   "active_scene": "Default Scene",
   "init_scene": "",
   "scenes": [
    "Default Scene"
   ]
  },
  "widgets": {
   "application/vnd.jupyter.widget-state+json": {
    "state": {},
    "version_major": 2,
    "version_minor": 0
   }
  }
 },
 "nbformat": 4,
 "nbformat_minor": 5
}
