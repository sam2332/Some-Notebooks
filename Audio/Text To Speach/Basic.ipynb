{
    "cells": [
        {
            "cell_type": "code",
            "execution_count": null,
            "id": "607303f6-8156-4ee2-8fa0-aa1b60b1cc6b",
            "metadata": {},
            "outputs": [],
            "source": []
        },
        {
            "cell_type": "code",
            "execution_count": 33,
            "id": "7a1fbad3-d2d4-4c28-848d-5bac0042f03f",
            "metadata": {},
            "outputs": [],
            "source": [
                "import pyttsx3\n",
                "\n",
                "tts_engine = pyttsx3.init()\n",
                "tts_engine.setProperty(\"volume\", 0.1)\n",
                "\n",
                "\n",
                "def tts(s):\n",
                "    tts_engine.say(\" \" + s)\n",
                "    tts_engine.runAndWait()\n",
                "\n",
                "\n",
                "tts(\"startup\")"
            ]
        }
    ],
    "metadata": {
        "kernelspec": {
            "display_name": "Python 3 (ipykernel)",
            "language": "python",
            "name": "python3"
        },
        "language_info": {
            "codemirror_mode": {
                "name": "ipython",
                "version": 3
            },
            "file_extension": ".py",
            "mimetype": "text/x-python",
            "name": "python",
            "nbconvert_exporter": "python",
            "pygments_lexer": "ipython3",
            "version": "3.10.4"
        },
        "scenes_data": {
            "active_scene": "Default Scene",
            "init_scene": "",
            "scenes": [
                "Default Scene"
            ]
        },
        "widgets": {
            "application/vnd.jupyter.widget-state+json": {
                "state": {},
                "version_major": 2,
                "version_minor": 0
            }
        }
    },
    "nbformat": 4,
    "nbformat_minor": 5
}