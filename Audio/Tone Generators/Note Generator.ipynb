{
 "cells": [
  {
   "cell_type": "code",
   "execution_count": null,
   "id": "ed1219ce-40c0-4813-93c6-9f6581303120",
   "metadata": {},
   "outputs": [],
   "source": [
    "# https://markhedleyjones.com/projects/python-tone-generator"
   ]
  },
  {
   "cell_type": "code",
   "execution_count": null,
   "id": "6479f87c-d5bf-4bea-93df-af54d7754c30",
   "metadata": {},
   "outputs": [],
   "source": [
    "import math\n",
    "\n",
    "import numpy\n",
    "import pyaudio\n",
    "\n",
    "\n",
    "class ToneGenerator(object):\n",
    "    def __init__(self, samplerate=44100, frames_per_buffer=4410):\n",
    "        self.p = pyaudio.PyAudio()\n",
    "        self.samplerate = samplerate\n",
    "        self.frames_per_buffer = frames_per_buffer\n",
    "        self.streamOpen = False\n",
    "\n",
    "    def sinewave(self):\n",
    "        if self.buffer_offset + self.frames_per_buffer - 1 > self.x_max:\n",
    "            # We don't need a full buffer or audio so pad the end with 0's\n",
    "            xs = numpy.arange(self.buffer_offset, self.x_max)\n",
    "            tmp = self.amplitude * numpy.sin(xs * self.omega)\n",
    "            out = numpy.append(tmp, numpy.zeros(self.frames_per_buffer - len(tmp)))\n",
    "        else:\n",
    "            xs = numpy.arange(\n",
    "                self.buffer_offset, self.buffer_offset + self.frames_per_buffer\n",
    "            )\n",
    "            out = self.amplitude * numpy.sin(xs * self.omega)\n",
    "        self.buffer_offset += self.frames_per_buffer\n",
    "        return out\n",
    "\n",
    "    def callback(self, in_data, frame_count, time_info, status):\n",
    "        if self.buffer_offset < self.x_max:\n",
    "            data = self.sinewave().astype(numpy.float32)\n",
    "            return (data.tostring(), pyaudio.paContinue)\n",
    "        else:\n",
    "            return (None, pyaudio.paComplete)\n",
    "\n",
    "    def is_playing(self):\n",
    "        if self.stream.is_active():\n",
    "            return True\n",
    "        else:\n",
    "            if self.streamOpen:\n",
    "                self.stream.stop_stream()\n",
    "                self.stream.close()\n",
    "                self.streamOpen = False\n",
    "            return False\n",
    "\n",
    "    def play(self, frequency, duration, amplitude):\n",
    "        self.omega = float(frequency) * (math.pi * 2) / self.samplerate\n",
    "        self.amplitude = amplitude\n",
    "        self.buffer_offset = 0\n",
    "        self.streamOpen = True\n",
    "        self.x_max = math.ceil(self.samplerate * duration) - 1\n",
    "        self.stream = self.p.open(\n",
    "            format=pyaudio.paFloat32,\n",
    "            channels=1,\n",
    "            rate=self.samplerate,\n",
    "            output=True,\n",
    "            frames_per_buffer=self.frames_per_buffer,\n",
    "            stream_callback=self.callback,\n",
    "        )"
   ]
  },
  {
   "cell_type": "markdown",
   "id": "8fda331a-9d3d-4806-9410-64c820e5ebc3",
   "metadata": {},
   "source": [
    "# Sample Sine Swing\n"
   ]
  },
  {
   "cell_type": "code",
   "execution_count": null,
   "id": "17083e0a-e9e0-4175-8abf-f62aa048e371",
   "metadata": {},
   "outputs": [],
   "source": [
    "###############################################################################\n",
    "#                                 Usage Example                               #\n",
    "###############################################################################\n",
    "\n",
    "generator = ToneGenerator()\n",
    "\n",
    "frequency_start = 50  # Frequency to start the sweep from\n",
    "frequency_end = 10000  # Frequency to end the sweep at\n",
    "num_frequencies = 200  # Number of frequencies in the sweep\n",
    "amplitude = 0.50  # Amplitude of the waveform\n",
    "step_duration = 0.43  # Time (seconds) to play at each step\n",
    "\n",
    "for frequency in numpy.logspace(\n",
    "    math.log(frequency_start, 10), math.log(frequency_end, 10), num_frequencies\n",
    "):\n",
    "\n",
    "    print(\"Playing tone at {0:0.2f} Hz\".format(frequency))\n",
    "    generator.play(frequency, step_duration, amplitude)\n",
    "    while generator.is_playing():\n",
    "        pass  # Do something useful in here (e.g. recording)"
   ]
  },
  {
   "cell_type": "markdown",
   "id": "744f5af7-0d74-4301-8544-0321bcdb29cc",
   "metadata": {},
   "source": [
    "# Pleasant Notes Sequencer "
   ]
  },
  {
   "cell_type": "code",
   "execution_count": null,
   "id": "9c03209b-7f32-4937-8643-29659b87916f",
   "metadata": {},
   "outputs": [],
   "source": [
    "notes = [130.77, 111.17, 140.19, 121.98, 146.85]\n",
    "amplitude = 0.04\n",
    "step_duration = 0.4\n",
    "index = 0\n",
    "while True:\n",
    "    frequency = notes[index % len(notes)]\n",
    "    generator.play(frequency, step_duration, amplitude)\n",
    "    while generator.is_playing():\n",
    "        pass  # Do something useful in here (e.g. recording)\n",
    "    index += 1"
   ]
  },
  {
   "cell_type": "code",
   "execution_count": null,
   "id": "cb3341ac-7a50-4095-bafb-b3eb98853f8d",
   "metadata": {},
   "outputs": [],
   "source": []
  }
 ],
 "metadata": {
  "kernelspec": {
   "display_name": "Python 3 (ipykernel)",
   "language": "python",
   "name": "python3"
  },
  "language_info": {
   "codemirror_mode": {
    "name": "ipython",
    "version": 3
   },
   "file_extension": ".py",
   "mimetype": "text/x-python",
   "name": "python",
   "nbconvert_exporter": "python",
   "pygments_lexer": "ipython3",
   "version": "3.10.6"
  },
  "widgets": {
   "application/vnd.jupyter.widget-state+json": {
    "state": {},
    "version_major": 2,
    "version_minor": 0
   }
  }
 },
 "nbformat": 4,
 "nbformat_minor": 5
}
