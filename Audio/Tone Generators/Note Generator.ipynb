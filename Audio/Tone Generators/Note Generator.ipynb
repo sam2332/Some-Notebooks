{
 "cells": [
  {
   "cell_type": "code",
   "execution_count": 4,
   "id": "ed1219ce-40c0-4813-93c6-9f6581303120",
   "metadata": {},
   "outputs": [],
   "source": [
    "# https://markhedleyjones.com/projects/python-tone-generator"
   ]
  },
  {
   "cell_type": "code",
   "execution_count": 1,
   "id": "6479f87c-d5bf-4bea-93df-af54d7754c30",
   "metadata": {},
   "outputs": [],
   "source": [
    "import math\n",
    "import time\n",
    "\n",
    "import numpy\n",
    "import pyaudio\n",
    "\n",
    "\n",
    "def sine(freq, length, rate):\n",
    "    length = int(length * rate)\n",
    "    factor = float(freq) * (math.pi * 2) / rate\n",
    "    return numpy.sin(numpy.arange(length) * factor)\n",
    "\n",
    "\n",
    "class ToneGenerator(object):\n",
    "    def __init__(self, samplerate=44100, frames_per_buffer=4410):\n",
    "        self.p = pyaudio.PyAudio()\n",
    "        self.samplerate = samplerate\n",
    "        self.frames_per_buffer = frames_per_buffer\n",
    "        self.streamOpen = False\n",
    "        self.running = False\n",
    "        self.frequency = 0\n",
    "\n",
    "    def stop(self):\n",
    "        self.running = False\n",
    "\n",
    "    def _gen_chunk(self):\n",
    "        chunks = [sine(self.frequency, self.frames_per_buffer, 100)]\n",
    "        chunk = numpy.concatenate(chunks) * 0.25\n",
    "\n",
    "        fade = 50.0\n",
    "        fade_in = numpy.arange(0.0, 1.0, 1 / fade)\n",
    "        fade_out = numpy.arange(1.0, 0.0, -1 / fade)\n",
    "        chunk[:fade] = numpy.multiply(chunk[:fade], fade_in)\n",
    "        chunk[fade:] = numpy.multiply(chunk[fade:], fade_out)\n",
    "        return chunk\n",
    "\n",
    "    def callback(self, in_data, frame_count, time_info, status):\n",
    "        if self.running:\n",
    "            data = self._gen_chunk().astype(numpy.float32)\n",
    "            return (data.tobytes(), pyaudio.paContinue)\n",
    "        else:\n",
    "            return (None, pyaudio.paComplete)\n",
    "\n",
    "    def is_playing(self):\n",
    "        if self.stream.is_active():\n",
    "            return True\n",
    "        else:\n",
    "            if self.streamOpen:\n",
    "                self.stream.stop_stream()\n",
    "                self.stream.close()\n",
    "                self.streamOpen = False\n",
    "            return False\n",
    "\n",
    "    def setNote(self, frequency, amplitude):\n",
    "        self.frequency = frequency\n",
    "        self.amplitude = amplitude\n",
    "\n",
    "    def play(self):\n",
    "        self.running = True\n",
    "        self.omega = float(0.5) * (math.pi * 2) / self.samplerate\n",
    "        self.amplitude = 0\n",
    "        self.buffer_offset = 0\n",
    "        self.streamOpen = True\n",
    "        self.stream = self.p.open(\n",
    "            format=pyaudio.paFloat32,\n",
    "            channels=1,\n",
    "            rate=self.samplerate,\n",
    "            output=True,\n",
    "            frames_per_buffer=self.frames_per_buffer,\n",
    "            stream_callback=self.callback,\n",
    "        )"
   ]
  },
  {
   "cell_type": "code",
   "execution_count": 2,
   "id": "973c764c-5816-4891-8403-6e1fca9e7059",
   "metadata": {},
   "outputs": [
    {
     "name": "stderr",
     "output_type": "stream",
     "text": [
      "ALSA lib pcm_dsnoop.c:601:(snd_pcm_dsnoop_open) unable to open slave\n",
      "ALSA lib pcm_dmix.c:1032:(snd_pcm_dmix_open) unable to open slave\n",
      "ALSA lib pcm.c:2664:(snd_pcm_open_noupdate) Unknown PCM cards.pcm.rear\n",
      "ALSA lib pcm.c:2664:(snd_pcm_open_noupdate) Unknown PCM cards.pcm.center_lfe\n",
      "ALSA lib pcm.c:2664:(snd_pcm_open_noupdate) Unknown PCM cards.pcm.side\n",
      "ALSA lib pcm_oss.c:397:(_snd_pcm_oss_open) Cannot open device /dev/dsp\n",
      "ALSA lib pcm_oss.c:397:(_snd_pcm_oss_open) Cannot open device /dev/dsp\n",
      "ALSA lib confmisc.c:160:(snd_config_get_card) Invalid field card\n",
      "ALSA lib pcm_usb_stream.c:482:(_snd_pcm_usb_stream_open) Invalid card 'card'\n",
      "ALSA lib confmisc.c:160:(snd_config_get_card) Invalid field card\n",
      "ALSA lib pcm_usb_stream.c:482:(_snd_pcm_usb_stream_open) Invalid card 'card'\n",
      "ALSA lib pcm_dmix.c:1032:(snd_pcm_dmix_open) unable to open slave\n",
      "Traceback (most recent call last):\n",
      "  File \"/tmp/ipykernel_94666/3121833986.py\", line 39, in callback\n",
      "    data = self._gen_chunk().astype(numpy.float32)\n",
      "  File \"/tmp/ipykernel_94666/3121833986.py\", line 33, in _gen_chunk\n",
      "    chunk[:fade] = numpy.multiply(chunk[:fade], fade_in)\n",
      "TypeError: slice indices must be integers or None or have an __index__ method\n"
     ]
    }
   ],
   "source": [
    "notes = [130.77, 111.17, 140.19, 121.98, 146.85]\n",
    "amplitude = 0.8\n",
    "step_duration = 0.4\n",
    "index = 0\n",
    "generator = ToneGenerator()\n",
    "generator.play()"
   ]
  },
  {
   "cell_type": "code",
   "execution_count": null,
   "id": "5a10f000-4800-4bd6-acfd-5cea283c74b3",
   "metadata": {},
   "outputs": [],
   "source": [
    "while generator.is_playing():\n",
    "    frequency = notes[index % len(notes)]\n",
    "    generator.setNote(frequency, amplitude)\n",
    "    index += 1\n",
    "    time.sleep(0.7)"
   ]
  },
  {
   "cell_type": "code",
   "execution_count": 2,
   "id": "382ecced-25d3-4f67-a044-0a6e2ba5bfce",
   "metadata": {},
   "outputs": [
    {
     "ename": "NameError",
     "evalue": "name 'generator' is not defined",
     "output_type": "error",
     "traceback": [
      "\u001b[0;31m---------------------------------------------------------------------------\u001b[0m",
      "\u001b[0;31mNameError\u001b[0m                                 Traceback (most recent call last)",
      "Input \u001b[0;32mIn [2]\u001b[0m, in \u001b[0;36m<cell line: 1>\u001b[0;34m()\u001b[0m\n\u001b[0;32m----> 1\u001b[0m \u001b[43mgenerator\u001b[49m\u001b[38;5;241m.\u001b[39mstop()\n",
      "\u001b[0;31mNameError\u001b[0m: name 'generator' is not defined"
     ]
    }
   ],
   "source": [
    "generator.stop()"
   ]
  },
  {
   "cell_type": "code",
   "execution_count": null,
   "id": "cb3341ac-7a50-4095-bafb-b3eb98853f8d",
   "metadata": {},
   "outputs": [],
   "source": [
    "xs = numpy.arange(\n",
    "    generator.buffer_offset, generator.buffer_offset + generator.frames_per_buffer\n",
    ")\n",
    "out = generator.amplitude * numpy.sin(xs * generator.omega)"
   ]
  },
  {
   "cell_type": "code",
   "execution_count": 10,
   "id": "fb758a46-a250-49bc-b95a-8621bc70e676",
   "metadata": {},
   "outputs": [
    {
     "data": {
      "text/plain": [
       "array([-0.59339342, -0.60328659, -0.61297034, ..., -0.76254185,\n",
       "       -0.76691677, -0.77102547])"
      ]
     },
     "execution_count": 10,
     "metadata": {},
     "output_type": "execute_result"
    }
   ],
   "source": [
    "out"
   ]
  },
  {
   "cell_type": "code",
   "execution_count": 11,
   "id": "43a0d648-c9f7-4998-bada-1b5c45e01bfd",
   "metadata": {},
   "outputs": [
    {
     "data": {
      "text/plain": [
       "array([1009890, 1009891, 1009892, ..., 1014297, 1014298, 1014299])"
      ]
     },
     "execution_count": 11,
     "metadata": {},
     "output_type": "execute_result"
    }
   ],
   "source": [
    "xs"
   ]
  },
  {
   "cell_type": "code",
   "execution_count": 22,
   "id": "2dacad31-8232-4d16-a5c9-798e4e0cf266",
   "metadata": {},
   "outputs": [],
   "source": [
    "from matplotlib import pyplot as plt"
   ]
  },
  {
   "cell_type": "code",
   "execution_count": 35,
   "id": "63a809f0-9fea-4395-ad64-e422a81eb63f",
   "metadata": {},
   "outputs": [
    {
     "data": {
      "text/plain": [
       "<Figure size 432x288 with 0 Axes>"
      ]
     },
     "execution_count": 35,
     "metadata": {},
     "output_type": "execute_result"
    },
    {
     "data": {
      "text/plain": [
       "<Figure size 432x288 with 0 Axes>"
      ]
     },
     "metadata": {},
     "output_type": "display_data"
    }
   ],
   "source": []
  },
  {
   "cell_type": "code",
   "execution_count": null,
   "id": "53977e3d-03f1-4d61-b5ec-01b4bb65e4a6",
   "metadata": {},
   "outputs": [],
   "source": []
  }
 ],
 "metadata": {
  "kernelspec": {
   "display_name": "Python 3 (ipykernel)",
   "language": "python",
   "name": "python3"
  },
  "language_info": {
   "codemirror_mode": {
    "name": "ipython",
    "version": 3
   },
   "file_extension": ".py",
   "mimetype": "text/x-python",
   "name": "python",
   "nbconvert_exporter": "python",
   "pygments_lexer": "ipython3",
   "version": "3.10.6"
  },
  "widgets": {
   "application/vnd.jupyter.widget-state+json": {
    "state": {},
    "version_major": 2,
    "version_minor": 0
   }
  }
 },
 "nbformat": 4,
 "nbformat_minor": 5
}
