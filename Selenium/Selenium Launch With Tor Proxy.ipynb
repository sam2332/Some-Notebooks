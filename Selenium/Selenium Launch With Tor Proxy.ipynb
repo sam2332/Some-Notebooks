{
 "cells": [
  {
   "cell_type": "code",
   "execution_count": null,
   "id": "24d8ba20-53d2-49e5-8e7e-bd9c38ef0fbd",
   "metadata": {},
   "outputs": [],
   "source": [
    "import random\n",
    "\n",
    "import requests\n",
    "from selenium import webdriver\n",
    "from selenium.webdriver.chrome.options import Options\n",
    "from selenium.webdriver.common.by import By"
   ]
  },
  {
   "cell_type": "code",
   "execution_count": null,
   "id": "464bceb7-fd4c-4879-bf45-7fdb53b11278",
   "metadata": {},
   "outputs": [],
   "source": [
    "class ChromeWebDriver_ToolSet:\n",
    "    def __init__(self, driver):\n",
    "        self.driver = driver\n",
    "\n",
    "    def __TAG_P_CLASS(self, ref):\n",
    "        def wrapper(driver):\n",
    "            for item in driver.find_elements_by_tag_name(ref[0]):\n",
    "                if ref[1] in item.get_attribute(\"class\"):\n",
    "                    return item\n",
    "\n",
    "        return wrapper\n",
    "\n",
    "    def waitForElement(self, t, ref, delay=1000):\n",
    "        if t == \"ID\":\n",
    "            return WebDriverWait(self.driver, delay).until(\n",
    "                EC.presence_of_element_located((By.ID, ref))\n",
    "            )\n",
    "        elif t == \"NAME\":\n",
    "            return WebDriverWait(self.driver, delay).until(\n",
    "                EC.presence_of_element_located((By.NAME, ref))\n",
    "            )\n",
    "        elif t == \"CLASS\":\n",
    "            return WebDriverWait(self.driver, delay).until(\n",
    "                EC.presence_of_element_located((By.XPATH, f\"//*[@class='{ref}']\"))\n",
    "            )\n",
    "        elif t == \"TAG_P_CLASS\":\n",
    "            return WebDriverWait(self.driver, delay).until(self.__TAG_P_CLASS(ref))\n",
    "\n",
    "    def setFormElementByName(self, name, value):\n",
    "        self.driver.find_element_by_name(name).send_keys(value)\n",
    "\n",
    "    def getFormElementByName(self, name):\n",
    "        return self.driver.find_element_by_name(name).get_attribute(\"value\")\n",
    "\n",
    "    def getSource(self):\n",
    "        return self.driver.page_source\n",
    "\n",
    "    def getRequestsSession(self):\n",
    "        cookies = self.driver.get_cookies()\n",
    "        s = requests.Session()\n",
    "        for cookie in cookies:\n",
    "            s.cookies.set(cookie[\"name\"], cookie[\"value\"])\n",
    "        return s"
   ]
  },
  {
   "cell_type": "code",
   "execution_count": null,
   "id": "6e017814-ec52-4ecf-8886-07e70cacf8ec",
   "metadata": {},
   "outputs": [],
   "source": [
    "chrome_options = Options()\n",
    "# chrome_options.add_argument(\"--headless\")\n",
    "chrome_options.add_argument(\"--ignore-certificate-errors\")\n",
    "chrome_options.add_experimental_option(\n",
    "    \"prefs\", {\"profile.managed_default_content_settings.javascript\": 2}\n",
    ")\n",
    "\n",
    "chrome_options.add_argument(\"--proxy-server={0}\".format(\"socks5://127.0.0.1:9050\"))\n",
    "browser = webdriver.Chrome(options=chrome_options)\n",
    "browser.tools = ChromeWebDriver_ToolSet(browser)"
   ]
  },
  {
   "cell_type": "code",
   "execution_count": null,
   "id": "98186586-c7e1-4a36-85ef-d360dc5fed7e",
   "metadata": {},
   "outputs": [],
   "source": [
    "browser.get(\"http://paavlaytlfsqyvkg3yqj7hflfg5jw2jdg2fgkza5ruf6lplwseeqtvyd.onion/\")"
   ]
  },
  {
   "cell_type": "code",
   "execution_count": null,
   "id": "405917c0-77f1-4654-b43f-c64e91dc3cba",
   "metadata": {},
   "outputs": [],
   "source": [
    "browser.tools.getSource()"
   ]
  },
  {
   "cell_type": "code",
   "execution_count": null,
   "id": "7a4177c0-c825-45d6-99f1-255d924129f5",
   "metadata": {},
   "outputs": [],
   "source": [
    "browser.tools.getRequestsSession()"
   ]
  }
 ],
 "metadata": {
  "kernelspec": {
   "display_name": "Python 3 (ipykernel)",
   "language": "python",
   "name": "python3"
  },
  "language_info": {
   "codemirror_mode": {
    "name": "ipython",
    "version": 3
   },
   "file_extension": ".py",
   "mimetype": "text/x-python",
   "name": "python",
   "nbconvert_exporter": "python",
   "pygments_lexer": "ipython3",
   "version": "3.10.4"
  },
  "scenes_data": {
   "active_scene": "Default Scene",
   "init_scene": "",
   "scenes": [
    "Default Scene"
   ]
  },
  "widgets": {
   "application/vnd.jupyter.widget-state+json": {
    "state": {},
    "version_major": 2,
    "version_minor": 0
   }
  }
 },
 "nbformat": 4,
 "nbformat_minor": 5
}
