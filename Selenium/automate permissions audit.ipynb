{
 "cells": [
  {
   "cell_type": "code",
   "execution_count": null,
   "id": "772971ee-f19d-40b0-bb5e-b1ad02a4a00f",
   "metadata": {
    "tags": []
   },
   "outputs": [],
   "source": [
    "import undetected_chromedriver as uc\n",
    "\n",
    "import re\n",
    "import requests\n",
    "from bs4 import BeautifulSoup\n",
    "\n",
    "from urllib.parse import quote\n",
    "import requests\n",
    "from bs4 import BeautifulSoup\n",
    "from urllib.parse import urlparse, urljoin"
   ]
  },
  {
   "cell_type": "code",
   "execution_count": null,
   "id": "c7b7337c-b86f-4e83-afe1-8a7684f3122d",
   "metadata": {
    "tags": []
   },
   "outputs": [],
   "source": [
    "def get_rz_values(url):\n",
    "    response = requests.get(url)\n",
    "    if response.status_code == 200:\n",
    "        soup = BeautifulSoup(response.content, 'html.parser')\n",
    "        scripts = soup.find_all('script')\n",
    "\n",
    "        # Pattern to match the desired script lines\n",
    "        pattern = re.compile(r\"RZ\\.(\\w+) = '(.*?)'\")\n",
    "\n",
    "        # Dictionary to store the results\n",
    "        rz_values = {}\n",
    "\n",
    "        for script in scripts:\n",
    "            if script.string:\n",
    "                matches = pattern.finditer(script.string)\n",
    "                for match in matches:\n",
    "                    key = match.group(1)\n",
    "                    value = match.group(2)\n",
    "                    rz_values[key] = value\n",
    "\n",
    "        return rz_values\n",
    "\n",
    "    return None"
   ]
  },
  {
   "cell_type": "code",
   "execution_count": null,
   "id": "7cb2b601-0ba1-4cb6-a7d7-78d3db102bad",
   "metadata": {
    "tags": []
   },
   "outputs": [],
   "source": [
    "def extract_users(html_string):\n",
    "    soup = BeautifulSoup(html_string, 'html.parser')\n",
    "\n",
    "    # Find all input elements with type \"checkbox\"\n",
    "    checkboxes = soup.find_all('input', {'type': 'checkbox'})\n",
    "\n",
    "    checked_users = []\n",
    "    unchecked_users = []\n",
    "\n",
    "    for checkbox in checkboxes:\n",
    "        user_email = checkbox['value']\n",
    "        if user_email.endswith('*'):\n",
    "            checked_users.append(user_email[:-1])  # Remove the trailing asterisk\n",
    "        else:\n",
    "            unchecked_users.append(user_email)\n",
    "\n",
    "    return {'checked_users': checked_users, 'unchecked_users': unchecked_users}\n"
   ]
  },
  {
   "cell_type": "code",
   "execution_count": null,
   "id": "b9f82e13-e92c-42bd-9e70-452af35e19de",
   "metadata": {
    "tags": []
   },
   "outputs": [],
   "source": [
    "def getPagePermissions(page_url,webspace):\n",
    "    page_info=get_rz_values(page_url)\n",
    "    if page_info is None:\n",
    "        print(\"ERROR WITH PAGE\")\n",
    "        return []\n",
    "    permissions_url = f\"https://cms3.revize.com/revize/util/permissions-editform.jsp?webspace={webspace}&page_key={page_info['page_key']}&parent_key={page_info['parent_key']}&adminpanel&set=webspace_page_permissions.page_key%3D{quote(page_info['page_key'])}\"\n",
    "    driver.get(permissions_url)\n",
    "    return extract_users(driver.page_source)['checked_users']"
   ]
  },
  {
   "cell_type": "code",
   "execution_count": null,
   "id": "0195f7ff-d803-4b90-a798-6a61c0ce7ecb",
   "metadata": {
    "tags": []
   },
   "outputs": [],
   "source": [
    "def get_links_recursive(url, base_url, visited, depth):\n",
    "    if depth == 0:\n",
    "        return\n",
    "    if url in visited:\n",
    "        return\n",
    "    print(\"Scanning:\", url)\n",
    "    visited.append(url)\n",
    "\n",
    "    try:\n",
    "        response = requests.get(url)\n",
    "        if response.status_code != 200:\n",
    "            return\n",
    "    except requests.exceptions.RequestException:\n",
    "        return\n",
    "\n",
    "    soup = BeautifulSoup(response.content, 'html.parser')\n",
    "\n",
    "    for link in soup.find_all('a'):\n",
    "        href = link.get('href')\n",
    "        if href:\n",
    "            parsed_url = urlparse(href)\n",
    "            current_base_url = f\"{parsed_url.scheme}://{parsed_url.netloc}\"\n",
    "            if not parsed_url.netloc or current_base_url == base_url:\n",
    "                next_url = urljoin(base_url, href)\n",
    "                next_url = next_url.split(\"#\")[0].lower()\n",
    "                if next_url.endswith('php'):\n",
    "                    get_links_recursive(next_url, base_url, visited, depth - 1)\n",
    "\n",
    "def crawl_subdomain(start_url, depth):\n",
    "    parsed_start_url = urlparse(start_url)\n",
    "    base_url = f\"{parsed_start_url.scheme}://{parsed_start_url.netloc}{parsed_start_url.path.rsplit('/', 1)[0]}/\"\n",
    "    visited = list()\n",
    "    get_links_recursive(start_url, base_url, visited, depth)\n",
    "    return visited"
   ]
  },
  {
   "cell_type": "code",
   "execution_count": null,
   "id": "77b31674-f0f8-43da-a898-ba43fda98979",
   "metadata": {
    "tags": []
   },
   "outputs": [],
   "source": [
    "start_url = 'https://sh.ingham.org/'\n",
    "urls = crawl_subdomain(start_url,depth=6)\n",
    "len(urls)"
   ]
  },
  {
   "cell_type": "code",
   "execution_count": null,
   "id": "ef6b79bb-0197-4b92-b693-b8174536a00b",
   "metadata": {
    "tags": []
   },
   "outputs": [],
   "source": [
    "webspace =\"inghamcounty\""
   ]
  },
  {
   "cell_type": "code",
   "execution_count": null,
   "id": "e6767b0d-cc4c-484b-b2ef-87b008042c96",
   "metadata": {
    "tags": []
   },
   "outputs": [],
   "source": [
    "options = uc.ChromeOptions()\n",
    "options.add_argument('--window-size=1024,768')\n",
    "\n",
    "try:\n",
    "    driver = uc.Chrome(options=options)\n",
    "except TypeError as e:\n",
    "    if str(e) == 'expected str, bytes or os.PathLike object, not NoneType':\n",
    "        raise ValueError('Chrome installation not found')\n",
    "    raise e\n",
    "driver.get(f\"https://cms3.revize.com/revize/security/index.jsp?webspace={webspace}&filename=/index.php\")"
   ]
  },
  {
   "cell_type": "code",
   "execution_count": null,
   "id": "66684c44-a6df-40bb-8a04-d1630803ae04",
   "metadata": {
    "tags": []
   },
   "outputs": [],
   "source": [
    "out = {}\n",
    "#webspace =\"inghamparks\"\n",
    "for url in urls:\n",
    "    print(url)\n",
    "    permissions = getPagePermissions(url,webspace)\n",
    "    print(permissions)\n",
    "    out[url] = permissions\n",
    "    print()"
   ]
  }
 ],
 "metadata": {
  "kernelspec": {
   "display_name": "Python 3 (ipykernel)",
   "language": "python",
   "name": "python3"
  },
  "language_info": {
   "codemirror_mode": {
    "name": "ipython",
    "version": 3
   },
   "file_extension": ".py",
   "mimetype": "text/x-python",
   "name": "python",
   "nbconvert_exporter": "python",
   "pygments_lexer": "ipython3",
   "version": "3.10.7"
  }
 },
 "nbformat": 4,
 "nbformat_minor": 5
}
