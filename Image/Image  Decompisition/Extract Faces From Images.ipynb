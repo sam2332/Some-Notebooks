{
 "cells": [
  {
   "cell_type": "code",
   "execution_count": 1,
   "id": "955415e2-b8eb-426c-9ef6-f2104568fce9",
   "metadata": {},
   "outputs": [],
   "source": [
    "import os\n",
    "import sys\n",
    "from pathlib import Path\n",
    "\n",
    "import cv2\n",
    "import requests"
   ]
  },
  {
   "cell_type": "code",
   "execution_count": 61,
   "id": "90842faa-a1e7-4c6a-8747-00b7d6b8cd70",
   "metadata": {},
   "outputs": [],
   "source": [
    "cascPath = \"./haarcascade_frontalface_default.xml\"\n",
    "p = Path(cascPath)\n",
    "if not p.exists():\n",
    "    p.write_bytes(\n",
    "        requests.get(\n",
    "            \"https://raw.githubusercontent.com/opencv/opencv/4.x/data/haarcascades_cuda/haarcascade_frontalface_default.xml\"\n",
    "        ).content\n",
    "    )"
   ]
  },
  {
   "cell_type": "raw",
   "id": "e960c58d-8e50-42de-8878-64f26b25481c",
   "metadata": {},
   "source": [
    "cascPath = \"./haarcascade_frontalcatface.xml\"\n",
    "p = Path(cascPath)\n",
    "if not p.exists():\n",
    "    p.write_bytes(\n",
    "        requests.get(\n",
    "            \"https://raw.githubusercontent.com/opencv/opencv/4.x/data/haarcascades/haarcascade_frontalcatface.xml\"\n",
    "        ).content\n",
    "    )"
   ]
  },
  {
   "cell_type": "code",
   "execution_count": 62,
   "id": "f1227c2f-cb4a-43ae-bada-63e47b1088d5",
   "metadata": {},
   "outputs": [],
   "source": [
    "# Create the haar cascade\n",
    "faceCascade = cv2.CascadeClassifier(cascPath)"
   ]
  },
  {
   "cell_type": "code",
   "execution_count": 63,
   "id": "96de2729-bef8-43cb-ab29-d764e0a88c3f",
   "metadata": {},
   "outputs": [],
   "source": [
    "def extractFaces(path, output):\n",
    "    # Get user supplied values\n",
    "    imagePath = str(path)\n",
    "\n",
    "    # Read the image\n",
    "    image = cv2.imread(imagePath)\n",
    "    gray = cv2.cvtColor(image, cv2.COLOR_BGR2GRAY)\n",
    "\n",
    "    # Detect faces in the image\n",
    "    faces = faceCascade.detectMultiScale(\n",
    "        gray, scaleFactor=1.1, minNeighbors=5, minSize=(30, 30)\n",
    "    )\n",
    "\n",
    "    print(\"Found {0} faces!\".format(len(faces)))\n",
    "\n",
    "    ex_face = []\n",
    "    index = 0\n",
    "    for (x, y, w, h) in faces:\n",
    "        face = image[y : y + h, x : x + w]\n",
    "\n",
    "        ex_face.append(face)\n",
    "        cv2.imwrite(str(output.with_stem(output.stem + \".\" + str(index))), face)\n",
    "        index += 1\n",
    "    # cv2.imshow(\"Faces found\", image)\n",
    "    return ex_face"
   ]
  },
  {
   "cell_type": "code",
   "execution_count": 64,
   "id": "51a614f4-87ce-4d38-93eb-cae54f3efcd4",
   "metadata": {},
   "outputs": [],
   "source": [
    "path = Path(\"Samples\")"
   ]
  },
  {
   "cell_type": "code",
   "execution_count": 65,
   "id": "108506c6-7925-459b-9df5-ded0d4ef84dd",
   "metadata": {},
   "outputs": [],
   "source": [
    "for item in path.iterdir():\n",
    "    if item.is_file():\n",
    "        if \".extraction\" in item.name:\n",
    "            item.unlink()"
   ]
  },
  {
   "cell_type": "code",
   "execution_count": 66,
   "id": "e5002b73-c51c-49bf-8f48-3918434d7476",
   "metadata": {},
   "outputs": [
    {
     "name": "stdout",
     "output_type": "stream",
     "text": [
      "Found 1 faces!\n",
      "Found 19 faces!\n"
     ]
    }
   ],
   "source": [
    "for item in path.iterdir():\n",
    "    if item.is_file():\n",
    "        if \".extraction\" in item.name:\n",
    "            continue\n",
    "        output = item.with_stem(item.stem + \".extraction\")\n",
    "        # print(path,output)\n",
    "        a = extractFaces(item, output)"
   ]
  },
  {
   "cell_type": "code",
   "execution_count": 52,
   "id": "543d0ff9-cd80-4a7c-91f5-96129783a850",
   "metadata": {},
   "outputs": [
    {
     "data": {
      "text/plain": [
       "[]"
      ]
     },
     "execution_count": 52,
     "metadata": {},
     "output_type": "execute_result"
    }
   ],
   "source": [
    "a"
   ]
  },
  {
   "cell_type": "code",
   "execution_count": null,
   "id": "c98c50a1-384f-4a89-91f5-30d3f0f92240",
   "metadata": {},
   "outputs": [],
   "source": []
  }
 ],
 "metadata": {
  "kernelspec": {
   "display_name": "Python 3 (ipykernel)",
   "language": "python",
   "name": "python3"
  },
  "language_info": {
   "codemirror_mode": {
    "name": "ipython",
    "version": 3
   },
   "file_extension": ".py",
   "mimetype": "text/x-python",
   "name": "python",
   "nbconvert_exporter": "python",
   "pygments_lexer": "ipython3",
   "version": "3.10.4"
  },
  "scenes_data": {
   "active_scene": "Default Scene",
   "init_scene": "",
   "scenes": [
    "Default Scene"
   ]
  },
  "widgets": {
   "application/vnd.jupyter.widget-state+json": {
    "state": {},
    "version_major": 2,
    "version_minor": 0
   }
  }
 },
 "nbformat": 4,
 "nbformat_minor": 5
}
