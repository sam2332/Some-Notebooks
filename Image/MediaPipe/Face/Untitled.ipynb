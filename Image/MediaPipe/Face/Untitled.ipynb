{
 "cells": [
  {
   "cell_type": "markdown",
   "id": "52a41bd0-7106-4258-9004-aa98260a5272",
   "metadata": {},
   "source": [
    "# Really cool example i found at https://github.com/k-m-irfan/simplified_mediapipe_face_landmarks"
   ]
  },
  {
   "cell_type": "code",
   "execution_count": null,
   "id": "9eb37383-fb69-4c44-b680-5769dfb77d0b",
   "metadata": {},
   "outputs": [],
   "source": [
    "!python exampleProgram.py"
   ]
  },
  {
   "cell_type": "code",
   "execution_count": null,
   "id": "69589fe7-fca4-4566-8376-2bdbe7dc3729",
   "metadata": {},
   "outputs": [],
   "source": []
  }
 ],
 "metadata": {
  "kernelspec": {
   "display_name": "Python 3 (ipykernel)",
   "language": "python",
   "name": "python3"
  },
  "language_info": {
   "codemirror_mode": {
    "name": "ipython",
    "version": 3
   },
   "file_extension": ".py",
   "mimetype": "text/x-python",
   "name": "python",
   "nbconvert_exporter": "python",
   "pygments_lexer": "ipython3",
   "version": "3.10.4"
  },
  "scenes_data": {
   "active_scene": "Default Scene",
   "init_scene": "",
   "scenes": [
    "Default Scene"
   ]
  },
  "widgets": {
   "application/vnd.jupyter.widget-state+json": {
    "state": {},
    "version_major": 2,
    "version_minor": 0
   }
  }
 },
 "nbformat": 4,
 "nbformat_minor": 5
}
