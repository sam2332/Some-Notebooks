{
    "cells": [
        {
            "cell_type": "code",
            "execution_count": 2,
            "id": "de73fa69-a983-4803-b8ca-638147bdf0fe",
            "metadata": {},
            "outputs": [],
            "source": [
                "!pip install playsound"
            ]
        },
        {
            "cell_type": "code",
            "execution_count": null,
            "id": "416123e2-c2a4-421b-9337-0f57158d0539",
            "metadata": {},
            "outputs": [],
            "source": [
                "from playsound import playsound\n",
                "import requests\n",
                "import random\n",
                "import time\n",
                "\n",
                "sounds = [\n",
                "    'https://cdn.shopify.com/s/files/1/1223/4792/files/Shocker_4_Bell.mp3?2906',\n",
                "    'https://cdn.shopify.com/s/files/1/1223/4792/files/Shocker_6-bell_online-audio-converter.com.mp3?2922',\n",
                "    'https://cdn.shopify.com/s/files/1/1223/4792/files/K5.mp3?2954',\n",
                "    'https://cdn.shopify.com/s/files/1/1223/4792/files/K3.mp3?2954',\n",
                "    'https://cdn.shopify.com/s/files/1/1223/4792/files/P5.mp3?2954',\n",
                "    'https://cdn.shopify.com/s/files/1/1223/4792/files/P3.mp3?2954',\n",
                "    'https://cdn.shopify.com/s/files/1/1223/4792/files/6685965516890.mp3?v=1646063554', \n",
                "    'https://cdn.shopify.com/s/files/1/1223/4792/files/KM165.mp3?v=1630599005',\n",
                "    'https://cdn.shopify.com/s/files/1/1223/4792/files/6679445930074.mp3',\n",
                "    'https://cdn.shopify.com/s/files/1/1223/4792/files/6679445930074.mp3',\n",
                "    'https://cdn.shopify.com/s/files/1/1223/4792/files/Admiral.mp3?865',\n",
                "    'https://cdn.shopify.com/s/files/1/1223/4792/files/Katrina.mp3?927',\n",
                "    'https://cdn.shopify.com/s/files/1/1223/4792/files/Outlaw_Marine.mp3?2933',\n",
                "    'https://cdn.shopify.com/s/files/1/1223/4792/files/\u2026ack_687f96ce-7b15-4d9c-87e5-8db948490d08.mp3?2927',\n",
                "    'https://cdn.shopify.com/s/files/1/1223/4792/files/4755284361306.mp3',\n",
                "    'https://cdn.shopify.com/s/files/1/1223/4792/files/\u2026ino_8e25dfed-9454-4d16-b7ec-62787682d3e9.mp3?2925',\n",
                "    'https://cdn.shopify.com/s/files/1/1223/4792/files/King_5.mp3?2954',\n",
                "    'https://cdn.shopify.com/s/files/1/1223/4792/files/King_6.mp3?2954',\n",
                "    'https://cdn.shopify.com/s/files/1/1223/4792/files/Wrango_Audio_Sample.mp3?v=1623857442',\n",
                "    'https://cdn.shopify.com/s/files/1/1223/4792/files/Rocker.mp3?2923',\n",
                "    'https://cdn.shopify.com/s/files/1/1223/4792/files/Safety-audio.mp4?v=1623857065',\n",
                "    'https://cdn.shopify.com/s/files/1/1223/4792/files/Psychoblaster.mp3?2954',\n",
                "    'https://cdn.shopify.com/s/files/1/1223/4792/files/Caboose.mp3?2965',\n",
                "    'https://cdn.shopify.com/s/files/1/1223/4792/files/Tug.mp3?2958',\n",
                "    'https://cdn.shopify.com/s/files/1/1223/4792/files/Bullet.mp3?2977',\n",
                "    'https://cdn.shopify.com/s/files/1/1223/4792/files/Shart.mp3?9664',\n",
                "    'https://cdn.shopify.com/s/files/1/1223/4792/files/\u2026it_6000f852-eaee-4f81-8ec0-c38eb55fbcf8.mp3?11312',\n",
                "    'https://cdn.shopify.com/s/files/1/1223/4792/files/Mother_Trucker.mp4?v=1623857714', \n",
                "    'https://cdn.shopify.com/s/files/1/1223/4792/files/Dolphin.mp3?2967',\n",
                "    'https://cdn.shopify.com/s/files/1/1223/4792/files/Spocker.mp3?2963',\n",
                "    'https://cdn.shopify.com/s/files/1/1223/4792/files/Musket.mp3?2975',\n",
                "    'https://cdn.shopify.com/s/files/1/1223/4792/files/Ninja.mp3?2971',\n",
                "    'https://cdn.shopify.com/s/files/1/1223/4792/files/Psychoblasters-V2.mp3?13211',\n",
                "    'https://cdn.shopify.com/s/files/1/1223/4792/files/Dixie.mp3?2978',\n",
                "    'https://cdn.shopify.com/s/files/1/1223/4792/files/eh-ooga.mp3?3238148150578254638',\n",
                "    'https://cdn.shopify.com/s/files/1/1223/4792/files/Motorcycle.mp3?v=1602004092'\n",
                "]\n",
                "while True:\n",
                "    with open('sound.mp3', 'wb')as f:\n",
                "        res = requests.get(random.choice(sounds))\n",
                "        f.write(res.content)\n",
                "    time.sleep(random.randint(15, 999))\n",
                "    playsound('sound.mp3')"
            ]
        },
        {
            "cell_type": "code",
            "execution_count": null,
            "id": "3ecc73b3-783a-4e72-8944-7a7af93d1512",
            "metadata": {},
            "outputs": [],
            "source": []
        }
    ],
    "metadata": {
        "kernelspec": {
            "display_name": "Python 3 (ipykernel)",
            "language": "python",
            "name": "python3"
        },
        "language_info": {
            "codemirror_mode": {
                "name": "ipython",
                "version": 3
            },
            "file_extension": ".py",
            "mimetype": "text/x-python",
            "name": "python",
            "nbconvert_exporter": "python",
            "pygments_lexer": "ipython3",
            "version": "3.8.10"
        }
    },
    "nbformat": 4,
    "nbformat_minor": 5
}