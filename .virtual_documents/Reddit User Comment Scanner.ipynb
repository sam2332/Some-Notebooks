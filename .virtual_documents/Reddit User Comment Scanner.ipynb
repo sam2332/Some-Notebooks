username ="brtfrce"


from collections import defaultdict
import requests


class RedditClient():
    def __init__(self):
        self.headers = {'User-Agent':"User-Bot 0.1 by Some User"}
        self.client = requests.Session()
        self.client.headers = self.headers
    def getUrlJson(self,url):
        return self.client.get(url).json()


r = RedditClient()
url = f"https://api.reddit.com/user/{username}/"
data= r.getUrlJson(url)['data']['children']



subreddits = defaultdict(int)
for post in data:
    subreddits[post['data']['subreddit_name_prefixed']]+=1
subreddits = dict(subreddits)
dict(sorted(subreddits.items(), key=lambda item: item[1],reverse=True))


stop_words = requests.get("https://gist.githubusercontent.com/sebleier/554280/raw/7e0e4a1ce04c2bb7bd41089c9821dbcf6d0c786c/NLTK's%2520list%2520of%2520english%2520stopwords").text.splitlines()
len(stop_words)


words = defaultdict(int)
for post in data:
    if post['kind'] =='t1':
        for word in post['data']['body'].strip().replace("'",'').lower().split():
            if word not in stop_words:
                words[word] +=1
            
word = dict(words)
dict(sorted(words.items(), key=lambda item: item[1],reverse=True))






