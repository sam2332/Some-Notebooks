{
 "cells": [
  {
   "cell_type": "code",
   "execution_count": 3,
   "id": "9405bc76-8425-4a9f-b7fe-fbb617d9d664",
   "metadata": {
    "tags": []
   },
   "outputs": [
    {
     "data": {
      "text/plain": [
       "[{'id': 0, 'user': 'user'}, {'id': 1, 'gpt': 'resp'}]"
      ]
     },
     "execution_count": 3,
     "metadata": {},
     "output_type": "execute_result"
    }
   ],
   "source": [
    "a=[]\n",
    "a.append({'id': 0, 'user': \"user\"})\n",
    "a.append({'id': 1, 'gpt': 'resp'})\n",
    "\n",
    "a"
   ]
  },
  {
   "cell_type": "code",
   "execution_count": 5,
   "id": "f4bd573f-1045-44ab-8f29-37e9d4f94ace",
   "metadata": {
    "tags": []
   },
   "outputs": [],
   "source": [
    "def convertMessagesToGPTFormat(a):\n",
    "    msg = []\n",
    "    for item in a:\n",
    "        if'user' in item:\n",
    "            msg.append({'role':'user','content':item['user']}) \n",
    "        if'gpt' in item:\n",
    "            msg.append({'role':'assistant','content':item['gpt']}) \n",
    "    return msg"
   ]
  },
  {
   "cell_type": "code",
   "execution_count": 6,
   "id": "49b895b4-8a38-4b56-9f30-9b52362f4467",
   "metadata": {
    "tags": []
   },
   "outputs": [
    {
     "data": {
      "text/plain": [
       "[{'role': 'user', 'content': 'user'}, {'role': 'assistant', 'content': 'resp'}]"
      ]
     },
     "execution_count": 6,
     "metadata": {},
     "output_type": "execute_result"
    }
   ],
   "source": [
    "msg"
   ]
  },
  {
   "cell_type": "code",
   "execution_count": null,
   "id": "37001b2d-b779-4e0c-a76e-e16b6cdc3621",
   "metadata": {},
   "outputs": [],
   "source": []
  }
 ],
 "metadata": {
  "kernelspec": {
   "display_name": "Python 3 (ipykernel)",
   "language": "python",
   "name": "python3"
  },
  "language_info": {
   "codemirror_mode": {
    "name": "ipython",
    "version": 3
   },
   "file_extension": ".py",
   "mimetype": "text/x-python",
   "name": "python",
   "nbconvert_exporter": "python",
   "pygments_lexer": "ipython3",
   "version": "3.10.7"
  }
 },
 "nbformat": 4,
 "nbformat_minor": 5
}
