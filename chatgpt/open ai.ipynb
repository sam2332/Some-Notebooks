{
 "cells": [
  {
   "cell_type": "code",
   "execution_count": null,
   "id": "f51453b9-adda-4eb0-a9d6-ade14b7c0c47",
   "metadata": {
    "tags": []
   },
   "outputs": [],
   "source": [
    "import os\n",
    "import openai\n",
    "import keyring"
   ]
  },
  {
   "cell_type": "raw",
   "id": "9569594e-d5da-49de-90a6-dc5459ec80da",
   "metadata": {
    "tags": []
   },
   "source": [
    "keyring.set_password(\"system\", \"openai_key\", input())"
   ]
  },
  {
   "cell_type": "code",
   "execution_count": null,
   "id": "fc1c00fd-5189-4905-9dfd-821c58a2c021",
   "metadata": {
    "tags": []
   },
   "outputs": [],
   "source": [
    "openai.api_key =keyring.get_password(\"system\", \"openai_key\")"
   ]
  },
  {
   "cell_type": "code",
   "execution_count": null,
   "id": "9470e2a9-abcf-49f5-a338-1142c3acc79d",
   "metadata": {
    "tags": []
   },
   "outputs": [],
   "source": [
    "def askTitle(title):\n",
    "    # Define the conversation messages\n",
    "    response = openai.Edit.create(\n",
    "      model=\"text-davinci-edit-001\",\n",
    "      input=title,\n",
    "      instruction=\"Title case capitalize\"\n",
    "    )\n",
    "    assistant_reply = response['choices'][0]['text']\n",
    "    # Print the assistant's reply\n",
    "    return(assistant_reply)"
   ]
  },
  {
   "cell_type": "code",
   "execution_count": null,
   "id": "899692d1-6c1f-496c-b549-a6b8c6caf99d",
   "metadata": {},
   "outputs": [],
   "source": [
    "askTitle(\"Describe The Consequences To This Project If HTF Grant Not Funded At The Full Request?\")"
   ]
  },
  {
   "cell_type": "code",
   "execution_count": null,
   "id": "02700b82-9361-4b75-bb59-bc3b2ff3624f",
   "metadata": {},
   "outputs": [],
   "source": []
  },
  {
   "cell_type": "code",
   "execution_count": null,
   "id": "074bcf46-9dd3-4ddc-838c-004e125985f1",
   "metadata": {},
   "outputs": [],
   "source": [
    "messages=[{\"role\": \"user\", \"content\": \"As an intelligent AI model, if you could be any fictional character, who would you choose and why?\"}]\n",
    "\n",
    "response = openai.ChatCompletion.create(\n",
    "model=\"gpt-4\",\n",
    "max_tokens=100,\n",
    "temperature=1.2,\n",
    "messages = messages)\n",
    "\n",
    "print(response)"
   ]
  },
  {
   "cell_type": "code",
   "execution_count": null,
   "id": "c4c7f89b-3868-499a-b0dc-22681106f134",
   "metadata": {},
   "outputs": [],
   "source": []
  }
 ],
 "metadata": {
  "kernelspec": {
   "display_name": "Python 3 (ipykernel)",
   "language": "python",
   "name": "python3"
  },
  "language_info": {
   "codemirror_mode": {
    "name": "ipython",
    "version": 3
   },
   "file_extension": ".py",
   "mimetype": "text/x-python",
   "name": "python",
   "nbconvert_exporter": "python",
   "pygments_lexer": "ipython3",
   "version": "3.10.6"
  }
 },
 "nbformat": 4,
 "nbformat_minor": 5
}
