{
 "cells": [
  {
   "cell_type": "markdown",
   "id": "1b0ebd6a-7995-435b-8f3f-658393e0ad23",
   "metadata": {
    "tags": []
   },
   "source": [
    "# Global Settings"
   ]
  },
  {
   "cell_type": "code",
   "execution_count": null,
   "id": "71ad2423-6f69-49a8-99b0-64adbe058b06",
   "metadata": {
    "tags": []
   },
   "outputs": [],
   "source": [
    "DefaultSystemPrompt= \"\"\"\n",
    "\n",
    "You are Responding to a dating application profile,\n",
    "Below is the current screen contents,\n",
    "only say you love things we actually have in common.\n",
    "be polite and concise, only comment on one or two things on their profile.\n",
    "leave the message open ended for them to respond, we have already matched, Its okay to be flirty\n",
    "\n",
    "\"\"\".strip()"
   ]
  },
  {
   "cell_type": "markdown",
   "id": "bfc865b3-d7aa-4166-8f3d-e1c6b3326b9c",
   "metadata": {
    "tags": []
   },
   "source": [
    "# Functions"
   ]
  },
  {
   "cell_type": "code",
   "execution_count": null,
   "id": "99eb7ca5-0a32-4b1f-9b02-02ad60189ccf",
   "metadata": {
    "tags": []
   },
   "outputs": [],
   "source": [
    "import os\n",
    "import subprocess\n",
    "import time\n",
    "import urllib.parse"
   ]
  },
  {
   "cell_type": "code",
   "execution_count": null,
   "id": "c622b30c-bb56-462e-bb00-e1e48deccd2b",
   "metadata": {
    "tags": []
   },
   "outputs": [],
   "source": [
    "def adb(command):\n",
    "    if type(command) == list:\n",
    "        command = ' '.join(command)\n",
    "    adb_command = f\"adb {command}\"\n",
    "    return subprocess.run(adb_command, stdout=subprocess.PIPE, stderr=subprocess.PIPE, shell=True, text=True)\n",
    "\n",
    "def adb_type(text: str):\n",
    "    lines = text.split('\\n')\n",
    "    for i, line in enumerate(lines):\n",
    "        # Send the line, replacing spaces with '%s'\n",
    "        adb(f\"shell input text '{line.replace(' ', '%s')}'\")\n",
    "        \n",
    "        # Press ENTER key after each line, except for the last one\n",
    "        if i < len(lines) - 1:\n",
    "            adb(\"shell input keyevent 66\")  # KeyCode 66 is the ENTER key\n",
    "def TypeTextOnPhone(text):\n",
    "    for ctext in list(str(text)):\n",
    "        adb([\"shell\", \"input\", \"text\", ctext.replace(\" \", \"%s\")])\n",
    "        time.sleep(0.1)\n",
    "    adb([\"shell\", \"input\", \"keyevent\", \"66\"])\n",
    "    \n",
    "def ocr_screen():\n",
    "    # Take a screenshot\n",
    "    r = adb(\"shell screencap /sdcard/screenshot.png\")\n",
    "    if r.returncode ==0:\n",
    "        # Transfer the screenshot to your computer\n",
    "        adb(\"pull /sdcard/screenshot.png\")\n",
    "        ocr_result_text='ERROR FETCHING'\n",
    "        # Run OCR on the screenshot\n",
    "        ocr_command = \"tesseract screenshot.png output\"\n",
    "        ocr_result = subprocess.run(ocr_command, shell=True)\n",
    "        if ocr_result.returncode == 0:\n",
    "            with open(\"output.txt\", \"r\") as output_file:\n",
    "                return output_file.read().replace(\"|\",\"I\")\n",
    "                print(my_profile_text)\n",
    "        else:\n",
    "            print(\"Error running OCR on the screenshot.\")\n",
    "    else:\n",
    "        print(\"Screen protected\")\n",
    "        return None"
   ]
  },
  {
   "cell_type": "code",
   "execution_count": null,
   "id": "5f65700c-0eee-4f65-92c9-9d03f3e0ff38",
   "metadata": {
    "tags": []
   },
   "outputs": [],
   "source": [
    "import openai\n",
    "import keyring\n",
    "openai.api_key =keyring.get_password(\"system\", \"openai_key\")\n",
    "def AskOpenAi(MyProfileText=None,TheirProfileText=None,AdditionalPrompt=None, BaseSystemPrompt=None):\n",
    "    # Define the conversation messages\n",
    "    \n",
    "    messages=[]\n",
    "    if MyProfileText is not None:\n",
    "        messages.append({\"role\": \"system\", \"content\": f\"\"\"Role play like you are \\n ```{MyProfileText}```\"\"\"})\n",
    "        \n",
    "    if TheirProfileText is not None:\n",
    "        messages.append({\"role\": \"system\", \"content\": f\"\"\"The Profile you are responding to\\n ```{TheirProfileText}```\"\"\"})\n",
    "        \n",
    "    if BaseSystemPrompt is None:\n",
    "        messages.append({\"role\": \"system\", \"content\": DefaultSystemPrompt})\n",
    "    else:\n",
    "        messages.append({\"role\": \"system\", \"content\": BaseSystemPrompt})\n",
    "          \n",
    "    if AdditionalPrompt is not None:\n",
    "        messages.append({\"role\": \"user\", \"content\": AdditionalPrompt})\n",
    "        \n",
    "    completion = openai.ChatCompletion.create(\n",
    "      model=\"gpt-3.5-turbo\",\n",
    "      messages=messages\n",
    "    )\n",
    "    return completion.choices[0].message['content'].strip(\"'\").strip()\n",
    "\n",
    "\n",
    "\n"
   ]
  },
  {
   "cell_type": "markdown",
   "id": "3dce3781-a4aa-4bf1-bb0a-365879b22b82",
   "metadata": {
    "tags": []
   },
   "source": [
    "# My Profile"
   ]
  },
  {
   "cell_type": "code",
   "execution_count": null,
   "id": "c098e6ed-2b84-437b-ae65-be0c0b7bb8af",
   "metadata": {
    "tags": []
   },
   "outputs": [],
   "source": [
    "my_profile_text = ocr_screen()"
   ]
  },
  {
   "cell_type": "markdown",
   "id": "4ad79dcf-f046-41b3-b895-f106002b9892",
   "metadata": {
    "tags": []
   },
   "source": [
    " # Profile Commenter"
   ]
  },
  {
   "cell_type": "code",
   "execution_count": null,
   "id": "f36790d2-6541-4511-9dc3-c93122295ac2",
   "metadata": {
    "tags": []
   },
   "outputs": [],
   "source": [
    "their_profile_text = ocr_screen()"
   ]
  },
  {
   "cell_type": "code",
   "execution_count": null,
   "id": "56899689-91c1-46f0-8349-aa8ef4f925d6",
   "metadata": {
    "tags": []
   },
   "outputs": [],
   "source": [
    "\n",
    "upgrades = AskOpenAi(\n",
    "    MyProfileText=my_profile_text,\n",
    "    BaseSystemPrompt=\"\"\"\n",
    "    \n",
    "    Pretend you are a Matchmaker,\n",
    "    you will provide a concise analysis of the profile and,\n",
    "    tell me things that should be added that are typical of a dating profile\n",
    "    \n",
    "    \"\"\")\n",
    "print(upgrades)"
   ]
  },
  {
   "cell_type": "code",
   "execution_count": null,
   "id": "0ae5d221-474e-4457-8ab7-5ff6125f0630",
   "metadata": {
    "tags": []
   },
   "outputs": [],
   "source": [
    "red_flags = AskOpenAi(\n",
    "    MyProfileText=my_profile_text,\n",
    "    BaseSystemPrompt=\"\"\"\n",
    "    \n",
    "    Pretend you are a Therapist and a Matchmaker,    \n",
    "    bullet point any red flags you find in this profile\n",
    "    \n",
    "    \"\"\")\n",
    "print(red_flags)"
   ]
  },
  {
   "cell_type": "code",
   "execution_count": null,
   "id": "5990ca18-33c4-4cfd-a3c3-296c59101fb3",
   "metadata": {
    "tags": []
   },
   "outputs": [],
   "source": [
    "red_flags = AskOpenAi(\n",
    "    TheirProfileText=their_profile_text,\n",
    "    BaseSystemPrompt=\"\"\"\n",
    "    \n",
    "    Pretend you are a Therapist and a Matchmaker,    \n",
    "    bullet point any red flags you find in this profile\n",
    "    \n",
    "    \"\"\")\n",
    "print(red_flags)"
   ]
  },
  {
   "cell_type": "code",
   "execution_count": null,
   "id": "d6c0124e-0ee9-4b9d-9474-939b401b225d",
   "metadata": {
    "tags": []
   },
   "outputs": [],
   "source": [
    "compatiblity = AskOpenAi(\n",
    "    MyProfileText=my_profile_text,\n",
    "    TheirProfileText=their_profile_text,\n",
    "    BaseSystemPrompt=\"\"\"\"\n",
    "    \n",
    "    Pretend you are a Matchmaker,\n",
    "    you will provide  a concise analysis the provided profiles \n",
    "    and give advice on how to proceed.\n",
    "    \n",
    "    \"\"\"\n",
    ")\n",
    "print(compatiblity)"
   ]
  },
  {
   "cell_type": "code",
   "execution_count": null,
   "id": "f5d103f1-3d9b-423e-9786-5a681947117d",
   "metadata": {
    "tags": []
   },
   "outputs": [],
   "source": [
    "introduction = askOpenAi(\n",
    "    MyProfileText=my_profile_text,\n",
    "    TheirProfileText=their_profile_text\n",
    ")\n",
    "\n",
    "print(introduction)"
   ]
  },
  {
   "cell_type": "code",
   "execution_count": null,
   "id": "da301c17-1a31-4925-9590-8ae125c9dc57",
   "metadata": {
    "tags": []
   },
   "outputs": [],
   "source": [
    "things_to_talk_about = askOpenAiWhatToSay(\n",
    "    MyProfileText=my_profile_text,\n",
    "    TheirProfileText=their_profile_text,\n",
    "    AdditionalPrompt=\"5 topics we could text about\"\n",
    ")\n",
    "\n",
    "print(things_to_talk_about)"
   ]
  },
  {
   "cell_type": "code",
   "execution_count": null,
   "id": "09864e88-aba9-4187-a6a5-017ee242b4f4",
   "metadata": {
    "tags": []
   },
   "outputs": [],
   "source": [
    "first_dates = askOpenAiWhatToSay(\n",
    "    MyProfileText=my_profile_text,\n",
    "    TheirProfileText=their_profile_text,\n",
    "    AdditionalPrompt=\"list of 5 first dates based on our profiles\"\n",
    ")\n",
    "\n",
    "print(first_dates)"
   ]
  },
  {
   "cell_type": "code",
   "execution_count": null,
   "id": "2600078d-31a4-40d3-9965-0e368eb84d1c",
   "metadata": {
    "tags": []
   },
   "outputs": [],
   "source": [
    "#adb_type2(introduction)"
   ]
  },
  {
   "cell_type": "code",
   "execution_count": null,
   "id": "1e1695fc-caaf-4170-9243-3f2c40ff8d22",
   "metadata": {},
   "outputs": [],
   "source": [
    "other = ocr_screen()"
   ]
  },
  {
   "cell_type": "code",
   "execution_count": null,
   "id": "3fa8e3c7-52d2-451a-8e2a-26981db1fd06",
   "metadata": {},
   "outputs": [],
   "source": [
    "\n",
    "    adb(\"shell screencap /sdcard/screenshot.png\")"
   ]
  }
 ],
 "metadata": {
  "kernelspec": {
   "display_name": "Python 3 (ipykernel)",
   "language": "python",
   "name": "python3"
  },
  "language_info": {
   "codemirror_mode": {
    "name": "ipython",
    "version": 3
   },
   "file_extension": ".py",
   "mimetype": "text/x-python",
   "name": "python",
   "nbconvert_exporter": "python",
   "pygments_lexer": "ipython3",
   "version": "3.10.6"
  }
 },
 "nbformat": 4,
 "nbformat_minor": 5
}
