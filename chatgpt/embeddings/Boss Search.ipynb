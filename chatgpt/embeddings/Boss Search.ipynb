{
 "cells": [
  {
   "cell_type": "code",
   "execution_count": 2,
   "id": "c794d251-7523-418c-9c68-7069040fd8d1",
   "metadata": {
    "tags": []
   },
   "outputs": [],
   "source": [
    "import keyring        \n"
   ]
  },
  {
   "cell_type": "code",
   "execution_count": 1,
   "id": "7e69253f-84b8-4c06-b3b3-a3176c41d353",
   "metadata": {
    "tags": []
   },
   "outputs": [],
   "source": [
    "import pymssql\n",
    "from contextlib import contextmanager\n",
    "@contextmanager\n",
    "def GetDBConnection():\n",
    "    conn = pymssql.connect(\n",
    "        server=\"ITSMDB\",\n",
    "        database=\"BSC_4_0\",\n",
    "        as_dict=True\n",
    "    )\n",
    "    cursor = conn.cursor()\n",
    "    try:\n",
    "        yield cursor\n",
    "    finally:\n",
    "        conn.close()\n",
    "        "
   ]
  },
  {
   "cell_type": "code",
   "execution_count": 9,
   "id": "cf645041-8d83-4db5-8305-8f41afb8e839",
   "metadata": {
    "tags": []
   },
   "outputs": [],
   "source": [
    "\n",
    "@contextmanager\n",
    "def GetDBConnection2():\n",
    "    server = 'ITSMDB'\n",
    "    database = 'BSC_4_0'\n",
    "    username = 'ingham-county\\\\srudloff'  # Format: DOMAIN\\\\username\n",
    "    password = keyring.get_password(\"VPN_Ingham-County\",keyring.get_password(\"VPN_Ingham-County\",'USER'))\n",
    "\n",
    "    # Connect to the database\n",
    "    conn = pymssql.connect(server, username, password, database,as_dict=True)\n",
    "\n",
    "    cursor = conn.cursor()\n",
    "    try:\n",
    "        yield cursor\n",
    "    finally:\n",
    "        conn.close()\n",
    "        "
   ]
  },
  {
   "cell_type": "code",
   "execution_count": 10,
   "id": "french-cornell",
   "metadata": {
    "tags": []
   },
   "outputs": [],
   "source": [
    "def findTicketByKeyword(keyword):\n",
    "    with GetDBConnection2() as cursor:\n",
    "        sql = \"\"\"\n",
    "        SELECT\n",
    "        [Id],\n",
    "        [Title],\n",
    "        [Description]\n",
    "        FROM [Tickets]\n",
    "        where Description like %s\n",
    "        or Title like %s;\n",
    "        \"\"\"\n",
    "        cursor.execute(sql, (keyword,keyword))\n",
    "        return cursor.fetchall()"
   ]
  },
  {
   "cell_type": "code",
   "execution_count": 11,
   "id": "applicable-sally",
   "metadata": {
    "tags": []
   },
   "outputs": [],
   "source": [
    "def SearchComments(keyword):\n",
    "    with GetDBConnection2() as cursor:\n",
    "        sql = \"\"\"\n",
    "        SELECT\n",
    "        [TicketId],\n",
    "        [Body]\n",
    "        FROM [Comments]\n",
    "        where Body like %s\n",
    "        \"\"\"\n",
    "        cursor.execute(sql, keyword)\n",
    "        data = cursor.fetchmany(10)\n",
    "        while data is not None:\n",
    "            yield data\n",
    "            data = cursor.fetchmany(10)"
   ]
  },
  {
   "cell_type": "code",
   "execution_count": 12,
   "id": "scientific-daniel",
   "metadata": {
    "tags": []
   },
   "outputs": [
    {
     "name": "stdout",
     "output_type": "stream",
     "text": [
      "50566: 50566 - PPZ - Malware on PPZ PC\n",
      "51170: Investigate Malware\n",
      "51948: Investigate Malware\n",
      "52129: Thumb drive risk - \n",
      "52144: Investigate Malware\n",
      "52175: Needs Software Deleted - Mike Allen\n",
      "51146: Investigate Malware\n",
      "51569: Investigate Malware\n",
      "51752: Investigate Malware\n",
      "53864: Investigate Malware\n",
      "57384: Check email to determine if its malicious\n",
      "57519: Investigate Malware\n",
      "57708: Scan emails for malware\n",
      "57778: Investigate Malware\n",
      "57982: Investigate Malware\n",
      "53912: Investigate Malware\n",
      "53982: Investigate Malware\n",
      "56125: Malware\n",
      "56479: Investigate Malware\n",
      "58513: Investigate Malware\n",
      "58514: Investigate Malware\n",
      "58642: Investigate Malware\n",
      "59699: Mennythanks virus?\n",
      "59932: Link clicked in spam email\n",
      "57983: Investigate Malware\n",
      "57987: Investigate Malware\n",
      "60311: Investigate Malware - Amy Prieskorn\n",
      "60362: Investigate Malware - IE popup about firewall issues\n",
      "60439: Outlook issues and popups\n",
      "61042: Investigate Malware\n",
      "61124: Malwarebytes  keeps popping up on my screen, needs to be removed - Noreen Allman\n",
      "60727: Malware Scan\n",
      "61299: Investigate Malware\n",
      "62551: Investigate Malware\n",
      "62604: Investigate Malware - Brian Fisher MT14600\n",
      "62608: Investigate Malware\n",
      "62666: Scan for malware - HD13479 - Krystal Davis\n",
      "62007: Kyle Gask-Wilson - SPAM\n",
      "62321: Investigate Malware\n",
      "62744: Scan for malware - PHN - Sierra Harns - HD14770\n",
      "63173: Malware Scan\n",
      "63177: PD15118 - Amy Prieskorn - Possible malware download\n",
      "63256: Investigate Possible Malware\n",
      "63287: Investigate Possible Malware\n",
      "63323: Investigate Malware\n",
      "63325: Investigate Malware\n",
      "63841: Investigate Malware\n",
      "63983: Investigate Malware\n",
      "67269: Investigate Malware - SO14468\n",
      "67270: Investigate Malware - CC13803\n",
      "65481: Investigate Malware\n",
      "65812: Malware Check - SO14113\n",
      "66056: Investigate Malware\n",
      "66596: Investigate Malware\n",
      "66736: Web app for uploading court documents\n",
      "69971: Antimalware Service -\n",
      "67634: Investigate Malware\n",
      "67924: Investigate Malware - password potentially compromised\n",
      "68038: Investigate Malware\n",
      "68242: Investigate Malware\n",
      "68619: Investigate Malware\n",
      "68915: Internet use report detail request\n",
      "72098: malware/adware pop up -\n",
      "72323: Check PC of FD_Williams\n",
      "73896: Investigate Malware\n",
      "74054: Need more MIHAN IP Addresses Whitelisted\n",
      "75020: Malware? -\n",
      "75300: Investigate Malware\n",
      "75321: SO13654 - Malware Detected - Failed Quarantine\n",
      "76109: HD14912 at Eastern Potentially Infected\n",
      "76231: Inghamcrc.org domain compromised and registered outside of ingham account\n",
      "77218: Computer has been slowing down and getting hard to use\n",
      "75461: Investigate Malware\n",
      "79630: Proactive  measures recommended based on recent cyber security incidents -\n",
      "83463: Investigate Malware\n",
      "87360: Investigate Malware\n",
      "87363: Investigate Malware\n",
      "88894: AC16149 - Investigate Malware - Heidi Williams\n",
      "88950: Investigate Malware\n",
      "91893: Performance issues with EMR-Interface-2 -\n",
      "77562: Investigate Malware\n",
      "82093: Investigate Malware\n",
      "85860: Investigate Malware\n",
      "86777: Investigate Malware\n",
      "86778: Investigate Malware\n",
      "89796: Investigate Malware\n",
      "90786: Possible malware via email -\n",
      "91518: Investigate Malware\n",
      "91519: Investigate Malware\n"
     ]
    }
   ],
   "source": [
    "for i in findTicketByKeyword(\"%Malware%\"):\n",
    "    print(f\"{i['Id']}: {i['Title']}\")"
   ]
  },
  {
   "cell_type": "code",
   "execution_count": 15,
   "id": "ecological-visiting",
   "metadata": {
    "tags": []
   },
   "outputs": [
    {
     "ename": "OperationalError",
     "evalue": "(20009, b'DB-Lib error message 20009, severity 9:\\nUnable to connect: Adaptive Server is unavailable or does not exist (ITSMDB)\\n')",
     "output_type": "error",
     "traceback": [
      "\u001b[0;31m---------------------------------------------------------------------------\u001b[0m",
      "\u001b[0;31mMSSQLDatabaseException\u001b[0m                    Traceback (most recent call last)",
      "File \u001b[0;32msrc/pymssql/_pymssql.pyx:647\u001b[0m, in \u001b[0;36mpymssql._pymssql.connect\u001b[0;34m()\u001b[0m\n",
      "File \u001b[0;32msrc/pymssql/_mssql.pyx:2109\u001b[0m, in \u001b[0;36mpymssql._mssql.connect\u001b[0;34m()\u001b[0m\n",
      "File \u001b[0;32msrc/pymssql/_mssql.pyx:701\u001b[0m, in \u001b[0;36mpymssql._mssql.MSSQLConnection.__init__\u001b[0;34m()\u001b[0m\n",
      "File \u001b[0;32msrc/pymssql/_mssql.pyx:1818\u001b[0m, in \u001b[0;36mpymssql._mssql.maybe_raise_MSSQLDatabaseException\u001b[0;34m()\u001b[0m\n",
      "File \u001b[0;32msrc/pymssql/_mssql.pyx:1835\u001b[0m, in \u001b[0;36mpymssql._mssql.raise_MSSQLDatabaseException\u001b[0;34m()\u001b[0m\n",
      "\u001b[0;31mMSSQLDatabaseException\u001b[0m: (20009, b'DB-Lib error message 20009, severity 9:\\nUnable to connect: Adaptive Server is unavailable or does not exist (ITSMDB)\\n')",
      "\nDuring handling of the above exception, another exception occurred:\n",
      "\u001b[0;31mOperationalError\u001b[0m                          Traceback (most recent call last)",
      "Cell \u001b[0;32mIn[15], line 1\u001b[0m\n\u001b[0;32m----> 1\u001b[0m \u001b[38;5;28;01mfor\u001b[39;00m i \u001b[38;5;129;01min\u001b[39;00m SearchComments(\u001b[38;5;124m\"\u001b[39m\u001b[38;5;124m%\u001b[39m\u001b[38;5;124mSamuel Rudloff\u001b[39m\u001b[38;5;124m%\u001b[39m\u001b[38;5;124m\"\u001b[39m):\n\u001b[1;32m      2\u001b[0m     \u001b[38;5;28mprint\u001b[39m(\u001b[38;5;124mf\u001b[39m\u001b[38;5;124m\"\u001b[39m\u001b[38;5;132;01m{\u001b[39;00mi[\u001b[38;5;124m'\u001b[39m\u001b[38;5;124mTicketId\u001b[39m\u001b[38;5;124m'\u001b[39m]\u001b[38;5;132;01m}\u001b[39;00m\u001b[38;5;124m: \u001b[39m\u001b[38;5;132;01m{\u001b[39;00mi[\u001b[38;5;124m'\u001b[39m\u001b[38;5;124mBody\u001b[39m\u001b[38;5;124m'\u001b[39m]\u001b[38;5;132;01m}\u001b[39;00m\u001b[38;5;124m\"\u001b[39m)\n",
      "Cell \u001b[0;32mIn[13], line 2\u001b[0m, in \u001b[0;36mSearchComments\u001b[0;34m(keyword)\u001b[0m\n\u001b[1;32m      1\u001b[0m \u001b[38;5;28;01mdef\u001b[39;00m \u001b[38;5;21mSearchComments\u001b[39m(keyword):\n\u001b[0;32m----> 2\u001b[0m     \u001b[38;5;28;01mwith\u001b[39;00m GetDBConnection2() \u001b[38;5;28;01mas\u001b[39;00m cursor:\n\u001b[1;32m      3\u001b[0m         sql \u001b[38;5;241m=\u001b[39m \u001b[38;5;124m\"\"\"\u001b[39m\n\u001b[1;32m      4\u001b[0m \u001b[38;5;124m        SELECT\u001b[39m\n\u001b[1;32m      5\u001b[0m \u001b[38;5;124m        [TicketId],\u001b[39m\n\u001b[0;32m   (...)\u001b[0m\n\u001b[1;32m      8\u001b[0m \u001b[38;5;124m        where Body like \u001b[39m\u001b[38;5;132;01m%s\u001b[39;00m\n\u001b[1;32m      9\u001b[0m \u001b[38;5;124m        \u001b[39m\u001b[38;5;124m\"\"\"\u001b[39m\n\u001b[1;32m     10\u001b[0m         cursor\u001b[38;5;241m.\u001b[39mexecute(sql, keyword)\n",
      "File \u001b[0;32m/usr/lib/python3.10/contextlib.py:135\u001b[0m, in \u001b[0;36m_GeneratorContextManager.__enter__\u001b[0;34m(self)\u001b[0m\n\u001b[1;32m    133\u001b[0m \u001b[38;5;28;01mdel\u001b[39;00m \u001b[38;5;28mself\u001b[39m\u001b[38;5;241m.\u001b[39margs, \u001b[38;5;28mself\u001b[39m\u001b[38;5;241m.\u001b[39mkwds, \u001b[38;5;28mself\u001b[39m\u001b[38;5;241m.\u001b[39mfunc\n\u001b[1;32m    134\u001b[0m \u001b[38;5;28;01mtry\u001b[39;00m:\n\u001b[0;32m--> 135\u001b[0m     \u001b[38;5;28;01mreturn\u001b[39;00m \u001b[38;5;28;43mnext\u001b[39;49m\u001b[43m(\u001b[49m\u001b[38;5;28;43mself\u001b[39;49m\u001b[38;5;241;43m.\u001b[39;49m\u001b[43mgen\u001b[49m\u001b[43m)\u001b[49m\n\u001b[1;32m    136\u001b[0m \u001b[38;5;28;01mexcept\u001b[39;00m \u001b[38;5;167;01mStopIteration\u001b[39;00m:\n\u001b[1;32m    137\u001b[0m     \u001b[38;5;28;01mraise\u001b[39;00m \u001b[38;5;167;01mRuntimeError\u001b[39;00m(\u001b[38;5;124m\"\u001b[39m\u001b[38;5;124mgenerator didn\u001b[39m\u001b[38;5;124m'\u001b[39m\u001b[38;5;124mt yield\u001b[39m\u001b[38;5;124m\"\u001b[39m) \u001b[38;5;28;01mfrom\u001b[39;00m \u001b[38;5;28mNone\u001b[39m\n",
      "Cell \u001b[0;32mIn[11], line 9\u001b[0m, in \u001b[0;36mGetDBConnection2\u001b[0;34m()\u001b[0m\n\u001b[1;32m      6\u001b[0m password \u001b[38;5;241m=\u001b[39m keyring\u001b[38;5;241m.\u001b[39mget_password(\u001b[38;5;124m\"\u001b[39m\u001b[38;5;124mVPN_Ingham-County\u001b[39m\u001b[38;5;124m\"\u001b[39m,keyring\u001b[38;5;241m.\u001b[39mget_password(\u001b[38;5;124m\"\u001b[39m\u001b[38;5;124mVPN_Ingham-County\u001b[39m\u001b[38;5;124m\"\u001b[39m,\u001b[38;5;124m'\u001b[39m\u001b[38;5;124mUSER\u001b[39m\u001b[38;5;124m'\u001b[39m))\n\u001b[1;32m      8\u001b[0m \u001b[38;5;66;03m# Connect to the database\u001b[39;00m\n\u001b[0;32m----> 9\u001b[0m conn \u001b[38;5;241m=\u001b[39m \u001b[43mpymssql\u001b[49m\u001b[38;5;241;43m.\u001b[39;49m\u001b[43mconnect\u001b[49m\u001b[43m(\u001b[49m\u001b[43mserver\u001b[49m\u001b[43m,\u001b[49m\u001b[43m \u001b[49m\u001b[43musername\u001b[49m\u001b[43m,\u001b[49m\u001b[43m \u001b[49m\u001b[43mpassword\u001b[49m\u001b[43m,\u001b[49m\u001b[43m \u001b[49m\u001b[43mdatabase\u001b[49m\u001b[43m)\u001b[49m\n\u001b[1;32m     11\u001b[0m cursor \u001b[38;5;241m=\u001b[39m conn\u001b[38;5;241m.\u001b[39mcursor()\n\u001b[1;32m     12\u001b[0m \u001b[38;5;28;01mtry\u001b[39;00m:\n",
      "File \u001b[0;32msrc/pymssql/_pymssql.pyx:653\u001b[0m, in \u001b[0;36mpymssql._pymssql.connect\u001b[0;34m()\u001b[0m\n",
      "\u001b[0;31mOperationalError\u001b[0m: (20009, b'DB-Lib error message 20009, severity 9:\\nUnable to connect: Adaptive Server is unavailable or does not exist (ITSMDB)\\n')"
     ]
    }
   ],
   "source": [
    "for i in SearchComments(\"%Samuel Rudloff%\"):\n",
    "    print(f\"{i['TicketId']}: {i['Body']}\")"
   ]
  },
  {
   "cell_type": "code",
   "execution_count": null,
   "id": "581aabf7-6084-4c7b-ab56-9af7ff425e49",
   "metadata": {},
   "outputs": [],
   "source": []
  }
 ],
 "metadata": {
  "kernelspec": {
   "display_name": "Python 3 (ipykernel)",
   "language": "python",
   "name": "python3"
  },
  "language_info": {
   "codemirror_mode": {
    "name": "ipython",
    "version": 3
   },
   "file_extension": ".py",
   "mimetype": "text/x-python",
   "name": "python",
   "nbconvert_exporter": "python",
   "pygments_lexer": "ipython3",
   "version": "3.10.7"
  }
 },
 "nbformat": 4,
 "nbformat_minor": 5
}
