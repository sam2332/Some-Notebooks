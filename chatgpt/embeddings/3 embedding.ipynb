{
 "cells": [
  {
   "cell_type": "code",
   "execution_count": null,
   "id": "cc0da9c7-3e33-4dad-836d-0c201690db71",
   "metadata": {},
   "outputs": [],
   "source": [
    "import pandas as pd\n",
    "import torch\n",
    "from transformers import DistilBertTokenizer, DistilBertModel\n",
    "from sklearn.metrics.pairwise import cosine_similarity\n",
    "# Load the pre-trained model and tokenizer\n",
    "tokenizer = DistilBertTokenizer.from_pretrained('distilbert-base-uncased')\n",
    "model = DistilBertModel.from_pretrained('distilbert-base-uncased')\n"
   ]
  },
  {
   "cell_type": "code",
   "execution_count": null,
   "id": "beb97c44-842a-406c-86f7-cf305a17e523",
   "metadata": {
    "tags": []
   },
   "outputs": [],
   "source": [
    "my_tickets = pd.read_csv('all_tickets_cleaned.csv')"
   ]
  },
  {
   "cell_type": "code",
   "execution_count": null,
   "id": "3eedf072-c660-4b3c-9197-4064f98f4bac",
   "metadata": {
    "tags": []
   },
   "outputs": [],
   "source": [
    "my_tickets.tail(1)"
   ]
  },
  {
   "cell_type": "code",
   "execution_count": null,
   "id": "eb4a64a8-5390-4e60-9260-86ffc29327d8",
   "metadata": {
    "tags": []
   },
   "outputs": [],
   "source": [
    "from sentence_transformers import SentenceTransformer\n",
    "# Load the model\n",
    "model = SentenceTransformer('all-MiniLM-L6-v2')\n",
    "\n",
    "# Generate embeddings for each sentence in the DataFrame\n",
    "embeddings = model.encode(my_tickets['Title'].tolist())\n",
    "\n",
    "# Add the embeddings as a new column in the DataFrame\n",
    "my_tickets['Embeddings'] = embeddings.tolist()"
   ]
  },
  {
   "cell_type": "code",
   "execution_count": null,
   "id": "c5ed0bf1-166e-4816-83fb-0616705fe705",
   "metadata": {
    "tags": []
   },
   "outputs": [],
   "source": [
    "my_tickets.head(9)"
   ]
  },
  {
   "cell_type": "code",
   "execution_count": null,
   "id": "5603755a-2131-46ca-bc8a-7629a77414bb",
   "metadata": {
    "tags": []
   },
   "outputs": [],
   "source": [
    "# Save the DataFrame to a pickle file\n",
    "my_tickets.to_pickle(\"all_tickets_embeddings.pkl\")"
   ]
  },
  {
   "cell_type": "code",
   "execution_count": null,
   "id": "c2f6cf78-13bd-4053-b057-c29be55189cf",
   "metadata": {},
   "outputs": [],
   "source": []
  }
 ],
 "metadata": {
  "kernelspec": {
   "display_name": "Python 3 (ipykernel)",
   "language": "python",
   "name": "python3"
  },
  "language_info": {
   "codemirror_mode": {
    "name": "ipython",
    "version": 3
   },
   "file_extension": ".py",
   "mimetype": "text/x-python",
   "name": "python",
   "nbconvert_exporter": "python",
   "pygments_lexer": "ipython3",
   "version": "3.11.3"
  }
 },
 "nbformat": 4,
 "nbformat_minor": 5
}
