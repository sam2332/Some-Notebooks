{
 "cells": [
  {
   "cell_type": "code",
   "execution_count": 110,
   "id": "cc0da9c7-3e33-4dad-836d-0c201690db71",
   "metadata": {},
   "outputs": [
    {
     "name": "stderr",
     "output_type": "stream",
     "text": [
      "Some weights of the model checkpoint at distilbert-base-uncased were not used when initializing DistilBertModel: ['vocab_transform.bias', 'vocab_layer_norm.weight', 'vocab_projector.bias', 'vocab_projector.weight', 'vocab_layer_norm.bias', 'vocab_transform.weight']\n",
      "- This IS expected if you are initializing DistilBertModel from the checkpoint of a model trained on another task or with another architecture (e.g. initializing a BertForSequenceClassification model from a BertForPreTraining model).\n",
      "- This IS NOT expected if you are initializing DistilBertModel from the checkpoint of a model that you expect to be exactly identical (initializing a BertForSequenceClassification model from a BertForSequenceClassification model).\n"
     ]
    }
   ],
   "source": [
    "import pandas as pd\n",
    "import torch\n",
    "from transformers import DistilBertTokenizer, DistilBertModel\n",
    "from sklearn.metrics.pairwise import cosine_similarity\n",
    "# Load the pre-trained model and tokenizer\n",
    "tokenizer = DistilBertTokenizer.from_pretrained('distilbert-base-uncased')\n",
    "model = DistilBertModel.from_pretrained('distilbert-base-uncased')\n"
   ]
  },
  {
   "cell_type": "code",
   "execution_count": 111,
   "id": "beb97c44-842a-406c-86f7-cf305a17e523",
   "metadata": {
    "tags": []
   },
   "outputs": [],
   "source": [
    "my_tickets = pd.read_csv('my_comments_cleaned.csv')"
   ]
  },
  {
   "cell_type": "code",
   "execution_count": 112,
   "id": "3eedf072-c660-4b3c-9197-4064f98f4bac",
   "metadata": {
    "tags": []
   },
   "outputs": [
    {
     "data": {
      "text/html": [
       "<div>\n",
       "<style scoped>\n",
       "    .dataframe tbody tr th:only-of-type {\n",
       "        vertical-align: middle;\n",
       "    }\n",
       "\n",
       "    .dataframe tbody tr th {\n",
       "        vertical-align: top;\n",
       "    }\n",
       "\n",
       "    .dataframe thead th {\n",
       "        text-align: right;\n",
       "    }\n",
       "</style>\n",
       "<table border=\"1\" class=\"dataframe\">\n",
       "  <thead>\n",
       "    <tr style=\"text-align: right;\">\n",
       "      <th></th>\n",
       "      <th>TicketId</th>\n",
       "      <th>Body</th>\n",
       "    </tr>\n",
       "  </thead>\n",
       "  <tbody>\n",
       "    <tr>\n",
       "      <th>2364</th>\n",
       "      <td>91526</td>\n",
       "      <td>sam, all changes look great! i love the pdf so...</td>\n",
       "    </tr>\n",
       "  </tbody>\n",
       "</table>\n",
       "</div>"
      ],
      "text/plain": [
       "      TicketId                                               Body\n",
       "2364     91526  sam, all changes look great! i love the pdf so..."
      ]
     },
     "execution_count": 112,
     "metadata": {},
     "output_type": "execute_result"
    }
   ],
   "source": [
    "my_tickets.tail(1)"
   ]
  },
  {
   "cell_type": "code",
   "execution_count": 113,
   "id": "eb4a64a8-5390-4e60-9260-86ffc29327d8",
   "metadata": {
    "tags": []
   },
   "outputs": [],
   "source": [
    "from sentence_transformers import SentenceTransformer\n",
    "# Load the model\n",
    "model = SentenceTransformer('all-MiniLM-L6-v2')\n",
    "\n",
    "# Generate embeddings for each sentence in the DataFrame\n",
    "embeddings = model.encode(my_tickets['Body'].tolist())\n",
    "\n",
    "# Add the embeddings as a new column in the DataFrame\n",
    "my_tickets['Embeddings'] = embeddings.tolist()"
   ]
  },
  {
   "cell_type": "code",
   "execution_count": 114,
   "id": "c5ed0bf1-166e-4816-83fb-0616705fe705",
   "metadata": {
    "tags": []
   },
   "outputs": [
    {
     "data": {
      "text/html": [
       "<div>\n",
       "<style scoped>\n",
       "    .dataframe tbody tr th:only-of-type {\n",
       "        vertical-align: middle;\n",
       "    }\n",
       "\n",
       "    .dataframe tbody tr th {\n",
       "        vertical-align: top;\n",
       "    }\n",
       "\n",
       "    .dataframe thead th {\n",
       "        text-align: right;\n",
       "    }\n",
       "</style>\n",
       "<table border=\"1\" class=\"dataframe\">\n",
       "  <thead>\n",
       "    <tr style=\"text-align: right;\">\n",
       "      <th></th>\n",
       "      <th>TicketId</th>\n",
       "      <th>Body</th>\n",
       "      <th>Embeddings</th>\n",
       "    </tr>\n",
       "  </thead>\n",
       "  <tbody>\n",
       "    <tr>\n",
       "      <th>0</th>\n",
       "      <td>29019</td>\n",
       "      <td>i belive ticket# 48099 (animal adoption websit...</td>\n",
       "      <td>[-0.03223938122391701, -0.0068447222001850605,...</td>\n",
       "    </tr>\n",
       "    <tr>\n",
       "      <th>1</th>\n",
       "      <td>29019</td>\n",
       "      <td>i did a discover on image-svr and have found t...</td>\n",
       "      <td>[-0.03919854387640953, 0.007493453565984964, -...</td>\n",
       "    </tr>\n",
       "    <tr>\n",
       "      <th>2</th>\n",
       "      <td>29019</td>\n",
       "      <td>internal is the last one i need to migrate.</td>\n",
       "      <td>[-0.04107499122619629, -0.11386138200759888, -...</td>\n",
       "    </tr>\n",
       "    <tr>\n",
       "      <th>3</th>\n",
       "      <td>29019</td>\n",
       "      <td>intranet not internal!, internal is the new se...</td>\n",
       "      <td>[0.03069273941218853, -0.11733108758926392, 0....</td>\n",
       "    </tr>\n",
       "    <tr>\n",
       "      <th>4</th>\n",
       "      <td>29019</td>\n",
       "      <td>wrong again inside is the new intranet server.</td>\n",
       "      <td>[0.037129368633031845, -0.07466436177492142, 0...</td>\n",
       "    </tr>\n",
       "    <tr>\n",
       "      <th>5</th>\n",
       "      <td>29019</td>\n",
       "      <td>i downloaded the wwwroot folder from intranet ...</td>\n",
       "      <td>[0.11892378330230713, -0.07863740622997284, -0...</td>\n",
       "    </tr>\n",
       "    <tr>\n",
       "      <th>6</th>\n",
       "      <td>29019</td>\n",
       "      <td>i got the files copied over to `inside` server...</td>\n",
       "      <td>[-0.032731834799051285, -0.007992803119122982,...</td>\n",
       "    </tr>\n",
       "    <tr>\n",
       "      <th>7</th>\n",
       "      <td>29019</td>\n",
       "      <td>broken url:  http://inside.mi.ingham.org/polic...</td>\n",
       "      <td>[-0.10142028331756592, 0.016444306820631027, 0...</td>\n",
       "    </tr>\n",
       "    <tr>\n",
       "      <th>8</th>\n",
       "      <td>29019</td>\n",
       "      <td>scanned and found some broken images:http://in...</td>\n",
       "      <td>[-0.04972309619188309, 0.00941333919763565, 0....</td>\n",
       "    </tr>\n",
       "  </tbody>\n",
       "</table>\n",
       "</div>"
      ],
      "text/plain": [
       "   TicketId                                               Body   \n",
       "0     29019  i belive ticket# 48099 (animal adoption websit...  \\\n",
       "1     29019  i did a discover on image-svr and have found t...   \n",
       "2     29019        internal is the last one i need to migrate.   \n",
       "3     29019  intranet not internal!, internal is the new se...   \n",
       "4     29019     wrong again inside is the new intranet server.   \n",
       "5     29019  i downloaded the wwwroot folder from intranet ...   \n",
       "6     29019  i got the files copied over to `inside` server...   \n",
       "7     29019  broken url:  http://inside.mi.ingham.org/polic...   \n",
       "8     29019  scanned and found some broken images:http://in...   \n",
       "\n",
       "                                          Embeddings  \n",
       "0  [-0.03223938122391701, -0.0068447222001850605,...  \n",
       "1  [-0.03919854387640953, 0.007493453565984964, -...  \n",
       "2  [-0.04107499122619629, -0.11386138200759888, -...  \n",
       "3  [0.03069273941218853, -0.11733108758926392, 0....  \n",
       "4  [0.037129368633031845, -0.07466436177492142, 0...  \n",
       "5  [0.11892378330230713, -0.07863740622997284, -0...  \n",
       "6  [-0.032731834799051285, -0.007992803119122982,...  \n",
       "7  [-0.10142028331756592, 0.016444306820631027, 0...  \n",
       "8  [-0.04972309619188309, 0.00941333919763565, 0....  "
      ]
     },
     "execution_count": 114,
     "metadata": {},
     "output_type": "execute_result"
    }
   ],
   "source": [
    "my_tickets.head(9)"
   ]
  },
  {
   "cell_type": "code",
   "execution_count": 115,
   "id": "5603755a-2131-46ca-bc8a-7629a77414bb",
   "metadata": {
    "tags": []
   },
   "outputs": [],
   "source": [
    "# Save the DataFrame to a pickle file\n",
    "my_tickets.to_pickle(\"my_comments_embeddings.pkl\")"
   ]
  },
  {
   "cell_type": "code",
   "execution_count": null,
   "id": "c2f6cf78-13bd-4053-b057-c29be55189cf",
   "metadata": {},
   "outputs": [],
   "source": []
  }
 ],
 "metadata": {
  "kernelspec": {
   "display_name": "Python 3 (ipykernel)",
   "language": "python",
   "name": "python3"
  },
  "language_info": {
   "codemirror_mode": {
    "name": "ipython",
    "version": 3
   },
   "file_extension": ".py",
   "mimetype": "text/x-python",
   "name": "python",
   "nbconvert_exporter": "python",
   "pygments_lexer": "ipython3",
   "version": "3.11.3"
  }
 },
 "nbformat": 4,
 "nbformat_minor": 5
}
