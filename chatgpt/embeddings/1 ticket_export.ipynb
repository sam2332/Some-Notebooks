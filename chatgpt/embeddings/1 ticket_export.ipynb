{
 "cells": [
  {
   "cell_type": "code",
   "execution_count": null,
   "id": "c794d251-7523-418c-9c68-7069040fd8d1",
   "metadata": {
    "tags": []
   },
   "outputs": [],
   "source": [
    "import keyring        \n",
    "import pymssql\n",
    "from contextlib import contextmanager\n",
    "import pandas as pd"
   ]
  },
  {
   "cell_type": "code",
   "execution_count": null,
   "id": "604932e3-9d36-4c98-9a59-584248da4d28",
   "metadata": {
    "tags": []
   },
   "outputs": [],
   "source": [
    "@contextmanager\n",
    "def GetDBConnection():\n",
    "    server = 'ITSMDB'\n",
    "    database = 'BSC_4_0'\n",
    "    username = 'ingham-county\\\\srudloff'  # Format: DOMAIN\\\\username\n",
    "    password = keyring.get_password(\"VPN_Ingham-County\",keyring.get_password(\"VPN_Ingham-County\",'USER'))\n",
    "\n",
    "    # Connect to the database\n",
    "    conn = pymssql.connect(server, username, password, database,as_dict=True)\n",
    "\n",
    "    cursor = conn.cursor()\n",
    "    try:\n",
    "        yield cursor\n",
    "    finally:\n",
    "        conn.close()"
   ]
  },
  {
   "cell_type": "code",
   "execution_count": null,
   "id": "24250be7-c4aa-4670-bd58-0d3b94a30921",
   "metadata": {
    "tags": []
   },
   "outputs": [],
   "source": [
    "with GetDBConnection() as cursor:\n",
    "    sql = \"\"\"\n",
    "    SELECT [Id] FROM [BSC_4_0].[dbo].[AbpUsers] where UserName like '%Rudloff%'\n",
    "    \"\"\"\n",
    "    cursor.execute(sql)\n",
    "    userid = cursor.fetchone()['Id']\n",
    "userid"
   ]
  },
  {
   "cell_type": "code",
   "execution_count": null,
   "id": "579c3ff9-4399-44f4-9ad7-864b4e0fcdcc",
   "metadata": {
    "tags": []
   },
   "outputs": [],
   "source": [
    "def findTicketsAssigned(uid):\n",
    "    with GetDBConnection() as cursor:\n",
    "        sql = \"\"\"\n",
    "        SELECT\n",
    "        [Id],\n",
    "        [Title],\n",
    "        [Description]\n",
    "        FROM [Tickets] where AgentId = %s\n",
    "        \"\"\"\n",
    "        cursor.execute(sql, (uid))\n",
    "        return cursor.fetchall()\n",
    "my_tickets = findTicketsAssigned(userid)\n",
    "len(my_tickets)\n",
    "file_path = 'my_tickets.csv'\n",
    "df.to_csv(file_path, index=False)"
   ]
  },
  {
   "cell_type": "code",
   "execution_count": null,
   "id": "applicable-sally",
   "metadata": {
    "tags": []
   },
   "outputs": [],
   "source": [
    "def SearchComments(keyword):\n",
    "    with GetDBConnection() as cursor:\n",
    "        sql = \"\"\"\n",
    "        SELECT\n",
    "        [TicketId],\n",
    "        [Body]\n",
    "        FROM [Comments]\n",
    "        where Body like %s\n",
    "        \"\"\"\n",
    "        cursor.execute(sql, keyword)\n",
    "        returnzz cursor.fetchall()"
   ]
  },
  {
   "cell_type": "code",
   "execution_count": null,
   "id": "scientific-daniel",
   "metadata": {
    "tags": []
   },
   "outputs": [],
   "source": [
    "for i in findTicketByKeyword(\"%Malware%\"):\n",
    "    print(f\"{i['Id']}: {i['Title']}\")"
   ]
  },
  {
   "cell_type": "code",
   "execution_count": null,
   "id": "ecological-visiting",
   "metadata": {
    "tags": []
   },
   "outputs": [],
   "source": [
    "for i in SearchComments(\"%Rudloff%\"):\n",
    "    print(f\"{i['TicketId']}: {i['Body']}\")"
   ]
  },
  {
   "cell_type": "code",
   "execution_count": null,
   "id": "581aabf7-6084-4c7b-ab56-9af7ff425e49",
   "metadata": {
    "tags": []
   },
   "outputs": [],
   "source": [
    "with GetDBConnection() as cursor:\n",
    "    sql = \"\"\"\n",
    "    SELECT\n",
    "    [Id],\n",
    "    [Title],\n",
    "    [Description]\n",
    "    FROM [Tickets]\n",
    "    \"\"\"\n",
    "    cursor.execute(sql)\n",
    "    all_tickets =  cursor.fetchall()"
   ]
  },
  {
   "cell_type": "code",
   "execution_count": null,
   "id": "112b98f1-8685-4032-853d-f4c03bda3b9d",
   "metadata": {
    "tags": []
   },
   "outputs": [],
   "source": [
    "len(all_tickets)"
   ]
  },
  {
   "cell_type": "code",
   "execution_count": null,
   "id": "9a4842cd-c44b-494b-9160-70a6e47e1442",
   "metadata": {
    "tags": []
   },
   "outputs": [],
   "source": [
    "df = pd.DataFrame(all_tickets)"
   ]
  },
  {
   "cell_type": "code",
   "execution_count": null,
   "id": "db0f9352-0f63-4df2-bf71-b57d703b667f",
   "metadata": {
    "tags": []
   },
   "outputs": [],
   "source": [
    "# Save DataFrame to a CSV file\n",
    "file_path = 'all_tickets.csv'\n",
    "df.to_csv(file_path, index=False)"
   ]
  },
  {
   "cell_type": "code",
   "execution_count": null,
   "id": "9df70e9d-124f-4c40-9a2d-3d3e4bc1c55c",
   "metadata": {
    "tags": []
   },
   "outputs": [],
   "source": [
    "with GetDBConnection() as cursor:\n",
    "    sql = \"\"\"\n",
    "    SELECT\n",
    "    [TicketId],\n",
    "    [Body]\n",
    "    FROM [Comments]\n",
    "    \"\"\"\n",
    "    cursor.execute(sql)\n",
    "    data = cursor.fetchall()"
   ]
  },
  {
   "cell_type": "code",
   "execution_count": null,
   "id": "5b0b7fce-f376-4e4b-bf5c-15cb865a7f51",
   "metadata": {
    "tags": []
   },
   "outputs": [],
   "source": [
    "len(data)"
   ]
  },
  {
   "cell_type": "code",
   "execution_count": null,
   "id": "858948f6-97f8-4dfd-9197-c5eea8017538",
   "metadata": {
    "tags": []
   },
   "outputs": [],
   "source": [
    "import pandas as pd\n",
    "df = pd.DataFrame(data)\n",
    "file_path = 'comments.csv'\n",
    "df.to_csv(file_path, index=False)"
   ]
  },
  {
   "cell_type": "code",
   "execution_count": null,
   "id": "8e731da4-395f-4c5b-aa66-bc505036b8b2",
   "metadata": {},
   "outputs": [],
   "source": []
  }
 ],
 "metadata": {
  "kernelspec": {
   "display_name": "Python 3 (ipykernel)",
   "language": "python",
   "name": "python3"
  },
  "language_info": {
   "codemirror_mode": {
    "name": "ipython",
    "version": 3
   },
   "file_extension": ".py",
   "mimetype": "text/x-python",
   "name": "python",
   "nbconvert_exporter": "python",
   "pygments_lexer": "ipython3",
   "version": "3.11.3"
  }
 },
 "nbformat": 4,
 "nbformat_minor": 5
}
