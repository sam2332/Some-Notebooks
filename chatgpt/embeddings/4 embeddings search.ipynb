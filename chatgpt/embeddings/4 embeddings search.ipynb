{
 "cells": [
  {
   "cell_type": "code",
   "execution_count": null,
   "id": "bcb70c77-5b1e-4ca6-ba53-873d4cb90055",
   "metadata": {
    "tags": []
   },
   "outputs": [],
   "source": [
    "from sentence_transformers import SentenceTransformer\n",
    "from sklearn.metrics.pairwise import cosine_similarity\n",
    "import numpy as np\n",
    "import pandas as pd\n"
   ]
  },
  {
   "cell_type": "code",
   "execution_count": null,
   "id": "4a224242-8a7a-4d29-a36d-65e302a95830",
   "metadata": {
    "tags": []
   },
   "outputs": [],
   "source": [
    "df = pd.read_pickle(\"all_tickets_embeddings.pkl\")"
   ]
  },
  {
   "cell_type": "code",
   "execution_count": null,
   "id": "013a2e41-4e5c-4095-b8c4-afc7d450849d",
   "metadata": {
    "tags": []
   },
   "outputs": [],
   "source": [
    "df.head(2)"
   ]
  },
  {
   "cell_type": "code",
   "execution_count": null,
   "id": "55f0a7cf-07af-4525-9d58-c55390a6a60f",
   "metadata": {
    "tags": []
   },
   "outputs": [],
   "source": [
    "\n",
    "# Load the model\n",
    "model = SentenceTransformer('all-MiniLM-L6-v2')\n",
    "\n",
    "# Convert the embeddings into a 2D numpy array\n",
    "embeddings = np.vstack(df['Embeddings'].values)\n",
    "\n",
    "# New query sentence\n",
    "query = \"setup printer\"\n",
    "\n",
    "# Generate embedding for the query\n",
    "query_embedding = model.encode([query])[0]\n",
    "\n",
    "# Compute cosine similarity between the query embedding and each sentence embedding\n",
    "similarities = cosine_similarity([query_embedding], embeddings)\n",
    "\n",
    "# Get the indices of the top 5 most similar sentences\n",
    "top_5_indices = np.argsort(similarities[0])[-5:][::-1]\n",
    "\n",
    "# Print the most similar sentences\n",
    "for index in top_5_indices:\n",
    "    print(f\"Sentence: {df['Title'].iloc[index]}, Similarity: {similarities[0][index]}\")"
   ]
  },
  {
   "cell_type": "code",
   "execution_count": null,
   "id": "53dd6675-20b1-421d-b54c-886e068d7c40",
   "metadata": {},
   "outputs": [],
   "source": []
  }
 ],
 "metadata": {
  "kernelspec": {
   "display_name": "Python 3 (ipykernel)",
   "language": "python",
   "name": "python3"
  },
  "language_info": {
   "codemirror_mode": {
    "name": "ipython",
    "version": 3
   },
   "file_extension": ".py",
   "mimetype": "text/x-python",
   "name": "python",
   "nbconvert_exporter": "python",
   "pygments_lexer": "ipython3",
   "version": "3.11.3"
  }
 },
 "nbformat": 4,
 "nbformat_minor": 5
}
