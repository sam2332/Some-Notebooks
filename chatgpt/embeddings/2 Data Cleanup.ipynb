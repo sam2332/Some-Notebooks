{
 "cells": [
  {
   "cell_type": "code",
   "execution_count": null,
   "id": "9d21c793-d22c-4735-8f14-f52e666c3a50",
   "metadata": {
    "tags": []
   },
   "outputs": [],
   "source": [
    "import pandas as pd"
   ]
  },
  {
   "cell_type": "code",
   "execution_count": null,
   "id": "606583ac-8c3d-4296-80f3-727b32d64d47",
   "metadata": {
    "tags": []
   },
   "outputs": [],
   "source": [
    "tickets = pd.read_csv('all_tickets.csv')"
   ]
  },
  {
   "cell_type": "code",
   "execution_count": null,
   "id": "8f8ef129-737e-4049-9e2b-b784b7be10e7",
   "metadata": {
    "tags": []
   },
   "outputs": [],
   "source": [
    "tickets.tail(15)"
   ]
  },
  {
   "cell_type": "code",
   "execution_count": null,
   "id": "fa45212e-8894-4746-81b4-ae0d3e4567fa",
   "metadata": {
    "tags": []
   },
   "outputs": [],
   "source": [
    "len(tickets)"
   ]
  },
  {
   "cell_type": "code",
   "execution_count": null,
   "id": "c38bfcea-0a3a-4c3e-ba93-6fc66523eab8",
   "metadata": {
    "tags": []
   },
   "outputs": [],
   "source": [
    "from bs4 import BeautifulSoup\n",
    "def extractonlytext(text):\n",
    "    return BeautifulSoup(str(text)).text"
   ]
  },
  {
   "cell_type": "code",
   "execution_count": null,
   "id": "e2f6ce27-5428-4c9f-bd7c-35790b8aae7e",
   "metadata": {
    "tags": []
   },
   "outputs": [],
   "source": [
    "tickets['Description'] = tickets['Description'].apply(extractonlytext)"
   ]
  },
  {
   "cell_type": "code",
   "execution_count": null,
   "id": "6f8a6d4d-9468-4cdb-8272-9b0e80f2afa4",
   "metadata": {
    "tags": []
   },
   "outputs": [],
   "source": [
    "autoremove=[\"Requester (If other than yourself)::\",\"\\n\",\"\\r\"]\n",
    "def cleanUp(text):\n",
    "    for item in autoremove:\n",
    "        text = text.replace(item,' ')\n",
    "    return text.lower().strip()"
   ]
  },
  {
   "cell_type": "code",
   "execution_count": null,
   "id": "601200ca-16e7-4fdc-b949-aa19ab9dc6a1",
   "metadata": {
    "tags": []
   },
   "outputs": [],
   "source": [
    "tickets['Description'] = tickets['Description'].apply(cleanUp)"
   ]
  },
  {
   "cell_type": "code",
   "execution_count": null,
   "id": "9cbe893c-bdba-4f62-8c49-9fbb66634560",
   "metadata": {
    "tags": []
   },
   "outputs": [],
   "source": [
    "tickets.tail(15)"
   ]
  },
  {
   "cell_type": "code",
   "execution_count": null,
   "id": "53fee8f2-2f5f-421d-aaad-5d2484537115",
   "metadata": {
    "tags": []
   },
   "outputs": [],
   "source": [
    "tickets.to_csv(\"all_tickets_cleaned.csv\",index=False)"
   ]
  },
  {
   "cell_type": "code",
   "execution_count": null,
   "id": "09ff0f23-4593-4292-bb17-2b1c7c6bcce3",
   "metadata": {},
   "outputs": [],
   "source": []
  }
 ],
 "metadata": {
  "kernelspec": {
   "display_name": "Python 3 (ipykernel)",
   "language": "python",
   "name": "python3"
  },
  "language_info": {
   "codemirror_mode": {
    "name": "ipython",
    "version": 3
   },
   "file_extension": ".py",
   "mimetype": "text/x-python",
   "name": "python",
   "nbconvert_exporter": "python",
   "pygments_lexer": "ipython3",
   "version": "3.11.3"
  }
 },
 "nbformat": 4,
 "nbformat_minor": 5
}
