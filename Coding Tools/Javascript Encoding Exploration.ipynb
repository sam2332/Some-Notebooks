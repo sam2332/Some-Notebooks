{
 "cells": [
  {
   "cell_type": "code",
   "execution_count": 95,
   "id": "97fb58dd-bfe3-4fda-aa05-a031c6b0c6f1",
   "metadata": {},
   "outputs": [],
   "source": [
    "from base64 import b64encode"
   ]
  },
  {
   "cell_type": "code",
   "execution_count": 75,
   "id": "80bde03b-45b1-4c42-a7ca-4a6bda602d7d",
   "metadata": {},
   "outputs": [],
   "source": [
    "import jinja2\n",
    "import json\n",
    "def jinga2TemplateString(TEMPLATE_STRING, args={}):\n",
    "    return jinja2.Environment(loader=jinja2.BaseLoader).from_string(TEMPLATE_STRING).render(**args)"
   ]
  },
  {
   "cell_type": "code",
   "execution_count": 76,
   "id": "48768f0a-1563-42d3-96b1-9a77dea9ab9e",
   "metadata": {},
   "outputs": [],
   "source": [
    "self_execution_template  = \"\"\"(function(){\n",
    "{{ content }}\n",
    "})()\"\"\""
   ]
  },
  {
   "cell_type": "markdown",
   "id": "6f0cdacc-f506-40a1-ad71-71f1d457385b",
   "metadata": {},
   "source": [
    "# Lookup Array\n",
    "This is a method i was working on but its not the best"
   ]
  },
  {
   "cell_type": "code",
   "execution_count": 77,
   "id": "e7e7aabb-c2fe-4d7c-9a1e-4c3d8b0a2266",
   "metadata": {},
   "outputs": [],
   "source": [
    "code_template  =\"\"\"\n",
    "let e = Array.from(Array(95)).map((e, i) => i + 32).map((x) => String.fromCharCode(x));\n",
    "let d = {{code}};\n",
    "let o = '';\n",
    "for (let i = 0; i < d.length; i++){\n",
    "o+= e[d[i]];\n",
    "};\n",
    "console.log(o);\n",
    "window[{% for c in exec_cmd %}e[{{c}}]+{% endfor %}''](o);\n",
    "\"\"\".strip()"
   ]
  },
  {
   "cell_type": "code",
   "execution_count": 117,
   "id": "b102c210-3616-45b0-b81e-ce891a52cfb4",
   "metadata": {},
   "outputs": [],
   "source": [
    "start = 32\n",
    "end = 32 + 95\n",
    "e = [chr(c) for c in range(start, end)]"
   ]
  },
  {
   "cell_type": "code",
   "execution_count": 118,
   "id": "1a3b547f-cb31-44ff-be52-4b0fa89e5834",
   "metadata": {},
   "outputs": [],
   "source": [
    "command = 'eval'\n",
    "exec_cmd = [e.index(c) for c in list(command)]"
   ]
  },
  {
   "cell_type": "code",
   "execution_count": 119,
   "id": "824b2213-c33b-488a-834e-bd053b27f41e",
   "metadata": {},
   "outputs": [],
   "source": [
    "code = \"\"\"\n",
    "alert(\"This is powerful.\")\n",
    "\"\"\""
   ]
  },
  {
   "cell_type": "code",
   "execution_count": 120,
   "id": "fe77074d-0840-418e-9396-0229d76681d4",
   "metadata": {},
   "outputs": [],
   "source": [
    "def encode_script(code):\n",
    "    out = []\n",
    "    for letter in list(code.strip()):\n",
    "        out.append(e.index(letter))\n",
    "    return out"
   ]
  },
  {
   "cell_type": "code",
   "execution_count": 121,
   "id": "7ef018ae-6a3e-4afe-90ff-455f221a25f6",
   "metadata": {},
   "outputs": [
    {
     "data": {
      "text/plain": [
       "'[65, 76, 69, 82, 84, 8, 2, 52, 72, 73, 83, 0, 73, 83, 0, 80, 79, 87, 69, 82, 70, 85, 76, 14, 2, 9]'"
      ]
     },
     "execution_count": 121,
     "metadata": {},
     "output_type": "execute_result"
    }
   ],
   "source": [
    "out = []\n",
    "for letter in list(code.strip()):\n",
    "    out.append(e.index(letter))\n",
    "json.dumps(out)"
   ]
  },
  {
   "cell_type": "code",
   "execution_count": 122,
   "id": "3e5fc1a5-4cc9-4982-9797-5cb93cfc35e9",
   "metadata": {},
   "outputs": [
    {
     "name": "stdout",
     "output_type": "stream",
     "text": [
      "let e = Array.from(Array(95)).map((e, i) => i + 32).map((x) => String.fromCharCode(x));\n",
      "let d = [65, 76, 69, 82, 84, 8, 2, 52, 72, 73, 83, 0, 73, 83, 0, 80, 79, 87, 69, 82, 70, 85, 76, 14, 2, 9];\n",
      "let o = '';\n",
      "for (let i = 0; i < d.length; i++){\n",
      "o+= e[d[i]];\n",
      "};\n",
      "console.log(o);\n",
      "window[e[69]+e[86]+e[65]+e[76]+''](o);\n"
     ]
    }
   ],
   "source": [
    "out = jinga2TemplateString(code_template,{'code':json.dumps(out),'exec_cmd':exec_cmd})\n",
    "print(out)"
   ]
  },
  {
   "cell_type": "code",
   "execution_count": 123,
   "id": "5fbdc0cd-4dbc-4dad-a875-e889c09c40ea",
   "metadata": {},
   "outputs": [
    {
     "name": "stdout",
     "output_type": "stream",
     "text": [
      "(function(){\n",
      "let e = Array.from(Array(95)).map((e, i) => i + 32).map((x) => String.fromCharCode(x));\n",
      "let d = [65, 76, 69, 82, 84, 8, 2, 52, 72, 73, 83, 0, 73, 83, 0, 80, 79, 87, 69, 82, 70, 85, 76, 14, 2, 9];\n",
      "let o = '';\n",
      "for (let i = 0; i < d.length; i++){\n",
      "o+= e[d[i]];\n",
      "};\n",
      "console.log(o);\n",
      "window[e[69]+e[86]+e[65]+e[76]+''](o);\n",
      "})()\n"
     ]
    }
   ],
   "source": [
    "out = jinga2TemplateString(self_execution_template,{'content':out})\n",
    "print(out)"
   ]
  },
  {
   "cell_type": "code",
   "execution_count": 124,
   "id": "deafbc7f-32f4-4807-857c-ce21f4501197",
   "metadata": {},
   "outputs": [
    {
     "data": {
      "text/plain": [
       "\"(function(){ let e=Array.from(Array(95)).map((e,i) => i + 32).map((x) => String.fromCharCode(x)); let d=[65,76,69,82,84,8,2,52,72,73,83,0,73,83,0,80,79,87,69,82,70,85,76,14,2,9]; let o=''; for (let i=0; i < d.length; i++){ o+= e[d[i]]; }; console.log(o); window[e[69]+e[86]+e[65]+e[76]+''](o); })()\""
      ]
     },
     "execution_count": 124,
     "metadata": {},
     "output_type": "execute_result"
    }
   ],
   "source": [
    "out = out.replace(\"\\t\",' ').replace(\"\\n\",' ').replace('  ',' ').replace(', ',',').replace(' = ','=')\n",
    "out"
   ]
  },
  {
   "cell_type": "raw",
   "id": "70c1813d-33ba-41b9-a428-4a8484b3f5c8",
   "metadata": {},
   "source": [
    "var _0x5377=[\n",
    "    \"\\x48\\x65\\x6C\\x6C\\x6F\\x20\\x57\\x6F\\x72\\x6C\\x64\\x21\"\n",
    "];\n",
    "var a=_0x5377[0];\n",
    "function MsgBox(_0x82a8x3){\n",
    "    alert(_0x82a8x3);\n",
    "};\n",
    "MsgBox(a);"
   ]
  },
  {
   "cell_type": "code",
   "execution_count": 137,
   "id": "63030ca5-eda9-444b-bddb-676a702ce5f3",
   "metadata": {},
   "outputs": [
    {
     "name": "stdout",
     "output_type": "stream",
     "text": [
      "dmFyIGEgPSAiSGVsbG8gIjsKdmFyIGIgPSAiV29ybGQhIjsKdmFyIGMgPWErYjsKYWxlcnQoYyk7\n",
      "\n",
      "['d', 'm', 'F', 'y', 'I', 'G', 'E', 'g', 'P', 'S', 'A', 'i', 'S', 'G', 'V', 's', 'b', 'G', '8', 'g', 'I', 'j', 's', 'K', 'd', 'm', 'F', 'y', 'I', 'G', 'I', 'g', 'P', 'S', 'A', 'i', 'V', '2', '9', 'y', 'b', 'G', 'Q', 'h', 'I', 'j', 's', 'K', 'd', 'm', 'F', 'y', 'I', 'G', 'M', 'g', 'P', 'W', 'E', 'r', 'Y', 'j', 's', 'K', 'Y', 'W', 'x', 'l', 'c', 'n', 'Q', 'o', 'Y', 'y', 'k', '7']\n",
      "\n",
      "['0x64', '0x6d', '0x46', '0x79', '0x49', '0x47', '0x45', '0x67', '0x50', '0x53', '0x41', '0x69', '0x53', '0x47', '0x56', '0x73', '0x62', '0x47', '0x38', '0x67', '0x49', '0x6a', '0x73', '0x4b', '0x64', '0x6d', '0x46', '0x79', '0x49', '0x47', '0x49', '0x67', '0x50', '0x53', '0x41', '0x69', '0x56', '0x32', '0x39', '0x79', '0x62', '0x47', '0x51', '0x68', '0x49', '0x6a', '0x73', '0x4b', '0x64', '0x6d', '0x46', '0x79', '0x49', '0x47', '0x4d', '0x67', '0x50', '0x57', '0x45', '0x72', '0x59', '0x6a', '0x73', '0x4b', '0x59', '0x57', '0x78', '0x6c', '0x63', '0x6e', '0x51', '0x6f', '0x59', '0x79', '0x6b', '0x37']\n",
      "\n",
      "['\\\\x64', '\\\\x6d', '\\\\x46', '\\\\x79', '\\\\x49', '\\\\x47', '\\\\x45', '\\\\x67', '\\\\x50', '\\\\x53', '\\\\x41', '\\\\x69', '\\\\x53', '\\\\x47', '\\\\x56', '\\\\x73', '\\\\x62', '\\\\x47', '\\\\x38', '\\\\x67', '\\\\x49', '\\\\x6a', '\\\\x73', '\\\\x4b', '\\\\x64', '\\\\x6d', '\\\\x46', '\\\\x79', '\\\\x49', '\\\\x47', '\\\\x49', '\\\\x67', '\\\\x50', '\\\\x53', '\\\\x41', '\\\\x69', '\\\\x56', '\\\\x32', '\\\\x39', '\\\\x79', '\\\\x62', '\\\\x47', '\\\\x51', '\\\\x68', '\\\\x49', '\\\\x6a', '\\\\x73', '\\\\x4b', '\\\\x64', '\\\\x6d', '\\\\x46', '\\\\x79', '\\\\x49', '\\\\x47', '\\\\x4d', '\\\\x67', '\\\\x50', '\\\\x57', '\\\\x45', '\\\\x72', '\\\\x59', '\\\\x6a', '\\\\x73', '\\\\x4b', '\\\\x59', '\\\\x57', '\\\\x78', '\\\\x6c', '\\\\x63', '\\\\x6e', '\\\\x51', '\\\\x6f', '\\\\x59', '\\\\x79', '\\\\x6b', '\\\\x37']\n",
      "\n",
      "\\x64\\x6d\\x46\\x79\\x49\\x47\\x45\\x67\\x50\\x53\\x41\\x69\\x53\\x47\\x56\\x73\\x62\\x47\\x38\\x67\\x49\\x6a\\x73\\x4b\\x64\\x6d\\x46\\x79\\x49\\x47\\x49\\x67\\x50\\x53\\x41\\x69\\x56\\x32\\x39\\x79\\x62\\x47\\x51\\x68\\x49\\x6a\\x73\\x4b\\x64\\x6d\\x46\\x79\\x49\\x47\\x4d\\x67\\x50\\x57\\x45\\x72\\x59\\x6a\\x73\\x4b\\x59\\x57\\x78\\x6c\\x63\\x6e\\x51\\x6f\\x59\\x79\\x6b\\x37\n"
     ]
    }
   ],
   "source": [
    "code = \"\"\"\n",
    "var a = \"Hello \";\n",
    "var b = \"World!\";\n",
    "var c =a+b;\n",
    "alert(c);\"\"\"\n",
    "\n",
    "code = code.strip().encode('ascii')\n",
    "string = b64encode(code).decode('ascii')\n",
    "print(string)\n",
    "print()\n",
    "string = list(string)\n",
    "print(string)\n",
    "print()\n",
    "for index, letter in enumerate(string):\n",
    "    string[index] = hex(ord(letter))\n",
    "print(string)\n",
    "print()\n",
    "\n",
    "string = [\"\\\\x\"+s.lstrip('0x') for s in string]\n",
    "print(string)\n",
    "print()\n",
    "\n",
    "out = ''.join(string)\n",
    "print(out)"
   ]
  },
  {
   "cell_type": "markdown",
   "id": "fe19dbaa-d441-4298-b2d8-95490341ad85",
   "metadata": {},
   "source": [
    "# Function Injection from encoded string\n",
    "working: Chrome\n"
   ]
  },
  {
   "cell_type": "code",
   "execution_count": 138,
   "id": "78c8eb80-84a8-4d13-9399-dc1f7e7e80ab",
   "metadata": {},
   "outputs": [
    {
     "name": "stdout",
     "output_type": "stream",
     "text": [
      "Function(atob(\"\\x64\\x6d\\x46\\x79\\x49\\x47\\x45\\x67\\x50\\x53\\x41\\x69\\x53\\x47\\x56\\x73\\x62\\x47\\x38\\x67\\x49\\x6a\\x73\\x4b\\x64\\x6d\\x46\\x79\\x49\\x47\\x49\\x67\\x50\\x53\\x41\\x69\\x56\\x32\\x39\\x79\\x62\\x47\\x51\\x68\\x49\\x6a\\x73\\x4b\\x64\\x6d\\x46\\x79\\x49\\x47\\x4d\\x67\\x50\\x57\\x45\\x72\\x59\\x6a\\x73\\x4b\\x59\\x57\\x78\\x6c\\x63\\x6e\\x51\\x6f\\x59\\x79\\x6b\\x37\"))()\n"
     ]
    }
   ],
   "source": [
    "print(jinga2TemplateString(\"\"\"Function(atob(\"{{code}}\"))()\"\"\",{'code':out}))"
   ]
  },
  {
   "cell_type": "markdown",
   "id": "2af07726-e3a8-42b0-8120-34212c70e80a",
   "metadata": {},
   "source": [
    "# Append Blob url as script to body\n",
    "Working: Chrome\n"
   ]
  },
  {
   "cell_type": "code",
   "execution_count": 139,
   "id": "87f78757-ace5-4beb-b90a-ee07dec025de",
   "metadata": {},
   "outputs": [
    {
     "name": "stdout",
     "output_type": "stream",
     "text": [
      "\n",
      "var script = document.createElement('script');\n",
      "script.type='text/javascript';\n",
      "script.src = URL.createObjectURL(new Blob([atob(\"\\x64\\x6d\\x46\\x79\\x49\\x47\\x45\\x67\\x50\\x53\\x41\\x69\\x53\\x47\\x56\\x73\\x62\\x47\\x38\\x67\\x49\\x6a\\x73\\x4b\\x64\\x6d\\x46\\x79\\x49\\x47\\x49\\x67\\x50\\x53\\x41\\x69\\x56\\x32\\x39\\x79\\x62\\x47\\x51\\x68\\x49\\x6a\\x73\\x4b\\x64\\x6d\\x46\\x79\\x49\\x47\\x4d\\x67\\x50\\x57\\x45\\x72\\x59\\x6a\\x73\\x4b\\x59\\x57\\x78\\x6c\\x63\\x6e\\x51\\x6f\\x59\\x79\\x6b\\x37\")]));\n",
      "document.body.appendChild(script);\n"
     ]
    }
   ],
   "source": [
    "print(jinga2TemplateString(\"\"\"\n",
    "var script = document.createElement('script');\n",
    "script.type='text/javascript';\n",
    "script.src = URL.createObjectURL(new Blob([atob(\"{{code}}\")]));\n",
    "document.body.appendChild(script);\n",
    "\"\"\",{'code':out}))"
   ]
  },
  {
   "cell_type": "markdown",
   "id": "17e106f8-bab8-43a1-bdbf-41456df84b39",
   "metadata": {},
   "source": [
    "# Service Worker Blob \n",
    "Not Working in: Google Chrome"
   ]
  },
  {
   "cell_type": "code",
   "execution_count": 140,
   "id": "c973ef8b-ad98-41ee-bb7c-b2abaf7bac68",
   "metadata": {},
   "outputs": [
    {
     "name": "stdout",
     "output_type": "stream",
     "text": [
      "\n",
      "var url= URL.createObjectURL(new Blob([atob(\"\\x64\\x6d\\x46\\x79\\x49\\x47\\x45\\x67\\x50\\x53\\x41\\x69\\x53\\x47\\x56\\x73\\x62\\x47\\x38\\x67\\x49\\x6a\\x73\\x4b\\x64\\x6d\\x46\\x79\\x49\\x47\\x49\\x67\\x50\\x53\\x41\\x69\\x56\\x32\\x39\\x79\\x62\\x47\\x51\\x68\\x49\\x6a\\x73\\x4b\\x64\\x6d\\x46\\x79\\x49\\x47\\x4d\\x67\\x50\\x57\\x45\\x72\\x59\\x6a\\x73\\x4b\\x59\\x57\\x78\\x6c\\x63\\x6e\\x51\\x6f\\x59\\x79\\x6b\\x37\")]));\n",
      "navigator.serviceWorker.register(url, {\n",
      "  updateUrl: '/sw.js'\n",
      "})\n"
     ]
    }
   ],
   "source": [
    "print(jinga2TemplateString(\"\"\"\n",
    "var url= URL.createObjectURL(new Blob([atob(\"{{code}}\")]));\n",
    "navigator.serviceWorker.register(url, {\n",
    "  updateUrl: '/sw.js'\n",
    "})\n",
    "\"\"\",{'code':out}))"
   ]
  },
  {
   "cell_type": "markdown",
   "id": "307205ae-d388-4ab6-9a6c-42d381ca72d8",
   "metadata": {},
   "source": [
    "# Timeout Based\n",
    "Working"
   ]
  },
  {
   "cell_type": "code",
   "execution_count": 141,
   "id": "abe429d5-221e-42f9-95c0-82e576937142",
   "metadata": {},
   "outputs": [
    {
     "name": "stdout",
     "output_type": "stream",
     "text": [
      "\n",
      "setTimeout(new Function(atob(\"\\x64\\x6d\\x46\\x79\\x49\\x47\\x45\\x67\\x50\\x53\\x41\\x69\\x53\\x47\\x56\\x73\\x62\\x47\\x38\\x67\\x49\\x6a\\x73\\x4b\\x64\\x6d\\x46\\x79\\x49\\x47\\x49\\x67\\x50\\x53\\x41\\x69\\x56\\x32\\x39\\x79\\x62\\x47\\x51\\x68\\x49\\x6a\\x73\\x4b\\x64\\x6d\\x46\\x79\\x49\\x47\\x4d\\x67\\x50\\x57\\x45\\x72\\x59\\x6a\\x73\\x4b\\x59\\x57\\x78\\x6c\\x63\\x6e\\x51\\x6f\\x59\\x79\\x6b\\x37\")),0)\n"
     ]
    }
   ],
   "source": [
    "print(jinga2TemplateString(\"\"\"\n",
    "setTimeout(new Function(atob(\"{{code}}\")),0)\n",
    "\"\"\",{'code':out}))"
   ]
  },
  {
   "cell_type": "code",
   "execution_count": 142,
   "id": "0e84842a-a687-4453-904b-d1c81c351b3c",
   "metadata": {},
   "outputs": [
    {
     "name": "stdout",
     "output_type": "stream",
     "text": [
      "\n",
      "setTimeout(eval(atob(\"\\x64\\x6d\\x46\\x79\\x49\\x47\\x45\\x67\\x50\\x53\\x41\\x69\\x53\\x47\\x56\\x73\\x62\\x47\\x38\\x67\\x49\\x6a\\x73\\x4b\\x64\\x6d\\x46\\x79\\x49\\x47\\x49\\x67\\x50\\x53\\x41\\x69\\x56\\x32\\x39\\x79\\x62\\x47\\x51\\x68\\x49\\x6a\\x73\\x4b\\x64\\x6d\\x46\\x79\\x49\\x47\\x4d\\x67\\x50\\x57\\x45\\x72\\x59\\x6a\\x73\\x4b\\x59\\x57\\x78\\x6c\\x63\\x6e\\x51\\x6f\\x59\\x79\\x6b\\x37\")),0)\n"
     ]
    }
   ],
   "source": [
    "print(jinga2TemplateString(\"\"\"\n",
    "setTimeout(eval(atob(\"{{code}}\")),0)\n",
    "\"\"\",{'code':out}))"
   ]
  },
  {
   "cell_type": "code",
   "execution_count": 143,
   "id": "838896e7-1b47-4342-b8c1-b31ebf91a9d1",
   "metadata": {},
   "outputs": [
    {
     "name": "stdout",
     "output_type": "stream",
     "text": [
      "\n",
      "eval(atob(\"\\x64\\x6d\\x46\\x79\\x49\\x47\\x45\\x67\\x50\\x53\\x41\\x69\\x53\\x47\\x56\\x73\\x62\\x47\\x38\\x67\\x49\\x6a\\x73\\x4b\\x64\\x6d\\x46\\x79\\x49\\x47\\x49\\x67\\x50\\x53\\x41\\x69\\x56\\x32\\x39\\x79\\x62\\x47\\x51\\x68\\x49\\x6a\\x73\\x4b\\x64\\x6d\\x46\\x79\\x49\\x47\\x4d\\x67\\x50\\x57\\x45\\x72\\x59\\x6a\\x73\\x4b\\x59\\x57\\x78\\x6c\\x63\\x6e\\x51\\x6f\\x59\\x79\\x6b\\x37\"));\n"
     ]
    }
   ],
   "source": [
    "print(jinga2TemplateString(\"\"\"\n",
    "eval(atob(\"{{code}}\"));\n",
    "\"\"\",{'code':out}))"
   ]
  },
  {
   "cell_type": "code",
   "execution_count": 206,
   "id": "bb84995e-f5ff-4fb4-b0eb-1003e48e27ac",
   "metadata": {},
   "outputs": [
    {
     "name": "stdout",
     "output_type": "stream",
     "text": [
      "\n",
      "var url= URL.createObjectURL(new Blob([atob(\"\\x64\\x6d\\x46\\x79\\x49\\x47\\x45\\x67\\x50\\x53\\x41\\x69\\x53\\x47\\x56\\x73\\x62\\x47\\x38\\x67\\x49\\x6a\\x73\\x4b\\x64\\x6d\\x46\\x79\\x49\\x47\\x49\\x67\\x50\\x53\\x41\\x69\\x56\\x32\\x39\\x79\\x62\\x47\\x51\\x68\\x49\\x6a\\x73\\x4b\\x64\\x6d\\x46\\x79\\x49\\x47\\x4d\\x67\\x50\\x57\\x45\\x72\\x59\\x6a\\x73\\x4b\\x59\\x57\\x78\\x6c\\x63\\x6e\\x51\\x6f\\x59\\x79\\x6b\\x37\")],{type:'octet/stream'}));\n",
      "var myAnchor = document.createElement('a');\n",
      "myAnchor.download = 'SomeCode.js';\n",
      "myAnchor.href = url;\n",
      "myAnchor.click();\n"
     ]
    }
   ],
   "source": [
    "filename=\"SomeCode.js\"\n",
    "print(jinga2TemplateString(\"\"\"\n",
    "var url= URL.createObjectURL(new Blob([atob(\"{{code}}\")],{type:'octet/stream'}));\n",
    "var myAnchor = document.createElement('a');\n",
    "myAnchor.download = '{{filename}}';\n",
    "myAnchor.href = url;\n",
    "myAnchor.click();\n",
    "\"\"\",{'code':out,'filename':filename}))\n",
    "\n"
   ]
  },
  {
   "cell_type": "code",
   "execution_count": 176,
   "id": "6431efce-5e2f-4520-b3ce-582e3985bdea",
   "metadata": {},
   "outputs": [
    {
     "data": {
      "text/plain": [
       "'\\\\x64\\\\x6d\\\\x46\\\\x79\\\\x49\\\\x47\\\\x45\\\\x67\\\\x50\\\\x53\\\\x41\\\\x69\\\\x53\\\\x47\\\\x56\\\\x73\\\\x62\\\\x47\\\\x38\\\\x67\\\\x49\\\\x6a\\\\x73\\\\x4b\\\\x64\\\\x6d\\\\x46\\\\x79\\\\x49\\\\x47\\\\x49\\\\x67\\\\x50\\\\x53\\\\x41\\\\x69\\\\x56\\\\x32\\\\x39\\\\x79\\\\x62\\\\x47\\\\x51\\\\x68\\\\x49\\\\x6a\\\\x73\\\\x4b\\\\x64\\\\x6d\\\\x46\\\\x79\\\\x49\\\\x47\\\\x4d\\\\x67\\\\x50\\\\x57\\\\x45\\\\x72\\\\x59\\\\x6a\\\\x73\\\\x4b\\\\x59\\\\x57\\\\x78\\\\x6c\\\\x63\\\\x6e\\\\x51\\\\x6f\\\\x59\\\\x79\\\\x6b\\\\x37'"
      ]
     },
     "execution_count": 176,
     "metadata": {},
     "output_type": "execute_result"
    }
   ],
   "source": [
    "out"
   ]
  },
  {
   "cell_type": "code",
   "execution_count": 198,
   "id": "0d842f9a-bb05-4d1e-a9ea-df7c8f8838d4",
   "metadata": {},
   "outputs": [],
   "source": [
    "import random\n"
   ]
  },
  {
   "cell_type": "code",
   "execution_count": 208,
   "id": "482721ce-dc7b-485e-906f-e051dfd84402",
   "metadata": {},
   "outputs": [
    {
     "name": "stdout",
     "output_type": "stream",
     "text": [
      "var v23967 = \"\\x64\\x6d\\x46\\x79\\x49\\x47\\x45\\x67\";\n",
      "var r38128 = \"\\x50\\x53\\x41\\x69\\x53\\x47\\x56\\x73\";\n",
      "var a12836 = \"\\x62\\x47\\x38\\x67\\x49\\x6a\\x73\\x4b\";\n",
      "var v91703 = \"\\x64\\x6d\\x46\\x79\\x49\\x47\\x49\\x67\";\n",
      "var e20300 = \"\\x50\\x53\\x41\\x69\\x56\\x32\\x39\\x79\";\n",
      "var e61415 = \"\\x62\\x47\\x51\\x68\\x49\\x6a\\x73\\x4b\";\n",
      "var b39537 = \"\\x64\\x6d\\x46\\x79\\x49\\x47\\x4d\\x67\";\n",
      "var b90837 = \"\\x50\\x57\\x45\\x72\\x59\\x6a\\x73\\x4b\";\n",
      "var v69232 = \"\\x59\\x57\\x78\\x6c\\x63\\x6e\\x51\\x6f\";\n",
      "var b62768 = \"\\x59\\x79\\x6b\\x37\";\n",
      "var code = atob(v23967+r38128+a12836+v91703+e20300+e61415+b39537+b90837+v69232+b62768+\"\");\n"
     ]
    }
   ],
   "source": [
    "used = []\n",
    "script = []\n",
    "for index,start in enumerate(range(0,len(out),32)):\n",
    "    letter = random.choice(['p','y','r','b','v','a','z','e'])+str(random.randint(0,99999)).ljust(5,'0')\n",
    "    used.append(letter)\n",
    "    script.append(jinga2TemplateString(\"\"\"var {{letter}} = \"{{code}}\";\"\"\",{'letter':letter,'code':out[start:start+32]}))\n",
    "script.append(jinga2TemplateString(\"\"\"var code = atob({% for letter in letters %}{{letter}}+{% endfor %}\"\");\"\"\",{'letters':used}))\n",
    "print(\"\\n\".join(script))"
   ]
  },
  {
   "cell_type": "code",
   "execution_count": 181,
   "id": "3a4a36b1-682d-4dae-935c-9d04f09b4671",
   "metadata": {},
   "outputs": [
    {
     "name": "stdout",
     "output_type": "stream",
     "text": [
      "\n",
      "[][\"filter\"][\"constructor\"](atob(\"\\x64\\x6d\\x46\\x79\\x49\\x47\\x45\\x67\\x50\\x53\\x41\\x69\\x53\\x47\\x56\\x73\\x62\\x47\\x38\\x67\\x49\\x6a\\x73\\x4b\\x64\\x6d\\x46\\x79\\x49\\x47\\x49\\x67\\x50\\x53\\x41\\x69\\x56\\x32\\x39\\x79\\x62\\x47\\x51\\x68\\x49\\x6a\\x73\\x4b\\x64\\x6d\\x46\\x79\\x49\\x47\\x4d\\x67\\x50\\x57\\x45\\x72\\x59\\x6a\\x73\\x4b\\x59\\x57\\x78\\x6c\\x63\\x6e\\x51\\x6f\\x59\\x79\\x6b\\x37\"))()\n"
     ]
    }
   ],
   "source": [
    "print(jinga2TemplateString(\"\"\"\n",
    "[][\"filter\"][\"constructor\"](atob(\"{{code}}\"))()\n",
    "\"\"\",{'code':out}))"
   ]
  },
  {
   "cell_type": "markdown",
   "id": "500470b0-6a0f-4007-b773-b5e9431b7299",
   "metadata": {},
   "source": [
    "# filter Constructor\n",
    "working: chrome"
   ]
  },
  {
   "cell_type": "code",
   "execution_count": 147,
   "id": "7d69dc04-b527-4283-a58c-89feb15922c8",
   "metadata": {},
   "outputs": [
    {
     "name": "stdout",
     "output_type": "stream",
     "text": [
      "\n",
      "[][\"filter\"][\"constructor\"](atob(\"\\x64\\x6d\\x46\\x79\\x49\\x47\\x45\\x67\\x50\\x53\\x41\\x69\\x53\\x47\\x56\\x73\\x62\\x47\\x38\\x67\\x49\\x6a\\x73\\x4b\\x64\\x6d\\x46\\x79\\x49\\x47\\x49\\x67\\x50\\x53\\x41\\x69\\x56\\x32\\x39\\x79\\x62\\x47\\x51\\x68\\x49\\x6a\\x73\\x4b\\x64\\x6d\\x46\\x79\\x49\\x47\\x4d\\x67\\x50\\x57\\x45\\x72\\x59\\x6a\\x73\\x4b\\x59\\x57\\x78\\x6c\\x63\\x6e\\x51\\x6f\\x59\\x79\\x6b\\x37\"))()\n"
     ]
    }
   ],
   "source": [
    "print(jinga2TemplateString(\"\"\"\n",
    "[][\"filter\"][\"constructor\"](atob(\"{{code}}\"))()\n",
    "\"\"\",{'code':out}))"
   ]
  },
  {
   "cell_type": "code",
   "execution_count": null,
   "id": "155a723e-7a1e-4584-aaae-29069de523c3",
   "metadata": {},
   "outputs": [],
   "source": []
  }
 ],
 "metadata": {
  "kernelspec": {
   "display_name": "Python 3 (ipykernel)",
   "language": "python",
   "name": "python3"
  },
  "language_info": {
   "codemirror_mode": {
    "name": "ipython",
    "version": 3
   },
   "file_extension": ".py",
   "mimetype": "text/x-python",
   "name": "python",
   "nbconvert_exporter": "python",
   "pygments_lexer": "ipython3",
   "version": "3.8.10"
  }
 },
 "nbformat": 4,
 "nbformat_minor": 5
}
