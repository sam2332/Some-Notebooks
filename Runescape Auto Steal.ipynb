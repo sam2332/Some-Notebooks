{
 "cells": [
  {
   "cell_type": "code",
   "execution_count": null,
   "metadata": {
    "tags": []
   },
   "outputs": [],
   "source": [
    "# App https://play.google.com/store/apps/details?id=droidhang.twgame.restaurant&hl=en_US&gl=US\n",
    "\n",
    "# General Includes\n",
    "import subprocess, json,os\n",
    "from tqdm import tqdm\n",
    "from IPython.display import clear_output,display\n",
    "import time\n",
    "from pathlib import Path\n",
    "import random"
   ]
  },
  {
   "cell_type": "code",
   "execution_count": null,
   "metadata": {
    "tags": []
   },
   "outputs": [],
   "source": [
    "class StateMachine():\n",
    "    def __init__(self,name):\n",
    "        self.file = Path(f'{name}.StateMachine.json')\n",
    "        if not self.file.exists():\n",
    "            self.file.write_text(json.dumps({\n",
    "                'name': name,\n",
    "                'initialState':None,\n",
    "                'currentState':None,\n",
    "                'rules':{}\n",
    "            }))\n",
    "        self.state = json.loads(self.file.read_text())\n",
    "        if self.state['initialState'] is not None:\n",
    "            self.currentState = self.state['rules'][self.state['initialState']]\n",
    "        \n",
    "        \n",
    "    def setupInitalTo(self,name):\n",
    "        self.state['initialState'] = name\n",
    "        self.file.write_text(json.dumps(self.state))\n",
    "        self.currentState = self.state['rules'][self.state['initialState']]\n",
    "        \n",
    "    def addState(self, state_name,to):\n",
    "        self.state['rules'][state_name] = {\n",
    "            'name':state_name,\n",
    "            'to':to\n",
    "        }\n",
    "        self.file.write_text(json.dumps(self.state))\n",
    "    def resetState(self):\n",
    "        self.currentState = self.state['rules'][self.state['initialState']]\n",
    "        self.state['currentState'] = self.state['initialState']\n",
    "        self.file.write_text(json.dumps(self.state))\n",
    "        \n",
    "    def moveState(self, new_state):\n",
    "        if new_state in self.currentState['to']:\n",
    "            self.currentState = self.state['rules'][new_state]\n",
    "            self.state['currentState'] = new_state\n",
    "            self.file.write_text(json.dumps(self.state))\n",
    "        else:\n",
    "            raise Exception(\"Bad State Move\")\n",
    "    \n",
    "    "
   ]
  },
  {
   "cell_type": "code",
   "execution_count": null,
   "metadata": {
    "tags": []
   },
   "outputs": [],
   "source": [
    "test = StateMachine('Mining and Smelting')\n",
    "test.addState(\"Mine\",['DoMining','checkInventory','teleportToSmelting'])\n",
    "test.addState(\"teleportToMining\",['Mine'])\n",
    "test.addState(\"teleportToSmelting\",['Smelt'])\n",
    "test.addState(\"checkInventory\",['Mine','teleportToSmelting','Bank'])\n",
    "test.addState(\"teleportToSmelting\",['smelt',\"checkInventory\"])\n",
    "test.addState(\"Bank\",['DoBanking','teleportToMining'])\n",
    "test.addState(\"Smelt\",['DoSmelting','teleportToMining'])\n",
    "test.setupInitalTo('Mine')"
   ]
  },
  {
   "cell_type": "code",
   "execution_count": null,
   "metadata": {
    "tags": []
   },
   "outputs": [],
   "source": [
    "test.moveState('checkInventory')\n",
    "test.currentState\n",
    "test.resetState()"
   ]
  },
  {
   "cell_type": "code",
   "execution_count": null,
   "metadata": {
    "tags": []
   },
   "outputs": [],
   "source": [
    "def shell(cmd,debug=False,returns_POpen = False,close_fds=False):\n",
    "    if debug: print(cmd)\n",
    "    \n",
    "    if returns_POpen:\n",
    "        process = subprocess.Popen(cmd, close_fds=close_fds)\n",
    "        return process\n",
    "    \n",
    "    process = subprocess.run(cmd, stdout=subprocess.PIPE)\n",
    "    return process.stdout.decode('utf-8').strip().splitlines()\n",
    "\n",
    "\n",
    "def adb(cmd,debug = False,returns_POpen = False,close_fds=False):\n",
    "    # This function runs adb commands on your connected device or emulator.\n",
    "    if type(cmd) == str:\n",
    "        cmd = cmd.split(' ')\n",
    "    cmd = ['adb'] + cmd\n",
    "    return shell(\n",
    "        cmd,\n",
    "        debug=debug,\n",
    "        returns_POpen=returns_POpen,\n",
    "        close_fds=close_fds\n",
    "    )\n",
    "adb('wait-for-device')"
   ]
  },
  {
   "cell_type": "code",
   "execution_count": null,
   "metadata": {},
   "outputs": [],
   "source": []
  },
  {
   "cell_type": "code",
   "execution_count": null,
   "metadata": {},
   "outputs": [],
   "source": [
    "def FindColor(im,color,tolerence):\n",
    "    min_r = color[0]-tolerence\n",
    "    min_g = color[1]-tolerence\n",
    "    min_b = color[2]-tolerence\n",
    "\n",
    "    max_r = color[0]+tolerence\n",
    "    max_g = color[1]+tolerence\n",
    "    max_b = color[2]+tolerence\n",
    "\n",
    "    for x in range(1,im.width-1,1):\n",
    "        for y in range(1,im.height-1,1):\n",
    "            rgb = im.getpixel((x,y))\n",
    "            if (rgb[0] > min_r and rgb[0] < max_r and\n",
    "                rgb[1] > min_g and rgb[1] < max_g and\n",
    "                rgb[2] > min_b and rgb[2] < max_b\n",
    "               ):\n",
    "                yield(x,y)"
   ]
  },
  {
   "cell_type": "code",
   "execution_count": null,
   "metadata": {
    "tags": []
   },
   "outputs": [],
   "source": [
    "from PIL import Image, ImageDraw\n",
    "def pullImage():\n",
    "    adb('shell screencap -p /sdcard/screen.png')\n",
    "    adb('pull /sdcard/screen.png ./game.png')\n",
    "    adb(\"shell rm /sdcard/screen.png\")\n",
    "    im = Image.open(\"game.png\")\n",
    "    rgb_im = im.convert('RGB')\n",
    "    return rgb_im"
   ]
  },
  {
   "cell_type": "code",
   "execution_count": null,
   "metadata": {},
   "outputs": [],
   "source": [
    "def getCenter(points,area_range=5):\n",
    "    x = [p[0] for p in points]\n",
    "    y = [p[1] for p in points]\n",
    "    return (int(sum(x) / len(points))+random.randint(0-area_range,area_range), int(sum(y) / len(points))+random.randint(0-area_range,area_range))"
   ]
  },
  {
   "cell_type": "code",
   "execution_count": null,
   "metadata": {
    "tags": []
   },
   "outputs": [],
   "source": [
    "last_click = time.time()\n",
    "click_throttle = 10\n",
    "resize_ratio=0.25\n",
    "can_click = True\n",
    "color = (173,133,153)"
   ]
  },
  {
   "cell_type": "code",
   "execution_count": null,
   "metadata": {
    "tags": []
   },
   "outputs": [],
   "source": [
    "while True:\n",
    "    a = pullImage()\n",
    "    #a = a.resize((int(a.width*resize_ratio),int(a.height*resize_ratio)), Image.Resampling.LANCZOS)\n",
    "    #clear_output()\n",
    "    #display(a)\n",
    "    c = list(FindColor(a,color,10))\n",
    "    if len(c)>2:\n",
    "        center = getCenter(c)\n",
    "        if time.time()-last_click > click_throttle:\n",
    "            last_click = time.time()\n",
    "            print(center)\n",
    "            if can_click:\n",
    "                adb(f\"shell input tap {center[0]} {center[1]}\")\n",
    "                time.sleep(random.choice([2.5,7,14,2,1,0]))\n",
    "    time.sleep(5)"
   ]
  },
  {
   "cell_type": "code",
   "execution_count": null,
   "metadata": {},
   "outputs": [],
   "source": [
    "display(a)"
   ]
  },
  {
   "cell_type": "code",
   "execution_count": null,
   "metadata": {
    "tags": []
   },
   "outputs": [],
   "source": [
    "a.width"
   ]
  },
  {
   "cell_type": "code",
   "execution_count": null,
   "metadata": {
    "tags": []
   },
   "outputs": [],
   "source": [
    "a.height"
   ]
  },
  {
   "cell_type": "code",
   "execution_count": null,
   "metadata": {},
   "outputs": [],
   "source": []
  }
 ],
 "metadata": {
  "kernelspec": {
   "display_name": "Python 3 (ipykernel)",
   "language": "python",
   "name": "python3"
  },
  "language_info": {
   "codemirror_mode": {
    "name": "ipython",
    "version": 3
   },
   "file_extension": ".py",
   "mimetype": "text/x-python",
   "name": "python",
   "nbconvert_exporter": "python",
   "pygments_lexer": "ipython3",
   "version": "3.8.10"
  }
 },
 "nbformat": 4,
 "nbformat_minor": 4
}
