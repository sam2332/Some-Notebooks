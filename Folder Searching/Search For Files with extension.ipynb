{
 "cells": [
  {
   "cell_type": "code",
   "execution_count": null,
   "id": "e26ac7f1-67af-4316-818b-24f93454f35e",
   "metadata": {},
   "outputs": [],
   "source": [
    "from pathlib import Path"
   ]
  },
  {
   "cell_type": "code",
   "execution_count": null,
   "id": "d3d8008c-2d40-48a8-8752-3f912a063061",
   "metadata": {},
   "outputs": [],
   "source": [
    "p = Path(\"/home/srudloff/shares/appdev/tmp\")"
   ]
  },
  {
   "cell_type": "code",
   "execution_count": null,
   "id": "cb5f38cd-c6c6-48b4-ab69-dffdf33b7eb3",
   "metadata": {},
   "outputs": [],
   "source": [
    "p = Path(\"/media/srudloff\")"
   ]
  },
  {
   "cell_type": "code",
   "execution_count": null,
   "id": "7e294574-759d-408d-8532-312009d2914a",
   "metadata": {},
   "outputs": [],
   "source": [
    "p = Path(\"/media/srudloff/WorkShop\")"
   ]
  },
  {
   "cell_type": "code",
   "execution_count": null,
   "id": "b8e010eb-45e5-4407-af58-95bfe5aeed84",
   "metadata": {},
   "outputs": [],
   "source": [
    "p = Path(\"/TheInterface\")"
   ]
  },
  {
   "cell_type": "code",
   "execution_count": null,
   "id": "7a4eaef1-add4-4502-b95d-93980dd1b301",
   "metadata": {},
   "outputs": [],
   "source": [
    "files = list(p.glob(\"**/*.rdl\"))"
   ]
  },
  {
   "cell_type": "code",
   "execution_count": null,
   "id": "f8f43a2e-f988-40ff-b8e6-1fbef5096dc0",
   "metadata": {
    "scrolled": true,
    "tags": []
   },
   "outputs": [],
   "source": [
    "for path in files:\n",
    "    print(path)"
   ]
  },
  {
   "cell_type": "code",
   "execution_count": null,
   "id": "24f6b771-2507-4ee6-b01f-29610978bfa5",
   "metadata": {},
   "outputs": [],
   "source": []
  }
 ],
 "metadata": {
  "kernelspec": {
   "display_name": "Python 3 (ipykernel)",
   "language": "python",
   "name": "python3"
  },
  "language_info": {
   "codemirror_mode": {
    "name": "ipython",
    "version": 3
   },
   "file_extension": ".py",
   "mimetype": "text/x-python",
   "name": "python",
   "nbconvert_exporter": "python",
   "pygments_lexer": "ipython3",
   "version": "3.10.4"
  },
  "widgets": {
   "application/vnd.jupyter.widget-state+json": {
    "state": {},
    "version_major": 2,
    "version_minor": 0
   }
  }
 },
 "nbformat": 4,
 "nbformat_minor": 5
}
