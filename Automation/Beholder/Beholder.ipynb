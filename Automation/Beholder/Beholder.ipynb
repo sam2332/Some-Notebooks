{
 "cells": [
  {
   "cell_type": "code",
   "execution_count": 1,
   "id": "f61688a7-e460-4504-8445-7abe8ad104c4",
   "metadata": {},
   "outputs": [],
   "source": [
    "import json\n",
    "import os\n",
    "import random\n",
    "import subprocess\n",
    "import time\n",
    "from datetime import datetime\n",
    "from pathlib import Path\n",
    "\n",
    "import numpy\n",
    "from IPython.display import clear_output, display\n",
    "from PIL import Image, ImageDraw\n",
    "from tqdm import tqdm"
   ]
  },
  {
   "cell_type": "code",
   "execution_count": 2,
   "id": "77f97c09-8c68-4d34-802f-8f092b099920",
   "metadata": {},
   "outputs": [],
   "source": [
    "def shell(cmd, debug=False, returns_POpen=False, close_fds=False):\n",
    "    if debug:\n",
    "        print(cmd)\n",
    "\n",
    "    if returns_POpen:\n",
    "        process = subprocess.Popen(cmd, close_fds=close_fds)\n",
    "        return process\n",
    "\n",
    "    process = subprocess.run(cmd, stdout=subprocess.PIPE)\n",
    "    return process.stdout.decode(\"utf-8\").strip().splitlines()"
   ]
  },
  {
   "cell_type": "code",
   "execution_count": 3,
   "id": "8486eb3d-190b-45aa-a83c-909a85ab61c3",
   "metadata": {},
   "outputs": [
    {
     "data": {
      "text/plain": [
       "[]"
      ]
     },
     "execution_count": 3,
     "metadata": {},
     "output_type": "execute_result"
    }
   ],
   "source": [
    "def adb(cmd, debug=False, returns_POpen=False, close_fds=False):\n",
    "    # This function runs adb commands on your connected device or emulator.\n",
    "    if type(cmd) == str:\n",
    "        cmd = cmd.split(\" \")\n",
    "    cmd = [\"adb\"] + cmd\n",
    "    return shell(cmd, debug=debug, returns_POpen=returns_POpen, close_fds=close_fds)\n",
    "\n",
    "\n",
    "adb(\"wait-for-device\")"
   ]
  },
  {
   "cell_type": "code",
   "execution_count": 4,
   "id": "90258d41-202e-42f9-9e7e-5b99354b2d6c",
   "metadata": {},
   "outputs": [],
   "source": [
    "def pullPhoneScreen(resize_ratio=None, as_numpy=False, print_times=True):\n",
    "    s = time.time()\n",
    "    adb(\"shell screencap -p /sdcard/screen.png\")\n",
    "    adb(\"pull /sdcard/screen.png ./game.png\")\n",
    "    adb(\"shell rm /sdcard/screen.png\")\n",
    "    im = Image.open(\"game.png\")\n",
    "    im = im.convert(\"RGB\")\n",
    "    if resize_ratio is not None:\n",
    "        im = im.resize(\n",
    "            (int(im.width * resize_ratio), int(im.height * resize_ratio)),\n",
    "            Image.Resampling.LANCZOS,\n",
    "        )\n",
    "    if print_times:\n",
    "        print(\"pull image took \", time.time() - s)\n",
    "    if as_numpy:\n",
    "        return numpy.array(im)\n",
    "    return im\n",
    "\n",
    "\n",
    "def yieldPhoneScreen():\n",
    "    while True:\n",
    "        yield pullPhoneScreen()"
   ]
  },
  {
   "cell_type": "code",
   "execution_count": 5,
   "id": "f74a8edf-4198-46f0-9fc4-4ead9389116a",
   "metadata": {},
   "outputs": [],
   "source": [
    "def PillowToCv2(img):\n",
    "    nimg = np.array(img)\n",
    "    im = cv2.cvtColor(nimg, cv2.COLOR_RGB2BGR)\n",
    "    return im"
   ]
  },
  {
   "cell_type": "code",
   "execution_count": 18,
   "id": "230b49b0-03b2-42c1-a8fa-7dd3ef531369",
   "metadata": {},
   "outputs": [],
   "source": [
    "import cv2\n",
    "import numpy as np\n",
    "\n",
    "\n",
    "class Beholder:\n",
    "    def __init__(self, generator):\n",
    "        self.generator = generator()\n",
    "        self.matchers = []\n",
    "        self.threshhold = 0.95\n",
    "\n",
    "    def loadMatcher(self, name, filename):\n",
    "        if Path(filename).exists():\n",
    "            self.matchers.append((name, cv2.imread(filename, 0)))\n",
    "        else:\n",
    "            print(\"File is missing\")\n",
    "\n",
    "    def readNextImage(self):\n",
    "        self.image = PillowToCv2(next(self.generator))\n",
    "        self.gray = cv2.cvtColor(self.image, cv2.COLOR_BGR2GRAY)\n",
    "\n",
    "    def findMatches(self):\n",
    "        self.readNextImage()\n",
    "        matches = []\n",
    "        for name, template in self.matchers:\n",
    "            result = cv2.matchTemplate(self.gray, template, method=cv2.TM_CCOEFF_NORMED)\n",
    "            min_val, max_val, min_loc, max_loc = cv2.minMaxLoc(result)\n",
    "\n",
    "            if max_val > self.threshhold:\n",
    "                height, width = template.shape[:2]\n",
    "\n",
    "                top_left = max_loc\n",
    "                center = (top_left[0] + width / 2, top_left[1] + height / 2)\n",
    "                matches.append((name, center))\n",
    "        return matches"
   ]
  },
  {
   "cell_type": "code",
   "execution_count": 19,
   "id": "5ee88775-4fa8-445d-8015-2e0dda373250",
   "metadata": {},
   "outputs": [],
   "source": [
    "a = Beholder(yieldPhoneScreen)"
   ]
  },
  {
   "cell_type": "code",
   "execution_count": 22,
   "id": "5ed943fd-c1cd-4e60-96bf-b81594aa307c",
   "metadata": {},
   "outputs": [],
   "source": [
    "a.loadMatcher(\"Button\", \"./templates/Button.png\")\n",
    "a.loadMatcher(\"UnfinishedSmithing\", \"./templates/forge_item.png\")\n",
    "a.loadMatcher(\"FinishedArrow\", \"./templates/FinishedArrow.png\")"
   ]
  },
  {
   "cell_type": "code",
   "execution_count": 23,
   "id": "84d30d02-c527-4cbd-a210-f8510324a46e",
   "metadata": {},
   "outputs": [
    {
     "name": "stdout",
     "output_type": "stream",
     "text": [
      "pull image took  1.2242190837860107\n",
      "[('FinishedArrow', (1993.0, 891.0), -0.565473198890686, 0.9999648928642273, (977, 67), (1938, 864))]\n",
      "pull image took  1.0950653553009033\n"
     ]
    },
    {
     "ename": "KeyboardInterrupt",
     "evalue": "",
     "output_type": "error",
     "traceback": [
      "\u001b[0;31m---------------------------------------------------------------------------\u001b[0m",
      "\u001b[0;31mKeyboardInterrupt\u001b[0m                         Traceback (most recent call last)",
      "Input \u001b[0;32mIn [23]\u001b[0m, in \u001b[0;36m<cell line: 1>\u001b[0;34m()\u001b[0m\n\u001b[1;32m      1\u001b[0m \u001b[38;5;28;01mwhile\u001b[39;00m \u001b[38;5;28;01mTrue\u001b[39;00m:\n\u001b[0;32m----> 2\u001b[0m     matches \u001b[38;5;241m=\u001b[39m \u001b[43ma\u001b[49m\u001b[38;5;241;43m.\u001b[39;49m\u001b[43mfindMatches\u001b[49m\u001b[43m(\u001b[49m\u001b[43m)\u001b[49m\n\u001b[1;32m      3\u001b[0m     \u001b[38;5;28mprint\u001b[39m(matches)\n\u001b[1;32m      4\u001b[0m     time\u001b[38;5;241m.\u001b[39msleep(\u001b[38;5;241m1\u001b[39m)\n",
      "Input \u001b[0;32mIn [18]\u001b[0m, in \u001b[0;36mBeholder.findMatches\u001b[0;34m(self)\u001b[0m\n\u001b[1;32m     23\u001b[0m matches \u001b[38;5;241m=\u001b[39m []\n\u001b[1;32m     24\u001b[0m \u001b[38;5;28;01mfor\u001b[39;00m name, template \u001b[38;5;129;01min\u001b[39;00m \u001b[38;5;28mself\u001b[39m\u001b[38;5;241m.\u001b[39mmatchers:\n\u001b[0;32m---> 25\u001b[0m     result \u001b[38;5;241m=\u001b[39m \u001b[43mcv2\u001b[49m\u001b[38;5;241;43m.\u001b[39;49m\u001b[43mmatchTemplate\u001b[49m\u001b[43m(\u001b[49m\u001b[38;5;28;43mself\u001b[39;49m\u001b[38;5;241;43m.\u001b[39;49m\u001b[43mgray\u001b[49m\u001b[43m,\u001b[49m\u001b[43m \u001b[49m\u001b[43mtemplate\u001b[49m\u001b[43m,\u001b[49m\u001b[43m \u001b[49m\u001b[43mmethod\u001b[49m\u001b[38;5;241;43m=\u001b[39;49m\u001b[43mcv2\u001b[49m\u001b[38;5;241;43m.\u001b[39;49m\u001b[43mTM_CCOEFF_NORMED\u001b[49m\u001b[43m)\u001b[49m\n\u001b[1;32m     26\u001b[0m     min_val, max_val, min_loc, max_loc \u001b[38;5;241m=\u001b[39m cv2\u001b[38;5;241m.\u001b[39mminMaxLoc(result)\n\u001b[1;32m     28\u001b[0m     \u001b[38;5;28;01mif\u001b[39;00m max_val \u001b[38;5;241m>\u001b[39m \u001b[38;5;28mself\u001b[39m\u001b[38;5;241m.\u001b[39mthreshhold:\n",
      "\u001b[0;31mKeyboardInterrupt\u001b[0m: "
     ]
    }
   ],
   "source": [
    "while True:\n",
    "    matches = a.findMatches()\n",
    "    print(matches)\n",
    "    time.sleep(1)"
   ]
  },
  {
   "cell_type": "code",
   "execution_count": null,
   "id": "02487eca-61b7-4653-af47-98e2c1b30c32",
   "metadata": {},
   "outputs": [],
   "source": []
  }
 ],
 "metadata": {
  "kernelspec": {
   "display_name": "Python 3 (ipykernel)",
   "language": "python",
   "name": "python3"
  },
  "language_info": {
   "codemirror_mode": {
    "name": "ipython",
    "version": 3
   },
   "file_extension": ".py",
   "mimetype": "text/x-python",
   "name": "python",
   "nbconvert_exporter": "python",
   "pygments_lexer": "ipython3",
   "version": "3.10.4"
  },
  "widgets": {
   "application/vnd.jupyter.widget-state+json": {
    "state": {},
    "version_major": 2,
    "version_minor": 0
   }
  }
 },
 "nbformat": 4,
 "nbformat_minor": 5
}
