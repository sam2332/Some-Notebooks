{
 "cells": [
  {
   "cell_type": "code",
   "execution_count": 18,
   "id": "f61688a7-e460-4504-8445-7abe8ad104c4",
   "metadata": {},
   "outputs": [],
   "source": [
    "import json\n",
    "import os\n",
    "import random\n",
    "import subprocess\n",
    "import time\n",
    "from datetime import datetime\n",
    "from pathlib import Path\n",
    "\n",
    "import numpy\n",
    "from IPython.display import clear_output, display\n",
    "from PIL import Image, ImageDraw\n",
    "from tqdm import tqdm"
   ]
  },
  {
   "cell_type": "code",
   "execution_count": 2,
   "id": "77f97c09-8c68-4d34-802f-8f092b099920",
   "metadata": {},
   "outputs": [],
   "source": [
    "def shell(cmd, debug=False, returns_POpen=False, close_fds=False):\n",
    "    if debug:\n",
    "        print(cmd)\n",
    "\n",
    "    if returns_POpen:\n",
    "        process = subprocess.Popen(cmd, close_fds=close_fds)\n",
    "        return process\n",
    "\n",
    "    process = subprocess.run(cmd, stdout=subprocess.PIPE)\n",
    "    return process.stdout.decode(\"utf-8\").strip().splitlines()"
   ]
  },
  {
   "cell_type": "code",
   "execution_count": 7,
   "id": "8486eb3d-190b-45aa-a83c-909a85ab61c3",
   "metadata": {},
   "outputs": [
    {
     "data": {
      "text/plain": [
       "[]"
      ]
     },
     "execution_count": 7,
     "metadata": {},
     "output_type": "execute_result"
    }
   ],
   "source": [
    "def adb(cmd, debug=False, returns_POpen=False, close_fds=False):\n",
    "    # This function runs adb commands on your connected device or emulator.\n",
    "    if type(cmd) == str:\n",
    "        cmd = cmd.split(\" \")\n",
    "    cmd = [\"adb\"] + cmd\n",
    "    return shell(cmd, debug=debug, returns_POpen=returns_POpen, close_fds=close_fds)\n",
    "\n",
    "\n",
    "adb(\"wait-for-device\")"
   ]
  },
  {
   "cell_type": "code",
   "execution_count": 82,
   "id": "140a60e2-a5ad-464a-a154-ca682d860b53",
   "metadata": {},
   "outputs": [],
   "source": [
    "def pullPhoneScreen(resize_ratio=None, as_numpy=False, print_times=False):\n",
    "    s = time.time()\n",
    "    adb(\"shell screencap -p /sdcard/screen.png\")\n",
    "    adb(\"pull /sdcard/screen.png ./game.png\")\n",
    "    adb(\"shell rm /sdcard/screen.png\")\n",
    "    im = Image.open(\"game.png\")\n",
    "    im = im.convert(\"RGB\")\n",
    "    if resize_ratio is not None:\n",
    "        im = im.resize(\n",
    "            (int(im.width * resize_ratio), int(im.height * resize_ratio)),\n",
    "            Image.Resampling.LANCZOS,\n",
    "        )\n",
    "    if print_times:\n",
    "        print(\"pull image took \", time.time() - s)\n",
    "    if as_numpy:\n",
    "        return numpy.array(im)\n",
    "    return im\n",
    "\n",
    "\n",
    "def yieldPhoneScreen():\n",
    "    while True:\n",
    "        yield pullPhoneScreen()"
   ]
  },
  {
   "cell_type": "code",
   "execution_count": 85,
   "id": "f74a8edf-4198-46f0-9fc4-4ead9389116a",
   "metadata": {},
   "outputs": [],
   "source": [
    "def PillowToCv2(img):\n",
    "    nimg = np.array(img)\n",
    "    im = cv2.cvtColor(nimg, cv2.COLOR_RGB2BGR)\n",
    "    return im"
   ]
  },
  {
   "cell_type": "code",
   "execution_count": 86,
   "id": "230b49b0-03b2-42c1-a8fa-7dd3ef531369",
   "metadata": {},
   "outputs": [],
   "source": [
    "import cv2\n",
    "import numpy as np\n",
    "\n",
    "\n",
    "class Beholder:\n",
    "    def __init__(self, generator):\n",
    "        self.generator = generator()\n",
    "        self.matchers = []\n",
    "\n",
    "    def loadMatcher(self, filename):\n",
    "        self.matchers.append(cv2.imread(filename, 0))\n",
    "\n",
    "    def readNextImage(self):\n",
    "        self.image = PillowToCv2(next(self.generator))\n",
    "        self.gray = cv2.cvtColor(self.image, cv2.COLOR_BGR2GRAY)\n",
    "\n",
    "    def findMatches(self):\n",
    "        self.readNextImage()\n",
    "        matches = []\n",
    "        for template in self.matchers:\n",
    "            result = cv2.matchTemplate(self.gray, template, cv2.TM_CCOEFF)\n",
    "            min_val, max_val, min_loc, max_loc = cv2.minMaxLoc(result)\n",
    "\n",
    "            height, width = template.shape[:2]\n",
    "\n",
    "            top_left = max_loc\n",
    "            center = (top_left[0] + width / 2, top_left[1] + height / 2)\n",
    "            matches.append(center)\n",
    "        return matches"
   ]
  },
  {
   "cell_type": "code",
   "execution_count": 87,
   "id": "5ee88775-4fa8-445d-8015-2e0dda373250",
   "metadata": {},
   "outputs": [],
   "source": [
    "a = Beholder(yieldPhoneScreen)"
   ]
  },
  {
   "cell_type": "code",
   "execution_count": 88,
   "id": "66d899b6-1328-4a9c-b679-2597a22d91e5",
   "metadata": {},
   "outputs": [],
   "source": [
    "a.loadMatcher(\"Button.png\")"
   ]
  },
  {
   "cell_type": "code",
   "execution_count": 91,
   "id": "84d30d02-c527-4cbd-a210-f8510324a46e",
   "metadata": {},
   "outputs": [
    {
     "data": {
      "text/plain": [
       "[(1606.0, 116.0)]"
      ]
     },
     "execution_count": 91,
     "metadata": {},
     "output_type": "execute_result"
    }
   ],
   "source": [
    "a.findMatches()"
   ]
  },
  {
   "cell_type": "code",
   "execution_count": null,
   "id": "02487eca-61b7-4653-af47-98e2c1b30c32",
   "metadata": {},
   "outputs": [],
   "source": []
  }
 ],
 "metadata": {
  "kernelspec": {
   "display_name": "Python 3 (ipykernel)",
   "language": "python",
   "name": "python3"
  },
  "language_info": {
   "codemirror_mode": {
    "name": "ipython",
    "version": 3
   },
   "file_extension": ".py",
   "mimetype": "text/x-python",
   "name": "python",
   "nbconvert_exporter": "python",
   "pygments_lexer": "ipython3",
   "version": "3.10.4"
  },
  "widgets": {
   "application/vnd.jupyter.widget-state+json": {
    "state": {},
    "version_major": 2,
    "version_minor": 0
   }
  }
 },
 "nbformat": 4,
 "nbformat_minor": 5
}
