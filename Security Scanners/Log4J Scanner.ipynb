{
 "cells": [
  {
   "cell_type": "code",
   "execution_count": 1,
   "metadata": {},
   "outputs": [],
   "source": [
    "from pathlib import Path"
   ]
  },
  {
   "cell_type": "code",
   "execution_count": 8,
   "metadata": {},
   "outputs": [],
   "source": [
    "from zipfile import ZipFile\n",
    "from tqdm import tqdm_notebook"
   ]
  },
  {
   "cell_type": "code",
   "execution_count": 9,
   "metadata": {},
   "outputs": [],
   "source": [
    "def zipHasManifest(zf):\n",
    "    return any([True if 'META-INF/MANIFEST.MF' == f.filename else False for f in zf.filelist])"
   ]
  },
  {
   "cell_type": "code",
   "execution_count": 10,
   "metadata": {},
   "outputs": [],
   "source": [
    "def getVersion(zf):\n",
    "    for line in zf.read('META-INF/MANIFEST.MF').splitlines():\n",
    "        if  b'Implementation-Version:' in line:\n",
    "            return line.replace( b'Implementation-Version:',b'').strip()"
   ]
  },
  {
   "cell_type": "code",
   "execution_count": 11,
   "metadata": {},
   "outputs": [],
   "source": [
    "def getL4jVersion(item):\n",
    "    print(item)\n",
    "    zf = ZipFile(str(item))\n",
    "    if zipHasManifest(zf):\n",
    "        print(getVersion(zf))"
   ]
  },
  {
   "cell_type": "code",
   "execution_count": null,
   "metadata": {},
   "outputs": [],
   "source": []
  },
  {
   "cell_type": "code",
   "execution_count": 12,
   "metadata": {},
   "outputs": [
    {
     "data": {
      "text/plain": [
       "[PosixPath('/media/srudloff/7CD6-13131/android-studio/lib/log4j.jar')]"
      ]
     },
     "execution_count": 12,
     "metadata": {},
     "output_type": "execute_result"
    }
   ],
   "source": [
    "foundL4J=[]\n",
    "for file in Path('/').glob('**/*.jar'):\n",
    "    if file.stem == 'log4j':\n",
    "        foundL4J.append(file)\n",
    "foundL4J      "
   ]
  },
  {
   "cell_type": "code",
   "execution_count": 13,
   "metadata": {},
   "outputs": [
    {
     "name": "stdout",
     "output_type": "stream",
     "text": [
      "/media/srudloff/7CD6-13131/android-studio/lib/log4j.jar\n",
      "b'1.2.17.2'\n",
      "\n"
     ]
    }
   ],
   "source": [
    "for file in foundL4J:\n",
    "    getL4jVersion(file)\n",
    "    print()"
   ]
  },
  {
   "cell_type": "code",
   "execution_count": 14,
   "metadata": {},
   "outputs": [],
   "source": [
    "!rm -rf /media/srudloff/7CD6-13131/android-studio/"
   ]
  },
  {
   "cell_type": "code",
   "execution_count": null,
   "metadata": {},
   "outputs": [],
   "source": []
  }
 ],
 "metadata": {
  "kernelspec": {
   "display_name": "Python 3 (ipykernel)",
   "language": "python",
   "name": "python3"
  },
  "language_info": {
   "codemirror_mode": {
    "name": "ipython",
    "version": 3
   },
   "file_extension": ".py",
   "mimetype": "text/x-python",
   "name": "python",
   "nbconvert_exporter": "python",
   "pygments_lexer": "ipython3",
   "version": "3.10.4"
  }
 },
 "nbformat": 4,
 "nbformat_minor": 4
}
