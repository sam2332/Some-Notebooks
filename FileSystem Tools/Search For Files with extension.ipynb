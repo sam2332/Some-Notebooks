{
 "cells": [
  {
   "cell_type": "code",
   "execution_count": 1,
   "id": "20ed898e-f31d-4dd3-9e86-b3076344d0ee",
   "metadata": {
    "tags": []
   },
   "outputs": [],
   "source": [
    "from shutil import copy\n",
    "from pathlib import Path"
   ]
  },
  {
   "cell_type": "code",
   "execution_count": null,
   "id": "d3d8008c-2d40-48a8-8752-3f912a063061",
   "metadata": {},
   "outputs": [],
   "source": [
    "p = Path(\"/home/srudloff/shares/appdev/tmp\")"
   ]
  },
  {
   "cell_type": "code",
   "execution_count": 2,
   "id": "cb5f38cd-c6c6-48b4-ab69-dffdf33b7eb3",
   "metadata": {
    "tags": []
   },
   "outputs": [],
   "source": [
    "p = Path(\"/media/srudloff\")"
   ]
  },
  {
   "cell_type": "code",
   "execution_count": null,
   "id": "7e294574-759d-408d-8532-312009d2914a",
   "metadata": {},
   "outputs": [],
   "source": [
    "p = Path(\"/media/srudloff/WorkShop\")"
   ]
  },
  {
   "cell_type": "code",
   "execution_count": null,
   "id": "b8e010eb-45e5-4407-af58-95bfe5aeed84",
   "metadata": {},
   "outputs": [],
   "source": [
    "p = Path(\"/TheInterface\")"
   ]
  },
  {
   "cell_type": "code",
   "execution_count": 3,
   "id": "91715049-45df-4cbe-af4c-f0cdcae322c2",
   "metadata": {
    "tags": []
   },
   "outputs": [
    {
     "data": {
      "text/plain": [
       "25213"
      ]
     },
     "execution_count": 3,
     "metadata": {},
     "output_type": "execute_result"
    }
   ],
   "source": [
    "files = list(p.glob(\"**/*\"))\n",
    "len(files)"
   ]
  },
  {
   "cell_type": "code",
   "execution_count": 7,
   "id": "f8f43a2e-f988-40ff-b8e6-1fbef5096dc0",
   "metadata": {
    "scrolled": true,
    "tags": []
   },
   "outputs": [],
   "source": [
    "for path in files:\n",
    "    if \"revizeFile\" in path.suffix.lower():\n",
    "        print(path)"
   ]
  },
  {
   "cell_type": "code",
   "execution_count": null,
   "id": "64b5bf2f-f962-436c-a103-7b87a7b3c99b",
   "metadata": {},
   "outputs": [],
   "source": [
    "copy(\n",
    "    \"\",\n",
    "    \"./\",\n",
    ")"
   ]
  }
 ],
 "metadata": {
  "kernelspec": {
   "display_name": "Python 3 (ipykernel)",
   "language": "python",
   "name": "python3"
  },
  "language_info": {
   "codemirror_mode": {
    "name": "ipython",
    "version": 3
   },
   "file_extension": ".py",
   "mimetype": "text/x-python",
   "name": "python",
   "nbconvert_exporter": "python",
   "pygments_lexer": "ipython3",
   "version": "3.10.7"
  },
  "widgets": {
   "application/vnd.jupyter.widget-state+json": {
    "state": {},
    "version_major": 2,
    "version_minor": 0
   }
  }
 },
 "nbformat": 4,
 "nbformat_minor": 5
}
