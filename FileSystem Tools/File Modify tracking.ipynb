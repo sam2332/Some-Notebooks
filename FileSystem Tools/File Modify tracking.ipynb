{
 "cells": [
  {
   "cell_type": "code",
   "execution_count": 4,
   "id": "41f63528-d5ea-4e0f-bf3d-14066b42435c",
   "metadata": {},
   "outputs": [],
   "source": [
    "path = \"\""
   ]
  },
  {
   "cell_type": "code",
   "execution_count": 6,
   "id": "e79b49f8-f702-47ae-a6b7-ddb8297c7980",
   "metadata": {},
   "outputs": [],
   "source": [
    "import shutil"
   ]
  },
  {
   "cell_type": "code",
   "execution_count": 4,
   "id": "34220e68-174f-4c4e-ad3a-358a5da77a6c",
   "metadata": {},
   "outputs": [],
   "source": [
    "import time\n",
    "from pathlib import Path\n",
    "\n",
    "from watchdog.events import PatternMatchingEventHandler\n",
    "from watchdog.observers import Observer"
   ]
  },
  {
   "cell_type": "code",
   "execution_count": 2,
   "id": "08c7968f-b875-4651-94ea-0c0d89fadec7",
   "metadata": {},
   "outputs": [],
   "source": [
    "def on_modified(event):\n",
    "    p = Path(event.src_path)\n",
    "    if p.is_file():\n",
    "        print(f\"{event.src_path} has been modified\")\n",
    "        print(p.read_text())"
   ]
  },
  {
   "cell_type": "code",
   "execution_count": 3,
   "id": "c493b1ff-a216-4cca-b91b-cca99b624e55",
   "metadata": {},
   "outputs": [],
   "source": [
    "if __name__ == \"__main__\":\n",
    "    patterns = [\"*\"]\n",
    "    ignore_patterns = None\n",
    "    ignore_directories = False\n",
    "    case_sensitive = True\n",
    "    my_event_handler = PatternMatchingEventHandler(\n",
    "        patterns, ignore_patterns, ignore_directories, case_sensitive\n",
    "    )\n",
    "    my_event_handler.on_modified = on_modified\n",
    "    go_recursively = True\n",
    "    my_observer = Observer()\n",
    "    my_observer.schedule(my_event_handler, path, recursive=go_recursively)\n",
    "    my_observer.start()\n",
    "    try:\n",
    "        while True:\n",
    "            time.sleep(1)\n",
    "    except KeyboardInterrupt:\n",
    "        my_observer.stop()\n",
    "        my_observer.join()"
   ]
  },
  {
   "cell_type": "code",
   "execution_count": null,
   "id": "c00ef098-0965-4837-810a-d422c5e2ce82",
   "metadata": {},
   "outputs": [],
   "source": []
  }
 ],
 "metadata": {
  "kernelspec": {
   "display_name": "Python 3 (ipykernel)",
   "language": "python",
   "name": "python3"
  },
  "language_info": {
   "codemirror_mode": {
    "name": "ipython",
    "version": 3
   },
   "file_extension": ".py",
   "mimetype": "text/x-python",
   "name": "python",
   "nbconvert_exporter": "python",
   "pygments_lexer": "ipython3",
   "version": "3.10.7"
  },
  "widgets": {
   "application/vnd.jupyter.widget-state+json": {
    "state": {},
    "version_major": 2,
    "version_minor": 0
   }
  }
 },
 "nbformat": 4,
 "nbformat_minor": 5
}
