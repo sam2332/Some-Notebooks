{
 "cells": [
  {
   "cell_type": "code",
   "execution_count": 19,
   "id": "ca7ac524-c1ad-482e-9988-02d0081bedd3",
   "metadata": {},
   "outputs": [],
   "source": [
    "from pathlib import Path\n",
    "\n",
    "import psutil"
   ]
  },
  {
   "cell_type": "code",
   "execution_count": 20,
   "id": "66a6f073-1804-482d-a551-0106ddd082af",
   "metadata": {},
   "outputs": [
    {
     "data": {
      "text/plain": [
       "3"
      ]
     },
     "execution_count": 20,
     "metadata": {},
     "output_type": "execute_result"
    }
   ],
   "source": [
    "pids = {}\n",
    "for p in psutil.process_iter():\n",
    "    if p.name() == \"python3\":\n",
    "        pids[p.pid] = p\n",
    "len(pids)"
   ]
  },
  {
   "cell_type": "code",
   "execution_count": null,
   "id": "1de93de5-e797-41a5-981f-bf581728d734",
   "metadata": {},
   "outputs": [],
   "source": []
  },
  {
   "cell_type": "code",
   "execution_count": 33,
   "id": "12f1085d-60cd-4d94-822c-321cca9efdf6",
   "metadata": {},
   "outputs": [
    {
     "name": "stdout",
     "output_type": "stream",
     "text": [
      "psutil.Process(pid=210014, name='python3', status='sleeping', started='16:11:22')\n",
      "[PosixPath('/proc/210014/cwd/.nvm'), PosixPath('/proc/210014/cwd/.token'), PosixPath('/proc/210014/cwd/media')]\n",
      "\n",
      "psutil.Process(pid=216468, name='python3', status='sleeping', started='16:42:43')\n",
      "[PosixPath('/proc/216468/cwd/Evil Notebook.ipynb'), PosixPath('/proc/216468/cwd/.ipynb_checkpoints'), PosixPath('/proc/216468/cwd/steal data.txt')]\n",
      "\n",
      "psutil.Process(pid=216512, name='python3', status='running', started='16:42:52')\n",
      "[PosixPath('/proc/216512/cwd/Untitled.ipynb'), PosixPath('/proc/216512/cwd/self.dump'), PosixPath('/proc/216512/cwd/Evil')]\n",
      "\n"
     ]
    }
   ],
   "source": [
    "for pid in pids:\n",
    "    p = pids[pid]\n",
    "    try:\n",
    "        print(p)\n",
    "        p = Path(f\"/proc/{p.pid}/cwd\")\n",
    "        print(list(p.iterdir())[:3])\n",
    "        print()\n",
    "    except Exception as e:\n",
    "        print(e)"
   ]
  },
  {
   "cell_type": "code",
   "execution_count": 22,
   "id": "8f208cef-abee-4054-ba7c-0917addc75f3",
   "metadata": {},
   "outputs": [],
   "source": [
    "pid = 216468"
   ]
  },
  {
   "cell_type": "code",
   "execution_count": 23,
   "id": "b4c33a1a-4f40-4e98-8c71-ca346f2a9ea3",
   "metadata": {},
   "outputs": [],
   "source": [
    "process = pids[pid]"
   ]
  },
  {
   "cell_type": "code",
   "execution_count": 24,
   "id": "557d5996-5641-4411-8aca-f74f52c511fe",
   "metadata": {},
   "outputs": [
    {
     "data": {
      "text/plain": [
       "'/home/srudloff/github/Some-Notebooks/Memory Exploration/Evil'"
      ]
     },
     "execution_count": 24,
     "metadata": {},
     "output_type": "execute_result"
    }
   ],
   "source": [
    "process.cwd()"
   ]
  },
  {
   "cell_type": "code",
   "execution_count": 25,
   "id": "8059a58d-1f6c-4555-a2d1-a02dce8b2213",
   "metadata": {},
   "outputs": [
    {
     "data": {
      "text/plain": [
       "['/usr/bin/python3',\n",
       " '-m',\n",
       " 'ipykernel_launcher',\n",
       " '-f',\n",
       " '/home/srudloff/.local/share/jupyter/runtime/kernel-97055e24-15aa-4747-b219-77e61f509855.json']"
      ]
     },
     "execution_count": 25,
     "metadata": {},
     "output_type": "execute_result"
    }
   ],
   "source": [
    "process.cmdline()"
   ]
  },
  {
   "cell_type": "code",
   "execution_count": 26,
   "id": "082c7d8c-de4f-465d-86a8-eec5be482df7",
   "metadata": {},
   "outputs": [
    {
     "data": {
      "text/plain": [
       "[pconn(fd=17, family=<AddressFamily.AF_INET: 2>, type=<SocketKind.SOCK_STREAM: 1>, laddr=addr(ip='127.0.0.1', port=37006), raddr=addr(ip='127.0.0.1', port=55091), status='ESTABLISHED'),\n",
       " pconn(fd=36, family=<AddressFamily.AF_INET: 2>, type=<SocketKind.SOCK_STREAM: 1>, laddr=addr(ip='127.0.0.1', port=55377), raddr=(), status='LISTEN'),\n",
       " pconn(fd=14, family=<AddressFamily.AF_INET: 2>, type=<SocketKind.SOCK_STREAM: 1>, laddr=addr(ip='127.0.0.1', port=51669), raddr=(), status='LISTEN'),\n",
       " pconn(fd=28, family=<AddressFamily.AF_INET: 2>, type=<SocketKind.SOCK_STREAM: 1>, laddr=addr(ip='127.0.0.1', port=40873), raddr=(), status='LISTEN'),\n",
       " pconn(fd=48, family=<AddressFamily.AF_INET: 2>, type=<SocketKind.SOCK_STREAM: 1>, laddr=addr(ip='127.0.0.1', port=60823), raddr=addr(ip='127.0.0.1', port=45034), status='ESTABLISHED'),\n",
       " pconn(fd=57, family=<AddressFamily.AF_INET: 2>, type=<SocketKind.SOCK_STREAM: 1>, laddr=addr(ip='127.0.0.1', port=60823), raddr=addr(ip='127.0.0.1', port=45036), status='ESTABLISHED'),\n",
       " pconn(fd=23, family=<AddressFamily.AF_INET: 2>, type=<SocketKind.SOCK_STREAM: 1>, laddr=addr(ip='127.0.0.1', port=60823), raddr=(), status='LISTEN'),\n",
       " pconn(fd=56, family=<AddressFamily.AF_INET: 2>, type=<SocketKind.SOCK_STREAM: 1>, laddr=addr(ip='127.0.0.1', port=50905), raddr=addr(ip='127.0.0.1', port=54080), status='ESTABLISHED'),\n",
       " pconn(fd=12, family=<AddressFamily.AF_INET: 2>, type=<SocketKind.SOCK_STREAM: 1>, laddr=addr(ip='127.0.0.1', port=50905), raddr=(), status='LISTEN'),\n",
       " pconn(fd=55, family=<AddressFamily.AF_INET: 2>, type=<SocketKind.SOCK_STREAM: 1>, laddr=addr(ip='127.0.0.1', port=51669), raddr=addr(ip='127.0.0.1', port=33974), status='ESTABLISHED'),\n",
       " pconn(fd=53, family=<AddressFamily.AF_INET: 2>, type=<SocketKind.SOCK_STREAM: 1>, laddr=addr(ip='127.0.0.1', port=55091), raddr=addr(ip='127.0.0.1', port=37008), status='ESTABLISHED'),\n",
       " pconn(fd=52, family=<AddressFamily.AF_INET: 2>, type=<SocketKind.SOCK_STREAM: 1>, laddr=addr(ip='127.0.0.1', port=51669), raddr=addr(ip='127.0.0.1', port=33972), status='ESTABLISHED'),\n",
       " pconn(fd=21, family=<AddressFamily.AF_INET: 2>, type=<SocketKind.SOCK_STREAM: 1>, laddr=addr(ip='127.0.0.1', port=55091), raddr=addr(ip='127.0.0.1', port=37006), status='ESTABLISHED'),\n",
       " pconn(fd=10, family=<AddressFamily.AF_INET: 2>, type=<SocketKind.SOCK_STREAM: 1>, laddr=addr(ip='127.0.0.1', port=55091), raddr=(), status='LISTEN')]"
      ]
     },
     "execution_count": 26,
     "metadata": {},
     "output_type": "execute_result"
    }
   ],
   "source": [
    "process.connections()"
   ]
  },
  {
   "cell_type": "code",
   "execution_count": 27,
   "id": "60cd4148-2195-4800-9db6-9bb9182d34e7",
   "metadata": {},
   "outputs": [
    {
     "name": "stdout",
     "output_type": "stream",
     "text": [
      "pmmap_ext(addr='5564c592d000-5564c599a000', perms='r--p', path='/usr/bin/python3.10', rss=446464, size=446464, pss=55296, shared_clean=446464, shared_dirty=0, private_clean=0, private_dirty=0, referenced=446464, anonymous=0, swap=0)\n",
      "pmmap_ext(addr='5564c599a000-5564c5c4b000', perms='r-xp', path='/usr/bin/python3.10', rss=2822144, size=2822144, pss=409600, shared_clean=2822144, shared_dirty=0, private_clean=0, private_dirty=0, referenced=2822144, anonymous=0, swap=0)\n",
      "pmmap_ext(addr='5564c5c4b000-5564c5e89000', perms='r--p', path='/usr/bin/python3.10', rss=1134592, size=2351104, pss=181248, shared_clean=1126400, shared_dirty=0, private_clean=8192, private_dirty=0, referenced=1134592, anonymous=0, swap=0)\n",
      "pmmap_ext(addr='5564c5e89000-5564c5e90000', perms='r--p', path='/usr/bin/python3.10', rss=28672, size=28672, pss=28672, shared_clean=0, shared_dirty=0, private_clean=0, private_dirty=28672, referenced=28672, anonymous=28672, swap=0)\n",
      "pmmap_ext(addr='5564c5e90000-5564c5ecf000', perms='rw-p', path='/usr/bin/python3.10', rss=258048, size=258048, pss=258048, shared_clean=0, shared_dirty=0, private_clean=0, private_dirty=258048, referenced=258048, anonymous=258048, swap=0)\n",
      "pmmap_ext(addr='5564c5ecf000-5564c5f16000', perms='rw-p', path='[anon]', rss=24576, size=290816, pss=24576, shared_clean=0, shared_dirty=0, private_clean=0, private_dirty=24576, referenced=24576, anonymous=24576, swap=0)\n",
      "pmmap_ext(addr='5564c7570000-5564c81c3000', perms='rw-p', path='[heap]', rss=12791808, size=12922880, pss=12791808, shared_clean=0, shared_dirty=0, private_clean=0, private_dirty=12791808, referenced=12791808, anonymous=12791808, swap=0)\n"
     ]
    }
   ],
   "source": [
    "heap = None\n",
    "stack = None\n",
    "for mm in process.memory_maps(False):\n",
    "    print(mm)\n",
    "    if heap is None:\n",
    "        if mm.path == \"[heap]\":\n",
    "            heap = mm\n",
    "            break\n",
    "    if stack is None:\n",
    "        if mm.path == \"[stack]\":\n",
    "            stack = mm\n",
    "            break"
   ]
  },
  {
   "cell_type": "code",
   "execution_count": 28,
   "id": "3e9fb99e-9877-4c57-9026-65842f30d685",
   "metadata": {},
   "outputs": [],
   "source": [
    "stack"
   ]
  },
  {
   "cell_type": "code",
   "execution_count": 29,
   "id": "775a66ac-62d9-4e4d-99ca-36bd2f3bd228",
   "metadata": {},
   "outputs": [
    {
     "data": {
      "text/plain": [
       "'5564c7570000-5564c81c3000'"
      ]
     },
     "execution_count": 29,
     "metadata": {},
     "output_type": "execute_result"
    }
   ],
   "source": [
    "heap.addr"
   ]
  },
  {
   "cell_type": "code",
   "execution_count": null,
   "id": "7799cf65-9fc9-4f5d-a04a-e2ae1401e77c",
   "metadata": {},
   "outputs": [],
   "source": []
  },
  {
   "cell_type": "code",
   "execution_count": 30,
   "id": "d9aaf8bd-43fb-41c7-a95b-268138c3ab55",
   "metadata": {},
   "outputs": [],
   "source": [
    "memory_file = Path(f\"/proc/{pid}/mem\")"
   ]
  },
  {
   "cell_type": "code",
   "execution_count": 31,
   "id": "0f54b4a0-2014-443a-9f5e-4bed30a9ee89",
   "metadata": {},
   "outputs": [
    {
     "ename": "PermissionError",
     "evalue": "[Errno 13] Permission denied: '/proc/216468/mem'",
     "output_type": "error",
     "traceback": [
      "\u001b[0;31m---------------------------------------------------------------------------\u001b[0m",
      "\u001b[0;31mPermissionError\u001b[0m                           Traceback (most recent call last)",
      "Input \u001b[0;32mIn [31]\u001b[0m, in \u001b[0;36m<cell line: 1>\u001b[0;34m()\u001b[0m\n\u001b[0;32m----> 1\u001b[0m memory \u001b[38;5;241m=\u001b[39m \u001b[43mmemory_file\u001b[49m\u001b[38;5;241;43m.\u001b[39;49m\u001b[43mread_bytes\u001b[49m\u001b[43m(\u001b[49m\u001b[43m)\u001b[49m\n",
      "File \u001b[0;32m/usr/lib/python3.10/pathlib.py:1124\u001b[0m, in \u001b[0;36mPath.read_bytes\u001b[0;34m(self)\u001b[0m\n\u001b[1;32m   1120\u001b[0m \u001b[38;5;28;01mdef\u001b[39;00m \u001b[38;5;21mread_bytes\u001b[39m(\u001b[38;5;28mself\u001b[39m):\n\u001b[1;32m   1121\u001b[0m     \u001b[38;5;124;03m\"\"\"\u001b[39;00m\n\u001b[1;32m   1122\u001b[0m \u001b[38;5;124;03m    Open the file in bytes mode, read it, and close the file.\u001b[39;00m\n\u001b[1;32m   1123\u001b[0m \u001b[38;5;124;03m    \"\"\"\u001b[39;00m\n\u001b[0;32m-> 1124\u001b[0m     \u001b[38;5;28;01mwith\u001b[39;00m \u001b[38;5;28;43mself\u001b[39;49m\u001b[38;5;241;43m.\u001b[39;49m\u001b[43mopen\u001b[49m\u001b[43m(\u001b[49m\u001b[43mmode\u001b[49m\u001b[38;5;241;43m=\u001b[39;49m\u001b[38;5;124;43m'\u001b[39;49m\u001b[38;5;124;43mrb\u001b[39;49m\u001b[38;5;124;43m'\u001b[39;49m\u001b[43m)\u001b[49m \u001b[38;5;28;01mas\u001b[39;00m f:\n\u001b[1;32m   1125\u001b[0m         \u001b[38;5;28;01mreturn\u001b[39;00m f\u001b[38;5;241m.\u001b[39mread()\n",
      "File \u001b[0;32m/usr/lib/python3.10/pathlib.py:1117\u001b[0m, in \u001b[0;36mPath.open\u001b[0;34m(self, mode, buffering, encoding, errors, newline)\u001b[0m\n\u001b[1;32m   1115\u001b[0m \u001b[38;5;28;01mif\u001b[39;00m \u001b[38;5;124m\"\u001b[39m\u001b[38;5;124mb\u001b[39m\u001b[38;5;124m\"\u001b[39m \u001b[38;5;129;01mnot\u001b[39;00m \u001b[38;5;129;01min\u001b[39;00m mode:\n\u001b[1;32m   1116\u001b[0m     encoding \u001b[38;5;241m=\u001b[39m io\u001b[38;5;241m.\u001b[39mtext_encoding(encoding)\n\u001b[0;32m-> 1117\u001b[0m \u001b[38;5;28;01mreturn\u001b[39;00m \u001b[38;5;28;43mself\u001b[39;49m\u001b[38;5;241;43m.\u001b[39;49m\u001b[43m_accessor\u001b[49m\u001b[38;5;241;43m.\u001b[39;49m\u001b[43mopen\u001b[49m\u001b[43m(\u001b[49m\u001b[38;5;28;43mself\u001b[39;49m\u001b[43m,\u001b[49m\u001b[43m \u001b[49m\u001b[43mmode\u001b[49m\u001b[43m,\u001b[49m\u001b[43m \u001b[49m\u001b[43mbuffering\u001b[49m\u001b[43m,\u001b[49m\u001b[43m \u001b[49m\u001b[43mencoding\u001b[49m\u001b[43m,\u001b[49m\u001b[43m \u001b[49m\u001b[43merrors\u001b[49m\u001b[43m,\u001b[49m\n\u001b[1;32m   1118\u001b[0m \u001b[43m                           \u001b[49m\u001b[43mnewline\u001b[49m\u001b[43m)\u001b[49m\n",
      "\u001b[0;31mPermissionError\u001b[0m: [Errno 13] Permission denied: '/proc/216468/mem'"
     ]
    }
   ],
   "source": [
    "memory = memory_file.read_bytes()"
   ]
  },
  {
   "cell_type": "code",
   "execution_count": 34,
   "id": "83d1ca3c-7b09-493d-aa51-9d893447d30b",
   "metadata": {},
   "outputs": [
    {
     "ename": "RuntimeError",
     "evalue": "('ptrace', -1)",
     "output_type": "error",
     "traceback": [
      "\u001b[0;31m---------------------------------------------------------------------------\u001b[0m",
      "\u001b[0;31mRuntimeError\u001b[0m                              Traceback (most recent call last)",
      "Input \u001b[0;32mIn [34]\u001b[0m, in \u001b[0;36m<cell line: 29>\u001b[0;34m()\u001b[0m\n\u001b[1;32m     25\u001b[0m     \u001b[38;5;28;01mif\u001b[39;00m err \u001b[38;5;241m!=\u001b[39m \u001b[38;5;241m0\u001b[39m:\n\u001b[1;32m     26\u001b[0m         \u001b[38;5;28;01mraise\u001b[39;00m \u001b[38;5;167;01mRuntimeError\u001b[39;00m(\u001b[38;5;124m\"\u001b[39m\u001b[38;5;124mptrace\u001b[39m\u001b[38;5;124m\"\u001b[39m, err)\n\u001b[0;32m---> 29\u001b[0m \u001b[43mptrace\u001b[49m\u001b[43m(\u001b[49m\u001b[38;5;28;43;01mTrue\u001b[39;49;00m\u001b[43m,\u001b[49m\u001b[43m \u001b[49m\u001b[43mpid\u001b[49m\u001b[43m)\u001b[49m\n\u001b[1;32m     30\u001b[0m mappath \u001b[38;5;241m=\u001b[39m \u001b[38;5;124m\"\u001b[39m\u001b[38;5;124m/proc/\u001b[39m\u001b[38;5;132;01m%s\u001b[39;00m\u001b[38;5;124m/maps\u001b[39m\u001b[38;5;124m\"\u001b[39m \u001b[38;5;241m%\u001b[39m (pid)\n\u001b[1;32m     31\u001b[0m mempath \u001b[38;5;241m=\u001b[39m \u001b[38;5;124m\"\u001b[39m\u001b[38;5;124m/proc/\u001b[39m\u001b[38;5;132;01m%s\u001b[39;00m\u001b[38;5;124m/mem\u001b[39m\u001b[38;5;124m\"\u001b[39m \u001b[38;5;241m%\u001b[39m (pid)\n",
      "Input \u001b[0;32mIn [34]\u001b[0m, in \u001b[0;36mptrace\u001b[0;34m(attach, pid)\u001b[0m\n\u001b[1;32m     24\u001b[0m err \u001b[38;5;241m=\u001b[39m c_ptrace(op, c_pid, null, null)\n\u001b[1;32m     25\u001b[0m \u001b[38;5;28;01mif\u001b[39;00m err \u001b[38;5;241m!=\u001b[39m \u001b[38;5;241m0\u001b[39m:\n\u001b[0;32m---> 26\u001b[0m     \u001b[38;5;28;01mraise\u001b[39;00m \u001b[38;5;167;01mRuntimeError\u001b[39;00m(\u001b[38;5;124m\"\u001b[39m\u001b[38;5;124mptrace\u001b[39m\u001b[38;5;124m\"\u001b[39m, err)\n",
      "\u001b[0;31mRuntimeError\u001b[0m: ('ptrace', -1)"
     ]
    }
   ],
   "source": [
    "#! /usr/bin/env python\n",
    "#\n",
    "# Modification from:\n",
    "# https://unix.stackexchange.com/questions/6267/how-to-re-load-all-running-applications-from-swap-space-into-ram/6271\n",
    "#\n",
    "# For non-root check 'cat /proc/sys/kernel/yama/ptrace_scope' = 0\n",
    "# Reference: https://www.kernel.org/doc/Documentation/security/Yama.txt\n",
    "#\n",
    "import ctypes\n",
    "import re\n",
    "import sys\n",
    "\n",
    "c_ptrace = ctypes.CDLL(\"libc.so.6\").ptrace\n",
    "c_pid_t = ctypes.c_int32  # This assumes pid_t is int32_t\n",
    "c_ptrace.argtypes = [ctypes.c_int, c_pid_t, ctypes.c_void_p, ctypes.c_void_p]\n",
    "PTRACE_ATTACH = 16\n",
    "PTRACE_DETACH = 17\n",
    "\n",
    "\n",
    "def ptrace(attach, pid):\n",
    "    op = ctypes.c_int(PTRACE_ATTACH if attach else PTRACE_DETACH)\n",
    "    c_pid = c_pid_t(pid)\n",
    "    null = ctypes.c_void_p()\n",
    "    err = c_ptrace(op, c_pid, null, null)\n",
    "    if err != 0:\n",
    "        raise RuntimeError(\"ptrace\", err)\n",
    "\n",
    "\n",
    "ptrace(True, pid)\n",
    "mappath = \"/proc/%s/maps\" % (pid)\n",
    "mempath = \"/proc/%s/mem\" % (pid)\n",
    "outpath = \"/tmp/dump.dat\"\n",
    "with open(mappath, \"r\") as maps_file:\n",
    "    memmap = maps_file.readlines()\n",
    "mem_file = open(mempath, \"rb\", 0)\n",
    "out_file = open(outpath, \"wb\")\n",
    "i = 0\n",
    "for line in memmap:\n",
    "    m = re.match(r\"([0-9A-Fa-f]+)-([0-9A-Fa-f]+) ([-r])\", line)\n",
    "    if m.group(3) == \"r\":\n",
    "        start = int(m.group(1), 16)\n",
    "        end = int(m.group(2), 16)\n",
    "        try:\n",
    "            pos = mem_file.seek(start)\n",
    "            chunk = mem_file.read(end - start)\n",
    "            print((\"Read Line: %s\" % (line)), file=sys.stderr)\n",
    "        except:\n",
    "            print((\"Could not read: %016x\" % (pos)), file=sys.stderr)\n",
    "            print((\"Line: %s\" % (line)), file=sys.stderr)\n",
    "            pass\n",
    "        result = out_file.write(chunk)\n",
    "print((\"Wrote file: %s\" % (outpath)), file=sys.stderr)\n",
    "out_file.close()\n",
    "mem_file.close()\n",
    "ptrace(False, pid)"
   ]
  },
  {
   "cell_type": "code",
   "execution_count": null,
   "id": "e0e13f96-6a8f-4d04-b612-5e4aada41ca0",
   "metadata": {},
   "outputs": [],
   "source": [
    "import time\n",
    "\n",
    "from ptrace.binding import *  # For ptrace funcs\n",
    "from ptrace.linux_proc import *  # For the searchProcessByName func\n",
    "\n",
    "\n",
    "def checkVal(value):\n",
    "    # Check value bounds and such here\n",
    "    if value is good:\n",
    "        return True\n",
    "\n",
    "\n",
    "def main():\n",
    "    pid = searchProcessByName(\"nameofprocess\")  # or pid = 56437\n",
    "    addr = 0x32323232  # Note: poke/peek_text requires the address to be aligned\n",
    "    while True:  # This may require some modifications to your new value as well\n",
    "        newVal = input(\"What do you want the new value to be?\")\n",
    "        if checkVal(newVal):\n",
    "            ptrace_attach(pid)  # Attach\n",
    "            time.sleep(0.001)  # For some reason, I needed this for it to work\n",
    "            ptrace_peektext(pid, addr)  # Read word at addr\n",
    "            ptrace_poketext(pid, addr, newVal)  # Write newVal at addr\n",
    "            ptrace_detach(pid)  # Let the process resume"
   ]
  },
  {
   "cell_type": "code",
   "execution_count": null,
   "id": "90c0ae25-7685-4495-b783-dc2c840c26ff",
   "metadata": {},
   "outputs": [],
   "source": []
  }
 ],
 "metadata": {
  "kernelspec": {
   "display_name": "Python 3 (ipykernel)",
   "language": "python",
   "name": "python3"
  },
  "language_info": {
   "codemirror_mode": {
    "name": "ipython",
    "version": 3
   },
   "file_extension": ".py",
   "mimetype": "text/x-python",
   "name": "python",
   "nbconvert_exporter": "python",
   "pygments_lexer": "ipython3",
   "version": "3.10.4"
  },
  "widgets": {
   "application/vnd.jupyter.widget-state+json": {
    "state": {},
    "version_major": 2,
    "version_minor": 0
   }
  }
 },
 "nbformat": 4,
 "nbformat_minor": 5
}
