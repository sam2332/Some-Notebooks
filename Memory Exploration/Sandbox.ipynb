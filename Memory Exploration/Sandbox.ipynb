{
    "cells": [
        {
            "cell_type": "code",
            "execution_count": 19,
            "id": "ca7ac524-c1ad-482e-9988-02d0081bedd3",
            "metadata": {},
            "outputs": [],
            "source": [
                "from pathlib import Path\n",
                "\n",
                "import psutil"
            ]
        },
        {
            "cell_type": "code",
            "execution_count": 20,
            "id": "66a6f073-1804-482d-a551-0106ddd082af",
            "metadata": {},
            "outputs": [],
            "source": [
                "pids = {}\n",
                "for p in psutil.process_iter():\n",
                "    if p.name() == \"python3\":\n",
                "        pids[p.pid] = p\n",
                "len(pids)"
            ]
        },
        {
            "cell_type": "code",
            "execution_count": null,
            "id": "1de93de5-e797-41a5-981f-bf581728d734",
            "metadata": {},
            "outputs": [],
            "source": []
        },
        {
            "cell_type": "code",
            "execution_count": 33,
            "id": "12f1085d-60cd-4d94-822c-321cca9efdf6",
            "metadata": {},
            "outputs": [],
            "source": [
                "for pid in pids:\n",
                "    p = pids[pid]\n",
                "    try:\n",
                "        print(p)\n",
                "        p = Path(f\"/proc/{p.pid}/cwd\")\n",
                "        print(list(p.iterdir())[:3])\n",
                "        print()\n",
                "    except Exception as e:\n",
                "        print(e)"
            ]
        },
        {
            "cell_type": "code",
            "execution_count": 22,
            "id": "8f208cef-abee-4054-ba7c-0917addc75f3",
            "metadata": {},
            "outputs": [],
            "source": [
                "pid = 216468"
            ]
        },
        {
            "cell_type": "code",
            "execution_count": 23,
            "id": "b4c33a1a-4f40-4e98-8c71-ca346f2a9ea3",
            "metadata": {},
            "outputs": [],
            "source": [
                "process = pids[pid]"
            ]
        },
        {
            "cell_type": "code",
            "execution_count": 24,
            "id": "557d5996-5641-4411-8aca-f74f52c511fe",
            "metadata": {},
            "outputs": [],
            "source": [
                "process.cwd()"
            ]
        },
        {
            "cell_type": "code",
            "execution_count": 25,
            "id": "8059a58d-1f6c-4555-a2d1-a02dce8b2213",
            "metadata": {},
            "outputs": [],
            "source": [
                "process.cmdline()"
            ]
        },
        {
            "cell_type": "code",
            "execution_count": 26,
            "id": "082c7d8c-de4f-465d-86a8-eec5be482df7",
            "metadata": {},
            "outputs": [],
            "source": [
                "process.connections()"
            ]
        },
        {
            "cell_type": "code",
            "execution_count": 27,
            "id": "60cd4148-2195-4800-9db6-9bb9182d34e7",
            "metadata": {},
            "outputs": [],
            "source": [
                "heap = None\n",
                "stack = None\n",
                "for mm in process.memory_maps(False):\n",
                "    print(mm)\n",
                "    if heap is None:\n",
                "        if mm.path == \"[heap]\":\n",
                "            heap = mm\n",
                "            break\n",
                "    if stack is None:\n",
                "        if mm.path == \"[stack]\":\n",
                "            stack = mm\n",
                "            break"
            ]
        },
        {
            "cell_type": "code",
            "execution_count": 28,
            "id": "3e9fb99e-9877-4c57-9026-65842f30d685",
            "metadata": {},
            "outputs": [],
            "source": [
                "stack"
            ]
        },
        {
            "cell_type": "code",
            "execution_count": 29,
            "id": "775a66ac-62d9-4e4d-99ca-36bd2f3bd228",
            "metadata": {},
            "outputs": [],
            "source": [
                "heap.addr"
            ]
        },
        {
            "cell_type": "code",
            "execution_count": null,
            "id": "7799cf65-9fc9-4f5d-a04a-e2ae1401e77c",
            "metadata": {},
            "outputs": [],
            "source": []
        },
        {
            "cell_type": "code",
            "execution_count": 30,
            "id": "d9aaf8bd-43fb-41c7-a95b-268138c3ab55",
            "metadata": {},
            "outputs": [],
            "source": [
                "memory_file = Path(f\"/proc/{pid}/mem\")"
            ]
        },
        {
            "cell_type": "code",
            "execution_count": 31,
            "id": "0f54b4a0-2014-443a-9f5e-4bed30a9ee89",
            "metadata": {},
            "outputs": [],
            "source": [
                "memory = memory_file.read_bytes()"
            ]
        },
        {
            "cell_type": "code",
            "execution_count": 34,
            "id": "83d1ca3c-7b09-493d-aa51-9d893447d30b",
            "metadata": {},
            "outputs": [],
            "source": [
                "#! /usr/bin/env python\n",
                "#\n",
                "# Modification from:\n",
                "# https://unix.stackexchange.com/questions/6267/how-to-re-load-all-running-applications-from-swap-space-into-ram/6271\n",
                "#\n",
                "# For non-root check 'cat /proc/sys/kernel/yama/ptrace_scope' = 0\n",
                "# Reference: https://www.kernel.org/doc/Documentation/security/Yama.txt\n",
                "#\n",
                "import ctypes\n",
                "import re\n",
                "import sys\n",
                "\n",
                "c_ptrace = ctypes.CDLL(\"libc.so.6\").ptrace\n",
                "c_pid_t = ctypes.c_int32  # This assumes pid_t is int32_t\n",
                "c_ptrace.argtypes = [ctypes.c_int, c_pid_t, ctypes.c_void_p, ctypes.c_void_p]\n",
                "PTRACE_ATTACH = 16\n",
                "PTRACE_DETACH = 17\n",
                "\n",
                "\n",
                "def ptrace(attach, pid):\n",
                "    op = ctypes.c_int(PTRACE_ATTACH if attach else PTRACE_DETACH)\n",
                "    c_pid = c_pid_t(pid)\n",
                "    null = ctypes.c_void_p()\n",
                "    err = c_ptrace(op, c_pid, null, null)\n",
                "    if err != 0:\n",
                "        raise RuntimeError(\"ptrace\", err)\n",
                "\n",
                "\n",
                "ptrace(True, pid)\n",
                "mappath = \"/proc/%s/maps\" % (pid)\n",
                "mempath = \"/proc/%s/mem\" % (pid)\n",
                "outpath = \"/tmp/dump.dat\"\n",
                "with open(mappath, \"r\") as maps_file:\n",
                "    memmap = maps_file.readlines()\n",
                "mem_file = open(mempath, \"rb\", 0)\n",
                "out_file = open(outpath, \"wb\")\n",
                "i = 0\n",
                "for line in memmap:\n",
                "    m = re.match(r\"([0-9A-Fa-f]+)-([0-9A-Fa-f]+) ([-r])\", line)\n",
                "    if m.group(3) == \"r\":\n",
                "        start = int(m.group(1), 16)\n",
                "        end = int(m.group(2), 16)\n",
                "        try:\n",
                "            pos = mem_file.seek(start)\n",
                "            chunk = mem_file.read(end - start)\n",
                "            print((\"Read Line: %s\" % (line)), file=sys.stderr)\n",
                "        except:\n",
                "            print((\"Could not read: %016x\" % (pos)), file=sys.stderr)\n",
                "            print((\"Line: %s\" % (line)), file=sys.stderr)\n",
                "            pass\n",
                "        result = out_file.write(chunk)\n",
                "print((\"Wrote file: %s\" % (outpath)), file=sys.stderr)\n",
                "out_file.close()\n",
                "mem_file.close()\n",
                "ptrace(False, pid)"
            ]
        },
        {
            "cell_type": "code",
            "execution_count": null,
            "id": "e0e13f96-6a8f-4d04-b612-5e4aada41ca0",
            "metadata": {},
            "outputs": [],
            "source": [
                "import time\n",
                "\n",
                "from ptrace.binding import *  # For ptrace funcs\n",
                "from ptrace.linux_proc import *  # For the searchProcessByName func\n",
                "\n",
                "\n",
                "def checkVal(value):\n",
                "    # Check value bounds and such here\n",
                "    if value is good:\n",
                "        return True\n",
                "\n",
                "\n",
                "def main():\n",
                "    pid = searchProcessByName(\"nameofprocess\")  # or pid = 56437\n",
                "    addr = 0x32323232  # Note: poke/peek_text requires the address to be aligned\n",
                "    while True:  # This may require some modifications to your new value as well\n",
                "        newVal = input(\"What do you want the new value to be?\")\n",
                "        if checkVal(newVal):\n",
                "            ptrace_attach(pid)  # Attach\n",
                "            time.sleep(0.001)  # For some reason, I needed this for it to work\n",
                "            ptrace_peektext(pid, addr)  # Read word at addr\n",
                "            ptrace_poketext(pid, addr, newVal)  # Write newVal at addr\n",
                "            ptrace_detach(pid)  # Let the process resume"
            ]
        },
        {
            "cell_type": "code",
            "execution_count": null,
            "id": "90c0ae25-7685-4495-b783-dc2c840c26ff",
            "metadata": {},
            "outputs": [],
            "source": []
        }
    ],
    "metadata": {
        "kernelspec": {
            "display_name": "Python 3 (ipykernel)",
            "language": "python",
            "name": "python3"
        },
        "language_info": {
            "codemirror_mode": {
                "name": "ipython",
                "version": 3
            },
            "file_extension": ".py",
            "mimetype": "text/x-python",
            "name": "python",
            "nbconvert_exporter": "python",
            "pygments_lexer": "ipython3",
            "version": "3.10.4"
        },
        "widgets": {
            "application/vnd.jupyter.widget-state+json": {
                "state": {},
                "version_major": 2,
                "version_minor": 0
            }
        }
    },
    "nbformat": 4,
    "nbformat_minor": 5
}