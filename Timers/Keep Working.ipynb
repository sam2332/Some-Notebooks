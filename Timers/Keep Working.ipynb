{
 "cells": [
  {
   "cell_type": "code",
   "execution_count": 1,
   "id": "b07df800-ced4-42fc-86bd-b93647ac128d",
   "metadata": {},
   "outputs": [],
   "source": [
    "import time\n",
    "from datetime import datetime\n",
    "\n",
    "import pyttsx3\n",
    "import schedule\n",
    "\n",
    "tts_engine = pyttsx3.init()\n",
    "tts_engine.setProperty(\"volume\", 0.5)"
   ]
  },
  {
   "cell_type": "code",
   "execution_count": 2,
   "id": "b661951d-dc4f-4547-9ae5-b5276763925b",
   "metadata": {},
   "outputs": [],
   "source": [
    "def tts(s, volume=None):\n",
    "    if volume is not None:\n",
    "        old_volume = tts_engine.getProperty(\"volume\")\n",
    "        tts_engine.setProperty(\"volume\", volume)\n",
    "    print(f\"{datetime.now().time()} - tts: {s}\")\n",
    "    tts_engine.say(s)\n",
    "    tts_engine.runAndWait()\n",
    "    if volume is not None:\n",
    "        tts_engine.setProperty(\"volume\", old_volume)"
   ]
  },
  {
   "cell_type": "code",
   "execution_count": 3,
   "id": "73cd0ff8-3863-4ea8-abf3-757321c75092",
   "metadata": {},
   "outputs": [],
   "source": [
    "onBreak = False\n",
    "encouragements=[\n",
    "    'You got this',\n",
    "    'keep going almost finished',\n",
    "    'your doing great just keep',\n",
    "    'work work work',\n",
    "    'something need doing?'\n",
    "]"
   ]
  },
  {
   "cell_type": "code",
   "execution_count": 4,
   "id": "ae1fbac0-53c1-4021-8b48-5a7a3368e2dd",
   "metadata": {},
   "outputs": [],
   "source": [
    "def twenty():\n",
    "    tts(\"It has been Twenty Min, Take a break, I will let you know in 5 minuets\")\n",
    "    onBreak = True\n",
    "    schedule.every(5).minutes.do(break_over)\n",
    "\n",
    "\n",
    "def break_over():\n",
    "    tts(\"your break is over, please return to work\")\n",
    "    onBreak = False\n",
    "    return schedule.CancelJob\n",
    "\n",
    "\n",
    "def encourage():\n",
    "    text = random.choice(encouragements)\n",
    "    tts(text)"
   ]
  },
  {
   "cell_type": "code",
   "execution_count": 4,
   "id": "f70f6006-e644-4cb1-9b62-f83cafabc483",
   "metadata": {},
   "outputs": [
    {
     "data": {
      "text/plain": [
       "Every 10 minutes do encourage() (last run: [never], next run: 2022-09-12 13:32:40)"
      ]
     },
     "execution_count": 4,
     "metadata": {},
     "output_type": "execute_result"
    }
   ],
   "source": [
    "schedule.every(20).minutes.do(twenty)\n",
    "schedule.every(10).minutes.do(encourage)"
   ]
  },
  {
   "cell_type": "code",
   "execution_count": null,
   "id": "bc6323df-9358-44d1-bbde-bb4087967c63",
   "metadata": {},
   "outputs": [],
   "source": [
    "while True:\n",
    "    schedule.run_pending()\n",
    "    time.sleep(1)"
   ]
  },
  {
   "cell_type": "code",
   "execution_count": null,
   "id": "b245148a-89dc-40fd-ac80-72d9b11fba78",
   "metadata": {},
   "outputs": [],
   "source": []
  }
 ],
 "metadata": {
  "kernelspec": {
   "display_name": "Python 3 (ipykernel)",
   "language": "python",
   "name": "python3"
  },
  "language_info": {
   "codemirror_mode": {
    "name": "ipython",
    "version": 3
   },
   "file_extension": ".py",
   "mimetype": "text/x-python",
   "name": "python",
   "nbconvert_exporter": "python",
   "pygments_lexer": "ipython3",
   "version": "3.10.4"
  },
  "widgets": {
   "application/vnd.jupyter.widget-state+json": {
    "state": {},
    "version_major": 2,
    "version_minor": 0
   }
  }
 },
 "nbformat": 4,
 "nbformat_minor": 5
}
