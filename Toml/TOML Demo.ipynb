{
 "cells": [
  {
   "cell_type": "code",
   "execution_count": 3,
   "id": "2878c025-c39b-47e0-91e1-1cbfbbd1a49c",
   "metadata": {},
   "outputs": [
    {
     "name": "stdout",
     "output_type": "stream",
     "text": [
      "Help on package toml:\n",
      "\n",
      "NAME\n",
      "    toml - Python module which parses and emits TOML.\n",
      "\n",
      "DESCRIPTION\n",
      "    Released under the MIT license.\n",
      "\n",
      "PACKAGE CONTENTS\n",
      "    decoder\n",
      "    encoder\n",
      "    ordered\n",
      "    tz\n",
      "\n",
      "VERSION\n",
      "    0.10.2\n",
      "\n",
      "FILE\n",
      "    /home/srudloff/.local/lib/python3.10/site-packages/toml/__init__.py\n",
      "\n",
      "\n"
     ]
    }
   ],
   "source": [
    "help(toml)"
   ]
  },
  {
   "cell_type": "code",
   "execution_count": 22,
   "id": "b5930ffd-a7ae-454e-87ed-4dbdb5264fde",
   "metadata": {},
   "outputs": [
    {
     "name": "stdout",
     "output_type": "stream",
     "text": [
      "int = 1\n",
      "string = \"sam\"\n",
      "array = [ \"ohhh\", \"wow\",]\n",
      "now = 2022-12-23T15:36:57.943563\n",
      "\n",
      "[complex]\n",
      "name = \"ray\"\n",
      "age = 52\n",
      "[[complex.children]]\n",
      "name = \"lil ray\"\n",
      "age = 12\n",
      "\n",
      "[[complex.children]]\n",
      "name = \"lil jay\"\n",
      "age = 2\n",
      "\n",
      "\n"
     ]
    }
   ],
   "source": [
    "import toml\n",
    "from datetime import datetime\n",
    "\n",
    "data = {\n",
    "    \"int\": 1,\n",
    "    \"string\": \"sam\",\n",
    "    \"complex\": {\n",
    "        \"name\": \"ray\",\n",
    "        \"age\": 52,\n",
    "        \"children\": [\n",
    "            {\"name\": \"lil ray\", \"age\": 12},\n",
    "            {\"name\": \"lil jay\", \"age\": 2},\n",
    "        ],\n",
    "    },\n",
    "    \"array\": [\"ohhh\", \"wow\"],\n",
    "    \"now\": datetime.now(),\n",
    "}\n",
    "print(toml.dumps(data))"
   ]
  },
  {
   "cell_type": "code",
   "execution_count": null,
   "id": "9b3abb50-f499-4499-a5f2-e8e24ea0717c",
   "metadata": {},
   "outputs": [],
   "source": []
  }
 ],
 "metadata": {
  "kernelspec": {
   "display_name": "Python 3 (ipykernel)",
   "language": "python",
   "name": "python3"
  },
  "language_info": {
   "codemirror_mode": {
    "name": "ipython",
    "version": 3
   },
   "file_extension": ".py",
   "mimetype": "text/x-python",
   "name": "python",
   "nbconvert_exporter": "python",
   "pygments_lexer": "ipython3",
   "version": "3.10.6"
  },
  "widgets": {
   "application/vnd.jupyter.widget-state+json": {
    "state": {},
    "version_major": 2,
    "version_minor": 0
   }
  }
 },
 "nbformat": 4,
 "nbformat_minor": 5
}
