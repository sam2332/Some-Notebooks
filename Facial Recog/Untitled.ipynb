{
 "cells": [
  {
   "cell_type": "code",
   "execution_count": null,
   "id": "04016a18-c554-4b13-967f-7602f2934bfe",
   "metadata": {
    "tags": []
   },
   "outputs": [],
   "source": [
    "!pip install face_recognition\n"
   ]
  },
  {
   "cell_type": "code",
   "execution_count": null,
   "id": "2778c136-edbd-4333-b85f-a328e71f0cb2",
   "metadata": {
    "tags": []
   },
   "outputs": [],
   "source": [
    "import face_recognition\n",
    "from pathlib import Path"
   ]
  },
  {
   "cell_type": "code",
   "execution_count": null,
   "id": "461a05c5-16b8-4ec5-82e4-7bfdefd47198",
   "metadata": {
    "tags": []
   },
   "outputs": [],
   "source": [
    "class FaceImageMap:\n",
    "    def __init__(self):\n",
    "        self.face_encodings = {}\n",
    "        self.image_faces = {}\n",
    "\n",
    "    def add_image(self, image_path):\n",
    "        # Load the image\n",
    "        image = face_recognition.load_image_file(image_path)\n",
    "\n",
    "        # Find all the faces in the image\n",
    "        face_locations = face_recognition.face_locations(image)\n",
    "\n",
    "        # Generate face encodings for each face\n",
    "        face_encodings = face_recognition.face_encodings(image, face_locations)\n",
    "\n",
    "        # Associate each face encoding with the image\n",
    "        for face_encoding in face_encodings:\n",
    "            face_encodinglist =tuple(face_encoding.tolist())\n",
    "            # Check if the face encoding already exists\n",
    "            if face_encodinglist not in self.face_encodings:\n",
    "                # Add the face encoding to the list of face encodings\n",
    "                self.face_encodings.setdefault(face_encodinglist, [])\n",
    "\n",
    "                # Print a message for new faces\n",
    "                print(f\"New face found in image {str(image_path)}: {face_encodinglist}\")\n",
    "\n",
    "            # Associate the image path with the face encoding\n",
    "            self.face_encodings[face_encodinglist].append(str(image_path))\n",
    "\n",
    "            # Associate the face encoding with the image\n",
    "            self.image_faces.setdefault(str(image_path), []).append(face_encodinglist)\n",
    "\n",
    "    def get_image_faces(self, image_path):\n",
    "        # Return the list of face encodings associated with the image\n",
    "        return self.image_faces.get(image_path, [])\n",
    "\n",
    "    def get_face_images(self, face_encoding):\n",
    "        # Return the list of image paths associated with the face encoding\n",
    "        return self.face_encodings.get(tuple(face_encoding.tolist()), [])"
   ]
  },
  {
   "cell_type": "code",
   "execution_count": null,
   "id": "c9371f9b-d8b7-4820-9c1f-51705a7199f8",
   "metadata": {},
   "outputs": [],
   "source": [
    "fm = FaceImageMap()\n"
   ]
  },
  {
   "cell_type": "code",
   "execution_count": null,
   "id": "8543b912-61bb-4214-ae40-aeafd2f511d5",
   "metadata": {
    "tags": []
   },
   "outputs": [],
   "source": [
    "for path in Path('input').iterdir():\n",
    "    fm.add_image(path)"
   ]
  },
  {
   "cell_type": "code",
   "execution_count": null,
   "id": "6311deed-58a8-40d7-b857-c472fd4aec9b",
   "metadata": {
    "tags": []
   },
   "outputs": [],
   "source": [
    "fm.image_faces"
   ]
  },
  {
   "cell_type": "code",
   "execution_count": 37,
   "id": "0c58fce6-2bff-461d-9dfd-8c7adefc2d65",
   "metadata": {
    "tags": []
   },
   "outputs": [
    {
     "data": {
      "text/plain": [
       "2"
      ]
     },
     "execution_count": 37,
     "metadata": {},
     "output_type": "execute_result"
    }
   ],
   "source": [
    "len(fm.image_faces['input/PXL_20220731_003413160.MP (1).jpg'])"
   ]
  },
  {
   "cell_type": "code",
   "execution_count": null,
   "id": "da3654f1-4233-41fb-854d-53bcdd559a1a",
   "metadata": {},
   "outputs": [],
   "source": []
  },
  {
   "cell_type": "code",
   "execution_count": null,
   "id": "15424a26-cc26-4f23-bbf1-575b25d75b03",
   "metadata": {},
   "outputs": [],
   "source": []
  }
 ],
 "metadata": {
  "kernelspec": {
   "display_name": "Python 3 (ipykernel)",
   "language": "python",
   "name": "python3"
  },
  "language_info": {
   "codemirror_mode": {
    "name": "ipython",
    "version": 3
   },
   "file_extension": ".py",
   "mimetype": "text/x-python",
   "name": "python",
   "nbconvert_exporter": "python",
   "pygments_lexer": "ipython3",
   "version": "3.10.7"
  }
 },
 "nbformat": 4,
 "nbformat_minor": 5
}
