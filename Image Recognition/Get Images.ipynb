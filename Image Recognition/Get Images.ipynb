{
 "cells": [
  {
   "cell_type": "code",
   "execution_count": null,
   "id": "901cda6a-e216-4810-9f57-42da4396ed69",
   "metadata": {},
   "outputs": [],
   "source": [
    "import random\n",
    "from pathlib import Path\n",
    "from urllib.parse import unquote\n",
    "\n",
    "import bs4\n",
    "import requests\n",
    "from tqdm.notebook import tqdm"
   ]
  },
  {
   "cell_type": "code",
   "execution_count": null,
   "id": "d3541e3a-da02-4dbd-8788-6e53dc7fefd4",
   "metadata": {},
   "outputs": [],
   "source": [
    "import jsonpickle\n",
    "\n",
    "ic = Path(\"ItemCache.json\")\n",
    "if not ic.exists():\n",
    "    print(\"Performing Index\")\n",
    "    start_url = \"https://runescape.wiki/w/Category:Item_inventory_images\"\n",
    "    scan_list = [start_url]\n",
    "    item_pages = []\n",
    "    broken = []\n",
    "\n",
    "    while len(scan_list) > 0:\n",
    "        item = scan_list.pop(0)\n",
    "        print(item, len(item_pages))\n",
    "        res = requests.get(\n",
    "            item,\n",
    "            headers={\n",
    "                \"User-Agent\": \"Mozilla/5.0 (X11; Linux x86_64) AppleWebKit/537.36 (KHTML, like Gecko) Chrome/105.0.0.0 Safari/537.36\"\n",
    "            },\n",
    "        )\n",
    "        if res.status_code == 200:\n",
    "            soup = bs4.BeautifulSoup(res.text)\n",
    "            for link in soup.find_all(\"a\"):\n",
    "                if link.text == \"next page\":\n",
    "                    scan_list.append(\"https://runescape.wiki\" + link[\"href\"])\n",
    "                    break\n",
    "            for item in soup.find(\"ul\", {\"class\": \"gallery\"}).find_all(\"a\"):\n",
    "                img = item.find(\"img\")\n",
    "                if img is not None:\n",
    "                    item = (item[\"href\"], img.attrs[\"src\"])\n",
    "                    if item not in item_pages:\n",
    "                        item_pages.append(item)\n",
    "                else:\n",
    "                    broken.append(item)\n",
    "    ic.write_text(jsonpickle.encode(item_pages))\n",
    "else:\n",
    "    print(\"Index Loaded\")\n",
    "    item_pages = jsonpickle.decode(ic.read_text())\n",
    "print(len(item_pages), \"items\")"
   ]
  },
  {
   "cell_type": "code",
   "execution_count": null,
   "id": "248ae883-f920-4a80-bc2b-01d0b9d7ffc1",
   "metadata": {},
   "outputs": [],
   "source": [
    "file_storage = Path(\"wiki_items/\")\n",
    "file_storage.mkdir(exist_ok=True)"
   ]
  },
  {
   "cell_type": "code",
   "execution_count": null,
   "id": "046061f7-ddca-4e6e-bc49-434e89baca04",
   "metadata": {},
   "outputs": [],
   "source": [
    "broken = []"
   ]
  },
  {
   "cell_type": "code",
   "execution_count": null,
   "id": "3cec7ef4-284d-4cb7-98fc-ba0f85c43bcc",
   "metadata": {},
   "outputs": [],
   "source": [
    "with tqdm(total=len(item_pages)) as progress:\n",
    "    for page, file in item_pages:\n",
    "        url = \"https://runescape.wiki\" + page\n",
    "        try:\n",
    "            name = unquote(url.split(\":\")[2].split(\".\")[0]).strip('\"')\n",
    "        except Exception as e:\n",
    "            broken.append((page, file, e))\n",
    "            continue\n",
    "        if type(file) != str:\n",
    "            file = file[\"href\"]\n",
    "        p = Path(file_storage, f\"{name}.png\")\n",
    "        if not p.exists():\n",
    "            progress.set_postfix_str(name)\n",
    "            progress.update()\n",
    "            res = requests.get(\n",
    "                \"https://runescape.wiki\" + file,\n",
    "                timeout=5,\n",
    "                headers={\n",
    "                    \"User-Agent\": \"Mozilla/5.0 (X11; Linux x86_64) AppleWebKit/537.36 (KHTML, like Gecko) Chrome/105.0.0.0 Safari/537.36\"\n",
    "                },\n",
    "            )\n",
    "            p.write_bytes(res.content)\n",
    "            continue\n",
    "        progress.update()\n",
    "print(\"done\")"
   ]
  },
  {
   "cell_type": "code",
   "execution_count": null,
   "id": "d0c2ff98-2878-46ab-ae8a-c171b43ff662",
   "metadata": {},
   "outputs": [],
   "source": [
    "len(broken)"
   ]
  }
 ],
 "metadata": {
  "autoscrollcelloutput": true,
  "kernelspec": {
   "display_name": "Python 3 (ipykernel)",
   "language": "python",
   "name": "python3"
  },
  "language_info": {
   "codemirror_mode": {
    "name": "ipython",
    "version": 3
   },
   "file_extension": ".py",
   "mimetype": "text/x-python",
   "name": "python",
   "nbconvert_exporter": "python",
   "pygments_lexer": "ipython3",
   "version": "3.10.4"
  },
  "scenes_data": {
   "active_scene": "Default Scene",
   "init_scene": "",
   "scenes": [
    "Default Scene"
   ]
  },
  "widgets": {
   "application/vnd.jupyter.widget-state+json": {
    "state": {
     "1b73b39930b743219b8f4a7ae81e5443": {
      "model_module": "@jupyter-widgets/base",
      "model_module_version": "1.2.0",
      "model_name": "LayoutModel",
      "state": {}
     },
     "7af657a1b2354df39b3a999e25fe3bc5": {
      "model_module": "@jupyter-widgets/base",
      "model_module_version": "1.2.0",
      "model_name": "LayoutModel",
      "state": {}
     },
     "9b9fab38363d4309b17f717fcac58b38": {
      "model_module": "@jupyter-widgets/controls",
      "model_module_version": "1.5.0",
      "model_name": "HBoxModel",
      "state": {
       "children": [
        "IPY_MODEL_f911a95354824159a52e7526b5744227",
        "IPY_MODEL_bebfcaaee56546c6831ec16bb79e7b8b",
        "IPY_MODEL_fb9ed8621ded402b8facbb29dbceef65"
       ],
       "layout": "IPY_MODEL_a176a0191d9b4f89a3f2c108260f8913"
      }
     },
     "a176a0191d9b4f89a3f2c108260f8913": {
      "model_module": "@jupyter-widgets/base",
      "model_module_version": "1.2.0",
      "model_name": "LayoutModel",
      "state": {}
     },
     "bebfcaaee56546c6831ec16bb79e7b8b": {
      "model_module": "@jupyter-widgets/controls",
      "model_module_version": "1.5.0",
      "model_name": "FloatProgressModel",
      "state": {
       "bar_style": "danger",
       "layout": "IPY_MODEL_fd0bceaf724e428c9cbcac2259990833",
       "max": 31859,
       "style": "IPY_MODEL_ce8dcb2c9d2645778143b5e9fab03b4f",
       "value": 68
      }
     },
     "c06c0eaa82c74c279cce9505d3916662": {
      "model_module": "@jupyter-widgets/controls",
      "model_module_version": "1.5.0",
      "model_name": "DescriptionStyleModel",
      "state": {
       "description_width": ""
      }
     },
     "ce8dcb2c9d2645778143b5e9fab03b4f": {
      "model_module": "@jupyter-widgets/controls",
      "model_module_version": "1.5.0",
      "model_name": "ProgressStyleModel",
      "state": {
       "description_width": ""
      }
     },
     "e5ee789d94d3453aaac5da2e074ca800": {
      "model_module": "@jupyter-widgets/controls",
      "model_module_version": "1.5.0",
      "model_name": "DescriptionStyleModel",
      "state": {
       "description_width": ""
      }
     },
     "f911a95354824159a52e7526b5744227": {
      "model_module": "@jupyter-widgets/controls",
      "model_module_version": "1.5.0",
      "model_name": "HTMLModel",
      "state": {
       "layout": "IPY_MODEL_1b73b39930b743219b8f4a7ae81e5443",
       "style": "IPY_MODEL_e5ee789d94d3453aaac5da2e074ca800",
       "value": "  0%"
      }
     },
     "fb9ed8621ded402b8facbb29dbceef65": {
      "model_module": "@jupyter-widgets/controls",
      "model_module_version": "1.5.0",
      "model_name": "HTMLModel",
      "state": {
       "layout": "IPY_MODEL_7af657a1b2354df39b3a999e25fe3bc5",
       "style": "IPY_MODEL_c06c0eaa82c74c279cce9505d3916662",
       "value": " 68/31859 [00:23&lt;3:33:50,  2.48it/s, &#x27;perfect&#x27;_necklace_(October_2005)]"
      }
     },
     "fd0bceaf724e428c9cbcac2259990833": {
      "model_module": "@jupyter-widgets/base",
      "model_module_version": "1.2.0",
      "model_name": "LayoutModel",
      "state": {}
     }
    },
    "version_major": 2,
    "version_minor": 0
   }
  }
 },
 "nbformat": 4,
 "nbformat_minor": 5
}
