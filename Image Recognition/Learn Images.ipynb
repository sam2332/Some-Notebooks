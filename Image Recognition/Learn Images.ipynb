{
 "cells": [
  {
   "cell_type": "code",
   "execution_count": 57,
   "id": "5a5da42d-45cd-4909-92ba-4125500c5a0d",
   "metadata": {},
   "outputs": [],
   "source": [
    "import os\n",
    "import random\n",
    "from pathlib import Path\n",
    "\n",
    "import numpy as np\n",
    "import PIL\n",
    "import PIL.Image\n",
    "import tensorflow as tf"
   ]
  },
  {
   "cell_type": "code",
   "execution_count": 58,
   "id": "631f9592-00f5-40d6-a6b0-7277203772bc",
   "metadata": {},
   "outputs": [
    {
     "data": {
      "text/plain": [
       "True"
      ]
     },
     "execution_count": 58,
     "metadata": {},
     "output_type": "execute_result"
    }
   ],
   "source": [
    "data_dir = Path(\"./wiki_items\")\n",
    "data_dir.exists()"
   ]
  },
  {
   "cell_type": "code",
   "execution_count": 76,
   "id": "9d4079ed-1203-4817-81d0-5df42be21066",
   "metadata": {},
   "outputs": [
    {
     "name": "stdout",
     "output_type": "stream",
     "text": [
      "32 32\n"
     ]
    }
   ],
   "source": [
    "max_w = 0\n",
    "max_h = 0\n",
    "files = list(data_dir.glob(\"*\"))\n",
    "broken = []\n",
    "for f in files:\n",
    "    try:\n",
    "        i = PIL.Image.open(str(f))\n",
    "        max_w = max(max_w, i.size[1])\n",
    "        max_h = max(max_h, i.size[0])\n",
    "        if i.size[0] >32 or i.size[1]>32:\n",
    "            f.unlink()\n",
    "            print(f)\n",
    "    except Exception as e:\n",
    "        print(e)\n",
    "        broken.append(f)\n",
    "        f.unlink()\n",
    "print(max_h, max_w)"
   ]
  },
  {
   "cell_type": "code",
   "execution_count": 70,
   "id": "e80ab3b6-8403-481c-b243-078e69f31381",
   "metadata": {},
   "outputs": [],
   "source": []
  },
  {
   "cell_type": "code",
   "execution_count": null,
   "id": "34b900d3-357b-4691-9fe9-6c791b973733",
   "metadata": {},
   "outputs": [],
   "source": []
  },
  {
   "cell_type": "code",
   "execution_count": null,
   "id": "b2459f80-7ff3-40b2-9861-7d8a48874170",
   "metadata": {},
   "outputs": [],
   "source": []
  }
 ],
 "metadata": {
  "kernelspec": {
   "display_name": "Python 3 (ipykernel)",
   "language": "python",
   "name": "python3"
  },
  "language_info": {
   "codemirror_mode": {
    "name": "ipython",
    "version": 3
   },
   "file_extension": ".py",
   "mimetype": "text/x-python",
   "name": "python",
   "nbconvert_exporter": "python",
   "pygments_lexer": "ipython3",
   "version": "3.10.4"
  },
  "scenes_data": {
   "active_scene": "Default Scene",
   "init_scene": "",
   "scenes": [
    "Default Scene"
   ]
  },
  "widgets": {
   "application/vnd.jupyter.widget-state+json": {
    "state": {},
    "version_major": 2,
    "version_minor": 0
   }
  }
 },
 "nbformat": 4,
 "nbformat_minor": 5
}
