{
 "cells": [
  {
   "cell_type": "code",
   "execution_count": 1,
   "id": "f604434a-297f-488c-8bee-4a20ad2608ea",
   "metadata": {},
   "outputs": [],
   "source": [
    "from PIL import Image, ImageFilter\n",
    "import math\n",
    "import time\n",
    "from tqdm import tqdm"
   ]
  },
  {
   "cell_type": "code",
   "execution_count": 3,
   "id": "ec605329-a062-4894-8603-77b0e4e0e906",
   "metadata": {
    "tags": []
   },
   "outputs": [
    {
     "name": "stdout",
     "output_type": "stream",
     "text": [
      "Click in the top left of Giga Manga Canvas\n",
      "Top Left (1780, 322)\n",
      "Click in the bottom right of Giga Manga Canvas\n",
      "Bottom Right (2298, 841)\n",
      "Selected Width 518\n",
      "Selected Height 519\n"
     ]
    }
   ],
   "source": [
    "from pynput import mouse\n",
    "top_left = None\n",
    "def on_click(x, y, button, pressed):\n",
    "    global top_left\n",
    "    if not pressed:\n",
    "        # Stop listener\n",
    "        top_left = (x,y)\n",
    "        return False\n",
    "print(\"Click in the top left of Giga Manga Canvas\")\n",
    "with mouse.Listener(\n",
    "        on_click=on_click) as listener:\n",
    "    listener.join()\n",
    "print('Top Left',top_left)\n",
    "\n",
    "bottom_right = None\n",
    "def on_click(x, y, button, pressed):\n",
    "    global bottom_right\n",
    "    if not pressed:\n",
    "        # Stop listener\n",
    "        bottom_right = (x,y)\n",
    "        return False\n",
    "print(\"Click in the bottom right of Giga Manga Canvas\")\n",
    "with mouse.Listener(\n",
    "        on_click=on_click) as listener:\n",
    "    listener.join()\n",
    "print(\"Bottom Right\", bottom_right)\n",
    "s_width =  bottom_right[0]- top_left[0]\n",
    "s_height = bottom_right[1]- top_left[1]\n",
    "print('Selected Width', s_width)\n",
    "print('Selected Height', s_height)"
   ]
  },
  {
   "cell_type": "code",
   "execution_count": 25,
   "id": "ecf598ff-e254-43b6-ac82-b5e206dfc1d7",
   "metadata": {},
   "outputs": [],
   "source": [
    "fc_image = Image.open(\"porygon.png\")\n",
    "image = fc_image.convert(\"L\")\n",
    "image = image.filter(ImageFilter.FIND_EDGES)\n",
    "image.save(r\"Edge_Sample.png\")"
   ]
  },
  {
   "cell_type": "code",
   "execution_count": 26,
   "id": "10f82f2c-cca9-4671-914a-c7d9e7694c04",
   "metadata": {
    "tags": []
   },
   "outputs": [
    {
     "name": "stdout",
     "output_type": "stream",
     "text": [
      "image width smaller than canvas, centering\n",
      "image height smaller than canvas, centering\n",
      "w_padding 3\n",
      "h_padding 3\n"
     ]
    }
   ],
   "source": [
    "w_padding = 0\n",
    "h_padding = 0\n",
    "if s_width > image.width:\n",
    "    print('image width smaller than canvas, centering')\n",
    "    w_padding = (s_width-image.width) /2\n",
    "else:\n",
    "    print(\"Your image is larger than your selected width\")\n",
    "if s_height > image.height:\n",
    "    print('image height smaller than canvas, centering')\n",
    "    h_padding = (s_width-image.width) /2\n",
    "else:\n",
    "    print(\"Your image is larger than your selected height\")\n",
    "\n",
    "print('w_padding',math.floor(w_padding))\n",
    "print('h_padding',math.floor(h_padding))"
   ]
  },
  {
   "cell_type": "code",
   "execution_count": 27,
   "id": "84a0ad7b-8f6d-4ee2-8746-d503ff0032d8",
   "metadata": {
    "tags": []
   },
   "outputs": [],
   "source": [
    "from pynput.mouse import Button, Controller\n",
    "mouse = Controller() "
   ]
  },
  {
   "cell_type": "code",
   "execution_count": 28,
   "id": "c1d6d92a-3178-463a-9edf-18d5bad9ae62",
   "metadata": {},
   "outputs": [],
   "source": [
    "class Line():\n",
    "    def __init__(self,xy1,xy2):\n",
    "        self.xy1 = xy1\n",
    "        self.xy2 = xy2\n",
    "        \n",
    "    def drag (self):\n",
    "        mouse.position = self.xy1\n",
    "        mouse.press(Button.left)\n",
    "        mouse.position = self.xy2\n",
    "        mouse.release(Button.left)"
   ]
  },
  {
   "cell_type": "code",
   "execution_count": 29,
   "id": "24521e6c-076f-4f07-a69a-d8a68d9def94",
   "metadata": {},
   "outputs": [],
   "source": [
    "class lineFinder():\n",
    "    def __init__(self,image,resolution):\n",
    "        self.image = image\n",
    "        self.lines = []\n",
    "        self.resolution =resolution\n",
    "        \n",
    "        \n",
    "    def addLine(self,row):\n",
    "        xy1 = min(row)\n",
    "        xy2 = max(row)\n",
    "        xy1 = ( xy1[0]+top_left[0]+w_padding , xy1[1]+top_left[1]+h_padding)\n",
    "        xy2 = ( xy2[0]+top_left[0]+w_padding , xy2[1]+top_left[1]+h_padding)\n",
    "        self.lines.append(Line(xy1,xy2))\n",
    "        \n",
    "    def detect(self):\n",
    "        inRow=False\n",
    "        image = self.image\n",
    "        for y in range(0,image.height,self.resolution):\n",
    "            for x in range(0,image.width,self.resolution):\n",
    "                pix = image.getpixel((x,y))\n",
    "                if pix > 1:\n",
    "                    if inRow:\n",
    "                        row.append((x,y))\n",
    "                    else:\n",
    "                        inRow=True\n",
    "                        row = []\n",
    "                else:\n",
    "                    if len(row)>1 and len(row) < 100:\n",
    "                        self.addLine(row)\n",
    "                    inRow=False\n",
    "                    row = []\n",
    "            if len(row)>1 and len(row) < 100:\n",
    "                self.addLine(row)\n",
    "                inRow=False\n",
    "                row = []\n",
    "                \n",
    "                \n",
    "        \n",
    "        inRow=False\n",
    "        for x in range(0,image.width,self.resolution):\n",
    "            for y in range(0,image.height,self.resolution):\n",
    "                pix = image.getpixel((x,y))\n",
    "                if pix > 1:\n",
    "                    if inRow:\n",
    "                        row.append((x,y))\n",
    "                    else:\n",
    "                        inRow=True\n",
    "                        row = []\n",
    "                else:\n",
    "                    if len(row)>1 and len(row) < 100:\n",
    "                        self.addLine(row)\n",
    "                    inRow=False\n",
    "                    row = []\n",
    "            if len(row)>1 and len(row) < 100:\n",
    "                self.addLine(row)\n",
    "                inRow=False\n",
    "                row = []"
   ]
  },
  {
   "cell_type": "code",
   "execution_count": 30,
   "id": "c5c70017-1efa-4fae-b804-dbedd1a856d8",
   "metadata": {},
   "outputs": [],
   "source": [
    "a = lineFinder(image,1)"
   ]
  },
  {
   "cell_type": "code",
   "execution_count": 31,
   "id": "1046efe0-3c33-45dc-9c4e-d2609fc0ae01",
   "metadata": {},
   "outputs": [],
   "source": [
    "a.detect()"
   ]
  },
  {
   "cell_type": "code",
   "execution_count": 32,
   "id": "d2856b39-4a11-4f27-8e8a-a1fe4ecd58ce",
   "metadata": {},
   "outputs": [
    {
     "name": "stderr",
     "output_type": "stream",
     "text": [
      "100%|████████████████████████████████████████████████████████████████████████████████████████████████████████████████████| 5038/5038 [02:02<00:00, 41.05it/s]\n"
     ]
    }
   ],
   "source": [
    "for c in tqdm(a.lines):\n",
    "    c.drag()\n",
    "    time.sleep(0.02)"
   ]
  },
  {
   "cell_type": "code",
   "execution_count": null,
   "id": "44d909c6-4b21-42f7-8eb5-6d0f78865845",
   "metadata": {},
   "outputs": [],
   "source": []
  }
 ],
 "metadata": {
  "kernelspec": {
   "display_name": "Python 3 (ipykernel)",
   "language": "python",
   "name": "python3"
  },
  "language_info": {
   "codemirror_mode": {
    "name": "ipython",
    "version": 3
   },
   "file_extension": ".py",
   "mimetype": "text/x-python",
   "name": "python",
   "nbconvert_exporter": "python",
   "pygments_lexer": "ipython3",
   "version": "3.8.10"
  }
 },
 "nbformat": 4,
 "nbformat_minor": 5
}
