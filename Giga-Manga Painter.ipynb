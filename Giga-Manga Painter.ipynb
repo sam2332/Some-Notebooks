{
 "cells": [
  {
   "cell_type": "code",
   "execution_count": 1,
   "id": "f604434a-297f-488c-8bee-4a20ad2608ea",
   "metadata": {},
   "outputs": [],
   "source": [
    "from PIL import Image, ImageFilter\n",
    "import math\n",
    "import time\n",
    "from tqdm import tqdm"
   ]
  },
  {
   "cell_type": "code",
   "execution_count": 170,
   "id": "c381f27b-58e0-42d9-949d-cac04d828c16",
   "metadata": {
    "tags": []
   },
   "outputs": [
    {
     "name": "stdout",
     "output_type": "stream",
     "text": [
      "Click in the top left of Giga Manga Canvas\n",
      "Top Left (1780, 324)\n",
      "Click in the bottom right of Giga Manga Canvas\n",
      "Bottom Right (2302, 789)\n",
      "Selected Width 522\n",
      "Selected Height 465\n"
     ]
    }
   ],
   "source": [
    "from pynput import mouse\n",
    "top_left = None\n",
    "def on_click(x, y, button, pressed):\n",
    "    global top_left\n",
    "    if not pressed:\n",
    "        # Stop listener\n",
    "        top_left = (x,y)\n",
    "        return False\n",
    "print(\"Click in the top left of Giga Manga Canvas\")\n",
    "with mouse.Listener(\n",
    "        on_click=on_click) as listener:\n",
    "    listener.join()\n",
    "print('Top Left',top_left)\n",
    "\n",
    "bottom_right = None\n",
    "def on_click(x, y, button, pressed):\n",
    "    global bottom_right\n",
    "    if not pressed:\n",
    "        # Stop listener\n",
    "        bottom_right = (x,y)\n",
    "        return False\n",
    "print(\"Click in the bottom right of Giga Manga Canvas\")\n",
    "with mouse.Listener(\n",
    "        on_click=on_click) as listener:\n",
    "    listener.join()\n",
    "print(\"Bottom Right\", bottom_right)\n",
    "s_width =  bottom_right[0]- top_left[0]\n",
    "s_height = bottom_right[1]- top_left[1]\n",
    "print('Selected Width', s_width)\n",
    "print('Selected Height', s_height)"
   ]
  },
  {
   "cell_type": "code",
   "execution_count": 171,
   "id": "ecf598ff-e254-43b6-ac82-b5e206dfc1d7",
   "metadata": {},
   "outputs": [
    {
     "name": "stdout",
     "output_type": "stream",
     "text": [
      "image size: (344, 597)\n"
     ]
    }
   ],
   "source": [
    "fc_image = Image.open(\"sailormoon.png\")\n",
    "image = fc_image.convert(\"L\")\n",
    "image = image.filter(ImageFilter.FIND_EDGES)\n",
    "image.save(r\"Edge_Sample.png\")\n",
    "print('image size:',(image.width,image.height))"
   ]
  },
  {
   "cell_type": "code",
   "execution_count": 172,
   "id": "10f82f2c-cca9-4671-914a-c7d9e7694c04",
   "metadata": {
    "tags": []
   },
   "outputs": [
    {
     "name": "stdout",
     "output_type": "stream",
     "text": [
      "image width smaller than canvas, centering\n",
      "Your image is larger than your selected height\n",
      "w_padding 89\n",
      "h_padding 0\n"
     ]
    }
   ],
   "source": [
    "w_padding = 0\n",
    "h_padding = 0\n",
    "if s_width > image.width:\n",
    "    print('image width smaller than canvas, centering')\n",
    "    w_padding = (s_width-image.width) /2\n",
    "else:\n",
    "    print(\"Your image is larger than your selected width\")\n",
    "if s_height > image.height:\n",
    "    print('image height smaller than canvas, centering')\n",
    "    h_padding = (s_height-image.height) /2\n",
    "else:\n",
    "    print(\"Your image is larger than your selected height\")\n",
    "\n",
    "print('w_padding',math.floor(w_padding))\n",
    "print('h_padding',math.floor(h_padding))"
   ]
  },
  {
   "cell_type": "code",
   "execution_count": 173,
   "id": "84a0ad7b-8f6d-4ee2-8746-d503ff0032d8",
   "metadata": {
    "tags": []
   },
   "outputs": [],
   "source": [
    "from pynput.mouse import Button, Controller\n",
    "mouse_c = Controller() "
   ]
  },
  {
   "cell_type": "code",
   "execution_count": 174,
   "id": "c1d6d92a-3178-463a-9edf-18d5bad9ae62",
   "metadata": {},
   "outputs": [],
   "source": [
    "class Line():\n",
    "    def __init__(self,xy1,xy2):\n",
    "        self.xy1 = xy1\n",
    "        self.xy2 = xy2\n",
    "        \n",
    "    def drag (self):\n",
    "        mouse_c.position = self.xy1\n",
    "        mouse_c.press(Button.left)\n",
    "        for x in range(self.xy1[0],self.xy2[0]):\n",
    "            for y in range(self.xy1[1],self.xy2[1]):\n",
    "                mouse.position = (x,y)\n",
    "        \n",
    "        mouse_c.position = self.xy2\n",
    "        mouse_c.release(Button.left)"
   ]
  },
  {
   "cell_type": "code",
   "execution_count": 175,
   "id": "24521e6c-076f-4f07-a69a-d8a68d9def94",
   "metadata": {},
   "outputs": [],
   "source": [
    "class lineFinder():\n",
    "    def __init__(self,image,resolution):\n",
    "        self.image = image\n",
    "        self.lines = []\n",
    "        self.resolution =resolution\n",
    "        \n",
    "        \n",
    "    def addLine(self,row):\n",
    "        xy1 = min(row)\n",
    "        xy2 = max(row)\n",
    "        xy1 = ( int(xy1[0]+top_left[0]+w_padding) , int(xy1[1]+top_left[1]+h_padding))\n",
    "        xy2 = ( int(xy2[0]+top_left[0]+w_padding) , int(xy2[1]+top_left[1]+h_padding))\n",
    "        self.lines.append(Line(xy1,xy2))\n",
    "        \n",
    "    def detect(self):\n",
    "        inRow=False\n",
    "        image = self.image\n",
    "        row = []\n",
    "        for y in range(0,image.height,self.resolution):\n",
    "            for x in range(0,image.width,self.resolution):\n",
    "                pix = image.getpixel((x,y))\n",
    "                if pix > 20:\n",
    "                    if inRow:\n",
    "                        row.append((x,y))\n",
    "                    else:\n",
    "                        inRow=True\n",
    "                        row = []\n",
    "                else:\n",
    "                    if len(row)>1 and len(row) < image.width/2:\n",
    "                        self.addLine(row)\n",
    "                    inRow=False\n",
    "                    row = []\n",
    "            if len(row)>1 and len(row) < image.width/2:\n",
    "                self.addLine(row)\n",
    "            inRow=False\n",
    "            row = []\n",
    "                \n",
    "                \n",
    "        \n",
    "        inRow=False\n",
    "        for x in range(0,image.width,self.resolution):\n",
    "            for y in range(0,image.height,self.resolution):\n",
    "                pix = image.getpixel((x,y))\n",
    "                if pix > 100:\n",
    "                    if inRow:\n",
    "                        row.append((x,y))\n",
    "                    else:\n",
    "                        inRow=True\n",
    "                        row = []\n",
    "                else:\n",
    "                    if len(row)>1 and len(row) < image.height/2:\n",
    "                        self.addLine(row)\n",
    "                    inRow=False\n",
    "                    row = []\n",
    "            if len(row)>1 and len(row) < image.height/2:\n",
    "                self.addLine(row)\n",
    "            inRow=False\n",
    "            row = []"
   ]
  },
  {
   "cell_type": "code",
   "execution_count": 176,
   "id": "c5c70017-1efa-4fae-b804-dbedd1a856d8",
   "metadata": {},
   "outputs": [],
   "source": [
    "a = lineFinder(image,1)"
   ]
  },
  {
   "cell_type": "code",
   "execution_count": 177,
   "id": "1046efe0-3c33-45dc-9c4e-d2609fc0ae01",
   "metadata": {},
   "outputs": [
    {
     "data": {
      "text/plain": [
       "4202"
      ]
     },
     "execution_count": 177,
     "metadata": {},
     "output_type": "execute_result"
    }
   ],
   "source": [
    "a.detect()\n",
    "len(a.lines)"
   ]
  },
  {
   "cell_type": "code",
   "execution_count": 178,
   "id": "d2856b39-4a11-4f27-8e8a-a1fe4ecd58ce",
   "metadata": {},
   "outputs": [
    {
     "name": "stderr",
     "output_type": "stream",
     "text": [
      "100%|██████████| 4202/4202 [07:23<00:00,  9.47it/s]\n"
     ]
    }
   ],
   "source": [
    "for c in tqdm(a.lines):\n",
    "    c.drag()\n",
    "    time.sleep(0.1)"
   ]
  },
  {
   "cell_type": "code",
   "execution_count": 179,
   "id": "3a4c8f0a-a904-442d-b7c9-d1bfe70f0441",
   "metadata": {
    "tags": []
   },
   "outputs": [
    {
     "name": "stdout",
     "output_type": "stream",
     "text": [
      "Click in the left topmost color on the pallet\n",
      "pallet_top_left (2381, 195)\n"
     ]
    }
   ],
   "source": [
    "pallet_top_left = None\n",
    "def on_click(x, y, button, pressed):\n",
    "    global pallet_top_left \n",
    "    if not pressed:\n",
    "        # Stop listener\n",
    "        pallet_top_left = (x,y)\n",
    "        return False\n",
    "print(\"Click in the left topmost color on the pallet\")\n",
    "with mouse.Listener(\n",
    "        on_click=on_click) as listener:\n",
    "    listener.join()\n",
    "print(\"pallet_top_left\", pallet_top_left)"
   ]
  },
  {
   "cell_type": "code",
   "execution_count": 181,
   "id": "fa936bd5-cf18-4a71-b704-06a3903695d0",
   "metadata": {
    "tags": []
   },
   "outputs": [
    {
     "name": "stdout",
     "output_type": "stream",
     "text": [
      "Click in the right bottom safe spot on the canvas\n",
      "pp_p (2299, 789)\n"
     ]
    }
   ],
   "source": [
    "pp_p = None\n",
    "def on_click(x, y, button, pressed):\n",
    "    global pp_p \n",
    "    if not pressed:\n",
    "        # Stop listener\n",
    "        pp_p = (x,y)\n",
    "        return False\n",
    "print(\"Click in the right bottom safe spot on the canvas\")\n",
    "with mouse.Listener(\n",
    "        on_click=on_click) as listener:\n",
    "    listener.join()\n",
    "print(\"pp_p\", pp_p)"
   ]
  },
  {
   "cell_type": "code",
   "execution_count": 182,
   "id": "24dd29e4-1a52-4168-8130-a9ce5a5791f8",
   "metadata": {
    "tags": []
   },
   "outputs": [],
   "source": [
    "def selectColorByRowAndCol(row,col):\n",
    "    global mouse_c\n",
    "    x = pallet_top_left[0] + ( col * 44)\n",
    "    y = pallet_top_left[1] + (row * 44)\n",
    "    mouse_c.position = (x,y) \n",
    "    mouse_c.press(Button.left)\n",
    "    time.sleep(0.5)\n",
    "    mouse_c.release(Button.left)\n",
    "    \n",
    "    time.sleep(1)"
   ]
  },
  {
   "cell_type": "code",
   "execution_count": 183,
   "id": "1c305042-256e-4f41-bf26-95f7fdebbf5d",
   "metadata": {
    "tags": []
   },
   "outputs": [],
   "source": [
    "def convertIndextoRowAndColumn(index):\n",
    "    row = int(index /7)\n",
    "    col = index -(row*7)\n",
    "    return (row,col)"
   ]
  },
  {
   "cell_type": "code",
   "execution_count": 184,
   "id": "f098cbd0-f611-4b20-a1ac-9fa108ddf95e",
   "metadata": {},
   "outputs": [],
   "source": [
    "from math import sqrt\n",
    "\n",
    "COLORS = {\n",
    "    0:[152,0,67], #magenta\n",
    "    1:[122,1,120], #purple\n",
    "    2:[36,50,147], # blue\n",
    "    3:[6,94,53], #green\n",
    "    4:[153,53,4], #brown\n",
    "    5:[188,1,38], #red\n",
    "    6:[34,34,34], #black\n",
    "    \n",
    "    7:[191,100,142], #pink\n",
    "    8:[186,119,182], # light purple\n",
    "    9:[120,138,191],# light blue\n",
    "    10:[99,156,111],# light green\n",
    "    11:[199,137,90],#light brown\n",
    "    12:[222,126,120],# salmon\n",
    "    13:[142,142,142], # gray\n",
    "    \n",
    "    14:[229,200,216], #lightest pink\n",
    "    15:[249,236,243], #lightest purple\n",
    "    16:[204,225,235], #lightest blue\n",
    "    17:[191,217,168], #lightest green\n",
    "    18:[245,221,176], #lightest brown\n",
    "    19:[255,251,202], #lightest yellow\n",
    "    20:[250,250,250], #white\n",
    "    \n",
    "}\n",
    "\n",
    "def closest_color(rgb):\n",
    "    r, g, b = rgb\n",
    "    color_diffs = []\n",
    "    for color in COLORS:\n",
    "        cr, cg, cb = COLORS[color]\n",
    "        color_diff = sqrt((r - cr)**2 + (g - cg)**2 + (b - cb)**2)\n",
    "        color_diffs.append((color_diff, COLORS[color],color))\n",
    "    return min(color_diffs)[2]"
   ]
  },
  {
   "cell_type": "code",
   "execution_count": 186,
   "id": "43d01c1c-7800-4bce-8caf-e1dddf274922",
   "metadata": {},
   "outputs": [],
   "source": [
    "from collections import defaultdict\n",
    "colorize = defaultdict(list)\n",
    "\n",
    "for y in range(1,image.height,20):\n",
    "    for x in range(1,fc_image.width,20):\n",
    "        pix = fc_image.getpixel((x,y))[:3]\n",
    "        \n",
    "        pallet_color = closest_color(pix)\n",
    "        px = int(x+top_left[0]+w_padding) \n",
    "        py=int(y+top_left[1]+h_padding)\n",
    "        if py < pp_p[1]:\n",
    "            colorize[pallet_color].append((px,py))\n",
    "        "
   ]
  },
  {
   "cell_type": "code",
   "execution_count": 187,
   "id": "c50b2d98-309b-452c-a35e-b28f6f8b8426",
   "metadata": {
    "tags": []
   },
   "outputs": [
    {
     "name": "stdout",
     "output_type": "stream",
     "text": [
      "6 199\n",
      "11 91\n",
      "12 12\n",
      "4 19\n",
      "19 3\n",
      "18 44\n",
      "13 3\n",
      "14 2\n",
      "15 6\n",
      "16 2\n",
      "20 2\n",
      "10 1\n",
      "0 1\n",
      "2 30\n",
      "9 2\n",
      "5 15\n"
     ]
    }
   ],
   "source": [
    "for item in colorize.keys():\n",
    "    print(item,len(colorize[item]))"
   ]
  },
  {
   "cell_type": "code",
   "execution_count": 188,
   "id": "75a2b4cb-ccb6-4ecd-9a67-490a365b55fd",
   "metadata": {},
   "outputs": [],
   "source": [
    "row,col = convertIndextoRowAndColumn(7)\n",
    "selectColorByRowAndCol(row,col)\n",
    "mouse_c.position = pp_p\n",
    "#mouse_c.click(Button.left)"
   ]
  },
  {
   "cell_type": "code",
   "execution_count": 189,
   "id": "0ba7f42e-d803-40cf-9b52-86d6a060c132",
   "metadata": {},
   "outputs": [
    {
     "name": "stdout",
     "output_type": "stream",
     "text": [
      "0 6\n"
     ]
    },
    {
     "name": "stderr",
     "output_type": "stream",
     "text": [
      "100%|██████████| 199/199 [00:00<00:00, 375.47it/s]\n"
     ]
    },
    {
     "name": "stdout",
     "output_type": "stream",
     "text": [
      "1 4\n"
     ]
    },
    {
     "name": "stderr",
     "output_type": "stream",
     "text": [
      "100%|██████████| 91/91 [00:00<00:00, 362.02it/s]\n"
     ]
    },
    {
     "name": "stdout",
     "output_type": "stream",
     "text": [
      "1 5\n"
     ]
    },
    {
     "name": "stderr",
     "output_type": "stream",
     "text": [
      "100%|██████████| 12/12 [00:00<00:00, 307.08it/s]\n"
     ]
    },
    {
     "name": "stdout",
     "output_type": "stream",
     "text": [
      "0 4\n"
     ]
    },
    {
     "name": "stderr",
     "output_type": "stream",
     "text": [
      "100%|██████████| 19/19 [00:00<00:00, 316.38it/s]\n"
     ]
    },
    {
     "name": "stdout",
     "output_type": "stream",
     "text": [
      "2 5\n"
     ]
    },
    {
     "name": "stderr",
     "output_type": "stream",
     "text": [
      "100%|██████████| 3/3 [00:00<00:00, 262.17it/s]\n"
     ]
    },
    {
     "name": "stdout",
     "output_type": "stream",
     "text": [
      "2 4\n"
     ]
    },
    {
     "name": "stderr",
     "output_type": "stream",
     "text": [
      "100%|██████████| 44/44 [00:00<00:00, 380.32it/s]\n"
     ]
    },
    {
     "name": "stdout",
     "output_type": "stream",
     "text": [
      "1 6\n"
     ]
    },
    {
     "name": "stderr",
     "output_type": "stream",
     "text": [
      "100%|██████████| 3/3 [00:00<00:00, 280.47it/s]\n"
     ]
    },
    {
     "name": "stdout",
     "output_type": "stream",
     "text": [
      "2 0\n"
     ]
    },
    {
     "name": "stderr",
     "output_type": "stream",
     "text": [
      "100%|██████████| 2/2 [00:00<00:00, 236.11it/s]\n"
     ]
    },
    {
     "name": "stdout",
     "output_type": "stream",
     "text": [
      "2 1\n"
     ]
    },
    {
     "name": "stderr",
     "output_type": "stream",
     "text": [
      "100%|██████████| 6/6 [00:00<00:00, 296.84it/s]\n"
     ]
    },
    {
     "name": "stdout",
     "output_type": "stream",
     "text": [
      "2 2\n"
     ]
    },
    {
     "name": "stderr",
     "output_type": "stream",
     "text": [
      "100%|██████████| 2/2 [00:00<00:00, 259.30it/s]\n"
     ]
    },
    {
     "name": "stdout",
     "output_type": "stream",
     "text": [
      "2 6\n"
     ]
    },
    {
     "name": "stderr",
     "output_type": "stream",
     "text": [
      "100%|██████████| 2/2 [00:00<00:00, 197.14it/s]\n"
     ]
    },
    {
     "name": "stdout",
     "output_type": "stream",
     "text": [
      "1 3\n"
     ]
    },
    {
     "name": "stderr",
     "output_type": "stream",
     "text": [
      "100%|██████████| 1/1 [00:00<00:00, 302.10it/s]\n"
     ]
    },
    {
     "name": "stdout",
     "output_type": "stream",
     "text": [
      "0 0\n"
     ]
    },
    {
     "name": "stderr",
     "output_type": "stream",
     "text": [
      "100%|██████████| 1/1 [00:00<00:00, 242.14it/s]\n"
     ]
    },
    {
     "name": "stdout",
     "output_type": "stream",
     "text": [
      "0 2\n"
     ]
    },
    {
     "name": "stderr",
     "output_type": "stream",
     "text": [
      "100%|██████████| 30/30 [00:00<00:00, 393.32it/s]\n"
     ]
    },
    {
     "name": "stdout",
     "output_type": "stream",
     "text": [
      "1 2\n"
     ]
    },
    {
     "name": "stderr",
     "output_type": "stream",
     "text": [
      "100%|██████████| 2/2 [00:00<00:00, 294.16it/s]\n"
     ]
    },
    {
     "name": "stdout",
     "output_type": "stream",
     "text": [
      "0 5\n"
     ]
    },
    {
     "name": "stderr",
     "output_type": "stream",
     "text": [
      "100%|██████████| 15/15 [00:00<00:00, 350.10it/s]\n"
     ]
    }
   ],
   "source": [
    "for color in colorize:\n",
    "    row,col = convertIndextoRowAndColumn(color)\n",
    "    selectColorByRowAndCol(row,col)\n",
    "    mouse_c.position = pp_p\n",
    "    mouse_c.click(Button.left)\n",
    "    print(row,col)\n",
    "    \n",
    "    \n",
    "    time.sleep(1)\n",
    "    m = 10\n",
    "    for xy in tqdm(colorize[color]):  \n",
    "        mouse_c.position = xy\n",
    "        mouse_c.press(Button.left)\n",
    "        \n",
    "        mouse_c.position = (xy[0]+1,xy[1])\n",
    "        mouse_c.release(Button.left)\n",
    "        "
   ]
  },
  {
   "cell_type": "code",
   "execution_count": null,
   "id": "6d34d1cd-8833-4dce-bee5-9cd340231afc",
   "metadata": {},
   "outputs": [],
   "source": []
  }
 ],
 "metadata": {
  "kernelspec": {
   "display_name": "Python 3 (ipykernel)",
   "language": "python",
   "name": "python3"
  },
  "language_info": {
   "codemirror_mode": {
    "name": "ipython",
    "version": 3
   },
   "file_extension": ".py",
   "mimetype": "text/x-python",
   "name": "python",
   "nbconvert_exporter": "python",
   "pygments_lexer": "ipython3",
   "version": "3.8.10"
  }
 },
 "nbformat": 4,
 "nbformat_minor": 5
}
