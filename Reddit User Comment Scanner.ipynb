{
 "cells": [
  {
   "cell_type": "code",
   "execution_count": 24,
   "id": "bf0dbbaa-c1b3-470e-849b-7df362d72ae9",
   "metadata": {},
   "outputs": [],
   "source": [
    "username =\"\""
   ]
  },
  {
   "cell_type": "code",
   "execution_count": 25,
   "id": "8d3aad82-6ec0-4829-b4c0-3d1c22999bae",
   "metadata": {},
   "outputs": [],
   "source": [
    "from collections import defaultdict\n",
    "import requests"
   ]
  },
  {
   "cell_type": "code",
   "execution_count": 26,
   "id": "1f4956bb-f13f-45f7-98ee-425842056441",
   "metadata": {},
   "outputs": [],
   "source": [
    "class RedditClient():\n",
    "    def __init__(self):\n",
    "        self.headers = {'User-Agent':\"User-Bot 0.1 by Some User\"}\n",
    "        self.client = requests.Session()\n",
    "        self.client.headers = self.headers\n",
    "    def getUrlJson(self,url):\n",
    "        return self.client.get(url).json()"
   ]
  },
  {
   "cell_type": "code",
   "execution_count": 31,
   "id": "e0e5751a-5130-4556-953b-20506b8f3646",
   "metadata": {},
   "outputs": [],
   "source": [
    "r = RedditClient()\n",
    "url = f\"https://api.reddit.com/user/{username}/\"\n",
    "data= r.getUrlJson(url)['data']['children']"
   ]
  },
  {
   "cell_type": "code",
   "execution_count": 31,
   "id": "2edc3fd7-ce2b-40eb-a4f8-32fd39c07500",
   "metadata": {},
   "outputs": [
    {
     "data": {
      "text/plain": [
       "{'r/interestingasfuck': 4,\n",
       " 'r/dankmemes': 3,\n",
       " 'r/AbruptChaos': 2,\n",
       " 'r/worldnews': 2,\n",
       " 'r/memes': 2,\n",
       " 'r/politics': 2,\n",
       " 'r/TrueOffMyChest': 2,\n",
       " 'r/oddlysatisfying': 1,\n",
       " 'r/NatureIsFuckingLit': 1,\n",
       " 'r/aww': 1,\n",
       " 'r/funny': 1,\n",
       " 'r/leopardgeckos': 1,\n",
       " 'r/holdmyredbull': 1,\n",
       " 'r/HolUp': 1,\n",
       " 'r/woahdude': 1}"
      ]
     },
     "execution_count": 31,
     "metadata": {},
     "output_type": "execute_result"
    }
   ],
   "source": [
    "\n",
    "subreddits = defaultdict(int)\n",
    "for post in data:\n",
    "    subreddits[post['data']['subreddit_name_prefixed']]+=1\n",
    "subreddits = dict(subreddits)\n",
    "dict(sorted(subreddits.items(), key=lambda item: item[1],reverse=True))"
   ]
  },
  {
   "cell_type": "code",
   "execution_count": 43,
   "id": "5c19f024-a4e6-4c18-a381-902e47332268",
   "metadata": {},
   "outputs": [
    {
     "data": {
      "text/plain": [
       "127"
      ]
     },
     "execution_count": 43,
     "metadata": {},
     "output_type": "execute_result"
    }
   ],
   "source": [
    "stop_words = requests.get(\"https://gist.githubusercontent.com/sebleier/554280/raw/7e0e4a1ce04c2bb7bd41089c9821dbcf6d0c786c/NLTK's%2520list%2520of%2520english%2520stopwords\").text.splitlines()\n",
    "len(stop_words)"
   ]
  },
  {
   "cell_type": "code",
   "execution_count": 46,
   "id": "d99cea98-9151-4c3d-9c06-bbe57cab602d",
   "metadata": {},
   "outputs": [
    {
     "data": {
      "text/plain": [
       "{'little': 4,\n",
       " 'though': 3,\n",
       " 'country': 3,\n",
       " 'im': 3,\n",
       " 'worry': 3,\n",
       " 'always': 3,\n",
       " 'feel': 2,\n",
       " 'oligarchs': 2,\n",
       " 'saying': 2,\n",
       " 'enough': 2,\n",
       " 'stop': 2,\n",
       " 'theyre': 2,\n",
       " 'narcissist': 2,\n",
       " 'even': 2,\n",
       " 'shit': 2,\n",
       " '100': 1,\n",
       " 'week!': 1,\n",
       " 'hahahahahahahaha': 1,\n",
       " 'repost': 1,\n",
       " 'arranged': 1,\n",
       " ':d': 1,\n",
       " 'real': 1,\n",
       " 'lol': 1,\n",
       " 'literally': 1,\n",
       " 'said': 1,\n",
       " 'thing': 1,\n",
       " 'saw': 1,\n",
       " 'picture': 1,\n",
       " 'help!': 1,\n",
       " 'keeps': 1,\n",
       " 'playing': 1,\n",
       " 'loop': 1,\n",
       " 'like': 1,\n",
       " 'cat': 1,\n",
       " 'like\"': 1,\n",
       " 'susan,': 1,\n",
       " 'done': 1,\n",
       " 'this??': 1,\n",
       " 'eyes': 1,\n",
       " 'susan...': 1,\n",
       " 'why\"': 1,\n",
       " 'mmmmmmm': 1,\n",
       " 'seasoning': 1,\n",
       " 'completely': 1,\n",
       " 'read': 1,\n",
       " 'wrong': 1,\n",
       " 'thought': 1,\n",
       " 'neighbor': 1,\n",
       " 'pooping': 1,\n",
       " 'backyard....': 1,\n",
       " 'suddenly': 1,\n",
       " 'crosswind': 1,\n",
       " 'appears': 1,\n",
       " 'downvotes': 1,\n",
       " 'taste': 1,\n",
       " 'like??': 1,\n",
       " 'god': 1,\n",
       " '9': 1,\n",
       " 'minutes.': 1,\n",
       " 'somebody': 1,\n",
       " 'save': 1,\n",
       " 'wondering': 1,\n",
       " 'whats': 1,\n",
       " 'kind': 1,\n",
       " 'dress': 1,\n",
       " 'called?': 1,\n",
       " 'reposts': 1,\n",
       " 'lame': 1,\n",
       " 'peace': 1,\n",
       " 'you.': 1,\n",
       " 'hope': 1,\n",
       " 'escape': 1,\n",
       " 'country!': 1,\n",
       " 'worst': 1,\n",
       " 'world.': 1,\n",
       " 'usa': 1,\n",
       " 'much': 1,\n",
       " 'better,': 1,\n",
       " 'people,': 1,\n",
       " 'way': 1,\n",
       " 'resting,': 1,\n",
       " 'protesters': 1,\n",
       " 'dissidents,': 1,\n",
       " 'makes': 1,\n",
       " 'really': 1,\n",
       " 'wont': 1,\n",
       " 'people': 1,\n",
       " 'care': 1,\n",
       " 'left': 1,\n",
       " 'yeah': 1,\n",
       " 'sorry': 1,\n",
       " 'ukraine.': 1,\n",
       " 'bad': 1,\n",
       " 'russian': 1,\n",
       " 'pieces': 1,\n",
       " 'shit.': 1,\n",
       " 'definitely': 1,\n",
       " 'isnt': 1,\n",
       " 'zelinskis': 1,\n",
       " 'fault.': 1,\n",
       " 'hes': 1,\n",
       " 'defending': 1,\n",
       " 'goddamn': 1,\n",
       " 'foreign': 1,\n",
       " 'invaders.': 1,\n",
       " 'established': 1,\n",
       " 'long': 1,\n",
       " 'deal': 1,\n",
       " 'russias': 1,\n",
       " 'bullshit.': 1,\n",
       " 'trying': 1,\n",
       " 'take': 1,\n",
       " 'back': 1,\n",
       " 'whatever': 1,\n",
       " 'fuck': 1,\n",
       " 'think': 1,\n",
       " 'doing.': 1,\n",
       " 'putin': 1,\n",
       " 'another': 1,\n",
       " 'iteration': 1,\n",
       " 'hitler.': 1,\n",
       " 'nazis': 1,\n",
       " 'regime': 1,\n",
       " 'thinks': 1,\n",
       " 'establishing': 1,\n",
       " 'control': 1,\n",
       " 'over.': 1,\n",
       " 'glory': 1,\n",
       " 'ukraine!': 1,\n",
       " 'russia': 1,\n",
       " 'pay': 1,\n",
       " 'thank': 1,\n",
       " 'well': 1,\n",
       " 'going': 1,\n",
       " 'heads': 1,\n",
       " 'up,': 1,\n",
       " 'seem': 1,\n",
       " 'horrible.': 1,\n",
       " 'child': 1,\n",
       " 'leashes': 1,\n",
       " 'wonderful': 1,\n",
       " 'one': 1,\n",
       " 'running': 1,\n",
       " 'traffic': 1,\n",
       " ':-)': 1,\n",
       " 'let': 1,\n",
       " 'know': 1,\n",
       " 'get': 1,\n",
       " 'different': 1,\n",
       " 'come': 1,\n",
       " 'struggles.': 1,\n",
       " 'dont': 1,\n",
       " 'it.': 1,\n",
       " 'trust': 1,\n",
       " 'instincts': 1,\n",
       " 'gut.': 1,\n",
       " 'sure': 1,\n",
       " 'youll': 1,\n",
       " 'great': 1,\n",
       " 'parent': 1,\n",
       " 'remember': 1,\n",
       " 'compassion': 1,\n",
       " 'better': 1,\n",
       " 'strict': 1,\n",
       " 'hand.': 1,\n",
       " 'good': 1}"
      ]
     },
     "execution_count": 46,
     "metadata": {},
     "output_type": "execute_result"
    }
   ],
   "source": [
    "words = defaultdict(int)\n",
    "for post in data:\n",
    "    if post['kind'] =='t1':\n",
    "        for word in post['data']['body'].strip().replace(\"'\",'').lower().split():\n",
    "            if word not in stop_words:\n",
    "                words[word] +=1\n",
    "            \n",
    "word = dict(words)\n",
    "dict(sorted(words.items(), key=lambda item: item[1],reverse=True))"
   ]
  },
  {
   "cell_type": "code",
   "execution_count": null,
   "id": "82daac82-8a6d-494a-a4fd-51a86ee7db20",
   "metadata": {},
   "outputs": [],
   "source": []
  },
  {
   "cell_type": "code",
   "execution_count": null,
   "id": "a658d82a-19b4-4602-a4ca-1dc36e1912ea",
   "metadata": {},
   "outputs": [],
   "source": []
  }
 ],
 "metadata": {
  "kernelspec": {
   "display_name": "Python 3 (ipykernel)",
   "language": "python",
   "name": "python3"
  },
  "language_info": {
   "codemirror_mode": {
    "name": "ipython",
    "version": 3
   },
   "file_extension": ".py",
   "mimetype": "text/x-python",
   "name": "python",
   "nbconvert_exporter": "python",
   "pygments_lexer": "ipython3",
   "version": "3.8.10"
  }
 },
 "nbformat": 4,
 "nbformat_minor": 5
}
