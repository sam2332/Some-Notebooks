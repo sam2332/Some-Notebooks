{
 "cells": [
  {
   "cell_type": "code",
   "execution_count": 18,
   "id": "fac7d31f-1aab-4b00-bd10-1154f1319263",
   "metadata": {},
   "outputs": [],
   "source": [
    "from bs4 import BeautifulSoup\n",
    "from urllib.parse import urlparse\n",
    "import requests"
   ]
  },
  {
   "cell_type": "code",
   "execution_count": 19,
   "id": "38ec2d8c-b74a-469b-a61d-ed467653ae5c",
   "metadata": {},
   "outputs": [],
   "source": [
    "html = requests.get(\"https://www.ingham.org/Departments.aspx\").text\n",
    "\n",
    "# Parse the HTML using BeautifulSoup\n",
    "soup = BeautifulSoup(html, 'html.parser')"
   ]
  },
  {
   "cell_type": "code",
   "execution_count": 20,
   "id": "129f7cbc-75a4-4997-ba63-70ab9e8b6093",
   "metadata": {},
   "outputs": [],
   "source": [
    "content = soup.find('div',{'id':'dnn_FeaturedContentPane'})"
   ]
  },
  {
   "cell_type": "code",
   "execution_count": 21,
   "id": "0557b657-25af-47ed-a700-647fd9f9fd15",
   "metadata": {},
   "outputs": [
    {
     "name": "stdout",
     "output_type": "stream",
     "text": [
      "['https://dp.ingham.org', 'https://dr.ingham.org', 'https://fa.ingham.org', 'https://fs.ingham.org', 'https://pk.ingham.org', 'https://va.ingham.org', 'https://ac.ingham.org', 'https://cc.ingham.org', 'https://pd.ingham.org', 'https://ja.ingham.org', 'https://bc.ingham.org', 'https://rc.ingham.org', 'https://ic911.ingham.org', 'https://pr.ingham.org', 'https://sh.ingham.org', 'https://pa.ingham.org', 'https://rd.ingham.org', 'https://co.ingham.org', 'https://dei.ingham.org', 'https://pe.ingham.org', 'https://fb.ingham.org', 'https://dv.ingham.org', 'https://hc.ingham.org', 'https://clerk.ingham.org', 'https://eq.ingham.org', 'https://fc.ingham.org', 'https://potterparkzoo.org', 'https://hd.ingham.org', 'https://dc.ingham.org', 'https://tr.ingham.org', 'https://ce.ingham.org', 'https://pu.ingham.org']\n"
     ]
    }
   ],
   "source": [
    "# Extract all <a> tags with href attribute\n",
    "a_tags = content.find_all('a', href=True)\n",
    "\n",
    "# Initialize a set to store unique domains\n",
    "unique_domains = set()\n",
    "\n",
    "# Iterate over <a> tags and extract domains\n",
    "for a_tag in a_tags:\n",
    "    url = a_tag['href']\n",
    "    parsed_url = urlparse(url)\n",
    "    domain = parsed_url.netloc\n",
    "    # Add the domain to the set of unique domains\n",
    "    unique_domains.add(\"https://\"+domain)\n",
    "\n",
    "# Convert the set to a list\n",
    "domain_list = list(unique_domains)\n",
    "\n",
    "# Print the list of unique domains\n",
    "print(domain_list)"
   ]
  },
  {
   "cell_type": "code",
   "execution_count": 22,
   "id": "01746fd9-aa31-42fd-b1bd-e4691d00a65a",
   "metadata": {
    "tags": []
   },
   "outputs": [
    {
     "name": "stderr",
     "output_type": "stream",
     "text": [
      "100%|██████████████████████████████████████████████████████████████████████████████████| 32/32 [00:12<00:00,  2.62it/s]"
     ]
    },
    {
     "name": "stdout",
     "output_type": "stream",
     "text": [
      "https://dp.ingham.org: ['UA-202872430-1', 'UA-112479498-1', 'UA-202872430-1']\n",
      "https://dr.ingham.org: ['UA-202872430-1', 'UA-112551325-1', 'UA-202872430-1']\n",
      "https://fa.ingham.org: ['UA-202872430-1', 'UA-115097047-1', 'UA-202872430-1']\n",
      "https://fs.ingham.org: ['UA-202872430-1', 'UA-112479498-1', 'UA-202872430-1']\n",
      "https://ac.ingham.org: ['UA-202872430-1', 'UA-112479498-1', 'UA-202872430-1']\n",
      "https://cc.ingham.org: ['UA-202872430-1', 'UA-115107551-1', 'UA-202872430-1']\n",
      "https://pd.ingham.org: ['UA-202872430-1', 'UA-112479498-1', 'UA-202872430-1']\n",
      "https://ja.ingham.org: ['UA-202872430-1', 'UA-112479498-1', 'UA-202872430-1']\n",
      "https://bc.ingham.org: ['UA-30527142-1']\n",
      "https://rc.ingham.org: ['UA-202872430-1', 'UA-112479498-1', 'UA-202872430-1']\n",
      "https://ic911.ingham.org: ['UA-202872430-1', 'UA-112479498-1', 'UA-202872430-1']\n",
      "https://pr.ingham.org: ['UA-202872430-1', 'UA-115082049-1', 'UA-202872430-1']\n",
      "https://sh.ingham.org: ['UA-202872430-1', 'UA-112479498-1', 'UA-202872430-1']\n",
      "https://pa.ingham.org: ['UA-202872430-1', 'UA-112479498-1', 'UA-202872430-1']\n",
      "https://rd.ingham.org: ['UA-202872430-1', 'UA-112541393-1', 'UA-202872430-1']\n",
      "https://co.ingham.org: ['UA-202872430-1', 'UA-112479498-1', 'UA-202872430-1']\n",
      "https://dei.ingham.org: ['UA-202872430-1', 'UA-112479498-1', 'UA-202872430-1']\n",
      "https://fb.ingham.org: ['UA-202872430-1', 'G-WQ84GYKXB7', 'UA-202872430-1']\n",
      "https://dv.ingham.org: ['UA-202872430-1', 'UA-112479498-1', 'UA-202872430-1']\n",
      "https://hc.ingham.org: ['UA-202872430-1', 'UA-112479498-1', 'UA-202872430-1']\n",
      "https://clerk.ingham.org: ['UA-202872430-1', 'UA-112479498-1', 'UA-202872430-1']\n",
      "https://eq.ingham.org: ['UA-202872430-1', 'UA-112479498-1', 'UA-202872430-1']\n",
      "https://fc.ingham.org: ['UA-116437934-1', 'UA-202872430-1', 'UA-112479498-1', 'UA-202872430-1']\n",
      "https://potterparkzoo.org: ['UA-6633389-58', 'UA-6633389-58', 'UA-6633389-58']\n",
      "https://hd.ingham.org: ['UA-11777719-1']\n",
      "https://dc.ingham.org: ['UA-202872430-1', 'UA-112479498-1', 'UA-202872430-1']\n",
      "https://tr.ingham.org: ['UA-202872430-1', 'UA-112556002-1', 'UA-202872430-1']\n",
      "https://ce.ingham.org: ['UA-202872430-1', 'UA-112479498-1', 'UA-202872430-1']\n",
      "https://pu.ingham.org: ['UA-30489415-1']\n"
     ]
    },
    {
     "name": "stderr",
     "output_type": "stream",
     "text": [
      "\n"
     ]
    }
   ],
   "source": [
    "import requests\n",
    "from bs4 import BeautifulSoup\n",
    "import re\n",
    "from collections import defaultdict\n",
    "from tqdm import tqdm\n",
    "def extract_gtag_ids(domains):\n",
    "    ids_by_domain = defaultdict(list)\n",
    "    for domain in tqdm(domains):\n",
    "        try:\n",
    "            # Fetch the HTML markup of the domain\n",
    "            response = requests.get(domain)\n",
    "            # Parse the HTML using BeautifulSoup\n",
    "            soup = BeautifulSoup(response.text, 'html.parser')\n",
    "            # Find all script tags in the HTML\n",
    "            script_tags = soup.find_all('script')\n",
    "            for script_tag in script_tags:\n",
    "                # Extract the content of the script tag\n",
    "                script_content = script_tag.string\n",
    "                if script_content:\n",
    "                    # Use regex to search for gtag ID patterns (e.g., 'G-XXXXXXXXXX')\n",
    "                    gtag_ids = re.findall(r'G-\\w+', script_content)\n",
    "                    ga_tracking_ids = re.findall(r'UA-\\d+-\\d+', script_content)\n",
    "                    \n",
    "                    for i in gtag_ids:\n",
    "                        ids_by_domain[domain].append(i)\n",
    "                    for i in ga_tracking_ids:\n",
    "                        ids_by_domain[domain].append(i)\n",
    "        except Exception as e:\n",
    "            print(f\"Error processing domain {domain}: {e}\")\n",
    "    return ids_by_domain\n",
    "\n",
    "\n",
    "# Extract the gtag IDs from the domains and store in a dictionary\n",
    "gtag_ids_by_domain = extract_gtag_ids(domain_list)\n",
    "\n",
    "# Print the extracted gtag IDs by domain\n",
    "for domain, gtag_ids in gtag_ids_by_domain.items():\n",
    "    print(f\"{domain}: {gtag_ids}\")"
   ]
  },
  {
   "cell_type": "code",
   "execution_count": null,
   "id": "2c0d9f62-6fe3-46df-a6a2-c849103342ff",
   "metadata": {},
   "outputs": [],
   "source": []
  }
 ],
 "metadata": {
  "autoscrollcelloutput": true,
  "kernelspec": {
   "display_name": "Python 3 (ipykernel)",
   "language": "python",
   "name": "python3"
  },
  "language_info": {
   "codemirror_mode": {
    "name": "ipython",
    "version": 3
   },
   "file_extension": ".py",
   "mimetype": "text/x-python",
   "name": "python",
   "nbconvert_exporter": "python",
   "pygments_lexer": "ipython3",
   "version": "3.10.7"
  }
 },
 "nbformat": 4,
 "nbformat_minor": 5
}
