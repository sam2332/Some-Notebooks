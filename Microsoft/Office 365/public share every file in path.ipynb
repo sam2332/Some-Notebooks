{
 "cells": [
  {
   "cell_type": "code",
   "execution_count": null,
   "id": "a96f3aaf-99dd-421f-849d-8f4677a0989f",
   "metadata": {},
   "outputs": [],
   "source": [
    "import io\n",
    "import os\n",
    "from pathlib import Path\n",
    "\n",
    "from dotenv import load_dotenv\n",
    "from O365 import Account\n",
    "\n",
    "load_dotenv(Path(\"~\").expanduser() / \"O365.env\")"
   ]
  },
  {
   "cell_type": "code",
   "execution_count": null,
   "id": "02473c4e-c2cd-4741-b0b9-c02f05f7ad2f",
   "metadata": {},
   "outputs": [],
   "source": [
    "def getO365Client():\n",
    "    app_principal = {\n",
    "        \"client_id\": os.environ[\"O365_client_id\"],\n",
    "        \"client_secret\": os.environ[\"O365_client_secret\"],\n",
    "        \"tenant_id\": os.environ[\"O365_tenant_id\"],\n",
    "    }\n",
    "    auth = (app_principal[\"client_id\"], app_principal[\"client_secret\"])\n",
    "    account = Account(\n",
    "        auth, auth_flow_type=\"credentials\", tenant_id=app_principal[\"tenant_id\"]\n",
    "    )\n",
    "    if account.authenticate(scope=[]):\n",
    "        return account\n",
    "    return None\n",
    "\n",
    "\n",
    "account = getO365Client()"
   ]
  },
  {
   "cell_type": "code",
   "execution_count": null,
   "id": "2d8fd729-5067-4fdf-b5eb-3feb583059d5",
   "metadata": {},
   "outputs": [],
   "source": []
  },
  {
   "cell_type": "code",
   "execution_count": null,
   "id": "0699b00a-0533-4ae0-b227-702e0ab8a13b",
   "metadata": {},
   "outputs": [],
   "source": [
    "dir(account)"
   ]
  },
  {
   "cell_type": "code",
   "execution_count": null,
   "id": "f9adb97d-a338-4e32-b7cf-3f983ac08386",
   "metadata": {},
   "outputs": [],
   "source": [
    "site = account.sharepoint().search_site(\"Purchasing Bids\")[0]"
   ]
  },
  {
   "cell_type": "code",
   "execution_count": null,
   "id": "47262b68-d9df-493e-82b9-75f4f37ea844",
   "metadata": {},
   "outputs": [],
   "source": [
    "library = site.list_document_libraries()[0]\n",
    "library"
   ]
  },
  {
   "cell_type": "code",
   "execution_count": null,
   "id": "da80ae05-5928-4926-9b42-30316fb43724",
   "metadata": {},
   "outputs": [],
   "source": [
    "root = list(library.get_items())\n",
    "root"
   ]
  },
  {
   "cell_type": "code",
   "execution_count": null,
   "id": "51b82034-d154-4819-b098-c1f403312a7f",
   "metadata": {},
   "outputs": [],
   "source": [
    "allowed = [\n",
    "    \"Purchasing Bids Owners\",\n",
    "    \"Purchasing Bids Visitors\",\n",
    "    \"Purchasing Bids Members\",\n",
    "    None,\n",
    "]\n",
    "permissionsToRemove = []\n",
    "\n",
    "for folder in root:\n",
    "    if \"RFPs\" in folder.name:\n",
    "\n",
    "        for permission in folder.get_permissions():\n",
    "            if permission.granted_to not in allowed:\n",
    "                print(folder, permission.roles, permission.granted_to)\n",
    "                # permission.delete()\n",
    "                permissionsToRemove.append(permission)\n",
    "        for subfolder in folder.get_items():\n",
    "            for permission in subfolder.get_permissions():\n",
    "                if permission.granted_to not in allowed:\n",
    "                    print(subfolder, permission.roles, permission.granted_to)\n",
    "                    # permission.delete()\n",
    "                    permissionsToRemove.append(permission)"
   ]
  },
  {
   "cell_type": "code",
   "execution_count": null,
   "id": "4ec7390b-ce42-4a64-a99a-3a71958dce59",
   "metadata": {},
   "outputs": [],
   "source": [
    "for folder in root:\n",
    "    if \"RFPs\" in folder.name:\n",
    "        print(folder)\n",
    "        if folder.shared is None:\n",
    "            link = folder.share_with_link()\n",
    "            print(link.share_link)\n",
    "        for subfolder in folder.get_items():\n",
    "            if subfolder.shared is None:\n",
    "                link = subfolder.share_with_link()\n",
    "                print(link.share_link)"
   ]
  },
  {
   "cell_type": "code",
   "execution_count": null,
   "id": "215358a6-9302-44bb-95ad-181754aa89a3",
   "metadata": {},
   "outputs": [],
   "source": []
  }
 ],
 "metadata": {
  "kernelspec": {
   "display_name": "Python 3 (ipykernel)",
   "language": "python",
   "name": "python3"
  },
  "language_info": {
   "codemirror_mode": {
    "name": "ipython",
    "version": 3
   },
   "file_extension": ".py",
   "mimetype": "text/x-python",
   "name": "python",
   "nbconvert_exporter": "python",
   "pygments_lexer": "ipython3",
   "version": "3.10.6"
  },
  "scenes_data": {
   "active_scene": "Default Scene",
   "init_scene": "",
   "scenes": [
    "Default Scene"
   ]
  },
  "widgets": {
   "application/vnd.jupyter.widget-state+json": {
    "state": {},
    "version_major": 2,
    "version_minor": 0
   }
  }
 },
 "nbformat": 4,
 "nbformat_minor": 5
}
