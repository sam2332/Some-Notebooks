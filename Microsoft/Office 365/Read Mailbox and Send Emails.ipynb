{
    "cells": [
        {
            "cell_type": "code",
            "execution_count": null,
            "id": "a96f3aaf-99dd-421f-849d-8f4677a0989f",
            "metadata": {},
            "outputs": [],
            "source": [
                "import dotenv\n",
                "\n",
                "dotenv.load_dotenv()\n",
                "import io\n",
                "import os\n",
                "\n",
                "from O365 import Account"
            ]
        },
        {
            "cell_type": "code",
            "execution_count": null,
            "id": "02473c4e-c2cd-4741-b0b9-c02f05f7ad2f",
            "metadata": {},
            "outputs": [],
            "source": [
                "def getO365Client():\n",
                "    app_principal = {\n",
                "        \"client_id\": os.environ[\"O365_client_id\"],\n",
                "        \"client_secret\": os.environ[\"O365_client_secret\"],\n",
                "        \"tenant_id\": os.environ[\"O365_tenant_id\"],\n",
                "    }\n",
                "    auth = (app_principal[\"client_id\"], app_principal[\"client_secret\"])\n",
                "    account = Account(\n",
                "        auth, auth_flow_type=\"credentials\", tenant_id=app_principal[\"tenant_id\"]\n",
                "    )\n",
                "    if account.authenticate(scope=[]):\n",
                "        return account\n",
                "    return None\n",
                "\n",
                "\n",
                "account = getO365Client()"
            ]
        },
        {
            "cell_type": "code",
            "execution_count": null,
            "id": "120eaf4c-eb90-4577-a24f-7d0f69f9fa52",
            "metadata": {},
            "outputs": [],
            "source": [
                "users = []\n",
                "for u in account.directory().get_users(5000):\n",
                "    if u.mail is not None:\n",
                "        # print(u.mail)\n",
                "        if \"h@ingham.org\" == u.mail.lower():\n",
                "            users.append(u)\n",
                "\n",
                "\n",
                "users"
            ]
        },
        {
            "cell_type": "code",
            "execution_count": null,
            "id": "e56614a2-caf0-4397-876c-caef29e0b7d2",
            "metadata": {},
            "outputs": [],
            "source": [
                "mailbox = account.mailbox(users[0].mail)\n",
                "mailbox"
            ]
        },
        {
            "cell_type": "code",
            "execution_count": null,
            "id": "23fccb4d-674d-4c0d-a326-9149ed48d231",
            "metadata": {},
            "outputs": [],
            "source": [
                "message = mailbox.new_message()\n",
                "message.subject = \"Boo\"\n",
                "message.body = \"<b>html</b>\"\n",
                "message.to.add(\"srudloff@ingham.org\")\n",
                "message.send()"
            ]
        },
        {
            "cell_type": "code",
            "execution_count": null,
            "id": "06a3ec1a-3d7c-450b-8575-9ea66cc999c8",
            "metadata": {},
            "outputs": [],
            "source": [
                "inbox = mailbox.get_folder(folder_name=\"Inbox\")\n",
                "child_folders = inbox.get_folders(25)\n",
                "for folder in child_folders:\n",
                "    print(folder.name, folder.parent_id)\n",
                "    for message in inbox.get_messages(5):\n",
                "        if message.subject == \"test\":\n",
                "            print(message.body)"
            ]
        },
        {
            "cell_type": "code",
            "execution_count": null,
            "id": "2d8fd729-5067-4fdf-b5eb-3feb583059d5",
            "metadata": {},
            "outputs": [],
            "source": []
        },
        {
            "cell_type": "code",
            "execution_count": null,
            "id": "0699b00a-0533-4ae0-b227-702e0ab8a13b",
            "metadata": {},
            "outputs": [],
            "source": []
        }
    ],
    "metadata": {
        "kernelspec": {
            "display_name": "Python 3 (ipykernel)",
            "language": "python",
            "name": "python3"
        },
        "language_info": {
            "codemirror_mode": {
                "name": "ipython",
                "version": 3
            },
            "file_extension": ".py",
            "mimetype": "text/x-python",
            "name": "python",
            "nbconvert_exporter": "python",
            "pygments_lexer": "ipython3",
            "version": "3.10.4"
        },
        "scenes_data": {
            "active_scene": "Default Scene",
            "init_scene": "",
            "scenes": [
                "Default Scene"
            ]
        },
        "widgets": {
            "application/vnd.jupyter.widget-state+json": {
                "state": {},
                "version_major": 2,
                "version_minor": 0
            }
        }
    },
    "nbformat": 4,
    "nbformat_minor": 5
}