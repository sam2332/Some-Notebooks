{
 "cells": [
  {
   "cell_type": "code",
   "execution_count": null,
   "id": "a96f3aaf-99dd-421f-849d-8f4677a0989f",
   "metadata": {},
   "outputs": [],
   "source": [
    "import csv\n",
    "import io\n",
    "import os\n",
    "from pathlib import Path\n",
    "\n",
    "from dotenv import load_dotenv\n",
    "from O365 import Account\n",
    "from tqdm import tqdm\n",
    "\n",
    "load_dotenv(Path(\"~\").expanduser() / \"O365.env\")"
   ]
  },
  {
   "cell_type": "code",
   "execution_count": null,
   "id": "02473c4e-c2cd-4741-b0b9-c02f05f7ad2f",
   "metadata": {},
   "outputs": [],
   "source": [
    "def getO365Client():\n",
    "    app_principal = {\n",
    "        \"client_id\": os.environ[\"O365_client_id\"],\n",
    "        \"client_secret\": os.environ[\"O365_client_secret\"],\n",
    "        \"tenant_id\": os.environ[\"O365_tenant_id\"],\n",
    "    }\n",
    "    auth = (app_principal[\"client_id\"], app_principal[\"client_secret\"])\n",
    "    account = Account(\n",
    "        auth, auth_flow_type=\"credentials\", tenant_id=app_principal[\"tenant_id\"]\n",
    "    )\n",
    "    if account.authenticate(scope=[]):\n",
    "        return account\n",
    "    return None\n",
    "\n",
    "\n",
    "account = getO365Client()"
   ]
  },
  {
   "cell_type": "code",
   "execution_count": null,
   "id": "f9adb97d-a338-4e32-b7cf-3f983ac08386",
   "metadata": {},
   "outputs": [],
   "source": [
    "site = account.sharepoint().search_site(\"Purchasing Bids\")[0]"
   ]
  },
  {
   "cell_type": "code",
   "execution_count": null,
   "id": "47262b68-d9df-493e-82b9-75f4f37ea844",
   "metadata": {},
   "outputs": [],
   "source": [
    "library = site.list_document_libraries()[0]\n",
    "library"
   ]
  },
  {
   "cell_type": "code",
   "execution_count": null,
   "id": "da80ae05-5928-4926-9b42-30316fb43724",
   "metadata": {},
   "outputs": [],
   "source": [
    "root = list(library.get_items())\n",
    "root.reverse()"
   ]
  },
  {
   "cell_type": "code",
   "execution_count": null,
   "id": "51b82034-d154-4819-b098-c1f403312a7f",
   "metadata": {
    "scrolled": true,
    "tags": []
   },
   "outputs": [],
   "source": [
    "allowed = [\n",
    "    \"Purchasing Bids Owners\",\n",
    "    \"Purchasing Bids Visitors\",\n",
    "    \"Purchasing Bids Members\",\n",
    "    None,\n",
    "]\n",
    "yearsToCheck = 3\n",
    "print(f\"scanning {yearsToCheck} years\")\n",
    "permissionsToRemove = []\n",
    "for folder in root:\n",
    "    if yearsToCheck == 0:\n",
    "        break\n",
    "    if \"RFPs\" in folder.name:\n",
    "        items = list(folder.get_items())\n",
    "        for subfolder in tqdm(items, desc=folder.name):\n",
    "            for permission in subfolder.get_permissions():\n",
    "                if permission.granted_to not in allowed:\n",
    "                    permissionsToRemove.append(permission)\n",
    "\n",
    "        for permission in folder.get_permissions():\n",
    "            if permission.granted_to not in allowed:\n",
    "                permissionsToRemove.append(permission)\n",
    "        yearsToCheck -= 1"
   ]
  },
  {
   "cell_type": "code",
   "execution_count": null,
   "id": "215358a6-9302-44bb-95ad-181754aa89a3",
   "metadata": {},
   "outputs": [],
   "source": [
    "print(\"Exporting Report\")\n",
    "with open(\"report.csv\", \"w\") as csvfile:\n",
    "    fieldnames = [\"folder\", \"file name\", \"permission\", \"users name\"]\n",
    "    writer = csv.DictWriter(csvfile, fieldnames=fieldnames)\n",
    "    writer.writeheader()\n",
    "    for p in permissionsToRemove:\n",
    "        if p.roles[0] == \"read\":\n",
    "            continue\n",
    "        writer.writerow(\n",
    "            {\n",
    "                \"folder\": p._parent._parent.name,\n",
    "                \"file name\": p._parent.name,\n",
    "                \"permission\": p.roles[0],\n",
    "                \"users name\": p.granted_to,\n",
    "            }\n",
    "        )"
   ]
  },
  {
   "cell_type": "raw",
   "id": "40e56e40-b682-4933-8ce7-3675913b2422",
   "metadata": {},
   "source": [
    "for p in permissionsToRemove:\n",
    "    if p.roles[0] != \"write\":\n",
    "        continue\n",
    "    if p.granted_to != \"USERNAME HERE\":\n",
    "        continue\n",
    "    p.delete()"
   ]
  },
  {
   "cell_type": "code",
   "execution_count": null,
   "id": "0c04aed9-ecec-4f23-8471-166b93a743fd",
   "metadata": {},
   "outputs": [],
   "source": [
    "permissionsToRemove"
   ]
  },
  {
   "cell_type": "raw",
   "id": "6987db8e-038e-423f-b714-577e7b4e9aae",
   "metadata": {},
   "source": []
  }
 ],
 "metadata": {
  "autoscrollcelloutput": true,
  "kernelspec": {
   "display_name": "Python 3 (ipykernel)",
   "language": "python",
   "name": "python3"
  },
  "language_info": {
   "codemirror_mode": {
    "name": "ipython",
    "version": 3
   },
   "file_extension": ".py",
   "mimetype": "text/x-python",
   "name": "python",
   "nbconvert_exporter": "python",
   "pygments_lexer": "ipython3",
   "version": "3.10.6"
  },
  "scenes_data": {
   "active_scene": "Default Scene",
   "init_scene": "",
   "scenes": [
    "Default Scene"
   ]
  },
  "widgets": {
   "application/vnd.jupyter.widget-state+json": {
    "state": {},
    "version_major": 2,
    "version_minor": 0
   }
  }
 },
 "nbformat": 4,
 "nbformat_minor": 5
}
