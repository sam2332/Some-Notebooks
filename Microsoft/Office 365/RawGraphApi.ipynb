{
 "cells": [
  {
   "cell_type": "code",
   "execution_count": null,
   "id": "2f74aeee-8bf9-4cb9-95a0-e3299dc119e5",
   "metadata": {},
   "outputs": [],
   "source": [
    "import io\n",
    "import json\n",
    "import logging\n",
    "import os\n",
    "import sys\n",
    "from datetime import datetime\n",
    "from pathlib import Path\n",
    "\n",
    "import jinja2\n",
    "import msal\n",
    "import requests\n",
    "from dotenv import load_dotenv\n",
    "from O365 import Account\n",
    "\n",
    "load_dotenv(Path(\"~\").expanduser() / \"O365.env\")"
   ]
  },
  {
   "cell_type": "code",
   "execution_count": null,
   "id": "328ab791-b60d-4335-8d8d-d61d31f79601",
   "metadata": {},
   "outputs": [],
   "source": [
    "class GraphApi:\n",
    "    def __init__(self, config):\n",
    "        self.config = config\n",
    "        self.client = self.getGraphClient()\n",
    "\n",
    "    def getGraphClient(self):\n",
    "        # Create a preferably long-lived app instance which maintains a token cache.\n",
    "        app = msal.ConfidentialClientApplication(\n",
    "            self.config[\"client_id\"],\n",
    "            authority=self.config[\"authority\"],\n",
    "            client_credential=self.config[\"client_secret\"],\n",
    "            # token_cache=...  # Default cache is in memory only.\n",
    "            # You can learn how to use SerializableTokenCache from\n",
    "            # https://msal-python.rtfd.io/en/latest/#msal.SerializableTokenCache\n",
    "        )\n",
    "\n",
    "        # The pattern to acquire a token looks like this.\n",
    "        result = None\n",
    "\n",
    "        # Firstly, looks up a token from cache\n",
    "        # Since we are looking for token for the current app, NOT for an end user,\n",
    "        # notice we give account parameter as None.\n",
    "        auth_result = app.acquire_token_silent(config[\"scope\"], account=None)\n",
    "\n",
    "        if not result:\n",
    "            auth_result = app.acquire_token_for_client(scopes=config[\"scope\"])\n",
    "\n",
    "        if not \"access_token\" in auth_result:\n",
    "            print(auth_result.get(\"error\"))\n",
    "            print(auth_result.get(\"error_description\"))\n",
    "            print(\n",
    "                auth_result.get(\"correlation_id\")\n",
    "            )  # You may need this when reporting a bug\n",
    "            # Calling graph using the access token\n",
    "            return False\n",
    "        return auth_result"
   ]
  },
  {
   "cell_type": "code",
   "execution_count": null,
   "id": "a69ca82f-5d5e-4a53-9e01-f559736fc1f3",
   "metadata": {},
   "outputs": [],
   "source": [
    "# Optional logging\n",
    "logging.basicConfig(level=logging.DEBUG)\n",
    "\n",
    "config = {\n",
    "    \"client_id\": os.environ[\"O365_client_id\"],\n",
    "    \"client_secret\": os.environ[\"O365_client_secret\"],\n",
    "    \"authority\": f\"https://login.microsoftonline.com/{os.environ['O365_tenant']}\",\n",
    "    \"scope\": [\"https://graph.microsoft.com/.default\"],\n",
    "    \"endpoint\": \"https://graph.microsoft.com/v1.0/\",\n",
    "}\n",
    "auth_result = GraphApi(config)"
   ]
  },
  {
   "cell_type": "code",
   "execution_count": null,
   "id": "10f51561-1dde-40d1-82a5-1fb8a50ca014",
   "metadata": {},
   "outputs": [],
   "source": []
  }
 ],
 "metadata": {
  "kernelspec": {
   "display_name": "Python 3 (ipykernel)",
   "language": "python",
   "name": "python3"
  },
  "language_info": {
   "codemirror_mode": {
    "name": "ipython",
    "version": 3
   },
   "file_extension": ".py",
   "mimetype": "text/x-python",
   "name": "python",
   "nbconvert_exporter": "python",
   "pygments_lexer": "ipython3",
   "version": "3.10.6"
  },
  "widgets": {
   "application/vnd.jupyter.widget-state+json": {
    "state": {},
    "version_major": 2,
    "version_minor": 0
   }
  }
 },
 "nbformat": 4,
 "nbformat_minor": 5
}
