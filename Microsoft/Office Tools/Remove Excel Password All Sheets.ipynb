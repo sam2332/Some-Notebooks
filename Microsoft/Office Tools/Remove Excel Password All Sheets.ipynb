{
 "cells": [
  {
   "cell_type": "code",
   "execution_count": null,
   "id": "993a0589-69b4-4173-a89a-7c16a941d897",
   "metadata": {},
   "outputs": [],
   "source": [
    "import re\n",
    "import shutil\n",
    "from zipfile import ZIP_DEFLATED, ZipFile"
   ]
  },
  {
   "cell_type": "code",
   "execution_count": null,
   "id": "eabab6da-df1a-4517-87ed-cffb0fe0da0f",
   "metadata": {},
   "outputs": [],
   "source": [
    "file = input(\"input name file\")\n",
    "shutil.copyfile(file, \"tmp.zip\")\n",
    "tmpfile = \"tmp.zip\"\n",
    "dest = f\"{file}_unprotected.\"+file.split('.')[-1]"
   ]
  },
  {
   "cell_type": "code",
   "execution_count": null,
   "id": "dfaf350e-a461-4647-9d36-8901449e550e",
   "metadata": {},
   "outputs": [],
   "source": [
    "debug = True\n",
    "with ZipFile(tmpfile, \"r\") as zipread:\n",
    "    Protection_files = []\n",
    "    for fn in zipread.filelist:\n",
    "        data = zipread.read(fn)\n",
    "        if b\"sheetProtection\" in data:\n",
    "            if debug:\n",
    "                print(fn)\n",
    "            Protection_files.append(fn.filename)\n",
    "\n",
    "    if len(Protection_files):\n",
    "        print(\"Found Password Protected Sheets\")\n",
    "        for Protection_file in Protection_files:\n",
    "            data = zipread.read(Protection_file)\n",
    "            with ZipFile(dest, \"w\", ZIP_DEFLATED) as zipwrite:\n",
    "                for fn in zipread.filelist:\n",
    "                    if debug:\n",
    "                        print(fn.filename)\n",
    "                    if fn.filename not in Protection_files:\n",
    "                        zipwrite.writestr(fn.filename, zipread.read(fn.filename))\n",
    "                    else:\n",
    "                        start = data.find(b\"<sheetProtection\")\n",
    "                        inquotes = False\n",
    "                        end = 0\n",
    "                        for letter_id in range(start, len(data)):\n",
    "                            letter = chr(data[letter_id])\n",
    "                            if debug:\n",
    "                                print(letter_id, letter)\n",
    "                            if inquotes:\n",
    "                                if letter == '\"':\n",
    "                                    inquotes = False\n",
    "                            else:\n",
    "                                if letter == '\"':\n",
    "                                    inquotes = True\n",
    "                                if letter == \"/\":\n",
    "                                    end = letter_id + 2\n",
    "                                    break\n",
    "                        if debug:\n",
    "                            print((start, end))\n",
    "                        print('updating \"{}\"'.format(fn.filename))\n",
    "                        new_file_data = data[:start] + data[end:]\n",
    "                        zipwrite.writestr(fn.filename, new_file_data)\n",
    "        print('removed password from: \"{}\" saved as: \"{}\"'.format(file, dest))\n",
    "    else:\n",
    "        print(\"not password protected\")"
   ]
  }
 ],
 "metadata": {
  "kernelspec": {
   "display_name": "Python 3 (ipykernel)",
   "language": "python",
   "name": "python3"
  },
  "language_info": {
   "codemirror_mode": {
    "name": "ipython",
    "version": 3
   },
   "file_extension": ".py",
   "mimetype": "text/x-python",
   "name": "python",
   "nbconvert_exporter": "python",
   "pygments_lexer": "ipython3",
   "version": "3.10.4"
  },
  "widgets": {
   "application/vnd.jupyter.widget-state+json": {
    "state": {},
    "version_major": 2,
    "version_minor": 0
   }
  }
 },
 "nbformat": 4,
 "nbformat_minor": 5
}
