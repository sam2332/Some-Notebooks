{
    "cells": [
        {
            "cell_type": "code",
            "execution_count": 12,
            "id": "e66146df-d9fb-4043-8d9f-4814c7c80499",
            "metadata": {},
            "outputs": [],
            "source": [
                "import json\n",
                "from pathlib import Path"
            ]
        },
        {
            "cell_type": "code",
            "execution_count": 13,
            "id": "9b91e266-91d9-47d7-a70e-c3bb40e41618",
            "metadata": {},
            "outputs": [],
            "source": [
                "pn = \"BOC Automatic Resolution Form/BCRes\"\n",
                "p = Path(\n",
                "    f\"/home/srudloff/shares/appdev/Users/srudloff/Source/Repos/{pn}/appsettings.json\"\n",
                ")"
            ]
        },
        {
            "cell_type": "code",
            "execution_count": 14,
            "id": "26c714a0-9da9-4948-aa8c-3f2c9fdaa3bd",
            "metadata": {},
            "outputs": [],
            "source": [
                "data = json.loads(p.read_text())"
            ]
        },
        {
            "cell_type": "code",
            "execution_count": null,
            "id": "de5d6b60-4c8a-4b47-8031-a3f70a247dfb",
            "metadata": {},
            "outputs": [],
            "source": [
                "data"
            ]
        },
        {
            "cell_type": "code",
            "execution_count": null,
            "id": "7f392202-b3c7-4b64-9dd5-e4aeb05be855",
            "metadata": {},
            "outputs": [],
            "source": []
        }
    ],
    "metadata": {
        "kernelspec": {
            "display_name": "Python 3 (ipykernel)",
            "language": "python",
            "name": "python3"
        },
        "language_info": {
            "codemirror_mode": {
                "name": "ipython",
                "version": 3
            },
            "file_extension": ".py",
            "mimetype": "text/x-python",
            "name": "python",
            "nbconvert_exporter": "python",
            "pygments_lexer": "ipython3",
            "version": "3.10.4"
        },
        "scenes_data": {
            "active_scene": "Default Scene",
            "init_scene": "",
            "scenes": [
                "Default Scene"
            ]
        },
        "widgets": {
            "application/vnd.jupyter.widget-state+json": {
                "state": {},
                "version_major": 2,
                "version_minor": 0
            }
        }
    },
    "nbformat": 4,
    "nbformat_minor": 5
}