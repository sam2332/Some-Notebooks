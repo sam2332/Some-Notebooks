{
 "cells": [
  {
   "cell_type": "code",
   "execution_count": null,
   "id": "a38d7d0f-6490-4e04-8936-0326668b7130",
   "metadata": {},
   "outputs": [],
   "source": [
    "import pandas as pd"
   ]
  },
  {
   "cell_type": "code",
   "execution_count": null,
   "id": "12264937-00a4-49df-8edb-eb6c04b3392d",
   "metadata": {},
   "outputs": [],
   "source": [
    "def getPandasFromLog(file):\n",
    "    with open(file) as f:\n",
    "        line = f.readline()\n",
    "        cnt = 0\n",
    "        while line.startswith('#'):\n",
    "            prev_line = line\n",
    "            line = f.readline()\n",
    "            cnt += 1\n",
    "            # print(prev_line)\n",
    "\n",
    "        header = prev_line.strip().lstrip('# ').split()\n",
    "        header.pop(0)\n",
    "        header.append(\"What\")\n",
    "\n",
    "        df = pd.read_csv(\n",
    "            file,\n",
    "            delimiter=\"\\s+\",\n",
    "            names=header,\n",
    "            skiprows=cnt,\n",
    "            comment='#'\n",
    "        )\n",
    "        return df"
   ]
  },
  {
   "cell_type": "code",
   "execution_count": null,
   "id": "67271c31-cdfa-440c-9ce0-9b715af6c4d9",
   "metadata": {},
   "outputs": [],
   "source": [
    "df= getPandasFromLog('IIS_LOG_ARCHIVAL/2022/9/u_ex220922.log')\n",
    "df"
   ]
  },
  {
   "cell_type": "code",
   "execution_count": null,
   "id": "8e476eaa-e6e9-43fa-b8b0-35fc9c5a286c",
   "metadata": {},
   "outputs": [],
   "source": [
    "df[\"cs(User-Agent)\"].unique()"
   ]
  },
  {
   "cell_type": "code",
   "execution_count": null,
   "id": "cd5bca04-5bc6-4848-beed-b647206914f4",
   "metadata": {},
   "outputs": [],
   "source": [
    "for item in df[\"cs-uri-stem\"].unique():\n",
    "    print(item)"
   ]
  },
  {
   "cell_type": "code",
   "execution_count": null,
   "id": "317dae51-9e58-4ba9-a5df-a1994e2b2afe",
   "metadata": {},
   "outputs": [],
   "source": []
  }
 ],
 "metadata": {
  "kernelspec": {
   "display_name": "Python 3 (ipykernel)",
   "language": "python",
   "name": "python3"
  },
  "language_info": {
   "codemirror_mode": {
    "name": "ipython",
    "version": 3
   },
   "file_extension": ".py",
   "mimetype": "text/x-python",
   "name": "python",
   "nbconvert_exporter": "python",
   "pygments_lexer": "ipython3",
   "version": "3.10.4"
  },
  "widgets": {
   "application/vnd.jupyter.widget-state+json": {
    "state": {},
    "version_major": 2,
    "version_minor": 0
   }
  }
 },
 "nbformat": 4,
 "nbformat_minor": 5
}
