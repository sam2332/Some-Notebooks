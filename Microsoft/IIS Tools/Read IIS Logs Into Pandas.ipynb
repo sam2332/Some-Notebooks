{
 "cells": [
  {
   "cell_type": "code",
   "execution_count": 1,
   "id": "a38d7d0f-6490-4e04-8936-0326668b7130",
   "metadata": {},
   "outputs": [],
   "source": [
    "import pandas as pd"
   ]
  },
  {
   "cell_type": "code",
   "execution_count": 2,
   "id": "12264937-00a4-49df-8edb-eb6c04b3392d",
   "metadata": {},
   "outputs": [],
   "source": [
    "def getPandasFromLog(file):\n",
    "    with open(file) as f:\n",
    "        line = f.readline()\n",
    "        cnt = 0\n",
    "        while line.startswith(\"#\"):\n",
    "            prev_line = line\n",
    "            line = f.readline()\n",
    "            cnt += 1\n",
    "            # print(prev_line)\n",
    "\n",
    "        header = prev_line.strip().lstrip(\"# \").split()\n",
    "        header.pop(0)\n",
    "        header.append(\"What\")\n",
    "\n",
    "        df = pd.read_csv(file, delimiter=\"\\s+\", names=header, skiprows=cnt, comment=\"#\")\n",
    "        return df"
   ]
  },
  {
   "cell_type": "code",
   "execution_count": null,
   "id": "53c32e3b-c040-41f9-beb2-83e6192cb9f5",
   "metadata": {},
   "outputs": [],
   "source": [
    "import socket\n",
    "\n",
    "\n",
    "def IpToHostname(ip):\n",
    "    try:\n",
    "        return socket.gethostbyaddr(ip.rstrip())[0]\n",
    "    except Exception as e:\n",
    "        return \"Unknown\""
   ]
  },
  {
   "cell_type": "code",
   "execution_count": null,
   "id": "67271c31-cdfa-440c-9ce0-9b715af6c4d9",
   "metadata": {},
   "outputs": [],
   "source": [
    "df = getPandasFromLog(\"IIS_LOG_ARCHIVAL/2022/9/u_ex220920.log\")"
   ]
  },
  {
   "cell_type": "code",
   "execution_count": null,
   "id": "8e476eaa-e6e9-43fa-b8b0-35fc9c5a286c",
   "metadata": {},
   "outputs": [],
   "source": [
    "df[\"cs(User-Agent)\"].value_counts().sort_values(ascending=False).head(10)"
   ]
  },
  {
   "cell_type": "code",
   "execution_count": null,
   "id": "807282d0-2daf-470c-be6c-f11030a8b3f1",
   "metadata": {},
   "outputs": [],
   "source": [
    "top_uris = df[\"cs-uri-stem\"].value_counts().sort_values(ascending=False).head(15)\n",
    "top_uris"
   ]
  },
  {
   "cell_type": "code",
   "execution_count": null,
   "id": "aafbb088-9225-4ea8-b99f-95e80fb6a95a",
   "metadata": {},
   "outputs": [],
   "source": [
    "html_pages = df.loc[df[\"cs-uri-stem\"].str.contains(\".aspx\")]\n",
    "html_pages.merge(df.loc[df[\"cs-uri-stem\"].str.contains(\".htm\")], how=\"left\")\n",
    "html_pages.merge(df.loc[df[\"cs-uri-stem\"].str.contains(\".htm\")], how=\"left\")"
   ]
  },
  {
   "cell_type": "code",
   "execution_count": null,
   "id": "795517e0-bb48-4752-ac0b-5b4ccc23fc5d",
   "metadata": {},
   "outputs": [],
   "source": [
    "html_pages[\"cs-uri-stem\"].value_counts().sort_values(ascending=False)"
   ]
  },
  {
   "cell_type": "code",
   "execution_count": null,
   "id": "3b7aefb8-05c8-40cf-ab79-395e4e6b69be",
   "metadata": {},
   "outputs": [],
   "source": [
    "top_ips = df[\"c-ip\"].value_counts().sort_values(ascending=False).head(5)\n",
    "top_ips"
   ]
  },
  {
   "cell_type": "code",
   "execution_count": null,
   "id": "8522aac3-f642-42cd-a3d0-3acf5e6c9a8c",
   "metadata": {},
   "outputs": [],
   "source": [
    "for (ip, loads) in top_ips.items():\n",
    "    print(\"IP : \", ip)\n",
    "    print(\"load count: \", loads)\n",
    "    print(\"hostname: \", IpToHostname(ip))\n",
    "    print()"
   ]
  },
  {
   "cell_type": "code",
   "execution_count": null,
   "id": "7257ad5e-5d54-4031-b46e-f7f5536e179a",
   "metadata": {},
   "outputs": [],
   "source": [
    "errors = df.loc[df[\"sc-status\"] == 500]"
   ]
  },
  {
   "cell_type": "code",
   "execution_count": null,
   "id": "d44bfd16-64b5-4288-952b-8fe1780d8c5c",
   "metadata": {},
   "outputs": [],
   "source": [
    "errors[[\"cs-method\", \"cs-uri-stem\", \"cs-uri-query\"]].head(5)"
   ]
  },
  {
   "cell_type": "code",
   "execution_count": null,
   "id": "1f61205a-f52a-449d-8eea-1ad363a0197a",
   "metadata": {},
   "outputs": [],
   "source": [
    "errors[\"cs-uri-stem\"].value_counts().sort_values(ascending=False).head(15)"
   ]
  },
  {
   "cell_type": "code",
   "execution_count": null,
   "id": "c4d517b1-50b9-432a-8c8b-bcc5811ae773",
   "metadata": {},
   "outputs": [],
   "source": [
    "top_error_ips = errors[\"c-ip\"].value_counts().sort_values(ascending=False)\n",
    "top_error_ips.head(15)"
   ]
  },
  {
   "cell_type": "code",
   "execution_count": null,
   "id": "27bd72b6-239f-43d9-87b7-c2c39e52331f",
   "metadata": {},
   "outputs": [],
   "source": [
    "for (ip, errors) in top_error_ips.items():\n",
    "    print(\"IP : \", ip)\n",
    "    print(\"error count: \", errors)\n",
    "    print(\"hostname: \", IpToHostname(ip))\n",
    "    print()"
   ]
  },
  {
   "cell_type": "code",
   "execution_count": null,
   "id": "d4315fb7-99d2-4c5b-944e-910becb0a082",
   "metadata": {},
   "outputs": [],
   "source": []
  },
  {
   "cell_type": "code",
   "execution_count": null,
   "id": "4dc9044c-ac90-4326-ac87-8a99419f38a8",
   "metadata": {},
   "outputs": [],
   "source": []
  },
  {
   "cell_type": "code",
   "execution_count": null,
   "id": "9d34460e-bef9-4650-85e3-3e4ffaf49687",
   "metadata": {},
   "outputs": [],
   "source": []
  },
  {
   "cell_type": "code",
   "execution_count": null,
   "id": "2d42f448-40c7-4c5c-afa1-07be26a2b507",
   "metadata": {},
   "outputs": [],
   "source": []
  }
 ],
 "metadata": {
  "kernelspec": {
   "display_name": "Python 3 (ipykernel)",
   "language": "python",
   "name": "python3"
  },
  "language_info": {
   "codemirror_mode": {
    "name": "ipython",
    "version": 3
   },
   "file_extension": ".py",
   "mimetype": "text/x-python",
   "name": "python",
   "nbconvert_exporter": "python",
   "pygments_lexer": "ipython3",
   "version": "3.10.4"
  },
  "widgets": {
   "application/vnd.jupyter.widget-state+json": {
    "state": {},
    "version_major": 2,
    "version_minor": 0
   }
  }
 },
 "nbformat": 4,
 "nbformat_minor": 5
}
