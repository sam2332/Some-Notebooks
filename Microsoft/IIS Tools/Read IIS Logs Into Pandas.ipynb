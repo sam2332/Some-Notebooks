{
 "cells": [
  {
   "cell_type": "code",
   "execution_count": null,
   "id": "a38d7d0f-6490-4e04-8936-0326668b7130",
   "metadata": {},
   "outputs": [],
   "source": [
    "import pandas as pd"
   ]
  },
  {
   "cell_type": "code",
   "execution_count": 169,
   "id": "12264937-00a4-49df-8edb-eb6c04b3392d",
   "metadata": {},
   "outputs": [],
   "source": [
    "def getPandasFromLog(file):\n",
    "    with open(file) as f:\n",
    "        line = f.readline()\n",
    "        cnt = 0\n",
    "        while line.startswith('#'):\n",
    "            prev_line = line\n",
    "            line = f.readline()\n",
    "            cnt += 1\n",
    "            # print(prev_line)\n",
    "\n",
    "        header = prev_line.strip().lstrip('# ').split()\n",
    "        header.pop(0)\n",
    "        header.append(\"What\")\n",
    "\n",
    "        df = pd.read_csv(\n",
    "            file,\n",
    "            delimiter=\"\\s+\",\n",
    "            names=header,\n",
    "            skiprows=cnt,\n",
    "            comment='#'\n",
    "        )\n",
    "        return df"
   ]
  },
  {
   "cell_type": "code",
   "execution_count": 170,
   "id": "53c32e3b-c040-41f9-beb2-83e6192cb9f5",
   "metadata": {},
   "outputs": [],
   "source": [
    "import socket\n",
    "def IpToHostname(ip):\n",
    "    try:\n",
    "        return socket.gethostbyaddr(ip.rstrip())[0]\n",
    "    except Exception as e:\n",
    "        return 'Unknown'"
   ]
  },
  {
   "cell_type": "code",
   "execution_count": 186,
   "id": "67271c31-cdfa-440c-9ce0-9b715af6c4d9",
   "metadata": {},
   "outputs": [],
   "source": [
    "df= getPandasFromLog('IIS_LOG_ARCHIVAL/2022/9/u_ex220923.log')"
   ]
  },
  {
   "cell_type": "code",
   "execution_count": 176,
   "id": "8e476eaa-e6e9-43fa-b8b0-35fc9c5a286c",
   "metadata": {},
   "outputs": [
    {
     "data": {
      "text/plain": [
       "Mozilla/5.0+(Windows+NT+10.0;+Win64;+x64)+AppleWebKit/537.36+(KHTML,+like+Gecko)+Chrome/105.0.0.0+Safari/537.36                                            272\n",
       "Mozilla/5.0+(Windows+NT+10.0;+Win64;+x64)+AppleWebKit/537.36+(KHTML,+like+Gecko)+Chrome/105.0.0.0+Safari/537.36+Edg/105.0.1343.42                          127\n",
       "Mozilla/5.0+(Windows+NT+10.0;+Win64;+x64)+AppleWebKit/537.36+(KHTML,+like+Gecko)+Chrome/51.0.2704.79+Safari/537.36+Edge/14.14393                            97\n",
       "Mozilla/5.0+(compatible;+MSIE+9.0;+Windows+NT+6.2;+WOW64;+Trident/7.0)                                                                                      75\n",
       "Mozilla/5.0+(Windows+NT+10.0;+WOW64;+Trident/7.0;+rv:11.0)+like+Gecko                                                                                       36\n",
       "Mozilla/5.0+(X11;+Linux+x86_64)+AppleWebKit/537.36+(KHTML,+like+Gecko)+Chrome/105.0.0.0+Safari/537.36                                                       31\n",
       "Mozilla/5.0+(Windows+NT+10.0;+WOW64;+Trident/7.0;+Touch;+rv:11.0)+like+Gecko                                                                                 5\n",
       "Mozilla/4.0+(compatible;+MSIE+7.0;+Windows+NT+10.0;+WOW64;+Trident/7.0;+.NET4.0C;+.NET4.0E;+.NET+CLR+2.0.50727;+.NET+CLR+3.0.30729;+.NET+CLR+3.5.30729)      4\n",
       "Mozilla/5.0+(Windows+NT+10.0;+Win64;+x64;+Trident/7.0;+rv:11.0)+like+Gecko                                                                                   2\n",
       "Name: cs(User-Agent), dtype: int64"
      ]
     },
     "execution_count": 176,
     "metadata": {},
     "output_type": "execute_result"
    }
   ],
   "source": [
    "df['cs(User-Agent)'].value_counts().sort_values(ascending=False).head(10)"
   ]
  },
  {
   "cell_type": "code",
   "execution_count": 177,
   "id": "cd5bca04-5bc6-4848-beed-b647206914f4",
   "metadata": {},
   "outputs": [
    {
     "data": {
      "text/plain": [
       "/par/par.aspx                84\n",
       "/trackingPix.php             35\n",
       "/favicon.ico                 27\n",
       "/                            19\n",
       "/par/sar.aspx                17\n",
       "/forms/FormsDirectory.htm    14\n",
       "/cornercourthouse.jpg        12\n",
       "/tl_curve_white.gif          11\n",
       "/tr_curve_white.gif          11\n",
       "/Ingham1.jpg                 11\n",
       "/tmobile_logo.png            11\n",
       "/par/WebResource.axd         11\n",
       "/OfficeLogoSm2.png           11\n",
       "/vz_small_150_rgb_p.png      11\n",
       "/bg_grad.jpg                 11\n",
       "Name: cs-uri-stem, dtype: int64"
      ]
     },
     "execution_count": 177,
     "metadata": {},
     "output_type": "execute_result"
    }
   ],
   "source": [
    "top_uris = df['cs-uri-stem'].value_counts().sort_values(ascending=False).head(15)\n",
    "top_uris"
   ]
  },
  {
   "cell_type": "code",
   "execution_count": null,
   "id": "7512ff6e-9cc2-4e59-a2f1-b2a0378e4f1e",
   "metadata": {},
   "outputs": [],
   "source": []
  },
  {
   "cell_type": "code",
   "execution_count": 178,
   "id": "3b7aefb8-05c8-40cf-ab79-395e4e6b69be",
   "metadata": {},
   "outputs": [
    {
     "data": {
      "text/plain": [
       "10.42.6.4       96\n",
       "10.71.5.53      61\n",
       "172.16.8.203    44\n",
       "10.74.6.250     34\n",
       "10.41.6.142     33\n",
       "Name: c-ip, dtype: int64"
      ]
     },
     "execution_count": 178,
     "metadata": {},
     "output_type": "execute_result"
    }
   ],
   "source": [
    "top_ips =df['c-ip'].value_counts().sort_values(ascending=False).head(5)\n",
    "top_ips"
   ]
  },
  {
   "cell_type": "code",
   "execution_count": 179,
   "id": "8522aac3-f642-42cd-a3d0-3acf5e6c9a8c",
   "metadata": {},
   "outputs": [
    {
     "name": "stdout",
     "output_type": "stream",
     "text": [
      "IP :  10.42.6.4\n",
      "load count:  96\n",
      "hostname:  Unknown\n",
      "\n",
      "IP :  10.71.5.53\n",
      "load count:  61\n",
      "hostname:  Unknown\n",
      "\n",
      "IP :  172.16.8.203\n",
      "load count:  44\n",
      "hostname:  IT13770.mi.ingham.org\n",
      "\n",
      "IP :  10.74.6.250\n",
      "load count:  34\n",
      "hostname:  Unknown\n",
      "\n",
      "IP :  10.41.6.142\n",
      "load count:  33\n",
      "hostname:  Unknown\n",
      "\n"
     ]
    }
   ],
   "source": [
    "for (ip, loads) in top_ips.items():\n",
    "    print('IP : ', ip)\n",
    "    print('load count: ', loads)\n",
    "    print('hostname: ',IpToHostname(ip))\n",
    "    print()"
   ]
  },
  {
   "cell_type": "code",
   "execution_count": 85,
   "id": "f4cdf467-8827-4482-8aec-7a34caaf5af1",
   "metadata": {},
   "outputs": [],
   "source": [
    "df.loc["
   ]
  },
  {
   "cell_type": "code",
   "execution_count": 180,
   "id": "7257ad5e-5d54-4031-b46e-f7f5536e179a",
   "metadata": {},
   "outputs": [],
   "source": [
    "errors = df.loc[df['sc-status'] == 500]"
   ]
  },
  {
   "cell_type": "code",
   "execution_count": 182,
   "id": "d44bfd16-64b5-4288-952b-8fe1780d8c5c",
   "metadata": {},
   "outputs": [
    {
     "data": {
      "text/html": [
       "<div>\n",
       "<style scoped>\n",
       "    .dataframe tbody tr th:only-of-type {\n",
       "        vertical-align: middle;\n",
       "    }\n",
       "\n",
       "    .dataframe tbody tr th {\n",
       "        vertical-align: top;\n",
       "    }\n",
       "\n",
       "    .dataframe thead th {\n",
       "        text-align: right;\n",
       "    }\n",
       "</style>\n",
       "<table border=\"1\" class=\"dataframe\">\n",
       "  <thead>\n",
       "    <tr style=\"text-align: right;\">\n",
       "      <th></th>\n",
       "      <th>date</th>\n",
       "      <th>time</th>\n",
       "      <th>s-ip</th>\n",
       "      <th>cs-method</th>\n",
       "      <th>cs-uri-stem</th>\n",
       "      <th>cs-uri-query</th>\n",
       "      <th>s-port</th>\n",
       "      <th>cs-username</th>\n",
       "      <th>c-ip</th>\n",
       "      <th>cs(User-Agent)</th>\n",
       "      <th>cs(Referer)</th>\n",
       "      <th>sc-status</th>\n",
       "      <th>sc-substatus</th>\n",
       "      <th>sc-win32-status</th>\n",
       "      <th>time-taken</th>\n",
       "      <th>What</th>\n",
       "    </tr>\n",
       "  </thead>\n",
       "  <tbody>\n",
       "    <tr>\n",
       "      <th>19</th>\n",
       "      <td>2022-09-23</td>\n",
       "      <td>09:00:53</td>\n",
       "      <td>172.24.2.87</td>\n",
       "      <td>GET</td>\n",
       "      <td>/vendor2021admin</td>\n",
       "      <td>-</td>\n",
       "      <td>443</td>\n",
       "      <td>-</td>\n",
       "      <td>10.250.250.62</td>\n",
       "      <td>Mozilla/5.0+(Windows+NT+10.0;+Win64;+x64)+Appl...</td>\n",
       "      <td>-</td>\n",
       "      <td>500</td>\n",
       "      <td>19</td>\n",
       "      <td>3</td>\n",
       "      <td>109</td>\n",
       "      <td>NaN</td>\n",
       "    </tr>\n",
       "    <tr>\n",
       "      <th>21</th>\n",
       "      <td>2022-09-23</td>\n",
       "      <td>09:14:32</td>\n",
       "      <td>172.24.2.87</td>\n",
       "      <td>GET</td>\n",
       "      <td>/shAdmin/Account/Login.aspx</td>\n",
       "      <td>ReturnUrl=%2fshAdmin%2fReports.aspx&amp;ReturnUrl=...</td>\n",
       "      <td>443</td>\n",
       "      <td>-</td>\n",
       "      <td>172.16.6.10</td>\n",
       "      <td>Mozilla/5.0+(Windows+NT+10.0;+Win64;+x64)+Appl...</td>\n",
       "      <td>-</td>\n",
       "      <td>500</td>\n",
       "      <td>19</td>\n",
       "      <td>3</td>\n",
       "      <td>156</td>\n",
       "      <td>NaN</td>\n",
       "    </tr>\n",
       "    <tr>\n",
       "      <th>68</th>\n",
       "      <td>2022-09-23</td>\n",
       "      <td>10:16:29</td>\n",
       "      <td>172.24.2.87</td>\n",
       "      <td>GET</td>\n",
       "      <td>/vendor2021admin</td>\n",
       "      <td>-</td>\n",
       "      <td>443</td>\n",
       "      <td>-</td>\n",
       "      <td>10.250.250.62</td>\n",
       "      <td>Mozilla/5.0+(Windows+NT+10.0;+Win64;+x64)+Appl...</td>\n",
       "      <td>-</td>\n",
       "      <td>500</td>\n",
       "      <td>19</td>\n",
       "      <td>3</td>\n",
       "      <td>93</td>\n",
       "      <td>NaN</td>\n",
       "    </tr>\n",
       "    <tr>\n",
       "      <th>71</th>\n",
       "      <td>2022-09-23</td>\n",
       "      <td>10:42:14</td>\n",
       "      <td>172.24.2.87</td>\n",
       "      <td>GET</td>\n",
       "      <td>/shAdmin/Account/Login.aspx</td>\n",
       "      <td>-</td>\n",
       "      <td>443</td>\n",
       "      <td>-</td>\n",
       "      <td>172.16.6.10</td>\n",
       "      <td>Mozilla/5.0+(Windows+NT+10.0;+WOW64;+Trident/7...</td>\n",
       "      <td>-</td>\n",
       "      <td>500</td>\n",
       "      <td>19</td>\n",
       "      <td>3</td>\n",
       "      <td>46</td>\n",
       "      <td>NaN</td>\n",
       "    </tr>\n",
       "    <tr>\n",
       "      <th>72</th>\n",
       "      <td>2022-09-23</td>\n",
       "      <td>10:45:10</td>\n",
       "      <td>172.24.2.87</td>\n",
       "      <td>GET</td>\n",
       "      <td>/shAdmin/Account/Login.aspx</td>\n",
       "      <td>-</td>\n",
       "      <td>443</td>\n",
       "      <td>-</td>\n",
       "      <td>172.16.6.10</td>\n",
       "      <td>Mozilla/5.0+(Windows+NT+10.0;+WOW64;+Trident/7...</td>\n",
       "      <td>-</td>\n",
       "      <td>500</td>\n",
       "      <td>19</td>\n",
       "      <td>3</td>\n",
       "      <td>15</td>\n",
       "      <td>NaN</td>\n",
       "    </tr>\n",
       "  </tbody>\n",
       "</table>\n",
       "</div>"
      ],
      "text/plain": [
       "          date      time         s-ip cs-method                  cs-uri-stem  \\\n",
       "19  2022-09-23  09:00:53  172.24.2.87       GET             /vendor2021admin   \n",
       "21  2022-09-23  09:14:32  172.24.2.87       GET  /shAdmin/Account/Login.aspx   \n",
       "68  2022-09-23  10:16:29  172.24.2.87       GET             /vendor2021admin   \n",
       "71  2022-09-23  10:42:14  172.24.2.87       GET  /shAdmin/Account/Login.aspx   \n",
       "72  2022-09-23  10:45:10  172.24.2.87       GET  /shAdmin/Account/Login.aspx   \n",
       "\n",
       "                                         cs-uri-query  s-port cs-username  \\\n",
       "19                                                  -     443           -   \n",
       "21  ReturnUrl=%2fshAdmin%2fReports.aspx&ReturnUrl=...     443           -   \n",
       "68                                                  -     443           -   \n",
       "71                                                  -     443           -   \n",
       "72                                                  -     443           -   \n",
       "\n",
       "             c-ip                                     cs(User-Agent)  \\\n",
       "19  10.250.250.62  Mozilla/5.0+(Windows+NT+10.0;+Win64;+x64)+Appl...   \n",
       "21    172.16.6.10  Mozilla/5.0+(Windows+NT+10.0;+Win64;+x64)+Appl...   \n",
       "68  10.250.250.62  Mozilla/5.0+(Windows+NT+10.0;+Win64;+x64)+Appl...   \n",
       "71    172.16.6.10  Mozilla/5.0+(Windows+NT+10.0;+WOW64;+Trident/7...   \n",
       "72    172.16.6.10  Mozilla/5.0+(Windows+NT+10.0;+WOW64;+Trident/7...   \n",
       "\n",
       "   cs(Referer)  sc-status  sc-substatus  sc-win32-status  time-taken  What  \n",
       "19           -        500            19                3         109   NaN  \n",
       "21           -        500            19                3         156   NaN  \n",
       "68           -        500            19                3          93   NaN  \n",
       "71           -        500            19                3          46   NaN  \n",
       "72           -        500            19                3          15   NaN  "
      ]
     },
     "execution_count": 182,
     "metadata": {},
     "output_type": "execute_result"
    }
   ],
   "source": [
    "errors.head(5)"
   ]
  },
  {
   "cell_type": "code",
   "execution_count": 183,
   "id": "1f61205a-f52a-449d-8eea-1ad363a0197a",
   "metadata": {},
   "outputs": [
    {
     "data": {
      "text/plain": [
       "/shAdmin/Account/Login.aspx    5\n",
       "/vendor2021admin               3\n",
       "/trackingPix.php               1\n",
       "Name: cs-uri-stem, dtype: int64"
      ]
     },
     "execution_count": 183,
     "metadata": {},
     "output_type": "execute_result"
    }
   ],
   "source": [
    "errors['cs-uri-stem'].value_counts().sort_values(ascending=False).head(15)"
   ]
  },
  {
   "cell_type": "code",
   "execution_count": 184,
   "id": "c4d517b1-50b9-432a-8c8b-bcc5811ae773",
   "metadata": {},
   "outputs": [
    {
     "data": {
      "text/plain": [
       "172.16.6.10      5\n",
       "10.250.250.62    3\n",
       "172.16.14.47     1\n",
       "Name: c-ip, dtype: int64"
      ]
     },
     "execution_count": 184,
     "metadata": {},
     "output_type": "execute_result"
    }
   ],
   "source": [
    "top_errors = errors['c-ip'].value_counts().sort_values(ascending=False)\n",
    "top_errors.head(15)"
   ]
  },
  {
   "cell_type": "code",
   "execution_count": 185,
   "id": "27bd72b6-239f-43d9-87b7-c2c39e52331f",
   "metadata": {},
   "outputs": [
    {
     "name": "stdout",
     "output_type": "stream",
     "text": [
      "IP :  172.16.6.10\n",
      "error count:  5\n",
      "hostname:  SO14440.mi.ingham.org\n",
      "\n",
      "IP :  10.250.250.62\n",
      "error count:  3\n",
      "hostname:  Unknown\n",
      "\n",
      "IP :  172.16.14.47\n",
      "error count:  1\n",
      "hostname:  HD14859.mi.ingham.org\n",
      "\n"
     ]
    }
   ],
   "source": [
    "for (ip, errors) in top_errors.items():\n",
    "    print('IP : ', ip)\n",
    "    print('error count: ', errors)\n",
    "    print('hostname: ',IpToHostname(ip))\n",
    "    print()"
   ]
  },
  {
   "cell_type": "code",
   "execution_count": null,
   "id": "d4315fb7-99d2-4c5b-944e-910becb0a082",
   "metadata": {},
   "outputs": [],
   "source": []
  },
  {
   "cell_type": "code",
   "execution_count": null,
   "id": "4dc9044c-ac90-4326-ac87-8a99419f38a8",
   "metadata": {},
   "outputs": [],
   "source": []
  },
  {
   "cell_type": "code",
   "execution_count": null,
   "id": "9d34460e-bef9-4650-85e3-3e4ffaf49687",
   "metadata": {},
   "outputs": [],
   "source": []
  },
  {
   "cell_type": "code",
   "execution_count": null,
   "id": "2d42f448-40c7-4c5c-afa1-07be26a2b507",
   "metadata": {},
   "outputs": [],
   "source": []
  }
 ],
 "metadata": {
  "kernelspec": {
   "display_name": "Python 3 (ipykernel)",
   "language": "python",
   "name": "python3"
  },
  "language_info": {
   "codemirror_mode": {
    "name": "ipython",
    "version": 3
   },
   "file_extension": ".py",
   "mimetype": "text/x-python",
   "name": "python",
   "nbconvert_exporter": "python",
   "pygments_lexer": "ipython3",
   "version": "3.9.7"
  }
 },
 "nbformat": 4,
 "nbformat_minor": 5
}
