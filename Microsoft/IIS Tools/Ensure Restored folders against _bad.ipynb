{
 "cells": [
  {
   "cell_type": "code",
   "execution_count": null,
   "id": "7c7c2c97-f8de-453e-a3ac-7e1fbcaa6812",
   "metadata": {},
   "outputs": [],
   "source": [
    "from pathlib import Path\n",
    "import time\n",
    "from datetime import datetime, timedelta, timezone"
   ]
  },
  {
   "cell_type": "code",
   "execution_count": null,
   "id": "c14a13fd-a1d2-4edf-a542-4ed8f1365a07",
   "metadata": {},
   "outputs": [],
   "source": [
    "ignored_folders = ['.git','.ipynb_checkpoints','_vti_cnf','__pycache__']"
   ]
  },
  {
   "cell_type": "code",
   "execution_count": null,
   "id": "6c726670-bf7a-4dbe-b691-fa7036a9cb7c",
   "metadata": {},
   "outputs": [],
   "source": [
    "\n",
    "days = 10"
   ]
  },
  {
   "cell_type": "code",
   "execution_count": null,
   "id": "f90dc6e4-504d-48ad-9833-386b6562c3b9",
   "metadata": {},
   "outputs": [],
   "source": [
    "scan=[]\n",
    "for file in Path('wwwroot_bad').iterdir():\n",
    "    if file.is_dir():\n",
    "        if any([f in str(file) for f in ignored_folders]):\n",
    "            continue\n",
    "        if((datetime.now()-datetime.fromtimestamp(file.stat().st_mtime)).days > days):\n",
    "            scan.append(file)\n",
    "paths = [Path(str(i).replace('wwwroot_bad','wwwroot')) for i in scan]\n",
    "\"Found\",scan"
   ]
  },
  {
   "cell_type": "code",
   "execution_count": null,
   "id": "22139e04-0347-4ac5-88e5-85e5ae7c5e36",
   "metadata": {},
   "outputs": [],
   "source": [
    "print(\"__Paths missing from wwwroot__\")\n",
    "for file in paths:\n",
    "    if not file.exists():\n",
    "        print(file)"
   ]
  },
  {
   "cell_type": "code",
   "execution_count": null,
   "id": "8d6340b6-b4fa-46b3-9e5a-7bcbb1228253",
   "metadata": {},
   "outputs": [],
   "source": []
  },
  {
   "cell_type": "code",
   "execution_count": null,
   "id": "ce7b1b27-44ec-40eb-aa62-fd6f2277ccd9",
   "metadata": {},
   "outputs": [],
   "source": []
  }
 ],
 "metadata": {
  "kernelspec": {
   "display_name": "Python 3 (ipykernel)",
   "language": "python",
   "name": "python3"
  },
  "language_info": {
   "codemirror_mode": {
    "name": "ipython",
    "version": 3
   },
   "file_extension": ".py",
   "mimetype": "text/x-python",
   "name": "python",
   "nbconvert_exporter": "python",
   "pygments_lexer": "ipython3",
   "version": "3.9.7"
  }
 },
 "nbformat": 4,
 "nbformat_minor": 5
}
