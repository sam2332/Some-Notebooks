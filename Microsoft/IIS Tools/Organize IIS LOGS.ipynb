{
 "cells": [
  {
   "cell_type": "code",
   "execution_count": null,
   "id": "88133386-809c-4b16-bb18-4c04fcac7310",
   "metadata": {},
   "outputs": [],
   "source": [
    "from pathlib import Path"
   ]
  },
  {
   "cell_type": "code",
   "execution_count": null,
   "id": "2eccbb7d-9153-4adc-98ca-349247df5867",
   "metadata": {},
   "outputs": [],
   "source": [
    "def getPandasFromLog(file):\n",
    "    with open(file) as f:\n",
    "        line = f.readline()\n",
    "        cnt = 0\n",
    "        while line.startswith('#'):\n",
    "            prev_line = line\n",
    "            line = f.readline()\n",
    "            cnt += 1\n",
    "            # print(prev_line)\n",
    "\n",
    "        header = prev_line.strip().lstrip('# ').split()\n",
    "\n",
    "        df = pd.read_csv(\n",
    "            file,\n",
    "            delimiter=\"\\s+\",\n",
    "            names=header,\n",
    "            skiprows=cnt\n",
    "        )\n",
    "        return df"
   ]
  },
  {
   "cell_type": "code",
   "execution_count": null,
   "id": "ce52fd7d-aba1-4066-9dfd-0a7370cb60e0",
   "metadata": {},
   "outputs": [],
   "source": [
    "getPandasFromLog('c:/inetpub/logs/LogFiles')"
   ]
  },
  {
   "cell_type": "code",
   "execution_count": null,
   "id": "65264b81-2a48-4e6e-8313-f5286f46176c",
   "metadata": {},
   "outputs": [],
   "source": [
    "from datetime import datetime"
   ]
  },
  {
   "cell_type": "code",
   "execution_count": null,
   "id": "f3995eb6-c6e3-41e4-b464-83ffb8a4ebf3",
   "metadata": {},
   "outputs": [],
   "source": [
    "def getDateFromFilename(p):\n",
    "    p = p.name.replace('u_ex','').replace('.log','')\n",
    "    return datetime.strptime(p,'%y%m%d').date()"
   ]
  },
  {
   "cell_type": "code",
   "execution_count": null,
   "id": "743a8cd6-93e3-4601-a011-cc30d0a308cf",
   "metadata": {},
   "outputs": [],
   "source": [
    "for path in Path('c:/inetpub/logs/LogFiles').rglob('**/*.log'):\n",
    "    print(path,explodeName(path))\n",
    "    break"
   ]
  },
  {
   "cell_type": "code",
   "execution_count": null,
   "id": "faa21978-e18a-4f6f-bc1e-17adabe75d3d",
   "metadata": {},
   "outputs": [],
   "source": [
    "dest = Path(\"IIS_LOG_ARCHIVAL\")\n",
    "dest.mkdir(exist_ok=True)\n",
    "for path in Path('c:/inetpub/logs/LogFiles').rglob('**/*.log'):\n",
    "    try:\n",
    "        date = getDateFromFilename(path)\n",
    "        dest_year = Path(dest,str(date.year),str(date.month))\n",
    "        dest_year.mkdir(exist_ok=True,parents=True)\n",
    "    except Exception as e:\n",
    "        print(e)"
   ]
  },
  {
   "cell_type": "code",
   "execution_count": null,
   "id": "e9598d3d-e5a0-4a95-9906-073313513a86",
   "metadata": {},
   "outputs": [],
   "source": [
    "from shutil import copy"
   ]
  },
  {
   "cell_type": "code",
   "execution_count": null,
   "id": "d16d6b33-edc3-406c-a640-602ed8fb54f0",
   "metadata": {},
   "outputs": [],
   "source": [
    "for path in Path('c:/inetpub/logs/LogFiles').rglob('**/*.log'):\n",
    "    try:\n",
    "        date = getDateFromFilename(path)\n",
    "        dest_year = Path(dest,str(date.year),str(date.month))\n",
    "        copy(str(path),dest_year)\n",
    "    except Exception as e:\n",
    "        print(e)"
   ]
  },
  {
   "cell_type": "code",
   "execution_count": null,
   "id": "96306d58-f893-4a9d-b29f-062ec9fa9fb6",
   "metadata": {},
   "outputs": [],
   "source": []
  }
 ],
 "metadata": {
  "kernelspec": {
   "display_name": "Python 3 (ipykernel)",
   "language": "python",
   "name": "python3"
  },
  "language_info": {
   "codemirror_mode": {
    "name": "ipython",
    "version": 3
   },
   "file_extension": ".py",
   "mimetype": "text/x-python",
   "name": "python",
   "nbconvert_exporter": "python",
   "pygments_lexer": "ipython3",
   "version": "3.10.4"
  },
  "widgets": {
   "application/vnd.jupyter.widget-state+json": {
    "state": {},
    "version_major": 2,
    "version_minor": 0
   }
  }
 },
 "nbformat": 4,
 "nbformat_minor": 5
}
