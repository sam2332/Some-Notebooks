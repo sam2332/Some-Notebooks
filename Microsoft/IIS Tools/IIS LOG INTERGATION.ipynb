{
 "cells": [
  {
   "cell_type": "code",
   "execution_count": null,
   "metadata": {},
   "outputs": [],
   "source": [
    "import datetime\n",
    "import os\n",
    "from collections import defaultdict\n",
    "from pathlib import Path"
   ]
  },
  {
   "cell_type": "code",
   "execution_count": null,
   "metadata": {},
   "outputs": [],
   "source": [
    "servers = [\"webhost2\"]\n",
    "possible_logs = [\"C:\\\\inetpub\\\\logs\\\\LogFiles\", \"E:\\\\inetpub\\\\logs\\\\LogFiles\"]"
   ]
  },
  {
   "cell_type": "code",
   "execution_count": null,
   "metadata": {},
   "outputs": [],
   "source": [
    "def convertPathtoUnc(server, path):\n",
    "    drive = path[0] + \"$\"\n",
    "\n",
    "    converted_path = path[3:]  # cut off the drive letter x://\n",
    "\n",
    "    out = \"\\\\\\\\{server}\\{drive}\\{converted_path}\".format(\n",
    "        server=server, drive=drive, converted_path=converted_path\n",
    "    )\n",
    "\n",
    "    return out"
   ]
  },
  {
   "cell_type": "code",
   "execution_count": null,
   "metadata": {},
   "outputs": [],
   "source": [
    "def getSites(server):\n",
    "    for pl in possible_logs:\n",
    "        try:\n",
    "            for file in os.listdir(convertPathtoUnc(server, pl)):\n",
    "                file = os.path.join(pl, file)\n",
    "                yield (Path(file).name)\n",
    "        except:\n",
    "            pass"
   ]
  },
  {
   "cell_type": "code",
   "execution_count": null,
   "metadata": {},
   "outputs": [],
   "source": [
    "list(getSites(\"inside\"))"
   ]
  },
  {
   "cell_type": "code",
   "execution_count": null,
   "metadata": {},
   "outputs": [],
   "source": [
    "def getLogs(server, site):\n",
    "    for log_path in possible_logs:\n",
    "        try:\n",
    "            today = datetime.datetime.now().date()\n",
    "            for file in os.listdir(\n",
    "                convertPathtoUnc(server, os.path.join(log_path, site))\n",
    "            ):\n",
    "                file = os.path.join(log_path, site, file)\n",
    "                unc_path = convertPathtoUnc(server, file)\n",
    "                date_modified = datetime.datetime.fromtimestamp(\n",
    "                    os.path.getmtime(unc_path)\n",
    "                ).date()\n",
    "                if date_modified == today:\n",
    "                    yield (unc_path)\n",
    "        except Exception as e:\n",
    "            print(e)"
   ]
  },
  {
   "cell_type": "code",
   "execution_count": null,
   "metadata": {},
   "outputs": [],
   "source": [
    "list(getLogs(\"webhost2\", \"W3SVC10\"))"
   ]
  },
  {
   "cell_type": "code",
   "execution_count": null,
   "metadata": {
    "tags": []
   },
   "outputs": [],
   "source": [
    "def RequestedFile(log):\n",
    "    headers = [\n",
    "        \"date\",\n",
    "        \"time\",\n",
    "        \"s-ip\",\n",
    "        \"cs-method\",\n",
    "        \"cs-uri-stem\",\n",
    "        \"cs-uri-query\",\n",
    "        \"s-port\",\n",
    "        \"cs-username\",\n",
    "        \"c-ip\",\n",
    "        \"cs(User-Agent)\",\n",
    "        \"sc-referrer\",\n",
    "        \"sc-status\",\n",
    "        \"sc-substatus\",\n",
    "        \"sc-win32-status\",\n",
    "        \"sc-bytes\",\n",
    "        \"cs-bytes\",\n",
    "        \"time-taken\",\n",
    "    ]\n",
    "\n",
    "    with open(log, \"r\") as f:\n",
    "        for line in f.readlines():\n",
    "            line = line.strip()\n",
    "            if line.startswith(\"#\"):\n",
    "                continue\n",
    "            data = line.split()\n",
    "            yield dict(zip(headers, data))"
   ]
  },
  {
   "cell_type": "code",
   "execution_count": null,
   "metadata": {
    "tags": []
   },
   "outputs": [],
   "source": [
    "def PrintRequestedFiles(log):\n",
    "    with open(log, \"r\") as f:\n",
    "        for line in f.readlines():\n",
    "            line = line.strip()\n",
    "            if line.startswith(\"#\"):\n",
    "                continue\n",
    "            data = line.split(\" \")\n",
    "            print(data)\n",
    "\n",
    "\n",
    "def YieldRequestedFiles(log):\n",
    "    with open(log, \"r\") as f:\n",
    "        for line in f.readlines():\n",
    "            line = line.strip()\n",
    "            if line.startswith(\"#\"):\n",
    "                continue\n",
    "            data = line.split(\" \")\n",
    "            yield (data)"
   ]
  },
  {
   "cell_type": "code",
   "execution_count": null,
   "metadata": {},
   "outputs": [],
   "source": [
    "def RequestedFiles(log):\n",
    "    ips = defaultdict(\n",
    "        lambda: defaultdict(\n",
    "            lambda: defaultdict(lambda: defaultdict(lambda: defaultdict(int)))\n",
    "        )\n",
    "    )\n",
    "\n",
    "    with open(log, \"r\") as f:\n",
    "        for line in f.readlines():\n",
    "            line = line.strip()\n",
    "            if line.startswith(\"#\"):\n",
    "                continue\n",
    "            data = line.split(\" \")\n",
    "            print(data)\n",
    "            client_ip = data[10]\n",
    "            file = data[6]\n",
    "            method = data[5]\n",
    "            status_code = data[14]\n",
    "            user_agent = data[11]\n",
    "            ips[client_ip][user_agent][method][status_code][file] += 1\n",
    "    return ips"
   ]
  },
  {
   "cell_type": "code",
   "execution_count": null,
   "metadata": {
    "tags": []
   },
   "outputs": [],
   "source": [
    "def RequestedFilesSimple(log):\n",
    "    ips = defaultdict(lambda: defaultdict(int))\n",
    "    ua = defaultdict(lambda: defaultdict(int))\n",
    "    with open(log, \"r\") as f:\n",
    "        for line in f.readlines():\n",
    "            line = line.strip()\n",
    "            if line.startswith(\"#\"):\n",
    "                continue\n",
    "            data = line.split(\" \")\n",
    "            client_ip = data[10]\n",
    "            file = data[6]\n",
    "            method = data[5]\n",
    "            status_code = data[14]\n",
    "            site = data[13]\n",
    "            user_agent = data[11]\n",
    "            ips[client_ip][file] += 1\n",
    "            ua[client_ip][user_agent] += 1\n",
    "    return dict(ips), dict(ua)"
   ]
  },
  {
   "cell_type": "code",
   "execution_count": null,
   "metadata": {},
   "outputs": [],
   "source": [
    "from pprint import pprint\n",
    "\n",
    "from ipwhois import IPWhois\n",
    "\n",
    "\n",
    "def getOwner(ip, extra=False):\n",
    "    obj = IPWhois(ip)\n",
    "    results = obj.lookup_rdap(depth=1)\n",
    "    if extra:\n",
    "        pprint(results)\n",
    "    return results[\"asn_description\"]\n",
    "\n",
    "\n",
    "# getOwner(\"3.134.114.180\",extra=True)"
   ]
  },
  {
   "cell_type": "code",
   "execution_count": null,
   "metadata": {},
   "outputs": [],
   "source": [
    "import ipaddress\n",
    "import json\n",
    "\n",
    "aws_ips = \"https://ip-ranges.amazonaws.com/ip-ranges.json\"\n",
    "import requests\n",
    "\n",
    "aws_ips = requests.get(aws_ips).json()\n",
    "\n",
    "aws_map = {}\n",
    "for region in aws_ips[\"prefixes\"]:\n",
    "    if \"us-\" in region[\"region\"]:\n",
    "        aws_map[region[\"ip_prefix\"]] = region[\"region\"]\n",
    "\n",
    "\n",
    "with open(\"BlockedRanges.json\", \"w\") as f:\n",
    "    f.write(json.dumps(list(aws_map.keys()), indent=4))\n",
    "\n",
    "\n",
    "def checkAws(ip):\n",
    "    for r in aws_map:\n",
    "        if ipaddress.IPv4Address(ip) in ipaddress.IPv4Network(r):\n",
    "            return aws_map[r]"
   ]
  },
  {
   "cell_type": "code",
   "execution_count": null,
   "metadata": {
    "tags": []
   },
   "outputs": [],
   "source": [
    "server = \"webhost2\"\n",
    "who = defaultdict(list)\n",
    "f = 0\n",
    "for service in getSites(server):\n",
    "    for log_path in getLogs(server, service):\n",
    "        f = 0\n",
    "        print(log_path, end=\": \")\n",
    "        try:\n",
    "            for row in YieldRequestedFiles(log_path):\n",
    "                if \"/sheriff/Print1.aspx\" in row:\n",
    "                    f += 1\n",
    "                    who[row[10]].append(row[7])\n",
    "            print(f\"found {f}\")\n",
    "        except Exception as e:\n",
    "            print(e)\n",
    "\n",
    "for ip in who:\n",
    "    o = \"Private\"\n",
    "    try:\n",
    "        o = getOwner(ip)\n",
    "    except Exception as e:\n",
    "        pass\n",
    "    print(ip, o)"
   ]
  },
  {
   "cell_type": "code",
   "execution_count": null,
   "metadata": {
    "tags": []
   },
   "outputs": [],
   "source": [
    "server = \"webhost2\"\n",
    "who = defaultdict(list)\n",
    "f = 0\n",
    "for service in getSites(server):\n",
    "    for log_path in getLogs(server, service):\n",
    "        f = 0\n",
    "        print(log_path, end=\": \")\n",
    "        try:\n",
    "            for row in YieldRequestedFiles(log_path):\n",
    "                if any([\"/ViewInmate/\" in s for s in row]):\n",
    "                    f += 1\n",
    "                    who[row[10]].append(row[6])\n",
    "            print(f\"found {f}\")\n",
    "        except Exception as e:\n",
    "            print(e)\n",
    "\n",
    "for ip in who:\n",
    "    if len(who[ip]) > 200:\n",
    "        o = \"Private\"\n",
    "        try:\n",
    "            o = getOwner(ip)\n",
    "        except Exception as e:\n",
    "            print(e)\n",
    "            pass\n",
    "        print(ip, o, len(who[ip]))"
   ]
  },
  {
   "cell_type": "code",
   "execution_count": null,
   "metadata": {
    "tags": []
   },
   "outputs": [],
   "source": [
    "# get users who access inside server\n",
    "seen = []\n",
    "server = \"webhost2\"\n",
    "for service in getSites(server):\n",
    "    for log_path in getLogs(server, service):\n",
    "        data = RequestedFile(log_path)\n",
    "        for item in data:\n",
    "            if item[\"cs-username\"] not in seen:\n",
    "                seen.append(item[\"cs-username\"])\n",
    "                print(item[\"cs-username\"])"
   ]
  },
  {
   "cell_type": "code",
   "execution_count": null,
   "metadata": {
    "scrolled": true,
    "tags": []
   },
   "outputs": [],
   "source": [
    "for ip in who:\n",
    "    tot = sum(data[ip].values())\n",
    "    try:\n",
    "        owner = checkAws(ip)\n",
    "        if tot > 1000:\n",
    "            if owner is None:\n",
    "                owner = getOwner(ip)\n",
    "            print(ip, \" = \", tot, \"Requests : owned by\", owner)\n",
    "            for u in uas[ip]:\n",
    "                print(u.strip())\n",
    "            print()\n",
    "    except Exception as e:\n",
    "        print(e)"
   ]
  },
  {
   "cell_type": "code",
   "execution_count": null,
   "metadata": {
    "tags": []
   },
   "outputs": [],
   "source": [
    "for server in servers:\n",
    "    for site in getSites(server):\n",
    "        print(site)\n",
    "        for log in getLogs(server, site):\n",
    "            ip_data = RequestedFiles(log)\n",
    "            for ip in ip_data:\n",
    "                print(ip)\n",
    "                for user_agent in ip_data[ip]:\n",
    "                    print(user_agent)\n",
    "                    for method in ip_data[ip][user_agent]:\n",
    "                        print(\"\\t\", method)\n",
    "                        for status_code in ip_data[ip][user_agent][method]:\n",
    "                            print(\"\\t\\t\", status_code)\n",
    "                            for file in ip_data[ip][user_agent][method][status_code]:\n",
    "                                print(\n",
    "                                    \"\\t\\t\\t\",\n",
    "                                    ip_data[ip][user_agent][method][status_code][file],\n",
    "                                    file,\n",
    "                                )\n",
    "                    print()\n",
    "            print()\n",
    "            print()\n",
    "        print(\"#\" * 50)"
   ]
  },
  {
   "cell_type": "code",
   "execution_count": null,
   "metadata": {},
   "outputs": [],
   "source": []
  },
  {
   "cell_type": "code",
   "execution_count": null,
   "metadata": {},
   "outputs": [],
   "source": []
  }
 ],
 "metadata": {
  "kernelspec": {
   "display_name": "Python 3 (ipykernel)",
   "language": "python",
   "name": "python3"
  },
  "language_info": {
   "codemirror_mode": {
    "name": "ipython",
    "version": 3
   },
   "file_extension": ".py",
   "mimetype": "text/x-python",
   "name": "python",
   "nbconvert_exporter": "python",
   "pygments_lexer": "ipython3",
   "version": "3.10.4"
  },
  "widgets": {
   "application/vnd.jupyter.widget-state+json": {
    "state": {},
    "version_major": 2,
    "version_minor": 0
   }
  }
 },
 "nbformat": 4,
 "nbformat_minor": 4
}
