{
 "cells": [
  {
   "cell_type": "code",
   "execution_count": null,
   "id": "ca4bb2b4-49e3-4dc1-96d0-fa53778a368c",
   "metadata": {},
   "outputs": [],
   "source": [
    "import win32security\n",
    "import ntsecuritycon as con\n",
    "import os"
   ]
  },
  {
   "cell_type": "code",
   "execution_count": null,
   "id": "60d4cc2c-8897-4779-9879-704c9080d095",
   "metadata": {},
   "outputs": [],
   "source": [
    "from pathlib import Path\n",
    "import win32api\n",
    "import win32security\n",
    "import win32con"
   ]
  },
  {
   "cell_type": "code",
   "execution_count": null,
   "id": "0b651641-8fef-4490-9c6b-18786727825d",
   "metadata": {},
   "outputs": [],
   "source": [
    "def sid2username(sid):\n",
    "    \"\"\"Convert an object sid to a string account name\"\"\"\n",
    "    account = win32security.LookupAccountSid(None, sid)\n",
    "    return account[0].strip()"
   ]
  },
  {
   "cell_type": "code",
   "execution_count": null,
   "id": "bd6f248a-dbfa-462d-96ca-cd9aa977705a",
   "metadata": {},
   "outputs": [],
   "source": [
    "def fileIsFullAccess(p):\n",
    "    userx, domain, type = win32security.LookupAccountName (\"\", \"Users\")\n",
    "    pfs = win32security.GetFileSecurity(str(p), win32security.DACL_SECURITY_INFORMATION)\n",
    "    a = pfs.GetSecurityDescriptorDacl()\n",
    "    for i in range(a.GetAceCount()):\n",
    "        b,c,user=a.GetAce(i)\n",
    "        user_name= sid2username(user)\n",
    "        if user == userx:\n",
    "            if c == con.FILE_ALL_ACCESS:\n",
    "                return True\n",
    "    return False"
   ]
  },
  {
   "cell_type": "code",
   "execution_count": null,
   "id": "88c32dd8-7aaf-452e-852e-909339ac222a",
   "metadata": {},
   "outputs": [],
   "source": [
    "def SetFileToFullAccess(p):\n",
    "    userx, domain, type = win32security.LookupAccountName (\"\", \"Users\")\n",
    "    sd = win32security.GetFileSecurity(str(p), win32security.DACL_SECURITY_INFORMATION)\n",
    "    dacl = sd.GetSecurityDescriptorDacl()   # instead of dacl = win32security.ACL()\n",
    "    dacl.AddAccessAllowedAce(win32security.ACL_REVISION, con.FILE_ALL_ACCESS, userx)\n",
    "    sd.SetSecurityDescriptorDacl(1, dacl, 0)\n",
    "    win32security.SetFileSecurity(str(p), win32security.DACL_SECURITY_INFORMATION, sd)"
   ]
  },
  {
   "cell_type": "code",
   "execution_count": null,
   "id": "0dcab28a-cf55-49da-8da0-6d81dcd665e6",
   "metadata": {},
   "outputs": [],
   "source": [
    "def getFileOwner(path):\n",
    "    path = str(path)\n",
    "    sd = win32security.GetFileSecurity(path, win32security.OWNER_SECURITY_INFORMATION)\n",
    "    owner_sid = sd.GetSecurityDescriptorOwner()\n",
    "    username, domain, _ = win32security.LookupAccountSid(None, owner_sid)\n",
    "    return (domain, username)"
   ]
  },
  {
   "cell_type": "code",
   "execution_count": null,
   "id": "b5c7499b-872c-4451-aeba-307266799d59",
   "metadata": {},
   "outputs": [],
   "source": [
    "class MyPermissions:\n",
    "    def __init__(self,path,owner,full_user_permissions):\n",
    "        self.path = path\n",
    "        self.owner = owner\n",
    "        self.full_user_permissions = full_user_permissions"
   ]
  },
  {
   "cell_type": "code",
   "execution_count": null,
   "id": "52948832-7026-4808-8e80-b3b3a19c0c05",
   "metadata": {},
   "outputs": [],
   "source": [
    "ignored_folders = ['.git','.ipynb_checkpoints','_vti_cnf','__pycache__']"
   ]
  },
  {
   "cell_type": "code",
   "execution_count": null,
   "id": "a60d0bcc-c62f-4254-a43c-fc33880baa08",
   "metadata": {},
   "outputs": [],
   "source": [
    "source_permissions = {}\n",
    "for file in Path('wwwroot_old').glob(\"**/\"):\n",
    "    if file.is_dir():\n",
    "        if any([f in str(file) for f in ignored_folders]):\n",
    "            continue\n",
    "        fullUserPermissions =fileIsFullAccess(file)\n",
    "        if fullUserPermissions:\n",
    "            source_permissions[file] = MyPermissions(file,owner = getFileOwner(file),full_user_permissions = fullUserPermissions)\n",
    "source_permissions\n"
   ]
  },
  {
   "cell_type": "code",
   "execution_count": null,
   "id": "01d03ad1-ee88-4d2b-80df-fee5553767b1",
   "metadata": {},
   "outputs": [],
   "source": [
    "dest_permissions = {}\n",
    "for file in Path('wwwroot').glob(\"**/\"):\n",
    "    if file.is_dir():\n",
    "        if any([f in str(file) for f in ignored_folders]):\n",
    "            continue\n",
    "        fullUserPermissions =fileIsFullAccess(file)\n",
    "        if fullUserPermissions:\n",
    "            dest_permissions[file] = MyPermissions(file,owner = getFileOwner(file),full_user_permissions = fullUserPermissions)\n",
    "dest_permissions"
   ]
  },
  {
   "cell_type": "code",
   "execution_count": null,
   "id": "7e503a19-d841-45e8-b70f-2484fd6f4a53",
   "metadata": {},
   "outputs": [],
   "source": [
    "for file in source_permissions:\n",
    "    if file not in dest_permissions:\n",
    "        filepath = str(source_permissions[file].path).replace('wwwroot_old','wwwroot')\n",
    "        if Path(filepath).exists():\n",
    "            print(filepath)\n",
    "            SetFileToFullAccess(filepath)\n",
    "        else:\n",
    "            print(f\"File does not exist: {filepath}\")"
   ]
  },
  {
   "cell_type": "code",
   "execution_count": null,
   "id": "c36d8074-f931-46c9-8ec7-51be0edc62a4",
   "metadata": {},
   "outputs": [],
   "source": [
    "check_permissions={}\n",
    "for file in Path('wwwroot').glob(\"**/\"):\n",
    "    if file.is_dir():\n",
    "        if any([f in str(file) for f in ignored_folders]):\n",
    "            continue\n",
    "        fullUserPermissions =fileIsFullAccess(file)\n",
    "        if fullUserPermissions:\n",
    "            check_permissions[file] = MyPermissions(file,owner = getFileOwner(file),full_user_permissions = fullUserPermissions)\n",
    "check_permissions"
   ]
  },
  {
   "cell_type": "code",
   "execution_count": null,
   "id": "7476b720-fb5c-4933-a585-979d6210fc65",
   "metadata": {},
   "outputs": [],
   "source": [
    "raise Exception(\"Stop\") "
   ]
  },
  {
   "cell_type": "code",
   "execution_count": null,
   "id": "0c47e52b-b2f9-410c-9be8-a71976b8f979",
   "metadata": {},
   "outputs": [],
   "source": [
    "    p = Path(\"./wwwroot_bad/par/Emails\")"
   ]
  },
  {
   "cell_type": "code",
   "execution_count": null,
   "id": "8b72f799-8547-494a-a2a0-f4d30043efae",
   "metadata": {},
   "outputs": [],
   "source": [
    "getFileOwner(p)"
   ]
  },
  {
   "cell_type": "code",
   "execution_count": null,
   "id": "b9c61e21-1857-4b5b-b92c-6db9c2e3b58d",
   "metadata": {},
   "outputs": [],
   "source": [
    "fileIsFullAccess(p)"
   ]
  },
  {
   "cell_type": "code",
   "execution_count": null,
   "id": "ef649859-ed83-44c6-8242-5060f539700b",
   "metadata": {},
   "outputs": [],
   "source": [
    " p = Path(\"./wwwroot/par/Emails\")"
   ]
  },
  {
   "cell_type": "code",
   "execution_count": null,
   "id": "d3fc1c67-c871-4d43-931b-efcb741d1602",
   "metadata": {},
   "outputs": [],
   "source": [
    "getFileOwner(p)"
   ]
  },
  {
   "cell_type": "code",
   "execution_count": null,
   "id": "e80b093e-ee08-4c9c-abca-0a09af2084d1",
   "metadata": {},
   "outputs": [],
   "source": [
    "fileIsFullAccess(p)"
   ]
  },
  {
   "cell_type": "code",
   "execution_count": null,
   "id": "8192f4cf-1612-4c74-97aa-0867c36f29eb",
   "metadata": {},
   "outputs": [],
   "source": [
    " p = Path(\"./testing\")"
   ]
  },
  {
   "cell_type": "code",
   "execution_count": null,
   "id": "635202b1-6e37-4583-9224-5c08591a860a",
   "metadata": {},
   "outputs": [],
   "source": [
    "getFileOwner(p)"
   ]
  },
  {
   "cell_type": "code",
   "execution_count": null,
   "id": "ea0808b4-a010-4b2c-8d2c-a7e5752980fe",
   "metadata": {},
   "outputs": [],
   "source": [
    "fileIsFullAccess(p)"
   ]
  },
  {
   "cell_type": "code",
   "execution_count": null,
   "id": "8c749b63-7094-4a7a-838d-722a52170bba",
   "metadata": {},
   "outputs": [],
   "source": [
    "SetFileToFullAccess(p)"
   ]
  },
  {
   "cell_type": "code",
   "execution_count": null,
   "id": "b9a97dc5-80c1-4a71-b633-2bffea06e1ef",
   "metadata": {},
   "outputs": [],
   "source": [
    "fileIsFullAccess(p)"
   ]
  },
  {
   "cell_type": "code",
   "execution_count": null,
   "id": "ad1749c2-49bb-4dd5-a909-0bacc3ec2d2f",
   "metadata": {},
   "outputs": [],
   "source": [
    "sd = win32security.GetFileSecurity(str(p), win32security.DACL_SECURITY_INFORMATION)\n",
    "dacl = sd.GetSecurityDescriptorDacl()   # instead of dacl = win32security.ACL()\n",
    "dacl.AddAccessAllowedAce(win32security.ACL_REVISION, con.FILE_ALL_ACCESS, userx)\n",
    "sd.SetSecurityDescriptorDacl(1, dacl, 0)\n",
    "win32security.SetFileSecurity(directory+'\\\\'+FILENAME, win32security.DACL_SECURITY_INFORMATION, sd)"
   ]
  },
  {
   "cell_type": "code",
   "execution_count": null,
   "id": "409dba8d-1dc2-4aa2-bede-f9179a4b9030",
   "metadata": {},
   "outputs": [],
   "source": [
    "directory='c:\\\\'\n",
    "for dirpath, dirnames, filenames in os.walk('M:\\intra\\EU'):\n",
    "    for FILENAME in filenames:"
   ]
  }
 ],
 "metadata": {
  "kernelspec": {
   "display_name": "Python 3 (ipykernel)",
   "language": "python",
   "name": "python3"
  },
  "language_info": {
   "codemirror_mode": {
    "name": "ipython",
    "version": 3
   },
   "file_extension": ".py",
   "mimetype": "text/x-python",
   "name": "python",
   "nbconvert_exporter": "python",
   "pygments_lexer": "ipython3",
   "version": "3.9.7"
  }
 },
 "nbformat": 4,
 "nbformat_minor": 5
}
