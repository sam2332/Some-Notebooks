{
 "cells": [
  {
   "cell_type": "code",
   "execution_count": null,
   "id": "c2a08d43-6da6-492e-a32d-5eaa5f909358",
   "metadata": {},
   "outputs": [],
   "source": [
    "import psutil\n",
    "\n",
    "\n",
    "def getService(name):\n",
    "    service = None\n",
    "    try:\n",
    "        service = psutil.win_service_get(name)\n",
    "        service = service.as_dict()\n",
    "    except Exception as ex:\n",
    "        print(str(ex))\n",
    "\n",
    "    return service"
   ]
  },
  {
   "cell_type": "code",
   "execution_count": null,
   "id": "be11dd6d-cf8a-4e1b-88a0-eeca855c9720",
   "metadata": {},
   "outputs": [],
   "source": [
    "service = getService(\"myservice\")\n",
    "print(service)"
   ]
  },
  {
   "cell_type": "code",
   "execution_count": null,
   "id": "01dbb397-eb95-450d-b5bc-d676128db782",
   "metadata": {},
   "outputs": [],
   "source": [
    "if service:\n",
    "    if service[\"status\"] == \"running\":\n",
    "        print(\"service is running\")\n",
    "    else:\n",
    "        print(\"service is not running\")\n",
    "else:\n",
    "    print(\"service not found\")"
   ]
  }
 ],
 "metadata": {
  "kernelspec": {
   "display_name": "Python 3 (ipykernel)",
   "language": "python",
   "name": "python3"
  },
  "language_info": {
   "codemirror_mode": {
    "name": "ipython",
    "version": 3
   },
   "file_extension": ".py",
   "mimetype": "text/x-python",
   "name": "python",
   "nbconvert_exporter": "python",
   "pygments_lexer": "ipython3",
   "version": "3.10.6"
  },
  "widgets": {
   "application/vnd.jupyter.widget-state+json": {
    "state": {},
    "version_major": 2,
    "version_minor": 0
   }
  }
 },
 "nbformat": 4,
 "nbformat_minor": 5
}
