{
    "cells": [
        {
            "cell_type": "code",
            "execution_count": null,
            "id": "1e0c6469-2103-45ab-aded-6fcb00b7660c",
            "metadata": {},
            "outputs": [],
            "source": [
                "import json\n",
                "import os\n",
                "import shutil\n",
                "from pathlib import Path\n",
                "\n",
                "import pefile\n",
                "from tqdm.notebook import tqdm"
            ]
        },
        {
            "cell_type": "code",
            "execution_count": null,
            "id": "98f70c7f-d35c-432d-bc97-c4a8d8a4a050",
            "metadata": {},
            "outputs": [],
            "source": [
                "def getSections(filename, print_return=True):\n",
                "    d = [pefile.DIRECTORY_ENTRY[\"IMAGE_DIRECTORY_ENTRY_EXPORT\"]]\n",
                "    try:\n",
                "        pe = pefile.PE(filename, fast_load=True)\n",
                "        pe.parse_data_directories(directories=d)\n",
                "        o = []\n",
                "        try:\n",
                "            exports = [(e.ordinal, e.name) for e in pe.DIRECTORY_ENTRY_EXPORT.symbols]\n",
                "            for export in sorted(exports):\n",
                "                o.append(export)\n",
                "            if print_return:\n",
                "                if len(o) > 0:\n",
                "                    print(f\"# {filename} exports\")\n",
                "                    for l in o:\n",
                "                        print(l.encode(\"utf-8\"))\n",
                "            return o\n",
                "        except Exception as e:\n",
                "            pass\n",
                "    except Exception as e:\n",
                "        print(\"ERROR\", filename)\n",
                "        pass"
            ]
        },
        {
            "cell_type": "code",
            "execution_count": null,
            "id": "df5d7b5d-1146-4206-8a8a-91d2acc3a831",
            "metadata": {},
            "outputs": [],
            "source": [
                "root = Path(\"~/Appdata\").expanduser().absolute()\n",
                "root"
            ]
        },
        {
            "cell_type": "code",
            "execution_count": null,
            "id": "d7e5c000-389e-45fa-a57b-7207c3643ba0",
            "metadata": {},
            "outputs": [],
            "source": [
                "root = Path(\"c:/Windows/\").expanduser().absolute()\n",
                "root"
            ]
        },
        {
            "cell_type": "code",
            "execution_count": null,
            "id": "4784313d-fc7f-495f-9915-ea82a8605da3",
            "metadata": {},
            "outputs": [],
            "source": []
        },
        {
            "cell_type": "code",
            "execution_count": null,
            "id": "2358ed22-6ac7-4a04-972c-0de68af23428",
            "metadata": {},
            "outputs": [],
            "source": [
                "root.exists()"
            ]
        },
        {
            "cell_type": "code",
            "execution_count": null,
            "id": "464ebaab-8ded-456d-9e72-064fc82d0a05",
            "metadata": {},
            "outputs": [],
            "source": [
                "files = list(root.glob(\"*.dll\"))"
            ]
        },
        {
            "cell_type": "code",
            "execution_count": null,
            "id": "c450b364-8ec7-46ba-9545-abdf0dcf74ff",
            "metadata": {
                "scrolled": true,
                "tags": []
            },
            "outputs": [],
            "source": [
                "d = {}"
            ]
        },
        {
            "cell_type": "code",
            "execution_count": null,
            "id": "6c55b738-abb2-4d50-a678-ab5a27147e94",
            "metadata": {
                "scrolled": true,
                "tags": []
            },
            "outputs": [],
            "source": [
                "for file in tqdm(files):\n",
                "    if str(file) not in d:\n",
                "        exports = getSections(file)\n",
                "        if exports is not None:\n",
                "            d[str(file)] = exports"
            ]
        },
        {
            "cell_type": "code",
            "execution_count": null,
            "id": "4c97bfdd-92ba-4f85-a560-f2ff02f477a5",
            "metadata": {},
            "outputs": [],
            "source": [
                "d"
            ]
        },
        {
            "cell_type": "code",
            "execution_count": null,
            "id": "84c574c3-7239-4034-a92d-776d9756d24f",
            "metadata": {},
            "outputs": [],
            "source": [
                "Path(\"exports.json\").write_text(json.dumps(d))"
            ]
        },
        {
            "cell_type": "code",
            "execution_count": null,
            "id": "6f516f86-e86e-4235-97fd-66b17521c8f1",
            "metadata": {},
            "outputs": [],
            "source": []
        }
    ],
    "metadata": {
        "autoscrollcelloutput": true,
        "kernelspec": {
            "display_name": "Python 3 (ipykernel)",
            "language": "python",
            "name": "python3"
        },
        "language_info": {
            "codemirror_mode": {
                "name": "ipython",
                "version": 3
            },
            "file_extension": ".py",
            "mimetype": "text/x-python",
            "name": "python",
            "nbconvert_exporter": "python",
            "pygments_lexer": "ipython3",
            "version": "3.10.4"
        },
        "scenes_data": {
            "active_scene": "Default Scene",
            "init_scene": "",
            "scenes": [
                "Default Scene"
            ]
        },
        "widgets": {
            "application/vnd.jupyter.widget-state+json": {
                "state": {
                    "0f6b645fda8a46cc97f4d826f6dbde61": {
                        "model_module": "@jupyter-widgets/base",
                        "model_module_version": "1.2.0",
                        "model_name": "LayoutModel",
                        "state": {}
                    },
                    "16dec0084f0c4e13a6f6e6f09c48b2d2": {
                        "model_module": "@jupyter-widgets/base",
                        "model_module_version": "1.2.0",
                        "model_name": "LayoutModel",
                        "state": {}
                    },
                    "1cd1f3f22ad54e12b3f40af3c8cbd443": {
                        "model_module": "@jupyter-widgets/controls",
                        "model_module_version": "1.5.0",
                        "model_name": "HTMLModel",
                        "state": {
                            "layout": "IPY_MODEL_75c76060f0ce458ab16ac89d247f134e",
                            "style": "IPY_MODEL_c185886870a84ccf9098ef4d351e322a",
                            "value": " 126/868 [00:24&lt;02:22,  5.20it/s]"
                        }
                    },
                    "1ea78b3c01ab438db8496356b20006ba": {
                        "model_module": "@jupyter-widgets/controls",
                        "model_module_version": "1.5.0",
                        "model_name": "FloatProgressModel",
                        "state": {
                            "bar_style": "danger",
                            "layout": "IPY_MODEL_51dc8b41222c47e2b3b4c32230e7cbc8",
                            "max": 868,
                            "style": "IPY_MODEL_cab40532462141769c891a222a13dd23",
                            "value": 251
                        }
                    },
                    "1fa969af45514c76b426870214c5f2c3": {
                        "model_module": "@jupyter-widgets/base",
                        "model_module_version": "1.2.0",
                        "model_name": "LayoutModel",
                        "state": {}
                    },
                    "22ef8a8c64b84a7a984214df0b32a3e0": {
                        "model_module": "@jupyter-widgets/controls",
                        "model_module_version": "1.5.0",
                        "model_name": "HTMLModel",
                        "state": {
                            "layout": "IPY_MODEL_cd9a0770274340719fc85571d1b90823",
                            "style": "IPY_MODEL_264a14b798a84ab08abb3cf8eb0e3dfb",
                            "value": " 14%"
                        }
                    },
                    "264a14b798a84ab08abb3cf8eb0e3dfb": {
                        "model_module": "@jupyter-widgets/controls",
                        "model_module_version": "1.5.0",
                        "model_name": "DescriptionStyleModel",
                        "state": {
                            "description_width": ""
                        }
                    },
                    "2d7fb6f83f884399be8f37021eac77ed": {
                        "model_module": "@jupyter-widgets/base",
                        "model_module_version": "1.2.0",
                        "model_name": "LayoutModel",
                        "state": {}
                    },
                    "3287556742264279a3ac8e89a5385025": {
                        "model_module": "@jupyter-widgets/controls",
                        "model_module_version": "1.5.0",
                        "model_name": "ProgressStyleModel",
                        "state": {
                            "description_width": ""
                        }
                    },
                    "51dc8b41222c47e2b3b4c32230e7cbc8": {
                        "model_module": "@jupyter-widgets/base",
                        "model_module_version": "1.2.0",
                        "model_name": "LayoutModel",
                        "state": {}
                    },
                    "75c76060f0ce458ab16ac89d247f134e": {
                        "model_module": "@jupyter-widgets/base",
                        "model_module_version": "1.2.0",
                        "model_name": "LayoutModel",
                        "state": {}
                    },
                    "8541bcd85ffb4ec7a40cc1e3ccf6315b": {
                        "model_module": "@jupyter-widgets/controls",
                        "model_module_version": "1.5.0",
                        "model_name": "DescriptionStyleModel",
                        "state": {
                            "description_width": ""
                        }
                    },
                    "a7315d5c939f445db0fe540d375c4d74": {
                        "model_module": "@jupyter-widgets/controls",
                        "model_module_version": "1.5.0",
                        "model_name": "HBoxModel",
                        "state": {
                            "children": [
                                "IPY_MODEL_22ef8a8c64b84a7a984214df0b32a3e0",
                                "IPY_MODEL_d5b5033c3b1947a4815b0d9ea14d46e9",
                                "IPY_MODEL_1cd1f3f22ad54e12b3f40af3c8cbd443"
                            ],
                            "layout": "IPY_MODEL_ea8141fbba7041a2971dcbac6579b695"
                        }
                    },
                    "ab9c624255144d4fab79f91f9eda0e98": {
                        "model_module": "@jupyter-widgets/controls",
                        "model_module_version": "1.5.0",
                        "model_name": "HTMLModel",
                        "state": {
                            "layout": "IPY_MODEL_1fa969af45514c76b426870214c5f2c3",
                            "style": "IPY_MODEL_e03c4acbf188420bb2a0505abf786cc3",
                            "value": " 251/868 [00:45&lt;02:05,  4.92it/s]"
                        }
                    },
                    "c185886870a84ccf9098ef4d351e322a": {
                        "model_module": "@jupyter-widgets/controls",
                        "model_module_version": "1.5.0",
                        "model_name": "DescriptionStyleModel",
                        "state": {
                            "description_width": ""
                        }
                    },
                    "cab40532462141769c891a222a13dd23": {
                        "model_module": "@jupyter-widgets/controls",
                        "model_module_version": "1.5.0",
                        "model_name": "ProgressStyleModel",
                        "state": {
                            "description_width": ""
                        }
                    },
                    "cd9a0770274340719fc85571d1b90823": {
                        "model_module": "@jupyter-widgets/base",
                        "model_module_version": "1.2.0",
                        "model_name": "LayoutModel",
                        "state": {}
                    },
                    "d5b5033c3b1947a4815b0d9ea14d46e9": {
                        "model_module": "@jupyter-widgets/controls",
                        "model_module_version": "1.5.0",
                        "model_name": "FloatProgressModel",
                        "state": {
                            "bar_style": "danger",
                            "layout": "IPY_MODEL_16dec0084f0c4e13a6f6e6f09c48b2d2",
                            "max": 868,
                            "style": "IPY_MODEL_3287556742264279a3ac8e89a5385025",
                            "value": 126
                        }
                    },
                    "da3f0615d911473aa827de2d0b6e3e7c": {
                        "model_module": "@jupyter-widgets/controls",
                        "model_module_version": "1.5.0",
                        "model_name": "HTMLModel",
                        "state": {
                            "layout": "IPY_MODEL_0f6b645fda8a46cc97f4d826f6dbde61",
                            "style": "IPY_MODEL_8541bcd85ffb4ec7a40cc1e3ccf6315b",
                            "value": " 29%"
                        }
                    },
                    "e03c4acbf188420bb2a0505abf786cc3": {
                        "model_module": "@jupyter-widgets/controls",
                        "model_module_version": "1.5.0",
                        "model_name": "DescriptionStyleModel",
                        "state": {
                            "description_width": ""
                        }
                    },
                    "ea8141fbba7041a2971dcbac6579b695": {
                        "model_module": "@jupyter-widgets/base",
                        "model_module_version": "1.2.0",
                        "model_name": "LayoutModel",
                        "state": {}
                    },
                    "fd7ea520346149afaf304c77c168a178": {
                        "model_module": "@jupyter-widgets/controls",
                        "model_module_version": "1.5.0",
                        "model_name": "HBoxModel",
                        "state": {
                            "children": [
                                "IPY_MODEL_da3f0615d911473aa827de2d0b6e3e7c",
                                "IPY_MODEL_1ea78b3c01ab438db8496356b20006ba",
                                "IPY_MODEL_ab9c624255144d4fab79f91f9eda0e98"
                            ],
                            "layout": "IPY_MODEL_2d7fb6f83f884399be8f37021eac77ed"
                        }
                    }
                },
                "version_major": 2,
                "version_minor": 0
            }
        }
    },
    "nbformat": 4,
    "nbformat_minor": 5
}