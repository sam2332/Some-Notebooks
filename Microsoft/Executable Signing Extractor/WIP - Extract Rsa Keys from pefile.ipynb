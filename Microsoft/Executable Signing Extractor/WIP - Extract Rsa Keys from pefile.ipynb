{
    "cells": [
        {
            "cell_type": "markdown",
            "id": "d46a3a0e-f6f8-4deb-aea7-1ca7ea777fc0",
            "metadata": {
                "tags": []
            },
            "source": [
                "# Pefile Attempt"
            ]
        },
        {
            "cell_type": "raw",
            "id": "af9f20e6-3b69-45a7-a912-8370e16cc635",
            "metadata": {},
            "source": [
                "!pip install pefile"
            ]
        },
        {
            "cell_type": "code",
            "execution_count": 3,
            "id": "09acbb92-10e8-4476-886c-c3c2b08daf5e",
            "metadata": {},
            "outputs": [],
            "source": [
                "import struct\n",
                "\n",
                "import pefile"
            ]
        },
        {
            "cell_type": "code",
            "execution_count": null,
            "id": "3f6c4c80-799e-4a2e-8019-8e45914d919e",
            "metadata": {},
            "outputs": [],
            "source": [
                "pe = pefile.PE(\"Microsoft.AnalysisServices.AdomdClient.dll\")\n",
                "pe.print_info()"
            ]
        },
        {
            "cell_type": "code",
            "execution_count": null,
            "id": "dd6c48e4-e184-416f-b8a7-e068673abb78",
            "metadata": {},
            "outputs": [],
            "source": [
                "pe.OPTIONAL_HEADER.DATA_DIRECTORY[4].dump()"
            ]
        },
        {
            "cell_type": "markdown",
            "id": "6a1ec100-65c3-4142-b50d-fcc18f0a488e",
            "metadata": {},
            "source": [
                "https://programtalk.com/vs4/python/dockerizeme/dockerizeme/hard-gists/25d98841e6a82f30ae5cac24e9039856/snippet.py/"
            ]
        },
        {
            "cell_type": "code",
            "execution_count": null,
            "id": "52b86620-23cc-4379-8953-9bc1c328458c",
            "metadata": {},
            "outputs": [],
            "source": [
                "class RSAKEY(object):\n",
                "    def __init__(self, d):\n",
                "        self.bin = d\n",
                "        self.off = 0\n",
                "        self.bits = 0\n",
                "\n",
                "    def get_int(self, b):\n",
                "        print(self.off, len(self.bin), b, self.off + self.bits / b)\n",
                "        sli = self.bin[self.off : int(self.off + self.bits / b)]\n",
                "        r = int(sli[:-1], 16)\n",
                "        self.off += self.bits / b\n",
                "        return r\n",
                "\n",
                "    def unpack(self):\n",
                "\n",
                "        if self.bin[0] not in [b\"\\x06\", b\"\\x07\", 6, 7]:\n",
                "            print(\"not 06 or 07, found \", (type(self.bin[0]), self.bin[0]))\n",
                "            return None\n",
                "\n",
                "        if self.bin[8:12] not in [\"RSA1\", \"RSA2\", b\"RSA1\", b\"RSA2\"]:\n",
                "            print(\"not rsa1 or rsa2 found\", self.bin[8:12])\n",
                "            return None\n",
                "        key = {}\n",
                "        priv = self.bin[0] == \"\\x07\"\n",
                "        self.bits, key[\"e\"] = struct.unpack(\"II\", self.bin[12:20])\n",
                "        self.off = 20\n",
                "        key[\"n\"] = self.get_int(8)\n",
                "        if priv:\n",
                "            key[\"p1\"] = self.get_int(16)\n",
                "            key[\"p2\"] = self.get_int(16)\n",
                "            key[\"exp1\"] = self.get_int(16)\n",
                "            key[\"exp2\"] = self.get_int(16)\n",
                "            key[\"coeff\"] = self.get_int(16)\n",
                "            key[\"d\"] = self.get_int(8)\n",
                "            ko = RSA.construct((key[\"n\"], int(key[\"e\"]), key[\"d\"]))\n",
                "        else:\n",
                "            ko = RSA.construct((key[\"n\"], int(key[\"e\"])))\n",
                "        return ko, key"
            ]
        },
        {
            "cell_type": "code",
            "execution_count": null,
            "id": "e4ee006a-7a57-4437-b566-dc62ac2269a6",
            "metadata": {},
            "outputs": [],
            "source": [
                "import re\n",
                "\n",
                "from Crypto.PublicKey import RSA\n",
                "\n",
                "RSA_re = re.compile(b\"RSA(1|2)\")\n",
                "get_urls = lambda d: map(\n",
                "    lambda x: x.strip(\"\\x00\"), re.findall(\"https?://[\\x1f-\\x7e]{6,}\\x00\", d)\n",
                ")\n",
                "get_strings = lambda d: re.findall(\"[ -~]{3,}\", d)"
            ]
        },
        {
            "cell_type": "code",
            "execution_count": null,
            "id": "2d6fc8e3-f820-4895-b43d-cca4a0cb8eeb",
            "metadata": {},
            "outputs": [],
            "source": [
                "inner_exe = open(\"Microsoft.AnalysisServices.AdomdClient.dll\", \"rb\").read()\n",
                "off = RSA_re.finditer(inner_exe)\n",
                "for item in off:\n",
                "    off = item.start() - 8\n",
                "off"
            ]
        },
        {
            "cell_type": "code",
            "execution_count": null,
            "id": "0b9d6634-621e-4c33-b204-4aac4795374a",
            "metadata": {},
            "outputs": [],
            "source": [
                "data = inner_exe[off:]\n",
                "len(data)"
            ]
        },
        {
            "cell_type": "code",
            "execution_count": null,
            "id": "38d8c3c5-7e8e-4e7b-b898-b3f907d980cd",
            "metadata": {},
            "outputs": [],
            "source": [
                "key = RSAKEY(data)"
            ]
        },
        {
            "cell_type": "code",
            "execution_count": null,
            "id": "370dd86f-66b3-40e2-93e5-08681e4302cb",
            "metadata": {},
            "outputs": [],
            "source": [
                "ko, key = key.unpack()\n",
                "print(ko.exportKey())"
            ]
        },
        {
            "cell_type": "markdown",
            "id": "524ee036-13c6-454c-bb44-504d3b0827db",
            "metadata": {},
            "source": [
                "# Win32com"
            ]
        },
        {
            "cell_type": "code",
            "execution_count": null,
            "id": "b1381014-bb07-4056-be3b-c54454dcaaed",
            "metadata": {},
            "outputs": [],
            "source": [
                "import win32com.client\n",
                "\n",
                "s = win32com.client.gencache.EnsureDispatch(\"capicom.signedcode\", 0)\n",
                "s.FileName = (\n",
                "    r\"J:\\Program Files\\Adobe\\Flash Player\\AddIns\\airappinstaller\\airappinstaller.exe\"\n",
                ")\n",
                "signer = s.Signer\n",
                "print(signer.Certificate.IssuerName, signer.Certificate.SerialNumber)"
            ]
        }
    ],
    "metadata": {
        "kernelspec": {
            "display_name": "Python 3 (ipykernel)",
            "language": "python",
            "name": "python3"
        },
        "language_info": {
            "codemirror_mode": {
                "name": "ipython",
                "version": 3
            },
            "file_extension": ".py",
            "mimetype": "text/x-python",
            "name": "python",
            "nbconvert_exporter": "python",
            "pygments_lexer": "ipython3",
            "version": "3.10.4"
        },
        "scenes_data": {
            "active_scene": "Default Scene",
            "init_scene": "",
            "scenes": [
                "Default Scene"
            ]
        },
        "widgets": {
            "application/vnd.jupyter.widget-state+json": {
                "state": {},
                "version_major": 2,
                "version_minor": 0
            }
        }
    },
    "nbformat": 4,
    "nbformat_minor": 5
}