{
 "cells": [
  {
   "cell_type": "code",
   "execution_count": 35,
   "metadata": {},
   "outputs": [],
   "source": [
    "from pathlib import Path"
   ]
  },
  {
   "cell_type": "code",
   "execution_count": 36,
   "metadata": {},
   "outputs": [],
   "source": [
    "from zipfile import ZipFile\n",
    "from tqdm import tqdm_notebook"
   ]
  },
  {
   "cell_type": "code",
   "execution_count": 37,
   "metadata": {},
   "outputs": [],
   "source": [
    "def zipHasManifest(zf):\n",
    "    return any([True if 'META-INF/MANIFEST.MF' == f.filename else False for f in zf.filelist])"
   ]
  },
  {
   "cell_type": "code",
   "execution_count": 38,
   "metadata": {},
   "outputs": [],
   "source": [
    "def getVersion(zf):\n",
    "    for line in zf.read('META-INF/MANIFEST.MF').splitlines():\n",
    "        if  b'Implementation-Version:' in line:\n",
    "            return line.replace( b'Implementation-Version:',b'').strip()"
   ]
  },
  {
   "cell_type": "code",
   "execution_count": 39,
   "metadata": {},
   "outputs": [],
   "source": [
    "def getL4jVersion(item):\n",
    "    print(item)\n",
    "    zf = ZipFile(str(item))\n",
    "    if zipHasManifest(zf):\n",
    "        print(getVersion(zf))"
   ]
  },
  {
   "cell_type": "code",
   "execution_count": null,
   "metadata": {},
   "outputs": [],
   "source": []
  },
  {
   "cell_type": "code",
   "execution_count": 40,
   "metadata": {},
   "outputs": [
    {
     "data": {
      "text/plain": [
       "[WindowsPath('c:/Program Files (x86)/Business Objects/Common/3.5/java/lib/external/log4j.jar'),\n",
       " WindowsPath('c:/Program Files (x86)/Business Objects/Common/3.5/java/lib/external/axis/1.3/log4j.jar'),\n",
       " WindowsPath('c:/Program Files (x86)/SAP BusinessObjects/SAP BusinessObjects Enterprise XI 4.0/classes/log4j.jar'),\n",
       " WindowsPath('c:/Program Files (x86)/SAP BusinessObjects/SAP BusinessObjects Enterprise XI 4.0/java/lib/log4j.jar'),\n",
       " WindowsPath('c:/Program Files (x86)/SAP BusinessObjects/SAP BusinessObjects Enterprise XI 4.0/java/lib/external/log4j.jar'),\n",
       " WindowsPath('c:/Program Files (x86)/SAP BusinessObjects/SAP BusinessObjects Enterprise XI 4.0/warfiles/webapps/BOE/WEB-INF/jars/lib/log4j.jar'),\n",
       " WindowsPath('c:/Users/srudloff/Desktop/log4bomb/log4j.jar')]"
      ]
     },
     "execution_count": 40,
     "metadata": {},
     "output_type": "execute_result"
    }
   ],
   "source": [
    "foundL4J=[]\n",
    "for file in Path('c:/').glob('**/*.jar'):\n",
    "    if file.stem == 'log4j':\n",
    "        foundL4J.append(file)\n",
    "foundL4J      "
   ]
  },
  {
   "cell_type": "code",
   "execution_count": 41,
   "metadata": {},
   "outputs": [
    {
     "name": "stdout",
     "output_type": "stream",
     "text": [
      "c:\\Program Files (x86)\\Business Objects\\Common\\3.5\\java\\lib\\external\\log4j.jar\n",
      "b'1.2.8'\n",
      "c:\\Program Files (x86)\\Business Objects\\Common\\3.5\\java\\lib\\external\\axis\\1.3\\log4j.jar\n",
      "b'1.2.8'\n",
      "c:\\Program Files (x86)\\SAP BusinessObjects\\SAP BusinessObjects Enterprise XI 4.0\\classes\\log4j.jar\n",
      "b'1.2.6'\n",
      "c:\\Program Files (x86)\\SAP BusinessObjects\\SAP BusinessObjects Enterprise XI 4.0\\java\\lib\\log4j.jar\n",
      "b'1.2.6'\n",
      "c:\\Program Files (x86)\\SAP BusinessObjects\\SAP BusinessObjects Enterprise XI 4.0\\java\\lib\\external\\log4j.jar\n",
      "b'1.2.6'\n",
      "c:\\Program Files (x86)\\SAP BusinessObjects\\SAP BusinessObjects Enterprise XI 4.0\\warfiles\\webapps\\BOE\\WEB-INF\\jars\\lib\\log4j.jar\n",
      "b'1.2.6'\n",
      "c:\\Users\\srudloff\\Desktop\\log4bomb\\log4j.jar\n",
      "b'1.2.6'\n"
     ]
    }
   ],
   "source": [
    "for file in foundL4J:\n",
    "    getL4jVersion(file)\n",
    "    print()"
   ]
  },
  {
   "cell_type": "code",
   "execution_count": null,
   "metadata": {},
   "outputs": [],
   "source": []
  }
 ],
 "metadata": {
  "kernelspec": {
   "display_name": "Python 3",
   "language": "python",
   "name": "python3"
  },
  "language_info": {
   "codemirror_mode": {
    "name": "ipython",
    "version": 3
   },
   "file_extension": ".py",
   "mimetype": "text/x-python",
   "name": "python",
   "nbconvert_exporter": "python",
   "pygments_lexer": "ipython3",
   "version": "3.8.2"
  }
 },
 "nbformat": 4,
 "nbformat_minor": 4
}
