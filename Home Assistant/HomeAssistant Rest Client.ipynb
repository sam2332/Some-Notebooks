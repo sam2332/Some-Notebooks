{
 "cells": [
  {
   "cell_type": "code",
   "execution_count": null,
   "id": "05fe937a-f585-4d8f-8989-4ea9dd285025",
   "metadata": {},
   "outputs": [],
   "source": [
    "import io\n",
    "import json\n",
    "import logging\n",
    "import os\n",
    "from pathlib import Path\n",
    "\n",
    "import requests\n",
    "from dotenv import load_dotenv\n",
    "\n",
    "logging.basicConfig(level=logging.DEBUG)\n",
    "load_dotenv(Path(\"~\").expanduser() / \"homeassistant.env\")"
   ]
  },
  {
   "cell_type": "code",
   "execution_count": null,
   "id": "41b83edd-d286-4d68-9782-f797118080a9",
   "metadata": {},
   "outputs": [],
   "source": [
    "class HA_Client:\n",
    "    def __init__(self, host, token):\n",
    "        self.headers = {\n",
    "            \"Authorization\": f\"Bearer {token}\",\n",
    "            \"ContentType\": \"application/json\",\n",
    "        }\n",
    "        self.s = requests.Session()\n",
    "        self.host = host\n",
    "        if (\n",
    "            self.s.get(f\"{self.host}/api/\", headers=self.headers).text\n",
    "            == '{\"message\":\"API running.\"}'\n",
    "        ):\n",
    "            print(\"Api online\")\n",
    "\n",
    "    def setSensor(self, sensor, value):\n",
    "        return self.s.post(\n",
    "            f\"{self.host}/api/states/{sensor}\",\n",
    "            data=json.dumps({\"state\": value}),\n",
    "            headers=self.headers,\n",
    "        ).json()\n",
    "\n",
    "    def getSensor(self, sensor):\n",
    "        return self.s.get(\n",
    "            f\"{self.host}/api/states/{sensor}\",\n",
    "            headers=self.headers,\n",
    "        ).json()\n",
    "\n",
    "    def getAllSensors(self):\n",
    "        return self.s.get(f\"{self.host}/api/states\", headers=self.headers).json()\n",
    "\n",
    "\n",
    "ha = HA_Client(os.environ[\"ha_host\"], os.environ[\"ha_token\"])"
   ]
  },
  {
   "cell_type": "code",
   "execution_count": null,
   "id": "f1fdf845-ed19-4e68-9bb8-a0af98f917c5",
   "metadata": {},
   "outputs": [],
   "source": [
    "r = ha.getSensor(\"input_text.testing\")\n",
    "r"
   ]
  },
  {
   "cell_type": "code",
   "execution_count": null,
   "id": "0f1b0669-90bd-449c-875e-fe5d5a300f75",
   "metadata": {},
   "outputs": [],
   "source": [
    "r = ha.setSensor(\"input_text.testing\", input())\n",
    "r"
   ]
  },
  {
   "cell_type": "code",
   "execution_count": null,
   "id": "82f916c7-e75c-4630-8bc6-f5e5cf2644d5",
   "metadata": {},
   "outputs": [],
   "source": []
  }
 ],
 "metadata": {
  "kernelspec": {
   "display_name": "Python 3 (ipykernel)",
   "language": "python",
   "name": "python3"
  },
  "language_info": {
   "codemirror_mode": {
    "name": "ipython",
    "version": 3
   },
   "file_extension": ".py",
   "mimetype": "text/x-python",
   "name": "python",
   "nbconvert_exporter": "python",
   "pygments_lexer": "ipython3",
   "version": "3.10.6"
  },
  "widgets": {
   "application/vnd.jupyter.widget-state+json": {
    "state": {},
    "version_major": 2,
    "version_minor": 0
   }
  }
 },
 "nbformat": 4,
 "nbformat_minor": 5
}
