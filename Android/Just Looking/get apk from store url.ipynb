{
 "cells": [
  {
   "cell_type": "code",
   "execution_count": 2,
   "id": "950bc6d9-191a-44a1-b9d9-b6b6ac772fa5",
   "metadata": {},
   "outputs": [],
   "source": [
    "url = \"https://play.google.com/store/apps/details?id=com.harvest.android.gr\""
   ]
  },
  {
   "cell_type": "code",
   "execution_count": 6,
   "id": "ce6b0a51-fae7-4dee-bfcd-66f11cb364f8",
   "metadata": {},
   "outputs": [],
   "source": [
    "app_name = url.split(\"?\")[1].split(\"=\")[1]"
   ]
  },
  {
   "cell_type": "code",
   "execution_count": 7,
   "id": "6b163345-c535-4f83-8159-ba49c1a83f52",
   "metadata": {},
   "outputs": [
    {
     "data": {
      "text/plain": [
       "8353"
      ]
     },
     "execution_count": 7,
     "metadata": {},
     "output_type": "execute_result"
    }
   ],
   "source": [
    "import requests\n",
    "url = f\"https://d.apkpure.com/b/APK/{app_name}?version=latest\"\n",
    "apk = requests.get(url).content\n",
    "len(apk)"
   ]
  },
  {
   "cell_type": "code",
   "execution_count": 8,
   "id": "27b2c480-4b6a-4460-9a69-7176a09244c2",
   "metadata": {},
   "outputs": [
    {
     "data": {
      "text/plain": [
       "b'<!DOCTYPE html>\\n<html lang=\"en-US\">\\n<head>\\n    <title>Just a moment...</title>\\n    <meta http-equiv=\"Content-Type\" content=\"text/html; charset=UTF-8\" />\\n    <meta http-equiv=\"X-UA-Compatible\" content=\"IE=Edge\" />\\n    <meta name=\"robots\" content=\"noindex,nofollow\" />\\n    <meta name=\"viewport\" content=\"width=device-width,initial-scale=1\" />\\n    <link href=\"/cdn-cgi/styles/challenges.css\" rel=\"stylesheet\" />\\n    \\n\\n</head>\\n<body class=\"no-js\">\\n    <div class=\"main-wrapper\" role=\"main\">\\n    <div class=\"main-content\">\\n        <h1 class=\"zone-name-title h1\">\\n            <img class=\"heading-favicon\" src=\"/favicon.ico\"\\n                 onerror=\"this.onerror=null;this.parentNode.removeChild(this)\" />\\n            d.apkpure.com\\n        </h1>\\n        <h2 class=\"h2\" id=\"challenge-running\">\\n            Checking if the site connection is secure\\n        </h2>\\n        <noscript>\\n            <div id=\"challenge-error-title\">\\n                <div class=\"h2\">\\n                    <span class=\"icon-wrapper\">\\n                        <div class=\"heading-icon warning-icon\"></div>\\n                    </span>\\n                    <span id=\"challenge-error-text\">\\n                        Enable JavaScript and cookies to continue\\n                    </span>\\n                </div>\\n            </div>\\n        </noscript>\\n        <div id=\"trk_jschal_js\" style=\"display:none;background-image:url(\\'/cdn-cgi/images/trace/managed/nojs/transparent.gif?ray=74c5be1d692fe266\\')\"></div>\\n        <div id=\"challenge-body-text\" class=\"core-msg spacer\">\\n            d.apkpure.com needs to review the security of your connection before proceeding.\\n        </div>\\n        <form id=\"challenge-form\" action=\"/b/APK/com.harvest.android.gr?version=latest&amp;__cf_chl_f_tk=pODrmksS4ijIfZ3YEcXnRxsOOLyHBTIXY_FZqt0NmVk-1663458610-0-gaNycGzNBz0\" method=\"POST\" enctype=\"application/x-www-form-urlencoded\">\\n            <input type=\"hidden\" name=\"md\" value=\"yRS8OCrT6l.a0dPNxcTTG6X2hzyZOB2V_YTmzYB92jU-1663458610-0-AQNmKylUEpI2gcKhHqpqFIeWGJyyHpIjbQ8Wp5hSUSGF15WYaAcVLidCMe9fqvMFhuJpygGAPJFOc_lLuA7s72tyqOuIyOGbBSLl38cmYcWw4nUGH7KAGhtlEykIWR0s121kCXQi2VrFt952lQiHSgI8kbNK-R0pl7rCvBMB5Ari4Pr8IkoMLbt3IghNzwdBQsK3ozmRA0CoR4jsGFvC0P1n8WK-tXa_MWIx5FmNZVDpEiqLOra1yzbY_I3_rppOZxTehmuNgjwnWDxTs-ZtRO5YJEeQjeuv2EEtbXYF3rOkB1Z46-eCtsLzjFqCepkRkTf83mkKA5Ky2dga4CAq6LmhaOnDF4Y-bebEZgbMOLMD0L34nRwXHalwfOuUgE-S5ElScJ5YQsFq78FJGEd54wpic3UH7OU5gfsH3EprdasEhr6_rkuw8NW3bEvlYGWtze8IINgpFFmy_Tl2ebxMPSIVutK9qGJIf-zkQgycUDEny4pg4IXuZ8fZlPZsbswwAU8m1F9ce80cq0YaK_8sBtHwWQxPhy8u7Rx3s8bGnFLScwBbgRZubZLjYQAvn98_e3a-N4-6Y5_sH68hT_1aI4GgxaDGgremK4oJGZc4mAX_OrfsUNhsWehSA_eD6f8mWgpEUJA18itDX2EfLMbCi1rDnuy0eFHm0JBvgmiti20J98OHWoI4PJHTaB4GLOgV5eqrf5CHWIj_-ZzxoJqiLGzoLGK-VU1kMag2UauHihjr6qbuhQg5IH1yLHfThB-nJVaw3k14UL0PTvB7Pal7HrElcXCstwnLQ8dWNHXyyfz9lsRBVYzGckybBSIvYVCBaQ\" />\\n            <input type=\"hidden\" name=\"r\" value=\"ooX8Xiv3suHn2N2eynznpLc9uJQ4MwyjygXEB60Uddw-1663458610-0-AVP05Hl/SeTWQHEYITEFrjykunJbV6Y5FGHiJKyQ6tpdp02yMZBrZk36K/zqagapIWCpe1rdJ96WCrrrDCI7Ip5b0LTjwvHW1h1oclLjehBMKT9YY6Sghybo1VHU2c9rTwmS+6aiU8Ii4H4qLaEew5xA+S088z04O8SpUWSN6o1iTIb1WTfTDD1OLu7fuvR4MpqB3q5rjRaVcJn5B+OwYK01GaMuZlAPE7C3hFGx0+3CtrkQ3gfpRQH0Mg2VCUjE1SdxAPfTgSDUI4xfUvkQ/Yu7r4hpXzA3pwIxbaeYDEGPdaxK0XOC1WF5DrNaraXCMvGBThno6X5J/j/qzmTOdAznDVe1tNJnJrOkQU724vuz09CJzBIL9XUFsO1drd+2gcryfvJ+xBIOrNoxqsegEk6fgLhQz9n4BvyKok0UJ3WFJeD5SlrTf9QUX+3XYaQ35o0HuQEc8gcgOQnwDeQpN/j2z7BOQ7awdeFfw7EogqtfOjDRJhukEAWuA/1LuEgoa4c83nIJsCkOalsAH+ZTYWNLvKF2NrTZAsc7csNVtNVK4ucdoVYABcNWJnLDp6Y/GMhoitUQJwX4i/x6ZfMUBvSXyGUkkZORzJFJn1pIBYhbX+xLK0BrpfPuJLfElmpdfOZ1atiF01uKva3bU6W8vu/ffbhHK70P42cZbMehsQE5qibceQgfPRZcsCu92gcJ+J9/PgYzisiyhwycWZxTXPP7C/SjWnPV3dJdD/XmrDYK7WC9s+VDvYRybGLryEHwS3CnD6a2SKvUOMxda9Vs+YLioX9oOw6epom8YrHflUT1U0vgXZtxrnLpbuok1agV9piCAdfbSDysVDZ8YTuudgGSeHEi7UYACjMO/O7Blvrvm0EQOtVVHsxkJsabq4p88WzC+wQpt1PKkXjDxHCnBvjNN27ERTY+WlHjegtl9t+pYkxTsNNAwLCYazBRwJdN4RXdZX2KsNDBL9lCgm6Ru2AgkGvYPlvKCpBZvw+ipmoxDiP3k9tRL0IhwSVP/4vcdmQzi9V8VYaat0ifQYP/mljFd0owYkIL4bzFVclPm/nvW6+7wsSGJDvlK5CEF5RINEF14lK4tW6eiUor9QAzvbomxPuRwULVeW3hiVW2qfnIzSREj2Iyd17ATNWIBboXM+tWEiUCb4kOzjqo0yH0EaByfFWLx9CNYPZY4Yyirk9JeV4xP4FarEuwWmtnuLU6PYI8A9sw7yG6K3ussHYSUMH3MRD2ha8VoP5dvm3Sy7R7APY7DKJjz8evRXughiTHAMIJgEqVfqaiExE3kBJc1FTuXPsc6SEQbAATLpPjV+Dhgs96lYNXtNo9RT2XyG36TQdLtsqIBj6H2FSQd9QVKzy6fJGx3ewEphqSAoYl1ZhVJkyWf5bleKHa8a4aZQmxLSgUD4zxhUVyyZ6t9jf2+o4FuvDex+fD0xJfAOda/Zy3QlqufrEExvziI7BMF2nbS+MCBThgCBwpXd8psb+TOyg8o8J2dJrqV4glvtLOZmuyQH/4IXpJiRx+wyQQTfldLw0mvGbTqjE02i8ZgCJEkCbLFUJJYNPCYPUHFf3lK6Fpao/aQsSJzGlGZcmP/iIbwzugvoVb2QH05EkLaMgQieZQmyxOssC8XozmV76Gf2gxfIk+E+gsk03fUJ3iVb9QVZHyj6E/qYsi52oqdVd4U8hp/PB8Ti4KVp9oFkRkygdxW1EbRV9uw32XesjgE7XLeqaNDK8uEiRZZU4CyLriawwo8xcmWBTWMnSlUn/53MNJ+IiUDcnwoETiEuSBOlk58A==\"/>\\n        </form>\\n    </div>\\n</div>\\n<script>\\n    (function(){\\n        window._cf_chl_opt={\\n            cvId: \\'2\\',\\n            cType: \\'managed\\',\\n            cNounce: \\'68755\\',\\n            cRay: \\'74c5be1d692fe266\\',\\n            cHash: \\'06b9446193a85ba\\',\\n            cUPMDTk: \"\\\\/b\\\\/APK\\\\/com.harvest.android.gr?version=latest&__cf_chl_tk=pODrmksS4ijIfZ3YEcXnRxsOOLyHBTIXY_FZqt0NmVk-1663458610-0-gaNycGzNBz0\",\\n            cFPWv: \\'b\\',\\n            cTTimeMs: \\'1000\\',\\n            cTplV: 4,\\n            cTplB: \\'cf\\',\\n            cRq: {\\n                ru: \\'aHR0cHM6Ly9kLmFwa3B1cmUuY29tL2IvQVBLL2NvbS5oYXJ2ZXN0LmFuZHJvaWQuZ3I/dmVyc2lvbj1sYXRlc3Q=\\',\\n                ra: \\'cHl0aG9uLXJlcXVlc3RzLzIuMjguMQ==\\',\\n                rm: \\'R0VU\\',\\n                d: \\'nlQlhep+16+0oWwUyCLSfdRXiD0eAM1gXpHfAQ4ENNzflq5po5Sr5KbhP5oQHE1rYJ9+U1SWG4Hg2CMmwhnWsJA2NOqTTz3amZrmyxvv8Grvzv4PAJAv+pVxC4jeppBI7s9n8O9Eg9QeKdGjMsrlO4xJeDDNRLPvaYeSswSvv3CTNlzTs3yAFtGrGttCuCwDPMNM7voR8a6jYZZj+GDfgdm8trGid2AfkPeaMmv3ApalI0cnfe9VHiwb09rr/CyzRAXDOb5mq4ZmHReX5otTqqCgIZsg+1yqzTwbsDBjBqwburTuAF3MWw4I/0txOfNpT/pdfaeBt6hAP0AED6j9Evp4NXCMyR9jQ9lLGXc+ukc91zlyno7c16kTD2gum0W+vCO5k9z2jk4Xw/zT7hQF93XhBfG/P4siAxZHj15h9YI29K9Ic8r1zwsEeNXElF5M7gVdewNcMlhNnobGVEtdr4din59FDjSpug6OHjpvWVAGm/5tcq0vkT4q7MT+YIPnpuPdMkcsTJovPcr1aJgbkGQuMdv0zAbCkOKCPSD7p760YqTKegFVlEXTNwj/R4N/Lw4GgXmWXSHpWbG57DkOVatHYd5uB4XPuUYIi/FkrhD3DYL5pu2FD9rfRlEYiYRMAgGUxvBzhmEZY49afHuO9DAfTofFw8arVP+1lB7MxV7ETJyP/INUGrtFStWfABjK\\',\\n                t: \\'MTY2MzQ1ODYxMC43OTIwMDA=\\',\\n                m: \\'0EiHoLN+mkvvRhCwECZ8Y4L8zYwhv33O9IRbt6OxNzg=\\',\\n                i1: \\'9Mvg99xT1OSNCIGwyIQhSw==\\',\\n                i2: \\'nc/a50OjZlv3BeLR83l2nw==\\',\\n                zh: \\'XJMBUCk+22NHaK4v6ogWAO+oDKKDnVfu4gEc4ndzAL8=\\',\\n                uh: \\'SLdVolODg++SO356HusO5I/hbfOpiiOxQXj62i/MUkA=\\',\\n                hh: \\'A5t7XT/vl3xAmVaQJ0nX2IukwLMB5tVoeofzjaesikw=\\',\\n            }\\n        };\\n        var trkjs = document.createElement(\\'img\\');\\n        trkjs.setAttribute(\\'src\\', \\'/cdn-cgi/images/trace/managed/js/transparent.gif?ray=74c5be1d692fe266\\');\\n        trkjs.setAttribute(\\'style\\', \\'display: none\\');\\n        document.body.appendChild(trkjs);\\n        var cpo = document.createElement(\\'script\\');\\n        cpo.src = \\'/cdn-cgi/challenge-platform/h/b/orchestrate/managed/v1?ray=74c5be1d692fe266\\';\\n        window._cf_chl_opt.cOgUHash = location.hash === \\'\\' && location.href.indexOf(\\'#\\') !== -1 ? \\'#\\' : location.hash;\\n        window._cf_chl_opt.cOgUQuery = location.search === \\'\\' && location.href.slice(0, -window._cf_chl_opt.cOgUHash.length).indexOf(\\'?\\') !== -1 ? \\'?\\' : location.search;\\n        if (window.history && window.history.replaceState) {\\n            var ogU = location.pathname + window._cf_chl_opt.cOgUQuery + window._cf_chl_opt.cOgUHash;\\n            history.replaceState(null, null, \"\\\\/b\\\\/APK\\\\/com.harvest.android.gr?version=latest&__cf_chl_rt_tk=pODrmksS4ijIfZ3YEcXnRxsOOLyHBTIXY_FZqt0NmVk-1663458610-0-gaNycGzNBz0\" + window._cf_chl_opt.cOgUHash);\\n            cpo.onload = function() {\\n                history.replaceState(null, null, ogU);\\n            };\\n        }\\n        document.getElementsByTagName(\\'head\\')[0].appendChild(cpo);\\n    }());\\n</script>\\n\\n    <div class=\"footer\" role=\"contentinfo\">\\n        <div class=\"footer-inner\">\\n            <div class=\"clearfix diagnostic-wrapper\">\\n                <div class=\"ray-id\">Ray ID: <code>74c5be1d692fe266</code></div>\\n            </div>\\n            <div class=\"text-center\">Performance &amp; security by <a rel=\"noopener noreferrer\" href=\"https://www.cloudflare.com?utm_source=challenge&utm_campaign=m\" target=\"_blank\">Cloudflare</a></div>\\n        </div>\\n    </div>\\n</body>\\n</html>\\n'"
      ]
     },
     "execution_count": 8,
     "metadata": {},
     "output_type": "execute_result"
    }
   ],
   "source": [
    "apk"
   ]
  },
  {
   "cell_type": "code",
   "execution_count": null,
   "id": "e442ac7a-be7b-4d78-af2a-37c7280d51bd",
   "metadata": {},
   "outputs": [],
   "source": []
  }
 ],
 "metadata": {
  "kernelspec": {
   "display_name": "Python 3 (ipykernel)",
   "language": "python",
   "name": "python3"
  },
  "language_info": {
   "codemirror_mode": {
    "name": "ipython",
    "version": 3
   },
   "file_extension": ".py",
   "mimetype": "text/x-python",
   "name": "python",
   "nbconvert_exporter": "python",
   "pygments_lexer": "ipython3",
   "version": "3.10.4"
  },
  "widgets": {
   "application/vnd.jupyter.widget-state+json": {
    "state": {},
    "version_major": 2,
    "version_minor": 0
   }
  }
 },
 "nbformat": 4,
 "nbformat_minor": 5
}
