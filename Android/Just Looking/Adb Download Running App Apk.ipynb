{
 "cells": [
  {
   "cell_type": "code",
   "execution_count": null,
   "id": "897519ef-64a3-489b-9acb-324b24832e99",
   "metadata": {},
   "outputs": [],
   "source": [
    "import subprocess\n",
    "\n",
    "\n",
    "def shell(cmd, debug=False, returns_POpen=False, close_fds=False):\n",
    "    if debug:\n",
    "        print(cmd)\n",
    "\n",
    "    if returns_POpen:\n",
    "        process = subprocess.Popen(cmd, close_fds=close_fds)\n",
    "        return process\n",
    "\n",
    "    process = subprocess.run(cmd, stdout=subprocess.PIPE)\n",
    "    return process.stdout.decode(\"utf-8\").strip().splitlines()\n",
    "\n",
    "\n",
    "def adb(cmd, debug=False, returns_POpen=False, close_fds=False):\n",
    "    # This function runs adb commands on your connected device or emulator.\n",
    "    if type(cmd) == str:\n",
    "        cmd = cmd.split(\" \")\n",
    "    cmd = [\"adb\"] + cmd\n",
    "    return shell(cmd, debug=debug, returns_POpen=returns_POpen, close_fds=close_fds)"
   ]
  },
  {
   "cell_type": "code",
   "execution_count": null,
   "id": "25fcbf9a-46f1-454b-b52b-b6f3dedf8477",
   "metadata": {},
   "outputs": [],
   "source": [
    "app_name, current_activity = (\n",
    "    adb('''shell dumpsys activity | grep \"mCurrentFocus\"''')[0].split()[-1].split(\"/\")\n",
    ")"
   ]
  },
  {
   "cell_type": "code",
   "execution_count": null,
   "id": "ecd51854-5ef0-4a83-815e-c4c44e40b885",
   "metadata": {},
   "outputs": [],
   "source": [
    "apk = (\n",
    "    adb(f\"shell pm list packages -f {app_name}\")[0]\n",
    "    .split(\":\")[1]\n",
    "    .replace(f\"={app_name}\", \"\")\n",
    ")"
   ]
  },
  {
   "cell_type": "code",
   "execution_count": null,
   "id": "42014ceb-7253-449d-bb8b-b4126adfad29",
   "metadata": {},
   "outputs": [],
   "source": [
    "from pathlib import Path"
   ]
  },
  {
   "cell_type": "code",
   "execution_count": null,
   "id": "a318a2cd-2358-4a49-b0a3-d1adef02726e",
   "metadata": {},
   "outputs": [],
   "source": [
    "adb(f\"pull {apk}\")[0].split(\":\")[1]"
   ]
  },
  {
   "cell_type": "code",
   "execution_count": null,
   "id": "c8533845-a169-4bad-bce7-36d361297b01",
   "metadata": {},
   "outputs": [],
   "source": [
    "_=shell(f\"apktool d {Path(apk).name}\".split())"
   ]
  },
  {
   "cell_type": "code",
   "execution_count": null,
   "id": "2803f623-5158-432b-8d60-ed216658a569",
   "metadata": {},
   "outputs": [],
   "source": []
  }
 ],
 "metadata": {
  "kernelspec": {
   "display_name": "Python 3 (ipykernel)",
   "language": "python",
   "name": "python3"
  },
  "language_info": {
   "codemirror_mode": {
    "name": "ipython",
    "version": 3
   },
   "file_extension": ".py",
   "mimetype": "text/x-python",
   "name": "python",
   "nbconvert_exporter": "python",
   "pygments_lexer": "ipython3",
   "version": "3.10.4"
  },
  "widgets": {
   "application/vnd.jupyter.widget-state+json": {
    "state": {},
    "version_major": 2,
    "version_minor": 0
   }
  }
 },
 "nbformat": 4,
 "nbformat_minor": 5
}
