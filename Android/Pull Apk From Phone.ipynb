{
 "cells": [
  {
   "cell_type": "code",
   "execution_count": 8,
   "id": "df5f8a90-80fe-49de-b0b7-0789e581b7ec",
   "metadata": {},
   "outputs": [],
   "source": [
    "import subprocess, os\n",
    "from functools import lru_cache\n",
    "import requests\n",
    "from bs4 import BeautifulSoup\n",
    "\n",
    "@lru_cache\n",
    "def getPackages():\n",
    "    cmd = ['adb', 'shell', 'pm', 'list', 'packages']\n",
    "    p = subprocess.Popen(\n",
    "        cmd, stdout=subprocess.PIPE, stderr=subprocess.PIPE, stdin=subprocess.PIPE\n",
    "    )\n",
    "    out, err = p.communicate()\n",
    "    return out.decode('utf-8').splitlines()\n",
    "\n",
    "\n",
    "def getFullApkPath(packageName):\n",
    "    cmd = ['adb', 'shell', 'pm', 'path', packageName]\n",
    "    p = subprocess.Popen(\n",
    "        cmd, stdout=subprocess.PIPE, stderr=subprocess.PIPE, stdin=subprocess.PIPE\n",
    "    )\n",
    "    out, err = p.communicate()\n",
    "    return out.decode('utf-8').splitlines()\n",
    "\n",
    "\n",
    "def pullApk(remote,dest):\n",
    "    if remote.startswith(\"package:\"):\n",
    "        remote = remote[8:]\n",
    "    cmd = ['adb', 'pull', remote, dest]\n",
    "    p = subprocess.Popen(\n",
    "        cmd, stdout=subprocess.PIPE, stderr=subprocess.PIPE, stdin=subprocess.PIPE\n",
    "    )\n",
    "    out, err = p.communicate()\n",
    "    return out.decode('utf-8').splitlines()\n",
    "\n",
    "\n",
    "@lru_cache\n",
    "def getPackageNameFromGoogle(ident):\n",
    "    if ident.startswith(\"package:\"):\n",
    "        ident = ident[8:]\n",
    "    res = requests.get(f\"https://play.google.com/store/apps/details?id={ident}\")\n",
    "    soup = BeautifulSoup(res.text)\n",
    "    try:\n",
    "        return soup.find('h1').text\n",
    "    except Exception as e:\n",
    "        pass\n",
    "    return None\n",
    "\n",
    "\n",
    "def launchClassyShark(apk):\n",
    "    cmd = [\"java.exe\", \"-jar\", \"ClassyShark.jar\",  \"-open\", apk]\n",
    "    p = subprocess.Popen(\n",
    "        cmd, stdout=subprocess.PIPE, stderr=subprocess.PIPE, stdin=subprocess.PIPE\n",
    "    )\n",
    "    out, err = p.communicate()\n",
    "    return out.decode('utf-8').splitlines()"
   ]
  },
  {
   "cell_type": "code",
   "execution_count": 2,
   "id": "dff4ed67-a436-454a-b55c-1ccdc182a397",
   "metadata": {},
   "outputs": [
    {
     "name": "stdout",
     "output_type": "stream",
     "text": [
      "package:com.chucklefish.stardewvalley\n",
      "Stardew Valley\n",
      "\n",
      "package:com.google.SSRestartDetector\n",
      "None\n",
      "\n",
      "package:com.pickledgames.stardewvalleyguide\n",
      "None\n",
      "\n"
     ]
    }
   ],
   "source": [
    "for package in getPackages():\n",
    "    if 'star' not in line:\n",
    "        continue\n",
    "    print(package)\n",
    "    print(getPackageNameFromGoogle(package))\n",
    "    print()"
   ]
  },
  {
   "cell_type": "code",
   "execution_count": 10,
   "id": "0465b5ce-7883-4611-a484-94009e015d0e",
   "metadata": {},
   "outputs": [
    {
     "data": {
      "text/plain": [
       "['/data/app/~~qE91qVKdnbT4qIdHdzOeHg==/com.chucklefish.stardewvalley-iO00KpYQfdCweqfyloevKg==/base.apk: 1 file pulled, 0 skipped. 23.3 MB/s (83368843 bytes in 3.407s)']"
      ]
     },
     "execution_count": 10,
     "metadata": {},
     "output_type": "execute_result"
    }
   ],
   "source": [
    "localFile = 'stardew.apk'\n",
    "remote_path = getFullApkPath('com.chucklefish.stardewvalley')[0]\n",
    "pullApk(remote_path,localFile)"
   ]
  },
  {
   "cell_type": "code",
   "execution_count": 9,
   "id": "671dc7eb-d490-4833-9249-784fc682093e",
   "metadata": {},
   "outputs": [
    {
     "data": {
      "text/plain": [
       "['Parsing classes.dex', 'Archive Reading 3541 ms ']"
      ]
     },
     "execution_count": 9,
     "metadata": {},
     "output_type": "execute_result"
    }
   ],
   "source": [
    "launchClassyShark(localFile)"
   ]
  }
 ],
 "metadata": {
  "kernelspec": {
   "display_name": "Python 3",
   "language": "python",
   "name": "python3"
  },
  "language_info": {
   "codemirror_mode": {
    "name": "ipython",
    "version": 3
   },
   "file_extension": ".py",
   "mimetype": "text/x-python",
   "name": "python",
   "nbconvert_exporter": "python",
   "pygments_lexer": "ipython3",
   "version": "3.9.5"
  }
 },
 "nbformat": 4,
 "nbformat_minor": 5
}
