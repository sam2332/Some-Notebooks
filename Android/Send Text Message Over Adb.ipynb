{
 "cells": [
  {
   "cell_type": "code",
   "execution_count": null,
   "metadata": {},
   "outputs": [],
   "source": [
    "%%cmd\n",
    "c:\\\\adb\\\\adb.exe shell service check isms"
   ]
  },
  {
   "cell_type": "code",
   "execution_count": null,
   "metadata": {},
   "outputs": [],
   "source": [
    "%%cmd\n",
    "c:\\\\adb\\\\adb.exe shell service call isms option args"
   ]
  },
  {
   "cell_type": "code",
   "execution_count": null,
   "metadata": {},
   "outputs": [],
   "source": [
    "%%cmd \n",
    " shell service call isms 7 i32 0 s16 \"com.android.mms.service\" s16 \"+12397705265\" s16 \"null\" s16 \"'THIS IS A TEST'\" s16 \"null\" s16 \"null\"\n"
   ]
  },
  {
   "cell_type": "code",
   "execution_count": null,
   "metadata": {},
   "outputs": [],
   "source": [
    "def getSummary(json):\n",
    "    out = {}\n",
    "    for area in json:\n",
    "        if 'Cases Reported' in area:\n",
    "            out[area['Jurisdiction']] = area['Cases Reported'] if area['Cases Reported'] != 'None' else 0\n",
    "    return out"
   ]
  },
  {
   "cell_type": "code",
   "execution_count": null,
   "metadata": {},
   "outputs": [],
   "source": [
    "def getTop(json,c=3):\n",
    "    sorted_d = sorted(json.items(), key=operator.itemgetter(1),reverse=True)\n",
    "    return dict(sorted_d[:c])"
   ]
  },
  {
   "cell_type": "code",
   "execution_count": null,
   "metadata": {},
   "outputs": [],
   "source": [
    "def getMessage(json, old):\n",
    "    data = getChanges(json,old)\n",
    "    out = []\n",
    "    for m in data:\n",
    "\n",
    "        out.append('{}: new:{} | old:{}'.format(m,data[m],old[m] if m in old else 'None'))\n",
    "    return '\\n'.join(out)"
   ]
  },
  {
   "cell_type": "code",
   "execution_count": null,
   "metadata": {},
   "outputs": [],
   "source": [
    "\n",
    "def splitText(text_message):\n",
    "    for start in range(0,len(text_message),100):\n",
    "        end = start+100\n",
    "        print(start,end)\n",
    "        if end > len(text_message):\n",
    "            end = len(text_message)\n",
    "        yield(text_message[start:end])"
   ]
  },
  {
   "cell_type": "code",
   "execution_count": null,
   "metadata": {},
   "outputs": [],
   "source": [
    "def getChanges(json, old):\n",
    "    changes = {}\n",
    "    print(json)\n",
    "    print(old)\n",
    "    for item in json:\n",
    "        print(item)\n",
    "        if item not in old or json[item] != old[item]:\n",
    "            changes[item]=json[item]\n",
    "    return changes"
   ]
  },
  {
   "cell_type": "code",
   "execution_count": null,
   "metadata": {},
   "outputs": [],
   "source": [
    "import subprocess, os\n",
    "def adbCommand(command):\n",
    "    cmd = [\"c:\\\\adb\\\\adb.exe\"] + command\n",
    "    print(cmd)\n",
    "    p = subprocess.Popen(\n",
    "        cmd, stdout=subprocess.PIPE, stderr=subprocess.PIPE, stdin=subprocess.PIPE\n",
    "    )\n",
    "    out, err = p.communicate()\n",
    "    return out,err\n",
    "\n",
    "\n",
    "def sendText(phone_number, text_message):\n",
    "    out,err =  adbCommand([\"shell\",\"service\",\"call\",\"isms\",\"7\", \"i32\", \"0\", \"s16\", '\"com.android.mms.service\"', 's16', \"+{}\".format(phone_number), 's16', '\"null\"', 's16', \"'{}'\".format(text_message), 's16', \"null\", 's16', \"null\"])\n",
    "    print('err', err)\n",
    "    print('out', out)"
   ]
  },
  {
   "cell_type": "code",
   "execution_count": null,
   "metadata": {},
   "outputs": [],
   "source": [
    "\n",
    "import time\n",
    "from datetime import datetime\n",
    "import requests\n",
    "import operator"
   ]
  },
  {
   "cell_type": "code",
   "execution_count": null,
   "metadata": {},
   "outputs": [],
   "source": [
    "old = {}"
   ]
  },
  {
   "cell_type": "code",
   "execution_count": null,
   "metadata": {},
   "outputs": [],
   "source": [
    "url = \"https://www.cdc.gov/coronavirus/2019-ncov/map-cases-us.json\"\n",
    "while True:\n",
    "    now = datetime.now().strftime('%m_%d_%Y-%H_%M_%S')\n",
    "    print(now,end='')\n",
    "    res = requests.get(url)\n",
    "    json = res.json()['data']\n",
    "    json = getSummary(json)\n",
    "    if json != old:\n",
    "        for msg in splitText(\"DATA CHANGED:\"+getMessage(json,old)):\n",
    "            print('sending:',msg)\n",
    "            sendText('12397705265',msg)\n",
    "        with open('./data/{}.json'.format(now),'wb') as f:\n",
    "            f.write(res.content)\n",
    "        old = json\n",
    "        print('found changes')\n",
    "        print(json)\n",
    "        print()\n",
    "    else:\n",
    "        print('no changes')\n",
    "    \n",
    "    time.sleep(60)"
   ]
  },
  {
   "cell_type": "code",
   "execution_count": null,
   "metadata": {},
   "outputs": [],
   "source": [
    "sendText('12397705265',\"data changed\\n{}\".format(getMessage(json,old)))"
   ]
  },
  {
   "cell_type": "code",
   "execution_count": null,
   "metadata": {},
   "outputs": [],
   "source": [
    "json"
   ]
  },
  {
   "cell_type": "code",
   "execution_count": null,
   "metadata": {},
   "outputs": [],
   "source": [
    "old['New York'] = 9"
   ]
  },
  {
   "cell_type": "code",
   "execution_count": null,
   "metadata": {},
   "outputs": [],
   "source": [
    "testText('sasdf','test'*160)"
   ]
  },
  {
   "cell_type": "code",
   "execution_count": null,
   "metadata": {},
   "outputs": [],
   "source": []
  }
 ],
 "metadata": {
  "kernelspec": {
   "display_name": "Python 3",
   "language": "python",
   "name": "python3"
  },
  "language_info": {
   "codemirror_mode": {
    "name": "ipython",
    "version": 3
   },
   "file_extension": ".py",
   "mimetype": "text/x-python",
   "name": "python",
   "nbconvert_exporter": "python",
   "pygments_lexer": "ipython3",
   "version": "3.9.5"
  }
 },
 "nbformat": 4,
 "nbformat_minor": 4
}
