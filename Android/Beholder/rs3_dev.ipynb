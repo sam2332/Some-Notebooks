{
    "cells": [
        {
            "cell_type": "code",
            "execution_count": 4,
            "id": "933e9072-a2d2-4137-a77c-e579c654a9de",
            "metadata": {},
            "outputs": [],
            "source": [
                "from Libs.Beholder import *\n",
                "\n",
                "a = Beholder(videoFrameGenerator=pullPhoneScreen)\n",
                "a.addLayerModifer(\n",
                "    Beholder_Layer_Chopper_Grayscale(from_layer=\"image\", enabled=True)\n",
                ")\n",
                "a.addLayerModifer(Beholder_Layer_Chopper_ColorSplit(from_layer=\"image\", enabled=True))"
            ]
        },
        {
            "cell_type": "code",
            "execution_count": 2,
            "id": "237665cd-f607-4856-b30e-cdf32011797b",
            "metadata": {},
            "outputs": [],
            "source": [
                "matches = a.findMatches()"
            ]
        },
        {
            "cell_type": "code",
            "execution_count": 3,
            "id": "af3278bb-6a98-4465-8c95-50cecf603019",
            "metadata": {},
            "outputs": [],
            "source": [
                "a.layers[\"image_R\"].show()"
            ]
        },
        {
            "cell_type": "code",
            "execution_count": null,
            "id": "5477bac7-88da-4180-b6d8-e9dec178d745",
            "metadata": {},
            "outputs": [],
            "source": []
        }
    ],
    "metadata": {
        "kernelspec": {
            "display_name": "Python 3 (ipykernel)",
            "language": "python",
            "name": "python3"
        },
        "language_info": {
            "codemirror_mode": {
                "name": "ipython",
                "version": 3
            },
            "file_extension": ".py",
            "mimetype": "text/x-python",
            "name": "python",
            "nbconvert_exporter": "python",
            "pygments_lexer": "ipython3",
            "version": "3.10.4"
        },
        "widgets": {
            "application/vnd.jupyter.widget-state+json": {
                "state": {},
                "version_major": 2,
                "version_minor": 0
            }
        }
    },
    "nbformat": 4,
    "nbformat_minor": 5
}