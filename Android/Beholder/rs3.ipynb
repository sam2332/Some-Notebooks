{
 "cells": [
  {
   "cell_type": "code",
   "execution_count": 1,
   "id": "6a826d56-f116-4525-a1e7-2ac0073a57cf",
   "metadata": {},
   "outputs": [],
   "source": [
    "import time\n",
    "\n",
    "import Libs.Adb as adb\n",
    "from Libs.Beholder import *\n",
    "from Libs.StateMachine import StateMachine"
   ]
  },
  {
   "cell_type": "code",
   "execution_count": 2,
   "id": "26e9ce50-592b-48a0-8140-d04ed6eec647",
   "metadata": {},
   "outputs": [],
   "source": [
    "import math"
   ]
  },
  {
   "cell_type": "code",
   "execution_count": 3,
   "id": "3a6a31b9-a0ef-4824-9b82-7ae38e88a644",
   "metadata": {},
   "outputs": [
    {
     "name": "stderr",
     "output_type": "stream",
     "text": [
      "Warning: Activity not started, intent has been delivered to currently running top-most instance.\n"
     ]
    },
    {
     "data": {
      "text/plain": [
       "['Starting: Intent { act=android.intent.action.MAIN cat=[android.intent.category.LAUNCHER] cmp=com.jagex.runescape.android/com.jagex.android.MainActivity }']"
      ]
     },
     "execution_count": 3,
     "metadata": {},
     "output_type": "execute_result"
    }
   ],
   "source": [
    "adb.run_command(\n",
    "    \"shell am start com.jagex.runescape.android/com.jagex.android.MainActivity\"\n",
    ")"
   ]
  },
  {
   "cell_type": "code",
   "execution_count": 4,
   "id": "c550b880-368f-40bd-9715-f185d47a2b20",
   "metadata": {},
   "outputs": [
    {
     "data": {
      "text/plain": [
       "[]"
      ]
     },
     "execution_count": 4,
     "metadata": {},
     "output_type": "execute_result"
    }
   ],
   "source": [
    "gen = adb.ImageSource()\n",
    "touch = adb.Toucher(gen)\n",
    "a = Beholder(ImageSource=gen, toucher=touch)\n",
    "\n",
    "a.addLayerModifer(Beholder_Layer_Chopper_Grayscale(from_layer=\"image\", enabled=True))\n",
    "a.addLayerModifer(\n",
    "    Beholder_Layer_Chopper_AtCord(\n",
    "        name=\"inventory_color\",\n",
    "        from_layer=\"image\",\n",
    "        x=1903,\n",
    "        y=355,\n",
    "        w=2222 - 1903,\n",
    "        h=905 - 355,\n",
    "        enabled=True,\n",
    "    )\n",
    ")\n",
    "a.addLayerModifer(\n",
    "    Beholder_Layer_Chopper_AtCord(\n",
    "        name=\"inventory\",\n",
    "        from_layer=\"image_gray\",\n",
    "        x=1903,\n",
    "        y=355,\n",
    "        w=2222 - 1903,\n",
    "        h=905 - 355,\n",
    "        enabled=True,\n",
    "    )\n",
    ")\n",
    "a.addLayerModifer(\n",
    "    Beholder_Layer_Chopper_AtCord(\n",
    "        name=\"Horizon\",\n",
    "        from_layer=\"image\",\n",
    "        x=690,\n",
    "        y=320,\n",
    "        w=1870 - 690,\n",
    "        h=1,\n",
    "        enabled=False,\n",
    "    )\n",
    ")\n",
    "\n",
    "a.addLayerModifer(\n",
    "    Beholder_Layer_Chopper_InRange(\n",
    "        name=\"Horizon Enemy Finder\",\n",
    "        from_layer=\"Horizon\",\n",
    "        lbounds=[3, 0, 0],\n",
    "        ubounds=[13, 248, 255],\n",
    "        enabled=False,\n",
    "    )\n",
    ")\n",
    "\n",
    "a.addLayerModifer(\n",
    "    Beholder_Layer_Chopper_PeakExtractor(\n",
    "        name=\"Horizon Enemy Finder Peaks\",\n",
    "        from_layer=\"Horizon Enemy Finder\",\n",
    "        threshhold=5,\n",
    "        avg_fwd=5,\n",
    "        enabled=False,\n",
    "    )\n",
    ")\n",
    "adb.run_command(\"wait-for-device\")"
   ]
  },
  {
   "cell_type": "code",
   "execution_count": 5,
   "id": "cc33d180-4bec-4d1a-bec8-76f77519e917",
   "metadata": {},
   "outputs": [],
   "source": [
    "def withdrawlBankItem(text, count=10):\n",
    "    a.tap(2010, 130)\n",
    "    time.sleep(0.3)\n",
    "    a.tap(2140, 240)\n",
    "    time.sleep(1)\n",
    "    a.type(count)\n",
    "    time.sleep(0.2)\n",
    "    a.tap(1272, 130)\n",
    "    time.sleep(0.2)\n",
    "    a.tap(190, 200)\n",
    "    time.sleep(0.2)\n",
    "    a.tap(737, 130)\n",
    "    time.sleep(1)\n",
    "    a.type(text)\n",
    "    time.sleep(0.5)\n",
    "    a.tap(188, 288)\n",
    "    time.sleep(0.5)\n",
    "    a.tap(188, 288)\n",
    "    time.sleep(0.5)"
   ]
  },
  {
   "cell_type": "code",
   "execution_count": 6,
   "id": "f6c7f7a6-13cb-4abd-8a87-9e6de6dbcdb2",
   "metadata": {},
   "outputs": [],
   "source": [
    "home_button = (189, 89)\n",
    "three_dots = (180, 80)\n",
    "lobby = (320, 890)\n",
    "favorite = []\n",
    "favorite.append((1784, 1050))\n",
    "favorite.append((1890, 1050))\n",
    "favorite.append((1996, 1050))\n",
    "world_index = 0\n",
    "\n",
    "\n",
    "def switchWorlds(world_index):\n",
    "    wait_time = 2\n",
    "    long_wait = 7\n",
    "    extra_long_wait = 14\n",
    "\n",
    "    a.tap(*home_button)\n",
    "    time.sleep(wait_time)\n",
    "\n",
    "    a.tap(*three_dots)\n",
    "    time.sleep(wait_time)\n",
    "\n",
    "    a.tap(*lobby)\n",
    "    time.sleep(long_wait)\n",
    "\n",
    "    a.tap(*favorite[world_index])\n",
    "    time.sleep(extra_long_wait)"
   ]
  },
  {
   "cell_type": "raw",
   "id": "4321c9ff-3bf8-4590-84d5-f0f393450140",
   "metadata": {},
   "source": []
  },
  {
   "cell_type": "code",
   "execution_count": 7,
   "id": "173371a1-3643-42d1-9b33-167fb418732c",
   "metadata": {},
   "outputs": [],
   "source": [
    "lodestone_matcher = Beholder_Image_Matcher(\n",
    "    name=\"lodestone\",\n",
    "    layer=\"image_gray\",\n",
    "    filename=\"./rs3_templates/map/lodestone.png\",\n",
    "    convertToGray=True,\n",
    ")\n",
    "ui_yes_matcher = Beholder_Image_Matcher(\n",
    "    name=\"ui_yes\",\n",
    "    layer=\"image_gray\",\n",
    "    filename=\"./rs3_templates/ui/Yes.png\",\n",
    "    convertToGray=True,\n",
    ")\n",
    "\n",
    "\n",
    "def teleportToNamedLocation(name):\n",
    "    a.tap(2322, 157)\n",
    "    time.sleep(1)\n",
    "    a.tap(330, 85)\n",
    "    a.type(name)\n",
    "    time.sleep(1)\n",
    "    matches = a.findMatches({\"lodestone\": lodestone_matcher})\n",
    "    if \"lodestones\" in matches:\n",
    "        lodestones = matches[\"lodestone\"]\n",
    "\n",
    "        center_x, center_y = [int(ele / 2) for ele in a.layers[\"image_gray\"].data.shape]\n",
    "\n",
    "        dist_eles = {}\n",
    "        for stone in lodestones:\n",
    "            stone_x, stone_y = stone.center\n",
    "            dist = math.sqrt(\n",
    "                math.pow(center_x - stone_x, 2) + math.pow(center_y - stone_y, 2)\n",
    "            )\n",
    "            dist_eles[stone] = dist\n",
    "        print(dist_eles)\n",
    "        s = sorted(dist_eles, key=lambda a: dist_eles[a])\n",
    "        a.tap(*s[0].center)\n",
    "        time.sleep(1)\n",
    "        matches = a.findMatches({\"ui_yes\": ui_yes_matcher})\n",
    "        if \"ui_yes\" in matches:\n",
    "            ui_yes = matches[\"ui_yes\"]\n",
    "            a.tap(*ui_yes[0].center)\n",
    "    time.sleep(1)"
   ]
  },
  {
   "cell_type": "code",
   "execution_count": 8,
   "id": "3826fb99-3d7b-40dd-947c-a1c0d2b5c0c9",
   "metadata": {},
   "outputs": [
    {
     "data": {
      "text/plain": [
       "{}"
      ]
     },
     "execution_count": 8,
     "metadata": {},
     "output_type": "execute_result"
    }
   ],
   "source": [
    "a.findMatches({})"
   ]
  },
  {
   "cell_type": "code",
   "execution_count": 9,
   "id": "85f534a6-5cb5-4635-a00d-5ef28a6122c2",
   "metadata": {},
   "outputs": [
    {
     "ename": "Exception",
     "evalue": "",
     "output_type": "error",
     "traceback": [
      "\u001b[0;31m---------------------------------------------------------------------------\u001b[0m",
      "\u001b[0;31mException\u001b[0m                                 Traceback (most recent call last)",
      "Input \u001b[0;32mIn [9]\u001b[0m, in \u001b[0;36m<cell line: 1>\u001b[0;34m()\u001b[0m\n\u001b[0;32m----> 1\u001b[0m \u001b[38;5;28;01mraise\u001b[39;00m \u001b[38;5;167;01mException\u001b[39;00m()\n",
      "\u001b[0;31mException\u001b[0m: "
     ]
    }
   ],
   "source": [
    "raise Exception()"
   ]
  },
  {
   "cell_type": "markdown",
   "id": "d5ddee04-cf82-4974-981f-9bb770f3080a",
   "metadata": {
    "tags": []
   },
   "source": [
    "# Auto-Repeat smithing -stable\n"
   ]
  },
  {
   "cell_type": "code",
   "execution_count": null,
   "id": "592a92c0-29d7-423b-a735-533df83cd636",
   "metadata": {},
   "outputs": [],
   "source": [
    "a.matchers = {}\n",
    "a.addMatcher(\n",
    "    Beholder_Image_Matcher(\n",
    "        name=\"Button\",\n",
    "        layer=\"image_gray\",\n",
    "        filename=\"./rs3_templates/ui/Begin_project.png\",\n",
    "        convertToGray=True,\n",
    "    )\n",
    ")\n",
    "a.addMatcher(\n",
    "    Beholder_Image_Matcher(\n",
    "        name=\"UnfinishedSmithing\",\n",
    "        layer=\"inventory\",\n",
    "        filename=\"./rs3_templates/inventory/forge_item.png\",\n",
    "    )\n",
    ")\n",
    "a.addMatcher(\n",
    "    Beholder_Image_Matcher(\n",
    "        name=\"FinishedArrow\",\n",
    "        layer=\"image_gray\",\n",
    "        filename=\"./rs3_templates/ui/FinishedArrow.png\",\n",
    "        convertToGray=True,\n",
    "    )\n",
    ")\n",
    "\n",
    "upgrade_level_pos = [\n",
    "    (1532, 223),\n",
    "    (1623, 223),\n",
    "    (1700, 223),\n",
    "    (1770, 223),\n",
    "    (1840, 223),\n",
    "    (1623, 223),\n",
    "    (1920, 223),\n",
    "]\n",
    "\n",
    "\n",
    "def ChangeUpgradeLevel(level):\n",
    "    center = upgrade_level_pos[level]\n",
    "    adb.run_command(f\"shell input tap {center[0]} {center[1]}\")"
   ]
  },
  {
   "cell_type": "code",
   "execution_count": null,
   "id": "57bb8ada-3911-4d21-950a-5cec015b73d8",
   "metadata": {},
   "outputs": [],
   "source": [
    "upgrade_selected_item = True\n",
    "upgrade_start_level = 0\n",
    "upgrade_max_level = 4\n",
    "say_heat = False\n",
    "upgrade_current_level = upgrade_start_level\n",
    "time_since_heat = time.time()\n",
    "time_smithing = time.time()"
   ]
  },
  {
   "cell_type": "code",
   "execution_count": null,
   "id": "58fffac4-48a1-41fb-91cd-fe6edfd8a02e",
   "metadata": {},
   "outputs": [],
   "source": [
    "Button_count = 0\n",
    "Anvil_count = 0\n",
    "tts(\"starting autosmith\")\n",
    "while True:\n",
    "    matches = a.findMatches()\n",
    "    if len(matches) > 0:\n",
    "        if \"UnfinishedSmithing\" in matches:\n",
    "            Button_count = 0\n",
    "            Anvil_count = 0\n",
    "            if time.time() - time_since_heat > 30:\n",
    "                a.tap(1192, 150)\n",
    "                if say_heat:\n",
    "                    tts(\"heat\", volume=0.1)\n",
    "                sleep(5)\n",
    "                adb.run_command(f\"shell input tap 1550 525\")\n",
    "                time_since_heat = time.time()\n",
    "            sleep(7)\n",
    "            continue\n",
    "        if \"FinishedArrow\" in matches:\n",
    "            center = matches[\"FinishedArrow\"][0].center\n",
    "            a.tap(center[0], center[1])\n",
    "            tts(\n",
    "                f\"Completed in {secondsToTextDescription(int(time.time()-time_smithing))} \"\n",
    "            )\n",
    "            time_smithing = time.time()\n",
    "            sleep(1)\n",
    "            continue\n",
    "        if \"Button\" in matches:\n",
    "            if Button_count == 0:\n",
    "\n",
    "                ChangeUpgradeLevel(upgrade_current_level)\n",
    "                center = matches[\"Button\"][0].center\n",
    "                a.tap(center[0], center[1])\n",
    "                # tts(\"starting item\")\n",
    "                Button_count += 1\n",
    "            elif Button_count > 5:\n",
    "                tts(\"Cannot continue smithing. Possible Out of ores\")\n",
    "                a.layers[\"image\"].show()\n",
    "                break\n",
    "            else:\n",
    "                if not upgrade_selected_item:\n",
    "                    tts(\"Finished, Please select new item you have 20 seconds\")\n",
    "                    time.sleep(20)\n",
    "                else:\n",
    "                    if (upgrade_current_level + 1) <= upgrade_max_level:\n",
    "                        upgrade_current_level += 1\n",
    "                        tts(\n",
    "                            f\"Next Upgrade Level {upgrade_current_level} out of {upgrade_max_level}\"\n",
    "                        )\n",
    "                        ChangeUpgradeLevel(upgrade_current_level)\n",
    "                        sleep(5)\n",
    "                        Button_count = 0\n",
    "                    else:\n",
    "                        tts(\"Final Level Completed\")\n",
    "                        break\n",
    "\n",
    "                center = matches[\"Button\"][0].center\n",
    "                a.tap(center[0], center[1])\n",
    "                Button_count += 1\n",
    "\n",
    "    else:\n",
    "        if Anvil_count == 0:\n",
    "            a.tap(1550, 525)\n",
    "            time_since_heat = 0\n",
    "            Anvil_count += 1\n",
    "        else:\n",
    "            tts(\"Cannot continue smithing. Possible Inventory Scanning Issue\")\n",
    "            a.layers[\"image\"].show()\n",
    "            break\n",
    "    sleep(3.75)\n",
    "tts(\"Cannot Continue\")"
   ]
  },
  {
   "cell_type": "code",
   "execution_count": null,
   "id": "50abb535-561d-4891-9674-b4a85408faa3",
   "metadata": {},
   "outputs": [],
   "source": [
    "tts(\"finishing current smith\")\n",
    "while True:\n",
    "    matches = a.findMatches()\n",
    "    if len(matches) > 0:\n",
    "        if \"UnfinishedSmithing\" not in matches:\n",
    "            tts(\n",
    "                f\"Completed in {secondsToTextDescription(int(time.time()-time_smithing))} \"\n",
    "            )\n",
    "            break\n",
    "        else:\n",
    "            if time.time() - time_since_heat > 30:\n",
    "                a.tap(1192, 150)\n",
    "                if say_heat:\n",
    "                    tts(\"heat\", volume=0.1)\n",
    "                sleep(5)\n",
    "                adb.run_command(f\"shell input tap 1550 525\")\n",
    "                time_since_heat = time.time()\n",
    "    sleep(10)\n",
    "tts(\"finished please come do something\")"
   ]
  },
  {
   "cell_type": "raw",
   "id": "c75a9a44-c65a-478c-ae15-309f7f6c489f",
   "metadata": {},
   "source": [
    "Mith Bolts\n",
    "37.22\n",
    "40.36\n",
    "43.20\n",
    "42.78\n",
    "\n",
    "Addy Bolts\n",
    "56.31\n",
    "48.05\n",
    "44.34\n",
    "\n",
    "Orik Chest Base\n",
    "224.26\n",
    "225.63\n",
    "\n",
    "Orik Chest +1\n",
    "201.15\n",
    "195.45\n",
    "\n",
    "Orik Chest +2\n",
    "464.25\n",
    "381.98\n",
    "254.27\n",
    "\n",
    "Orik Chest Burial\n",
    "150.83\n",
    "156.43\n"
   ]
  },
  {
   "cell_type": "markdown",
   "id": "37f15d77-2500-490e-a14f-dbb3be2b57ec",
   "metadata": {
    "jp-MarkdownHeadingCollapsed": true,
    "tags": []
   },
   "source": [
    "# Auto Smelt Ores -stable"
   ]
  },
  {
   "cell_type": "code",
   "execution_count": null,
   "id": "6653aa80-18c4-4989-a42c-d22cd0d73938",
   "metadata": {},
   "outputs": [],
   "source": [
    "a.matchers = {}\n",
    "\n",
    "a.addMatcher(\n",
    "    Beholder_Image_Matcher(\n",
    "        name=\"close_btb\",\n",
    "        layer=\"image_gray\",\n",
    "        filename=\"./rs3_templates/ui/crafting_dialog_close_button.png\",\n",
    "        convertToGray=True,\n",
    "    )\n",
    ")\n",
    "a.addMatcher(\n",
    "    Beholder_Image_Matcher(\n",
    "        name=\"Button\",\n",
    "        layer=\"image_gray\",\n",
    "        filename=\"./rs3_templates/ui/Begin_project.png\",\n",
    "        convertToGray=True,\n",
    "    )\n",
    ")"
   ]
  },
  {
   "cell_type": "code",
   "execution_count": null,
   "id": "cff84165-6b01-478d-ba4c-14b1b2343f6c",
   "metadata": {},
   "outputs": [],
   "source": [
    "tts(\"starting auto smelt \")\n",
    "s = time.time()\n",
    "Button_count = 0\n",
    "while True:\n",
    "    matches = a.findMatches()\n",
    "    if len(matches) > 0:\n",
    "        if \"close_btb\" in matches:\n",
    "            Button_count = 0\n",
    "            sleep(5)\n",
    "            continue\n",
    "        else:\n",
    "            if \"Button\" in matches:\n",
    "                if Button_count == 0:\n",
    "                    center = matches[\"Button\"][0].center\n",
    "                    a.tap(center[0], center[1])\n",
    "\n",
    "                    Button_count += 1\n",
    "                    s = time.time()\n",
    "                if Button_count == 2:\n",
    "                    tts(\"Out of Ore Please select new ore type\")\n",
    "                    a.layers[\"image\"].show()\n",
    "                    sleep(15)\n",
    "                if Button_count == 3:\n",
    "                    break\n",
    "                else:\n",
    "                    a.tap(518, 1029)\n",
    "                    Button_count += 1\n",
    "    else:\n",
    "        tts(f\"Fin, {int(time.time()-s)} Seconds.\")\n",
    "        a.tap(1150, 780)\n",
    "        sleep(3)\n",
    "        a.tap(518, 1029)\n",
    "    sleep(3)\n",
    "tts(\"Finished\")"
   ]
  },
  {
   "cell_type": "markdown",
   "id": "406d905f-7dc9-4595-8a55-f534b2e5ddfd",
   "metadata": {
    "jp-MarkdownHeadingCollapsed": true,
    "tags": []
   },
   "source": [
    "# Bolt Featherer -stable\n"
   ]
  },
  {
   "cell_type": "code",
   "execution_count": null,
   "id": "9ae7d8c9-97df-43cb-ab64-ae0e4a504a2f",
   "metadata": {},
   "outputs": [],
   "source": [
    "a.matchers = {}\n",
    "a.addMatcher(\n",
    "    Beholder_Image_Matcher(\n",
    "        name=\"bolts\",\n",
    "        layer=\"gray\",\n",
    "        filename=\"./templates/inventory/addy_bolts.png\",\n",
    "        convertToGray=True,\n",
    "    )\n",
    ")\n",
    "a.addMatcher(\n",
    "    Beholder_Image_Matcher(\n",
    "        name=\"fletch\",\n",
    "        layer=\"gray\",\n",
    "        filename=\"./templates/ui/fletch.png\",\n",
    "        convertToGray=True,\n",
    "    )\n",
    ")\n",
    "a.addMatcher(\n",
    "    Beholder_Image_Matcher(\n",
    "        name=\"close_btb\",\n",
    "        layer=\"gray\",\n",
    "        filename=\"./templates/ui/crafting_dialog_close_button.png\",\n",
    "        convertToGray=True,\n",
    "    )\n",
    ")\n",
    "\n",
    "in_menu = False\n",
    "while True:\n",
    "    matches = a.findMatches()\n",
    "    if len(matches) > 0:\n",
    "        if \"close_btb\" in matches:\n",
    "            print(\"Currently Crafting\")\n",
    "            sleep(2)\n",
    "            continue\n",
    "        if in_menu:\n",
    "            if \"fletch\" in matches:\n",
    "                center = matches[\"fletch\"][0].center\n",
    "                adb(f\"shell input tap {center[0]} {center[1]}\")\n",
    "                in_menu = False\n",
    "        else:\n",
    "            if \"bolts\" in matches:\n",
    "                center = matches[\"bolts\"][0].center\n",
    "                adb(f\"shell input tap {center[0]} {center[1]}\")\n",
    "                in_menu = True\n",
    "    else:\n",
    "        break\n",
    "    sleep(2)\n",
    "tts(\"Cannot Continue\")\n",
    "\n",
    "a.layers[\"image\"].show()"
   ]
  },
  {
   "cell_type": "markdown",
   "id": "f862e728-bba9-4b0c-9ef5-42dd9590ac5a",
   "metadata": {
    "jp-MarkdownHeadingCollapsed": true,
    "tags": []
   },
   "source": [
    "# Mine and store in OreChest/NotePaper/Mining Stamina -stable\n"
   ]
  },
  {
   "cell_type": "code",
   "execution_count": null,
   "id": "d7757273-d6b2-4330-84a3-890dfaf0d8da",
   "metadata": {},
   "outputs": [],
   "source": [
    "a.matchers = {}\n",
    "a.addMatcher(\n",
    "    Beholder_Image_Matcher(\n",
    "        name=\"paper\",\n",
    "        layer=\"image_gray\",\n",
    "        filename=\"./rs3_templates/inventory/notepaper.png\",\n",
    "    )\n",
    ")\n",
    "a.addMatcher(\n",
    "    Beholder_Image_Matcher(\n",
    "        name=\"ore\",\n",
    "        layer=\"image_gray\",\n",
    "        filename=\"./rs3_templates/inventory/ore/drak.png\",\n",
    "    )\n",
    ")\n",
    "a.addMatcher(\n",
    "    Beholder_Image_Matcher(\n",
    "        name=\"orebox\",\n",
    "        layer=\"image_gray\",\n",
    "        filename=\"./rs3_templates/inventory/ore_boxes/bane.png\",\n",
    "    )\n",
    ")\n",
    "\n",
    "s = time.time()\n",
    "ore_box_full = False\n",
    "start_mining = 0\n",
    "total_mined = 0\n",
    "mine_at_least = 500\n",
    "previous_ore_count = 0"
   ]
  },
  {
   "cell_type": "code",
   "execution_count": null,
   "id": "3fd87487-a936-4b50-87ac-316cc950166b",
   "metadata": {},
   "outputs": [],
   "source": [
    "log_ores = True\n",
    "log_resets = True\n",
    "say_method = False\n",
    "reset_mining_timeout = 15"
   ]
  },
  {
   "cell_type": "code",
   "execution_count": null,
   "id": "473506c9-e13a-49bf-8a85-f446c4be5db4",
   "metadata": {
    "tags": []
   },
   "outputs": [],
   "source": [
    "if total_mined > 0:\n",
    "    tts(f\"resuming AutoMiner {total_mined} out of {mine_at_least}\")\n",
    "else:\n",
    "    tts(\"starting AutoMiner\")\n",
    "while True:\n",
    "    if time.time() - start_mining >= reset_mining_timeout:\n",
    "        if log_resets:\n",
    "            print(\"reset mining\")\n",
    "        adb.run_command(f\"shell input tap 1215 830\")\n",
    "        start_mining = time.time()\n",
    "    matches = a.findMatches()\n",
    "    if len(matches.keys()) > 0:\n",
    "        if \"ore\" in matches:\n",
    "            if log_ores:\n",
    "                if previous_ore_count != len(matches[\"ore\"]):\n",
    "                    print(f\"{len(matches['ore'])} ores in inventory\")\n",
    "                    previous_ore_count = len(matches[\"ore\"])\n",
    "            if len(matches[\"ore\"]) >= 10:\n",
    "                total_mined += len(matches[\"ore\"])\n",
    "                tts(\n",
    "                    f\"took {secondsToTextDescription(int(time.time()-s))}, {total_mined} Total\"\n",
    "                )\n",
    "                s = time.time()\n",
    "\n",
    "                if mine_at_least < total_mined:\n",
    "                    tts(f\"finished aquiring {mine_at_least} ore\")\n",
    "                    break\n",
    "                if not ore_box_full:\n",
    "                    if \"orebox\" in matches:\n",
    "                        if say_method:\n",
    "                            tts(\"oreboxing\")\n",
    "                        center = matches[\"orebox\"][0].center\n",
    "                        adb.run_command(f\"shell input tap {center[0]} {center[1]}\")\n",
    "                        time.sleep(1)\n",
    "                        matches = a.findMatches()\n",
    "                        if \"ore\" in matches.keys():\n",
    "                            ore_box_full = True\n",
    "                            tts(\"orebox is full, starting to use paper\")\n",
    "\n",
    "                        else:\n",
    "                            start_mining = 0\n",
    "                            continue\n",
    "\n",
    "                if \"ore\" in matches and len(matches[\"ore\"]) > 1:\n",
    "                    if \"paper\" in matches:\n",
    "                        if say_method:\n",
    "                            tts(\"papering\")\n",
    "                        center = matches[\"ore\"][0].center\n",
    "                        adb.run_command(f\"shell input tap {center[0]} {center[1]}\")\n",
    "                        time.sleep(0.5)\n",
    "                        center = matches[\"paper\"][0].center\n",
    "                        adb.run_command(f\"shell input tap {center[0]} {center[1]}\")\n",
    "                        start_mining = 0\n",
    "                        time.sleep(2)\n",
    "                    else:\n",
    "                        tts(\"no more paper\")\n",
    "                        break\n",
    "\n",
    "    if start_mining != 0:\n",
    "        sleep(10)\n",
    "tts(\"Exiting\")\n",
    "a.layers[\"inventory\"].show()"
   ]
  },
  {
   "cell_type": "markdown",
   "id": "76cebd10-c060-4d9c-8aef-11270e1b141b",
   "metadata": {
    "jp-MarkdownHeadingCollapsed": true,
    "tags": []
   },
   "source": [
    "# Scareb gather -wip"
   ]
  },
  {
   "cell_type": "code",
   "execution_count": null,
   "id": "d9bf3ae6-dcd9-4721-bcc2-e71a5ec06558",
   "metadata": {},
   "outputs": [],
   "source": [
    "a.matchers = {}\n",
    "for i in range(0, 5):\n",
    "    print(i)\n",
    "    a.addMatcher(\n",
    "        Beholder_Image_Matcher(\n",
    "            name=\"bug\",\n",
    "            layer=\"gray\",\n",
    "            filename=f\"./rs3_templates/bug{i}.png\",\n",
    "            convertToGray=True,\n",
    "            threshhold=0.9,\n",
    "        )\n",
    "    )\n",
    "while True:\n",
    "    matches = a.findMatches()\n",
    "    if len(matches) > 0:\n",
    "        print(matches)\n",
    "    print(\".\")\n",
    "tts(\"Cannot Continue\")"
   ]
  },
  {
   "cell_type": "markdown",
   "id": "f33d8d57-403b-4805-a6a2-d87b8d172d58",
   "metadata": {
    "jp-MarkdownHeadingCollapsed": true,
    "tags": []
   },
   "source": [
    "# Enemy Attacker -wip"
   ]
  },
  {
   "cell_type": "code",
   "execution_count": null,
   "id": "96b1cb41-ffbb-4a73-ae7e-4a84a32f07eb",
   "metadata": {},
   "outputs": [],
   "source": [
    "a.layer_modifiers[\"Horizon\"].enabled = True\n",
    "a.layer_modifiers[\"Horizon Enemy Finder\"].enabled = True\n",
    "a.layer_modifiers[\"Horizon Enemy Finder Peaks\"].enabled = True"
   ]
  },
  {
   "cell_type": "code",
   "execution_count": null,
   "id": "f8bb2320-2bfb-4df0-8ea7-58334c6cf3a8",
   "metadata": {},
   "outputs": [],
   "source": [
    "while True:\n",
    "    a.readNextImage()\n",
    "    a.digestImage()\n",
    "    item = max(a.layers[\"Horizon Enemy Finder Peaks\"], key=lambda e: e[1] - e[0])\n",
    "    print(item)\n",
    "    center = (int(item[1] / 2 + item[0] / 2), 360)\n",
    "    print(center)\n",
    "    adb(f\"shell input tap {center[0]} {center[1]}\")\n",
    "    sleep(5)"
   ]
  },
  {
   "cell_type": "code",
   "execution_count": null,
   "id": "46c3a6fd-6e58-4f56-94bf-0ed93097df40",
   "metadata": {},
   "outputs": [],
   "source": []
  },
  {
   "cell_type": "code",
   "execution_count": null,
   "id": "d96fc3e2-0ea4-4aaf-a55a-227a77c50d3d",
   "metadata": {},
   "outputs": [],
   "source": []
  },
  {
   "cell_type": "code",
   "execution_count": null,
   "id": "59c5748f-8707-4f9b-9814-09c30dd7fcb7",
   "metadata": {},
   "outputs": [],
   "source": [
    "a.layers"
   ]
  },
  {
   "cell_type": "markdown",
   "id": "372fdfa5-7dff-4c5e-8ce2-968854e3d9c4",
   "metadata": {
    "jp-MarkdownHeadingCollapsed": true,
    "tags": []
   },
   "source": [
    "# Trout Fisher"
   ]
  },
  {
   "cell_type": "code",
   "execution_count": null,
   "id": "57420246-f32a-4fef-9dd4-6d947bf771a3",
   "metadata": {},
   "outputs": [],
   "source": [
    "a.matchers = {}\n",
    "\n",
    "\n",
    "a.addMatcher(\n",
    "    Beholder_Image_Matcher(\n",
    "        name=\"fish\",\n",
    "        layer=\"inventory\",\n",
    "        filename=\"./rs3_templates/fishing/fish.png\",\n",
    "        convertToGray=True,\n",
    "        threshhold=0.95,\n",
    "    )\n",
    ")\n",
    "a.addMatcher(\n",
    "    Beholder_Image_Matcher(\n",
    "        name=\"button\",\n",
    "        layer=\"image_gray\",\n",
    "        filename=\"./rs3_templates/ui/Next.png\",\n",
    "        convertToGray=True,\n",
    "    )\n",
    ")\n",
    "a.addMatcher(\n",
    "    Beholder_Image_Matcher(\n",
    "        name=\"paper\",\n",
    "        layer=\"inventory\",\n",
    "        filename=\"./rs3_templates/inventory/notepaper.png\",\n",
    "        convertToGray=True,\n",
    "    )\n",
    ")\n",
    "paper_time = time.time()\n",
    "paper_time_timeout = 30\n",
    "fishing_started = time.time()\n",
    "storage_mode = False\n",
    "matches = a.findMatches()\n",
    "print({x: len(matches[x]) for x in matches.keys()})"
   ]
  },
  {
   "cell_type": "code",
   "execution_count": null,
   "id": "cf6ca8a0-86b9-4557-954e-e93df4fb00f6",
   "metadata": {},
   "outputs": [],
   "source": [
    "while True:\n",
    "    matches = a.findMatches()\n",
    "    print({x: len(matches[x]) for x in matches.keys()})\n",
    "    if not storage_mode:\n",
    "        if \"button\" in matches:\n",
    "            center = matches[\"button\"][0].center\n",
    "            adb.run_command(f\"shell input tap {center[0]} {center[1]}\")\n",
    "            tts(f\"Completed in {int(time.time()-fishing_started)} seconds\")\n",
    "            fishing_started = time.time()\n",
    "            print(\"start storage\")\n",
    "            storage_mode = True\n",
    "        else:\n",
    "            sleep(10)\n",
    "    else:\n",
    "        persist = False\n",
    "        if \"paper\" not in matches:\n",
    "            tts(\"No paper\")\n",
    "            break\n",
    "        for _ in range(4):\n",
    "            if \"fish\" in matches:\n",
    "                print(\"storeing paper\")\n",
    "                center = matches[\"paper\"][0].center\n",
    "                adb.run_command(f\"shell input tap {center[0]} {center[1]}\")\n",
    "                time.sleep(1)\n",
    "                center = matches[\"fish\"][0].center\n",
    "                adb.run_command(f\"shell input tap {center[0]} {center[1]}\")\n",
    "                print({x: len(matches[x]) for x in matches.keys()})\n",
    "                time.sleep(1)\n",
    "                matches = a.findMatches()\n",
    "            storage_mode = False\n",
    "        time.sleep(0.7)\n",
    "        adb.run_command(f\"shell input tap 1150 780\")\n",
    "        time.sleep(0.7)"
   ]
  },
  {
   "cell_type": "markdown",
   "id": "56dfb4e0-07d4-4364-8d2a-8203a68a8b51",
   "metadata": {
    "jp-MarkdownHeadingCollapsed": true,
    "tags": []
   },
   "source": [
    "# Tree Cutter"
   ]
  },
  {
   "cell_type": "code",
   "execution_count": null,
   "id": "75847edf-c7f0-4148-a5b0-5c32936514a8",
   "metadata": {
    "tags": []
   },
   "outputs": [],
   "source": [
    "a.matchers = {}\n",
    "a.addMatcher(\n",
    "    Beholder_Image_Matcher(\n",
    "        name=\"paper\",\n",
    "        layer=\"inventory\",\n",
    "        filename=\"./rs3_templates/inventory/notepaper.png\",\n",
    "        convertToGray=True,\n",
    "    )\n",
    ")\n",
    "a.addMatcher(\n",
    "    Beholder_Image_Matcher(\n",
    "        name=\"logs\",\n",
    "        layer=\"inventory\",\n",
    "        filename=\"./rs3_templates/inventory/logs/Achey.png\",\n",
    "        convertToGray=True,\n",
    "    )\n",
    ")\n",
    "tree_locations = {\n",
    "    \"up\": False,\n",
    "    \"right\": False,\n",
    "    \"down\": False,\n",
    "    \"left\": True,\n",
    "}\n",
    "click_loc_pos = {\n",
    "    \"up\": \"1192 150\",\n",
    "    \"right\": \"1550 525\",\n",
    "    \"down\": \"1192 830\",\n",
    "    \"left\": \"755 525\",\n",
    "}\n",
    "tree_regrow_timer = 3\n",
    "start_loggin = time.time()"
   ]
  },
  {
   "cell_type": "code",
   "execution_count": null,
   "id": "06991bf6-07e9-401e-b373-c642b37ebae7",
   "metadata": {
    "tags": []
   },
   "outputs": [],
   "source": [
    "tree_regrow_timer_each = tree_regrow_timer / sum(\n",
    "    [1 if tree_locations[a] else 0 for a in tree_locations]\n",
    ")\n",
    "tree_regrow_timer_each"
   ]
  },
  {
   "cell_type": "code",
   "execution_count": null,
   "id": "803b9a98-b929-4706-a67f-17c423054d4a",
   "metadata": {
    "tags": []
   },
   "outputs": [],
   "source": [
    "while True:\n",
    "    for loc in [\"up\", \"right\", \"down\", \"left\"]:\n",
    "        if tree_locations[loc]:\n",
    "            adb.run_command(f\"shell input tap {click_loc_pos[loc]}\")\n",
    "            sleep(tree_regrow_timer_each)\n",
    "    matches = a.findMatches()\n",
    "    if \"logs\" in matches:\n",
    "        if len(matches[\"logs\"]) >= 10:\n",
    "            tts(f\"cten {int(time.time()-start_loggin)}\")\n",
    "            start_loggin = time.time()\n",
    "            center = matches[\"paper\"][0].center\n",
    "            adb.run_command(f\"shell input tap {center[0]} {center[1]}\")\n",
    "            time.sleep(1)\n",
    "            center = matches[\"logs\"][0].center\n",
    "            adb.run_command(f\"shell input tap {center[0]} {center[1]}\")\n",
    "    sleep(2)"
   ]
  },
  {
   "cell_type": "markdown",
   "id": "24cbca47-db40-4309-b6c7-19880acff864",
   "metadata": {
    "jp-MarkdownHeadingCollapsed": true,
    "tags": []
   },
   "source": [
    "# repeat crafting - stable"
   ]
  },
  {
   "cell_type": "code",
   "execution_count": null,
   "id": "48d4a683-4910-4843-ac89-0780ac8cd008",
   "metadata": {},
   "outputs": [],
   "source": [
    "a.matchers = {}\n",
    "a.addMatcher(\n",
    "    Beholder_Image_Matcher(\n",
    "        name=\"close_btb\",\n",
    "        layer=\"image_gray\",\n",
    "        filename=\"./rs3_templates/ui/crafting_dialog_close_button2.png\",\n",
    "    )\n",
    ")\n",
    "start = time.time()\n",
    "in_menu = False\n",
    "auto_reset_timer = 180\n",
    "min_cutoff_kill_timeout = 8"
   ]
  },
  {
   "cell_type": "code",
   "execution_count": null,
   "id": "5b679f76-803c-4b2b-a3ee-a252acd4f52d",
   "metadata": {},
   "outputs": [],
   "source": [
    "while True:\n",
    "    matches = a.findMatches()\n",
    "    if (\n",
    "        \"close_btb\" in matches\n",
    "        and not in_menu\n",
    "        and not time.time() - start > auto_reset_timer\n",
    "    ):\n",
    "        print(f\"Currently Processsing { time.time() - start}\")\n",
    "        sleep(5)\n",
    "        continue\n",
    "    else:\n",
    "        if in_menu:\n",
    "            adb.run_command(f\"shell input tap 1560 977\")\n",
    "            in_menu = False\n",
    "            sleep(2.5)\n",
    "        else:\n",
    "            adb.run_command(f\"shell input tap 1936 386\")\n",
    "            start = time.time()\n",
    "            in_menu = True\n",
    "            sleep(0.5)\n",
    "tts(\"Cannot Continue\")\n",
    "\n",
    "a.layers[\"image\"].show()"
   ]
  },
  {
   "cell_type": "markdown",
   "id": "6ceeb6b2-b87c-484f-903c-eeccb90fb17f",
   "metadata": {
    "jp-MarkdownHeadingCollapsed": true,
    "tags": []
   },
   "source": [
    "# Directional Clicker -beta\n"
   ]
  },
  {
   "cell_type": "code",
   "execution_count": null,
   "id": "7cab6c22-7562-438e-a380-68b7d705ced7",
   "metadata": {},
   "outputs": [],
   "source": [
    "click_locations = {\n",
    "    \"up\": False,\n",
    "    \"right\": False,\n",
    "    \"down\": False,\n",
    "    \"left\": True,\n",
    "}\n",
    "click_loc_pos = {\n",
    "    \"up\": \"1192 150\",\n",
    "    \"right\": \"1550 525\",\n",
    "    \"down\": \"1192 830\",\n",
    "    \"left\": \"755 525\",\n",
    "}\n",
    "click_delay = 15\n",
    "while True:\n",
    "    for loc in [\"up\", \"right\", \"down\", \"left\"]:\n",
    "        if click_locations[loc]:\n",
    "            adb.run_command(f\"shell input tap {click_loc_pos[loc]}\")\n",
    "            sleep(click_delay)\n",
    "            tts(\"click\")"
   ]
  },
  {
   "cell_type": "markdown",
   "id": "669d359a-6ff8-4f33-8faa-5aeaefe0b0ae",
   "metadata": {
    "jp-MarkdownHeadingCollapsed": true,
    "tags": []
   },
   "source": [
    "# Telekinetic grab training -wip -dumbclicker"
   ]
  },
  {
   "cell_type": "code",
   "execution_count": null,
   "id": "c5070722-86ac-4d4c-afc4-31a3d5ce6ae6",
   "metadata": {},
   "outputs": [],
   "source": [
    "withdrawlBankItem(\"Law rune\", 100)\n",
    "withdrawlBankItem(\"Air rune\", 100)\n",
    "print(\"goto varrock west bank and stand in the east door gate\")"
   ]
  },
  {
   "cell_type": "code",
   "execution_count": null,
   "id": "1ece78a2-a21a-420c-a14b-1aaf8db2e18b",
   "metadata": {},
   "outputs": [],
   "source": [
    "necklace = (1066, 965)\n",
    "bar = (1196, 760)\n",
    "\n",
    "magic_book = (2330, 690)\n",
    "skill_page = (2114, 315)\n",
    "grab_spell = (2014, 551)\n",
    "\n",
    "\n",
    "backpack = (2330, 326)"
   ]
  },
  {
   "cell_type": "code",
   "execution_count": null,
   "id": "15806198-4083-4706-b3f7-8d04fa7e22a5",
   "metadata": {},
   "outputs": [],
   "source": [
    "a.matchers = {}\n",
    "a.addMatcher(\n",
    "    Beholder_Image_Matcher(\n",
    "        name=\"paper\",\n",
    "        layer=\"inventory\",\n",
    "        filename=\"./rs3_templates/inventory/notepaper.png\",\n",
    "        convertToGray=True,\n",
    "    )\n",
    ")"
   ]
  },
  {
   "cell_type": "code",
   "execution_count": null,
   "id": "b2586ab8-7c52-4a3c-b091-06cac554c197",
   "metadata": {},
   "outputs": [],
   "source": [
    "while True:\n",
    "    a.tap(*grab_spell)\n",
    "    time.sleep(2.5)\n",
    "    a.tap(*bar)\n",
    "    time.sleep(2.5)\n",
    "\n",
    "    a.tap(*grab_spell)\n",
    "    time.sleep(1.5)\n",
    "    a.tap(*necklace)\n",
    "\n",
    "    sleep(5)\n",
    "    a.tap(*backpack)\n",
    "    matches = a.findMatches()\n",
    "    if \"gold\" in matches:\n",
    "        print(\"found things\")\n",
    "    if \"necklace\" in matches:\n",
    "        print(\"found things\")\n",
    "\n",
    "    sleep(5)\n",
    "    switchWorlds(world_index % len(favorite))\n",
    "    world_index += 1\n",
    "    sleep(7)\n",
    "    a.tap(*magic_book)\n",
    "    time.sleep(2.5)\n",
    "    a.tap(*skill_page)\n",
    "    time.sleep(3)"
   ]
  },
  {
   "cell_type": "markdown",
   "id": "b355b92c-4375-49ee-9954-732af9713f81",
   "metadata": {
    "jp-MarkdownHeadingCollapsed": true,
    "tags": []
   },
   "source": [
    "# Protean Bars"
   ]
  },
  {
   "cell_type": "code",
   "execution_count": null,
   "id": "54739f91-0286-477a-93ac-8ba841fee205",
   "metadata": {},
   "outputs": [],
   "source": [
    "a.matchers = {}\n",
    "a.addMatcher(\n",
    "    Beholder_Image_Matcher(\n",
    "        name=\"close_btb\",\n",
    "        layer=\"image_gray\",\n",
    "        filename=\"./rs3_templates/ui/crafting_dialog_close_button2.png\",\n",
    "    )\n",
    ")\n",
    "\n",
    "auto_reset_timer = 480\n",
    "down = \"1192 830\"\n",
    "start = time.time()\n",
    "in_menu = False"
   ]
  },
  {
   "cell_type": "code",
   "execution_count": null,
   "id": "bfc27b2f-2640-443b-b8d7-843ba5ca2352",
   "metadata": {},
   "outputs": [],
   "source": [
    "while True:\n",
    "    matches = a.findMatches()\n",
    "    if (\n",
    "        \"close_btb\" in matches\n",
    "        and not in_menu\n",
    "        and not time.time() - start > auto_reset_timer\n",
    "    ):\n",
    "        print(f\"Currently Processsing { time.time() - start}\")\n",
    "        sleep(5)\n",
    "        continue\n",
    "    else:\n",
    "        if in_menu:\n",
    "            adb.run_command(f\"shell input tap 1560 977\")\n",
    "            in_menu = False\n",
    "            sleep(2.5)\n",
    "        else:\n",
    "            adb.run_command(f\"shell input tap {down}\")\n",
    "            start = time.time()\n",
    "            in_menu = True\n",
    "            sleep(0.5)\n",
    "tts(\"Cannot Continue\")\n",
    "\n",
    "a.layers[\"image\"].show()"
   ]
  },
  {
   "cell_type": "markdown",
   "id": "bd9c31b1-fad5-4802-a7c2-baf1e41159a7",
   "metadata": {
    "tags": []
   },
   "source": [
    "# Steal Silver"
   ]
  },
  {
   "cell_type": "code",
   "execution_count": 10,
   "id": "6a81dfc8-9aae-4528-8796-eb418aaf231b",
   "metadata": {},
   "outputs": [],
   "source": [
    "a.matchers = {}\n",
    "a.addMatcher(\n",
    "    Beholder_Image_Matcher(\n",
    "        name=\"silver\",\n",
    "        layer=\"image_gray\",\n",
    "        filename=\"./rs3_templates/theifing/silverbar.png\",\n",
    "    )\n",
    ")\n",
    "start = time.time()\n",
    "stolen = 0\n",
    "attacked = 0\n",
    "attempt = 0\n",
    "startup = True\n",
    "previous_detect = False"
   ]
  },
  {
   "cell_type": "code",
   "execution_count": 12,
   "id": "15c1df84-2b9e-45f6-9191-4530f7df282a",
   "metadata": {
    "scrolled": true,
    "tags": []
   },
   "outputs": [
    {
     "name": "stdout",
     "output_type": "stream",
     "text": [
      "23:17:50.638374 - tts: 4 taken\n",
      "23:17:58.239600 - tts: 5 taken\n",
      "23:18:15.201604 - tts: attacked\n",
      "23:18:30.445804 - tts: 6 taken\n",
      "23:18:38.970892 - tts: attacked\n",
      "23:18:57.637799 - tts: 7 taken\n",
      "23:19:13.183259 - tts: attacked\n",
      "23:19:27.942630 - tts: 8 taken\n",
      "23:19:36.075246 - tts: 9 taken\n",
      "23:19:52.872347 - tts: attacked\n",
      "23:20:11.622993 - tts: 10 taken\n",
      "23:20:29.222397 - tts: attacked\n",
      "23:20:44.678374 - tts: 11 taken\n",
      "23:20:53.538177 - tts: 12 taken\n",
      "23:21:12.365116 - tts: attacked\n",
      "23:21:27.360619 - tts: 13 taken\n",
      "23:21:35.538855 - tts: attacked\n",
      "23:21:50.779455 - tts: 14 taken\n",
      "23:21:57.729897 - tts: 15 taken\n",
      "23:22:15.629445 - tts: 16 taken\n",
      "23:22:33.540954 - tts: attacked\n",
      "23:22:51.189894 - tts: 17 taken\n",
      "23:23:09.065849 - tts: attacked\n",
      "23:23:28.560867 - tts: attacked\n",
      "23:23:47.552724 - tts: 18 taken\n",
      "23:24:06.347144 - tts: attacked\n",
      "23:24:21.038608 - tts: 19 taken\n",
      "23:24:28.031810 - tts: 20 taken\n",
      "23:24:45.819188 - tts: 21 taken\n",
      "23:25:05.871465 - tts: attacked\n",
      "23:25:24.823059 - tts: 22 taken\n",
      "23:25:42.784768 - tts: 23 taken\n",
      "23:26:02.988914 - tts: attacked\n",
      "23:26:21.269976 - tts: 24 taken\n",
      "23:26:39.431986 - tts: 25 taken\n",
      "23:26:57.970688 - tts: 26 taken\n",
      "23:27:15.970264 - tts: attacked\n",
      "23:27:31.205888 - tts: 27 taken\n",
      "23:27:39.139294 - tts: 28 taken\n",
      "23:27:57.660728 - tts: 29 taken\n",
      "23:28:16.693267 - tts: 30 taken\n",
      "23:28:34.103607 - tts: 31 taken\n",
      "23:28:53.244354 - tts: attacked\n",
      "23:29:06.933513 - tts: 32 taken\n",
      "23:29:15.144444 - tts: 33 taken\n",
      "23:29:33.475095 - tts: 34 taken\n",
      "23:29:51.880397 - tts: attacked\n",
      "23:30:06.535914 - tts: 35 taken\n",
      "23:30:14.669404 - tts: 36 taken\n",
      "23:30:35.278210 - tts: 37 taken\n",
      "23:30:50.582820 - tts: 38 taken\n",
      "23:31:08.313416 - tts: 39 taken\n",
      "23:31:27.897953 - tts: attacked\n",
      "23:31:43.664036 - tts: 40 taken\n",
      "23:31:51.884544 - tts: attacked\n",
      "23:32:07.317946 - tts: 41 taken\n",
      "23:32:15.416437 - tts: 42 taken\n",
      "23:32:32.925729 - tts: 43 taken\n",
      "23:32:50.026453 - tts: 44 taken\n",
      "23:33:07.886929 - tts: attacked\n",
      "23:33:22.115679 - tts: 45 taken\n",
      "23:33:30.151828 - tts: attacked\n",
      "23:33:48.786231 - tts: 46 taken\n",
      "23:34:07.454578 - tts: attacked\n",
      "23:34:21.827918 - tts: 47 taken\n",
      "23:34:30.109791 - tts: 48 taken\n",
      "23:34:48.459644 - tts: 49 taken\n",
      "23:35:05.665716 - tts: attacked\n",
      "23:35:21.044404 - tts: 50 taken\n",
      "23:35:29.751256 - tts: 51 taken\n",
      "23:35:48.151331 - tts: 52 taken\n",
      "23:36:05.688242 - tts: attacked\n",
      "23:36:20.924054 - tts: 53 taken\n",
      "23:36:29.123872 - tts: 54 taken\n",
      "23:36:47.580270 - tts: attacked\n",
      "23:37:04.648014 - tts: 55 taken\n",
      "23:37:21.397539 - tts: attacked\n",
      "23:37:39.739303 - tts: 56 taken\n",
      "23:37:57.796881 - tts: 57 taken\n",
      "23:38:16.572431 - tts: attacked\n",
      "23:38:30.169274 - tts: 58 taken\n",
      "23:38:39.249564 - tts: attacked\n",
      "23:38:57.459776 - tts: attacked\n",
      "23:39:11.230472 - tts: 59 taken\n",
      "23:39:20.263575 - tts: attacked\n",
      "23:39:34.415629 - tts: 60 taken\n",
      "23:39:42.164610 - tts: 61 taken\n",
      "23:40:02.900093 - tts: 62 taken\n",
      "23:40:20.688981 - tts: 63 taken\n",
      "23:40:41.340703 - tts: 64 taken\n",
      "23:41:00.846892 - tts: attacked\n",
      "23:41:17.970648 - tts: 65 taken\n",
      "23:41:37.020780 - tts: attacked\n",
      "23:41:51.252309 - tts: 66 taken\n",
      "23:41:58.512238 - tts: attacked\n",
      "23:42:12.133756 - tts: 67 taken\n",
      "23:42:20.349865 - tts: 68 taken\n",
      "23:42:37.825880 - tts: attacked\n",
      "23:42:52.504508 - tts: 69 taken\n",
      "23:43:00.947716 - tts: 70 taken\n",
      "23:43:17.880590 - tts: 71 taken\n",
      "23:43:36.593959 - tts: attacked\n",
      "23:43:52.278957 - tts: 72 taken\n",
      "23:44:00.064164 - tts: 73 taken\n",
      "23:44:17.398948 - tts: 74 taken\n",
      "23:44:35.356569 - tts: attacked\n",
      "23:44:49.749504 - tts: 75 taken\n",
      "23:44:58.077688 - tts: 76 taken\n",
      "23:45:15.306280 - tts: 77 taken\n",
      "23:45:32.898418 - tts: attacked\n",
      "23:45:49.998809 - tts: 78 taken\n",
      "23:46:09.532432 - tts: 79 taken\n",
      "23:46:28.604631 - tts: attacked\n",
      "23:46:42.231871 - tts: 80 taken\n",
      "23:46:50.675571 - tts: 81 taken\n",
      "23:47:08.544996 - tts: 82 taken\n",
      "23:47:26.532559 - tts: 83 taken\n",
      "23:47:44.527943 - tts: 84 taken\n",
      "23:48:02.403527 - tts: attacked\n",
      "23:48:16.637134 - tts: 85 taken\n",
      "23:48:25.393964 - tts: 86 taken\n",
      "23:48:43.443411 - tts: 87 taken\n",
      "23:49:00.951052 - tts: 88 taken\n",
      "23:49:18.212210 - tts: 89 taken\n",
      "23:49:35.659459 - tts: 90 taken\n",
      "23:49:52.568021 - tts: attacked\n",
      "23:50:07.061760 - tts: 91 taken\n",
      "23:50:15.060182 - tts: 92 taken\n",
      "23:50:32.286137 - tts: 93 taken\n",
      "23:50:49.443129 - tts: 94 taken\n",
      "23:51:09.050560 - tts: 95 taken\n",
      "23:51:28.600479 - tts: 96 taken\n",
      "23:51:45.522235 - tts: 97 taken\n",
      "23:52:04.965999 - tts: 98 taken\n",
      "23:52:20.273044 - tts: 99 taken\n",
      "23:52:39.983142 - tts: 100 taken\n",
      "23:52:59.183270 - tts: attacked\n",
      "23:53:17.354116 - tts: 101 taken\n",
      "23:53:35.074852 - tts: 102 taken\n",
      "23:53:53.182371 - tts: 103 taken\n",
      "23:54:10.518239 - tts: 104 taken\n",
      "23:54:28.715571 - tts: attacked\n",
      "23:54:44.231781 - tts: 105 taken\n",
      "23:54:53.284504 - tts: 106 taken\n",
      "23:55:11.875223 - tts: 107 taken\n",
      "23:55:28.935431 - tts: 108 taken\n",
      "23:55:45.948476 - tts: 109 taken\n",
      "23:56:05.849443 - tts: 110 taken\n",
      "23:56:24.720739 - tts: 111 taken\n",
      "23:56:44.150927 - tts: attacked\n",
      "23:56:58.220895 - tts: 112 taken\n",
      "23:57:06.446157 - tts: 113 taken\n",
      "23:57:25.877985 - tts: 114 taken\n",
      "23:57:45.236850 - tts: attacked\n",
      "23:58:00.743177 - tts: 115 taken\n",
      "23:58:09.842201 - tts: 116 taken\n",
      "23:58:29.124839 - tts: 117 taken\n",
      "23:58:47.647609 - tts: attacked\n",
      "23:59:01.110500 - tts: 118 taken\n",
      "23:59:10.107751 - tts: 119 taken\n",
      "23:59:29.254812 - tts: 120 taken\n",
      "23:59:47.961067 - tts: attacked\n",
      "00:00:02.363976 - tts: 121 taken\n"
     ]
    },
    {
     "ename": "KeyboardInterrupt",
     "evalue": "",
     "output_type": "error",
     "traceback": [
      "\u001b[0;31m---------------------------------------------------------------------------\u001b[0m",
      "\u001b[0;31mKeyboardInterrupt\u001b[0m                         Traceback (most recent call last)",
      "Input \u001b[0;32mIn [12]\u001b[0m, in \u001b[0;36m<cell line: 1>\u001b[0;34m()\u001b[0m\n\u001b[1;32m     22\u001b[0m             tts(\u001b[38;5;124mf\u001b[39m\u001b[38;5;124m\"\u001b[39m\u001b[38;5;132;01m{\u001b[39;00mstolen\u001b[38;5;132;01m}\u001b[39;00m\u001b[38;5;124m taken\u001b[39m\u001b[38;5;124m\"\u001b[39m)\n\u001b[1;32m     23\u001b[0m             previous_detect \u001b[38;5;241m=\u001b[39m \u001b[38;5;28;01mFalse\u001b[39;00m\n\u001b[0;32m---> 24\u001b[0m     \u001b[43msleep\u001b[49m\u001b[43m(\u001b[49m\u001b[38;5;241;43m2\u001b[39;49m\u001b[43m)\u001b[49m\n\u001b[1;32m     25\u001b[0m tts(\u001b[38;5;124m\"\u001b[39m\u001b[38;5;124mCannot Continue\u001b[39m\u001b[38;5;124m\"\u001b[39m)\n\u001b[1;32m     27\u001b[0m a\u001b[38;5;241m.\u001b[39mlayers[\u001b[38;5;124m\"\u001b[39m\u001b[38;5;124mimage\u001b[39m\u001b[38;5;124m\"\u001b[39m]\u001b[38;5;241m.\u001b[39mshow()\n",
      "File \u001b[0;32m~/github/Some-Notebooks/Android/Beholder/Libs/Beholder.py:459\u001b[0m, in \u001b[0;36msleep\u001b[0;34m(num, print_time)\u001b[0m\n\u001b[1;32m    457\u001b[0m \u001b[38;5;28;01mif\u001b[39;00m num \u001b[38;5;241m<\u001b[39m\u001b[38;5;241m0\u001b[39m:\n\u001b[1;32m    458\u001b[0m     num \u001b[38;5;241m=\u001b[39m \u001b[38;5;241m0.1\u001b[39m\n\u001b[0;32m--> 459\u001b[0m \u001b[43mtime\u001b[49m\u001b[38;5;241;43m.\u001b[39;49m\u001b[43msleep\u001b[49m\u001b[43m(\u001b[49m\u001b[43mnum\u001b[49m\u001b[43m)\u001b[49m\n",
      "\u001b[0;31mKeyboardInterrupt\u001b[0m: "
     ]
    }
   ],
   "source": [
    "while True:\n",
    "    matches = a.findMatches()\n",
    "    if \"silver\" in matches:\n",
    "        center = matches[\"silver\"][0].center\n",
    "        a.tap(center[0], center[1])\n",
    "        if attempt == 1:\n",
    "            if time.time() - start < 10:\n",
    "                attacked += 1\n",
    "                attempt = 0\n",
    "                tts(f\"attacked\")\n",
    "                sleep(10)\n",
    "        else:\n",
    "            attempt += 1\n",
    "            previous_detect = True\n",
    "\n",
    "        start = time.time()\n",
    "    else:\n",
    "        attempt = 0\n",
    "        if previous_detect == True:\n",
    "            stolen += 1\n",
    "            attempt = 0\n",
    "            tts(f\"{stolen} taken\")\n",
    "            previous_detect = False\n",
    "    sleep(2)\n",
    "tts(\"Cannot Continue\")\n",
    "\n",
    "a.layers[\"image\"].show()"
   ]
  },
  {
   "cell_type": "markdown",
   "id": "cabbe76e-a606-4855-8a54-2754d73eb003",
   "metadata": {},
   "source": [
    "# Random Stuff - wip\n"
   ]
  },
  {
   "cell_type": "code",
   "execution_count": null,
   "id": "1342e9c1-e02f-4709-a748-33ba4409b8c1",
   "metadata": {},
   "outputs": [],
   "source": [
    "s = time.time()"
   ]
  },
  {
   "cell_type": "code",
   "execution_count": null,
   "id": "fc0daa57-bd65-40d6-85f6-e54fdc4bacb2",
   "metadata": {},
   "outputs": [],
   "source": [
    "time.time() - s"
   ]
  },
  {
   "cell_type": "markdown",
   "id": "b172f295-2e0a-4f77-badf-454cce886859",
   "metadata": {
    "tags": []
   },
   "source": [
    "# Other Stuff"
   ]
  },
  {
   "cell_type": "code",
   "execution_count": null,
   "id": "3a95a2e7-d30a-4f0e-b494-14e05082f072",
   "metadata": {},
   "outputs": [],
   "source": [
    "matches = a.findMatches()\n",
    "print({x: len(matches[x]) for x in matches.keys()})"
   ]
  },
  {
   "cell_type": "code",
   "execution_count": null,
   "id": "3fa6c2c0-650c-4338-b852-ddbdc1603fff",
   "metadata": {},
   "outputs": [],
   "source": [
    "time.time() - s"
   ]
  },
  {
   "cell_type": "code",
   "execution_count": null,
   "id": "51f104fb-a98f-458b-aed7-460f1a29e672",
   "metadata": {},
   "outputs": [],
   "source": [
    "for index in range(0, 100):\n",
    "    print(\n",
    "        index,\n",
    "    )"
   ]
  },
  {
   "cell_type": "raw",
   "id": "38b330f1-6317-4bc2-a177-b33f66aa0ce8",
   "metadata": {},
   "source": [
    "10 drakocite ore with spirits\n",
    "121.57\n",
    "109.79\n",
    "133.09\n",
    "121.44"
   ]
  },
  {
   "cell_type": "raw",
   "id": "3ec135eb-5770-4402-bdf2-be9d02755470",
   "metadata": {},
   "source": [
    "10 oricahalcite ore \n",
    "223.00 \n",
    "220.85\n",
    "\n",
    "10 oricahalcite with spirits \n",
    "105.44\n",
    "106.17\n",
    "118.04\n",
    "128.71"
   ]
  },
  {
   "cell_type": "code",
   "execution_count": null,
   "id": "78f1b45b-0560-4592-9901-b9b39fc495ce",
   "metadata": {},
   "outputs": [],
   "source": [
    "tts(\"Cannot Continue\")"
   ]
  },
  {
   "cell_type": "raw",
   "id": "7366700a-9923-4b47-acd9-4af435045812",
   "metadata": {},
   "source": [
    "10 rune ore         = 103.64 seconds"
   ]
  },
  {
   "cell_type": "raw",
   "id": "6184c1a8-2c39-4ab3-b0cd-a9cb3a5ae606",
   "metadata": {},
   "source": [
    "10 coal ore         = 47.87 Seconds"
   ]
  },
  {
   "cell_type": "code",
   "execution_count": null,
   "id": "f2fd9b62-8cef-4342-97ad-fd9c2d7bc6d2",
   "metadata": {},
   "outputs": [],
   "source": [
    "a.layers"
   ]
  },
  {
   "cell_type": "code",
   "execution_count": null,
   "id": "5c5de991-5e25-47bf-b61f-802cf04e4e93",
   "metadata": {},
   "outputs": [],
   "source": [
    "a.layer_modifiers[\"Horizon\"].enabled = True\n",
    "a.layer_modifiers[\"Horizon Enemy Finder\"].enabled = True"
   ]
  },
  {
   "cell_type": "code",
   "execution_count": null,
   "id": "eba5d7aa-ceb5-4e25-bcb4-9b39e786965e",
   "metadata": {},
   "outputs": [],
   "source": [
    "target_color = (143, 4, 13)\n",
    "tolarance = 75\n",
    "\n",
    "target_info_cords = (460, 546)\n",
    "target_info_color = (17, 42, 50)"
   ]
  },
  {
   "cell_type": "code",
   "execution_count": null,
   "id": "64b9c86b-3f43-41d2-a316-ec2530b4c5ae",
   "metadata": {},
   "outputs": [],
   "source": []
  },
  {
   "cell_type": "code",
   "execution_count": null,
   "id": "c2a6a57a-23b3-4884-8774-65fa6354acf2",
   "metadata": {},
   "outputs": [],
   "source": []
  },
  {
   "cell_type": "code",
   "execution_count": null,
   "id": "a625904e-dd39-4d4f-a4b2-f13860b6deb8",
   "metadata": {},
   "outputs": [],
   "source": [
    "a.layers[\"Horizon Enemy Finder\"].show()"
   ]
  },
  {
   "cell_type": "code",
   "execution_count": null,
   "id": "953d25e1-3a71-4765-b6f7-322586f2e86f",
   "metadata": {},
   "outputs": [],
   "source": [
    "a.layers[\"Horizon Enemy Finder\"].show()"
   ]
  },
  {
   "cell_type": "code",
   "execution_count": null,
   "id": "91deb48e-6bab-48f9-b033-6533b46cb016",
   "metadata": {},
   "outputs": [],
   "source": [
    "for item in a.matchers:\n",
    "    print(item.name, item.data.shape)"
   ]
  },
  {
   "cell_type": "code",
   "execution_count": null,
   "id": "f7a899cd-ad1b-46b0-993e-26aef28d6096",
   "metadata": {},
   "outputs": [],
   "source": [
    "matches[\"Salmon\"][0].show(a)"
   ]
  },
  {
   "cell_type": "code",
   "execution_count": null,
   "id": "7b0a87f6-0985-4b3a-beed-30ba559a17cb",
   "metadata": {},
   "outputs": [],
   "source": [
    "a.layers[\"image_gray\"].data.shape"
   ]
  },
  {
   "cell_type": "code",
   "execution_count": null,
   "id": "6abf2ae1-42f0-49db-9c31-a1c4d2f1679f",
   "metadata": {},
   "outputs": [],
   "source": []
  },
  {
   "cell_type": "code",
   "execution_count": null,
   "id": "7f617d9d-27ce-4804-8198-bc7f30284f54",
   "metadata": {},
   "outputs": [],
   "source": []
  }
 ],
 "metadata": {
  "autoscrollcelloutput": true,
  "kernelspec": {
   "display_name": "Python 3 (ipykernel)",
   "language": "python",
   "name": "python3"
  },
  "language_info": {
   "codemirror_mode": {
    "name": "ipython",
    "version": 3
   },
   "file_extension": ".py",
   "mimetype": "text/x-python",
   "name": "python",
   "nbconvert_exporter": "python",
   "pygments_lexer": "ipython3",
   "version": "3.10.6"
  },
  "scenes_data": {
   "active_scene": "Default Scene",
   "init_scene": "",
   "scenes": [
    "Default Scene"
   ]
  },
  "widgets": {
   "application/vnd.jupyter.widget-state+json": {
    "state": {},
    "version_major": 2,
    "version_minor": 0
   }
  }
 },
 "nbformat": 4,
 "nbformat_minor": 5
}
