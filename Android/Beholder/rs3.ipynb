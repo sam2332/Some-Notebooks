{
 "cells": [
  {
   "cell_type": "code",
   "execution_count": 1,
   "id": "6a826d56-f116-4525-a1e7-2ac0073a57cf",
   "metadata": {},
   "outputs": [],
   "source": [
    "import Libs.Adb as adb\n",
    "from Libs.Beholder import *\n",
    "from Libs.StateMachine import StateMachine"
   ]
  },
  {
   "cell_type": "code",
   "execution_count": 2,
   "id": "78a974af-bc90-4781-9099-5be6ba80bf19",
   "metadata": {},
   "outputs": [
    {
     "name": "stderr",
     "output_type": "stream",
     "text": [
      "Warning: Activity not started, intent has been delivered to currently running top-most instance.\n"
     ]
    },
    {
     "data": {
      "text/plain": [
       "['Starting: Intent { act=android.intent.action.MAIN cat=[android.intent.category.LAUNCHER] cmp=com.jagex.runescape.android/com.jagex.android.MainActivity }']"
      ]
     },
     "execution_count": 2,
     "metadata": {},
     "output_type": "execute_result"
    }
   ],
   "source": [
    "adb.run_command(\n",
    "    \"shell am start com.jagex.runescape.android/com.jagex.android.MainActivity\"\n",
    ")"
   ]
  },
  {
   "cell_type": "code",
   "execution_count": 3,
   "id": "c550b880-368f-40bd-9715-f185d47a2b20",
   "metadata": {},
   "outputs": [
    {
     "data": {
      "text/plain": [
       "[]"
      ]
     },
     "execution_count": 3,
     "metadata": {},
     "output_type": "execute_result"
    }
   ],
   "source": [
    "a = Beholder(videoFrameGenerator=adb.ScreenCap())\n",
    "\n",
    "a.addLayerModifer(Beholder_Layer_Chopper_Grayscale(from_layer=\"image\", enabled=True))\n",
    "a.addLayerModifer(\n",
    "    Beholder_Layer_Chopper_AtCord(\n",
    "        name=\"inventory_color\",\n",
    "        from_layer=\"image\",\n",
    "        x=1903,\n",
    "        y=355,\n",
    "        w=2222 - 1903,\n",
    "        h=905 - 355,\n",
    "        enabled=True,\n",
    "    )\n",
    ")\n",
    "a.addLayerModifer(\n",
    "    Beholder_Layer_Chopper_AtCord(\n",
    "        name=\"inventory\",\n",
    "        from_layer=\"image_gray\",\n",
    "        x=1903,\n",
    "        y=355,\n",
    "        w=2222 - 1903,\n",
    "        h=905 - 355,\n",
    "        enabled=True,\n",
    "    )\n",
    ")\n",
    "a.addLayerModifer(\n",
    "    Beholder_Layer_Chopper_AtCord(\n",
    "        name=\"Horizon\",\n",
    "        from_layer=\"image\",\n",
    "        x=690,\n",
    "        y=320,\n",
    "        w=1870 - 690,\n",
    "        h=1,\n",
    "        enabled=False,\n",
    "    )\n",
    ")\n",
    "\n",
    "a.addLayerModifer(\n",
    "    Beholder_Layer_Chopper_InRange(\n",
    "        name=\"Horizon Enemy Finder\",\n",
    "        from_layer=\"Horizon\",\n",
    "        lbounds=[3, 0, 0],\n",
    "        ubounds=[13, 248, 255],\n",
    "        enabled=False,\n",
    "    )\n",
    ")\n",
    "\n",
    "a.addLayerModifer(\n",
    "    Beholder_Layer_Chopper_PeakExtractor(\n",
    "        name=\"Horizon Enemy Finder Peaks\",\n",
    "        from_layer=\"Horizon Enemy Finder\",\n",
    "        threshhold=5,\n",
    "        avg_fwd=5,\n",
    "        enabled=False,\n",
    "    )\n",
    ")\n",
    "adb.run_command(\"wait-for-device\")"
   ]
  },
  {
   "cell_type": "code",
   "execution_count": 4,
   "id": "ef097552-2dac-4131-ab47-40f4d15300f0",
   "metadata": {},
   "outputs": [
    {
     "ename": "Exception",
     "evalue": "",
     "output_type": "error",
     "traceback": [
      "\u001b[0;31m---------------------------------------------------------------------------\u001b[0m",
      "\u001b[0;31mException\u001b[0m                                 Traceback (most recent call last)",
      "Input \u001b[0;32mIn [4]\u001b[0m, in \u001b[0;36m<cell line: 1>\u001b[0;34m()\u001b[0m\n\u001b[0;32m----> 1\u001b[0m \u001b[38;5;28;01mraise\u001b[39;00m \u001b[38;5;167;01mException\u001b[39;00m()\n",
      "\u001b[0;31mException\u001b[0m: "
     ]
    }
   ],
   "source": [
    "raise Exception()"
   ]
  },
  {
   "cell_type": "markdown",
   "id": "d5ddee04-cf82-4974-981f-9bb770f3080a",
   "metadata": {
    "jp-MarkdownHeadingCollapsed": true,
    "tags": []
   },
   "source": [
    "# Auto-Repeat smithing\n"
   ]
  },
  {
   "cell_type": "code",
   "execution_count": null,
   "id": "a0398e45-5630-4b84-a9fe-f1b3d344b925",
   "metadata": {},
   "outputs": [],
   "source": [
    "a.matchers = {}\n",
    "a.addMatcher(\n",
    "    Beholder_Image_Matcher(\n",
    "        name=\"Button\",\n",
    "        layer=\"image_gray\",\n",
    "        filename=\"./rs3_templates/ui/Begin_project.png\",\n",
    "        convertToGray=True,\n",
    "    )\n",
    ")\n",
    "a.addMatcher(\n",
    "    Beholder_Image_Matcher(\n",
    "        name=\"UnfinishedSmithing\",\n",
    "        layer=\"inventory\",\n",
    "        filename=\"./rs3_templates/inventory/forge_item.png\",\n",
    "    )\n",
    ")\n",
    "a.addMatcher(\n",
    "    Beholder_Image_Matcher(\n",
    "        name=\"FinishedArrow\",\n",
    "        layer=\"image_gray\",\n",
    "        filename=\"./rs3_templates/ui/FinishedArrow.png\",\n",
    "        convertToGray=True,\n",
    "    )\n",
    ")\n",
    "\n",
    "time_since_heat = time.time()\n",
    "time_smithing = time.time()"
   ]
  },
  {
   "cell_type": "code",
   "execution_count": null,
   "id": "e66993e3-5d18-497e-806c-ccec22f05626",
   "metadata": {},
   "outputs": [],
   "source": [
    "Button_count = 0\n",
    "Anvil_count = 0\n",
    "tts(\"starting autosmith\")\n",
    "while True:\n",
    "    matches = a.findMatches()\n",
    "    if len(matches) > 0:\n",
    "        if \"UnfinishedSmithing\" in matches:\n",
    "            Button_count = 0\n",
    "            Anvil_count = 0\n",
    "            if time.time() - time_since_heat > 30:\n",
    "                adb.run_command(f\"shell input tap 1192 150\")\n",
    "                # tts(\"heat\", volume=0.1)\n",
    "                sleep(5)\n",
    "                adb.run_command(f\"shell input tap 1550 525\")\n",
    "                time_since_heat = time.time()\n",
    "            sleep(7)\n",
    "            continue\n",
    "        if \"FinishedArrow\" in matches:\n",
    "            center = matches[\"FinishedArrow\"][0].center\n",
    "            adb.run_command(f\"shell input tap {center[0]} {center[1]}\")\n",
    "            tts(f\"Completed in {int(time.time()-time_smithing)} seconds\")\n",
    "            time_smithing = time.time()\n",
    "            sleep(1)\n",
    "            continue\n",
    "        if \"Button\" in matches:\n",
    "            if Button_count == 0:\n",
    "                center = matches[\"Button\"][0].center\n",
    "                adb.run_command(f\"shell input tap {center[0]} {center[1]}\")\n",
    "                tts(\"starting item\")\n",
    "                Button_count += 1\n",
    "            elif Button_count > 5:\n",
    "                tts(\"Cannot continue smithing. Possible Out of ores\")\n",
    "                a.layers[\"image\"].show()\n",
    "                break\n",
    "            else:\n",
    "                tts(\"Finished, Please select new item you have 20 seconds\")\n",
    "                time.sleep(20)\n",
    "\n",
    "                center = matches[\"Button\"][0].center\n",
    "                adb.run_command(f\"shell input tap {center[0]} {center[1]}\")\n",
    "                Button_count += 1\n",
    "\n",
    "    else:\n",
    "        if Anvil_count == 0:\n",
    "            adb.run_command(f\"shell input tap 1550 525\")\n",
    "            time_since_heat = 0\n",
    "            Anvil_count += 1\n",
    "        else:\n",
    "            tts(\"Cannot continue smithing. Possible Inventory Scanning Issue\")\n",
    "            a.layers[\"image\"].show()\n",
    "            break\n",
    "    sleep(3.75)\n",
    "tts(\"Cannot Continue\")"
   ]
  },
  {
   "cell_type": "code",
   "execution_count": null,
   "id": "50abb535-561d-4891-9674-b4a85408faa3",
   "metadata": {},
   "outputs": [],
   "source": [
    "tts(\"finish autosmith\")\n",
    "while True:\n",
    "    matches = a.findMatches()\n",
    "    if len(matches) > 0:\n",
    "        if \"UnfinishedSmithing\" not in matches:\n",
    "            break\n",
    "    sleep(3)\n",
    "tts(\"finished\")"
   ]
  },
  {
   "cell_type": "raw",
   "id": "c75a9a44-c65a-478c-ae15-309f7f6c489f",
   "metadata": {},
   "source": [
    "Mith Bolts\n",
    "37.22\n",
    "40.36\n",
    "43.20\n",
    "42.78\n",
    "\n",
    "Addy Bolts\n",
    "56.31\n",
    "48.05\n",
    "44.34\n",
    "\n",
    "Orik Chest Base\n",
    "224.26\n",
    "225.63\n",
    "\n",
    "Orik Chest +1\n",
    "201.15\n",
    "195.45\n",
    "\n",
    "Orik Chest +2\n",
    "464.25\n",
    "381.98\n",
    "254.27\n",
    "\n",
    "Orik Chest Burial\n",
    "150.83\n",
    "156.43\n"
   ]
  },
  {
   "cell_type": "markdown",
   "id": "37f15d77-2500-490e-a14f-dbb3be2b57ec",
   "metadata": {
    "jp-MarkdownHeadingCollapsed": true,
    "tags": []
   },
   "source": [
    "# Auto Smelt Ores"
   ]
  },
  {
   "cell_type": "code",
   "execution_count": 6,
   "id": "6653aa80-18c4-4989-a42c-d22cd0d73938",
   "metadata": {},
   "outputs": [],
   "source": [
    "a.matchers = {}\n",
    "\n",
    "a.addMatcher(\n",
    "    Beholder_Image_Matcher(\n",
    "        name=\"close_btb\",\n",
    "        layer=\"image_gray\",\n",
    "        filename=\"./rs3_templates/ui/crafting_dialog_close_button.png\",\n",
    "        convertToGray=True,\n",
    "    )\n",
    ")\n",
    "a.addMatcher(\n",
    "    Beholder_Image_Matcher(\n",
    "        name=\"Button\",\n",
    "        layer=\"image_gray\",\n",
    "        filename=\"./rs3_templates/ui/Begin_project.png\",\n",
    "        convertToGray=True,\n",
    "    )\n",
    ")"
   ]
  },
  {
   "cell_type": "code",
   "execution_count": 11,
   "id": "cff84165-6b01-478d-ba4c-14b1b2343f6c",
   "metadata": {},
   "outputs": [
    {
     "name": "stdout",
     "output_type": "stream",
     "text": [
      "16:52:10.352192 - tts: starting auto smelt \n",
      "16:52:12.651066 - tts: Fin, 0 Seconds.\n",
      "16:52:21.774805 - tts: Fin, 10 Seconds.\n"
     ]
    },
    {
     "ename": "KeyboardInterrupt",
     "evalue": "",
     "output_type": "error",
     "traceback": [
      "\u001b[0;31m---------------------------------------------------------------------------\u001b[0m",
      "\u001b[0;31mKeyboardInterrupt\u001b[0m                         Traceback (most recent call last)",
      "Input \u001b[0;32mIn [11]\u001b[0m, in \u001b[0;36m<cell line: 4>\u001b[0;34m()\u001b[0m\n\u001b[1;32m     30\u001b[0m         sleep(\u001b[38;5;241m3\u001b[39m)\n\u001b[1;32m     31\u001b[0m         adb\u001b[38;5;241m.\u001b[39mrun_command(\u001b[38;5;124mf\u001b[39m\u001b[38;5;124m\"\u001b[39m\u001b[38;5;124mshell input tap 518 1029\u001b[39m\u001b[38;5;124m\"\u001b[39m)\n\u001b[0;32m---> 32\u001b[0m     \u001b[43msleep\u001b[49m\u001b[43m(\u001b[49m\u001b[38;5;241;43m3\u001b[39;49m\u001b[43m)\u001b[49m\n\u001b[1;32m     33\u001b[0m tts(\u001b[38;5;124m\"\u001b[39m\u001b[38;5;124mFinished\u001b[39m\u001b[38;5;124m\"\u001b[39m)\n",
      "File \u001b[0;32m~/github/Some-Notebooks/Android/Beholder/Libs/Beholder.py:414\u001b[0m, in \u001b[0;36msleep\u001b[0;34m(num, print_time)\u001b[0m\n\u001b[1;32m    412\u001b[0m \u001b[38;5;28;01mif\u001b[39;00m num \u001b[38;5;241m<\u001b[39m\u001b[38;5;241m0\u001b[39m:\n\u001b[1;32m    413\u001b[0m     num \u001b[38;5;241m=\u001b[39m \u001b[38;5;241m0.1\u001b[39m\n\u001b[0;32m--> 414\u001b[0m \u001b[43mtime\u001b[49m\u001b[38;5;241;43m.\u001b[39;49m\u001b[43msleep\u001b[49m\u001b[43m(\u001b[49m\u001b[43mnum\u001b[49m\u001b[43m)\u001b[49m\n",
      "\u001b[0;31mKeyboardInterrupt\u001b[0m: "
     ]
    }
   ],
   "source": [
    "tts(\"starting auto smelt \")\n",
    "s = time.time()\n",
    "Button_count = 0\n",
    "while True:\n",
    "    matches = a.findMatches()\n",
    "    if len(matches) > 0:\n",
    "        if \"close_btb\" in matches:\n",
    "            Button_count = 0\n",
    "            sleep(5)\n",
    "            continue\n",
    "        else:\n",
    "            if \"Button\" in matches:\n",
    "                if Button_count == 0:\n",
    "                    center = matches[\"Button\"][0].center\n",
    "                    adb.run_command(f\"shell input tap {center[0]} {center[1]}\")\n",
    "                    Button_count += 1\n",
    "                    s = time.time()\n",
    "                if Button_count == 2:\n",
    "                    tts(\"Out of Ore Please select new ore type\")\n",
    "                    a.layers[\"image\"].show()\n",
    "                    sleep(15)\n",
    "                if Button_count == 3:\n",
    "                    break\n",
    "                else:\n",
    "                    adb.run_command(f\"shell input tap 518 1029\")\n",
    "                    Button_count += 1\n",
    "    else:\n",
    "        tts(f\"Fin, {int(time.time()-s)} Seconds.\")\n",
    "        adb.run_command(f\"shell input tap 1150 780\")\n",
    "        sleep(3)\n",
    "        adb.run_command(f\"shell input tap 518 1029\")\n",
    "    sleep(3)\n",
    "tts(\"Finished\")"
   ]
  },
  {
   "cell_type": "markdown",
   "id": "406d905f-7dc9-4595-8a55-f534b2e5ddfd",
   "metadata": {
    "jp-MarkdownHeadingCollapsed": true,
    "tags": []
   },
   "source": [
    "# Bolt Featherer\n"
   ]
  },
  {
   "cell_type": "code",
   "execution_count": null,
   "id": "9ae7d8c9-97df-43cb-ab64-ae0e4a504a2f",
   "metadata": {},
   "outputs": [],
   "source": [
    "a.matchers = {}\n",
    "a.addMatcher(\n",
    "    Beholder_Image_Matcher(\n",
    "        name=\"bolts\",\n",
    "        layer=\"gray\",\n",
    "        filename=\"./templates/inventory/addy_bolts.png\",\n",
    "        convertToGray=True,\n",
    "    )\n",
    ")\n",
    "a.addMatcher(\n",
    "    Beholder_Image_Matcher(\n",
    "        name=\"fletch\",\n",
    "        layer=\"gray\",\n",
    "        filename=\"./templates/ui/fletch.png\",\n",
    "        convertToGray=True,\n",
    "    )\n",
    ")\n",
    "a.addMatcher(\n",
    "    Beholder_Image_Matcher(\n",
    "        name=\"close_btb\",\n",
    "        layer=\"gray\",\n",
    "        filename=\"./templates/ui/crafting_dialog_close_button.png\",\n",
    "        convertToGray=True,\n",
    "    )\n",
    ")\n",
    "\n",
    "in_menu = False\n",
    "while True:\n",
    "    matches = a.findMatches()\n",
    "    if len(matches) > 0:\n",
    "        if \"close_btb\" in matches:\n",
    "            print(\"Currently Crafting\")\n",
    "            sleep(2)\n",
    "            continue\n",
    "        if in_menu:\n",
    "            if \"fletch\" in matches:\n",
    "                center = matches[\"fletch\"][0].center\n",
    "                adb(f\"shell input tap {center[0]} {center[1]}\")\n",
    "                in_menu = False\n",
    "        else:\n",
    "            if \"bolts\" in matches:\n",
    "                center = matches[\"bolts\"][0].center\n",
    "                adb(f\"shell input tap {center[0]} {center[1]}\")\n",
    "                in_menu = True\n",
    "    else:\n",
    "        break\n",
    "    sleep(2)\n",
    "tts(\"Cannot Continue\")\n",
    "\n",
    "a.layers[\"image\"].show()"
   ]
  },
  {
   "cell_type": "markdown",
   "id": "f862e728-bba9-4b0c-9ef5-42dd9590ac5a",
   "metadata": {
    "tags": []
   },
   "source": [
    "# Mine and store in OreChest/NotePaper/Mining Stamina"
   ]
  },
  {
   "cell_type": "code",
   "execution_count": 12,
   "id": "37578f71-ccff-4997-9437-c6c38b117a03",
   "metadata": {},
   "outputs": [],
   "source": [
    "a.matchers = {}\n",
    "a.addMatcher(\n",
    "    Beholder_Image_Matcher(\n",
    "        name=\"paper\",\n",
    "        layer=\"image_gray\",\n",
    "        filename=\"./rs3_templates/inventory/notepaper.png\",\n",
    "    )\n",
    ")\n",
    "a.addMatcher(\n",
    "    Beholder_Image_Matcher(\n",
    "        name=\"ore\",\n",
    "        layer=\"image_gray\",\n",
    "        filename=\"./rs3_templates/inventory/ore/rune.png\",\n",
    "    )\n",
    ")\n",
    "a.addMatcher(\n",
    "    Beholder_Image_Matcher(\n",
    "        name=\"orebox\", layer=\"image_gray\", filename=\"./rs3_templates/inventory/box2.png\"\n",
    "    )\n",
    ")\n",
    "\n",
    "s = time.time()\n",
    "ore_box_full = False\n",
    "start_mining = 0\n",
    "total_mined = 0\n",
    "mine_at_least = 500\n",
    "previous_ore_count = 0\n",
    "log_ores = True\n",
    "log_resets = True\n",
    "say_method = False\n",
    "reset_mining_timeout = 15"
   ]
  },
  {
   "cell_type": "code",
   "execution_count": null,
   "id": "473506c9-e13a-49bf-8a85-f446c4be5db4",
   "metadata": {
    "tags": []
   },
   "outputs": [
    {
     "name": "stdout",
     "output_type": "stream",
     "text": [
      "16:52:40.906720 - tts: starting AutoMiner\n",
      "reset mining\n",
      "6 ores in inventory\n",
      "reset mining\n",
      "8 ores in inventory\n",
      "reset mining\n",
      "10 ores in inventory\n",
      "16:53:27.172899 - tts: took 46 seconds, 10 Total\n",
      "reset mining\n",
      "2 ores in inventory\n",
      "reset mining\n",
      "4 ores in inventory\n",
      "reset mining\n",
      "6 ores in inventory\n",
      "reset mining\n",
      "8 ores in inventory\n",
      "reset mining\n",
      "10 ores in inventory\n",
      "16:55:04.114070 - tts: took 94 seconds, 20 Total\n",
      "reset mining\n",
      "2 ores in inventory\n",
      "reset mining\n",
      "4 ores in inventory\n",
      "reset mining\n",
      "6 ores in inventory\n",
      "reset mining\n",
      "8 ores in inventory\n",
      "10 ores in inventory\n",
      "16:56:27.987408 - tts: took 81 seconds, 30 Total\n",
      "reset mining\n",
      "reset mining\n",
      "2 ores in inventory\n",
      "reset mining\n",
      "5 ores in inventory\n",
      "reset mining\n",
      "7 ores in inventory\n",
      "reset mining\n",
      "9 ores in inventory\n"
     ]
    }
   ],
   "source": [
    "if total_mined > 0:\n",
    "    tts(f\"resuming AutoMiner {total_mined} out of {mine_at_least}\")\n",
    "else:\n",
    "    tts(\"starting AutoMiner\")\n",
    "while True:\n",
    "    if time.time() - start_mining >= reset_mining_timeout:\n",
    "        if log_resets:\n",
    "            print(\"reset mining\")\n",
    "        adb.run_command(f\"shell input tap 1215 830\")\n",
    "        start_mining = time.time()\n",
    "    matches = a.findMatches()\n",
    "    if len(matches.keys()) > 0:\n",
    "        if \"ore\" in matches:\n",
    "            if log_ores:\n",
    "                if previous_ore_count != len(matches[\"ore\"]):\n",
    "                    print(f\"{len(matches['ore'])} ores in inventory\")\n",
    "                    previous_ore_count = len(matches[\"ore\"])\n",
    "            if len(matches[\"ore\"]) >= 10:\n",
    "                total_mined += len(matches[\"ore\"])\n",
    "                tts(f\"took {int(time.time() - s)} seconds, {total_mined} Total\")\n",
    "                s = time.time()\n",
    "\n",
    "                if mine_at_least < total_mined:\n",
    "                    tts(f\"finished aquiring {mine_at_least} ore\")\n",
    "                    break\n",
    "                if not ore_box_full:\n",
    "                    if \"orebox\" in matches:\n",
    "                        if say_method:\n",
    "                            tts(\"oreboxing\")\n",
    "                        center = matches[\"orebox\"][0].center\n",
    "                        adb.run_command(f\"shell input tap {center[0]} {center[1]}\")\n",
    "                        time.sleep(1)\n",
    "                        matches = a.findMatches()\n",
    "                        if \"ore\" in matches.keys():\n",
    "                            ore_box_full = True\n",
    "                            tts(\"orebox is full, starting to use paper\")\n",
    "\n",
    "                        else:\n",
    "                            start_mining = 0\n",
    "                            continue\n",
    "\n",
    "                if \"ore\" in matches and len(matches[\"ore\"]) > 1:\n",
    "                    if say_method:\n",
    "                        tts(\"papering\")\n",
    "                    center = matches[\"ore\"][0].center\n",
    "                    adb.run_command(f\"shell input tap {center[0]} {center[1]}\")\n",
    "                    time.sleep(0.5)\n",
    "                    if \"paper\" in matches:\n",
    "                        center = matches[\"paper\"][0].center\n",
    "                        adb.run_command(f\"shell input tap {center[0]} {center[1]}\")\n",
    "                        start_mining = 0\n",
    "                        time.sleep(2)\n",
    "                    else:\n",
    "                        tts(\"no more paper\")\n",
    "                        break\n",
    "\n",
    "    if start_mining != 0:\n",
    "        sleep(10)\n",
    "\n",
    "tts(\"Exiting\")\n",
    "\n",
    "a.layers[\"inventory\"].show()"
   ]
  },
  {
   "cell_type": "markdown",
   "id": "76cebd10-c060-4d9c-8aef-11270e1b141b",
   "metadata": {
    "jp-MarkdownHeadingCollapsed": true,
    "tags": []
   },
   "source": [
    "# Scareb gather - wip"
   ]
  },
  {
   "cell_type": "code",
   "execution_count": null,
   "id": "d9bf3ae6-dcd9-4721-bcc2-e71a5ec06558",
   "metadata": {},
   "outputs": [],
   "source": [
    "a.matchers = {}\n",
    "for i in range(0, 5):\n",
    "    print(i)\n",
    "    a.addMatcher(\n",
    "        Beholder_Image_Matcher(\n",
    "            name=\"bug\",\n",
    "            layer=\"gray\",\n",
    "            filename=f\"./rs3_templates/bug{i}.png\",\n",
    "            convertToGray=True,\n",
    "            threshhold=0.9,\n",
    "        )\n",
    "    )\n",
    "while True:\n",
    "    matches = a.findMatches()\n",
    "    if len(matches) > 0:\n",
    "        print(matches)\n",
    "    print(\".\")\n",
    "tts(\"Cannot Continue\")"
   ]
  },
  {
   "cell_type": "markdown",
   "id": "f33d8d57-403b-4805-a6a2-d87b8d172d58",
   "metadata": {
    "jp-MarkdownHeadingCollapsed": true,
    "tags": []
   },
   "source": [
    "# Enemy Attacker"
   ]
  },
  {
   "cell_type": "code",
   "execution_count": null,
   "id": "96b1cb41-ffbb-4a73-ae7e-4a84a32f07eb",
   "metadata": {},
   "outputs": [],
   "source": [
    "a.layer_modifiers[\"Horizon\"].enabled = True\n",
    "a.layer_modifiers[\"Horizon Enemy Finder\"].enabled = True\n",
    "a.layer_modifiers[\"Horizon Enemy Finder Peaks\"].enabled = True"
   ]
  },
  {
   "cell_type": "code",
   "execution_count": null,
   "id": "f8bb2320-2bfb-4df0-8ea7-58334c6cf3a8",
   "metadata": {},
   "outputs": [],
   "source": [
    "while True:\n",
    "    a.readNextImage()\n",
    "    a.digestImage()\n",
    "    item = max(a.layers[\"Horizon Enemy Finder Peaks\"], key=lambda e: e[1] - e[0])\n",
    "    print(item)\n",
    "    center = (int(item[1] / 2 + item[0] / 2), 360)\n",
    "    print(center)\n",
    "    adb(f\"shell input tap {center[0]} {center[1]}\")\n",
    "    sleep(5)"
   ]
  },
  {
   "cell_type": "code",
   "execution_count": null,
   "id": "46c3a6fd-6e58-4f56-94bf-0ed93097df40",
   "metadata": {},
   "outputs": [],
   "source": []
  },
  {
   "cell_type": "code",
   "execution_count": null,
   "id": "d96fc3e2-0ea4-4aaf-a55a-227a77c50d3d",
   "metadata": {},
   "outputs": [],
   "source": []
  },
  {
   "cell_type": "code",
   "execution_count": null,
   "id": "59c5748f-8707-4f9b-9814-09c30dd7fcb7",
   "metadata": {},
   "outputs": [],
   "source": [
    "a.layers"
   ]
  },
  {
   "cell_type": "markdown",
   "id": "372fdfa5-7dff-4c5e-8ce2-968854e3d9c4",
   "metadata": {
    "jp-MarkdownHeadingCollapsed": true,
    "tags": []
   },
   "source": [
    "# Trout Fisher"
   ]
  },
  {
   "cell_type": "code",
   "execution_count": null,
   "id": "57420246-f32a-4fef-9dd4-6d947bf771a3",
   "metadata": {},
   "outputs": [],
   "source": [
    "a.matchers = {}\n",
    "\n",
    "\n",
    "a.addMatcher(\n",
    "    Beholder_Image_Matcher(\n",
    "        name=\"fish\",\n",
    "        layer=\"inventory\",\n",
    "        filename=\"./rs3_templates/fishing/fish.png\",\n",
    "        convertToGray=True,\n",
    "        threshhold=0.95,\n",
    "    )\n",
    ")\n",
    "a.addMatcher(\n",
    "    Beholder_Image_Matcher(\n",
    "        name=\"button\",\n",
    "        layer=\"image_gray\",\n",
    "        filename=\"./rs3_templates/ui/Next.png\",\n",
    "        convertToGray=True,\n",
    "    )\n",
    ")\n",
    "a.addMatcher(\n",
    "    Beholder_Image_Matcher(\n",
    "        name=\"paper\",\n",
    "        layer=\"inventory\",\n",
    "        filename=\"./rs3_templates/inventory/notepaper.png\",\n",
    "        convertToGray=True,\n",
    "    )\n",
    ")\n",
    "paper_time = time.time()\n",
    "paper_time_timeout = 30\n",
    "fishing_started = time.time()\n",
    "storage_mode = False\n",
    "matches = a.findMatches()\n",
    "print({x: len(matches[x]) for x in matches.keys()})"
   ]
  },
  {
   "cell_type": "code",
   "execution_count": null,
   "id": "cf6ca8a0-86b9-4557-954e-e93df4fb00f6",
   "metadata": {},
   "outputs": [],
   "source": [
    "while True:\n",
    "    matches = a.findMatches()\n",
    "    print({x: len(matches[x]) for x in matches.keys()})\n",
    "    if not storage_mode:\n",
    "        if \"button\" in matches:\n",
    "            center = matches[\"button\"][0].center\n",
    "            adb.run_command(f\"shell input tap {center[0]} {center[1]}\")\n",
    "            tts(f\"Completed in {int(time.time()-fishing_started)} seconds\")\n",
    "            fishing_started = time.time()\n",
    "            print(\"start storage\")\n",
    "            storage_mode = True\n",
    "        else:\n",
    "            sleep(10)\n",
    "    else:\n",
    "        persist = False\n",
    "        if \"paper\" not in matches:\n",
    "            tts(\"No paper\")\n",
    "            break\n",
    "        for _ in range(4):\n",
    "            if \"fish\" in matches:\n",
    "                print(\"storeing paper\")\n",
    "                center = matches[\"paper\"][0].center\n",
    "                adb.run_command(f\"shell input tap {center[0]} {center[1]}\")\n",
    "                time.sleep(1)\n",
    "                center = matches[\"fish\"][0].center\n",
    "                adb.run_command(f\"shell input tap {center[0]} {center[1]}\")\n",
    "                print({x: len(matches[x]) for x in matches.keys()})\n",
    "                time.sleep(1)\n",
    "                matches = a.findMatches()\n",
    "            storage_mode = False\n",
    "        time.sleep(0.7)\n",
    "        adb.run_command(f\"shell input tap 1150 780\")\n",
    "        time.sleep(0.7)"
   ]
  },
  {
   "cell_type": "markdown",
   "id": "56dfb4e0-07d4-4364-8d2a-8203a68a8b51",
   "metadata": {
    "jp-MarkdownHeadingCollapsed": true,
    "tags": []
   },
   "source": [
    "# Tree Cutter"
   ]
  },
  {
   "cell_type": "code",
   "execution_count": null,
   "id": "75847edf-c7f0-4148-a5b0-5c32936514a8",
   "metadata": {
    "tags": []
   },
   "outputs": [],
   "source": [
    "a.matchers = {}\n",
    "a.addMatcher(\n",
    "    Beholder_Image_Matcher(\n",
    "        name=\"paper\",\n",
    "        layer=\"inventory\",\n",
    "        filename=\"./rs3_templates/inventory/notepaper.png\",\n",
    "        convertToGray=True,\n",
    "    )\n",
    ")\n",
    "a.addMatcher(\n",
    "    Beholder_Image_Matcher(\n",
    "        name=\"logs\",\n",
    "        layer=\"inventory\",\n",
    "        filename=\"./rs3_templates/inventory/logs/Achey.png\",\n",
    "        convertToGray=True,\n",
    "    )\n",
    ")\n",
    "tree_locations = {\n",
    "    \"up\": False,\n",
    "    \"right\": False,\n",
    "    \"down\": False,\n",
    "    \"left\": True,\n",
    "}\n",
    "click_loc_pos = {\n",
    "    \"up\": \"1192 150\",\n",
    "    \"right\": \"1550 525\",\n",
    "    \"down\": \"1192 830\",\n",
    "    \"left\": \"755 525\",\n",
    "}\n",
    "tree_regrow_timer = 3\n",
    "start_loggin = time.time()"
   ]
  },
  {
   "cell_type": "code",
   "execution_count": null,
   "id": "06991bf6-07e9-401e-b373-c642b37ebae7",
   "metadata": {
    "tags": []
   },
   "outputs": [],
   "source": [
    "tree_regrow_timer_each = tree_regrow_timer / sum(\n",
    "    [1 if tree_locations[a] else 0 for a in tree_locations]\n",
    ")\n",
    "tree_regrow_timer_each"
   ]
  },
  {
   "cell_type": "code",
   "execution_count": null,
   "id": "803b9a98-b929-4706-a67f-17c423054d4a",
   "metadata": {
    "tags": []
   },
   "outputs": [],
   "source": [
    "while True:\n",
    "    for loc in [\"up\", \"right\", \"down\", \"left\"]:\n",
    "        if tree_locations[loc]:\n",
    "            adb.run_command(f\"shell input tap {click_loc_pos[loc]}\")\n",
    "            sleep(tree_regrow_timer_each)\n",
    "    matches = a.findMatches()\n",
    "    if \"logs\" in matches:\n",
    "        if len(matches[\"logs\"]) >= 10:\n",
    "            tts(f\"cten {int(time.time()-start_loggin)}\")\n",
    "            start_loggin = time.time()\n",
    "            center = matches[\"paper\"][0].center\n",
    "            adb.run_command(f\"shell input tap {center[0]} {center[1]}\")\n",
    "            time.sleep(1)\n",
    "            center = matches[\"logs\"][0].center\n",
    "            adb.run_command(f\"shell input tap {center[0]} {center[1]}\")\n",
    "    sleep(2)"
   ]
  },
  {
   "cell_type": "markdown",
   "id": "24cbca47-db40-4309-b6c7-19880acff864",
   "metadata": {
    "jp-MarkdownHeadingCollapsed": true,
    "tags": []
   },
   "source": [
    "# repeat crafting"
   ]
  },
  {
   "cell_type": "code",
   "execution_count": null,
   "id": "48d4a683-4910-4843-ac89-0780ac8cd008",
   "metadata": {},
   "outputs": [],
   "source": [
    "a.matchers = {}\n",
    "a.addMatcher(\n",
    "    Beholder_Image_Matcher(\n",
    "        name=\"close_btb\",\n",
    "        layer=\"image_gray\",\n",
    "        filename=\"./rs3_templates/ui/crafting_dialog_close_button2.png\",\n",
    "    )\n",
    ")\n",
    "start = time.time()\n",
    "in_menu = False\n",
    "auto_reset_timer = 180\n",
    "min_cutoff_kill_timeout = 8"
   ]
  },
  {
   "cell_type": "code",
   "execution_count": null,
   "id": "5b679f76-803c-4b2b-a3ee-a252acd4f52d",
   "metadata": {},
   "outputs": [],
   "source": [
    "while True:\n",
    "    matches = a.findMatches()\n",
    "    if (\n",
    "        \"close_btb\" in matches\n",
    "        and not in_menu\n",
    "        and not time.time() - start > auto_reset_timer\n",
    "    ):\n",
    "        print(f\"Currently Processsing { time.time() - start}\")\n",
    "        sleep(5)\n",
    "        continue\n",
    "    else:\n",
    "        if in_menu:\n",
    "            adb.run_command(f\"shell input tap 1560 977\")\n",
    "            in_menu = False\n",
    "            sleep(2.5)\n",
    "        else:\n",
    "            adb.run_command(f\"shell input tap 1936 386\")\n",
    "            start = time.time()\n",
    "            in_menu = True\n",
    "            sleep(0.5)\n",
    "tts(\"Cannot Continue\")\n",
    "\n",
    "a.layers[\"image\"].show()"
   ]
  },
  {
   "cell_type": "markdown",
   "id": "6ceeb6b2-b87c-484f-903c-eeccb90fb17f",
   "metadata": {
    "jp-MarkdownHeadingCollapsed": true,
    "tags": []
   },
   "source": [
    "# Directional Clicker"
   ]
  },
  {
   "cell_type": "code",
   "execution_count": null,
   "id": "0662db3c-776a-492d-a37a-341b230fc436",
   "metadata": {},
   "outputs": [],
   "source": [
    "tree_locations = {\n",
    "    \"up\": False,\n",
    "    \"right\": True,\n",
    "    \"down\": False,\n",
    "    \"left\": True,\n",
    "}\n",
    "click_loc_pos = {\n",
    "    \"up\": \"1192 150\",\n",
    "    \"right\": \"1550 525\",\n",
    "    \"down\": \"1192 830\",\n",
    "    \"left\": \"755 525\",\n",
    "}\n",
    "click_delay = 5\n",
    "while True:\n",
    "    for loc in [\"up\", \"right\", \"down\", \"left\"]:\n",
    "        if tree_locations[loc]:\n",
    "            adb.run_command(f\"shell input tap {click_loc_pos[loc]}\")\n",
    "            sleep(click_delay)"
   ]
  },
  {
   "cell_type": "markdown",
   "id": "cabbe76e-a606-4855-8a54-2754d73eb003",
   "metadata": {},
   "source": [
    "# Random Stuff"
   ]
  },
  {
   "cell_type": "code",
   "execution_count": null,
   "id": "1342e9c1-e02f-4709-a748-33ba4409b8c1",
   "metadata": {},
   "outputs": [],
   "source": [
    "s = time.time()"
   ]
  },
  {
   "cell_type": "code",
   "execution_count": null,
   "id": "fc0daa57-bd65-40d6-85f6-e54fdc4bacb2",
   "metadata": {},
   "outputs": [],
   "source": [
    "time.time() - s"
   ]
  },
  {
   "cell_type": "markdown",
   "id": "b172f295-2e0a-4f77-badf-454cce886859",
   "metadata": {
    "tags": []
   },
   "source": [
    "# Other Stuff"
   ]
  },
  {
   "cell_type": "code",
   "execution_count": null,
   "id": "3fa6c2c0-650c-4338-b852-ddbdc1603fff",
   "metadata": {},
   "outputs": [],
   "source": [
    "time.time() - s"
   ]
  },
  {
   "cell_type": "code",
   "execution_count": null,
   "id": "51f104fb-a98f-458b-aed7-460f1a29e672",
   "metadata": {},
   "outputs": [],
   "source": [
    "447 / 20"
   ]
  },
  {
   "cell_type": "raw",
   "id": "38b330f1-6317-4bc2-a177-b33f66aa0ce8",
   "metadata": {},
   "source": [
    "10 drakocite ore with spirits\n",
    "121.57\n",
    "109.79\n",
    "133.09\n",
    "121.44"
   ]
  },
  {
   "cell_type": "raw",
   "id": "3ec135eb-5770-4402-bdf2-be9d02755470",
   "metadata": {},
   "source": [
    "10 oricahalcite ore \n",
    "223.00 \n",
    "220.85\n",
    "\n",
    "10 oricahalcite with spirits \n",
    "105.44\n",
    "106.17\n",
    "118.04\n",
    "128.71"
   ]
  },
  {
   "cell_type": "code",
   "execution_count": null,
   "id": "78f1b45b-0560-4592-9901-b9b39fc495ce",
   "metadata": {},
   "outputs": [],
   "source": [
    "tts(\"Cannot Continue\")"
   ]
  },
  {
   "cell_type": "raw",
   "id": "7366700a-9923-4b47-acd9-4af435045812",
   "metadata": {},
   "source": [
    "10 rune ore         = 103.64 seconds"
   ]
  },
  {
   "cell_type": "raw",
   "id": "6184c1a8-2c39-4ab3-b0cd-a9cb3a5ae606",
   "metadata": {},
   "source": [
    "10 coal ore         = 47.87 Seconds"
   ]
  },
  {
   "cell_type": "code",
   "execution_count": null,
   "id": "f2fd9b62-8cef-4342-97ad-fd9c2d7bc6d2",
   "metadata": {},
   "outputs": [],
   "source": [
    "a.layers"
   ]
  },
  {
   "cell_type": "code",
   "execution_count": null,
   "id": "5c5de991-5e25-47bf-b61f-802cf04e4e93",
   "metadata": {},
   "outputs": [],
   "source": [
    "a.layer_modifiers[\"Horizon\"].enabled = True\n",
    "a.layer_modifiers[\"Horizon Enemy Finder\"].enabled = True"
   ]
  },
  {
   "cell_type": "code",
   "execution_count": null,
   "id": "eba5d7aa-ceb5-4e25-bcb4-9b39e786965e",
   "metadata": {},
   "outputs": [],
   "source": [
    "target_color = (143, 4, 13)\n",
    "tolarance = 75\n",
    "\n",
    "target_info_cords = (460, 546)\n",
    "target_info_color = (17, 42, 50)"
   ]
  },
  {
   "cell_type": "code",
   "execution_count": null,
   "id": "986b3c9d-180d-46d7-8e3f-868044647fff",
   "metadata": {},
   "outputs": [],
   "source": []
  },
  {
   "cell_type": "code",
   "execution_count": null,
   "id": "c2a6a57a-23b3-4884-8774-65fa6354acf2",
   "metadata": {},
   "outputs": [],
   "source": []
  },
  {
   "cell_type": "code",
   "execution_count": null,
   "id": "a625904e-dd39-4d4f-a4b2-f13860b6deb8",
   "metadata": {},
   "outputs": [],
   "source": [
    "a.layers[\"Horizon Enemy Finder\"].show()"
   ]
  },
  {
   "cell_type": "code",
   "execution_count": null,
   "id": "953d25e1-3a71-4765-b6f7-322586f2e86f",
   "metadata": {},
   "outputs": [],
   "source": [
    "a.layers[\"Horizon Enemy Finder\"].show()"
   ]
  },
  {
   "cell_type": "code",
   "execution_count": null,
   "id": "91deb48e-6bab-48f9-b033-6533b46cb016",
   "metadata": {},
   "outputs": [],
   "source": [
    "for item in a.matchers:\n",
    "    print(item.name, item.data.shape)"
   ]
  },
  {
   "cell_type": "code",
   "execution_count": null,
   "id": "3a95a2e7-d30a-4f0e-b494-14e05082f072",
   "metadata": {},
   "outputs": [],
   "source": [
    "matches = a.findMatches()\n",
    "print({x: len(matches[x]) for x in matches.keys()})"
   ]
  },
  {
   "cell_type": "code",
   "execution_count": null,
   "id": "f7a899cd-ad1b-46b0-993e-26aef28d6096",
   "metadata": {},
   "outputs": [],
   "source": [
    "matches[\"Salmon\"][0].show(a)"
   ]
  },
  {
   "cell_type": "code",
   "execution_count": null,
   "id": "9bbc537e-4b88-48b2-8de9-8e7ed649ebea",
   "metadata": {},
   "outputs": [],
   "source": []
  },
  {
   "cell_type": "code",
   "execution_count": null,
   "id": "7b0a87f6-0985-4b3a-beed-30ba559a17cb",
   "metadata": {},
   "outputs": [],
   "source": [
    "a.layers[\"gray\"].data.shape"
   ]
  },
  {
   "cell_type": "code",
   "execution_count": null,
   "id": "6abf2ae1-42f0-49db-9c31-a1c4d2f1679f",
   "metadata": {},
   "outputs": [],
   "source": []
  },
  {
   "cell_type": "code",
   "execution_count": null,
   "id": "cbe571c6-fdfb-462a-b5d1-635096ddecfc",
   "metadata": {},
   "outputs": [],
   "source": []
  },
  {
   "cell_type": "code",
   "execution_count": null,
   "id": "457ab48e-f7d0-466c-aced-61f0562a840e",
   "metadata": {},
   "outputs": [],
   "source": []
  },
  {
   "cell_type": "raw",
   "id": "b77a02c8-c121-4951-9498-333320d8f861",
   "metadata": {},
   "source": []
  },
  {
   "cell_type": "code",
   "execution_count": null,
   "id": "7f617d9d-27ce-4804-8198-bc7f30284f54",
   "metadata": {},
   "outputs": [],
   "source": []
  }
 ],
 "metadata": {
  "autoscrollcelloutput": true,
  "kernelspec": {
   "display_name": "Python 3 (ipykernel)",
   "language": "python",
   "name": "python3"
  },
  "language_info": {
   "codemirror_mode": {
    "name": "ipython",
    "version": 3
   },
   "file_extension": ".py",
   "mimetype": "text/x-python",
   "name": "python",
   "nbconvert_exporter": "python",
   "pygments_lexer": "ipython3",
   "version": "3.10.4"
  },
  "scenes_data": {
   "active_scene": "Default Scene",
   "init_scene": "",
   "scenes": [
    "Default Scene"
   ]
  },
  "widgets": {
   "application/vnd.jupyter.widget-state+json": {
    "state": {},
    "version_major": 2,
    "version_minor": 0
   }
  }
 },
 "nbformat": 4,
 "nbformat_minor": 5
}
