{
 "cells": [
  {
   "cell_type": "code",
   "execution_count": null,
   "id": "1c700de3-877b-4927-8738-58c220f5565c",
   "metadata": {},
   "outputs": [],
   "source": [
    "# Importing the modules\n",
    "import cv2\n",
    "import numpy\n",
    "from IPython.display import clear_output, display\n",
    "from PIL import Image"
   ]
  },
  {
   "cell_type": "code",
   "execution_count": null,
   "id": "d8d017d7-6844-4e93-81ce-5322b398f5b3",
   "metadata": {},
   "outputs": [],
   "source": [
    "img = cv2.imread(\"game.png\")"
   ]
  },
  {
   "cell_type": "code",
   "execution_count": null,
   "id": "71b43e00-2865-4478-ae2d-3dbe7f9a217b",
   "metadata": {},
   "outputs": [],
   "source": [
    "r = cv2.selectROI(\"select the area\", img)\n",
    "r"
   ]
  }
 ],
 "metadata": {
  "kernelspec": {
   "display_name": "Python 3 (ipykernel)",
   "language": "python",
   "name": "python3"
  },
  "language_info": {
   "codemirror_mode": {
    "name": "ipython",
    "version": 3
   },
   "file_extension": ".py",
   "mimetype": "text/x-python",
   "name": "python",
   "nbconvert_exporter": "python",
   "pygments_lexer": "ipython3",
   "version": "3.10.4"
  },
  "scenes_data": {
   "active_scene": "Default Scene",
   "init_scene": "",
   "scenes": [
    "Default Scene"
   ]
  },
  "widgets": {
   "application/vnd.jupyter.widget-state+json": {
    "state": {},
    "version_major": 2,
    "version_minor": 0
   }
  }
 },
 "nbformat": 4,
 "nbformat_minor": 5
}
