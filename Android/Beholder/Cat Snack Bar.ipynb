{
 "cells": [
  {
   "cell_type": "code",
   "execution_count": 2,
   "id": "fa3294d8-6d35-406a-a757-713bcef0cf3e",
   "metadata": {
    "tags": []
   },
   "outputs": [],
   "source": [
    "import time\n",
    "import random\n",
    "import Libs.Adb as adb\n",
    "from Libs.Beholder import *\n",
    "from Libs.StateMachine import StateMachine"
   ]
  },
  {
   "cell_type": "code",
   "execution_count": 3,
   "id": "f3d63a37-72ef-458e-9679-dc0b6cbfe370",
   "metadata": {
    "tags": []
   },
   "outputs": [
    {
     "data": {
      "text/plain": [
       "[]"
      ]
     },
     "execution_count": 3,
     "metadata": {},
     "output_type": "execute_result"
    }
   ],
   "source": [
    "gen = adb.ImageSource()\n",
    "touch = adb.Toucher(gen)\n",
    "a = Beholder(ImageSource=gen, toucher=touch)\n",
    "\n",
    "a.addLayerModifer(Beholder_Layer_Chopper_Grayscale(from_layer=\"image\", enabled=True))\n",
    "a.addLayerModifer(\n",
    "    Beholder_Layer_Chopper_AtCord(\n",
    "        name=\"game_area\",\n",
    "        from_layer=\"image_gray\",\n",
    "        x=0,\n",
    "        y=672,\n",
    "        w=1060,\n",
    "        h=2186-672,\n",
    "        enabled=True,\n",
    "    )\n",
    ")\n",
    "a.addLayerModifer(\n",
    "    Beholder_Layer_Chopper_AtCord(\n",
    "        name=\"ad_btn_area\",\n",
    "        from_layer=\"image_gray\",\n",
    "        x=0,\n",
    "        y=0,\n",
    "        w=1050,\n",
    "        h=220,\n",
    "        enabled=True,\n",
    "    )\n",
    ")\n",
    "adb.run_command(\"wait-for-device\")"
   ]
  },
  {
   "cell_type": "code",
   "execution_count": 4,
   "id": "ea82afc9-80fc-4ab0-a008-5ad34c53eebc",
   "metadata": {
    "tags": []
   },
   "outputs": [],
   "source": [
    "a.addMatcher(\n",
    "    Beholder_Image_Matcher(\n",
    "        name=\"upgrade\",\n",
    "        layer=\"game_area\",\n",
    "        filename=\"./cat_snack_bar_templates/upgrade_arrow2.png\",\n",
    "        threshhold=0.8,\n",
    "        convertToGray=True,\n",
    "    )\n",
    ")\n",
    "a.addMatcher(\n",
    "    Beholder_Image_Matcher(\n",
    "        name=\"catcoin\",\n",
    "        layer=\"game_area\",\n",
    "        filename=\"./cat_snack_bar_templates/catcoin.png\",\n",
    "        threshhold=0.8,\n",
    "        convertToGray=True,\n",
    "    )\n",
    ")\n",
    "a.addMatcher(\n",
    "    Beholder_Image_Matcher(\n",
    "        name=\"ecoin\",\n",
    "        layer=\"game_area\",\n",
    "        filename=\"./cat_snack_bar_templates/ecoin.png\",\n",
    "        threshhold=0.8,\n",
    "        convertToGray=True,\n",
    "    )\n",
    ")\n",
    "a.addMatcher(\n",
    "    Beholder_Image_Matcher(\n",
    "        name=\"offline_revenue\",\n",
    "        layer=\"game_area\",\n",
    "        filename=\"./cat_snack_bar_templates/offline_revenue.png\",\n",
    "        threshhold=0.8,\n",
    "        convertToGray=True,\n",
    "    )\n",
    ")"
   ]
  },
  {
   "cell_type": "code",
   "execution_count": 5,
   "id": "8e5b8f9d-5478-45b7-841d-f2fc3fd3e529",
   "metadata": {
    "tags": []
   },
   "outputs": [],
   "source": [
    "a.addMatcher(\n",
    "    Beholder_Image_Matcher(\n",
    "        name=\"get_ad\",\n",
    "        layer=\"image_gray\",\n",
    "        filename=\"./cat_snack_bar_templates/get_ad.png\",\n",
    "        threshhold=0.8,\n",
    "        convertToGray=True,\n",
    "    )\n",
    ")\n",
    "a.addMatcher(\n",
    "    Beholder_Image_Matcher(\n",
    "        name=\"get_ad2\",\n",
    "        layer=\"image_gray\",\n",
    "        filename=\"./cat_snack_bar_templates/get_ad2.png\",\n",
    "        threshhold=0.8,\n",
    "        convertToGray=True,\n",
    "    )\n",
    ")"
   ]
  },
  {
   "cell_type": "code",
   "execution_count": 6,
   "id": "97fe5be7-b53a-465e-a4ad-4e346afe0948",
   "metadata": {
    "tags": []
   },
   "outputs": [],
   "source": [
    "a.addMatcher(\n",
    "    Beholder_Image_Matcher(\n",
    "        name=\"googleplay\",\n",
    "        layer=\"image_gray\",\n",
    "        filename=\"./cat_snack_bar_templates/googleplay.png\",\n",
    "        threshhold=0.8,\n",
    "        convertToGray=True,\n",
    "    )\n",
    ")"
   ]
  },
  {
   "cell_type": "code",
   "execution_count": 7,
   "id": "542f3d09-35d1-427a-be91-e4ad3af77fef",
   "metadata": {
    "tags": []
   },
   "outputs": [],
   "source": [
    "a.addMatcher(\n",
    "    Beholder_Image_Matcher(\n",
    "        name=\"skip_ad\",\n",
    "        layer=\"ad_btn_area\",\n",
    "        filename=\"./cat_snack_bar_templates/skip_ad.png\",\n",
    "        threshhold=0.8,\n",
    "        convertToGray=True,\n",
    "    )\n",
    ")\n",
    "a.addMatcher(\n",
    "    Beholder_Image_Matcher(\n",
    "        name=\"close_ad\",\n",
    "        layer=\"ad_btn_area\",\n",
    "        filename=\"./cat_snack_bar_templates/close_ad.png\",\n",
    "        threshhold=0.8,\n",
    "        convertToGray=True,\n",
    "    )\n",
    ")\n",
    "a.addMatcher(\n",
    "    Beholder_Image_Matcher(\n",
    "        name=\"close_ad2\",\n",
    "        layer=\"image_gray\",\n",
    "        filename=\"./cat_snack_bar_templates/close_ad2.png\",\n",
    "        threshhold=0.8,\n",
    "        convertToGray=True,\n",
    "    )\n",
    ")\n",
    "a.addMatcher(\n",
    "    Beholder_Image_Matcher(\n",
    "        name=\"close_ad3\",\n",
    "        layer=\"image_gray\",\n",
    "        filename=\"./cat_snack_bar_templates/close_ad3.png\",\n",
    "        threshhold=0.8,\n",
    "        convertToGray=True,\n",
    "    )\n",
    ")\n",
    "a.addMatcher(\n",
    "    Beholder_Image_Matcher(\n",
    "        name=\"close_ad4\",\n",
    "        layer=\"image_gray\",\n",
    "        filename=\"./cat_snack_bar_templates/close_ad4.png\",\n",
    "        threshhold=0.8,\n",
    "        convertToGray=True,\n",
    "    )\n",
    ")"
   ]
  },
  {
   "cell_type": "code",
   "execution_count": 8,
   "id": "0e218b0f-30f0-49a4-aeb1-0c40a4899673",
   "metadata": {
    "tags": []
   },
   "outputs": [
    {
     "data": {
      "text/plain": [
       "{'upgrade': [<Libs.Beholder.BeholderMatch at 0x7f60b66ee2c0>,\n",
       "  <Libs.Beholder.BeholderMatch at 0x7f60b66ee2f0>,\n",
       "  <Libs.Beholder.BeholderMatch at 0x7f60b66ee320>,\n",
       "  <Libs.Beholder.BeholderMatch at 0x7f60b66ee350>],\n",
       " 'offline_revenue': [<Libs.Beholder.BeholderMatch at 0x7f60b66ee380>]}"
      ]
     },
     "execution_count": 8,
     "metadata": {},
     "output_type": "execute_result"
    }
   ],
   "source": [
    "a.findMatches()"
   ]
  },
  {
   "cell_type": "code",
   "execution_count": 9,
   "id": "4166a0c1-29f1-4aa3-a326-01ae79f5e9e1",
   "metadata": {
    "tags": []
   },
   "outputs": [],
   "source": [
    "\n",
    "ad_start = time.time()\n",
    "ad_end =time.time()"
   ]
  },
  {
   "cell_type": "code",
   "execution_count": 13,
   "id": "94136c47-e6fd-46da-824c-98610e455bd5",
   "metadata": {
    "tags": []
   },
   "outputs": [],
   "source": [
    "do_upgrades = False\n",
    "do_random_machine_upgrades = False\n",
    "do_ads = True\n",
    "in_ad = False\n",
    "announce_coins=False"
   ]
  },
  {
   "cell_type": "code",
   "execution_count": 14,
   "id": "fec1da21-3535-4c1e-b95f-6b3626caedc2",
   "metadata": {
    "tags": []
   },
   "outputs": [
    {
     "name": "stdout",
     "output_type": "stream",
     "text": [
      "get_ad2 14.41340684890747 seconds\n",
      "close_ad after 27.351249933242798 seconds\n",
      "close_ad3 after 84.18754577636719 seconds\n",
      "get_ad2 4.742013216018677 seconds\n",
      "close_ad after 57.93708252906799 seconds\n",
      "get_ad2 62.37865090370178 seconds\n",
      "close_ad after 33.71950936317444 seconds\n",
      "get_ad2 62.283543825149536 seconds\n",
      "Escaping bad ad\n",
      "close_ad after 78.035649061203 seconds\n",
      "get_ad2 62.08730888366699 seconds\n",
      "close_ad after 33.07102036476135 seconds\n",
      "close_ad after 37.41686201095581 seconds\n",
      "get_ad2 60.956337213516235 seconds\n",
      "close_ad after 38.258970737457275 seconds\n",
      "offline_revenue\n",
      "offline_revenue\n",
      "offline_revenue\n",
      "offline_revenue\n",
      "close_ad3 after 81.2499451637268 seconds\n",
      "close_ad3 after 84.70063185691833 seconds\n",
      "get_ad2 15.147293329238892 seconds\n",
      "Escaping bad ad\n",
      "get_ad2 107.29366827011108 seconds\n",
      "close_ad after 32.78797101974487 seconds\n",
      "close_ad after 38.2190215587616 seconds\n",
      "close_ad3 after 91.06952142715454 seconds\n",
      "close_ad3 after 94.50756287574768 seconds\n",
      "get_ad2 4.690481185913086 seconds\n",
      "googleplay\n",
      "googleplay\n",
      "close_ad3 after 50.5369348526001 seconds\n",
      "close_ad3 after 53.99425387382507 seconds\n",
      "close_ad3 after 57.45296764373779 seconds\n",
      "close_ad3 after 60.92146420478821 seconds\n",
      "close_ad3 after 64.38766670227051 seconds\n",
      "close_ad3 after 67.85959792137146 seconds\n",
      "close_ad3 after 71.32021594047546 seconds\n",
      "close_ad3 after 74.76966834068298 seconds\n",
      "close_ad3 after 78.22193813323975 seconds\n",
      "close_ad3 after 81.6601095199585 seconds\n",
      "close_ad3 after 85.04499650001526 seconds\n",
      "close_ad3 after 88.4873902797699 seconds\n",
      "close_ad3 after 91.88063645362854 seconds\n",
      "close_ad3 after 95.30179858207703 seconds\n",
      "close_ad3 after 98.73916912078857 seconds\n",
      "close_ad3 after 102.17970395088196 seconds\n",
      "close_ad3 after 105.5948133468628 seconds\n",
      "close_ad3 after 109.06102418899536 seconds\n",
      "get_ad2 3.3273112773895264 seconds\n",
      "close_ad after 37.69940495491028 seconds\n",
      "close_ad3 after 41.15833520889282 seconds\n",
      "close_ad3 after 44.58229303359985 seconds\n",
      "close_ad3 after 48.04838943481445 seconds\n",
      "close_ad3 after 51.483885288238525 seconds\n",
      "close_ad3 after 54.89356279373169 seconds\n",
      "close_ad3 after 59.67308259010315 seconds\n",
      "close_ad3 after 63.097472190856934 seconds\n",
      "close_ad3 after 66.58149147033691 seconds\n",
      "close_ad3 after 70.01132726669312 seconds\n",
      "close_ad4 after 101.97036409378052 seconds\n",
      "close_ad4 after 105.22558736801147 seconds\n",
      "close_ad4 after 108.4431722164154 seconds\n"
     ]
    },
    {
     "name": "stderr",
     "output_type": "stream",
     "text": [
      "error: no devices/emulators found\n"
     ]
    },
    {
     "name": "stdout",
     "output_type": "stream",
     "text": [
      "close_ad4 after 111.59019255638123 seconds\n"
     ]
    },
    {
     "name": "stderr",
     "output_type": "stream",
     "text": [
      "error: no devices/emulators found\n",
      "error: no devices/emulators found\n",
      "error: no devices/emulators found\n"
     ]
    },
    {
     "name": "stdout",
     "output_type": "stream",
     "text": [
      "close_ad4 after 114.35962510108948 seconds\n"
     ]
    },
    {
     "name": "stderr",
     "output_type": "stream",
     "text": [
      "error: no devices/emulators found\n",
      "error: no devices/emulators found\n",
      "error: no devices/emulators found\n"
     ]
    },
    {
     "name": "stdout",
     "output_type": "stream",
     "text": [
      "close_ad4 after 117.12344026565552 seconds\n"
     ]
    },
    {
     "name": "stderr",
     "output_type": "stream",
     "text": [
      "error: no devices/emulators found\n",
      "error: no devices/emulators found\n",
      "error: no devices/emulators found\n"
     ]
    },
    {
     "name": "stdout",
     "output_type": "stream",
     "text": [
      "close_ad4 after 119.88871479034424 seconds\n"
     ]
    },
    {
     "name": "stderr",
     "output_type": "stream",
     "text": [
      "error: no devices/emulators found\n",
      "error: no devices/emulators found\n",
      "error: no devices/emulators found\n"
     ]
    },
    {
     "name": "stdout",
     "output_type": "stream",
     "text": [
      "close_ad4 after 122.65293574333191 seconds\n"
     ]
    },
    {
     "name": "stderr",
     "output_type": "stream",
     "text": [
      "error: no devices/emulators found\n",
      "error: no devices/emulators found\n",
      "error: no devices/emulators found\n"
     ]
    },
    {
     "name": "stdout",
     "output_type": "stream",
     "text": [
      "close_ad4 after 125.39329218864441 seconds\n"
     ]
    },
    {
     "name": "stderr",
     "output_type": "stream",
     "text": [
      "error: no devices/emulators found\n",
      "error: no devices/emulators found\n",
      "error: no devices/emulators found\n"
     ]
    },
    {
     "name": "stdout",
     "output_type": "stream",
     "text": [
      "close_ad4 after 128.18841862678528 seconds\n"
     ]
    },
    {
     "name": "stderr",
     "output_type": "stream",
     "text": [
      "error: no devices/emulators found\n",
      "error: no devices/emulators found\n",
      "error: no devices/emulators found\n"
     ]
    },
    {
     "name": "stdout",
     "output_type": "stream",
     "text": [
      "close_ad4 after 130.9894096851349 seconds\n"
     ]
    },
    {
     "name": "stderr",
     "output_type": "stream",
     "text": [
      "error: no devices/emulators found\n",
      "error: no devices/emulators found\n",
      "error: no devices/emulators found\n"
     ]
    },
    {
     "name": "stdout",
     "output_type": "stream",
     "text": [
      "close_ad4 after 133.7863805294037 seconds\n"
     ]
    },
    {
     "name": "stderr",
     "output_type": "stream",
     "text": [
      "error: no devices/emulators found\n",
      "error: no devices/emulators found\n",
      "error: no devices/emulators found\n"
     ]
    },
    {
     "name": "stdout",
     "output_type": "stream",
     "text": [
      "close_ad4 after 136.54741549491882 seconds\n"
     ]
    },
    {
     "name": "stderr",
     "output_type": "stream",
     "text": [
      "error: no devices/emulators found\n",
      "error: no devices/emulators found\n",
      "error: no devices/emulators found\n"
     ]
    },
    {
     "name": "stdout",
     "output_type": "stream",
     "text": [
      "close_ad4 after 139.30559611320496 seconds\n"
     ]
    },
    {
     "name": "stderr",
     "output_type": "stream",
     "text": [
      "error: no devices/emulators found\n",
      "error: no devices/emulators found\n",
      "error: no devices/emulators found\n"
     ]
    },
    {
     "name": "stdout",
     "output_type": "stream",
     "text": [
      "close_ad4 after 142.08373618125916 seconds\n"
     ]
    },
    {
     "name": "stderr",
     "output_type": "stream",
     "text": [
      "error: no devices/emulators found\n",
      "error: no devices/emulators found\n",
      "error: no devices/emulators found\n"
     ]
    },
    {
     "name": "stdout",
     "output_type": "stream",
     "text": [
      "close_ad4 after 144.84013772010803 seconds\n"
     ]
    },
    {
     "name": "stderr",
     "output_type": "stream",
     "text": [
      "error: no devices/emulators found\n",
      "error: no devices/emulators found\n",
      "error: no devices/emulators found\n"
     ]
    },
    {
     "name": "stdout",
     "output_type": "stream",
     "text": [
      "close_ad4 after 147.6025514602661 seconds\n"
     ]
    },
    {
     "name": "stderr",
     "output_type": "stream",
     "text": [
      "error: no devices/emulators found\n",
      "error: no devices/emulators found\n",
      "error: no devices/emulators found\n"
     ]
    },
    {
     "name": "stdout",
     "output_type": "stream",
     "text": [
      "close_ad4 after 150.33968424797058 seconds\n"
     ]
    },
    {
     "name": "stderr",
     "output_type": "stream",
     "text": [
      "error: no devices/emulators found\n",
      "error: no devices/emulators found\n",
      "error: no devices/emulators found\n"
     ]
    },
    {
     "name": "stdout",
     "output_type": "stream",
     "text": [
      "close_ad4 after 153.10101056098938 seconds\n"
     ]
    },
    {
     "name": "stderr",
     "output_type": "stream",
     "text": [
      "error: no devices/emulators found\n",
      "error: no devices/emulators found\n",
      "error: no devices/emulators found\n"
     ]
    },
    {
     "name": "stdout",
     "output_type": "stream",
     "text": [
      "close_ad4 after 155.9283664226532 seconds\n"
     ]
    },
    {
     "name": "stderr",
     "output_type": "stream",
     "text": [
      "error: no devices/emulators found\n",
      "error: no devices/emulators found\n",
      "error: no devices/emulators found\n"
     ]
    },
    {
     "name": "stdout",
     "output_type": "stream",
     "text": [
      "close_ad4 after 158.73292589187622 seconds\n"
     ]
    },
    {
     "name": "stderr",
     "output_type": "stream",
     "text": [
      "error: no devices/emulators found\n",
      "error: no devices/emulators found\n",
      "error: no devices/emulators found\n"
     ]
    },
    {
     "name": "stdout",
     "output_type": "stream",
     "text": [
      "close_ad4 after 161.52776265144348 seconds\n"
     ]
    },
    {
     "name": "stderr",
     "output_type": "stream",
     "text": [
      "error: no devices/emulators found\n",
      "error: no devices/emulators found\n",
      "error: no devices/emulators found\n"
     ]
    },
    {
     "name": "stdout",
     "output_type": "stream",
     "text": [
      "close_ad4 after 164.32453107833862 seconds\n"
     ]
    },
    {
     "name": "stderr",
     "output_type": "stream",
     "text": [
      "error: no devices/emulators found\n",
      "error: no devices/emulators found\n",
      "error: no devices/emulators found\n"
     ]
    },
    {
     "name": "stdout",
     "output_type": "stream",
     "text": [
      "close_ad4 after 167.1158468723297 seconds\n"
     ]
    },
    {
     "name": "stderr",
     "output_type": "stream",
     "text": [
      "error: no devices/emulators found\n",
      "error: no devices/emulators found\n",
      "error: no devices/emulators found\n"
     ]
    },
    {
     "name": "stdout",
     "output_type": "stream",
     "text": [
      "close_ad4 after 169.91086077690125 seconds\n"
     ]
    },
    {
     "name": "stderr",
     "output_type": "stream",
     "text": [
      "error: no devices/emulators found\n",
      "error: no devices/emulators found\n",
      "error: no devices/emulators found\n"
     ]
    },
    {
     "name": "stdout",
     "output_type": "stream",
     "text": [
      "close_ad4 after 172.69984769821167 seconds\n"
     ]
    },
    {
     "name": "stderr",
     "output_type": "stream",
     "text": [
      "error: no devices/emulators found\n",
      "error: no devices/emulators found\n",
      "error: no devices/emulators found\n"
     ]
    },
    {
     "name": "stdout",
     "output_type": "stream",
     "text": [
      "close_ad4 after 175.48754119873047 seconds\n"
     ]
    },
    {
     "name": "stderr",
     "output_type": "stream",
     "text": [
      "error: no devices/emulators found\n",
      "error: no devices/emulators found\n",
      "error: no devices/emulators found\n"
     ]
    },
    {
     "name": "stdout",
     "output_type": "stream",
     "text": [
      "close_ad4 after 178.28221917152405 seconds\n"
     ]
    },
    {
     "name": "stderr",
     "output_type": "stream",
     "text": [
      "error: no devices/emulators found\n",
      "error: no devices/emulators found\n",
      "error: no devices/emulators found\n"
     ]
    },
    {
     "name": "stdout",
     "output_type": "stream",
     "text": [
      "close_ad4 after 181.08459424972534 seconds\n"
     ]
    },
    {
     "name": "stderr",
     "output_type": "stream",
     "text": [
      "error: no devices/emulators found\n",
      "error: no devices/emulators found\n",
      "error: no devices/emulators found\n"
     ]
    },
    {
     "name": "stdout",
     "output_type": "stream",
     "text": [
      "close_ad4 after 183.8779158592224 seconds\n"
     ]
    },
    {
     "name": "stderr",
     "output_type": "stream",
     "text": [
      "error: no devices/emulators found\n",
      "error: no devices/emulators found\n",
      "error: no devices/emulators found\n"
     ]
    },
    {
     "name": "stdout",
     "output_type": "stream",
     "text": [
      "close_ad4 after 186.68826484680176 seconds\n"
     ]
    },
    {
     "name": "stderr",
     "output_type": "stream",
     "text": [
      "error: no devices/emulators found\n",
      "error: no devices/emulators found\n",
      "error: no devices/emulators found\n"
     ]
    },
    {
     "name": "stdout",
     "output_type": "stream",
     "text": [
      "close_ad4 after 189.48870944976807 seconds\n"
     ]
    },
    {
     "name": "stderr",
     "output_type": "stream",
     "text": [
      "error: no devices/emulators found\n",
      "error: no devices/emulators found\n",
      "error: no devices/emulators found\n"
     ]
    },
    {
     "name": "stdout",
     "output_type": "stream",
     "text": [
      "close_ad4 after 192.2916443347931 seconds\n"
     ]
    },
    {
     "name": "stderr",
     "output_type": "stream",
     "text": [
      "error: no devices/emulators found\n",
      "error: no devices/emulators found\n",
      "error: no devices/emulators found\n"
     ]
    },
    {
     "name": "stdout",
     "output_type": "stream",
     "text": [
      "close_ad4 after 195.08799624443054 seconds\n"
     ]
    },
    {
     "name": "stderr",
     "output_type": "stream",
     "text": [
      "error: no devices/emulators found\n",
      "error: no devices/emulators found\n",
      "error: no devices/emulators found\n"
     ]
    },
    {
     "name": "stdout",
     "output_type": "stream",
     "text": [
      "close_ad4 after 197.88129949569702 seconds\n"
     ]
    },
    {
     "name": "stderr",
     "output_type": "stream",
     "text": [
      "error: no devices/emulators found\n",
      "error: no devices/emulators found\n",
      "error: no devices/emulators found\n"
     ]
    },
    {
     "name": "stdout",
     "output_type": "stream",
     "text": [
      "close_ad4 after 200.67438673973083 seconds\n"
     ]
    },
    {
     "name": "stderr",
     "output_type": "stream",
     "text": [
      "error: no devices/emulators found\n",
      "error: no devices/emulators found\n",
      "error: no devices/emulators found\n"
     ]
    },
    {
     "name": "stdout",
     "output_type": "stream",
     "text": [
      "close_ad4 after 203.46874833106995 seconds\n"
     ]
    },
    {
     "name": "stderr",
     "output_type": "stream",
     "text": [
      "error: no devices/emulators found\n",
      "error: no devices/emulators found\n",
      "error: no devices/emulators found\n"
     ]
    },
    {
     "name": "stdout",
     "output_type": "stream",
     "text": [
      "close_ad4 after 206.2608392238617 seconds\n"
     ]
    },
    {
     "name": "stderr",
     "output_type": "stream",
     "text": [
      "error: no devices/emulators found\n",
      "error: no devices/emulators found\n",
      "error: no devices/emulators found\n"
     ]
    },
    {
     "name": "stdout",
     "output_type": "stream",
     "text": [
      "close_ad4 after 209.0538935661316 seconds\n"
     ]
    },
    {
     "name": "stderr",
     "output_type": "stream",
     "text": [
      "error: no devices/emulators found\n",
      "error: no devices/emulators found\n",
      "error: no devices/emulators found\n"
     ]
    },
    {
     "name": "stdout",
     "output_type": "stream",
     "text": [
      "close_ad4 after 211.8490436077118 seconds\n"
     ]
    },
    {
     "name": "stderr",
     "output_type": "stream",
     "text": [
      "error: no devices/emulators found\n",
      "error: no devices/emulators found\n",
      "error: no devices/emulators found\n"
     ]
    },
    {
     "name": "stdout",
     "output_type": "stream",
     "text": [
      "close_ad4 after 214.64515233039856 seconds\n"
     ]
    },
    {
     "name": "stderr",
     "output_type": "stream",
     "text": [
      "error: no devices/emulators found\n",
      "error: no devices/emulators found\n",
      "error: no devices/emulators found\n"
     ]
    },
    {
     "name": "stdout",
     "output_type": "stream",
     "text": [
      "close_ad4 after 217.43500900268555 seconds\n"
     ]
    },
    {
     "name": "stderr",
     "output_type": "stream",
     "text": [
      "error: no devices/emulators found\n",
      "error: no devices/emulators found\n",
      "error: no devices/emulators found\n"
     ]
    },
    {
     "name": "stdout",
     "output_type": "stream",
     "text": [
      "close_ad4 after 220.2356195449829 seconds\n"
     ]
    },
    {
     "name": "stderr",
     "output_type": "stream",
     "text": [
      "error: no devices/emulators found\n",
      "error: no devices/emulators found\n",
      "error: no devices/emulators found\n"
     ]
    },
    {
     "name": "stdout",
     "output_type": "stream",
     "text": [
      "close_ad4 after 223.0282211303711 seconds\n"
     ]
    },
    {
     "name": "stderr",
     "output_type": "stream",
     "text": [
      "error: no devices/emulators found\n",
      "error: no devices/emulators found\n",
      "error: no devices/emulators found\n"
     ]
    },
    {
     "name": "stdout",
     "output_type": "stream",
     "text": [
      "close_ad4 after 225.8202977180481 seconds\n"
     ]
    },
    {
     "name": "stderr",
     "output_type": "stream",
     "text": [
      "error: no devices/emulators found\n",
      "error: no devices/emulators found\n",
      "error: no devices/emulators found\n"
     ]
    },
    {
     "name": "stdout",
     "output_type": "stream",
     "text": [
      "close_ad4 after 228.60841274261475 seconds\n"
     ]
    },
    {
     "name": "stderr",
     "output_type": "stream",
     "text": [
      "error: no devices/emulators found\n",
      "error: no devices/emulators found\n",
      "error: no devices/emulators found\n"
     ]
    },
    {
     "name": "stdout",
     "output_type": "stream",
     "text": [
      "close_ad4 after 231.39597988128662 seconds\n"
     ]
    },
    {
     "name": "stderr",
     "output_type": "stream",
     "text": [
      "error: no devices/emulators found\n",
      "error: no devices/emulators found\n",
      "error: no devices/emulators found\n"
     ]
    },
    {
     "name": "stdout",
     "output_type": "stream",
     "text": [
      "close_ad4 after 234.18581986427307 seconds\n"
     ]
    },
    {
     "name": "stderr",
     "output_type": "stream",
     "text": [
      "error: no devices/emulators found\n",
      "error: no devices/emulators found\n",
      "error: no devices/emulators found\n"
     ]
    },
    {
     "name": "stdout",
     "output_type": "stream",
     "text": [
      "close_ad4 after 236.94357776641846 seconds\n"
     ]
    },
    {
     "name": "stderr",
     "output_type": "stream",
     "text": [
      "error: no devices/emulators found\n",
      "error: no devices/emulators found\n",
      "error: no devices/emulators found\n"
     ]
    },
    {
     "name": "stdout",
     "output_type": "stream",
     "text": [
      "close_ad4 after 239.7391746044159 seconds\n"
     ]
    },
    {
     "name": "stderr",
     "output_type": "stream",
     "text": [
      "error: no devices/emulators found\n",
      "error: no devices/emulators found\n",
      "error: no devices/emulators found\n"
     ]
    },
    {
     "name": "stdout",
     "output_type": "stream",
     "text": [
      "close_ad4 after 242.52825665473938 seconds\n"
     ]
    },
    {
     "name": "stderr",
     "output_type": "stream",
     "text": [
      "error: no devices/emulators found\n",
      "error: no devices/emulators found\n",
      "error: no devices/emulators found\n"
     ]
    },
    {
     "name": "stdout",
     "output_type": "stream",
     "text": [
      "close_ad4 after 245.31956434249878 seconds\n"
     ]
    },
    {
     "name": "stderr",
     "output_type": "stream",
     "text": [
      "error: no devices/emulators found\n",
      "error: no devices/emulators found\n",
      "error: no devices/emulators found\n"
     ]
    },
    {
     "name": "stdout",
     "output_type": "stream",
     "text": [
      "close_ad4 after 248.08006739616394 seconds\n"
     ]
    },
    {
     "name": "stderr",
     "output_type": "stream",
     "text": [
      "error: no devices/emulators found\n",
      "error: no devices/emulators found\n",
      "error: no devices/emulators found\n"
     ]
    },
    {
     "name": "stdout",
     "output_type": "stream",
     "text": [
      "close_ad4 after 250.85679531097412 seconds\n"
     ]
    },
    {
     "name": "stderr",
     "output_type": "stream",
     "text": [
      "error: no devices/emulators found\n",
      "error: no devices/emulators found\n",
      "error: no devices/emulators found\n"
     ]
    },
    {
     "name": "stdout",
     "output_type": "stream",
     "text": [
      "close_ad4 after 253.60620141029358 seconds\n"
     ]
    },
    {
     "name": "stderr",
     "output_type": "stream",
     "text": [
      "error: no devices/emulators found\n",
      "error: no devices/emulators found\n",
      "error: no devices/emulators found\n"
     ]
    },
    {
     "name": "stdout",
     "output_type": "stream",
     "text": [
      "close_ad4 after 256.40581583976746 seconds\n"
     ]
    },
    {
     "name": "stderr",
     "output_type": "stream",
     "text": [
      "error: no devices/emulators found\n",
      "error: no devices/emulators found\n",
      "error: no devices/emulators found\n"
     ]
    },
    {
     "name": "stdout",
     "output_type": "stream",
     "text": [
      "close_ad4 after 259.17063641548157 seconds\n"
     ]
    },
    {
     "name": "stderr",
     "output_type": "stream",
     "text": [
      "error: no devices/emulators found\n",
      "error: no devices/emulators found\n",
      "error: no devices/emulators found\n"
     ]
    },
    {
     "name": "stdout",
     "output_type": "stream",
     "text": [
      "close_ad4 after 261.9355583190918 seconds\n"
     ]
    },
    {
     "name": "stderr",
     "output_type": "stream",
     "text": [
      "error: no devices/emulators found\n",
      "error: no devices/emulators found\n",
      "error: no devices/emulators found\n"
     ]
    },
    {
     "name": "stdout",
     "output_type": "stream",
     "text": [
      "close_ad4 after 264.73996925354004 seconds\n",
      "get_ad2 5.6864025592803955 seconds\n",
      "close_ad after 38.606769323349 seconds\n",
      "get_ad2 61.42922282218933 seconds\n",
      "close_ad4 after 28.704159259796143 seconds\n",
      "googleplay\n",
      "close_ad after 40.035656452178955 seconds\n",
      "close_ad3 after 89.89280581474304 seconds\n",
      "close_ad3 after 93.45750093460083 seconds\n",
      "close_ad3 after 96.90602588653564 seconds\n",
      "close_ad3 after 102.63311576843262 seconds\n",
      "close_ad3 after 106.04335975646973 seconds\n",
      "close_ad3 after 109.48515319824219 seconds\n",
      "close_ad3 after 112.93466329574585 seconds\n",
      "close_ad3 after 119.07204604148865 seconds\n",
      "close_ad3 after 122.44860649108887 seconds\n",
      "close_ad3 after 125.84451818466187 seconds\n",
      "close_ad3 after 129.29210257530212 seconds\n",
      "close_ad3 after 132.73332619667053 seconds\n",
      "close_ad3 after 136.17490887641907 seconds\n",
      "close_ad3 after 139.59855151176453 seconds\n",
      "close_ad3 after 144.3532407283783 seconds\n",
      "close_ad3 after 147.7896933555603 seconds\n",
      "close_ad3 after 151.22896528244019 seconds\n",
      "close_ad3 after 154.63848114013672 seconds\n",
      "close_ad3 after 158.03965210914612 seconds\n",
      "close_ad3 after 161.4669313430786 seconds\n",
      "close_ad3 after 164.8894021511078 seconds\n",
      "close_ad3 after 168.27341485023499 seconds\n",
      "close_ad3 after 173.09311819076538 seconds\n",
      "close_ad3 after 176.46115350723267 seconds\n",
      "close_ad3 after 179.85326266288757 seconds\n",
      "close_ad3 after 183.2129144668579 seconds\n",
      "close_ad3 after 186.55445551872253 seconds\n",
      "close_ad3 after 189.98279809951782 seconds\n",
      "close_ad3 after 193.39068174362183 seconds\n",
      "close_ad3 after 196.83381032943726 seconds\n",
      "close_ad3 after 200.1880865097046 seconds\n",
      "close_ad3 after 203.62837433815002 seconds\n",
      "close_ad3 after 208.41636610031128 seconds\n",
      "close_ad3 after 211.76930570602417 seconds\n",
      "close_ad3 after 215.20890092849731 seconds\n",
      "close_ad3 after 218.62799406051636 seconds\n",
      "close_ad3 after 222.08464908599854 seconds\n",
      "close_ad3 after 225.51673650741577 seconds\n",
      "close_ad3 after 228.9226713180542 seconds\n",
      "offline_revenue\n",
      "close_ad3 after 234.26125288009644 seconds\n",
      "close_ad4 after 243.18237257003784 seconds\n",
      "close_ad4 after 246.4453489780426 seconds\n",
      "close_ad4 after 249.72856950759888 seconds\n",
      "close_ad4 after 253.03397870063782 seconds\n",
      "close_ad4 after 256.32116198539734 seconds\n",
      "close_ad4 after 259.6180999279022 seconds\n",
      "close_ad4 after 262.9352693557739 seconds\n",
      "close_ad4 after 266.1584770679474 seconds\n",
      "close_ad4 after 269.4561734199524 seconds\n"
     ]
    },
    {
     "ename": "KeyboardInterrupt",
     "evalue": "",
     "output_type": "error",
     "traceback": [
      "\u001b[0;31m---------------------------------------------------------------------------\u001b[0m",
      "\u001b[0;31mKeyboardInterrupt\u001b[0m                         Traceback (most recent call last)",
      "Cell \u001b[0;32mIn[14], line 2\u001b[0m\n\u001b[1;32m      1\u001b[0m \u001b[38;5;28;01mwhile\u001b[39;00m \u001b[38;5;28;01mTrue\u001b[39;00m:\n\u001b[0;32m----> 2\u001b[0m     matches \u001b[38;5;241m=\u001b[39m \u001b[43ma\u001b[49m\u001b[38;5;241;43m.\u001b[39;49m\u001b[43mfindMatches\u001b[49m\u001b[43m(\u001b[49m\u001b[43m)\u001b[49m\n\u001b[1;32m      3\u001b[0m     \u001b[38;5;28;01mif\u001b[39;00m do_ads:\n\u001b[1;32m      4\u001b[0m         \u001b[38;5;28;01mif\u001b[39;00m \u001b[38;5;124m'\u001b[39m\u001b[38;5;124mclose_ad\u001b[39m\u001b[38;5;124m'\u001b[39m \u001b[38;5;129;01min\u001b[39;00m matches:\n",
      "File \u001b[0;32m~/github/Some-Notebooks/Android/Beholder/Libs/Beholder.py:343\u001b[0m, in \u001b[0;36mBeholder.findMatches\u001b[0;34m(self, matchers)\u001b[0m\n\u001b[1;32m    341\u001b[0m \u001b[38;5;28;01mif\u001b[39;00m matchers \u001b[38;5;129;01mis\u001b[39;00m \u001b[38;5;28;01mNone\u001b[39;00m:\n\u001b[1;32m    342\u001b[0m     matchers \u001b[38;5;241m=\u001b[39m \u001b[38;5;28mself\u001b[39m\u001b[38;5;241m.\u001b[39mmatchers\n\u001b[0;32m--> 343\u001b[0m \u001b[38;5;28;43mself\u001b[39;49m\u001b[38;5;241;43m.\u001b[39;49m\u001b[43mreadNextImage\u001b[49m\u001b[43m(\u001b[49m\u001b[43m)\u001b[49m\n\u001b[1;32m    344\u001b[0m \u001b[38;5;28mself\u001b[39m\u001b[38;5;241m.\u001b[39mdigestImage()\n\u001b[1;32m    345\u001b[0m matches \u001b[38;5;241m=\u001b[39m defaultdict(\u001b[38;5;28mlist\u001b[39m)\n",
      "File \u001b[0;32m~/github/Some-Notebooks/Android/Beholder/Libs/Beholder.py:329\u001b[0m, in \u001b[0;36mBeholder.readNextImage\u001b[0;34m(self)\u001b[0m\n\u001b[1;32m    327\u001b[0m \u001b[38;5;28;01mdef\u001b[39;00m \u001b[38;5;21mreadNextImage\u001b[39m(\u001b[38;5;28mself\u001b[39m):\n\u001b[1;32m    328\u001b[0m     \u001b[38;5;28mself\u001b[39m\u001b[38;5;241m.\u001b[39mlayers[\u001b[38;5;124m\"\u001b[39m\u001b[38;5;124mimage\u001b[39m\u001b[38;5;124m\"\u001b[39m] \u001b[38;5;241m=\u001b[39m Beholder_Layer(\n\u001b[0;32m--> 329\u001b[0m         name\u001b[38;5;241m=\u001b[39m\u001b[38;5;124m\"\u001b[39m\u001b[38;5;124mimage\u001b[39m\u001b[38;5;124m\"\u001b[39m, data\u001b[38;5;241m=\u001b[39mPillowToCv2(\u001b[38;5;28;43mnext\u001b[39;49m\u001b[43m(\u001b[49m\u001b[38;5;28;43mself\u001b[39;49m\u001b[38;5;241;43m.\u001b[39;49m\u001b[43mgenerator\u001b[49m\u001b[43m)\u001b[49m),offsets\u001b[38;5;241m=\u001b[39m(\u001b[38;5;241m0\u001b[39m,\u001b[38;5;241m0\u001b[39m)\n\u001b[1;32m    330\u001b[0m     )\n",
      "File \u001b[0;32m~/github/Some-Notebooks/Android/Beholder/Libs/Adb.py:56\u001b[0m, in \u001b[0;36mImageSource.generate\u001b[0;34m(self)\u001b[0m\n\u001b[1;32m     54\u001b[0m \u001b[38;5;28;01mwhile\u001b[39;00m \u001b[38;5;28;01mTrue\u001b[39;00m:\n\u001b[1;32m     55\u001b[0m     s \u001b[38;5;241m=\u001b[39m time\u001b[38;5;241m.\u001b[39mtime()\n\u001b[0;32m---> 56\u001b[0m     \u001b[43mrun_command\u001b[49m\u001b[43m(\u001b[49m\u001b[38;5;124;43m\"\u001b[39;49m\u001b[38;5;124;43mshell screencap -p /sdcard/screen.png\u001b[39;49m\u001b[38;5;124;43m\"\u001b[39;49m\u001b[43m)\u001b[49m\n\u001b[1;32m     57\u001b[0m     run_command(\u001b[38;5;124m\"\u001b[39m\u001b[38;5;124mpull /sdcard/screen.png ./game.png\u001b[39m\u001b[38;5;124m\"\u001b[39m)\n\u001b[1;32m     58\u001b[0m     run_command(\u001b[38;5;124m\"\u001b[39m\u001b[38;5;124mshell rm /sdcard/screen.png\u001b[39m\u001b[38;5;124m\"\u001b[39m)\n",
      "File \u001b[0;32m~/github/Some-Notebooks/Android/Beholder/Libs/Adb.py:25\u001b[0m, in \u001b[0;36mrun_command\u001b[0;34m(cmd, debug, returns_POpen, close_fds)\u001b[0m\n\u001b[1;32m     23\u001b[0m     cmd \u001b[38;5;241m=\u001b[39m cmd\u001b[38;5;241m.\u001b[39msplit(\u001b[38;5;124m\"\u001b[39m\u001b[38;5;124m \u001b[39m\u001b[38;5;124m\"\u001b[39m)\n\u001b[1;32m     24\u001b[0m cmd \u001b[38;5;241m=\u001b[39m [\u001b[38;5;124m\"\u001b[39m\u001b[38;5;124madb\u001b[39m\u001b[38;5;124m\"\u001b[39m] \u001b[38;5;241m+\u001b[39m cmd\n\u001b[0;32m---> 25\u001b[0m \u001b[38;5;28;01mreturn\u001b[39;00m \u001b[43m_shell\u001b[49m\u001b[43m(\u001b[49m\u001b[43mcmd\u001b[49m\u001b[43m,\u001b[49m\u001b[43m \u001b[49m\u001b[43mdebug\u001b[49m\u001b[38;5;241;43m=\u001b[39;49m\u001b[43mdebug\u001b[49m\u001b[43m,\u001b[49m\u001b[43m \u001b[49m\u001b[43mreturns_POpen\u001b[49m\u001b[38;5;241;43m=\u001b[39;49m\u001b[43mreturns_POpen\u001b[49m\u001b[43m,\u001b[49m\u001b[43m \u001b[49m\u001b[43mclose_fds\u001b[49m\u001b[38;5;241;43m=\u001b[39;49m\u001b[43mclose_fds\u001b[49m\u001b[43m)\u001b[49m\n",
      "File \u001b[0;32m~/github/Some-Notebooks/Android/Beholder/Libs/Adb.py:13\u001b[0m, in \u001b[0;36m_shell\u001b[0;34m(cmd, debug, returns_POpen, close_fds)\u001b[0m\n\u001b[1;32m     10\u001b[0m     process \u001b[38;5;241m=\u001b[39m subprocess\u001b[38;5;241m.\u001b[39mPopen(cmd, close_fds\u001b[38;5;241m=\u001b[39mclose_fds)\n\u001b[1;32m     11\u001b[0m     \u001b[38;5;28;01mreturn\u001b[39;00m process\n\u001b[0;32m---> 13\u001b[0m process \u001b[38;5;241m=\u001b[39m \u001b[43msubprocess\u001b[49m\u001b[38;5;241;43m.\u001b[39;49m\u001b[43mrun\u001b[49m\u001b[43m(\u001b[49m\u001b[43mcmd\u001b[49m\u001b[43m,\u001b[49m\u001b[43m \u001b[49m\u001b[43mstdout\u001b[49m\u001b[38;5;241;43m=\u001b[39;49m\u001b[43msubprocess\u001b[49m\u001b[38;5;241;43m.\u001b[39;49m\u001b[43mPIPE\u001b[49m\u001b[43m)\u001b[49m\n\u001b[1;32m     14\u001b[0m \u001b[38;5;28;01mreturn\u001b[39;00m process\u001b[38;5;241m.\u001b[39mstdout\u001b[38;5;241m.\u001b[39mdecode(\u001b[38;5;124m\"\u001b[39m\u001b[38;5;124mutf-8\u001b[39m\u001b[38;5;124m\"\u001b[39m)\u001b[38;5;241m.\u001b[39mstrip()\u001b[38;5;241m.\u001b[39msplitlines()\n",
      "File \u001b[0;32m/usr/lib/python3.10/subprocess.py:503\u001b[0m, in \u001b[0;36mrun\u001b[0;34m(input, capture_output, timeout, check, *popenargs, **kwargs)\u001b[0m\n\u001b[1;32m    501\u001b[0m \u001b[38;5;28;01mwith\u001b[39;00m Popen(\u001b[38;5;241m*\u001b[39mpopenargs, \u001b[38;5;241m*\u001b[39m\u001b[38;5;241m*\u001b[39mkwargs) \u001b[38;5;28;01mas\u001b[39;00m process:\n\u001b[1;32m    502\u001b[0m     \u001b[38;5;28;01mtry\u001b[39;00m:\n\u001b[0;32m--> 503\u001b[0m         stdout, stderr \u001b[38;5;241m=\u001b[39m \u001b[43mprocess\u001b[49m\u001b[38;5;241;43m.\u001b[39;49m\u001b[43mcommunicate\u001b[49m\u001b[43m(\u001b[49m\u001b[38;5;28;43minput\u001b[39;49m\u001b[43m,\u001b[49m\u001b[43m \u001b[49m\u001b[43mtimeout\u001b[49m\u001b[38;5;241;43m=\u001b[39;49m\u001b[43mtimeout\u001b[49m\u001b[43m)\u001b[49m\n\u001b[1;32m    504\u001b[0m     \u001b[38;5;28;01mexcept\u001b[39;00m TimeoutExpired \u001b[38;5;28;01mas\u001b[39;00m exc:\n\u001b[1;32m    505\u001b[0m         process\u001b[38;5;241m.\u001b[39mkill()\n",
      "File \u001b[0;32m/usr/lib/python3.10/subprocess.py:1139\u001b[0m, in \u001b[0;36mPopen.communicate\u001b[0;34m(self, input, timeout)\u001b[0m\n\u001b[1;32m   1137\u001b[0m     \u001b[38;5;28mself\u001b[39m\u001b[38;5;241m.\u001b[39m_stdin_write(\u001b[38;5;28minput\u001b[39m)\n\u001b[1;32m   1138\u001b[0m \u001b[38;5;28;01melif\u001b[39;00m \u001b[38;5;28mself\u001b[39m\u001b[38;5;241m.\u001b[39mstdout:\n\u001b[0;32m-> 1139\u001b[0m     stdout \u001b[38;5;241m=\u001b[39m \u001b[38;5;28;43mself\u001b[39;49m\u001b[38;5;241;43m.\u001b[39;49m\u001b[43mstdout\u001b[49m\u001b[38;5;241;43m.\u001b[39;49m\u001b[43mread\u001b[49m\u001b[43m(\u001b[49m\u001b[43m)\u001b[49m\n\u001b[1;32m   1140\u001b[0m     \u001b[38;5;28mself\u001b[39m\u001b[38;5;241m.\u001b[39mstdout\u001b[38;5;241m.\u001b[39mclose()\n\u001b[1;32m   1141\u001b[0m \u001b[38;5;28;01melif\u001b[39;00m \u001b[38;5;28mself\u001b[39m\u001b[38;5;241m.\u001b[39mstderr:\n",
      "\u001b[0;31mKeyboardInterrupt\u001b[0m: "
     ]
    }
   ],
   "source": [
    "while True:\n",
    "    matches = a.findMatches()\n",
    "    if do_ads:\n",
    "        if 'close_ad' in matches:\n",
    "            print('close_ad after', time.time()-ad_start, 'seconds')\n",
    "            m = matches['close_ad'][0]\n",
    "            a.tap(m.center[0],m.center[1])\n",
    "            in_ad = False            \n",
    "            ad_end=time.time()\n",
    "            time.sleep(2)\n",
    "            continue\n",
    "        if 'close_ad2' in matches:\n",
    "            print('close_ad2 after', time.time()-ad_start, 'seconds')\n",
    "            m = matches['close_ad2'][0]\n",
    "            a.tap(m.center[0],m.center[1])\n",
    "            ad_end=time.time()\n",
    "            in_ad = False            \n",
    "            time.sleep(2)\n",
    "            continue\n",
    "        if 'close_ad3' in matches:\n",
    "            print('close_ad3 after', time.time()-ad_start, 'seconds')\n",
    "            m = matches['close_ad3'][0]\n",
    "            a.tap(m.center[0],m.center[1])\n",
    "            ad_end=time.time()\n",
    "            in_ad = False            \n",
    "            time.sleep(2)\n",
    "            continue\n",
    "        if 'close_ad4' in matches:\n",
    "            print('close_ad4 after', time.time()-ad_start, 'seconds')\n",
    "            m = matches['close_ad4'][0]\n",
    "            a.tap(m.center[0],m.center[1])\n",
    "            ad_end=time.time()\n",
    "            in_ad = False            \n",
    "            time.sleep(2)\n",
    "            continue\n",
    "        if 'skip_ad' in matches:\n",
    "            print('skip_ad', time.time()-ad_start, 'seconds')\n",
    "            m = matches['skip_ad'][0]\n",
    "            a.tap(m.center[0],m.center[1])\n",
    "            time.sleep(2)\n",
    "            continue\n",
    "        if 'get_ad' in matches:\n",
    "            print('get_ad', time.time()-ad_end, 'seconds')\n",
    "            m = matches['get_ad'][0]\n",
    "            a.tap(m.center[0],m.center[1])\n",
    "            in_ad = True\n",
    "            ad_start = time.time()\n",
    "            time.sleep(20)\n",
    "            continue\n",
    "        if 'get_ad2' in matches:\n",
    "            print('get_ad2', time.time()-ad_end, 'seconds')\n",
    "            m = matches['get_ad2'][0]\n",
    "            a.tap(m.center[0],m.center[1])\n",
    "            in_ad = True\n",
    "            ad_start = time.time()\n",
    "            time.sleep(20)\n",
    "            continue\n",
    "        if 'googleplay' in matches:\n",
    "            print('googleplay')\n",
    "            time.sleep(1)\n",
    "            adb.run_command(\"shell input keyevent 187 && usleep 500000 && input keyevent 187\")\n",
    "            time.sleep(5)\n",
    "            continue\n",
    "        if in_ad and (time.time()-ad_start) > 60:\n",
    "            print(\"Escaping bad ad\")\n",
    "            a.tap(1016,192)\n",
    "            time.sleep(1)\n",
    "            in_ad = False\n",
    "    if do_upgrades:\n",
    "        if 'catcoin' in matches:\n",
    "            if announce_coins:\n",
    "                print('catcoin')\n",
    "            m = random.choice(matches['catcoin'])\n",
    "            a.tap(m.center[0],m.center[1])\n",
    "            time.sleep(0.2)\n",
    "            continue\n",
    "        if 'ecoin' in matches:\n",
    "            if announce_coins:\n",
    "                print('ecoin')\n",
    "            m = random.choice(matches['ecoin'])\n",
    "            a.tap(m.center[0],m.center[1])\n",
    "            time.sleep(0.2)\n",
    "            continue\n",
    "        if do_random_machine_upgrades:\n",
    "            if 'upgrade' in matches:\n",
    "                print('upgrade')\n",
    "                m = random.choice(matches['upgrade'])\n",
    "                a.tap(m.center[0],m.center[1])\n",
    "                time.sleep(1)\n",
    "    if 'offline_revenue' in matches:\n",
    "        print('offline_revenue')\n",
    "        m = random.choice(matches['offline_revenue'])\n",
    "        a.tap(m.center[0],m.center[1])\n",
    "        time.sleep(0.6)\n",
    "        "
   ]
  },
  {
   "cell_type": "code",
   "execution_count": null,
   "id": "ae95be88-e1ef-46a5-abca-743e40ee5e13",
   "metadata": {},
   "outputs": [],
   "source": [
    "a.layer['ad_btn_area'].show()"
   ]
  },
  {
   "cell_type": "code",
   "execution_count": null,
   "id": "a840af6e-dbde-4d5e-8154-011ae7028e4e",
   "metadata": {},
   "outputs": [],
   "source": [
    "a.layer['game_area'].show()"
   ]
  },
  {
   "cell_type": "code",
   "execution_count": null,
   "id": "901979ad-1299-4157-96b1-a820ad29b027",
   "metadata": {},
   "outputs": [],
   "source": []
  }
 ],
 "metadata": {
  "kernelspec": {
   "display_name": "Python 3 (ipykernel)",
   "language": "python",
   "name": "python3"
  },
  "language_info": {
   "codemirror_mode": {
    "name": "ipython",
    "version": 3
   },
   "file_extension": ".py",
   "mimetype": "text/x-python",
   "name": "python",
   "nbconvert_exporter": "python",
   "pygments_lexer": "ipython3",
   "version": "3.10.7"
  }
 },
 "nbformat": 4,
 "nbformat_minor": 5
}
