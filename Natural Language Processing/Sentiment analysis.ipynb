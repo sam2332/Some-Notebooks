{
 "cells": [
  {
   "cell_type": "code",
   "execution_count": 48,
   "id": "d94223cb-3d96-4aed-9628-98f5a9d5e3a8",
   "metadata": {},
   "outputs": [],
   "source": [
    "import random\n",
    "import re\n",
    "import string\n",
    "\n",
    "import nltk\n",
    "from nltk import FreqDist, NaiveBayesClassifier, classify\n",
    "from nltk.corpus import stopwords, twitter_samples\n",
    "from nltk.stem.wordnet import WordNetLemmatizer\n",
    "from nltk.tag import pos_tag\n",
    "from nltk.tokenize import word_tokenize"
   ]
  },
  {
   "cell_type": "code",
   "execution_count": 49,
   "id": "ec301ad6-1f6a-4266-adf8-2306e75f1dfb",
   "metadata": {},
   "outputs": [
    {
     "name": "stderr",
     "output_type": "stream",
     "text": [
      "[nltk_data] Downloading package punkt to /home/srudloff/nltk_data...\n",
      "[nltk_data]   Package punkt is already up-to-date!\n",
      "[nltk_data] Downloading package wordnet to /home/srudloff/nltk_data...\n",
      "[nltk_data]   Package wordnet is already up-to-date!\n",
      "[nltk_data] Downloading package averaged_perceptron_tagger to\n",
      "[nltk_data]     /home/srudloff/nltk_data...\n",
      "[nltk_data]   Package averaged_perceptron_tagger is already up-to-\n",
      "[nltk_data]       date!\n",
      "[nltk_data] Downloading package omw-1.4 to /home/srudloff/nltk_data...\n",
      "[nltk_data]   Package omw-1.4 is already up-to-date!\n",
      "[nltk_data] Downloading package stopwords to\n",
      "[nltk_data]     /home/srudloff/nltk_data...\n",
      "[nltk_data]   Package stopwords is already up-to-date!\n"
     ]
    },
    {
     "data": {
      "text/plain": [
       "True"
      ]
     },
     "execution_count": 49,
     "metadata": {},
     "output_type": "execute_result"
    }
   ],
   "source": [
    "nltk.download(\"punkt\")\n",
    "nltk.download(\"wordnet\")\n",
    "nltk.download(\"averaged_perceptron_tagger\")\n",
    "nltk.download(\"omw-1.4\")\n",
    "nltk.download(\"stopwords\")\n",
    "nltk.download(\"twitter_samples\")"
   ]
  },
  {
   "cell_type": "code",
   "execution_count": 46,
   "id": "4f6a7d68-a138-4cd8-ad38-c03e43892a02",
   "metadata": {},
   "outputs": [],
   "source": [
    "def lemmatize_sentence(tokens):\n",
    "    lemmatizer = WordNetLemmatizer()\n",
    "    lemmatized_sentence = []\n",
    "    for word, tag in pos_tag(tokens):\n",
    "        if tag.startswith(\"NN\"):\n",
    "            pos = \"n\"\n",
    "        elif tag.startswith(\"VB\"):\n",
    "            pos = \"v\"\n",
    "        else:\n",
    "            pos = \"a\"\n",
    "        lemmatized_sentence.append(lemmatizer.lemmatize(word, pos))\n",
    "    return lemmatized_sentence\n",
    "\n",
    "\n",
    "def remove_noise(tweet_tokens, stop_words=()):\n",
    "    cleaned_tokens = []\n",
    "    for token, tag in pos_tag(tweet_tokens):\n",
    "        token = re.sub(\n",
    "            \"http[s]?://(?:[a-zA-Z]|[0-9]|[$-_@.&+#]|[!*\\(\\),]|\"\n",
    "            \"(?:%[0-9a-fA-F][0-9a-fA-F]))+\",\n",
    "            \"\",\n",
    "            token,\n",
    "        )\n",
    "        token = re.sub(\"(@[A-Za-z0-9_]+)\", \"\", token)\n",
    "\n",
    "        if tag.startswith(\"NN\"):\n",
    "            pos = \"n\"\n",
    "        elif tag.startswith(\"VB\"):\n",
    "            pos = \"v\"\n",
    "        else:\n",
    "            pos = \"a\"\n",
    "\n",
    "        lemmatizer = WordNetLemmatizer()\n",
    "        token = lemmatizer.lemmatize(token, pos)\n",
    "\n",
    "        if (\n",
    "            len(token) > 0\n",
    "            and token not in string.punctuation\n",
    "            and token.lower() not in stop_words\n",
    "        ):\n",
    "            cleaned_tokens.append(token.lower())\n",
    "    return cleaned_tokens"
   ]
  },
  {
   "cell_type": "code",
   "execution_count": 46,
   "id": "695f1fb3-1736-4a30-9016-e0c6f31c034f",
   "metadata": {},
   "outputs": [],
   "source": [
    "def get_all_words(cleaned_tokens_list):\n",
    "    for tokens in cleaned_tokens_list:\n",
    "        for token in tokens:\n",
    "            yield token"
   ]
  },
  {
   "cell_type": "code",
   "execution_count": 46,
   "id": "ee6ad2f6-d6ab-4689-aba2-17ae48d43fff",
   "metadata": {},
   "outputs": [],
   "source": [
    "def get_tweets_for_model(cleaned_tokens_list):\n",
    "    for tweet_tokens in cleaned_tokens_list:\n",
    "        yield dict([token, True] for token in tweet_tokens)"
   ]
  },
  {
   "cell_type": "code",
   "execution_count": 46,
   "id": "4a06243a-0d56-4309-a117-c567b095d734",
   "metadata": {},
   "outputs": [],
   "source": [
    "positive_tweets = twitter_samples.strings(\"positive_tweets.json\")\n",
    "negative_tweets = twitter_samples.strings(\"negative_tweets.json\")\n",
    "text = twitter_samples.strings(\"tweets.20150430-223406.json\")\n",
    "tweet_tokens = twitter_samples.tokenized(\"positive_tweets.json\")[0]\n",
    "tweet_tokens = twitter_samples.tokenized(\"positive_tweets.json\")"
   ]
  },
  {
   "cell_type": "code",
   "execution_count": 46,
   "id": "ec6aa3cc-1529-43eb-840c-0eb38bc27443",
   "metadata": {},
   "outputs": [],
   "source": [
    "stop_words = stopwords.words(\"english\")\n",
    "stop_words = stopwords.words(\"english\")\n",
    "\n",
    "positive_tweet_tokens = twitter_samples.tokenized(\"positive_tweets.json\")\n",
    "negative_tweet_tokens = twitter_samples.tokenized(\"negative_tweets.json\")\n",
    "\n",
    "positive_cleaned_tokens_list = []\n",
    "negative_cleaned_tokens_list = []\n",
    "\n",
    "for tokens in positive_tweet_tokens:\n",
    "    positive_cleaned_tokens_list.append(remove_noise(tokens, stop_words))\n",
    "\n",
    "for tokens in negative_tweet_tokens:\n",
    "    negative_cleaned_tokens_list.append(remove_noise(tokens, stop_words))"
   ]
  },
  {
   "cell_type": "code",
   "execution_count": 46,
   "id": "1dc6c3be-8c9e-4c2e-a312-2df7bf66cfca",
   "metadata": {},
   "outputs": [],
   "source": [
    "all_pos_words = get_all_words(positive_cleaned_tokens_list)\n",
    "freq_dist_pos = FreqDist(all_pos_words)"
   ]
  },
  {
   "cell_type": "code",
   "execution_count": 50,
   "id": "34023b73-9b80-4c87-b853-7d47bc72c99d",
   "metadata": {},
   "outputs": [],
   "source": [
    "positive_tokens_for_model = get_tweets_for_model(positive_cleaned_tokens_list)\n",
    "negative_tokens_for_model = get_tweets_for_model(negative_cleaned_tokens_list)\n",
    "\n",
    "positive_dataset = [\n",
    "    (tweet_dict, \"Positive\") for tweet_dict in positive_tokens_for_model\n",
    "]\n",
    "\n",
    "negative_dataset = [\n",
    "    (tweet_dict, \"Negative\") for tweet_dict in negative_tokens_for_model\n",
    "]\n",
    "\n",
    "dataset = positive_dataset + negative_dataset\n",
    "\n",
    "random.shuffle(dataset)\n",
    "\n",
    "train_data = dataset[:7000]\n",
    "test_data = dataset[7000:]\n",
    "\n",
    "classifier = NaiveBayesClassifier.train(train_data)"
   ]
  },
  {
   "cell_type": "code",
   "execution_count": 51,
   "id": "f635344b-0004-4125-bcd5-537d384643d8",
   "metadata": {},
   "outputs": [],
   "source": [
    "def Analysis(t):\n",
    "    custom_tokens = remove_noise(word_tokenize(t))\n",
    "    return classifier.classify(dict([token, True] for token in custom_tokens))"
   ]
  },
  {
   "cell_type": "code",
   "execution_count": 52,
   "id": "22884e77-40aa-4830-9fbc-d2c8fa0a4faa",
   "metadata": {},
   "outputs": [
    {
     "data": {
      "text/plain": [
       "'Positive'"
      ]
     },
     "execution_count": 52,
     "metadata": {},
     "output_type": "execute_result"
    }
   ],
   "source": [
    "Analysis(\"Hey guys i just got back from vacation!\")"
   ]
  },
  {
   "cell_type": "code",
   "execution_count": 53,
   "id": "2b7a155e-a521-491a-a2ad-d9c3917e3a76",
   "metadata": {},
   "outputs": [
    {
     "data": {
      "text/plain": [
       "'Negative'"
      ]
     },
     "execution_count": 53,
     "metadata": {},
     "output_type": "execute_result"
    }
   ],
   "source": [
    "Analysis(\"I just got back from the hospital.\")"
   ]
  },
  {
   "cell_type": "code",
   "execution_count": null,
   "id": "bc7c8152-dfd2-46b2-a193-4e0a45a89d26",
   "metadata": {},
   "outputs": [],
   "source": []
  }
 ],
 "metadata": {
  "kernelspec": {
   "display_name": "Python 3 (ipykernel)",
   "language": "python",
   "name": "python3"
  },
  "language_info": {
   "codemirror_mode": {
    "name": "ipython",
    "version": 3
   },
   "file_extension": ".py",
   "mimetype": "text/x-python",
   "name": "python",
   "nbconvert_exporter": "python",
   "pygments_lexer": "ipython3",
   "version": "3.10.4"
  },
  "scenes_data": {
   "active_scene": "Default Scene",
   "init_scene": "",
   "scenes": [
    "Default Scene"
   ]
  },
  "widgets": {
   "application/vnd.jupyter.widget-state+json": {
    "state": {},
    "version_major": 2,
    "version_minor": 0
   }
  }
 },
 "nbformat": 4,
 "nbformat_minor": 5
}
