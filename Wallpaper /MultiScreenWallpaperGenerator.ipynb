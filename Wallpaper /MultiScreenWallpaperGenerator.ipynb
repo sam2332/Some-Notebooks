{
 "cells": [
  {
   "cell_type": "code",
   "execution_count": 19,
   "id": "023899e6-d655-4aa8-b057-6f94b67d90eb",
   "metadata": {},
   "outputs": [],
   "source": [
    "from PIL import Image,ImageDraw\n",
    "import io\n",
    "import json\n",
    "from datetime import datetime\n",
    "import pytz\n",
    "import astral,astral.sun\n",
    "import psutil\n",
    "import random\n",
    "from bs4 import BeautifulSoup\n",
    "import os\n",
    "import time\n",
    "import requests\n",
    "import subprocess\n",
    "from pathlib import Path\n",
    "from PIL import Image, ImageEnhance\n",
    "import logging\n",
    "import sys\n"
   ]
  },
  {
   "cell_type": "code",
   "execution_count": 20,
   "id": "d6cce0eb-6a6f-43ee-a4c8-1f5abc7c409e",
   "metadata": {
    "tags": [
     "parameters"
    ]
   },
   "outputs": [],
   "source": [
    "force_change=True  # Set to false to wait\n",
    "min_auto_seconds=58 # Seconds to wait"
   ]
  },
  {
   "cell_type": "code",
   "execution_count": 21,
   "id": "899b1eb9-d5cd-4a55-8682-f2319a74f5d2",
   "metadata": {},
   "outputs": [],
   "source": [
    "wallpaper_dir = os.path.expanduser(\"~/Pictures/Wallpapers/\")"
   ]
  },
  {
   "cell_type": "code",
   "execution_count": 22,
   "id": "7033492f-2ef7-4840-9d68-6bada1286192",
   "metadata": {
    "tags": []
   },
   "outputs": [],
   "source": [
    "if not force_change:\n",
    "    if((time.time()-os.stat('randomWp.log').st_mtime) < min_auto_seconds):\n",
    "        sys.exit(0)"
   ]
  },
  {
   "cell_type": "code",
   "execution_count": 23,
   "id": "87322b73-aea3-4c14-b1b2-fac5099a486e",
   "metadata": {},
   "outputs": [],
   "source": [
    "##Magic Logging Bootstrap\n",
    "logging.basicConfig(\n",
    "    filename='randomWp.log',\n",
    "    level=logging.INFO,\n",
    "    format='%(asctime)s.%(msecs)03d %(levelname)s %(module)s - %(funcName)s: %(message)s',\n",
    "    datefmt='%Y-%m-%d %H:%M:%S'\n",
    ")\n",
    "\n",
    "logging.getLogger().addHandler(logging.StreamHandler(sys.stdout))\n",
    "\n",
    "exlogger = logging.getLogger(\"Exception\")\n",
    "def handle_exception(exc_type, exc_value, exc_traceback):\n",
    "    if issubclass(exc_type, KeyboardInterrupt):\n",
    "        sys.__excepthook__(exc_type, exc_value, exc_traceback)\n",
    "        return\n",
    "    exlogger.error(\"Uncaught exception\", exc_info=(exc_type, exc_value, exc_traceback))\n",
    "sys.excepthook = handle_exception"
   ]
  },
  {
   "cell_type": "raw",
   "id": "96b00a59-fcef-46cf-b50c-1f223dc17e8e",
   "metadata": {},
   "source": [
    "def getRandomBackground(size=None):\n",
    "    if size is None:\n",
    "        size = random.choice(os.listdir(wallpaper_dir))\n",
    "        logging.info(\"Selecting random size images\")\n",
    "    try:\n",
    "        bgs = os.listdir(os.path.join(wallpaper_dir,size))\n",
    "        if len(bgs)==0:\n",
    "            return None\n",
    "        return os.path.join(wallpaper_dir,size,random.choice(bgs))\n",
    "    except Exception as e:\n",
    "        print(e)\n",
    "        return None"
   ]
  },
  {
   "cell_type": "code",
   "execution_count": 24,
   "id": "5f8cb6dd-89d1-4f2f-a61c-b0e3b12e4753",
   "metadata": {},
   "outputs": [],
   "source": [
    "def downloadSomePapers(size=None):\n",
    "    resolution = \"\"\n",
    "    if size is not None:\n",
    "        resolution = f\"&atleast={size}\"\n",
    "    if os.path.exists('wp-downloading'):\n",
    "        if((time.time() - os.stat('wp-downloading').st_mtime) > 3*60):\n",
    "            os.unlink('wp-downloading')\n",
    "        else:\n",
    "            print(f'wp-downloading file is present and good for {(3*60)-(time.time() - os.stat(\"wp-downloading\").st_mtime)} seconds more')\n",
    "            sys.exit(1)\n",
    "\n",
    "    with open('wp-downloading', 'w') as f:\n",
    "        f.write(' ')\n",
    "\n",
    "    sfw = 1\n",
    "    sketchy = 0\n",
    "    nsfw = 0\n",
    "    blacklist=[\n",
    "        'https://wallhaven.cc/images/layout/logo_sm.png'\n",
    "    ]\n",
    "    wallpaper_dir = os.path.expanduser(\"~/Pictures/Wallpapers\")\n",
    "    if not os.path.exists(wallpaper_dir):\n",
    "        os.mkdir(wallpaper_dir)\n",
    "\n",
    "    def process4WalledPage(url):\n",
    "        res = requests.get(url, headers={\"User-Agent\": 'Mozilla/5.0 (X11; Linux x86_64) AppleWebKit/537.36 (KHTML, like Gecko) Chrome/98.0.4758.102 Safari/537.36'})\n",
    "        soup = BeautifulSoup(res.text, features=\"lxml\")\n",
    "        for item in soup.find_all('img'):\n",
    "            if 'data-src' in item.attrs:\n",
    "                if item.attrs['data-src'] not in blacklist:\n",
    "                    item = item.attrs['data-src']\n",
    "                    item = item.replace(\"https://th.wallhaven.cc/small/\", \"\")\n",
    "                    item = item.replace(\"/\", \"/wallhaven-\")\n",
    "                    url = f\"https://w.wallhaven.cc/full/{item}\"\n",
    "                    fn = item.split('/').pop()\n",
    "                    yield((fn, url))\n",
    "    random_url = f\"https://wallhaven.cc/search?categories=111&purity={sfw}{sketchy}{nsfw}&atleast={resolution}&sorting=random&order=desc&page=3\"\n",
    "    print(f'scraping {random_url}')\n",
    "    for filename, url in process4WalledPage(random_url):\n",
    "        print(f\"{url} => {filename}\")\n",
    "        res = requests.get(url)\n",
    "        if res.status_code == 200 and len(res.content)>1:\n",
    "            img = Image.open(io.BytesIO(res.content))\n",
    "            height,width = img.size\n",
    "            size_str = f'{height}x{width}'\n",
    "            print(f\"adding image to: {size_str}\")\n",
    "            size_folder = Path(os.path.join(wallpaper_dir,size_str))\n",
    "            if not size_folder.exists():\n",
    "                size_folder.mkdir()\n",
    "            out_path = os.path.join(wallpaper_dir,size_str,filename)\n",
    "            with open(out_path,'wb') as f:\n",
    "                f.write(res.content)\n",
    "    os.unlink('wp-downloading')"
   ]
  },
  {
   "cell_type": "code",
   "execution_count": 25,
   "id": "3bba6586-79dc-4665-a624-f55bf309cc5b",
   "metadata": {},
   "outputs": [],
   "source": [
    "def get_DBUS_SESSION_BUS_ADDRESS():\n",
    "    PID = None\n",
    "    for p in psutil.process_iter():\n",
    "        if p.name() == \"gnome-session-binary\":\n",
    "            PID = p.pid\n",
    "            break\n",
    "\n",
    "    logging.debug(PID)\n",
    "\n",
    "    DBUS_SESSION_BUS_ADDRESS=None\n",
    "    with open(f'/proc/{PID}/environ', 'rb') as f:\n",
    "        d = f.read()\n",
    "        for line in d.split(b'\\x00'):\n",
    "            if b'DBUS_SESSION_BUS_ADDRESS' in line:\n",
    "                line = line.split(b'=', maxsplit=1)\n",
    "                DBUS_SESSION_BUS_ADDRESS = line[1].decode('utf-8')\n",
    "    logging.debug(DBUS_SESSION_BUS_ADDRESS)\n",
    "    os.environ['DBUS_SESSION_BUS_ADDRESS'] = DBUS_SESSION_BUS_ADDRESS\n",
    "    return DBUS_SESSION_BUS_ADDRESS"
   ]
  },
  {
   "cell_type": "raw",
   "id": "0b047a4e-70f2-41d6-acd2-eb81e593a43b",
   "metadata": {},
   "source": [
    "old_wp = subprocess.check_output([\"/usr/bin/gsettings\",\"get\",\"org.gnome.desktop.background\",\"picture-uri\"]).decode('utf-8').strip().rstrip(\"'\").lstrip(\"'\")\n",
    "try:\n",
    "os.unlink(old_wp)\n",
    "except Exception as e:\n",
    "    "
   ]
  },
  {
   "cell_type": "raw",
   "id": "4207d6b7-8f4f-4405-9085-23dcbfb2f3c1",
   "metadata": {},
   "source": [
    "pass"
   ]
  },
  {
   "cell_type": "raw",
   "id": "5766befc-a9c5-458c-b52b-2baff2399bd6",
   "metadata": {},
   "source": [
    "for _ in range(10):\n",
    "    print(getRandomBackground())"
   ]
  },
  {
   "cell_type": "code",
   "execution_count": null,
   "id": "aafebd0d-45fc-446b-9de7-52418b50bd31",
   "metadata": {},
   "outputs": [],
   "source": []
  },
  {
   "cell_type": "code",
   "execution_count": 26,
   "id": "f6ee9e46-ed26-4db4-a489-60834bddd3a7",
   "metadata": {},
   "outputs": [],
   "source": [
    "def getSunset():\n",
    "    latitude = 42.703750\n",
    "    longitude = -84.438410\n",
    "    tz_chicago = pytz.timezone('America/Chicago')\n",
    "    tz_name = 'America/Chicago'\n",
    "    for_date = datetime.now().date()\n",
    "    locationInfoObj = astral.LocationInfo('Custom Name', 'My Region', tz_name, latitude, longitude)\n",
    "    s = astral.sun.sun(locationInfoObj.observer, date=for_date)\n",
    "    return s['sunset'].astimezone(tz_chicago)"
   ]
  },
  {
   "cell_type": "raw",
   "id": "9e986b38-65f3-4ae7-800d-a08047017f9e",
   "metadata": {},
   "source": [
    "raise Exception('stop')"
   ]
  },
  {
   "cell_type": "code",
   "execution_count": null,
   "id": "468733a5-291d-4bc8-901f-4afc82a756fa",
   "metadata": {},
   "outputs": [],
   "source": []
  },
  {
   "cell_type": "code",
   "execution_count": 27,
   "id": "b2f09ba6-fc32-4f5b-841c-77b9d99d2cb4",
   "metadata": {},
   "outputs": [],
   "source": [
    "from screeninfo import get_monitors"
   ]
  },
  {
   "cell_type": "code",
   "execution_count": 28,
   "id": "72c1ec60-e200-41f1-a131-d150afd34a57",
   "metadata": {},
   "outputs": [
    {
     "name": "stdout",
     "output_type": "stream",
     "text": [
      "Monitor(x=3000, y=0, width=1080, height=1920, width_mm=300, height_mm=530, name='XWAYLAND0', is_primary=False)\n",
      "Monitor(x=3000, y=0, width=1080, height=1920, width_mm=300, height_mm=530, name='XWAYLAND0', is_primary=False)\n",
      "Monitor(x=0, y=0, width=1080, height=1920, width_mm=300, height_mm=530, name='XWAYLAND1', is_primary=False)\n",
      "Monitor(x=0, y=0, width=1080, height=1920, width_mm=300, height_mm=530, name='XWAYLAND1', is_primary=False)\n",
      "Monitor(x=1080, y=0, width=1920, height=1080, width_mm=530, height_mm=300, name='XWAYLAND2', is_primary=False)\n",
      "Monitor(x=1080, y=0, width=1920, height=1080, width_mm=530, height_mm=300, name='XWAYLAND2', is_primary=False)\n",
      "Monitor(x=1080, y=1080, width=1920, height=1080, width_mm=310, height_mm=170, name='XWAYLAND3', is_primary=True)\n",
      "Monitor(x=1080, y=1080, width=1920, height=1080, width_mm=310, height_mm=170, name='XWAYLAND3', is_primary=True)\n",
      "maxes 4080,2160\n",
      "maxes 4080,2160\n"
     ]
    }
   ],
   "source": [
    "max_height = 0\n",
    "max_width = 0\n",
    "\n",
    "for m in get_monitors():\n",
    "    logging.info(m)\n",
    "    if m.x + m.width > max_width:\n",
    "        max_width = m.x + m.width\n",
    "    if m.y + m.height > max_height:\n",
    "        max_height =  m.y + m.height\n",
    "logging.info(f\"maxes {max_width},{max_height}\")"
   ]
  },
  {
   "cell_type": "code",
   "execution_count": null,
   "id": "e505a71c-2a71-4818-96f0-7a81e5fc662c",
   "metadata": {},
   "outputs": [],
   "source": []
  },
  {
   "cell_type": "code",
   "execution_count": 29,
   "id": "0ef3cd00",
   "metadata": {},
   "outputs": [
    {
     "data": {
      "text/plain": [
       "False"
      ]
     },
     "execution_count": 29,
     "metadata": {},
     "output_type": "execute_result"
    }
   ],
   "source": [
    "p = Path('weather.json')\n",
    "not p.exists() or (datetime.now()-datetime.fromtimestamp(p.stat().st_mtime)).seconds > 60*60*10"
   ]
  },
  {
   "cell_type": "code",
   "execution_count": null,
   "id": "d4a2eb82",
   "metadata": {},
   "outputs": [],
   "source": []
  },
  {
   "cell_type": "code",
   "execution_count": null,
   "id": "991afbf6",
   "metadata": {},
   "outputs": [],
   "source": []
  },
  {
   "cell_type": "code",
   "execution_count": 30,
   "id": "9fad2571",
   "metadata": {},
   "outputs": [],
   "source": [
    "def isStorming():\n",
    "    if(not p.exists() or (datetime.now()-datetime.fromtimestamp(p.stat().st_mtime)).seconds > 60*60*10):\n",
    "        weather = requests.get(\"https://dataservice.accuweather.com/forecasts/v1/hourly/1hour/2211489?apikey=lzAwADaLJIEGXGWS4eCsSL7jVGmiBw9l&language=en-us&details=true\").json()\n",
    "        if 'Code' in weather and weather['Code'] =='ServiceUnavailable':\n",
    "            return False\n",
    "        p.write_text(json.dumps(weather))\n",
    "    else:\n",
    "        weather = json.loads(p.read_text())\n",
    "    return weather[0]['IconPhrase'] == 'Thunderstorms'"
   ]
  },
  {
   "cell_type": "code",
   "execution_count": 31,
   "id": "cc9f6cc6-4bde-4bf3-97c6-4fc75fe209f2",
   "metadata": {},
   "outputs": [],
   "source": [
    "def imgToRatio(h,w):\n",
    "    if h>w:\n",
    "        return '16x9'\n",
    "    elif w>h:\n",
    "        return '9x16'\n",
    "    else:\n",
    "        return 'square'"
   ]
  },
  {
   "cell_type": "code",
   "execution_count": 32,
   "id": "47ecb147-c2f6-49d8-9a08-5bb00226b331",
   "metadata": {},
   "outputs": [],
   "source": [
    "def getRandomBackground(size=None,used=None):\n",
    "    if used is None:\n",
    "        used = []\n",
    "    if size is None:\n",
    "        size = random.choice(os.listdir(wallpaper_dir))\n",
    "        logging.info(\"Selecting random size images\")\n",
    "    try:\n",
    "        bgs = os.listdir(os.path.join(wallpaper_dir,size))\n",
    "        if len(bgs)==0:\n",
    "            return None\n",
    "        path = os.path.join(wallpaper_dir,size,random.choice(bgs))\n",
    "        max_i=10\n",
    "        if path in used:\n",
    "            while path in used:\n",
    "                max_i-=1\n",
    "                print('ReRollin', max_i)\n",
    "                path = os.path.join(wallpaper_dir,size,random.choice(bgs))\n",
    "                if max_i ==0:\n",
    "                    return None\n",
    "        return path\n",
    "    except Exception as e:\n",
    "        print(e)\n",
    "        return None"
   ]
  },
  {
   "cell_type": "code",
   "execution_count": 33,
   "id": "47f3c852-7381-463e-8bf8-711755597ca7",
   "metadata": {},
   "outputs": [],
   "source": [
    "class ImageSpot():\n",
    "    def __init__(self,image,x,y,h,w):\n",
    "        self.image = image\n",
    "        self.x = x\n",
    "        self.y = y\n",
    "        self.height = h\n",
    "        self.width = w\n",
    "        print(self)\n",
    "        self.fillColor = '';\n",
    "        self.size_str = imgToRatio(h,w)\n",
    "        self.ratio = w/h\n",
    "\n",
    "    def fill(self, im):\n",
    "        pos = (self.x, self.y)\n",
    "        logging.info(f'pasting at {pos}, {im.size}')\n",
    "        self.image.paste(im, pos)\n",
    "\n",
    "    def fakeit(self):\n",
    "        shape = [(self.x, self.y), (self.x+self.width, self.y + self.height)]\n",
    "        # create rectangle image\n",
    "        img1 = ImageDraw.Draw(self.image)\n",
    "        img1.rectangle(shape, fill=self.fillColor)\n",
    "    def __repr__(self):\n",
    "        return f\"Monitor({self.x},{self.y}) {self.width}X{self.height}\""
   ]
  },
  {
   "cell_type": "code",
   "execution_count": 34,
   "id": "fc9fb224-8435-44ad-8c3e-7ceea72dee8b",
   "metadata": {},
   "outputs": [
    {
     "name": "stdout",
     "output_type": "stream",
     "text": [
      "Monitor(3000,0) 1080X1920\n",
      "Monitor(0,0) 1080X1920\n",
      "Monitor(1080,0) 1920X1080\n",
      "Monitor(1080,1080) 1920X1080\n",
      "Monitor(3000,0) 1080X1920\n",
      "Monitor(3000,0) 1080X1920\n",
      "wpf /home/srudloff/Pictures/Wallpapers/16x9/wallhaven-mpexx8.jpg\n",
      "wpf /home/srudloff/Pictures/Wallpapers/16x9/wallhaven-mpexx8.jpg\n",
      "Monitor(3000,0) 1080X1920 - 16x9,(1080, 1920),/home/srudloff/Pictures/Wallpapers/16x9/wallhaven-mpexx8.jpg\n",
      "Monitor(3000,0) 1080X1920 - 16x9,(1080, 1920),/home/srudloff/Pictures/Wallpapers/16x9/wallhaven-mpexx8.jpg\n",
      "pasting at (3000, 0), (1080, 1920)\n",
      "pasting at (3000, 0), (1080, 1920)\n",
      "\n",
      "Monitor(0,0) 1080X1920\n",
      "Monitor(0,0) 1080X1920\n",
      "wpf /home/srudloff/Pictures/Wallpapers/16x9/wallhaven-0wgmk7.jpg\n",
      "wpf /home/srudloff/Pictures/Wallpapers/16x9/wallhaven-0wgmk7.jpg\n",
      "Monitor(0,0) 1080X1920 - 16x9,(1080, 1920),/home/srudloff/Pictures/Wallpapers/16x9/wallhaven-0wgmk7.jpg\n",
      "Monitor(0,0) 1080X1920 - 16x9,(1080, 1920),/home/srudloff/Pictures/Wallpapers/16x9/wallhaven-0wgmk7.jpg\n",
      "pasting at (0, 0), (1080, 1920)\n",
      "pasting at (0, 0), (1080, 1920)\n",
      "\n",
      "Monitor(1080,0) 1920X1080\n",
      "Monitor(1080,0) 1920X1080\n",
      "wpf /home/srudloff/Pictures/Wallpapers/9x16/wallhaven-0jzz85.jpg\n",
      "wpf /home/srudloff/Pictures/Wallpapers/9x16/wallhaven-0jzz85.jpg\n",
      "Monitor(1080,0) 1920X1080 - 9x16,(1920, 1080),/home/srudloff/Pictures/Wallpapers/9x16/wallhaven-0jzz85.jpg\n",
      "Monitor(1080,0) 1920X1080 - 9x16,(1920, 1080),/home/srudloff/Pictures/Wallpapers/9x16/wallhaven-0jzz85.jpg\n",
      "pasting at (1080, 0), (1920, 1080)\n",
      "pasting at (1080, 0), (1920, 1080)\n",
      "\n",
      "Monitor(1080,1080) 1920X1080\n",
      "Monitor(1080,1080) 1920X1080\n",
      "wpf /home/srudloff/Pictures/Wallpapers/9x16/wallhaven-wy5ljq.jpg\n",
      "wpf /home/srudloff/Pictures/Wallpapers/9x16/wallhaven-wy5ljq.jpg\n",
      "Monitor(1080,1080) 1920X1080 - 9x16,(1920, 1080),/home/srudloff/Pictures/Wallpapers/9x16/wallhaven-wy5ljq.jpg\n",
      "Monitor(1080,1080) 1920X1080 - 9x16,(1920, 1080),/home/srudloff/Pictures/Wallpapers/9x16/wallhaven-wy5ljq.jpg\n",
      "pasting at (1080, 1080), (1920, 1080)\n",
      "pasting at (1080, 1080), (1920, 1080)\n",
      "\n",
      "Sunset mode\n"
     ]
    }
   ],
   "source": [
    "im = Image.new(mode=\"RGBA\", size=(max_width,max_height))\n",
    "image_spots = []\n",
    "for m in get_monitors():\n",
    "    image_spots.append(ImageSpot(image=im, x=m.x, y=m.y, h=m.height, w=m.width))\n",
    "\n",
    "\n",
    "backup_colors = ['#151515','#131313','#171717','#ff00ff']\n",
    "needs_more_papers=[]\n",
    "used = []\n",
    "for item in image_spots:\n",
    "    logging.info(item)\n",
    "    wallpaper = None\n",
    "    wallpaper = getRandomBackground(item.size_str,used)\n",
    "    logging.info(f'wpf {wallpaper}')\n",
    "    if wallpaper is None:\n",
    "        logging.info(f\"no image of size:{item.size_str}, faking it\")\n",
    "        needs_more_papers.append(item.size_str)\n",
    "        item.fillColor = backup_colors.pop(0)\n",
    "        item.fakeit()\n",
    "    else:\n",
    "        img = Image.open(wallpaper)\n",
    "        logging.info(f\"{item} - {item.size_str},{img.size},{wallpaper}\")\n",
    "        item.fill(img)\n",
    "        used.append(wallpaper)\n",
    "    print()\n",
    "wallpaper = os.path.expanduser('~/bg.png')\n",
    "\n",
    "a = getSunset()\n",
    "if (datetime.now().time().hour > a.hour or isStorming()):\n",
    "    print(\"Sunset mode\")\n",
    "    enhancer = ImageEnhance.Brightness(im)\n",
    "    factor = 0.5  # Darkens the image\n",
    "    im = enhancer.enhance(factor)\n",
    "\n",
    "im.save(wallpaper)"
   ]
  },
  {
   "cell_type": "raw",
   "id": "e95f761a-851c-4bd6-82df-159f25fb2ff5",
   "metadata": {},
   "source": [
    "im.show()"
   ]
  },
  {
   "cell_type": "code",
   "execution_count": 35,
   "id": "f49ee1b9-aecf-471b-8412-e59f3c261dba",
   "metadata": {},
   "outputs": [
    {
     "data": {
      "text/plain": [
       "'unix:path=/run/user/1000/bus'"
      ]
     },
     "execution_count": 35,
     "metadata": {},
     "output_type": "execute_result"
    }
   ],
   "source": [
    "get_DBUS_SESSION_BUS_ADDRESS()"
   ]
  },
  {
   "cell_type": "code",
   "execution_count": 36,
   "id": "fe1c8a78-ecbb-4094-9147-938c28e8fd1e",
   "metadata": {},
   "outputs": [
    {
     "data": {
      "text/plain": [
       "0"
      ]
     },
     "execution_count": 36,
     "metadata": {},
     "output_type": "execute_result"
    }
   ],
   "source": [
    "cmd =f\"DBUS_SESSION_BUS_ADDRESS='{get_DBUS_SESSION_BUS_ADDRESS()}' /usr/bin/gsettings set org.gnome.desktop.background picture-uri {wallpaper}\"\n",
    "logging.debug(cmd)\n",
    "os.system(cmd)\n",
    "\n",
    "cmd =f\"DBUS_SESSION_BUS_ADDRESS='{get_DBUS_SESSION_BUS_ADDRESS()}' /usr/bin/gsettings set org.gnome.desktop.background picture-uri-dark {wallpaper}\"\n",
    "logging.debug(cmd)\n",
    "os.system(cmd)\n",
    "\n",
    "try:\n",
    "    os.unlink('wp-lock')\n",
    "except Exception:\n",
    "    pass\n",
    "\n",
    "cmd =f\"DBUS_SESSION_BUS_ADDRESS='{get_DBUS_SESSION_BUS_ADDRESS()}' /usr/bin/gsettings set org.gnome.desktop.background picture-options spanned\"\n",
    "os.system(cmd)"
   ]
  },
  {
   "cell_type": "code",
   "execution_count": 18,
   "id": "78f078ef-97a4-4ba9-bcd7-965a0a0476a3",
   "metadata": {},
   "outputs": [
    {
     "name": "stdout",
     "output_type": "stream",
     "text": [
      "https://wallhaven.cc/search?categories=111&purity=100&ratios=9x16&sorting=random&order=desc\n",
      "https://w.wallhaven.cc/full/3k/wallhaven-3kjd16.jpg => wallhaven-3kjd16.jpg\n",
      "adding image to: 1242x2208\n",
      "https://w.wallhaven.cc/full/k9/wallhaven-k9yre6.jpg => wallhaven-k9yre6.jpg\n",
      "adding image to: 1200x2156\n",
      "https://w.wallhaven.cc/full/96/wallhaven-96e37w.jpg => wallhaven-96e37w.jpg\n",
      "adding image to: 1152x2048\n",
      "https://w.wallhaven.cc/full/eo/wallhaven-eoql1k.jpg => wallhaven-eoql1k.jpg\n",
      "adding image to: 1080x1920\n",
      "https://w.wallhaven.cc/full/d5/wallhaven-d5y9go.jpg => wallhaven-d5y9go.jpg\n",
      "adding image to: 1242x2208\n",
      "https://w.wallhaven.cc/full/x8/wallhaven-x8y1pz.jpg => wallhaven-x8y1pz.jpg\n",
      "adding image to: 2239x3967\n",
      "https://w.wallhaven.cc/full/73/wallhaven-73g6re.jpg => wallhaven-73g6re.jpg\n",
      "adding image to: 1080x1920\n",
      "https://w.wallhaven.cc/full/3z/wallhaven-3z95v3.jpg => wallhaven-3z95v3.jpg\n",
      "adding image to: 1080x1920\n",
      "https://w.wallhaven.cc/full/j8/wallhaven-j88mrp.jpg => wallhaven-j88mrp.jpg\n",
      "adding image to: 2048x3648\n",
      "https://w.wallhaven.cc/full/md/wallhaven-md6d38.jpg => wallhaven-md6d38.jpg\n",
      "adding image to: 844x1500\n",
      "https://w.wallhaven.cc/full/od/wallhaven-od8zrm.jpg => wallhaven-od8zrm.jpg\n",
      "adding image to: 1242x2208\n",
      "https://w.wallhaven.cc/full/q2/wallhaven-q2k5vd.jpg => wallhaven-q2k5vd.jpg\n",
      "adding image to: 2250x4000\n",
      "https://wallhaven.cc/search?categories=111&purity=100&ratios=16x9&sorting=random&order=desc\n",
      "https://w.wallhaven.cc/full/73/wallhaven-7317r3.jpg => wallhaven-7317r3.jpg\n",
      "adding image to: 1920x1080\n",
      "https://w.wallhaven.cc/full/43/wallhaven-43167v.jpg => wallhaven-43167v.jpg\n",
      "adding image to: 3980x2239\n",
      "https://w.wallhaven.cc/full/4v/wallhaven-4vjkdm.jpg => wallhaven-4vjkdm.jpg\n",
      "adding image to: 1920x1080\n",
      "https://w.wallhaven.cc/full/x1/wallhaven-x1z3pd.jpg => wallhaven-x1z3pd.jpg\n",
      "adding image to: 1920x1080\n",
      "https://w.wallhaven.cc/full/83/wallhaven-8388m2.jpg => wallhaven-8388m2.jpg\n",
      "adding image to: 1920x1080\n",
      "https://w.wallhaven.cc/full/95/wallhaven-95mejx.jpg => wallhaven-95mejx.jpg\n",
      "adding image to: 1920x1080\n",
      "https://w.wallhaven.cc/full/6k/wallhaven-6kyo56.jpg => wallhaven-6kyo56.jpg\n",
      "adding image to: 3840x2160\n",
      "https://w.wallhaven.cc/full/2k/wallhaven-2ko7z6.jpg => wallhaven-2ko7z6.jpg\n",
      "adding image to: 5472x3078\n",
      "https://w.wallhaven.cc/full/w8/wallhaven-w8r8q6.jpg => wallhaven-w8r8q6.jpg\n",
      "adding image to: 1920x1080\n",
      "https://w.wallhaven.cc/full/0w/wallhaven-0wvwlq.jpg => wallhaven-0wvwlq.jpg\n",
      "adding image to: 1920x1080\n",
      "https://w.wallhaven.cc/full/1j/wallhaven-1jg86v.jpg => wallhaven-1jg86v.jpg\n",
      "adding image to: 1920x1080\n",
      "https://w.wallhaven.cc/full/e7/wallhaven-e77ezo.jpg => wallhaven-e77ezo.jpg\n",
      "adding image to: 1920x1080\n",
      "https://w.wallhaven.cc/full/3z/wallhaven-3z15z3.jpg => wallhaven-3z15z3.jpg\n",
      "adding image to: 3840x2160\n",
      "https://w.wallhaven.cc/full/72/wallhaven-725vov.jpg => wallhaven-725vov.jpg\n",
      "adding image to: 1920x1080\n",
      "https://w.wallhaven.cc/full/qd/wallhaven-qd3v2r.jpg => wallhaven-qd3v2r.jpg\n",
      "adding image to: 1920x1080\n",
      "https://w.wallhaven.cc/full/0j/wallhaven-0jyvvy.jpg => wallhaven-0jyvvy.jpg\n",
      "adding image to: 1920x1080\n"
     ]
    }
   ],
   "source": [
    "urls =[\n",
    "    \"https://wallhaven.cc/search?categories=111&purity=100&ratios=9x16&sorting=random&order=desc\",\n",
    "    \"https://wallhaven.cc/search?categories=111&purity=100&ratios=16x9&sorting=random&order=desc\"\n",
    "]\n",
    "\n",
    "\n",
    "blacklist=[\n",
    "    'https://wallhaven.cc/images/layout/logo_sm.png'\n",
    "]\n",
    "\n",
    "def process4WalledPage(url):\n",
    "    res = requests.get(url, headers={\"User-Agent\": 'Mozilla/5.0 (X11; Linux x86_64) AppleWebKit/537.36 (KHTML, like Gecko) Chrome/98.0.4758.102 Safari/537.36'})\n",
    "    soup = BeautifulSoup(res.text, features=\"lxml\")\n",
    "    for item in soup.find_all('img'):\n",
    "        if 'data-src' in item.attrs:\n",
    "            if item.attrs['data-src'] not in blacklist:\n",
    "                item = item.attrs['data-src']\n",
    "                item = item.replace(\"https://th.wallhaven.cc/small/\", \"\")\n",
    "                item = item.replace(\"/\", \"/wallhaven-\")\n",
    "                url = f\"https://w.wallhaven.cc/full/{item}\"\n",
    "                fn = item.split('/').pop()\n",
    "                yield((fn, url))\n",
    "for url in urls:\n",
    "    print(f\"{url}\")\n",
    "    for filename, url in process4WalledPage(url):\n",
    "        res = requests.get(url)\n",
    "        if res.status_code == 200 and len(res.content)>1:\n",
    "            print(f\"{url} => {filename}\")\n",
    "            img = Image.open(io.BytesIO(res.content))\n",
    "            height,width = img.size\n",
    "            size_str = f'{height}x{width}'\n",
    "            print(f\"adding image to: {size_str}\")\n",
    "            size_folder = Path(os.path.join(wallpaper_dir,size_str))\n",
    "            if not size_folder.exists():\n",
    "                size_folder.mkdir()\n",
    "            out_path = os.path.join(wallpaper_dir,size_str,filename)\n",
    "            with open(out_path,'wb') as f:\n",
    "                f.write(res.content)"
   ]
  },
  {
   "cell_type": "raw",
   "id": "ac54bd06-2918-4f46-adfb-ff6f1047954e",
   "metadata": {},
   "source": [
    "if len(needs_more_papers):\n",
    "    for size in needs_more_papers:\n",
    "        downloadSomePapers(size)"
   ]
  },
  {
   "cell_type": "raw",
   "id": "bfaf97db-ba12-441a-9bbf-56c6a27fea43",
   "metadata": {},
   "source": [
    "for i in Path(wallpaper_dir).iterdir():\n",
    "    print(i.name)"
   ]
  },
  {
   "cell_type": "code",
   "execution_count": null,
   "id": "434bef3a-24c0-45d4-9314-6a37850cf372",
   "metadata": {},
   "outputs": [],
   "source": []
  }
 ],
 "metadata": {
  "celltoolbar": "Tags",
  "kernelspec": {
   "display_name": "Python 3 (ipykernel)",
   "language": "python",
   "name": "python3"
  },
  "language_info": {
   "codemirror_mode": {
    "name": "ipython",
    "version": 3
   },
   "file_extension": ".py",
   "mimetype": "text/x-python",
   "name": "python",
   "nbconvert_exporter": "python",
   "pygments_lexer": "ipython3",
   "version": "3.10.4"
  }
 },
 "nbformat": 4,
 "nbformat_minor": 5
}
