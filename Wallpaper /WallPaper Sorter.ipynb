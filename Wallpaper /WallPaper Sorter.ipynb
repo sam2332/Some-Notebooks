{
    "cells": [
        {
            "cell_type": "code",
            "execution_count": 13,
            "id": "5d8a78d5-eaa5-47f8-8e67-07bbf01335e0",
            "metadata": {},
            "outputs": [],
            "source": [
                "from PIL import Image\n",
                "import shutil\n",
                "from pathlib import Path"
            ]
        },
        {
            "cell_type": "code",
            "execution_count": 14,
            "id": "c1c9d1fb-3581-4a9d-92ac-d50b28922360",
            "metadata": {},
            "outputs": [],
            "source": [
                "def imgToRatio(h,w):\n",
                "    if h>w:\n",
                "        return '16x9'\n",
                "    elif w>h:\n",
                "        return '9x16'\n",
                "    else:\n",
                "        return 'square'"
            ]
        },
        {
            "cell_type": "code",
            "execution_count": 15,
            "id": "9cb00e3c-a7db-43a9-b66f-88b404fd45a5",
            "metadata": {},
            "outputs": [],
            "source": [
                "def ratioToSize(ratio):\n",
                "    if ratio == '16x9':\n",
                "        return (1080,1920)\n",
                "    elif ratio == '9x16':\n",
                "        return (1920,1080)\n",
                "    else:\n",
                "        return None"
            ]
        },
        {
            "cell_type": "code",
            "execution_count": 16,
            "id": "85b80334-e2bc-4b9e-83a5-5dfea9f90ad1",
            "metadata": {},
            "outputs": [],
            "source": [
                "from PIL import Image\n",
                "\n",
                "def correctSize(infile,ratio):\n",
                "    size = ratioToSize(ratio)\n",
                "    if size is None:\n",
                "        return\n",
                "    try:\n",
                "        img = Image.open(infile)\n",
                "\n",
                "        img_resize_lanczos = img.resize(size, Image.LANCZOS)\n",
                "        img_resize_lanczos.save(infile)\n",
                "\n",
                "    except Exception as e:\n",
                "        print(e)"
            ]
        },
        {
            "cell_type": "code",
            "execution_count": 18,
            "id": "e95258f0-dcc5-4b85-b233-5c431e527f32",
            "metadata": {},
            "outputs": [],
            "source": [
                "wp = Path(\"/home/srudloff/Pictures/Wallpapers\")\n",
                "if not wp.exists():\n",
                "    wp.mkdir()"
            ]
        },
        {
            "cell_type": "code",
            "execution_count": 17,
            "id": "e2ca80ec-282e-430d-89fe-2630a4535313",
            "metadata": {},
            "outputs": [],
            "source": [
                "for p in ['16x9','9x16','square']:\n",
                "    wp1 = Path(\"/home/srudloff/Pictures/Wallpapers\",p)\n",
                "    for item in wp1.iterdir():\n",
                "        item.unlink()    "
            ]
        },
        {
            "cell_type": "code",
            "execution_count": 19,
            "id": "cf0d8913-9b55-4432-8c2c-f987c7819b0f",
            "metadata": {},
            "outputs": [],
            "source": [
                "for resolution_path in wp.iterdir():\n",
                "    print(resolution_path.name,end=': ')\n",
                "    if resolution_path.name in ['16x9','9x16','square']:\n",
                "        print()\n",
                "        continue\n",
                "    h,w = resolution_path.name.split('x')\n",
                "    ratio = imgToRatio(int(w),int(h))\n",
                "    print(ratio)\n",
                "    for file in resolution_path.iterdir():\n",
                "        if file.is_file():\n",
                "            new_path=Path(\"/home/srudloff/Pictures/Wallpapers\",ratio,file.name)\n",
                "            print(new_path)\n",
                "            shutil.copy(file, new_path)\n",
                "            correctSize(new_path,ratio)"
            ]
        },
        {
            "cell_type": "code",
            "execution_count": null,
            "id": "6436ed86-cab7-4faf-943f-15f4072696e3",
            "metadata": {},
            "outputs": [],
            "source": [
                "fd_img = open('test-image.jpeg', 'r')\n",
                "img = Image.open(fd_img)\n",
                "img = resizeimage.resize_cover(img, [200, 100])\n",
                "img.save('test-image-cover.jpeg', img.format)\n",
                "fd_img.close()"
            ]
        },
        {
            "cell_type": "code",
            "execution_count": null,
            "id": "6f87d47f-bae4-48a9-90e4-765f7bc88613",
            "metadata": {},
            "outputs": [],
            "source": []
        }
    ],
    "metadata": {
        "kernelspec": {
            "display_name": "Python 3 (ipykernel)",
            "language": "python",
            "name": "python3"
        },
        "language_info": {
            "codemirror_mode": {
                "name": "ipython",
                "version": 3
            },
            "file_extension": ".py",
            "mimetype": "text/x-python",
            "name": "python",
            "nbconvert_exporter": "python",
            "pygments_lexer": "ipython3",
            "version": "3.8.10"
        }
    },
    "nbformat": 4,
    "nbformat_minor": 5
}