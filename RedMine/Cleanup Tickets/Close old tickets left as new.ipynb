{
 "cells": [
  {
   "cell_type": "code",
   "execution_count": null,
   "id": "7b543c79-1609-41d2-81bf-288bda6919e9",
   "metadata": {},
   "outputs": [],
   "source": [
    "!pip install python-redmine"
   ]
  },
  {
   "cell_type": "code",
   "execution_count": 30,
   "id": "66bd9508-9c3f-47fc-8293-ecc0d4bbfcd1",
   "metadata": {},
   "outputs": [],
   "source": [
    "from datetime import datetime\n",
    "\n",
    "from redminelib import Redmine"
   ]
  },
  {
   "cell_type": "code",
   "execution_count": 31,
   "id": "563511fd-7742-4dd1-9c0b-029b822bd645",
   "metadata": {},
   "outputs": [],
   "source": [
    "redmine = Redmine(\"\", username=\"\", password=\"\")"
   ]
  },
  {
   "cell_type": "code",
   "execution_count": 32,
   "id": "5be6052b-2e9b-40e5-8d24-1499bc008d70",
   "metadata": {},
   "outputs": [],
   "source": [
    "project = redmine.project.get(\"\")"
   ]
  },
  {
   "cell_type": "code",
   "execution_count": 40,
   "id": "e7d14ecc-4463-482c-a3d3-522432ddee46",
   "metadata": {},
   "outputs": [],
   "source": [
    "for item in project.issues:\n",
    "    if str(item.status) == \"New\":\n",
    "        if (datetime.now() - item.updated_on).days > 30:\n",
    "            item.status_id = 5\n",
    "            item.save()"
   ]
  },
  {
   "cell_type": "code",
   "execution_count": null,
   "id": "d256543b-8ec2-4f1f-a889-7e2d83dd4f88",
   "metadata": {},
   "outputs": [],
   "source": []
  }
 ],
 "metadata": {
  "kernelspec": {
   "display_name": "Python 3 (ipykernel)",
   "language": "python",
   "name": "python3"
  },
  "language_info": {
   "codemirror_mode": {
    "name": "ipython",
    "version": 3
   },
   "file_extension": ".py",
   "mimetype": "text/x-python",
   "name": "python",
   "nbconvert_exporter": "python",
   "pygments_lexer": "ipython3",
   "version": "3.10.6"
  },
  "widgets": {
   "application/vnd.jupyter.widget-state+json": {
    "state": {},
    "version_major": 2,
    "version_minor": 0
   }
  }
 },
 "nbformat": 4,
 "nbformat_minor": 5
}
