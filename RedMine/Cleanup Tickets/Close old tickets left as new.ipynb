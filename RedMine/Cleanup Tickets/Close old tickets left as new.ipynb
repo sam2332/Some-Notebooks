{
 "cells": [
  {
   "cell_type": "code",
   "execution_count": 1,
   "id": "7b543c79-1609-41d2-81bf-288bda6919e9",
   "metadata": {},
   "outputs": [],
   "source": [
    "!pip install python-redmine"
   ]
  },
  {
   "cell_type": "code",
   "execution_count": 53,
   "id": "4f8f97de-5d0f-43cf-b562-507dc57b0d07",
   "metadata": {},
   "outputs": [],
   "source": [
    "from datetime import datetime\n",
    "from getpass import getpass\n",
    "\n",
    "from redminelib import Redmine\n",
    "import keyring"
   ]
  },
  {
   "cell_type": "code",
   "execution_count": 54,
   "id": "e8b69758-39c9-43d1-917b-44f7c775133c",
   "metadata": {},
   "outputs": [],
   "source": [
    "username = \"\"\n",
    "if keyring.get_password(service_name=\"Revize_redmine\", username=username) is None:\n",
    "    keyring.set_password(\n",
    "        service_name=\"Revize_redmine\", username=username, password=getpass()\n",
    "    )\n",
    "\n",
    "password = keyring.get_password(service_name=\"Revize_redmine\", username=username)"
   ]
  },
  {
   "cell_type": "code",
   "execution_count": 55,
   "id": "563511fd-7742-4dd1-9c0b-029b822bd645",
   "metadata": {},
   "outputs": [],
   "source": [
    "redmine = Redmine(\"\", username=username, password=password)"
   ]
  },
  {
   "cell_type": "code",
   "execution_count": 56,
   "id": "5be6052b-2e9b-40e5-8d24-1499bc008d70",
   "metadata": {},
   "outputs": [],
   "source": [
    "project = redmine.project.get(\"ingham-county-mi\")"
   ]
  },
  {
   "cell_type": "code",
   "execution_count": 57,
   "id": "e7d14ecc-4463-482c-a3d3-522432ddee46",
   "metadata": {},
   "outputs": [],
   "source": [
    "for item in project.issues:\n",
    "    if str(item.status) == \"New\":\n",
    "        if (datetime.now() - item.updated_on).days > 30:\n",
    "            item.status_id = 5\n",
    "            item.save()"
   ]
  },
  {
   "cell_type": "code",
   "execution_count": null,
   "id": "d256543b-8ec2-4f1f-a889-7e2d83dd4f88",
   "metadata": {},
   "outputs": [],
   "source": []
  }
 ],
 "metadata": {
  "kernelspec": {
   "display_name": "Python 3 (ipykernel)",
   "language": "python",
   "name": "python3"
  },
  "language_info": {
   "codemirror_mode": {
    "name": "ipython",
    "version": 3
   },
   "file_extension": ".py",
   "mimetype": "text/x-python",
   "name": "python",
   "nbconvert_exporter": "python",
   "pygments_lexer": "ipython3",
   "version": "3.10.6"
  },
  "widgets": {
   "application/vnd.jupyter.widget-state+json": {
    "state": {},
    "version_major": 2,
    "version_minor": 0
   }
  }
 },
 "nbformat": 4,
 "nbformat_minor": 5
}
