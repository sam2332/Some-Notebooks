{
 "cells": [
  {
   "cell_type": "code",
   "execution_count": 1,
   "id": "7b543c79-1609-41d2-81bf-288bda6919e9",
   "metadata": {},
   "outputs": [],
   "source": [
    "!pip install python-redmine"
   ]
  },
  {
   "cell_type": "code",
   "execution_count": 2,
   "id": "4f8f97de-5d0f-43cf-b562-507dc57b0d07",
   "metadata": {
    "tags": []
   },
   "outputs": [
    {
     "ename": "ModuleNotFoundError",
     "evalue": "No module named 'redminelib'",
     "output_type": "error",
     "traceback": [
      "\u001b[1;31m---------------------------------------------------------------------------\u001b[0m",
      "\u001b[1;31mModuleNotFoundError\u001b[0m                       Traceback (most recent call last)",
      "Cell \u001b[1;32mIn[2], line 4\u001b[0m\n\u001b[0;32m      1\u001b[0m \u001b[38;5;28;01mfrom\u001b[39;00m \u001b[38;5;21;01mdatetime\u001b[39;00m \u001b[38;5;28;01mimport\u001b[39;00m datetime\n\u001b[0;32m      2\u001b[0m \u001b[38;5;28;01mfrom\u001b[39;00m \u001b[38;5;21;01mgetpass\u001b[39;00m \u001b[38;5;28;01mimport\u001b[39;00m getpass\n\u001b[1;32m----> 4\u001b[0m \u001b[38;5;28;01mfrom\u001b[39;00m \u001b[38;5;21;01mredminelib\u001b[39;00m \u001b[38;5;28;01mimport\u001b[39;00m Redmine\n\u001b[0;32m      5\u001b[0m \u001b[38;5;28;01mimport\u001b[39;00m \u001b[38;5;21;01mkeyring\u001b[39;00m\n",
      "\u001b[1;31mModuleNotFoundError\u001b[0m: No module named 'redminelib'"
     ]
    }
   ],
   "source": [
    "from datetime import datetime\n",
    "from getpass import getpass\n",
    "\n",
    "from redminelib import Redmine\n",
    "import keyring"
   ]
  },
  {
   "cell_type": "code",
   "execution_count": 1,
   "id": "e8b69758-39c9-43d1-917b-44f7c775133c",
   "metadata": {
    "tags": []
   },
   "outputs": [
    {
     "ename": "NameError",
     "evalue": "name 'keyring' is not defined",
     "output_type": "error",
     "traceback": [
      "\u001b[1;31m---------------------------------------------------------------------------\u001b[0m",
      "\u001b[1;31mNameError\u001b[0m                                 Traceback (most recent call last)",
      "Cell \u001b[1;32mIn[1], line 2\u001b[0m\n\u001b[0;32m      1\u001b[0m username \u001b[38;5;241m=\u001b[39m \u001b[38;5;124m\"\u001b[39m\u001b[38;5;124m\"\u001b[39m\n\u001b[1;32m----> 2\u001b[0m \u001b[38;5;28;01mif\u001b[39;00m \u001b[43mkeyring\u001b[49m\u001b[38;5;241m.\u001b[39mget_password(service_name\u001b[38;5;241m=\u001b[39m\u001b[38;5;124m\"\u001b[39m\u001b[38;5;124mRevize_redmine\u001b[39m\u001b[38;5;124m\"\u001b[39m, username\u001b[38;5;241m=\u001b[39musername) \u001b[38;5;129;01mis\u001b[39;00m \u001b[38;5;28;01mNone\u001b[39;00m:\n\u001b[0;32m      3\u001b[0m     keyring\u001b[38;5;241m.\u001b[39mset_password(\n\u001b[0;32m      4\u001b[0m         service_name\u001b[38;5;241m=\u001b[39m\u001b[38;5;124m\"\u001b[39m\u001b[38;5;124mRevize_redmine\u001b[39m\u001b[38;5;124m\"\u001b[39m, username\u001b[38;5;241m=\u001b[39musername, password\u001b[38;5;241m=\u001b[39mgetpass()\n\u001b[0;32m      5\u001b[0m     )\n\u001b[0;32m      7\u001b[0m password \u001b[38;5;241m=\u001b[39m keyring\u001b[38;5;241m.\u001b[39mget_password(service_name\u001b[38;5;241m=\u001b[39m\u001b[38;5;124m\"\u001b[39m\u001b[38;5;124mRevize_redmine\u001b[39m\u001b[38;5;124m\"\u001b[39m, username\u001b[38;5;241m=\u001b[39musername)\n",
      "\u001b[1;31mNameError\u001b[0m: name 'keyring' is not defined"
     ]
    }
   ],
   "source": [
    "username = \"\"\n",
    "if keyring.get_password(service_name=\"Revize_redmine\", username=username) is None:\n",
    "    keyring.set_password(\n",
    "        service_name=\"Revize_redmine\", username=username, password=getpass()\n",
    "    )\n",
    "\n",
    "password = keyring.get_password(service_name=\"Revize_redmine\", username=username)"
   ]
  },
  {
   "cell_type": "code",
   "execution_count": 55,
   "id": "563511fd-7742-4dd1-9c0b-029b822bd645",
   "metadata": {},
   "outputs": [],
   "source": [
    "redmine = Redmine(\"\", username=username, password=password)"
   ]
  },
  {
   "cell_type": "code",
   "execution_count": 56,
   "id": "5be6052b-2e9b-40e5-8d24-1499bc008d70",
   "metadata": {},
   "outputs": [],
   "source": [
    "project = redmine.project.get(\"ingham-county-mi\")"
   ]
  },
  {
   "cell_type": "code",
   "execution_count": 57,
   "id": "e7d14ecc-4463-482c-a3d3-522432ddee46",
   "metadata": {},
   "outputs": [],
   "source": [
    "for item in project.issues:\n",
    "    if str(item.status) == \"New\":\n",
    "        if (datetime.now() - item.updated_on).days > 30:\n",
    "            item.status_id = 5\n",
    "            item.save()"
   ]
  },
  {
   "cell_type": "code",
   "execution_count": null,
   "id": "d256543b-8ec2-4f1f-a889-7e2d83dd4f88",
   "metadata": {},
   "outputs": [],
   "source": []
  }
 ],
 "metadata": {
  "kernelspec": {
   "display_name": "Python 3 (ipykernel)",
   "language": "python",
   "name": "python3"
  },
  "language_info": {
   "codemirror_mode": {
    "name": "ipython",
    "version": 3
   },
   "file_extension": ".py",
   "mimetype": "text/x-python",
   "name": "python",
   "nbconvert_exporter": "python",
   "pygments_lexer": "ipython3",
   "version": "3.11.3"
  },
  "widgets": {
   "application/vnd.jupyter.widget-state+json": {
    "state": {},
    "version_major": 2,
    "version_minor": 0
   }
  }
 },
 "nbformat": 4,
 "nbformat_minor": 5
}
