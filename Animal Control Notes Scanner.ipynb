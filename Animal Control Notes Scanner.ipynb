{
 "cells": [
  {
   "cell_type": "code",
   "execution_count": 1,
   "id": "819b0286-658b-4cc4-992f-e3a6929a0851",
   "metadata": {},
   "outputs": [],
   "source": [
    "from collections import defaultdict"
   ]
  },
  {
   "cell_type": "code",
   "execution_count": 2,
   "id": "987a8fd4-a5cb-4e8a-b3a2-2ae7f292459a",
   "metadata": {},
   "outputs": [],
   "source": [
    "import csv\n",
    "def yieldcsv(file):\n",
    "    with open(file,'r', encoding='utf-8-sig') as f:\n",
    "        DictReader_obj = csv.DictReader(f)\n",
    "        for item in DictReader_obj:\n",
    "            yield(dict(item))"
   ]
  },
  {
   "cell_type": "code",
   "execution_count": 49,
   "id": "d711b6ef-3cb0-425c-b376-b6f8ab1247a6",
   "metadata": {},
   "outputs": [],
   "source": [
    "def chain(*iterables):\n",
    "    for it in iterables:\n",
    "        for element in it:\n",
    "            yield element"
   ]
  },
  {
   "cell_type": "code",
   "execution_count": 3,
   "id": "2c79e52d-b4a8-466d-a2bc-d4d5fd526678",
   "metadata": {},
   "outputs": [],
   "source": [
    "def buildKeyValueFromCsv(file,key_item,value_item):\n",
    "    out ={}\n",
    "    for line in yieldcsv(file):\n",
    "        \n",
    "        if type(key_item) == list:\n",
    "            key = []\n",
    "            for i in key_item:\n",
    "                key.append(line[i])\n",
    "            key = tuple(key)\n",
    "        else:\n",
    "            key = line[key_item]\n",
    "            \n",
    "        if type(value_item) == list:\n",
    "            value = []\n",
    "            for i in value_item:\n",
    "                value.append(line[i])\n",
    "            value = tuple(value)\n",
    "        if value_item is None:\n",
    "            value = line\n",
    "        else:\n",
    "            value = line[value_item]\n",
    "            \n",
    "        out[key] = value\n",
    "    return out"
   ]
  },
  {
   "cell_type": "code",
   "execution_count": 50,
   "id": "eb94f2b2-356a-4b76-a1f7-1627f9075f6b",
   "metadata": {},
   "outputs": [],
   "source": [
    "breed_lookup = buildKeyValueFromCsv('Breeds.csv',['sysSpeciesID','sysBreedsID'],'Breed')\n",
    "sizes_lookup = buildKeyValueFromCsv('Sizes.csv',['sysSpeciesID','sysSizeChoicesID'],'SizeType')\n",
    "species_lookup = buildKeyValueFromCsv('Species.csv','sysSpeciesID','Species')\n",
    "nonpits = buildKeyValueFromCsv('NonPits.csv','tblAnimalsID',None)\n",
    "pits = buildKeyValueFromCsv('Pits.csv','tblAnimalsID',None)\n",
    "masterlist = {}\n",
    "masterlist.update(pits)\n",
    "masterlist.update(nonpits)\n",
    "triggers = ['bite','aggressive','fight','bitten','tranq','attacked','killed']\n",
    "matchedBreeds=defaultdict(list)"
   ]
  },
  {
   "cell_type": "code",
   "execution_count": 72,
   "id": "d80d10ce-4c7a-4d55-88d5-c2488eaa4f6e",
   "metadata": {},
   "outputs": [
    {
     "name": "stdout",
     "output_type": "stream",
     "text": [
      "Horse 1\n",
      "Goat 1\n",
      "unknown 6\n",
      "Feline 133\n",
      "Canine 957\n"
     ]
    }
   ],
   "source": [
    "matchedSpecies=defaultdict(int)\n",
    "for line in yieldcsv('PitsNotes.csv'):\n",
    "    if any([v in line['Note'] for v in triggers]):\n",
    "        if line['tblAnimalsID'] not in masterlist:\n",
    "            continue\n",
    "        animal = masterlist[line['tblAnimalsID']]\n",
    "        matchedSpecies[animal['sysSpeciesID']]+=1\n",
    "    \n",
    "for line in yieldcsv('NonPitNotes.csv'):\n",
    "    if any([v in line['Note'] for v in triggers]):\n",
    "        if line['tblAnimalsID'] not in masterlist:\n",
    "            continue\n",
    "        animal = masterlist[line['tblAnimalsID']]\n",
    "        matchedSpecies[animal['sysSpeciesID']]+=1\n",
    "    \n",
    "for item in sorted(matchedSpecies,key=lambda a: matchedSpecies[a]):\n",
    "    name = \"unknown\"\n",
    "    if item in species_lookup:\n",
    "        name = species_lookup[item]\n",
    "    print(name, matchedSpecies[item])\n",
    "    "
   ]
  },
  {
   "cell_type": "code",
   "execution_count": 66,
   "id": "2521022a-1562-462f-8ef8-fb4a145f9123",
   "metadata": {},
   "outputs": [
    {
     "name": "stdout",
     "output_type": "stream",
     "text": [
      "509 items match keywords\n",
      "3664 items do not match  keywords\n"
     ]
    }
   ],
   "source": [
    "f =0\n",
    "nf=0\n",
    "for line in yieldcsv('PitsNotes.csv'):\n",
    "    if any([v in line['Note'] for v in triggers]):\n",
    "        f +=1\n",
    "        if line['tblAnimalsID'] not in masterlist:\n",
    "            continue\n",
    "        animal = masterlist[line['tblAnimalsID']]\n",
    "        if animal['sysSpeciesID'] != \"1\":\n",
    "            continue\n",
    "        if animal['sysBreedSecondaryID'] =='NULL':\n",
    "            secondary = \"\"\n",
    "        else:\n",
    "            if (animal['sysSpeciesID'],animal['sysBreedSecondaryID']) not in breed_lookup:\n",
    "                secondary = \"Unknown\"\n",
    "            else:\n",
    "                secondary = breed_lookup[(animal['sysSpeciesID'],animal['sysBreedSecondaryID'])]\n",
    "        if animal['sysBreedPrimaryID'] ==\"NULL\":\n",
    "            primary = \"\"\n",
    "        else:\n",
    "            primary = breed_lookup[(animal['sysSpeciesID'],animal['sysBreedPrimaryID'])]\n",
    "        breed = primary +\" \"+secondary\n",
    "        matchedBreeds[breed].append(line)\n",
    "    else:\n",
    "        nf +=1\n",
    "print(f'{f} items match keywords')\n",
    "print(f'{nf} items do not match  keywords')"
   ]
  },
  {
   "cell_type": "code",
   "execution_count": 67,
   "id": "2eba66d2-fd77-4fea-a3a6-39287dce13e1",
   "metadata": {},
   "outputs": [
    {
     "data": {
      "text/plain": [
       "12.197459861011263"
      ]
     },
     "execution_count": 67,
     "metadata": {},
     "output_type": "execute_result"
    }
   ],
   "source": [
    "(f/(nf+f))*100"
   ]
  },
  {
   "cell_type": "code",
   "execution_count": 68,
   "id": "c80836f8-c5e4-4305-80af-f707d8ad149d",
   "metadata": {
    "tags": []
   },
   "outputs": [
    {
     "name": "stdout",
     "output_type": "stream",
     "text": [
      "602 items match keywords\n",
      "16582 items do not match keywords\n"
     ]
    }
   ],
   "source": [
    "f =0\n",
    "nf=0\n",
    "for line in yieldcsv('NonPitNotes.csv'):\n",
    "    if any([v in line['Note'] for v in triggers]):\n",
    "        f +=1\n",
    "        if line['tblAnimalsID'] not in masterlist:\n",
    "            continue\n",
    "        animal = masterlist[line['tblAnimalsID']]\n",
    "        if animal['sysSpeciesID'] != \"1\":\n",
    "            continue\n",
    "        if animal['sysBreedSecondaryID'] =='NULL':\n",
    "            secondary = \"\"\n",
    "        else:\n",
    "            secondary = breed_lookup[(animal['sysSpeciesID'],animal['sysBreedSecondaryID'])]\n",
    "        if animal['sysBreedPrimaryID'] ==\"NULL\":\n",
    "            primary = \"\"\n",
    "        else:\n",
    "            primary = breed_lookup[(animal['sysSpeciesID'],animal['sysBreedPrimaryID'])]\n",
    "        breed = primary +\" \"+secondary\n",
    "        matchedBreeds[breed].append(line)\n",
    "    else:\n",
    "        nf +=1\n",
    "print(f'{f} items match keywords')\n",
    "print(f'{nf} items do not match keywords')"
   ]
  },
  {
   "cell_type": "code",
   "execution_count": 69,
   "id": "de2477c2-0113-4ac9-b612-e81c0dd86c94",
   "metadata": {},
   "outputs": [
    {
     "data": {
      "text/plain": [
       "3.5032588454376166"
      ]
     },
     "execution_count": 69,
     "metadata": {},
     "output_type": "execute_result"
    }
   ],
   "source": [
    "(f/(nf+f))*100"
   ]
  },
  {
   "cell_type": "code",
   "execution_count": 70,
   "id": "2fa25ade-33a4-4921-8a61-0d7d48b9890c",
   "metadata": {
    "tags": []
   },
   "outputs": [
    {
     "name": "stdout",
     "output_type": "stream",
     "text": [
      "Shih Tzu (Purebred)                               ##\n",
      "Alaskan Malamute Siberian Husky                   ##\n",
      "Hound                                             ##\n",
      "Dachshund                                         ##\n",
      "Fox Terrier - Smooth (Mix)                        ##\n",
      "Labrador Retriever Welsh Corgi (Cardigan)         ##\n",
      "English Setter (Mix)                              ##\n",
      "Shetland Sheepdog (Purebred)                      ##\n",
      "Bull Terrier Labrador Retriever                   ##\n",
      "Husky                                             ##\n",
      "Puggle (Mix)                                      ##\n",
      "Chow Chow (Mix)                                   ##\n",
      "Labrador Retriever Hound                          ##\n",
      "Dachshund Terrier                                 ##\n",
      "Boston Terrier Bulldog                            ##\n",
      "Labrador Retriever Chinese Shar-Pei               ##\n",
      "Boston Terrier (Mix)                              ##\n",
      "Rottweiler Labrador Retriever                     ##\n",
      "German Shepherd Dog Boxer                         ##\n",
      "Hound (Mix)                                       ##\n",
      "Miniature Schnauzer (Mix)                         ##\n",
      "Golden Retriever Husky                            ##\n",
      "Collie (Rough) German Shepherd Dog                ##\n",
      "Bloodhound (Mix)                                  ##\n",
      "Miniature Pinscher (Purebred)                     ##\n",
      "English Springer Spaniel (Purebred)               ##\n",
      "Labradoodle (Mix)                                 ##\n",
      "Bull Terrier Rhodesian Ridgeback                  ##\n",
      "Pointer AmStaff                                   ##\n",
      "Chinese Shar-Pei Welsh Corgi (Cardigan)           ##\n",
      "Siberian Husky (Mix)                              ##\n",
      "Bulldog Pitbull                                   ##\n",
      "Shetland Sheepdog (Mix)                           ##\n",
      "French Bulldog (Mix)                              ##\n",
      "Bulldog                                           ##\n",
      "Bloodhound Doberman Pinscher                      ##\n",
      "Toy Poodle (Mix)                                  ##\n",
      "German Shepherd Dog Husky                         ##\n",
      "Irish Wolfhound Rottweiler                        ##\n",
      "Saint Bernard                                     ##\n",
      "Beagle Australian Cattle Dog (Heeler)             ##\n",
      "Bulldog Boxer                                     ##\n",
      "Australian Cattle Dog (Heeler) AmStaff            ##\n",
      "French Bulldog Boston Terrier                     ##\n",
      "Chow Chow                                         ##\n",
      "Basenji (Mix)                                     ##\n",
      "Labrador Retriever Bulldog                        ##\n",
      "Basset Hound Boxer                                ##\n",
      "Irish Wolfhound (Mix)                             ##\n",
      "Alaskan Malamute                                  ##\n",
      "Dalmatian Labrador Retriever                      ##\n",
      "German Shepherd Dog Saint Bernard                 ##\n",
      "Dachshund Beagle                                  ##\n",
      "Medium Mixed Breed Pitbull                        ##\n",
      "German Shorthaired Pointer (Purebred)             ##\n",
      "Boxer (Purebred)                                  ##\n",
      "American Bull Dog Staffordshire Bull Terrier      ##\n",
      "Australian Cattle Dog (Heeler) Chow Chow          ##\n",
      "Boston Terrier Pug                                ##\n",
      "Pointer (Mix)                                     ##\n",
      "Weimaraner Labrador Retriever                     ##\n",
      "English Coonhound Pitbull                         ##\n",
      "AmStaff Bulldog                                   ##\n",
      "Greyhound Pointer                                 ##\n",
      "Doberman Pinscher (Mix)                           ##\n",
      "Presa Canario (Canary) (Purebred)                 ##\n",
      "Shih Tzu Chihuahua                                ##\n",
      "Labrador Retriever Boxer                          ##\n",
      "Husky Labrador Retriever                          ##\n",
      "Large Mixed Breed Pitbull                         ##\n",
      "Large Mixed Breed (Mix)                           ##\n",
      "Medium Mixed Breed American Bully                 ##\n",
      "German Shepherd Dog Pitbull                       ##\n",
      "Mixed Breed Medium Beagle                         ##\n",
      "Yorkshire Terrier                                 ##\n",
      "Dogue de Bordeaux (Mix)                           ##\n",
      "Shepherd (Mix)                                    ##\n",
      "Terrier Irish Wolfhound                           ##\n",
      "Saint Bernard (Mix)                               ##\n",
      "Jack Russell Terrier (Mix)                        ##\n",
      "French Bulldog Boxer                              ##\n",
      "AmStaff Husky                                     ##\n",
      "Pug  (Mix)                                        ##\n",
      "AmStaff Labrador Retriever                        ##\n",
      "Chow Chow Akita                                   ##\n",
      "American Eskimo Dog (Mix)                         ##\n",
      "Husky Pitbull                                     ##\n",
      "German Shepherd Dog Akita                         ##\n",
      "American Bully Boxer                              ##\n",
      "Australian Cattle Dog (Heeler) Labrador Retriever ##\n",
      "Jack Russell Terrier Boxer                        ##\n",
      "Boxer Labrador Retriever                          ##\n",
      "Mixed Breed Small (Mix)                           ##\n",
      "Akita Husky                                       ##\n",
      "Mastiff Cane Corso                                ##\n",
      "Poodle (Mix)                                      ##\n",
      "Pitbull Whippet                                   ###\n",
      "Pitbull Boston Terrier                            ###\n",
      "Pitbull Chow Chow                                 ###\n",
      "Pitbull Spaniel                                   ###\n",
      "American Pitbull (Mix)                            ###\n",
      "Pitbull Rottweiler                                ###\n",
      "Pitbull AmStaff                                   ###\n",
      "Pitbull Unknown                                   ###\n",
      "Pitbull Beagle                                    ###\n",
      "Pitbull Greyhound                                 ###\n",
      "Chihuahua (Purebred)                              ####\n",
      "Labrador Retriever                                ####\n",
      "Labrador Retriever Pitbull                        ####\n",
      "Spaniel (Mix)                                     ####\n",
      "Dachshund (Mix)                                   ####\n",
      "Golden Retriever (Mix)                            ####\n",
      "Chow Chow Labrador Retriever                      ####\n",
      "Miniature Pinscher (Mix)                          ####\n",
      "Collie (Rough) (Mix)                              ####\n",
      "Pomeranian (Mix)                                  ####\n",
      "Staffordshire Bull Terrier (Mix)                  ####\n",
      "Boston Terrier Shetland Sheepdog                  ####\n",
      "Foxhound - American (Mix)                         ####\n",
      "Presa Canario (Canary) (Mix)                      ####\n",
      "German Shepherd Dog Rottweiler                    ####\n",
      "Jack Russell Terrier Beagle                       ####\n",
      "(Unspecified) (Mix)                               ####\n",
      "Collie (Smooth) (Mix)                             ####\n",
      "Hound Rottweiler                                  ####\n",
      "Husky Australian Cattle Dog (Heeler)              ####\n",
      "Mastiff Labrador Retriever                        ####\n",
      "Rhodesian Ridgeback Boxer                         ####\n",
      "Medium Mixed Breed (Mix)                          ####\n",
      "German Shepherd Dog Chow Chow                     ####\n",
      "German Shorthaired Pointer (Mix)                  ####\n",
      "Alaskan Malamute (Mix)                            ####\n",
      "American Bull Dog AmStaff                         ####\n",
      "Rottweiler                                        ######\n",
      "Labrador Retriever Chow Chow                      ######\n",
      "Rottweiler (Purebred)                             ######\n",
      "Shih Tzu (Mix)                                    ######\n",
      "German Shepherd Dog                               ######\n",
      "Boxer AmStaff                                     ######\n",
      "German Shepherd Dog Labrador Retriever            ######\n",
      "Cane Corso (Mix)                                  ######\n",
      "Great Dane (Mix)                                  ######\n",
      "American Bull Dog (Mix)                           ######\n",
      "AmStaff Boxer                                     ######\n",
      "American Bull Dog Pitbull                         ######\n",
      "German Shepherd Dog (Purebred)                    ########\n",
      "Border Collie (Mix)                               ########\n",
      "Chinese Shar-Pei (Mix)                            ########\n",
      "Bulldog (Mix)                                     ########\n",
      "Labrador Retriever German Shepherd Dog            ########\n",
      "Boxer Pitbull                                     ##########\n",
      "Bull Terrier (Mix)                                ##########\n",
      "Pitbull Boxer                                     ############\n",
      "Pitbull Labrador Retriever                        ############\n",
      "Australian Cattle Dog (Heeler) (Mix)              ############\n",
      "Beagle (Mix)                                      ##############\n",
      "Terrier (Mix)                                     ##############\n",
      "Mixed Breed Medium (Mix)                          ##############\n",
      "Husky (Mix)                                       ####################\n",
      "Boxer (Mix)                                       ####################\n",
      "American Bully (Mix)                              ######################\n",
      "Mixed Breed Large (Mix)                           ######################\n",
      "Chihuahua (Mix)                                   ########################\n",
      "Rottweiler (Mix)                                  ########################\n",
      "Mastiff (Mix)                                     ################################\n",
      "German Shepherd Dog (Mix)                         ############################################################\n",
      "AmStaff (Mix)                                     ##############################################################################################\n",
      "Labrador Retriever (Mix)                          ################################################################################################\n",
      "Pitbull                                           ###################################################################################################\n",
      "Pitbull (Purebred)                                ##################################################################################################################\n",
      "Pitbull (Mix)                                     ######################################################################################################################################################################################################################################################################################################################################################################################################################################################################################################################################################################################################################################################################################################################################################################################################################################################################################################################################################################################################################################################################################################################################################################################################################################################################################################\n"
     ]
    }
   ],
   "source": [
    "for i in sorted(matchedBreeds,key=lambda a: len(matchedBreeds[a])):\n",
    "    print(i.ljust(len(max(matchedBreeds.keys(),key=len)),' '), '#'*len(matchedBreeds[i]))"
   ]
  },
  {
   "cell_type": "raw",
   "id": "e3f24df9-556e-4567-b3c6-d5e5fe1c9ce7",
   "metadata": {
    "tags": []
   },
   "source": []
  },
  {
   "cell_type": "code",
   "execution_count": null,
   "id": "ed9ad88f-8ad6-4682-b04c-8c17bc0bf4b6",
   "metadata": {},
   "outputs": [],
   "source": []
  },
  {
   "cell_type": "code",
   "execution_count": null,
   "id": "5125bae1-e26e-45d0-821c-bbf6f5a4f8b0",
   "metadata": {},
   "outputs": [],
   "source": []
  }
 ],
 "metadata": {
  "kernelspec": {
   "display_name": "Python 3 (ipykernel)",
   "language": "python",
   "name": "python3"
  },
  "language_info": {
   "codemirror_mode": {
    "name": "ipython",
    "version": 3
   },
   "file_extension": ".py",
   "mimetype": "text/x-python",
   "name": "python",
   "nbconvert_exporter": "python",
   "pygments_lexer": "ipython3",
   "version": "3.8.10"
  }
 },
 "nbformat": 4,
 "nbformat_minor": 5
}
