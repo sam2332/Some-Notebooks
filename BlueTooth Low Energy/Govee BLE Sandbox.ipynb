{
 "cells": [
  {
   "cell_type": "code",
   "execution_count": null,
   "id": "b3ec7e5a-b3d7-4292-bbc3-5b0b484f7dbc",
   "metadata": {},
   "outputs": [],
   "source": [
    "import asyncio\n",
    "import time\n",
    "from datetime import datetime\n",
    "\n",
    "import jsonpickle\n",
    "from bleak import BleakScanner\n",
    "from bleak.backends.device import BLEDevice\n",
    "from bleak.backends.scanner import AdvertisementData"
   ]
  },
  {
   "cell_type": "code",
   "execution_count": null,
   "id": "f4047922-a810-46c1-abb1-239f715cfb81",
   "metadata": {},
   "outputs": [],
   "source": [
    "%matplotlib inline\n",
    "import ipywidgets as widgets\n",
    "import matplotlib.pyplot as plt\n",
    "import numpy as np"
   ]
  },
  {
   "cell_type": "code",
   "execution_count": null,
   "id": "a76a3015-4ed2-497a-8a70-7d5c41aa8d2d",
   "metadata": {},
   "outputs": [],
   "source": [
    "from IPython.display import clear_output, display\n",
    "from ipywidgets import Output"
   ]
  },
  {
   "cell_type": "code",
   "execution_count": null,
   "id": "e3637ece-7d78-45ec-96bd-2519464b0f99",
   "metadata": {},
   "outputs": [],
   "source": [
    "GOVEE_OUI = \"a4:c1:38\"\n",
    "def c_to_f(c: float) -> float:\n",
    "    return (c * 9 / 5) + 32"
   ]
  },
  {
   "cell_type": "code",
   "execution_count": null,
   "id": "dc10bf78-e57f-4c6d-8329-9949d4b5505f",
   "metadata": {},
   "outputs": [],
   "source": [
    "class GoveeDevice:\n",
    "    def __init__(self, device: BLEDevice):\n",
    "        self._device = device\n",
    "        self._battery = None\n",
    "        self.history_length = 30\n",
    "        self._temperatures = {}\n",
    "        self.allowedSlots=[1,2,3,8,16,32]\n",
    "        self.avgs={}\n",
    "        \n",
    "    def parseAdvert(self, advertisement: AdvertisementData):\n",
    "        data = advertisement.manufacturer_data.get(12999)\n",
    "        self.process_data = []\n",
    "        if data is not None:\n",
    "            \"\"\"with hexOut:\n",
    "                for i in range(0,len(data)):\n",
    "                    print(str(data[i]).ljust(3, ),end=' ')\n",
    "                    self.process_data.append(str(data[i]))\n",
    "                print()\n",
    "            \"\"\"\n",
    "            self._battery = int(data[2])\n",
    "            _slot = int(data[3])     \n",
    "            if _slot in self.allowedSlots:   \n",
    "                if _slot not in self._temperatures:\n",
    "                    self._temperatures[_slot] = {'value':None,'last_update':0,'history':[]}\n",
    "                if self._temperatures[_slot]['value'] != c_to_f(int(data[5])):\n",
    "                    if self._temperatures[_slot]['value'] is not None:\n",
    "                        self._temperatures[_slot]['history'].append({'value':self._temperatures[_slot]['value'],'date':self._temperatures[_slot]['last_update']})\n",
    "                        if len(self._temperatures[_slot]['history']) > self.history_length:\n",
    "                            self._temperatures[_slot]['history'].pop(0)\n",
    "                        \n",
    "                        history_values = [i['value']  for i in self._temperatures[_slot]['history']]\n",
    "                        self.avgs[_slot] = sum(history_values)/len(history_values)\n",
    "                    self._temperatures[_slot]['value'] = c_to_f(int(data[5]))\n",
    "                self._temperatures[_slot]['last_update']=datetime.now()\n",
    "        return self\n",
    "    def dict(self):\n",
    "        return {\n",
    "            'name': self._device.name,\n",
    "            'address': self._device.address,\n",
    "            'battery': self._battery,\n",
    "            'temperatures': self._temperatures\n",
    "        }\n",
    "\n",
    "    def __repr__(self):\n",
    "        return str(self.dict())\n",
    "    \n",
    "    def summarize(self):\n",
    "        for sensor in self._temperatures:\n",
    "            s = self._temperatures[sensor]\n",
    "            print(f\"Sensor {sensor}\")\n",
    "            print(f\"current temp: {s['value']}\")\n",
    "            if len(s['history'])>0:\n",
    "                history_values = [f\"{i['value']}\"  for i in s['history']]\n",
    "                print(\"History:\",'(Avg: ',self.avgs[sensor],\")\")\n",
    "                for item in s['history']:\n",
    "                    print(f\"\\t{item['date']} = {item['value']}\")"
   ]
  },
  {
   "cell_type": "code",
   "execution_count": null,
   "id": "c5bd572c-a52d-4581-94f2-0b726ac4f9c4",
   "metadata": {},
   "outputs": [],
   "source": [
    "devices = {}\n",
    "def process_advertisement(device: BLEDevice, advertisement: AdvertisementData):\n",
    "    global devices\n",
    "    if not str(device.address).lower().startswith(GOVEE_OUI):\n",
    "        return\n",
    "    if device.address not in devices:\n",
    "        devices[device.address] = GoveeDevice(device)\n",
    "        \n",
    "    device = devices[device.address].parseAdvert(advertisement)\n",
    "    return device"
   ]
  },
  {
   "cell_type": "code",
   "execution_count": null,
   "id": "ed38205d-8c1d-44e7-9def-2a84e50e586e",
   "metadata": {},
   "outputs": [],
   "source": [
    "class GoveeScanner:\n",
    "    def __init__(self, addresses=[]):\n",
    "        self._callbacks = []\n",
    "        self.addresses = addresses\n",
    "        self.scanner = None\n",
    "\n",
    "    def register(self, callback):\n",
    "        self._callbacks.append(callback)\n",
    "\n",
    "    def unregister(self, callback):\n",
    "        self._callbacks.remove(callback)\n",
    "        \n",
    "    async def discoverDevices(self):\n",
    "        print('discovery mode')\n",
    "        await scanner.start()\n",
    "        await asyncio.sleep(5.0)\n",
    "        await scanner.stop()\n",
    "        \n",
    "    async def start(self):\n",
    "        def _callback(device: BLEDevice, adv: AdvertisementData):\n",
    "            if device.address in self.addresses or len(self.addresses) ==0:\n",
    "                adv = process_advertisement(device, adv)\n",
    "                if adv:    \n",
    "                    with dictOut:\n",
    "                        clear_output()\n",
    "                        adv.summarize()\n",
    "                    for callback in self._callbacks:\n",
    "                        callback(adv)\n",
    "        self.scanner = BleakScanner(adapter=\"hci1\")\n",
    "        self.scanner.register_detection_callback(_callback)\n",
    "        print('starting')\n",
    "        await self.scanner.start()\n",
    "\n",
    "    async def stop(self):\n",
    "        print('stopping')\n",
    "        await self.scanner.stop()"
   ]
  },
  {
   "cell_type": "code",
   "execution_count": null,
   "id": "8681a278-ff2e-4c33-8376-789b06d9e623",
   "metadata": {},
   "outputs": [],
   "source": [
    "scanner = GoveeScanner(addresses=['A4:C1:38:C7:32:4B'])"
   ]
  },
  {
   "cell_type": "code",
   "execution_count": null,
   "id": "516f690d-e3ce-429a-bfad-d7c9596a1a47",
   "metadata": {},
   "outputs": [],
   "source": [
    "import requests\n",
    "\n",
    "last_alert = time.time()-30\n",
    "def temp_monitor(device):\n",
    "    global last_alert\n",
    "    if 1 in device._temperatures.keys():\n",
    "        if device._temperatures[1]['value'] > 88:\n",
    "            if (time.time()-last_alert)>30:\n",
    "                last_alert = time.time()\n",
    "                \n",
    "                print(\"ALERTING\")\n",
    "scanner.register(temp_monitor)"
   ]
  },
  {
   "cell_type": "markdown",
   "id": "26e0ca45-5c7b-42ff-9e38-30390ddc08f7",
   "metadata": {},
   "source": [
    "\n",
    "scanner.unregister(temp_monitor)"
   ]
  },
  {
   "cell_type": "code",
   "execution_count": null,
   "id": "23bdf362-2392-4712-a319-c55106ae19ef",
   "metadata": {},
   "outputs": [],
   "source": [
    "alertOut = Output()\n",
    "display(alertOut)"
   ]
  },
  {
   "cell_type": "code",
   "execution_count": null,
   "id": "7cb2d667-64db-4361-8f7f-ce0fecafa1f2",
   "metadata": {},
   "outputs": [],
   "source": [
    "hexOut = Output()\n",
    "display(hexOut)"
   ]
  },
  {
   "cell_type": "code",
   "execution_count": null,
   "id": "04374492-145d-45e5-816a-7e0b60ef0d7d",
   "metadata": {
    "tags": []
   },
   "outputs": [],
   "source": [
    "dictOut = Output()\n",
    "display(dictOut)"
   ]
  },
  {
   "cell_type": "code",
   "execution_count": null,
   "id": "b79c0f50-29eb-46f3-bf7f-35718f894792",
   "metadata": {},
   "outputs": [],
   "source": [
    "await scanner.discoverDevices()"
   ]
  },
  {
   "cell_type": "code",
   "execution_count": null,
   "id": "9de9005a-4811-4eac-8c1c-408c9fb19f6f",
   "metadata": {},
   "outputs": [],
   "source": [
    "devices.keys()"
   ]
  },
  {
   "cell_type": "code",
   "execution_count": null,
   "id": "a4784869-8ceb-41eb-953c-aaec7eb9c1cf",
   "metadata": {},
   "outputs": [],
   "source": [
    "try:\n",
    "    await scanner.start()\n",
    "\n",
    "    while True:\n",
    "        await asyncio.sleep(10.0)\n",
    "except asyncio.CancelledError:\n",
    "    await scanner.stop()"
   ]
  },
  {
   "cell_type": "code",
   "execution_count": null,
   "id": "eec032c3-3437-47b0-b9c9-d8e4d356cbc1",
   "metadata": {},
   "outputs": [],
   "source": [
    "devices['A4:C1:38:C7:32:4B']._temperatures[1]"
   ]
  },
  {
   "cell_type": "code",
   "execution_count": null,
   "id": "9822d417-1b7c-4960-96f3-e1678746dd40",
   "metadata": {},
   "outputs": [],
   "source": []
  },
  {
   "cell_type": "code",
   "execution_count": null,
   "id": "eff9334e-fc62-4136-825f-dccf7a7de82a",
   "metadata": {},
   "outputs": [],
   "source": [
    "import numpy as np\n",
    "\n",
    "# results for the greens and the cdu\n",
    "gruene = np.array([5.3, 8.0, 7.9, 9.5, 12.1, 7.7, 11.7, 24.2, 30.3])\n",
    "cdu = np.array([53.4, 51.9, 49.0, 39.6, 41.3, 44.8, 44.2, 39.0, 27.0])\n",
    "\n",
    "fig, ax = plt.subplots()\n",
    "xlabels = [1980, 1984, 1988, 1992, 1996, 2001, 2006, 2011, 2016]\n",
    "\n",
    "plt.title(\"Regional Elections Baden-Wuerttemberg 1980-2016\", size=\"x-large\")\n",
    "plt.ylabel(\"Votes in %\", size=\"x-large\")\n",
    "plt.xlabel(\"Year\", size=\"x-large\")\n",
    "\n",
    "# plot the data\n",
    "plt.plot(cdu, \"r*-\", markersize=6, linewidth=1, color='black', label=\"CDU\")\n",
    "plt.plot(gruene, \"r*-\", markersize=6, linewidth=1, color='g', label=\"Gruene\")\n",
    "\n",
    "# add legend\n",
    "plt.legend(loc=(0.1, 0.3))\n",
    "\n",
    "# add x-labels\n",
    "ax.set_xticks(range(len(xlabels)))\n",
    "ax.set_xticklabels(xlabels, rotation='vertical')\n",
    "\n",
    "plt.show()"
   ]
  },
  {
   "cell_type": "code",
   "execution_count": null,
   "id": "9fb1f078-b4da-4051-9ca2-7f9a5ff4081e",
   "metadata": {},
   "outputs": [],
   "source": [
    "devices"
   ]
  },
  {
   "cell_type": "code",
   "execution_count": null,
   "id": "46345e87-1d30-42cc-93d7-218cd5b83d8b",
   "metadata": {},
   "outputs": [],
   "source": [
    "for advert in scanner.adverts:\n",
    "    for i in range(0,len(advert.process_data)):\n",
    "        print(str(advert.process_data[i]).ljust(3, ),end=' ')\n",
    "    print()"
   ]
  },
  {
   "cell_type": "code",
   "execution_count": null,
   "id": "fecac6c9-972b-4d0a-ae37-be77ddf61471",
   "metadata": {},
   "outputs": [],
   "source": [
    "dir(scanner.adverts[0])"
   ]
  },
  {
   "cell_type": "code",
   "execution_count": null,
   "id": "25d2493e-2f3c-4008-9647-6fc7441a6a77",
   "metadata": {},
   "outputs": [],
   "source": [
    "while True:\n",
    "    time.sleep(1)"
   ]
  },
  {
   "cell_type": "code",
   "execution_count": null,
   "id": "b2e7e61e-acf7-4432-b669-5f979074cd24",
   "metadata": {},
   "outputs": [],
   "source": []
  }
 ],
 "metadata": {
  "kernelspec": {
   "display_name": "Python 3 (ipykernel)",
   "language": "python",
   "name": "python3"
  },
  "language_info": {
   "codemirror_mode": {
    "name": "ipython",
    "version": 3
   },
   "file_extension": ".py",
   "mimetype": "text/x-python",
   "name": "python",
   "nbconvert_exporter": "python",
   "pygments_lexer": "ipython3",
   "version": "3.10.4"
  },
  "widgets": {
   "application/vnd.jupyter.widget-state+json": {
    "state": {},
    "version_major": 2,
    "version_minor": 0
   }
  }
 },
 "nbformat": 4,
 "nbformat_minor": 5
}
