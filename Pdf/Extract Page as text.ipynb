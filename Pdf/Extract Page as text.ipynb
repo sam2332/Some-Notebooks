{
 "cells": [
  {
   "cell_type": "code",
   "execution_count": 8,
   "id": "26479a50-efec-4e2b-9fd3-c9f9056ad158",
   "metadata": {
    "tags": []
   },
   "outputs": [],
   "source": [
    "from PyPDF2 import PdfReader\n",
    "\n",
    "def extract_text_from_pdf_pages(pdf_path):\n",
    "    with open(pdf_path, 'rb') as file:\n",
    "        pdf_reader = PdfReader(file)\n",
    "\n",
    "        for page_number, page in enumerate(pdf_reader.pages):\n",
    "            text = page.extract_text()\n",
    "\n",
    "            # Save text to a file named based on the page number\n",
    "            output_file = f'pages/page_{page_number+1}.txt'\n",
    "            with open(output_file, 'w', encoding='utf-8') as output:\n",
    "                output.write(text)"
   ]
  },
  {
   "cell_type": "code",
   "execution_count": 9,
   "id": "cafc99a8-8333-41b0-a9b4-751644ccf806",
   "metadata": {
    "tags": []
   },
   "outputs": [],
   "source": [
    "pdf_path = \"/home/srudloff/Downloads/Custody_Parenting_Time_Consent_Order.pdf\""
   ]
  },
  {
   "cell_type": "code",
   "execution_count": 10,
   "id": "3ca8586a-8d62-4ae2-a3f1-4448d77b06b4",
   "metadata": {
    "tags": []
   },
   "outputs": [],
   "source": [
    "extract_text_from_pdf_pages(pdf_path)"
   ]
  },
  {
   "cell_type": "code",
   "execution_count": null,
   "id": "4df3fa3e-016c-4d63-bfe7-480ef2c78f1a",
   "metadata": {},
   "outputs": [],
   "source": []
  }
 ],
 "metadata": {
  "kernelspec": {
   "display_name": "Python 3 (ipykernel)",
   "language": "python",
   "name": "python3"
  },
  "language_info": {
   "codemirror_mode": {
    "name": "ipython",
    "version": 3
   },
   "file_extension": ".py",
   "mimetype": "text/x-python",
   "name": "python",
   "nbconvert_exporter": "python",
   "pygments_lexer": "ipython3",
   "version": "3.10.6"
  }
 },
 "nbformat": 4,
 "nbformat_minor": 5
}
