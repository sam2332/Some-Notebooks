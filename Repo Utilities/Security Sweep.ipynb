{
 "cells": [
  {
   "cell_type": "code",
   "execution_count": null,
   "metadata": {},
   "outputs": [],
   "source": [
    "import json\n",
    "import shutil\n",
    "from pathlib import Path"
   ]
  },
  {
   "cell_type": "code",
   "execution_count": null,
   "metadata": {},
   "outputs": [],
   "source": [
    "tree = Path(\"..\")"
   ]
  },
  {
   "cell_type": "code",
   "execution_count": null,
   "metadata": {},
   "outputs": [],
   "source": [
    "delete_me = [\".ipynb_checkpoints\", \"__pycache__\", \".virtual_documents\"]\n",
    "\n",
    "\n",
    "def CleanTreeOfTrash(tree):\n",
    "    for item in tree.iterdir():\n",
    "        if item.is_dir():\n",
    "            if any([item.name == s for s in delete_me]):\n",
    "                print(\"Removing\", item)\n",
    "                try:\n",
    "                    shutil.rmtree(str(item))\n",
    "                except Exception:\n",
    "                    pass\n",
    "            else:\n",
    "                CleanTreeOfTrash(item)\n",
    "\n",
    "\n",
    "CleanTreeOfTrash(tree)"
   ]
  },
  {
   "cell_type": "code",
   "execution_count": null,
   "metadata": {},
   "outputs": [],
   "source": [
    "from collections import defaultdict\n",
    "\n",
    "skip_folders = [\".git\"]\n",
    "\n",
    "\n",
    "class Result:\n",
    "    def __init__(self):\n",
    "        self.keys = []\n",
    "\n",
    "    def __repr__(self):\n",
    "        return \", \".join(self.keys)\n",
    "\n",
    "\n",
    "def IterTree(tree):\n",
    "    discovered = defaultdict(Result)\n",
    "    for item in tree.iterdir():\n",
    "        if item.is_dir():\n",
    "            if item.name in skip_folders:\n",
    "                continue\n",
    "            discovered.update(IterTree(item))\n",
    "        else:\n",
    "            try:\n",
    "                data = item.read_text().lower()\n",
    "                for search in [\n",
    "                    \"pw\",\n",
    "                    \"password\",\n",
    "                    \"token\",\n",
    "                    \"cred\",\n",
    "                    \"auth\",\n",
    "                    \"bearer\",\n",
    "                    \"user\",\n",
    "                    \"client_secret\",\n",
    "                ]:\n",
    "                    if search in data:\n",
    "                        discovered[item].keys.append(search)\n",
    "            except UnicodeDecodeError:\n",
    "                pass\n",
    "            except Exception as e:\n",
    "                print(type(e), e)\n",
    "                print()\n",
    "    return dict(discovered)\n",
    "\n",
    "\n",
    "results = IterTree(tree)\n",
    "results"
   ]
  },
  {
   "cell_type": "code",
   "execution_count": null,
   "metadata": {},
   "outputs": [],
   "source": [
    "def SecureIPythonOutput(tree):\n",
    "    for item in tree.iterdir():\n",
    "        if item.is_dir():\n",
    "            SecureIPythonOutput(item)\n",
    "        else:\n",
    "            if item.suffix == \".ipynb\":\n",
    "                print(f\"cleaning {item}\")\n",
    "                data = json.loads(item.read_text())\n",
    "                for cell in data[\"cells\"]:\n",
    "                    if cell[\"cell_type\"] == \"code\":\n",
    "                        if len(cell[\"outputs\"]) > 0:\n",
    "                            print(f'\\tremoving {len(cell[\"outputs\"])} lines of output')\n",
    "                            cell[\"outputs\"] = []\n",
    "                item.write_text(json.dumps(data, indent=4))\n",
    "\n",
    "\n",
    "SecureIPythonOutput(tree)"
   ]
  },
  {
   "cell_type": "code",
   "execution_count": null,
   "metadata": {},
   "outputs": [],
   "source": []
  }
 ],
 "metadata": {
  "kernelspec": {
   "display_name": "Python 3 (ipykernel)",
   "language": "python",
   "name": "python3"
  },
  "language_info": {
   "codemirror_mode": {
    "name": "ipython",
    "version": 3
   },
   "file_extension": ".py",
   "mimetype": "text/x-python",
   "name": "python",
   "nbconvert_exporter": "python",
   "pygments_lexer": "ipython3",
   "version": "3.10.6"
  },
  "scenes_data": {
   "active_scene": "Default Scene",
   "init_scene": "",
   "scenes": [
    "Default Scene"
   ]
  },
  "widgets": {
   "application/vnd.jupyter.widget-state+json": {
    "state": {},
    "version_major": 2,
    "version_minor": 0
   }
  }
 },
 "nbformat": 4,
 "nbformat_minor": 4
}
