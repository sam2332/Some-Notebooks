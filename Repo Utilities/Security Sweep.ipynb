{
 "cells": [
  {
   "cell_type": "code",
   "execution_count": 1,
   "metadata": {},
   "outputs": [],
   "source": [
    "import shutil\n",
    "from pathlib import Path"
   ]
  },
  {
   "cell_type": "code",
   "execution_count": 2,
   "metadata": {},
   "outputs": [],
   "source": [
    "tree = Path(\".\")"
   ]
  },
  {
   "cell_type": "code",
   "execution_count": 3,
   "metadata": {},
   "outputs": [
    {
     "name": "stdout",
     "output_type": "stream",
     "text": [
      "Removing RemoteZMQDictionary/.ipynb_checkpoints\n",
      "Removing Microsoft Office Tools/.ipynb_checkpoints\n",
      "Removing TSQL Tools/.ipynb_checkpoints\n",
      "Removing Automation/.ipynb_checkpoints\n",
      "Removing Windows Tools/.ipynb_checkpoints\n",
      "Removing Security Scanners/.ipynb_checkpoints\n",
      "Removing Coding Tools/.ipynb_checkpoints\n",
      "Removing Linux Tools/.ipynb_checkpoints\n",
      "Removing Wallpaper /.ipynb_checkpoints\n",
      "Removing Partial Ideas/.ipynb_checkpoints\n",
      "Removing BlueTooth Low Energy/.ipynb_checkpoints\n",
      "Removing State Machine/.ipynb_checkpoints\n",
      "Removing .virtual_documents\n",
      "Removing .ipynb_checkpoints\n",
      "Removing Jokes/.ipynb_checkpoints\n"
     ]
    }
   ],
   "source": [
    "delete_me = [\".ipynb_checkpoints\", \"__pycache__\", \".virtual_documents\"]\n",
    "\n",
    "\n",
    "def CleanTreeOfTrash(tree):\n",
    "    for item in tree.iterdir():\n",
    "        if item.is_dir():\n",
    "            if any([item.name == s for s in delete_me]):\n",
    "                print(\"Removing\", item)\n",
    "                try:\n",
    "                    shutil.rmtree(str(item))\n",
    "                except Exception:\n",
    "                    pass\n",
    "            else:\n",
    "                CleanTreeOfTrash(item)\n",
    "\n",
    "\n",
    "CleanTreeOfTrash(tree)"
   ]
  },
  {
   "cell_type": "code",
   "execution_count": 5,
   "metadata": {},
   "outputs": [
    {
     "data": {
      "text/plain": [
       "{PosixPath('Security Sweep.ipynb'): pw, password, token, cred, auth, bearer, user, client_secret,\n",
       " PosixPath('WebView 3/Templates/Login.html'): password, auth, user,\n",
       " PosixPath('WebView 3/Templates/Error.html'): auth,\n",
       " PosixPath('WebView 3/Templates/partials/frame.html'): auth, user,\n",
       " PosixPath('WebView 3/lastRender.html'): auth, user,\n",
       " PosixPath('WebView 3/pages/loginPage.py'): password, user,\n",
       " PosixPath('Microsoft Office Tools/Remove Excel Password All Sheets.ipynb'): pw, password,\n",
       " PosixPath('TSQL Tools/Tsql Active Query Logger.ipynb'): password, auth, user,\n",
       " PosixPath('TSQL Tools/TSQL Log Login Attempt Extractor.ipynb'): password, auth, user,\n",
       " PosixPath('Automation/Reddit User Comment Scanner.ipynb'): pw, user,\n",
       " PosixPath('Automation/Android Clicker Sandbox.ipynb'): pw, auth, user,\n",
       " PosixPath('Coding Tools/Javascript Encoding Exploration.ipynb'): pw,\n",
       " PosixPath('Linux Tools/FileDrive.ipynb'): pw, password,\n",
       " PosixPath('Linux Tools/Verify System Certs.ipynb'): auth, user,\n",
       " PosixPath('Wallpaper /WallPaper Sorter.ipynb'): pw,\n",
       " PosixPath('Wallpaper /MultiScreenWallpaperGenerator.ipynb'): user,\n",
       " PosixPath('Wallpaper /convert wallpaper storage to ratio.ipynb'): user,\n",
       " PosixPath('Jokes/random horns prank.ipynb'): user}"
      ]
     },
     "execution_count": 5,
     "metadata": {},
     "output_type": "execute_result"
    }
   ],
   "source": [
    "from collections import defaultdict\n",
    "\n",
    "skip_folders = [\".git\"]\n",
    "\n",
    "\n",
    "class Result:\n",
    "    def __init__(self):\n",
    "        self.keys = []\n",
    "\n",
    "    def __repr__(self):\n",
    "        return \", \".join(self.keys)\n",
    "\n",
    "\n",
    "def IterTree(tree):\n",
    "    discovered = defaultdict(Result)\n",
    "    for item in tree.iterdir():\n",
    "        if item.is_dir():\n",
    "            if item.name in skip_folders:\n",
    "                continue\n",
    "            discovered.update(IterTree(item))\n",
    "        else:\n",
    "            try:\n",
    "                data = item.read_text().lower()\n",
    "                for search in [\n",
    "                    \"pw\",\n",
    "                    \"password\",\n",
    "                    \"token\",\n",
    "                    \"cred\",\n",
    "                    \"auth\",\n",
    "                    \"bearer\",\n",
    "                    \"user\",\n",
    "                    \"client_secret\",\n",
    "                ]:\n",
    "                    if search in data:\n",
    "                        discovered[item].keys.append(search)\n",
    "            except UnicodeDecodeError:\n",
    "                pass\n",
    "            except Exception as e:\n",
    "                print(type(e), e)\n",
    "                print()\n",
    "    return dict(discovered)\n",
    "\n",
    "\n",
    "results = IterTree(tree)\n",
    "results"
   ]
  },
  {
   "cell_type": "code",
   "execution_count": null,
   "metadata": {},
   "outputs": [],
   "source": []
  }
 ],
 "metadata": {
  "kernelspec": {
   "display_name": "Python 3 (ipykernel)",
   "language": "python",
   "name": "python3"
  },
  "language_info": {
   "codemirror_mode": {
    "name": "ipython",
    "version": 3
   },
   "file_extension": ".py",
   "mimetype": "text/x-python",
   "name": "python",
   "nbconvert_exporter": "python",
   "pygments_lexer": "ipython3",
   "version": "3.10.4"
  },
  "widgets": {
   "application/vnd.jupyter.widget-state+json": {
    "state": {},
    "version_major": 2,
    "version_minor": 0
   }
  }
 },
 "nbformat": 4,
 "nbformat_minor": 4
}
