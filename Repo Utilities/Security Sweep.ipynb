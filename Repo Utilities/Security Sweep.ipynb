{
 "cells": [
  {
   "cell_type": "code",
   "execution_count": 1,
   "metadata": {},
   "outputs": [],
   "source": [
    "import shutil\n",
    "from pathlib import Path"
   ]
  },
  {
   "cell_type": "code",
   "execution_count": 2,
   "metadata": {},
   "outputs": [],
   "source": [
    "tree = Path(\"..\")"
   ]
  },
  {
   "cell_type": "code",
   "execution_count": 3,
   "metadata": {},
   "outputs": [
    {
     "name": "stdout",
     "output_type": "stream",
     "text": [
      "Removing ../Repo Utilities/.ipynb_checkpoints\n",
      "Removing ../Gather Data/.ipynb_checkpoints\n",
      "Removing ../Classical Machine Learning/Neural Network/.ipynb_checkpoints\n",
      "Removing ../Games/RuneScape/data/.ipynb_checkpoints\n",
      "Removing ../Games/RuneScape/.ipynb_checkpoints\n",
      "Removing ../Android Automation/Beholder/Libs/.ipynb_checkpoints\n",
      "Removing ../Android Automation/Beholder/Libs/__pycache__\n",
      "Removing ../Android Automation/Beholder/.ipynb_checkpoints\n",
      "Removing ../Image/MediaPipe/Face/.ipynb_checkpoints\n",
      "Removing ../Image/.ipynb_checkpoints\n",
      "Removing ../Linux Tools/.ipynb_checkpoints\n",
      "Removing ../.ipynb_checkpoints\n",
      "Removing ../Timers/.ipynb_checkpoints\n"
     ]
    }
   ],
   "source": [
    "delete_me = [\".ipynb_checkpoints\", \"__pycache__\", \".virtual_documents\"]\n",
    "\n",
    "\n",
    "def CleanTreeOfTrash(tree):\n",
    "    for item in tree.iterdir():\n",
    "        if item.is_dir():\n",
    "            if any([item.name == s for s in delete_me]):\n",
    "                print(\"Removing\", item)\n",
    "                try:\n",
    "                    shutil.rmtree(str(item))\n",
    "                except Exception:\n",
    "                    pass\n",
    "            else:\n",
    "                CleanTreeOfTrash(item)\n",
    "\n",
    "\n",
    "CleanTreeOfTrash(tree)"
   ]
  },
  {
   "cell_type": "code",
   "execution_count": 4,
   "metadata": {},
   "outputs": [
    {
     "data": {
      "text/plain": [
       "{PosixPath('../Repo Utilities/Security Sweep.ipynb'): pw, password, token, cred, auth, bearer, user, client_secret,\n",
       " PosixPath('../Games/RuneScape/Daily Advancement Email.ipynb'): user,\n",
       " PosixPath('../Games/RuneScape/Character Data.ipynb'): user,\n",
       " PosixPath('../WebView 3/Templates/Login.html'): password, auth, user,\n",
       " PosixPath('../WebView 3/Templates/Error.html'): auth,\n",
       " PosixPath('../WebView 3/Templates/partials/frame.html'): auth, user,\n",
       " PosixPath('../WebView 3/lastRender.html'): auth, user,\n",
       " PosixPath('../WebView 3/pages/loginPage.py'): password, user,\n",
       " PosixPath('../Memory Exploration/Sandbox.ipynb'): token,\n",
       " PosixPath('../TSQL Tools/Tsql Active Query Logger.ipynb'): password, auth, user,\n",
       " PosixPath('../TSQL Tools/TSQL Log Login Attempt Extractor.ipynb'): password, auth, user,\n",
       " PosixPath('../Spell Checking/hunspell/Setup and Test.ipynb'): user,\n",
       " PosixPath('../Android Automation/Android Clicker Sandbox.ipynb'): pw, auth, user,\n",
       " PosixPath('../Android Automation/Beholder/wikiwords.lst'): pw, password, token, cred, auth, bearer, user,\n",
       " PosixPath('../Android Automation/Beholder/words.lst'): pw, password, token, cred, auth, bearer, user,\n",
       " PosixPath('../Android Automation/Beholder/Word Trip.ipynb'): pw, user,\n",
       " PosixPath('../Code Generators/Template 2.0.ipynb'): user,\n",
       " PosixPath('../Coding Tools/Javascript Encoding Exploration.ipynb'): pw,\n",
       " PosixPath('../Reddit Tools/Reddit User Comment Scanner.ipynb'): pw, user,\n",
       " PosixPath('../Natural Language Processing/Sentiment analysis.ipynb'): pw, token,\n",
       " PosixPath('../Microsoft/Office Tools/Remove Excel Password All Sheets.ipynb'): pw, password,\n",
       " PosixPath('../Microsoft/Visual Studio/asp.net core tool/Read AppSettings.ipynb'): user,\n",
       " PosixPath('../Microsoft/Office 365/Read Mailbox and Send Emails.ipynb'): cred, auth, user, client_secret,\n",
       " PosixPath('../Microsoft/Office 365/o365_token.txt'): pw, token, bearer,\n",
       " PosixPath('../Microsoft/IIS Tools/IIS LOG INTERGATION.ipynb'): pw, user,\n",
       " PosixPath('../Linux Tools/FileDrive.ipynb'): pw, password,\n",
       " PosixPath('../Linux Tools/Verify System Certs.ipynb'): auth, user,\n",
       " PosixPath('../Linux Tools/DriveEncrypt.ipynb'): password,\n",
       " PosixPath('../Wallpaper /WallPaper Sorter.ipynb'): pw,\n",
       " PosixPath('../Wallpaper /MultiScreenWallpaperGenerator.ipynb'): user,\n",
       " PosixPath('../Wallpaper /convert wallpaper storage to ratio.ipynb'): user,\n",
       " PosixPath('../.gitignore'): token,\n",
       " PosixPath('../Binary Exploration/Rip Zip Open.ipynb'): token,\n",
       " PosixPath('../Binary Exploration/Strings_and_hex dig.ipynb'): pw,\n",
       " PosixPath('../Image Recognition/Get Images.ipynb'): user,\n",
       " PosixPath('../Image Recognition/ItemCache.json'): pw, token, cred, bearer, user,\n",
       " PosixPath('../Image Recognition/Index.json'): pw, token, cred, bearer, user,\n",
       " PosixPath('../Cisco Phone/Cisco Get Voicemails.ipynb'): pw, password, auth, user,\n",
       " PosixPath('../Jokes/random horns prank.ipynb'): user}"
      ]
     },
     "execution_count": 4,
     "metadata": {},
     "output_type": "execute_result"
    }
   ],
   "source": [
    "from collections import defaultdict\n",
    "\n",
    "skip_folders = [\".git\"]\n",
    "\n",
    "\n",
    "class Result:\n",
    "    def __init__(self):\n",
    "        self.keys = []\n",
    "\n",
    "    def __repr__(self):\n",
    "        return \", \".join(self.keys)\n",
    "\n",
    "\n",
    "def IterTree(tree):\n",
    "    discovered = defaultdict(Result)\n",
    "    for item in tree.iterdir():\n",
    "        if item.is_dir():\n",
    "            if item.name in skip_folders:\n",
    "                continue\n",
    "            discovered.update(IterTree(item))\n",
    "        else:\n",
    "            try:\n",
    "                data = item.read_text().lower()\n",
    "                for search in [\n",
    "                    \"pw\",\n",
    "                    \"password\",\n",
    "                    \"token\",\n",
    "                    \"cred\",\n",
    "                    \"auth\",\n",
    "                    \"bearer\",\n",
    "                    \"user\",\n",
    "                    \"client_secret\",\n",
    "                ]:\n",
    "                    if search in data:\n",
    "                        discovered[item].keys.append(search)\n",
    "            except UnicodeDecodeError:\n",
    "                pass\n",
    "            except Exception as e:\n",
    "                print(type(e), e)\n",
    "                print()\n",
    "    return dict(discovered)\n",
    "\n",
    "\n",
    "results = IterTree(tree)\n",
    "results"
   ]
  },
  {
   "cell_type": "code",
   "execution_count": null,
   "metadata": {},
   "outputs": [],
   "source": []
  }
 ],
 "metadata": {
  "kernelspec": {
   "display_name": "Python 3 (ipykernel)",
   "language": "python",
   "name": "python3"
  },
  "language_info": {
   "codemirror_mode": {
    "name": "ipython",
    "version": 3
   },
   "file_extension": ".py",
   "mimetype": "text/x-python",
   "name": "python",
   "nbconvert_exporter": "python",
   "pygments_lexer": "ipython3",
   "version": "3.10.4"
  },
  "scenes_data": {
   "active_scene": "Default Scene",
   "init_scene": "",
   "scenes": [
    "Default Scene"
   ]
  },
  "widgets": {
   "application/vnd.jupyter.widget-state+json": {
    "state": {},
    "version_major": 2,
    "version_minor": 0
   }
  }
 },
 "nbformat": 4,
 "nbformat_minor": 4
}
