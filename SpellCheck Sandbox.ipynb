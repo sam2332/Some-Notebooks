{
 "cells": [
  {
   "cell_type": "code",
   "execution_count": null,
   "id": "fe9f16e5-e0d6-4e33-8065-9fbab1ba59f9",
   "metadata": {},
   "outputs": [],
   "source": [
    "import urllib.parse\n",
    "import requests\n",
    "\n",
    "def checkText(text):\n",
    "    data = {\n",
    "        'Text':text\n",
    "    }\n",
    "    params ={\n",
    "        \"mode\":\"proof\",\n",
    "        \"mkt\":\"en-us\"\n",
    "    }\n",
    "    r =requests.post(\n",
    "        \"https://api.bing.microsoft.com/v7.0/SpellCheck\",\n",
    "        params=params,\n",
    "        data=data,\n",
    "        headers={\n",
    "            'Ocp-Apim-Subscription-Key':'3145ffd029b94a62a41244af06f58bdb',\n",
    "            'Content-Type':\"application/x-www-form-urlencoded\"\n",
    "        },\n",
    "    )\n",
    "    return r.json()\n",
    "\n",
    "checkText(\"Huh this is is wired dot you think?\")"
   ]
  },
  {
   "cell_type": "code",
   "execution_count": null,
   "id": "286deca5-3c55-4fe6-a7af-25ebc441f456",
   "metadata": {},
   "outputs": [],
   "source": [
    "import json"
   ]
  },
  {
   "cell_type": "code",
   "execution_count": null,
   "id": "866a3e0e-3217-4081-8301-c55fd23f25e8",
   "metadata": {},
   "outputs": [],
   "source": [
    "requests.post(\n",
    "        \"https://api.languagetool.org/v2/check\",\n",
    "        params={\n",
    "            \"language\":'auto',\n",
    "            \"text\":'Huh this is is wired dot you think?'\n",
    "        }\n",
    ").json()"
   ]
  },
  {
   "cell_type": "code",
   "execution_count": null,
   "id": "75e7d8d7-e378-4353-b340-151f642de25c",
   "metadata": {},
   "outputs": [],
   "source": []
  },
  {
   "cell_type": "code",
   "execution_count": null,
   "id": "bb61c6d0-7476-4610-965f-aa9850f9a55a",
   "metadata": {},
   "outputs": [],
   "source": []
  }
 ],
 "metadata": {
  "kernelspec": {
   "display_name": "Python 3 (ipykernel)",
   "language": "python",
   "name": "python3"
  },
  "language_info": {
   "codemirror_mode": {
    "name": "ipython",
    "version": 3
   },
   "file_extension": ".py",
   "mimetype": "text/x-python",
   "name": "python",
   "nbconvert_exporter": "python",
   "pygments_lexer": "ipython3",
   "version": "3.10.4"
  },
  "widgets": {
   "application/vnd.jupyter.widget-state+json": {
    "state": {},
    "version_major": 2,
    "version_minor": 0
   }
  }
 },
 "nbformat": 4,
 "nbformat_minor": 5
}
