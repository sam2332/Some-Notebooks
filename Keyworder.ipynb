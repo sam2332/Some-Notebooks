{
 "cells": [
  {
   "cell_type": "code",
   "execution_count": 143,
   "id": "6f458e10-5080-4bfa-ab57-42e00e7fcb15",
   "metadata": {},
   "outputs": [],
   "source": [
    "from collections import defaultdict"
   ]
  },
  {
   "cell_type": "code",
   "execution_count": 206,
   "id": "c4127f43-e7a1-4bd7-9559-a565105098d6",
   "metadata": {},
   "outputs": [],
   "source": [
    "class KeywordResult():\n",
    "    def __init__(self):\n",
    "        self.data = {}\n",
    "\n",
    "    def set(self, key, value):\n",
    "        self.data[key] = value\n",
    "\n",
    "    def __repr__(self):\n",
    "        return f\"{self.data}\""
   ]
  },
  {
   "cell_type": "code",
   "execution_count": 250,
   "id": "cef0802c-6842-4f1e-b93d-27e76dc32094",
   "metadata": {},
   "outputs": [],
   "source": [
    "class KeyWorder():\n",
    "    def __init__(self, raise_on_unknown=True):\n",
    "        self.raise_on_unknown = raise_on_unknown\n",
    "        self.all_known = defaultdict(list)\n",
    "\n",
    "    def learn(self, ret_obj, keywords):\n",
    "        print('learning', ret_obj, keywords)\n",
    "        for item in keywords:\n",
    "            if ret_obj not in self.all_known[item]:\n",
    "                self.all_known[item].append(ret_obj)\n",
    "\n",
    "    def predict(self, keywords, only_top=2):\n",
    "        indication = defaultdict(int)\n",
    "        processed = []\n",
    "        for item in self.all_known:\n",
    "            for indi in self.all_known[item]:\n",
    "                processed.append(item)\n",
    "                if item in keywords:\n",
    "                    indication[indi] += 1\n",
    "                else:\n",
    "                    indication[indi] -= 1\n",
    "        if self.raise_on_unknown: \n",
    "            for item in keywords:\n",
    "                if item not in processed:\n",
    "                    raise Exception(\"Unknown\", item)\n",
    "        res = KeywordResult()\n",
    "        for key, value in sorted(\n",
    "            indication.items(), \n",
    "            key=lambda item: item[1],\n",
    "            reverse=True\n",
    "        ):\n",
    "            if value > 0:\n",
    "                res.set(key,value)\n",
    "                if only_top<=1:\n",
    "                    break\n",
    "                else:\n",
    "                    only_top -= 1\n",
    "        return res"
   ]
  },
  {
   "cell_type": "code",
   "execution_count": 251,
   "id": "c4206305-96b0-4832-9699-274e0bc52fb6",
   "metadata": {},
   "outputs": [
    {
     "name": "stdout",
     "output_type": "stream",
     "text": [
      "learning ab ['a', 'b']\n",
      "learning ac ['a', 'c']\n",
      "learning ad ['a', 'd']\n",
      "learning ae ['a', 'e']\n",
      "learning af ['a', 'f']\n",
      "learning acdbd ['a', 'c', 'b', 'd']\n",
      "learning ac ['a', 'c']\n",
      "learning zx ['z', 'x']\n"
     ]
    }
   ],
   "source": [
    "kw = KeyWorder()\n",
    "keywords = ['a','b']\n",
    "kw.learn('ab',keywords)\n",
    "\n",
    "keywords = ['a','c']\n",
    "kw.learn('ac',keywords)\n",
    "\n",
    "keywords = ['a','d']\n",
    "kw.learn('ad',keywords)\n",
    "\n",
    "keywords = ['a','e']\n",
    "kw.learn('ae',keywords)\n",
    "\n",
    "keywords = ['a','f']\n",
    "kw.learn('af',keywords)\n",
    "\n",
    "keywords = ['a','c','b','d']\n",
    "kw.learn('acdbd',keywords)\n",
    "\n",
    "keywords = ['a','c']\n",
    "kw.learn('ac',keywords)\n",
    "\n",
    "keywords = ['z','x']\n",
    "kw.learn('zx',keywords)"
   ]
  },
  {
   "cell_type": "code",
   "execution_count": 252,
   "id": "b5c67d84-61e2-4862-8704-90e1e70e14ca",
   "metadata": {},
   "outputs": [
    {
     "name": "stdout",
     "output_type": "stream",
     "text": [
      "learning k ['k']\n"
     ]
    }
   ],
   "source": [
    "condition_ac = ['k']\n",
    "kw.learn('k',condition_ac)"
   ]
  },
  {
   "cell_type": "code",
   "execution_count": 253,
   "id": "90f5b46b-e293-4c95-b856-ef4e7d637b67",
   "metadata": {},
   "outputs": [
    {
     "data": {
      "text/plain": [
       "defaultdict(list,\n",
       "            {'a': ['ab', 'ac', 'ad', 'ae', 'af', 'acdbd'],\n",
       "             'b': ['ab', 'acdbd'],\n",
       "             'c': ['ac', 'acdbd'],\n",
       "             'd': ['ad', 'acdbd'],\n",
       "             'e': ['ae'],\n",
       "             'f': ['af'],\n",
       "             'z': ['zx'],\n",
       "             'x': ['zx'],\n",
       "             'k': ['k']})"
      ]
     },
     "execution_count": 253,
     "metadata": {},
     "output_type": "execute_result"
    }
   ],
   "source": [
    "kw.all_known"
   ]
  },
  {
   "cell_type": "code",
   "execution_count": 254,
   "id": "114ed7cf-9280-4dfd-8bc4-3826fff3ac44",
   "metadata": {},
   "outputs": [
    {
     "data": {
      "text/plain": [
       "{'ab': 2}"
      ]
     },
     "execution_count": 254,
     "metadata": {},
     "output_type": "execute_result"
    }
   ],
   "source": [
    "kw.predict(['a','b'])"
   ]
  },
  {
   "cell_type": "code",
   "execution_count": 257,
   "id": "f714bff8-4024-4c95-980a-fc64fe0495b2",
   "metadata": {},
   "outputs": [
    {
     "data": {
      "text/plain": [
       "{'ac': 2, 'k': 1}"
      ]
     },
     "execution_count": 257,
     "metadata": {},
     "output_type": "execute_result"
    }
   ],
   "source": [
    "kw.predict(['a','c','k'])"
   ]
  },
  {
   "cell_type": "code",
   "execution_count": 256,
   "id": "cc478cc0-2e4d-4d31-b852-2dbf244d229d",
   "metadata": {},
   "outputs": [
    {
     "data": {
      "text/plain": [
       "{'acdbd': 4, 'ab': 2}"
      ]
     },
     "execution_count": 256,
     "metadata": {},
     "output_type": "execute_result"
    }
   ],
   "source": [
    "kw.predict(['a','c','b','k','d'])"
   ]
  },
  {
   "cell_type": "code",
   "execution_count": null,
   "id": "5e10be8b-cbaa-4491-9e38-a8b3e358f67d",
   "metadata": {},
   "outputs": [],
   "source": []
  },
  {
   "cell_type": "code",
   "execution_count": null,
   "id": "b4a227ea-94ec-45f8-97f9-4f245ccad2e5",
   "metadata": {},
   "outputs": [],
   "source": []
  },
  {
   "cell_type": "code",
   "execution_count": null,
   "id": "c6f66399-61e6-471e-9af1-cff941581998",
   "metadata": {},
   "outputs": [],
   "source": []
  }
 ],
 "metadata": {
  "kernelspec": {
   "display_name": "Python 3 (ipykernel)",
   "language": "python",
   "name": "python3"
  },
  "language_info": {
   "codemirror_mode": {
    "name": "ipython",
    "version": 3
   },
   "file_extension": ".py",
   "mimetype": "text/x-python",
   "name": "python",
   "nbconvert_exporter": "python",
   "pygments_lexer": "ipython3",
   "version": "3.8.10"
  }
 },
 "nbformat": 4,
 "nbformat_minor": 5
}
