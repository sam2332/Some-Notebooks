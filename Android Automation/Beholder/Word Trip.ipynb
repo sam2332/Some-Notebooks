{
 "cells": [
  {
   "cell_type": "code",
   "execution_count": 1,
   "id": "31a5b066-0821-480f-be9f-31f318847e5a",
   "metadata": {},
   "outputs": [],
   "source": [
    "import string\n",
    "from copy import deepcopy as copy\n",
    "\n",
    "from IPython.display import Image, clear_output, display\n",
    "from Libs.Beholder import *\n",
    "from Libs.MonkeyRunner import MonkeyRunner\n",
    "from PIL import Image as pilImage\n",
    "from tqdm.notebook import tqdm"
   ]
  },
  {
   "cell_type": "code",
   "execution_count": 2,
   "id": "84cd9576-8ceb-446d-9cba-1f16a80551e8",
   "metadata": {},
   "outputs": [],
   "source": [
    "a = Beholder(videoFrameGenerator=pullPhoneScreen)\n",
    "\n",
    "a.addLayerModifer(\n",
    "    Beholder_Layer_Chopper_Grayscale(name=\"gray\", from_layer=\"image\", enabled=True)\n",
    ")\n",
    "\n",
    "a.addLayerModifer(\n",
    "    Beholder_Layer_Chopper_AtCord(\n",
    "        name=\"gray_letters\",\n",
    "        from_layer=\"gray\",\n",
    "        x=304,\n",
    "        y=1632,\n",
    "        w=850,\n",
    "        h=860,\n",
    "        enabled=True,\n",
    "    )\n",
    ")"
   ]
  },
  {
   "cell_type": "code",
   "execution_count": 3,
   "id": "eb32d1c8-4b26-476e-be79-9fc5059fa31d",
   "metadata": {},
   "outputs": [
    {
     "data": {
      "text/plain": [
       "370105"
      ]
     },
     "execution_count": 3,
     "metadata": {},
     "output_type": "execute_result"
    }
   ],
   "source": [
    "from pathlib import Path\n",
    "\n",
    "import requests\n",
    "\n",
    "w = Path(\"words.lst\")\n",
    "if not w.exists():\n",
    "    w.write_bytes(\n",
    "        requests.get(\n",
    "            \"https://raw.githubusercontent.com/MariaLuo826/english_words/master/words_alpha.txt\"\n",
    "        ).content\n",
    "    )\n",
    "words = [l.upper() for l in w.read_text().splitlines()]\n",
    "len(words)"
   ]
  },
  {
   "cell_type": "code",
   "execution_count": 4,
   "id": "9b3f6239-93c5-4960-8881-7c174e323621",
   "metadata": {},
   "outputs": [
    {
     "data": {
      "text/plain": [
       "1000"
      ]
     },
     "execution_count": 4,
     "metadata": {},
     "output_type": "execute_result"
    }
   ],
   "source": [
    "# Top words\n",
    "w = Path(\"1ktopwords.lst\")\n",
    "if not w.exists():\n",
    "    w.write_bytes(\n",
    "        requests.get(\n",
    "            \"https://gist.githubusercontent.com/deekayen/4148741/raw/98d35708fa344717d8eee15d11987de6c8e26d7d/1-1000.txt\"\n",
    "        ).content\n",
    "    )\n",
    "topwords = [l.upper() for l in w.read_text().splitlines()]\n",
    "len(topwords)"
   ]
  },
  {
   "cell_type": "code",
   "execution_count": 5,
   "id": "ac238736-d1c1-4514-9f78-670992badf1e",
   "metadata": {},
   "outputs": [
    {
     "data": {
      "text/plain": [
       "70926"
      ]
     },
     "execution_count": 5,
     "metadata": {},
     "output_type": "execute_result"
    }
   ],
   "source": [
    "# wiki words\n",
    "w = Path(\"wikiwords.lst\")\n",
    "if not w.exists():\n",
    "    w.write_bytes(\n",
    "        requests.get(\n",
    "            \"https://gist.githubusercontent.com/h3xx/1976236/raw/bbabb412261386673eff521dddbe1dc815373b1d/wiki-100k.txt\"\n",
    "        ).content\n",
    "    )\n",
    "wikiwords = list(sorted(list(set([l.upper() for l in w.read_text().splitlines()]))))\n",
    "len(wikiwords)"
   ]
  },
  {
   "cell_type": "code",
   "execution_count": 6,
   "id": "3859927a-cf41-4ccd-aeb1-c38ba710a537",
   "metadata": {},
   "outputs": [
    {
     "data": {
      "text/plain": [
       "1000"
      ]
     },
     "execution_count": 6,
     "metadata": {},
     "output_type": "execute_result"
    }
   ],
   "source": [
    "# h3x words\n",
    "w = Path(\"1ktopwords.lst\")\n",
    "if not w.exists():\n",
    "    w.write_bytes(requests.get(\"\").content)\n",
    "topwords = [l.upper() for l in w.read_text().splitlines()]\n",
    "len(topwords)"
   ]
  },
  {
   "cell_type": "code",
   "execution_count": null,
   "id": "77645dba-89bc-4e1b-9930-5c67e8ee1df5",
   "metadata": {},
   "outputs": [],
   "source": []
  },
  {
   "cell_type": "code",
   "execution_count": 7,
   "id": "2f501741-d0d0-467c-b332-d3bea3b13c3d",
   "metadata": {},
   "outputs": [],
   "source": [
    "import shutil\n",
    "\n",
    "for l in string.ascii_uppercase:\n",
    "    p1 = Path(f\"./wordtrip_templates/{l}/\")\n",
    "    p = Path(f\"./wordtrip_templates/{l}.png\")\n",
    "    if p.exists():\n",
    "        shutil.move(p, p1)"
   ]
  },
  {
   "cell_type": "code",
   "execution_count": 8,
   "id": "7fd54e70-3742-49d9-8fe3-87b775753e8e",
   "metadata": {},
   "outputs": [
    {
     "name": "stdout",
     "output_type": "stream",
     "text": [
      "Loading A\n",
      "Loading B\n",
      "Loading C\n",
      "Loading D\n",
      "Loading E\n",
      "Loading F\n",
      "Loading G\n",
      "Loading H\n",
      "Loading I\n",
      "Loading J\n",
      "Loading K\n",
      "Loading L\n",
      "Loading M\n",
      "Loading N\n",
      "Loading O\n",
      "Loading P\n",
      "Loading Q\n",
      "Loading R\n",
      "Loading S\n",
      "Loading T\n",
      "Loading U\n",
      "Loading V\n",
      "Loading W\n",
      "Loading X\n",
      "Loading Y\n",
      "Loading Z\n"
     ]
    },
    {
     "data": {
      "text/plain": [
       "'\\nfor l in [\"white_x\"]:\\n    print(f\"Loading masked {l}\")\\n    p = Path(f\"./wordtrip_templates/{l}.png\")\\n    a.addMatcher(\\n        Beholder_Image_Matcher(\\n            name=l,\\n            layer=\"gray\",\\n            filename=str(p),\\n            mask_filename=f\"./wordtrip_templates/{l}_mask.png\",\\n            threshhold=0.9,\\n        )\\n    )'"
      ]
     },
     "execution_count": 8,
     "metadata": {},
     "output_type": "execute_result"
    }
   ],
   "source": [
    "a.matchers = {}\n",
    "for l in string.ascii_uppercase:\n",
    "    p = Path(f\"./wordtrip_templates/{l}\")\n",
    "    if p.exists():\n",
    "        print(f\"Loading {l}\")\n",
    "        a.addMatcher(\n",
    "            Beholder_Image_Matcher(\n",
    "                name=l,\n",
    "                layer=\"gray_letters\",\n",
    "                batch_folder=str(p),\n",
    "                threshhold=0.9,\n",
    "            )\n",
    "        )\n",
    "\n",
    "for l in [\"claim_backpack\"]:\n",
    "    p = Path(f\"./wordtrip_templates/{l}.png\")\n",
    "    if p.exists():\n",
    "        print(f\"Loading {l}\")\n",
    "        a.addMatcher(\n",
    "            Beholder_Image_Matcher(\n",
    "                name=l,\n",
    "                layer=\"gray\",\n",
    "                filename=str(p),\n",
    "                threshhold=0.9,\n",
    "            )\n",
    "        )\n",
    "for p in Path(\"./wordtrip_templates\").glob(\"close_*.png\"):\n",
    "    print(p)\n",
    "    a.addMatcher(\n",
    "        Beholder_Image_Matcher(\n",
    "            name=p.stem,\n",
    "            layer=\"gray\",\n",
    "            filename=str(p),\n",
    "            threshhold=0.7,\n",
    "        )\n",
    "    )\n",
    "\"\"\"\n",
    "for l in [\"white_x\"]:\n",
    "    print(f\"Loading masked {l}\")\n",
    "    p = Path(f\"./wordtrip_templates/{l}.png\")\n",
    "    a.addMatcher(\n",
    "        Beholder_Image_Matcher(\n",
    "            name=l,\n",
    "            layer=\"gray\",\n",
    "            filename=str(p),\n",
    "            mask_filename=f\"./wordtrip_templates/{l}_mask.png\",\n",
    "            threshhold=0.9,\n",
    "        )\n",
    "    )\"\"\""
   ]
  },
  {
   "cell_type": "code",
   "execution_count": 9,
   "id": "e169feeb-218e-44ed-a8df-a0802b45e61d",
   "metadata": {},
   "outputs": [],
   "source": [
    "def wordWorks(word, found_letters):\n",
    "    found_letters_t = copy(found_letters)\n",
    "    for letter in word:\n",
    "        if letter in found_letters_t:\n",
    "            found_letters_t.remove(letter)\n",
    "        else:\n",
    "            return False\n",
    "    return True"
   ]
  },
  {
   "cell_type": "code",
   "execution_count": 10,
   "id": "d73c645d-130f-4cf9-a8ad-5f589ed8d38b",
   "metadata": {},
   "outputs": [],
   "source": [
    "def generateMoves(myword, matches):\n",
    "    mymatches = copy(matches)\n",
    "    moves = []\n",
    "    for letter in myword:\n",
    "        if letter in mymatches:\n",
    "            if len(mymatches[letter]) > 0:\n",
    "                m = mymatches[letter].pop(0)\n",
    "                moves.append(m.center)\n",
    "\n",
    "    return moves"
   ]
  },
  {
   "cell_type": "code",
   "execution_count": 11,
   "id": "8535dd8f-dcdd-440e-8304-715c41400a6b",
   "metadata": {},
   "outputs": [],
   "source": [
    "from pathlib import Path\n",
    "\n",
    "import hunspell\n",
    "\n",
    "hobj = hunspell.HunSpell(\n",
    "    Path(\"~/en_US.dic\").expanduser(), Path(\"~/en_US.aff\").expanduser()\n",
    ")\n",
    "\n",
    "\n",
    "def FindWords(found_letters, spellcheck=False):\n",
    "    matching_words = []\n",
    "    for word in tqdm(words):\n",
    "        if len(word) < min_len or len(word) > max_len:\n",
    "            continue\n",
    "        if wordWorks(word, found_letters):\n",
    "            matching_words.append(word)\n",
    "    if spellcheck:\n",
    "        matching_words = list(\n",
    "            filter(None, [i if hobj.spell(i) else None for i in matching_words])\n",
    "        )\n",
    "    matching_words = list(sorted(matching_words, key=len, reverse=True))\n",
    "    return matching_words"
   ]
  },
  {
   "cell_type": "code",
   "execution_count": 12,
   "id": "77376266-382c-484c-b98f-fb24153a229b",
   "metadata": {},
   "outputs": [],
   "source": [
    "min_len = 3\n",
    "max_len = 6\n",
    "eq_len = None"
   ]
  },
  {
   "cell_type": "raw",
   "id": "c6f2e80a-9fdc-43b5-a908-0b55708c6c3d",
   "metadata": {},
   "source": [
    "FindWords([\"H\", \"B\", \"U\", \"R\", \"S\"], spellcheck=False)"
   ]
  },
  {
   "cell_type": "raw",
   "id": "38da67b2-3700-4a14-9ed3-c78481318167",
   "metadata": {},
   "source": [
    "FindWords([\"H\", \"B\", \"U\", \"R\", \"S\"], spellcheck=True)"
   ]
  },
  {
   "cell_type": "code",
   "execution_count": 13,
   "id": "ae6099a8-32df-4a76-8c3b-4850fedf676a",
   "metadata": {},
   "outputs": [],
   "source": [
    "def gsColor(layer, x, y, correct=None):\n",
    "    color_data = layer.data[y][x]\n",
    "    if correct is None:\n",
    "        return color_data\n",
    "    for index, element in enumerate(color_data):\n",
    "        if abs(color_data[index] - correct[index]) > 10:\n",
    "            print(\"faile on \", abs(color_data[index] - correct[index]))\n",
    "            return False\n",
    "    return True"
   ]
  },
  {
   "cell_type": "code",
   "execution_count": 14,
   "id": "a5d0f31a-4fd8-439d-be1d-a9da17a25204",
   "metadata": {},
   "outputs": [],
   "source": [
    "def get_color_distance_fast(color_1, color_2):\n",
    "    dist = abs(color_1[0] - color_2[0])\n",
    "    dist += abs(color_1[1] - color_2[1])\n",
    "    dist += abs(color_1[2] - color_2[2])\n",
    "    return dist"
   ]
  },
  {
   "cell_type": "raw",
   "id": "d28bebe1-a399-4e03-8286-79559a3977cf",
   "metadata": {},
   "source": [
    "correct = [99, 69, 8]\n",
    "\n",
    "print(gsColor(a.layers[\"image\"], 58, 58))"
   ]
  },
  {
   "cell_type": "raw",
   "id": "540bab8c-eb20-4cbf-8def-4216e39c12c1",
   "metadata": {},
   "source": [
    "get_color_distance_fast(correct, gsColor(a.layers[\"image\"], 58, 58))"
   ]
  },
  {
   "cell_type": "raw",
   "id": "fe0abaf5-9efb-4f73-b251-41cb9e6741db",
   "metadata": {},
   "source": [
    "get_color_distance_fast(correct, gsColor(a.layers[\"image\"], 1190, 1588))"
   ]
  },
  {
   "cell_type": "raw",
   "id": "ff62b683-81df-49fc-9b0a-067457274d4a",
   "metadata": {},
   "source": [
    "get_color_distance_fast(correct, gsColor(a.layers[\"image\"], 700, 1588))"
   ]
  },
  {
   "cell_type": "markdown",
   "id": "459eb3d9-6584-46cd-a4ba-df5f90f08ed7",
   "metadata": {},
   "source": [
    "# Manual matcher setup "
   ]
  },
  {
   "cell_type": "code",
   "execution_count": 15,
   "id": "4562d659-25a9-4f98-8558-b855737198f1",
   "metadata": {},
   "outputs": [
    {
     "name": "stdout",
     "output_type": "stream",
     "text": [
      "AddMatch A (648, 2303)\n",
      "AddMatch C (384, 2139)\n",
      "AddMatch C (381, 2135)\n",
      "AddMatch O (940, 1815)\n",
      "AddMatch T (661, 1650)\n",
      "{'A': [<Libs.Beholder.BeholderMatch object at 0x7f56ee0cbee0>], 'C': [<Libs.Beholder.BeholderMatch object at 0x7f56ee0cbe80>, <Libs.Beholder.BeholderMatch object at 0x7f56ee0cbf40>], 'O': [<Libs.Beholder.BeholderMatch object at 0x7f56ee0cbfd0>], 'T': [<Libs.Beholder.BeholderMatch object at 0x7f56ed308040>]}\n",
      "['A', 'C', 'C', 'O', 'T']\n"
     ]
    },
    {
     "data": {
      "application/vnd.jupyter.widget-view+json": {
       "model_id": "e3118d6330b14b5fba2dafb1a6fa5664",
       "version_major": 2,
       "version_minor": 0
      },
      "text/plain": [
       "  0%|          | 0/370105 [00:00<?, ?it/s]"
      ]
     },
     "metadata": {},
     "output_type": "display_data"
    },
    {
     "name": "stdout",
     "output_type": "stream",
     "text": [
      "\n",
      "COACT:[(384, 2139), (940, 1815), (648, 2303), (381, 2135), (661, 1650)]\n",
      "\n",
      "ACCT:[(648, 2303), (384, 2139), (381, 2135), (661, 1650)]\n",
      "COAT:[(384, 2139), (940, 1815), (648, 2303), (661, 1650)]\n",
      "COCA:[(384, 2139), (940, 1815), (381, 2135), (648, 2303)]\n",
      "COCT:[(384, 2139), (940, 1815), (381, 2135), (661, 1650)]\n",
      "TACO:[(661, 1650), (648, 2303), (384, 2139), (940, 1815)]\n",
      "\n",
      "ACC:[(648, 2303), (384, 2139), (381, 2135)]\n",
      "ACT:[(648, 2303), (384, 2139), (661, 1650)]\n",
      "CAT:[(384, 2139), (648, 2303), (661, 1650)]\n",
      "COT:[(384, 2139), (940, 1815), (661, 1650)]\n",
      "CTO:[(384, 2139), (661, 1650), (940, 1815)]\n",
      "OAT:[(940, 1815), (648, 2303), (661, 1650)]\n",
      "OCA:[(940, 1815), (384, 2139), (648, 2303)]\n",
      "OCT:[(940, 1815), (384, 2139), (661, 1650)]\n",
      "OTC:[(940, 1815), (661, 1650), (384, 2139)]\n",
      "TAO:[(661, 1650), (648, 2303), (940, 1815)]\n",
      "TOA:[(661, 1650), (940, 1815), (648, 2303)]\n"
     ]
    }
   ],
   "source": [
    "matches = a.findMatches()\n",
    "print(matches)\n",
    "found_letters = []\n",
    "for l in matches:\n",
    "    for _ in range(0, len(matches[l])):\n",
    "        found_letters.append(l)\n",
    "print(found_letters)\n",
    "\n",
    "matching_words = []\n",
    "for word in tqdm(words):\n",
    "    if len(word) < min_len or len(word) > max_len:\n",
    "        continue\n",
    "    if wordWorks(word, found_letters):\n",
    "        matching_words.append(word)\n",
    "matching_words = list(sorted(matching_words, key=len, reverse=True))\n",
    "olen = 0\n",
    "for word in matching_words:\n",
    "    if len(word) != olen:\n",
    "        print()\n",
    "        olen = len(word)\n",
    "    print(word, end=\":\")\n",
    "    print(generateMoves(word, matches))"
   ]
  },
  {
   "cell_type": "code",
   "execution_count": null,
   "id": "2904f850-14f3-4910-b945-817e20aa696a",
   "metadata": {},
   "outputs": [],
   "source": [
    "raise Exception(\"Stop\")"
   ]
  },
  {
   "cell_type": "markdown",
   "id": "5b34958a-1c91-42fe-b76d-d7eab4ef0a5f",
   "metadata": {},
   "source": [
    "# Monkey Test"
   ]
  },
  {
   "cell_type": "code",
   "execution_count": null,
   "id": "aedc3230-b0c4-402a-a266-9e01e29b873a",
   "metadata": {},
   "outputs": [],
   "source": []
  },
  {
   "cell_type": "code",
   "execution_count": 2,
   "id": "8dbd8f18-0182-4035-a319-0cd6490693ab",
   "metadata": {
    "scrolled": true
   },
   "outputs": [
    {
     "ename": "NameError",
     "evalue": "name 'MonkeyRunner' is not defined",
     "output_type": "error",
     "traceback": [
      "\u001b[0;31m---------------------------------------------------------------------------\u001b[0m",
      "\u001b[0;31mNameError\u001b[0m                                 Traceback (most recent call last)",
      "Input \u001b[0;32mIn [2]\u001b[0m, in \u001b[0;36m<cell line: 1>\u001b[0;34m()\u001b[0m\n\u001b[0;32m----> 1\u001b[0m \u001b[38;5;28;01mwith\u001b[39;00m \u001b[43mMonkeyRunner\u001b[49m() \u001b[38;5;28;01mas\u001b[39;00m monkey:\n\u001b[1;32m      2\u001b[0m     \u001b[38;5;28;01mwhile\u001b[39;00m \u001b[38;5;28;01mTrue\u001b[39;00m:\n\u001b[1;32m      3\u001b[0m         matches \u001b[38;5;241m=\u001b[39m a\u001b[38;5;241m.\u001b[39mfindMatches()\n",
      "\u001b[0;31mNameError\u001b[0m: name 'MonkeyRunner' is not defined"
     ]
    }
   ],
   "source": [
    "with MonkeyRunner() as monkey:\n",
    "    while True:\n",
    "        matches = a.findMatches()\n",
    "        clicked = False\n",
    "\n",
    "        closeButtones = list(\n",
    "            filter(\n",
    "                None, [name if name.startswith(\"close_\") else None for name in matches]\n",
    "            )\n",
    "        )\n",
    "        if len(closeButtones) > 0:\n",
    "            m = matches[closeButtones[0]][0]\n",
    "            print(f\"clicking {m.matcher.name}\")\n",
    "            c = m.center\n",
    "            cmd = f\"touch down {c[0]} {c[1]}\"\n",
    "            monkey.raw(cmd)\n",
    "            for _ in range(0, 10):\n",
    "                for i in range(-2, 2):\n",
    "                    for y in range(-2, 2):\n",
    "                        cmd = f\"touch move {c[0]+i} {c[1]+y}\"\n",
    "                        monkey.raw(cmd)\n",
    "\n",
    "            cmd = f\"touch up {c[0]} {c[1]}\"\n",
    "            monkey.raw(cmd)\n",
    "            continue\n",
    "        if \"claim_backpack\" in matches:\n",
    "            m = matches[\"claim_backpack\"][0]\n",
    "            print(f\"clicking {m.matcher.name}\")\n",
    "            c = m.center\n",
    "            adb(f\"shell input tap {c[0]} {c[1]}\")\n",
    "            continue\n",
    "        found_letters = []\n",
    "        for l in matches:\n",
    "            for _ in range(0, len(matches[l])):\n",
    "                found_letters.append(l)\n",
    "        print(found_letters)\n",
    "        if len(found_letters) == 0:\n",
    "            sleep(3)\n",
    "            continue\n",
    "        matching_words = FindWords(found_letters, spellcheck=True)\n",
    "\n",
    "        plen = 0\n",
    "\n",
    "        print(matching_words)\n",
    "        for word in matching_words:\n",
    "            a.readNextImage()\n",
    "            if (\n",
    "                get_color_distance_fast(\n",
    "                    [74, 57, 58], gsColor(a.layers[\"image\"], 682, 64)\n",
    "                )\n",
    "                < 40\n",
    "            ):\n",
    "                print(word)\n",
    "                x = y = 0\n",
    "                path = generateMoves(word, matches)\n",
    "                print(path)\n",
    "                isDown = False\n",
    "                for x, y in path:\n",
    "                    if not isDown:\n",
    "                        cmd = f\"touch down {int(x)} {int(y)}\"\n",
    "                        monkey.raw(cmd)\n",
    "                        isDown = True\n",
    "                        time.sleep(0.5)\n",
    "                        continue\n",
    "                    cmd = f\"touch move {int(x)} {int(y)}\"\n",
    "                    monkey.raw(cmd)\n",
    "                    time.sleep(0.4)\n",
    "                cmd = f\"touch up {int(x)} {int(y)}\"\n",
    "                monkey.raw(cmd)\n",
    "                sleep(0.6)\n",
    "            else:\n",
    "                print(\"finished i think\")\n",
    "                break\n",
    "        sleep(3)"
   ]
  },
  {
   "cell_type": "markdown",
   "id": "bdb9411c-dc89-413b-a628-571f2d0fe32a",
   "metadata": {},
   "source": [
    "# Research\n"
   ]
  },
  {
   "cell_type": "code",
   "execution_count": null,
   "id": "8c10902e-a5ac-47a6-8795-f7f0f5e1613b",
   "metadata": {},
   "outputs": [],
   "source": [
    "raise Exception(\"Stop\")"
   ]
  },
  {
   "cell_type": "code",
   "execution_count": null,
   "id": "b077b75f-6f9b-47b6-994d-68d749da25f7",
   "metadata": {},
   "outputs": [],
   "source": [
    "channels = cv2.split(a.matchers[\"white_x\"].data)\n",
    "zero_channel = np.zeros_like(channels[0])"
   ]
  },
  {
   "cell_type": "code",
   "execution_count": null,
   "id": "62b0c820-d0cf-4743-9d63-94e7c27af59d",
   "metadata": {},
   "outputs": [],
   "source": [
    "mask = np.array(channels[3])"
   ]
  },
  {
   "cell_type": "code",
   "execution_count": null,
   "id": "f9392cec-a3f6-45dd-9f7f-e10500b50b92",
   "metadata": {},
   "outputs": [],
   "source": [
    "matches = a.findMatches()\n",
    "matches"
   ]
  },
  {
   "cell_type": "code",
   "execution_count": null,
   "id": "480b20cc-497d-48e2-a30a-a70ad6f7c35f",
   "metadata": {},
   "outputs": [],
   "source": [
    "a.matchers"
   ]
  },
  {
   "cell_type": "code",
   "execution_count": null,
   "id": "f7c974c5-2f40-49a5-88d0-27e179a49a79",
   "metadata": {},
   "outputs": [],
   "source": [
    "get_color_distance_fast(correct, gsColor(a.layers[\"image\"], 1190, 1588))"
   ]
  },
  {
   "cell_type": "code",
   "execution_count": null,
   "id": "fe1c51d5-477a-42a0-a919-c0e81922177e",
   "metadata": {},
   "outputs": [],
   "source": [
    "a.matchers[\"white_x\"].show()"
   ]
  },
  {
   "cell_type": "code",
   "execution_count": null,
   "id": "65172295-9edb-4ff6-adfe-2609e3b8dc58",
   "metadata": {},
   "outputs": [],
   "source": [
    "a.layers[\"gray\"].show()"
   ]
  },
  {
   "cell_type": "code",
   "execution_count": null,
   "id": "5bfbea91-901f-4912-b22c-ace37d784fbd",
   "metadata": {},
   "outputs": [],
   "source": [
    "matches[\"I\"][1].show(a)"
   ]
  },
  {
   "cell_type": "code",
   "execution_count": null,
   "id": "4e523967-9d4c-459e-bc68-c57c459a59f7",
   "metadata": {},
   "outputs": [],
   "source": [
    "matches[\"N\"][0].center"
   ]
  },
  {
   "cell_type": "code",
   "execution_count": null,
   "id": "60e5efed-f5a8-4e46-a71f-ccc5df1b2cca",
   "metadata": {},
   "outputs": [],
   "source": []
  },
  {
   "cell_type": "markdown",
   "id": "9d5a8fe7-5a0b-49d5-b1f8-f52a88588c9b",
   "metadata": {},
   "source": [
    "shell input touchscreen swipe x1,y1, x2,y2\n",
    "\n",
    "https://github.com/mattwilson1024/android-pattern-unlock/blob/master/unlock.sh"
   ]
  },
  {
   "cell_type": "code",
   "execution_count": null,
   "id": "afdfcc51-fdff-4970-8bb6-f96c75c8ffa7",
   "metadata": {},
   "outputs": [],
   "source": [
    "generateMoves(\"FLEET\", matches)"
   ]
  },
  {
   "cell_type": "code",
   "execution_count": null,
   "id": "750dbf0a-d216-4757-a544-3f504e621937",
   "metadata": {},
   "outputs": [],
   "source": [
    "a.layers[\"image\"].data[58][58]"
   ]
  },
  {
   "cell_type": "code",
   "execution_count": null,
   "id": "c8f942ca-82e1-487f-b2e7-61704965c7ad",
   "metadata": {},
   "outputs": [],
   "source": [
    "gsColor(a.layers[\"image\"], 682, 64, [74, 57, 58])"
   ]
  },
  {
   "cell_type": "code",
   "execution_count": null,
   "id": "b43f85fa-dd32-4e2d-9518-9de99e219bad",
   "metadata": {},
   "outputs": [],
   "source": [
    "gsColor(a.layers[\"image\"], 1190, 1588)"
   ]
  },
  {
   "cell_type": "code",
   "execution_count": null,
   "id": "a2c92615-3369-4e6e-a044-4bf373f2d17d",
   "metadata": {},
   "outputs": [],
   "source": []
  }
 ],
 "metadata": {
  "autoscrollcelloutput": true,
  "kernelspec": {
   "display_name": "Python 3 (ipykernel)",
   "language": "python",
   "name": "python3"
  },
  "language_info": {
   "codemirror_mode": {
    "name": "ipython",
    "version": 3
   },
   "file_extension": ".py",
   "mimetype": "text/x-python",
   "name": "python",
   "nbconvert_exporter": "python",
   "pygments_lexer": "ipython3",
   "version": "3.10.4"
  },
  "scenes_data": {
   "active_scene": "Default Scene",
   "init_scene": "",
   "scenes": [
    "Default Scene"
   ]
  },
  "widgets": {
   "application/vnd.jupyter.widget-state+json": {
    "state": {
     "0334d1503fa548ce873804d7a9c1c249": {
      "model_module": "@jupyter-widgets/base",
      "model_module_version": "1.2.0",
      "model_name": "LayoutModel",
      "state": {}
     },
     "0a47a92d62934608909fee3d1873ffad": {
      "model_module": "@jupyter-widgets/controls",
      "model_module_version": "1.5.0",
      "model_name": "HTMLModel",
      "state": {
       "layout": "IPY_MODEL_6730f643e63a46f1b70bcb80ae38c0a9",
       "style": "IPY_MODEL_342610983ddf44f4842bd838cc1e31e3",
       "value": " 370105/370105 [00:00&lt;00:00, 859416.58it/s]"
      }
     },
     "342610983ddf44f4842bd838cc1e31e3": {
      "model_module": "@jupyter-widgets/controls",
      "model_module_version": "1.5.0",
      "model_name": "DescriptionStyleModel",
      "state": {
       "description_width": ""
      }
     },
     "6730f643e63a46f1b70bcb80ae38c0a9": {
      "model_module": "@jupyter-widgets/base",
      "model_module_version": "1.2.0",
      "model_name": "LayoutModel",
      "state": {}
     },
     "96b2a4188bb04d1a830136fc83f377cd": {
      "model_module": "@jupyter-widgets/base",
      "model_module_version": "1.2.0",
      "model_name": "LayoutModel",
      "state": {}
     },
     "9d89441a388c4e57a751003d88390792": {
      "model_module": "@jupyter-widgets/base",
      "model_module_version": "1.2.0",
      "model_name": "LayoutModel",
      "state": {}
     },
     "a620ac012ee6457db0ce03383accfe18": {
      "model_module": "@jupyter-widgets/controls",
      "model_module_version": "1.5.0",
      "model_name": "FloatProgressModel",
      "state": {
       "bar_style": "success",
       "layout": "IPY_MODEL_0334d1503fa548ce873804d7a9c1c249",
       "max": 370105,
       "style": "IPY_MODEL_db46d69d3f28461ea6818822fae33ec5",
       "value": 370105
      }
     },
     "c06fc7aca19e4147b2cce36c635e4b95": {
      "model_module": "@jupyter-widgets/controls",
      "model_module_version": "1.5.0",
      "model_name": "HTMLModel",
      "state": {
       "layout": "IPY_MODEL_96b2a4188bb04d1a830136fc83f377cd",
       "style": "IPY_MODEL_f6204a1614e74bcb8fa77f7d7520fda0",
       "value": "100%"
      }
     },
     "db46d69d3f28461ea6818822fae33ec5": {
      "model_module": "@jupyter-widgets/controls",
      "model_module_version": "1.5.0",
      "model_name": "ProgressStyleModel",
      "state": {
       "description_width": ""
      }
     },
     "e3118d6330b14b5fba2dafb1a6fa5664": {
      "model_module": "@jupyter-widgets/controls",
      "model_module_version": "1.5.0",
      "model_name": "HBoxModel",
      "state": {
       "children": [
        "IPY_MODEL_c06fc7aca19e4147b2cce36c635e4b95",
        "IPY_MODEL_a620ac012ee6457db0ce03383accfe18",
        "IPY_MODEL_0a47a92d62934608909fee3d1873ffad"
       ],
       "layout": "IPY_MODEL_9d89441a388c4e57a751003d88390792"
      }
     },
     "f6204a1614e74bcb8fa77f7d7520fda0": {
      "model_module": "@jupyter-widgets/controls",
      "model_module_version": "1.5.0",
      "model_name": "DescriptionStyleModel",
      "state": {
       "description_width": ""
      }
     }
    },
    "version_major": 2,
    "version_minor": 0
   }
  }
 },
 "nbformat": 4,
 "nbformat_minor": 5
}
