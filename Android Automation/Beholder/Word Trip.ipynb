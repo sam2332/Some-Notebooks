{
 "cells": [
  {
   "cell_type": "code",
   "execution_count": 1,
   "id": "31a5b066-0821-480f-be9f-31f318847e5a",
   "metadata": {},
   "outputs": [],
   "source": [
    "import string\n",
    "from copy import deepcopy as copy\n",
    "\n",
    "from IPython.display import Image, clear_output, display\n",
    "from Libs.Beholder import *\n",
    "from PIL import Image as pilImage\n",
    "from tqdm.notebook import tqdm"
   ]
  },
  {
   "cell_type": "code",
   "execution_count": 2,
   "id": "84cd9576-8ceb-446d-9cba-1f16a80551e8",
   "metadata": {},
   "outputs": [],
   "source": [
    "a = Beholder(videoFrameGenerator=pullPhoneScreen)\n",
    "\n",
    "a.addLayerModifer(\n",
    "    Beholder_Layer_Chopper_Grayscale(name=\"gray\", from_layer=\"image\", enabled=True)\n",
    ")\n",
    "\n",
    "a.addLayerModifer(\n",
    "    Beholder_Layer_Chopper_AtCord(\n",
    "        name=\"gray_letters\",\n",
    "        from_layer=\"gray\",\n",
    "        x=304,\n",
    "        y=1632,\n",
    "        w=850,\n",
    "        h=860,\n",
    "        enabled=True,\n",
    "    )\n",
    ")"
   ]
  },
  {
   "cell_type": "code",
   "execution_count": 3,
   "id": "eb32d1c8-4b26-476e-be79-9fc5059fa31d",
   "metadata": {},
   "outputs": [
    {
     "data": {
      "text/plain": [
       "370105"
      ]
     },
     "execution_count": 3,
     "metadata": {},
     "output_type": "execute_result"
    }
   ],
   "source": [
    "from pathlib import Path\n",
    "\n",
    "import requests\n",
    "\n",
    "w = Path(\"words.lst\")\n",
    "if not w.exists():\n",
    "    w.write_bytes(\n",
    "        requests.get(\n",
    "            \"https://raw.githubusercontent.com/MariaLuo826/english_words/master/words_alpha.txt\"\n",
    "        ).content\n",
    "    )\n",
    "words = [l.upper() for l in w.read_text().splitlines()]\n",
    "len(words)"
   ]
  },
  {
   "cell_type": "code",
   "execution_count": 4,
   "id": "9b3f6239-93c5-4960-8881-7c174e323621",
   "metadata": {},
   "outputs": [
    {
     "data": {
      "text/plain": [
       "1000"
      ]
     },
     "execution_count": 4,
     "metadata": {},
     "output_type": "execute_result"
    }
   ],
   "source": [
    "# Top words\n",
    "w = Path(\"1ktopwords.lst\")\n",
    "if not w.exists():\n",
    "    w.write_bytes(\n",
    "        requests.get(\n",
    "            \"https://gist.githubusercontent.com/deekayen/4148741/raw/98d35708fa344717d8eee15d11987de6c8e26d7d/1-1000.txt\"\n",
    "        ).content\n",
    "    )\n",
    "topwords = [l.upper() for l in w.read_text().splitlines()]\n",
    "len(topwords)"
   ]
  },
  {
   "cell_type": "code",
   "execution_count": 5,
   "id": "ac238736-d1c1-4514-9f78-670992badf1e",
   "metadata": {},
   "outputs": [
    {
     "data": {
      "text/plain": [
       "70926"
      ]
     },
     "execution_count": 5,
     "metadata": {},
     "output_type": "execute_result"
    }
   ],
   "source": [
    "# wiki words\n",
    "w = Path(\"wikiwords.lst\")\n",
    "if not w.exists():\n",
    "    w.write_bytes(\n",
    "        requests.get(\n",
    "            \"https://gist.githubusercontent.com/h3xx/1976236/raw/bbabb412261386673eff521dddbe1dc815373b1d/wiki-100k.txt\"\n",
    "        ).content\n",
    "    )\n",
    "wikiwords = list(sorted(list(set([l.upper() for l in w.read_text().splitlines()]))))\n",
    "len(wikiwords)"
   ]
  },
  {
   "cell_type": "code",
   "execution_count": 6,
   "id": "3859927a-cf41-4ccd-aeb1-c38ba710a537",
   "metadata": {},
   "outputs": [
    {
     "data": {
      "text/plain": [
       "1000"
      ]
     },
     "execution_count": 6,
     "metadata": {},
     "output_type": "execute_result"
    }
   ],
   "source": [
    "# h3x words\n",
    "w = Path(\"1ktopwords.lst\")\n",
    "if not w.exists():\n",
    "    w.write_bytes(requests.get(\"\").content)\n",
    "topwords = [l.upper() for l in w.read_text().splitlines()]\n",
    "len(topwords)"
   ]
  },
  {
   "cell_type": "code",
   "execution_count": null,
   "id": "77645dba-89bc-4e1b-9930-5c67e8ee1df5",
   "metadata": {},
   "outputs": [],
   "source": []
  },
  {
   "cell_type": "code",
   "execution_count": 7,
   "id": "2f501741-d0d0-467c-b332-d3bea3b13c3d",
   "metadata": {},
   "outputs": [],
   "source": [
    "import shutil\n",
    "\n",
    "for l in string.ascii_uppercase:\n",
    "    p1 = Path(f\"./wordtrip_templates/{l}/\")\n",
    "    p = Path(f\"./wordtrip_templates/{l}.png\")\n",
    "    if p.exists():\n",
    "        shutil.move(p, p1)"
   ]
  },
  {
   "cell_type": "code",
   "execution_count": 8,
   "id": "7fd54e70-3742-49d9-8fe3-87b775753e8e",
   "metadata": {},
   "outputs": [
    {
     "name": "stdout",
     "output_type": "stream",
     "text": [
      "Loading A\n",
      "Loading B\n",
      "Loading C\n",
      "Loading D\n",
      "Loading E\n",
      "Loading F\n",
      "Loading G\n",
      "Loading H\n",
      "Loading I\n",
      "Loading J\n",
      "Loading K\n",
      "Loading L\n",
      "Loading M\n",
      "Loading N\n",
      "Loading O\n",
      "Loading P\n",
      "Loading Q\n",
      "Loading R\n",
      "Loading S\n",
      "Loading T\n",
      "Loading U\n",
      "Loading V\n",
      "Loading W\n",
      "Loading X\n",
      "Loading Y\n",
      "Loading Z\n"
     ]
    },
    {
     "data": {
      "text/plain": [
       "'\\nfor l in [\"white_x\"]:\\n    print(f\"Loading masked {l}\")\\n    p = Path(f\"./wordtrip_templates/{l}.png\")\\n    a.addMatcher(\\n        Beholder_Image_Matcher(\\n            name=l,\\n            layer=\"gray\",\\n            filename=str(p),\\n            mask_filename=f\"./wordtrip_templates/{l}_mask.png\",\\n            threshhold=0.9,\\n        )\\n    )'"
      ]
     },
     "execution_count": 8,
     "metadata": {},
     "output_type": "execute_result"
    }
   ],
   "source": [
    "a.matchers = {}\n",
    "for l in string.ascii_uppercase:\n",
    "    p = Path(f\"./wordtrip_templates/{l}\")\n",
    "    if p.exists():\n",
    "        print(f\"Loading {l}\")\n",
    "        a.addMatcher(\n",
    "            Beholder_Image_Matcher(\n",
    "                name=l,\n",
    "                layer=\"gray_letters\",\n",
    "                batch_folder=str(p),\n",
    "                threshhold=0.9,\n",
    "            )\n",
    "        )\n",
    "\n",
    "for l in [\"claim_backpack\"]:\n",
    "    p = Path(f\"./wordtrip_templates/{l}.png\")\n",
    "    if p.exists():\n",
    "        print(f\"Loading {l}\")\n",
    "        a.addMatcher(\n",
    "            Beholder_Image_Matcher(\n",
    "                name=l,\n",
    "                layer=\"gray\",\n",
    "                filename=str(p),\n",
    "                threshhold=0.9,\n",
    "            )\n",
    "        )\n",
    "for p in Path(\"./wordtrip_templates\").glob(\"close_*.png\"):\n",
    "    print(p)\n",
    "    a.addMatcher(\n",
    "        Beholder_Image_Matcher(\n",
    "            name=p.stem,\n",
    "            layer=\"gray\",\n",
    "            filename=str(p),\n",
    "            threshhold=0.7,\n",
    "        )\n",
    "    )\n",
    "\"\"\"\n",
    "for l in [\"white_x\"]:\n",
    "    print(f\"Loading masked {l}\")\n",
    "    p = Path(f\"./wordtrip_templates/{l}.png\")\n",
    "    a.addMatcher(\n",
    "        Beholder_Image_Matcher(\n",
    "            name=l,\n",
    "            layer=\"gray\",\n",
    "            filename=str(p),\n",
    "            mask_filename=f\"./wordtrip_templates/{l}_mask.png\",\n",
    "            threshhold=0.9,\n",
    "        )\n",
    "    )\"\"\""
   ]
  },
  {
   "cell_type": "code",
   "execution_count": 9,
   "id": "e169feeb-218e-44ed-a8df-a0802b45e61d",
   "metadata": {},
   "outputs": [],
   "source": [
    "def wordWorks(word, found_letters):\n",
    "    found_letters_t = copy(found_letters)\n",
    "    for letter in word:\n",
    "        if letter in found_letters_t:\n",
    "            found_letters_t.remove(letter)\n",
    "        else:\n",
    "            return False\n",
    "    return True"
   ]
  },
  {
   "cell_type": "code",
   "execution_count": 10,
   "id": "d73c645d-130f-4cf9-a8ad-5f589ed8d38b",
   "metadata": {},
   "outputs": [],
   "source": [
    "def generateMoves(myword, matches):\n",
    "    mymatches = copy(matches)\n",
    "    moves = []\n",
    "    for letter in myword:\n",
    "        if letter in mymatches:\n",
    "            if len(mymatches[letter]) > 0:\n",
    "                m = mymatches[letter].pop(0)\n",
    "                moves.append(m.center)\n",
    "\n",
    "    return moves"
   ]
  },
  {
   "cell_type": "code",
   "execution_count": 11,
   "id": "8535dd8f-dcdd-440e-8304-715c41400a6b",
   "metadata": {},
   "outputs": [],
   "source": [
    "from pathlib import Path\n",
    "\n",
    "import hunspell\n",
    "\n",
    "hobj = hunspell.HunSpell(\n",
    "    Path(\"~/en_US.dic\").expanduser(), Path(\"~/en_US.aff\").expanduser()\n",
    ")\n",
    "\n",
    "\n",
    "def FindWords(found_letters, spellcheck=False):\n",
    "    matching_words = []\n",
    "    for word in tqdm(words):\n",
    "        if len(word) < min_len or len(word) > max_len:\n",
    "            continue\n",
    "        if wordWorks(word, found_letters):\n",
    "            matching_words.append(word)\n",
    "    if spellcheck:\n",
    "        matching_words = list(\n",
    "            filter(None, [i if hobj.spell(i) else None for i in matching_words])\n",
    "        )\n",
    "    matching_words = list(sorted(matching_words, key=len, reverse=True))\n",
    "    return matching_words"
   ]
  },
  {
   "cell_type": "code",
   "execution_count": 12,
   "id": "77376266-382c-484c-b98f-fb24153a229b",
   "metadata": {},
   "outputs": [],
   "source": [
    "min_len = 3\n",
    "max_len = 5\n",
    "eq_len = None"
   ]
  },
  {
   "cell_type": "code",
   "execution_count": 13,
   "id": "a8ce1c99-876d-49c7-8154-db188026e2de",
   "metadata": {},
   "outputs": [
    {
     "data": {
      "application/vnd.jupyter.widget-view+json": {
       "model_id": "5c407a9e092a47fa9e5d20c23ce66c9b",
       "version_major": 2,
       "version_minor": 0
      },
      "text/plain": [
       "  0%|          | 0/370105 [00:00<?, ?it/s]"
      ]
     },
     "metadata": {},
     "output_type": "display_data"
    },
    {
     "data": {
      "text/plain": [
       "['BRUSH',\n",
       " 'BUHRS',\n",
       " 'SHRUB',\n",
       " 'BUHR',\n",
       " 'BURH',\n",
       " 'BURS',\n",
       " 'BUSH',\n",
       " 'HUBS',\n",
       " 'RHUS',\n",
       " 'RUBS',\n",
       " 'RUSH',\n",
       " 'URBS',\n",
       " 'BSH',\n",
       " 'BUR',\n",
       " 'BUS',\n",
       " 'HRS',\n",
       " 'HUB',\n",
       " 'RHB',\n",
       " 'RUB',\n",
       " 'RUS',\n",
       " 'SHR',\n",
       " 'SHU',\n",
       " 'SUB',\n",
       " 'SUR',\n",
       " 'UHS',\n",
       " 'URB',\n",
       " 'URS',\n",
       " 'USH']"
      ]
     },
     "execution_count": 13,
     "metadata": {},
     "output_type": "execute_result"
    }
   ],
   "source": [
    "FindWords([\"H\", \"B\", \"U\", \"R\", \"S\"], spellcheck=False)"
   ]
  },
  {
   "cell_type": "code",
   "execution_count": 14,
   "id": "bbd027f4-22fd-46ce-9cb6-8c1d907bae09",
   "metadata": {},
   "outputs": [
    {
     "data": {
      "application/vnd.jupyter.widget-view+json": {
       "model_id": "fd83a66c88bc419d989965f8abaa4585",
       "version_major": 2,
       "version_minor": 0
      },
      "text/plain": [
       "  0%|          | 0/370105 [00:00<?, ?it/s]"
      ]
     },
     "metadata": {},
     "output_type": "display_data"
    },
    {
     "data": {
      "text/plain": [
       "['BRUSH',\n",
       " 'SHRUB',\n",
       " 'BURS',\n",
       " 'BUSH',\n",
       " 'HUBS',\n",
       " 'RUBS',\n",
       " 'RUSH',\n",
       " 'BUR',\n",
       " 'BUS',\n",
       " 'HRS',\n",
       " 'HUB',\n",
       " 'RUB',\n",
       " 'SUB']"
      ]
     },
     "execution_count": 14,
     "metadata": {},
     "output_type": "execute_result"
    }
   ],
   "source": [
    "FindWords([\"H\", \"B\", \"U\", \"R\", \"S\"], spellcheck=True)"
   ]
  },
  {
   "cell_type": "code",
   "execution_count": 15,
   "id": "ae6099a8-32df-4a76-8c3b-4850fedf676a",
   "metadata": {},
   "outputs": [],
   "source": [
    "def gsColor(layer, x, y, correct=None):\n",
    "    color_data = layer.data[y][x]\n",
    "    if correct is None:\n",
    "        return color_data\n",
    "    for index, element in enumerate(color_data):\n",
    "        if abs(color_data[index] - correct[index]) > 10:\n",
    "            print(\"faile on \", abs(color_data[index] - correct[index]))\n",
    "            return False\n",
    "    return True"
   ]
  },
  {
   "cell_type": "code",
   "execution_count": 16,
   "id": "a5d0f31a-4fd8-439d-be1d-a9da17a25204",
   "metadata": {},
   "outputs": [],
   "source": [
    "def get_color_distance_fast(color_1, color_2):\n",
    "    dist = abs(color_1[0] - color_2[0])\n",
    "    dist += abs(color_1[1] - color_2[1])\n",
    "    dist += abs(color_1[2] - color_2[2])\n",
    "    return dist"
   ]
  },
  {
   "cell_type": "raw",
   "id": "d28bebe1-a399-4e03-8286-79559a3977cf",
   "metadata": {},
   "source": [
    "correct = [99, 69, 8]\n",
    "\n",
    "print(gsColor(a.layers[\"image\"], 58, 58))"
   ]
  },
  {
   "cell_type": "raw",
   "id": "540bab8c-eb20-4cbf-8def-4216e39c12c1",
   "metadata": {},
   "source": [
    "get_color_distance_fast(correct, gsColor(a.layers[\"image\"], 58, 58))"
   ]
  },
  {
   "cell_type": "raw",
   "id": "fe0abaf5-9efb-4f73-b251-41cb9e6741db",
   "metadata": {},
   "source": [
    "get_color_distance_fast(correct, gsColor(a.layers[\"image\"], 1190, 1588))"
   ]
  },
  {
   "cell_type": "raw",
   "id": "ff62b683-81df-49fc-9b0a-067457274d4a",
   "metadata": {},
   "source": [
    "get_color_distance_fast(correct, gsColor(a.layers[\"image\"], 700, 1588))"
   ]
  },
  {
   "cell_type": "markdown",
   "id": "459eb3d9-6584-46cd-a4ba-df5f90f08ed7",
   "metadata": {},
   "source": [
    "# Manual matcher setup "
   ]
  },
  {
   "cell_type": "code",
   "execution_count": 20,
   "id": "4562d659-25a9-4f98-8558-b855737198f1",
   "metadata": {},
   "outputs": [
    {
     "name": "stdout",
     "output_type": "stream",
     "text": [
      "AddMatch A (369, 2142)\n",
      "AddMatch G (667, 1660)\n",
      "AddMatch I (634, 2266)\n",
      "AddMatch I (632, 2283)\n",
      "AddMatch R (939, 2133)\n",
      "AddMatch T (939, 1811)\n",
      "AddMatch U (386, 1813)\n",
      "{'A': [<Libs.Beholder.BeholderMatch object at 0x7fa4c5663fa0>], 'G': [<Libs.Beholder.BeholderMatch object at 0x7fa4c5663040>], 'I': [<Libs.Beholder.BeholderMatch object at 0x7fa4c5662e00>, <Libs.Beholder.BeholderMatch object at 0x7fa4c5663c70>], 'R': [<Libs.Beholder.BeholderMatch object at 0x7fa4c56633a0>], 'T': [<Libs.Beholder.BeholderMatch object at 0x7fa4c5663430>], 'U': [<Libs.Beholder.BeholderMatch object at 0x7fa4c56634c0>]}\n",
      "['A', 'G', 'I', 'I', 'R', 'T', 'U']\n"
     ]
    },
    {
     "data": {
      "application/vnd.jupyter.widget-view+json": {
       "model_id": "687e6384ebd9437ca4c2ba715fb5bbf3",
       "version_major": 2,
       "version_minor": 0
      },
      "text/plain": [
       "  0%|          | 0/370105 [00:00<?, ?it/s]"
      ]
     },
     "metadata": {},
     "output_type": "display_data"
    },
    {
     "name": "stdout",
     "output_type": "stream",
     "text": [
      "\n",
      "TAURI:[(939, 1811), (369, 2142), (386, 1813), (939, 2133), (634, 2266)]\n",
      "TIGUA:[(939, 1811), (634, 2266), (667, 1660), (386, 1813), (369, 2142)]\n",
      "TRAGI:[(939, 1811), (939, 2133), (369, 2142), (667, 1660), (634, 2266)]\n",
      "TRIGA:[(939, 1811), (939, 2133), (634, 2266), (667, 1660), (369, 2142)]\n",
      "\n",
      "AGIT:[(369, 2142), (667, 1660), (634, 2266), (939, 1811)]\n",
      "AIRT:[(369, 2142), (634, 2266), (939, 2133), (939, 1811)]\n",
      "ARUI:[(369, 2142), (939, 2133), (386, 1813), (634, 2266)]\n",
      "GAIR:[(667, 1660), (369, 2142), (634, 2266), (939, 2133)]\n",
      "GAIT:[(667, 1660), (369, 2142), (634, 2266), (939, 1811)]\n",
      "GAUR:[(667, 1660), (369, 2142), (386, 1813), (939, 2133)]\n",
      "GAUT:[(667, 1660), (369, 2142), (386, 1813), (939, 1811)]\n",
      "GIRT:[(667, 1660), (634, 2266), (939, 2133), (939, 1811)]\n",
      "GRAT:[(667, 1660), (939, 2133), (369, 2142), (939, 1811)]\n",
      "GRIT:[(667, 1660), (939, 2133), (634, 2266), (939, 1811)]\n",
      "GUAR:[(667, 1660), (386, 1813), (369, 2142), (939, 2133)]\n",
      "GURT:[(667, 1660), (386, 1813), (939, 2133), (939, 1811)]\n",
      "GUTI:[(667, 1660), (386, 1813), (939, 1811), (634, 2266)]\n",
      "ITAI:[(634, 2266), (939, 1811), (369, 2142), (632, 2283)]\n",
      "RAGI:[(939, 2133), (369, 2142), (667, 1660), (634, 2266)]\n",
      "RIGA:[(939, 2133), (634, 2266), (667, 1660), (369, 2142)]\n",
      "RITA:[(939, 2133), (634, 2266), (939, 1811), (369, 2142)]\n",
      "RUGA:[(939, 2133), (386, 1813), (667, 1660), (369, 2142)]\n",
      "RUTA:[(939, 2133), (386, 1813), (939, 1811), (369, 2142)]\n",
      "TAIG:[(939, 1811), (369, 2142), (634, 2266), (667, 1660)]\n",
      "TARI:[(939, 1811), (369, 2142), (939, 2133), (634, 2266)]\n",
      "TAUR:[(939, 1811), (369, 2142), (386, 1813), (939, 2133)]\n",
      "TIAR:[(939, 1811), (634, 2266), (369, 2142), (939, 2133)]\n",
      "TRAG:[(939, 1811), (939, 2133), (369, 2142), (667, 1660)]\n",
      "TRIG:[(939, 1811), (939, 2133), (634, 2266), (667, 1660)]\n",
      "TRUG:[(939, 1811), (939, 2133), (386, 1813), (667, 1660)]\n",
      "TURI:[(939, 1811), (386, 1813), (939, 2133), (634, 2266)]\n",
      "URIA:[(386, 1813), (939, 2133), (634, 2266), (369, 2142)]\n",
      "UTAI:[(386, 1813), (939, 1811), (369, 2142), (634, 2266)]\n",
      "\n",
      "AGR:[(369, 2142), (667, 1660), (939, 2133)]\n",
      "AGT:[(369, 2142), (667, 1660), (939, 1811)]\n",
      "AIR:[(369, 2142), (634, 2266), (939, 2133)]\n",
      "AIT:[(369, 2142), (634, 2266), (939, 1811)]\n",
      "ARG:[(369, 2142), (939, 2133), (667, 1660)]\n",
      "ART:[(369, 2142), (939, 2133), (939, 1811)]\n",
      "ARU:[(369, 2142), (939, 2133), (386, 1813)]\n",
      "ATI:[(369, 2142), (939, 1811), (634, 2266)]\n",
      "AUG:[(369, 2142), (386, 1813), (667, 1660)]\n",
      "GAR:[(667, 1660), (369, 2142), (939, 2133)]\n",
      "GAT:[(667, 1660), (369, 2142), (939, 1811)]\n",
      "GAU:[(667, 1660), (369, 2142), (386, 1813)]\n",
      "GIT:[(667, 1660), (634, 2266), (939, 1811)]\n",
      "GRA:[(667, 1660), (939, 2133), (369, 2142)]\n",
      "GUR:[(667, 1660), (386, 1813), (939, 2133)]\n",
      "GUT:[(667, 1660), (386, 1813), (939, 1811)]\n",
      "IRA:[(634, 2266), (939, 2133), (369, 2142)]\n",
      "ITA:[(634, 2266), (939, 1811), (369, 2142)]\n",
      "RAG:[(939, 2133), (369, 2142), (667, 1660)]\n",
      "RAT:[(939, 2133), (369, 2142), (939, 1811)]\n",
      "RIA:[(939, 2133), (634, 2266), (369, 2142)]\n",
      "RIG:[(939, 2133), (634, 2266), (667, 1660)]\n",
      "RIT:[(939, 2133), (634, 2266), (939, 1811)]\n",
      "RTI:[(939, 2133), (939, 1811), (634, 2266)]\n",
      "RUA:[(939, 2133), (386, 1813), (369, 2142)]\n",
      "RUG:[(939, 2133), (386, 1813), (667, 1660)]\n",
      "RUT:[(939, 2133), (386, 1813), (939, 1811)]\n",
      "TAG:[(939, 1811), (369, 2142), (667, 1660)]\n",
      "TAI:[(939, 1811), (369, 2142), (634, 2266)]\n",
      "TAR:[(939, 1811), (369, 2142), (939, 2133)]\n",
      "TAU:[(939, 1811), (369, 2142), (386, 1813)]\n",
      "TIG:[(939, 1811), (634, 2266), (667, 1660)]\n",
      "TIU:[(939, 1811), (634, 2266), (386, 1813)]\n",
      "TRA:[(939, 1811), (939, 2133), (369, 2142)]\n",
      "TRI:[(939, 1811), (939, 2133), (634, 2266)]\n",
      "TUA:[(939, 1811), (386, 1813), (369, 2142)]\n",
      "TUG:[(939, 1811), (386, 1813), (667, 1660)]\n",
      "TUI:[(939, 1811), (386, 1813), (634, 2266)]\n",
      "TUR:[(939, 1811), (386, 1813), (939, 2133)]\n",
      "UGT:[(386, 1813), (667, 1660), (939, 1811)]\n",
      "UIT:[(386, 1813), (634, 2266), (939, 1811)]\n",
      "URA:[(386, 1813), (939, 2133), (369, 2142)]\n",
      "URI:[(386, 1813), (939, 2133), (634, 2266)]\n",
      "UTA:[(386, 1813), (939, 1811), (369, 2142)]\n",
      "UTI:[(386, 1813), (939, 1811), (634, 2266)]\n"
     ]
    }
   ],
   "source": [
    "matches = a.findMatches()\n",
    "print(matches)\n",
    "found_letters = []\n",
    "for l in matches:\n",
    "    for _ in range(0, len(matches[l])):\n",
    "        found_letters.append(l)\n",
    "print(found_letters)\n",
    "\n",
    "matching_words = []\n",
    "for word in tqdm(words):\n",
    "    if len(word) < min_len or len(word) > max_len:\n",
    "        continue\n",
    "    if wordWorks(word, found_letters):\n",
    "        matching_words.append(word)\n",
    "matching_words = list(sorted(matching_words, key=len, reverse=True))\n",
    "olen = 0\n",
    "for word in matching_words:\n",
    "    if len(word) != olen:\n",
    "        print()\n",
    "        olen = len(word)\n",
    "    print(word, end=\":\")\n",
    "    print(generateMoves(word, matches))"
   ]
  },
  {
   "cell_type": "code",
   "execution_count": 18,
   "id": "2904f850-14f3-4910-b945-817e20aa696a",
   "metadata": {},
   "outputs": [
    {
     "ename": "Exception",
     "evalue": "Stop",
     "output_type": "error",
     "traceback": [
      "\u001b[0;31m---------------------------------------------------------------------------\u001b[0m",
      "\u001b[0;31mException\u001b[0m                                 Traceback (most recent call last)",
      "Input \u001b[0;32mIn [18]\u001b[0m, in \u001b[0;36m<cell line: 1>\u001b[0;34m()\u001b[0m\n\u001b[0;32m----> 1\u001b[0m \u001b[38;5;28;01mraise\u001b[39;00m \u001b[38;5;167;01mException\u001b[39;00m(\u001b[38;5;124m\"\u001b[39m\u001b[38;5;124mStop\u001b[39m\u001b[38;5;124m\"\u001b[39m)\n",
      "\u001b[0;31mException\u001b[0m: Stop"
     ]
    }
   ],
   "source": [
    "raise Exception(\"Stop\")"
   ]
  },
  {
   "cell_type": "markdown",
   "id": "5b34958a-1c91-42fe-b76d-d7eab4ef0a5f",
   "metadata": {
    "tags": []
   },
   "source": [
    "# Monkey Test"
   ]
  },
  {
   "cell_type": "code",
   "execution_count": 21,
   "id": "aedc3230-b0c4-402a-a266-9e01e29b873a",
   "metadata": {},
   "outputs": [],
   "source": [
    "import socket\n",
    "import subprocess\n",
    "import sys\n",
    "\n",
    "\n",
    "class Monkey:\n",
    "    def __init__(self, create_monkey=True):\n",
    "        self.create_monkey = create_monkey\n",
    "        self.port = 9905\n",
    "        self.p = None\n",
    "        self.s = None\n",
    "\n",
    "    def __enter__(self):\n",
    "        if self.p is not None:\n",
    "            self.p.kill()\n",
    "        adb([\"forward\", \"--remove-all\"])\n",
    "        command = [\"adb\", \"shell\", \"monkey\", f\"--port {self.port}\"]\n",
    "        self.p = shell(command, close_fds=True, returns_POpen=True)\n",
    "        adb(f\"forward tcp:{self.port} tcp:{self.port}\")\n",
    "        time.sleep(0.75)\n",
    "        self.connect()\n",
    "        return self\n",
    "\n",
    "    def connect(self):\n",
    "        HOST = \"127.0.0.1\"\n",
    "        PORT = self.port\n",
    "\n",
    "        if self.s is not None:\n",
    "            self.s.close()\n",
    "        self.s = socket.socket(socket.AF_INET, socket.SOCK_STREAM)\n",
    "        self.s.connect((HOST, PORT))\n",
    "\n",
    "    def raw(self, s):\n",
    "        try:\n",
    "            self.s.sendall(f\"{s}\\r\\n\".encode(\"ascii\"))\n",
    "            # return self.s.recv(10)\n",
    "        except Exception as e:\n",
    "            print(\"raw\", e)\n",
    "            self.connect()\n",
    "            return self.raw(s)\n",
    "\n",
    "    def __exit__(self, exc_type, exc_value, exc_traceback):\n",
    "        if self.create_monkey:\n",
    "            self.p.kill()\n",
    "            self.p = None\n",
    "            if self.s is not None:\n",
    "                self.s.close()\n",
    "                self.s = None\n",
    "            print(\"Cleaning up\")\n",
    "            shell([\"adb\", \"forward\", \"--remove-all\"])"
   ]
  },
  {
   "cell_type": "code",
   "execution_count": null,
   "id": "8dbd8f18-0182-4035-a319-0cd6490693ab",
   "metadata": {
    "scrolled": true,
    "tags": []
   },
   "outputs": [
    {
     "name": "stdout",
     "output_type": "stream",
     "text": [
      "  bash arg: --port\n",
      "  bash arg: 9905\n"
     ]
    },
    {
     "name": "stderr",
     "output_type": "stream",
     "text": [
      "args: [--port, 9905]\n",
      " arg: \"--port\"\n",
      " arg: \"9905\"\n",
      "arg=\"--port\" mCurArgData=\"null\" mNextArg=1 argwas=\"--port\" nextarg=\"9905\"\n",
      "data=\"9905\"\n"
     ]
    },
    {
     "name": "stdout",
     "output_type": "stream",
     "text": [
      "AddMatch A (369, 2142)\n",
      "AddMatch G (667, 1660)\n",
      "AddMatch I (634, 2266)\n",
      "AddMatch I (632, 2283)\n",
      "AddMatch R (939, 2133)\n",
      "AddMatch T (939, 1811)\n",
      "AddMatch U (386, 1813)\n",
      "['A', 'G', 'I', 'I', 'R', 'T', 'U']\n"
     ]
    },
    {
     "data": {
      "application/vnd.jupyter.widget-view+json": {
       "model_id": "59e11001e33f4703b4a3e4fe74aadc64",
       "version_major": 2,
       "version_minor": 0
      },
      "text/plain": [
       "  0%|          | 0/370105 [00:00<?, ?it/s]"
      ]
     },
     "metadata": {},
     "output_type": "display_data"
    },
    {
     "name": "stdout",
     "output_type": "stream",
     "text": [
      "['GAIT', 'GIRT', 'GRIT', 'RIGA', 'RITA', 'TRIG', 'TRUG', 'AIR', 'ART', 'AUG', 'GAR', 'GIT', 'GUT', 'IRA', 'RAG', 'RAT', 'RIG', 'RUG', 'RUT', 'TAG', 'TAR', 'TAU', 'TUG']\n",
      "GAIT\n",
      "[(667, 1660), (369, 2142), (634, 2266), (939, 1811)]\n",
      "GIRT\n",
      "[(667, 1660), (634, 2266), (939, 2133), (939, 1811)]\n",
      "GRIT\n",
      "[(667, 1660), (939, 2133), (634, 2266), (939, 1811)]\n"
     ]
    }
   ],
   "source": [
    "with Monkey() as monkey:\n",
    "    while True:\n",
    "        matches = a.findMatches()\n",
    "        clicked = False\n",
    "\n",
    "        closeButtones = list(\n",
    "            filter(\n",
    "                None, [name if name.startswith(\"close_\") else None for name in matches]\n",
    "            )\n",
    "        )\n",
    "        if len(closeButtones) > 0:\n",
    "            m = matches[closeButtones[0]][0]\n",
    "            print(f\"clicking {m.matcher.name}\")\n",
    "            c = m.center\n",
    "            cmd = f\"touch down {c[0]} {c[1]}\"\n",
    "            monkey.raw(cmd)\n",
    "            for _ in range(0, 10):\n",
    "                for i in range(-2, 2):\n",
    "                    for y in range(-2, 2):\n",
    "                        cmd = f\"touch move {c[0]+i} {c[1]+y}\"\n",
    "                        monkey.raw(cmd)\n",
    "\n",
    "            cmd = f\"touch up {c[0]} {c[1]}\"\n",
    "            monkey.raw(cmd)\n",
    "            continue\n",
    "        if \"claim_backpack\" in matches:\n",
    "            m = matches[\"claim_backpack\"][0]\n",
    "            print(f\"clicking {m.matcher.name}\")\n",
    "            c = m.center\n",
    "            adb(f\"shell input tap {c[0]} {c[1]}\")\n",
    "            continue\n",
    "        found_letters = []\n",
    "        for l in matches:\n",
    "            for _ in range(0, len(matches[l])):\n",
    "                found_letters.append(l)\n",
    "        print(found_letters)\n",
    "        if len(found_letters) == 0:\n",
    "            sleep(3)\n",
    "            continue\n",
    "        matching_words = FindWords(found_letters, spellcheck=True)\n",
    "\n",
    "        plen = 0\n",
    "\n",
    "        print(matching_words)\n",
    "        for word in matching_words:\n",
    "            a.readNextImage()\n",
    "            if (\n",
    "                get_color_distance_fast(\n",
    "                    [74, 57, 58], gsColor(a.layers[\"image\"], 682, 64)\n",
    "                )\n",
    "                < 40\n",
    "            ):\n",
    "                print(word)\n",
    "                x = y = 0\n",
    "                path = generateMoves(word, matches)\n",
    "                print(path)\n",
    "                isDown = False\n",
    "                for x, y in path:\n",
    "                    if not isDown:\n",
    "                        cmd = f\"touch down {int(x)} {int(y)}\"\n",
    "                        monkey.raw(cmd)\n",
    "                        isDown = True\n",
    "                        time.sleep(0.5)\n",
    "                        continue\n",
    "                    cmd = f\"touch move {int(x)} {int(y)}\"\n",
    "                    monkey.raw(cmd)\n",
    "                    time.sleep(0.4)\n",
    "                cmd = f\"touch up {int(x)} {int(y)}\"\n",
    "                monkey.raw(cmd)\n",
    "                sleep(0.6)\n",
    "            else:\n",
    "                print(\"finished i think\")\n",
    "                break\n",
    "        sleep(3)"
   ]
  },
  {
   "cell_type": "markdown",
   "id": "bdb9411c-dc89-413b-a628-571f2d0fe32a",
   "metadata": {
    "tags": []
   },
   "source": [
    "# Research\n"
   ]
  },
  {
   "cell_type": "code",
   "execution_count": null,
   "id": "8c10902e-a5ac-47a6-8795-f7f0f5e1613b",
   "metadata": {},
   "outputs": [],
   "source": [
    "raise Exception(\"Stop\")"
   ]
  },
  {
   "cell_type": "code",
   "execution_count": null,
   "id": "b077b75f-6f9b-47b6-994d-68d749da25f7",
   "metadata": {},
   "outputs": [],
   "source": [
    "channels = cv2.split(a.matchers[\"white_x\"].data)\n",
    "zero_channel = np.zeros_like(channels[0])"
   ]
  },
  {
   "cell_type": "code",
   "execution_count": null,
   "id": "62b0c820-d0cf-4743-9d63-94e7c27af59d",
   "metadata": {},
   "outputs": [],
   "source": [
    "mask = np.array(channels[3])"
   ]
  },
  {
   "cell_type": "code",
   "execution_count": null,
   "id": "f9392cec-a3f6-45dd-9f7f-e10500b50b92",
   "metadata": {},
   "outputs": [],
   "source": [
    "matches = a.findMatches()\n",
    "matches"
   ]
  },
  {
   "cell_type": "code",
   "execution_count": null,
   "id": "480b20cc-497d-48e2-a30a-a70ad6f7c35f",
   "metadata": {},
   "outputs": [],
   "source": [
    "a.matchers"
   ]
  },
  {
   "cell_type": "code",
   "execution_count": null,
   "id": "f7c974c5-2f40-49a5-88d0-27e179a49a79",
   "metadata": {},
   "outputs": [],
   "source": [
    "get_color_distance_fast(correct, gsColor(a.layers[\"image\"], 1190, 1588))"
   ]
  },
  {
   "cell_type": "code",
   "execution_count": null,
   "id": "fe1c51d5-477a-42a0-a919-c0e81922177e",
   "metadata": {},
   "outputs": [],
   "source": [
    "a.matchers[\"white_x\"].show()"
   ]
  },
  {
   "cell_type": "code",
   "execution_count": null,
   "id": "65172295-9edb-4ff6-adfe-2609e3b8dc58",
   "metadata": {},
   "outputs": [],
   "source": [
    "a.layers[\"gray\"].show()"
   ]
  },
  {
   "cell_type": "code",
   "execution_count": null,
   "id": "5bfbea91-901f-4912-b22c-ace37d784fbd",
   "metadata": {},
   "outputs": [],
   "source": [
    "matches[\"I\"][1].show(a)"
   ]
  },
  {
   "cell_type": "code",
   "execution_count": null,
   "id": "ba559bcf-c316-4181-81aa-5968c983dfff",
   "metadata": {},
   "outputs": [],
   "source": [
    "matches[\"N\"][0].center"
   ]
  },
  {
   "cell_type": "markdown",
   "id": "9d5a8fe7-5a0b-49d5-b1f8-f52a88588c9b",
   "metadata": {},
   "source": [
    "shell input touchscreen swipe x1,y1, x2,y2\n",
    "\n",
    "https://github.com/mattwilson1024/android-pattern-unlock/blob/master/unlock.sh"
   ]
  },
  {
   "cell_type": "code",
   "execution_count": null,
   "id": "afdfcc51-fdff-4970-8bb6-f96c75c8ffa7",
   "metadata": {},
   "outputs": [],
   "source": [
    "generateMoves(\"FLEET\", matches)"
   ]
  },
  {
   "cell_type": "code",
   "execution_count": null,
   "id": "750dbf0a-d216-4757-a544-3f504e621937",
   "metadata": {},
   "outputs": [],
   "source": [
    "a.layers[\"image\"].data[58][58]"
   ]
  },
  {
   "cell_type": "code",
   "execution_count": null,
   "id": "c8f942ca-82e1-487f-b2e7-61704965c7ad",
   "metadata": {},
   "outputs": [],
   "source": [
    "gsColor(a.layers[\"image\"], 682, 64, [74, 57, 58])"
   ]
  },
  {
   "cell_type": "code",
   "execution_count": null,
   "id": "b43f85fa-dd32-4e2d-9518-9de99e219bad",
   "metadata": {},
   "outputs": [],
   "source": [
    "gsColor(a.layers[\"image\"], 1190, 1588)"
   ]
  },
  {
   "cell_type": "code",
   "execution_count": null,
   "id": "a2c92615-3369-4e6e-a044-4bf373f2d17d",
   "metadata": {},
   "outputs": [],
   "source": []
  }
 ],
 "metadata": {
  "autoscrollcelloutput": true,
  "kernelspec": {
   "display_name": "Python 3 (ipykernel)",
   "language": "python",
   "name": "python3"
  },
  "language_info": {
   "codemirror_mode": {
    "name": "ipython",
    "version": 3
   },
   "file_extension": ".py",
   "mimetype": "text/x-python",
   "name": "python",
   "nbconvert_exporter": "python",
   "pygments_lexer": "ipython3",
   "version": "3.10.4"
  },
  "scenes_data": {
   "active_scene": "Default Scene",
   "init_scene": "",
   "scenes": [
    "Default Scene"
   ]
  },
  "widgets": {
   "application/vnd.jupyter.widget-state+json": {
    "state": {
     "0143306918dd4ed6b54edfa7fd8ef8e8": {
      "model_module": "@jupyter-widgets/controls",
      "model_module_version": "1.5.0",
      "model_name": "FloatProgressModel",
      "state": {
       "bar_style": "success",
       "layout": "IPY_MODEL_a1ae8e64fd664ac78310dd861865577d",
       "max": 370105,
       "style": "IPY_MODEL_ef04087defda49a9ad0d87eb2626e6e6",
       "value": 370105
      }
     },
     "01cb71f8634a433886c43fd9889df618": {
      "model_module": "@jupyter-widgets/controls",
      "model_module_version": "1.5.0",
      "model_name": "ProgressStyleModel",
      "state": {
       "description_width": ""
      }
     },
     "0418106881d844fbbd7d60c91d8b5b2a": {
      "model_module": "@jupyter-widgets/base",
      "model_module_version": "1.2.0",
      "model_name": "LayoutModel",
      "state": {}
     },
     "0439577525524460aca6fbf55015eff0": {
      "model_module": "@jupyter-widgets/base",
      "model_module_version": "1.2.0",
      "model_name": "LayoutModel",
      "state": {}
     },
     "0a1d2cd62c0740338259492fea000c81": {
      "model_module": "@jupyter-widgets/controls",
      "model_module_version": "1.5.0",
      "model_name": "HTMLModel",
      "state": {
       "layout": "IPY_MODEL_28dcd1950e0d44969d180c7510032f49",
       "style": "IPY_MODEL_f02a881473f74d088a2fc1325ab07e4a",
       "value": " 370105/370105 [00:00&lt;00:00, 1039737.57it/s]"
      }
     },
     "0d0909ac180c439d85bfcb73a3c18958": {
      "model_module": "@jupyter-widgets/controls",
      "model_module_version": "1.5.0",
      "model_name": "FloatProgressModel",
      "state": {
       "bar_style": "success",
       "layout": "IPY_MODEL_535b1a6b838047298feb6654c7903352",
       "max": 370105,
       "style": "IPY_MODEL_01cb71f8634a433886c43fd9889df618",
       "value": 370105
      }
     },
     "12d4357c9b4347368c93caa130745fea": {
      "model_module": "@jupyter-widgets/base",
      "model_module_version": "1.2.0",
      "model_name": "LayoutModel",
      "state": {}
     },
     "132a6091f8c84e409bd8ccc2181cb4f7": {
      "model_module": "@jupyter-widgets/controls",
      "model_module_version": "1.5.0",
      "model_name": "DescriptionStyleModel",
      "state": {
       "description_width": ""
      }
     },
     "1354d54c664d4409a884c03d8f6779e1": {
      "model_module": "@jupyter-widgets/controls",
      "model_module_version": "1.5.0",
      "model_name": "HTMLModel",
      "state": {
       "layout": "IPY_MODEL_4be08429f07841348a8ac625b7dd11a2",
       "style": "IPY_MODEL_53810b49e6a04732a0601e797750e8f6",
       "value": "100%"
      }
     },
     "1b6b954ccb7d43f9a0a2c7e9850b9f9b": {
      "model_module": "@jupyter-widgets/controls",
      "model_module_version": "1.5.0",
      "model_name": "HTMLModel",
      "state": {
       "layout": "IPY_MODEL_42a24ada759a44269ef9fbfb23581351",
       "style": "IPY_MODEL_fd27d8604f544951b975d4b68a772710",
       "value": "100%"
      }
     },
     "2380fdd4c6a147a4b9cd252915fcbdf1": {
      "model_module": "@jupyter-widgets/controls",
      "model_module_version": "1.5.0",
      "model_name": "DescriptionStyleModel",
      "state": {
       "description_width": ""
      }
     },
     "28dcd1950e0d44969d180c7510032f49": {
      "model_module": "@jupyter-widgets/base",
      "model_module_version": "1.2.0",
      "model_name": "LayoutModel",
      "state": {}
     },
     "2dea3ba0f38841d8b02896218a0b6cbd": {
      "model_module": "@jupyter-widgets/base",
      "model_module_version": "1.2.0",
      "model_name": "LayoutModel",
      "state": {}
     },
     "3678863563844a58888c71cb19777072": {
      "model_module": "@jupyter-widgets/base",
      "model_module_version": "1.2.0",
      "model_name": "LayoutModel",
      "state": {}
     },
     "3ed14344c45d425b9c83d59cd6204d77": {
      "model_module": "@jupyter-widgets/base",
      "model_module_version": "1.2.0",
      "model_name": "LayoutModel",
      "state": {}
     },
     "3feb559a87f44cc08db81ed57a552bde": {
      "model_module": "@jupyter-widgets/controls",
      "model_module_version": "1.5.0",
      "model_name": "FloatProgressModel",
      "state": {
       "bar_style": "success",
       "layout": "IPY_MODEL_3ed14344c45d425b9c83d59cd6204d77",
       "max": 370105,
       "style": "IPY_MODEL_c9845844111e46b88648f2b689a807ba",
       "value": 370105
      }
     },
     "429a32b5676d4d2988ce577b79e5445a": {
      "model_module": "@jupyter-widgets/base",
      "model_module_version": "1.2.0",
      "model_name": "LayoutModel",
      "state": {}
     },
     "42a24ada759a44269ef9fbfb23581351": {
      "model_module": "@jupyter-widgets/base",
      "model_module_version": "1.2.0",
      "model_name": "LayoutModel",
      "state": {}
     },
     "47338a728ff1490c9df0e8246661d015": {
      "model_module": "@jupyter-widgets/base",
      "model_module_version": "1.2.0",
      "model_name": "LayoutModel",
      "state": {}
     },
     "4be08429f07841348a8ac625b7dd11a2": {
      "model_module": "@jupyter-widgets/base",
      "model_module_version": "1.2.0",
      "model_name": "LayoutModel",
      "state": {}
     },
     "535b1a6b838047298feb6654c7903352": {
      "model_module": "@jupyter-widgets/base",
      "model_module_version": "1.2.0",
      "model_name": "LayoutModel",
      "state": {}
     },
     "53810b49e6a04732a0601e797750e8f6": {
      "model_module": "@jupyter-widgets/controls",
      "model_module_version": "1.5.0",
      "model_name": "DescriptionStyleModel",
      "state": {
       "description_width": ""
      }
     },
     "59e11001e33f4703b4a3e4fe74aadc64": {
      "model_module": "@jupyter-widgets/controls",
      "model_module_version": "1.5.0",
      "model_name": "HBoxModel",
      "state": {
       "children": [
        "IPY_MODEL_aa2fe9d3bea54fb4a29eec90f9c605e6",
        "IPY_MODEL_3feb559a87f44cc08db81ed57a552bde",
        "IPY_MODEL_d073543a07f14ef5af3f2b8b3f924670"
       ],
       "layout": "IPY_MODEL_9fede6ce63474d4bb075be4f79464adf"
      }
     },
     "5c407a9e092a47fa9e5d20c23ce66c9b": {
      "model_module": "@jupyter-widgets/controls",
      "model_module_version": "1.5.0",
      "model_name": "HBoxModel",
      "state": {
       "children": [
        "IPY_MODEL_1354d54c664d4409a884c03d8f6779e1",
        "IPY_MODEL_6c72cfdafc4a41a2bc230a316bd2148e",
        "IPY_MODEL_dba7dfff52414ca89adb564f4e13cde8"
       ],
       "layout": "IPY_MODEL_0439577525524460aca6fbf55015eff0"
      }
     },
     "645de4578407433ca613b217a395ab04": {
      "model_module": "@jupyter-widgets/controls",
      "model_module_version": "1.5.0",
      "model_name": "HTMLModel",
      "state": {
       "layout": "IPY_MODEL_12d4357c9b4347368c93caa130745fea",
       "style": "IPY_MODEL_6676ec68a45843618c92d094ca2415df",
       "value": "100%"
      }
     },
     "65eaed77977d409ea371c954ec4a35f8": {
      "model_module": "@jupyter-widgets/base",
      "model_module_version": "1.2.0",
      "model_name": "LayoutModel",
      "state": {}
     },
     "6676ec68a45843618c92d094ca2415df": {
      "model_module": "@jupyter-widgets/controls",
      "model_module_version": "1.5.0",
      "model_name": "DescriptionStyleModel",
      "state": {
       "description_width": ""
      }
     },
     "687e6384ebd9437ca4c2ba715fb5bbf3": {
      "model_module": "@jupyter-widgets/controls",
      "model_module_version": "1.5.0",
      "model_name": "HBoxModel",
      "state": {
       "children": [
        "IPY_MODEL_8f60d15341c44233a8e40b5e3f8d6128",
        "IPY_MODEL_0143306918dd4ed6b54edfa7fd8ef8e8",
        "IPY_MODEL_d94ff558c82744f88ebfe1ecf99750d6"
       ],
       "layout": "IPY_MODEL_c704ef7c69c04005b37fa73a0c4d868c"
      }
     },
     "6a5bb11498834beda7ce4849fff8d308": {
      "model_module": "@jupyter-widgets/controls",
      "model_module_version": "1.5.0",
      "model_name": "HTMLModel",
      "state": {
       "layout": "IPY_MODEL_9b0bfbeb100f4aebbad61a9b33a01650",
       "style": "IPY_MODEL_b7edb1066fff4e99937c237e0ea1c45f",
       "value": "100%"
      }
     },
     "6c72cfdafc4a41a2bc230a316bd2148e": {
      "model_module": "@jupyter-widgets/controls",
      "model_module_version": "1.5.0",
      "model_name": "FloatProgressModel",
      "state": {
       "bar_style": "success",
       "layout": "IPY_MODEL_429a32b5676d4d2988ce577b79e5445a",
       "max": 370105,
       "style": "IPY_MODEL_ef51bed5c14848ba8fb1e6e574a96fbe",
       "value": 370105
      }
     },
     "719ffd0e2f1940139cacc9b1d98c2729": {
      "model_module": "@jupyter-widgets/base",
      "model_module_version": "1.2.0",
      "model_name": "LayoutModel",
      "state": {}
     },
     "7ccf6077361342489d0d96af112a107c": {
      "model_module": "@jupyter-widgets/base",
      "model_module_version": "1.2.0",
      "model_name": "LayoutModel",
      "state": {}
     },
     "8ecda4a39fbd4572b4a984ea420abe57": {
      "model_module": "@jupyter-widgets/controls",
      "model_module_version": "1.5.0",
      "model_name": "HTMLModel",
      "state": {
       "layout": "IPY_MODEL_47338a728ff1490c9df0e8246661d015",
       "style": "IPY_MODEL_a60c6ed60edf4f7bb0149dfcfecc49a9",
       "value": " 370105/370105 [00:00&lt;00:00, 991896.94it/s]"
      }
     },
     "8f60d15341c44233a8e40b5e3f8d6128": {
      "model_module": "@jupyter-widgets/controls",
      "model_module_version": "1.5.0",
      "model_name": "HTMLModel",
      "state": {
       "layout": "IPY_MODEL_3678863563844a58888c71cb19777072",
       "style": "IPY_MODEL_2380fdd4c6a147a4b9cd252915fcbdf1",
       "value": "100%"
      }
     },
     "9211a9f064e841d7a8c7b54906725b47": {
      "model_module": "@jupyter-widgets/base",
      "model_module_version": "1.2.0",
      "model_name": "LayoutModel",
      "state": {}
     },
     "92f4a87289b64afda5e8c6d80679cfd5": {
      "model_module": "@jupyter-widgets/base",
      "model_module_version": "1.2.0",
      "model_name": "LayoutModel",
      "state": {}
     },
     "932ec5449a264f2aab512a8ac4a737d2": {
      "model_module": "@jupyter-widgets/controls",
      "model_module_version": "1.5.0",
      "model_name": "DescriptionStyleModel",
      "state": {
       "description_width": ""
      }
     },
     "97588ac754294e3d8661e840a40cd51b": {
      "model_module": "@jupyter-widgets/controls",
      "model_module_version": "1.5.0",
      "model_name": "FloatProgressModel",
      "state": {
       "bar_style": "success",
       "layout": "IPY_MODEL_0418106881d844fbbd7d60c91d8b5b2a",
       "max": 370105,
       "style": "IPY_MODEL_98e350070f2c49c29c00bf1c572ee73d",
       "value": 370105
      }
     },
     "98e350070f2c49c29c00bf1c572ee73d": {
      "model_module": "@jupyter-widgets/controls",
      "model_module_version": "1.5.0",
      "model_name": "ProgressStyleModel",
      "state": {
       "description_width": ""
      }
     },
     "9b0bfbeb100f4aebbad61a9b33a01650": {
      "model_module": "@jupyter-widgets/base",
      "model_module_version": "1.2.0",
      "model_name": "LayoutModel",
      "state": {}
     },
     "9cbf1a8a92494690b9a9f14c7deb5181": {
      "model_module": "@jupyter-widgets/base",
      "model_module_version": "1.2.0",
      "model_name": "LayoutModel",
      "state": {}
     },
     "9fede6ce63474d4bb075be4f79464adf": {
      "model_module": "@jupyter-widgets/base",
      "model_module_version": "1.2.0",
      "model_name": "LayoutModel",
      "state": {}
     },
     "a1ae8e64fd664ac78310dd861865577d": {
      "model_module": "@jupyter-widgets/base",
      "model_module_version": "1.2.0",
      "model_name": "LayoutModel",
      "state": {}
     },
     "a60c6ed60edf4f7bb0149dfcfecc49a9": {
      "model_module": "@jupyter-widgets/controls",
      "model_module_version": "1.5.0",
      "model_name": "DescriptionStyleModel",
      "state": {
       "description_width": ""
      }
     },
     "aa2fe9d3bea54fb4a29eec90f9c605e6": {
      "model_module": "@jupyter-widgets/controls",
      "model_module_version": "1.5.0",
      "model_name": "HTMLModel",
      "state": {
       "layout": "IPY_MODEL_b03ce57944b1422f9eb2eb5095dc1d37",
       "style": "IPY_MODEL_f2afbff565d847c685e6431a47a98085",
       "value": "100%"
      }
     },
     "ac619f23ed364994b756d95dfcf02b74": {
      "model_module": "@jupyter-widgets/controls",
      "model_module_version": "1.5.0",
      "model_name": "FloatProgressModel",
      "state": {
       "bar_style": "success",
       "layout": "IPY_MODEL_2dea3ba0f38841d8b02896218a0b6cbd",
       "max": 370105,
       "style": "IPY_MODEL_bdeaa008791946288ee052fbd84136e7",
       "value": 370105
      }
     },
     "b03ce57944b1422f9eb2eb5095dc1d37": {
      "model_module": "@jupyter-widgets/base",
      "model_module_version": "1.2.0",
      "model_name": "LayoutModel",
      "state": {}
     },
     "b7edb1066fff4e99937c237e0ea1c45f": {
      "model_module": "@jupyter-widgets/controls",
      "model_module_version": "1.5.0",
      "model_name": "DescriptionStyleModel",
      "state": {
       "description_width": ""
      }
     },
     "bdeaa008791946288ee052fbd84136e7": {
      "model_module": "@jupyter-widgets/controls",
      "model_module_version": "1.5.0",
      "model_name": "ProgressStyleModel",
      "state": {
       "description_width": ""
      }
     },
     "c704ef7c69c04005b37fa73a0c4d868c": {
      "model_module": "@jupyter-widgets/base",
      "model_module_version": "1.2.0",
      "model_name": "LayoutModel",
      "state": {}
     },
     "c9845844111e46b88648f2b689a807ba": {
      "model_module": "@jupyter-widgets/controls",
      "model_module_version": "1.5.0",
      "model_name": "ProgressStyleModel",
      "state": {
       "description_width": ""
      }
     },
     "ca8ba6ebcac244b0bddedac620df072d": {
      "model_module": "@jupyter-widgets/controls",
      "model_module_version": "1.5.0",
      "model_name": "DescriptionStyleModel",
      "state": {
       "description_width": ""
      }
     },
     "d073543a07f14ef5af3f2b8b3f924670": {
      "model_module": "@jupyter-widgets/controls",
      "model_module_version": "1.5.0",
      "model_name": "HTMLModel",
      "state": {
       "layout": "IPY_MODEL_9cbf1a8a92494690b9a9f14c7deb5181",
       "style": "IPY_MODEL_dd72f8b2a9074cf9b915fc667597fe50",
       "value": " 370105/370105 [00:00&lt;00:00, 941813.31it/s]"
      }
     },
     "d0b72a5a941a48fa9e5fef974a5f533b": {
      "model_module": "@jupyter-widgets/controls",
      "model_module_version": "1.5.0",
      "model_name": "HBoxModel",
      "state": {
       "children": [
        "IPY_MODEL_1b6b954ccb7d43f9a0a2c7e9850b9f9b",
        "IPY_MODEL_ac619f23ed364994b756d95dfcf02b74",
        "IPY_MODEL_e617f741032e499a8d629cc28e31822b"
       ],
       "layout": "IPY_MODEL_e31ec5ed9bc44caca1d92f2a1dbb23cc"
      }
     },
     "d94ff558c82744f88ebfe1ecf99750d6": {
      "model_module": "@jupyter-widgets/controls",
      "model_module_version": "1.5.0",
      "model_name": "HTMLModel",
      "state": {
       "layout": "IPY_MODEL_92f4a87289b64afda5e8c6d80679cfd5",
       "style": "IPY_MODEL_ca8ba6ebcac244b0bddedac620df072d",
       "value": " 370105/370105 [00:00&lt;00:00, 1001282.42it/s]"
      }
     },
     "dba7dfff52414ca89adb564f4e13cde8": {
      "model_module": "@jupyter-widgets/controls",
      "model_module_version": "1.5.0",
      "model_name": "HTMLModel",
      "state": {
       "layout": "IPY_MODEL_9211a9f064e841d7a8c7b54906725b47",
       "style": "IPY_MODEL_932ec5449a264f2aab512a8ac4a737d2",
       "value": " 370105/370105 [00:00&lt;00:00, 974824.18it/s]"
      }
     },
     "dd72f8b2a9074cf9b915fc667597fe50": {
      "model_module": "@jupyter-widgets/controls",
      "model_module_version": "1.5.0",
      "model_name": "DescriptionStyleModel",
      "state": {
       "description_width": ""
      }
     },
     "e31ec5ed9bc44caca1d92f2a1dbb23cc": {
      "model_module": "@jupyter-widgets/base",
      "model_module_version": "1.2.0",
      "model_name": "LayoutModel",
      "state": {}
     },
     "e617f741032e499a8d629cc28e31822b": {
      "model_module": "@jupyter-widgets/controls",
      "model_module_version": "1.5.0",
      "model_name": "HTMLModel",
      "state": {
       "layout": "IPY_MODEL_65eaed77977d409ea371c954ec4a35f8",
       "style": "IPY_MODEL_132a6091f8c84e409bd8ccc2181cb4f7",
       "value": " 370105/370105 [00:00&lt;00:00, 1002963.02it/s]"
      }
     },
     "ef04087defda49a9ad0d87eb2626e6e6": {
      "model_module": "@jupyter-widgets/controls",
      "model_module_version": "1.5.0",
      "model_name": "ProgressStyleModel",
      "state": {
       "description_width": ""
      }
     },
     "ef51bed5c14848ba8fb1e6e574a96fbe": {
      "model_module": "@jupyter-widgets/controls",
      "model_module_version": "1.5.0",
      "model_name": "ProgressStyleModel",
      "state": {
       "description_width": ""
      }
     },
     "f02a881473f74d088a2fc1325ab07e4a": {
      "model_module": "@jupyter-widgets/controls",
      "model_module_version": "1.5.0",
      "model_name": "DescriptionStyleModel",
      "state": {
       "description_width": ""
      }
     },
     "f2afbff565d847c685e6431a47a98085": {
      "model_module": "@jupyter-widgets/controls",
      "model_module_version": "1.5.0",
      "model_name": "DescriptionStyleModel",
      "state": {
       "description_width": ""
      }
     },
     "faeec90ac48944be96d2a087c9bab752": {
      "model_module": "@jupyter-widgets/controls",
      "model_module_version": "1.5.0",
      "model_name": "HBoxModel",
      "state": {
       "children": [
        "IPY_MODEL_645de4578407433ca613b217a395ab04",
        "IPY_MODEL_0d0909ac180c439d85bfcb73a3c18958",
        "IPY_MODEL_0a1d2cd62c0740338259492fea000c81"
       ],
       "layout": "IPY_MODEL_719ffd0e2f1940139cacc9b1d98c2729"
      }
     },
     "fd27d8604f544951b975d4b68a772710": {
      "model_module": "@jupyter-widgets/controls",
      "model_module_version": "1.5.0",
      "model_name": "DescriptionStyleModel",
      "state": {
       "description_width": ""
      }
     },
     "fd83a66c88bc419d989965f8abaa4585": {
      "model_module": "@jupyter-widgets/controls",
      "model_module_version": "1.5.0",
      "model_name": "HBoxModel",
      "state": {
       "children": [
        "IPY_MODEL_6a5bb11498834beda7ce4849fff8d308",
        "IPY_MODEL_97588ac754294e3d8661e840a40cd51b",
        "IPY_MODEL_8ecda4a39fbd4572b4a984ea420abe57"
       ],
       "layout": "IPY_MODEL_7ccf6077361342489d0d96af112a107c"
      }
     }
    },
    "version_major": 2,
    "version_minor": 0
   }
  }
 },
 "nbformat": 4,
 "nbformat_minor": 5
}
