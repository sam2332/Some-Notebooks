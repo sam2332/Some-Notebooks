{
 "cells": [
  {
   "cell_type": "code",
   "execution_count": 31,
   "id": "31a5b066-0821-480f-be9f-31f318847e5a",
   "metadata": {},
   "outputs": [],
   "source": [
    "import string\n",
    "from copy import copy\n",
    "\n",
    "from IPython.display import Image, clear_output, display\n",
    "from Libs.Beholder import *\n",
    "from PIL import Image as pilImage\n",
    "from tqdm.notebook import tqdm"
   ]
  },
  {
   "cell_type": "code",
   "execution_count": 32,
   "id": "84cd9576-8ceb-446d-9cba-1f16a80551e8",
   "metadata": {},
   "outputs": [],
   "source": [
    "a = Beholder(videoFrameGenerator=pullPhoneScreen)\n",
    "\n",
    "a.addLayerModifer(\n",
    "    Beholder_Layer_Chopper_Grayscale(name=\"gray\", from_layer=\"image\", enabled=True)\n",
    ")\n",
    "\n",
    "a.addLayerModifer(\n",
    "    Beholder_Layer_Chopper_AtCord(\n",
    "        name=\"gray_letters\",\n",
    "        from_layer=\"gray\",\n",
    "        x=304,\n",
    "        y=1632,\n",
    "        w=850,\n",
    "        h=860,\n",
    "        enabled=True,\n",
    "    )\n",
    ")"
   ]
  },
  {
   "cell_type": "code",
   "execution_count": 33,
   "id": "b4c8631e-1984-4638-923f-141c7eb6b8cb",
   "metadata": {},
   "outputs": [
    {
     "data": {
      "text/plain": [
       "370105"
      ]
     },
     "execution_count": 33,
     "metadata": {},
     "output_type": "execute_result"
    }
   ],
   "source": [
    "from pathlib import Path\n",
    "\n",
    "import requests\n",
    "\n",
    "w = Path(\"words.lst\")\n",
    "if not w.exists():\n",
    "    w.write_bytes(\n",
    "        requests.get(\n",
    "            \"https://raw.githubusercontent.com/MariaLuo826/english_words/master/words_alpha.txt\"\n",
    "        ).content\n",
    "    )\n",
    "words = [l.upper() for l in w.read_text().splitlines()]\n",
    "len(words)"
   ]
  },
  {
   "cell_type": "code",
   "execution_count": 57,
   "id": "561ea48e-1cf5-4bcf-bb92-322b7c4290dd",
   "metadata": {},
   "outputs": [
    {
     "name": "stdout",
     "output_type": "stream",
     "text": [
      "Loading A\n",
      "Loading B\n",
      "Loading C\n",
      "Loading D\n",
      "Loading E\n",
      "Loading F\n",
      "Loading H\n",
      "Loading I\n",
      "Loading L\n",
      "Loading M\n",
      "Loading N\n",
      "Loading O\n",
      "Loading P\n",
      "Loading R\n",
      "Loading S\n",
      "Loading T\n",
      "Loading U\n",
      "Loading V\n"
     ]
    }
   ],
   "source": [
    "a.matchers = {}\n",
    "for l in string.ascii_uppercase:\n",
    "    p = Path(f\"./wordtrip_templates/{l}.png\")\n",
    "    if p.exists():\n",
    "        print(f\"Loading {l}\")\n",
    "        a.addMatcher(\n",
    "            Beholder_Image_Matcher(\n",
    "                name=l,\n",
    "                layer=\"gray_letters\",\n",
    "                filename=str(p),\n",
    "                threshhold=0.9,\n",
    "                sensitivity=200,\n",
    "            )\n",
    "        )"
   ]
  },
  {
   "cell_type": "code",
   "execution_count": 58,
   "id": "e169feeb-218e-44ed-a8df-a0802b45e61d",
   "metadata": {
    "tags": []
   },
   "outputs": [],
   "source": [
    "def wordWorks(word, found_letters):\n",
    "    found_letters_t = copy(found_letters)\n",
    "    for letter in word:\n",
    "        if letter in found_letters_t:\n",
    "            found_letters_t.remove(letter)\n",
    "        else:\n",
    "            return False\n",
    "    return True"
   ]
  },
  {
   "cell_type": "code",
   "execution_count": 59,
   "id": "dcf3c7f6-a0bb-4a11-ab9a-1e065048179a",
   "metadata": {
    "tags": []
   },
   "outputs": [
    {
     "data": {
      "text/plain": [
       "['E', 'L', 'M', 'N', 'O']"
      ]
     },
     "execution_count": 59,
     "metadata": {},
     "output_type": "execute_result"
    }
   ],
   "source": [
    "min_len = 3\n",
    "max_len = 5\n",
    "eq_len = None\n",
    "matches = a.findMatches()\n",
    "found_letters = []\n",
    "for l in matches:\n",
    "    for _ in range(0, len(matches[l].f)):\n",
    "        found_letters.append(l)\n",
    "found_letters"
   ]
  },
  {
   "cell_type": "code",
   "execution_count": 60,
   "id": "9855d857-e546-4968-b781-1d45345208d7",
   "metadata": {
    "tags": []
   },
   "outputs": [
    {
     "data": {
      "application/vnd.jupyter.widget-view+json": {
       "model_id": "276da1b10f29402190ed123a8901ba35",
       "version_major": 2,
       "version_minor": 0
      },
      "text/plain": [
       "  0%|          | 0/370105 [00:00<?, ?it/s]"
      ]
     },
     "metadata": {},
     "output_type": "display_data"
    },
    {
     "name": "stdout",
     "output_type": "stream",
     "text": [
      "\n",
      "ELM\n",
      "ENL\n",
      "EOM\n",
      "EON\n",
      "LEN\n",
      "LEO\n",
      "LOE\n",
      "MEL\n",
      "MEN\n",
      "MEO\n",
      "MOE\n",
      "MOL\n",
      "MON\n",
      "NEO\n",
      "NOL\n",
      "NOM\n",
      "OLE\n",
      "OLM\n",
      "ONE\n",
      "\n",
      "ELON\n",
      "ENOL\n",
      "LENO\n",
      "LEON\n",
      "LONE\n",
      "MENO\n",
      "MOLE\n",
      "MONE\n",
      "NEMO\n",
      "NOEL\n",
      "NOME\n",
      "OMEN\n",
      "\n",
      "LEMON\n",
      "MELON\n",
      "MONEL\n"
     ]
    }
   ],
   "source": [
    "matching_words = []\n",
    "for word in tqdm(words):\n",
    "    if len(word) < min_len or len(word) > max_len:\n",
    "        continue\n",
    "    if wordWorks(word, found_letters):\n",
    "        matching_words.append(word)\n",
    "\n",
    "plen = 0\n",
    "for word in list(sorted(matching_words, key=len)):\n",
    "    if plen != len(word):\n",
    "        print()\n",
    "        plen = len(word)\n",
    "    print(word)"
   ]
  },
  {
   "cell_type": "code",
   "execution_count": null,
   "id": "ae31c04f-884a-41f3-8038-763f3241d602",
   "metadata": {},
   "outputs": [],
   "source": []
  },
  {
   "cell_type": "code",
   "execution_count": null,
   "id": "b6b9ddd0-05ea-4e36-87b0-0fe52c0d44fc",
   "metadata": {},
   "outputs": [],
   "source": []
  }
 ],
 "metadata": {
  "kernelspec": {
   "display_name": "Python 3 (ipykernel)",
   "language": "python",
   "name": "python3"
  },
  "language_info": {
   "codemirror_mode": {
    "name": "ipython",
    "version": 3
   },
   "file_extension": ".py",
   "mimetype": "text/x-python",
   "name": "python",
   "nbconvert_exporter": "python",
   "pygments_lexer": "ipython3",
   "version": "3.10.4"
  },
  "scenes_data": {
   "active_scene": "Default Scene",
   "init_scene": "",
   "scenes": [
    "Default Scene"
   ]
  },
  "widgets": {
   "application/vnd.jupyter.widget-state+json": {
    "state": {
     "028719e0f7164806813d5a543c9b9322": {
      "model_module": "@jupyter-widgets/controls",
      "model_module_version": "1.5.0",
      "model_name": "FloatProgressModel",
      "state": {
       "bar_style": "success",
       "layout": "IPY_MODEL_80f103b6b9b549c5b4566a92df961301",
       "max": 370105,
       "style": "IPY_MODEL_31fcfac4044746799bbdf150ce896cb1",
       "value": 370105
      }
     },
     "0b1730154f714868902f10b081a2972f": {
      "model_module": "@jupyter-widgets/controls",
      "model_module_version": "1.5.0",
      "model_name": "DescriptionStyleModel",
      "state": {
       "description_width": ""
      }
     },
     "1739fdc2ac634e7ea68eaa1c22382181": {
      "model_module": "@jupyter-widgets/controls",
      "model_module_version": "1.5.0",
      "model_name": "HTMLModel",
      "state": {
       "layout": "IPY_MODEL_5b8957e21f0b41718bc3c98f5d32b10c",
       "style": "IPY_MODEL_0b1730154f714868902f10b081a2972f",
       "value": "100%"
      }
     },
     "19a647d65129463bb7f228b1522de749": {
      "model_module": "@jupyter-widgets/base",
      "model_module_version": "1.2.0",
      "model_name": "LayoutModel",
      "state": {}
     },
     "1e2643d02aa9479295259c1be97204e0": {
      "model_module": "@jupyter-widgets/controls",
      "model_module_version": "1.5.0",
      "model_name": "HTMLModel",
      "state": {
       "layout": "IPY_MODEL_78a6559037914ec9a36f2925239615fb",
       "style": "IPY_MODEL_58beef2103e1464f9c26ed730c24de3e",
       "value": "100%"
      }
     },
     "201d4a8796d94f2e8c2876d265903994": {
      "model_module": "@jupyter-widgets/base",
      "model_module_version": "1.2.0",
      "model_name": "LayoutModel",
      "state": {}
     },
     "2634eadf77e44e038acf53dd9f34a2d9": {
      "model_module": "@jupyter-widgets/base",
      "model_module_version": "1.2.0",
      "model_name": "LayoutModel",
      "state": {}
     },
     "271c46952af34c0e90b770baf297ea46": {
      "model_module": "@jupyter-widgets/base",
      "model_module_version": "1.2.0",
      "model_name": "LayoutModel",
      "state": {}
     },
     "276da1b10f29402190ed123a8901ba35": {
      "model_module": "@jupyter-widgets/controls",
      "model_module_version": "1.5.0",
      "model_name": "HBoxModel",
      "state": {
       "children": [
        "IPY_MODEL_ece1b6138ce24098913026777b33ea86",
        "IPY_MODEL_dd57164c827e499cb064e47a5e9027cd",
        "IPY_MODEL_e849f07e63f2468d9ca840020e159eb9"
       ],
       "layout": "IPY_MODEL_2634eadf77e44e038acf53dd9f34a2d9"
      }
     },
     "291438d83afe47d895fb8cbd593dc093": {
      "model_module": "@jupyter-widgets/controls",
      "model_module_version": "1.5.0",
      "model_name": "HTMLModel",
      "state": {
       "layout": "IPY_MODEL_b5973022226b49049d80645814f7ffda",
       "style": "IPY_MODEL_cb5104261bcc410587796056725a2b01",
       "value": "100%"
      }
     },
     "2c24539ce3a34d848fbf0ce0b22ca580": {
      "model_module": "@jupyter-widgets/controls",
      "model_module_version": "1.5.0",
      "model_name": "HTMLModel",
      "state": {
       "layout": "IPY_MODEL_cfb8dbbe4f2948738e8f58bc86000b8b",
       "style": "IPY_MODEL_3e475f0d30da4dbb8cf102175a4a7598",
       "value": " 370105/370105 [00:00&lt;00:00, 1049468.60it/s]"
      }
     },
     "31fcfac4044746799bbdf150ce896cb1": {
      "model_module": "@jupyter-widgets/controls",
      "model_module_version": "1.5.0",
      "model_name": "ProgressStyleModel",
      "state": {
       "description_width": ""
      }
     },
     "325726a7dd524d6090b6c274b578207c": {
      "model_module": "@jupyter-widgets/controls",
      "model_module_version": "1.5.0",
      "model_name": "HBoxModel",
      "state": {
       "children": [
        "IPY_MODEL_1739fdc2ac634e7ea68eaa1c22382181",
        "IPY_MODEL_028719e0f7164806813d5a543c9b9322",
        "IPY_MODEL_ce6afaf990c84c259d3e8ad527057242"
       ],
       "layout": "IPY_MODEL_c52e9ac0a85b48d683b1ff1d0c53ed49"
      }
     },
     "370a43b778684905b8cbc2b1689d93e9": {
      "model_module": "@jupyter-widgets/controls",
      "model_module_version": "1.5.0",
      "model_name": "HTMLModel",
      "state": {
       "layout": "IPY_MODEL_9577198b606a41c5abda27fa10b2cdb9",
       "style": "IPY_MODEL_63ee732ff4d046fdac352aa99b403c99",
       "value": " 370105/370105 [00:00&lt;00:00, 1052843.04it/s]"
      }
     },
     "395320f4a94845efa68a4e478a0062ff": {
      "model_module": "@jupyter-widgets/controls",
      "model_module_version": "1.5.0",
      "model_name": "DescriptionStyleModel",
      "state": {
       "description_width": ""
      }
     },
     "3a296bf246c8416883051f8f0320d426": {
      "model_module": "@jupyter-widgets/controls",
      "model_module_version": "1.5.0",
      "model_name": "HBoxModel",
      "state": {
       "children": [
        "IPY_MODEL_b9fbaf67fd664226b8d0e4090a182fb1",
        "IPY_MODEL_3b051ec0d83a4c60ac3c88508cd1e1c1",
        "IPY_MODEL_6c21572938544028a73207a97e25f04f"
       ],
       "layout": "IPY_MODEL_4e3dab1de3a046098730a42290541070"
      }
     },
     "3b051ec0d83a4c60ac3c88508cd1e1c1": {
      "model_module": "@jupyter-widgets/controls",
      "model_module_version": "1.5.0",
      "model_name": "FloatProgressModel",
      "state": {
       "bar_style": "success",
       "layout": "IPY_MODEL_e7444e2f14804f8fb8959b0029e7930c",
       "max": 370105,
       "style": "IPY_MODEL_919c4f49ddf744fe81501184664f4361",
       "value": 370105
      }
     },
     "3db7857ab7f84ffa8e4ea7c4a61ae8ee": {
      "model_module": "@jupyter-widgets/base",
      "model_module_version": "1.2.0",
      "model_name": "LayoutModel",
      "state": {}
     },
     "3e475f0d30da4dbb8cf102175a4a7598": {
      "model_module": "@jupyter-widgets/controls",
      "model_module_version": "1.5.0",
      "model_name": "DescriptionStyleModel",
      "state": {
       "description_width": ""
      }
     },
     "40b38a9d54d04a7fbd107f220c24ff1d": {
      "model_module": "@jupyter-widgets/base",
      "model_module_version": "1.2.0",
      "model_name": "LayoutModel",
      "state": {}
     },
     "413dba186edd4a7fbb9df0b8ef526618": {
      "model_module": "@jupyter-widgets/base",
      "model_module_version": "1.2.0",
      "model_name": "LayoutModel",
      "state": {}
     },
     "48c32cdf2d484c168f3933179521b8a4": {
      "model_module": "@jupyter-widgets/controls",
      "model_module_version": "1.5.0",
      "model_name": "HBoxModel",
      "state": {
       "children": [
        "IPY_MODEL_291438d83afe47d895fb8cbd593dc093",
        "IPY_MODEL_ffa6963b867641b2b94dba206d14d023",
        "IPY_MODEL_2c24539ce3a34d848fbf0ce0b22ca580"
       ],
       "layout": "IPY_MODEL_ea94096ce34d4c18b1a83642f24c66e1"
      }
     },
     "4e3dab1de3a046098730a42290541070": {
      "model_module": "@jupyter-widgets/base",
      "model_module_version": "1.2.0",
      "model_name": "LayoutModel",
      "state": {}
     },
     "5075b7527e0b40318b95b82fae66c352": {
      "model_module": "@jupyter-widgets/controls",
      "model_module_version": "1.5.0",
      "model_name": "FloatProgressModel",
      "state": {
       "bar_style": "success",
       "layout": "IPY_MODEL_3db7857ab7f84ffa8e4ea7c4a61ae8ee",
       "max": 370105,
       "style": "IPY_MODEL_534f9bdbc3bd4ef499e843fc6eda3525",
       "value": 370105
      }
     },
     "534f9bdbc3bd4ef499e843fc6eda3525": {
      "model_module": "@jupyter-widgets/controls",
      "model_module_version": "1.5.0",
      "model_name": "ProgressStyleModel",
      "state": {
       "description_width": ""
      }
     },
     "58beef2103e1464f9c26ed730c24de3e": {
      "model_module": "@jupyter-widgets/controls",
      "model_module_version": "1.5.0",
      "model_name": "DescriptionStyleModel",
      "state": {
       "description_width": ""
      }
     },
     "5b8957e21f0b41718bc3c98f5d32b10c": {
      "model_module": "@jupyter-widgets/base",
      "model_module_version": "1.2.0",
      "model_name": "LayoutModel",
      "state": {}
     },
     "63ee732ff4d046fdac352aa99b403c99": {
      "model_module": "@jupyter-widgets/controls",
      "model_module_version": "1.5.0",
      "model_name": "DescriptionStyleModel",
      "state": {
       "description_width": ""
      }
     },
     "66c0b10f8b364459a04a6df6a90823bc": {
      "model_module": "@jupyter-widgets/controls",
      "model_module_version": "1.5.0",
      "model_name": "HBoxModel",
      "state": {
       "children": [
        "IPY_MODEL_1e2643d02aa9479295259c1be97204e0",
        "IPY_MODEL_a844c609be3d43c7bd9b2345fc24a5d1",
        "IPY_MODEL_e5997d7cb9864d32912c3aaff5fecc71"
       ],
       "layout": "IPY_MODEL_c5c4c294220b4ed39be6386a45546eee"
      }
     },
     "69d0bf415ef34a2bb4b21a5bdc0f6290": {
      "model_module": "@jupyter-widgets/controls",
      "model_module_version": "1.5.0",
      "model_name": "DescriptionStyleModel",
      "state": {
       "description_width": ""
      }
     },
     "6c21572938544028a73207a97e25f04f": {
      "model_module": "@jupyter-widgets/controls",
      "model_module_version": "1.5.0",
      "model_name": "HTMLModel",
      "state": {
       "layout": "IPY_MODEL_201d4a8796d94f2e8c2876d265903994",
       "style": "IPY_MODEL_7bbe6144755045838e858a42953100ff",
       "value": " 370105/370105 [00:00&lt;00:00, 1072472.96it/s]"
      }
     },
     "762ceb215a034e1baca7209805c328fb": {
      "model_module": "@jupyter-widgets/base",
      "model_module_version": "1.2.0",
      "model_name": "LayoutModel",
      "state": {}
     },
     "78a6559037914ec9a36f2925239615fb": {
      "model_module": "@jupyter-widgets/base",
      "model_module_version": "1.2.0",
      "model_name": "LayoutModel",
      "state": {}
     },
     "7bbe6144755045838e858a42953100ff": {
      "model_module": "@jupyter-widgets/controls",
      "model_module_version": "1.5.0",
      "model_name": "DescriptionStyleModel",
      "state": {
       "description_width": ""
      }
     },
     "7c0c6aaac57e46b0a94727546a803ffe": {
      "model_module": "@jupyter-widgets/controls",
      "model_module_version": "1.5.0",
      "model_name": "DescriptionStyleModel",
      "state": {
       "description_width": ""
      }
     },
     "80f103b6b9b549c5b4566a92df961301": {
      "model_module": "@jupyter-widgets/base",
      "model_module_version": "1.2.0",
      "model_name": "LayoutModel",
      "state": {}
     },
     "818f68be771442beaaaab17541bb0d30": {
      "model_module": "@jupyter-widgets/base",
      "model_module_version": "1.2.0",
      "model_name": "LayoutModel",
      "state": {}
     },
     "836b9d904d274b90a54a73819dbefa7c": {
      "model_module": "@jupyter-widgets/controls",
      "model_module_version": "1.5.0",
      "model_name": "ProgressStyleModel",
      "state": {
       "description_width": ""
      }
     },
     "8a774db97ff94c0abd048f4d68338a2c": {
      "model_module": "@jupyter-widgets/base",
      "model_module_version": "1.2.0",
      "model_name": "LayoutModel",
      "state": {}
     },
     "9025d3becb43409ab6755f63f986de3f": {
      "model_module": "@jupyter-widgets/controls",
      "model_module_version": "1.5.0",
      "model_name": "DescriptionStyleModel",
      "state": {
       "description_width": ""
      }
     },
     "90fda0469ff6479695ad329d4a6382cd": {
      "model_module": "@jupyter-widgets/controls",
      "model_module_version": "1.5.0",
      "model_name": "ProgressStyleModel",
      "state": {
       "description_width": ""
      }
     },
     "919c4f49ddf744fe81501184664f4361": {
      "model_module": "@jupyter-widgets/controls",
      "model_module_version": "1.5.0",
      "model_name": "ProgressStyleModel",
      "state": {
       "description_width": ""
      }
     },
     "9577198b606a41c5abda27fa10b2cdb9": {
      "model_module": "@jupyter-widgets/base",
      "model_module_version": "1.2.0",
      "model_name": "LayoutModel",
      "state": {}
     },
     "a844c609be3d43c7bd9b2345fc24a5d1": {
      "model_module": "@jupyter-widgets/controls",
      "model_module_version": "1.5.0",
      "model_name": "FloatProgressModel",
      "state": {
       "bar_style": "success",
       "layout": "IPY_MODEL_aa31fe0d0ce247cc897796f9f4640804",
       "max": 370105,
       "style": "IPY_MODEL_90fda0469ff6479695ad329d4a6382cd",
       "value": 370105
      }
     },
     "aa31fe0d0ce247cc897796f9f4640804": {
      "model_module": "@jupyter-widgets/base",
      "model_module_version": "1.2.0",
      "model_name": "LayoutModel",
      "state": {}
     },
     "ac1eabb514a24f9a937e246639965d38": {
      "model_module": "@jupyter-widgets/controls",
      "model_module_version": "1.5.0",
      "model_name": "DescriptionStyleModel",
      "state": {
       "description_width": ""
      }
     },
     "b46f2c84536a4348831545cee13a8cf3": {
      "model_module": "@jupyter-widgets/controls",
      "model_module_version": "1.5.0",
      "model_name": "DescriptionStyleModel",
      "state": {
       "description_width": ""
      }
     },
     "b5973022226b49049d80645814f7ffda": {
      "model_module": "@jupyter-widgets/base",
      "model_module_version": "1.2.0",
      "model_name": "LayoutModel",
      "state": {}
     },
     "b9fbaf67fd664226b8d0e4090a182fb1": {
      "model_module": "@jupyter-widgets/controls",
      "model_module_version": "1.5.0",
      "model_name": "HTMLModel",
      "state": {
       "layout": "IPY_MODEL_762ceb215a034e1baca7209805c328fb",
       "style": "IPY_MODEL_7c0c6aaac57e46b0a94727546a803ffe",
       "value": "100%"
      }
     },
     "bc796d975b8f4a04a2a14865de873eaa": {
      "model_module": "@jupyter-widgets/base",
      "model_module_version": "1.2.0",
      "model_name": "LayoutModel",
      "state": {}
     },
     "c51a8ea49e8440da89870a340b66ebaf": {
      "model_module": "@jupyter-widgets/controls",
      "model_module_version": "1.5.0",
      "model_name": "HBoxModel",
      "state": {
       "children": [
        "IPY_MODEL_eb5a0a9b465d4ef486c2ee9df61b7b69",
        "IPY_MODEL_5075b7527e0b40318b95b82fae66c352",
        "IPY_MODEL_370a43b778684905b8cbc2b1689d93e9"
       ],
       "layout": "IPY_MODEL_19a647d65129463bb7f228b1522de749"
      }
     },
     "c52e9ac0a85b48d683b1ff1d0c53ed49": {
      "model_module": "@jupyter-widgets/base",
      "model_module_version": "1.2.0",
      "model_name": "LayoutModel",
      "state": {}
     },
     "c5c4c294220b4ed39be6386a45546eee": {
      "model_module": "@jupyter-widgets/base",
      "model_module_version": "1.2.0",
      "model_name": "LayoutModel",
      "state": {}
     },
     "cb5104261bcc410587796056725a2b01": {
      "model_module": "@jupyter-widgets/controls",
      "model_module_version": "1.5.0",
      "model_name": "DescriptionStyleModel",
      "state": {
       "description_width": ""
      }
     },
     "ce6afaf990c84c259d3e8ad527057242": {
      "model_module": "@jupyter-widgets/controls",
      "model_module_version": "1.5.0",
      "model_name": "HTMLModel",
      "state": {
       "layout": "IPY_MODEL_8a774db97ff94c0abd048f4d68338a2c",
       "style": "IPY_MODEL_b46f2c84536a4348831545cee13a8cf3",
       "value": " 370105/370105 [00:00&lt;00:00, 1051985.23it/s]"
      }
     },
     "cf0402daf2ee45fcb8505c2aadfa3e63": {
      "model_module": "@jupyter-widgets/base",
      "model_module_version": "1.2.0",
      "model_name": "LayoutModel",
      "state": {}
     },
     "cfb8dbbe4f2948738e8f58bc86000b8b": {
      "model_module": "@jupyter-widgets/base",
      "model_module_version": "1.2.0",
      "model_name": "LayoutModel",
      "state": {}
     },
     "dd57164c827e499cb064e47a5e9027cd": {
      "model_module": "@jupyter-widgets/controls",
      "model_module_version": "1.5.0",
      "model_name": "FloatProgressModel",
      "state": {
       "bar_style": "success",
       "layout": "IPY_MODEL_bc796d975b8f4a04a2a14865de873eaa",
       "max": 370105,
       "style": "IPY_MODEL_faccc3bb179646ebbd8056d04a119dc5",
       "value": 370105
      }
     },
     "e5997d7cb9864d32912c3aaff5fecc71": {
      "model_module": "@jupyter-widgets/controls",
      "model_module_version": "1.5.0",
      "model_name": "HTMLModel",
      "state": {
       "layout": "IPY_MODEL_cf0402daf2ee45fcb8505c2aadfa3e63",
       "style": "IPY_MODEL_ac1eabb514a24f9a937e246639965d38",
       "value": " 370105/370105 [00:00&lt;00:00, 913819.64it/s]"
      }
     },
     "e7444e2f14804f8fb8959b0029e7930c": {
      "model_module": "@jupyter-widgets/base",
      "model_module_version": "1.2.0",
      "model_name": "LayoutModel",
      "state": {}
     },
     "e849f07e63f2468d9ca840020e159eb9": {
      "model_module": "@jupyter-widgets/controls",
      "model_module_version": "1.5.0",
      "model_name": "HTMLModel",
      "state": {
       "layout": "IPY_MODEL_413dba186edd4a7fbb9df0b8ef526618",
       "style": "IPY_MODEL_9025d3becb43409ab6755f63f986de3f",
       "value": " 370105/370105 [00:00&lt;00:00, 1076475.24it/s]"
      }
     },
     "ea94096ce34d4c18b1a83642f24c66e1": {
      "model_module": "@jupyter-widgets/base",
      "model_module_version": "1.2.0",
      "model_name": "LayoutModel",
      "state": {}
     },
     "eb5a0a9b465d4ef486c2ee9df61b7b69": {
      "model_module": "@jupyter-widgets/controls",
      "model_module_version": "1.5.0",
      "model_name": "HTMLModel",
      "state": {
       "layout": "IPY_MODEL_271c46952af34c0e90b770baf297ea46",
       "style": "IPY_MODEL_69d0bf415ef34a2bb4b21a5bdc0f6290",
       "value": "100%"
      }
     },
     "ece1b6138ce24098913026777b33ea86": {
      "model_module": "@jupyter-widgets/controls",
      "model_module_version": "1.5.0",
      "model_name": "HTMLModel",
      "state": {
       "layout": "IPY_MODEL_818f68be771442beaaaab17541bb0d30",
       "style": "IPY_MODEL_395320f4a94845efa68a4e478a0062ff",
       "value": "100%"
      }
     },
     "faccc3bb179646ebbd8056d04a119dc5": {
      "model_module": "@jupyter-widgets/controls",
      "model_module_version": "1.5.0",
      "model_name": "ProgressStyleModel",
      "state": {
       "description_width": ""
      }
     },
     "ffa6963b867641b2b94dba206d14d023": {
      "model_module": "@jupyter-widgets/controls",
      "model_module_version": "1.5.0",
      "model_name": "FloatProgressModel",
      "state": {
       "bar_style": "success",
       "layout": "IPY_MODEL_40b38a9d54d04a7fbd107f220c24ff1d",
       "max": 370105,
       "style": "IPY_MODEL_836b9d904d274b90a54a73819dbefa7c",
       "value": 370105
      }
     }
    },
    "version_major": 2,
    "version_minor": 0
   }
  }
 },
 "nbformat": 4,
 "nbformat_minor": 5
}
