{
 "cells": [
  {
   "cell_type": "code",
   "execution_count": 1,
   "id": "695bad9d-fe3d-4f1f-b2e0-5ba1259eb659",
   "metadata": {},
   "outputs": [],
   "source": [
    "import string"
   ]
  },
  {
   "cell_type": "code",
   "execution_count": 2,
   "id": "fabebed2-c9ab-4979-9935-5adeb929034b",
   "metadata": {},
   "outputs": [],
   "source": [
    "from IPython.display import Image, clear_output, display\n",
    "from Libs.Beholder import *\n",
    "from PIL import Image as pilImage\n",
    "\n",
    "a = Beholder(videoFrameGenerator=pullPhoneScreen)\n",
    "\n",
    "a.addLayerModifer(\n",
    "    Beholder_Layer_Chopper_Grayscale(name=\"gray\", from_layer=\"image\", enabled=True)\n",
    ")\n",
    "\n",
    "a.addLayerModifer(\n",
    "    Beholder_Layer_Chopper_AtCord(\n",
    "        name=\"gray_letters\",\n",
    "        from_layer=\"gray\",\n",
    "        x=304,\n",
    "        y=1632,\n",
    "        w=850,\n",
    "        h=860,\n",
    "        enabled=True,\n",
    "    )\n",
    ")"
   ]
  },
  {
   "cell_type": "code",
   "execution_count": 7,
   "id": "561ea48e-1cf5-4bcf-bb92-322b7c4290dd",
   "metadata": {},
   "outputs": [
    {
     "name": "stdout",
     "output_type": "stream",
     "text": [
      "B\n",
      "C\n",
      "D\n",
      "L\n",
      "O\n",
      "S\n",
      "T\n",
      "U\n"
     ]
    }
   ],
   "source": [
    "a.matchers = {}\n",
    "for l in string.ascii_uppercase:\n",
    "    p = Path(f\"./wordtrip_templates/{l}.png\")\n",
    "    if p.exists():\n",
    "        print(l)\n",
    "        a.addMatcher(\n",
    "            Beholder_Image_Matcher(\n",
    "                name=l, layer=\"gray_letters\", filename=str(p), threshhold=0.2\n",
    "            )\n",
    "        )"
   ]
  },
  {
   "cell_type": "code",
   "execution_count": 4,
   "id": "b4c8631e-1984-4638-923f-141c7eb6b8cb",
   "metadata": {},
   "outputs": [
    {
     "data": {
      "text/plain": [
       "370105"
      ]
     },
     "execution_count": 4,
     "metadata": {},
     "output_type": "execute_result"
    }
   ],
   "source": [
    "from pathlib import Path\n",
    "\n",
    "import requests\n",
    "\n",
    "w = Path(\"words.lst\")\n",
    "if not w.exists():\n",
    "    w.write_bytes(\n",
    "        requests.get(\n",
    "            \"https://raw.githubusercontent.com/MariaLuo826/english_words/master/words_alpha.txt\"\n",
    "        ).content\n",
    "    )\n",
    "words = [l.upper() for l in w.read_text().splitlines()]\n",
    "len(words)"
   ]
  },
  {
   "cell_type": "code",
   "execution_count": 8,
   "id": "e1de8f22-c6a5-40fe-be56-23c5e06b2cd4",
   "metadata": {},
   "outputs": [],
   "source": [
    "def wordWorks(w, found_letters):\n",
    "    for l in w:\n",
    "        if l in found_letters:\n",
    "            found_letters.remove(l)\n",
    "        else:\n",
    "            return False\n",
    "    return True"
   ]
  },
  {
   "cell_type": "code",
   "execution_count": 11,
   "id": "9849b821-c1d4-41a8-9c66-b0a21242a746",
   "metadata": {},
   "outputs": [
    {
     "name": "stdout",
     "output_type": "stream",
     "text": [
      "dict_keys(['B', 'D', 'O', 'T', 'U'])\n",
      "BOD\n",
      "BOT\n",
      "BTU\n",
      "BUD\n",
      "BUT\n",
      "DOB\n",
      "DOT\n",
      "DUB\n",
      "DUO\n",
      "OUD\n",
      "OUT\n",
      "TOB\n",
      "TOD\n",
      "TOU\n",
      "TUB\n",
      "UDO\n"
     ]
    }
   ],
   "source": [
    "min_len = 3\n",
    "eq_len = 3\n",
    "matches = a.findMatches()\n",
    "print(matches.keys())\n",
    "for w in words:\n",
    "    found_letters = list(matches.keys())\n",
    "    if eq_len is not None:\n",
    "        if eq_len != len(w):\n",
    "            continue\n",
    "    if len(w) < min_len:\n",
    "        continue\n",
    "    if len(w) > len(found_letters):\n",
    "        continue\n",
    "    if wordWorks(w, found_letters):\n",
    "        print(w)"
   ]
  },
  {
   "cell_type": "code",
   "execution_count": null,
   "id": "ae31c04f-884a-41f3-8038-763f3241d602",
   "metadata": {},
   "outputs": [],
   "source": []
  }
 ],
 "metadata": {
  "kernelspec": {
   "display_name": "Python 3 (ipykernel)",
   "language": "python",
   "name": "python3"
  },
  "language_info": {
   "codemirror_mode": {
    "name": "ipython",
    "version": 3
   },
   "file_extension": ".py",
   "mimetype": "text/x-python",
   "name": "python",
   "nbconvert_exporter": "python",
   "pygments_lexer": "ipython3",
   "version": "3.10.4"
  },
  "scenes_data": {
   "active_scene": "Default Scene",
   "init_scene": "",
   "scenes": [
    "Default Scene"
   ]
  },
  "widgets": {
   "application/vnd.jupyter.widget-state+json": {
    "state": {},
    "version_major": 2,
    "version_minor": 0
   }
  }
 },
 "nbformat": 4,
 "nbformat_minor": 5
}
