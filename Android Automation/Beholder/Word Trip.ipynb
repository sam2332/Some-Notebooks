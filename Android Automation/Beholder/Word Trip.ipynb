{
 "cells": [
  {
   "cell_type": "code",
   "execution_count": 1,
   "id": "31a5b066-0821-480f-be9f-31f318847e5a",
   "metadata": {},
   "outputs": [],
   "source": [
    "import string\n",
    "from copy import deepcopy as copy\n",
    "\n",
    "from IPython.display import Image, clear_output, display\n",
    "from Libs.Beholder import *\n",
    "from PIL import Image as pilImage\n",
    "from tqdm.notebook import tqdm"
   ]
  },
  {
   "cell_type": "code",
   "execution_count": 2,
   "id": "84cd9576-8ceb-446d-9cba-1f16a80551e8",
   "metadata": {},
   "outputs": [],
   "source": [
    "a = Beholder(videoFrameGenerator=pullPhoneScreen)\n",
    "\n",
    "a.addLayerModifer(\n",
    "    Beholder_Layer_Chopper_Grayscale(name=\"gray\", from_layer=\"image\", enabled=True)\n",
    ")\n",
    "\n",
    "a.addLayerModifer(\n",
    "    Beholder_Layer_Chopper_AtCord(\n",
    "        name=\"gray_letters\",\n",
    "        from_layer=\"gray\",\n",
    "        x=304,\n",
    "        y=1632,\n",
    "        w=850,\n",
    "        h=860,\n",
    "        enabled=True,\n",
    "    )\n",
    ")"
   ]
  },
  {
   "cell_type": "code",
   "execution_count": 3,
   "id": "eb32d1c8-4b26-476e-be79-9fc5059fa31d",
   "metadata": {},
   "outputs": [
    {
     "data": {
      "text/plain": [
       "370105"
      ]
     },
     "execution_count": 3,
     "metadata": {},
     "output_type": "execute_result"
    }
   ],
   "source": [
    "from pathlib import Path\n",
    "\n",
    "import requests\n",
    "\n",
    "w = Path(\"words.lst\")\n",
    "if not w.exists():\n",
    "    w.write_bytes(\n",
    "        requests.get(\n",
    "            \"https://raw.githubusercontent.com/MariaLuo826/english_words/master/words_alpha.txt\"\n",
    "        ).content\n",
    "    )\n",
    "words = [l.upper() for l in w.read_text().splitlines()]\n",
    "len(words)"
   ]
  },
  {
   "cell_type": "code",
   "execution_count": 4,
   "id": "9b3f6239-93c5-4960-8881-7c174e323621",
   "metadata": {},
   "outputs": [
    {
     "data": {
      "text/plain": [
       "1000"
      ]
     },
     "execution_count": 4,
     "metadata": {},
     "output_type": "execute_result"
    }
   ],
   "source": [
    "# Top words\n",
    "w = Path(\"1ktopwords.lst\")\n",
    "if not w.exists():\n",
    "    w.write_bytes(\n",
    "        requests.get(\n",
    "            \"https://gist.githubusercontent.com/deekayen/4148741/raw/98d35708fa344717d8eee15d11987de6c8e26d7d/1-1000.txt\"\n",
    "        ).content\n",
    "    )\n",
    "topwords = [l.upper() for l in w.read_text().splitlines()]\n",
    "len(topwords)"
   ]
  },
  {
   "cell_type": "code",
   "execution_count": 5,
   "id": "ac238736-d1c1-4514-9f78-670992badf1e",
   "metadata": {},
   "outputs": [
    {
     "data": {
      "text/plain": [
       "70926"
      ]
     },
     "execution_count": 5,
     "metadata": {},
     "output_type": "execute_result"
    }
   ],
   "source": [
    "# wiki words\n",
    "w = Path(\"wikiwords.lst\")\n",
    "if not w.exists():\n",
    "    w.write_bytes(\n",
    "        requests.get(\n",
    "            \"https://gist.githubusercontent.com/h3xx/1976236/raw/bbabb412261386673eff521dddbe1dc815373b1d/wiki-100k.txt\"\n",
    "        ).content\n",
    "    )\n",
    "wikiwords = list(sorted(list(set([l.upper() for l in w.read_text().splitlines()]))))\n",
    "len(wikiwords)"
   ]
  },
  {
   "cell_type": "code",
   "execution_count": 6,
   "id": "3859927a-cf41-4ccd-aeb1-c38ba710a537",
   "metadata": {},
   "outputs": [
    {
     "data": {
      "text/plain": [
       "1000"
      ]
     },
     "execution_count": 6,
     "metadata": {},
     "output_type": "execute_result"
    }
   ],
   "source": [
    "# h3x words\n",
    "w = Path(\"1ktopwords.lst\")\n",
    "if not w.exists():\n",
    "    w.write_bytes(requests.get(\"\").content)\n",
    "topwords = [l.upper() for l in w.read_text().splitlines()]\n",
    "len(topwords)"
   ]
  },
  {
   "cell_type": "code",
   "execution_count": null,
   "id": "77645dba-89bc-4e1b-9930-5c67e8ee1df5",
   "metadata": {},
   "outputs": [],
   "source": []
  },
  {
   "cell_type": "code",
   "execution_count": null,
   "id": "2f501741-d0d0-467c-b332-d3bea3b13c3d",
   "metadata": {},
   "outputs": [],
   "source": []
  },
  {
   "cell_type": "code",
   "execution_count": 7,
   "id": "7fd54e70-3742-49d9-8fe3-87b775753e8e",
   "metadata": {},
   "outputs": [
    {
     "name": "stdout",
     "output_type": "stream",
     "text": [
      "Loading A\n",
      "Loading B\n",
      "Loading C\n",
      "Loading D\n",
      "Loading E\n",
      "Loading F\n",
      "Loading G\n",
      "Loading H\n",
      "Loading I\n",
      "Loading K\n",
      "Loading L\n",
      "Loading M\n",
      "Loading N\n",
      "Loading O\n",
      "Loading P\n",
      "Loading R\n",
      "Loading S\n",
      "Loading T\n",
      "Loading U\n",
      "Loading V\n",
      "Loading W\n",
      "Loading Y\n",
      "Loading SH\n",
      "Loading skipvideo\n",
      "Loading exit\n",
      "Loading next\n",
      "Loading close\n",
      "Loading claim\n",
      "Loading claim_done\n",
      "Loading gray_x\n"
     ]
    },
    {
     "data": {
      "text/plain": [
       "'\\nfor l in [\"white_x\"]:\\n    print(f\"Loading masked {l}\")\\n    p = Path(f\"./wordtrip_templates/{l}.png\")\\n    a.addMatcher(\\n        Beholder_Image_Matcher(\\n            name=l,\\n            layer=\"gray\",\\n            filename=str(p),\\n            mask_filename=f\"./wordtrip_templates/{l}_mask.png\",\\n            threshhold=0.9,\\n        )\\n    )'"
      ]
     },
     "execution_count": 7,
     "metadata": {},
     "output_type": "execute_result"
    }
   ],
   "source": [
    "a.matchers = {}\n",
    "for l in string.ascii_uppercase:\n",
    "    p = Path(f\"./wordtrip_templates/{l}.png\")\n",
    "    if p.exists():\n",
    "        print(f\"Loading {l}\")\n",
    "        a.addMatcher(\n",
    "            Beholder_Image_Matcher(\n",
    "                name=l,\n",
    "                layer=\"gray_letters\",\n",
    "                filename=str(p),\n",
    "                threshhold=0.9,\n",
    "            )\n",
    "        )\n",
    "\n",
    "for l in [\"SH\"]:\n",
    "    p = Path(f\"./wordtrip_templates/{l}.png\")\n",
    "    if p.exists():\n",
    "        print(f\"Loading {l}\")\n",
    "        a.addMatcher(\n",
    "            Beholder_Image_Matcher(\n",
    "                name=list(l),\n",
    "                layer=\"gray_letters\",\n",
    "                filename=str(p),\n",
    "                threshhold=0.9,\n",
    "            )\n",
    "        )\n",
    "\n",
    "for l in [\"skipvideo\", \"exit\", \"next\", \"close\", \"claim\", \"claim_done\", \"gray_x\"]:\n",
    "    print(f\"Loading {l}\")\n",
    "    p = Path(f\"./wordtrip_templates/{l}.png\")\n",
    "    a.addMatcher(\n",
    "        Beholder_Image_Matcher(\n",
    "            name=l,\n",
    "            layer=\"gray\",\n",
    "            filename=str(p),\n",
    "            threshhold=0.9,\n",
    "        )\n",
    "    )\n",
    "\"\"\"\n",
    "for l in [\"white_x\"]:\n",
    "    print(f\"Loading masked {l}\")\n",
    "    p = Path(f\"./wordtrip_templates/{l}.png\")\n",
    "    a.addMatcher(\n",
    "        Beholder_Image_Matcher(\n",
    "            name=l,\n",
    "            layer=\"gray\",\n",
    "            filename=str(p),\n",
    "            mask_filename=f\"./wordtrip_templates/{l}_mask.png\",\n",
    "            threshhold=0.9,\n",
    "        )\n",
    "    )\"\"\""
   ]
  },
  {
   "cell_type": "code",
   "execution_count": 8,
   "id": "03f21691-8bcb-4a45-952a-3d34dbeee0db",
   "metadata": {},
   "outputs": [
    {
     "data": {
      "image/png": "[encoded data removed]",
      "text/plain": [
       "<PIL.Image.Image image mode=RGBA size=58x58 at 0x7F697A40E9B0>"
      ]
     },
     "metadata": {},
     "output_type": "display_data"
    }
   ],
   "source": [
    "import cv2 as cv\n",
    "\n",
    "templ_incl_alpha_ch = cv.imread(\n",
    "    \"./wordtrip_templates/white_x_mask.png\", cv.IMREAD_UNCHANGED\n",
    ")\n",
    "display(Image.fromarray(templ_incl_alpha_ch))"
   ]
  },
  {
   "cell_type": "code",
   "execution_count": 9,
   "id": "e169feeb-218e-44ed-a8df-a0802b45e61d",
   "metadata": {},
   "outputs": [],
   "source": [
    "def wordWorks(word, found_letters):\n",
    "    found_letters_t = copy(found_letters)\n",
    "    for letter in word:\n",
    "        if letter in found_letters_t:\n",
    "            found_letters_t.remove(letter)\n",
    "        else:\n",
    "            return False\n",
    "    return True"
   ]
  },
  {
   "cell_type": "code",
   "execution_count": 10,
   "id": "510c983f-b607-4b24-932c-c9270fc3b5d4",
   "metadata": {},
   "outputs": [],
   "source": [
    "def generateMoves(myword, matches):\n",
    "    mymatches = copy(matches)\n",
    "    moves = []\n",
    "    for letter in myword:\n",
    "        if letter in mymatches:\n",
    "            if len(mymatches[letter]) > 0:\n",
    "                m = mymatches[letter].pop(0)\n",
    "                moves.append(m.center)\n",
    "\n",
    "    return moves"
   ]
  },
  {
   "cell_type": "code",
   "execution_count": 11,
   "id": "77376266-382c-484c-b98f-fb24153a229b",
   "metadata": {},
   "outputs": [],
   "source": [
    "min_len = 3\n",
    "max_len = 5\n",
    "eq_len = None"
   ]
  },
  {
   "cell_type": "markdown",
   "id": "459eb3d9-6584-46cd-a4ba-df5f90f08ed7",
   "metadata": {},
   "source": [
    "# Manual matcher setup "
   ]
  },
  {
   "cell_type": "code",
   "execution_count": 12,
   "id": "4562d659-25a9-4f98-8558-b855737198f1",
   "metadata": {},
   "outputs": [
    {
     "name": "stdout",
     "output_type": "stream",
     "text": [
      "AddMatch gray_x (1328, 61)\n",
      "AddMatch gray_x (1328, 63)\n",
      "{'gray_x': [<Libs.Beholder.BeholderMatch object at 0x7f6978cfa1a0>, <Libs.Beholder.BeholderMatch object at 0x7f6978cf9360>]}\n",
      "['gray_x', 'gray_x']\n"
     ]
    },
    {
     "data": {
      "application/vnd.jupyter.widget-view+json": {
       "model_id": "e75c9f4b7c904038912e9390a3f2498c",
       "version_major": 2,
       "version_minor": 0
      },
      "text/plain": [
       "  0%|          | 0/370105 [00:00<?, ?it/s]"
      ]
     },
     "metadata": {},
     "output_type": "display_data"
    }
   ],
   "source": [
    "matches = a.findMatches()\n",
    "print(matches)\n",
    "found_letters = []\n",
    "for l in matches:\n",
    "    for _ in range(0, len(matches[l])):\n",
    "        found_letters.append(l)\n",
    "print(found_letters)\n",
    "\n",
    "matching_words = []\n",
    "for word in tqdm(words):\n",
    "    if len(word) < min_len or len(word) > max_len:\n",
    "        continue\n",
    "    if wordWorks(word, found_letters):\n",
    "        matching_words.append(word)\n",
    "matching_words = list(sorted(matching_words, key=len, reverse=True))\n",
    "olen = 0\n",
    "for word in matching_words:\n",
    "    if len(word) != olen:\n",
    "        print()\n",
    "        olen = len(word)\n",
    "    print(word, end=\":\")\n",
    "    print(generateMoves(word, matches))"
   ]
  },
  {
   "cell_type": "code",
   "execution_count": 13,
   "id": "2904f850-14f3-4910-b945-817e20aa696a",
   "metadata": {},
   "outputs": [
    {
     "ename": "Exception",
     "evalue": "Stop",
     "output_type": "error",
     "traceback": [
      "\u001b[0;31m---------------------------------------------------------------------------\u001b[0m",
      "\u001b[0;31mException\u001b[0m                                 Traceback (most recent call last)",
      "Input \u001b[0;32mIn [13]\u001b[0m, in \u001b[0;36m<cell line: 1>\u001b[0;34m()\u001b[0m\n\u001b[0;32m----> 1\u001b[0m \u001b[38;5;28;01mraise\u001b[39;00m \u001b[38;5;167;01mException\u001b[39;00m(\u001b[38;5;124m\"\u001b[39m\u001b[38;5;124mStop\u001b[39m\u001b[38;5;124m\"\u001b[39m)\n",
      "\u001b[0;31mException\u001b[0m: Stop"
     ]
    }
   ],
   "source": [
    "raise Exception(\"Stop\")"
   ]
  },
  {
   "cell_type": "markdown",
   "id": "5b34958a-1c91-42fe-b76d-d7eab4ef0a5f",
   "metadata": {
    "tags": []
   },
   "source": [
    "# Monkey Test"
   ]
  },
  {
   "cell_type": "code",
   "execution_count": 14,
   "id": "17001056-29cd-4ba9-9fcb-f5c814f8f39d",
   "metadata": {},
   "outputs": [],
   "source": [
    "import socket\n",
    "import subprocess\n",
    "import sys\n",
    "\n",
    "\n",
    "class Monkey:\n",
    "    def __init__(self, create_monkey=True):\n",
    "        self.create_monkey = create_monkey\n",
    "        self.port = 9905\n",
    "        self.p = None\n",
    "        self.s = None\n",
    "\n",
    "    def __enter__(self):\n",
    "        if self.p is not None:\n",
    "            self.p.kill()\n",
    "        adb([\"forward\", \"--remove-all\"])\n",
    "        command = [\"adb\", \"shell\", \"monkey\", f\"--port {self.port}\"]\n",
    "        self.p = shell(command, close_fds=True, returns_POpen=True)\n",
    "        adb(f\"forward tcp:{self.port} tcp:{self.port}\")\n",
    "        time.sleep(0.75)\n",
    "        self.connect()\n",
    "        return self\n",
    "\n",
    "    def connect(self):\n",
    "        HOST = \"127.0.0.1\"\n",
    "        PORT = self.port\n",
    "\n",
    "        if self.s is not None:\n",
    "            self.s.close()\n",
    "        self.s = socket.socket(socket.AF_INET, socket.SOCK_STREAM)\n",
    "        self.s.connect((HOST, PORT))\n",
    "\n",
    "    def raw(self, s):\n",
    "        try:\n",
    "            self.s.sendall(f\"{s}\\r\\n\".encode(\"ascii\"))\n",
    "            # return self.s.recv(10)\n",
    "        except Exception as e:\n",
    "            print(\"raw\", e)\n",
    "            self.connect()\n",
    "            return self.raw(s)\n",
    "\n",
    "    def __exit__(self, exc_type, exc_value, exc_traceback):\n",
    "        if self.create_monkey:\n",
    "            self.p.kill()\n",
    "            self.p = None\n",
    "            if self.s is not None:\n",
    "                self.s.close()\n",
    "                self.s = None\n",
    "            print(\"Cleaning up\")\n",
    "            shell([\"adb\", \"forward\", \"--remove-all\"])"
   ]
  },
  {
   "cell_type": "code",
   "execution_count": null,
   "id": "8dbd8f18-0182-4035-a319-0cd6490693ab",
   "metadata": {},
   "outputs": [
    {
     "name": "stdout",
     "output_type": "stream",
     "text": [
      "  bash arg: --port\n",
      "  bash arg: 9905\n"
     ]
    },
    {
     "name": "stderr",
     "output_type": "stream",
     "text": [
      "args: [--port, 9905]\n",
      " arg: \"--port\"\n",
      " arg: \"9905\"\n",
      "arg=\"--port\" mCurArgData=\"null\" mNextArg=1 argwas=\"--port\" nextarg=\"9905\"\n",
      "data=\"9905\"\n"
     ]
    },
    {
     "name": "stdout",
     "output_type": "stream",
     "text": [
      "AddMatch gray_x (1328, 61)\n",
      "AddMatch gray_x (1328, 63)\n",
      "clicking gray_x\n",
      "    // activityResuming(in.playsimple.wordtrip)\n"
     ]
    }
   ],
   "source": [
    "with Monkey() as monkey:\n",
    "    while True:\n",
    "        matches = a.findMatches()\n",
    "        clicked = False\n",
    "        for name in [\n",
    "            \"next\",\n",
    "            \"skipvideo\",\n",
    "            \"exit\",\n",
    "            \"close\",\n",
    "            \"claim\",\n",
    "            \"claim_done\",\n",
    "            \"white_x\",\n",
    "            \"gray_x\",\n",
    "        ]:\n",
    "            if name in matches:\n",
    "                print(f\"clicking {name}\")\n",
    "                c = matches[name][0].center\n",
    "                adb(f\"shell input tap {c[0]} {c[1]}\")\n",
    "                sleep(5)\n",
    "                clicked = True\n",
    "        if clicked:\n",
    "            continue\n",
    "        found_letters = []\n",
    "        for l in matches:\n",
    "            for _ in range(0, len(matches[l])):\n",
    "                found_letters.append(l)\n",
    "        print(found_letters)\n",
    "        if len(found_letters) == 0:\n",
    "            sleep(3)\n",
    "            continue\n",
    "        matching_words = []\n",
    "        for word in tqdm(words):\n",
    "            if len(word) < min_len or len(word) > max_len:\n",
    "                continue\n",
    "            if wordWorks(word, found_letters):\n",
    "                matching_words.append(word)\n",
    "\n",
    "        plen = 0\n",
    "        matching_words = list(sorted(matching_words, key=len, reverse=True))\n",
    "        print(matching_words)\n",
    "        for word in matching_words:\n",
    "            print(word)\n",
    "            x = y = 0\n",
    "            path = generateMoves(word, matches)\n",
    "            print(path)\n",
    "            isDown = False\n",
    "            for x, y in path:\n",
    "                if not isDown:\n",
    "                    cmd = f\"touch down {int(x)} {int(y)}\"\n",
    "                    monkey.raw(cmd)\n",
    "                    isDown = True\n",
    "                    time.sleep(0.5)\n",
    "                    continue\n",
    "                cmd = f\"touch move {int(x)} {int(y)}\"\n",
    "                monkey.raw(cmd)\n",
    "                time.sleep(0.3)\n",
    "            cmd = f\"touch up {int(x)} {int(y)}\"\n",
    "            monkey.raw(cmd)\n",
    "            sleep(0.6)\n",
    "        sleep(3)"
   ]
  },
  {
   "cell_type": "markdown",
   "id": "bdb9411c-dc89-413b-a628-571f2d0fe32a",
   "metadata": {
    "tags": []
   },
   "source": [
    "# Research\n"
   ]
  },
  {
   "cell_type": "code",
   "execution_count": null,
   "id": "8c10902e-a5ac-47a6-8795-f7f0f5e1613b",
   "metadata": {},
   "outputs": [],
   "source": [
    "raise Exception(\"Stop\")"
   ]
  },
  {
   "cell_type": "code",
   "execution_count": null,
   "id": "f9392cec-a3f6-45dd-9f7f-e10500b50b92",
   "metadata": {},
   "outputs": [],
   "source": [
    "matches = a.findMatches()\n",
    "matches"
   ]
  },
  {
   "cell_type": "code",
   "execution_count": null,
   "id": "b077b75f-6f9b-47b6-994d-68d749da25f7",
   "metadata": {},
   "outputs": [],
   "source": [
    "channels = cv2.split(a.matchers[\"white_x\"].data)\n",
    "zero_channel = np.zeros_like(channels[0])"
   ]
  },
  {
   "cell_type": "code",
   "execution_count": null,
   "id": "f6710c11-3c83-42af-af72-0989bfcbd252",
   "metadata": {},
   "outputs": [],
   "source": [
    "mask = np.array(channels[3])"
   ]
  },
  {
   "cell_type": "code",
   "execution_count": null,
   "id": "8482d6af-59ef-49bf-8a2c-40ea8a9d2992",
   "metadata": {},
   "outputs": [],
   "source": [
    "a.matchers"
   ]
  },
  {
   "cell_type": "code",
   "execution_count": null,
   "id": "fe1c51d5-477a-42a0-a919-c0e81922177e",
   "metadata": {},
   "outputs": [],
   "source": [
    "a.matchers[\"white_x\"].show()"
   ]
  },
  {
   "cell_type": "code",
   "execution_count": null,
   "id": "65172295-9edb-4ff6-adfe-2609e3b8dc58",
   "metadata": {},
   "outputs": [],
   "source": [
    "a.layers[\"gray\"].show()"
   ]
  },
  {
   "cell_type": "code",
   "execution_count": null,
   "id": "5bfbea91-901f-4912-b22c-ace37d784fbd",
   "metadata": {},
   "outputs": [],
   "source": [
    "matches[\"T\"][0].center"
   ]
  },
  {
   "cell_type": "code",
   "execution_count": null,
   "id": "ba559bcf-c316-4181-81aa-5968c983dfff",
   "metadata": {},
   "outputs": [],
   "source": [
    "matches[\"N\"][0].center"
   ]
  },
  {
   "cell_type": "markdown",
   "id": "9d5a8fe7-5a0b-49d5-b1f8-f52a88588c9b",
   "metadata": {},
   "source": [
    "shell input touchscreen swipe x1,y1, x2,y2\n",
    "\n",
    "https://github.com/mattwilson1024/android-pattern-unlock/blob/master/unlock.sh"
   ]
  },
  {
   "cell_type": "code",
   "execution_count": null,
   "id": "afdfcc51-fdff-4970-8bb6-f96c75c8ffa7",
   "metadata": {},
   "outputs": [],
   "source": [
    "generateMoves(\"FLEET\", matches)"
   ]
  },
  {
   "cell_type": "code",
   "execution_count": null,
   "id": "d5af8ca1-44bd-4854-a23f-77cdec54e3be",
   "metadata": {},
   "outputs": [],
   "source": [
    "for m in matches[\"E\"]:\n",
    "    print(m, m.center)"
   ]
  },
  {
   "cell_type": "code",
   "execution_count": null,
   "id": "49e307d0-49c7-4d16-bfa6-bf996e3d28d1",
   "metadata": {},
   "outputs": [],
   "source": [
    "matches = a.findMatches()\n",
    "found_letters = []\n",
    "for l in matches:\n",
    "    for _ in range(0, len(matches[l])):\n",
    "        found_letters.append(l)\n",
    "print(found_letters)\n",
    "\n",
    "matching_words = []\n",
    "for word in tqdm(words):\n",
    "    if len(word) < min_len or len(word) > max_len:\n",
    "        continue\n",
    "    if wordWorks(word, found_letters):\n",
    "        matching_words.append(word)\n",
    "\n",
    "matching_words = list(sorted(matching_words, key=len, reverse=True))\n",
    "matching_words"
   ]
  },
  {
   "cell_type": "code",
   "execution_count": null,
   "id": "297d8f65-bd65-4ce7-a36b-5bc88038882a",
   "metadata": {},
   "outputs": [],
   "source": [
    "def StartTouch():\n",
    "    print(\"d\")\n",
    "    adb(\"shell -c sendevent /dev/input/event3 3 57 14\")\n",
    "\n",
    "\n",
    "def SendCoordinates(x, y):\n",
    "    print(x, y)\n",
    "    adb(f\"shell -c sendevent /dev/input/event3 3 53 {x}\")\n",
    "    adb(f\"shell -c sendevent /dev/input/event3 3 54 {y}\")\n",
    "    adb(\"shell -c sendevent /dev/input/event3 3 58 57\")\n",
    "    adb(\"shell -c endevent /dev/input/event3 0 0 0\")\n",
    "\n",
    "\n",
    "def FinishTouch():\n",
    "    print(\"u\")\n",
    "    adb(\"shell sendevent /dev/input/event3 3 57 4294967295\")\n",
    "    adb(\"shell sendevent /dev/input/event3 0 0 0\")"
   ]
  },
  {
   "cell_type": "code",
   "execution_count": null,
   "id": "60ced464-eb1e-4f8f-8fb7-bc4ecd684b46",
   "metadata": {},
   "outputs": [],
   "source": [
    "plen = 0\n",
    "for word in matching_words:\n",
    "    print(word)\n",
    "    x = y = 0\n",
    "    path = generateMoves(word, matches)\n",
    "    print(path)\n",
    "    isDown = False\n",
    "    for x, y in path:\n",
    "        if not isDown:\n",
    "            StartTouch()\n",
    "            time.sleep(1)\n",
    "            isDown = True\n",
    "        SendCoordinates(int(x), int(y))\n",
    "        time.sleep(0.2)\n",
    "    FinishTouch()\n",
    "    sleep(2)"
   ]
  },
  {
   "cell_type": "code",
   "execution_count": null,
   "id": "750dbf0a-d216-4757-a544-3f504e621937",
   "metadata": {},
   "outputs": [],
   "source": []
  },
  {
   "cell_type": "code",
   "execution_count": null,
   "id": "8cadb9e5-e8a3-4a83-b65e-eae0427bece0",
   "metadata": {},
   "outputs": [],
   "source": []
  },
  {
   "cell_type": "code",
   "execution_count": null,
   "id": "b43f85fa-dd32-4e2d-9518-9de99e219bad",
   "metadata": {},
   "outputs": [],
   "source": []
  }
 ],
 "metadata": {
  "kernelspec": {
   "display_name": "Python 3 (ipykernel)",
   "language": "python",
   "name": "python3"
  },
  "language_info": {
   "codemirror_mode": {
    "name": "ipython",
    "version": 3
   },
   "file_extension": ".py",
   "mimetype": "text/x-python",
   "name": "python",
   "nbconvert_exporter": "python",
   "pygments_lexer": "ipython3",
   "version": "3.10.4"
  },
  "scenes_data": {
   "active_scene": "Default Scene",
   "init_scene": "",
   "scenes": [
    "Default Scene"
   ]
  },
  "widgets": {
   "application/vnd.jupyter.widget-state+json": {
    "state": {
     "08605645034249b6870206983328c0bb": {
      "model_module": "@jupyter-widgets/controls",
      "model_module_version": "1.5.0",
      "model_name": "ProgressStyleModel",
      "state": {
       "description_width": ""
      }
     },
     "10606d0938d94897b9649062395abcf8": {
      "model_module": "@jupyter-widgets/base",
      "model_module_version": "1.2.0",
      "model_name": "LayoutModel",
      "state": {}
     },
     "3493c90a71664f38921ba698c3d72186": {
      "model_module": "@jupyter-widgets/base",
      "model_module_version": "1.2.0",
      "model_name": "LayoutModel",
      "state": {}
     },
     "57bf30aecd734a268446b7ffe9ab53f5": {
      "model_module": "@jupyter-widgets/base",
      "model_module_version": "1.2.0",
      "model_name": "LayoutModel",
      "state": {}
     },
     "8a3bc6632cc8468a94f2e1cc5cc798ae": {
      "model_module": "@jupyter-widgets/controls",
      "model_module_version": "1.5.0",
      "model_name": "DescriptionStyleModel",
      "state": {
       "description_width": ""
      }
     },
     "9e01373a049e466495312bf2069aa9a8": {
      "model_module": "@jupyter-widgets/controls",
      "model_module_version": "1.5.0",
      "model_name": "HTMLModel",
      "state": {
       "layout": "IPY_MODEL_10606d0938d94897b9649062395abcf8",
       "style": "IPY_MODEL_dea21aa0435d40b4992fa3f4c06c184f",
       "value": " 370105/370105 [00:00&lt;00:00, 978498.17it/s]"
      }
     },
     "bde79dacb35b4fbfba7d8f8aab327385": {
      "model_module": "@jupyter-widgets/controls",
      "model_module_version": "1.5.0",
      "model_name": "HTMLModel",
      "state": {
       "layout": "IPY_MODEL_cf7550d0d9044b8a938cff81560735dc",
       "style": "IPY_MODEL_8a3bc6632cc8468a94f2e1cc5cc798ae",
       "value": "100%"
      }
     },
     "c3965c6514b94cec931caca353eb8ee1": {
      "model_module": "@jupyter-widgets/controls",
      "model_module_version": "1.5.0",
      "model_name": "FloatProgressModel",
      "state": {
       "bar_style": "success",
       "layout": "IPY_MODEL_3493c90a71664f38921ba698c3d72186",
       "max": 370105,
       "style": "IPY_MODEL_08605645034249b6870206983328c0bb",
       "value": 370105
      }
     },
     "cf7550d0d9044b8a938cff81560735dc": {
      "model_module": "@jupyter-widgets/base",
      "model_module_version": "1.2.0",
      "model_name": "LayoutModel",
      "state": {}
     },
     "dea21aa0435d40b4992fa3f4c06c184f": {
      "model_module": "@jupyter-widgets/controls",
      "model_module_version": "1.5.0",
      "model_name": "DescriptionStyleModel",
      "state": {
       "description_width": ""
      }
     },
     "e75c9f4b7c904038912e9390a3f2498c": {
      "model_module": "@jupyter-widgets/controls",
      "model_module_version": "1.5.0",
      "model_name": "HBoxModel",
      "state": {
       "children": [
        "IPY_MODEL_bde79dacb35b4fbfba7d8f8aab327385",
        "IPY_MODEL_c3965c6514b94cec931caca353eb8ee1",
        "IPY_MODEL_9e01373a049e466495312bf2069aa9a8"
       ],
       "layout": "IPY_MODEL_57bf30aecd734a268446b7ffe9ab53f5"
      }
     }
    },
    "version_major": 2,
    "version_minor": 0
   }
  }
 },
 "nbformat": 4,
 "nbformat_minor": 5
}
