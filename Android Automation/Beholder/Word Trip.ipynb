{
 "cells": [
  {
   "cell_type": "code",
   "execution_count": null,
   "id": "31a5b066-0821-480f-be9f-31f318847e5a",
   "metadata": {},
   "outputs": [],
   "source": [
    "import string\n",
    "from copy import deepcopy as copy\n",
    "\n",
    "from IPython.display import Image, clear_output, display\n",
    "from Libs.Beholder import *\n",
    "from PIL import Image as pilImage\n",
    "from tqdm.notebook import tqdm"
   ]
  },
  {
   "cell_type": "code",
   "execution_count": null,
   "id": "84cd9576-8ceb-446d-9cba-1f16a80551e8",
   "metadata": {},
   "outputs": [],
   "source": [
    "a = Beholder(videoFrameGenerator=pullPhoneScreen)\n",
    "\n",
    "a.addLayerModifer(\n",
    "    Beholder_Layer_Chopper_Grayscale(name=\"gray\", from_layer=\"image\", enabled=True)\n",
    ")\n",
    "\n",
    "a.addLayerModifer(\n",
    "    Beholder_Layer_Chopper_AtCord(\n",
    "        name=\"gray_letters\",\n",
    "        from_layer=\"gray\",\n",
    "        x=304,\n",
    "        y=1632,\n",
    "        w=850,\n",
    "        h=860,\n",
    "        enabled=True,\n",
    "    )\n",
    ")"
   ]
  },
  {
   "cell_type": "code",
   "execution_count": null,
   "id": "eb32d1c8-4b26-476e-be79-9fc5059fa31d",
   "metadata": {},
   "outputs": [],
   "source": [
    "from pathlib import Path\n",
    "\n",
    "import requests\n",
    "\n",
    "w = Path(\"words.lst\")\n",
    "if not w.exists():\n",
    "    w.write_bytes(\n",
    "        requests.get(\n",
    "            \"https://raw.githubusercontent.com/MariaLuo826/english_words/master/words_alpha.txt\"\n",
    "        ).content\n",
    "    )\n",
    "words = [l.upper() for l in w.read_text().splitlines()]\n",
    "len(words)"
   ]
  },
  {
   "cell_type": "code",
   "execution_count": null,
   "id": "9b3f6239-93c5-4960-8881-7c174e323621",
   "metadata": {},
   "outputs": [],
   "source": [
    "# Top words\n",
    "w = Path(\"1ktopwords.lst\")\n",
    "if not w.exists():\n",
    "    w.write_bytes(\n",
    "        requests.get(\n",
    "            \"https://gist.githubusercontent.com/deekayen/4148741/raw/98d35708fa344717d8eee15d11987de6c8e26d7d/1-1000.txt\"\n",
    "        ).content\n",
    "    )\n",
    "topwords = [l.upper() for l in w.read_text().splitlines()]\n",
    "len(topwords)"
   ]
  },
  {
   "cell_type": "code",
   "execution_count": null,
   "id": "ac238736-d1c1-4514-9f78-670992badf1e",
   "metadata": {},
   "outputs": [],
   "source": [
    "# wiki words\n",
    "w = Path(\"wikiwords.lst\")\n",
    "if not w.exists():\n",
    "    w.write_bytes(\n",
    "        requests.get(\n",
    "            \"https://gist.githubusercontent.com/h3xx/1976236/raw/bbabb412261386673eff521dddbe1dc815373b1d/wiki-100k.txt\"\n",
    "        ).content\n",
    "    )\n",
    "wikiwords = list(sorted(list(set([l.upper() for l in w.read_text().splitlines()]))))\n",
    "len(wikiwords)"
   ]
  },
  {
   "cell_type": "code",
   "execution_count": null,
   "id": "3859927a-cf41-4ccd-aeb1-c38ba710a537",
   "metadata": {},
   "outputs": [],
   "source": [
    "# h3x words\n",
    "w = Path(\"1ktopwords.lst\")\n",
    "if not w.exists():\n",
    "    w.write_bytes(requests.get(\"\").content)\n",
    "topwords = [l.upper() for l in w.read_text().splitlines()]\n",
    "len(topwords)"
   ]
  },
  {
   "cell_type": "code",
   "execution_count": null,
   "id": "77645dba-89bc-4e1b-9930-5c67e8ee1df5",
   "metadata": {},
   "outputs": [],
   "source": []
  },
  {
   "cell_type": "code",
   "execution_count": null,
   "id": "2f501741-d0d0-467c-b332-d3bea3b13c3d",
   "metadata": {},
   "outputs": [],
   "source": []
  },
  {
   "cell_type": "code",
   "execution_count": null,
   "id": "7fd54e70-3742-49d9-8fe3-87b775753e8e",
   "metadata": {},
   "outputs": [],
   "source": [
    "a.matchers = {}\n",
    "for l in string.ascii_uppercase:\n",
    "    p = Path(f\"./wordtrip_templates/{l}.png\")\n",
    "    if p.exists():\n",
    "        print(f\"Loading {l}\")\n",
    "        a.addMatcher(\n",
    "            Beholder_Image_Matcher(\n",
    "                name=l,\n",
    "                layer=\"gray_letters\",\n",
    "                filename=str(p),\n",
    "                threshhold=0.9,\n",
    "            )\n",
    "        )\n",
    "\n",
    "for l in [\"claim_backpack\"]:\n",
    "    p = Path(f\"./wordtrip_templates/{l}.png\")\n",
    "    if p.exists():\n",
    "        print(f\"Loading {l}\")\n",
    "        a.addMatcher(\n",
    "            Beholder_Image_Matcher(\n",
    "                name=l,\n",
    "                layer=\"gray\",\n",
    "                filename=str(p),\n",
    "                threshhold=0.9,\n",
    "            )\n",
    "        )\n",
    "for p in Path(\"./wordtrip_templates\").glob(\"close_*.png\"):\n",
    "    print(p)\n",
    "    a.addMatcher(\n",
    "        Beholder_Image_Matcher(\n",
    "            name=p.stem,\n",
    "            layer=\"gray\",\n",
    "            filename=str(p),\n",
    "            threshhold=0.9,\n",
    "        )\n",
    "    )\n",
    "\"\"\"\n",
    "for l in [\"white_x\"]:\n",
    "    print(f\"Loading masked {l}\")\n",
    "    p = Path(f\"./wordtrip_templates/{l}.png\")\n",
    "    a.addMatcher(\n",
    "        Beholder_Image_Matcher(\n",
    "            name=l,\n",
    "            layer=\"gray\",\n",
    "            filename=str(p),\n",
    "            mask_filename=f\"./wordtrip_templates/{l}_mask.png\",\n",
    "            threshhold=0.9,\n",
    "        )\n",
    "    )\"\"\""
   ]
  },
  {
   "cell_type": "code",
   "execution_count": null,
   "id": "e169feeb-218e-44ed-a8df-a0802b45e61d",
   "metadata": {},
   "outputs": [],
   "source": [
    "def wordWorks(word, found_letters):\n",
    "    found_letters_t = copy(found_letters)\n",
    "    for letter in word:\n",
    "        if letter in found_letters_t:\n",
    "            found_letters_t.remove(letter)\n",
    "        else:\n",
    "            return False\n",
    "    return True"
   ]
  },
  {
   "cell_type": "code",
   "execution_count": null,
   "id": "510c983f-b607-4b24-932c-c9270fc3b5d4",
   "metadata": {},
   "outputs": [],
   "source": [
    "def generateMoves(myword, matches):\n",
    "    mymatches = copy(matches)\n",
    "    moves = []\n",
    "    for letter in myword:\n",
    "        if letter in mymatches:\n",
    "            if len(mymatches[letter]) > 0:\n",
    "                m = mymatches[letter].pop(0)\n",
    "                moves.append(m.center)\n",
    "\n",
    "    return moves"
   ]
  },
  {
   "cell_type": "code",
   "execution_count": 156,
   "id": "e2396606-68a1-407e-8040-5af945b4f3cc",
   "metadata": {},
   "outputs": [],
   "source": [
    "def gsColor(layer, x, y, correct=None):\n",
    "    color_data = layer.data[y][x]\n",
    "    if correct is None:\n",
    "        return color_data\n",
    "    for index, element in enumerate(color_data):\n",
    "        if abs(color_data[index] - correct[index]) > 10:\n",
    "            print(\"faile on \", abs(color_data[index] - correct[index]))\n",
    "            return False\n",
    "    return True"
   ]
  },
  {
   "cell_type": "code",
   "execution_count": 162,
   "id": "a5d0f31a-4fd8-439d-be1d-a9da17a25204",
   "metadata": {},
   "outputs": [],
   "source": [
    "def get_color_distance_fast(color_1, color_2):\n",
    "    dist = abs(color_1[0] - color_2[0])\n",
    "    dist += abs(color_1[1] - color_2[1])\n",
    "    dist += abs(color_1[2] - color_2[2])\n",
    "    return dist"
   ]
  },
  {
   "cell_type": "code",
   "execution_count": 169,
   "id": "fcd00c7b-2a14-4749-8341-d65eaf56ec32",
   "metadata": {},
   "outputs": [
    {
     "data": {
      "text/plain": [
       "0"
      ]
     },
     "execution_count": 169,
     "metadata": {},
     "output_type": "execute_result"
    }
   ],
   "source": [
    "get_color_distance_fast(correct, gsColor(a.layers[\"image\"], 58, 58))"
   ]
  },
  {
   "cell_type": "code",
   "execution_count": 171,
   "id": "c085b364-45e2-4812-9d5a-69bf5d7b8cc2",
   "metadata": {},
   "outputs": [
    {
     "data": {
      "text/plain": [
       "33"
      ]
     },
     "execution_count": 171,
     "metadata": {},
     "output_type": "execute_result"
    }
   ],
   "source": [
    "get_color_distance_fast(correct, gsColor(a.layers[\"image\"], 1190, 1588))"
   ]
  },
  {
   "cell_type": "code",
   "execution_count": 172,
   "id": "2e337881-6418-48f7-ae33-b6449b3398f5",
   "metadata": {},
   "outputs": [
    {
     "data": {
      "text/plain": [
       "93"
      ]
     },
     "execution_count": 172,
     "metadata": {},
     "output_type": "execute_result"
    }
   ],
   "source": [
    "get_color_distance_fast(correct, gsColor(a.layers[\"image\"], 700, 1588))"
   ]
  },
  {
   "cell_type": "code",
   "execution_count": null,
   "id": "77376266-382c-484c-b98f-fb24153a229b",
   "metadata": {},
   "outputs": [],
   "source": [
    "min_len = 3\n",
    "max_len = 5\n",
    "eq_len = None"
   ]
  },
  {
   "cell_type": "markdown",
   "id": "459eb3d9-6584-46cd-a4ba-df5f90f08ed7",
   "metadata": {},
   "source": [
    "# Manual matcher setup "
   ]
  },
  {
   "cell_type": "code",
   "execution_count": null,
   "id": "4562d659-25a9-4f98-8558-b855737198f1",
   "metadata": {},
   "outputs": [],
   "source": [
    "matches = a.findMatches()\n",
    "print(matches)\n",
    "found_letters = []\n",
    "for l in matches:\n",
    "    for _ in range(0, len(matches[l])):\n",
    "        found_letters.append(l)\n",
    "print(found_letters)\n",
    "\n",
    "matching_words = []\n",
    "for word in tqdm(words):\n",
    "    if len(word) < min_len or len(word) > max_len:\n",
    "        continue\n",
    "    if wordWorks(word, found_letters):\n",
    "        matching_words.append(word)\n",
    "matching_words = list(sorted(matching_words, key=len, reverse=True))\n",
    "olen = 0\n",
    "for word in matching_words:\n",
    "    if len(word) != olen:\n",
    "        print()\n",
    "        olen = len(word)\n",
    "    print(word, end=\":\")\n",
    "    print(generateMoves(word, matches))"
   ]
  },
  {
   "cell_type": "code",
   "execution_count": null,
   "id": "58a3bd17-d2c7-49e3-b888-22a22be612ae",
   "metadata": {},
   "outputs": [],
   "source": [
    "correct = [99, 69, 8]\n",
    "\n",
    "print(gsColor(a.layers[\"image\"], 58, 58))"
   ]
  },
  {
   "cell_type": "code",
   "execution_count": null,
   "id": "2904f850-14f3-4910-b945-817e20aa696a",
   "metadata": {},
   "outputs": [],
   "source": [
    "raise Exception(\"Stop\")"
   ]
  },
  {
   "cell_type": "markdown",
   "id": "5b34958a-1c91-42fe-b76d-d7eab4ef0a5f",
   "metadata": {
    "tags": []
   },
   "source": [
    "# Monkey Test"
   ]
  },
  {
   "cell_type": "code",
   "execution_count": 158,
   "id": "aedc3230-b0c4-402a-a266-9e01e29b873a",
   "metadata": {},
   "outputs": [],
   "source": [
    "import socket\n",
    "import subprocess\n",
    "import sys\n",
    "\n",
    "\n",
    "class Monkey:\n",
    "    def __init__(self, create_monkey=True):\n",
    "        self.create_monkey = create_monkey\n",
    "        self.port = 9905\n",
    "        self.p = None\n",
    "        self.s = None\n",
    "\n",
    "    def __enter__(self):\n",
    "        if self.p is not None:\n",
    "            self.p.kill()\n",
    "        adb([\"forward\", \"--remove-all\"])\n",
    "        command = [\"adb\", \"shell\", \"monkey\", f\"--port {self.port}\"]\n",
    "        self.p = shell(command, close_fds=True, returns_POpen=True)\n",
    "        adb(f\"forward tcp:{self.port} tcp:{self.port}\")\n",
    "        time.sleep(0.75)\n",
    "        self.connect()\n",
    "        return self\n",
    "\n",
    "    def connect(self):\n",
    "        HOST = \"127.0.0.1\"\n",
    "        PORT = self.port\n",
    "\n",
    "        if self.s is not None:\n",
    "            self.s.close()\n",
    "        self.s = socket.socket(socket.AF_INET, socket.SOCK_STREAM)\n",
    "        self.s.connect((HOST, PORT))\n",
    "\n",
    "    def raw(self, s):\n",
    "        try:\n",
    "            self.s.sendall(f\"{s}\\r\\n\".encode(\"ascii\"))\n",
    "            # return self.s.recv(10)\n",
    "        except Exception as e:\n",
    "            print(\"raw\", e)\n",
    "            self.connect()\n",
    "            return self.raw(s)\n",
    "\n",
    "    def __exit__(self, exc_type, exc_value, exc_traceback):\n",
    "        if self.create_monkey:\n",
    "            self.p.kill()\n",
    "            self.p = None\n",
    "            if self.s is not None:\n",
    "                self.s.close()\n",
    "                self.s = None\n",
    "            print(\"Cleaning up\")\n",
    "            shell([\"adb\", \"forward\", \"--remove-all\"])"
   ]
  },
  {
   "cell_type": "code",
   "execution_count": null,
   "id": "8dbd8f18-0182-4035-a319-0cd6490693ab",
   "metadata": {
    "scrolled": true,
    "tags": []
   },
   "outputs": [
    {
     "name": "stdout",
     "output_type": "stream",
     "text": [
      "  bash arg: --port\n",
      "  bash arg: 9905\n"
     ]
    },
    {
     "name": "stderr",
     "output_type": "stream",
     "text": [
      "args: [--port, 9905]\n",
      " arg: \"--port\"\n",
      " arg: \"9905\"\n",
      "arg=\"--port\" mCurArgData=\"null\" mNextArg=1 argwas=\"--port\" nextarg=\"9905\"\n",
      "data=\"9905\"\n"
     ]
    },
    {
     "name": "stdout",
     "output_type": "stream",
     "text": [
      "    // activityResuming(in.playsimple.wordtrip)\n",
      "AddMatch close_0 (723, 44)\n",
      "clicking close_0\n",
      "AddMatch H (471, 2205)\n",
      "AddMatch O (810, 2193)\n",
      "AddMatch R (357, 1861)\n",
      "AddMatch T (931, 1850)\n",
      "AddMatch W (612, 1647)\n",
      "['H', 'O', 'R', 'T', 'W']\n"
     ]
    },
    {
     "data": {
      "application/vnd.jupyter.widget-view+json": {
       "model_id": "2ea505971a744353846b2f8114c463bb",
       "version_major": 2,
       "version_minor": 0
      },
      "text/plain": [
       "  0%|          | 0/370105 [00:00<?, ?it/s]"
      ]
     },
     "metadata": {},
     "output_type": "display_data"
    },
    {
     "name": "stdout",
     "output_type": "stream",
     "text": [
      "['ROWTH', 'THROW', 'WHORT', 'WORTH', 'WROTH', 'HORT', 'ORTH', 'ROWT', 'THOR', 'THOW', 'THRO', 'TROW', 'WORT', 'HOR', 'HOT', 'HOW', 'HWT', 'ORT', 'OWT', 'RHO', 'ROT', 'ROW', 'RTW', 'THO', 'TOR', 'TOW', 'TWO', 'WHO', 'WHR', 'WOT', 'WRO']\n",
      "finished i think\n",
      "[]\n",
      "[]\n",
      "[]\n",
      "[]\n",
      "[]\n",
      "[]\n",
      "AddMatch H (471, 2205)\n",
      "AddMatch O (810, 2193)\n",
      "AddMatch R (357, 1861)\n",
      "AddMatch T (931, 1850)\n",
      "AddMatch W (612, 1647)\n",
      "['H', 'O', 'R', 'T', 'W']\n"
     ]
    },
    {
     "data": {
      "application/vnd.jupyter.widget-view+json": {
       "model_id": "4cdd975383b34ee2b45f8e0f9b601568",
       "version_major": 2,
       "version_minor": 0
      },
      "text/plain": [
       "  0%|          | 0/370105 [00:00<?, ?it/s]"
      ]
     },
     "metadata": {},
     "output_type": "display_data"
    },
    {
     "name": "stdout",
     "output_type": "stream",
     "text": [
      "['ROWTH', 'THROW', 'WHORT', 'WORTH', 'WROTH', 'HORT', 'ORTH', 'ROWT', 'THOR', 'THOW', 'THRO', 'TROW', 'WORT', 'HOR', 'HOT', 'HOW', 'HWT', 'ORT', 'OWT', 'RHO', 'ROT', 'ROW', 'RTW', 'THO', 'TOR', 'TOW', 'TWO', 'WHO', 'WHR', 'WOT', 'WRO']\n",
      "ROWTH\n",
      "[(357, 1861), (810, 2193), (612, 1647), (931, 1850), (471, 2205)]\n",
      "THROW\n",
      "[(931, 1850), (471, 2205), (357, 1861), (810, 2193), (612, 1647)]\n",
      "WHORT\n",
      "[(612, 1647), (471, 2205), (810, 2193), (357, 1861), (931, 1850)]\n",
      "WORTH\n",
      "[(612, 1647), (810, 2193), (357, 1861), (931, 1850), (471, 2205)]\n",
      "WROTH\n",
      "[(612, 1647), (357, 1861), (810, 2193), (931, 1850), (471, 2205)]\n",
      "HORT\n",
      "[(471, 2205), (810, 2193), (357, 1861), (931, 1850)]\n",
      "ORTH\n",
      "[(810, 2193), (357, 1861), (931, 1850), (471, 2205)]\n",
      "ROWT\n",
      "[(357, 1861), (810, 2193), (612, 1647), (931, 1850)]\n",
      "THOR\n",
      "[(931, 1850), (471, 2205), (810, 2193), (357, 1861)]\n",
      "THOW\n",
      "[(931, 1850), (471, 2205), (810, 2193), (612, 1647)]\n",
      "THRO\n",
      "[(931, 1850), (471, 2205), (357, 1861), (810, 2193)]\n",
      "TROW\n",
      "[(931, 1850), (357, 1861), (810, 2193), (612, 1647)]\n",
      "WORT\n",
      "[(612, 1647), (810, 2193), (357, 1861), (931, 1850)]\n",
      "HOR\n",
      "[(471, 2205), (810, 2193), (357, 1861)]\n",
      "HOT\n",
      "[(471, 2205), (810, 2193), (931, 1850)]\n",
      "HOW\n",
      "[(471, 2205), (810, 2193), (612, 1647)]\n",
      "HWT\n",
      "[(471, 2205), (612, 1647), (931, 1850)]\n",
      "ORT\n",
      "[(810, 2193), (357, 1861), (931, 1850)]\n",
      "OWT\n",
      "[(810, 2193), (612, 1647), (931, 1850)]\n",
      "RHO\n",
      "[(357, 1861), (471, 2205), (810, 2193)]\n",
      "ROT\n",
      "[(357, 1861), (810, 2193), (931, 1850)]\n",
      "ROW\n",
      "[(357, 1861), (810, 2193), (612, 1647)]\n",
      "RTW\n",
      "[(357, 1861), (931, 1850), (612, 1647)]\n",
      "THO\n",
      "[(931, 1850), (471, 2205), (810, 2193)]\n",
      "TOR\n",
      "[(931, 1850), (810, 2193), (357, 1861)]\n",
      "TOW\n",
      "[(931, 1850), (810, 2193), (612, 1647)]\n",
      "TWO\n",
      "[(931, 1850), (612, 1647), (810, 2193)]\n",
      "WHO\n",
      "[(612, 1647), (471, 2205), (810, 2193)]\n",
      "WHR\n",
      "[(612, 1647), (471, 2205), (357, 1861)]\n",
      "finished i think\n",
      "AddMatch close_6 (520, 2386)\n",
      "clicking close_6\n",
      "AddMatch close_6 (520, 2388)\n",
      "clicking close_6\n",
      "AddMatch close_5 (1336, 57)\n",
      "clicking close_5\n",
      "[]\n",
      "[]\n",
      "[]\n",
      "    // activityResuming(in.playsimple.wordtrip)\n",
      "    // activityResuming(in.playsimple.wordtrip)\n",
      "AddMatch close_5 (1336, 57)\n",
      "clicking close_5\n",
      "AddMatch A (813, 2179)\n",
      "AddMatch E (934, 1863)\n",
      "AddMatch R (645, 1652)\n",
      "AddMatch T (466, 2188)\n",
      "AddMatch W (325, 1856)\n",
      "['A', 'E', 'R', 'T', 'W']\n"
     ]
    },
    {
     "data": {
      "application/vnd.jupyter.widget-view+json": {
       "model_id": "8ffa03be372d402c91efb9a19dcb86c4",
       "version_major": 2,
       "version_minor": 0
      },
      "text/plain": [
       "  0%|          | 0/370105 [00:00<?, ?it/s]"
      ]
     },
     "metadata": {},
     "output_type": "display_data"
    },
    {
     "name": "stdout",
     "output_type": "stream",
     "text": [
      "['TAWER', 'WATER', 'WREAT', 'ARET', 'AREW', 'ARTE', 'ERAT', 'RATE', 'TARE', 'TEAR', 'TERA', 'TEWA', 'TWAE', 'WAER', 'WARE', 'WART', 'WEAR', 'WERT', 'WETA', 'AER', 'AET', 'ARE', 'ART', 'ATE', 'AWE', 'EAR', 'EAT', 'ERA', 'ETA', 'RAT', 'RAW', 'REA', 'RET', 'REW', 'RTE', 'RTW', 'TAE', 'TAR', 'TAW', 'TEA', 'TER', 'TEW', 'TRA', 'TWA', 'WAE', 'WAR', 'WAT', 'WEA', 'WER', 'WET']\n",
      "finished i think\n",
      "[]\n",
      "[]\n",
      "[]\n",
      "[]\n",
      "[]\n",
      "[]\n",
      "[]\n",
      "[]\n",
      "[]\n",
      "[]\n",
      "[]\n",
      "[]\n",
      "[]\n",
      "[]\n",
      "[]\n",
      "[]\n",
      "[]\n",
      "[]\n",
      "[]\n",
      "[]\n",
      "[]\n",
      "[]\n",
      "[]\n",
      "[]\n",
      "[]\n",
      "[]\n",
      "[]\n",
      "[]\n",
      "[]\n",
      "[]\n",
      "[]\n",
      "[]\n",
      "[]\n",
      "[]\n",
      "[]\n",
      "[]\n",
      "[]\n",
      "[]\n",
      "[]\n",
      "[]\n",
      "[]\n",
      "[]\n",
      "[]\n",
      "[]\n",
      "[]\n",
      "[]\n",
      "[]\n",
      "[]\n",
      "[]\n",
      "[]\n",
      "[]\n",
      "[]\n",
      "[]\n",
      "[]\n",
      "[]\n",
      "[]\n",
      "[]\n",
      "[]\n",
      "[]\n",
      "[]\n",
      "[]\n",
      "[]\n",
      "[]\n",
      "[]\n",
      "[]\n",
      "[]\n",
      "[]\n",
      "[]\n",
      "[]\n",
      "[]\n",
      "[]\n",
      "[]\n",
      "[]\n",
      "[]\n",
      "[]\n",
      "[]\n",
      "[]\n",
      "[]\n",
      "[]\n",
      "[]\n",
      "[]\n",
      "[]\n",
      "[]\n",
      "[]\n",
      "[]\n",
      "[]\n",
      "[]\n",
      "[]\n",
      "[]\n",
      "[]\n",
      "[]\n",
      "[]\n",
      "[]\n",
      "[]\n",
      "[]\n",
      "[]\n",
      "[]\n",
      "[]\n",
      "[]\n",
      "[]\n",
      "[]\n",
      "[]\n",
      "[]\n",
      "[]\n",
      "[]\n",
      "[]\n",
      "[]\n",
      "[]\n",
      "[]\n",
      "[]\n",
      "[]\n",
      "[]\n",
      "[]\n",
      "[]\n",
      "[]\n",
      "[]\n",
      "[]\n",
      "[]\n",
      "[]\n",
      "[]\n",
      "[]\n",
      "[]\n",
      "[]\n",
      "[]\n",
      "[]\n",
      "[]\n",
      "[]\n",
      "[]\n",
      "[]\n",
      "[]\n",
      "[]\n",
      "[]\n",
      "[]\n",
      "[]\n",
      "[]\n",
      "[]\n",
      "[]\n",
      "[]\n",
      "[]\n",
      "[]\n",
      "[]\n",
      "[]\n",
      "[]\n",
      "[]\n",
      "[]\n",
      "[]\n",
      "[]\n",
      "[]\n",
      "[]\n",
      "[]\n",
      "[]\n",
      "[]\n",
      "[]\n",
      "[]\n",
      "[]\n",
      "[]\n",
      "[]\n",
      "[]\n",
      "[]\n",
      "[]\n",
      "[]\n",
      "[]\n",
      "[]\n",
      "[]\n",
      "[]\n",
      "[]\n",
      "[]\n",
      "[]\n",
      "[]\n",
      "[]\n",
      "[]\n",
      "[]\n",
      "[]\n",
      "[]\n",
      "[]\n",
      "[]\n",
      "[]\n",
      "[]\n",
      "[]\n",
      "[]\n",
      "[]\n",
      "[]\n",
      "[]\n",
      "[]\n",
      "[]\n",
      "[]\n",
      "[]\n",
      "[]\n",
      "[]\n",
      "[]\n",
      "[]\n",
      "[]\n",
      "[]\n",
      "[]\n",
      "[]\n",
      "[]\n",
      "[]\n",
      "[]\n",
      "[]\n",
      "[]\n",
      "[]\n",
      "[]\n",
      "[]\n",
      "[]\n",
      "[]\n",
      "[]\n",
      "[]\n",
      "[]\n",
      "[]\n",
      "[]\n",
      "[]\n",
      "[]\n",
      "[]\n",
      "[]\n",
      "[]\n",
      "[]\n",
      "[]\n",
      "[]\n",
      "[]\n",
      "[]\n",
      "[]\n",
      "[]\n",
      "[]\n",
      "[]\n",
      "[]\n",
      "[]\n",
      "[]\n",
      "[]\n",
      "[]\n",
      "[]\n",
      "[]\n",
      "[]\n",
      "[]\n",
      "[]\n",
      "[]\n",
      "[]\n",
      "[]\n",
      "[]\n",
      "[]\n",
      "[]\n",
      "[]\n",
      "[]\n",
      "[]\n",
      "[]\n",
      "[]\n",
      "[]\n",
      "AddMatch A (813, 2179)\n",
      "AddMatch E (934, 1863)\n",
      "AddMatch R (645, 1652)\n",
      "AddMatch T (466, 2188)\n",
      "AddMatch W (325, 1856)\n",
      "['A', 'E', 'R', 'T', 'W']\n"
     ]
    },
    {
     "data": {
      "application/vnd.jupyter.widget-view+json": {
       "model_id": "e6ab1578f5b9494d9831486dde99356f",
       "version_major": 2,
       "version_minor": 0
      },
      "text/plain": [
       "  0%|          | 0/370105 [00:00<?, ?it/s]"
      ]
     },
     "metadata": {},
     "output_type": "display_data"
    },
    {
     "name": "stdout",
     "output_type": "stream",
     "text": [
      "['TAWER', 'WATER', 'WREAT', 'ARET', 'AREW', 'ARTE', 'ERAT', 'RATE', 'TARE', 'TEAR', 'TERA', 'TEWA', 'TWAE', 'WAER', 'WARE', 'WART', 'WEAR', 'WERT', 'WETA', 'AER', 'AET', 'ARE', 'ART', 'ATE', 'AWE', 'EAR', 'EAT', 'ERA', 'ETA', 'RAT', 'RAW', 'REA', 'RET', 'REW', 'RTE', 'RTW', 'TAE', 'TAR', 'TAW', 'TEA', 'TER', 'TEW', 'TRA', 'TWA', 'WAE', 'WAR', 'WAT', 'WEA', 'WER', 'WET']\n",
      "TAWER\n",
      "[(466, 2188), (813, 2179), (325, 1856), (934, 1863), (645, 1652)]\n",
      "WATER\n",
      "[(325, 1856), (813, 2179), (466, 2188), (934, 1863), (645, 1652)]\n",
      "WREAT\n",
      "[(325, 1856), (645, 1652), (934, 1863), (813, 2179), (466, 2188)]\n",
      "ARET\n",
      "[(813, 2179), (645, 1652), (934, 1863), (466, 2188)]\n",
      "AREW\n",
      "[(813, 2179), (645, 1652), (934, 1863), (325, 1856)]\n",
      "ARTE\n",
      "[(813, 2179), (645, 1652), (466, 2188), (934, 1863)]\n",
      "ERAT\n",
      "[(934, 1863), (645, 1652), (813, 2179), (466, 2188)]\n",
      "RATE\n",
      "[(645, 1652), (813, 2179), (466, 2188), (934, 1863)]\n",
      "TARE\n",
      "[(466, 2188), (813, 2179), (645, 1652), (934, 1863)]\n",
      "TEAR\n",
      "[(466, 2188), (934, 1863), (813, 2179), (645, 1652)]\n",
      "TERA\n",
      "[(466, 2188), (934, 1863), (645, 1652), (813, 2179)]\n",
      "TEWA\n",
      "[(466, 2188), (934, 1863), (325, 1856), (813, 2179)]\n",
      "TWAE\n",
      "[(466, 2188), (325, 1856), (813, 2179), (934, 1863)]\n",
      "WAER\n",
      "[(325, 1856), (813, 2179), (934, 1863), (645, 1652)]\n",
      "WARE\n",
      "[(325, 1856), (813, 2179), (645, 1652), (934, 1863)]\n",
      "WART\n",
      "[(325, 1856), (813, 2179), (645, 1652), (466, 2188)]\n",
      "WEAR\n",
      "[(325, 1856), (934, 1863), (813, 2179), (645, 1652)]\n",
      "WERT\n",
      "[(325, 1856), (934, 1863), (645, 1652), (466, 2188)]\n",
      "finished i think\n",
      "AddMatch close_6 (519, 2387)\n",
      "clicking close_6\n",
      "AddMatch close_6 (520, 2386)\n",
      "clicking close_6\n",
      "AddMatch close_0 (759, 44)\n",
      "clicking close_0\n",
      "    // activityResuming(in.playsimple.wordtrip)\n",
      "AddMatch close_0 (759, 44)\n",
      "clicking close_0\n",
      "AddMatch F (820, 2195)\n",
      "AddMatch M (453, 2200)\n",
      "AddMatch O (633, 1646)\n",
      "AddMatch R (357, 1861)\n",
      "AddMatch U (930, 1861)\n",
      "['F', 'M', 'O', 'R', 'U']\n"
     ]
    },
    {
     "data": {
      "application/vnd.jupyter.widget-view+json": {
       "model_id": "10421d03c3b044779383b00ae89bf2b9",
       "version_major": 2,
       "version_minor": 0
      },
      "text/plain": [
       "  0%|          | 0/370105 [00:00<?, ?it/s]"
      ]
     },
     "metadata": {},
     "output_type": "display_data"
    },
    {
     "name": "stdout",
     "output_type": "stream",
     "text": [
      "['FORUM', 'FORM', 'FOUR', 'FROM', 'FOR', 'FOU', 'FRO', 'FUM', 'FUR', 'MFR', 'MOR', 'MOU', 'MRU', 'ORF', 'OUF', 'OUR', 'ROM', 'RUM', 'UFO', 'URF', 'URO']\n",
      "finished i think\n",
      "[]\n",
      "[]\n",
      "AddMatch F (820, 2195)\n",
      "AddMatch M (453, 2200)\n",
      "AddMatch O (633, 1646)\n",
      "AddMatch R (357, 1861)\n",
      "AddMatch U (930, 1861)\n",
      "['F', 'M', 'O', 'R', 'U']\n"
     ]
    },
    {
     "data": {
      "application/vnd.jupyter.widget-view+json": {
       "model_id": "dbd0df908d9d4d89ba1678ae81155f3f",
       "version_major": 2,
       "version_minor": 0
      },
      "text/plain": [
       "  0%|          | 0/370105 [00:00<?, ?it/s]"
      ]
     },
     "metadata": {},
     "output_type": "display_data"
    },
    {
     "name": "stdout",
     "output_type": "stream",
     "text": [
      "['FORUM', 'FORM', 'FOUR', 'FROM', 'FOR', 'FOU', 'FRO', 'FUM', 'FUR', 'MFR', 'MOR', 'MOU', 'MRU', 'ORF', 'OUF', 'OUR', 'ROM', 'RUM', 'UFO', 'URF', 'URO']\n",
      "FORUM\n",
      "[(820, 2195), (633, 1646), (357, 1861), (930, 1861), (453, 2200)]\n",
      "FORM\n",
      "[(820, 2195), (633, 1646), (357, 1861), (453, 2200)]\n"
     ]
    }
   ],
   "source": [
    "with Monkey() as monkey:\n",
    "    while True:\n",
    "        matches = a.findMatches()\n",
    "        clicked = False\n",
    "\n",
    "        closeButtones = list(\n",
    "            filter(\n",
    "                None, [name if name.startswith(\"close_\") else None for name in matches]\n",
    "            )\n",
    "        )\n",
    "        if len(closeButtones) > 0:\n",
    "            m = matches[closeButtones[0]][0]\n",
    "            print(f\"clicking {m.matcher.name}\")\n",
    "            c = m.center\n",
    "            cmd = f\"touch down {c[0]} {c[1]}\"\n",
    "            monkey.raw(cmd)\n",
    "            for _ in range(0, 10):\n",
    "                for i in range(-2, 2):\n",
    "                    for y in range(-2, 2):\n",
    "                        cmd = f\"touch move {c[0]+i} {c[1]+y}\"\n",
    "                        monkey.raw(cmd)\n",
    "\n",
    "            cmd = f\"touch up {c[0]} {c[1]}\"\n",
    "            monkey.raw(cmd)\n",
    "            continue\n",
    "        if \"claim_backpack\" in matches:\n",
    "            m = matches[\"claim_backpack\"][0]\n",
    "            print(f\"clicking {m.matcher.name}\")\n",
    "            c = m.center\n",
    "            adb(f\"shell input tap {c[0]} {c[1]}\")\n",
    "            continue\n",
    "        found_letters = []\n",
    "        for l in matches:\n",
    "            for _ in range(0, len(matches[l])):\n",
    "                found_letters.append(l)\n",
    "        print(found_letters)\n",
    "        if len(found_letters) == 0:\n",
    "            sleep(3)\n",
    "            continue\n",
    "        matching_words = []\n",
    "        for word in tqdm(words):\n",
    "            if len(word) < min_len or len(word) > max_len:\n",
    "                continue\n",
    "            if wordWorks(word, found_letters):\n",
    "                matching_words.append(word)\n",
    "\n",
    "        plen = 0\n",
    "        matching_words = list(sorted(matching_words, key=len, reverse=True))\n",
    "        print(matching_words)\n",
    "        for word in matching_words:\n",
    "            a.readNextImage()\n",
    "            if (\n",
    "                get_color_distance_fast(\n",
    "                    [74, 57, 58], gsColor(a.layers[\"image\"], 682, 64)\n",
    "                )\n",
    "                < 40\n",
    "            ):\n",
    "                print(word)\n",
    "                x = y = 0\n",
    "                path = generateMoves(word, matches)\n",
    "                print(path)\n",
    "                isDown = False\n",
    "                for x, y in path:\n",
    "                    if not isDown:\n",
    "                        cmd = f\"touch down {int(x)} {int(y)}\"\n",
    "                        monkey.raw(cmd)\n",
    "                        isDown = True\n",
    "                        time.sleep(0.5)\n",
    "                        continue\n",
    "                    cmd = f\"touch move {int(x)} {int(y)}\"\n",
    "                    monkey.raw(cmd)\n",
    "                    time.sleep(0.2)\n",
    "                cmd = f\"touch up {int(x)} {int(y)}\"\n",
    "                monkey.raw(cmd)\n",
    "                sleep(0.6)\n",
    "            else:\n",
    "                print(\"finished i think\")\n",
    "                break\n",
    "        sleep(3)"
   ]
  },
  {
   "cell_type": "markdown",
   "id": "bdb9411c-dc89-413b-a628-571f2d0fe32a",
   "metadata": {
    "tags": []
   },
   "source": [
    "# Research\n"
   ]
  },
  {
   "cell_type": "code",
   "execution_count": null,
   "id": "8c10902e-a5ac-47a6-8795-f7f0f5e1613b",
   "metadata": {},
   "outputs": [],
   "source": [
    "raise Exception(\"Stop\")"
   ]
  },
  {
   "cell_type": "code",
   "execution_count": null,
   "id": "b077b75f-6f9b-47b6-994d-68d749da25f7",
   "metadata": {},
   "outputs": [],
   "source": [
    "channels = cv2.split(a.matchers[\"white_x\"].data)\n",
    "zero_channel = np.zeros_like(channels[0])"
   ]
  },
  {
   "cell_type": "code",
   "execution_count": null,
   "id": "62b0c820-d0cf-4743-9d63-94e7c27af59d",
   "metadata": {},
   "outputs": [],
   "source": [
    "mask = np.array(channels[3])"
   ]
  },
  {
   "cell_type": "code",
   "execution_count": 191,
   "id": "f9392cec-a3f6-45dd-9f7f-e10500b50b92",
   "metadata": {},
   "outputs": [
    {
     "name": "stdout",
     "output_type": "stream",
     "text": [
      "AddMatch D (473, 2196)\n",
      "AddMatch F (644, 1648)\n",
      "AddMatch L (940, 1864)\n",
      "AddMatch O (345, 1855)\n",
      "AddMatch O (810, 2193)\n"
     ]
    },
    {
     "data": {
      "text/plain": [
       "{'D': [<Libs.Beholder.BeholderMatch at 0x7f69398b26b0>],\n",
       " 'F': [<Libs.Beholder.BeholderMatch at 0x7f693993b250>],\n",
       " 'L': [<Libs.Beholder.BeholderMatch at 0x7f69397580d0>],\n",
       " 'O': [<Libs.Beholder.BeholderMatch at 0x7f6939759390>,\n",
       "  <Libs.Beholder.BeholderMatch at 0x7f693975ac20>]}"
      ]
     },
     "execution_count": 191,
     "metadata": {},
     "output_type": "execute_result"
    }
   ],
   "source": [
    "matches = a.findMatches()\n",
    "matches"
   ]
  },
  {
   "cell_type": "code",
   "execution_count": null,
   "id": "480b20cc-497d-48e2-a30a-a70ad6f7c35f",
   "metadata": {},
   "outputs": [],
   "source": [
    "a.matchers"
   ]
  },
  {
   "cell_type": "code",
   "execution_count": 180,
   "id": "f7c974c5-2f40-49a5-88d0-27e179a49a79",
   "metadata": {},
   "outputs": [
    {
     "data": {
      "text/plain": [
       "175"
      ]
     },
     "execution_count": 180,
     "metadata": {},
     "output_type": "execute_result"
    }
   ],
   "source": [
    "get_color_distance_fast(correct, gsColor(a.layers[\"image\"], 1190, 1588))"
   ]
  },
  {
   "cell_type": "code",
   "execution_count": null,
   "id": "fe1c51d5-477a-42a0-a919-c0e81922177e",
   "metadata": {},
   "outputs": [],
   "source": [
    "a.matchers[\"white_x\"].show()"
   ]
  },
  {
   "cell_type": "code",
   "execution_count": null,
   "id": "65172295-9edb-4ff6-adfe-2609e3b8dc58",
   "metadata": {},
   "outputs": [],
   "source": [
    "a.layers[\"gray\"].show()"
   ]
  },
  {
   "cell_type": "code",
   "execution_count": null,
   "id": "5bfbea91-901f-4912-b22c-ace37d784fbd",
   "metadata": {},
   "outputs": [],
   "source": [
    "matches[\"T\"][0].center"
   ]
  },
  {
   "cell_type": "code",
   "execution_count": null,
   "id": "ba559bcf-c316-4181-81aa-5968c983dfff",
   "metadata": {},
   "outputs": [],
   "source": [
    "matches[\"N\"][0].center"
   ]
  },
  {
   "cell_type": "markdown",
   "id": "9d5a8fe7-5a0b-49d5-b1f8-f52a88588c9b",
   "metadata": {},
   "source": [
    "shell input touchscreen swipe x1,y1, x2,y2\n",
    "\n",
    "https://github.com/mattwilson1024/android-pattern-unlock/blob/master/unlock.sh"
   ]
  },
  {
   "cell_type": "code",
   "execution_count": null,
   "id": "afdfcc51-fdff-4970-8bb6-f96c75c8ffa7",
   "metadata": {},
   "outputs": [],
   "source": [
    "generateMoves(\"FLEET\", matches)"
   ]
  },
  {
   "cell_type": "code",
   "execution_count": 190,
   "id": "750dbf0a-d216-4757-a544-3f504e621937",
   "metadata": {},
   "outputs": [
    {
     "data": {
      "text/plain": [
       "array([74, 53, 41], dtype=uint8)"
      ]
     },
     "execution_count": 190,
     "metadata": {},
     "output_type": "execute_result"
    }
   ],
   "source": [
    "a.layers[\"image\"].data[58][58]"
   ]
  },
  {
   "cell_type": "code",
   "execution_count": 199,
   "id": "c8f942ca-82e1-487f-b2e7-61704965c7ad",
   "metadata": {},
   "outputs": [
    {
     "data": {
      "text/plain": [
       "True"
      ]
     },
     "execution_count": 199,
     "metadata": {},
     "output_type": "execute_result"
    }
   ],
   "source": [
    "gsColor(a.layers[\"image\"], 682, 64, [74, 57, 58])"
   ]
  },
  {
   "cell_type": "code",
   "execution_count": 196,
   "id": "b43f85fa-dd32-4e2d-9518-9de99e219bad",
   "metadata": {},
   "outputs": [
    {
     "data": {
      "text/plain": [
       "array([58, 40, 33], dtype=uint8)"
      ]
     },
     "execution_count": 196,
     "metadata": {},
     "output_type": "execute_result"
    }
   ],
   "source": [
    "gsColor(a.layers[\"image\"], 1190, 1588)"
   ]
  },
  {
   "cell_type": "code",
   "execution_count": null,
   "id": "a2c92615-3369-4e6e-a044-4bf373f2d17d",
   "metadata": {},
   "outputs": [],
   "source": []
  }
 ],
 "metadata": {
  "autoscrollcelloutput": true,
  "kernelspec": {
   "display_name": "Python 3 (ipykernel)",
   "language": "python",
   "name": "python3"
  },
  "language_info": {
   "codemirror_mode": {
    "name": "ipython",
    "version": 3
   },
   "file_extension": ".py",
   "mimetype": "text/x-python",
   "name": "python",
   "nbconvert_exporter": "python",
   "pygments_lexer": "ipython3",
   "version": "3.10.4"
  },
  "scenes_data": {
   "active_scene": "Default Scene",
   "init_scene": "",
   "scenes": [
    "Default Scene"
   ]
  },
  "widgets": {
   "application/vnd.jupyter.widget-state+json": {
    "state": {
     "005bc99f89e64498b575e952c5550277": {
      "model_module": "@jupyter-widgets/controls",
      "model_module_version": "1.5.0",
      "model_name": "HTMLModel",
      "state": {
       "layout": "IPY_MODEL_e55295a1ff25418982b6d68419c1d04b",
       "style": "IPY_MODEL_70bce2a61d1d466bb476006137af4d16",
       "value": " 370105/370105 [00:00&lt;00:00, 942535.12it/s]"
      }
     },
     "01775bfab27c49e8bb791bf8f33226da": {
      "model_module": "@jupyter-widgets/base",
      "model_module_version": "1.2.0",
      "model_name": "LayoutModel",
      "state": {}
     },
     "01b376a4f7d84a37ab734095af66182a": {
      "model_module": "@jupyter-widgets/base",
      "model_module_version": "1.2.0",
      "model_name": "LayoutModel",
      "state": {}
     },
     "01e72fcd54d14cd89542aff76acf9a13": {
      "model_module": "@jupyter-widgets/base",
      "model_module_version": "1.2.0",
      "model_name": "LayoutModel",
      "state": {}
     },
     "025c6067733845958aea6431b42ffb15": {
      "model_module": "@jupyter-widgets/base",
      "model_module_version": "1.2.0",
      "model_name": "LayoutModel",
      "state": {}
     },
     "0291245075b44044875b3470eeab7b62": {
      "model_module": "@jupyter-widgets/controls",
      "model_module_version": "1.5.0",
      "model_name": "HTMLModel",
      "state": {
       "layout": "IPY_MODEL_42422061c71441c0998666de0ba09f9f",
       "style": "IPY_MODEL_bfa933979ac54aa8b34df423e09e43d6",
       "value": " 99%"
      }
     },
     "02aebe8829f44287be53cabbe5f6806f": {
      "model_module": "@jupyter-widgets/controls",
      "model_module_version": "1.5.0",
      "model_name": "DescriptionStyleModel",
      "state": {
       "description_width": ""
      }
     },
     "02b5fcea76974cb48d865b61b20a3d30": {
      "model_module": "@jupyter-widgets/base",
      "model_module_version": "1.2.0",
      "model_name": "LayoutModel",
      "state": {}
     },
     "03065f3ce40d41c2b67fb5b234e11ddb": {
      "model_module": "@jupyter-widgets/base",
      "model_module_version": "1.2.0",
      "model_name": "LayoutModel",
      "state": {}
     },
     "0390bda9e7404cebb489bdef8db9d099": {
      "model_module": "@jupyter-widgets/controls",
      "model_module_version": "1.5.0",
      "model_name": "HBoxModel",
      "state": {
       "children": [
        "IPY_MODEL_84dd6a0b1a4444c5b664ef73ebfccb3d",
        "IPY_MODEL_ee7a4f00e87748beb43ff5d2befaebd0",
        "IPY_MODEL_d46b6ae11c354b74aa24d3e7b3942379"
       ],
       "layout": "IPY_MODEL_442a85214b20421b82448a968444c235"
      }
     },
     "03a37db686fb4bd8950fae3c07160775": {
      "model_module": "@jupyter-widgets/base",
      "model_module_version": "1.2.0",
      "model_name": "LayoutModel",
      "state": {}
     },
     "03e542e166104c07a0793cdd392adf93": {
      "model_module": "@jupyter-widgets/controls",
      "model_module_version": "1.5.0",
      "model_name": "DescriptionStyleModel",
      "state": {
       "description_width": ""
      }
     },
     "05112974895c432696bdabddfef2bb04": {
      "model_module": "@jupyter-widgets/controls",
      "model_module_version": "1.5.0",
      "model_name": "HTMLModel",
      "state": {
       "layout": "IPY_MODEL_518bd97b0c7245c198b8290e2062672b",
       "style": "IPY_MODEL_6fd315d724b447f1bba80a0bcc6da5e3",
       "value": "100%"
      }
     },
     "058ae848f33341f49cd89b92457a1d2c": {
      "model_module": "@jupyter-widgets/controls",
      "model_module_version": "1.5.0",
      "model_name": "DescriptionStyleModel",
      "state": {
       "description_width": ""
      }
     },
     "05cb4d24daa149ebaebd4fbe92ed9459": {
      "model_module": "@jupyter-widgets/base",
      "model_module_version": "1.2.0",
      "model_name": "LayoutModel",
      "state": {}
     },
     "0696b770f8964849bf5e7805cbe76e4b": {
      "model_module": "@jupyter-widgets/controls",
      "model_module_version": "1.5.0",
      "model_name": "HBoxModel",
      "state": {
       "children": [
        "IPY_MODEL_6631e5fbca4945d9a8dd426ad3e1dea4",
        "IPY_MODEL_874a18547a1645b491ef15f355b2f698",
        "IPY_MODEL_62250a7e4ba446e09b17d60a965f3e14"
       ],
       "layout": "IPY_MODEL_fefe96e8607649f48057471528a35ce8"
      }
     },
     "06dad49c2f714cd78810f58d5cea55c3": {
      "model_module": "@jupyter-widgets/controls",
      "model_module_version": "1.5.0",
      "model_name": "DescriptionStyleModel",
      "state": {
       "description_width": ""
      }
     },
     "06e09a975d3b45c0b9b1fecfa5d7b4cd": {
      "model_module": "@jupyter-widgets/base",
      "model_module_version": "1.2.0",
      "model_name": "LayoutModel",
      "state": {}
     },
     "080f5aa6786d4cce9ce5de6c38cbc889": {
      "model_module": "@jupyter-widgets/base",
      "model_module_version": "1.2.0",
      "model_name": "LayoutModel",
      "state": {}
     },
     "085275546c114d05a698018bf4939424": {
      "model_module": "@jupyter-widgets/controls",
      "model_module_version": "1.5.0",
      "model_name": "FloatProgressModel",
      "state": {
       "bar_style": "success",
       "layout": "IPY_MODEL_e6603b005efa4280b5549d6f4f46e51d",
       "max": 370105,
       "style": "IPY_MODEL_38c1f45f083940b2ae261f728f464a6b",
       "value": 370105
      }
     },
     "08605645034249b6870206983328c0bb": {
      "model_module": "@jupyter-widgets/controls",
      "model_module_version": "1.5.0",
      "model_name": "ProgressStyleModel",
      "state": {
       "description_width": ""
      }
     },
     "0862e9b3984d4eee8d077e4b60f88da6": {
      "model_module": "@jupyter-widgets/controls",
      "model_module_version": "1.5.0",
      "model_name": "HTMLModel",
      "state": {
       "layout": "IPY_MODEL_dec50a2d81674018a7629c2e49605ed6",
       "style": "IPY_MODEL_a568d7d17e814853bd4fe7643992ec1d",
       "value": " 370105/370105 [00:00&lt;00:00, 944268.24it/s]"
      }
     },
     "088da1ea451240af8a272bf916eba754": {
      "model_module": "@jupyter-widgets/controls",
      "model_module_version": "1.5.0",
      "model_name": "HTMLModel",
      "state": {
       "layout": "IPY_MODEL_1ba46cec572043c798003d9e160c0db8",
       "style": "IPY_MODEL_67628f5354524551ad5c78295c869c48",
       "value": " 370105/370105 [00:00&lt;00:00, 1027842.48it/s]"
      }
     },
     "08fcdb852c3f48eca40a4180f9238ffc": {
      "model_module": "@jupyter-widgets/controls",
      "model_module_version": "1.5.0",
      "model_name": "FloatProgressModel",
      "state": {
       "bar_style": "success",
       "layout": "IPY_MODEL_470056309fd341ffb3fd1e98e18650d3",
       "max": 370105,
       "style": "IPY_MODEL_886a7cdfd939460d93cf2aa5355e1e80",
       "value": 370105
      }
     },
     "09aa641e8f8841f6a498e2ddbff19ebf": {
      "model_module": "@jupyter-widgets/base",
      "model_module_version": "1.2.0",
      "model_name": "LayoutModel",
      "state": {}
     },
     "09cb8046013f4073a319befc3f71aebf": {
      "model_module": "@jupyter-widgets/base",
      "model_module_version": "1.2.0",
      "model_name": "LayoutModel",
      "state": {}
     },
     "09cdf685bc144b33a7bcc01cd127adca": {
      "model_module": "@jupyter-widgets/controls",
      "model_module_version": "1.5.0",
      "model_name": "ProgressStyleModel",
      "state": {
       "description_width": ""
      }
     },
     "09e8f8cedf8846bea65efac1bd5692d4": {
      "model_module": "@jupyter-widgets/controls",
      "model_module_version": "1.5.0",
      "model_name": "DescriptionStyleModel",
      "state": {
       "description_width": ""
      }
     },
     "0a9ac5e45f1f44b3a823b0b814a03d48": {
      "model_module": "@jupyter-widgets/controls",
      "model_module_version": "1.5.0",
      "model_name": "ProgressStyleModel",
      "state": {
       "description_width": ""
      }
     },
     "0acdd843fb7b4d1b9fa5bfb80729ea66": {
      "model_module": "@jupyter-widgets/controls",
      "model_module_version": "1.5.0",
      "model_name": "ProgressStyleModel",
      "state": {
       "description_width": ""
      }
     },
     "0b5d02bc8ef94397b3f976ad24a054cc": {
      "model_module": "@jupyter-widgets/controls",
      "model_module_version": "1.5.0",
      "model_name": "FloatProgressModel",
      "state": {
       "bar_style": "danger",
       "layout": "IPY_MODEL_aa48c8b68897482f955c28017fbca9f6",
       "max": 370105,
       "style": "IPY_MODEL_50f97b3948e24d339d90e0af4d1e2dab",
       "value": 366928
      }
     },
     "0b93adcb7d4f4042b59684b87f01bd82": {
      "model_module": "@jupyter-widgets/controls",
      "model_module_version": "1.5.0",
      "model_name": "DescriptionStyleModel",
      "state": {
       "description_width": ""
      }
     },
     "0b9c80ec61f64402b9a4e9a633f1f516": {
      "model_module": "@jupyter-widgets/controls",
      "model_module_version": "1.5.0",
      "model_name": "HTMLModel",
      "state": {
       "layout": "IPY_MODEL_3fb1b31aacff45ae93f89816a0bac5b1",
       "style": "IPY_MODEL_9635830415824a20b1a099b55349bdba",
       "value": "100%"
      }
     },
     "0bdf9f7bd4374b26ab2d397cd298d4df": {
      "model_module": "@jupyter-widgets/base",
      "model_module_version": "1.2.0",
      "model_name": "LayoutModel",
      "state": {}
     },
     "0c9aeaa3ee2d4648866ffe9f40cc4992": {
      "model_module": "@jupyter-widgets/controls",
      "model_module_version": "1.5.0",
      "model_name": "DescriptionStyleModel",
      "state": {
       "description_width": ""
      }
     },
     "0cda9ff1571d4d32a31a5496127925cf": {
      "model_module": "@jupyter-widgets/controls",
      "model_module_version": "1.5.0",
      "model_name": "DescriptionStyleModel",
      "state": {
       "description_width": ""
      }
     },
     "0d0caebf894e4d1d91ecab2c3d23d915": {
      "model_module": "@jupyter-widgets/controls",
      "model_module_version": "1.5.0",
      "model_name": "DescriptionStyleModel",
      "state": {
       "description_width": ""
      }
     },
     "0d2bdf3164dd418b8eed61c9b08d4ec1": {
      "model_module": "@jupyter-widgets/base",
      "model_module_version": "1.2.0",
      "model_name": "LayoutModel",
      "state": {}
     },
     "0d3fca383ce04e638ce49207e866c23b": {
      "model_module": "@jupyter-widgets/controls",
      "model_module_version": "1.5.0",
      "model_name": "DescriptionStyleModel",
      "state": {
       "description_width": ""
      }
     },
     "0d97563c40d04551aabef7d1dc19e3a6": {
      "model_module": "@jupyter-widgets/controls",
      "model_module_version": "1.5.0",
      "model_name": "FloatProgressModel",
      "state": {
       "bar_style": "success",
       "layout": "IPY_MODEL_6ab5b4f5994240499ff7f8080267b4c7",
       "max": 370105,
       "style": "IPY_MODEL_63b8c6a50d974c57b2a9911f17c19ef9",
       "value": 370105
      }
     },
     "0d9c5307e9b14a7fb5a023e7064d4e3d": {
      "model_module": "@jupyter-widgets/controls",
      "model_module_version": "1.5.0",
      "model_name": "HBoxModel",
      "state": {
       "children": [
        "IPY_MODEL_92a01e70654d4578ac8c11bbb153d199",
        "IPY_MODEL_d59efc0da9704719a95995e3a0f122c5",
        "IPY_MODEL_bc87dfa92e5549439aaf40b82ae6ad4f"
       ],
       "layout": "IPY_MODEL_6f3edaecbcb94cfe96a83a7bfcb25184"
      }
     },
     "0e1ca3aa50b44b2c801c1e535977c791": {
      "model_module": "@jupyter-widgets/base",
      "model_module_version": "1.2.0",
      "model_name": "LayoutModel",
      "state": {}
     },
     "0e2ce930670547a99b074cce107f4eeb": {
      "model_module": "@jupyter-widgets/controls",
      "model_module_version": "1.5.0",
      "model_name": "HTMLModel",
      "state": {
       "layout": "IPY_MODEL_706034c05b6b45228d591b68e585ad66",
       "style": "IPY_MODEL_c9fa444185784d0abf210598a822085f",
       "value": " 370105/370105 [00:00&lt;00:00, 930551.90it/s]"
      }
     },
     "0e305422c6f7487595c19b0874c55609": {
      "model_module": "@jupyter-widgets/base",
      "model_module_version": "1.2.0",
      "model_name": "LayoutModel",
      "state": {}
     },
     "0e603c70c59447acae04ffd2f6a24886": {
      "model_module": "@jupyter-widgets/base",
      "model_module_version": "1.2.0",
      "model_name": "LayoutModel",
      "state": {}
     },
     "0f21a90b3e6e4f1e9ffe1c512c89ccbf": {
      "model_module": "@jupyter-widgets/controls",
      "model_module_version": "1.5.0",
      "model_name": "DescriptionStyleModel",
      "state": {
       "description_width": ""
      }
     },
     "0f2c41270fc04dea863db9757e0461b5": {
      "model_module": "@jupyter-widgets/base",
      "model_module_version": "1.2.0",
      "model_name": "LayoutModel",
      "state": {}
     },
     "0f7378cc126844dc8818c7f373c30cff": {
      "model_module": "@jupyter-widgets/base",
      "model_module_version": "1.2.0",
      "model_name": "LayoutModel",
      "state": {}
     },
     "0ffe952027794432baece3b5db378af4": {
      "model_module": "@jupyter-widgets/base",
      "model_module_version": "1.2.0",
      "model_name": "LayoutModel",
      "state": {}
     },
     "101e231dc30b443b851a28ff732e66c9": {
      "model_module": "@jupyter-widgets/controls",
      "model_module_version": "1.5.0",
      "model_name": "HBoxModel",
      "state": {
       "children": [
        "IPY_MODEL_d46b7cbdbf3943628427d4964855c18e",
        "IPY_MODEL_42d6a7d762034a7eaf2b87dbac43f1b6",
        "IPY_MODEL_4c586fec328e4b21abfbd4608009c214"
       ],
       "layout": "IPY_MODEL_4bf4e9b733dd4f29a1130987fd6b4b13"
      }
     },
     "10219a6aba1a44edbc35e8114413e503": {
      "model_module": "@jupyter-widgets/controls",
      "model_module_version": "1.5.0",
      "model_name": "DescriptionStyleModel",
      "state": {
       "description_width": ""
      }
     },
     "10421d03c3b044779383b00ae89bf2b9": {
      "model_module": "@jupyter-widgets/controls",
      "model_module_version": "1.5.0",
      "model_name": "HBoxModel",
      "state": {
       "children": [
        "IPY_MODEL_c0328ae88fb5477491ec02f6bd493f5c",
        "IPY_MODEL_e38564fd059a46f7963cecf70749f328",
        "IPY_MODEL_e7dfdeaf5c3041b6ad5600434b4484e3"
       ],
       "layout": "IPY_MODEL_9903c94a3fe541a4b96f8c1458d252da"
      }
     },
     "10606d0938d94897b9649062395abcf8": {
      "model_module": "@jupyter-widgets/base",
      "model_module_version": "1.2.0",
      "model_name": "LayoutModel",
      "state": {}
     },
     "107c1f38497b46f8b9793c207ea88601": {
      "model_module": "@jupyter-widgets/controls",
      "model_module_version": "1.5.0",
      "model_name": "ProgressStyleModel",
      "state": {
       "description_width": ""
      }
     },
     "1110b34fb9b44f259607b2c8d185b49b": {
      "model_module": "@jupyter-widgets/controls",
      "model_module_version": "1.5.0",
      "model_name": "FloatProgressModel",
      "state": {
       "bar_style": "success",
       "layout": "IPY_MODEL_f8436bb2d63840979729387d84ac55a9",
       "max": 370105,
       "style": "IPY_MODEL_b6e08eb687cd471eaf5269ac1c204549",
       "value": 370105
      }
     },
     "1121e7db069a45a39e56bd05114ea834": {
      "model_module": "@jupyter-widgets/base",
      "model_module_version": "1.2.0",
      "model_name": "LayoutModel",
      "state": {}
     },
     "1131f94fb7a24329bb51ea25e9e363c0": {
      "model_module": "@jupyter-widgets/controls",
      "model_module_version": "1.5.0",
      "model_name": "FloatProgressModel",
      "state": {
       "bar_style": "success",
       "layout": "IPY_MODEL_c12142325864415b88403e31786571d7",
       "max": 370105,
       "style": "IPY_MODEL_f64a933f76da46d7880743883de7011d",
       "value": 370105
      }
     },
     "1146c6466e9a4b5cb2138e5f99a249b5": {
      "model_module": "@jupyter-widgets/base",
      "model_module_version": "1.2.0",
      "model_name": "LayoutModel",
      "state": {}
     },
     "115ba52b2a654edebfd5a8581dd9d0c6": {
      "model_module": "@jupyter-widgets/controls",
      "model_module_version": "1.5.0",
      "model_name": "HTMLModel",
      "state": {
       "layout": "IPY_MODEL_95c0be5d0810446092a89f8d6b3d8196",
       "style": "IPY_MODEL_6e0adbb4f5834ce1878add8a22987d8a",
       "value": " 370105/370105 [00:00&lt;00:00, 929734.89it/s]"
      }
     },
     "11a93e10689a45f483cb1d84a7ad39ac": {
      "model_module": "@jupyter-widgets/controls",
      "model_module_version": "1.5.0",
      "model_name": "DescriptionStyleModel",
      "state": {
       "description_width": ""
      }
     },
     "11d44308d7934a39b7ef5c862dc0f9d3": {
      "model_module": "@jupyter-widgets/controls",
      "model_module_version": "1.5.0",
      "model_name": "DescriptionStyleModel",
      "state": {
       "description_width": ""
      }
     },
     "123a4b7bc5ce44308071a3ecaed9bcaa": {
      "model_module": "@jupyter-widgets/controls",
      "model_module_version": "1.5.0",
      "model_name": "FloatProgressModel",
      "state": {
       "bar_style": "success",
       "layout": "IPY_MODEL_1ac1d10a8d9344598907e3f26907d4cd",
       "max": 370105,
       "style": "IPY_MODEL_af19ff2d9b7d4b1c8ed0abe1ad92d95c",
       "value": 370105
      }
     },
     "12f37e4e120b460f9e32e451a3fb306d": {
      "model_module": "@jupyter-widgets/base",
      "model_module_version": "1.2.0",
      "model_name": "LayoutModel",
      "state": {}
     },
     "12fe89712c5044049b39cc174bb1f2ae": {
      "model_module": "@jupyter-widgets/controls",
      "model_module_version": "1.5.0",
      "model_name": "ProgressStyleModel",
      "state": {
       "description_width": ""
      }
     },
     "1328779e6a094eab8f009db373ec45c4": {
      "model_module": "@jupyter-widgets/base",
      "model_module_version": "1.2.0",
      "model_name": "LayoutModel",
      "state": {}
     },
     "137b817339e7414e9c51e95dae7743e3": {
      "model_module": "@jupyter-widgets/controls",
      "model_module_version": "1.5.0",
      "model_name": "HBoxModel",
      "state": {
       "children": [
        "IPY_MODEL_57e52cc850f14b56a3a081d54843db3f",
        "IPY_MODEL_246b52fff3884c4691469e0dfbc0cadc",
        "IPY_MODEL_57e93e69ab2048e2b7d6a96f13073846"
       ],
       "layout": "IPY_MODEL_f22fe1f56d11491cbaf8fa467663e573"
      }
     },
     "141e04012d7e441bacde264eb4182bc6": {
      "model_module": "@jupyter-widgets/controls",
      "model_module_version": "1.5.0",
      "model_name": "DescriptionStyleModel",
      "state": {
       "description_width": ""
      }
     },
     "144b32b835e34bf69255085877652606": {
      "model_module": "@jupyter-widgets/base",
      "model_module_version": "1.2.0",
      "model_name": "LayoutModel",
      "state": {}
     },
     "145baa3fb4694daaa2395e31d9f1827e": {
      "model_module": "@jupyter-widgets/controls",
      "model_module_version": "1.5.0",
      "model_name": "HTMLModel",
      "state": {
       "layout": "IPY_MODEL_50cf03a7ec764f61842823fe0c9e4471",
       "style": "IPY_MODEL_387086e2e27345c1b4b2354076051208",
       "value": " 370105/370105 [00:00&lt;00:00, 1020474.03it/s]"
      }
     },
     "149e3fa08cb6445eb10b0b9fad55eae3": {
      "model_module": "@jupyter-widgets/controls",
      "model_module_version": "1.5.0",
      "model_name": "HBoxModel",
      "state": {
       "children": [
        "IPY_MODEL_4d515d4293f24849964e726dddd6b7d5",
        "IPY_MODEL_1bbe7f25ebc243da8f1d3d892153f592",
        "IPY_MODEL_6ca854226f2b4fc8bd042e66ac1d8a99"
       ],
       "layout": "IPY_MODEL_4022a5c39151444ba81e8aa0aec2e0a3"
      }
     },
     "14a519add9024b2baeabed9f3e2c05a1": {
      "model_module": "@jupyter-widgets/base",
      "model_module_version": "1.2.0",
      "model_name": "LayoutModel",
      "state": {}
     },
     "14a708b1019b40e795a8d3e030527ee0": {
      "model_module": "@jupyter-widgets/controls",
      "model_module_version": "1.5.0",
      "model_name": "HBoxModel",
      "state": {
       "children": [
        "IPY_MODEL_9a50bfe86adc4f2199f0fe04d89f156a",
        "IPY_MODEL_eca50cecc68445dcbaa63a61f892ec2f",
        "IPY_MODEL_5591b38858a54547b02cee794ea4fd64"
       ],
       "layout": "IPY_MODEL_2cd403e0627e41268000d928d01854a4"
      }
     },
     "1523d4bb92bb467c8b14af42afa67d00": {
      "model_module": "@jupyter-widgets/controls",
      "model_module_version": "1.5.0",
      "model_name": "HTMLModel",
      "state": {
       "layout": "IPY_MODEL_5879f19ce78e469b89f78c1a0c403bc0",
       "style": "IPY_MODEL_28b916c5b6ea4827b903991ed3d3f827",
       "value": " 370105/370105 [00:00&lt;00:00, 929215.72it/s]"
      }
     },
     "1582703cedcf406588bfd3385423e033": {
      "model_module": "@jupyter-widgets/base",
      "model_module_version": "1.2.0",
      "model_name": "LayoutModel",
      "state": {}
     },
     "15eb28790f2349cbbc1faabe7660e1b1": {
      "model_module": "@jupyter-widgets/controls",
      "model_module_version": "1.5.0",
      "model_name": "FloatProgressModel",
      "state": {
       "bar_style": "success",
       "layout": "IPY_MODEL_7c05ae8d2ae041f0992478f3768ba73a",
       "max": 370105,
       "style": "IPY_MODEL_5bc3271420da44deb8e067ddc669bf50",
       "value": 370105
      }
     },
     "15f559260c4f488cbefbc7c077253187": {
      "model_module": "@jupyter-widgets/controls",
      "model_module_version": "1.5.0",
      "model_name": "DescriptionStyleModel",
      "state": {
       "description_width": ""
      }
     },
     "15f811d244a8446196b00705a9b0ea12": {
      "model_module": "@jupyter-widgets/controls",
      "model_module_version": "1.5.0",
      "model_name": "FloatProgressModel",
      "state": {
       "bar_style": "success",
       "layout": "IPY_MODEL_f413b61dba364830beedff9636e8c834",
       "max": 370105,
       "style": "IPY_MODEL_9528b290be0a44c0b9e39e2056fef351",
       "value": 370105
      }
     },
     "162e845f8d1a4537ba690dc63fd1258c": {
      "model_module": "@jupyter-widgets/controls",
      "model_module_version": "1.5.0",
      "model_name": "ProgressStyleModel",
      "state": {
       "description_width": ""
      }
     },
     "169e026a422e461f9882d654d0952764": {
      "model_module": "@jupyter-widgets/base",
      "model_module_version": "1.2.0",
      "model_name": "LayoutModel",
      "state": {}
     },
     "17238f468a82471da99dd910e58a5d7c": {
      "model_module": "@jupyter-widgets/base",
      "model_module_version": "1.2.0",
      "model_name": "LayoutModel",
      "state": {}
     },
     "1745b5fb4fc245d2b1df3e251f745fdd": {
      "model_module": "@jupyter-widgets/base",
      "model_module_version": "1.2.0",
      "model_name": "LayoutModel",
      "state": {}
     },
     "17482e2d1c4849cfba6d51945dff5bbb": {
      "model_module": "@jupyter-widgets/base",
      "model_module_version": "1.2.0",
      "model_name": "LayoutModel",
      "state": {}
     },
     "179a0e2df7d44054be4bcbbd51f637bb": {
      "model_module": "@jupyter-widgets/base",
      "model_module_version": "1.2.0",
      "model_name": "LayoutModel",
      "state": {}
     },
     "17a356d83024401784e2343e673117f3": {
      "model_module": "@jupyter-widgets/controls",
      "model_module_version": "1.5.0",
      "model_name": "ProgressStyleModel",
      "state": {
       "description_width": ""
      }
     },
     "17ac29c924734952bbedc3ed2609625c": {
      "model_module": "@jupyter-widgets/controls",
      "model_module_version": "1.5.0",
      "model_name": "HBoxModel",
      "state": {
       "children": [
        "IPY_MODEL_5f7b255e63df4377bd95108db32e6bde",
        "IPY_MODEL_3b59e968dd224d328566cd3fcf6057aa",
        "IPY_MODEL_b25e977b4d6b4316b25ac8d5ebcedc9f"
       ],
       "layout": "IPY_MODEL_f1148810f72640088f727be76a958b81"
      }
     },
     "17ba363cf1c8485ab010cbaac234dafd": {
      "model_module": "@jupyter-widgets/base",
      "model_module_version": "1.2.0",
      "model_name": "LayoutModel",
      "state": {}
     },
     "17f5c729aefe4e639ee6a049ce96ef66": {
      "model_module": "@jupyter-widgets/controls",
      "model_module_version": "1.5.0",
      "model_name": "DescriptionStyleModel",
      "state": {
       "description_width": ""
      }
     },
     "180473e2282e4fc493909474b05d2341": {
      "model_module": "@jupyter-widgets/controls",
      "model_module_version": "1.5.0",
      "model_name": "HBoxModel",
      "state": {
       "children": [
        "IPY_MODEL_326fe36f8e1f41d1a712739e845f9592",
        "IPY_MODEL_c434c4109e9b411594dd23662037fd1b",
        "IPY_MODEL_585cd8334b864600af3f391f787edc2a"
       ],
       "layout": "IPY_MODEL_90271b255d274487b881e2afbab8e1f0"
      }
     },
     "18577604998944cfa26fcb8953ca6105": {
      "model_module": "@jupyter-widgets/base",
      "model_module_version": "1.2.0",
      "model_name": "LayoutModel",
      "state": {}
     },
     "18753f42066040db97e2459eb7ce540f": {
      "model_module": "@jupyter-widgets/base",
      "model_module_version": "1.2.0",
      "model_name": "LayoutModel",
      "state": {}
     },
     "187ff8b15daa482f8a4ccaa1d3e1464f": {
      "model_module": "@jupyter-widgets/controls",
      "model_module_version": "1.5.0",
      "model_name": "ProgressStyleModel",
      "state": {
       "description_width": ""
      }
     },
     "1880e033c3794ef49cf46570fba7a899": {
      "model_module": "@jupyter-widgets/controls",
      "model_module_version": "1.5.0",
      "model_name": "ProgressStyleModel",
      "state": {
       "description_width": ""
      }
     },
     "1908007a91db4862a9e89de588b792fd": {
      "model_module": "@jupyter-widgets/controls",
      "model_module_version": "1.5.0",
      "model_name": "DescriptionStyleModel",
      "state": {
       "description_width": ""
      }
     },
     "19377d55d7c44bcf863ca6184a6046e4": {
      "model_module": "@jupyter-widgets/controls",
      "model_module_version": "1.5.0",
      "model_name": "DescriptionStyleModel",
      "state": {
       "description_width": ""
      }
     },
     "19506b37615d40b6a3ed67ddf6aeaf4e": {
      "model_module": "@jupyter-widgets/base",
      "model_module_version": "1.2.0",
      "model_name": "LayoutModel",
      "state": {}
     },
     "19c8512ecd904ac98c0a95e60d8dcaf4": {
      "model_module": "@jupyter-widgets/base",
      "model_module_version": "1.2.0",
      "model_name": "LayoutModel",
      "state": {}
     },
     "19e2af0664154000becd0f46efc52119": {
      "model_module": "@jupyter-widgets/base",
      "model_module_version": "1.2.0",
      "model_name": "LayoutModel",
      "state": {}
     },
     "19e4de8abea34185b634e730c3291d1b": {
      "model_module": "@jupyter-widgets/base",
      "model_module_version": "1.2.0",
      "model_name": "LayoutModel",
      "state": {}
     },
     "1a36868301e84a41a3cd77b437c93166": {
      "model_module": "@jupyter-widgets/base",
      "model_module_version": "1.2.0",
      "model_name": "LayoutModel",
      "state": {}
     },
     "1a4820c66a50427bb18ea4af41a17196": {
      "model_module": "@jupyter-widgets/base",
      "model_module_version": "1.2.0",
      "model_name": "LayoutModel",
      "state": {}
     },
     "1ab5dc59a63740b3acdf9a929e5a1ff3": {
      "model_module": "@jupyter-widgets/controls",
      "model_module_version": "1.5.0",
      "model_name": "DescriptionStyleModel",
      "state": {
       "description_width": ""
      }
     },
     "1ac1d10a8d9344598907e3f26907d4cd": {
      "model_module": "@jupyter-widgets/base",
      "model_module_version": "1.2.0",
      "model_name": "LayoutModel",
      "state": {}
     },
     "1b1a7802259f4a1e8f1911a750820f77": {
      "model_module": "@jupyter-widgets/controls",
      "model_module_version": "1.5.0",
      "model_name": "ProgressStyleModel",
      "state": {
       "description_width": ""
      }
     },
     "1b1dd0668ad04ce8950d4622bf47244c": {
      "model_module": "@jupyter-widgets/base",
      "model_module_version": "1.2.0",
      "model_name": "LayoutModel",
      "state": {}
     },
     "1b34c388787c461d9df449bcd9fbddc4": {
      "model_module": "@jupyter-widgets/controls",
      "model_module_version": "1.5.0",
      "model_name": "DescriptionStyleModel",
      "state": {
       "description_width": ""
      }
     },
     "1b4ca3cfa3c542a38c6c885e569d4b60": {
      "model_module": "@jupyter-widgets/base",
      "model_module_version": "1.2.0",
      "model_name": "LayoutModel",
      "state": {}
     },
     "1b66140ec72a46d482ddc04ae412ba14": {
      "model_module": "@jupyter-widgets/controls",
      "model_module_version": "1.5.0",
      "model_name": "HBoxModel",
      "state": {
       "children": [
        "IPY_MODEL_fe6b1ac21c95449ebc78c368c9f66e72",
        "IPY_MODEL_92f9618158a54f048159a70b42ce31c1",
        "IPY_MODEL_57e70fc713e048a784a98d0c12e55011"
       ],
       "layout": "IPY_MODEL_5e31743331a84ff5b69094ceb22863aa"
      }
     },
     "1b6f6fad78c84b2d939b19b89021f9f5": {
      "model_module": "@jupyter-widgets/base",
      "model_module_version": "1.2.0",
      "model_name": "LayoutModel",
      "state": {}
     },
     "1b83a5b9fcfc4c3abcddb96a93884b63": {
      "model_module": "@jupyter-widgets/base",
      "model_module_version": "1.2.0",
      "model_name": "LayoutModel",
      "state": {}
     },
     "1ba46cec572043c798003d9e160c0db8": {
      "model_module": "@jupyter-widgets/base",
      "model_module_version": "1.2.0",
      "model_name": "LayoutModel",
      "state": {}
     },
     "1bb627f23c6b4a2fb7a754e72ac2ac8b": {
      "model_module": "@jupyter-widgets/controls",
      "model_module_version": "1.5.0",
      "model_name": "DescriptionStyleModel",
      "state": {
       "description_width": ""
      }
     },
     "1bbe7f25ebc243da8f1d3d892153f592": {
      "model_module": "@jupyter-widgets/controls",
      "model_module_version": "1.5.0",
      "model_name": "FloatProgressModel",
      "state": {
       "bar_style": "success",
       "layout": "IPY_MODEL_fc943d10ecc74d7ba0deba7e3e898092",
       "max": 370105,
       "style": "IPY_MODEL_68252afd129045acb23c8c9021300614",
       "value": 370105
      }
     },
     "1be517d0a06149668205442ae43c2020": {
      "model_module": "@jupyter-widgets/controls",
      "model_module_version": "1.5.0",
      "model_name": "DescriptionStyleModel",
      "state": {
       "description_width": ""
      }
     },
     "1c5df1aee9be498cb0f528a713e58605": {
      "model_module": "@jupyter-widgets/controls",
      "model_module_version": "1.5.0",
      "model_name": "HBoxModel",
      "state": {
       "children": [
        "IPY_MODEL_a9cb63ffa9c948a8b5d1cb6abc298bb1",
        "IPY_MODEL_cb1134838849404baed325ceea09f1ae",
        "IPY_MODEL_282bed451a3a4a0989f2d7ed3866915a"
       ],
       "layout": "IPY_MODEL_1eefccda4e6f4b2583399c53ec3eab16"
      }
     },
     "1ca1baa3f05c4a9a8e9192ecf67bbf96": {
      "model_module": "@jupyter-widgets/base",
      "model_module_version": "1.2.0",
      "model_name": "LayoutModel",
      "state": {}
     },
     "1cdb6775616448baae7f995b39a51b7c": {
      "model_module": "@jupyter-widgets/controls",
      "model_module_version": "1.5.0",
      "model_name": "ProgressStyleModel",
      "state": {
       "description_width": ""
      }
     },
     "1ce3a255fc654ffd899da1f44d6959e7": {
      "model_module": "@jupyter-widgets/base",
      "model_module_version": "1.2.0",
      "model_name": "LayoutModel",
      "state": {}
     },
     "1d6969125abf4fb1aae155ad4664d797": {
      "model_module": "@jupyter-widgets/controls",
      "model_module_version": "1.5.0",
      "model_name": "ProgressStyleModel",
      "state": {
       "description_width": ""
      }
     },
     "1db827e09e4e4415bc4da49efc8dafb1": {
      "model_module": "@jupyter-widgets/base",
      "model_module_version": "1.2.0",
      "model_name": "LayoutModel",
      "state": {}
     },
     "1e0014106b984266a30b3ba30cdf8a15": {
      "model_module": "@jupyter-widgets/base",
      "model_module_version": "1.2.0",
      "model_name": "LayoutModel",
      "state": {}
     },
     "1e373b21b1d94a8cac1ac38696690d15": {
      "model_module": "@jupyter-widgets/base",
      "model_module_version": "1.2.0",
      "model_name": "LayoutModel",
      "state": {}
     },
     "1e4cdc4a90554f10a8bf944b6c83ad5f": {
      "model_module": "@jupyter-widgets/controls",
      "model_module_version": "1.5.0",
      "model_name": "HTMLModel",
      "state": {
       "layout": "IPY_MODEL_5b20a00d28bf43f3b4b48bceca76be17",
       "style": "IPY_MODEL_5158c0fc6e6847e9a115315fb3782c8c",
       "value": " 370105/370105 [00:00&lt;00:00, 929637.19it/s]"
      }
     },
     "1e774b629e144876841be918c660d6ab": {
      "model_module": "@jupyter-widgets/controls",
      "model_module_version": "1.5.0",
      "model_name": "DescriptionStyleModel",
      "state": {
       "description_width": ""
      }
     },
     "1ed1d4127fe74881bc2295412dd39ab5": {
      "model_module": "@jupyter-widgets/base",
      "model_module_version": "1.2.0",
      "model_name": "LayoutModel",
      "state": {}
     },
     "1eefccda4e6f4b2583399c53ec3eab16": {
      "model_module": "@jupyter-widgets/base",
      "model_module_version": "1.2.0",
      "model_name": "LayoutModel",
      "state": {}
     },
     "1f057f6e5d234b8aa8e05abd3a89ce57": {
      "model_module": "@jupyter-widgets/base",
      "model_module_version": "1.2.0",
      "model_name": "LayoutModel",
      "state": {}
     },
     "1f311438dda34362b6f98be24a2eda4b": {
      "model_module": "@jupyter-widgets/controls",
      "model_module_version": "1.5.0",
      "model_name": "HTMLModel",
      "state": {
       "layout": "IPY_MODEL_62d02716f8ae4a92a1d286d4d3a76550",
       "style": "IPY_MODEL_1bb627f23c6b4a2fb7a754e72ac2ac8b",
       "value": " 370105/370105 [00:00&lt;00:00, 939576.67it/s]"
      }
     },
     "1f60c5472caf4ceeb22f230096e8c28e": {
      "model_module": "@jupyter-widgets/base",
      "model_module_version": "1.2.0",
      "model_name": "LayoutModel",
      "state": {}
     },
     "20aac9a327d14659a7df248393cd7846": {
      "model_module": "@jupyter-widgets/controls",
      "model_module_version": "1.5.0",
      "model_name": "HTMLModel",
      "state": {
       "layout": "IPY_MODEL_890a9bae2fbb46ef89aa5a88f50845b1",
       "style": "IPY_MODEL_0c9aeaa3ee2d4648866ffe9f40cc4992",
       "value": "100%"
      }
     },
     "20ad1858a34248daa3c5c9c830aa9a66": {
      "model_module": "@jupyter-widgets/base",
      "model_module_version": "1.2.0",
      "model_name": "LayoutModel",
      "state": {}
     },
     "20c236a3e20748f5b3772780757f06ba": {
      "model_module": "@jupyter-widgets/controls",
      "model_module_version": "1.5.0",
      "model_name": "DescriptionStyleModel",
      "state": {
       "description_width": ""
      }
     },
     "20de687781cb48fba4ad96fa5d005509": {
      "model_module": "@jupyter-widgets/controls",
      "model_module_version": "1.5.0",
      "model_name": "HTMLModel",
      "state": {
       "layout": "IPY_MODEL_2cca6baf16984566a777ada54a2cef3e",
       "style": "IPY_MODEL_73bd733aec8a414ba0f6dae8c5084796",
       "value": "100%"
      }
     },
     "2170e880b9ba4ef7889438c811bdc107": {
      "model_module": "@jupyter-widgets/base",
      "model_module_version": "1.2.0",
      "model_name": "LayoutModel",
      "state": {}
     },
     "2269b7a2a6b1468bb219252e08fc1652": {
      "model_module": "@jupyter-widgets/controls",
      "model_module_version": "1.5.0",
      "model_name": "HBoxModel",
      "state": {
       "children": [
        "IPY_MODEL_4fd7e90ad11c4b2dafc9a332674b328c",
        "IPY_MODEL_e90ab7a2862d42908b32c33284fa3d61",
        "IPY_MODEL_a5790ce58245431caf447c4a7f743db4"
       ],
       "layout": "IPY_MODEL_af375bfc6bcc4928afca8bc6c1703555"
      }
     },
     "22f8a54cf3c244d1946a2c2101b4c2e3": {
      "model_module": "@jupyter-widgets/controls",
      "model_module_version": "1.5.0",
      "model_name": "DescriptionStyleModel",
      "state": {
       "description_width": ""
      }
     },
     "232593a6363b4db18bbd48162af2976b": {
      "model_module": "@jupyter-widgets/controls",
      "model_module_version": "1.5.0",
      "model_name": "HTMLModel",
      "state": {
       "layout": "IPY_MODEL_6580ec99594c407f9b4a2e01a805d577",
       "style": "IPY_MODEL_ae274f9c2a084578b4c5ade201d6a83d",
       "value": "100%"
      }
     },
     "24506f4f193547b786f8b2382dffcaea": {
      "model_module": "@jupyter-widgets/controls",
      "model_module_version": "1.5.0",
      "model_name": "DescriptionStyleModel",
      "state": {
       "description_width": ""
      }
     },
     "246b52fff3884c4691469e0dfbc0cadc": {
      "model_module": "@jupyter-widgets/controls",
      "model_module_version": "1.5.0",
      "model_name": "FloatProgressModel",
      "state": {
       "bar_style": "success",
       "layout": "IPY_MODEL_17482e2d1c4849cfba6d51945dff5bbb",
       "max": 370105,
       "style": "IPY_MODEL_7ae4a6ad4d5c4a5e9f42f6c45014b27d",
       "value": 370105
      }
     },
     "25205b69938d4a2cafa1b15cc0f083ee": {
      "model_module": "@jupyter-widgets/controls",
      "model_module_version": "1.5.0",
      "model_name": "DescriptionStyleModel",
      "state": {
       "description_width": ""
      }
     },
     "256eb00097414628a0e548f76e116ef9": {
      "model_module": "@jupyter-widgets/controls",
      "model_module_version": "1.5.0",
      "model_name": "HBoxModel",
      "state": {
       "children": [
        "IPY_MODEL_7b295a6b28ca4e38bc193677fe2205e7",
        "IPY_MODEL_5ad62728a5b440d78535515ecac6d2ad",
        "IPY_MODEL_d8092bcc0de94cffbf729a7ff40e60f8"
       ],
       "layout": "IPY_MODEL_02b5fcea76974cb48d865b61b20a3d30"
      }
     },
     "259889076e9145cb96ae2b7053ec8f05": {
      "model_module": "@jupyter-widgets/controls",
      "model_module_version": "1.5.0",
      "model_name": "HBoxModel",
      "state": {
       "children": [
        "IPY_MODEL_3e69b38794ce4cacbb0e19c66cf70c21",
        "IPY_MODEL_5311ff80df474ab38469e8af9679b64f",
        "IPY_MODEL_40b0d1a6d3814f00915524a40377db8e"
       ],
       "layout": "IPY_MODEL_7e8600c9519c4621b0b3075d05f7c5b2"
      }
     },
     "25bd4c39355c46bea98f082a65420cea": {
      "model_module": "@jupyter-widgets/controls",
      "model_module_version": "1.5.0",
      "model_name": "HTMLModel",
      "state": {
       "layout": "IPY_MODEL_8f6588e3ffbd473d95a02a92af5e80a6",
       "style": "IPY_MODEL_9b8ee3bb00544835a248c3d58c347d56",
       "value": "100%"
      }
     },
     "25f8cf2fbfc94c6babf1a67edf1a2a47": {
      "model_module": "@jupyter-widgets/base",
      "model_module_version": "1.2.0",
      "model_name": "LayoutModel",
      "state": {}
     },
     "268c7c9215e844a6bb6722c77f9cb04c": {
      "model_module": "@jupyter-widgets/base",
      "model_module_version": "1.2.0",
      "model_name": "LayoutModel",
      "state": {}
     },
     "269a133257c74c0f97b0e2a9d30db876": {
      "model_module": "@jupyter-widgets/controls",
      "model_module_version": "1.5.0",
      "model_name": "HTMLModel",
      "state": {
       "layout": "IPY_MODEL_8a8a6eb8d502403dba63e274c3ddf7b4",
       "style": "IPY_MODEL_85affa36d05748e086f27b649b233353",
       "value": "100%"
      }
     },
     "26c4f909c8c14b8186fb0f0d37ea0983": {
      "model_module": "@jupyter-widgets/controls",
      "model_module_version": "1.5.0",
      "model_name": "HBoxModel",
      "state": {
       "children": [
        "IPY_MODEL_b7e884ccc9354561a7357ada081bb640",
        "IPY_MODEL_d79b4c9a541c4c02bc18b2500a82b3bb",
        "IPY_MODEL_91bf309af5e147f697622de33f9430c2"
       ],
       "layout": "IPY_MODEL_31ebacda50c644ca974cc55940de81d9"
      }
     },
     "26d00cb0699c48bc86a0f0aed93c12a1": {
      "model_module": "@jupyter-widgets/controls",
      "model_module_version": "1.5.0",
      "model_name": "HTMLModel",
      "state": {
       "layout": "IPY_MODEL_25f8cf2fbfc94c6babf1a67edf1a2a47",
       "style": "IPY_MODEL_a3887ddf442d49c08609cec5a261b759",
       "value": "100%"
      }
     },
     "27515f040ab3435e98b464936c6c7596": {
      "model_module": "@jupyter-widgets/controls",
      "model_module_version": "1.5.0",
      "model_name": "DescriptionStyleModel",
      "state": {
       "description_width": ""
      }
     },
     "282548cb4d72491f9a8e6511f48052fb": {
      "model_module": "@jupyter-widgets/controls",
      "model_module_version": "1.5.0",
      "model_name": "HTMLModel",
      "state": {
       "layout": "IPY_MODEL_9da913e6a3994a30b5cea741db25a50e",
       "style": "IPY_MODEL_b155b89c634d4215a594024ab121603e",
       "value": " 370105/370105 [00:00&lt;00:00, 915459.79it/s]"
      }
     },
     "282bed451a3a4a0989f2d7ed3866915a": {
      "model_module": "@jupyter-widgets/controls",
      "model_module_version": "1.5.0",
      "model_name": "HTMLModel",
      "state": {
       "layout": "IPY_MODEL_1e0014106b984266a30b3ba30cdf8a15",
       "style": "IPY_MODEL_f41910ce683945ec9d062eef42dd265a",
       "value": " 370105/370105 [00:00&lt;00:00, 943002.75it/s]"
      }
     },
     "283f9c21e3e34a06bf2a64edad5ba441": {
      "model_module": "@jupyter-widgets/base",
      "model_module_version": "1.2.0",
      "model_name": "LayoutModel",
      "state": {}
     },
     "2848bbb588d4410da8f0508daf5e5296": {
      "model_module": "@jupyter-widgets/controls",
      "model_module_version": "1.5.0",
      "model_name": "DescriptionStyleModel",
      "state": {
       "description_width": ""
      }
     },
     "28b916c5b6ea4827b903991ed3d3f827": {
      "model_module": "@jupyter-widgets/controls",
      "model_module_version": "1.5.0",
      "model_name": "DescriptionStyleModel",
      "state": {
       "description_width": ""
      }
     },
     "28f2b766349b4aef8dcee74c343f1597": {
      "model_module": "@jupyter-widgets/controls",
      "model_module_version": "1.5.0",
      "model_name": "HTMLModel",
      "state": {
       "layout": "IPY_MODEL_727e539c016f4e108f5243664b15b659",
       "style": "IPY_MODEL_bedd963b1f3c46368c1950091fc81d0b",
       "value": "100%"
      }
     },
     "28f564fde6014e218a60be7cb286b003": {
      "model_module": "@jupyter-widgets/base",
      "model_module_version": "1.2.0",
      "model_name": "LayoutModel",
      "state": {}
     },
     "296b6bc54c5e4555ac243c96bfdeda5c": {
      "model_module": "@jupyter-widgets/controls",
      "model_module_version": "1.5.0",
      "model_name": "DescriptionStyleModel",
      "state": {
       "description_width": ""
      }
     },
     "29904b2df61a4669b50679760d226bee": {
      "model_module": "@jupyter-widgets/base",
      "model_module_version": "1.2.0",
      "model_name": "LayoutModel",
      "state": {}
     },
     "29a4c563af6240b7b9d4bc891f0781eb": {
      "model_module": "@jupyter-widgets/controls",
      "model_module_version": "1.5.0",
      "model_name": "ProgressStyleModel",
      "state": {
       "description_width": ""
      }
     },
     "29df2ffc0d074a3dae7301237f1dd2fa": {
      "model_module": "@jupyter-widgets/controls",
      "model_module_version": "1.5.0",
      "model_name": "HTMLModel",
      "state": {
       "layout": "IPY_MODEL_a28742e4353b45898368d0762296fcef",
       "style": "IPY_MODEL_5e28ab79d03c40e69bda1648a9048ed7",
       "value": " 370105/370105 [00:00&lt;00:00, 934014.23it/s]"
      }
     },
     "2a2e23dec680416b9ae15f3f4dd42fca": {
      "model_module": "@jupyter-widgets/controls",
      "model_module_version": "1.5.0",
      "model_name": "DescriptionStyleModel",
      "state": {
       "description_width": ""
      }
     },
     "2a54a90d66d74e7d9cfea0c77f0fadb4": {
      "model_module": "@jupyter-widgets/base",
      "model_module_version": "1.2.0",
      "model_name": "LayoutModel",
      "state": {}
     },
     "2b5b410f1e914d25ab130ef0f5a11fa1": {
      "model_module": "@jupyter-widgets/controls",
      "model_module_version": "1.5.0",
      "model_name": "FloatProgressModel",
      "state": {
       "bar_style": "success",
       "layout": "IPY_MODEL_a04917394a7b4c71abfee3eb6424971e",
       "max": 370105,
       "style": "IPY_MODEL_5f61fa67bf5542adbc82f174007bfa24",
       "value": 370105
      }
     },
     "2b8c8c9fdd874d97a0c6b8dd4ae5bad0": {
      "model_module": "@jupyter-widgets/base",
      "model_module_version": "1.2.0",
      "model_name": "LayoutModel",
      "state": {}
     },
     "2bc72689f4b54985ba8e6a13b205c905": {
      "model_module": "@jupyter-widgets/controls",
      "model_module_version": "1.5.0",
      "model_name": "HTMLModel",
      "state": {
       "layout": "IPY_MODEL_e1d534e04df643a4907dbb7c3a6ab5c6",
       "style": "IPY_MODEL_2a2e23dec680416b9ae15f3f4dd42fca",
       "value": " 370105/370105 [00:00&lt;00:00, 924941.45it/s]"
      }
     },
     "2cca6baf16984566a777ada54a2cef3e": {
      "model_module": "@jupyter-widgets/base",
      "model_module_version": "1.2.0",
      "model_name": "LayoutModel",
      "state": {}
     },
     "2ccb1cca1be641c09e553d5484bb7544": {
      "model_module": "@jupyter-widgets/base",
      "model_module_version": "1.2.0",
      "model_name": "LayoutModel",
      "state": {}
     },
     "2cd1069de9794854b9e04861d6c4f771": {
      "model_module": "@jupyter-widgets/controls",
      "model_module_version": "1.5.0",
      "model_name": "ProgressStyleModel",
      "state": {
       "description_width": ""
      }
     },
     "2cd403e0627e41268000d928d01854a4": {
      "model_module": "@jupyter-widgets/base",
      "model_module_version": "1.2.0",
      "model_name": "LayoutModel",
      "state": {}
     },
     "2d6f4d5c527c448692cbfcc1347921fe": {
      "model_module": "@jupyter-widgets/controls",
      "model_module_version": "1.5.0",
      "model_name": "DescriptionStyleModel",
      "state": {
       "description_width": ""
      }
     },
     "2de3951314f24b47805543f6870aed1c": {
      "model_module": "@jupyter-widgets/controls",
      "model_module_version": "1.5.0",
      "model_name": "HBoxModel",
      "state": {
       "children": [
        "IPY_MODEL_a576ca381ea849b9ae42cf15d85265b1",
        "IPY_MODEL_a755783dec1145ad8ed7725fd2a717ba",
        "IPY_MODEL_1523d4bb92bb467c8b14af42afa67d00"
       ],
       "layout": "IPY_MODEL_420e31e2e5f24f18889ad795fb393ae3"
      }
     },
     "2e0333b6ddb74e0aafbf3d08dca17c72": {
      "model_module": "@jupyter-widgets/base",
      "model_module_version": "1.2.0",
      "model_name": "LayoutModel",
      "state": {}
     },
     "2e04722242ac46a7ad280424be84359a": {
      "model_module": "@jupyter-widgets/controls",
      "model_module_version": "1.5.0",
      "model_name": "HBoxModel",
      "state": {
       "children": [
        "IPY_MODEL_ed46d85f8f7744da96930d21d2e9fbfd",
        "IPY_MODEL_1110b34fb9b44f259607b2c8d185b49b",
        "IPY_MODEL_282548cb4d72491f9a8e6511f48052fb"
       ],
       "layout": "IPY_MODEL_99d33d5da420494085a7a4a388eeae15"
      }
     },
     "2e39324c1a7a4b8ba597ec280af613ea": {
      "model_module": "@jupyter-widgets/controls",
      "model_module_version": "1.5.0",
      "model_name": "DescriptionStyleModel",
      "state": {
       "description_width": ""
      }
     },
     "2e5c5a1fd97f44e8a7c9019294ab55af": {
      "model_module": "@jupyter-widgets/controls",
      "model_module_version": "1.5.0",
      "model_name": "HTMLModel",
      "state": {
       "layout": "IPY_MODEL_6adf802900cf4238bc453a5be82eb22b",
       "style": "IPY_MODEL_cc515657745a496b867850f8df1d370e",
       "value": " 370105/370105 [00:00&lt;00:00, 937890.30it/s]"
      }
     },
     "2e7967dde7644f0998a0f18c58903c08": {
      "model_module": "@jupyter-widgets/controls",
      "model_module_version": "1.5.0",
      "model_name": "ProgressStyleModel",
      "state": {
       "description_width": ""
      }
     },
     "2e889c5818f5446cbd5878f5f2e8d71d": {
      "model_module": "@jupyter-widgets/base",
      "model_module_version": "1.2.0",
      "model_name": "LayoutModel",
      "state": {}
     },
     "2ea505971a744353846b2f8114c463bb": {
      "model_module": "@jupyter-widgets/controls",
      "model_module_version": "1.5.0",
      "model_name": "HBoxModel",
      "state": {
       "children": [
        "IPY_MODEL_e8d669002b3942c5b7ea26fadf678053",
        "IPY_MODEL_baaa6f51f8984ef18c38efc3d8a6e0b8",
        "IPY_MODEL_40b4e11891174afabc6d6683b172f9c9"
       ],
       "layout": "IPY_MODEL_87ba7bd19d2846908fc87bf1ffd3244b"
      }
     },
     "2f6084ba6c4e4cc4a4ea715f13e0bdd3": {
      "model_module": "@jupyter-widgets/controls",
      "model_module_version": "1.5.0",
      "model_name": "DescriptionStyleModel",
      "state": {
       "description_width": ""
      }
     },
     "2f922fe7fac14bde92dfe294fb6927be": {
      "model_module": "@jupyter-widgets/controls",
      "model_module_version": "1.5.0",
      "model_name": "FloatProgressModel",
      "state": {
       "bar_style": "success",
       "layout": "IPY_MODEL_19506b37615d40b6a3ed67ddf6aeaf4e",
       "max": 370105,
       "style": "IPY_MODEL_5bacf83308f8482e9eb0989ec4d261d0",
       "value": 370105
      }
     },
     "2fc29ac213cd4776993cfb495571b6f5": {
      "model_module": "@jupyter-widgets/controls",
      "model_module_version": "1.5.0",
      "model_name": "DescriptionStyleModel",
      "state": {
       "description_width": ""
      }
     },
     "2fdc76fcba7a4e00998774a597a85a50": {
      "model_module": "@jupyter-widgets/controls",
      "model_module_version": "1.5.0",
      "model_name": "HTMLModel",
      "state": {
       "layout": "IPY_MODEL_eb1afe5d589f4993885cb33788bd9a31",
       "style": "IPY_MODEL_45b5b143809e4abda7e4931ad31ebac4",
       "value": "100%"
      }
     },
     "3005e203f28d4c5ab87eb4c992dc20fe": {
      "model_module": "@jupyter-widgets/controls",
      "model_module_version": "1.5.0",
      "model_name": "FloatProgressModel",
      "state": {
       "bar_style": "success",
       "layout": "IPY_MODEL_6d9eb967beed4ad587e886ee86d2ca7e",
       "max": 370105,
       "style": "IPY_MODEL_a32ce793f62a42a29fd85df3b22c94b8",
       "value": 370105
      }
     },
     "303d9734d90b4e05aaa9780b11f9bea7": {
      "model_module": "@jupyter-widgets/base",
      "model_module_version": "1.2.0",
      "model_name": "LayoutModel",
      "state": {}
     },
     "305ced3f6c1547e1b3e0d22b556060bf": {
      "model_module": "@jupyter-widgets/controls",
      "model_module_version": "1.5.0",
      "model_name": "HTMLModel",
      "state": {
       "layout": "IPY_MODEL_17238f468a82471da99dd910e58a5d7c",
       "style": "IPY_MODEL_59b6380cbf124ec7bdc8e139fd64d841",
       "value": " 370105/370105 [00:00&lt;00:00, 942426.38it/s]"
      }
     },
     "305d709e13d74fe7b237d26de3bd3286": {
      "model_module": "@jupyter-widgets/controls",
      "model_module_version": "1.5.0",
      "model_name": "DescriptionStyleModel",
      "state": {
       "description_width": ""
      }
     },
     "30a04e4cd78c48e086e088c82d6e6ad0": {
      "model_module": "@jupyter-widgets/controls",
      "model_module_version": "1.5.0",
      "model_name": "DescriptionStyleModel",
      "state": {
       "description_width": ""
      }
     },
     "31ebacda50c644ca974cc55940de81d9": {
      "model_module": "@jupyter-widgets/base",
      "model_module_version": "1.2.0",
      "model_name": "LayoutModel",
      "state": {}
     },
     "326330a688984bf995e7acff6fdd128a": {
      "model_module": "@jupyter-widgets/controls",
      "model_module_version": "1.5.0",
      "model_name": "DescriptionStyleModel",
      "state": {
       "description_width": ""
      }
     },
     "326fe36f8e1f41d1a712739e845f9592": {
      "model_module": "@jupyter-widgets/controls",
      "model_module_version": "1.5.0",
      "model_name": "HTMLModel",
      "state": {
       "layout": "IPY_MODEL_05cb4d24daa149ebaebd4fbe92ed9459",
       "style": "IPY_MODEL_e8176264a10943469a27625ee20c2d07",
       "value": "100%"
      }
     },
     "3294ca40cdf54e7db4c5e7ba69974b0d": {
      "model_module": "@jupyter-widgets/base",
      "model_module_version": "1.2.0",
      "model_name": "LayoutModel",
      "state": {}
     },
     "32d464937da1461895dd4b25987d0ff7": {
      "model_module": "@jupyter-widgets/base",
      "model_module_version": "1.2.0",
      "model_name": "LayoutModel",
      "state": {}
     },
     "334887a8829d4c9cad251ab0fc2044ae": {
      "model_module": "@jupyter-widgets/base",
      "model_module_version": "1.2.0",
      "model_name": "LayoutModel",
      "state": {}
     },
     "33823448457b4f55b4aa0aeecf3cead9": {
      "model_module": "@jupyter-widgets/controls",
      "model_module_version": "1.5.0",
      "model_name": "DescriptionStyleModel",
      "state": {
       "description_width": ""
      }
     },
     "33acb9c1cd0a4addb807804d763c9d68": {
      "model_module": "@jupyter-widgets/controls",
      "model_module_version": "1.5.0",
      "model_name": "HBoxModel",
      "state": {
       "children": [
        "IPY_MODEL_541fbecafd874c73a309da76b9a53060",
        "IPY_MODEL_c21f8e38bc6d4b99ad75fb437040e7a2",
        "IPY_MODEL_f3278cb6a7684ac18889595d91d7ce4c"
       ],
       "layout": "IPY_MODEL_80316cdfc7b143e4b3a725b8a24fa051"
      }
     },
     "3421642a7b304c0a9cd59a4460a2355d": {
      "model_module": "@jupyter-widgets/base",
      "model_module_version": "1.2.0",
      "model_name": "LayoutModel",
      "state": {}
     },
     "343f168bcc144f5fac4846a12797ae4e": {
      "model_module": "@jupyter-widgets/controls",
      "model_module_version": "1.5.0",
      "model_name": "HTMLModel",
      "state": {
       "layout": "IPY_MODEL_ce37fcce029f4d6f8ae19231985b3ea7",
       "style": "IPY_MODEL_9c9a7dcf40be4cb192cfb8517fdbf5ac",
       "value": " 370105/370105 [00:00&lt;00:00, 936227.94it/s]"
      }
     },
     "34441e8753c64e45831b3c1344a317a0": {
      "model_module": "@jupyter-widgets/controls",
      "model_module_version": "1.5.0",
      "model_name": "HTMLModel",
      "state": {
       "layout": "IPY_MODEL_76cedd8d02714eafbbcb327237fab0d4",
       "style": "IPY_MODEL_2f6084ba6c4e4cc4a4ea715f13e0bdd3",
       "value": "100%"
      }
     },
     "34877056801d44adaba11d15cf592067": {
      "model_module": "@jupyter-widgets/base",
      "model_module_version": "1.2.0",
      "model_name": "LayoutModel",
      "state": {}
     },
     "3493c90a71664f38921ba698c3d72186": {
      "model_module": "@jupyter-widgets/base",
      "model_module_version": "1.2.0",
      "model_name": "LayoutModel",
      "state": {}
     },
     "34b38741e46745dfa1e033470c5e848a": {
      "model_module": "@jupyter-widgets/base",
      "model_module_version": "1.2.0",
      "model_name": "LayoutModel",
      "state": {}
     },
     "34f25607478b4cd5bc6e003dae073175": {
      "model_module": "@jupyter-widgets/controls",
      "model_module_version": "1.5.0",
      "model_name": "HBoxModel",
      "state": {
       "children": [
        "IPY_MODEL_70f49182d49d456ebd01e2d8433919ff",
        "IPY_MODEL_8726009d103c46deabbee1fd740a0d38",
        "IPY_MODEL_2bc72689f4b54985ba8e6a13b205c905"
       ],
       "layout": "IPY_MODEL_ce379689ae744d209de6aedfd31c4b05"
      }
     },
     "356a6e077a2e452eb32b3e0c74ca6151": {
      "model_module": "@jupyter-widgets/controls",
      "model_module_version": "1.5.0",
      "model_name": "ProgressStyleModel",
      "state": {
       "description_width": ""
      }
     },
     "3606d7aeb3fa4be7bc8f4d6590690254": {
      "model_module": "@jupyter-widgets/base",
      "model_module_version": "1.2.0",
      "model_name": "LayoutModel",
      "state": {}
     },
     "360ade413e7744e0b3bfbfcd5146e806": {
      "model_module": "@jupyter-widgets/controls",
      "model_module_version": "1.5.0",
      "model_name": "HBoxModel",
      "state": {
       "children": [
        "IPY_MODEL_fed50c5462454d608066b9bfce025b5d",
        "IPY_MODEL_8c33be67e65d4465903ca17f71e0bcaf",
        "IPY_MODEL_7be0e547bad34a7ea130ad5026ca2846"
       ],
       "layout": "IPY_MODEL_20ad1858a34248daa3c5c9c830aa9a66"
      }
     },
     "36746b86d6984dcf833cc68149e98f67": {
      "model_module": "@jupyter-widgets/base",
      "model_module_version": "1.2.0",
      "model_name": "LayoutModel",
      "state": {}
     },
     "36bf45eb14dd4248a6eca69f7150b851": {
      "model_module": "@jupyter-widgets/controls",
      "model_module_version": "1.5.0",
      "model_name": "HTMLModel",
      "state": {
       "layout": "IPY_MODEL_93cd60af169543889461790794443a0b",
       "style": "IPY_MODEL_80e759a7bacb4590b465f4a4d5a3c0e3",
       "value": " 370105/370105 [00:00&lt;00:00, 838080.54it/s]"
      }
     },
     "36bff2cbc38a4981ba35d3b77486a4d4": {
      "model_module": "@jupyter-widgets/controls",
      "model_module_version": "1.5.0",
      "model_name": "ProgressStyleModel",
      "state": {
       "description_width": ""
      }
     },
     "36d2187f1f7543ecae872243ef807a59": {
      "model_module": "@jupyter-widgets/base",
      "model_module_version": "1.2.0",
      "model_name": "LayoutModel",
      "state": {}
     },
     "3768d598f05343ae89098ba4c9336681": {
      "model_module": "@jupyter-widgets/base",
      "model_module_version": "1.2.0",
      "model_name": "LayoutModel",
      "state": {}
     },
     "38422789977a49d6a915f57c4fe133be": {
      "model_module": "@jupyter-widgets/base",
      "model_module_version": "1.2.0",
      "model_name": "LayoutModel",
      "state": {}
     },
     "387086e2e27345c1b4b2354076051208": {
      "model_module": "@jupyter-widgets/controls",
      "model_module_version": "1.5.0",
      "model_name": "DescriptionStyleModel",
      "state": {
       "description_width": ""
      }
     },
     "3882145d0f0b474ab929d51081c4d6a5": {
      "model_module": "@jupyter-widgets/controls",
      "model_module_version": "1.5.0",
      "model_name": "HTMLModel",
      "state": {
       "layout": "IPY_MODEL_b40d333130ed4de2abde4743e61d7ad5",
       "style": "IPY_MODEL_141e04012d7e441bacde264eb4182bc6",
       "value": " 370105/370105 [00:00&lt;00:00, 950803.73it/s]"
      }
     },
     "388d7b207c0c4e17bfccf7d619182d0c": {
      "model_module": "@jupyter-widgets/base",
      "model_module_version": "1.2.0",
      "model_name": "LayoutModel",
      "state": {}
     },
     "38c1f45f083940b2ae261f728f464a6b": {
      "model_module": "@jupyter-widgets/controls",
      "model_module_version": "1.5.0",
      "model_name": "ProgressStyleModel",
      "state": {
       "description_width": ""
      }
     },
     "390811ef2c4f4e058f6a339d17ae3cc2": {
      "model_module": "@jupyter-widgets/base",
      "model_module_version": "1.2.0",
      "model_name": "LayoutModel",
      "state": {}
     },
     "39a645f80cda452b8f1ff6bca9e8fc87": {
      "model_module": "@jupyter-widgets/base",
      "model_module_version": "1.2.0",
      "model_name": "LayoutModel",
      "state": {}
     },
     "39c95a16b210406aabd20dbb24ee83db": {
      "model_module": "@jupyter-widgets/controls",
      "model_module_version": "1.5.0",
      "model_name": "HTMLModel",
      "state": {
       "layout": "IPY_MODEL_ea25f68b22e7493995edab23a7a30a8f",
       "style": "IPY_MODEL_96030af6584f4fb4ad4d935b1bc87a34",
       "value": "100%"
      }
     },
     "3a01e5d40cba4484b8f20958c79f64aa": {
      "model_module": "@jupyter-widgets/controls",
      "model_module_version": "1.5.0",
      "model_name": "HTMLModel",
      "state": {
       "layout": "IPY_MODEL_18753f42066040db97e2459eb7ce540f",
       "style": "IPY_MODEL_fae22e697b6e4c8e8e7035fb1364a355",
       "value": " 370105/370105 [00:00&lt;00:00, 942598.65it/s]"
      }
     },
     "3a503f49ce08441da938f47e55b57349": {
      "model_module": "@jupyter-widgets/controls",
      "model_module_version": "1.5.0",
      "model_name": "ProgressStyleModel",
      "state": {
       "description_width": ""
      }
     },
     "3ab83261036b4daebcf33234345fe36d": {
      "model_module": "@jupyter-widgets/controls",
      "model_module_version": "1.5.0",
      "model_name": "HTMLModel",
      "state": {
       "layout": "IPY_MODEL_5acce9f242384836b7c44eca43a20d8e",
       "style": "IPY_MODEL_955b9bd3a1234620827432b88f24f48c",
       "value": " 370105/370105 [00:00&lt;00:00, 925793.25it/s]"
      }
     },
     "3b59e968dd224d328566cd3fcf6057aa": {
      "model_module": "@jupyter-widgets/controls",
      "model_module_version": "1.5.0",
      "model_name": "FloatProgressModel",
      "state": {
       "bar_style": "success",
       "layout": "IPY_MODEL_390811ef2c4f4e058f6a339d17ae3cc2",
       "max": 370105,
       "style": "IPY_MODEL_6350d6d283374478b686b3503b11b5b6",
       "value": 370105
      }
     },
     "3b68a9d0128d40928c38f51abd81ca9d": {
      "model_module": "@jupyter-widgets/controls",
      "model_module_version": "1.5.0",
      "model_name": "HBoxModel",
      "state": {
       "children": [
        "IPY_MODEL_dd4f5c4872684487ac7be1f0c8037561",
        "IPY_MODEL_bc1f8235204b49798a763b95966c50de",
        "IPY_MODEL_3a01e5d40cba4484b8f20958c79f64aa"
       ],
       "layout": "IPY_MODEL_01775bfab27c49e8bb791bf8f33226da"
      }
     },
     "3d687406f95b4f7a9e482f9e7e148980": {
      "model_module": "@jupyter-widgets/base",
      "model_module_version": "1.2.0",
      "model_name": "LayoutModel",
      "state": {}
     },
     "3df39b5af7f44075ad3c8284f61fce81": {
      "model_module": "@jupyter-widgets/base",
      "model_module_version": "1.2.0",
      "model_name": "LayoutModel",
      "state": {}
     },
     "3e69b38794ce4cacbb0e19c66cf70c21": {
      "model_module": "@jupyter-widgets/controls",
      "model_module_version": "1.5.0",
      "model_name": "HTMLModel",
      "state": {
       "layout": "IPY_MODEL_d38db1630e634509bd873c5479cf8a47",
       "style": "IPY_MODEL_03e542e166104c07a0793cdd392adf93",
       "value": "100%"
      }
     },
     "3ef642089f0c47acbead9041e5b0ebc4": {
      "model_module": "@jupyter-widgets/controls",
      "model_module_version": "1.5.0",
      "model_name": "DescriptionStyleModel",
      "state": {
       "description_width": ""
      }
     },
     "3f0c88bed2e04e53ac64694eaadd37e8": {
      "model_module": "@jupyter-widgets/controls",
      "model_module_version": "1.5.0",
      "model_name": "DescriptionStyleModel",
      "state": {
       "description_width": ""
      }
     },
     "3fb1b31aacff45ae93f89816a0bac5b1": {
      "model_module": "@jupyter-widgets/base",
      "model_module_version": "1.2.0",
      "model_name": "LayoutModel",
      "state": {}
     },
     "3fb51b69e70844989c9fba78e5ff5e64": {
      "model_module": "@jupyter-widgets/controls",
      "model_module_version": "1.5.0",
      "model_name": "FloatProgressModel",
      "state": {
       "bar_style": "success",
       "layout": "IPY_MODEL_303d9734d90b4e05aaa9780b11f9bea7",
       "max": 370105,
       "style": "IPY_MODEL_f5300c0d87884c9899c290208862cf1f",
       "value": 370105
      }
     },
     "3fc05d5fd25b48ecb951d7ec09cbaa1a": {
      "model_module": "@jupyter-widgets/controls",
      "model_module_version": "1.5.0",
      "model_name": "FloatProgressModel",
      "state": {
       "bar_style": "success",
       "layout": "IPY_MODEL_3421642a7b304c0a9cd59a4460a2355d",
       "max": 370105,
       "style": "IPY_MODEL_643fb4c282b54529824215e0a7fdef1c",
       "value": 370105
      }
     },
     "4022a5c39151444ba81e8aa0aec2e0a3": {
      "model_module": "@jupyter-widgets/base",
      "model_module_version": "1.2.0",
      "model_name": "LayoutModel",
      "state": {}
     },
     "4085c5d086474ba0810a4b15bc6bb6e0": {
      "model_module": "@jupyter-widgets/controls",
      "model_module_version": "1.5.0",
      "model_name": "HTMLModel",
      "state": {
       "layout": "IPY_MODEL_e60f7d5affd74218aa11a61ac1727091",
       "style": "IPY_MODEL_7a24224a9b644ac38df3f80e8090a9a7",
       "value": "100%"
      }
     },
     "40900026c7604d579ca7bd87691a22d8": {
      "model_module": "@jupyter-widgets/controls",
      "model_module_version": "1.5.0",
      "model_name": "DescriptionStyleModel",
      "state": {
       "description_width": ""
      }
     },
     "40b0d1a6d3814f00915524a40377db8e": {
      "model_module": "@jupyter-widgets/controls",
      "model_module_version": "1.5.0",
      "model_name": "HTMLModel",
      "state": {
       "layout": "IPY_MODEL_3df39b5af7f44075ad3c8284f61fce81",
       "style": "IPY_MODEL_06dad49c2f714cd78810f58d5cea55c3",
       "value": " 370105/370105 [00:00&lt;00:00, 936317.20it/s]"
      }
     },
     "40b4e11891174afabc6d6683b172f9c9": {
      "model_module": "@jupyter-widgets/controls",
      "model_module_version": "1.5.0",
      "model_name": "HTMLModel",
      "state": {
       "layout": "IPY_MODEL_a763f21cf99644ce99abcdba11164ea7",
       "style": "IPY_MODEL_0f21a90b3e6e4f1e9ffe1c512c89ccbf",
       "value": " 370105/370105 [00:00&lt;00:00, 940307.92it/s]"
      }
     },
     "41471ad0fd114b04bfede2468587f50d": {
      "model_module": "@jupyter-widgets/controls",
      "model_module_version": "1.5.0",
      "model_name": "ProgressStyleModel",
      "state": {
       "description_width": ""
      }
     },
     "41670f50a006437c98680a844abcab86": {
      "model_module": "@jupyter-widgets/controls",
      "model_module_version": "1.5.0",
      "model_name": "DescriptionStyleModel",
      "state": {
       "description_width": ""
      }
     },
     "4194320fab894aac9038b7224b261988": {
      "model_module": "@jupyter-widgets/controls",
      "model_module_version": "1.5.0",
      "model_name": "HTMLModel",
      "state": {
       "layout": "IPY_MODEL_bfbf0aa125e74781a1ecce5433e1fc2a",
       "style": "IPY_MODEL_d3ef98d1ce6a4aeaa79c42d20d63a9e2",
       "value": "100%"
      }
     },
     "41c764ef22354c5c9840ace20059982f": {
      "model_module": "@jupyter-widgets/base",
      "model_module_version": "1.2.0",
      "model_name": "LayoutModel",
      "state": {}
     },
     "420e31e2e5f24f18889ad795fb393ae3": {
      "model_module": "@jupyter-widgets/base",
      "model_module_version": "1.2.0",
      "model_name": "LayoutModel",
      "state": {}
     },
     "42422061c71441c0998666de0ba09f9f": {
      "model_module": "@jupyter-widgets/base",
      "model_module_version": "1.2.0",
      "model_name": "LayoutModel",
      "state": {}
     },
     "42af35ca5dc141f3a8e1fb145a010302": {
      "model_module": "@jupyter-widgets/base",
      "model_module_version": "1.2.0",
      "model_name": "LayoutModel",
      "state": {}
     },
     "42b413419c5748029aac26db62a06588": {
      "model_module": "@jupyter-widgets/base",
      "model_module_version": "1.2.0",
      "model_name": "LayoutModel",
      "state": {}
     },
     "42d46f894d7b40b9bbd75550b42fff53": {
      "model_module": "@jupyter-widgets/base",
      "model_module_version": "1.2.0",
      "model_name": "LayoutModel",
      "state": {}
     },
     "42d6a7d762034a7eaf2b87dbac43f1b6": {
      "model_module": "@jupyter-widgets/controls",
      "model_module_version": "1.5.0",
      "model_name": "FloatProgressModel",
      "state": {
       "bar_style": "success",
       "layout": "IPY_MODEL_4f08b2f5057d44d59ec7cd45165833ef",
       "max": 370105,
       "style": "IPY_MODEL_5e287e77bc7542098444d51c25390e74",
       "value": 370105
      }
     },
     "4338ad334967456696719df9e0275938": {
      "model_module": "@jupyter-widgets/controls",
      "model_module_version": "1.5.0",
      "model_name": "HTMLModel",
      "state": {
       "layout": "IPY_MODEL_65ca663ed19e4009aa4ab3206d2c2352",
       "style": "IPY_MODEL_97e39ba1b992485085f9583b0b1326b7",
       "value": " 370105/370105 [00:00&lt;00:00, 938447.74it/s]"
      }
     },
     "43965c21fc564d9a8f138d2de4cebb03": {
      "model_module": "@jupyter-widgets/base",
      "model_module_version": "1.2.0",
      "model_name": "LayoutModel",
      "state": {}
     },
     "442a85214b20421b82448a968444c235": {
      "model_module": "@jupyter-widgets/base",
      "model_module_version": "1.2.0",
      "model_name": "LayoutModel",
      "state": {}
     },
     "442fd03ee8b44ffe8de89e1522b48080": {
      "model_module": "@jupyter-widgets/controls",
      "model_module_version": "1.5.0",
      "model_name": "ProgressStyleModel",
      "state": {
       "description_width": ""
      }
     },
     "444ffabea5484d1696d6ff2e998f9485": {
      "model_module": "@jupyter-widgets/controls",
      "model_module_version": "1.5.0",
      "model_name": "HTMLModel",
      "state": {
       "layout": "IPY_MODEL_e4405ee42f274300aabed3831c8c12ea",
       "style": "IPY_MODEL_90e4c196c9ea4e058b021536ef80a84f",
       "value": " 370105/370105 [00:00&lt;00:00, 975531.07it/s]"
      }
     },
     "447f2ceb3b87441f8c22db0086fe515a": {
      "model_module": "@jupyter-widgets/controls",
      "model_module_version": "1.5.0",
      "model_name": "DescriptionStyleModel",
      "state": {
       "description_width": ""
      }
     },
     "4520b6f07ab844de83f2fbdf978d0e46": {
      "model_module": "@jupyter-widgets/controls",
      "model_module_version": "1.5.0",
      "model_name": "HTMLModel",
      "state": {
       "layout": "IPY_MODEL_499edb037c48461db6ee08bb979d0dfc",
       "style": "IPY_MODEL_41670f50a006437c98680a844abcab86",
       "value": " 370105/370105 [00:00&lt;00:00, 900621.93it/s]"
      }
     },
     "45b5b143809e4abda7e4931ad31ebac4": {
      "model_module": "@jupyter-widgets/controls",
      "model_module_version": "1.5.0",
      "model_name": "DescriptionStyleModel",
      "state": {
       "description_width": ""
      }
     },
     "4625df1ab0ce416198b1a5bf884ac05f": {
      "model_module": "@jupyter-widgets/base",
      "model_module_version": "1.2.0",
      "model_name": "LayoutModel",
      "state": {}
     },
     "4649d1b8b3b5470fa4df8faf71da0e37": {
      "model_module": "@jupyter-widgets/base",
      "model_module_version": "1.2.0",
      "model_name": "LayoutModel",
      "state": {}
     },
     "4688e3205739444db74448ca27017320": {
      "model_module": "@jupyter-widgets/controls",
      "model_module_version": "1.5.0",
      "model_name": "HBoxModel",
      "state": {
       "children": [
        "IPY_MODEL_bd2704f820914baaa9d8c8f223a3e8b5",
        "IPY_MODEL_2f922fe7fac14bde92dfe294fb6927be",
        "IPY_MODEL_695f918f4731453c8c9ac382feaeea8f"
       ],
       "layout": "IPY_MODEL_3768d598f05343ae89098ba4c9336681"
      }
     },
     "4691ec81af444e1a907e4b2bdc979810": {
      "model_module": "@jupyter-widgets/controls",
      "model_module_version": "1.5.0",
      "model_name": "DescriptionStyleModel",
      "state": {
       "description_width": ""
      }
     },
     "46b2ca1fcb6f4e68b72ede0a9161ec5b": {
      "model_module": "@jupyter-widgets/controls",
      "model_module_version": "1.5.0",
      "model_name": "DescriptionStyleModel",
      "state": {
       "description_width": ""
      }
     },
     "470056309fd341ffb3fd1e98e18650d3": {
      "model_module": "@jupyter-widgets/base",
      "model_module_version": "1.2.0",
      "model_name": "LayoutModel",
      "state": {}
     },
     "47099999ffe04044999ae246c0c7fde4": {
      "model_module": "@jupyter-widgets/base",
      "model_module_version": "1.2.0",
      "model_name": "LayoutModel",
      "state": {}
     },
     "473f441f608b44af968478db5df3edb2": {
      "model_module": "@jupyter-widgets/controls",
      "model_module_version": "1.5.0",
      "model_name": "FloatProgressModel",
      "state": {
       "bar_style": "success",
       "layout": "IPY_MODEL_b1f773e4f7a84e1292a9ac4cfbd800e8",
       "max": 370105,
       "style": "IPY_MODEL_e5dcd33c8c4b49179a5469fe959d9164",
       "value": 370105
      }
     },
     "492b43be1a074d029afc9334b453ff4d": {
      "model_module": "@jupyter-widgets/controls",
      "model_module_version": "1.5.0",
      "model_name": "DescriptionStyleModel",
      "state": {
       "description_width": ""
      }
     },
     "49640f2391794614841b1eb018aac23d": {
      "model_module": "@jupyter-widgets/controls",
      "model_module_version": "1.5.0",
      "model_name": "DescriptionStyleModel",
      "state": {
       "description_width": ""
      }
     },
     "499edb037c48461db6ee08bb979d0dfc": {
      "model_module": "@jupyter-widgets/base",
      "model_module_version": "1.2.0",
      "model_name": "LayoutModel",
      "state": {}
     },
     "4a38131fd9a54fbc81f3fb7f906ca10e": {
      "model_module": "@jupyter-widgets/controls",
      "model_module_version": "1.5.0",
      "model_name": "DescriptionStyleModel",
      "state": {
       "description_width": ""
      }
     },
     "4a3fab2f99a4494cb800ed2cc46a4d04": {
      "model_module": "@jupyter-widgets/controls",
      "model_module_version": "1.5.0",
      "model_name": "DescriptionStyleModel",
      "state": {
       "description_width": ""
      }
     },
     "4a714eaa25754a5b8d7af43eb831fe1d": {
      "model_module": "@jupyter-widgets/controls",
      "model_module_version": "1.5.0",
      "model_name": "DescriptionStyleModel",
      "state": {
       "description_width": ""
      }
     },
     "4aaf54e48f9a412684fc7a0ae3ceb3fc": {
      "model_module": "@jupyter-widgets/base",
      "model_module_version": "1.2.0",
      "model_name": "LayoutModel",
      "state": {}
     },
     "4ae82a5892e046c1a8811dde33000158": {
      "model_module": "@jupyter-widgets/controls",
      "model_module_version": "1.5.0",
      "model_name": "FloatProgressModel",
      "state": {
       "bar_style": "success",
       "layout": "IPY_MODEL_42d46f894d7b40b9bbd75550b42fff53",
       "max": 370105,
       "style": "IPY_MODEL_3a503f49ce08441da938f47e55b57349",
       "value": 370105
      }
     },
     "4b398b81b93d40edabe065e0218dc7fe": {
      "model_module": "@jupyter-widgets/controls",
      "model_module_version": "1.5.0",
      "model_name": "DescriptionStyleModel",
      "state": {
       "description_width": ""
      }
     },
     "4b3edd8089b44d43bc51b797a90499bf": {
      "model_module": "@jupyter-widgets/controls",
      "model_module_version": "1.5.0",
      "model_name": "HBoxModel",
      "state": {
       "children": [
        "IPY_MODEL_502abcb9bac84e8193c47aeb4f25813c",
        "IPY_MODEL_eb5cb48477a64c29a740c627137501cd",
        "IPY_MODEL_ab4811b0103d47e38f57fdeadfe56729"
       ],
       "layout": "IPY_MODEL_3294ca40cdf54e7db4c5e7ba69974b0d"
      }
     },
     "4bf4e9b733dd4f29a1130987fd6b4b13": {
      "model_module": "@jupyter-widgets/base",
      "model_module_version": "1.2.0",
      "model_name": "LayoutModel",
      "state": {}
     },
     "4c135ab6d3f141ceba6b1a351f619c06": {
      "model_module": "@jupyter-widgets/controls",
      "model_module_version": "1.5.0",
      "model_name": "ProgressStyleModel",
      "state": {
       "description_width": ""
      }
     },
     "4c560e8c9f78496086a66b810c8ac73e": {
      "model_module": "@jupyter-widgets/controls",
      "model_module_version": "1.5.0",
      "model_name": "FloatProgressModel",
      "state": {
       "bar_style": "success",
       "layout": "IPY_MODEL_36746b86d6984dcf833cc68149e98f67",
       "max": 370105,
       "style": "IPY_MODEL_781e61d7f3b54522a51d6c4f7a6d46a6",
       "value": 370105
      }
     },
     "4c586fec328e4b21abfbd4608009c214": {
      "model_module": "@jupyter-widgets/controls",
      "model_module_version": "1.5.0",
      "model_name": "HTMLModel",
      "state": {
       "layout": "IPY_MODEL_c1232bb65ada4ca9ae8ca7321587871f",
       "style": "IPY_MODEL_a7a41d2b2f2d46bda96c4329bb2be207",
       "value": " 370105/370105 [00:00&lt;00:00, 927343.91it/s]"
      }
     },
     "4c77e91900e948a09c7a6cee4ee9b0f5": {
      "model_module": "@jupyter-widgets/base",
      "model_module_version": "1.2.0",
      "model_name": "LayoutModel",
      "state": {}
     },
     "4c795395b77441cc83506548daffca82": {
      "model_module": "@jupyter-widgets/base",
      "model_module_version": "1.2.0",
      "model_name": "LayoutModel",
      "state": {}
     },
     "4c93944bd6484dd99c0411e040bedec4": {
      "model_module": "@jupyter-widgets/controls",
      "model_module_version": "1.5.0",
      "model_name": "HBoxModel",
      "state": {
       "children": [
        "IPY_MODEL_9fbfec1615474b9f9ce91a920c73c331",
        "IPY_MODEL_cfa723321022422d96112309cfd06882",
        "IPY_MODEL_145baa3fb4694daaa2395e31d9f1827e"
       ],
       "layout": "IPY_MODEL_68e6acb99d7e48969fc0fe23ad871ceb"
      }
     },
     "4cb8459c33d842cc930b8533bda4a022": {
      "model_module": "@jupyter-widgets/base",
      "model_module_version": "1.2.0",
      "model_name": "LayoutModel",
      "state": {}
     },
     "4cdd975383b34ee2b45f8e0f9b601568": {
      "model_module": "@jupyter-widgets/controls",
      "model_module_version": "1.5.0",
      "model_name": "HBoxModel",
      "state": {
       "children": [
        "IPY_MODEL_7fada2d4cfbf4bd8a9f204354ed8e80b",
        "IPY_MODEL_f7873a01375449ceb12c9d69e311f101",
        "IPY_MODEL_4520b6f07ab844de83f2fbdf978d0e46"
       ],
       "layout": "IPY_MODEL_bc96e5d8a316463886061216fb0512ee"
      }
     },
     "4cfdeb06208849f1b28d35b43c88895e": {
      "model_module": "@jupyter-widgets/controls",
      "model_module_version": "1.5.0",
      "model_name": "HTMLModel",
      "state": {
       "layout": "IPY_MODEL_a058548ef11943f78673f3e86b44ca9e",
       "style": "IPY_MODEL_90bfd12d0ce54275bdc5e65ec8b0a285",
       "value": " 370105/370105 [00:00&lt;00:00, 937716.74it/s]"
      }
     },
     "4d0ad09b372a402fb355aaebd00ffe67": {
      "model_module": "@jupyter-widgets/controls",
      "model_module_version": "1.5.0",
      "model_name": "DescriptionStyleModel",
      "state": {
       "description_width": ""
      }
     },
     "4d147e237ba2463b8e6c5f4eb8b7225e": {
      "model_module": "@jupyter-widgets/base",
      "model_module_version": "1.2.0",
      "model_name": "LayoutModel",
      "state": {}
     },
     "4d515d4293f24849964e726dddd6b7d5": {
      "model_module": "@jupyter-widgets/controls",
      "model_module_version": "1.5.0",
      "model_name": "HTMLModel",
      "state": {
       "layout": "IPY_MODEL_4c77e91900e948a09c7a6cee4ee9b0f5",
       "style": "IPY_MODEL_0d0caebf894e4d1d91ecab2c3d23d915",
       "value": "100%"
      }
     },
     "4d7c822d0d454ea8897936ecbf0d1b11": {
      "model_module": "@jupyter-widgets/base",
      "model_module_version": "1.2.0",
      "model_name": "LayoutModel",
      "state": {}
     },
     "4e25374ac1a34279aca3b88863d1deec": {
      "model_module": "@jupyter-widgets/base",
      "model_module_version": "1.2.0",
      "model_name": "LayoutModel",
      "state": {}
     },
     "4e41849308df474ea1cb6fef9620eea9": {
      "model_module": "@jupyter-widgets/base",
      "model_module_version": "1.2.0",
      "model_name": "LayoutModel",
      "state": {}
     },
     "4e89da10d1c24a42ab3ebdce40d5044e": {
      "model_module": "@jupyter-widgets/controls",
      "model_module_version": "1.5.0",
      "model_name": "HTMLModel",
      "state": {
       "layout": "IPY_MODEL_9817195e604947f28966db83ad662ae7",
       "style": "IPY_MODEL_d2493be3525f45e5bc6f6628e5c7d566",
       "value": " 370105/370105 [00:00&lt;00:00, 930332.59it/s]"
      }
     },
     "4e8a314677624781933ea3aa344908cf": {
      "model_module": "@jupyter-widgets/base",
      "model_module_version": "1.2.0",
      "model_name": "LayoutModel",
      "state": {}
     },
     "4e95e4ecc650443eaff80a0198c17e6d": {
      "model_module": "@jupyter-widgets/controls",
      "model_module_version": "1.5.0",
      "model_name": "FloatProgressModel",
      "state": {
       "bar_style": "success",
       "layout": "IPY_MODEL_d97983f442df43139719541c0802588c",
       "max": 370105,
       "style": "IPY_MODEL_720247ecafbb4fa7945083d3abae85e3",
       "value": 370105
      }
     },
     "4effc7cdf01d4602880f7d509c9d8798": {
      "model_module": "@jupyter-widgets/controls",
      "model_module_version": "1.5.0",
      "model_name": "HTMLModel",
      "state": {
       "layout": "IPY_MODEL_d3f7ab71a50f415aa46ca68bfcfc5dfa",
       "style": "IPY_MODEL_b7155339a2444bd6ba48f41f6b83a53e",
       "value": " 370105/370105 [00:00&lt;00:00, 931475.63it/s]"
      }
     },
     "4f08b2f5057d44d59ec7cd45165833ef": {
      "model_module": "@jupyter-widgets/base",
      "model_module_version": "1.2.0",
      "model_name": "LayoutModel",
      "state": {}
     },
     "4f83d1f74fda4cd59440e66d8863d0a5": {
      "model_module": "@jupyter-widgets/controls",
      "model_module_version": "1.5.0",
      "model_name": "ProgressStyleModel",
      "state": {
       "description_width": ""
      }
     },
     "4faae7b0ecfc48f18f10509ee1c97539": {
      "model_module": "@jupyter-widgets/controls",
      "model_module_version": "1.5.0",
      "model_name": "ProgressStyleModel",
      "state": {
       "description_width": ""
      }
     },
     "4fd7e90ad11c4b2dafc9a332674b328c": {
      "model_module": "@jupyter-widgets/controls",
      "model_module_version": "1.5.0",
      "model_name": "HTMLModel",
      "state": {
       "layout": "IPY_MODEL_09cb8046013f4073a319befc3f71aebf",
       "style": "IPY_MODEL_b42969efc8d34b6f9efa168b68a45e40",
       "value": "100%"
      }
     },
     "4ff5409ab96647e98adeaec5314b2cb1": {
      "model_module": "@jupyter-widgets/controls",
      "model_module_version": "1.5.0",
      "model_name": "ProgressStyleModel",
      "state": {
       "description_width": ""
      }
     },
     "502abcb9bac84e8193c47aeb4f25813c": {
      "model_module": "@jupyter-widgets/controls",
      "model_module_version": "1.5.0",
      "model_name": "HTMLModel",
      "state": {
       "layout": "IPY_MODEL_c46be80c2903477fb8bbd1792c108d23",
       "style": "IPY_MODEL_95c086def96b460eb5c3f60958efdda4",
       "value": "100%"
      }
     },
     "50cf03a7ec764f61842823fe0c9e4471": {
      "model_module": "@jupyter-widgets/base",
      "model_module_version": "1.2.0",
      "model_name": "LayoutModel",
      "state": {}
     },
     "50f97b3948e24d339d90e0af4d1e2dab": {
      "model_module": "@jupyter-widgets/controls",
      "model_module_version": "1.5.0",
      "model_name": "ProgressStyleModel",
      "state": {
       "description_width": ""
      }
     },
     "511a4a6a8d484cd3ae91755b7dc2c49d": {
      "model_module": "@jupyter-widgets/controls",
      "model_module_version": "1.5.0",
      "model_name": "DescriptionStyleModel",
      "state": {
       "description_width": ""
      }
     },
     "5158c0fc6e6847e9a115315fb3782c8c": {
      "model_module": "@jupyter-widgets/controls",
      "model_module_version": "1.5.0",
      "model_name": "DescriptionStyleModel",
      "state": {
       "description_width": ""
      }
     },
     "515ea2adffdd43f0894d0aaf0885e719": {
      "model_module": "@jupyter-widgets/controls",
      "model_module_version": "1.5.0",
      "model_name": "HBoxModel",
      "state": {
       "children": [
        "IPY_MODEL_39c95a16b210406aabd20dbb24ee83db",
        "IPY_MODEL_d55befbaebaf42cc98a44861d180ce92",
        "IPY_MODEL_305ced3f6c1547e1b3e0d22b556060bf"
       ],
       "layout": "IPY_MODEL_4649d1b8b3b5470fa4df8faf71da0e37"
      }
     },
     "518bd97b0c7245c198b8290e2062672b": {
      "model_module": "@jupyter-widgets/base",
      "model_module_version": "1.2.0",
      "model_name": "LayoutModel",
      "state": {}
     },
     "51f2dae202b846048345570cd28b81d6": {
      "model_module": "@jupyter-widgets/controls",
      "model_module_version": "1.5.0",
      "model_name": "HBoxModel",
      "state": {
       "children": [
        "IPY_MODEL_ea7d81975b4b4a578ab29126273aa854",
        "IPY_MODEL_7ea757602bcc4b7ea4599f9003f1839a",
        "IPY_MODEL_115ba52b2a654edebfd5a8581dd9d0c6"
       ],
       "layout": "IPY_MODEL_e6d0b5583cc840ae8092ab623b9667f8"
      }
     },
     "521bea2944014c7f97f79fa9cd82534b": {
      "model_module": "@jupyter-widgets/controls",
      "model_module_version": "1.5.0",
      "model_name": "DescriptionStyleModel",
      "state": {
       "description_width": ""
      }
     },
     "5297e278244a4734a4dd68f9d1ecbe0e": {
      "model_module": "@jupyter-widgets/controls",
      "model_module_version": "1.5.0",
      "model_name": "HBoxModel",
      "state": {
       "children": [
        "IPY_MODEL_53ff800508d74e05ab9d64bedfbe2f52",
        "IPY_MODEL_e72e20b8878940c1973537ed01abc3aa",
        "IPY_MODEL_f5e7389c620e4bfd8da2078097f289eb"
       ],
       "layout": "IPY_MODEL_4e41849308df474ea1cb6fef9620eea9"
      }
     },
     "5311ff80df474ab38469e8af9679b64f": {
      "model_module": "@jupyter-widgets/controls",
      "model_module_version": "1.5.0",
      "model_name": "FloatProgressModel",
      "state": {
       "bar_style": "success",
       "layout": "IPY_MODEL_ddfe7b3df8684a16b83ea574732bd50f",
       "max": 370105,
       "style": "IPY_MODEL_f6c670f69e4b46cf8a4871a7abb7c1d4",
       "value": 370105
      }
     },
     "5316e04b348a4e0f85a7b9ec44c1f68f": {
      "model_module": "@jupyter-widgets/controls",
      "model_module_version": "1.5.0",
      "model_name": "DescriptionStyleModel",
      "state": {
       "description_width": ""
      }
     },
     "538245988685402385f5b27a1c39f30a": {
      "model_module": "@jupyter-widgets/controls",
      "model_module_version": "1.5.0",
      "model_name": "HBoxModel",
      "state": {
       "children": [
        "IPY_MODEL_d8fbd405badf4831847ae7c885080218",
        "IPY_MODEL_15f811d244a8446196b00705a9b0ea12",
        "IPY_MODEL_3ab83261036b4daebcf33234345fe36d"
       ],
       "layout": "IPY_MODEL_56e0ae4d7ba7470eaa62d096691390e5"
      }
     },
     "53ff800508d74e05ab9d64bedfbe2f52": {
      "model_module": "@jupyter-widgets/controls",
      "model_module_version": "1.5.0",
      "model_name": "HTMLModel",
      "state": {
       "layout": "IPY_MODEL_09aa641e8f8841f6a498e2ddbff19ebf",
       "style": "IPY_MODEL_1ab5dc59a63740b3acdf9a929e5a1ff3",
       "value": "100%"
      }
     },
     "541fbecafd874c73a309da76b9a53060": {
      "model_module": "@jupyter-widgets/controls",
      "model_module_version": "1.5.0",
      "model_name": "HTMLModel",
      "state": {
       "layout": "IPY_MODEL_7d35a0aa6d5e436782485b0e7ee4e243",
       "style": "IPY_MODEL_d89150ab8a274416aff9ac33e91987bb",
       "value": "100%"
      }
     },
     "5430a8b19c7a46a495e42e5a770b65bd": {
      "model_module": "@jupyter-widgets/controls",
      "model_module_version": "1.5.0",
      "model_name": "HBoxModel",
      "state": {
       "children": [
        "IPY_MODEL_607677ac10884aaba645f2d26f4fb325",
        "IPY_MODEL_8fc822f4a71f453ba994e77155519b94",
        "IPY_MODEL_7aaf8a24d26c4c2ba3dcf85e392d142d"
       ],
       "layout": "IPY_MODEL_80ca5cf5ba0c453595a5b9b8287b2ef8"
      }
     },
     "556715d490cf4df6841dd29ddfdcc776": {
      "model_module": "@jupyter-widgets/controls",
      "model_module_version": "1.5.0",
      "model_name": "DescriptionStyleModel",
      "state": {
       "description_width": ""
      }
     },
     "5591b38858a54547b02cee794ea4fd64": {
      "model_module": "@jupyter-widgets/controls",
      "model_module_version": "1.5.0",
      "model_name": "HTMLModel",
      "state": {
       "layout": "IPY_MODEL_800ea150cb8b4ad08592e211131c4f91",
       "style": "IPY_MODEL_17f5c729aefe4e639ee6a049ce96ef66",
       "value": " 370105/370105 [00:00&lt;00:00, 916739.49it/s]"
      }
     },
     "5592c591261d42a0ab1ffc0d3d89cafa": {
      "model_module": "@jupyter-widgets/controls",
      "model_module_version": "1.5.0",
      "model_name": "HTMLModel",
      "state": {
       "layout": "IPY_MODEL_29904b2df61a4669b50679760d226bee",
       "style": "IPY_MODEL_596e3819b52d4a06944e38a13aa64952",
       "value": "100%"
      }
     },
     "5606495277ab4083b42b26d60fc49c39": {
      "model_module": "@jupyter-widgets/controls",
      "model_module_version": "1.5.0",
      "model_name": "DescriptionStyleModel",
      "state": {
       "description_width": ""
      }
     },
     "5689dbe729e04faf91c320fd478b6e2c": {
      "model_module": "@jupyter-widgets/controls",
      "model_module_version": "1.5.0",
      "model_name": "DescriptionStyleModel",
      "state": {
       "description_width": ""
      }
     },
     "56ad211185d24a85a3036bfcf133e7aa": {
      "model_module": "@jupyter-widgets/controls",
      "model_module_version": "1.5.0",
      "model_name": "FloatProgressModel",
      "state": {
       "bar_style": "success",
       "layout": "IPY_MODEL_42af35ca5dc141f3a8e1fb145a010302",
       "max": 370105,
       "style": "IPY_MODEL_c05aee96ad304e048b97f0e3c1462536",
       "value": 370105
      }
     },
     "56af06b3e8034b16aa66bb03e0583ebd": {
      "model_module": "@jupyter-widgets/base",
      "model_module_version": "1.2.0",
      "model_name": "LayoutModel",
      "state": {}
     },
     "56e0ae4d7ba7470eaa62d096691390e5": {
      "model_module": "@jupyter-widgets/base",
      "model_module_version": "1.2.0",
      "model_name": "LayoutModel",
      "state": {}
     },
     "574f30cd27e54fb1a8b4ac62bc3daf24": {
      "model_module": "@jupyter-widgets/controls",
      "model_module_version": "1.5.0",
      "model_name": "HBoxModel",
      "state": {
       "children": [
        "IPY_MODEL_25bd4c39355c46bea98f082a65420cea",
        "IPY_MODEL_9db2adf71fbf4f2a9ddab4b341961ec6",
        "IPY_MODEL_8ae993af2c744702b5168b327a4d30e0"
       ],
       "layout": "IPY_MODEL_06e09a975d3b45c0b9b1fecfa5d7b4cd"
      }
     },
     "575ca65683e1488b8e5afd7af3e3e31d": {
      "model_module": "@jupyter-widgets/controls",
      "model_module_version": "1.5.0",
      "model_name": "HTMLModel",
      "state": {
       "layout": "IPY_MODEL_14a519add9024b2baeabed9f3e2c05a1",
       "style": "IPY_MODEL_c54454c28860401d99d8b1752266c5b9",
       "value": " 370105/370105 [00:00&lt;00:00, 929923.40it/s]"
      }
     },
     "57bf30aecd734a268446b7ffe9ab53f5": {
      "model_module": "@jupyter-widgets/base",
      "model_module_version": "1.2.0",
      "model_name": "LayoutModel",
      "state": {}
     },
     "57e52cc850f14b56a3a081d54843db3f": {
      "model_module": "@jupyter-widgets/controls",
      "model_module_version": "1.5.0",
      "model_name": "HTMLModel",
      "state": {
       "layout": "IPY_MODEL_38422789977a49d6a915f57c4fe133be",
       "style": "IPY_MODEL_4a38131fd9a54fbc81f3fb7f906ca10e",
       "value": "100%"
      }
     },
     "57e70fc713e048a784a98d0c12e55011": {
      "model_module": "@jupyter-widgets/controls",
      "model_module_version": "1.5.0",
      "model_name": "HTMLModel",
      "state": {
       "layout": "IPY_MODEL_388d7b207c0c4e17bfccf7d619182d0c",
       "style": "IPY_MODEL_ff2a2a1135914203b33123479aecc8f2",
       "value": " 370105/370105 [00:00&lt;00:00, 956413.02it/s]"
      }
     },
     "57e93e69ab2048e2b7d6a96f13073846": {
      "model_module": "@jupyter-widgets/controls",
      "model_module_version": "1.5.0",
      "model_name": "HTMLModel",
      "state": {
       "layout": "IPY_MODEL_2e889c5818f5446cbd5878f5f2e8d71d",
       "style": "IPY_MODEL_4a3fab2f99a4494cb800ed2cc46a4d04",
       "value": " 370105/370105 [00:00&lt;00:00, 926445.85it/s]"
      }
     },
     "585cd8334b864600af3f391f787edc2a": {
      "model_module": "@jupyter-widgets/controls",
      "model_module_version": "1.5.0",
      "model_name": "HTMLModel",
      "state": {
       "layout": "IPY_MODEL_90302e6c76b44308800538cbe6fcc353",
       "style": "IPY_MODEL_49640f2391794614841b1eb018aac23d",
       "value": " 370105/370105 [00:00&lt;00:00, 938009.37it/s]"
      }
     },
     "5879f19ce78e469b89f78c1a0c403bc0": {
      "model_module": "@jupyter-widgets/base",
      "model_module_version": "1.2.0",
      "model_name": "LayoutModel",
      "state": {}
     },
     "589dd09bc2a34dc2bd0972a442966247": {
      "model_module": "@jupyter-widgets/base",
      "model_module_version": "1.2.0",
      "model_name": "LayoutModel",
      "state": {}
     },
     "5909cbb721044a9ca776d8001311baa1": {
      "model_module": "@jupyter-widgets/base",
      "model_module_version": "1.2.0",
      "model_name": "LayoutModel",
      "state": {}
     },
     "596e3819b52d4a06944e38a13aa64952": {
      "model_module": "@jupyter-widgets/controls",
      "model_module_version": "1.5.0",
      "model_name": "DescriptionStyleModel",
      "state": {
       "description_width": ""
      }
     },
     "59b6380cbf124ec7bdc8e139fd64d841": {
      "model_module": "@jupyter-widgets/controls",
      "model_module_version": "1.5.0",
      "model_name": "DescriptionStyleModel",
      "state": {
       "description_width": ""
      }
     },
     "59dde2da51ad455e922dc84ebc3fcd8d": {
      "model_module": "@jupyter-widgets/controls",
      "model_module_version": "1.5.0",
      "model_name": "DescriptionStyleModel",
      "state": {
       "description_width": ""
      }
     },
     "59ec377655444a86a081bc9e3ce024dc": {
      "model_module": "@jupyter-widgets/controls",
      "model_module_version": "1.5.0",
      "model_name": "HBoxModel",
      "state": {
       "children": [
        "IPY_MODEL_7606cd6096c54abf9deec17d31d2e5c0",
        "IPY_MODEL_123a4b7bc5ce44308071a3ecaed9bcaa",
        "IPY_MODEL_df5f506bf0304c8896fee4839e409487"
       ],
       "layout": "IPY_MODEL_f3228ac96eb54847b937e219dad88b95"
      }
     },
     "59fb64f3254a46079b7e9a1e6b9ab3f1": {
      "model_module": "@jupyter-widgets/controls",
      "model_module_version": "1.5.0",
      "model_name": "HTMLModel",
      "state": {
       "layout": "IPY_MODEL_db34ea8414c042439255ad790373b699",
       "style": "IPY_MODEL_1b34c388787c461d9df449bcd9fbddc4",
       "value": " 370105/370105 [00:00&lt;00:00, 1018945.05it/s]"
      }
     },
     "5a17155840a94d75addcb2a94b4eb917": {
      "model_module": "@jupyter-widgets/controls",
      "model_module_version": "1.5.0",
      "model_name": "FloatProgressModel",
      "state": {
       "bar_style": "success",
       "layout": "IPY_MODEL_f1c932513df74ee59672da2c964174b2",
       "max": 370105,
       "style": "IPY_MODEL_8ee6368569594e029847ad78d45765ed",
       "value": 370105
      }
     },
     "5a81ca9ab57b4c8e91eb9c1e08ad7848": {
      "model_module": "@jupyter-widgets/controls",
      "model_module_version": "1.5.0",
      "model_name": "HTMLModel",
      "state": {
       "layout": "IPY_MODEL_4c795395b77441cc83506548daffca82",
       "style": "IPY_MODEL_f816bd551ba74f4ca8fc4b0de9639043",
       "value": "100%"
      }
     },
     "5aaa03cb0ce54c59a285bc41c83bead2": {
      "model_module": "@jupyter-widgets/base",
      "model_module_version": "1.2.0",
      "model_name": "LayoutModel",
      "state": {}
     },
     "5acce9f242384836b7c44eca43a20d8e": {
      "model_module": "@jupyter-widgets/base",
      "model_module_version": "1.2.0",
      "model_name": "LayoutModel",
      "state": {}
     },
     "5ad62728a5b440d78535515ecac6d2ad": {
      "model_module": "@jupyter-widgets/controls",
      "model_module_version": "1.5.0",
      "model_name": "FloatProgressModel",
      "state": {
       "bar_style": "success",
       "layout": "IPY_MODEL_f98eafe40b2141588a85fe33f0723044",
       "max": 370105,
       "style": "IPY_MODEL_b1af671c8f794b529586ec9f0367723e",
       "value": 370105
      }
     },
     "5b20a00d28bf43f3b4b48bceca76be17": {
      "model_module": "@jupyter-widgets/base",
      "model_module_version": "1.2.0",
      "model_name": "LayoutModel",
      "state": {}
     },
     "5b951602550b40d4877eb91bc01cbbf4": {
      "model_module": "@jupyter-widgets/controls",
      "model_module_version": "1.5.0",
      "model_name": "DescriptionStyleModel",
      "state": {
       "description_width": ""
      }
     },
     "5bacf83308f8482e9eb0989ec4d261d0": {
      "model_module": "@jupyter-widgets/controls",
      "model_module_version": "1.5.0",
      "model_name": "ProgressStyleModel",
      "state": {
       "description_width": ""
      }
     },
     "5bc3271420da44deb8e067ddc669bf50": {
      "model_module": "@jupyter-widgets/controls",
      "model_module_version": "1.5.0",
      "model_name": "ProgressStyleModel",
      "state": {
       "description_width": ""
      }
     },
     "5cffa46234bf493c9bb09a6937edadce": {
      "model_module": "@jupyter-widgets/base",
      "model_module_version": "1.2.0",
      "model_name": "LayoutModel",
      "state": {}
     },
     "5d8af5e30371443eab1c45ee0c5be453": {
      "model_module": "@jupyter-widgets/base",
      "model_module_version": "1.2.0",
      "model_name": "LayoutModel",
      "state": {}
     },
     "5de9b6332a45435782fb33ec31f9fc5c": {
      "model_module": "@jupyter-widgets/controls",
      "model_module_version": "1.5.0",
      "model_name": "HTMLModel",
      "state": {
       "layout": "IPY_MODEL_d90795dbce834f4a8410fabd087f9fda",
       "style": "IPY_MODEL_a957f272e0834aedabcce574591c913f",
       "value": "100%"
      }
     },
     "5df51a9867064f32b02b7a54a15dd168": {
      "model_module": "@jupyter-widgets/controls",
      "model_module_version": "1.5.0",
      "model_name": "FloatProgressModel",
      "state": {
       "bar_style": "success",
       "layout": "IPY_MODEL_41c764ef22354c5c9840ace20059982f",
       "max": 370105,
       "style": "IPY_MODEL_d0d26b6e56a747d8b03aff21256eafe2",
       "value": 370105
      }
     },
     "5e287e77bc7542098444d51c25390e74": {
      "model_module": "@jupyter-widgets/controls",
      "model_module_version": "1.5.0",
      "model_name": "ProgressStyleModel",
      "state": {
       "description_width": ""
      }
     },
     "5e28ab79d03c40e69bda1648a9048ed7": {
      "model_module": "@jupyter-widgets/controls",
      "model_module_version": "1.5.0",
      "model_name": "DescriptionStyleModel",
      "state": {
       "description_width": ""
      }
     },
     "5e306d962d8c4ee2904100a8f973c5fd": {
      "model_module": "@jupyter-widgets/base",
      "model_module_version": "1.2.0",
      "model_name": "LayoutModel",
      "state": {}
     },
     "5e31743331a84ff5b69094ceb22863aa": {
      "model_module": "@jupyter-widgets/base",
      "model_module_version": "1.2.0",
      "model_name": "LayoutModel",
      "state": {}
     },
     "5e640a1c5705405fa204c4f24d0d68b3": {
      "model_module": "@jupyter-widgets/controls",
      "model_module_version": "1.5.0",
      "model_name": "DescriptionStyleModel",
      "state": {
       "description_width": ""
      }
     },
     "5f61fa67bf5542adbc82f174007bfa24": {
      "model_module": "@jupyter-widgets/controls",
      "model_module_version": "1.5.0",
      "model_name": "ProgressStyleModel",
      "state": {
       "description_width": ""
      }
     },
     "5f7b255e63df4377bd95108db32e6bde": {
      "model_module": "@jupyter-widgets/controls",
      "model_module_version": "1.5.0",
      "model_name": "HTMLModel",
      "state": {
       "layout": "IPY_MODEL_0ffe952027794432baece3b5db378af4",
       "style": "IPY_MODEL_b4ef0e93b79748b19be8346edcb96f9c",
       "value": "100%"
      }
     },
     "5f7d52a7aaaa4d26a5375c884031ab37": {
      "model_module": "@jupyter-widgets/controls",
      "model_module_version": "1.5.0",
      "model_name": "ProgressStyleModel",
      "state": {
       "description_width": ""
      }
     },
     "6018eb3d5833490f98a4b3570bed68c0": {
      "model_module": "@jupyter-widgets/controls",
      "model_module_version": "1.5.0",
      "model_name": "DescriptionStyleModel",
      "state": {
       "description_width": ""
      }
     },
     "607677ac10884aaba645f2d26f4fb325": {
      "model_module": "@jupyter-widgets/controls",
      "model_module_version": "1.5.0",
      "model_name": "HTMLModel",
      "state": {
       "layout": "IPY_MODEL_c012a95ee6494a1a9e151d9e403fb257",
       "style": "IPY_MODEL_d82d52efe24140fd833ae84ed6fbeeb5",
       "value": "100%"
      }
     },
     "60924fe60cb24540b23d756701073d3c": {
      "model_module": "@jupyter-widgets/controls",
      "model_module_version": "1.5.0",
      "model_name": "HTMLModel",
      "state": {
       "layout": "IPY_MODEL_8dab6c80ee8e4de4b514ab8e65e2a7ba",
       "style": "IPY_MODEL_0cda9ff1571d4d32a31a5496127925cf",
       "value": " 370105/370105 [00:00&lt;00:00, 1029992.70it/s]"
      }
     },
     "613a47c8bb3147dea40339b009093722": {
      "model_module": "@jupyter-widgets/base",
      "model_module_version": "1.2.0",
      "model_name": "LayoutModel",
      "state": {}
     },
     "613c599c2e8044c18a1810b48ee4e0f6": {
      "model_module": "@jupyter-widgets/controls",
      "model_module_version": "1.5.0",
      "model_name": "ProgressStyleModel",
      "state": {
       "description_width": ""
      }
     },
     "6152cae029c64c7e8f91f618a8679971": {
      "model_module": "@jupyter-widgets/base",
      "model_module_version": "1.2.0",
      "model_name": "LayoutModel",
      "state": {}
     },
     "617fd9fe77fd40098637f6acdae5123f": {
      "model_module": "@jupyter-widgets/controls",
      "model_module_version": "1.5.0",
      "model_name": "DescriptionStyleModel",
      "state": {
       "description_width": ""
      }
     },
     "61ad51ea3f2c4f0b8d66f022c2aebe3b": {
      "model_module": "@jupyter-widgets/controls",
      "model_module_version": "1.5.0",
      "model_name": "HTMLModel",
      "state": {
       "layout": "IPY_MODEL_1121e7db069a45a39e56bd05114ea834",
       "style": "IPY_MODEL_1e774b629e144876841be918c660d6ab",
       "value": "100%"
      }
     },
     "62250a7e4ba446e09b17d60a965f3e14": {
      "model_module": "@jupyter-widgets/controls",
      "model_module_version": "1.5.0",
      "model_name": "HTMLModel",
      "state": {
       "layout": "IPY_MODEL_6a538a673513453193e9f98285de7fb5",
       "style": "IPY_MODEL_33823448457b4f55b4aa0aeecf3cead9",
       "value": " 370105/370105 [00:00&lt;00:00, 941461.45it/s]"
      }
     },
     "62d02716f8ae4a92a1d286d4d3a76550": {
      "model_module": "@jupyter-widgets/base",
      "model_module_version": "1.2.0",
      "model_name": "LayoutModel",
      "state": {}
     },
     "62f8a29da9194960985f09d0e15d2a7b": {
      "model_module": "@jupyter-widgets/controls",
      "model_module_version": "1.5.0",
      "model_name": "DescriptionStyleModel",
      "state": {
       "description_width": ""
      }
     },
     "630ce47cf50846a9aba5c81f3cb3ace3": {
      "model_module": "@jupyter-widgets/controls",
      "model_module_version": "1.5.0",
      "model_name": "HTMLModel",
      "state": {
       "layout": "IPY_MODEL_3d687406f95b4f7a9e482f9e7e148980",
       "style": "IPY_MODEL_25205b69938d4a2cafa1b15cc0f083ee",
       "value": " 370105/370105 [00:00&lt;00:00, 931274.12it/s]"
      }
     },
     "631ccada45a548aead9fac0b870b0d50": {
      "model_module": "@jupyter-widgets/controls",
      "model_module_version": "1.5.0",
      "model_name": "HTMLModel",
      "state": {
       "layout": "IPY_MODEL_6d887e9560484144861873e96c356b4e",
       "style": "IPY_MODEL_10219a6aba1a44edbc35e8114413e503",
       "value": "100%"
      }
     },
     "632f9791c94d4a1c8b33529545c4b2dd": {
      "model_module": "@jupyter-widgets/controls",
      "model_module_version": "1.5.0",
      "model_name": "FloatProgressModel",
      "state": {
       "bar_style": "success",
       "layout": "IPY_MODEL_b52feeab0a0743908351bdd397f8e9df",
       "max": 370105,
       "style": "IPY_MODEL_2cd1069de9794854b9e04861d6c4f771",
       "value": 370105
      }
     },
     "6349831fc385498b98d550f4bd59f30a": {
      "model_module": "@jupyter-widgets/controls",
      "model_module_version": "1.5.0",
      "model_name": "DescriptionStyleModel",
      "state": {
       "description_width": ""
      }
     },
     "6350d6d283374478b686b3503b11b5b6": {
      "model_module": "@jupyter-widgets/controls",
      "model_module_version": "1.5.0",
      "model_name": "ProgressStyleModel",
      "state": {
       "description_width": ""
      }
     },
     "6360b4721c0a4b1f8ed260bb60a4f740": {
      "model_module": "@jupyter-widgets/controls",
      "model_module_version": "1.5.0",
      "model_name": "HTMLModel",
      "state": {
       "layout": "IPY_MODEL_12f37e4e120b460f9e32e451a3fb306d",
       "style": "IPY_MODEL_4d0ad09b372a402fb355aaebd00ffe67",
       "value": " 370105/370105 [00:00&lt;00:00, 1022674.05it/s]"
      }
     },
     "637bff2872e14d5c8fe0a633be4740a6": {
      "model_module": "@jupyter-widgets/base",
      "model_module_version": "1.2.0",
      "model_name": "LayoutModel",
      "state": {}
     },
     "638d0f74fd8f47c0bbd63ff463aeffd4": {
      "model_module": "@jupyter-widgets/controls",
      "model_module_version": "1.5.0",
      "model_name": "HTMLModel",
      "state": {
       "layout": "IPY_MODEL_7c6e01575ba64986aaa43d881de2136d",
       "style": "IPY_MODEL_2848bbb588d4410da8f0508daf5e5296",
       "value": "100%"
      }
     },
     "63b8c6a50d974c57b2a9911f17c19ef9": {
      "model_module": "@jupyter-widgets/controls",
      "model_module_version": "1.5.0",
      "model_name": "ProgressStyleModel",
      "state": {
       "description_width": ""
      }
     },
     "63f3decd326d441384b59e0859b7f534": {
      "model_module": "@jupyter-widgets/controls",
      "model_module_version": "1.5.0",
      "model_name": "ProgressStyleModel",
      "state": {
       "description_width": ""
      }
     },
     "643fb4c282b54529824215e0a7fdef1c": {
      "model_module": "@jupyter-widgets/controls",
      "model_module_version": "1.5.0",
      "model_name": "ProgressStyleModel",
      "state": {
       "description_width": ""
      }
     },
     "656d2234931848969d8d05c91e5fd2e8": {
      "model_module": "@jupyter-widgets/controls",
      "model_module_version": "1.5.0",
      "model_name": "HBoxModel",
      "state": {
       "children": [
        "IPY_MODEL_ccaf024c9fb645d9b27b1dfed381eb1e",
        "IPY_MODEL_085275546c114d05a698018bf4939424",
        "IPY_MODEL_59fb64f3254a46079b7e9a1e6b9ab3f1"
       ],
       "layout": "IPY_MODEL_a0853a56b6d0449cbbb1a9b17243e9c0"
      }
     },
     "6580ec99594c407f9b4a2e01a805d577": {
      "model_module": "@jupyter-widgets/base",
      "model_module_version": "1.2.0",
      "model_name": "LayoutModel",
      "state": {}
     },
     "65ca663ed19e4009aa4ab3206d2c2352": {
      "model_module": "@jupyter-widgets/base",
      "model_module_version": "1.2.0",
      "model_name": "LayoutModel",
      "state": {}
     },
     "662e20f0e33847ab97073ebf78a59413": {
      "model_module": "@jupyter-widgets/controls",
      "model_module_version": "1.5.0",
      "model_name": "FloatProgressModel",
      "state": {
       "bar_style": "success",
       "layout": "IPY_MODEL_732dff3d46524e4592062bd6dbac2b30",
       "max": 370105,
       "style": "IPY_MODEL_1d6969125abf4fb1aae155ad4664d797",
       "value": 370105
      }
     },
     "6631e5fbca4945d9a8dd426ad3e1dea4": {
      "model_module": "@jupyter-widgets/controls",
      "model_module_version": "1.5.0",
      "model_name": "HTMLModel",
      "state": {
       "layout": "IPY_MODEL_1e373b21b1d94a8cac1ac38696690d15",
       "style": "IPY_MODEL_59dde2da51ad455e922dc84ebc3fcd8d",
       "value": "100%"
      }
     },
     "66f33c915be44197807c769caa60bbb3": {
      "model_module": "@jupyter-widgets/controls",
      "model_module_version": "1.5.0",
      "model_name": "HBoxModel",
      "state": {
       "children": [
        "IPY_MODEL_88f2ada200bd4bd5bb41ded2a290ab78",
        "IPY_MODEL_d5b1d064b6404d83b117802bec0d316f",
        "IPY_MODEL_c107a9b129554eda9a9328794f88accb"
       ],
       "layout": "IPY_MODEL_c33fbee209794dc2929a9e707140fcd1"
      }
     },
     "66fd1ad154604952aac102afd687f09a": {
      "model_module": "@jupyter-widgets/controls",
      "model_module_version": "1.5.0",
      "model_name": "HBoxModel",
      "state": {
       "children": [
        "IPY_MODEL_28f2b766349b4aef8dcee74c343f1597",
        "IPY_MODEL_d80e1539030640178135f9bd7615735f",
        "IPY_MODEL_ccd5f007f04d40f680d36828d3a9d81f"
       ],
       "layout": "IPY_MODEL_9cab06074c7e45268a3d32bc304bc039"
      }
     },
     "67628f5354524551ad5c78295c869c48": {
      "model_module": "@jupyter-widgets/controls",
      "model_module_version": "1.5.0",
      "model_name": "DescriptionStyleModel",
      "state": {
       "description_width": ""
      }
     },
     "68252afd129045acb23c8c9021300614": {
      "model_module": "@jupyter-widgets/controls",
      "model_module_version": "1.5.0",
      "model_name": "ProgressStyleModel",
      "state": {
       "description_width": ""
      }
     },
     "689a1952530d48249364eed8d4204bb8": {
      "model_module": "@jupyter-widgets/controls",
      "model_module_version": "1.5.0",
      "model_name": "DescriptionStyleModel",
      "state": {
       "description_width": ""
      }
     },
     "68dd3f97dfcf4c7f88add6d289cc5950": {
      "model_module": "@jupyter-widgets/controls",
      "model_module_version": "1.5.0",
      "model_name": "DescriptionStyleModel",
      "state": {
       "description_width": ""
      }
     },
     "68e6acb99d7e48969fc0fe23ad871ceb": {
      "model_module": "@jupyter-widgets/base",
      "model_module_version": "1.2.0",
      "model_name": "LayoutModel",
      "state": {}
     },
     "69467b03d5ee47fb8ba313005a8b711f": {
      "model_module": "@jupyter-widgets/base",
      "model_module_version": "1.2.0",
      "model_name": "LayoutModel",
      "state": {}
     },
     "695f918f4731453c8c9ac382feaeea8f": {
      "model_module": "@jupyter-widgets/controls",
      "model_module_version": "1.5.0",
      "model_name": "HTMLModel",
      "state": {
       "layout": "IPY_MODEL_963cb84e45884f9495a3f759afb76a31",
       "style": "IPY_MODEL_46b2ca1fcb6f4e68b72ede0a9161ec5b",
       "value": " 370105/370105 [00:00&lt;00:00, 934251.47it/s]"
      }
     },
     "6a39d59ef56a4b2c94d5c8de44c1af6b": {
      "model_module": "@jupyter-widgets/base",
      "model_module_version": "1.2.0",
      "model_name": "LayoutModel",
      "state": {}
     },
     "6a538a673513453193e9f98285de7fb5": {
      "model_module": "@jupyter-widgets/base",
      "model_module_version": "1.2.0",
      "model_name": "LayoutModel",
      "state": {}
     },
     "6ab5b4f5994240499ff7f8080267b4c7": {
      "model_module": "@jupyter-widgets/base",
      "model_module_version": "1.2.0",
      "model_name": "LayoutModel",
      "state": {}
     },
     "6adf802900cf4238bc453a5be82eb22b": {
      "model_module": "@jupyter-widgets/base",
      "model_module_version": "1.2.0",
      "model_name": "LayoutModel",
      "state": {}
     },
     "6c0b7a672ed249e58b38b1895e44e31f": {
      "model_module": "@jupyter-widgets/controls",
      "model_module_version": "1.5.0",
      "model_name": "HBoxModel",
      "state": {
       "children": [
        "IPY_MODEL_75a12c0a2cf94942a1295971137a0b31",
        "IPY_MODEL_473f441f608b44af968478db5df3edb2",
        "IPY_MODEL_1e4cdc4a90554f10a8bf944b6c83ad5f"
       ],
       "layout": "IPY_MODEL_0f2c41270fc04dea863db9757e0461b5"
      }
     },
     "6c39b7212b4c44e38c037fdfe5c95d2c": {
      "model_module": "@jupyter-widgets/controls",
      "model_module_version": "1.5.0",
      "model_name": "FloatProgressModel",
      "state": {
       "bar_style": "success",
       "layout": "IPY_MODEL_a535cf72555947418a0ef3a268e04356",
       "max": 370105,
       "style": "IPY_MODEL_89332db77260433c9569fc8bc87caafb",
       "value": 370105
      }
     },
     "6ca854226f2b4fc8bd042e66ac1d8a99": {
      "model_module": "@jupyter-widgets/controls",
      "model_module_version": "1.5.0",
      "model_name": "HTMLModel",
      "state": {
       "layout": "IPY_MODEL_025c6067733845958aea6431b42ffb15",
       "style": "IPY_MODEL_5b951602550b40d4877eb91bc01cbbf4",
       "value": " 370105/370105 [00:00&lt;00:00, 1024193.70it/s]"
      }
     },
     "6cf73c96af884276bf2f519d49223e6a": {
      "model_module": "@jupyter-widgets/controls",
      "model_module_version": "1.5.0",
      "model_name": "ProgressStyleModel",
      "state": {
       "description_width": ""
      }
     },
     "6d08e9219397438c8e674e727587e9bb": {
      "model_module": "@jupyter-widgets/controls",
      "model_module_version": "1.5.0",
      "model_name": "ProgressStyleModel",
      "state": {
       "description_width": ""
      }
     },
     "6d4a8e7ea2364c788ca34359dc6c2555": {
      "model_module": "@jupyter-widgets/controls",
      "model_module_version": "1.5.0",
      "model_name": "ProgressStyleModel",
      "state": {
       "description_width": ""
      }
     },
     "6d4ce0dc3e6f42608c1d5f4ad8595f07": {
      "model_module": "@jupyter-widgets/controls",
      "model_module_version": "1.5.0",
      "model_name": "FloatProgressModel",
      "state": {
       "bar_style": "success",
       "layout": "IPY_MODEL_8f347275e0a648398a81526af99c74ff",
       "max": 370105,
       "style": "IPY_MODEL_1b1a7802259f4a1e8f1911a750820f77",
       "value": 370105
      }
     },
     "6d6d9b23544943deb4d20189f5f60fd0": {
      "model_module": "@jupyter-widgets/controls",
      "model_module_version": "1.5.0",
      "model_name": "HBoxModel",
      "state": {
       "children": [
        "IPY_MODEL_de41827f3b8842b8a3e7a0eeb1743a9c",
        "IPY_MODEL_e332fb90e4f5441c8ee4ef8aa56cbd34",
        "IPY_MODEL_4effc7cdf01d4602880f7d509c9d8798"
       ],
       "layout": "IPY_MODEL_4d147e237ba2463b8e6c5f4eb8b7225e"
      }
     },
     "6d887e9560484144861873e96c356b4e": {
      "model_module": "@jupyter-widgets/base",
      "model_module_version": "1.2.0",
      "model_name": "LayoutModel",
      "state": {}
     },
     "6d9eb967beed4ad587e886ee86d2ca7e": {
      "model_module": "@jupyter-widgets/base",
      "model_module_version": "1.2.0",
      "model_name": "LayoutModel",
      "state": {}
     },
     "6db5800c76294210b070c1d4eae9ecb6": {
      "model_module": "@jupyter-widgets/controls",
      "model_module_version": "1.5.0",
      "model_name": "ProgressStyleModel",
      "state": {
       "description_width": ""
      }
     },
     "6de9a3ccedf34bd989095af6fbddbb00": {
      "model_module": "@jupyter-widgets/controls",
      "model_module_version": "1.5.0",
      "model_name": "HTMLModel",
      "state": {
       "layout": "IPY_MODEL_8f28a38ca0654d6b9ab3595e838cc85c",
       "style": "IPY_MODEL_be60fb8978764ee9a6462dfb4ffcc280",
       "value": " 370105/370105 [00:00&lt;00:00, 930627.05it/s]"
      }
     },
     "6e0adbb4f5834ce1878add8a22987d8a": {
      "model_module": "@jupyter-widgets/controls",
      "model_module_version": "1.5.0",
      "model_name": "DescriptionStyleModel",
      "state": {
       "description_width": ""
      }
     },
     "6eb62b5eb5574133adacdd7b8866dd7c": {
      "model_module": "@jupyter-widgets/base",
      "model_module_version": "1.2.0",
      "model_name": "LayoutModel",
      "state": {}
     },
     "6ec9ad02d21e450c8d92fd0ee7385012": {
      "model_module": "@jupyter-widgets/base",
      "model_module_version": "1.2.0",
      "model_name": "LayoutModel",
      "state": {}
     },
     "6f24e3888270451c9d6151b792bfa66e": {
      "model_module": "@jupyter-widgets/base",
      "model_module_version": "1.2.0",
      "model_name": "LayoutModel",
      "state": {}
     },
     "6f3edaecbcb94cfe96a83a7bfcb25184": {
      "model_module": "@jupyter-widgets/base",
      "model_module_version": "1.2.0",
      "model_name": "LayoutModel",
      "state": {}
     },
     "6fd315d724b447f1bba80a0bcc6da5e3": {
      "model_module": "@jupyter-widgets/controls",
      "model_module_version": "1.5.0",
      "model_name": "DescriptionStyleModel",
      "state": {
       "description_width": ""
      }
     },
     "700463ff47a848d8a2919dafc00b16a5": {
      "model_module": "@jupyter-widgets/controls",
      "model_module_version": "1.5.0",
      "model_name": "DescriptionStyleModel",
      "state": {
       "description_width": ""
      }
     },
     "701bba552fe44a17a7419d4f0078931b": {
      "model_module": "@jupyter-widgets/controls",
      "model_module_version": "1.5.0",
      "model_name": "HTMLModel",
      "state": {
       "layout": "IPY_MODEL_87935e4e8ef643f2970f020846592548",
       "style": "IPY_MODEL_a6ad180fdfa84f119b6dfde906e95ba0",
       "value": "100%"
      }
     },
     "7030ea3adca4426a9b7654b2cc941dc6": {
      "model_module": "@jupyter-widgets/base",
      "model_module_version": "1.2.0",
      "model_name": "LayoutModel",
      "state": {}
     },
     "706034c05b6b45228d591b68e585ad66": {
      "model_module": "@jupyter-widgets/base",
      "model_module_version": "1.2.0",
      "model_name": "LayoutModel",
      "state": {}
     },
     "70bce2a61d1d466bb476006137af4d16": {
      "model_module": "@jupyter-widgets/controls",
      "model_module_version": "1.5.0",
      "model_name": "DescriptionStyleModel",
      "state": {
       "description_width": ""
      }
     },
     "70f49182d49d456ebd01e2d8433919ff": {
      "model_module": "@jupyter-widgets/controls",
      "model_module_version": "1.5.0",
      "model_name": "HTMLModel",
      "state": {
       "layout": "IPY_MODEL_c585e4ed29784292b3a4d5ba275411da",
       "style": "IPY_MODEL_d7b1f7d3cd544463b8f3b58ea72102ab",
       "value": "100%"
      }
     },
     "71609bdc7ea04f4ba437b0e35ce67964": {
      "model_module": "@jupyter-widgets/controls",
      "model_module_version": "1.5.0",
      "model_name": "HBoxModel",
      "state": {
       "children": [
        "IPY_MODEL_61ad51ea3f2c4f0b8d66f022c2aebe3b",
        "IPY_MODEL_a7eeee87feb6480f92095842911d0a12",
        "IPY_MODEL_0e2ce930670547a99b074cce107f4eeb"
       ],
       "layout": "IPY_MODEL_589dd09bc2a34dc2bd0972a442966247"
      }
     },
     "71f3b67c817049a68c19533ed4f39a41": {
      "model_module": "@jupyter-widgets/controls",
      "model_module_version": "1.5.0",
      "model_name": "HTMLModel",
      "state": {
       "layout": "IPY_MODEL_03065f3ce40d41c2b67fb5b234e11ddb",
       "style": "IPY_MODEL_30a04e4cd78c48e086e088c82d6e6ad0",
       "value": " 370105/370105 [00:00&lt;00:00, 938894.45it/s]"
      }
     },
     "71fa44bc83e24c5998faf0bff0cb744f": {
      "model_module": "@jupyter-widgets/base",
      "model_module_version": "1.2.0",
      "model_name": "LayoutModel",
      "state": {}
     },
     "720247ecafbb4fa7945083d3abae85e3": {
      "model_module": "@jupyter-widgets/controls",
      "model_module_version": "1.5.0",
      "model_name": "ProgressStyleModel",
      "state": {
       "description_width": ""
      }
     },
     "726f47c9a5094b78826ad69765c6444b": {
      "model_module": "@jupyter-widgets/base",
      "model_module_version": "1.2.0",
      "model_name": "LayoutModel",
      "state": {}
     },
     "727e539c016f4e108f5243664b15b659": {
      "model_module": "@jupyter-widgets/base",
      "model_module_version": "1.2.0",
      "model_name": "LayoutModel",
      "state": {}
     },
     "72afcff71d4f4d6f8c2f90ee1ee83d66": {
      "model_module": "@jupyter-widgets/controls",
      "model_module_version": "1.5.0",
      "model_name": "HTMLModel",
      "state": {
       "layout": "IPY_MODEL_d9053873dd854276b2735a593941d635",
       "style": "IPY_MODEL_cc2f55f3ed6547408c148b3db9ccaa60",
       "value": "100%"
      }
     },
     "732dff3d46524e4592062bd6dbac2b30": {
      "model_module": "@jupyter-widgets/base",
      "model_module_version": "1.2.0",
      "model_name": "LayoutModel",
      "state": {}
     },
     "73bd733aec8a414ba0f6dae8c5084796": {
      "model_module": "@jupyter-widgets/controls",
      "model_module_version": "1.5.0",
      "model_name": "DescriptionStyleModel",
      "state": {
       "description_width": ""
      }
     },
     "73c859c3db644142bd867b54ace8ff6c": {
      "model_module": "@jupyter-widgets/base",
      "model_module_version": "1.2.0",
      "model_name": "LayoutModel",
      "state": {}
     },
     "7569c1104dbc44c88287695840491a8f": {
      "model_module": "@jupyter-widgets/base",
      "model_module_version": "1.2.0",
      "model_name": "LayoutModel",
      "state": {}
     },
     "75a12c0a2cf94942a1295971137a0b31": {
      "model_module": "@jupyter-widgets/controls",
      "model_module_version": "1.5.0",
      "model_name": "HTMLModel",
      "state": {
       "layout": "IPY_MODEL_47099999ffe04044999ae246c0c7fde4",
       "style": "IPY_MODEL_c5f73e5c865f41e59d0d7959a02a98a0",
       "value": "100%"
      }
     },
     "75f2a13d0a3541298700fd0aeef8e486": {
      "model_module": "@jupyter-widgets/controls",
      "model_module_version": "1.5.0",
      "model_name": "HTMLModel",
      "state": {
       "layout": "IPY_MODEL_9c3e72f3a1564db58e0d0deccb80c2a0",
       "style": "IPY_MODEL_af5b8c0fc7494217a28cdafa70fc4b10",
       "value": " 370105/370105 [00:00&lt;00:00, 1030304.59it/s]"
      }
     },
     "76005cdb506d4b3e83c909fbc51c5f5d": {
      "model_module": "@jupyter-widgets/controls",
      "model_module_version": "1.5.0",
      "model_name": "HTMLModel",
      "state": {
       "layout": "IPY_MODEL_169e026a422e461f9882d654d0952764",
       "style": "IPY_MODEL_f259b9f94a4c48d9b6d1089efc060608",
       "value": "100%"
      }
     },
     "7606cd6096c54abf9deec17d31d2e5c0": {
      "model_module": "@jupyter-widgets/controls",
      "model_module_version": "1.5.0",
      "model_name": "HTMLModel",
      "state": {
       "layout": "IPY_MODEL_0e305422c6f7487595c19b0874c55609",
       "style": "IPY_MODEL_9a15eb4c22b04da4a0f0b3e1812ab7db",
       "value": "100%"
      }
     },
     "76cedd8d02714eafbbcb327237fab0d4": {
      "model_module": "@jupyter-widgets/base",
      "model_module_version": "1.2.0",
      "model_name": "LayoutModel",
      "state": {}
     },
     "776c20d114ff4534945688b6eaa59d7d": {
      "model_module": "@jupyter-widgets/controls",
      "model_module_version": "1.5.0",
      "model_name": "FloatProgressModel",
      "state": {
       "bar_style": "success",
       "layout": "IPY_MODEL_e4d6f4b896d648b59552110fd86a278a",
       "max": 370105,
       "style": "IPY_MODEL_0acdd843fb7b4d1b9fa5bfb80729ea66",
       "value": 370105
      }
     },
     "781e61d7f3b54522a51d6c4f7a6d46a6": {
      "model_module": "@jupyter-widgets/controls",
      "model_module_version": "1.5.0",
      "model_name": "ProgressStyleModel",
      "state": {
       "description_width": ""
      }
     },
     "785a76c75275405ea4db6e6115bf9961": {
      "model_module": "@jupyter-widgets/controls",
      "model_module_version": "1.5.0",
      "model_name": "HTMLModel",
      "state": {
       "layout": "IPY_MODEL_34877056801d44adaba11d15cf592067",
       "style": "IPY_MODEL_f2863bb11f504dbaa183622f7781efb6",
       "value": "100%"
      }
     },
     "78e08a30d2214488b43d98e3f63ffe14": {
      "model_module": "@jupyter-widgets/controls",
      "model_module_version": "1.5.0",
      "model_name": "HTMLModel",
      "state": {
       "layout": "IPY_MODEL_d1fb4cb2a72b412dbd7324e4e70f9ea4",
       "style": "IPY_MODEL_521bea2944014c7f97f79fa9cd82534b",
       "value": " 370105/370105 [00:00&lt;00:00, 955644.62it/s]"
      }
     },
     "79f787f8f01f44da857485b2adf3fdda": {
      "model_module": "@jupyter-widgets/base",
      "model_module_version": "1.2.0",
      "model_name": "LayoutModel",
      "state": {}
     },
     "7a0722bb740f4f33be9a7bbb8b032362": {
      "model_module": "@jupyter-widgets/controls",
      "model_module_version": "1.5.0",
      "model_name": "DescriptionStyleModel",
      "state": {
       "description_width": ""
      }
     },
     "7a24224a9b644ac38df3f80e8090a9a7": {
      "model_module": "@jupyter-widgets/controls",
      "model_module_version": "1.5.0",
      "model_name": "DescriptionStyleModel",
      "state": {
       "description_width": ""
      }
     },
     "7a44cba7fc2d41429154168c97c62d69": {
      "model_module": "@jupyter-widgets/controls",
      "model_module_version": "1.5.0",
      "model_name": "DescriptionStyleModel",
      "state": {
       "description_width": ""
      }
     },
     "7a76437c4d714a5e857e50cc4ff2a0f2": {
      "model_module": "@jupyter-widgets/base",
      "model_module_version": "1.2.0",
      "model_name": "LayoutModel",
      "state": {}
     },
     "7aaf8a24d26c4c2ba3dcf85e392d142d": {
      "model_module": "@jupyter-widgets/controls",
      "model_module_version": "1.5.0",
      "model_name": "HTMLModel",
      "state": {
       "layout": "IPY_MODEL_f42d8405a2f24304815fe7fcf4d1df7c",
       "style": "IPY_MODEL_fad8a8757b3443ab9150e18ba1a8cef0",
       "value": " 370105/370105 [00:00&lt;00:00, 944626.02it/s]"
      }
     },
     "7acf2c5b3f3745b39d97fd610200c303": {
      "model_module": "@jupyter-widgets/controls",
      "model_module_version": "1.5.0",
      "model_name": "DescriptionStyleModel",
      "state": {
       "description_width": ""
      }
     },
     "7ae4a6ad4d5c4a5e9f42f6c45014b27d": {
      "model_module": "@jupyter-widgets/controls",
      "model_module_version": "1.5.0",
      "model_name": "ProgressStyleModel",
      "state": {
       "description_width": ""
      }
     },
     "7b295a6b28ca4e38bc193677fe2205e7": {
      "model_module": "@jupyter-widgets/controls",
      "model_module_version": "1.5.0",
      "model_name": "HTMLModel",
      "state": {
       "layout": "IPY_MODEL_01e72fcd54d14cd89542aff76acf9a13",
       "style": "IPY_MODEL_f98fce485bf9494aa7422d526788e79f",
       "value": "100%"
      }
     },
     "7b2fdd4fa2b2493a99dfc2e1ae97ad80": {
      "model_module": "@jupyter-widgets/controls",
      "model_module_version": "1.5.0",
      "model_name": "HTMLModel",
      "state": {
       "layout": "IPY_MODEL_96def5ed15074c53b6d64aa568d574e5",
       "style": "IPY_MODEL_02aebe8829f44287be53cabbe5f6806f",
       "value": " 370105/370105 [00:00&lt;00:00, 932607.44it/s]"
      }
     },
     "7b6310c8bfcb474cb581357316b927d6": {
      "model_module": "@jupyter-widgets/controls",
      "model_module_version": "1.5.0",
      "model_name": "HBoxModel",
      "state": {
       "children": [
        "IPY_MODEL_af8241c114484a9ca019b4844245491e",
        "IPY_MODEL_15eb28790f2349cbbc1faabe7660e1b1",
        "IPY_MODEL_3882145d0f0b474ab929d51081c4d6a5"
       ],
       "layout": "IPY_MODEL_4d7c822d0d454ea8897936ecbf0d1b11"
      }
     },
     "7bc52da3cb264963a57e5366c0f8faf5": {
      "model_module": "@jupyter-widgets/base",
      "model_module_version": "1.2.0",
      "model_name": "LayoutModel",
      "state": {}
     },
     "7bd20e35eddf4bebaa6b5dbaf66b5389": {
      "model_module": "@jupyter-widgets/base",
      "model_module_version": "1.2.0",
      "model_name": "LayoutModel",
      "state": {}
     },
     "7be0e547bad34a7ea130ad5026ca2846": {
      "model_module": "@jupyter-widgets/controls",
      "model_module_version": "1.5.0",
      "model_name": "HTMLModel",
      "state": {
       "layout": "IPY_MODEL_03a37db686fb4bd8950fae3c07160775",
       "style": "IPY_MODEL_700463ff47a848d8a2919dafc00b16a5",
       "value": " 370105/370105 [00:00&lt;00:00, 946035.46it/s]"
      }
     },
     "7bf7deaafd814b2986f3af5b71ecedbe": {
      "model_module": "@jupyter-widgets/controls",
      "model_module_version": "1.5.0",
      "model_name": "HBoxModel",
      "state": {
       "children": [
        "IPY_MODEL_faf21706d68a4b2385ad388b5b8a7b13",
        "IPY_MODEL_662e20f0e33847ab97073ebf78a59413",
        "IPY_MODEL_831733872add421bab7a9fd71793f593"
       ],
       "layout": "IPY_MODEL_93f622a1957a4fff896ed07263e80faa"
      }
     },
     "7c05ae8d2ae041f0992478f3768ba73a": {
      "model_module": "@jupyter-widgets/base",
      "model_module_version": "1.2.0",
      "model_name": "LayoutModel",
      "state": {}
     },
     "7c6e01575ba64986aaa43d881de2136d": {
      "model_module": "@jupyter-widgets/base",
      "model_module_version": "1.2.0",
      "model_name": "LayoutModel",
      "state": {}
     },
     "7c9475c552084f988a788e26ae283370": {
      "model_module": "@jupyter-widgets/controls",
      "model_module_version": "1.5.0",
      "model_name": "HTMLModel",
      "state": {
       "layout": "IPY_MODEL_e01ac4c683d74689a862315750ee67b2",
       "style": "IPY_MODEL_9f4fe5f6cc8d4c8ebd2553a86be956b9",
       "value": " 370105/370105 [00:00&lt;00:00, 937619.98it/s]"
      }
     },
     "7d35a0aa6d5e436782485b0e7ee4e243": {
      "model_module": "@jupyter-widgets/base",
      "model_module_version": "1.2.0",
      "model_name": "LayoutModel",
      "state": {}
     },
     "7db371f9645d4ee68a94c57757c1e2c1": {
      "model_module": "@jupyter-widgets/controls",
      "model_module_version": "1.5.0",
      "model_name": "ProgressStyleModel",
      "state": {
       "description_width": ""
      }
     },
     "7e8600c9519c4621b0b3075d05f7c5b2": {
      "model_module": "@jupyter-widgets/base",
      "model_module_version": "1.2.0",
      "model_name": "LayoutModel",
      "state": {}
     },
     "7ea757602bcc4b7ea4599f9003f1839a": {
      "model_module": "@jupyter-widgets/controls",
      "model_module_version": "1.5.0",
      "model_name": "FloatProgressModel",
      "state": {
       "bar_style": "success",
       "layout": "IPY_MODEL_98a80ae27e554759992387a6cc3bc109",
       "max": 370105,
       "style": "IPY_MODEL_7ee338021c4d4d51a570f3821de846d3",
       "value": 370105
      }
     },
     "7ee338021c4d4d51a570f3821de846d3": {
      "model_module": "@jupyter-widgets/controls",
      "model_module_version": "1.5.0",
      "model_name": "ProgressStyleModel",
      "state": {
       "description_width": ""
      }
     },
     "7fada2d4cfbf4bd8a9f204354ed8e80b": {
      "model_module": "@jupyter-widgets/controls",
      "model_module_version": "1.5.0",
      "model_name": "HTMLModel",
      "state": {
       "layout": "IPY_MODEL_977a2183d3214553b994a624df17bf7c",
       "style": "IPY_MODEL_5e640a1c5705405fa204c4f24d0d68b3",
       "value": "100%"
      }
     },
     "800ea150cb8b4ad08592e211131c4f91": {
      "model_module": "@jupyter-widgets/base",
      "model_module_version": "1.2.0",
      "model_name": "LayoutModel",
      "state": {}
     },
     "80316cdfc7b143e4b3a725b8a24fa051": {
      "model_module": "@jupyter-widgets/base",
      "model_module_version": "1.2.0",
      "model_name": "LayoutModel",
      "state": {}
     },
     "80ca5cf5ba0c453595a5b9b8287b2ef8": {
      "model_module": "@jupyter-widgets/base",
      "model_module_version": "1.2.0",
      "model_name": "LayoutModel",
      "state": {}
     },
     "80e495e6e78941fc813185bf541fd696": {
      "model_module": "@jupyter-widgets/controls",
      "model_module_version": "1.5.0",
      "model_name": "HTMLModel",
      "state": {
       "layout": "IPY_MODEL_e7871595a16c46a4a978d68f44b9494c",
       "style": "IPY_MODEL_0d3fca383ce04e638ce49207e866c23b",
       "value": " 370105/370105 [00:00&lt;00:00, 955226.87it/s]"
      }
     },
     "80e759a7bacb4590b465f4a4d5a3c0e3": {
      "model_module": "@jupyter-widgets/controls",
      "model_module_version": "1.5.0",
      "model_name": "DescriptionStyleModel",
      "state": {
       "description_width": ""
      }
     },
     "81773f0aa4c64a7da5d5e1cb9d294d84": {
      "model_module": "@jupyter-widgets/controls",
      "model_module_version": "1.5.0",
      "model_name": "DescriptionStyleModel",
      "state": {
       "description_width": ""
      }
     },
     "81e5774fc5db48a6b87a1ce618313165": {
      "model_module": "@jupyter-widgets/controls",
      "model_module_version": "1.5.0",
      "model_name": "FloatProgressModel",
      "state": {
       "bar_style": "success",
       "layout": "IPY_MODEL_a0649d097b1046779590969d1608ab23",
       "max": 370105,
       "style": "IPY_MODEL_ad07fc06e3dd4c009d1fdc1ea3faaf20",
       "value": 370105
      }
     },
     "820c0851ceca4f63b96112d91f109772": {
      "model_module": "@jupyter-widgets/controls",
      "model_module_version": "1.5.0",
      "model_name": "HBoxModel",
      "state": {
       "children": [
        "IPY_MODEL_e7d574ee35224e02a37002679fb6100e",
        "IPY_MODEL_a0313c7c9ad941f6adb8e2bec55bfbb9",
        "IPY_MODEL_005bc99f89e64498b575e952c5550277"
       ],
       "layout": "IPY_MODEL_d1ff70891b8142f3aa5a6a6004e51061"
      }
     },
     "8217ce452a0f41dc923b3b5ec1c5e7af": {
      "model_module": "@jupyter-widgets/controls",
      "model_module_version": "1.5.0",
      "model_name": "DescriptionStyleModel",
      "state": {
       "description_width": ""
      }
     },
     "82ac0cbe6e174aaf96516f03b541f83f": {
      "model_module": "@jupyter-widgets/controls",
      "model_module_version": "1.5.0",
      "model_name": "DescriptionStyleModel",
      "state": {
       "description_width": ""
      }
     },
     "831733872add421bab7a9fd71793f593": {
      "model_module": "@jupyter-widgets/controls",
      "model_module_version": "1.5.0",
      "model_name": "HTMLModel",
      "state": {
       "layout": "IPY_MODEL_32d464937da1461895dd4b25987d0ff7",
       "style": "IPY_MODEL_4b398b81b93d40edabe065e0218dc7fe",
       "value": " 370105/370105 [00:00&lt;00:00, 923445.30it/s]"
      }
     },
     "83e2cebd644441bda354ea4ed5cf1775": {
      "model_module": "@jupyter-widgets/controls",
      "model_module_version": "1.5.0",
      "model_name": "ProgressStyleModel",
      "state": {
       "description_width": ""
      }
     },
     "83e53b37876045738cb52829965770f6": {
      "model_module": "@jupyter-widgets/base",
      "model_module_version": "1.2.0",
      "model_name": "LayoutModel",
      "state": {}
     },
     "84c87b3dbcf1496bad076197aa86fd32": {
      "model_module": "@jupyter-widgets/controls",
      "model_module_version": "1.5.0",
      "model_name": "ProgressStyleModel",
      "state": {
       "description_width": ""
      }
     },
     "84dd6a0b1a4444c5b664ef73ebfccb3d": {
      "model_module": "@jupyter-widgets/controls",
      "model_module_version": "1.5.0",
      "model_name": "HTMLModel",
      "state": {
       "layout": "IPY_MODEL_2e0333b6ddb74e0aafbf3d08dca17c72",
       "style": "IPY_MODEL_ec893c2b74244e9584e96f710d673723",
       "value": "100%"
      }
     },
     "84f28fb820bd4d2e9528fcf2ceb39a31": {
      "model_module": "@jupyter-widgets/base",
      "model_module_version": "1.2.0",
      "model_name": "LayoutModel",
      "state": {}
     },
     "85affa36d05748e086f27b649b233353": {
      "model_module": "@jupyter-widgets/controls",
      "model_module_version": "1.5.0",
      "model_name": "DescriptionStyleModel",
      "state": {
       "description_width": ""
      }
     },
     "8726009d103c46deabbee1fd740a0d38": {
      "model_module": "@jupyter-widgets/controls",
      "model_module_version": "1.5.0",
      "model_name": "FloatProgressModel",
      "state": {
       "bar_style": "success",
       "layout": "IPY_MODEL_c859ec9215a14419b5b2f71ca3c35b8d",
       "max": 370105,
       "style": "IPY_MODEL_8bc1789b7d0f4b42bf8a6337246b7121",
       "value": 370105
      }
     },
     "874a18547a1645b491ef15f355b2f698": {
      "model_module": "@jupyter-widgets/controls",
      "model_module_version": "1.5.0",
      "model_name": "FloatProgressModel",
      "state": {
       "bar_style": "success",
       "layout": "IPY_MODEL_b47bdcc57e9447eb8f65173d81b6150e",
       "max": 370105,
       "style": "IPY_MODEL_613c599c2e8044c18a1810b48ee4e0f6",
       "value": 370105
      }
     },
     "87935e4e8ef643f2970f020846592548": {
      "model_module": "@jupyter-widgets/base",
      "model_module_version": "1.2.0",
      "model_name": "LayoutModel",
      "state": {}
     },
     "87ba7bd19d2846908fc87bf1ffd3244b": {
      "model_module": "@jupyter-widgets/base",
      "model_module_version": "1.2.0",
      "model_name": "LayoutModel",
      "state": {}
     },
     "881eca7a871542dcb1277ad6660aab74": {
      "model_module": "@jupyter-widgets/base",
      "model_module_version": "1.2.0",
      "model_name": "LayoutModel",
      "state": {}
     },
     "886a7cdfd939460d93cf2aa5355e1e80": {
      "model_module": "@jupyter-widgets/controls",
      "model_module_version": "1.5.0",
      "model_name": "ProgressStyleModel",
      "state": {
       "description_width": ""
      }
     },
     "88f2ada200bd4bd5bb41ded2a290ab78": {
      "model_module": "@jupyter-widgets/controls",
      "model_module_version": "1.5.0",
      "model_name": "HTMLModel",
      "state": {
       "layout": "IPY_MODEL_9b198227b20b4a3ca0c8817784e0e2f6",
       "style": "IPY_MODEL_2d6f4d5c527c448692cbfcc1347921fe",
       "value": "100%"
      }
     },
     "890a9bae2fbb46ef89aa5a88f50845b1": {
      "model_module": "@jupyter-widgets/base",
      "model_module_version": "1.2.0",
      "model_name": "LayoutModel",
      "state": {}
     },
     "89332db77260433c9569fc8bc87caafb": {
      "model_module": "@jupyter-widgets/controls",
      "model_module_version": "1.5.0",
      "model_name": "ProgressStyleModel",
      "state": {
       "description_width": ""
      }
     },
     "894dcf6fd1ed4f78ae579576b2e0f437": {
      "model_module": "@jupyter-widgets/base",
      "model_module_version": "1.2.0",
      "model_name": "LayoutModel",
      "state": {}
     },
     "89589ca3b0004d08a4b483135bf6aa53": {
      "model_module": "@jupyter-widgets/controls",
      "model_module_version": "1.5.0",
      "model_name": "HTMLModel",
      "state": {
       "layout": "IPY_MODEL_1ca1baa3f05c4a9a8e9192ecf67bbf96",
       "style": "IPY_MODEL_cbac05945ab84d1298e6b27d3d1d9cd6",
       "value": "100%"
      }
     },
     "89d8d0fee40c42c890c17f1e470f9892": {
      "model_module": "@jupyter-widgets/controls",
      "model_module_version": "1.5.0",
      "model_name": "HBoxModel",
      "state": {
       "children": [
        "IPY_MODEL_05112974895c432696bdabddfef2bb04",
        "IPY_MODEL_c86b54f69549431d867da82d4604c0d3",
        "IPY_MODEL_4e89da10d1c24a42ab3ebdce40d5044e"
       ],
       "layout": "IPY_MODEL_1f60c5472caf4ceeb22f230096e8c28e"
      }
     },
     "8a3bc6632cc8468a94f2e1cc5cc798ae": {
      "model_module": "@jupyter-widgets/controls",
      "model_module_version": "1.5.0",
      "model_name": "DescriptionStyleModel",
      "state": {
       "description_width": ""
      }
     },
     "8a8a6eb8d502403dba63e274c3ddf7b4": {
      "model_module": "@jupyter-widgets/base",
      "model_module_version": "1.2.0",
      "model_name": "LayoutModel",
      "state": {}
     },
     "8ae993af2c744702b5168b327a4d30e0": {
      "model_module": "@jupyter-widgets/controls",
      "model_module_version": "1.5.0",
      "model_name": "HTMLModel",
      "state": {
       "layout": "IPY_MODEL_913a6e104df54a86a455c708245b3b75",
       "style": "IPY_MODEL_b5a25350f318450a8ebf42523b9e8141",
       "value": " 370105/370105 [00:00&lt;00:00, 930053.94it/s]"
      }
     },
     "8b80849ae1bc4661aff3dddcf84d3424": {
      "model_module": "@jupyter-widgets/controls",
      "model_module_version": "1.5.0",
      "model_name": "FloatProgressModel",
      "state": {
       "bar_style": "success",
       "layout": "IPY_MODEL_0d2bdf3164dd418b8eed61c9b08d4ec1",
       "max": 370105,
       "style": "IPY_MODEL_162e845f8d1a4537ba690dc63fd1258c",
       "value": 370105
      }
     },
     "8bc1789b7d0f4b42bf8a6337246b7121": {
      "model_module": "@jupyter-widgets/controls",
      "model_module_version": "1.5.0",
      "model_name": "ProgressStyleModel",
      "state": {
       "description_width": ""
      }
     },
     "8c33be67e65d4465903ca17f71e0bcaf": {
      "model_module": "@jupyter-widgets/controls",
      "model_module_version": "1.5.0",
      "model_name": "FloatProgressModel",
      "state": {
       "bar_style": "success",
       "layout": "IPY_MODEL_1a4820c66a50427bb18ea4af41a17196",
       "max": 370105,
       "style": "IPY_MODEL_4ff5409ab96647e98adeaec5314b2cb1",
       "value": 370105
      }
     },
     "8c922c4519914e2a866dcf96268c80a3": {
      "model_module": "@jupyter-widgets/base",
      "model_module_version": "1.2.0",
      "model_name": "LayoutModel",
      "state": {}
     },
     "8cd4b8f31a2341aba35803d1ad07310e": {
      "model_module": "@jupyter-widgets/controls",
      "model_module_version": "1.5.0",
      "model_name": "HBoxModel",
      "state": {
       "children": [
        "IPY_MODEL_232593a6363b4db18bbd48162af2976b",
        "IPY_MODEL_faa3e631d537436babfb29a3f837e9a6",
        "IPY_MODEL_96c48bebca3d491e9092554c3d784e47"
       ],
       "layout": "IPY_MODEL_8e1797a74014462f8540921a9a8ae48a"
      }
     },
     "8d23df54dab844238737c48759db118c": {
      "model_module": "@jupyter-widgets/controls",
      "model_module_version": "1.5.0",
      "model_name": "HTMLModel",
      "state": {
       "layout": "IPY_MODEL_ababafd574434a09b81096e7e535f0f7",
       "style": "IPY_MODEL_24506f4f193547b786f8b2382dffcaea",
       "value": " 370105/370105 [00:00&lt;00:00, 1019390.37it/s]"
      }
     },
     "8d69e72c05a54d608d5d988c7406e69b": {
      "model_module": "@jupyter-widgets/controls",
      "model_module_version": "1.5.0",
      "model_name": "HBoxModel",
      "state": {
       "children": [
        "IPY_MODEL_e9ce6ec02e8e41239f7e3f87f29a4398",
        "IPY_MODEL_a5a3be95a3e74326af0672ec90d801a6",
        "IPY_MODEL_78e08a30d2214488b43d98e3f63ffe14"
       ],
       "layout": "IPY_MODEL_af3ad6af26c24d1593d74765cefbfd86"
      }
     },
     "8dab6c80ee8e4de4b514ab8e65e2a7ba": {
      "model_module": "@jupyter-widgets/base",
      "model_module_version": "1.2.0",
      "model_name": "LayoutModel",
      "state": {}
     },
     "8e1797a74014462f8540921a9a8ae48a": {
      "model_module": "@jupyter-widgets/base",
      "model_module_version": "1.2.0",
      "model_name": "LayoutModel",
      "state": {}
     },
     "8e3c4659a34b4a6db332e97f504cb310": {
      "model_module": "@jupyter-widgets/controls",
      "model_module_version": "1.5.0",
      "model_name": "DescriptionStyleModel",
      "state": {
       "description_width": ""
      }
     },
     "8e7426aeada8412ab883c564ce51f20d": {
      "model_module": "@jupyter-widgets/base",
      "model_module_version": "1.2.0",
      "model_name": "LayoutModel",
      "state": {}
     },
     "8e7bb7f350664c778c50c55e845b2bba": {
      "model_module": "@jupyter-widgets/base",
      "model_module_version": "1.2.0",
      "model_name": "LayoutModel",
      "state": {}
     },
     "8e7c955d9b2c45d082d2ee7ed5939070": {
      "model_module": "@jupyter-widgets/base",
      "model_module_version": "1.2.0",
      "model_name": "LayoutModel",
      "state": {}
     },
     "8ed55c580b05424b83583c2d0f2a37c8": {
      "model_module": "@jupyter-widgets/base",
      "model_module_version": "1.2.0",
      "model_name": "LayoutModel",
      "state": {}
     },
     "8edec966899b496db292b067833a2f6c": {
      "model_module": "@jupyter-widgets/base",
      "model_module_version": "1.2.0",
      "model_name": "LayoutModel",
      "state": {}
     },
     "8ee6368569594e029847ad78d45765ed": {
      "model_module": "@jupyter-widgets/controls",
      "model_module_version": "1.5.0",
      "model_name": "ProgressStyleModel",
      "state": {
       "description_width": ""
      }
     },
     "8f28a38ca0654d6b9ab3595e838cc85c": {
      "model_module": "@jupyter-widgets/base",
      "model_module_version": "1.2.0",
      "model_name": "LayoutModel",
      "state": {}
     },
     "8f347275e0a648398a81526af99c74ff": {
      "model_module": "@jupyter-widgets/base",
      "model_module_version": "1.2.0",
      "model_name": "LayoutModel",
      "state": {}
     },
     "8f6588e3ffbd473d95a02a92af5e80a6": {
      "model_module": "@jupyter-widgets/base",
      "model_module_version": "1.2.0",
      "model_name": "LayoutModel",
      "state": {}
     },
     "8fc822f4a71f453ba994e77155519b94": {
      "model_module": "@jupyter-widgets/controls",
      "model_module_version": "1.5.0",
      "model_name": "FloatProgressModel",
      "state": {
       "bar_style": "success",
       "layout": "IPY_MODEL_1f057f6e5d234b8aa8e05abd3a89ce57",
       "max": 370105,
       "style": "IPY_MODEL_d452ec091b7b40e08a947b9e79e53f57",
       "value": 370105
      }
     },
     "8ffa03be372d402c91efb9a19dcb86c4": {
      "model_module": "@jupyter-widgets/controls",
      "model_module_version": "1.5.0",
      "model_name": "HBoxModel",
      "state": {
       "children": [
        "IPY_MODEL_5a81ca9ab57b4c8e91eb9c1e08ad7848",
        "IPY_MODEL_6d4ce0dc3e6f42608c1d5f4ad8595f07",
        "IPY_MODEL_75f2a13d0a3541298700fd0aeef8e486"
       ],
       "layout": "IPY_MODEL_69467b03d5ee47fb8ba313005a8b711f"
      }
     },
     "90271b255d274487b881e2afbab8e1f0": {
      "model_module": "@jupyter-widgets/base",
      "model_module_version": "1.2.0",
      "model_name": "LayoutModel",
      "state": {}
     },
     "90302e6c76b44308800538cbe6fcc353": {
      "model_module": "@jupyter-widgets/base",
      "model_module_version": "1.2.0",
      "model_name": "LayoutModel",
      "state": {}
     },
     "90bfd12d0ce54275bdc5e65ec8b0a285": {
      "model_module": "@jupyter-widgets/controls",
      "model_module_version": "1.5.0",
      "model_name": "DescriptionStyleModel",
      "state": {
       "description_width": ""
      }
     },
     "90d82caf54aa44cd96f0c7fceeec346c": {
      "model_module": "@jupyter-widgets/controls",
      "model_module_version": "1.5.0",
      "model_name": "FloatProgressModel",
      "state": {
       "bar_style": "success",
       "layout": "IPY_MODEL_db20d9dab64145d7bf4895677b9c3849",
       "max": 370105,
       "style": "IPY_MODEL_da619d005f9a403a9c5b5f21c9a46e9e",
       "value": 370105
      }
     },
     "90e4c196c9ea4e058b021536ef80a84f": {
      "model_module": "@jupyter-widgets/controls",
      "model_module_version": "1.5.0",
      "model_name": "DescriptionStyleModel",
      "state": {
       "description_width": ""
      }
     },
     "913a6e104df54a86a455c708245b3b75": {
      "model_module": "@jupyter-widgets/base",
      "model_module_version": "1.2.0",
      "model_name": "LayoutModel",
      "state": {}
     },
     "91bf309af5e147f697622de33f9430c2": {
      "model_module": "@jupyter-widgets/controls",
      "model_module_version": "1.5.0",
      "model_name": "HTMLModel",
      "state": {
       "layout": "IPY_MODEL_da975854cc274563b879c8f421f2323e",
       "style": "IPY_MODEL_27515f040ab3435e98b464936c6c7596",
       "value": " 370105/370105 [00:00&lt;00:00, 928194.84it/s]"
      }
     },
     "922eeaf0956444c099ea1327320d402c": {
      "model_module": "@jupyter-widgets/base",
      "model_module_version": "1.2.0",
      "model_name": "LayoutModel",
      "state": {}
     },
     "9232eb0015bf4d329b0361bcb4d7c9b0": {
      "model_module": "@jupyter-widgets/base",
      "model_module_version": "1.2.0",
      "model_name": "LayoutModel",
      "state": {}
     },
     "92a01e70654d4578ac8c11bbb153d199": {
      "model_module": "@jupyter-widgets/controls",
      "model_module_version": "1.5.0",
      "model_name": "HTMLModel",
      "state": {
       "layout": "IPY_MODEL_2b8c8c9fdd874d97a0c6b8dd4ae5bad0",
       "style": "IPY_MODEL_5606495277ab4083b42b26d60fc49c39",
       "value": "100%"
      }
     },
     "92a6ed75eb4943b4b9f680526a3a8ed9": {
      "model_module": "@jupyter-widgets/controls",
      "model_module_version": "1.5.0",
      "model_name": "FloatProgressModel",
      "state": {
       "bar_style": "success",
       "layout": "IPY_MODEL_b914500ef1ff4be98a0a6ad8245d23bc",
       "max": 370105,
       "style": "IPY_MODEL_84c87b3dbcf1496bad076197aa86fd32",
       "value": 370105
      }
     },
     "92f9618158a54f048159a70b42ce31c1": {
      "model_module": "@jupyter-widgets/controls",
      "model_module_version": "1.5.0",
      "model_name": "FloatProgressModel",
      "state": {
       "bar_style": "success",
       "layout": "IPY_MODEL_7bc52da3cb264963a57e5366c0f8faf5",
       "max": 370105,
       "style": "IPY_MODEL_442fd03ee8b44ffe8de89e1522b48080",
       "value": 370105
      }
     },
     "9336448eba4f48a59e08511406f45365": {
      "model_module": "@jupyter-widgets/controls",
      "model_module_version": "1.5.0",
      "model_name": "FloatProgressModel",
      "state": {
       "bar_style": "success",
       "layout": "IPY_MODEL_dd28572e1b944dfb8e56355c6044ae1f",
       "max": 370105,
       "style": "IPY_MODEL_f6d2873408434b2995c0ed5bb781c65e",
       "value": 370105
      }
     },
     "93661bd9c54e4e399373a0155f3cc812": {
      "model_module": "@jupyter-widgets/base",
      "model_module_version": "1.2.0",
      "model_name": "LayoutModel",
      "state": {}
     },
     "936e54d4d8054557808257f03e6a2690": {
      "model_module": "@jupyter-widgets/controls",
      "model_module_version": "1.5.0",
      "model_name": "HBoxModel",
      "state": {
       "children": [
        "IPY_MODEL_72afcff71d4f4d6f8c2f90ee1ee83d66",
        "IPY_MODEL_5df51a9867064f32b02b7a54a15dd168",
        "IPY_MODEL_0862e9b3984d4eee8d077e4b60f88da6"
       ],
       "layout": "IPY_MODEL_7030ea3adca4426a9b7654b2cc941dc6"
      }
     },
     "93cd60af169543889461790794443a0b": {
      "model_module": "@jupyter-widgets/base",
      "model_module_version": "1.2.0",
      "model_name": "LayoutModel",
      "state": {}
     },
     "93f622a1957a4fff896ed07263e80faa": {
      "model_module": "@jupyter-widgets/base",
      "model_module_version": "1.2.0",
      "model_name": "LayoutModel",
      "state": {}
     },
     "9471091a318a443bb9b8c7ed7c306e84": {
      "model_module": "@jupyter-widgets/base",
      "model_module_version": "1.2.0",
      "model_name": "LayoutModel",
      "state": {}
     },
     "9528b290be0a44c0b9e39e2056fef351": {
      "model_module": "@jupyter-widgets/controls",
      "model_module_version": "1.5.0",
      "model_name": "ProgressStyleModel",
      "state": {
       "description_width": ""
      }
     },
     "955b9bd3a1234620827432b88f24f48c": {
      "model_module": "@jupyter-widgets/controls",
      "model_module_version": "1.5.0",
      "model_name": "DescriptionStyleModel",
      "state": {
       "description_width": ""
      }
     },
     "95c086def96b460eb5c3f60958efdda4": {
      "model_module": "@jupyter-widgets/controls",
      "model_module_version": "1.5.0",
      "model_name": "DescriptionStyleModel",
      "state": {
       "description_width": ""
      }
     },
     "95c0be5d0810446092a89f8d6b3d8196": {
      "model_module": "@jupyter-widgets/base",
      "model_module_version": "1.2.0",
      "model_name": "LayoutModel",
      "state": {}
     },
     "96030af6584f4fb4ad4d935b1bc87a34": {
      "model_module": "@jupyter-widgets/controls",
      "model_module_version": "1.5.0",
      "model_name": "DescriptionStyleModel",
      "state": {
       "description_width": ""
      }
     },
     "9635830415824a20b1a099b55349bdba": {
      "model_module": "@jupyter-widgets/controls",
      "model_module_version": "1.5.0",
      "model_name": "DescriptionStyleModel",
      "state": {
       "description_width": ""
      }
     },
     "963cb84e45884f9495a3f759afb76a31": {
      "model_module": "@jupyter-widgets/base",
      "model_module_version": "1.2.0",
      "model_name": "LayoutModel",
      "state": {}
     },
     "96c48bebca3d491e9092554c3d784e47": {
      "model_module": "@jupyter-widgets/controls",
      "model_module_version": "1.5.0",
      "model_name": "HTMLModel",
      "state": {
       "layout": "IPY_MODEL_43965c21fc564d9a8f138d2de4cebb03",
       "style": "IPY_MODEL_f27ed5d680184ba1abe83ee86a099563",
       "value": " 370105/370105 [00:00&lt;00:00, 898031.28it/s]"
      }
     },
     "96def5ed15074c53b6d64aa568d574e5": {
      "model_module": "@jupyter-widgets/base",
      "model_module_version": "1.2.0",
      "model_name": "LayoutModel",
      "state": {}
     },
     "96fbe60ea4c74de5b11b4b08e4038432": {
      "model_module": "@jupyter-widgets/controls",
      "model_module_version": "1.5.0",
      "model_name": "HTMLModel",
      "state": {
       "layout": "IPY_MODEL_1b4ca3cfa3c542a38c6c885e569d4b60",
       "style": "IPY_MODEL_d102fb97e2064c6ba270bd0ac3bb9fde",
       "value": " 370105/370105 [00:00&lt;00:00, 927130.57it/s]"
      }
     },
     "977a2183d3214553b994a624df17bf7c": {
      "model_module": "@jupyter-widgets/base",
      "model_module_version": "1.2.0",
      "model_name": "LayoutModel",
      "state": {}
     },
     "97dddc64b9a74987b2cd50714936ac12": {
      "model_module": "@jupyter-widgets/base",
      "model_module_version": "1.2.0",
      "model_name": "LayoutModel",
      "state": {}
     },
     "97e39ba1b992485085f9583b0b1326b7": {
      "model_module": "@jupyter-widgets/controls",
      "model_module_version": "1.5.0",
      "model_name": "DescriptionStyleModel",
      "state": {
       "description_width": ""
      }
     },
     "9817195e604947f28966db83ad662ae7": {
      "model_module": "@jupyter-widgets/base",
      "model_module_version": "1.2.0",
      "model_name": "LayoutModel",
      "state": {}
     },
     "9851e34f5acf447e8bbb1723c68f9411": {
      "model_module": "@jupyter-widgets/controls",
      "model_module_version": "1.5.0",
      "model_name": "DescriptionStyleModel",
      "state": {
       "description_width": ""
      }
     },
     "9863055179e9407bb96827a4a8f5e524": {
      "model_module": "@jupyter-widgets/controls",
      "model_module_version": "1.5.0",
      "model_name": "HBoxModel",
      "state": {
       "children": [
        "IPY_MODEL_9a424a98c6fd4819862ace3ad5a0efa2",
        "IPY_MODEL_4e95e4ecc650443eaff80a0198c17e6d",
        "IPY_MODEL_1f311438dda34362b6f98be24a2eda4b"
       ],
       "layout": "IPY_MODEL_bfef758da6ff42369c810fc672a61323"
      }
     },
     "98a80ae27e554759992387a6cc3bc109": {
      "model_module": "@jupyter-widgets/base",
      "model_module_version": "1.2.0",
      "model_name": "LayoutModel",
      "state": {}
     },
     "9903c94a3fe541a4b96f8c1458d252da": {
      "model_module": "@jupyter-widgets/base",
      "model_module_version": "1.2.0",
      "model_name": "LayoutModel",
      "state": {}
     },
     "994eb5765d8f41f49ec71b95c3dd4df3": {
      "model_module": "@jupyter-widgets/base",
      "model_module_version": "1.2.0",
      "model_name": "LayoutModel",
      "state": {}
     },
     "99d33d5da420494085a7a4a388eeae15": {
      "model_module": "@jupyter-widgets/base",
      "model_module_version": "1.2.0",
      "model_name": "LayoutModel",
      "state": {}
     },
     "9a15eb4c22b04da4a0f0b3e1812ab7db": {
      "model_module": "@jupyter-widgets/controls",
      "model_module_version": "1.5.0",
      "model_name": "DescriptionStyleModel",
      "state": {
       "description_width": ""
      }
     },
     "9a424a98c6fd4819862ace3ad5a0efa2": {
      "model_module": "@jupyter-widgets/controls",
      "model_module_version": "1.5.0",
      "model_name": "HTMLModel",
      "state": {
       "layout": "IPY_MODEL_84f28fb820bd4d2e9528fcf2ceb39a31",
       "style": "IPY_MODEL_b5a65b0eb2254d2d8e8fd10050cfad1d",
       "value": "100%"
      }
     },
     "9a50bfe86adc4f2199f0fe04d89f156a": {
      "model_module": "@jupyter-widgets/controls",
      "model_module_version": "1.5.0",
      "model_name": "HTMLModel",
      "state": {
       "layout": "IPY_MODEL_aba1377436174f5eaafd273c803ef8d5",
       "style": "IPY_MODEL_b0f9cc21bcfc4df091c98ff80d6df419",
       "value": "100%"
      }
     },
     "9b06efce70784cada959fdfed9ba2cf4": {
      "model_module": "@jupyter-widgets/base",
      "model_module_version": "1.2.0",
      "model_name": "LayoutModel",
      "state": {}
     },
     "9b198227b20b4a3ca0c8817784e0e2f6": {
      "model_module": "@jupyter-widgets/base",
      "model_module_version": "1.2.0",
      "model_name": "LayoutModel",
      "state": {}
     },
     "9b3e5835d36d495ebbd362f835e35e9f": {
      "model_module": "@jupyter-widgets/base",
      "model_module_version": "1.2.0",
      "model_name": "LayoutModel",
      "state": {}
     },
     "9b50b8912b3d4ed2bf96c3133590e487": {
      "model_module": "@jupyter-widgets/controls",
      "model_module_version": "1.5.0",
      "model_name": "DescriptionStyleModel",
      "state": {
       "description_width": ""
      }
     },
     "9b8ee3bb00544835a248c3d58c347d56": {
      "model_module": "@jupyter-widgets/controls",
      "model_module_version": "1.5.0",
      "model_name": "DescriptionStyleModel",
      "state": {
       "description_width": ""
      }
     },
     "9bb27c61185f4a9c86a203373d9644cb": {
      "model_module": "@jupyter-widgets/controls",
      "model_module_version": "1.5.0",
      "model_name": "FloatProgressModel",
      "state": {
       "bar_style": "success",
       "layout": "IPY_MODEL_97dddc64b9a74987b2cd50714936ac12",
       "max": 370105,
       "style": "IPY_MODEL_dac9a1a1f4184a92877df08480cbb984",
       "value": 370105
      }
     },
     "9beea31e48624b78b096d8cec6e990b4": {
      "model_module": "@jupyter-widgets/base",
      "model_module_version": "1.2.0",
      "model_name": "LayoutModel",
      "state": {}
     },
     "9c3e72f3a1564db58e0d0deccb80c2a0": {
      "model_module": "@jupyter-widgets/base",
      "model_module_version": "1.2.0",
      "model_name": "LayoutModel",
      "state": {}
     },
     "9c784d7125b843ea921d267a3d203b67": {
      "model_module": "@jupyter-widgets/controls",
      "model_module_version": "1.5.0",
      "model_name": "DescriptionStyleModel",
      "state": {
       "description_width": ""
      }
     },
     "9c7d2eec84f54a8e9c380a1dfe447586": {
      "model_module": "@jupyter-widgets/controls",
      "model_module_version": "1.5.0",
      "model_name": "HTMLModel",
      "state": {
       "layout": "IPY_MODEL_dd7e22ea723b4ef6bfde2a425c1a9123",
       "style": "IPY_MODEL_8e3c4659a34b4a6db332e97f504cb310",
       "value": " 370105/370105 [00:00&lt;00:00, 928165.23it/s]"
      }
     },
     "9c824cf3fe9847cf8c237611d6899806": {
      "model_module": "@jupyter-widgets/controls",
      "model_module_version": "1.5.0",
      "model_name": "HBoxModel",
      "state": {
       "children": [
        "IPY_MODEL_2fdc76fcba7a4e00998774a597a85a50",
        "IPY_MODEL_fa627e001afa40ce8eabd85d696a6b33",
        "IPY_MODEL_4338ad334967456696719df9e0275938"
       ],
       "layout": "IPY_MODEL_894dcf6fd1ed4f78ae579576b2e0f437"
      }
     },
     "9c9a7dcf40be4cb192cfb8517fdbf5ac": {
      "model_module": "@jupyter-widgets/controls",
      "model_module_version": "1.5.0",
      "model_name": "DescriptionStyleModel",
      "state": {
       "description_width": ""
      }
     },
     "9cab06074c7e45268a3d32bc304bc039": {
      "model_module": "@jupyter-widgets/base",
      "model_module_version": "1.2.0",
      "model_name": "LayoutModel",
      "state": {}
     },
     "9d7d32ad84114989b7e783812138ecc2": {
      "model_module": "@jupyter-widgets/controls",
      "model_module_version": "1.5.0",
      "model_name": "ProgressStyleModel",
      "state": {
       "description_width": ""
      }
     },
     "9da913e6a3994a30b5cea741db25a50e": {
      "model_module": "@jupyter-widgets/base",
      "model_module_version": "1.2.0",
      "model_name": "LayoutModel",
      "state": {}
     },
     "9db2adf71fbf4f2a9ddab4b341961ec6": {
      "model_module": "@jupyter-widgets/controls",
      "model_module_version": "1.5.0",
      "model_name": "FloatProgressModel",
      "state": {
       "bar_style": "success",
       "layout": "IPY_MODEL_1ed1d4127fe74881bc2295412dd39ab5",
       "max": 370105,
       "style": "IPY_MODEL_36bff2cbc38a4981ba35d3b77486a4d4",
       "value": 370105
      }
     },
     "9e01373a049e466495312bf2069aa9a8": {
      "model_module": "@jupyter-widgets/controls",
      "model_module_version": "1.5.0",
      "model_name": "HTMLModel",
      "state": {
       "layout": "IPY_MODEL_10606d0938d94897b9649062395abcf8",
       "style": "IPY_MODEL_dea21aa0435d40b4992fa3f4c06c184f",
       "value": " 370105/370105 [00:00&lt;00:00, 978498.17it/s]"
      }
     },
     "9e33230fae1b43b0b136c7cb281cd80d": {
      "model_module": "@jupyter-widgets/controls",
      "model_module_version": "1.5.0",
      "model_name": "FloatProgressModel",
      "state": {
       "bar_style": "success",
       "layout": "IPY_MODEL_080f5aa6786d4cce9ce5de6c38cbc889",
       "max": 370105,
       "style": "IPY_MODEL_09cdf685bc144b33a7bcc01cd127adca",
       "value": 370105
      }
     },
     "9e8c8e78d07544259ccb2b518a410c4b": {
      "model_module": "@jupyter-widgets/controls",
      "model_module_version": "1.5.0",
      "model_name": "DescriptionStyleModel",
      "state": {
       "description_width": ""
      }
     },
     "9eeed3924c7142f79fc46f517e01819d": {
      "model_module": "@jupyter-widgets/base",
      "model_module_version": "1.2.0",
      "model_name": "LayoutModel",
      "state": {}
     },
     "9f3ef76b45b847d089a602a5bc040dca": {
      "model_module": "@jupyter-widgets/controls",
      "model_module_version": "1.5.0",
      "model_name": "DescriptionStyleModel",
      "state": {
       "description_width": ""
      }
     },
     "9f4fe5f6cc8d4c8ebd2553a86be956b9": {
      "model_module": "@jupyter-widgets/controls",
      "model_module_version": "1.5.0",
      "model_name": "DescriptionStyleModel",
      "state": {
       "description_width": ""
      }
     },
     "9fbfec1615474b9f9ce91a920c73c331": {
      "model_module": "@jupyter-widgets/controls",
      "model_module_version": "1.5.0",
      "model_name": "HTMLModel",
      "state": {
       "layout": "IPY_MODEL_726f47c9a5094b78826ad69765c6444b",
       "style": "IPY_MODEL_62f8a29da9194960985f09d0e15d2a7b",
       "value": "100%"
      }
     },
     "a0313c7c9ad941f6adb8e2bec55bfbb9": {
      "model_module": "@jupyter-widgets/controls",
      "model_module_version": "1.5.0",
      "model_name": "FloatProgressModel",
      "state": {
       "bar_style": "success",
       "layout": "IPY_MODEL_01b376a4f7d84a37ab734095af66182a",
       "max": 370105,
       "style": "IPY_MODEL_f237fa26bebd4b72abc4fc89f3db3627",
       "value": 370105
      }
     },
     "a04917394a7b4c71abfee3eb6424971e": {
      "model_module": "@jupyter-widgets/base",
      "model_module_version": "1.2.0",
      "model_name": "LayoutModel",
      "state": {}
     },
     "a058548ef11943f78673f3e86b44ca9e": {
      "model_module": "@jupyter-widgets/base",
      "model_module_version": "1.2.0",
      "model_name": "LayoutModel",
      "state": {}
     },
     "a0649d097b1046779590969d1608ab23": {
      "model_module": "@jupyter-widgets/base",
      "model_module_version": "1.2.0",
      "model_name": "LayoutModel",
      "state": {}
     },
     "a0853a56b6d0449cbbb1a9b17243e9c0": {
      "model_module": "@jupyter-widgets/base",
      "model_module_version": "1.2.0",
      "model_name": "LayoutModel",
      "state": {}
     },
     "a0fc9966eff04093a1ef89f5542a1aab": {
      "model_module": "@jupyter-widgets/controls",
      "model_module_version": "1.5.0",
      "model_name": "FloatProgressModel",
      "state": {
       "bar_style": "success",
       "layout": "IPY_MODEL_39a645f80cda452b8f1ff6bca9e8fc87",
       "max": 370105,
       "style": "IPY_MODEL_356a6e077a2e452eb32b3e0c74ca6151",
       "value": 370105
      }
     },
     "a148fd3c63cc4d9abcf655db9f8c6cd5": {
      "model_module": "@jupyter-widgets/controls",
      "model_module_version": "1.5.0",
      "model_name": "HTMLModel",
      "state": {
       "layout": "IPY_MODEL_f85da34d2bb942f1ac2e2727b2cba66a",
       "style": "IPY_MODEL_15f559260c4f488cbefbc7c077253187",
       "value": "100%"
      }
     },
     "a1522793a00349babb14ea7c9a5d8e50": {
      "model_module": "@jupyter-widgets/controls",
      "model_module_version": "1.5.0",
      "model_name": "HTMLModel",
      "state": {
       "layout": "IPY_MODEL_a9f49b95d2e94469976a5df97b4bbbf3",
       "style": "IPY_MODEL_a4637148e4cf45c9ac9747809e7cbb21",
       "value": "100%"
      }
     },
     "a21d480620044cdb82c3596b66d1b5e3": {
      "model_module": "@jupyter-widgets/base",
      "model_module_version": "1.2.0",
      "model_name": "LayoutModel",
      "state": {}
     },
     "a284a66bc58c4a42a67e67bb0a3a2edd": {
      "model_module": "@jupyter-widgets/controls",
      "model_module_version": "1.5.0",
      "model_name": "HBoxModel",
      "state": {
       "children": [
        "IPY_MODEL_20de687781cb48fba4ad96fa5d005509",
        "IPY_MODEL_e3337f4d22ab4c90a84747e743374d24",
        "IPY_MODEL_df942e52653e4c9ab71c7c415a680362"
       ],
       "layout": "IPY_MODEL_db660c28d6fa478bb4eba4f75323b536"
      }
     },
     "a28742e4353b45898368d0762296fcef": {
      "model_module": "@jupyter-widgets/base",
      "model_module_version": "1.2.0",
      "model_name": "LayoutModel",
      "state": {}
     },
     "a28a290446a44886823fafe07b920adc": {
      "model_module": "@jupyter-widgets/controls",
      "model_module_version": "1.5.0",
      "model_name": "HTMLModel",
      "state": {
       "layout": "IPY_MODEL_c5df1fe97d974e2b83e243999887d212",
       "style": "IPY_MODEL_7acf2c5b3f3745b39d97fd610200c303",
       "value": "100%"
      }
     },
     "a32ce793f62a42a29fd85df3b22c94b8": {
      "model_module": "@jupyter-widgets/controls",
      "model_module_version": "1.5.0",
      "model_name": "ProgressStyleModel",
      "state": {
       "description_width": ""
      }
     },
     "a3887ddf442d49c08609cec5a261b759": {
      "model_module": "@jupyter-widgets/controls",
      "model_module_version": "1.5.0",
      "model_name": "DescriptionStyleModel",
      "state": {
       "description_width": ""
      }
     },
     "a3aded515cf94e65bf38ad5c5f36f720": {
      "model_module": "@jupyter-widgets/controls",
      "model_module_version": "1.5.0",
      "model_name": "HBoxModel",
      "state": {
       "children": [
        "IPY_MODEL_631ccada45a548aead9fac0b870b0d50",
        "IPY_MODEL_776c20d114ff4534945688b6eaa59d7d",
        "IPY_MODEL_ca9e72374cb444d2b83f75514351b174"
       ],
       "layout": "IPY_MODEL_a81e61e0de5d426faea7e2f07fe93e6c"
      }
     },
     "a3eedcd9b6f841be8e258e8f54741bb0": {
      "model_module": "@jupyter-widgets/controls",
      "model_module_version": "1.5.0",
      "model_name": "DescriptionStyleModel",
      "state": {
       "description_width": ""
      }
     },
     "a4637148e4cf45c9ac9747809e7cbb21": {
      "model_module": "@jupyter-widgets/controls",
      "model_module_version": "1.5.0",
      "model_name": "DescriptionStyleModel",
      "state": {
       "description_width": ""
      }
     },
     "a535cf72555947418a0ef3a268e04356": {
      "model_module": "@jupyter-widgets/base",
      "model_module_version": "1.2.0",
      "model_name": "LayoutModel",
      "state": {}
     },
     "a568d7d17e814853bd4fe7643992ec1d": {
      "model_module": "@jupyter-widgets/controls",
      "model_module_version": "1.5.0",
      "model_name": "DescriptionStyleModel",
      "state": {
       "description_width": ""
      }
     },
     "a576ca381ea849b9ae42cf15d85265b1": {
      "model_module": "@jupyter-widgets/controls",
      "model_module_version": "1.5.0",
      "model_name": "HTMLModel",
      "state": {
       "layout": "IPY_MODEL_5e306d962d8c4ee2904100a8f973c5fd",
       "style": "IPY_MODEL_326330a688984bf995e7acff6fdd128a",
       "value": "100%"
      }
     },
     "a5790ce58245431caf447c4a7f743db4": {
      "model_module": "@jupyter-widgets/controls",
      "model_module_version": "1.5.0",
      "model_name": "HTMLModel",
      "state": {
       "layout": "IPY_MODEL_144b32b835e34bf69255085877652606",
       "style": "IPY_MODEL_296b6bc54c5e4555ac243c96bfdeda5c",
       "value": " 370105/370105 [00:00&lt;00:00, 912407.77it/s]"
      }
     },
     "a5a3be95a3e74326af0672ec90d801a6": {
      "model_module": "@jupyter-widgets/controls",
      "model_module_version": "1.5.0",
      "model_name": "FloatProgressModel",
      "state": {
       "bar_style": "success",
       "layout": "IPY_MODEL_36d2187f1f7543ecae872243ef807a59",
       "max": 370105,
       "style": "IPY_MODEL_107c1f38497b46f8b9793c207ea88601",
       "value": 370105
      }
     },
     "a64c90d903d145489928b8fce32f18c2": {
      "model_module": "@jupyter-widgets/controls",
      "model_module_version": "1.5.0",
      "model_name": "HBoxModel",
      "state": {
       "children": [
        "IPY_MODEL_5592c591261d42a0ab1ffc0d3d89cafa",
        "IPY_MODEL_56ad211185d24a85a3036bfcf133e7aa",
        "IPY_MODEL_088da1ea451240af8a272bf916eba754"
       ],
       "layout": "IPY_MODEL_18577604998944cfa26fcb8953ca6105"
      }
     },
     "a6ad180fdfa84f119b6dfde906e95ba0": {
      "model_module": "@jupyter-widgets/controls",
      "model_module_version": "1.5.0",
      "model_name": "DescriptionStyleModel",
      "state": {
       "description_width": ""
      }
     },
     "a72ed87f2201472bad1960ac17ff2ce0": {
      "model_module": "@jupyter-widgets/base",
      "model_module_version": "1.2.0",
      "model_name": "LayoutModel",
      "state": {}
     },
     "a755783dec1145ad8ed7725fd2a717ba": {
      "model_module": "@jupyter-widgets/controls",
      "model_module_version": "1.5.0",
      "model_name": "FloatProgressModel",
      "state": {
       "bar_style": "success",
       "layout": "IPY_MODEL_ea09770b6ed34076aabee308d4ba43a2",
       "max": 370105,
       "style": "IPY_MODEL_c8ac4da45db2457ea23ae82c2a4ff57e",
       "value": 370105
      }
     },
     "a763f21cf99644ce99abcdba11164ea7": {
      "model_module": "@jupyter-widgets/base",
      "model_module_version": "1.2.0",
      "model_name": "LayoutModel",
      "state": {}
     },
     "a79c8cdb8f9b43c28f61e0712c511cef": {
      "model_module": "@jupyter-widgets/base",
      "model_module_version": "1.2.0",
      "model_name": "LayoutModel",
      "state": {}
     },
     "a7a41d2b2f2d46bda96c4329bb2be207": {
      "model_module": "@jupyter-widgets/controls",
      "model_module_version": "1.5.0",
      "model_name": "DescriptionStyleModel",
      "state": {
       "description_width": ""
      }
     },
     "a7eeee87feb6480f92095842911d0a12": {
      "model_module": "@jupyter-widgets/controls",
      "model_module_version": "1.5.0",
      "model_name": "FloatProgressModel",
      "state": {
       "bar_style": "success",
       "layout": "IPY_MODEL_c03780238d2c402cb9571952a247349f",
       "max": 370105,
       "style": "IPY_MODEL_6d08e9219397438c8e674e727587e9bb",
       "value": 370105
      }
     },
     "a81e61e0de5d426faea7e2f07fe93e6c": {
      "model_module": "@jupyter-widgets/base",
      "model_module_version": "1.2.0",
      "model_name": "LayoutModel",
      "state": {}
     },
     "a846673e40a046ac9ef57b820ef6153b": {
      "model_module": "@jupyter-widgets/controls",
      "model_module_version": "1.5.0",
      "model_name": "HTMLModel",
      "state": {
       "layout": "IPY_MODEL_c6cd99137bce40f1a7d67f4b052cdacc",
       "style": "IPY_MODEL_20c236a3e20748f5b3772780757f06ba",
       "value": " 370105/370105 [00:00&lt;00:00, 941508.30it/s]"
      }
     },
     "a957f272e0834aedabcce574591c913f": {
      "model_module": "@jupyter-widgets/controls",
      "model_module_version": "1.5.0",
      "model_name": "DescriptionStyleModel",
      "state": {
       "description_width": ""
      }
     },
     "a9cb63ffa9c948a8b5d1cb6abc298bb1": {
      "model_module": "@jupyter-widgets/controls",
      "model_module_version": "1.5.0",
      "model_name": "HTMLModel",
      "state": {
       "layout": "IPY_MODEL_42b413419c5748029aac26db62a06588",
       "style": "IPY_MODEL_d43db6d8a8a04ba5a70449248851b1dd",
       "value": "100%"
      }
     },
     "a9f49b95d2e94469976a5df97b4bbbf3": {
      "model_module": "@jupyter-widgets/base",
      "model_module_version": "1.2.0",
      "model_name": "LayoutModel",
      "state": {}
     },
     "aa48c8b68897482f955c28017fbca9f6": {
      "model_module": "@jupyter-widgets/base",
      "model_module_version": "1.2.0",
      "model_name": "LayoutModel",
      "state": {}
     },
     "aab53ff446224636a8b7d85de490a97b": {
      "model_module": "@jupyter-widgets/controls",
      "model_module_version": "1.5.0",
      "model_name": "HTMLModel",
      "state": {
       "layout": "IPY_MODEL_9b06efce70784cada959fdfed9ba2cf4",
       "style": "IPY_MODEL_2e39324c1a7a4b8ba597ec280af613ea",
       "value": " 370105/370105 [00:00&lt;00:00, 1022849.40it/s]"
      }
     },
     "ab4811b0103d47e38f57fdeadfe56729": {
      "model_module": "@jupyter-widgets/controls",
      "model_module_version": "1.5.0",
      "model_name": "HTMLModel",
      "state": {
       "layout": "IPY_MODEL_f3c484939f374072aa66a8a6789e9073",
       "style": "IPY_MODEL_82ac0cbe6e174aaf96516f03b541f83f",
       "value": " 370105/370105 [00:00&lt;00:00, 935375.66it/s]"
      }
     },
     "aba1377436174f5eaafd273c803ef8d5": {
      "model_module": "@jupyter-widgets/base",
      "model_module_version": "1.2.0",
      "model_name": "LayoutModel",
      "state": {}
     },
     "ababafd574434a09b81096e7e535f0f7": {
      "model_module": "@jupyter-widgets/base",
      "model_module_version": "1.2.0",
      "model_name": "LayoutModel",
      "state": {}
     },
     "ac7cb6faa44f497a8ad4b2fb66ea9b29": {
      "model_module": "@jupyter-widgets/controls",
      "model_module_version": "1.5.0",
      "model_name": "HBoxModel",
      "state": {
       "children": [
        "IPY_MODEL_26d00cb0699c48bc86a0f0aed93c12a1",
        "IPY_MODEL_e1a8c00928c340ec8eac0888c0564d00",
        "IPY_MODEL_a846673e40a046ac9ef57b820ef6153b"
       ],
       "layout": "IPY_MODEL_1328779e6a094eab8f009db373ec45c4"
      }
     },
     "ac7d70875b614d1bb2893c173147938a": {
      "model_module": "@jupyter-widgets/base",
      "model_module_version": "1.2.0",
      "model_name": "LayoutModel",
      "state": {}
     },
     "acfa19c0ca5c44289e33ec9e3b2909d5": {
      "model_module": "@jupyter-widgets/controls",
      "model_module_version": "1.5.0",
      "model_name": "HBoxModel",
      "state": {
       "children": [
        "IPY_MODEL_4085c5d086474ba0810a4b15bc6bb6e0",
        "IPY_MODEL_3fc05d5fd25b48ecb951d7ec09cbaa1a",
        "IPY_MODEL_f0b6f5e6aa7540c18c73f412441353bd"
       ],
       "layout": "IPY_MODEL_b77bf1f9399a494c977353e3d352b2d9"
      }
     },
     "ad07fc06e3dd4c009d1fdc1ea3faaf20": {
      "model_module": "@jupyter-widgets/controls",
      "model_module_version": "1.5.0",
      "model_name": "ProgressStyleModel",
      "state": {
       "description_width": ""
      }
     },
     "ae274f9c2a084578b4c5ade201d6a83d": {
      "model_module": "@jupyter-widgets/controls",
      "model_module_version": "1.5.0",
      "model_name": "DescriptionStyleModel",
      "state": {
       "description_width": ""
      }
     },
     "af15006b592047efa8df37c6580ef994": {
      "model_module": "@jupyter-widgets/controls",
      "model_module_version": "1.5.0",
      "model_name": "HTMLModel",
      "state": {
       "layout": "IPY_MODEL_d9af8c529cc245dda3c9bd06a910e761",
       "style": "IPY_MODEL_40900026c7604d579ca7bd87691a22d8",
       "value": "100%"
      }
     },
     "af19ff2d9b7d4b1c8ed0abe1ad92d95c": {
      "model_module": "@jupyter-widgets/controls",
      "model_module_version": "1.5.0",
      "model_name": "ProgressStyleModel",
      "state": {
       "description_width": ""
      }
     },
     "af375bfc6bcc4928afca8bc6c1703555": {
      "model_module": "@jupyter-widgets/base",
      "model_module_version": "1.2.0",
      "model_name": "LayoutModel",
      "state": {}
     },
     "af3ad6af26c24d1593d74765cefbfd86": {
      "model_module": "@jupyter-widgets/base",
      "model_module_version": "1.2.0",
      "model_name": "LayoutModel",
      "state": {}
     },
     "af5b8c0fc7494217a28cdafa70fc4b10": {
      "model_module": "@jupyter-widgets/controls",
      "model_module_version": "1.5.0",
      "model_name": "DescriptionStyleModel",
      "state": {
       "description_width": ""
      }
     },
     "af766f8c38b34439bf28fbc7a9124211": {
      "model_module": "@jupyter-widgets/base",
      "model_module_version": "1.2.0",
      "model_name": "LayoutModel",
      "state": {}
     },
     "af8241c114484a9ca019b4844245491e": {
      "model_module": "@jupyter-widgets/controls",
      "model_module_version": "1.5.0",
      "model_name": "HTMLModel",
      "state": {
       "layout": "IPY_MODEL_f992e59d09ab4cc5928a0014f17e4da8",
       "style": "IPY_MODEL_dfd3960b060e4ab49d521f39e4efb4dd",
       "value": "100%"
      }
     },
     "af872cf0433d44128346c661523c1be2": {
      "model_module": "@jupyter-widgets/controls",
      "model_module_version": "1.5.0",
      "model_name": "HBoxModel",
      "state": {
       "children": [
        "IPY_MODEL_f039088fd261415885ae98607ce70277",
        "IPY_MODEL_c39639b7922b44478176e2f340fe82bf",
        "IPY_MODEL_96fbe60ea4c74de5b11b4b08e4038432"
       ],
       "layout": "IPY_MODEL_334887a8829d4c9cad251ab0fc2044ae"
      }
     },
     "afaa68d8337943f2b578f957c72fa34e": {
      "model_module": "@jupyter-widgets/controls",
      "model_module_version": "1.5.0",
      "model_name": "HBoxModel",
      "state": {
       "children": [
        "IPY_MODEL_b12f2eb220b440b7a8641e66fb3ff5be",
        "IPY_MODEL_92a6ed75eb4943b4b9f680526a3a8ed9",
        "IPY_MODEL_8d23df54dab844238737c48759db118c"
       ],
       "layout": "IPY_MODEL_5d8af5e30371443eab1c45ee0c5be453"
      }
     },
     "b0f9cc21bcfc4df091c98ff80d6df419": {
      "model_module": "@jupyter-widgets/controls",
      "model_module_version": "1.5.0",
      "model_name": "DescriptionStyleModel",
      "state": {
       "description_width": ""
      }
     },
     "b1086a19c9f44f72ac3d87530aaecec2": {
      "model_module": "@jupyter-widgets/controls",
      "model_module_version": "1.5.0",
      "model_name": "HBoxModel",
      "state": {
       "children": [
        "IPY_MODEL_34441e8753c64e45831b3c1344a317a0",
        "IPY_MODEL_2b5b410f1e914d25ab130ef0f5a11fa1",
        "IPY_MODEL_7c9475c552084f988a788e26ae283370"
       ],
       "layout": "IPY_MODEL_bd0aa36d18794434a4bda13aeabe5aa8"
      }
     },
     "b12f2eb220b440b7a8641e66fb3ff5be": {
      "model_module": "@jupyter-widgets/controls",
      "model_module_version": "1.5.0",
      "model_name": "HTMLModel",
      "state": {
       "layout": "IPY_MODEL_d081cc39649a4d7f92ad09fec8eb71d9",
       "style": "IPY_MODEL_d60ec63eb25544eab843aa7d22139065",
       "value": "100%"
      }
     },
     "b155b89c634d4215a594024ab121603e": {
      "model_module": "@jupyter-widgets/controls",
      "model_module_version": "1.5.0",
      "model_name": "DescriptionStyleModel",
      "state": {
       "description_width": ""
      }
     },
     "b1af671c8f794b529586ec9f0367723e": {
      "model_module": "@jupyter-widgets/controls",
      "model_module_version": "1.5.0",
      "model_name": "ProgressStyleModel",
      "state": {
       "description_width": ""
      }
     },
     "b1f773e4f7a84e1292a9ac4cfbd800e8": {
      "model_module": "@jupyter-widgets/base",
      "model_module_version": "1.2.0",
      "model_name": "LayoutModel",
      "state": {}
     },
     "b25e977b4d6b4316b25ac8d5ebcedc9f": {
      "model_module": "@jupyter-widgets/controls",
      "model_module_version": "1.5.0",
      "model_name": "HTMLModel",
      "state": {
       "layout": "IPY_MODEL_ea015a78e7b7439ba6351c9e0bad1837",
       "style": "IPY_MODEL_7a0722bb740f4f33be9a7bbb8b032362",
       "value": " 370105/370105 [00:00&lt;00:00, 906612.41it/s]"
      }
     },
     "b2d2dd24b731479f96ee788d1ee931a2": {
      "model_module": "@jupyter-widgets/controls",
      "model_module_version": "1.5.0",
      "model_name": "FloatProgressModel",
      "state": {
       "bar_style": "success",
       "layout": "IPY_MODEL_5aaa03cb0ce54c59a285bc41c83bead2",
       "max": 370105,
       "style": "IPY_MODEL_0a9ac5e45f1f44b3a823b0b814a03d48",
       "value": 370105
      }
     },
     "b347b69417564aeaa467c0809b20c0be": {
      "model_module": "@jupyter-widgets/controls",
      "model_module_version": "1.5.0",
      "model_name": "DescriptionStyleModel",
      "state": {
       "description_width": ""
      }
     },
     "b37336cd5eb941a688ad9b4122cead2b": {
      "model_module": "@jupyter-widgets/controls",
      "model_module_version": "1.5.0",
      "model_name": "DescriptionStyleModel",
      "state": {
       "description_width": ""
      }
     },
     "b3daaa174680405ebc7e37b2940f713d": {
      "model_module": "@jupyter-widgets/controls",
      "model_module_version": "1.5.0",
      "model_name": "FloatProgressModel",
      "state": {
       "bar_style": "success",
       "layout": "IPY_MODEL_c1012e25b028440ba2e0cf846b5c84dd",
       "max": 370105,
       "style": "IPY_MODEL_4faae7b0ecfc48f18f10509ee1c97539",
       "value": 370105
      }
     },
     "b40d333130ed4de2abde4743e61d7ad5": {
      "model_module": "@jupyter-widgets/base",
      "model_module_version": "1.2.0",
      "model_name": "LayoutModel",
      "state": {}
     },
     "b422c4ab7224448791f14e5d866755ab": {
      "model_module": "@jupyter-widgets/controls",
      "model_module_version": "1.5.0",
      "model_name": "HBoxModel",
      "state": {
       "children": [
        "IPY_MODEL_d1d9f21d2a0c4266b3bceedd6f567aa1",
        "IPY_MODEL_6c39b7212b4c44e38c037fdfe5c95d2c",
        "IPY_MODEL_c898f3e8e62a4a989c157254560ff683"
       ],
       "layout": "IPY_MODEL_ac7d70875b614d1bb2893c173147938a"
      }
     },
     "b42969efc8d34b6f9efa168b68a45e40": {
      "model_module": "@jupyter-widgets/controls",
      "model_module_version": "1.5.0",
      "model_name": "DescriptionStyleModel",
      "state": {
       "description_width": ""
      }
     },
     "b47bdcc57e9447eb8f65173d81b6150e": {
      "model_module": "@jupyter-widgets/base",
      "model_module_version": "1.2.0",
      "model_name": "LayoutModel",
      "state": {}
     },
     "b4985fc206d24a84b956fee2ca9c3a6c": {
      "model_module": "@jupyter-widgets/base",
      "model_module_version": "1.2.0",
      "model_name": "LayoutModel",
      "state": {}
     },
     "b4ef0e93b79748b19be8346edcb96f9c": {
      "model_module": "@jupyter-widgets/controls",
      "model_module_version": "1.5.0",
      "model_name": "DescriptionStyleModel",
      "state": {
       "description_width": ""
      }
     },
     "b52feeab0a0743908351bdd397f8e9df": {
      "model_module": "@jupyter-widgets/base",
      "model_module_version": "1.2.0",
      "model_name": "LayoutModel",
      "state": {}
     },
     "b5a25350f318450a8ebf42523b9e8141": {
      "model_module": "@jupyter-widgets/controls",
      "model_module_version": "1.5.0",
      "model_name": "DescriptionStyleModel",
      "state": {
       "description_width": ""
      }
     },
     "b5a65b0eb2254d2d8e8fd10050cfad1d": {
      "model_module": "@jupyter-widgets/controls",
      "model_module_version": "1.5.0",
      "model_name": "DescriptionStyleModel",
      "state": {
       "description_width": ""
      }
     },
     "b5ac391f94c047ad843b1aebda48bca6": {
      "model_module": "@jupyter-widgets/controls",
      "model_module_version": "1.5.0",
      "model_name": "HBoxModel",
      "state": {
       "children": [
        "IPY_MODEL_fb842bc3454945319d9e5c76b92d6876",
        "IPY_MODEL_c700986b89a943ce97ef7e17cef62139",
        "IPY_MODEL_b794145044664038863210a5baa2cf24"
       ],
       "layout": "IPY_MODEL_d3985fd53db34d6eb3ccb3dcb10f321c"
      }
     },
     "b5f97881f9ac481e9cba535289fccaa7": {
      "model_module": "@jupyter-widgets/controls",
      "model_module_version": "1.5.0",
      "model_name": "ProgressStyleModel",
      "state": {
       "description_width": ""
      }
     },
     "b63f21b776ec48a6b2354a4658860629": {
      "model_module": "@jupyter-widgets/controls",
      "model_module_version": "1.5.0",
      "model_name": "HTMLModel",
      "state": {
       "layout": "IPY_MODEL_93661bd9c54e4e399373a0155f3cc812",
       "style": "IPY_MODEL_0b93adcb7d4f4042b59684b87f01bd82",
       "value": "100%"
      }
     },
     "b6e08eb687cd471eaf5269ac1c204549": {
      "model_module": "@jupyter-widgets/controls",
      "model_module_version": "1.5.0",
      "model_name": "ProgressStyleModel",
      "state": {
       "description_width": ""
      }
     },
     "b70adc53cfce4438889ca90d0d58586f": {
      "model_module": "@jupyter-widgets/controls",
      "model_module_version": "1.5.0",
      "model_name": "HBoxModel",
      "state": {
       "children": [
        "IPY_MODEL_b63f21b776ec48a6b2354a4658860629",
        "IPY_MODEL_81e5774fc5db48a6b87a1ce618313165",
        "IPY_MODEL_36bf45eb14dd4248a6eca69f7150b851"
       ],
       "layout": "IPY_MODEL_1ce3a255fc654ffd899da1f44d6959e7"
      }
     },
     "b7155339a2444bd6ba48f41f6b83a53e": {
      "model_module": "@jupyter-widgets/controls",
      "model_module_version": "1.5.0",
      "model_name": "DescriptionStyleModel",
      "state": {
       "description_width": ""
      }
     },
     "b77bf1f9399a494c977353e3d352b2d9": {
      "model_module": "@jupyter-widgets/base",
      "model_module_version": "1.2.0",
      "model_name": "LayoutModel",
      "state": {}
     },
     "b794145044664038863210a5baa2cf24": {
      "model_module": "@jupyter-widgets/controls",
      "model_module_version": "1.5.0",
      "model_name": "HTMLModel",
      "state": {
       "layout": "IPY_MODEL_d8dc4915d13d4cddae21e6c2020cbd16",
       "style": "IPY_MODEL_511a4a6a8d484cd3ae91755b7dc2c49d",
       "value": " 370105/370105 [00:00&lt;00:00, 926004.19it/s]"
      }
     },
     "b7b376d06b3c4895bc1600d42ec97dae": {
      "model_module": "@jupyter-widgets/controls",
      "model_module_version": "1.5.0",
      "model_name": "ProgressStyleModel",
      "state": {
       "description_width": ""
      }
     },
     "b7e884ccc9354561a7357ada081bb640": {
      "model_module": "@jupyter-widgets/controls",
      "model_module_version": "1.5.0",
      "model_name": "HTMLModel",
      "state": {
       "layout": "IPY_MODEL_5cffa46234bf493c9bb09a6937edadce",
       "style": "IPY_MODEL_617fd9fe77fd40098637f6acdae5123f",
       "value": "100%"
      }
     },
     "b840b58beb0f4642a1afa3ccb8cac50e": {
      "model_module": "@jupyter-widgets/controls",
      "model_module_version": "1.5.0",
      "model_name": "HTMLModel",
      "state": {
       "layout": "IPY_MODEL_2ccb1cca1be641c09e553d5484bb7544",
       "style": "IPY_MODEL_09e8f8cedf8846bea65efac1bd5692d4",
       "value": " 366928/370105 [00:00&lt;00:00, 943830.03it/s]"
      }
     },
     "b890cafc616341be981d0082bfbba138": {
      "model_module": "@jupyter-widgets/base",
      "model_module_version": "1.2.0",
      "model_name": "LayoutModel",
      "state": {}
     },
     "b8d07884eed54675ac1b6db10dde8642": {
      "model_module": "@jupyter-widgets/controls",
      "model_module_version": "1.5.0",
      "model_name": "HBoxModel",
      "state": {
       "children": [
        "IPY_MODEL_785a76c75275405ea4db6e6115bf9961",
        "IPY_MODEL_4c560e8c9f78496086a66b810c8ac73e",
        "IPY_MODEL_80e495e6e78941fc813185bf541fd696"
       ],
       "layout": "IPY_MODEL_8edec966899b496db292b067833a2f6c"
      }
     },
     "b90d8ef82d714dc1ad3b3f45d2cf02b2": {
      "model_module": "@jupyter-widgets/controls",
      "model_module_version": "1.5.0",
      "model_name": "HBoxModel",
      "state": {
       "children": [
        "IPY_MODEL_a1522793a00349babb14ea7c9a5d8e50",
        "IPY_MODEL_90d82caf54aa44cd96f0c7fceeec346c",
        "IPY_MODEL_f2c434f5158041aca9f30cbed3bac27b"
       ],
       "layout": "IPY_MODEL_f5256d69a8c64f68b8616a9cb9743575"
      }
     },
     "b914500ef1ff4be98a0a6ad8245d23bc": {
      "model_module": "@jupyter-widgets/base",
      "model_module_version": "1.2.0",
      "model_name": "LayoutModel",
      "state": {}
     },
     "b966418d5574480c9d69e7828a404ea3": {
      "model_module": "@jupyter-widgets/base",
      "model_module_version": "1.2.0",
      "model_name": "LayoutModel",
      "state": {}
     },
     "baaa6f51f8984ef18c38efc3d8a6e0b8": {
      "model_module": "@jupyter-widgets/controls",
      "model_module_version": "1.5.0",
      "model_name": "FloatProgressModel",
      "state": {
       "bar_style": "success",
       "layout": "IPY_MODEL_1146c6466e9a4b5cb2138e5f99a249b5",
       "max": 370105,
       "style": "IPY_MODEL_7db371f9645d4ee68a94c57757c1e2c1",
       "value": 370105
      }
     },
     "bb0aac36671c41d09b8958a84e9b0833": {
      "model_module": "@jupyter-widgets/base",
      "model_module_version": "1.2.0",
      "model_name": "LayoutModel",
      "state": {}
     },
     "bb8f4f4dd4484190b6f4440eb08076a1": {
      "model_module": "@jupyter-widgets/controls",
      "model_module_version": "1.5.0",
      "model_name": "FloatProgressModel",
      "state": {
       "bar_style": "success",
       "layout": "IPY_MODEL_19e2af0664154000becd0f46efc52119",
       "max": 370105,
       "style": "IPY_MODEL_cead703657674a4fa39ec2a18aa27843",
       "value": 370105
      }
     },
     "bc19acbf35c249b5944711e5c152a5d3": {
      "model_module": "@jupyter-widgets/controls",
      "model_module_version": "1.5.0",
      "model_name": "ProgressStyleModel",
      "state": {
       "description_width": ""
      }
     },
     "bc1f8235204b49798a763b95966c50de": {
      "model_module": "@jupyter-widgets/controls",
      "model_module_version": "1.5.0",
      "model_name": "FloatProgressModel",
      "state": {
       "bar_style": "success",
       "layout": "IPY_MODEL_a79c8cdb8f9b43c28f61e0712c511cef",
       "max": 370105,
       "style": "IPY_MODEL_1880e033c3794ef49cf46570fba7a899",
       "value": 370105
      }
     },
     "bc6221d3569c41cf93b1af618eb3534e": {
      "model_module": "@jupyter-widgets/controls",
      "model_module_version": "1.5.0",
      "model_name": "HBoxModel",
      "state": {
       "children": [
        "IPY_MODEL_c3e95db560414b008f261031f5a2554c",
        "IPY_MODEL_9e33230fae1b43b0b136c7cb281cd80d",
        "IPY_MODEL_6360b4721c0a4b1f8ed260bb60a4f740"
       ],
       "layout": "IPY_MODEL_3606d7aeb3fa4be7bc8f4d6590690254"
      }
     },
     "bc87dfa92e5549439aaf40b82ae6ad4f": {
      "model_module": "@jupyter-widgets/controls",
      "model_module_version": "1.5.0",
      "model_name": "HTMLModel",
      "state": {
       "layout": "IPY_MODEL_268c7c9215e844a6bb6722c77f9cb04c",
       "style": "IPY_MODEL_9851e34f5acf447e8bbb1723c68f9411",
       "value": " 370105/370105 [00:00&lt;00:00, 935111.00it/s]"
      }
     },
     "bc96e5d8a316463886061216fb0512ee": {
      "model_module": "@jupyter-widgets/base",
      "model_module_version": "1.2.0",
      "model_name": "LayoutModel",
      "state": {}
     },
     "bd0aa36d18794434a4bda13aeabe5aa8": {
      "model_module": "@jupyter-widgets/base",
      "model_module_version": "1.2.0",
      "model_name": "LayoutModel",
      "state": {}
     },
     "bd2704f820914baaa9d8c8f223a3e8b5": {
      "model_module": "@jupyter-widgets/controls",
      "model_module_version": "1.5.0",
      "model_name": "HTMLModel",
      "state": {
       "layout": "IPY_MODEL_a72ed87f2201472bad1960ac17ff2ce0",
       "style": "IPY_MODEL_68dd3f97dfcf4c7f88add6d289cc5950",
       "value": "100%"
      }
     },
     "bdd935ad22ce45939b3d4de7c05dcda5": {
      "model_module": "@jupyter-widgets/controls",
      "model_module_version": "1.5.0",
      "model_name": "DescriptionStyleModel",
      "state": {
       "description_width": ""
      }
     },
     "bdda022cd45546a19a3b0ed00d95cc07": {
      "model_module": "@jupyter-widgets/controls",
      "model_module_version": "1.5.0",
      "model_name": "ProgressStyleModel",
      "state": {
       "description_width": ""
      }
     },
     "bde79dacb35b4fbfba7d8f8aab327385": {
      "model_module": "@jupyter-widgets/controls",
      "model_module_version": "1.5.0",
      "model_name": "HTMLModel",
      "state": {
       "layout": "IPY_MODEL_cf7550d0d9044b8a938cff81560735dc",
       "style": "IPY_MODEL_8a3bc6632cc8468a94f2e1cc5cc798ae",
       "value": "100%"
      }
     },
     "be60fb8978764ee9a6462dfb4ffcc280": {
      "model_module": "@jupyter-widgets/controls",
      "model_module_version": "1.5.0",
      "model_name": "DescriptionStyleModel",
      "state": {
       "description_width": ""
      }
     },
     "bedd963b1f3c46368c1950091fc81d0b": {
      "model_module": "@jupyter-widgets/controls",
      "model_module_version": "1.5.0",
      "model_name": "DescriptionStyleModel",
      "state": {
       "description_width": ""
      }
     },
     "bf8b07d0fec143f3be26ee825352e64b": {
      "model_module": "@jupyter-widgets/controls",
      "model_module_version": "1.5.0",
      "model_name": "DescriptionStyleModel",
      "state": {
       "description_width": ""
      }
     },
     "bfa933979ac54aa8b34df423e09e43d6": {
      "model_module": "@jupyter-widgets/controls",
      "model_module_version": "1.5.0",
      "model_name": "DescriptionStyleModel",
      "state": {
       "description_width": ""
      }
     },
     "bfbf0aa125e74781a1ecce5433e1fc2a": {
      "model_module": "@jupyter-widgets/base",
      "model_module_version": "1.2.0",
      "model_name": "LayoutModel",
      "state": {}
     },
     "bfef758da6ff42369c810fc672a61323": {
      "model_module": "@jupyter-widgets/base",
      "model_module_version": "1.2.0",
      "model_name": "LayoutModel",
      "state": {}
     },
     "c012a95ee6494a1a9e151d9e403fb257": {
      "model_module": "@jupyter-widgets/base",
      "model_module_version": "1.2.0",
      "model_name": "LayoutModel",
      "state": {}
     },
     "c01bc9c823164435b88cd3a439095563": {
      "model_module": "@jupyter-widgets/base",
      "model_module_version": "1.2.0",
      "model_name": "LayoutModel",
      "state": {}
     },
     "c0328ae88fb5477491ec02f6bd493f5c": {
      "model_module": "@jupyter-widgets/controls",
      "model_module_version": "1.5.0",
      "model_name": "HTMLModel",
      "state": {
       "layout": "IPY_MODEL_4e8a314677624781933ea3aa344908cf",
       "style": "IPY_MODEL_d663357ff15245e2a5173ef3789df04c",
       "value": "100%"
      }
     },
     "c03780238d2c402cb9571952a247349f": {
      "model_module": "@jupyter-widgets/base",
      "model_module_version": "1.2.0",
      "model_name": "LayoutModel",
      "state": {}
     },
     "c05aee96ad304e048b97f0e3c1462536": {
      "model_module": "@jupyter-widgets/controls",
      "model_module_version": "1.5.0",
      "model_name": "ProgressStyleModel",
      "state": {
       "description_width": ""
      }
     },
     "c07338f65b634d14aac48b44142536e6": {
      "model_module": "@jupyter-widgets/base",
      "model_module_version": "1.2.0",
      "model_name": "LayoutModel",
      "state": {}
     },
     "c1012e25b028440ba2e0cf846b5c84dd": {
      "model_module": "@jupyter-widgets/base",
      "model_module_version": "1.2.0",
      "model_name": "LayoutModel",
      "state": {}
     },
     "c107a9b129554eda9a9328794f88accb": {
      "model_module": "@jupyter-widgets/controls",
      "model_module_version": "1.5.0",
      "model_name": "HTMLModel",
      "state": {
       "layout": "IPY_MODEL_deaa7aee83ed49bc80c4a04f79b81546",
       "style": "IPY_MODEL_447f2ceb3b87441f8c22db0086fe515a",
       "value": " 370105/370105 [00:00&lt;00:00, 953688.19it/s]"
      }
     },
     "c12047f14e48490294fa45ffcfc0d44b": {
      "model_module": "@jupyter-widgets/controls",
      "model_module_version": "1.5.0",
      "model_name": "HBoxModel",
      "state": {
       "children": [
        "IPY_MODEL_5de9b6332a45435782fb33ec31f9fc5c",
        "IPY_MODEL_1131f94fb7a24329bb51ea25e9e363c0",
        "IPY_MODEL_444ffabea5484d1696d6ff2e998f9485"
       ],
       "layout": "IPY_MODEL_1b6f6fad78c84b2d939b19b89021f9f5"
      }
     },
     "c12142325864415b88403e31786571d7": {
      "model_module": "@jupyter-widgets/base",
      "model_module_version": "1.2.0",
      "model_name": "LayoutModel",
      "state": {}
     },
     "c1232bb65ada4ca9ae8ca7321587871f": {
      "model_module": "@jupyter-widgets/base",
      "model_module_version": "1.2.0",
      "model_name": "LayoutModel",
      "state": {}
     },
     "c21f8e38bc6d4b99ad75fb437040e7a2": {
      "model_module": "@jupyter-widgets/controls",
      "model_module_version": "1.5.0",
      "model_name": "FloatProgressModel",
      "state": {
       "bar_style": "success",
       "layout": "IPY_MODEL_bb0aac36671c41d09b8958a84e9b0833",
       "max": 370105,
       "style": "IPY_MODEL_29a4c563af6240b7b9d4bc891f0781eb",
       "value": 370105
      }
     },
     "c235be8f3912495f9684b6c7cf7710e4": {
      "model_module": "@jupyter-widgets/controls",
      "model_module_version": "1.5.0",
      "model_name": "HBoxModel",
      "state": {
       "children": [
        "IPY_MODEL_fa38f6a94fe34ebc963fbbc6da15b8a6",
        "IPY_MODEL_3fb51b69e70844989c9fba78e5ff5e64",
        "IPY_MODEL_343f168bcc144f5fac4846a12797ae4e"
       ],
       "layout": "IPY_MODEL_4e25374ac1a34279aca3b88863d1deec"
      }
     },
     "c30a303afb554c3f9470ea83703254d8": {
      "model_module": "@jupyter-widgets/controls",
      "model_module_version": "1.5.0",
      "model_name": "HBoxModel",
      "state": {
       "children": [
        "IPY_MODEL_a148fd3c63cc4d9abcf655db9f8c6cd5",
        "IPY_MODEL_bb8f4f4dd4484190b6f4440eb08076a1",
        "IPY_MODEL_60924fe60cb24540b23d756701073d3c"
       ],
       "layout": "IPY_MODEL_2a54a90d66d74e7d9cfea0c77f0fadb4"
      }
     },
     "c334d37d8d80495fb23b1e96a6b42f80": {
      "model_module": "@jupyter-widgets/controls",
      "model_module_version": "1.5.0",
      "model_name": "ProgressStyleModel",
      "state": {
       "description_width": ""
      }
     },
     "c33fbee209794dc2929a9e707140fcd1": {
      "model_module": "@jupyter-widgets/base",
      "model_module_version": "1.2.0",
      "model_name": "LayoutModel",
      "state": {}
     },
     "c39639b7922b44478176e2f340fe82bf": {
      "model_module": "@jupyter-widgets/controls",
      "model_module_version": "1.5.0",
      "model_name": "FloatProgressModel",
      "state": {
       "bar_style": "success",
       "layout": "IPY_MODEL_9eeed3924c7142f79fc46f517e01819d",
       "max": 370105,
       "style": "IPY_MODEL_d6232814083d400088d6816966236b73",
       "value": 370105
      }
     },
     "c3965c6514b94cec931caca353eb8ee1": {
      "model_module": "@jupyter-widgets/controls",
      "model_module_version": "1.5.0",
      "model_name": "FloatProgressModel",
      "state": {
       "bar_style": "success",
       "layout": "IPY_MODEL_3493c90a71664f38921ba698c3d72186",
       "max": 370105,
       "style": "IPY_MODEL_08605645034249b6870206983328c0bb",
       "value": 370105
      }
     },
     "c3e95db560414b008f261031f5a2554c": {
      "model_module": "@jupyter-widgets/controls",
      "model_module_version": "1.5.0",
      "model_name": "HTMLModel",
      "state": {
       "layout": "IPY_MODEL_19c8512ecd904ac98c0a95e60d8dcaf4",
       "style": "IPY_MODEL_9e8c8e78d07544259ccb2b518a410c4b",
       "value": "100%"
      }
     },
     "c434c4109e9b411594dd23662037fd1b": {
      "model_module": "@jupyter-widgets/controls",
      "model_module_version": "1.5.0",
      "model_name": "FloatProgressModel",
      "state": {
       "bar_style": "success",
       "layout": "IPY_MODEL_4aaf54e48f9a412684fc7a0ae3ceb3fc",
       "max": 370105,
       "style": "IPY_MODEL_c334d37d8d80495fb23b1e96a6b42f80",
       "value": 370105
      }
     },
     "c46be80c2903477fb8bbd1792c108d23": {
      "model_module": "@jupyter-widgets/base",
      "model_module_version": "1.2.0",
      "model_name": "LayoutModel",
      "state": {}
     },
     "c54454c28860401d99d8b1752266c5b9": {
      "model_module": "@jupyter-widgets/controls",
      "model_module_version": "1.5.0",
      "model_name": "DescriptionStyleModel",
      "state": {
       "description_width": ""
      }
     },
     "c585e4ed29784292b3a4d5ba275411da": {
      "model_module": "@jupyter-widgets/base",
      "model_module_version": "1.2.0",
      "model_name": "LayoutModel",
      "state": {}
     },
     "c58da7ca5be74101b9b239103f446636": {
      "model_module": "@jupyter-widgets/controls",
      "model_module_version": "1.5.0",
      "model_name": "DescriptionStyleModel",
      "state": {
       "description_width": ""
      }
     },
     "c5df1fe97d974e2b83e243999887d212": {
      "model_module": "@jupyter-widgets/base",
      "model_module_version": "1.2.0",
      "model_name": "LayoutModel",
      "state": {}
     },
     "c5f73e5c865f41e59d0d7959a02a98a0": {
      "model_module": "@jupyter-widgets/controls",
      "model_module_version": "1.5.0",
      "model_name": "DescriptionStyleModel",
      "state": {
       "description_width": ""
      }
     },
     "c65222bc6c124e23a4b80c337bbdc9f7": {
      "model_module": "@jupyter-widgets/controls",
      "model_module_version": "1.5.0",
      "model_name": "HBoxModel",
      "state": {
       "children": [
        "IPY_MODEL_76005cdb506d4b3e83c909fbc51c5f5d",
        "IPY_MODEL_632f9791c94d4a1c8b33529545c4b2dd",
        "IPY_MODEL_7b2fdd4fa2b2493a99dfc2e1ae97ad80"
       ],
       "layout": "IPY_MODEL_2170e880b9ba4ef7889438c811bdc107"
      }
     },
     "c6cd99137bce40f1a7d67f4b052cdacc": {
      "model_module": "@jupyter-widgets/base",
      "model_module_version": "1.2.0",
      "model_name": "LayoutModel",
      "state": {}
     },
     "c700986b89a943ce97ef7e17cef62139": {
      "model_module": "@jupyter-widgets/controls",
      "model_module_version": "1.5.0",
      "model_name": "FloatProgressModel",
      "state": {
       "bar_style": "success",
       "layout": "IPY_MODEL_56af06b3e8034b16aa66bb03e0583ebd",
       "max": 370105,
       "style": "IPY_MODEL_187ff8b15daa482f8a4ccaa1d3e1464f",
       "value": 370105
      }
     },
     "c7571f2cd5cf4a65890d93b5e3c10bfc": {
      "model_module": "@jupyter-widgets/controls",
      "model_module_version": "1.5.0",
      "model_name": "HBoxModel",
      "state": {
       "children": [
        "IPY_MODEL_fea439f65cb64e10a92068a3d7fb58c8",
        "IPY_MODEL_ef69c73d9a01425aa03217e52c5dd76a",
        "IPY_MODEL_575ca65683e1488b8e5afd7af3e3e31d"
       ],
       "layout": "IPY_MODEL_6152cae029c64c7e8f91f618a8679971"
      }
     },
     "c7ed482eb95b441cbbffe2d889da9dff": {
      "model_module": "@jupyter-widgets/controls",
      "model_module_version": "1.5.0",
      "model_name": "HBoxModel",
      "state": {
       "children": [
        "IPY_MODEL_4194320fab894aac9038b7224b261988",
        "IPY_MODEL_9bb27c61185f4a9c86a203373d9644cb",
        "IPY_MODEL_29df2ffc0d074a3dae7301237f1dd2fa"
       ],
       "layout": "IPY_MODEL_34b38741e46745dfa1e033470c5e848a"
      }
     },
     "c8521e7936104c5b93c71c190176c4fa": {
      "model_module": "@jupyter-widgets/controls",
      "model_module_version": "1.5.0",
      "model_name": "FloatProgressModel",
      "state": {
       "bar_style": "success",
       "layout": "IPY_MODEL_b890cafc616341be981d0082bfbba138",
       "max": 370105,
       "style": "IPY_MODEL_6db5800c76294210b070c1d4eae9ecb6",
       "value": 370105
      }
     },
     "c859ec9215a14419b5b2f71ca3c35b8d": {
      "model_module": "@jupyter-widgets/base",
      "model_module_version": "1.2.0",
      "model_name": "LayoutModel",
      "state": {}
     },
     "c86b54f69549431d867da82d4604c0d3": {
      "model_module": "@jupyter-widgets/controls",
      "model_module_version": "1.5.0",
      "model_name": "FloatProgressModel",
      "state": {
       "bar_style": "success",
       "layout": "IPY_MODEL_b966418d5574480c9d69e7828a404ea3",
       "max": 370105,
       "style": "IPY_MODEL_41471ad0fd114b04bfede2468587f50d",
       "value": 370105
      }
     },
     "c898f3e8e62a4a989c157254560ff683": {
      "model_module": "@jupyter-widgets/controls",
      "model_module_version": "1.5.0",
      "model_name": "HTMLModel",
      "state": {
       "layout": "IPY_MODEL_b4985fc206d24a84b956fee2ca9c3a6c",
       "style": "IPY_MODEL_19377d55d7c44bcf863ca6184a6046e4",
       "value": " 370105/370105 [00:00&lt;00:00, 931698.95it/s]"
      }
     },
     "c89f425bd5e749d39751ae67b8185e26": {
      "model_module": "@jupyter-widgets/base",
      "model_module_version": "1.2.0",
      "model_name": "LayoutModel",
      "state": {}
     },
     "c8ac4da45db2457ea23ae82c2a4ff57e": {
      "model_module": "@jupyter-widgets/controls",
      "model_module_version": "1.5.0",
      "model_name": "ProgressStyleModel",
      "state": {
       "description_width": ""
      }
     },
     "c91303a5e65a45eab71d2ba6aee6c557": {
      "model_module": "@jupyter-widgets/base",
      "model_module_version": "1.2.0",
      "model_name": "LayoutModel",
      "state": {}
     },
     "c9fa444185784d0abf210598a822085f": {
      "model_module": "@jupyter-widgets/controls",
      "model_module_version": "1.5.0",
      "model_name": "DescriptionStyleModel",
      "state": {
       "description_width": ""
      }
     },
     "ca6c5e0883af43d595386666b829ff78": {
      "model_module": "@jupyter-widgets/controls",
      "model_module_version": "1.5.0",
      "model_name": "HTMLModel",
      "state": {
       "layout": "IPY_MODEL_daf85599f5e144caba26679d8faa0cda",
       "style": "IPY_MODEL_b37336cd5eb941a688ad9b4122cead2b",
       "value": " 370105/370105 [00:00&lt;00:00, 943634.89it/s]"
      }
     },
     "ca9e72374cb444d2b83f75514351b174": {
      "model_module": "@jupyter-widgets/controls",
      "model_module_version": "1.5.0",
      "model_name": "HTMLModel",
      "state": {
       "layout": "IPY_MODEL_637bff2872e14d5c8fe0a633be4740a6",
       "style": "IPY_MODEL_305d709e13d74fe7b237d26de3bd3286",
       "value": " 370105/370105 [00:00&lt;00:00, 1007147.60it/s]"
      }
     },
     "cb1134838849404baed325ceea09f1ae": {
      "model_module": "@jupyter-widgets/controls",
      "model_module_version": "1.5.0",
      "model_name": "FloatProgressModel",
      "state": {
       "bar_style": "success",
       "layout": "IPY_MODEL_c01bc9c823164435b88cd3a439095563",
       "max": 370105,
       "style": "IPY_MODEL_4f83d1f74fda4cd59440e66d8863d0a5",
       "value": 370105
      }
     },
     "cbac05945ab84d1298e6b27d3d1d9cd6": {
      "model_module": "@jupyter-widgets/controls",
      "model_module_version": "1.5.0",
      "model_name": "DescriptionStyleModel",
      "state": {
       "description_width": ""
      }
     },
     "cc2f55f3ed6547408c148b3db9ccaa60": {
      "model_module": "@jupyter-widgets/controls",
      "model_module_version": "1.5.0",
      "model_name": "DescriptionStyleModel",
      "state": {
       "description_width": ""
      }
     },
     "cc515657745a496b867850f8df1d370e": {
      "model_module": "@jupyter-widgets/controls",
      "model_module_version": "1.5.0",
      "model_name": "DescriptionStyleModel",
      "state": {
       "description_width": ""
      }
     },
     "ccaf024c9fb645d9b27b1dfed381eb1e": {
      "model_module": "@jupyter-widgets/controls",
      "model_module_version": "1.5.0",
      "model_name": "HTMLModel",
      "state": {
       "layout": "IPY_MODEL_e3b7120ad4ed4319b81b83317f70c749",
       "style": "IPY_MODEL_6018eb3d5833490f98a4b3570bed68c0",
       "value": "100%"
      }
     },
     "ccd5f007f04d40f680d36828d3a9d81f": {
      "model_module": "@jupyter-widgets/controls",
      "model_module_version": "1.5.0",
      "model_name": "HTMLModel",
      "state": {
       "layout": "IPY_MODEL_f7bf309825c84144983d93c1d54213b6",
       "style": "IPY_MODEL_d441d0c8e51e44a3aae675d33550d04d",
       "value": " 370105/370105 [00:00&lt;00:00, 931816.86it/s]"
      }
     },
     "cd37b184d6af47e7a911d7131ac7c739": {
      "model_module": "@jupyter-widgets/base",
      "model_module_version": "1.2.0",
      "model_name": "LayoutModel",
      "state": {}
     },
     "cd4aeb8b5ad940a6badae5230bb66048": {
      "model_module": "@jupyter-widgets/controls",
      "model_module_version": "1.5.0",
      "model_name": "HBoxModel",
      "state": {
       "children": [
        "IPY_MODEL_cf1bd819294b44fc84a0c5a4bcdd7f6d",
        "IPY_MODEL_b3daaa174680405ebc7e37b2940f713d",
        "IPY_MODEL_630ce47cf50846a9aba5c81f3cb3ace3"
       ],
       "layout": "IPY_MODEL_feb2cf30ddcf449395c5ee9c75cbe408"
      }
     },
     "cd766132d7dd45deabdf6be383a2ea14": {
      "model_module": "@jupyter-widgets/controls",
      "model_module_version": "1.5.0",
      "model_name": "HTMLModel",
      "state": {
       "layout": "IPY_MODEL_9232eb0015bf4d329b0361bcb4d7c9b0",
       "style": "IPY_MODEL_6349831fc385498b98d550f4bd59f30a",
       "value": " 370105/370105 [00:00&lt;00:00, 945650.78it/s]"
      }
     },
     "cde77bf5316142a7af04ef603e7192f6": {
      "model_module": "@jupyter-widgets/controls",
      "model_module_version": "1.5.0",
      "model_name": "DescriptionStyleModel",
      "state": {
       "description_width": ""
      }
     },
     "ce379689ae744d209de6aedfd31c4b05": {
      "model_module": "@jupyter-widgets/base",
      "model_module_version": "1.2.0",
      "model_name": "LayoutModel",
      "state": {}
     },
     "ce37fcce029f4d6f8ae19231985b3ea7": {
      "model_module": "@jupyter-widgets/base",
      "model_module_version": "1.2.0",
      "model_name": "LayoutModel",
      "state": {}
     },
     "cead703657674a4fa39ec2a18aa27843": {
      "model_module": "@jupyter-widgets/controls",
      "model_module_version": "1.5.0",
      "model_name": "ProgressStyleModel",
      "state": {
       "description_width": ""
      }
     },
     "cf1bd819294b44fc84a0c5a4bcdd7f6d": {
      "model_module": "@jupyter-widgets/controls",
      "model_module_version": "1.5.0",
      "model_name": "HTMLModel",
      "state": {
       "layout": "IPY_MODEL_19e4de8abea34185b634e730c3291d1b",
       "style": "IPY_MODEL_bf8b07d0fec143f3be26ee825352e64b",
       "value": "100%"
      }
     },
     "cf7550d0d9044b8a938cff81560735dc": {
      "model_module": "@jupyter-widgets/base",
      "model_module_version": "1.2.0",
      "model_name": "LayoutModel",
      "state": {}
     },
     "cfa723321022422d96112309cfd06882": {
      "model_module": "@jupyter-widgets/controls",
      "model_module_version": "1.5.0",
      "model_name": "FloatProgressModel",
      "state": {
       "bar_style": "success",
       "layout": "IPY_MODEL_cfd91c660196410ead1af0e9dde1bfa3",
       "max": 370105,
       "style": "IPY_MODEL_2e7967dde7644f0998a0f18c58903c08",
       "value": 370105
      }
     },
     "cfd91c660196410ead1af0e9dde1bfa3": {
      "model_module": "@jupyter-widgets/base",
      "model_module_version": "1.2.0",
      "model_name": "LayoutModel",
      "state": {}
     },
     "d0282fdbcc144d28be7b6af3fc0d2449": {
      "model_module": "@jupyter-widgets/controls",
      "model_module_version": "1.5.0",
      "model_name": "HTMLModel",
      "state": {
       "layout": "IPY_MODEL_0e603c70c59447acae04ffd2f6a24886",
       "style": "IPY_MODEL_492b43be1a074d029afc9334b453ff4d",
       "value": " 370105/370105 [00:00&lt;00:00, 933087.20it/s]"
      }
     },
     "d081cc39649a4d7f92ad09fec8eb71d9": {
      "model_module": "@jupyter-widgets/base",
      "model_module_version": "1.2.0",
      "model_name": "LayoutModel",
      "state": {}
     },
     "d0d26b6e56a747d8b03aff21256eafe2": {
      "model_module": "@jupyter-widgets/controls",
      "model_module_version": "1.5.0",
      "model_name": "ProgressStyleModel",
      "state": {
       "description_width": ""
      }
     },
     "d102fb97e2064c6ba270bd0ac3bb9fde": {
      "model_module": "@jupyter-widgets/controls",
      "model_module_version": "1.5.0",
      "model_name": "DescriptionStyleModel",
      "state": {
       "description_width": ""
      }
     },
     "d1d9f21d2a0c4266b3bceedd6f567aa1": {
      "model_module": "@jupyter-widgets/controls",
      "model_module_version": "1.5.0",
      "model_name": "HTMLModel",
      "state": {
       "layout": "IPY_MODEL_71fa44bc83e24c5998faf0bff0cb744f",
       "style": "IPY_MODEL_1908007a91db4862a9e89de588b792fd",
       "value": "100%"
      }
     },
     "d1fb4cb2a72b412dbd7324e4e70f9ea4": {
      "model_module": "@jupyter-widgets/base",
      "model_module_version": "1.2.0",
      "model_name": "LayoutModel",
      "state": {}
     },
     "d1ff70891b8142f3aa5a6a6004e51061": {
      "model_module": "@jupyter-widgets/base",
      "model_module_version": "1.2.0",
      "model_name": "LayoutModel",
      "state": {}
     },
     "d2493be3525f45e5bc6f6628e5c7d566": {
      "model_module": "@jupyter-widgets/controls",
      "model_module_version": "1.5.0",
      "model_name": "DescriptionStyleModel",
      "state": {
       "description_width": ""
      }
     },
     "d38db1630e634509bd873c5479cf8a47": {
      "model_module": "@jupyter-widgets/base",
      "model_module_version": "1.2.0",
      "model_name": "LayoutModel",
      "state": {}
     },
     "d3985fd53db34d6eb3ccb3dcb10f321c": {
      "model_module": "@jupyter-widgets/base",
      "model_module_version": "1.2.0",
      "model_name": "LayoutModel",
      "state": {}
     },
     "d3e010828b154127bfee0c5fe7551372": {
      "model_module": "@jupyter-widgets/base",
      "model_module_version": "1.2.0",
      "model_name": "LayoutModel",
      "state": {}
     },
     "d3ef98d1ce6a4aeaa79c42d20d63a9e2": {
      "model_module": "@jupyter-widgets/controls",
      "model_module_version": "1.5.0",
      "model_name": "DescriptionStyleModel",
      "state": {
       "description_width": ""
      }
     },
     "d3f7ab71a50f415aa46ca68bfcfc5dfa": {
      "model_module": "@jupyter-widgets/base",
      "model_module_version": "1.2.0",
      "model_name": "LayoutModel",
      "state": {}
     },
     "d4105536f2664825a4b50d711d826310": {
      "model_module": "@jupyter-widgets/controls",
      "model_module_version": "1.5.0",
      "model_name": "ProgressStyleModel",
      "state": {
       "description_width": ""
      }
     },
     "d43db6d8a8a04ba5a70449248851b1dd": {
      "model_module": "@jupyter-widgets/controls",
      "model_module_version": "1.5.0",
      "model_name": "DescriptionStyleModel",
      "state": {
       "description_width": ""
      }
     },
     "d441d0c8e51e44a3aae675d33550d04d": {
      "model_module": "@jupyter-widgets/controls",
      "model_module_version": "1.5.0",
      "model_name": "DescriptionStyleModel",
      "state": {
       "description_width": ""
      }
     },
     "d452ec091b7b40e08a947b9e79e53f57": {
      "model_module": "@jupyter-widgets/controls",
      "model_module_version": "1.5.0",
      "model_name": "ProgressStyleModel",
      "state": {
       "description_width": ""
      }
     },
     "d46b6ae11c354b74aa24d3e7b3942379": {
      "model_module": "@jupyter-widgets/controls",
      "model_module_version": "1.5.0",
      "model_name": "HTMLModel",
      "state": {
       "layout": "IPY_MODEL_d3e010828b154127bfee0c5fe7551372",
       "style": "IPY_MODEL_a3eedcd9b6f841be8e258e8f54741bb0",
       "value": " 370105/370105 [00:00&lt;00:00, 943567.61it/s]"
      }
     },
     "d46b7cbdbf3943628427d4964855c18e": {
      "model_module": "@jupyter-widgets/controls",
      "model_module_version": "1.5.0",
      "model_name": "HTMLModel",
      "state": {
       "layout": "IPY_MODEL_f3daf74924084971ade151775c8b6832",
       "style": "IPY_MODEL_8217ce452a0f41dc923b3b5ec1c5e7af",
       "value": "100%"
      }
     },
     "d4fda716c8634549be01b5f44fb6b243": {
      "model_module": "@jupyter-widgets/controls",
      "model_module_version": "1.5.0",
      "model_name": "ProgressStyleModel",
      "state": {
       "description_width": ""
      }
     },
     "d55befbaebaf42cc98a44861d180ce92": {
      "model_module": "@jupyter-widgets/controls",
      "model_module_version": "1.5.0",
      "model_name": "FloatProgressModel",
      "state": {
       "bar_style": "success",
       "layout": "IPY_MODEL_f441e2b4ff734350bab4b1f88dc380f8",
       "max": 370105,
       "style": "IPY_MODEL_b5f97881f9ac481e9cba535289fccaa7",
       "value": 370105
      }
     },
     "d59efc0da9704719a95995e3a0f122c5": {
      "model_module": "@jupyter-widgets/controls",
      "model_module_version": "1.5.0",
      "model_name": "FloatProgressModel",
      "state": {
       "bar_style": "success",
       "layout": "IPY_MODEL_7a76437c4d714a5e857e50cc4ff2a0f2",
       "max": 370105,
       "style": "IPY_MODEL_63f3decd326d441384b59e0859b7f534",
       "value": 370105
      }
     },
     "d5b1d064b6404d83b117802bec0d316f": {
      "model_module": "@jupyter-widgets/controls",
      "model_module_version": "1.5.0",
      "model_name": "FloatProgressModel",
      "state": {
       "bar_style": "success",
       "layout": "IPY_MODEL_4cb8459c33d842cc930b8533bda4a022",
       "max": 370105,
       "style": "IPY_MODEL_6cf73c96af884276bf2f519d49223e6a",
       "value": 370105
      }
     },
     "d60ec63eb25544eab843aa7d22139065": {
      "model_module": "@jupyter-widgets/controls",
      "model_module_version": "1.5.0",
      "model_name": "DescriptionStyleModel",
      "state": {
       "description_width": ""
      }
     },
     "d6232814083d400088d6816966236b73": {
      "model_module": "@jupyter-widgets/controls",
      "model_module_version": "1.5.0",
      "model_name": "ProgressStyleModel",
      "state": {
       "description_width": ""
      }
     },
     "d663357ff15245e2a5173ef3789df04c": {
      "model_module": "@jupyter-widgets/controls",
      "model_module_version": "1.5.0",
      "model_name": "DescriptionStyleModel",
      "state": {
       "description_width": ""
      }
     },
     "d79b4c9a541c4c02bc18b2500a82b3bb": {
      "model_module": "@jupyter-widgets/controls",
      "model_module_version": "1.5.0",
      "model_name": "FloatProgressModel",
      "state": {
       "bar_style": "success",
       "layout": "IPY_MODEL_f60f1c7df4a94c7bbc7133664694413a",
       "max": 370105,
       "style": "IPY_MODEL_6d4a8e7ea2364c788ca34359dc6c2555",
       "value": 370105
      }
     },
     "d7b1f7d3cd544463b8f3b58ea72102ab": {
      "model_module": "@jupyter-widgets/controls",
      "model_module_version": "1.5.0",
      "model_name": "DescriptionStyleModel",
      "state": {
       "description_width": ""
      }
     },
     "d8092bcc0de94cffbf729a7ff40e60f8": {
      "model_module": "@jupyter-widgets/controls",
      "model_module_version": "1.5.0",
      "model_name": "HTMLModel",
      "state": {
       "layout": "IPY_MODEL_dcdf8941153c416087bed35fbbbed489",
       "style": "IPY_MODEL_689a1952530d48249364eed8d4204bb8",
       "value": " 370105/370105 [00:00&lt;00:00, 923782.33it/s]"
      }
     },
     "d80e1539030640178135f9bd7615735f": {
      "model_module": "@jupyter-widgets/controls",
      "model_module_version": "1.5.0",
      "model_name": "FloatProgressModel",
      "state": {
       "bar_style": "success",
       "layout": "IPY_MODEL_9b3e5835d36d495ebbd362f835e35e9f",
       "max": 370105,
       "style": "IPY_MODEL_b7b376d06b3c4895bc1600d42ec97dae",
       "value": 370105
      }
     },
     "d82977550dfa4d4baa7f39de37dbbda4": {
      "model_module": "@jupyter-widgets/base",
      "model_module_version": "1.2.0",
      "model_name": "LayoutModel",
      "state": {}
     },
     "d829dc120c1b4941a9f5064fd95ab6e5": {
      "model_module": "@jupyter-widgets/controls",
      "model_module_version": "1.5.0",
      "model_name": "DescriptionStyleModel",
      "state": {
       "description_width": ""
      }
     },
     "d82d52efe24140fd833ae84ed6fbeeb5": {
      "model_module": "@jupyter-widgets/controls",
      "model_module_version": "1.5.0",
      "model_name": "DescriptionStyleModel",
      "state": {
       "description_width": ""
      }
     },
     "d89150ab8a274416aff9ac33e91987bb": {
      "model_module": "@jupyter-widgets/controls",
      "model_module_version": "1.5.0",
      "model_name": "DescriptionStyleModel",
      "state": {
       "description_width": ""
      }
     },
     "d8dc4915d13d4cddae21e6c2020cbd16": {
      "model_module": "@jupyter-widgets/base",
      "model_module_version": "1.2.0",
      "model_name": "LayoutModel",
      "state": {}
     },
     "d8fbd405badf4831847ae7c885080218": {
      "model_module": "@jupyter-widgets/controls",
      "model_module_version": "1.5.0",
      "model_name": "HTMLModel",
      "state": {
       "layout": "IPY_MODEL_af766f8c38b34439bf28fbc7a9124211",
       "style": "IPY_MODEL_9c784d7125b843ea921d267a3d203b67",
       "value": "100%"
      }
     },
     "d9053873dd854276b2735a593941d635": {
      "model_module": "@jupyter-widgets/base",
      "model_module_version": "1.2.0",
      "model_name": "LayoutModel",
      "state": {}
     },
     "d90795dbce834f4a8410fabd087f9fda": {
      "model_module": "@jupyter-widgets/base",
      "model_module_version": "1.2.0",
      "model_name": "LayoutModel",
      "state": {}
     },
     "d97983f442df43139719541c0802588c": {
      "model_module": "@jupyter-widgets/base",
      "model_module_version": "1.2.0",
      "model_name": "LayoutModel",
      "state": {}
     },
     "d9af8c529cc245dda3c9bd06a910e761": {
      "model_module": "@jupyter-widgets/base",
      "model_module_version": "1.2.0",
      "model_name": "LayoutModel",
      "state": {}
     },
     "da619d005f9a403a9c5b5f21c9a46e9e": {
      "model_module": "@jupyter-widgets/controls",
      "model_module_version": "1.5.0",
      "model_name": "ProgressStyleModel",
      "state": {
       "description_width": ""
      }
     },
     "da975854cc274563b879c8f421f2323e": {
      "model_module": "@jupyter-widgets/base",
      "model_module_version": "1.2.0",
      "model_name": "LayoutModel",
      "state": {}
     },
     "dac9a1a1f4184a92877df08480cbb984": {
      "model_module": "@jupyter-widgets/controls",
      "model_module_version": "1.5.0",
      "model_name": "ProgressStyleModel",
      "state": {
       "description_width": ""
      }
     },
     "dadd6b85cc4841548edffa5ada028235": {
      "model_module": "@jupyter-widgets/controls",
      "model_module_version": "1.5.0",
      "model_name": "HBoxModel",
      "state": {
       "children": [
        "IPY_MODEL_20aac9a327d14659a7df248393cd7846",
        "IPY_MODEL_9336448eba4f48a59e08511406f45365",
        "IPY_MODEL_71f3b67c817049a68c19533ed4f39a41"
       ],
       "layout": "IPY_MODEL_dce4e2796f8c45e99f4b498a0fd105d8"
      }
     },
     "daf85599f5e144caba26679d8faa0cda": {
      "model_module": "@jupyter-widgets/base",
      "model_module_version": "1.2.0",
      "model_name": "LayoutModel",
      "state": {}
     },
     "db20d9dab64145d7bf4895677b9c3849": {
      "model_module": "@jupyter-widgets/base",
      "model_module_version": "1.2.0",
      "model_name": "LayoutModel",
      "state": {}
     },
     "db34ea8414c042439255ad790373b699": {
      "model_module": "@jupyter-widgets/base",
      "model_module_version": "1.2.0",
      "model_name": "LayoutModel",
      "state": {}
     },
     "db660c28d6fa478bb4eba4f75323b536": {
      "model_module": "@jupyter-widgets/base",
      "model_module_version": "1.2.0",
      "model_name": "LayoutModel",
      "state": {}
     },
     "dbc5e31aed4541f39e849b4ea370ac82": {
      "model_module": "@jupyter-widgets/base",
      "model_module_version": "1.2.0",
      "model_name": "LayoutModel",
      "state": {}
     },
     "dbd0df908d9d4d89ba1678ae81155f3f": {
      "model_module": "@jupyter-widgets/controls",
      "model_module_version": "1.5.0",
      "model_name": "HBoxModel",
      "state": {
       "children": [
        "IPY_MODEL_f83f0041002f44c79dc351e40b07a34c",
        "IPY_MODEL_ded22d5a1e1a407087cddf0093cd938a",
        "IPY_MODEL_4cfdeb06208849f1b28d35b43c88895e"
       ],
       "layout": "IPY_MODEL_73c859c3db644142bd867b54ace8ff6c"
      }
     },
     "dcb3804da6954b31a488cd61a8339541": {
      "model_module": "@jupyter-widgets/controls",
      "model_module_version": "1.5.0",
      "model_name": "HBoxModel",
      "state": {
       "children": [
        "IPY_MODEL_89589ca3b0004d08a4b483135bf6aa53",
        "IPY_MODEL_8b80849ae1bc4661aff3dddcf84d3424",
        "IPY_MODEL_ff947148a5b14f13be2f4813fb1cedb9"
       ],
       "layout": "IPY_MODEL_5909cbb721044a9ca776d8001311baa1"
      }
     },
     "dcdf8941153c416087bed35fbbbed489": {
      "model_module": "@jupyter-widgets/base",
      "model_module_version": "1.2.0",
      "model_name": "LayoutModel",
      "state": {}
     },
     "dce4e2796f8c45e99f4b498a0fd105d8": {
      "model_module": "@jupyter-widgets/base",
      "model_module_version": "1.2.0",
      "model_name": "LayoutModel",
      "state": {}
     },
     "dd28572e1b944dfb8e56355c6044ae1f": {
      "model_module": "@jupyter-widgets/base",
      "model_module_version": "1.2.0",
      "model_name": "LayoutModel",
      "state": {}
     },
     "dd4f5c4872684487ac7be1f0c8037561": {
      "model_module": "@jupyter-widgets/controls",
      "model_module_version": "1.5.0",
      "model_name": "HTMLModel",
      "state": {
       "layout": "IPY_MODEL_f099210bb77642efbbcf15fdb56cb0bb",
       "style": "IPY_MODEL_7a44cba7fc2d41429154168c97c62d69",
       "value": "100%"
      }
     },
     "dd7e22ea723b4ef6bfde2a425c1a9123": {
      "model_module": "@jupyter-widgets/base",
      "model_module_version": "1.2.0",
      "model_name": "LayoutModel",
      "state": {}
     },
     "ddd36192337e4c0991b2d3d45f981895": {
      "model_module": "@jupyter-widgets/controls",
      "model_module_version": "1.5.0",
      "model_name": "ProgressStyleModel",
      "state": {
       "description_width": ""
      }
     },
     "ddfe7b3df8684a16b83ea574732bd50f": {
      "model_module": "@jupyter-widgets/base",
      "model_module_version": "1.2.0",
      "model_name": "LayoutModel",
      "state": {}
     },
     "de41827f3b8842b8a3e7a0eeb1743a9c": {
      "model_module": "@jupyter-widgets/controls",
      "model_module_version": "1.5.0",
      "model_name": "HTMLModel",
      "state": {
       "layout": "IPY_MODEL_1db827e09e4e4415bc4da49efc8dafb1",
       "style": "IPY_MODEL_1be517d0a06149668205442ae43c2020",
       "value": "100%"
      }
     },
     "dea21aa0435d40b4992fa3f4c06c184f": {
      "model_module": "@jupyter-widgets/controls",
      "model_module_version": "1.5.0",
      "model_name": "DescriptionStyleModel",
      "state": {
       "description_width": ""
      }
     },
     "deaa7aee83ed49bc80c4a04f79b81546": {
      "model_module": "@jupyter-widgets/base",
      "model_module_version": "1.2.0",
      "model_name": "LayoutModel",
      "state": {}
     },
     "dec50a2d81674018a7629c2e49605ed6": {
      "model_module": "@jupyter-widgets/base",
      "model_module_version": "1.2.0",
      "model_name": "LayoutModel",
      "state": {}
     },
     "ded22d5a1e1a407087cddf0093cd938a": {
      "model_module": "@jupyter-widgets/controls",
      "model_module_version": "1.5.0",
      "model_name": "FloatProgressModel",
      "state": {
       "bar_style": "success",
       "layout": "IPY_MODEL_f560cc4d2636403dbca772b588dc2bbc",
       "max": 370105,
       "style": "IPY_MODEL_1cdb6775616448baae7f995b39a51b7c",
       "value": 370105
      }
     },
     "df5f506bf0304c8896fee4839e409487": {
      "model_module": "@jupyter-widgets/controls",
      "model_module_version": "1.5.0",
      "model_name": "HTMLModel",
      "state": {
       "layout": "IPY_MODEL_cd37b184d6af47e7a911d7131ac7c739",
       "style": "IPY_MODEL_5316e04b348a4e0f85a7b9ec44c1f68f",
       "value": " 370105/370105 [00:00&lt;00:00, 925608.51it/s]"
      }
     },
     "df942e52653e4c9ab71c7c415a680362": {
      "model_module": "@jupyter-widgets/controls",
      "model_module_version": "1.5.0",
      "model_name": "HTMLModel",
      "state": {
       "layout": "IPY_MODEL_e7418ecefd074969bd6b89337976088d",
       "style": "IPY_MODEL_f8650ae190534179b49a05956b549f47",
       "value": " 370105/370105 [00:00&lt;00:00, 1008776.03it/s]"
      }
     },
     "dfd3960b060e4ab49d521f39e4efb4dd": {
      "model_module": "@jupyter-widgets/controls",
      "model_module_version": "1.5.0",
      "model_name": "DescriptionStyleModel",
      "state": {
       "description_width": ""
      }
     },
     "e01ac4c683d74689a862315750ee67b2": {
      "model_module": "@jupyter-widgets/base",
      "model_module_version": "1.2.0",
      "model_name": "LayoutModel",
      "state": {}
     },
     "e1a8c00928c340ec8eac0888c0564d00": {
      "model_module": "@jupyter-widgets/controls",
      "model_module_version": "1.5.0",
      "model_name": "FloatProgressModel",
      "state": {
       "bar_style": "success",
       "layout": "IPY_MODEL_d82977550dfa4d4baa7f39de37dbbda4",
       "max": 370105,
       "style": "IPY_MODEL_4c135ab6d3f141ceba6b1a351f619c06",
       "value": 370105
      }
     },
     "e1d534e04df643a4907dbb7c3a6ab5c6": {
      "model_module": "@jupyter-widgets/base",
      "model_module_version": "1.2.0",
      "model_name": "LayoutModel",
      "state": {}
     },
     "e2e8d3c2def64103a9bba22623b798bc": {
      "model_module": "@jupyter-widgets/controls",
      "model_module_version": "1.5.0",
      "model_name": "HBoxModel",
      "state": {
       "children": [
        "IPY_MODEL_af15006b592047efa8df37c6580ef994",
        "IPY_MODEL_3005e203f28d4c5ab87eb4c992dc20fe",
        "IPY_MODEL_cd766132d7dd45deabdf6be383a2ea14"
       ],
       "layout": "IPY_MODEL_6f24e3888270451c9d6151b792bfa66e"
      }
     },
     "e332fb90e4f5441c8ee4ef8aa56cbd34": {
      "model_module": "@jupyter-widgets/controls",
      "model_module_version": "1.5.0",
      "model_name": "FloatProgressModel",
      "state": {
       "bar_style": "success",
       "layout": "IPY_MODEL_f15547b749c94cdeb57398ec8bed9db5",
       "max": 370105,
       "style": "IPY_MODEL_17a356d83024401784e2343e673117f3",
       "value": 370105
      }
     },
     "e3337f4d22ab4c90a84747e743374d24": {
      "model_module": "@jupyter-widgets/controls",
      "model_module_version": "1.5.0",
      "model_name": "FloatProgressModel",
      "state": {
       "bar_style": "success",
       "layout": "IPY_MODEL_c91303a5e65a45eab71d2ba6aee6c557",
       "max": 370105,
       "style": "IPY_MODEL_efc0130f70bd402da620c516ad63cc6d",
       "value": 370105
      }
     },
     "e38564fd059a46f7963cecf70749f328": {
      "model_module": "@jupyter-widgets/controls",
      "model_module_version": "1.5.0",
      "model_name": "FloatProgressModel",
      "state": {
       "bar_style": "success",
       "layout": "IPY_MODEL_881eca7a871542dcb1277ad6660aab74",
       "max": 370105,
       "style": "IPY_MODEL_bdda022cd45546a19a3b0ed00d95cc07",
       "value": 370105
      }
     },
     "e3b7120ad4ed4319b81b83317f70c749": {
      "model_module": "@jupyter-widgets/base",
      "model_module_version": "1.2.0",
      "model_name": "LayoutModel",
      "state": {}
     },
     "e4405ee42f274300aabed3831c8c12ea": {
      "model_module": "@jupyter-widgets/base",
      "model_module_version": "1.2.0",
      "model_name": "LayoutModel",
      "state": {}
     },
     "e4d6f4b896d648b59552110fd86a278a": {
      "model_module": "@jupyter-widgets/base",
      "model_module_version": "1.2.0",
      "model_name": "LayoutModel",
      "state": {}
     },
     "e55295a1ff25418982b6d68419c1d04b": {
      "model_module": "@jupyter-widgets/base",
      "model_module_version": "1.2.0",
      "model_name": "LayoutModel",
      "state": {}
     },
     "e560dce349d34244802be99ac73b52db": {
      "model_module": "@jupyter-widgets/controls",
      "model_module_version": "1.5.0",
      "model_name": "HBoxModel",
      "state": {
       "children": [
        "IPY_MODEL_0b9c80ec61f64402b9a4e9a633f1f516",
        "IPY_MODEL_b2d2dd24b731479f96ee788d1ee931a2",
        "IPY_MODEL_aab53ff446224636a8b7d85de490a97b"
       ],
       "layout": "IPY_MODEL_6ec9ad02d21e450c8d92fd0ee7385012"
      }
     },
     "e5dcd33c8c4b49179a5469fe959d9164": {
      "model_module": "@jupyter-widgets/controls",
      "model_module_version": "1.5.0",
      "model_name": "ProgressStyleModel",
      "state": {
       "description_width": ""
      }
     },
     "e60f7d5affd74218aa11a61ac1727091": {
      "model_module": "@jupyter-widgets/base",
      "model_module_version": "1.2.0",
      "model_name": "LayoutModel",
      "state": {}
     },
     "e6603b005efa4280b5549d6f4f46e51d": {
      "model_module": "@jupyter-widgets/base",
      "model_module_version": "1.2.0",
      "model_name": "LayoutModel",
      "state": {}
     },
     "e6ab1578f5b9494d9831486dde99356f": {
      "model_module": "@jupyter-widgets/controls",
      "model_module_version": "1.5.0",
      "model_name": "HBoxModel",
      "state": {
       "children": [
        "IPY_MODEL_701bba552fe44a17a7419d4f0078931b",
        "IPY_MODEL_08fcdb852c3f48eca40a4180f9238ffc",
        "IPY_MODEL_6de9a3ccedf34bd989095af6fbddbb00"
       ],
       "layout": "IPY_MODEL_0bdf9f7bd4374b26ab2d397cd298d4df"
      }
     },
     "e6d0b5583cc840ae8092ab623b9667f8": {
      "model_module": "@jupyter-widgets/base",
      "model_module_version": "1.2.0",
      "model_name": "LayoutModel",
      "state": {}
     },
     "e72e20b8878940c1973537ed01abc3aa": {
      "model_module": "@jupyter-widgets/controls",
      "model_module_version": "1.5.0",
      "model_name": "FloatProgressModel",
      "state": {
       "bar_style": "success",
       "layout": "IPY_MODEL_83e53b37876045738cb52829965770f6",
       "max": 370105,
       "style": "IPY_MODEL_bc19acbf35c249b5944711e5c152a5d3",
       "value": 370105
      }
     },
     "e7418ecefd074969bd6b89337976088d": {
      "model_module": "@jupyter-widgets/base",
      "model_module_version": "1.2.0",
      "model_name": "LayoutModel",
      "state": {}
     },
     "e75c9f4b7c904038912e9390a3f2498c": {
      "model_module": "@jupyter-widgets/controls",
      "model_module_version": "1.5.0",
      "model_name": "HBoxModel",
      "state": {
       "children": [
        "IPY_MODEL_bde79dacb35b4fbfba7d8f8aab327385",
        "IPY_MODEL_c3965c6514b94cec931caca353eb8ee1",
        "IPY_MODEL_9e01373a049e466495312bf2069aa9a8"
       ],
       "layout": "IPY_MODEL_57bf30aecd734a268446b7ffe9ab53f5"
      }
     },
     "e7871595a16c46a4a978d68f44b9494c": {
      "model_module": "@jupyter-widgets/base",
      "model_module_version": "1.2.0",
      "model_name": "LayoutModel",
      "state": {}
     },
     "e7d574ee35224e02a37002679fb6100e": {
      "model_module": "@jupyter-widgets/controls",
      "model_module_version": "1.5.0",
      "model_name": "HTMLModel",
      "state": {
       "layout": "IPY_MODEL_28f564fde6014e218a60be7cb286b003",
       "style": "IPY_MODEL_4a714eaa25754a5b8d7af43eb831fe1d",
       "value": "100%"
      }
     },
     "e7dfdeaf5c3041b6ad5600434b4484e3": {
      "model_module": "@jupyter-widgets/controls",
      "model_module_version": "1.5.0",
      "model_name": "HTMLModel",
      "state": {
       "layout": "IPY_MODEL_e90f28057c7c48568b8a6a6892e2b3c0",
       "style": "IPY_MODEL_058ae848f33341f49cd89b92457a1d2c",
       "value": " 370105/370105 [00:00&lt;00:00, 915060.60it/s]"
      }
     },
     "e8176264a10943469a27625ee20c2d07": {
      "model_module": "@jupyter-widgets/controls",
      "model_module_version": "1.5.0",
      "model_name": "DescriptionStyleModel",
      "state": {
       "description_width": ""
      }
     },
     "e8d669002b3942c5b7ea26fadf678053": {
      "model_module": "@jupyter-widgets/controls",
      "model_module_version": "1.5.0",
      "model_name": "HTMLModel",
      "state": {
       "layout": "IPY_MODEL_7bd20e35eddf4bebaa6b5dbaf66b5389",
       "style": "IPY_MODEL_e9f6faa152854e1e8fdaa3e5cb968755",
       "value": "100%"
      }
     },
     "e90ab7a2862d42908b32c33284fa3d61": {
      "model_module": "@jupyter-widgets/controls",
      "model_module_version": "1.5.0",
      "model_name": "FloatProgressModel",
      "state": {
       "bar_style": "success",
       "layout": "IPY_MODEL_283f9c21e3e34a06bf2a64edad5ba441",
       "max": 370105,
       "style": "IPY_MODEL_d4105536f2664825a4b50d711d826310",
       "value": 370105
      }
     },
     "e90f28057c7c48568b8a6a6892e2b3c0": {
      "model_module": "@jupyter-widgets/base",
      "model_module_version": "1.2.0",
      "model_name": "LayoutModel",
      "state": {}
     },
     "e9ce6ec02e8e41239f7e3f87f29a4398": {
      "model_module": "@jupyter-widgets/controls",
      "model_module_version": "1.5.0",
      "model_name": "HTMLModel",
      "state": {
       "layout": "IPY_MODEL_7569c1104dbc44c88287695840491a8f",
       "style": "IPY_MODEL_c58da7ca5be74101b9b239103f446636",
       "value": "100%"
      }
     },
     "e9f6faa152854e1e8fdaa3e5cb968755": {
      "model_module": "@jupyter-widgets/controls",
      "model_module_version": "1.5.0",
      "model_name": "DescriptionStyleModel",
      "state": {
       "description_width": ""
      }
     },
     "ea015a78e7b7439ba6351c9e0bad1837": {
      "model_module": "@jupyter-widgets/base",
      "model_module_version": "1.2.0",
      "model_name": "LayoutModel",
      "state": {}
     },
     "ea09770b6ed34076aabee308d4ba43a2": {
      "model_module": "@jupyter-widgets/base",
      "model_module_version": "1.2.0",
      "model_name": "LayoutModel",
      "state": {}
     },
     "ea25f68b22e7493995edab23a7a30a8f": {
      "model_module": "@jupyter-widgets/base",
      "model_module_version": "1.2.0",
      "model_name": "LayoutModel",
      "state": {}
     },
     "ea2d00701da44ec5ae9075c6cc94e914": {
      "model_module": "@jupyter-widgets/base",
      "model_module_version": "1.2.0",
      "model_name": "LayoutModel",
      "state": {}
     },
     "ea7d81975b4b4a578ab29126273aa854": {
      "model_module": "@jupyter-widgets/controls",
      "model_module_version": "1.5.0",
      "model_name": "HTMLModel",
      "state": {
       "layout": "IPY_MODEL_8e7bb7f350664c778c50c55e845b2bba",
       "style": "IPY_MODEL_3ef642089f0c47acbead9041e5b0ebc4",
       "value": "100%"
      }
     },
     "eae76eb3ead345fda86deec37b6e24e4": {
      "model_module": "@jupyter-widgets/controls",
      "model_module_version": "1.5.0",
      "model_name": "HTMLModel",
      "state": {
       "layout": "IPY_MODEL_1b83a5b9fcfc4c3abcddb96a93884b63",
       "style": "IPY_MODEL_ecccc639c97b4f74aba6da68a61a71e4",
       "value": "100%"
      }
     },
     "eb1afe5d589f4993885cb33788bd9a31": {
      "model_module": "@jupyter-widgets/base",
      "model_module_version": "1.2.0",
      "model_name": "LayoutModel",
      "state": {}
     },
     "eb5cb48477a64c29a740c627137501cd": {
      "model_module": "@jupyter-widgets/controls",
      "model_module_version": "1.5.0",
      "model_name": "FloatProgressModel",
      "state": {
       "bar_style": "success",
       "layout": "IPY_MODEL_8e7c955d9b2c45d082d2ee7ed5939070",
       "max": 370105,
       "style": "IPY_MODEL_d4fda716c8634549be01b5f44fb6b243",
       "value": 370105
      }
     },
     "ec893c2b74244e9584e96f710d673723": {
      "model_module": "@jupyter-widgets/controls",
      "model_module_version": "1.5.0",
      "model_name": "DescriptionStyleModel",
      "state": {
       "description_width": ""
      }
     },
     "eca50cecc68445dcbaa63a61f892ec2f": {
      "model_module": "@jupyter-widgets/controls",
      "model_module_version": "1.5.0",
      "model_name": "FloatProgressModel",
      "state": {
       "bar_style": "success",
       "layout": "IPY_MODEL_6eb62b5eb5574133adacdd7b8866dd7c",
       "max": 370105,
       "style": "IPY_MODEL_9d7d32ad84114989b7e783812138ecc2",
       "value": 370105
      }
     },
     "ecccc639c97b4f74aba6da68a61a71e4": {
      "model_module": "@jupyter-widgets/controls",
      "model_module_version": "1.5.0",
      "model_name": "DescriptionStyleModel",
      "state": {
       "description_width": ""
      }
     },
     "ed46d85f8f7744da96930d21d2e9fbfd": {
      "model_module": "@jupyter-widgets/controls",
      "model_module_version": "1.5.0",
      "model_name": "HTMLModel",
      "state": {
       "layout": "IPY_MODEL_179a0e2df7d44054be4bcbbd51f637bb",
       "style": "IPY_MODEL_81773f0aa4c64a7da5d5e1cb9d294d84",
       "value": "100%"
      }
     },
     "ee7a4f00e87748beb43ff5d2befaebd0": {
      "model_module": "@jupyter-widgets/controls",
      "model_module_version": "1.5.0",
      "model_name": "FloatProgressModel",
      "state": {
       "bar_style": "success",
       "layout": "IPY_MODEL_994eb5765d8f41f49ec71b95c3dd4df3",
       "max": 370105,
       "style": "IPY_MODEL_5f7d52a7aaaa4d26a5375c884031ab37",
       "value": 370105
      }
     },
     "ef69c73d9a01425aa03217e52c5dd76a": {
      "model_module": "@jupyter-widgets/controls",
      "model_module_version": "1.5.0",
      "model_name": "FloatProgressModel",
      "state": {
       "bar_style": "success",
       "layout": "IPY_MODEL_9471091a318a443bb9b8c7ed7c306e84",
       "max": 370105,
       "style": "IPY_MODEL_12fe89712c5044049b39cc174bb1f2ae",
       "value": 370105
      }
     },
     "efc0130f70bd402da620c516ad63cc6d": {
      "model_module": "@jupyter-widgets/controls",
      "model_module_version": "1.5.0",
      "model_name": "ProgressStyleModel",
      "state": {
       "description_width": ""
      }
     },
     "f039088fd261415885ae98607ce70277": {
      "model_module": "@jupyter-widgets/controls",
      "model_module_version": "1.5.0",
      "model_name": "HTMLModel",
      "state": {
       "layout": "IPY_MODEL_c07338f65b634d14aac48b44142536e6",
       "style": "IPY_MODEL_b347b69417564aeaa467c0809b20c0be",
       "value": "100%"
      }
     },
     "f099210bb77642efbbcf15fdb56cb0bb": {
      "model_module": "@jupyter-widgets/base",
      "model_module_version": "1.2.0",
      "model_name": "LayoutModel",
      "state": {}
     },
     "f0b6f5e6aa7540c18c73f412441353bd": {
      "model_module": "@jupyter-widgets/controls",
      "model_module_version": "1.5.0",
      "model_name": "HTMLModel",
      "state": {
       "layout": "IPY_MODEL_0f7378cc126844dc8818c7f373c30cff",
       "style": "IPY_MODEL_4691ec81af444e1a907e4b2bdc979810",
       "value": " 370105/370105 [00:00&lt;00:00, 986115.39it/s]"
      }
     },
     "f1148810f72640088f727be76a958b81": {
      "model_module": "@jupyter-widgets/base",
      "model_module_version": "1.2.0",
      "model_name": "LayoutModel",
      "state": {}
     },
     "f15547b749c94cdeb57398ec8bed9db5": {
      "model_module": "@jupyter-widgets/base",
      "model_module_version": "1.2.0",
      "model_name": "LayoutModel",
      "state": {}
     },
     "f1c932513df74ee59672da2c964174b2": {
      "model_module": "@jupyter-widgets/base",
      "model_module_version": "1.2.0",
      "model_name": "LayoutModel",
      "state": {}
     },
     "f22fe1f56d11491cbaf8fa467663e573": {
      "model_module": "@jupyter-widgets/base",
      "model_module_version": "1.2.0",
      "model_name": "LayoutModel",
      "state": {}
     },
     "f237fa26bebd4b72abc4fc89f3db3627": {
      "model_module": "@jupyter-widgets/controls",
      "model_module_version": "1.5.0",
      "model_name": "ProgressStyleModel",
      "state": {
       "description_width": ""
      }
     },
     "f259b9f94a4c48d9b6d1089efc060608": {
      "model_module": "@jupyter-widgets/controls",
      "model_module_version": "1.5.0",
      "model_name": "DescriptionStyleModel",
      "state": {
       "description_width": ""
      }
     },
     "f27ed5d680184ba1abe83ee86a099563": {
      "model_module": "@jupyter-widgets/controls",
      "model_module_version": "1.5.0",
      "model_name": "DescriptionStyleModel",
      "state": {
       "description_width": ""
      }
     },
     "f2863bb11f504dbaa183622f7781efb6": {
      "model_module": "@jupyter-widgets/controls",
      "model_module_version": "1.5.0",
      "model_name": "DescriptionStyleModel",
      "state": {
       "description_width": ""
      }
     },
     "f2c434f5158041aca9f30cbed3bac27b": {
      "model_module": "@jupyter-widgets/controls",
      "model_module_version": "1.5.0",
      "model_name": "HTMLModel",
      "state": {
       "layout": "IPY_MODEL_1b1dd0668ad04ce8950d4622bf47244c",
       "style": "IPY_MODEL_cde77bf5316142a7af04ef603e7192f6",
       "value": " 370105/370105 [00:00&lt;00:00, 919712.06it/s]"
      }
     },
     "f3228ac96eb54847b937e219dad88b95": {
      "model_module": "@jupyter-widgets/base",
      "model_module_version": "1.2.0",
      "model_name": "LayoutModel",
      "state": {}
     },
     "f3278cb6a7684ac18889595d91d7ce4c": {
      "model_module": "@jupyter-widgets/controls",
      "model_module_version": "1.5.0",
      "model_name": "HTMLModel",
      "state": {
       "layout": "IPY_MODEL_1582703cedcf406588bfd3385423e033",
       "style": "IPY_MODEL_11a93e10689a45f483cb1d84a7ad39ac",
       "value": " 370105/370105 [00:00&lt;00:00, 919116.24it/s]"
      }
     },
     "f3c484939f374072aa66a8a6789e9073": {
      "model_module": "@jupyter-widgets/base",
      "model_module_version": "1.2.0",
      "model_name": "LayoutModel",
      "state": {}
     },
     "f3daf74924084971ade151775c8b6832": {
      "model_module": "@jupyter-widgets/base",
      "model_module_version": "1.2.0",
      "model_name": "LayoutModel",
      "state": {}
     },
     "f413b61dba364830beedff9636e8c834": {
      "model_module": "@jupyter-widgets/base",
      "model_module_version": "1.2.0",
      "model_name": "LayoutModel",
      "state": {}
     },
     "f41910ce683945ec9d062eef42dd265a": {
      "model_module": "@jupyter-widgets/controls",
      "model_module_version": "1.5.0",
      "model_name": "DescriptionStyleModel",
      "state": {
       "description_width": ""
      }
     },
     "f42d8405a2f24304815fe7fcf4d1df7c": {
      "model_module": "@jupyter-widgets/base",
      "model_module_version": "1.2.0",
      "model_name": "LayoutModel",
      "state": {}
     },
     "f441e2b4ff734350bab4b1f88dc380f8": {
      "model_module": "@jupyter-widgets/base",
      "model_module_version": "1.2.0",
      "model_name": "LayoutModel",
      "state": {}
     },
     "f46cea67db484a38a0740ebaad894d5d": {
      "model_module": "@jupyter-widgets/base",
      "model_module_version": "1.2.0",
      "model_name": "LayoutModel",
      "state": {}
     },
     "f5256d69a8c64f68b8616a9cb9743575": {
      "model_module": "@jupyter-widgets/base",
      "model_module_version": "1.2.0",
      "model_name": "LayoutModel",
      "state": {}
     },
     "f5300c0d87884c9899c290208862cf1f": {
      "model_module": "@jupyter-widgets/controls",
      "model_module_version": "1.5.0",
      "model_name": "ProgressStyleModel",
      "state": {
       "description_width": ""
      }
     },
     "f560cc4d2636403dbca772b588dc2bbc": {
      "model_module": "@jupyter-widgets/base",
      "model_module_version": "1.2.0",
      "model_name": "LayoutModel",
      "state": {}
     },
     "f59f032048c7425cb18f9be9337ce34e": {
      "model_module": "@jupyter-widgets/base",
      "model_module_version": "1.2.0",
      "model_name": "LayoutModel",
      "state": {}
     },
     "f5e7389c620e4bfd8da2078097f289eb": {
      "model_module": "@jupyter-widgets/controls",
      "model_module_version": "1.5.0",
      "model_name": "HTMLModel",
      "state": {
       "layout": "IPY_MODEL_6a39d59ef56a4b2c94d5c8de44c1af6b",
       "style": "IPY_MODEL_22f8a54cf3c244d1946a2c2101b4c2e3",
       "value": " 370105/370105 [00:00&lt;00:00, 928806.25it/s]"
      }
     },
     "f5f1e3be77464cceaf615f007d697b7f": {
      "model_module": "@jupyter-widgets/controls",
      "model_module_version": "1.5.0",
      "model_name": "HTMLModel",
      "state": {
       "layout": "IPY_MODEL_f59f032048c7425cb18f9be9337ce34e",
       "style": "IPY_MODEL_2fc29ac213cd4776993cfb495571b6f5",
       "value": " 370105/370105 [00:00&lt;00:00, 1015672.99it/s]"
      }
     },
     "f60f1c7df4a94c7bbc7133664694413a": {
      "model_module": "@jupyter-widgets/base",
      "model_module_version": "1.2.0",
      "model_name": "LayoutModel",
      "state": {}
     },
     "f64a933f76da46d7880743883de7011d": {
      "model_module": "@jupyter-widgets/controls",
      "model_module_version": "1.5.0",
      "model_name": "ProgressStyleModel",
      "state": {
       "description_width": ""
      }
     },
     "f6c670f69e4b46cf8a4871a7abb7c1d4": {
      "model_module": "@jupyter-widgets/controls",
      "model_module_version": "1.5.0",
      "model_name": "ProgressStyleModel",
      "state": {
       "description_width": ""
      }
     },
     "f6d2873408434b2995c0ed5bb781c65e": {
      "model_module": "@jupyter-widgets/controls",
      "model_module_version": "1.5.0",
      "model_name": "ProgressStyleModel",
      "state": {
       "description_width": ""
      }
     },
     "f7873a01375449ceb12c9d69e311f101": {
      "model_module": "@jupyter-widgets/controls",
      "model_module_version": "1.5.0",
      "model_name": "FloatProgressModel",
      "state": {
       "bar_style": "success",
       "layout": "IPY_MODEL_0e1ca3aa50b44b2c801c1e535977c791",
       "max": 370105,
       "style": "IPY_MODEL_83e2cebd644441bda354ea4ed5cf1775",
       "value": 370105
      }
     },
     "f7bf309825c84144983d93c1d54213b6": {
      "model_module": "@jupyter-widgets/base",
      "model_module_version": "1.2.0",
      "model_name": "LayoutModel",
      "state": {}
     },
     "f80e12e4ec664051a84e1c32630a887e": {
      "model_module": "@jupyter-widgets/controls",
      "model_module_version": "1.5.0",
      "model_name": "HBoxModel",
      "state": {
       "children": [
        "IPY_MODEL_638d0f74fd8f47c0bbd63ff463aeffd4",
        "IPY_MODEL_4ae82a5892e046c1a8811dde33000158",
        "IPY_MODEL_f5f1e3be77464cceaf615f007d697b7f"
       ],
       "layout": "IPY_MODEL_f46cea67db484a38a0740ebaad894d5d"
      }
     },
     "f816bd551ba74f4ca8fc4b0de9639043": {
      "model_module": "@jupyter-widgets/controls",
      "model_module_version": "1.5.0",
      "model_name": "DescriptionStyleModel",
      "state": {
       "description_width": ""
      }
     },
     "f83f0041002f44c79dc351e40b07a34c": {
      "model_module": "@jupyter-widgets/controls",
      "model_module_version": "1.5.0",
      "model_name": "HTMLModel",
      "state": {
       "layout": "IPY_MODEL_922eeaf0956444c099ea1327320d402c",
       "style": "IPY_MODEL_5689dbe729e04faf91c320fd478b6e2c",
       "value": "100%"
      }
     },
     "f8436bb2d63840979729387d84ac55a9": {
      "model_module": "@jupyter-widgets/base",
      "model_module_version": "1.2.0",
      "model_name": "LayoutModel",
      "state": {}
     },
     "f85da34d2bb942f1ac2e2727b2cba66a": {
      "model_module": "@jupyter-widgets/base",
      "model_module_version": "1.2.0",
      "model_name": "LayoutModel",
      "state": {}
     },
     "f8650ae190534179b49a05956b549f47": {
      "model_module": "@jupyter-widgets/controls",
      "model_module_version": "1.5.0",
      "model_name": "DescriptionStyleModel",
      "state": {
       "description_width": ""
      }
     },
     "f8f153501a504c83b7436534ba5bc0cd": {
      "model_module": "@jupyter-widgets/controls",
      "model_module_version": "1.5.0",
      "model_name": "HBoxModel",
      "state": {
       "children": [
        "IPY_MODEL_269a133257c74c0f97b0e2a9d30db876",
        "IPY_MODEL_0d97563c40d04551aabef7d1dc19e3a6",
        "IPY_MODEL_9c7d2eec84f54a8e9c380a1dfe447586"
       ],
       "layout": "IPY_MODEL_1a36868301e84a41a3cd77b437c93166"
      }
     },
     "f98eafe40b2141588a85fe33f0723044": {
      "model_module": "@jupyter-widgets/base",
      "model_module_version": "1.2.0",
      "model_name": "LayoutModel",
      "state": {}
     },
     "f98fce485bf9494aa7422d526788e79f": {
      "model_module": "@jupyter-widgets/controls",
      "model_module_version": "1.5.0",
      "model_name": "DescriptionStyleModel",
      "state": {
       "description_width": ""
      }
     },
     "f992e59d09ab4cc5928a0014f17e4da8": {
      "model_module": "@jupyter-widgets/base",
      "model_module_version": "1.2.0",
      "model_name": "LayoutModel",
      "state": {}
     },
     "fa38f6a94fe34ebc963fbbc6da15b8a6": {
      "model_module": "@jupyter-widgets/controls",
      "model_module_version": "1.5.0",
      "model_name": "HTMLModel",
      "state": {
       "layout": "IPY_MODEL_17ba363cf1c8485ab010cbaac234dafd",
       "style": "IPY_MODEL_11d44308d7934a39b7ef5c862dc0f9d3",
       "value": "100%"
      }
     },
     "fa627e001afa40ce8eabd85d696a6b33": {
      "model_module": "@jupyter-widgets/controls",
      "model_module_version": "1.5.0",
      "model_name": "FloatProgressModel",
      "state": {
       "bar_style": "success",
       "layout": "IPY_MODEL_79f787f8f01f44da857485b2adf3fdda",
       "max": 370105,
       "style": "IPY_MODEL_fccbaa84e4224dbbacd54d7d43b43f84",
       "value": 370105
      }
     },
     "faa3e631d537436babfb29a3f837e9a6": {
      "model_module": "@jupyter-widgets/controls",
      "model_module_version": "1.5.0",
      "model_name": "FloatProgressModel",
      "state": {
       "bar_style": "success",
       "layout": "IPY_MODEL_8ed55c580b05424b83583c2d0f2a37c8",
       "max": 370105,
       "style": "IPY_MODEL_ddd36192337e4c0991b2d3d45f981895",
       "value": 370105
      }
     },
     "fad8a8757b3443ab9150e18ba1a8cef0": {
      "model_module": "@jupyter-widgets/controls",
      "model_module_version": "1.5.0",
      "model_name": "DescriptionStyleModel",
      "state": {
       "description_width": ""
      }
     },
     "fae22e697b6e4c8e8e7035fb1364a355": {
      "model_module": "@jupyter-widgets/controls",
      "model_module_version": "1.5.0",
      "model_name": "DescriptionStyleModel",
      "state": {
       "description_width": ""
      }
     },
     "faf21706d68a4b2385ad388b5b8a7b13": {
      "model_module": "@jupyter-widgets/controls",
      "model_module_version": "1.5.0",
      "model_name": "HTMLModel",
      "state": {
       "layout": "IPY_MODEL_a21d480620044cdb82c3596b66d1b5e3",
       "style": "IPY_MODEL_9b50b8912b3d4ed2bf96c3133590e487",
       "value": "100%"
      }
     },
     "fb842bc3454945319d9e5c76b92d6876": {
      "model_module": "@jupyter-widgets/controls",
      "model_module_version": "1.5.0",
      "model_name": "HTMLModel",
      "state": {
       "layout": "IPY_MODEL_4625df1ab0ce416198b1a5bf884ac05f",
       "style": "IPY_MODEL_d829dc120c1b4941a9f5064fd95ab6e5",
       "value": "100%"
      }
     },
     "fbdf2c0a790e470da59171a720b4fff1": {
      "model_module": "@jupyter-widgets/base",
      "model_module_version": "1.2.0",
      "model_name": "LayoutModel",
      "state": {}
     },
     "fc199823b08c46e2bc105520029aff2d": {
      "model_module": "@jupyter-widgets/controls",
      "model_module_version": "1.5.0",
      "model_name": "HBoxModel",
      "state": {
       "children": [
        "IPY_MODEL_a28a290446a44886823fafe07b920adc",
        "IPY_MODEL_c8521e7936104c5b93c71c190176c4fa",
        "IPY_MODEL_d0282fdbcc144d28be7b6af3fc0d2449"
       ],
       "layout": "IPY_MODEL_1745b5fb4fc245d2b1df3e251f745fdd"
      }
     },
     "fc943d10ecc74d7ba0deba7e3e898092": {
      "model_module": "@jupyter-widgets/base",
      "model_module_version": "1.2.0",
      "model_name": "LayoutModel",
      "state": {}
     },
     "fc9dcc9de7894dd1bb21c8cf64645d09": {
      "model_module": "@jupyter-widgets/controls",
      "model_module_version": "1.5.0",
      "model_name": "DescriptionStyleModel",
      "state": {
       "description_width": ""
      }
     },
     "fcacfafa66c44a0aa325dc444eb2b8c7": {
      "model_module": "@jupyter-widgets/controls",
      "model_module_version": "1.5.0",
      "model_name": "HTMLModel",
      "state": {
       "layout": "IPY_MODEL_9beea31e48624b78b096d8cec6e990b4",
       "style": "IPY_MODEL_9f3ef76b45b847d089a602a5bc040dca",
       "value": "100%"
      }
     },
     "fccbaa84e4224dbbacd54d7d43b43f84": {
      "model_module": "@jupyter-widgets/controls",
      "model_module_version": "1.5.0",
      "model_name": "ProgressStyleModel",
      "state": {
       "description_width": ""
      }
     },
     "fd51c9a7186a4a30877e85c973364e46": {
      "model_module": "@jupyter-widgets/controls",
      "model_module_version": "1.5.0",
      "model_name": "HBoxModel",
      "state": {
       "children": [
        "IPY_MODEL_0291245075b44044875b3470eeab7b62",
        "IPY_MODEL_0b5d02bc8ef94397b3f976ad24a054cc",
        "IPY_MODEL_b840b58beb0f4642a1afa3ccb8cac50e"
       ],
       "layout": "IPY_MODEL_fbdf2c0a790e470da59171a720b4fff1"
      }
     },
     "fe6b1ac21c95449ebc78c368c9f66e72": {
      "model_module": "@jupyter-widgets/controls",
      "model_module_version": "1.5.0",
      "model_name": "HTMLModel",
      "state": {
       "layout": "IPY_MODEL_613a47c8bb3147dea40339b009093722",
       "style": "IPY_MODEL_bdd935ad22ce45939b3d4de7c05dcda5",
       "value": "100%"
      }
     },
     "fe7cbf55736d4ec1a9ea12c634641019": {
      "model_module": "@jupyter-widgets/controls",
      "model_module_version": "1.5.0",
      "model_name": "HBoxModel",
      "state": {
       "children": [
        "IPY_MODEL_eae76eb3ead345fda86deec37b6e24e4",
        "IPY_MODEL_a0fc9966eff04093a1ef89f5542a1aab",
        "IPY_MODEL_2e5c5a1fd97f44e8a7c9019294ab55af"
       ],
       "layout": "IPY_MODEL_c89f425bd5e749d39751ae67b8185e26"
      }
     },
     "fea439f65cb64e10a92068a3d7fb58c8": {
      "model_module": "@jupyter-widgets/controls",
      "model_module_version": "1.5.0",
      "model_name": "HTMLModel",
      "state": {
       "layout": "IPY_MODEL_ea2d00701da44ec5ae9075c6cc94e914",
       "style": "IPY_MODEL_fc9dcc9de7894dd1bb21c8cf64645d09",
       "value": "100%"
      }
     },
     "feb2cf30ddcf449395c5ee9c75cbe408": {
      "model_module": "@jupyter-widgets/base",
      "model_module_version": "1.2.0",
      "model_name": "LayoutModel",
      "state": {}
     },
     "fed50c5462454d608066b9bfce025b5d": {
      "model_module": "@jupyter-widgets/controls",
      "model_module_version": "1.5.0",
      "model_name": "HTMLModel",
      "state": {
       "layout": "IPY_MODEL_dbc5e31aed4541f39e849b4ea370ac82",
       "style": "IPY_MODEL_3f0c88bed2e04e53ac64694eaadd37e8",
       "value": "100%"
      }
     },
     "fefe96e8607649f48057471528a35ce8": {
      "model_module": "@jupyter-widgets/base",
      "model_module_version": "1.2.0",
      "model_name": "LayoutModel",
      "state": {}
     },
     "ff2a2a1135914203b33123479aecc8f2": {
      "model_module": "@jupyter-widgets/controls",
      "model_module_version": "1.5.0",
      "model_name": "DescriptionStyleModel",
      "state": {
       "description_width": ""
      }
     },
     "ff4fc547784040c08cb44eeb39f8f3af": {
      "model_module": "@jupyter-widgets/controls",
      "model_module_version": "1.5.0",
      "model_name": "HBoxModel",
      "state": {
       "children": [
        "IPY_MODEL_fcacfafa66c44a0aa325dc444eb2b8c7",
        "IPY_MODEL_5a17155840a94d75addcb2a94b4eb917",
        "IPY_MODEL_ca6c5e0883af43d595386666b829ff78"
       ],
       "layout": "IPY_MODEL_8e7426aeada8412ab883c564ce51f20d"
      }
     },
     "ff947148a5b14f13be2f4813fb1cedb9": {
      "model_module": "@jupyter-widgets/controls",
      "model_module_version": "1.5.0",
      "model_name": "HTMLModel",
      "state": {
       "layout": "IPY_MODEL_8c922c4519914e2a866dcf96268c80a3",
       "style": "IPY_MODEL_556715d490cf4df6841dd29ddfdcc776",
       "value": " 370105/370105 [00:00&lt;00:00, 909796.98it/s]"
      }
     }
    },
    "version_major": 2,
    "version_minor": 0
   }
  }
 },
 "nbformat": 4,
 "nbformat_minor": 5
}
