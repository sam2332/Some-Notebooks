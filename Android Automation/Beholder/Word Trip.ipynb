{
 "cells": [
  {
   "cell_type": "code",
   "execution_count": 1,
   "id": "31a5b066-0821-480f-be9f-31f318847e5a",
   "metadata": {},
   "outputs": [],
   "source": [
    "import string\n",
    "from copy import deepcopy as copy\n",
    "\n",
    "from IPython.display import Image, clear_output, display\n",
    "from Libs.Beholder import *\n",
    "from PIL import Image as pilImage\n",
    "from tqdm.notebook import tqdm"
   ]
  },
  {
   "cell_type": "code",
   "execution_count": 2,
   "id": "84cd9576-8ceb-446d-9cba-1f16a80551e8",
   "metadata": {},
   "outputs": [],
   "source": [
    "a = Beholder(videoFrameGenerator=pullPhoneScreen)\n",
    "\n",
    "a.addLayerModifer(\n",
    "    Beholder_Layer_Chopper_Grayscale(name=\"gray\", from_layer=\"image\", enabled=True)\n",
    ")\n",
    "\n",
    "a.addLayerModifer(\n",
    "    Beholder_Layer_Chopper_AtCord(\n",
    "        name=\"gray_letters\",\n",
    "        from_layer=\"gray\",\n",
    "        x=304,\n",
    "        y=1632,\n",
    "        w=850,\n",
    "        h=860,\n",
    "        enabled=True,\n",
    "    )\n",
    ")"
   ]
  },
  {
   "cell_type": "code",
   "execution_count": 3,
   "id": "eb32d1c8-4b26-476e-be79-9fc5059fa31d",
   "metadata": {},
   "outputs": [
    {
     "data": {
      "text/plain": [
       "370105"
      ]
     },
     "execution_count": 3,
     "metadata": {},
     "output_type": "execute_result"
    }
   ],
   "source": [
    "from pathlib import Path\n",
    "\n",
    "import requests\n",
    "\n",
    "w = Path(\"words.lst\")\n",
    "if not w.exists():\n",
    "    w.write_bytes(\n",
    "        requests.get(\n",
    "            \"https://raw.githubusercontent.com/MariaLuo826/english_words/master/words_alpha.txt\"\n",
    "        ).content\n",
    "    )\n",
    "words = [l.upper() for l in w.read_text().splitlines()]\n",
    "len(words)"
   ]
  },
  {
   "cell_type": "code",
   "execution_count": 4,
   "id": "9b3f6239-93c5-4960-8881-7c174e323621",
   "metadata": {},
   "outputs": [
    {
     "data": {
      "text/plain": [
       "1000"
      ]
     },
     "execution_count": 4,
     "metadata": {},
     "output_type": "execute_result"
    }
   ],
   "source": [
    "# Top words\n",
    "w = Path(\"1ktopwords.lst\")\n",
    "if not w.exists():\n",
    "    w.write_bytes(\n",
    "        requests.get(\n",
    "            \"https://gist.githubusercontent.com/deekayen/4148741/raw/98d35708fa344717d8eee15d11987de6c8e26d7d/1-1000.txt\"\n",
    "        ).content\n",
    "    )\n",
    "topwords = [l.upper() for l in w.read_text().splitlines()]\n",
    "len(topwords)"
   ]
  },
  {
   "cell_type": "code",
   "execution_count": 5,
   "id": "ac238736-d1c1-4514-9f78-670992badf1e",
   "metadata": {},
   "outputs": [
    {
     "data": {
      "text/plain": [
       "70926"
      ]
     },
     "execution_count": 5,
     "metadata": {},
     "output_type": "execute_result"
    }
   ],
   "source": [
    "# wiki words\n",
    "w = Path(\"wikiwords.lst\")\n",
    "if not w.exists():\n",
    "    w.write_bytes(\n",
    "        requests.get(\n",
    "            \"https://gist.githubusercontent.com/h3xx/1976236/raw/bbabb412261386673eff521dddbe1dc815373b1d/wiki-100k.txt\"\n",
    "        ).content\n",
    "    )\n",
    "wikiwords = list(sorted(list(set([l.upper() for l in w.read_text().splitlines()]))))\n",
    "len(wikiwords)"
   ]
  },
  {
   "cell_type": "code",
   "execution_count": 6,
   "id": "3859927a-cf41-4ccd-aeb1-c38ba710a537",
   "metadata": {},
   "outputs": [
    {
     "data": {
      "text/plain": [
       "1000"
      ]
     },
     "execution_count": 6,
     "metadata": {},
     "output_type": "execute_result"
    }
   ],
   "source": [
    "# h3x words\n",
    "w = Path(\"1ktopwords.lst\")\n",
    "if not w.exists():\n",
    "    w.write_bytes(requests.get(\"\").content)\n",
    "topwords = [l.upper() for l in w.read_text().splitlines()]\n",
    "len(topwords)"
   ]
  },
  {
   "cell_type": "code",
   "execution_count": null,
   "id": "77645dba-89bc-4e1b-9930-5c67e8ee1df5",
   "metadata": {},
   "outputs": [],
   "source": []
  },
  {
   "cell_type": "code",
   "execution_count": null,
   "id": "2f501741-d0d0-467c-b332-d3bea3b13c3d",
   "metadata": {},
   "outputs": [],
   "source": []
  },
  {
   "cell_type": "code",
   "execution_count": 7,
   "id": "561ea48e-1cf5-4bcf-bb92-322b7c4290dd",
   "metadata": {},
   "outputs": [
    {
     "name": "stdout",
     "output_type": "stream",
     "text": [
      "Loading A\n",
      "Loading B\n",
      "Loading C\n",
      "Loading D\n",
      "Loading E\n",
      "Loading F\n",
      "Loading G\n",
      "Loading H\n",
      "Loading I\n",
      "Loading K\n",
      "Loading L\n",
      "Loading M\n",
      "Loading N\n",
      "Loading O\n",
      "Loading P\n",
      "Loading R\n",
      "Loading S\n",
      "Loading T\n",
      "Loading U\n",
      "Loading V\n",
      "Loading W\n",
      "Loading Y\n",
      "Loading sh\n"
     ]
    }
   ],
   "source": [
    "a.matchers = {}\n",
    "for l in string.ascii_uppercase:\n",
    "    p = Path(f\"./wordtrip_templates/{l}.png\")\n",
    "    if p.exists():\n",
    "        print(f\"Loading {l}\")\n",
    "        a.addMatcher(\n",
    "            Beholder_Image_Matcher(\n",
    "                name=l,\n",
    "                layer=\"gray_letters\",\n",
    "                filename=str(p),\n",
    "                threshhold=0.9,\n",
    "                sensitivity=150,\n",
    "            )\n",
    "        )\n",
    "\n",
    "for l in [\"SH\"]:\n",
    "    p = Path(f\"./wordtrip_templates/{l}.png\")\n",
    "    if p.exists():\n",
    "        print(f\"Loading {l}\")\n",
    "        a.addMatcher(\n",
    "            Beholder_Image_Matcher(\n",
    "                name=list(l),\n",
    "                layer=\"gray_letters\",\n",
    "                filename=str(p),\n",
    "                threshhold=0.9,\n",
    "                sensitivity=150,\n",
    "            )\n",
    "        )"
   ]
  },
  {
   "cell_type": "code",
   "execution_count": 8,
   "id": "e169feeb-218e-44ed-a8df-a0802b45e61d",
   "metadata": {},
   "outputs": [],
   "source": [
    "def wordWorks(word, found_letters):\n",
    "    found_letters_t = copy(found_letters)\n",
    "    for letter in word:\n",
    "        if letter in found_letters_t:\n",
    "            found_letters_t.remove(letter)\n",
    "        else:\n",
    "            return False\n",
    "    return True"
   ]
  },
  {
   "cell_type": "code",
   "execution_count": 9,
   "id": "510c983f-b607-4b24-932c-c9270fc3b5d4",
   "metadata": {},
   "outputs": [],
   "source": [
    "def generateMoves(myword, matches):\n",
    "    mymatches = copy(matches)\n",
    "    moves = []\n",
    "    for letter in myword:\n",
    "        if letter in matches:\n",
    "            if len(matches[letter]) > 0:\n",
    "                moves.append(matches[letter][0].center)\n",
    "                mymatches[letter].pop(0)\n",
    "\n",
    "    return moves"
   ]
  },
  {
   "cell_type": "code",
   "execution_count": 10,
   "id": "77376266-382c-484c-b98f-fb24153a229b",
   "metadata": {},
   "outputs": [],
   "source": [
    "min_len = 3\n",
    "max_len = 5\n",
    "eq_len = None"
   ]
  },
  {
   "cell_type": "markdown",
   "id": "459eb3d9-6584-46cd-a4ba-df5f90f08ed7",
   "metadata": {},
   "source": [
    "# Manual matcher setup "
   ]
  },
  {
   "cell_type": "code",
   "execution_count": 11,
   "id": "9b3f336e-b2e3-460a-8fc9-b2a370e5cb96",
   "metadata": {},
   "outputs": [
    {
     "name": "stdout",
     "output_type": "stream",
     "text": [
      "AddMatch D (363, 1858)\n",
      "AddMatch E (824, 2201)\n",
      "AddMatch I (474, 2172)\n",
      "AddMatch N (922, 1839)\n",
      "['D', 'E', 'I', 'N']\n"
     ]
    },
    {
     "data": {
      "application/vnd.jupyter.widget-view+json": {
       "model_id": "9907ab2138634807a74674d06638170b",
       "version_major": 2,
       "version_minor": 0
      },
      "text/plain": [
       "  0%|          | 0/370105 [00:00<?, ?it/s]"
      ]
     },
     "metadata": {},
     "output_type": "display_data"
    },
    {
     "name": "stdout",
     "output_type": "stream",
     "text": [
      "\n",
      "DINE:[(363, 1858), (474, 2172), (922, 1839), (824, 2201)]\n",
      "ENID:[(824, 2201), (922, 1839), (474, 2172), (363, 1858)]\n",
      "INDE:[(474, 2172), (922, 1839), (363, 1858), (824, 2201)]\n",
      "NIDE:[(922, 1839), (474, 2172), (363, 1858), (824, 2201)]\n",
      "\n",
      "DEI:[(363, 1858), (824, 2201), (474, 2172)]\n",
      "DEN:[(363, 1858), (824, 2201), (922, 1839)]\n",
      "DIE:[(363, 1858), (474, 2172), (824, 2201)]\n",
      "DIN:[(363, 1858), (474, 2172), (922, 1839)]\n",
      "END:[(824, 2201), (922, 1839), (363, 1858)]\n",
      "IDE:[(474, 2172), (363, 1858), (824, 2201)]\n",
      "IND:[(474, 2172), (922, 1839), (363, 1858)]\n",
      "NED:[(922, 1839), (824, 2201), (363, 1858)]\n",
      "NEI:[(922, 1839), (824, 2201), (474, 2172)]\n",
      "NID:[(922, 1839), (474, 2172), (363, 1858)]\n"
     ]
    }
   ],
   "source": [
    "matches = a.findMatches()\n",
    "found_letters = []\n",
    "for l in matches:\n",
    "    for _ in range(0, len(matches[l])):\n",
    "        found_letters.append(l)\n",
    "print(found_letters)\n",
    "\n",
    "matching_words = []\n",
    "for word in tqdm(words):\n",
    "    if len(word) < min_len or len(word) > max_len:\n",
    "        continue\n",
    "    if wordWorks(word, found_letters):\n",
    "        matching_words.append(word)\n",
    "matching_words = list(sorted(matching_words, key=len, reverse=True))\n",
    "olen = 0\n",
    "for word in matching_words:\n",
    "    if len(word) != olen:\n",
    "        print()\n",
    "        olen = len(word)\n",
    "    print(word, end=\":\")\n",
    "    print(generateMoves(word, matches))"
   ]
  },
  {
   "cell_type": "markdown",
   "id": "5b34958a-1c91-42fe-b76d-d7eab4ef0a5f",
   "metadata": {
    "tags": []
   },
   "source": [
    "# Monkey Test"
   ]
  },
  {
   "cell_type": "code",
   "execution_count": 12,
   "id": "17001056-29cd-4ba9-9fcb-f5c814f8f39d",
   "metadata": {},
   "outputs": [],
   "source": [
    "import socket\n",
    "import subprocess\n",
    "import sys\n",
    "\n",
    "\n",
    "class Monkey:\n",
    "    def __init__(self, create_monkey=True):\n",
    "        self.create_monkey = create_monkey\n",
    "        self.port = 9905\n",
    "        self.p = None\n",
    "\n",
    "    def __enter__(self):\n",
    "        if self.p is not None:\n",
    "            self.p.kill()\n",
    "        adb([\"forward\", \"--remove-all\"])\n",
    "        command = [\"adb\", \"shell\", \"monkey\", f\"--port {self.port}\"]\n",
    "        self.p = shell(command, close_fds=True, returns_POpen=True)\n",
    "        adb(f\"forward tcp:{self.port} tcp:{self.port}\")\n",
    "        time.sleep(0.75)\n",
    "        self.connect()\n",
    "        return self\n",
    "\n",
    "    def connect(self):\n",
    "        HOST = \"127.0.0.1\"\n",
    "        PORT = self.port\n",
    "        self.s = socket.socket(socket.AF_INET, socket.SOCK_STREAM)\n",
    "        self.s.connect((HOST, PORT))\n",
    "\n",
    "    def raw(self, s):\n",
    "        try:\n",
    "            self.s.sendall(f\"{s}\\r\\n\".encode(\"ascii\"))\n",
    "            # return self.s.recv(10)\n",
    "        except Exception as e:\n",
    "            print(\"raw\", e)\n",
    "            self.connect()\n",
    "            return self.raw(s)\n",
    "\n",
    "    def __exit__(self, exc_type, exc_value, exc_traceback):\n",
    "        if self.create_monkey:\n",
    "            self.p.kill()\n",
    "            self.p = None\n",
    "            if self.s is not None:\n",
    "                self.s.close()\n",
    "                self.s = None\n",
    "            print(\"Cleaning up\")\n",
    "            shell([\"adb\", \"forward\", \"--remove-all\"])"
   ]
  },
  {
   "cell_type": "code",
   "execution_count": null,
   "id": "1b705fca-f7b6-44eb-a045-f65326a2f87d",
   "metadata": {},
   "outputs": [],
   "source": []
  },
  {
   "cell_type": "code",
   "execution_count": null,
   "id": "8dbd8f18-0182-4035-a319-0cd6490693ab",
   "metadata": {},
   "outputs": [
    {
     "name": "stdout",
     "output_type": "stream",
     "text": [
      "  bash arg: --port\n",
      "  bash arg: 9905\n"
     ]
    },
    {
     "name": "stderr",
     "output_type": "stream",
     "text": [
      "args: [--port, 9905]\n",
      " arg: \"--port\"\n",
      " arg: \"9905\"\n",
      "arg=\"--port\" mCurArgData=\"null\" mNextArg=1 argwas=\"--port\" nextarg=\"9905\"\n",
      "data=\"9905\"\n"
     ]
    },
    {
     "name": "stdout",
     "output_type": "stream",
     "text": [
      "Error binding to network socket.\n",
      "AddMatch D (363, 1858)\n",
      "AddMatch E (824, 2201)\n",
      "AddMatch I (474, 2172)\n",
      "AddMatch N (922, 1839)\n",
      "['D', 'E', 'I', 'N']\n"
     ]
    },
    {
     "data": {
      "application/vnd.jupyter.widget-view+json": {
       "model_id": "a129df9cf78d40ee9cf1b7a6027415bc",
       "version_major": 2,
       "version_minor": 0
      },
      "text/plain": [
       "  0%|          | 0/370105 [00:00<?, ?it/s]"
      ]
     },
     "metadata": {},
     "output_type": "display_data"
    },
    {
     "name": "stdout",
     "output_type": "stream",
     "text": [
      "DINE\n",
      "[(363, 1858), (474, 2172), (922, 1839), (824, 2201)]\n",
      "touch down 363 1858\n",
      "None\n",
      "touch move 474 2172\n",
      "raw [Errno 32] Broken pipe\n",
      "None\n",
      "touch move 922 1839\n",
      "None\n",
      "touch move 824 2201\n",
      "None\n",
      "touch up 824 2201\n",
      "None\n",
      "ENID\n",
      "[(824, 2201), (922, 1839), (474, 2172), (363, 1858)]\n",
      "touch down 824 2201\n",
      "None\n",
      "touch move 922 1839\n",
      "raw [Errno 32] Broken pipe\n",
      "None\n",
      "touch move 474 2172\n",
      "None\n",
      "touch move 363 1858\n",
      "None\n",
      "touch up 363 1858\n",
      "None\n",
      "INDE\n",
      "[(474, 2172), (922, 1839), (363, 1858), (824, 2201)]\n",
      "touch down 474 2172\n",
      "None\n",
      "touch move 922 1839\n",
      "raw [Errno 32] Broken pipe\n",
      "None\n",
      "touch move 363 1858\n",
      "None\n",
      "touch move 824 2201\n",
      "None\n",
      "touch up 824 2201\n",
      "None\n",
      "NIDE\n",
      "[(922, 1839), (474, 2172), (363, 1858), (824, 2201)]\n",
      "touch down 922 1839\n",
      "None\n",
      "touch move 474 2172\n",
      "raw [Errno 32] Broken pipe\n",
      "None\n",
      "touch move 363 1858\n",
      "None\n",
      "touch move 824 2201\n",
      "None\n",
      "touch up 824 2201\n",
      "None\n",
      "DEI\n",
      "[(363, 1858), (824, 2201), (474, 2172)]\n",
      "touch down 363 1858\n",
      "None\n",
      "touch move 824 2201\n",
      "raw [Errno 32] Broken pipe\n",
      "None\n",
      "touch move 474 2172\n",
      "None\n",
      "touch up 474 2172\n",
      "None\n",
      "DEN\n",
      "[(363, 1858), (824, 2201), (922, 1839)]\n",
      "touch down 363 1858\n",
      "None\n",
      "touch move 824 2201\n",
      "raw [Errno 32] Broken pipe\n",
      "None\n",
      "touch move 922 1839\n",
      "None\n",
      "touch up 922 1839\n",
      "None\n",
      "DIE\n",
      "[(363, 1858), (474, 2172), (824, 2201)]\n",
      "touch down 363 1858\n",
      "None\n",
      "touch move 474 2172\n",
      "raw [Errno 32] Broken pipe\n",
      "None\n",
      "touch move 824 2201\n",
      "None\n",
      "touch up 824 2201\n",
      "None\n"
     ]
    }
   ],
   "source": [
    "with Monkey() as monkey:\n",
    "    matches = a.findMatches()\n",
    "    found_letters = []\n",
    "    for l in matches:\n",
    "        for _ in range(0, len(matches[l])):\n",
    "            found_letters.append(l)\n",
    "    print(found_letters)\n",
    "\n",
    "    matching_words = []\n",
    "    for word in tqdm(words):\n",
    "        if len(word) < min_len or len(word) > max_len:\n",
    "            continue\n",
    "        if wordWorks(word, found_letters):\n",
    "            matching_words.append(word)\n",
    "\n",
    "    plen = 0\n",
    "    matching_words = list(sorted(matching_words, key=len, reverse=True))\n",
    "    for word in matching_words:\n",
    "        print(word)\n",
    "        x = y = 0\n",
    "        path = generateMoves(word, matches)\n",
    "        print(path)\n",
    "        isDown = False\n",
    "        for x, y in path:\n",
    "            if not isDown:\n",
    "                cmd = f\"touch down {int(x)} {int(y)}\"\n",
    "                print(cmd)\n",
    "                print(monkey.raw(cmd))\n",
    "                isDown = True\n",
    "                time.sleep(1)\n",
    "                continue\n",
    "            cmd = f\"touch move {int(x)} {int(y)}\"\n",
    "            print(cmd)\n",
    "            print(monkey.raw(cmd))\n",
    "            time.sleep(0.2)\n",
    "        cmd = f\"touch up {int(x)} {int(y)}\"\n",
    "        print(cmd)\n",
    "        print(monkey.raw(cmd))\n",
    "\n",
    "        time.sleep(1)\n",
    "        sleep(2)"
   ]
  },
  {
   "cell_type": "markdown",
   "id": "bdb9411c-dc89-413b-a628-571f2d0fe32a",
   "metadata": {
    "tags": []
   },
   "source": [
    "# Research\n"
   ]
  },
  {
   "cell_type": "code",
   "execution_count": null,
   "id": "40dfac96-5d10-49ab-9645-e72389929a61",
   "metadata": {},
   "outputs": [],
   "source": [
    "matches"
   ]
  },
  {
   "cell_type": "code",
   "execution_count": null,
   "id": "5bfbea91-901f-4912-b22c-ace37d784fbd",
   "metadata": {},
   "outputs": [],
   "source": [
    "matches[\"T\"][0].center"
   ]
  },
  {
   "cell_type": "code",
   "execution_count": null,
   "id": "ba559bcf-c316-4181-81aa-5968c983dfff",
   "metadata": {},
   "outputs": [],
   "source": [
    "matches[\"N\"][0].center"
   ]
  },
  {
   "cell_type": "markdown",
   "id": "9d5a8fe7-5a0b-49d5-b1f8-f52a88588c9b",
   "metadata": {},
   "source": [
    "shell input touchscreen swipe x1,y1, x2,y2\n",
    "\n",
    "https://github.com/mattwilson1024/android-pattern-unlock/blob/master/unlock.sh"
   ]
  },
  {
   "cell_type": "code",
   "execution_count": null,
   "id": "42b987b5-89b4-4e91-98df-11d518e9d7ce",
   "metadata": {},
   "outputs": [],
   "source": []
  },
  {
   "cell_type": "code",
   "execution_count": null,
   "id": "49e307d0-49c7-4d16-bfa6-bf996e3d28d1",
   "metadata": {},
   "outputs": [],
   "source": [
    "matches = a.findMatches()\n",
    "found_letters = []\n",
    "for l in matches:\n",
    "    for _ in range(0, len(matches[l])):\n",
    "        found_letters.append(l)\n",
    "print(found_letters)\n",
    "\n",
    "matching_words = []\n",
    "for word in tqdm(words):\n",
    "    if len(word) < min_len or len(word) > max_len:\n",
    "        continue\n",
    "    if wordWorks(word, found_letters):\n",
    "        matching_words.append(word)\n",
    "\n",
    "matching_words = list(sorted(matching_words, key=len, reverse=True))\n",
    "matching_words"
   ]
  },
  {
   "cell_type": "code",
   "execution_count": null,
   "id": "297d8f65-bd65-4ce7-a36b-5bc88038882a",
   "metadata": {},
   "outputs": [],
   "source": [
    "def StartTouch():\n",
    "    print(\"d\")\n",
    "    adb(\"shell -c sendevent /dev/input/event3 3 57 14\")\n",
    "\n",
    "\n",
    "def SendCoordinates(x, y):\n",
    "    print(x, y)\n",
    "    adb(f\"shell -c sendevent /dev/input/event3 3 53 {x}\")\n",
    "    adb(f\"shell -c sendevent /dev/input/event3 3 54 {y}\")\n",
    "    adb(\"shell -c sendevent /dev/input/event3 3 58 57\")\n",
    "    adb(\"shell -c endevent /dev/input/event3 0 0 0\")\n",
    "\n",
    "\n",
    "def FinishTouch():\n",
    "    print(\"u\")\n",
    "    adb(\"shell sendevent /dev/input/event3 3 57 4294967295\")\n",
    "    adb(\"shell sendevent /dev/input/event3 0 0 0\")"
   ]
  },
  {
   "cell_type": "code",
   "execution_count": null,
   "id": "60ced464-eb1e-4f8f-8fb7-bc4ecd684b46",
   "metadata": {},
   "outputs": [],
   "source": [
    "plen = 0\n",
    "for word in matching_words:\n",
    "    print(word)\n",
    "    x = y = 0\n",
    "    path = generateMoves(word, matches)\n",
    "    print(path)\n",
    "    isDown = False\n",
    "    for x, y in path:\n",
    "        if not isDown:\n",
    "            StartTouch()\n",
    "            time.sleep(1)\n",
    "            isDown = True\n",
    "        SendCoordinates(int(x), int(y))\n",
    "        time.sleep(0.2)\n",
    "    FinishTouch()\n",
    "    sleep(2)"
   ]
  },
  {
   "cell_type": "code",
   "execution_count": null,
   "id": "750dbf0a-d216-4757-a544-3f504e621937",
   "metadata": {},
   "outputs": [],
   "source": []
  },
  {
   "cell_type": "code",
   "execution_count": null,
   "id": "8cadb9e5-e8a3-4a83-b65e-eae0427bece0",
   "metadata": {},
   "outputs": [],
   "source": []
  },
  {
   "cell_type": "code",
   "execution_count": null,
   "id": "b43f85fa-dd32-4e2d-9518-9de99e219bad",
   "metadata": {},
   "outputs": [],
   "source": []
  }
 ],
 "metadata": {
  "kernelspec": {
   "display_name": "Python 3 (ipykernel)",
   "language": "python",
   "name": "python3"
  },
  "language_info": {
   "codemirror_mode": {
    "name": "ipython",
    "version": 3
   },
   "file_extension": ".py",
   "mimetype": "text/x-python",
   "name": "python",
   "nbconvert_exporter": "python",
   "pygments_lexer": "ipython3",
   "version": "3.10.4"
  },
  "scenes_data": {
   "active_scene": "Default Scene",
   "init_scene": "",
   "scenes": [
    "Default Scene"
   ]
  },
  "widgets": {
   "application/vnd.jupyter.widget-state+json": {
    "state": {
     "0a3bfd3003634811868764f1dd94206e": {
      "model_module": "@jupyter-widgets/base",
      "model_module_version": "1.2.0",
      "model_name": "LayoutModel",
      "state": {}
     },
     "108013a0ad5c4d6c8c0e9fd6a0588071": {
      "model_module": "@jupyter-widgets/controls",
      "model_module_version": "1.5.0",
      "model_name": "FloatProgressModel",
      "state": {
       "bar_style": "success",
       "layout": "IPY_MODEL_87e718dea1f5462287aa7b72a66cc5eb",
       "max": 370105,
       "style": "IPY_MODEL_8f9eae202b494cc2a92ad390c3aab1fa",
       "value": 370105
      }
     },
     "178020bdae7e45728202bfa7887d0dfd": {
      "model_module": "@jupyter-widgets/controls",
      "model_module_version": "1.5.0",
      "model_name": "HTMLModel",
      "state": {
       "layout": "IPY_MODEL_0a3bfd3003634811868764f1dd94206e",
       "style": "IPY_MODEL_405714be09ac4c6b93f1d93f7b12b78d",
       "value": "100%"
      }
     },
     "1caa538aed784ad995d99fe543c5378b": {
      "model_module": "@jupyter-widgets/controls",
      "model_module_version": "1.5.0",
      "model_name": "DescriptionStyleModel",
      "state": {
       "description_width": ""
      }
     },
     "22eb46a9f8e74e94841755d0d468e62e": {
      "model_module": "@jupyter-widgets/controls",
      "model_module_version": "1.5.0",
      "model_name": "DescriptionStyleModel",
      "state": {
       "description_width": ""
      }
     },
     "37d67d7eb48c43ed8068a0bc7ea5fb47": {
      "model_module": "@jupyter-widgets/controls",
      "model_module_version": "1.5.0",
      "model_name": "FloatProgressModel",
      "state": {
       "bar_style": "success",
       "layout": "IPY_MODEL_a7fb33988b8d40df92c33a1f5b1e47d9",
       "max": 370105,
       "style": "IPY_MODEL_a1ef6ce46e9a41aa89d14007b5f3a340",
       "value": 370105
      }
     },
     "3eacff504ce64929a91da3d4de24a8e8": {
      "model_module": "@jupyter-widgets/controls",
      "model_module_version": "1.5.0",
      "model_name": "HTMLModel",
      "state": {
       "layout": "IPY_MODEL_435e74ca26a64a2f81acb01653b2f435",
       "style": "IPY_MODEL_22eb46a9f8e74e94841755d0d468e62e",
       "value": "100%"
      }
     },
     "405714be09ac4c6b93f1d93f7b12b78d": {
      "model_module": "@jupyter-widgets/controls",
      "model_module_version": "1.5.0",
      "model_name": "DescriptionStyleModel",
      "state": {
       "description_width": ""
      }
     },
     "435e74ca26a64a2f81acb01653b2f435": {
      "model_module": "@jupyter-widgets/base",
      "model_module_version": "1.2.0",
      "model_name": "LayoutModel",
      "state": {}
     },
     "5efc6de4767e42159d77f2d26583bfbb": {
      "model_module": "@jupyter-widgets/controls",
      "model_module_version": "1.5.0",
      "model_name": "HTMLModel",
      "state": {
       "layout": "IPY_MODEL_893d7ac065fd4cdca8150b8a77f7bcc6",
       "style": "IPY_MODEL_1caa538aed784ad995d99fe543c5378b",
       "value": " 370105/370105 [00:00&lt;00:00, 957797.61it/s]"
      }
     },
     "76d016d01a674f31ac11e8790631526a": {
      "model_module": "@jupyter-widgets/controls",
      "model_module_version": "1.5.0",
      "model_name": "HTMLModel",
      "state": {
       "layout": "IPY_MODEL_8b609e58d3c44776808ed463923846a0",
       "style": "IPY_MODEL_a9d68ea484454e6897b2c57c71446a06",
       "value": " 370105/370105 [00:00&lt;00:00, 961975.30it/s]"
      }
     },
     "87e718dea1f5462287aa7b72a66cc5eb": {
      "model_module": "@jupyter-widgets/base",
      "model_module_version": "1.2.0",
      "model_name": "LayoutModel",
      "state": {}
     },
     "893d7ac065fd4cdca8150b8a77f7bcc6": {
      "model_module": "@jupyter-widgets/base",
      "model_module_version": "1.2.0",
      "model_name": "LayoutModel",
      "state": {}
     },
     "8b609e58d3c44776808ed463923846a0": {
      "model_module": "@jupyter-widgets/base",
      "model_module_version": "1.2.0",
      "model_name": "LayoutModel",
      "state": {}
     },
     "8bb8a5c1e4ed4dacad1f4705187355c2": {
      "model_module": "@jupyter-widgets/base",
      "model_module_version": "1.2.0",
      "model_name": "LayoutModel",
      "state": {}
     },
     "8f9eae202b494cc2a92ad390c3aab1fa": {
      "model_module": "@jupyter-widgets/controls",
      "model_module_version": "1.5.0",
      "model_name": "ProgressStyleModel",
      "state": {
       "description_width": ""
      }
     },
     "9907ab2138634807a74674d06638170b": {
      "model_module": "@jupyter-widgets/controls",
      "model_module_version": "1.5.0",
      "model_name": "HBoxModel",
      "state": {
       "children": [
        "IPY_MODEL_3eacff504ce64929a91da3d4de24a8e8",
        "IPY_MODEL_108013a0ad5c4d6c8c0e9fd6a0588071",
        "IPY_MODEL_5efc6de4767e42159d77f2d26583bfbb"
       ],
       "layout": "IPY_MODEL_8bb8a5c1e4ed4dacad1f4705187355c2"
      }
     },
     "a129df9cf78d40ee9cf1b7a6027415bc": {
      "model_module": "@jupyter-widgets/controls",
      "model_module_version": "1.5.0",
      "model_name": "HBoxModel",
      "state": {
       "children": [
        "IPY_MODEL_178020bdae7e45728202bfa7887d0dfd",
        "IPY_MODEL_37d67d7eb48c43ed8068a0bc7ea5fb47",
        "IPY_MODEL_76d016d01a674f31ac11e8790631526a"
       ],
       "layout": "IPY_MODEL_c9b8287411e74839ac52a95aa6767df2"
      }
     },
     "a1ef6ce46e9a41aa89d14007b5f3a340": {
      "model_module": "@jupyter-widgets/controls",
      "model_module_version": "1.5.0",
      "model_name": "ProgressStyleModel",
      "state": {
       "description_width": ""
      }
     },
     "a7fb33988b8d40df92c33a1f5b1e47d9": {
      "model_module": "@jupyter-widgets/base",
      "model_module_version": "1.2.0",
      "model_name": "LayoutModel",
      "state": {}
     },
     "a9d68ea484454e6897b2c57c71446a06": {
      "model_module": "@jupyter-widgets/controls",
      "model_module_version": "1.5.0",
      "model_name": "DescriptionStyleModel",
      "state": {
       "description_width": ""
      }
     },
     "c9b8287411e74839ac52a95aa6767df2": {
      "model_module": "@jupyter-widgets/base",
      "model_module_version": "1.2.0",
      "model_name": "LayoutModel",
      "state": {}
     }
    },
    "version_major": 2,
    "version_minor": 0
   }
  }
 },
 "nbformat": 4,
 "nbformat_minor": 5
}
