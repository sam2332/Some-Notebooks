{
 "cells": [
  {
   "cell_type": "code",
   "execution_count": 31,
   "id": "31a5b066-0821-480f-be9f-31f318847e5a",
   "metadata": {},
   "outputs": [],
   "source": [
    "import string\n",
    "from copy import copy\n",
    "\n",
    "from IPython.display import Image, clear_output, display\n",
    "from Libs.Beholder import *\n",
    "from PIL import Image as pilImage\n",
    "from tqdm.notebook import tqdm"
   ]
  },
  {
   "cell_type": "code",
   "execution_count": 32,
   "id": "84cd9576-8ceb-446d-9cba-1f16a80551e8",
   "metadata": {},
   "outputs": [],
   "source": [
    "a = Beholder(videoFrameGenerator=pullPhoneScreen)\n",
    "\n",
    "a.addLayerModifer(\n",
    "    Beholder_Layer_Chopper_Grayscale(name=\"gray\", from_layer=\"image\", enabled=True)\n",
    ")\n",
    "\n",
    "a.addLayerModifer(\n",
    "    Beholder_Layer_Chopper_AtCord(\n",
    "        name=\"gray_letters\",\n",
    "        from_layer=\"gray\",\n",
    "        x=304,\n",
    "        y=1632,\n",
    "        w=850,\n",
    "        h=860,\n",
    "        enabled=True,\n",
    "    )\n",
    ")"
   ]
  },
  {
   "cell_type": "code",
   "execution_count": 33,
   "id": "b4c8631e-1984-4638-923f-141c7eb6b8cb",
   "metadata": {},
   "outputs": [
    {
     "data": {
      "text/plain": [
       "370105"
      ]
     },
     "execution_count": 33,
     "metadata": {},
     "output_type": "execute_result"
    }
   ],
   "source": [
    "from pathlib import Path\n",
    "\n",
    "import requests\n",
    "\n",
    "w = Path(\"words.lst\")\n",
    "if not w.exists():\n",
    "    w.write_bytes(\n",
    "        requests.get(\n",
    "            \"https://raw.githubusercontent.com/MariaLuo826/english_words/master/words_alpha.txt\"\n",
    "        ).content\n",
    "    )\n",
    "words = [l.upper() for l in w.read_text().splitlines()]\n",
    "len(words)"
   ]
  },
  {
   "cell_type": "code",
   "execution_count": 34,
   "id": "561ea48e-1cf5-4bcf-bb92-322b7c4290dd",
   "metadata": {},
   "outputs": [
    {
     "name": "stdout",
     "output_type": "stream",
     "text": [
      "Loading A\n",
      "Loading B\n",
      "Loading C\n",
      "Loading D\n",
      "Loading E\n",
      "Loading F\n",
      "Loading H\n",
      "Loading I\n",
      "Loading L\n",
      "Loading N\n",
      "Loading O\n",
      "Loading P\n",
      "Loading R\n",
      "Loading S\n",
      "Loading T\n",
      "Loading U\n"
     ]
    }
   ],
   "source": [
    "a.matchers = {}\n",
    "for l in string.ascii_uppercase:\n",
    "    p = Path(f\"./wordtrip_templates/{l}.png\")\n",
    "    if p.exists():\n",
    "        print(f\"Loading {l}\")\n",
    "        a.addMatcher(\n",
    "            Beholder_Image_Matcher(\n",
    "                name=l,\n",
    "                layer=\"gray_letters\",\n",
    "                filename=str(p),\n",
    "                threshhold=0.9,\n",
    "                sensitivity=200,\n",
    "            )\n",
    "        )"
   ]
  },
  {
   "cell_type": "code",
   "execution_count": 41,
   "id": "76cd50bb-d053-457d-aeae-321263ad1113",
   "metadata": {},
   "outputs": [
    {
     "data": {
      "text/plain": [
       "['A', 'A', 'D', 'P', 'T']"
      ]
     },
     "execution_count": 41,
     "metadata": {},
     "output_type": "execute_result"
    }
   ],
   "source": [
    "min_len = 3\n",
    "max_len = 5\n",
    "eq_len = None\n",
    "matches = a.findMatches()\n",
    "found_letters = []\n",
    "for l in matches:\n",
    "    for _ in range(0, len(matches[l].f)):\n",
    "        found_letters.append(l)\n",
    "found_letters"
   ]
  },
  {
   "cell_type": "code",
   "execution_count": 42,
   "id": "c7efea93-136e-4ec1-a236-bd0960ec1bac",
   "metadata": {},
   "outputs": [],
   "source": [
    "def wordWorks(word, found_letters):\n",
    "    found_letters_t = copy(found_letters)\n",
    "    for letter in word:\n",
    "        if letter in found_letters_t:\n",
    "            found_letters_t.remove(letter)\n",
    "        else:\n",
    "            return False\n",
    "    return True"
   ]
  },
  {
   "cell_type": "code",
   "execution_count": 43,
   "id": "35977f12-0674-49b3-b385-843ce1496d5f",
   "metadata": {
    "scrolled": true
   },
   "outputs": [
    {
     "data": {
      "application/vnd.jupyter.widget-view+json": {
       "model_id": "c51a8ea49e8440da89870a340b66ebaf",
       "version_major": 2,
       "version_minor": 0
      },
      "text/plain": [
       "  0%|          | 0/370105 [00:00<?, ?it/s]"
      ]
     },
     "metadata": {},
     "output_type": "display_data"
    }
   ],
   "source": [
    "matching_words = []\n",
    "for word in tqdm(words):\n",
    "    if len(word) < min_len or len(word) > max_len:\n",
    "        continue\n",
    "    if wordWorks(word, found_letters):\n",
    "        matching_words.append(word)"
   ]
  },
  {
   "cell_type": "code",
   "execution_count": 44,
   "id": "67f75cac-1495-445f-ab33-568cca037767",
   "metadata": {
    "tags": []
   },
   "outputs": [
    {
     "name": "stdout",
     "output_type": "stream",
     "text": [
      "\n",
      "ADA\n",
      "ADP\n",
      "APA\n",
      "APT\n",
      "ATA\n",
      "DAP\n",
      "DAT\n",
      "DPT\n",
      "PAD\n",
      "PAT\n",
      "PTA\n",
      "TAA\n",
      "TAD\n",
      "TAP\n",
      "TPD\n",
      "\n",
      "ADAT\n",
      "ATAP\n",
      "DATA\n",
      "PATA\n",
      "PATD\n",
      "TAPA\n",
      "\n",
      "ADAPT\n"
     ]
    }
   ],
   "source": [
    "plen = 0\n",
    "for word in list(sorted(matching_words, key=len)):\n",
    "    if plen != len(word):\n",
    "        print()\n",
    "        plen = len(word)\n",
    "    print(word)"
   ]
  },
  {
   "cell_type": "code",
   "execution_count": null,
   "id": "ae31c04f-884a-41f3-8038-763f3241d602",
   "metadata": {},
   "outputs": [],
   "source": []
  },
  {
   "cell_type": "code",
   "execution_count": null,
   "id": "b6b9ddd0-05ea-4e36-87b0-0fe52c0d44fc",
   "metadata": {},
   "outputs": [],
   "source": []
  }
 ],
 "metadata": {
  "kernelspec": {
   "display_name": "Python 3 (ipykernel)",
   "language": "python",
   "name": "python3"
  },
  "language_info": {
   "codemirror_mode": {
    "name": "ipython",
    "version": 3
   },
   "file_extension": ".py",
   "mimetype": "text/x-python",
   "name": "python",
   "nbconvert_exporter": "python",
   "pygments_lexer": "ipython3",
   "version": "3.10.4"
  },
  "scenes_data": {
   "active_scene": "Default Scene",
   "init_scene": "",
   "scenes": [
    "Default Scene"
   ]
  },
  "widgets": {
   "application/vnd.jupyter.widget-state+json": {
    "state": {
     "19a647d65129463bb7f228b1522de749": {
      "model_module": "@jupyter-widgets/base",
      "model_module_version": "1.2.0",
      "model_name": "LayoutModel",
      "state": {}
     },
     "1e2643d02aa9479295259c1be97204e0": {
      "model_module": "@jupyter-widgets/controls",
      "model_module_version": "1.5.0",
      "model_name": "HTMLModel",
      "state": {
       "layout": "IPY_MODEL_78a6559037914ec9a36f2925239615fb",
       "style": "IPY_MODEL_58beef2103e1464f9c26ed730c24de3e",
       "value": "100%"
      }
     },
     "271c46952af34c0e90b770baf297ea46": {
      "model_module": "@jupyter-widgets/base",
      "model_module_version": "1.2.0",
      "model_name": "LayoutModel",
      "state": {}
     },
     "370a43b778684905b8cbc2b1689d93e9": {
      "model_module": "@jupyter-widgets/controls",
      "model_module_version": "1.5.0",
      "model_name": "HTMLModel",
      "state": {
       "layout": "IPY_MODEL_9577198b606a41c5abda27fa10b2cdb9",
       "style": "IPY_MODEL_63ee732ff4d046fdac352aa99b403c99",
       "value": " 370105/370105 [00:00&lt;00:00, 1052843.04it/s]"
      }
     },
     "3db7857ab7f84ffa8e4ea7c4a61ae8ee": {
      "model_module": "@jupyter-widgets/base",
      "model_module_version": "1.2.0",
      "model_name": "LayoutModel",
      "state": {}
     },
     "5075b7527e0b40318b95b82fae66c352": {
      "model_module": "@jupyter-widgets/controls",
      "model_module_version": "1.5.0",
      "model_name": "FloatProgressModel",
      "state": {
       "bar_style": "success",
       "layout": "IPY_MODEL_3db7857ab7f84ffa8e4ea7c4a61ae8ee",
       "max": 370105,
       "style": "IPY_MODEL_534f9bdbc3bd4ef499e843fc6eda3525",
       "value": 370105
      }
     },
     "534f9bdbc3bd4ef499e843fc6eda3525": {
      "model_module": "@jupyter-widgets/controls",
      "model_module_version": "1.5.0",
      "model_name": "ProgressStyleModel",
      "state": {
       "description_width": ""
      }
     },
     "58beef2103e1464f9c26ed730c24de3e": {
      "model_module": "@jupyter-widgets/controls",
      "model_module_version": "1.5.0",
      "model_name": "DescriptionStyleModel",
      "state": {
       "description_width": ""
      }
     },
     "63ee732ff4d046fdac352aa99b403c99": {
      "model_module": "@jupyter-widgets/controls",
      "model_module_version": "1.5.0",
      "model_name": "DescriptionStyleModel",
      "state": {
       "description_width": ""
      }
     },
     "66c0b10f8b364459a04a6df6a90823bc": {
      "model_module": "@jupyter-widgets/controls",
      "model_module_version": "1.5.0",
      "model_name": "HBoxModel",
      "state": {
       "children": [
        "IPY_MODEL_1e2643d02aa9479295259c1be97204e0",
        "IPY_MODEL_a844c609be3d43c7bd9b2345fc24a5d1",
        "IPY_MODEL_e5997d7cb9864d32912c3aaff5fecc71"
       ],
       "layout": "IPY_MODEL_c5c4c294220b4ed39be6386a45546eee"
      }
     },
     "69d0bf415ef34a2bb4b21a5bdc0f6290": {
      "model_module": "@jupyter-widgets/controls",
      "model_module_version": "1.5.0",
      "model_name": "DescriptionStyleModel",
      "state": {
       "description_width": ""
      }
     },
     "78a6559037914ec9a36f2925239615fb": {
      "model_module": "@jupyter-widgets/base",
      "model_module_version": "1.2.0",
      "model_name": "LayoutModel",
      "state": {}
     },
     "90fda0469ff6479695ad329d4a6382cd": {
      "model_module": "@jupyter-widgets/controls",
      "model_module_version": "1.5.0",
      "model_name": "ProgressStyleModel",
      "state": {
       "description_width": ""
      }
     },
     "9577198b606a41c5abda27fa10b2cdb9": {
      "model_module": "@jupyter-widgets/base",
      "model_module_version": "1.2.0",
      "model_name": "LayoutModel",
      "state": {}
     },
     "a844c609be3d43c7bd9b2345fc24a5d1": {
      "model_module": "@jupyter-widgets/controls",
      "model_module_version": "1.5.0",
      "model_name": "FloatProgressModel",
      "state": {
       "bar_style": "success",
       "layout": "IPY_MODEL_aa31fe0d0ce247cc897796f9f4640804",
       "max": 370105,
       "style": "IPY_MODEL_90fda0469ff6479695ad329d4a6382cd",
       "value": 370105
      }
     },
     "aa31fe0d0ce247cc897796f9f4640804": {
      "model_module": "@jupyter-widgets/base",
      "model_module_version": "1.2.0",
      "model_name": "LayoutModel",
      "state": {}
     },
     "ac1eabb514a24f9a937e246639965d38": {
      "model_module": "@jupyter-widgets/controls",
      "model_module_version": "1.5.0",
      "model_name": "DescriptionStyleModel",
      "state": {
       "description_width": ""
      }
     },
     "c51a8ea49e8440da89870a340b66ebaf": {
      "model_module": "@jupyter-widgets/controls",
      "model_module_version": "1.5.0",
      "model_name": "HBoxModel",
      "state": {
       "children": [
        "IPY_MODEL_eb5a0a9b465d4ef486c2ee9df61b7b69",
        "IPY_MODEL_5075b7527e0b40318b95b82fae66c352",
        "IPY_MODEL_370a43b778684905b8cbc2b1689d93e9"
       ],
       "layout": "IPY_MODEL_19a647d65129463bb7f228b1522de749"
      }
     },
     "c5c4c294220b4ed39be6386a45546eee": {
      "model_module": "@jupyter-widgets/base",
      "model_module_version": "1.2.0",
      "model_name": "LayoutModel",
      "state": {}
     },
     "cf0402daf2ee45fcb8505c2aadfa3e63": {
      "model_module": "@jupyter-widgets/base",
      "model_module_version": "1.2.0",
      "model_name": "LayoutModel",
      "state": {}
     },
     "e5997d7cb9864d32912c3aaff5fecc71": {
      "model_module": "@jupyter-widgets/controls",
      "model_module_version": "1.5.0",
      "model_name": "HTMLModel",
      "state": {
       "layout": "IPY_MODEL_cf0402daf2ee45fcb8505c2aadfa3e63",
       "style": "IPY_MODEL_ac1eabb514a24f9a937e246639965d38",
       "value": " 370105/370105 [00:00&lt;00:00, 913819.64it/s]"
      }
     },
     "eb5a0a9b465d4ef486c2ee9df61b7b69": {
      "model_module": "@jupyter-widgets/controls",
      "model_module_version": "1.5.0",
      "model_name": "HTMLModel",
      "state": {
       "layout": "IPY_MODEL_271c46952af34c0e90b770baf297ea46",
       "style": "IPY_MODEL_69d0bf415ef34a2bb4b21a5bdc0f6290",
       "value": "100%"
      }
     }
    },
    "version_major": 2,
    "version_minor": 0
   }
  }
 },
 "nbformat": 4,
 "nbformat_minor": 5
}
