{
 "cells": [
  {
   "cell_type": "code",
   "execution_count": 1,
   "id": "592e9312-8b7f-484d-a902-41d6dc7d6bd3",
   "metadata": {},
   "outputs": [],
   "source": [
    "from Libs.Beholder import *\n",
    "\n",
    "a = Beholder(videoFrameGenerator=pullPhoneScreen)\n",
    "\n",
    "a.addLayerModifer(Beholder_Layer_Chopper_Grayscale(from_layer=\"image\", enabled=True))\n",
    "\n",
    "a.addLayerModifer(\n",
    "    Beholder_Layer_Chopper_AtCord(\n",
    "        name=\"inventory\",\n",
    "        from_layer=\"image_gray\",\n",
    "        x=1903,\n",
    "        y=355,\n",
    "        w=2222 - 1903,\n",
    "        h=905 - 355,\n",
    "        enabled=True,\n",
    "    )\n",
    ")\n",
    "a.addLayerModifer(\n",
    "    Beholder_Layer_Chopper_AtCord(\n",
    "        name=\"Horizon\",\n",
    "        from_layer=\"image\",\n",
    "        x=690,\n",
    "        y=320,\n",
    "        w=1870 - 690,\n",
    "        h=1,\n",
    "        enabled=False,\n",
    "    )\n",
    ")"
   ]
  },
  {
   "cell_type": "raw",
   "id": "14308acf-0c8c-40fc-ab50-73610f1a2b85",
   "metadata": {},
   "source": [
    "a.addLayerModifer(\n",
    "    Beholder_Layer_Chopper_InRange(\n",
    "        name=\"Horizon Enemy Finder\",\n",
    "        from_layer=\"Horizon\",\n",
    "        lbounds=[3, 0, 0],\n",
    "        ubounds=[13, 248, 255],\n",
    "        enabled=False,\n",
    "    )\n",
    ")\n",
    "\n",
    "a.addLayerModifer(\n",
    "    Beholder_Layer_Chopper_PeakExtractor(\n",
    "        name=\"Horizon Enemy Finder Peaks\",\n",
    "        from_layer=\"Horizon Enemy Finder\",\n",
    "        enabled=False,\n",
    "    )\n",
    ")"
   ]
  },
  {
   "cell_type": "code",
   "execution_count": 2,
   "id": "ef097552-2dac-4131-ab47-40f4d15300f0",
   "metadata": {},
   "outputs": [
    {
     "ename": "Exception",
     "evalue": "",
     "output_type": "error",
     "traceback": [
      "\u001b[0;31m---------------------------------------------------------------------------\u001b[0m",
      "\u001b[0;31mException\u001b[0m                                 Traceback (most recent call last)",
      "Input \u001b[0;32mIn [2]\u001b[0m, in \u001b[0;36m<cell line: 1>\u001b[0;34m()\u001b[0m\n\u001b[0;32m----> 1\u001b[0m \u001b[38;5;28;01mraise\u001b[39;00m \u001b[38;5;167;01mException\u001b[39;00m()\n",
      "\u001b[0;31mException\u001b[0m: "
     ]
    }
   ],
   "source": [
    "raise Exception()"
   ]
  },
  {
   "cell_type": "markdown",
   "id": "d5ddee04-cf82-4974-981f-9bb770f3080a",
   "metadata": {
    "tags": []
   },
   "source": [
    "# Auto-Repeat smithing\n"
   ]
  },
  {
   "cell_type": "code",
   "execution_count": 3,
   "id": "a0398e45-5630-4b84-a9fe-f1b3d344b925",
   "metadata": {},
   "outputs": [],
   "source": [
    "a.matchers = {}\n",
    "a.addMatcher(\n",
    "    Beholder_Image_Matcher(\n",
    "        name=\"Button\",\n",
    "        layer=\"image_gray\",\n",
    "        filename=\"./rs3_templates/ui/Begin_project.png\",\n",
    "        convertToGray=True,\n",
    "    )\n",
    ")\n",
    "a.addMatcher(\n",
    "    Beholder_Image_Matcher(\n",
    "        name=\"UnfinishedSmithing\",\n",
    "        layer=\"inventory\",\n",
    "        filename=\"./rs3_templates/inventory/forge_item.png\",\n",
    "    )\n",
    ")\n",
    "a.addMatcher(\n",
    "    Beholder_Image_Matcher(\n",
    "        name=\"FinishedArrow\",\n",
    "        layer=\"image_gray\",\n",
    "        filename=\"./rs3_templates/ui/FinishedArrow.png\",\n",
    "        convertToGray=True,\n",
    "    )\n",
    ")\n",
    "\n",
    "time_since_heat = time.time()\n",
    "time_smithing = time.time()"
   ]
  },
  {
   "cell_type": "code",
   "execution_count": null,
   "id": "e66993e3-5d18-497e-806c-ccec22f05626",
   "metadata": {},
   "outputs": [
    {
     "name": "stdout",
     "output_type": "stream",
     "text": [
      "16:11:49.719584 - tts: starting autosmith\n",
      "16:15:27.740928 - tts: Completed in 289 seconds\n",
      "16:15:41.155832 - tts: starting item\n",
      "16:19:28.531655 - tts: Completed in 238 seconds\n",
      "16:19:41.899173 - tts: starting item\n",
      "16:23:28.865464 - tts: Completed in 237 seconds\n",
      "16:23:40.848359 - tts: starting item\n",
      "16:27:29.996787 - tts: Completed in 238 seconds\n",
      "16:27:43.616961 - tts: starting item\n",
      "16:31:32.594178 - tts: Completed in 239 seconds\n",
      "16:31:45.213911 - tts: starting item\n",
      "16:35:25.524037 - tts: Completed in 230 seconds\n",
      "16:35:38.171934 - tts: starting item\n",
      "16:39:17.946388 - tts: Completed in 230 seconds\n",
      "16:39:31.494551 - tts: starting item\n",
      "16:43:18.055071 - tts: Completed in 237 seconds\n",
      "16:43:31.965607 - tts: starting item\n",
      "16:47:22.145466 - tts: Completed in 241 seconds\n",
      "16:47:35.485993 - tts: starting item\n",
      "16:51:37.868533 - tts: Completed in 253 seconds\n",
      "16:51:49.907201 - tts: starting item\n",
      "16:55:46.348840 - tts: Completed in 245 seconds\n",
      "16:56:00.097758 - tts: starting item\n"
     ]
    }
   ],
   "source": [
    "Button_count = 0\n",
    "Anvil_count = 0\n",
    "tts(\"starting autosmith\")\n",
    "while True:\n",
    "    matches = a.findMatches()\n",
    "    if len(matches) > 0:\n",
    "        if \"UnfinishedSmithing\" in matches:\n",
    "            Button_count = 0\n",
    "            Anvil_count = 0\n",
    "            if time.time() - time_since_heat > 30:\n",
    "                adb(f\"shell input tap 1192 150\")\n",
    "                # tts(\"heat\", volume=0.1)\n",
    "                sleep(5)\n",
    "                adb(f\"shell input tap 1550 525\")\n",
    "                time_since_heat = time.time()\n",
    "            sleep(7)\n",
    "            continue\n",
    "        if \"FinishedArrow\" in matches:\n",
    "            center = matches[\"FinishedArrow\"][0].center\n",
    "            adb(f\"shell input tap {center[0]} {center[1]}\")\n",
    "            tts(f\"Completed in {int(time.time()-time_smithing)} seconds\")\n",
    "            time_smithing = time.time()\n",
    "        if \"Button\" in matches:\n",
    "            if Button_count == 0:\n",
    "                center = matches[\"Button\"][0].center\n",
    "                adb(f\"shell input tap {center[0]} {center[1]}\")\n",
    "                tts(\"starting item\")\n",
    "                Button_count += 1\n",
    "            elif Button_count > 5:\n",
    "                tts(\"Cannot continue smithing. Possible Out of ores\")\n",
    "                a.layers[\"image\"].show()\n",
    "                break\n",
    "            else:\n",
    "                tts(\"Finished, Please select new item you have 20 seconds\")\n",
    "                time.sleep(20)\n",
    "\n",
    "                center = matches[\"Button\"][0].center\n",
    "                adb(f\"shell input tap {center[0]} {center[1]}\")\n",
    "                Button_count += 1\n",
    "\n",
    "    else:\n",
    "        if Anvil_count == 0:\n",
    "            adb(f\"shell input tap 1550 525\")\n",
    "            time_since_heat = 0\n",
    "            Anvil_count += 1\n",
    "        else:\n",
    "            tts(\"Cannot continue smithing. Possible Inventory Scanning Issue\")\n",
    "            a.layers[\"image\"].show()\n",
    "            break\n",
    "    sleep(3.75)\n",
    "tts(\"Cannot Continue\")"
   ]
  },
  {
   "cell_type": "code",
   "execution_count": null,
   "id": "50abb535-561d-4891-9674-b4a85408faa3",
   "metadata": {},
   "outputs": [],
   "source": [
    "tts(\"finish autosmith\")\n",
    "while True:\n",
    "    matches = a.findMatches()\n",
    "    if len(matches) > 0:\n",
    "        if \"UnfinishedSmithing\" not in matches:\n",
    "            break\n",
    "    sleep(3)\n",
    "tts(\"finished\")"
   ]
  },
  {
   "cell_type": "raw",
   "id": "c75a9a44-c65a-478c-ae15-309f7f6c489f",
   "metadata": {},
   "source": [
    "Mith Bolts\n",
    "37.22\n",
    "40.36\n",
    "43.20\n",
    "42.78\n",
    "\n",
    "Addy Bolts\n",
    "56.31\n",
    "48.05\n",
    "44.34\n",
    "\n",
    "Orik Chest Base\n",
    "224.26\n",
    "225.63\n",
    "\n",
    "Orik Chest +1\n",
    "201.15\n",
    "195.45\n",
    "\n",
    "Orik Chest +2\n",
    "464.25\n",
    "381.98\n",
    "254.27\n",
    "\n",
    "Orik Chest Burial\n",
    "150.83\n",
    "156.43\n"
   ]
  },
  {
   "cell_type": "markdown",
   "id": "37f15d77-2500-490e-a14f-dbb3be2b57ec",
   "metadata": {
    "jp-MarkdownHeadingCollapsed": true,
    "tags": []
   },
   "source": [
    "# Auto Smelt Ores"
   ]
  },
  {
   "cell_type": "code",
   "execution_count": null,
   "id": "6653aa80-18c4-4989-a42c-d22cd0d73938",
   "metadata": {},
   "outputs": [],
   "source": [
    "a.matchers = {}\n",
    "\n",
    "a.addMatcher(\n",
    "    Beholder_Image_Matcher(\n",
    "        name=\"close_btb\",\n",
    "        layer=\"gray\",\n",
    "        filename=\"./rs3_templates/ui/crafting_dialog_close_button.png\",\n",
    "        convertToGray=True,\n",
    "    )\n",
    ")\n",
    "a.addMatcher(\n",
    "    Beholder_Image_Matcher(\n",
    "        name=\"Button\",\n",
    "        layer=\"gray\",\n",
    "        filename=\"./rs3_templates/ui/Begin_project.png\",\n",
    "        convertToGray=True,\n",
    "    )\n",
    ")"
   ]
  },
  {
   "cell_type": "code",
   "execution_count": null,
   "id": "1fc469e1-ee31-46de-a9f0-b89995469be6",
   "metadata": {},
   "outputs": [],
   "source": [
    "tts(\"starting auto smelt \")\n",
    "s = time.time()\n",
    "Button_count = 0\n",
    "while True:\n",
    "    matches = a.findMatches()\n",
    "    if len(matches) > 0:\n",
    "        if \"close_btb\" in matches:\n",
    "            Button_count = 0\n",
    "            sleep(5)\n",
    "            continue\n",
    "        else:\n",
    "            if \"Button\" in matches:\n",
    "                if Button_count == 0:\n",
    "                    center = matches[\"Button\"][0].center\n",
    "                    adb(f\"shell input tap {center[0]} {center[1]}\")\n",
    "                    Button_count += 1\n",
    "                    s = time.time()\n",
    "                if Button_count > 3:\n",
    "                    tts(\"Out of Ore Please select new ore type\")\n",
    "                    a.layers[\"image\"].show()\n",
    "                    sleep(15)\n",
    "                else:\n",
    "                    adb(f\"shell input tap 518 1029\")\n",
    "                    Button_count += 1\n",
    "    else:\n",
    "        tts(f\"Fin, {int(time.time()-s)} Seconds.\")\n",
    "        adb(f\"shell input tap 1150 780\")\n",
    "        sleep(3)\n",
    "        adb(f\"shell input tap 518 1029\")\n",
    "    sleep(3)\n",
    "tts(\"Finished\")"
   ]
  },
  {
   "cell_type": "markdown",
   "id": "406d905f-7dc9-4595-8a55-f534b2e5ddfd",
   "metadata": {
    "tags": []
   },
   "source": [
    "# Bolt Featherer\n"
   ]
  },
  {
   "cell_type": "code",
   "execution_count": null,
   "id": "9ae7d8c9-97df-43cb-ab64-ae0e4a504a2f",
   "metadata": {},
   "outputs": [],
   "source": [
    "a.matchers = {}\n",
    "a.addMatcher(\n",
    "    Beholder_Image_Matcher(\n",
    "        name=\"bolts\",\n",
    "        layer=\"gray\",\n",
    "        filename=\"./templates/inventory/addy_bolts.png\",\n",
    "        convertToGray=True,\n",
    "    )\n",
    ")\n",
    "a.addMatcher(\n",
    "    Beholder_Image_Matcher(\n",
    "        name=\"fletch\",\n",
    "        layer=\"gray\",\n",
    "        filename=\"./templates/ui/fletch.png\",\n",
    "        convertToGray=True,\n",
    "    )\n",
    ")\n",
    "a.addMatcher(\n",
    "    Beholder_Image_Matcher(\n",
    "        name=\"close_btb\",\n",
    "        layer=\"gray\",\n",
    "        filename=\"./templates/ui/crafting_dialog_close_button.png\",\n",
    "        convertToGray=True,\n",
    "    )\n",
    ")\n",
    "\n",
    "in_menu = False\n",
    "while True:\n",
    "    matches = a.findMatches()\n",
    "    if len(matches) > 0:\n",
    "        if \"close_btb\" in matches:\n",
    "            print(\"Currently Crafting\")\n",
    "            sleep(2)\n",
    "            continue\n",
    "        if in_menu:\n",
    "            if \"fletch\" in matches:\n",
    "                center = matches[\"fletch\"][0].center\n",
    "                adb(f\"shell input tap {center[0]} {center[1]}\")\n",
    "                in_menu = False\n",
    "        else:\n",
    "            if \"bolts\" in matches:\n",
    "                center = matches[\"bolts\"][0].center\n",
    "                adb(f\"shell input tap {center[0]} {center[1]}\")\n",
    "                in_menu = True\n",
    "    else:\n",
    "        break\n",
    "    sleep(2)\n",
    "tts(\"Cannot Continue\")\n",
    "\n",
    "a.layers[\"image\"].show()"
   ]
  },
  {
   "cell_type": "markdown",
   "id": "f862e728-bba9-4b0c-9ef5-42dd9590ac5a",
   "metadata": {
    "jp-MarkdownHeadingCollapsed": true,
    "tags": []
   },
   "source": [
    "# Mine and store in OreChest/NotePaper/Mining Stamina"
   ]
  },
  {
   "cell_type": "code",
   "execution_count": null,
   "id": "37578f71-ccff-4997-9437-c6c38b117a03",
   "metadata": {},
   "outputs": [],
   "source": [
    "a.matchers = {}\n",
    "a.addMatcher(\n",
    "    Beholder_Image_Matcher(\n",
    "        name=\"paper\",\n",
    "        layer=\"gray\",\n",
    "        filename=\"./rs3_templates/inventory/notepaper.png\",\n",
    "    )\n",
    ")\n",
    "a.addMatcher(\n",
    "    Beholder_Image_Matcher(\n",
    "        name=\"ore\",\n",
    "        layer=\"gray\",\n",
    "        filename=\"./rs3_templates/ore/rune.png\",\n",
    "    )\n",
    ")\n",
    "a.addMatcher(\n",
    "    Beholder_Image_Matcher(\n",
    "        name=\"orebox\", layer=\"gray\", filename=\"./rs3_templates/inventory/box2.png\"\n",
    "    )\n",
    ")\n",
    "\n",
    "s = time.time()\n",
    "ore_box_full = False\n",
    "ob_try = 0\n",
    "start_mining = 0\n",
    "previous_ore_count = 0"
   ]
  },
  {
   "cell_type": "code",
   "execution_count": null,
   "id": "473506c9-e13a-49bf-8a85-f446c4be5db4",
   "metadata": {},
   "outputs": [],
   "source": [
    "tts(\"starting AutoMiner\")\n",
    "while True:\n",
    "    if time.time() - start_mining >= 20:\n",
    "        print(\"reset mining\")\n",
    "        adb(f\"shell input tap 1215 830\")\n",
    "        start_mining = time.time()\n",
    "    matches = a.findMatches()\n",
    "    if len(matches.keys()) > 0:\n",
    "        if \"ore\" in matches:\n",
    "            if previous_ore_count != len(matches[\"ore\"]):\n",
    "                print(f\"{len(matches['ore'])} ores in inventory\")\n",
    "                previous_ore_count = len(matches[\"ore\"])\n",
    "            if len(matches[\"ore\"]) >= 10:\n",
    "\n",
    "                tts(f\"took {int(time.time() - s)} seconds\")\n",
    "                s = time.time()\n",
    "                if not ore_box_full:\n",
    "                    if \"orebox\" in matches:\n",
    "                        tts(\"oreboxing\")\n",
    "                        center = matches[\"orebox\"][0].center\n",
    "                        adb(f\"shell input tap {center[0]} {center[1]}\")\n",
    "                        time.sleep(1)\n",
    "                        matches = a.findMatches()\n",
    "                        if \"ore\" in matches.keys():\n",
    "                            ob_try += 1\n",
    "                            print(\"I think the ore box is full!\")\n",
    "                            if ob_try > 3:\n",
    "                                ore_box_full = True\n",
    "                                tts(\"orebox is full, starting to use paper\")\n",
    "                            continue\n",
    "\n",
    "                        else:\n",
    "                            start_mining = 0\n",
    "                            continue\n",
    "\n",
    "                elif \"ore\" in matches and len(matches[\"ore\"]) > 1:\n",
    "                    tts(\"papering\")\n",
    "                    center = matches[\"ore\"][0].center\n",
    "                    adb(f\"shell input tap {center[0]} {center[1]}\")\n",
    "                    time.sleep(0.5)\n",
    "                    if \"paper\" in matches:\n",
    "                        center = matches[\"paper\"][0].center\n",
    "                        adb(f\"shell input tap {center[0]} {center[1]}\")\n",
    "                        start_mining = 0\n",
    "                        time.sleep(2)\n",
    "                    else:\n",
    "                        print(\"out of paper\")\n",
    "                        tts(\"no more paper\")\n",
    "                        break\n",
    "    if start_mining != 0:\n",
    "        sleep(10)\n",
    "\n",
    "tts(\"Cannot Continue\")\n",
    "\n",
    "a.layers[\"inventory\"].show()"
   ]
  },
  {
   "cell_type": "markdown",
   "id": "76cebd10-c060-4d9c-8aef-11270e1b141b",
   "metadata": {},
   "source": [
    "# Scareb gather - wip"
   ]
  },
  {
   "cell_type": "code",
   "execution_count": null,
   "id": "d9bf3ae6-dcd9-4721-bcc2-e71a5ec06558",
   "metadata": {},
   "outputs": [],
   "source": [
    "a.matchers = {}\n",
    "for i in range(0, 5):\n",
    "    print(i)\n",
    "    a.addMatcher(\n",
    "        Beholder_Image_Matcher(\n",
    "            name=\"bug\",\n",
    "            layer=\"gray\",\n",
    "            filename=f\"./rs3_templates/bug{i}.png\",\n",
    "            convertToGray=True,\n",
    "            threshhold=0.9,\n",
    "        )\n",
    "    )\n",
    "while True:\n",
    "    matches = a.findMatches()\n",
    "    if len(matches) > 0:\n",
    "        print(matches)\n",
    "    print(\".\")\n",
    "tts(\"Cannot Continue\")"
   ]
  },
  {
   "cell_type": "code",
   "execution_count": null,
   "id": "eac5e8ad-a8b3-45b8-b648-92e3bb96e4f4",
   "metadata": {},
   "outputs": [],
   "source": [
    "a.layers"
   ]
  },
  {
   "cell_type": "markdown",
   "id": "b172f295-2e0a-4f77-badf-454cce886859",
   "metadata": {},
   "source": [
    "# Other Stuff"
   ]
  },
  {
   "cell_type": "code",
   "execution_count": null,
   "id": "3fa6c2c0-650c-4338-b852-ddbdc1603fff",
   "metadata": {},
   "outputs": [],
   "source": [
    "time.time() - s"
   ]
  },
  {
   "cell_type": "code",
   "execution_count": null,
   "id": "51f104fb-a98f-458b-aed7-460f1a29e672",
   "metadata": {},
   "outputs": [],
   "source": [
    "447 / 20"
   ]
  },
  {
   "cell_type": "raw",
   "id": "38b330f1-6317-4bc2-a177-b33f66aa0ce8",
   "metadata": {},
   "source": [
    "10 drakocite ore with spirits\n",
    "121.57\n",
    "109.79\n",
    "133.09\n",
    "121.44"
   ]
  },
  {
   "cell_type": "raw",
   "id": "3ec135eb-5770-4402-bdf2-be9d02755470",
   "metadata": {},
   "source": [
    "10 oricahalcite ore \n",
    "223.00 \n",
    "220.85\n",
    "\n",
    "10 oricahalcite with spirits \n",
    "105.44\n",
    "106.17\n",
    "118.04\n",
    "128.71"
   ]
  },
  {
   "cell_type": "code",
   "execution_count": null,
   "id": "78f1b45b-0560-4592-9901-b9b39fc495ce",
   "metadata": {},
   "outputs": [],
   "source": [
    "tts(\"Cannot Continue\")"
   ]
  },
  {
   "cell_type": "raw",
   "id": "7366700a-9923-4b47-acd9-4af435045812",
   "metadata": {},
   "source": [
    "10 rune ore         = 103.64 seconds"
   ]
  },
  {
   "cell_type": "raw",
   "id": "6184c1a8-2c39-4ab3-b0cd-a9cb3a5ae606",
   "metadata": {},
   "source": [
    "10 coal ore         = 47.87 Seconds"
   ]
  },
  {
   "cell_type": "code",
   "execution_count": null,
   "id": "24e2f2e4-edf7-42f9-a472-cc9ce98a5282",
   "metadata": {},
   "outputs": [],
   "source": [
    "a.layer_modifiers[\"Horizon\"].enabled = True\n",
    "a.layer_modifiers[\"Horizon Enemy Finder\"].enabled = True"
   ]
  },
  {
   "cell_type": "code",
   "execution_count": null,
   "id": "f8bb2320-2bfb-4df0-8ea7-58334c6cf3a8",
   "metadata": {},
   "outputs": [],
   "source": [
    "while True:\n",
    "    a.readNextImage()\n",
    "    a.digestImage()\n",
    "\n",
    "    a.layers[\"Horizon Enemy Finder\"].show()"
   ]
  },
  {
   "cell_type": "code",
   "execution_count": null,
   "id": "5c5de991-5e25-47bf-b61f-802cf04e4e93",
   "metadata": {},
   "outputs": [],
   "source": [
    "a.layer_modifiers[\"Horizon\"].enabled = False\n",
    "a.layer_modifiers[\"Horizon Enemy Finder\"].enabled = False"
   ]
  },
  {
   "cell_type": "code",
   "execution_count": null,
   "id": "eba5d7aa-ceb5-4e25-bcb4-9b39e786965e",
   "metadata": {},
   "outputs": [],
   "source": [
    "target_color = (143, 4, 13)\n",
    "tolarance = 75\n",
    "\n",
    "target_info_cords = (460, 546)\n",
    "target_info_color = (17, 42, 50)"
   ]
  },
  {
   "cell_type": "code",
   "execution_count": null,
   "id": "986b3c9d-180d-46d7-8e3f-868044647fff",
   "metadata": {},
   "outputs": [],
   "source": []
  },
  {
   "cell_type": "code",
   "execution_count": null,
   "id": "c2a6a57a-23b3-4884-8774-65fa6354acf2",
   "metadata": {},
   "outputs": [],
   "source": []
  },
  {
   "cell_type": "code",
   "execution_count": null,
   "id": "a625904e-dd39-4d4f-a4b2-f13860b6deb8",
   "metadata": {},
   "outputs": [],
   "source": [
    "a.layers[\"Horizon Enemy Finder\"].show()"
   ]
  },
  {
   "cell_type": "code",
   "execution_count": null,
   "id": "953d25e1-3a71-4765-b6f7-322586f2e86f",
   "metadata": {},
   "outputs": [],
   "source": [
    "a.layers[\"Horizon Enemy Finder\"].show()"
   ]
  },
  {
   "cell_type": "code",
   "execution_count": null,
   "id": "91deb48e-6bab-48f9-b033-6533b46cb016",
   "metadata": {},
   "outputs": [],
   "source": [
    "for item in a.matchers:\n",
    "    print(item.name, item.data.shape)"
   ]
  },
  {
   "cell_type": "code",
   "execution_count": null,
   "id": "3a95a2e7-d30a-4f0e-b494-14e05082f072",
   "metadata": {},
   "outputs": [],
   "source": [
    "matches = a.findMatches()\n",
    "print(matches.keys())"
   ]
  },
  {
   "cell_type": "code",
   "execution_count": null,
   "id": "f7a899cd-ad1b-46b0-993e-26aef28d6096",
   "metadata": {},
   "outputs": [],
   "source": []
  },
  {
   "cell_type": "code",
   "execution_count": null,
   "id": "9bbc537e-4b88-48b2-8de9-8e7ed649ebea",
   "metadata": {},
   "outputs": [],
   "source": []
  },
  {
   "cell_type": "code",
   "execution_count": null,
   "id": "7b0a87f6-0985-4b3a-beed-30ba559a17cb",
   "metadata": {},
   "outputs": [],
   "source": [
    "a.layers[\"gray\"].data.shape"
   ]
  },
  {
   "cell_type": "code",
   "execution_count": null,
   "id": "6abf2ae1-42f0-49db-9c31-a1c4d2f1679f",
   "metadata": {},
   "outputs": [],
   "source": []
  },
  {
   "cell_type": "code",
   "execution_count": null,
   "id": "cbe571c6-fdfb-462a-b5d1-635096ddecfc",
   "metadata": {},
   "outputs": [],
   "source": []
  },
  {
   "cell_type": "code",
   "execution_count": null,
   "id": "457ab48e-f7d0-466c-aced-61f0562a840e",
   "metadata": {},
   "outputs": [],
   "source": []
  },
  {
   "cell_type": "raw",
   "id": "b77a02c8-c121-4951-9498-333320d8f861",
   "metadata": {},
   "source": []
  }
 ],
 "metadata": {
  "kernelspec": {
   "display_name": "Python 3 (ipykernel)",
   "language": "python",
   "name": "python3"
  },
  "language_info": {
   "codemirror_mode": {
    "name": "ipython",
    "version": 3
   },
   "file_extension": ".py",
   "mimetype": "text/x-python",
   "name": "python",
   "nbconvert_exporter": "python",
   "pygments_lexer": "ipython3",
   "version": "3.10.4"
  },
  "scenes_data": {
   "active_scene": "Default Scene",
   "init_scene": "",
   "scenes": [
    "Default Scene"
   ]
  },
  "widgets": {
   "application/vnd.jupyter.widget-state+json": {
    "state": {},
    "version_major": 2,
    "version_minor": 0
   }
  }
 },
 "nbformat": 4,
 "nbformat_minor": 5
}
