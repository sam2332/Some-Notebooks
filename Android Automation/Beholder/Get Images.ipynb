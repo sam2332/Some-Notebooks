{
 "cells": [
  {
   "cell_type": "code",
   "execution_count": 1,
   "id": "901cda6a-e216-4810-9f57-42da4396ed69",
   "metadata": {},
   "outputs": [],
   "source": [
    "import random\n",
    "from pathlib import Path\n",
    "from urllib.parse import unquote\n",
    "\n",
    "import bs4\n",
    "import requests\n",
    "from tqdm.notebook import tqdm"
   ]
  },
  {
   "cell_type": "code",
   "execution_count": 3,
   "id": "d3541e3a-da02-4dbd-8788-6e53dc7fefd4",
   "metadata": {},
   "outputs": [
    {
     "name": "stdout",
     "output_type": "stream",
     "text": [
      "loaded\n",
      "31859 items\n"
     ]
    }
   ],
   "source": [
    "import jsonpickle\n",
    "\n",
    "ic = Path(\"ItemCache.json\")\n",
    "if not ic.exists():\n",
    "    print(\"Performing Index\")\n",
    "    start_url = \"https://runescape.wiki/w/Category:Item_inventory_images\"\n",
    "    scan_list = [start_url]\n",
    "    item_pages = []\n",
    "    broken = []\n",
    "\n",
    "    while len(scan_list) > 0:\n",
    "        item = scan_list.pop(0)\n",
    "        print(item, len(item_pages))\n",
    "        res = requests.get(\n",
    "            item,\n",
    "            headers={\n",
    "                \"User-Agent\": \"Mozilla/5.0 (X11; Linux x86_64) AppleWebKit/537.36 (KHTML, like Gecko) Chrome/105.0.0.0 Safari/537.36\"\n",
    "            },\n",
    "        )\n",
    "        if res.status_code == 200:\n",
    "            soup = bs4.BeautifulSoup(res.text)\n",
    "            for link in soup.find_all(\"a\"):\n",
    "                if link.text == \"next page\":\n",
    "                    scan_list.append(\"https://runescape.wiki\" + link[\"href\"])\n",
    "                    break\n",
    "            for item in soup.find(\"ul\", {\"class\": \"gallery\"}).find_all(\"a\"):\n",
    "                img = item.find(\"img\")\n",
    "                if img is not None:\n",
    "                    item = (item[\"href\"], img.attrs[\"src\"])\n",
    "                    if item not in item_pages:\n",
    "                        item_pages.append(item)\n",
    "                else:\n",
    "                    broken.append(item)\n",
    "    ic.write_text(jsonpickle.encode(item_pages))\n",
    "else:\n",
    "    print(\"Index Loaded\")\n",
    "    item_pages = jsonpickle.decode(ic.read_text())\n",
    "print(len(item_pages), \"items\")"
   ]
  },
  {
   "cell_type": "code",
   "execution_count": 4,
   "id": "248ae883-f920-4a80-bc2b-01d0b9d7ffc1",
   "metadata": {},
   "outputs": [],
   "source": [
    "file_storage = Path(\"templates/wiki_inventory/\")\n",
    "file_storage.mkdir(exist_ok=True)"
   ]
  },
  {
   "cell_type": "code",
   "execution_count": 5,
   "id": "046061f7-ddca-4e6e-bc49-434e89baca04",
   "metadata": {},
   "outputs": [],
   "source": [
    "broken = []"
   ]
  },
  {
   "cell_type": "code",
   "execution_count": null,
   "id": "3cec7ef4-284d-4cb7-98fc-ba0f85c43bcc",
   "metadata": {
    "tags": []
   },
   "outputs": [
    {
     "data": {
      "application/vnd.jupyter.widget-view+json": {
       "model_id": "fbfe6359f6db421296e8e4237cacab1e",
       "version_major": 2,
       "version_minor": 0
      },
      "text/plain": [
       "  0%|          | 0/31859 [00:00<?, ?it/s]"
      ]
     },
     "metadata": {},
     "output_type": "display_data"
    }
   ],
   "source": [
    "with tqdm(total=len(item_pages)) as progress:\n",
    "    for page, file in item_pages:\n",
    "        url = \"https://runescape.wiki\" + page\n",
    "        try:\n",
    "            name = unquote(url.split(\":\")[2].split(\".\")[0]).strip('\"')\n",
    "        except Exception as e:\n",
    "            broken.append((page, file, e))\n",
    "            continue\n",
    "        if type(file) != str:\n",
    "            file = file[\"href\"]\n",
    "        p = Path(file_storage, f\"{name}.png\")\n",
    "        if not p.exists():\n",
    "            progress.set_postfix_str(name)\n",
    "            progress.update()\n",
    "            res = requests.get(\n",
    "                \"https://runescape.wiki\" + file,\n",
    "                timeout=5,\n",
    "                headers={\n",
    "                    \"User-Agent\": \"Mozilla/5.0 (X11; Linux x86_64) AppleWebKit/537.36 (KHTML, like Gecko) Chrome/105.0.0.0 Safari/537.36\"\n",
    "                },\n",
    "            )\n",
    "            p.write_bytes(res.content)\n",
    "            continue\n",
    "        progress.update()\n",
    "print(\"done\")"
   ]
  },
  {
   "cell_type": "code",
   "execution_count": null,
   "id": "d0c2ff98-2878-46ab-ae8a-c171b43ff662",
   "metadata": {},
   "outputs": [],
   "source": [
    "len(broken)"
   ]
  }
 ],
 "metadata": {
  "autoscrollcelloutput": true,
  "kernelspec": {
   "display_name": "Python 3 (ipykernel)",
   "language": "python",
   "name": "python3"
  },
  "language_info": {
   "codemirror_mode": {
    "name": "ipython",
    "version": 3
   },
   "file_extension": ".py",
   "mimetype": "text/x-python",
   "name": "python",
   "nbconvert_exporter": "python",
   "pygments_lexer": "ipython3",
   "version": "3.10.4"
  },
  "scenes_data": {
   "active_scene": "Default Scene",
   "init_scene": "",
   "scenes": [
    "Default Scene"
   ]
  },
  "widgets": {
   "application/vnd.jupyter.widget-state+json": {
    "state": {
     "07dcd4b543c64a1584887913934f3d69": {
      "model_module": "@jupyter-widgets/controls",
      "model_module_version": "1.5.0",
      "model_name": "FloatProgressModel",
      "state": {
       "layout": "IPY_MODEL_3ad5d6269ae3473983a9d944db69bdb1",
       "max": 31859,
       "style": "IPY_MODEL_b54d3f17196d4d48b4dff7935b7ba580",
       "value": 11645
      }
     },
     "0b760e3d7b194b58acec891fe87e412a": {
      "model_module": "@jupyter-widgets/controls",
      "model_module_version": "1.5.0",
      "model_name": "DescriptionStyleModel",
      "state": {
       "description_width": ""
      }
     },
     "0bc2f8c470d84e80af182cd375fbb147": {
      "model_module": "@jupyter-widgets/base",
      "model_module_version": "1.2.0",
      "model_name": "LayoutModel",
      "state": {}
     },
     "17cd32e316ae497ca91f7f9e29ee1181": {
      "model_module": "@jupyter-widgets/controls",
      "model_module_version": "1.5.0",
      "model_name": "ProgressStyleModel",
      "state": {
       "description_width": ""
      }
     },
     "2ca9abc4060741f39a65b68c3db8a0bd": {
      "model_module": "@jupyter-widgets/base",
      "model_module_version": "1.2.0",
      "model_name": "LayoutModel",
      "state": {}
     },
     "384aa12b7f2a42e8926d93fe45aa2193": {
      "model_module": "@jupyter-widgets/base",
      "model_module_version": "1.2.0",
      "model_name": "LayoutModel",
      "state": {}
     },
     "3ad5d6269ae3473983a9d944db69bdb1": {
      "model_module": "@jupyter-widgets/base",
      "model_module_version": "1.2.0",
      "model_name": "LayoutModel",
      "state": {}
     },
     "40f23708bd28471db032a6bf90948c38": {
      "model_module": "@jupyter-widgets/controls",
      "model_module_version": "1.5.0",
      "model_name": "HTMLModel",
      "state": {
       "layout": "IPY_MODEL_c76f8b21352b465cb920becd7d9de12d",
       "style": "IPY_MODEL_5adbf4c2172a4d728e25e25a90319258",
       "value": " 11010/31859 [00:59&lt;23:11, 14.98it/s, Erratic_effigy_(full)]"
      }
     },
     "5adbf4c2172a4d728e25e25a90319258": {
      "model_module": "@jupyter-widgets/controls",
      "model_module_version": "1.5.0",
      "model_name": "DescriptionStyleModel",
      "state": {
       "description_width": ""
      }
     },
     "6bda0f63559d448db5f53d1c61982b8e": {
      "model_module": "@jupyter-widgets/controls",
      "model_module_version": "1.5.0",
      "model_name": "FloatProgressModel",
      "state": {
       "bar_style": "danger",
       "layout": "IPY_MODEL_ab97f375bc8f407a9afe55da2ed6e9fe",
       "max": 31859,
       "style": "IPY_MODEL_17cd32e316ae497ca91f7f9e29ee1181",
       "value": 11010
      }
     },
     "8ae0050d4d674ecb80813d7a77c8ac19": {
      "model_module": "@jupyter-widgets/base",
      "model_module_version": "1.2.0",
      "model_name": "LayoutModel",
      "state": {}
     },
     "9f32bdf2263846469573a75d155e48e8": {
      "model_module": "@jupyter-widgets/base",
      "model_module_version": "1.2.0",
      "model_name": "LayoutModel",
      "state": {}
     },
     "9fcf2798237f4dcc858451e3f325013f": {
      "model_module": "@jupyter-widgets/controls",
      "model_module_version": "1.5.0",
      "model_name": "DescriptionStyleModel",
      "state": {
       "description_width": ""
      }
     },
     "9fcf727916844a8a8236899429e95b8e": {
      "model_module": "@jupyter-widgets/controls",
      "model_module_version": "1.5.0",
      "model_name": "DescriptionStyleModel",
      "state": {
       "description_width": ""
      }
     },
     "ab97f375bc8f407a9afe55da2ed6e9fe": {
      "model_module": "@jupyter-widgets/base",
      "model_module_version": "1.2.0",
      "model_name": "LayoutModel",
      "state": {}
     },
     "ad4b6dc82ac54da4aa7f4cc8379bd481": {
      "model_module": "@jupyter-widgets/controls",
      "model_module_version": "1.5.0",
      "model_name": "HBoxModel",
      "state": {
       "children": [
        "IPY_MODEL_b708194f519d492e889df24e3d6b90e3",
        "IPY_MODEL_6bda0f63559d448db5f53d1c61982b8e",
        "IPY_MODEL_40f23708bd28471db032a6bf90948c38"
       ],
       "layout": "IPY_MODEL_8ae0050d4d674ecb80813d7a77c8ac19"
      }
     },
     "b54d3f17196d4d48b4dff7935b7ba580": {
      "model_module": "@jupyter-widgets/controls",
      "model_module_version": "1.5.0",
      "model_name": "ProgressStyleModel",
      "state": {
       "description_width": ""
      }
     },
     "b708194f519d492e889df24e3d6b90e3": {
      "model_module": "@jupyter-widgets/controls",
      "model_module_version": "1.5.0",
      "model_name": "HTMLModel",
      "state": {
       "layout": "IPY_MODEL_384aa12b7f2a42e8926d93fe45aa2193",
       "style": "IPY_MODEL_9fcf2798237f4dcc858451e3f325013f",
       "value": " 35%"
      }
     },
     "bd453301b7e74e48814dc81dda3fee12": {
      "model_module": "@jupyter-widgets/controls",
      "model_module_version": "1.5.0",
      "model_name": "HTMLModel",
      "state": {
       "layout": "IPY_MODEL_9f32bdf2263846469573a75d155e48e8",
       "style": "IPY_MODEL_9fcf727916844a8a8236899429e95b8e",
       "value": " 11645/31859 [03:48&lt;1:52:55,  2.98it/s, Fez]"
      }
     },
     "c76f8b21352b465cb920becd7d9de12d": {
      "model_module": "@jupyter-widgets/base",
      "model_module_version": "1.2.0",
      "model_name": "LayoutModel",
      "state": {}
     },
     "cfc83621f2fa42569520bc02d90b8e47": {
      "model_module": "@jupyter-widgets/controls",
      "model_module_version": "1.5.0",
      "model_name": "HTMLModel",
      "state": {
       "layout": "IPY_MODEL_2ca9abc4060741f39a65b68c3db8a0bd",
       "style": "IPY_MODEL_0b760e3d7b194b58acec891fe87e412a",
       "value": " 37%"
      }
     },
     "fbfe6359f6db421296e8e4237cacab1e": {
      "model_module": "@jupyter-widgets/controls",
      "model_module_version": "1.5.0",
      "model_name": "HBoxModel",
      "state": {
       "children": [
        "IPY_MODEL_cfc83621f2fa42569520bc02d90b8e47",
        "IPY_MODEL_07dcd4b543c64a1584887913934f3d69",
        "IPY_MODEL_bd453301b7e74e48814dc81dda3fee12"
       ],
       "layout": "IPY_MODEL_0bc2f8c470d84e80af182cd375fbb147"
      }
     }
    },
    "version_major": 2,
    "version_minor": 0
   }
  }
 },
 "nbformat": 4,
 "nbformat_minor": 5
}
