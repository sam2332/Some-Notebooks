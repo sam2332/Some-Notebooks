{
 "cells": [
  {
   "cell_type": "markdown",
   "id": "bdba0486-bd82-45af-be8c-bd153d293e7f",
   "metadata": {},
   "source": [
    "https://stackoverflow.com/questions/10948589/choosing-the-correct-upper-and-lower-hsv-boundaries-for-color-detection-withcv/48367205#48367205"
   ]
  },
  {
   "cell_type": "code",
   "execution_count": null,
   "id": "74d6d88c-3579-4825-a78b-06b1f0ec3af2",
   "metadata": {},
   "outputs": [
    {
     "name": "stdout",
     "output_type": "stream",
     "text": [
      "(hMin = 51 , sMin = 0, vMin = 35), (hMax = 102 , sMax = 208, vMax = 255))"
     ]
    }
   ],
   "source": [
    "from pathlib import Path\n",
    "\n",
    "import cv2\n",
    "import numpy as np\n",
    "\n",
    "\n",
    "def nothing(x):\n",
    "    pass\n",
    "\n",
    "\n",
    "# Load image\n",
    "oimage = cv2.imread(\n",
    "    str(\n",
    "        Path(\n",
    "            \"../game.png\"\n",
    "        ).expanduser()\n",
    "    )\n",
    ")\n",
    "image = cv2.pyrDown(oimage)\n",
    "image = cv2.pyrDown(image)\n",
    "# Create a window\n",
    "cv2.namedWindow(\"image\")\n",
    "\n",
    "\n",
    "# Create trackbars for color change\n",
    "# Hue is from 0-179 for Opencv\n",
    "cv2.createTrackbar(\"pyrDOWN_levels\", \"image\", 3, 4, nothing)\n",
    "cv2.createTrackbar(\"HMin\", \"image\", 0, 179, nothing)\n",
    "cv2.createTrackbar(\"SMin\", \"image\", 0, 255, nothing)\n",
    "cv2.createTrackbar(\"VMin\", \"image\", 0, 255, nothing)\n",
    "cv2.createTrackbar(\"HMax\", \"image\", 0, 179, nothing)\n",
    "cv2.createTrackbar(\"SMax\", \"image\", 0, 255, nothing)\n",
    "cv2.createTrackbar(\"VMax\", \"image\", 0, 255, nothing)\n",
    "\n",
    "# Set default value for Max HSV trackbars\n",
    "cv2.setTrackbarPos(\"HMax\", \"image\", 179)\n",
    "cv2.setTrackbarPos(\"SMax\", \"image\", 255)\n",
    "cv2.setTrackbarPos(\"VMax\", \"image\", 255)\n",
    "\n",
    "# Initialize HSV min/max values\n",
    "hMin = sMin = vMin = hMax = sMax = vMax = 0\n",
    "phMin = psMin = pvMin = phMax = psMax = pvMax = 0\n",
    "\n",
    "while 1:\n",
    "    # Get current positions of all trackbars\n",
    "    pyrDownlevels = cv2.getTrackbarPos(\"pyrDOWN_levels\", \"image\")\n",
    "    hMin = cv2.getTrackbarPos(\"HMin\", \"image\")\n",
    "    sMin = cv2.getTrackbarPos(\"SMin\", \"image\")\n",
    "    vMin = cv2.getTrackbarPos(\"VMin\", \"image\")\n",
    "    hMax = cv2.getTrackbarPos(\"HMax\", \"image\")\n",
    "    sMax = cv2.getTrackbarPos(\"SMax\", \"image\")\n",
    "    vMax = cv2.getTrackbarPos(\"VMax\", \"image\")\n",
    "\n",
    "    # Set minimum and maximum HSV values to display\n",
    "    lower = np.array([hMin, sMin, vMin])\n",
    "    upper = np.array([hMax, sMax, vMax])\n",
    "\n",
    "    image = oimage\n",
    "    for _ in range(0, pyrDownlevels):\n",
    "        image = cv2.pyrDown(image)\n",
    "    # Convert to HSV format and color threshold\n",
    "    hsv = cv2.cvtColor(image, cv2.COLOR_BGR2HSV)\n",
    "    mask = cv2.inRange(hsv, lower, upper)\n",
    "    result = cv2.bitwise_and(image, image, mask=mask)\n",
    "\n",
    "    # Print if there is a change in HSV value\n",
    "    if (\n",
    "        (phMin != hMin)\n",
    "        | (psMin != sMin)\n",
    "        | (pvMin != vMin)\n",
    "        | (phMax != hMax)\n",
    "        | (psMax != sMax)\n",
    "        | (pvMax != vMax)\n",
    "    ):\n",
    "        print(\n",
    "            \"\\r(hMin = %d , sMin = %d, vMin = %d), (hMax = %d , sMax = %d, vMax = %d)\"\n",
    "            % (hMin, sMin, vMin, hMax, sMax, vMax),end=\"\"\n",
    "        )\n",
    "        phMin = hMin\n",
    "        psMin = sMin\n",
    "        pvMin = vMin\n",
    "        phMax = hMax\n",
    "        psMax = sMax\n",
    "        pvMax = vMax\n",
    "\n",
    "    # Display result image\n",
    "    cv2.imshow(\"image\", result)\n",
    "    if cv2.waitKey(10) & 0xFF == ord(\"q\"):\n",
    "        break\n",
    "\n",
    "cv2.destroyAllWindows()"
   ]
  },
  {
   "cell_type": "code",
   "execution_count": null,
   "id": "2a469d32-c6b9-4970-b9c4-38e2b6bd28c7",
   "metadata": {},
   "outputs": [],
   "source": []
  }
 ],
 "metadata": {
  "kernelspec": {
   "display_name": "Python 3 (ipykernel)",
   "language": "python",
   "name": "python3"
  },
  "language_info": {
   "codemirror_mode": {
    "name": "ipython",
    "version": 3
   },
   "file_extension": ".py",
   "mimetype": "text/x-python",
   "name": "python",
   "nbconvert_exporter": "python",
   "pygments_lexer": "ipython3",
   "version": "3.10.4"
  },
  "scenes_data": {
   "active_scene": "Default Scene",
   "init_scene": "",
   "scenes": [
    "Default Scene"
   ]
  },
  "widgets": {
   "application/vnd.jupyter.widget-state+json": {
    "state": {},
    "version_major": 2,
    "version_minor": 0
   }
  }
 },
 "nbformat": 4,
 "nbformat_minor": 5
}
