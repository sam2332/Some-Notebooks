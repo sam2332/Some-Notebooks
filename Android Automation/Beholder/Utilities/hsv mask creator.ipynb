{
 "cells": [
  {
   "cell_type": "markdown",
   "id": "bdba0486-bd82-45af-be8c-bd153d293e7f",
   "metadata": {},
   "source": [
    "https://stackoverflow.com/questions/10948589/choosing-the-correct-upper-and-lower-hsv-boundaries-for-color-detection-withcv/48367205#48367205"
   ]
  },
  {
   "cell_type": "code",
   "execution_count": 4,
   "id": "74d6d88c-3579-4825-a78b-06b1f0ec3af2",
   "metadata": {},
   "outputs": [
    {
     "name": "stdout",
     "output_type": "stream",
     "text": [
      "(hMin = 0 , sMin = 0, vMin = 0), (hMax = 179 , sMax = 255, vMax = 255)\n",
      "(hMin = -1 , sMin = -1, vMin = -1), (hMax = -1 , sMax = -1, vMax = -1)\n"
     ]
    },
    {
     "ename": "error",
     "evalue": "OpenCV(4.5.4) ./modules/highgui/src/window.cpp:868: error: (-215:Assertion failed) trackbar in function 'getTrackbarPos'\n",
     "output_type": "error",
     "traceback": [
      "\u001b[0;31m---------------------------------------------------------------------------\u001b[0m",
      "\u001b[0;31merror\u001b[0m                                     Traceback (most recent call last)",
      "Input \u001b[0;32mIn [4]\u001b[0m, in \u001b[0;36m<cell line: 36>\u001b[0;34m()\u001b[0m\n\u001b[1;32m     34\u001b[0m phMin \u001b[38;5;241m=\u001b[39m psMin \u001b[38;5;241m=\u001b[39m pvMin \u001b[38;5;241m=\u001b[39m phMax \u001b[38;5;241m=\u001b[39m psMax \u001b[38;5;241m=\u001b[39m pvMax \u001b[38;5;241m=\u001b[39m \u001b[38;5;241m0\u001b[39m\n\u001b[1;32m     36\u001b[0m \u001b[38;5;28;01mwhile\u001b[39;00m \u001b[38;5;241m1\u001b[39m:\n\u001b[1;32m     37\u001b[0m     \u001b[38;5;66;03m# Get current positions of all trackbars\u001b[39;00m\n\u001b[0;32m---> 38\u001b[0m     pyrDownlevels \u001b[38;5;241m=\u001b[39m \u001b[43mcv2\u001b[49m\u001b[38;5;241;43m.\u001b[39;49m\u001b[43mgetTrackbarPos\u001b[49m\u001b[43m(\u001b[49m\u001b[38;5;124;43m\"\u001b[39;49m\u001b[38;5;124;43mpyrDOWN_levels\u001b[39;49m\u001b[38;5;124;43m\"\u001b[39;49m\u001b[43m,\u001b[49m\u001b[43m \u001b[49m\u001b[38;5;124;43m\"\u001b[39;49m\u001b[38;5;124;43mimage\u001b[39;49m\u001b[38;5;124;43m\"\u001b[39;49m\u001b[43m)\u001b[49m\n\u001b[1;32m     39\u001b[0m     hMin \u001b[38;5;241m=\u001b[39m cv2\u001b[38;5;241m.\u001b[39mgetTrackbarPos(\u001b[38;5;124m\"\u001b[39m\u001b[38;5;124mHMin\u001b[39m\u001b[38;5;124m\"\u001b[39m, \u001b[38;5;124m\"\u001b[39m\u001b[38;5;124mimage\u001b[39m\u001b[38;5;124m\"\u001b[39m)\n\u001b[1;32m     40\u001b[0m     sMin \u001b[38;5;241m=\u001b[39m cv2\u001b[38;5;241m.\u001b[39mgetTrackbarPos(\u001b[38;5;124m\"\u001b[39m\u001b[38;5;124mSMin\u001b[39m\u001b[38;5;124m\"\u001b[39m, \u001b[38;5;124m\"\u001b[39m\u001b[38;5;124mimage\u001b[39m\u001b[38;5;124m\"\u001b[39m)\n",
      "\u001b[0;31merror\u001b[0m: OpenCV(4.5.4) ./modules/highgui/src/window.cpp:868: error: (-215:Assertion failed) trackbar in function 'getTrackbarPos'\n"
     ]
    }
   ],
   "source": [
    "import cv2\n",
    "import numpy as np\n",
    "\n",
    "\n",
    "def nothing(x):\n",
    "    pass\n",
    "\n",
    "\n",
    "# Load image\n",
    "oimage = cv2.imread(\"../game.png\")\n",
    "image = cv2.pyrDown(oimage)\n",
    "image = cv2.pyrDown(image)\n",
    "# Create a window\n",
    "cv2.namedWindow(\"image\")\n",
    "\n",
    "\n",
    "# Create trackbars for color change\n",
    "# Hue is from 0-179 for Opencv\n",
    "cv2.createTrackbar(\"pyrDOWN_levels\", \"image\", 3, 4, nothing)\n",
    "cv2.createTrackbar(\"HMin\", \"image\", 0, 179, nothing)\n",
    "cv2.createTrackbar(\"SMin\", \"image\", 0, 255, nothing)\n",
    "cv2.createTrackbar(\"VMin\", \"image\", 0, 255, nothing)\n",
    "cv2.createTrackbar(\"HMax\", \"image\", 0, 179, nothing)\n",
    "cv2.createTrackbar(\"SMax\", \"image\", 0, 255, nothing)\n",
    "cv2.createTrackbar(\"VMax\", \"image\", 0, 255, nothing)\n",
    "\n",
    "# Set default value for Max HSV trackbars\n",
    "cv2.setTrackbarPos(\"HMax\", \"image\", 179)\n",
    "cv2.setTrackbarPos(\"SMax\", \"image\", 255)\n",
    "cv2.setTrackbarPos(\"VMax\", \"image\", 255)\n",
    "\n",
    "# Initialize HSV min/max values\n",
    "hMin = sMin = vMin = hMax = sMax = vMax = 0\n",
    "phMin = psMin = pvMin = phMax = psMax = pvMax = 0\n",
    "\n",
    "while 1:\n",
    "    # Get current positions of all trackbars\n",
    "    pyrDownlevels = cv2.getTrackbarPos(\"pyrDOWN_levels\", \"image\")\n",
    "    hMin = cv2.getTrackbarPos(\"HMin\", \"image\")\n",
    "    sMin = cv2.getTrackbarPos(\"SMin\", \"image\")\n",
    "    vMin = cv2.getTrackbarPos(\"VMin\", \"image\")\n",
    "    hMax = cv2.getTrackbarPos(\"HMax\", \"image\")\n",
    "    sMax = cv2.getTrackbarPos(\"SMax\", \"image\")\n",
    "    vMax = cv2.getTrackbarPos(\"VMax\", \"image\")\n",
    "\n",
    "    # Set minimum and maximum HSV values to display\n",
    "    lower = np.array([hMin, sMin, vMin])\n",
    "    upper = np.array([hMax, sMax, vMax])\n",
    "\n",
    "    image = oimage\n",
    "    for _ in range(0, pyrDownlevels):\n",
    "        image = cv2.pyrDown(image)\n",
    "    # Convert to HSV format and color threshold\n",
    "    hsv = cv2.cvtColor(image, cv2.COLOR_BGR2HSV)\n",
    "    mask = cv2.inRange(hsv, lower, upper)\n",
    "    result = cv2.bitwise_and(image, image, mask=mask)\n",
    "\n",
    "    # Print if there is a change in HSV value\n",
    "    if (\n",
    "        (phMin != hMin)\n",
    "        | (psMin != sMin)\n",
    "        | (pvMin != vMin)\n",
    "        | (phMax != hMax)\n",
    "        | (psMax != sMax)\n",
    "        | (pvMax != vMax)\n",
    "    ):\n",
    "        print(\n",
    "            \"(hMin = %d , sMin = %d, vMin = %d), (hMax = %d , sMax = %d, vMax = %d)\"\n",
    "            % (hMin, sMin, vMin, hMax, sMax, vMax)\n",
    "        )\n",
    "        phMin = hMin\n",
    "        psMin = sMin\n",
    "        pvMin = vMin\n",
    "        phMax = hMax\n",
    "        psMax = sMax\n",
    "        pvMax = vMax\n",
    "\n",
    "    # Display result image\n",
    "    cv2.imshow(\"image\", result)\n",
    "    if cv2.waitKey(10) & 0xFF == ord(\"q\"):\n",
    "        break\n",
    "\n",
    "cv2.destroyAllWindows()"
   ]
  },
  {
   "cell_type": "code",
   "execution_count": null,
   "id": "2a469d32-c6b9-4970-b9c4-38e2b6bd28c7",
   "metadata": {},
   "outputs": [],
   "source": []
  }
 ],
 "metadata": {
  "kernelspec": {
   "display_name": "Python 3 (ipykernel)",
   "language": "python",
   "name": "python3"
  },
  "language_info": {
   "codemirror_mode": {
    "name": "ipython",
    "version": 3
   },
   "file_extension": ".py",
   "mimetype": "text/x-python",
   "name": "python",
   "nbconvert_exporter": "python",
   "pygments_lexer": "ipython3",
   "version": "3.10.4"
  },
  "scenes_data": {
   "active_scene": "Default Scene",
   "init_scene": "",
   "scenes": [
    "Default Scene"
   ]
  },
  "widgets": {
   "application/vnd.jupyter.widget-state+json": {
    "state": {},
    "version_major": 2,
    "version_minor": 0
   }
  }
 },
 "nbformat": 4,
 "nbformat_minor": 5
}
