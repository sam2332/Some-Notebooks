{
 "cells": [
  {
   "cell_type": "code",
   "execution_count": 1,
   "id": "f61688a7-e460-4504-8445-7abe8ad104c4",
   "metadata": {},
   "outputs": [],
   "source": [
    "import io\n",
    "import json\n",
    "import os\n",
    "import random\n",
    "import subprocess\n",
    "import time\n",
    "from datetime import datetime\n",
    "from pathlib import Path\n",
    "\n",
    "import numpy\n",
    "import pytesseract\n",
    "from IPython.display import clear_output, display\n",
    "from PIL import Image, ImageDraw, ImageEnhance, ImageFilter\n",
    "from tqdm import tqdm"
   ]
  },
  {
   "cell_type": "code",
   "execution_count": 2,
   "id": "802da14a-8cd8-4a45-b11d-b9f34c38df57",
   "metadata": {},
   "outputs": [],
   "source": [
    "from matplotlib import pyplot as plt"
   ]
  },
  {
   "cell_type": "code",
   "execution_count": 3,
   "id": "77f97c09-8c68-4d34-802f-8f092b099920",
   "metadata": {},
   "outputs": [],
   "source": [
    "def shell(cmd, debug=False, returns_POpen=False, close_fds=False):\n",
    "    if debug:\n",
    "        print(cmd)\n",
    "\n",
    "    if returns_POpen:\n",
    "        process = subprocess.Popen(cmd, close_fds=close_fds)\n",
    "        return process\n",
    "\n",
    "    process = subprocess.run(cmd, stdout=subprocess.PIPE)\n",
    "    return process.stdout.decode(\"utf-8\").strip().splitlines()"
   ]
  },
  {
   "cell_type": "code",
   "execution_count": 4,
   "id": "8486eb3d-190b-45aa-a83c-909a85ab61c3",
   "metadata": {},
   "outputs": [
    {
     "data": {
      "text/plain": [
       "[]"
      ]
     },
     "execution_count": 4,
     "metadata": {},
     "output_type": "execute_result"
    }
   ],
   "source": [
    "def adb(cmd, debug=False, returns_POpen=False, close_fds=False):\n",
    "    # This function runs adb commands on your connected device or emulator.\n",
    "    if type(cmd) == str:\n",
    "        cmd = cmd.split(\" \")\n",
    "    cmd = [\"adb\"] + cmd\n",
    "    return shell(cmd, debug=debug, returns_POpen=returns_POpen, close_fds=close_fds)\n",
    "adb(\"wait-for-device\")"
   ]
  },
  {
   "cell_type": "code",
   "execution_count": 5,
   "id": "90258d41-202e-42f9-9e7e-5b99354b2d6c",
   "metadata": {},
   "outputs": [],
   "source": [
    "def pullPhoneScreen(resize_ratio=None, as_numpy=False, print_times=False):\n",
    "    s = time.time()\n",
    "    adb(\"shell screencap -p /sdcard/screen.png\")\n",
    "    adb(\"pull /sdcard/screen.png ./game.png\")\n",
    "    adb(\"shell rm /sdcard/screen.png\")\n",
    "    im = Image.open(\"game.png\")\n",
    "    im = im.convert(\"RGB\")\n",
    "    if resize_ratio is not None:\n",
    "        im = im.resize(\n",
    "            (int(im.width * resize_ratio), int(im.height * resize_ratio)),\n",
    "            Image.Resampling.LANCZOS,\n",
    "        )\n",
    "    if print_times:\n",
    "        print(\"pull image took \", time.time() - s)\n",
    "    if as_numpy:\n",
    "        return numpy.array(im)\n",
    "    return im"
   ]
  },
  {
   "cell_type": "code",
   "execution_count": 6,
   "id": "f74a8edf-4198-46f0-9fc4-4ead9389116a",
   "metadata": {},
   "outputs": [],
   "source": [
    "def PillowToCv2(img):\n",
    "    img = np.array(img)\n",
    "    im = cv2.cvtColor(img, cv2.COLOR_RGB2BGR)\n",
    "    return im"
   ]
  },
  {
   "cell_type": "code",
   "execution_count": 7,
   "id": "c603a842-6eda-45f2-b19b-0a61fec67284",
   "metadata": {},
   "outputs": [],
   "source": [
    "import cv2\n",
    "import numpy as np"
   ]
  },
  {
   "cell_type": "code",
   "execution_count": 8,
   "id": "33b6dddb-0f2e-4066-9586-4b07f755be42",
   "metadata": {},
   "outputs": [],
   "source": [
    "class Beholder_Layer:\n",
    "    def __init__(self, name, data, offsets=None):\n",
    "        self.offsets = offsets\n",
    "        self.name = name\n",
    "        self.data = data\n",
    "\n",
    "    def show(self):\n",
    "        img = cv2.cvtColor(self.data, cv2.COLOR_BGR2RGB)\n",
    "        display(Image.fromarray(img))\n",
    "\n",
    "    def chop(self, new_name, x, y, h, w):\n",
    "        return Beholder_Layer(\n",
    "            name=new_name, data=self.data[y : y + h, x : x + w], offsets=(x, y)\n",
    "        )"
   ]
  },
  {
   "cell_type": "code",
   "execution_count": 9,
   "id": "ff6cd617-0f20-441b-b37a-4548a76299ba",
   "metadata": {},
   "outputs": [],
   "source": [
    "class Beholder_Layer_Chopper:\n",
    "    def __init__(self, name):\n",
    "        self.name = name\n",
    "\n",
    "    def run(self, bh):\n",
    "        pass"
   ]
  },
  {
   "cell_type": "code",
   "execution_count": 10,
   "id": "eeafe9e5-85ca-46ef-b2c9-80d95c317d88",
   "metadata": {},
   "outputs": [],
   "source": [
    "class Beholder_Matcher:\n",
    "    def __init__(self, label, layer, data):\n",
    "        self.label = label\n",
    "        self.layer = layer\n",
    "        self.data = data"
   ]
  },
  {
   "cell_type": "code",
   "execution_count": 11,
   "id": "0938e497-7499-494e-9431-2a15744f50f6",
   "metadata": {},
   "outputs": [],
   "source": [
    "class Beholder:\n",
    "    def __init__(self, videoFrameGenerator):\n",
    "        self.generator = videoFrameGenerator\n",
    "        self.matchers = []\n",
    "        self.threshhold = 0.95\n",
    "        self.layers = {}\n",
    "        self.layer_modifiers = []\n",
    "\n",
    "    def addLayerModifer(self, ch: Beholder_Layer_Chopper):\n",
    "        self.layer_modifiers.append(ch)\n",
    "\n",
    "    def addDefaultMatcher(self, label, filename, layer=\"gray\", convertToGray=False):\n",
    "        if Path(filename).exists():\n",
    "\n",
    "            img = PillowToCv2(Image.open(filename))\n",
    "            if convertToGray:\n",
    "                img = cv2.cvtColor(img, cv2.COLOR_BGR2GRAY)\n",
    "\n",
    "            self.matchers.append(Beholder_Matcher(label, layer, img))\n",
    "        else:\n",
    "            print(\"File is missing\")\n",
    "\n",
    "    def readNextImage(self):\n",
    "        self.layers[\"image\"] = Beholder_Layer(\n",
    "            name=\"image\", data=PillowToCv2(self.generator())\n",
    "        )\n",
    "\n",
    "    def digestImage(self):\n",
    "        for m in self.layer_modifiers:\n",
    "            try:\n",
    "                self.layers.update(m.run(self))\n",
    "            except Exception as e:\n",
    "                print(e)\n",
    "\n",
    "    def findMatches(self, matchers=None):\n",
    "        if matchers is None:\n",
    "            matchers = self.matchers\n",
    "        self.readNextImage()\n",
    "        self.digestImage()\n",
    "        matches = []\n",
    "        for m in matchers:\n",
    "            try:\n",
    "                result = cv2.matchTemplate(\n",
    "                    self.layers[m.layer].data, m.data, method=cv2.TM_CCOEFF_NORMED\n",
    "                )\n",
    "                min_val, max_val, min_loc, max_loc = cv2.minMaxLoc(result)\n",
    "\n",
    "                if max_val > self.threshhold:\n",
    "                    height, width = m.data.shape[:2]\n",
    "                    layer_offset_y = 0\n",
    "                    layer_offset_x = 0\n",
    "                    if self.layers[m.layer].offsets is not None:\n",
    "                        layer_offset_x, layer_offset_y = self.layers[m.layer].offsets\n",
    "                    top_left = max_loc\n",
    "                    center = (\n",
    "                        (layer_offset_x + top_left[0] + (width / 2)),\n",
    "                        (layer_offset_y + top_left[1] + (height / 2)),\n",
    "                    )\n",
    "                    matches.append((m, center))\n",
    "            except Exception as e:\n",
    "                print(m.label, e)\n",
    "        return matches"
   ]
  },
  {
   "cell_type": "code",
   "execution_count": 12,
   "id": "57103a5f-6f1f-4b98-b1ff-0d394f90e76a",
   "metadata": {},
   "outputs": [],
   "source": [
    "class Beholder_Layer_Chopper_Grayscale(Beholder_Layer_Chopper):\n",
    "    def __init__(self, name, from_layer):\n",
    "        self.name = name\n",
    "        self.from_layer = from_layer\n",
    "\n",
    "    def run(self, bh: Beholder):\n",
    "        o = {}\n",
    "        o[self.name] = Beholder_Layer(\n",
    "            name=self.name,\n",
    "            data=cv2.cvtColor(bh.layers[self.from_layer].data, cv2.COLOR_BGR2GRAY),\n",
    "        )\n",
    "        return o"
   ]
  },
  {
   "cell_type": "code",
   "execution_count": 13,
   "id": "a29704de-7a77-4d4f-80bd-af07ee7111e4",
   "metadata": {},
   "outputs": [],
   "source": [
    "class Beholder_Layer_Tesseract(Beholder_Layer_Chopper):\n",
    "    def __init__(self, name, from_layer):\n",
    "        self.name = name\n",
    "        self.from_layer = from_layer\n",
    "\n",
    "    def run(self, bh: Beholder):\n",
    "        o = {}"
   ]
  },
  {
   "cell_type": "code",
   "execution_count": 14,
   "id": "f4cafc8a-04de-410f-b124-63001d9255b1",
   "metadata": {},
   "outputs": [],
   "source": [
    "class Beholder_Layer_Chopper_AtCord(Beholder_Layer_Chopper):\n",
    "    def __init__(self, name, from_layer, x, y, h, w, extract_text=False):\n",
    "        self.name = name\n",
    "        self.from_layer = from_layer\n",
    "        self.x = x\n",
    "        self.y = y\n",
    "        self.w = w\n",
    "        self.h = h\n",
    "        self.extract_text = extract_text\n",
    "\n",
    "    def run(self, bh: Beholder):\n",
    "        o = {}\n",
    "        o[self.name] = Beholder_Layer(\n",
    "            name=self.name,\n",
    "            data=bh.layers[self.from_layer].data[\n",
    "                self.y : self.y + self.h, self.x : self.x + self.w\n",
    "            ],\n",
    "            offsets=(self.x, self.y),\n",
    "        )\n",
    "        if self.extract_text:\n",
    "            img = Image.fromarray(bh[self.from_layer].data)\n",
    "            img = img.convert(\"L\")  # grayscale\n",
    "            img = img.filter(ImageFilter.MedianFilter())  # a little blur\n",
    "            img = img.point(lambda x: 0 if x < 140 else 255)  # threshold (binarize)\n",
    "\n",
    "            txt = pytesseract.image_to_string(img)\n",
    "            o[f\"{self.name}_Text\"] = txt.splitlines()\n",
    "        return o"
   ]
  },
  {
   "cell_type": "code",
   "execution_count": 15,
   "id": "a98a0d80-8594-41fa-a141-ba2f1bc24efb",
   "metadata": {},
   "outputs": [],
   "source": [
    "a = Beholder(videoFrameGenerator=pullPhoneScreen)"
   ]
  },
  {
   "cell_type": "code",
   "execution_count": 16,
   "id": "356b9d3b-47ea-4871-bbdd-a809ba848242",
   "metadata": {},
   "outputs": [],
   "source": [
    "a.addLayerModifer(Beholder_Layer_Chopper_Grayscale(name=\"gray\", from_layer=\"image\"))"
   ]
  },
  {
   "cell_type": "code",
   "execution_count": 17,
   "id": "5c241ad1-a129-43a7-b32d-25c297cef06e",
   "metadata": {},
   "outputs": [],
   "source": [
    "a.addLayerModifer(\n",
    "    Beholder_Layer_Chopper_AtCord(\n",
    "        name=\"inventory\", from_layer=\"image\", x=1903, y=355, w=2222 - 1903, h=905 - 355\n",
    "    )\n",
    ")"
   ]
  },
  {
   "cell_type": "markdown",
   "id": "d5ddee04-cf82-4974-981f-9bb770f3080a",
   "metadata": {},
   "source": [
    "# Below is Auto-Resmith\n"
   ]
  },
  {
   "cell_type": "code",
   "execution_count": 18,
   "id": "24632e7b-ea32-4125-83d9-c61d4bd68d82",
   "metadata": {},
   "outputs": [],
   "source": [
    "a.addDefaultMatcher(\n",
    "    label=\"Button\",\n",
    "    layer=\"gray\",\n",
    "    filename=\"./templates/Button.png\",\n",
    "    convertToGray=True,\n",
    ")\n",
    "a.addDefaultMatcher(\n",
    "    label=\"UnfinishedSmithing\",\n",
    "    layer=\"inventory\",\n",
    "    filename=\"./templates/forge_item.png\",\n",
    ")\n",
    "a.addDefaultMatcher(\n",
    "    label=\"FinishedArrow\",\n",
    "    layer=\"gray\",\n",
    "    filename=\"./templates/FinishedArrow.png\",\n",
    "    convertToGray=True,\n",
    ")\n",
    "\n",
    "time_since_heat = time.time()\n",
    "\n",
    "while True:\n",
    "    matches = a.findMatches()\n",
    "    if len(matches) > 0:\n",
    "        print(matches[0][0].label, matches[0][1])\n",
    "        if matches[0][0].label == \"UnfinishedSmithing\":\n",
    "            if time_since_heat != 0:\n",
    "                print(int(time.time() - time_since_heat), \" since heating\")\n",
    "            if time.time() - time_since_heat > 30:\n",
    "                print(\"heating\")\n",
    "                adb(f\"shell input tap 1777 447\")\n",
    "                time.sleep(3)\n",
    "                print(\"returning to anvil\")\n",
    "                adb(f\"shell input tap 788 765\")\n",
    "                time_since_heat = time.time()\n",
    "                time.sleep(10)\n",
    "\n",
    "            time.sleep(15)\n",
    "            continue\n",
    "        adb(f\"shell input tap {matches[0][1][0]} {matches[0][1][1]}\")\n",
    "    else:\n",
    "        print(\"opening anvil menu\")\n",
    "        adb(f\"shell input tap 1215 830\")\n",
    "        time_since_heat = 0\n",
    "    time.sleep(3.75)"
   ]
  },
  {
   "cell_type": "markdown",
   "id": "406d905f-7dc9-4595-8a55-f534b2e5ddfd",
   "metadata": {},
   "source": [
    "# Below is Auto Feathers on Bolts"
   ]
  },
  {
   "cell_type": "code",
   "execution_count": 61,
   "id": "7bb58ed7-2ddc-4f49-819c-7e5c7ddc1cf9",
   "metadata": {},
   "outputs": [
    {
     "ename": "KeyboardInterrupt",
     "evalue": "",
     "output_type": "error",
     "traceback": [
      "\u001b[0;31m---------------------------------------------------------------------------\u001b[0m",
      "\u001b[0;31mKeyboardInterrupt\u001b[0m                         Traceback (most recent call last)",
      "Input \u001b[0;32mIn [61]\u001b[0m, in \u001b[0;36m<cell line: 20>\u001b[0;34m()\u001b[0m\n\u001b[1;32m     36\u001b[0m             adb(\u001b[38;5;124mf\u001b[39m\u001b[38;5;124m\"\u001b[39m\u001b[38;5;124mshell input tap \u001b[39m\u001b[38;5;132;01m{\u001b[39;00mcenter[\u001b[38;5;241m0\u001b[39m]\u001b[38;5;132;01m}\u001b[39;00m\u001b[38;5;124m \u001b[39m\u001b[38;5;132;01m{\u001b[39;00mcenter[\u001b[38;5;241m1\u001b[39m]\u001b[38;5;132;01m}\u001b[39;00m\u001b[38;5;124m\"\u001b[39m)\n\u001b[1;32m     37\u001b[0m             in_menu \u001b[38;5;241m=\u001b[39m \u001b[38;5;28;01mFalse\u001b[39;00m\n\u001b[0;32m---> 38\u001b[0m \u001b[43mtime\u001b[49m\u001b[38;5;241;43m.\u001b[39;49m\u001b[43msleep\u001b[49m\u001b[43m(\u001b[49m\u001b[38;5;241;43m2\u001b[39;49m\u001b[43m)\u001b[49m\n",
      "\u001b[0;31mKeyboardInterrupt\u001b[0m: "
     ]
    }
   ],
   "source": [
    "a.addDefaultMatcher(\n",
    "    label=\"bolts\",\n",
    "    layer=\"gray\",\n",
    "    filename=\"./templates/mith_bolts.png\",\n",
    "    convertToGray=True,\n",
    ")\n",
    "a.addDefaultMatcher(\n",
    "    label=\"fletch\",\n",
    "    layer=\"gray\",\n",
    "    filename=\"./templates/fletch.png\",\n",
    "    convertToGray=True,\n",
    ")\n",
    "a.addDefaultMatcher(\n",
    "    label=\"close_btb\",\n",
    "    layer=\"gray\",\n",
    "    filename=\"./templates/crafting_dialog_close_button.png\",\n",
    "    convertToGray=True,\n",
    ")\n",
    "\n",
    "in_menu = False\n",
    "while True:\n",
    "    matches = a.findMatches()\n",
    "    if len(matches) > 0:\n",
    "        if any([m.label == \"close_btb\" for m, c in matches]):\n",
    "            print(\"Currently Crafting\")\n",
    "            time.sleep(2)\n",
    "            continue\n",
    "        match = matches[0][0]\n",
    "        center = matches[0][1]\n",
    "        print(match.label, center)\n",
    "\n",
    "        if in_menu:\n",
    "            if match.label == \"fletch\":\n",
    "                adb(f\"shell input tap {center[0]} {center[1]}\")\n",
    "                in_menu = False\n",
    "        else:\n",
    "            if match.label == \"bolts\":\n",
    "                adb(f\"shell input tap {center[0]} {center[1]}\")\n",
    "                in_menu = True\n",
    "    time.sleep(2)"
   ]
  },
  {
   "cell_type": "code",
   "execution_count": 52,
   "id": "db47e10f-6c10-4d52-a382-9795172b0327",
   "metadata": {},
   "outputs": [
    {
     "name": "stdout",
     "output_type": "stream",
     "text": [
      "image (1080, 2400, 3)\n",
      "gray (1080, 2400)\n",
      "inventory (550, 319, 3)\n"
     ]
    }
   ],
   "source": [
    "a.readNextImage()\n",
    "a.digestImage()\n",
    "for item in a.layers.keys():\n",
    "    print(item, a.layers[item].data.shape)"
   ]
  },
  {
   "cell_type": "code",
   "execution_count": 20,
   "id": "91deb48e-6bab-48f9-b033-6533b46cb016",
   "metadata": {},
   "outputs": [
    {
     "name": "stdout",
     "output_type": "stream",
     "text": [
      "Button (36, 252)\n",
      "UnfinishedSmithing (30, 30, 3)\n",
      "FinishedArrow (54, 110)\n"
     ]
    }
   ],
   "source": [
    "for item in a.matchers:\n",
    "    print(item.label, item.data.shape)"
   ]
  },
  {
   "cell_type": "code",
   "execution_count": null,
   "id": "8a7bd5a1-2a39-454c-a399-921eb8befb8f",
   "metadata": {},
   "outputs": [],
   "source": []
  },
  {
   "cell_type": "code",
   "execution_count": null,
   "id": "3f22203a-bde2-40bc-883d-c0918028fd80",
   "metadata": {},
   "outputs": [],
   "source": []
  }
 ],
 "metadata": {
  "kernelspec": {
   "display_name": "Python 3 (ipykernel)",
   "language": "python",
   "name": "python3"
  },
  "language_info": {
   "codemirror_mode": {
    "name": "ipython",
    "version": 3
   },
   "file_extension": ".py",
   "mimetype": "text/x-python",
   "name": "python",
   "nbconvert_exporter": "python",
   "pygments_lexer": "ipython3",
   "version": "3.10.4"
  },
  "widgets": {
   "application/vnd.jupyter.widget-state+json": {
    "state": {},
    "version_major": 2,
    "version_minor": 0
   }
  }
 },
 "nbformat": 4,
 "nbformat_minor": 5
}
