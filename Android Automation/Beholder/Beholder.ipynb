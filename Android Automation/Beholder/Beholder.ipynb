{
 "cells": [
  {
   "cell_type": "markdown",
   "id": "2ed6bcc1-46f0-49ca-8645-54be06fadc81",
   "metadata": {},
   "source": [
    "# Module"
   ]
  },
  {
   "cell_type": "code",
   "execution_count": null,
   "id": "7c3812ea-871b-4799-8c0c-efd45b370519",
   "metadata": {},
   "outputs": [],
   "source": [
    "import io\n",
    "import json\n",
    "import os\n",
    "import random\n",
    "import subprocess\n",
    "import time\n",
    "from collections import defaultdict\n",
    "from datetime import datetime\n",
    "from pathlib import Path\n",
    "\n",
    "import numpy\n",
    "import pytesseract\n",
    "import requests\n",
    "from IPython.display import clear_output, display\n",
    "from PIL import Image, ImageDraw, ImageEnhance, ImageFilter\n",
    "from tqdm import tqdm"
   ]
  },
  {
   "cell_type": "code",
   "execution_count": null,
   "id": "419466bf-3661-4886-8e5e-c623ee49663b",
   "metadata": {},
   "outputs": [],
   "source": [
    "import pyttsx3\n",
    "\n",
    "tts_engine = pyttsx3.init()\n",
    "tts_engine.setProperty(\"volume\", 0.1)\n",
    "\n",
    "\n",
    "def tts(s):\n",
    "    tts_engine.say(\"BHold \" + s)\n",
    "    tts_engine.runAndWait()\n",
    "\n",
    "\n",
    "tts(\"startup\")"
   ]
  },
  {
   "cell_type": "code",
   "execution_count": null,
   "id": "e6058168-90d8-488f-8fc5-2a9d374cb2ae",
   "metadata": {},
   "outputs": [],
   "source": []
  },
  {
   "cell_type": "code",
   "execution_count": null,
   "id": "c603a842-6eda-45f2-b19b-0a61fec67284",
   "metadata": {},
   "outputs": [],
   "source": [
    "import cv2\n",
    "import numpy as np"
   ]
  },
  {
   "cell_type": "code",
   "execution_count": null,
   "id": "802da14a-8cd8-4a45-b11d-b9f34c38df57",
   "metadata": {},
   "outputs": [],
   "source": [
    "from matplotlib import pyplot as plt"
   ]
  },
  {
   "cell_type": "code",
   "execution_count": null,
   "id": "77f97c09-8c68-4d34-802f-8f092b099920",
   "metadata": {},
   "outputs": [],
   "source": [
    "def shell(cmd, debug=False, returns_POpen=False, close_fds=False):\n",
    "    if debug:\n",
    "        print(cmd)\n",
    "\n",
    "    if returns_POpen:\n",
    "        process = subprocess.Popen(cmd, close_fds=close_fds)\n",
    "        return process\n",
    "\n",
    "    process = subprocess.run(cmd, stdout=subprocess.PIPE)\n",
    "    return process.stdout.decode(\"utf-8\").strip().splitlines()"
   ]
  },
  {
   "cell_type": "code",
   "execution_count": null,
   "id": "6eb97cc4-db33-4a6e-9ecd-c5e72c905e39",
   "metadata": {},
   "outputs": [],
   "source": [
    "def adb(cmd, debug=False, returns_POpen=False, close_fds=False):\n",
    "    # This function runs adb commands on your connected device or emulator.\n",
    "    if type(cmd) == str:\n",
    "        cmd = cmd.split(\" \")\n",
    "    cmd = [\"adb\"] + cmd\n",
    "    return shell(cmd, debug=debug, returns_POpen=returns_POpen, close_fds=close_fds)\n",
    "\n",
    "\n",
    "def TypeTextOnPhone(text):\n",
    "    adb([\"shell\", \"input\", \"text\", text.replace(\" \", \"%s\")])\n",
    "    adb([\"shell\", \"input\", \"keyevent\", \"66\"])"
   ]
  },
  {
   "cell_type": "code",
   "execution_count": null,
   "id": "0cef4d81-75b3-477e-8e01-7dcacdcf3b4f",
   "metadata": {},
   "outputs": [],
   "source": [
    "def sleep(num, print_time=False):\n",
    "    s = random.choice([-1.75, -1, -0.5, 0, 0.5, 0.75, 1])\n",
    "    num += s\n",
    "    if print_time:\n",
    "        print(f\"sleeping for: {num}\")\n",
    "    time.sleep(num)"
   ]
  },
  {
   "cell_type": "code",
   "execution_count": null,
   "id": "90258d41-202e-42f9-9e7e-5b99354b2d6c",
   "metadata": {},
   "outputs": [],
   "source": [
    "def pullPhoneScreen(resize_ratio=None, as_numpy=False, print_times=False):\n",
    "    s = time.time()\n",
    "    adb(\"shell screencap -p /sdcard/screen.png\")\n",
    "    adb(\"pull /sdcard/screen.png ./game.png\")\n",
    "    adb(\"shell rm /sdcard/screen.png\")\n",
    "    im = Image.open(\"game.png\")\n",
    "    im = im.convert(\"RGB\")\n",
    "    if resize_ratio is not None:\n",
    "        im = im.resize(\n",
    "            (int(im.width * resize_ratio), int(im.height * resize_ratio)),\n",
    "            Image.Resampling.LANCZOS,\n",
    "        )\n",
    "    if print_times:\n",
    "        print(\"pull image took \", time.time() - s)\n",
    "    if as_numpy:\n",
    "        return numpy.array(im)\n",
    "    return im"
   ]
  },
  {
   "cell_type": "code",
   "execution_count": null,
   "id": "f74a8edf-4198-46f0-9fc4-4ead9389116a",
   "metadata": {},
   "outputs": [],
   "source": [
    "def PillowToCv2(img):\n",
    "    img = np.array(img)\n",
    "    im = cv2.cvtColor(img, cv2.COLOR_RGB2BGR)\n",
    "    return im"
   ]
  },
  {
   "cell_type": "code",
   "execution_count": null,
   "id": "33b6dddb-0f2e-4066-9586-4b07f755be42",
   "metadata": {},
   "outputs": [],
   "source": [
    "class Beholder_Layer:\n",
    "    def __init__(self, name, data, offsets=None):\n",
    "        self.offsets = offsets\n",
    "        self.name = name\n",
    "        self.data = data\n",
    "\n",
    "    def show(self):\n",
    "        img = cv2.cvtColor(self.data, cv2.COLOR_BGR2RGB)\n",
    "        display(Image.fromarray(img))\n",
    "\n",
    "    def chop(self, new_name, x, y, h, w):\n",
    "        return Beholder_Layer(\n",
    "            name=new_name, data=self.data[y : y + h, x : x + w], offsets=(x, y)\n",
    "        )"
   ]
  },
  {
   "cell_type": "code",
   "execution_count": null,
   "id": "6107fd5d-9034-459a-ab77-7591eb48546a",
   "metadata": {},
   "outputs": [],
   "source": [
    "class Beholder_Layer_Chopper:\n",
    "    def __init__(self, name):\n",
    "        self.name = name\n",
    "\n",
    "    def run(self, bh):\n",
    "        pass"
   ]
  },
  {
   "cell_type": "code",
   "execution_count": null,
   "id": "80312969-9813-4cc5-806a-c3bf5c269138",
   "metadata": {},
   "outputs": [],
   "source": [
    "class Beholder_Matcher:\n",
    "    def __init__(self, name, layer):\n",
    "        pass\n",
    "\n",
    "    def show(self):\n",
    "        img = cv2.cvtColor(self.data, cv2.COLOR_BGR2RGB)\n",
    "        display(Image.fromarray(img))\n",
    "\n",
    "    def __repr__(self):\n",
    "        return f\"Matcher: {self.name}\""
   ]
  },
  {
   "cell_type": "code",
   "execution_count": null,
   "id": "d936e8f1-d881-435e-bc8b-168bcdbb89ee",
   "metadata": {},
   "outputs": [],
   "source": [
    "class Beholder_Image_Matcher(Beholder_Matcher):\n",
    "    def __init__(self, name, layer, threshhold=0.8, convertToGray=True):\n",
    "        self.name = name\n",
    "        self.layer = layer\n",
    "        if Path(filename).exists():\n",
    "\n",
    "            self.data = PillowToCv2(Image.open(filename))\n",
    "            if convertToGray:\n",
    "                self.data = cv2.cvtColor(self.data, cv2.COLOR_BGR2GRAY)\n",
    "\n",
    "            self.matchers[name] = Beholder_Matcher(name, layer, img, threshhold)\n",
    "        else:\n",
    "            print(\"File is missing\")\n",
    "\n",
    "        self.data = data\n",
    "        if threshhold is None:\n",
    "            threshhold = 0.8\n",
    "        self.threshold = threshhold"
   ]
  },
  {
   "cell_type": "code",
   "execution_count": null,
   "id": "8e010fc5-6f87-4ff4-902e-1b8462c38ca5",
   "metadata": {},
   "outputs": [],
   "source": []
  },
  {
   "cell_type": "code",
   "execution_count": null,
   "id": "0938e497-7499-494e-9431-2a15744f50f6",
   "metadata": {},
   "outputs": [],
   "source": [
    "class Beholder:\n",
    "    def __init__(self, videoFrameGenerator):\n",
    "        self.generator = videoFrameGenerator\n",
    "        self.matchers = {}\n",
    "        self.threshhold = 0.95\n",
    "        self.layers = {}\n",
    "        self.layer_modifiers = []\n",
    "\n",
    "    def addLayerModifer(self, ch: Beholder_Layer_Chopper):\n",
    "        self.layer_modifiers.append(ch)\n",
    "\n",
    "    def addMatcher(self, name, m):\n",
    "        self.matchers[name] = m\n",
    "\n",
    "    def readNextImage(self):\n",
    "        self.layers[\"image\"] = Beholder_Layer(\n",
    "            name=\"image\", data=PillowToCv2(self.generator())\n",
    "        )\n",
    "\n",
    "    def digestImage(self):\n",
    "        for m in self.layer_modifiers:\n",
    "            try:\n",
    "                self.layers.update(m.run(self))\n",
    "            except Exception as e:\n",
    "                print(e)\n",
    "\n",
    "    def findMatches(self, matchers=None):\n",
    "        if matchers is None:\n",
    "            matchers = self.matchers\n",
    "        self.readNextImage()\n",
    "        self.digestImage()\n",
    "        matches = defaultdict(list)\n",
    "        for m in matchers:\n",
    "            m = matchers[m]\n",
    "\n",
    "            result = cv2.matchTemplate(\n",
    "                self.layers[m.layer].data, m.data, method=cv2.TM_CCOEFF_NORMED\n",
    "            )\n",
    "            min_val, max_val, min_loc, max_loc = cv2.minMaxLoc(result)\n",
    "\n",
    "            if max_val > self.threshhold:\n",
    "                height, width = m.data.shape[:2]\n",
    "                layer_offset_y = 0\n",
    "                layer_offset_x = 0\n",
    "                if self.layers[m.layer].offsets is not None:\n",
    "                    layer_offset_x, layer_offset_y = self.layers[m.layer].offsets\n",
    "                top_left = max_loc\n",
    "                center = (\n",
    "                    (layer_offset_x + top_left[0] + (width / 2)),\n",
    "                    (layer_offset_y + top_left[1] + (height / 2)),\n",
    "                )\n",
    "\n",
    "                loc = np.where(result >= m.threshold)\n",
    "\n",
    "                f = set()\n",
    "                sensitivity = 60\n",
    "                for pt in zip(*loc[::-1]):\n",
    "                    f.add(\n",
    "                        (\n",
    "                            round(layer_offset_x + pt[0] / sensitivity),\n",
    "                            layer_offset_y + round(pt[1] / sensitivity),\n",
    "                        )\n",
    "                    )\n",
    "\n",
    "                found_count = len(f)\n",
    "                matches[m.name].append((m, center, found_count))\n",
    "\n",
    "        return dict(matches)"
   ]
  },
  {
   "cell_type": "code",
   "execution_count": null,
   "id": "57103a5f-6f1f-4b98-b1ff-0d394f90e76a",
   "metadata": {},
   "outputs": [],
   "source": [
    "class Beholder_Layer_Chopper_Grayscale(Beholder_Layer_Chopper):\n",
    "    def __init__(self, name, from_layer):\n",
    "        self.name = name\n",
    "        self.from_layer = from_layer\n",
    "\n",
    "    def run(self, bh: Beholder):\n",
    "        o = {}\n",
    "        o[self.name] = Beholder_Layer(\n",
    "            name=self.name,\n",
    "            data=cv2.cvtColor(bh.layers[self.from_layer].data, cv2.COLOR_BGR2GRAY),\n",
    "        )\n",
    "        return o"
   ]
  },
  {
   "cell_type": "code",
   "execution_count": null,
   "id": "a29704de-7a77-4d4f-80bd-af07ee7111e4",
   "metadata": {},
   "outputs": [],
   "source": [
    "class Beholder_Layer_TextExtract(Beholder_Layer_Chopper):\n",
    "    def __init__(self, name, from_layer, threshold, from_layer_is_bw):\n",
    "        self.name = name\n",
    "        self.from_layer = from_layer\n",
    "        self.threshold = threshold\n",
    "        self.from_layer_is_bw = from_layer_is_bw\n",
    "\n",
    "    def run(self, bh: Beholder):\n",
    "        o = {}\n",
    "        img = Image.fromarray(bh[self.from_layer].data)\n",
    "        if not from_layer_is_bw:\n",
    "            img = img.convert(\"L\")  # grayscale\n",
    "        img = img.filter(ImageFilter.MedianFilter())  # a little blur\n",
    "        img = img.point(lambda x: 0 if x < 140 else 255)  # threshold (binarize)\n",
    "\n",
    "        txt = pytesseract.image_to_string(img)\n",
    "        o[self.name] = txt.splitlines()"
   ]
  },
  {
   "cell_type": "code",
   "execution_count": 31,
   "id": "04d5d442-7be3-4466-8c37-a377cbeeceb8",
   "metadata": {},
   "outputs": [],
   "source": [
    "class Beholder_Layer_Chopper_AtCord(Beholder_Layer_Chopper):\n",
    "    def __init__(self, name, from_layer, x, y, h, w):\n",
    "        self.name = name\n",
    "        self.from_layer = from_layer\n",
    "        self.x = x\n",
    "        self.y = y\n",
    "        self.w = w\n",
    "        self.h = h\n",
    "\n",
    "    def run(self, bh: Beholder):\n",
    "        o = {}\n",
    "        o[self.name] = Beholder_Layer(\n",
    "            name=self.name,\n",
    "            data=bh.layers[self.from_layer].data[\n",
    "                self.y : self.y + self.h, self.x : self.x + self.w\n",
    "            ],\n",
    "            offsets=(self.x, self.y),\n",
    "        )\n",
    "        return o"
   ]
  },
  {
   "cell_type": "code",
   "execution_count": 32,
   "id": "bd87ae19-b114-40d2-925c-93c32f73a0d7",
   "metadata": {},
   "outputs": [
    {
     "data": {
      "text/plain": [
       "[]"
      ]
     },
     "execution_count": 32,
     "metadata": {},
     "output_type": "execute_result"
    }
   ],
   "source": [
    "adb(\"wait-for-device\")"
   ]
  },
  {
   "cell_type": "code",
   "execution_count": 33,
   "id": "c69ac7c4-c2b7-4e2c-acd5-d806213c3b09",
   "metadata": {},
   "outputs": [],
   "source": [
    "a = Beholder(videoFrameGenerator=pullPhoneScreen)\n",
    "\n",
    "a.addLayerModifer(Beholder_Layer_Chopper_Grayscale(name=\"gray\", from_layer=\"image\"))\n",
    "\n",
    "a.addLayerModifer(\n",
    "    Beholder_Layer_Chopper_AtCord(\n",
    "        name=\"inventory\", from_layer=\"gray\", x=1903, y=355, w=2222 - 1903, h=905 - 355\n",
    "    )\n",
    ")"
   ]
  },
  {
   "cell_type": "code",
   "execution_count": null,
   "id": "ef097552-2dac-4131-ab47-40f4d15300f0",
   "metadata": {},
   "outputs": [],
   "source": [
    "raise Exception()"
   ]
  },
  {
   "cell_type": "markdown",
   "id": "d5ddee04-cf82-4974-981f-9bb770f3080a",
   "metadata": {},
   "source": [
    "# Auto-Repeat smithing\n"
   ]
  },
  {
   "cell_type": "code",
   "execution_count": null,
   "id": "a0398e45-5630-4b84-a9fe-f1b3d344b925",
   "metadata": {},
   "outputs": [],
   "source": [
    "a.matchers = {}\n",
    "a.addMatcher(\n",
    "    Beholder_Image_Matcher(\n",
    "        name=\"Button\",\n",
    "        layer=\"gray\",\n",
    "        filename=\"./templates/ui/Begin_project.png\",\n",
    "        convertToGray=True,\n",
    "    )\n",
    ")\n",
    "a.addMatcher(\n",
    "    Beholder_Image_Matcher(\n",
    "        name=\"UnfinishedSmithing\",\n",
    "        layer=\"inventory\",\n",
    "        filename=\"./templates/inventory/forge_item.png\",\n",
    "    )\n",
    ")\n",
    "a.addMatcher(\n",
    "    Beholder_Image_Matcher(\n",
    "        name=\"FinishedArrow\",\n",
    "        layer=\"gray\",\n",
    "        filename=\"./templates/ui/FinishedArrow.png\",\n",
    "        convertToGray=True,\n",
    "    )\n",
    ")\n",
    "\n",
    "time_since_heat = time.time()\n",
    "time_smithing = time.time()"
   ]
  },
  {
   "cell_type": "code",
   "execution_count": null,
   "id": "e7d67e03-0d37-4423-b359-d205aaa398c3",
   "metadata": {},
   "outputs": [],
   "source": [
    "Button_count = 0\n",
    "Anvil_count = 0\n",
    "tts(\"starting autosmith\")\n",
    "while True:\n",
    "    matches = a.findMatches()\n",
    "    if len(matches) > 0:\n",
    "        if \"UnfinishedSmithing\" in matches:\n",
    "            Button_count = 0\n",
    "            Anvil_count = 0\n",
    "            if time.time() - time_since_heat > 30:\n",
    "                adb(f\"shell input tap 1192 150\")\n",
    "                # tts(\"heating\")\n",
    "                sleep(5)\n",
    "                adb(f\"shell input tap 1550 525\")\n",
    "                time_since_heat = time.time()\n",
    "            sleep(7)\n",
    "            continue\n",
    "        if \"FinishedArrow\" in matches:\n",
    "            center = matches[\"FinishedArrow\"][0][1]\n",
    "            adb(f\"shell input tap {center[0]} {center[1]}\")\n",
    "            print(f\"item took {time.time()-time_smithing} seconds to complete\")\n",
    "            time_smithing = time.time()\n",
    "            sleep(2)\n",
    "        if \"Button\" in matches:\n",
    "            if Button_count == 0:\n",
    "                center = matches[\"Button\"][0][1]\n",
    "                adb(f\"shell input tap {center[0]} {center[1]}\")\n",
    "                tts(\"starting item\")\n",
    "                print(f\"starting new item\")\n",
    "                Button_count += 1\n",
    "            elif Button_count == 1:\n",
    "                tts(\"Finished, Please select new item\")\n",
    "                time.sleep(10)\n",
    "\n",
    "                center = matches[\"Button\"][0][1]\n",
    "                adb(f\"shell input tap {center[0]} {center[1]}\")\n",
    "                tts(\"starting item\")\n",
    "                print(f\"starting new item\")\n",
    "                Button_count += 1\n",
    "            elif Button_count > 5:\n",
    "                print(\"Cannot continue smithing. Possible Out of ores\")\n",
    "                a.layers[\"image\"].show()\n",
    "                break\n",
    "            else:\n",
    "                tts(\"Finished, Please select new item\")\n",
    "                time.sleep(10)\n",
    "\n",
    "                center = matches[\"Button\"][0][1]\n",
    "                adb(f\"shell input tap {center[0]} {center[1]}\")\n",
    "                tts(\"starting item\")\n",
    "                print(f\"starting new item\")\n",
    "                Button_count += 1\n",
    "\n",
    "    else:\n",
    "        if Anvil_count == 0:\n",
    "            print(\"opening anvil menu\")\n",
    "            adb(f\"shell input tap 1550 525\")\n",
    "            time_since_heat = 0\n",
    "            Anvil_count += 1\n",
    "        else:\n",
    "            print(\"Cannot continue smithing. Possible Inventory Scanning Issue\")\n",
    "            a.layers[\"image\"].show()\n",
    "            break\n",
    "    sleep(3.75)\n",
    "tts(\"Cannot Continue\")"
   ]
  },
  {
   "cell_type": "raw",
   "id": "c75a9a44-c65a-478c-ae15-309f7f6c489f",
   "metadata": {},
   "source": [
    "Mith Bolts\n",
    "37.22\n",
    "40.36\n",
    "43.20\n",
    "42.78\n",
    "\n",
    "Addy Bolts\n",
    "56.31\n",
    "48.05\n",
    "44.34\n",
    "\n",
    "Orik Chest Base\n",
    "224.26\n",
    "225.63\n",
    "\n",
    "Orik Chest +1\n",
    "201.15\n",
    "195.45\n",
    "\n",
    "Orik Chest +2\n",
    "464.25\n",
    "381.98\n",
    "254.27\n",
    "\n",
    "Orik Chest Burial\n",
    "150.83\n",
    "156.43\n"
   ]
  },
  {
   "cell_type": "markdown",
   "id": "37f15d77-2500-490e-a14f-dbb3be2b57ec",
   "metadata": {},
   "source": [
    "# Auto Smelt Ores"
   ]
  },
  {
   "cell_type": "code",
   "execution_count": null,
   "id": "82eded89-a21d-4adc-a594-28c7c24e57fb",
   "metadata": {},
   "outputs": [],
   "source": [
    "a.matchers = {}\n",
    "\n",
    "a.addMatcher(\n",
    "    Beholder_Image_Matcher(\n",
    "        name=\"close_btb\",\n",
    "        layer=\"gray\",\n",
    "        filename=\"./templates/ui/crafting_dialog_close_button.png\",\n",
    "        convertToGray=True,\n",
    "    )\n",
    ")\n",
    "a.addMatcher(\n",
    "    Beholder_Image_Matcher(\n",
    "        name=\"Button\",\n",
    "        layer=\"gray\",\n",
    "        filename=\"./templates/ui/Begin_project.png\",\n",
    "        convertToGray=True,\n",
    "    )\n",
    ")\n",
    "Button_count = 0\n",
    "while True:\n",
    "    matches = a.findMatches()\n",
    "    if len(matches) > 0:\n",
    "        if \"close_btb\" in matches:\n",
    "            Button_count = 0\n",
    "            sleep(5)\n",
    "            continue\n",
    "        else:\n",
    "            if \"Button\" in matches:\n",
    "                if Button_count == 0:\n",
    "                    center = matches[\"Button\"][0][1]\n",
    "                    adb(f\"shell input tap {center[0]} {center[1]}\")\n",
    "                    Button_count += 1\n",
    "                    tts(\"new loop\")\n",
    "                else:\n",
    "                    print(\"Cannot continue smelting.\")\n",
    "                    a.layers[\"image\"].show()\n",
    "                    break\n",
    "    else:\n",
    "        adb(f\"shell input tap 1150 780\")\n",
    "        sleep(3)\n",
    "        adb(f\"shell input tap 518 1029\")\n",
    "    sleep(5)\n",
    "tts(\"Cannot Continue\")"
   ]
  },
  {
   "cell_type": "markdown",
   "id": "406d905f-7dc9-4595-8a55-f534b2e5ddfd",
   "metadata": {},
   "source": [
    "# Bolt Featherer\n"
   ]
  },
  {
   "cell_type": "code",
   "execution_count": null,
   "id": "9ae7d8c9-97df-43cb-ab64-ae0e4a504a2f",
   "metadata": {},
   "outputs": [],
   "source": [
    "a.matchers = {}\n",
    "a.addMatcher(\n",
    "    Beholder_Image_Matcher(\n",
    "        name=\"bolts\",\n",
    "        layer=\"gray\",\n",
    "        filename=\"./templates/inventory/addy_bolts.png\",\n",
    "        convertToGray=True,\n",
    "    )\n",
    ")\n",
    "a.addMatcher(\n",
    "    Beholder_Image_Matcher(\n",
    "        name=\"fletch\",\n",
    "        layer=\"gray\",\n",
    "        filename=\"./templates/ui/fletch.png\",\n",
    "        convertToGray=True,\n",
    "    )\n",
    ")\n",
    "a.addMatcher(\n",
    "    Beholder_Image_Matcher(\n",
    "        name=\"close_btb\",\n",
    "        layer=\"gray\",\n",
    "        filename=\"./templates/ui/crafting_dialog_close_button.png\",\n",
    "        convertToGray=True,\n",
    "    )\n",
    ")\n",
    "\n",
    "in_menu = False\n",
    "while True:\n",
    "    matches = a.findMatches()\n",
    "    if len(matches) > 0:\n",
    "        if \"close_btb\" in matches:\n",
    "            print(\"Currently Crafting\")\n",
    "            sleep(2)\n",
    "            continue\n",
    "        if in_menu:\n",
    "            if \"fletch\" in matches:\n",
    "                center = matches[\"fletch\"][0][1]\n",
    "                adb(f\"shell input tap {center[0]} {center[1]}\")\n",
    "                in_menu = False\n",
    "        else:\n",
    "            if \"bolts\" in matches:\n",
    "                center = matches[\"bolts\"][0][1]\n",
    "                adb(f\"shell input tap {center[0]} {center[1]}\")\n",
    "                in_menu = True\n",
    "    else:\n",
    "        break\n",
    "    sleep(2)\n",
    "tts(\"Cannot Continue\")\n",
    "\n",
    "a.layers[\"image\"].show()"
   ]
  },
  {
   "cell_type": "markdown",
   "id": "f862e728-bba9-4b0c-9ef5-42dd9590ac5a",
   "metadata": {},
   "source": [
    "# Mine and store in OreChest/NotePaper/Mining Stamina"
   ]
  },
  {
   "cell_type": "code",
   "execution_count": null,
   "id": "c46eb805-253d-4063-86cb-52bc7d073642",
   "metadata": {},
   "outputs": [],
   "source": [
    "a.matchers = {}\n",
    "a.addMatcher(\n",
    "    Beholder_Image_Matcher(\n",
    "        name=\"paper\",\n",
    "        layer=\"inventory\",\n",
    "        filename=\"./templates/inventory/notepaper.png\",\n",
    "    )\n",
    ")\n",
    "a.addMatcher(\n",
    "    Beholder_Image_Matcher(\n",
    "        name=\"ore\",\n",
    "        layer=\"inventory\",\n",
    "        filename=\"./templates/inventory/ore/rune_inventory.png\",\n",
    "    )\n",
    ")\n",
    "a.addMatcher(\n",
    "    Beholder_Image_Matcher(\n",
    "        name=\"orebox\", layer=\"inventory\", filename=\"./templates/inventory/ore/box2.png\"\n",
    "    )\n",
    ")\n",
    "\n",
    "s = time.time()\n",
    "ore_box_full = False\n",
    "\n",
    "start_mining = 0\n",
    "previous_ore_count = 0\n",
    "tts(\"starting AutoMiner\")\n",
    "while True:\n",
    "    if time.time() - start_mining >= 20:\n",
    "        print(\"reset mining\")\n",
    "        adb(f\"shell input tap 1215 830\")\n",
    "        start_mining = time.time()\n",
    "    matches = a.findMatches()\n",
    "    if len(matches.keys()) > 0:\n",
    "        if \"ore\" in matches:\n",
    "            if previous_ore_count != matches[\"ore\"][0][2]:\n",
    "                print(f\"{matches['ore'][0][2]} ores in inventory\")\n",
    "                previous_ore_count = matches[\"ore\"][0][2]\n",
    "            if matches[\"ore\"][0][2] >= 10:\n",
    "                print(f\"Took {time.time() - s} Seconds to mine 10 ore\")\n",
    "                tts(\"10 c\")\n",
    "                s = time.time()\n",
    "                if not ore_box_full:\n",
    "                    if \"orebox\" in matches:\n",
    "                        print(\"oreboxing\")\n",
    "                        center = matches[\"orebox\"][0][1]\n",
    "                        adb(f\"shell input tap {center[0]} {center[1]}\")\n",
    "                        time.sleep(1)\n",
    "                        matches = a.findMatches()\n",
    "                        if \"ore\" in matches.keys():\n",
    "                            print(\"I think the ore box is full!\")\n",
    "                            ore_box_full = True\n",
    "                            tts(\"o b is full, using paper\")\n",
    "                        else:\n",
    "                            start_mining = 0\n",
    "                            continue\n",
    "\n",
    "                if \"ore\" in matches:\n",
    "                    print(\"papering\")\n",
    "                    center = matches[\"ore\"][0][1]\n",
    "                    adb(f\"shell input tap {center[0]} {center[1]}\")\n",
    "                    time.sleep(0.5)\n",
    "                    center = matches[\"paper\"][0][1]\n",
    "                    adb(f\"shell input tap {center[0]} {center[1]}\")\n",
    "                    start_mining = 0\n",
    "                    time.sleep(2)\n",
    "    if start_mining != 0:\n",
    "        time.sleep(10)\n",
    "\n",
    "tts(\"Cannot Continue\")\n",
    "a.layers[\"image\"].show()\n",
    "# https://runescape.wiki/w/Necronium_bar"
   ]
  },
  {
   "cell_type": "markdown",
   "id": "76cebd10-c060-4d9c-8aef-11270e1b141b",
   "metadata": {},
   "source": [
    "# Scareb gather"
   ]
  },
  {
   "cell_type": "code",
   "execution_count": null,
   "id": "d9bf3ae6-dcd9-4721-bcc2-e71a5ec06558",
   "metadata": {},
   "outputs": [],
   "source": [
    "a.matchers = {}\n",
    "for i in range(0, 5):\n",
    "    print(i)\n",
    "    a.addMatcher(\n",
    "        Beholder_Image_Matcher(\n",
    "            name=\"bug\",\n",
    "            layer=\"gray\",\n",
    "            filename=f\"./templates/bug{i}.png\",\n",
    "            convertToGray=True,\n",
    "            threshhold=0.9,\n",
    "        )\n",
    "    )\n",
    "while True:\n",
    "    matches = a.findMatches()\n",
    "    if len(matches) > 0:\n",
    "        print(matches)\n",
    "    print(\".\")\n",
    "tts(\"Cannot Continue\")"
   ]
  },
  {
   "cell_type": "code",
   "execution_count": null,
   "id": "eac5e8ad-a8b3-45b8-b648-92e3bb96e4f4",
   "metadata": {},
   "outputs": [],
   "source": [
    "a.layers[\"image\"].show()"
   ]
  },
  {
   "cell_type": "markdown",
   "id": "b172f295-2e0a-4f77-badf-454cce886859",
   "metadata": {},
   "source": [
    "# Other Stuff"
   ]
  },
  {
   "cell_type": "code",
   "execution_count": null,
   "id": "3fa6c2c0-650c-4338-b852-ddbdc1603fff",
   "metadata": {},
   "outputs": [],
   "source": [
    "time.time() - s"
   ]
  },
  {
   "cell_type": "code",
   "execution_count": null,
   "id": "51f104fb-a98f-458b-aed7-460f1a29e672",
   "metadata": {},
   "outputs": [],
   "source": [
    "447 / 20"
   ]
  },
  {
   "cell_type": "raw",
   "id": "38b330f1-6317-4bc2-a177-b33f66aa0ce8",
   "metadata": {},
   "source": [
    "10 drakocite ore with spirits\n",
    "121.57\n",
    "109.79\n",
    "133.09\n",
    "121.44"
   ]
  },
  {
   "cell_type": "raw",
   "id": "3ec135eb-5770-4402-bdf2-be9d02755470",
   "metadata": {},
   "source": [
    "10 oricahalcite ore \n",
    "223.00 \n",
    "220.85\n",
    "\n",
    "10 oricahalcite with spirits \n",
    "105.44\n",
    "106.17\n",
    "118.04\n",
    "128.71"
   ]
  },
  {
   "cell_type": "code",
   "execution_count": null,
   "id": "78f1b45b-0560-4592-9901-b9b39fc495ce",
   "metadata": {},
   "outputs": [],
   "source": []
  },
  {
   "cell_type": "raw",
   "id": "7366700a-9923-4b47-acd9-4af435045812",
   "metadata": {},
   "source": [
    "10 rune ore         = 103.64 seconds"
   ]
  },
  {
   "cell_type": "raw",
   "id": "6184c1a8-2c39-4ab3-b0cd-a9cb3a5ae606",
   "metadata": {},
   "source": [
    "10 coal ore         = 47.87 Seconds"
   ]
  },
  {
   "cell_type": "code",
   "execution_count": null,
   "id": "db47e10f-6c10-4d52-a382-9795172b0327",
   "metadata": {},
   "outputs": [],
   "source": [
    "a.readNextImage()\n",
    "a.digestImage()\n",
    "for item in a.layers.keys():\n",
    "    print(item, a.layers[item].data.shape)"
   ]
  },
  {
   "cell_type": "code",
   "execution_count": null,
   "id": "91deb48e-6bab-48f9-b033-6533b46cb016",
   "metadata": {},
   "outputs": [],
   "source": [
    "for item in a.matchers:\n",
    "    print(item.name, item.data.shape)"
   ]
  },
  {
   "cell_type": "code",
   "execution_count": null,
   "id": "3a95a2e7-d30a-4f0e-b494-14e05082f072",
   "metadata": {},
   "outputs": [],
   "source": [
    "matches = a.findMatches()\n",
    "print(matches.keys())"
   ]
  },
  {
   "cell_type": "code",
   "execution_count": null,
   "id": "f7a899cd-ad1b-46b0-993e-26aef28d6096",
   "metadata": {},
   "outputs": [],
   "source": []
  },
  {
   "cell_type": "code",
   "execution_count": null,
   "id": "9bbc537e-4b88-48b2-8de9-8e7ed649ebea",
   "metadata": {},
   "outputs": [],
   "source": []
  },
  {
   "cell_type": "code",
   "execution_count": null,
   "id": "7b0a87f6-0985-4b3a-beed-30ba559a17cb",
   "metadata": {},
   "outputs": [],
   "source": [
    "a.layers[\"gray\"].data.shape"
   ]
  },
  {
   "cell_type": "code",
   "execution_count": null,
   "id": "6abf2ae1-42f0-49db-9c31-a1c4d2f1679f",
   "metadata": {},
   "outputs": [],
   "source": []
  },
  {
   "cell_type": "code",
   "execution_count": null,
   "id": "cbe571c6-fdfb-462a-b5d1-635096ddecfc",
   "metadata": {},
   "outputs": [],
   "source": []
  },
  {
   "cell_type": "code",
   "execution_count": null,
   "id": "457ab48e-f7d0-466c-aced-61f0562a840e",
   "metadata": {},
   "outputs": [],
   "source": []
  },
  {
   "cell_type": "code",
   "execution_count": null,
   "id": "02acda08-d6e1-4a8f-b9ae-075826819779",
   "metadata": {},
   "outputs": [],
   "source": []
  }
 ],
 "metadata": {
  "kernelspec": {
   "display_name": "Python 3 (ipykernel)",
   "language": "python",
   "name": "python3"
  },
  "language_info": {
   "codemirror_mode": {
    "name": "ipython",
    "version": 3
   },
   "file_extension": ".py",
   "mimetype": "text/x-python",
   "name": "python",
   "nbconvert_exporter": "python",
   "pygments_lexer": "ipython3",
   "version": "3.10.4"
  },
  "scenes_data": {
   "active_scene": "Default Scene",
   "init_scene": "",
   "scenes": [
    "Default Scene"
   ]
  },
  "widgets": {
   "application/vnd.jupyter.widget-state+json": {
    "state": {},
    "version_major": 2,
    "version_minor": 0
   }
  }
 },
 "nbformat": 4,
 "nbformat_minor": 5
}
