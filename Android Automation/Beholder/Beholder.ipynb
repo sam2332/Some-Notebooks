{
 "cells": [
  {
   "cell_type": "code",
   "execution_count": 1,
   "id": "f61688a7-e460-4504-8445-7abe8ad104c4",
   "metadata": {},
   "outputs": [],
   "source": [
    "import io\n",
    "import json\n",
    "import os\n",
    "import random\n",
    "import subprocess\n",
    "import time\n",
    "from collections import defaultdict\n",
    "from datetime import datetime\n",
    "from pathlib import Path\n",
    "\n",
    "import numpy\n",
    "import pytesseract\n",
    "from IPython.display import clear_output, display\n",
    "from PIL import Image, ImageDraw, ImageEnhance, ImageFilter\n",
    "from tqdm import tqdm"
   ]
  },
  {
   "cell_type": "code",
   "execution_count": 2,
   "id": "802da14a-8cd8-4a45-b11d-b9f34c38df57",
   "metadata": {},
   "outputs": [],
   "source": [
    "from matplotlib import pyplot as plt"
   ]
  },
  {
   "cell_type": "code",
   "execution_count": 3,
   "id": "77f97c09-8c68-4d34-802f-8f092b099920",
   "metadata": {},
   "outputs": [],
   "source": [
    "def shell(cmd, debug=False, returns_POpen=False, close_fds=False):\n",
    "    if debug:\n",
    "        print(cmd)\n",
    "\n",
    "    if returns_POpen:\n",
    "        process = subprocess.Popen(cmd, close_fds=close_fds)\n",
    "        return process\n",
    "\n",
    "    process = subprocess.run(cmd, stdout=subprocess.PIPE)\n",
    "    return process.stdout.decode(\"utf-8\").strip().splitlines()"
   ]
  },
  {
   "cell_type": "code",
   "execution_count": 4,
   "id": "8486eb3d-190b-45aa-a83c-909a85ab61c3",
   "metadata": {},
   "outputs": [
    {
     "data": {
      "text/plain": [
       "[]"
      ]
     },
     "execution_count": 4,
     "metadata": {},
     "output_type": "execute_result"
    }
   ],
   "source": [
    "def adb(cmd, debug=False, returns_POpen=False, close_fds=False):\n",
    "    # This function runs adb commands on your connected device or emulator.\n",
    "    if type(cmd) == str:\n",
    "        cmd = cmd.split(\" \")\n",
    "    cmd = [\"adb\"] + cmd\n",
    "    return shell(cmd, debug=debug, returns_POpen=returns_POpen, close_fds=close_fds)\n",
    "\n",
    "\n",
    "adb(\"wait-for-device\")"
   ]
  },
  {
   "cell_type": "code",
   "execution_count": 5,
   "id": "90258d41-202e-42f9-9e7e-5b99354b2d6c",
   "metadata": {},
   "outputs": [],
   "source": [
    "def pullPhoneScreen(resize_ratio=None, as_numpy=False, print_times=False):\n",
    "    s = time.time()\n",
    "    adb(\"shell screencap -p /sdcard/screen.png\")\n",
    "    adb(\"pull /sdcard/screen.png ./game.png\")\n",
    "    adb(\"shell rm /sdcard/screen.png\")\n",
    "    im = Image.open(\"game.png\")\n",
    "    im = im.convert(\"RGB\")\n",
    "    if resize_ratio is not None:\n",
    "        im = im.resize(\n",
    "            (int(im.width * resize_ratio), int(im.height * resize_ratio)),\n",
    "            Image.Resampling.LANCZOS,\n",
    "        )\n",
    "    if print_times:\n",
    "        print(\"pull image took \", time.time() - s)\n",
    "    if as_numpy:\n",
    "        return numpy.array(im)\n",
    "    return im"
   ]
  },
  {
   "cell_type": "code",
   "execution_count": 6,
   "id": "f74a8edf-4198-46f0-9fc4-4ead9389116a",
   "metadata": {},
   "outputs": [],
   "source": [
    "def PillowToCv2(img):\n",
    "    img = np.array(img)\n",
    "    im = cv2.cvtColor(img, cv2.COLOR_RGB2BGR)\n",
    "    return im"
   ]
  },
  {
   "cell_type": "code",
   "execution_count": 7,
   "id": "c603a842-6eda-45f2-b19b-0a61fec67284",
   "metadata": {},
   "outputs": [],
   "source": [
    "import cv2\n",
    "import numpy as np"
   ]
  },
  {
   "cell_type": "code",
   "execution_count": 8,
   "id": "33b6dddb-0f2e-4066-9586-4b07f755be42",
   "metadata": {},
   "outputs": [],
   "source": [
    "class Beholder_Layer:\n",
    "    def __init__(self, name, data, offsets=None):\n",
    "        self.offsets = offsets\n",
    "        self.name = name\n",
    "        self.data = data\n",
    "\n",
    "    def show(self):\n",
    "        img = cv2.cvtColor(self.data, cv2.COLOR_BGR2RGB)\n",
    "        display(Image.fromarray(img))\n",
    "\n",
    "    def chop(self, new_name, x, y, h, w):\n",
    "        return Beholder_Layer(\n",
    "            name=new_name, data=self.data[y : y + h, x : x + w], offsets=(x, y)\n",
    "        )"
   ]
  },
  {
   "cell_type": "code",
   "execution_count": 9,
   "id": "ff6cd617-0f20-441b-b37a-4548a76299ba",
   "metadata": {},
   "outputs": [],
   "source": [
    "class Beholder_Layer_Chopper:\n",
    "    def __init__(self, name):\n",
    "        self.name = name\n",
    "\n",
    "    def run(self, bh):\n",
    "        pass"
   ]
  },
  {
   "cell_type": "code",
   "execution_count": 10,
   "id": "d936e8f1-d881-435e-bc8b-168bcdbb89ee",
   "metadata": {},
   "outputs": [],
   "source": [
    "class Beholder_Matcher:\n",
    "    def __init__(self, name, layer, data):\n",
    "        self.name = name\n",
    "        self.layer = layer\n",
    "        self.data = data\n",
    "\n",
    "    def show(self):\n",
    "        img = cv2.cvtColor(self.data, cv2.COLOR_BGR2RGB)\n",
    "        display(Image.fromarray(img))\n",
    "\n",
    "    def __repr__(self):\n",
    "        return f\"BW: {self.name}\""
   ]
  },
  {
   "cell_type": "code",
   "execution_count": null,
   "id": "8e010fc5-6f87-4ff4-902e-1b8462c38ca5",
   "metadata": {},
   "outputs": [],
   "source": []
  },
  {
   "cell_type": "code",
   "execution_count": 11,
   "id": "0938e497-7499-494e-9431-2a15744f50f6",
   "metadata": {},
   "outputs": [],
   "source": [
    "class Beholder:\n",
    "    def __init__(self, videoFrameGenerator):\n",
    "        self.generator = videoFrameGenerator\n",
    "        self.matchers = {}\n",
    "        self.threshhold = 0.95\n",
    "        self.layers = {}\n",
    "        self.layer_modifiers = []\n",
    "\n",
    "    def addLayerModifer(self, ch: Beholder_Layer_Chopper):\n",
    "        self.layer_modifiers.append(ch)\n",
    "\n",
    "    def addDefaultMatcher(self, name, filename, layer=\"gray\", convertToGray=True):\n",
    "        if Path(filename).exists():\n",
    "\n",
    "            img = PillowToCv2(Image.open(filename))\n",
    "            if convertToGray:\n",
    "                img = cv2.cvtColor(img, cv2.COLOR_BGR2GRAY)\n",
    "\n",
    "            self.matchers[name] = Beholder_Matcher(name, layer, img)\n",
    "        else:\n",
    "            print(\"File is missing\")\n",
    "\n",
    "    def readNextImage(self):\n",
    "        self.layers[\"image\"] = Beholder_Layer(\n",
    "            name=\"image\", data=PillowToCv2(self.generator())\n",
    "        )\n",
    "\n",
    "    def digestImage(self):\n",
    "        for m in self.layer_modifiers:\n",
    "            try:\n",
    "                self.layers.update(m.run(self))\n",
    "            except Exception as e:\n",
    "                print(e)\n",
    "\n",
    "    def findMatches(self, matchers=None):\n",
    "        if matchers is None:\n",
    "            matchers = self.matchers\n",
    "        self.readNextImage()\n",
    "        self.digestImage()\n",
    "        matches = defaultdict(list)\n",
    "        for m in matchers:\n",
    "            m = matchers[m]\n",
    "\n",
    "            result = cv2.matchTemplate(\n",
    "                self.layers[m.layer].data, m.data, method=cv2.TM_CCOEFF_NORMED\n",
    "            )\n",
    "            min_val, max_val, min_loc, max_loc = cv2.minMaxLoc(result)\n",
    "\n",
    "            if max_val > self.threshhold:\n",
    "                height, width = m.data.shape[:2]\n",
    "                layer_offset_y = 0\n",
    "                layer_offset_x = 0\n",
    "                if self.layers[m.layer].offsets is not None:\n",
    "                    layer_offset_x, layer_offset_y = self.layers[m.layer].offsets\n",
    "                top_left = max_loc\n",
    "                center = (\n",
    "                    (layer_offset_x + top_left[0] + (width / 2)),\n",
    "                    (layer_offset_y + top_left[1] + (height / 2)),\n",
    "                )\n",
    "\n",
    "                threshold = 0.8\n",
    "                loc = np.where(result >= threshold)\n",
    "\n",
    "                f = set()\n",
    "                sensitivity = 100\n",
    "                for pt in zip(*loc[::-1]):\n",
    "                    f.add(\n",
    "                        (\n",
    "                            round(layer_offset_x + pt[0] / sensitivity),\n",
    "                            layer_offset_y + round(pt[1] / sensitivity),\n",
    "                        )\n",
    "                    )\n",
    "\n",
    "                found_count = len(f)\n",
    "                matches[m.name].append((m, center, found_count))\n",
    "\n",
    "        return dict(matches)"
   ]
  },
  {
   "cell_type": "code",
   "execution_count": 12,
   "id": "57103a5f-6f1f-4b98-b1ff-0d394f90e76a",
   "metadata": {},
   "outputs": [],
   "source": [
    "class Beholder_Layer_Chopper_Grayscale(Beholder_Layer_Chopper):\n",
    "    def __init__(self, name, from_layer):\n",
    "        self.name = name\n",
    "        self.from_layer = from_layer\n",
    "\n",
    "    def run(self, bh: Beholder):\n",
    "        o = {}\n",
    "        o[self.name] = Beholder_Layer(\n",
    "            name=self.name,\n",
    "            data=cv2.cvtColor(bh.layers[self.from_layer].data, cv2.COLOR_BGR2GRAY),\n",
    "        )\n",
    "        return o"
   ]
  },
  {
   "cell_type": "code",
   "execution_count": 13,
   "id": "a29704de-7a77-4d4f-80bd-af07ee7111e4",
   "metadata": {},
   "outputs": [],
   "source": [
    "class Beholder_Layer_Tesseract(Beholder_Layer_Chopper):\n",
    "    def __init__(self, name, from_layer):\n",
    "        self.name = name\n",
    "        self.from_layer = from_layer\n",
    "\n",
    "    def run(self, bh: Beholder):\n",
    "        o = {}"
   ]
  },
  {
   "cell_type": "code",
   "execution_count": 14,
   "id": "f4cafc8a-04de-410f-b124-63001d9255b1",
   "metadata": {},
   "outputs": [],
   "source": [
    "class Beholder_Layer_Chopper_AtCord(Beholder_Layer_Chopper):\n",
    "    def __init__(self, name, from_layer, x, y, h, w, extract_text=False):\n",
    "        self.name = name\n",
    "        self.from_layer = from_layer\n",
    "        self.x = x\n",
    "        self.y = y\n",
    "        self.w = w\n",
    "        self.h = h\n",
    "        self.extract_text = extract_text\n",
    "\n",
    "    def run(self, bh: Beholder):\n",
    "        o = {}\n",
    "        o[self.name] = Beholder_Layer(\n",
    "            name=self.name,\n",
    "            data=bh.layers[self.from_layer].data[\n",
    "                self.y : self.y + self.h, self.x : self.x + self.w\n",
    "            ],\n",
    "            offsets=(self.x, self.y),\n",
    "        )\n",
    "        if self.extract_text:\n",
    "            img = Image.fromarray(bh[self.from_layer].data)\n",
    "            img = img.convert(\"L\")  # grayscale\n",
    "            img = img.filter(ImageFilter.MedianFilter())  # a little blur\n",
    "            img = img.point(lambda x: 0 if x < 140 else 255)  # threshold (binarize)\n",
    "\n",
    "            txt = pytesseract.image_to_string(img)\n",
    "            o[f\"{self.name}_Text\"] = txt.splitlines()\n",
    "        return o"
   ]
  },
  {
   "cell_type": "code",
   "execution_count": 15,
   "id": "c69ac7c4-c2b7-4e2c-acd5-d806213c3b09",
   "metadata": {},
   "outputs": [],
   "source": [
    "a = Beholder(videoFrameGenerator=pullPhoneScreen)\n",
    "\n",
    "a.addLayerModifer(Beholder_Layer_Chopper_Grayscale(name=\"gray\", from_layer=\"image\"))\n",
    "\n",
    "a.addLayerModifer(\n",
    "    Beholder_Layer_Chopper_AtCord(\n",
    "        name=\"inventory\", from_layer=\"gray\", x=1903, y=355, w=2222 - 1903, h=905 - 355\n",
    "    )\n",
    ")"
   ]
  },
  {
   "cell_type": "markdown",
   "id": "d5ddee04-cf82-4974-981f-9bb770f3080a",
   "metadata": {},
   "source": [
    "# Below is Auto-Resmith\n"
   ]
  },
  {
   "cell_type": "raw",
   "id": "2ff831ff-d938-4b3d-862a-75ea5a5dc8ba",
   "metadata": {},
   "source": [
    "a.addDefaultMatcher(\n",
    "    name=\"Button\",\n",
    "    layer=\"gray\",\n",
    "    filename=\"./templates/Button.png\",\n",
    "    convertToGray=True,\n",
    ")\n",
    "a.addDefaultMatcher(\n",
    "    name=\"UnfinishedSmithing\",\n",
    "    layer=\"inventory\",\n",
    "    filename=\"./templates/forge_item.png\",\n",
    ")\n",
    "a.addDefaultMatcher(\n",
    "    name=\"FinishedArrow\",\n",
    "    layer=\"gray\",\n",
    "    filename=\"./templates/FinishedArrow.png\",\n",
    "    convertToGray=True,\n",
    ")\n",
    "\n",
    "time_since_heat = time.time()\n",
    "\n",
    "while True:\n",
    "    matches = a.findMatches()\n",
    "    if len(matches) > 0:\n",
    "        print(matches[0][0].name, matches[0][1])\n",
    "        if matches[0][0].name == \"UnfinishedSmithing\":\n",
    "            if time_since_heat != 0:\n",
    "                print(int(time.time() - time_since_heat), \" since heating\")\n",
    "            if time.time() - time_since_heat > 30:\n",
    "                print(\"heating\")\n",
    "                adb(f\"shell input tap 1777 447\")\n",
    "                time.sleep(3)\n",
    "                print(\"returning to anvil\")\n",
    "                adb(f\"shell input tap 788 765\")\n",
    "                time_since_heat = time.time()\n",
    "                time.sleep(10)\n",
    "\n",
    "            time.sleep(15)\n",
    "            continue\n",
    "        adb(f\"shell input tap {matches[0][1][0]} {matches[0][1][1]}\")\n",
    "    else:\n",
    "        print(\"opening anvil menu\")\n",
    "        adb(f\"shell input tap 1215 830\")\n",
    "        time_since_heat = 0\n",
    "    time.sleep(3.75)"
   ]
  },
  {
   "cell_type": "markdown",
   "id": "406d905f-7dc9-4595-8a55-f534b2e5ddfd",
   "metadata": {},
   "source": [
    "# Below is Auto Feathers on Bolts"
   ]
  },
  {
   "cell_type": "raw",
   "id": "05f546a4-0e18-495b-8512-c4fc5a11c157",
   "metadata": {},
   "source": [
    "a.addDefaultMatcher(\n",
    "    name=\"bolts\",\n",
    "    layer=\"gray\",\n",
    "    filename=\"./templates/mith_bolts.png\",\n",
    "    convertToGray=True,\n",
    ")\n",
    "a.addDefaultMatcher(\n",
    "    name=\"fletch\",\n",
    "    layer=\"gray\",\n",
    "    filename=\"./templates/fletch.png\",\n",
    "    convertToGray=True,\n",
    ")\n",
    "a.addDefaultMatcher(\n",
    "    name=\"close_btb\",\n",
    "    layer=\"gray\",\n",
    "    filename=\"./templates/crafting_dialog_close_button.png\",\n",
    "    convertToGray=True,\n",
    ")\n",
    "\n",
    "in_menu = False\n",
    "while True:\n",
    "    matches = a.findMatches()\n",
    "    if len(matches) > 0:\n",
    "        if any([m.name == \"close_btb\" for m, c in matches]):\n",
    "            print(\"Currently Crafting\")\n",
    "            time.sleep(2)\n",
    "            continue\n",
    "        match = matches[0][0]\n",
    "        center = matches[0][1]\n",
    "        print(match.name, center)\n",
    "\n",
    "        if in_menu:\n",
    "            if match.name == \"fletch\":\n",
    "                adb(f\"shell input tap {center[0]} {center[1]}\")\n",
    "                in_menu = False\n",
    "        else:\n",
    "            if match.name == \"bolts\":\n",
    "                adb(f\"shell input tap {center[0]} {center[1]}\")\n",
    "                in_menu = True\n",
    "    time.sleep(2)"
   ]
  },
  {
   "cell_type": "code",
   "execution_count": 16,
   "id": "db47e10f-6c10-4d52-a382-9795172b0327",
   "metadata": {},
   "outputs": [
    {
     "name": "stdout",
     "output_type": "stream",
     "text": [
      "image (1080, 2400, 3)\n",
      "gray (1080, 2400)\n",
      "inventory (550, 319)\n"
     ]
    }
   ],
   "source": [
    "a.readNextImage()\n",
    "a.digestImage()\n",
    "for item in a.layers.keys():\n",
    "    print(item, a.layers[item].data.shape)"
   ]
  },
  {
   "cell_type": "code",
   "execution_count": 17,
   "id": "91deb48e-6bab-48f9-b033-6533b46cb016",
   "metadata": {},
   "outputs": [],
   "source": [
    "for item in a.matchers:\n",
    "    print(item.name, item.data.shape)"
   ]
  },
  {
   "cell_type": "code",
   "execution_count": 20,
   "id": "3a95a2e7-d30a-4f0e-b494-14e05082f072",
   "metadata": {},
   "outputs": [
    {
     "name": "stdout",
     "output_type": "stream",
     "text": [
      "dict_keys(['paper', 'ore', 'orebox'])\n"
     ]
    }
   ],
   "source": [
    "matches = a.findMatches()\n",
    "print(matches.keys())"
   ]
  },
  {
   "cell_type": "code",
   "execution_count": 18,
   "id": "51ecee70-b78e-407d-a2be-b89be4cf61c6",
   "metadata": {},
   "outputs": [],
   "source": [
    "# Auto OreChest/NotePaper Mining"
   ]
  },
  {
   "cell_type": "code",
   "execution_count": 29,
   "id": "0517be85-1f6b-4daa-b16b-bf9e49d7c1ac",
   "metadata": {},
   "outputs": [
    {
     "data": {
      "text/plain": [
       "{'paper': BW: paper, 'ore': BW: ore, 'orebox': BW: orebox}"
      ]
     },
     "execution_count": 29,
     "metadata": {},
     "output_type": "execute_result"
    }
   ],
   "source": [
    "a.matchers = {}\n",
    "a.addDefaultMatcher(\n",
    "    name=\"paper\", layer=\"inventory\", filename=\"./templates/items/notepaper.png\"\n",
    ")\n",
    "a.addDefaultMatcher(\n",
    "    name=\"ore\", layer=\"inventory\", filename=\"./templates/ore/addy_inventory.png\"\n",
    ")\n",
    "a.addDefaultMatcher(\n",
    "    name=\"orebox\", layer=\"inventory\", filename=\"./templates/ore/box2.png\"\n",
    ")\n",
    "a.matchers"
   ]
  },
  {
   "cell_type": "code",
   "execution_count": null,
   "id": "cbd7d636-916b-4e16-99d9-81917a873015",
   "metadata": {},
   "outputs": [
    {
     "name": "stdout",
     "output_type": "stream",
     "text": [
      "reset mining\n",
      "reset mining\n",
      "1 ores in inventory\n",
      "1 ores in inventory\n",
      "reset mining\n",
      "2 ores in inventory\n",
      "2 ores in inventory\n",
      "reset mining\n",
      "3 ores in inventory\n"
     ]
    }
   ],
   "source": [
    "start_mining = 0\n",
    "ore_box_full = False\n",
    "while True:\n",
    "    if time.time() - start_mining > 15:\n",
    "        print(\"reset mining\")\n",
    "        adb(f\"shell input tap 1215 830\")\n",
    "        start_mining = time.time()\n",
    "    matches = a.findMatches()\n",
    "    if len(matches.keys()) > 0:\n",
    "        if \"ore\" in matches:\n",
    "            print(f\"{matches['ore'][0][2]} ores in inventory\")\n",
    "            if matches[\"ore\"][0][2] >= 20:\n",
    "                if not ore_box_full:\n",
    "                    if \"orebox\" in matches:\n",
    "                        print(\"oreboxing\")\n",
    "                        center = matches[\"orebox\"][0][1]\n",
    "                        adb(f\"shell input tap {center[0]} {center[1]}\")\n",
    "                        matches = a.findMatches()\n",
    "                        print(matches)\n",
    "                        if \"ore\" in matches.keys():\n",
    "                            ore_box_full = True\n",
    "                        else:\n",
    "                            start_mining = 0\n",
    "                            continue\n",
    "\n",
    "                elif \"ore\" in matches:\n",
    "                    print(\"papering\")\n",
    "                    center = matches[\"ore\"][0][1]\n",
    "                    adb(f\"shell input tap {center[0]} {center[1]}\")\n",
    "                    time.sleep(0.5)\n",
    "                    center = matches[\"paper\"][0][1]\n",
    "                    adb(f\"shell input tap {center[0]} {center[1]}\")\n",
    "                    start_mining = 0\n",
    "\n",
    "    time.sleep(10)"
   ]
  },
  {
   "cell_type": "code",
   "execution_count": null,
   "id": "3f22203a-bde2-40bc-883d-c0918028fd80",
   "metadata": {},
   "outputs": [],
   "source": [
    "s = time.time()"
   ]
  },
  {
   "cell_type": "code",
   "execution_count": null,
   "id": "156e596f-2fb5-449b-8853-420b23edd0dc",
   "metadata": {},
   "outputs": [],
   "source": [
    "time.time() - s"
   ]
  },
  {
   "cell_type": "code",
   "execution_count": null,
   "id": "09a63535-2a88-4740-b63a-1a50db7bb698",
   "metadata": {},
   "outputs": [],
   "source": []
  },
  {
   "cell_type": "code",
   "execution_count": null,
   "id": "bb68d1cd-ed9a-4de1-b83c-6f9a9c58e661",
   "metadata": {},
   "outputs": [],
   "source": []
  },
  {
   "cell_type": "code",
   "execution_count": null,
   "id": "f7a899cd-ad1b-46b0-993e-26aef28d6096",
   "metadata": {},
   "outputs": [],
   "source": []
  },
  {
   "cell_type": "code",
   "execution_count": null,
   "id": "9bbc537e-4b88-48b2-8de9-8e7ed649ebea",
   "metadata": {},
   "outputs": [],
   "source": []
  },
  {
   "cell_type": "code",
   "execution_count": null,
   "id": "7b0a87f6-0985-4b3a-beed-30ba559a17cb",
   "metadata": {},
   "outputs": [],
   "source": [
    "a.layers[\"gray\"].data.shape"
   ]
  },
  {
   "cell_type": "code",
   "execution_count": null,
   "id": "6abf2ae1-42f0-49db-9c31-a1c4d2f1679f",
   "metadata": {},
   "outputs": [],
   "source": []
  },
  {
   "cell_type": "code",
   "execution_count": null,
   "id": "cbe571c6-fdfb-462a-b5d1-635096ddecfc",
   "metadata": {},
   "outputs": [],
   "source": []
  },
  {
   "cell_type": "code",
   "execution_count": null,
   "id": "457ab48e-f7d0-466c-aced-61f0562a840e",
   "metadata": {},
   "outputs": [],
   "source": []
  },
  {
   "cell_type": "code",
   "execution_count": null,
   "id": "02acda08-d6e1-4a8f-b9ae-075826819779",
   "metadata": {},
   "outputs": [],
   "source": []
  }
 ],
 "metadata": {
  "kernelspec": {
   "display_name": "Python 3 (ipykernel)",
   "language": "python",
   "name": "python3"
  },
  "language_info": {
   "codemirror_mode": {
    "name": "ipython",
    "version": 3
   },
   "file_extension": ".py",
   "mimetype": "text/x-python",
   "name": "python",
   "nbconvert_exporter": "python",
   "pygments_lexer": "ipython3",
   "version": "3.10.4"
  },
  "widgets": {
   "application/vnd.jupyter.widget-state+json": {
    "state": {},
    "version_major": 2,
    "version_minor": 0
   }
  }
 },
 "nbformat": 4,
 "nbformat_minor": 5
}
