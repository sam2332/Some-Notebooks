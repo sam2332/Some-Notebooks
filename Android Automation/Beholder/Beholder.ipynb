{
 "cells": [
  {
   "cell_type": "code",
   "execution_count": null,
   "id": "f61688a7-e460-4504-8445-7abe8ad104c4",
   "metadata": {},
   "outputs": [],
   "source": [
    "import io\n",
    "import json\n",
    "import os\n",
    "import random\n",
    "import subprocess\n",
    "import time\n",
    "from collections import defaultdict\n",
    "from datetime import datetime\n",
    "from pathlib import Path\n",
    "\n",
    "import numpy\n",
    "import pytesseract\n",
    "from IPython.display import clear_output, display\n",
    "from PIL import Image, ImageDraw, ImageEnhance, ImageFilter\n",
    "from tqdm import tqdm"
   ]
  },
  {
   "cell_type": "code",
   "execution_count": null,
   "id": "c603a842-6eda-45f2-b19b-0a61fec67284",
   "metadata": {},
   "outputs": [],
   "source": [
    "import cv2\n",
    "import numpy as np"
   ]
  },
  {
   "cell_type": "code",
   "execution_count": null,
   "id": "802da14a-8cd8-4a45-b11d-b9f34c38df57",
   "metadata": {},
   "outputs": [],
   "source": [
    "from matplotlib import pyplot as plt"
   ]
  },
  {
   "cell_type": "code",
   "execution_count": null,
   "id": "77f97c09-8c68-4d34-802f-8f092b099920",
   "metadata": {},
   "outputs": [],
   "source": [
    "def shell(cmd, debug=False, returns_POpen=False, close_fds=False):\n",
    "    if debug:\n",
    "        print(cmd)\n",
    "\n",
    "    if returns_POpen:\n",
    "        process = subprocess.Popen(cmd, close_fds=close_fds)\n",
    "        return process\n",
    "\n",
    "    process = subprocess.run(cmd, stdout=subprocess.PIPE)\n",
    "    return process.stdout.decode(\"utf-8\").strip().splitlines()"
   ]
  },
  {
   "cell_type": "code",
   "execution_count": null,
   "id": "d188e3df-b7e6-4b62-9272-e78f0c7df603",
   "metadata": {},
   "outputs": [],
   "source": [
    "def adb(cmd, debug=False, returns_POpen=False, close_fds=False):\n",
    "    # This function runs adb commands on your connected device or emulator.\n",
    "    if type(cmd) == str:\n",
    "        cmd = cmd.split(\" \")\n",
    "    cmd = [\"adb\"] + cmd\n",
    "    return shell(cmd, debug=debug, returns_POpen=returns_POpen, close_fds=close_fds)\n",
    "\n",
    "\n",
    "def TypeTextOnPhone(text):\n",
    "    adb([\"shell\", \"input\", \"text\", text.replace(\" \", \"%s\")])\n",
    "    adb([\"shell\", \"input\", \"keyevent\", \"66\"])\n",
    "\n",
    "\n",
    "adb(\"wait-for-device\")"
   ]
  },
  {
   "cell_type": "code",
   "execution_count": 84,
   "id": "0cef4d81-75b3-477e-8e01-7dcacdcf3b4f",
   "metadata": {},
   "outputs": [],
   "source": [
    "def sleep(num):\n",
    "    s = random.choice([-1.75, -1,-0.5,0, 0.5, 0.75, 1])\n",
    "    num += s\n",
    "    print(f\"sleeping for: {num}\")\n",
    "    time.sleep(num)"
   ]
  },
  {
   "cell_type": "code",
   "execution_count": null,
   "id": "90258d41-202e-42f9-9e7e-5b99354b2d6c",
   "metadata": {},
   "outputs": [],
   "source": [
    "def pullPhoneScreen(resize_ratio=None, as_numpy=False, print_times=False):\n",
    "    s = time.time()\n",
    "    adb(\"shell screencap -p /sdcard/screen.png\")\n",
    "    adb(\"pull /sdcard/screen.png ./game.png\")\n",
    "    adb(\"shell rm /sdcard/screen.png\")\n",
    "    im = Image.open(\"game.png\")\n",
    "    im = im.convert(\"RGB\")\n",
    "    if resize_ratio is not None:\n",
    "        im = im.resize(\n",
    "            (int(im.width * resize_ratio), int(im.height * resize_ratio)),\n",
    "            Image.Resampling.LANCZOS,\n",
    "        )\n",
    "    if print_times:\n",
    "        print(\"pull image took \", time.time() - s)\n",
    "    if as_numpy:\n",
    "        return numpy.array(im)\n",
    "    return im"
   ]
  },
  {
   "cell_type": "code",
   "execution_count": null,
   "id": "f74a8edf-4198-46f0-9fc4-4ead9389116a",
   "metadata": {},
   "outputs": [],
   "source": [
    "def PillowToCv2(img):\n",
    "    img = np.array(img)\n",
    "    im = cv2.cvtColor(img, cv2.COLOR_RGB2BGR)\n",
    "    return im"
   ]
  },
  {
   "cell_type": "code",
   "execution_count": null,
   "id": "33b6dddb-0f2e-4066-9586-4b07f755be42",
   "metadata": {},
   "outputs": [],
   "source": [
    "class Beholder_Layer:\n",
    "    def __init__(self, name, data, offsets=None):\n",
    "        self.offsets = offsets\n",
    "        self.name = name\n",
    "        self.data = data\n",
    "\n",
    "    def show(self):\n",
    "        img = cv2.cvtColor(self.data, cv2.COLOR_BGR2RGB)\n",
    "        display(Image.fromarray(img))\n",
    "\n",
    "    def chop(self, new_name, x, y, h, w):\n",
    "        return Beholder_Layer(\n",
    "            name=new_name, data=self.data[y : y + h, x : x + w], offsets=(x, y)\n",
    "        )"
   ]
  },
  {
   "cell_type": "code",
   "execution_count": null,
   "id": "ff6cd617-0f20-441b-b37a-4548a76299ba",
   "metadata": {},
   "outputs": [],
   "source": [
    "class Beholder_Layer_Chopper:\n",
    "    def __init__(self, name):\n",
    "        self.name = name\n",
    "\n",
    "    def run(self, bh):\n",
    "        pass"
   ]
  },
  {
   "cell_type": "code",
   "execution_count": null,
   "id": "d936e8f1-d881-435e-bc8b-168bcdbb89ee",
   "metadata": {},
   "outputs": [],
   "source": [
    "class Beholder_Matcher:\n",
    "    def __init__(self, name, layer, data):\n",
    "        self.name = name\n",
    "        self.layer = layer\n",
    "        self.data = data\n",
    "\n",
    "    def show(self):\n",
    "        img = cv2.cvtColor(self.data, cv2.COLOR_BGR2RGB)\n",
    "        display(Image.fromarray(img))\n",
    "\n",
    "    def __repr__(self):\n",
    "        return f\"BW: {self.name}\""
   ]
  },
  {
   "cell_type": "code",
   "execution_count": null,
   "id": "8e010fc5-6f87-4ff4-902e-1b8462c38ca5",
   "metadata": {},
   "outputs": [],
   "source": []
  },
  {
   "cell_type": "code",
   "execution_count": null,
   "id": "0938e497-7499-494e-9431-2a15744f50f6",
   "metadata": {},
   "outputs": [],
   "source": [
    "class Beholder:\n",
    "    def __init__(self, videoFrameGenerator):\n",
    "        self.generator = videoFrameGenerator\n",
    "        self.matchers = {}\n",
    "        self.threshhold = 0.95\n",
    "        self.layers = {}\n",
    "        self.layer_modifiers = []\n",
    "\n",
    "    def addLayerModifer(self, ch: Beholder_Layer_Chopper):\n",
    "        self.layer_modifiers.append(ch)\n",
    "\n",
    "    def addDefaultMatcher(self, name, filename, layer=\"gray\", convertToGray=True):\n",
    "        if Path(filename).exists():\n",
    "\n",
    "            img = PillowToCv2(Image.open(filename))\n",
    "            if convertToGray:\n",
    "                img = cv2.cvtColor(img, cv2.COLOR_BGR2GRAY)\n",
    "\n",
    "            self.matchers[name] = Beholder_Matcher(name, layer, img)\n",
    "        else:\n",
    "            print(\"File is missing\")\n",
    "\n",
    "    def readNextImage(self):\n",
    "        self.layers[\"image\"] = Beholder_Layer(\n",
    "            name=\"image\", data=PillowToCv2(self.generator())\n",
    "        )\n",
    "\n",
    "    def digestImage(self):\n",
    "        for m in self.layer_modifiers:\n",
    "            try:\n",
    "                self.layers.update(m.run(self))\n",
    "            except Exception as e:\n",
    "                print(e)\n",
    "\n",
    "    def findMatches(self, matchers=None):\n",
    "        if matchers is None:\n",
    "            matchers = self.matchers\n",
    "        self.readNextImage()\n",
    "        self.digestImage()\n",
    "        matches = defaultdict(list)\n",
    "        for m in matchers:\n",
    "            m = matchers[m]\n",
    "\n",
    "            result = cv2.matchTemplate(\n",
    "                self.layers[m.layer].data, m.data, method=cv2.TM_CCOEFF_NORMED\n",
    "            )\n",
    "            min_val, max_val, min_loc, max_loc = cv2.minMaxLoc(result)\n",
    "\n",
    "            if max_val > self.threshhold:\n",
    "                height, width = m.data.shape[:2]\n",
    "                layer_offset_y = 0\n",
    "                layer_offset_x = 0\n",
    "                if self.layers[m.layer].offsets is not None:\n",
    "                    layer_offset_x, layer_offset_y = self.layers[m.layer].offsets\n",
    "                top_left = max_loc\n",
    "                center = (\n",
    "                    (layer_offset_x + top_left[0] + (width / 2)),\n",
    "                    (layer_offset_y + top_left[1] + (height / 2)),\n",
    "                )\n",
    "\n",
    "                threshold = 0.8\n",
    "                loc = np.where(result >= threshold)\n",
    "\n",
    "                f = set()\n",
    "                sensitivity = 60\n",
    "                for pt in zip(*loc[::-1]):\n",
    "                    f.add(\n",
    "                        (\n",
    "                            round(layer_offset_x + pt[0] / sensitivity),\n",
    "                            layer_offset_y + round(pt[1] / sensitivity),\n",
    "                        )\n",
    "                    )\n",
    "\n",
    "                found_count = len(f)\n",
    "                matches[m.name].append((m, center, found_count))\n",
    "\n",
    "        return dict(matches)"
   ]
  },
  {
   "cell_type": "code",
   "execution_count": null,
   "id": "57103a5f-6f1f-4b98-b1ff-0d394f90e76a",
   "metadata": {},
   "outputs": [],
   "source": [
    "class Beholder_Layer_Chopper_Grayscale(Beholder_Layer_Chopper):\n",
    "    def __init__(self, name, from_layer):\n",
    "        self.name = name\n",
    "        self.from_layer = from_layer\n",
    "\n",
    "    def run(self, bh: Beholder):\n",
    "        o = {}\n",
    "        o[self.name] = Beholder_Layer(\n",
    "            name=self.name,\n",
    "            data=cv2.cvtColor(bh.layers[self.from_layer].data, cv2.COLOR_BGR2GRAY),\n",
    "        )\n",
    "        return o"
   ]
  },
  {
   "cell_type": "code",
   "execution_count": null,
   "id": "a29704de-7a77-4d4f-80bd-af07ee7111e4",
   "metadata": {},
   "outputs": [],
   "source": [
    "class Beholder_Layer_Tesseract(Beholder_Layer_Chopper):\n",
    "    def __init__(self, name, from_layer):\n",
    "        self.name = name\n",
    "        self.from_layer = from_layer\n",
    "\n",
    "    def run(self, bh: Beholder):\n",
    "        o = {}"
   ]
  },
  {
   "cell_type": "code",
   "execution_count": null,
   "id": "f4cafc8a-04de-410f-b124-63001d9255b1",
   "metadata": {},
   "outputs": [],
   "source": [
    "class Beholder_Layer_Chopper_AtCord(Beholder_Layer_Chopper):\n",
    "    def __init__(self, name, from_layer, x, y, h, w, extract_text=False):\n",
    "        self.name = name\n",
    "        self.from_layer = from_layer\n",
    "        self.x = x\n",
    "        self.y = y\n",
    "        self.w = w\n",
    "        self.h = h\n",
    "        self.extract_text = extract_text\n",
    "\n",
    "    def run(self, bh: Beholder):\n",
    "        o = {}\n",
    "        o[self.name] = Beholder_Layer(\n",
    "            name=self.name,\n",
    "            data=bh.layers[self.from_layer].data[\n",
    "                self.y : self.y + self.h, self.x : self.x + self.w\n",
    "            ],\n",
    "            offsets=(self.x, self.y),\n",
    "        )\n",
    "        if self.extract_text:\n",
    "            img = Image.fromarray(bh[self.from_layer].data)\n",
    "            img = img.convert(\"L\")  # grayscale\n",
    "            img = img.filter(ImageFilter.MedianFilter())  # a little blur\n",
    "            img = img.point(lambda x: 0 if x < 140 else 255)  # threshold (binarize)\n",
    "\n",
    "            txt = pytesseract.image_to_string(img)\n",
    "            o[f\"{self.name}_Text\"] = txt.splitlines()\n",
    "        return o"
   ]
  },
  {
   "cell_type": "code",
   "execution_count": null,
   "id": "c69ac7c4-c2b7-4e2c-acd5-d806213c3b09",
   "metadata": {},
   "outputs": [],
   "source": [
    "a = Beholder(videoFrameGenerator=pullPhoneScreen)\n",
    "\n",
    "a.addLayerModifer(Beholder_Layer_Chopper_Grayscale(name=\"gray\", from_layer=\"image\"))\n",
    "\n",
    "a.addLayerModifer(\n",
    "    Beholder_Layer_Chopper_AtCord(\n",
    "        name=\"inventory\", from_layer=\"gray\", x=1903, y=355, w=2222 - 1903, h=905 - 355\n",
    "    )\n",
    ")"
   ]
  },
  {
   "cell_type": "markdown",
   "id": "d5ddee04-cf82-4974-981f-9bb770f3080a",
   "metadata": {
    "tags": []
   },
   "source": [
    "# Below is Auto-Resmith\n"
   ]
  },
  {
   "cell_type": "code",
   "execution_count": 81,
   "id": "e7855ed8-e4e2-408c-95b3-b4c3b2054ea6",
   "metadata": {
    "tags": []
   },
   "outputs": [
    {
     "name": "stdout",
     "output_type": "stream",
     "text": [
      "{'UnfinishedSmithing': [(BW: UnfinishedSmithing, (2185.0, 628.0), 2)]}\n",
      "2 since heating\n",
      "sleeping for 6\n",
      "{'UnfinishedSmithing': [(BW: UnfinishedSmithing, (2185.0, 628.0), 2)]}\n",
      "10 since heating\n",
      "sleeping for 9\n",
      "{'UnfinishedSmithing': [(BW: UnfinishedSmithing, (2185.0, 628.0), 2)]}\n",
      "22 since heating\n",
      "sleeping for 6\n",
      "{'UnfinishedSmithing': [(BW: UnfinishedSmithing, (2185.0, 628.0), 2)]}\n",
      "30 since heating\n",
      "time for heating\n",
      "sleeping for 6\n",
      "returning to anvil\n",
      "sleeping for 7\n"
     ]
    },
    {
     "ename": "KeyboardInterrupt",
     "evalue": "",
     "output_type": "error",
     "traceback": [
      "\u001b[0;31m---------------------------------------------------------------------------\u001b[0m",
      "\u001b[0;31mKeyboardInterrupt\u001b[0m                         Traceback (most recent call last)",
      "Input \u001b[0;32mIn [81]\u001b[0m, in \u001b[0;36m<cell line: 23>\u001b[0;34m()\u001b[0m\n\u001b[1;32m     37\u001b[0m         adb(\u001b[38;5;124mf\u001b[39m\u001b[38;5;124m\"\u001b[39m\u001b[38;5;124mshell input tap 1550 525\u001b[39m\u001b[38;5;124m\"\u001b[39m)\n\u001b[1;32m     38\u001b[0m         time_since_heat \u001b[38;5;241m=\u001b[39m time\u001b[38;5;241m.\u001b[39mtime()\n\u001b[0;32m---> 39\u001b[0m     \u001b[43msleep\u001b[49m\u001b[43m(\u001b[49m\u001b[38;5;241;43m7\u001b[39;49m\u001b[43m)\u001b[49m\n\u001b[1;32m     40\u001b[0m     \u001b[38;5;28;01mcontinue\u001b[39;00m\n\u001b[1;32m     41\u001b[0m \u001b[38;5;28;01mif\u001b[39;00m \u001b[38;5;124m\"\u001b[39m\u001b[38;5;124mFinishedArrow\u001b[39m\u001b[38;5;124m\"\u001b[39m \u001b[38;5;129;01min\u001b[39;00m matches:\n",
      "Input \u001b[0;32mIn [59]\u001b[0m, in \u001b[0;36msleep\u001b[0;34m(num)\u001b[0m\n\u001b[1;32m      3\u001b[0m num \u001b[38;5;241m+\u001b[39m\u001b[38;5;241m=\u001b[39ms \n\u001b[1;32m      4\u001b[0m \u001b[38;5;28mprint\u001b[39m(\u001b[38;5;124mf\u001b[39m\u001b[38;5;124m\"\u001b[39m\u001b[38;5;124msleeping for \u001b[39m\u001b[38;5;132;01m{\u001b[39;00mnum\u001b[38;5;132;01m}\u001b[39;00m\u001b[38;5;124m\"\u001b[39m)\n\u001b[0;32m----> 5\u001b[0m \u001b[43mtime\u001b[49m\u001b[38;5;241;43m.\u001b[39;49m\u001b[43msleep\u001b[49m\u001b[43m(\u001b[49m\u001b[43mnum\u001b[49m\u001b[43m)\u001b[49m\n",
      "\u001b[0;31mKeyboardInterrupt\u001b[0m: "
     ]
    }
   ],
   "source": [
    "a.matchers = {}\n",
    "a.addDefaultMatcher(\n",
    "    name=\"Button\",\n",
    "    layer=\"gray\",\n",
    "    filename=\"./templates/ui/Begin_project.png\",\n",
    "    convertToGray=True,\n",
    ")\n",
    "a.addDefaultMatcher(\n",
    "    name=\"UnfinishedSmithing\",\n",
    "    layer=\"inventory\",\n",
    "    filename=\"./templates/inventory/forge_item.png\",\n",
    ")\n",
    "a.addDefaultMatcher(\n",
    "    name=\"FinishedArrow\",\n",
    "    layer=\"gray\",\n",
    "    filename=\"./templates/ui/FinishedArrow.png\",\n",
    "    convertToGray=True,\n",
    ")\n",
    "\n",
    "time_since_heat = time.time()\n",
    "Button_count = 0\n",
    "Anvil_count = 0\n",
    "while True:\n",
    "    matches = a.findMatches()\n",
    "    if len(matches) > 0:\n",
    "        print(matches)\n",
    "        if \"UnfinishedSmithing\" in matches:\n",
    "            Button_count = 0\n",
    "            Anvil_count = 0\n",
    "            if time_since_heat != 0:\n",
    "                print(int(time.time() - time_since_heat), \"since heating\")\n",
    "            if time.time() - time_since_heat > 30:\n",
    "                print(\"time for heating\")\n",
    "                adb(f\"shell input tap 1192 150\")\n",
    "                sleep(5)\n",
    "                print(\"returning to anvil\")\n",
    "                adb(f\"shell input tap 1550 525\")\n",
    "                time_since_heat = time.time()\n",
    "            sleep(7)\n",
    "            continue\n",
    "        if \"FinishedArrow\" in matches:\n",
    "            center = matches[\"FinishedArrow\"][0][1]\n",
    "            adb(f\"shell input tap {center[0]} {center[1]}\")\n",
    "        if \"Button\" in matches:\n",
    "            if Button_count == 0:\n",
    "                center = matches[\"Button\"][0][1]\n",
    "                adb(f\"shell input tap {center[0]} {center[1]}\")\n",
    "                Button_count += 1\n",
    "            else:\n",
    "                print(\"Cannot continue smithing.\")\n",
    "                a.layers[\"image\"].show()\n",
    "                break\n",
    "\n",
    "    else:\n",
    "        if Anvil_count == 0:\n",
    "            print(\"opening anvil menu\")\n",
    "            adb(f\"shell input tap 1550 525\")\n",
    "            time_since_heat = 0\n",
    "            Anvil_count += 1\n",
    "        else:\n",
    "            print(\"Cannot continue smithing.\")\n",
    "            a.layers[\"image\"].show()\n",
    "            break\n",
    "    sleep(3.75)"
   ]
  },
  {
   "cell_type": "markdown",
   "id": "8b27d592-eddf-47e7-ab8f-b7b3e766b709",
   "metadata": {},
   "source": [
    "# Auto Smelt Ores"
   ]
  },
  {
   "cell_type": "code",
   "execution_count": 76,
   "id": "82eded89-a21d-4adc-a594-28c7c24e57fb",
   "metadata": {},
   "outputs": [
    {
     "name": "stdout",
     "output_type": "stream",
     "text": [
      "{'Button': [(BW: Button, (1772.0, 1016.0), 1)]}\n",
      "sleeping for 4\n",
      "{'close_btb': [(BW: close_btb, (1495.5, 225.5), 1)]}\n",
      "Currently Crafting\n",
      "sleeping for 6\n",
      "{'close_btb': [(BW: close_btb, (1495.5, 225.5), 1)]}\n",
      "Currently Crafting\n",
      "sleeping for 3\n",
      "sleeping for 3\n",
      "sleeping for 6\n",
      "{'Button': [(BW: Button, (1772.0, 1016.0), 1)]}\n",
      "sleeping for 7\n",
      "sleeping for 1\n",
      "sleeping for 7\n",
      "{'Button': [(BW: Button, (1772.0, 1016.0), 1)]}\n",
      "Cannot continue smelting.\n"
     ]
    }
   ],
   "source": [
    "a.matchers = {}\n",
    "\n",
    "a.addDefaultMatcher(\n",
    "    name=\"close_btb\",\n",
    "    layer=\"gray\",\n",
    "    filename=\"./templates/ui/crafting_dialog_close_button.png\",\n",
    "    convertToGray=True,\n",
    ")\n",
    "a.addDefaultMatcher(\n",
    "    name=\"Button\",\n",
    "    layer=\"gray\",\n",
    "    filename=\"./templates/ui/Begin_project.png\",\n",
    "    convertToGray=True,\n",
    ")\n",
    "Button_count = 0\n",
    "while True:\n",
    "    matches = a.findMatches()\n",
    "    if len(matches) > 0:\n",
    "        print(matches)\n",
    "        if \"close_btb\" in matches:\n",
    "            Button_count = 0\n",
    "            print(\"Currently Crafting\")\n",
    "            sleep(5)\n",
    "            continue\n",
    "        else:\n",
    "            if \"Button\" in matches:\n",
    "                if Button_count == 0:\n",
    "                    center = matches[\"Button\"][0][1]\n",
    "                    adb(f\"shell input tap {center[0]} {center[1]}\")\n",
    "                    Button_count += 1\n",
    "                else:\n",
    "                    print(\"Cannot continue smelting.\")\n",
    "                    break\n",
    "    else:\n",
    "        adb(f\"shell input tap 1150 780\")\n",
    "        sleep(3)\n",
    "        adb(f\"shell input tap 518 1029\")\n",
    "    sleep(5)"
   ]
  },
  {
   "cell_type": "markdown",
   "id": "406d905f-7dc9-4595-8a55-f534b2e5ddfd",
   "metadata": {
    "tags": []
   },
   "source": [
    "# Below is Auto Feathers on Bolts"
   ]
  },
  {
   "cell_type": "code",
   "execution_count": 67,
   "id": "9ae7d8c9-97df-43cb-ab64-ae0e4a504a2f",
   "metadata": {},
   "outputs": [
    {
     "ename": "KeyboardInterrupt",
     "evalue": "",
     "output_type": "error",
     "traceback": [
      "\u001b[0;31m---------------------------------------------------------------------------\u001b[0m",
      "\u001b[0;31mKeyboardInterrupt\u001b[0m                         Traceback (most recent call last)",
      "Input \u001b[0;32mIn [67]\u001b[0m, in \u001b[0;36m<cell line: 22>\u001b[0;34m()\u001b[0m\n\u001b[1;32m     37\u001b[0m             adb(\u001b[38;5;124mf\u001b[39m\u001b[38;5;124m\"\u001b[39m\u001b[38;5;124mshell input tap \u001b[39m\u001b[38;5;132;01m{\u001b[39;00mcenter[\u001b[38;5;241m0\u001b[39m]\u001b[38;5;132;01m}\u001b[39;00m\u001b[38;5;124m \u001b[39m\u001b[38;5;132;01m{\u001b[39;00mcenter[\u001b[38;5;241m1\u001b[39m]\u001b[38;5;132;01m}\u001b[39;00m\u001b[38;5;124m\"\u001b[39m)\n\u001b[1;32m     38\u001b[0m             in_menu \u001b[38;5;241m=\u001b[39m \u001b[38;5;28;01mTrue\u001b[39;00m\n\u001b[0;32m---> 39\u001b[0m \u001b[43mtime\u001b[49m\u001b[38;5;241;43m.\u001b[39;49m\u001b[43msleep\u001b[49m\u001b[43m(\u001b[49m\u001b[38;5;241;43m2\u001b[39;49m\u001b[43m)\u001b[49m\n",
      "\u001b[0;31mKeyboardInterrupt\u001b[0m: "
     ]
    }
   ],
   "source": [
    "a.matchers = {}\n",
    "a.addDefaultMatcher(\n",
    "    name=\"bolts\",\n",
    "    layer=\"gray\",\n",
    "    filename=\"./templates/inventory/mith_bolts.png\",\n",
    "    convertToGray=True,\n",
    ")\n",
    "a.addDefaultMatcher(\n",
    "    name=\"fletch\",\n",
    "    layer=\"gray\",\n",
    "    filename=\"./templates/ui/fletch.png\",\n",
    "    convertToGray=True,\n",
    ")\n",
    "a.addDefaultMatcher(\n",
    "    name=\"close_btb\",\n",
    "    layer=\"gray\",\n",
    "    filename=\"./templates/ui/crafting_dialog_close_button.png\",\n",
    "    convertToGray=True,\n",
    ")\n",
    "\n",
    "in_menu = False\n",
    "while True:\n",
    "    matches = a.findMatches()\n",
    "    if len(matches) > 0:\n",
    "        if \"close_btb\" in matches:\n",
    "            print(\"Currently Crafting\")\n",
    "            time.sleep(2)\n",
    "            continue\n",
    "        if in_menu:\n",
    "            if \"fletch\" in matches:\n",
    "                center = matches[\"fletch\"][1]\n",
    "                adb(f\"shell input tap {center[0]} {center[1]}\")\n",
    "                in_menu = False\n",
    "        else:\n",
    "            if \"bolts\" in matches:\n",
    "                center = matches[\"bolts\"][1]\n",
    "                adb(f\"shell input tap {center[0]} {center[1]}\")\n",
    "                in_menu = True\n",
    "    time.sleep(2)"
   ]
  },
  {
   "cell_type": "markdown",
   "id": "f862e728-bba9-4b0c-9ef5-42dd9590ac5a",
   "metadata": {
    "tags": []
   },
   "source": [
    "# Auto OreChest/NotePaper/Mining Reset"
   ]
  },
  {
   "cell_type": "code",
   "execution_count": null,
   "id": "4315bc70-2416-4abd-9f5f-03d4994c5065",
   "metadata": {},
   "outputs": [],
   "source": [
    "a.matchers = {}\n",
    "a.addDefaultMatcher(\n",
    "    name=\"paper\",\n",
    "    layer=\"inventory\",\n",
    "    filename=\"./templates/inventory/items/notepaper.png\",\n",
    ")\n",
    "a.addDefaultMatcher(\n",
    "    name=\"ore\",\n",
    "    layer=\"inventory\",\n",
    "    filename=\"./templates/ore/oricalhalcite_inventory.png\",\n",
    ")\n",
    "a.addDefaultMatcher(\n",
    "    name=\"orebox\", layer=\"inventory\", filename=\"./templates/ore/box2.png\"\n",
    ")\n",
    "\n",
    "s = time.time()\n",
    "ore_box_full = False\n",
    "\n",
    "start_mining = 0\n",
    "previous_ore_count = 0\n",
    "while True:\n",
    "    if time.time() - start_mining >= 20:\n",
    "        print(\"reset mining\")\n",
    "        adb(f\"shell input tap 1215 830\")\n",
    "        start_mining = time.time()\n",
    "    matches = a.findMatches()\n",
    "    if len(matches.keys()) > 0:\n",
    "        if \"ore\" in matches:\n",
    "            if previous_ore_count != matches[\"ore\"][0][2]:\n",
    "                print(f\"{matches['ore'][0][2]} ores in inventory\")\n",
    "                previous_ore_count = matches[\"ore\"][0][2]\n",
    "            if matches[\"ore\"][0][2] >= 10:\n",
    "                print(f\"Took {time.time() - s} Seconds to mine 10 ore\")\n",
    "\n",
    "                s = time.time()\n",
    "                if not ore_box_full:\n",
    "                    if \"orebox\" in matches:\n",
    "                        print(\"oreboxing\")\n",
    "                        center = matches[\"orebox\"][0][1]\n",
    "                        adb(f\"shell input tap {center[0]} {center[1]}\")\n",
    "                        time.sleep(1)\n",
    "                        matches = a.findMatches()\n",
    "                        if \"ore\" in matches.keys():\n",
    "                            print(\"I think the ore box is full!\")\n",
    "                            ore_box_full = True\n",
    "                        else:\n",
    "                            start_mining = 0\n",
    "                            continue\n",
    "\n",
    "                if \"ore\" in matches:\n",
    "                    print(\"papering\")\n",
    "                    center = matches[\"ore\"][0][1]\n",
    "                    adb(f\"shell input tap {center[0]} {center[1]}\")\n",
    "                    time.sleep(0.5)\n",
    "                    center = matches[\"paper\"][0][1]\n",
    "                    adb(f\"shell input tap {center[0]} {center[1]}\")\n",
    "                    start_mining = 0\n",
    "                    time.sleep(2)\n",
    "    if start_mining != 0:\n",
    "        time.sleep(10)"
   ]
  },
  {
   "cell_type": "markdown",
   "id": "b172f295-2e0a-4f77-badf-454cce886859",
   "metadata": {},
   "source": [
    "# Other Stuff"
   ]
  },
  {
   "cell_type": "code",
   "execution_count": null,
   "id": "3fa6c2c0-650c-4338-b852-ddbdc1603fff",
   "metadata": {},
   "outputs": [],
   "source": [
    "time.time() - s"
   ]
  },
  {
   "cell_type": "code",
   "execution_count": null,
   "id": "09a63535-2a88-4740-b63a-1a50db7bb698",
   "metadata": {},
   "outputs": [],
   "source": [
    "447 / 20"
   ]
  },
  {
   "cell_type": "raw",
   "id": "abe17f89-a0b1-49fc-9efc-f31ca2654b27",
   "metadata": {},
   "source": [
    "10 oricahalcite ore = 223.00 \n",
    "10 oricahalcite ore = 220.85\n",
    "\n",
    "10 rune ore         = 103.64 seconds\n",
    "10 coal ore         = 47.87 Seconds"
   ]
  },
  {
   "cell_type": "code",
   "execution_count": 71,
   "id": "db47e10f-6c10-4d52-a382-9795172b0327",
   "metadata": {},
   "outputs": [
    {
     "name": "stdout",
     "output_type": "stream",
     "text": [
      "image (1080, 2400, 3)\n",
      "gray (1080, 2400)\n",
      "inventory (550, 319)\n"
     ]
    }
   ],
   "source": [
    "a.readNextImage()\n",
    "a.digestImage()\n",
    "for item in a.layers.keys():\n",
    "    print(item, a.layers[item].data.shape)"
   ]
  },
  {
   "cell_type": "code",
   "execution_count": null,
   "id": "91deb48e-6bab-48f9-b033-6533b46cb016",
   "metadata": {},
   "outputs": [],
   "source": [
    "for item in a.matchers:\n",
    "    print(item.name, item.data.shape)"
   ]
  },
  {
   "cell_type": "code",
   "execution_count": null,
   "id": "3a95a2e7-d30a-4f0e-b494-14e05082f072",
   "metadata": {},
   "outputs": [],
   "source": [
    "matches = a.findMatches()\n",
    "print(matches.keys())"
   ]
  },
  {
   "cell_type": "code",
   "execution_count": null,
   "id": "f7a899cd-ad1b-46b0-993e-26aef28d6096",
   "metadata": {},
   "outputs": [],
   "source": []
  },
  {
   "cell_type": "code",
   "execution_count": null,
   "id": "9bbc537e-4b88-48b2-8de9-8e7ed649ebea",
   "metadata": {},
   "outputs": [],
   "source": []
  },
  {
   "cell_type": "code",
   "execution_count": null,
   "id": "7b0a87f6-0985-4b3a-beed-30ba559a17cb",
   "metadata": {},
   "outputs": [],
   "source": [
    "a.layers[\"gray\"].data.shape"
   ]
  },
  {
   "cell_type": "code",
   "execution_count": null,
   "id": "6abf2ae1-42f0-49db-9c31-a1c4d2f1679f",
   "metadata": {},
   "outputs": [],
   "source": []
  },
  {
   "cell_type": "code",
   "execution_count": null,
   "id": "cbe571c6-fdfb-462a-b5d1-635096ddecfc",
   "metadata": {},
   "outputs": [],
   "source": []
  },
  {
   "cell_type": "code",
   "execution_count": null,
   "id": "457ab48e-f7d0-466c-aced-61f0562a840e",
   "metadata": {},
   "outputs": [],
   "source": []
  },
  {
   "cell_type": "code",
   "execution_count": null,
   "id": "02acda08-d6e1-4a8f-b9ae-075826819779",
   "metadata": {},
   "outputs": [],
   "source": []
  }
 ],
 "metadata": {
  "kernelspec": {
   "display_name": "Python 3 (ipykernel)",
   "language": "python",
   "name": "python3"
  },
  "language_info": {
   "codemirror_mode": {
    "name": "ipython",
    "version": 3
   },
   "file_extension": ".py",
   "mimetype": "text/x-python",
   "name": "python",
   "nbconvert_exporter": "python",
   "pygments_lexer": "ipython3",
   "version": "3.10.4"
  },
  "widgets": {
   "application/vnd.jupyter.widget-state+json": {
    "state": {},
    "version_major": 2,
    "version_minor": 0
   }
  }
 },
 "nbformat": 4,
 "nbformat_minor": 5
}
