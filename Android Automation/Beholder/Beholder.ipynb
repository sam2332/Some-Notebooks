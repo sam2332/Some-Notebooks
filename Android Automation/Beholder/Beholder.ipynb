{
 "cells": [
  {
   "cell_type": "code",
   "execution_count": 43,
   "id": "f61688a7-e460-4504-8445-7abe8ad104c4",
   "metadata": {},
   "outputs": [],
   "source": [
    "import json\n",
    "import os\n",
    "import random\n",
    "import subprocess\n",
    "import time\n",
    "from datetime import datetime\n",
    "from pathlib import Path\n",
    "\n",
    "import numpy\n",
    "from IPython.display import clear_output, display\n",
    "from PIL import Image, ImageDraw\n",
    "from tqdm import tqdm"
   ]
  },
  {
   "cell_type": "code",
   "execution_count": 44,
   "id": "77f97c09-8c68-4d34-802f-8f092b099920",
   "metadata": {},
   "outputs": [],
   "source": [
    "def shell(cmd, debug=False, returns_POpen=False, close_fds=False):\n",
    "    if debug:\n",
    "        print(cmd)\n",
    "\n",
    "    if returns_POpen:\n",
    "        process = subprocess.Popen(cmd, close_fds=close_fds)\n",
    "        return process\n",
    "\n",
    "    process = subprocess.run(cmd, stdout=subprocess.PIPE)\n",
    "    return process.stdout.decode(\"utf-8\").strip().splitlines()"
   ]
  },
  {
   "cell_type": "code",
   "execution_count": 45,
   "id": "8486eb3d-190b-45aa-a83c-909a85ab61c3",
   "metadata": {},
   "outputs": [
    {
     "data": {
      "text/plain": [
       "[]"
      ]
     },
     "execution_count": 45,
     "metadata": {},
     "output_type": "execute_result"
    }
   ],
   "source": [
    "def adb(cmd, debug=False, returns_POpen=False, close_fds=False):\n",
    "    # This function runs adb commands on your connected device or emulator.\n",
    "    if type(cmd) == str:\n",
    "        cmd = cmd.split(\" \")\n",
    "    cmd = [\"adb\"] + cmd\n",
    "    return shell(cmd, debug=debug, returns_POpen=returns_POpen, close_fds=close_fds)\n",
    "\n",
    "\n",
    "adb(\"wait-for-device\")"
   ]
  },
  {
   "cell_type": "code",
   "execution_count": 46,
   "id": "90258d41-202e-42f9-9e7e-5b99354b2d6c",
   "metadata": {},
   "outputs": [],
   "source": [
    "def pullPhoneScreen(resize_ratio=None, as_numpy=False, print_times=False):\n",
    "    s = time.time()\n",
    "    adb(\"shell screencap -p /sdcard/screen.png\")\n",
    "    adb(\"pull /sdcard/screen.png ./game.png\")\n",
    "    adb(\"shell rm /sdcard/screen.png\")\n",
    "    im = Image.open(\"game.png\")\n",
    "    im = im.convert(\"RGB\")\n",
    "    if resize_ratio is not None:\n",
    "        im = im.resize(\n",
    "            (int(im.width * resize_ratio), int(im.height * resize_ratio)),\n",
    "            Image.Resampling.LANCZOS,\n",
    "        )\n",
    "    if print_times:\n",
    "        print(\"pull image took \", time.time() - s)\n",
    "    if as_numpy:\n",
    "        return numpy.array(im)\n",
    "    return im\n",
    "\n",
    "\n",
    "def yieldPhoneScreen():\n",
    "    while True:\n",
    "        yield pullPhoneScreen()"
   ]
  },
  {
   "cell_type": "code",
   "execution_count": 47,
   "id": "f74a8edf-4198-46f0-9fc4-4ead9389116a",
   "metadata": {},
   "outputs": [],
   "source": [
    "def PillowToCv2(img):\n",
    "    nimg = np.array(img)\n",
    "    im = cv2.cvtColor(nimg, cv2.COLOR_RGB2BGR)\n",
    "    return im"
   ]
  },
  {
   "cell_type": "code",
   "execution_count": 48,
   "id": "c603a842-6eda-45f2-b19b-0a61fec67284",
   "metadata": {},
   "outputs": [],
   "source": [
    "import cv2\n",
    "import numpy as np"
   ]
  },
  {
   "cell_type": "code",
   "execution_count": 49,
   "id": "33b6dddb-0f2e-4066-9586-4b07f755be42",
   "metadata": {},
   "outputs": [],
   "source": [
    "class Beholder_Layer:\n",
    "    def __init__(self, name, data):\n",
    "        self.name = name\n",
    "        self.data = data\n",
    "\n",
    "    def show(self):\n",
    "        plt.imshow(self.data)\n",
    "\n",
    "    def chop(self, new_name, x, y, h, w):\n",
    "        return BeholderLayer(new_name, self.data[y : y + h, x : x + w])"
   ]
  },
  {
   "cell_type": "code",
   "execution_count": 50,
   "id": "ff6cd617-0f20-441b-b37a-4548a76299ba",
   "metadata": {},
   "outputs": [],
   "source": [
    "class Beholder_Layer_Chopper:\n",
    "    def __init__(self, name):\n",
    "        self.name = name\n",
    "\n",
    "    def run(self, bh: Beholder):\n",
    "        pass"
   ]
  },
  {
   "cell_type": "code",
   "execution_count": 103,
   "id": "addadd34-28be-4024-8b59-423aa590c34c",
   "metadata": {},
   "outputs": [],
   "source": [
    "class Beholder_Layer_Chopper_Grayscale(Beholder_Layer_Chopper):\n",
    "    def __init__(self, name, from_layer):\n",
    "        self.name = name\n",
    "        self.from_layer = from_layer\n",
    "\n",
    "    def run(self, bh: Beholder):\n",
    "        o = {}\n",
    "        o[self.name] = Beholder_Layer(\n",
    "            name=self.name,\n",
    "            data=cv2.cvtColor(bh.layers[self.from_layer].data, cv2.COLOR_BGR2GRAY),\n",
    "        )\n",
    "        return o"
   ]
  },
  {
   "cell_type": "code",
   "execution_count": 104,
   "id": "f4cafc8a-04de-410f-b124-63001d9255b1",
   "metadata": {},
   "outputs": [],
   "source": [
    "class Beholder_Layer_Chopper_AtCord(Beholder_Layer_Chopper):\n",
    "    def __init__(self, name, from_layer, x, y, h, w):\n",
    "        self.name = name\n",
    "        self.from_layer = from_layer\n",
    "        self.x = x\n",
    "        self.y = y\n",
    "        self.w = w\n",
    "        self.h = h\n",
    "\n",
    "    def run(self, bh: Beholder):\n",
    "        o = {}\n",
    "        o[self.name] = bh.layers[self.from_layer].data\n",
    "        return o"
   ]
  },
  {
   "cell_type": "code",
   "execution_count": 105,
   "id": "eeafe9e5-85ca-46ef-b2c9-80d95c317d88",
   "metadata": {},
   "outputs": [],
   "source": [
    "class Beholder_Matcher:\n",
    "    def __init__(self, label, layer, data):\n",
    "        self.label = label\n",
    "        self.layer = layer\n",
    "        self.data = data"
   ]
  },
  {
   "cell_type": "code",
   "execution_count": 106,
   "id": "0938e497-7499-494e-9431-2a15744f50f6",
   "metadata": {},
   "outputs": [],
   "source": [
    "class Beholder:\n",
    "    def __init__(self, videoFrameGenerator):\n",
    "        self.generator = videoFrameGenerator()\n",
    "        self.matchers = []\n",
    "        self.threshhold = 0.95\n",
    "        self.layers = {}\n",
    "        self.layer_modifiers = []\n",
    "\n",
    "    def addLayerModifer(self, ch: Beholder_Layer_Chopper):\n",
    "        self.layer_modifiers.append(ch)\n",
    "\n",
    "    def addDefaultMatcher(self, label, filename, layer=\"gray\"):\n",
    "        if Path(filename).exists():\n",
    "            self.matchers.append(\n",
    "                Beholder_Matcher(label, layer, cv2.imread(filename, 0))\n",
    "            )\n",
    "        else:\n",
    "            print(\"File is missing\")\n",
    "\n",
    "    def readNextImage(self):\n",
    "        self.layers[\"image\"] = Beholder_Layer(\n",
    "            name=\"image\", data=PillowToCv2(next(self.generator))\n",
    "        )\n",
    "\n",
    "    def digestImage(self):\n",
    "        for m in self.layer_modifiers:\n",
    "            self.layers.update(m.run(self))\n",
    "\n",
    "    def findMatches(self, matchers=None):\n",
    "        if matchers is None:\n",
    "            matchers = self.matchers\n",
    "        self.readNextImage()\n",
    "        self.digestImage()\n",
    "        matches = []\n",
    "        for m in matchers:\n",
    "            result = cv2.matchTemplate(self.gray, m.data, method=cv2.TM_CCOEFF_NORMED)\n",
    "            min_val, max_val, min_loc, max_loc = cv2.minMaxLoc(result)\n",
    "\n",
    "            if max_val > self.threshhold:\n",
    "                height, width = template.shape[:2]\n",
    "\n",
    "                top_left = max_loc\n",
    "                center = (top_left[0] + width / 2, top_left[1] + height / 2)\n",
    "                matches.append((name, center))\n",
    "        return matches"
   ]
  },
  {
   "cell_type": "code",
   "execution_count": 107,
   "id": "a98a0d80-8594-41fa-a141-ba2f1bc24efb",
   "metadata": {},
   "outputs": [],
   "source": [
    "a = Beholder(videoFrameGenerator=yieldPhoneScreen)"
   ]
  },
  {
   "cell_type": "code",
   "execution_count": 108,
   "id": "356b9d3b-47ea-4871-bbdd-a809ba848242",
   "metadata": {},
   "outputs": [],
   "source": [
    "a.addLayerModifer(Beholder_Layer_Chopper_Grayscale(name=\"gray\", from_layer=\"image\"))"
   ]
  },
  {
   "cell_type": "code",
   "execution_count": 110,
   "id": "5c241ad1-a129-43a7-b32d-25c297cef06e",
   "metadata": {},
   "outputs": [],
   "source": [
    "a.addLayerModifer(\n",
    "    Beholder_Layer_Chopper_AtCord(\n",
    "        name=\"inventory\", from_layer=\"gray\", x=800, y=100, w=200, h=350\n",
    "    )\n",
    ")"
   ]
  },
  {
   "cell_type": "code",
   "execution_count": 111,
   "id": "51b8054b-7832-45ae-abbe-a99b30233b4c",
   "metadata": {},
   "outputs": [],
   "source": [
    "a.addDefaultMatcher(label=\"Button\", layer=\"gray\", filename=\"./templates/Button.png\")\n",
    "a.addDefaultMatcher(\n",
    "    label=\"UnfinishedSmithing\",\n",
    "    layer=\"inventory\",\n",
    "    filename=\"./templates/forge_item.png\",\n",
    ")\n",
    "a.addDefaultMatcher(\n",
    "    label=\"FinishedArrow\", layer=\"gray\", filename=\"./templates/FinishedArrow.png\"\n",
    ")"
   ]
  },
  {
   "cell_type": "code",
   "execution_count": null,
   "id": "3ad84589-979c-45f6-91b0-e90154a54726",
   "metadata": {},
   "outputs": [],
   "source": []
  },
  {
   "cell_type": "code",
   "execution_count": 112,
   "id": "ded26ef8-4ffc-4b2a-be43-b18d9c04bfbf",
   "metadata": {},
   "outputs": [
    {
     "name": "stderr",
     "output_type": "stream",
     "text": [
      "adb: no devices/emulators found\n",
      "adb: no devices/emulators found\n"
     ]
    }
   ],
   "source": [
    "a.readNextImage()"
   ]
  },
  {
   "cell_type": "code",
   "execution_count": 73,
   "id": "45763ec9-d69c-4780-9584-d4fd38843cc7",
   "metadata": {},
   "outputs": [
    {
     "ename": "AttributeError",
     "evalue": "'numpy.ndarray' object has no attribute 'chop'",
     "output_type": "error",
     "traceback": [
      "\u001b[0;31m---------------------------------------------------------------------------\u001b[0m",
      "\u001b[0;31mAttributeError\u001b[0m                            Traceback (most recent call last)",
      "Input \u001b[0;32mIn [73]\u001b[0m, in \u001b[0;36m<cell line: 1>\u001b[0;34m()\u001b[0m\n\u001b[0;32m----> 1\u001b[0m \u001b[43ma\u001b[49m\u001b[38;5;241;43m.\u001b[39;49m\u001b[43mdigestImage\u001b[49m\u001b[43m(\u001b[49m\u001b[43m)\u001b[49m\n",
      "Input \u001b[0;32mIn [68]\u001b[0m, in \u001b[0;36mBeholder.digestImage\u001b[0;34m(self)\u001b[0m\n\u001b[1;32m     31\u001b[0m \u001b[38;5;28mself\u001b[39m\u001b[38;5;241m.\u001b[39mlayers[\u001b[38;5;124m\"\u001b[39m\u001b[38;5;124mgray\u001b[39m\u001b[38;5;124m\"\u001b[39m] \u001b[38;5;241m=\u001b[39m cv2\u001b[38;5;241m.\u001b[39mcvtColor(\u001b[38;5;28mself\u001b[39m\u001b[38;5;241m.\u001b[39mlayers[\u001b[38;5;124m\"\u001b[39m\u001b[38;5;124mimage\u001b[39m\u001b[38;5;124m\"\u001b[39m], cv2\u001b[38;5;241m.\u001b[39mCOLOR_BGR2GRAY)\n\u001b[1;32m     32\u001b[0m \u001b[38;5;28;01mfor\u001b[39;00m m \u001b[38;5;129;01min\u001b[39;00m \u001b[38;5;28mself\u001b[39m\u001b[38;5;241m.\u001b[39mlayer_choppers:\n\u001b[0;32m---> 33\u001b[0m     \u001b[38;5;28mself\u001b[39m\u001b[38;5;241m.\u001b[39mlayers\u001b[38;5;241m.\u001b[39mupdate(\u001b[43mm\u001b[49m\u001b[38;5;241;43m.\u001b[39;49m\u001b[43mrun\u001b[49m\u001b[43m(\u001b[49m\u001b[38;5;28;43mself\u001b[39;49m\u001b[43m)\u001b[49m)\n",
      "Input \u001b[0;32mIn [51]\u001b[0m, in \u001b[0;36mBeholder_Layer_Chopper_Cord.run\u001b[0;34m(self, bh)\u001b[0m\n\u001b[1;32m     10\u001b[0m \u001b[38;5;28;01mdef\u001b[39;00m \u001b[38;5;21mrun\u001b[39m(\u001b[38;5;28mself\u001b[39m, bh: Beholder):\n\u001b[1;32m     11\u001b[0m     o \u001b[38;5;241m=\u001b[39m {}\n\u001b[0;32m---> 12\u001b[0m     o[\u001b[38;5;28mself\u001b[39m\u001b[38;5;241m.\u001b[39mname] \u001b[38;5;241m=\u001b[39m \u001b[43mbh\u001b[49m\u001b[38;5;241;43m.\u001b[39;49m\u001b[43mlayers\u001b[49m\u001b[43m[\u001b[49m\u001b[38;5;28;43mself\u001b[39;49m\u001b[38;5;241;43m.\u001b[39;49m\u001b[43mfrom_layer\u001b[49m\u001b[43m]\u001b[49m\u001b[38;5;241;43m.\u001b[39;49m\u001b[43mchop\u001b[49m(\n\u001b[1;32m     13\u001b[0m         \u001b[38;5;28mself\u001b[39m\u001b[38;5;241m.\u001b[39mname, \u001b[38;5;28mself\u001b[39m\u001b[38;5;241m.\u001b[39mx, \u001b[38;5;28mself\u001b[39m\u001b[38;5;241m.\u001b[39my, \u001b[38;5;28mself\u001b[39m\u001b[38;5;241m.\u001b[39mh, \u001b[38;5;28mself\u001b[39m\u001b[38;5;241m.\u001b[39mw\n\u001b[1;32m     14\u001b[0m     )\n\u001b[1;32m     15\u001b[0m     \u001b[38;5;28;01mreturn\u001b[39;00m o\n",
      "\u001b[0;31mAttributeError\u001b[0m: 'numpy.ndarray' object has no attribute 'chop'"
     ]
    }
   ],
   "source": [
    "a.digestImage()"
   ]
  },
  {
   "cell_type": "code",
   "execution_count": 40,
   "id": "57ab896c-b475-4b43-a471-36e8f3fe5dec",
   "metadata": {},
   "outputs": [
    {
     "data": {
      "text/plain": [
       "dict_keys(['image', 'gray', 'random test'])"
      ]
     },
     "execution_count": 40,
     "metadata": {},
     "output_type": "execute_result"
    }
   ],
   "source": [
    "a.layers.keys()"
   ]
  },
  {
   "cell_type": "code",
   "execution_count": 41,
   "id": "802da14a-8cd8-4a45-b11d-b9f34c38df57",
   "metadata": {},
   "outputs": [],
   "source": [
    "from matplotlib import pyplot as plt"
   ]
  },
  {
   "cell_type": "code",
   "execution_count": 46,
   "id": "c5696e2c-393b-4f6d-8513-8a21947ef5da",
   "metadata": {},
   "outputs": [
    {
     "data": {
      "text/plain": [
       "<matplotlib.image.AxesImage at 0x7fb810c27d60>"
      ]
     },
     "execution_count": 46,
     "metadata": {},
     "output_type": "execute_result"
    },
    {
     "data": {
      "image/png": "[encoded data removed]",
      "text/plain": [
       "<Figure size 432x288 with 1 Axes>"
      ]
     },
     "metadata": {
      "needs_background": "light"
     },
     "output_type": "display_data"
    }
   ],
   "source": [
    "plt.imshow(a.layers[\"random test\"])"
   ]
  },
  {
   "cell_type": "code",
   "execution_count": 25,
   "id": "f17b81f2-0cee-4e74-8c3a-08bfc606bdbf",
   "metadata": {},
   "outputs": [],
   "source": []
  },
  {
   "cell_type": "code",
   "execution_count": 27,
   "id": "84d30d02-c527-4cbd-a210-f8510324a46e",
   "metadata": {},
   "outputs": [
    {
     "name": "stdout",
     "output_type": "stream",
     "text": [
      "[]\n",
      "[('Button', (1701.0, 1016.0))]\n",
      "[('UnfinishedSmithing', (1924.0, 866.0))]\n",
      "[]\n",
      "[]\n",
      "[]\n",
      "[]\n",
      "[]\n",
      "[('FinishedArrow', (1993.0, 891.0))]\n",
      "[('Button', (1701.0, 1016.0))]\n",
      "[('UnfinishedSmithing', (1924.0, 866.0))]\n",
      "[]\n",
      "[]\n",
      "[]\n",
      "[]\n",
      "[]\n",
      "[('FinishedArrow', (1993.0, 891.0))]\n",
      "[]\n",
      "[('Button', (1701.0, 1016.0))]\n",
      "[('UnfinishedSmithing', (1924.0, 866.0))]\n",
      "[]\n",
      "[]\n",
      "[]\n",
      "[]\n"
     ]
    },
    {
     "ename": "KeyboardInterrupt",
     "evalue": "",
     "output_type": "error",
     "traceback": [
      "\u001b[0;31m---------------------------------------------------------------------------\u001b[0m",
      "\u001b[0;31mKeyboardInterrupt\u001b[0m                         Traceback (most recent call last)",
      "Input \u001b[0;32mIn [27]\u001b[0m, in \u001b[0;36m<cell line: 1>\u001b[0;34m()\u001b[0m\n\u001b[1;32m      1\u001b[0m \u001b[38;5;28;01mwhile\u001b[39;00m \u001b[38;5;28;01mTrue\u001b[39;00m:\n\u001b[0;32m----> 2\u001b[0m     matches \u001b[38;5;241m=\u001b[39m \u001b[43ma\u001b[49m\u001b[38;5;241;43m.\u001b[39;49m\u001b[43mfindMatches\u001b[49m\u001b[43m(\u001b[49m\u001b[43m)\u001b[49m\n\u001b[1;32m      3\u001b[0m     \u001b[38;5;28mprint\u001b[39m(matches)\n\u001b[1;32m      4\u001b[0m     \u001b[38;5;28;01mif\u001b[39;00m \u001b[38;5;28mlen\u001b[39m(matches)\u001b[38;5;241m>\u001b[39m\u001b[38;5;241m0\u001b[39m:\n",
      "Input \u001b[0;32mIn [23]\u001b[0m, in \u001b[0;36mBeholder.findMatches\u001b[0;34m(self, matchers)\u001b[0m\n\u001b[1;32m     22\u001b[0m \u001b[38;5;28;01mif\u001b[39;00m matchers \u001b[38;5;129;01mis\u001b[39;00m \u001b[38;5;28;01mNone\u001b[39;00m:\n\u001b[1;32m     23\u001b[0m     matchers \u001b[38;5;241m=\u001b[39m \u001b[38;5;28mself\u001b[39m\u001b[38;5;241m.\u001b[39mmatchers\n\u001b[0;32m---> 24\u001b[0m \u001b[38;5;28;43mself\u001b[39;49m\u001b[38;5;241;43m.\u001b[39;49m\u001b[43mreadNextImage\u001b[49m\u001b[43m(\u001b[49m\u001b[43m)\u001b[49m\n\u001b[1;32m     25\u001b[0m matches \u001b[38;5;241m=\u001b[39m []\n\u001b[1;32m     26\u001b[0m \u001b[38;5;28;01mfor\u001b[39;00m name, template \u001b[38;5;129;01min\u001b[39;00m matchers:\n",
      "Input \u001b[0;32mIn [23]\u001b[0m, in \u001b[0;36mBeholder.readNextImage\u001b[0;34m(self)\u001b[0m\n\u001b[1;32m     17\u001b[0m \u001b[38;5;28;01mdef\u001b[39;00m \u001b[38;5;21mreadNextImage\u001b[39m(\u001b[38;5;28mself\u001b[39m):\n\u001b[0;32m---> 18\u001b[0m     \u001b[38;5;28mself\u001b[39m\u001b[38;5;241m.\u001b[39mimage \u001b[38;5;241m=\u001b[39m PillowToCv2(\u001b[38;5;28;43mnext\u001b[39;49m\u001b[43m(\u001b[49m\u001b[38;5;28;43mself\u001b[39;49m\u001b[38;5;241;43m.\u001b[39;49m\u001b[43mgenerator\u001b[49m\u001b[43m)\u001b[49m)\n\u001b[1;32m     19\u001b[0m     \u001b[38;5;28mself\u001b[39m\u001b[38;5;241m.\u001b[39mgray \u001b[38;5;241m=\u001b[39m cv2\u001b[38;5;241m.\u001b[39mcvtColor(\u001b[38;5;28mself\u001b[39m\u001b[38;5;241m.\u001b[39mimage, cv2\u001b[38;5;241m.\u001b[39mCOLOR_BGR2GRAY)\n",
      "Input \u001b[0;32mIn [14]\u001b[0m, in \u001b[0;36myieldPhoneScreen\u001b[0;34m()\u001b[0m\n\u001b[1;32m     20\u001b[0m \u001b[38;5;28;01mdef\u001b[39;00m \u001b[38;5;21myieldPhoneScreen\u001b[39m():\n\u001b[1;32m     21\u001b[0m     \u001b[38;5;28;01mwhile\u001b[39;00m \u001b[38;5;28;01mTrue\u001b[39;00m:\n\u001b[0;32m---> 22\u001b[0m         \u001b[38;5;28;01myield\u001b[39;00m \u001b[43mpullPhoneScreen\u001b[49m\u001b[43m(\u001b[49m\u001b[43m)\u001b[49m\n",
      "Input \u001b[0;32mIn [14]\u001b[0m, in \u001b[0;36mpullPhoneScreen\u001b[0;34m(resize_ratio, as_numpy, print_times)\u001b[0m\n\u001b[1;32m      1\u001b[0m \u001b[38;5;28;01mdef\u001b[39;00m \u001b[38;5;21mpullPhoneScreen\u001b[39m(resize_ratio\u001b[38;5;241m=\u001b[39m\u001b[38;5;28;01mNone\u001b[39;00m, as_numpy\u001b[38;5;241m=\u001b[39m\u001b[38;5;28;01mFalse\u001b[39;00m, print_times\u001b[38;5;241m=\u001b[39m\u001b[38;5;28;01mFalse\u001b[39;00m):\n\u001b[1;32m      2\u001b[0m     s \u001b[38;5;241m=\u001b[39m time\u001b[38;5;241m.\u001b[39mtime()\n\u001b[0;32m----> 3\u001b[0m     \u001b[43madb\u001b[49m\u001b[43m(\u001b[49m\u001b[38;5;124;43m\"\u001b[39;49m\u001b[38;5;124;43mshell screencap -p /sdcard/screen.png\u001b[39;49m\u001b[38;5;124;43m\"\u001b[39;49m\u001b[43m)\u001b[49m\n\u001b[1;32m      4\u001b[0m     adb(\u001b[38;5;124m\"\u001b[39m\u001b[38;5;124mpull /sdcard/screen.png ./game.png\u001b[39m\u001b[38;5;124m\"\u001b[39m)\n\u001b[1;32m      5\u001b[0m     adb(\u001b[38;5;124m\"\u001b[39m\u001b[38;5;124mshell rm /sdcard/screen.png\u001b[39m\u001b[38;5;124m\"\u001b[39m)\n",
      "Input \u001b[0;32mIn [3]\u001b[0m, in \u001b[0;36madb\u001b[0;34m(cmd, debug, returns_POpen, close_fds)\u001b[0m\n\u001b[1;32m      4\u001b[0m     cmd \u001b[38;5;241m=\u001b[39m cmd\u001b[38;5;241m.\u001b[39msplit(\u001b[38;5;124m\"\u001b[39m\u001b[38;5;124m \u001b[39m\u001b[38;5;124m\"\u001b[39m)\n\u001b[1;32m      5\u001b[0m cmd \u001b[38;5;241m=\u001b[39m [\u001b[38;5;124m\"\u001b[39m\u001b[38;5;124madb\u001b[39m\u001b[38;5;124m\"\u001b[39m] \u001b[38;5;241m+\u001b[39m cmd\n\u001b[0;32m----> 6\u001b[0m \u001b[38;5;28;01mreturn\u001b[39;00m \u001b[43mshell\u001b[49m\u001b[43m(\u001b[49m\u001b[43mcmd\u001b[49m\u001b[43m,\u001b[49m\u001b[43m \u001b[49m\u001b[43mdebug\u001b[49m\u001b[38;5;241;43m=\u001b[39;49m\u001b[43mdebug\u001b[49m\u001b[43m,\u001b[49m\u001b[43m \u001b[49m\u001b[43mreturns_POpen\u001b[49m\u001b[38;5;241;43m=\u001b[39;49m\u001b[43mreturns_POpen\u001b[49m\u001b[43m,\u001b[49m\u001b[43m \u001b[49m\u001b[43mclose_fds\u001b[49m\u001b[38;5;241;43m=\u001b[39;49m\u001b[43mclose_fds\u001b[49m\u001b[43m)\u001b[49m\n",
      "Input \u001b[0;32mIn [2]\u001b[0m, in \u001b[0;36mshell\u001b[0;34m(cmd, debug, returns_POpen, close_fds)\u001b[0m\n\u001b[1;32m      6\u001b[0m     process \u001b[38;5;241m=\u001b[39m subprocess\u001b[38;5;241m.\u001b[39mPopen(cmd, close_fds\u001b[38;5;241m=\u001b[39mclose_fds)\n\u001b[1;32m      7\u001b[0m     \u001b[38;5;28;01mreturn\u001b[39;00m process\n\u001b[0;32m----> 9\u001b[0m process \u001b[38;5;241m=\u001b[39m \u001b[43msubprocess\u001b[49m\u001b[38;5;241;43m.\u001b[39;49m\u001b[43mrun\u001b[49m\u001b[43m(\u001b[49m\u001b[43mcmd\u001b[49m\u001b[43m,\u001b[49m\u001b[43m \u001b[49m\u001b[43mstdout\u001b[49m\u001b[38;5;241;43m=\u001b[39;49m\u001b[43msubprocess\u001b[49m\u001b[38;5;241;43m.\u001b[39;49m\u001b[43mPIPE\u001b[49m\u001b[43m)\u001b[49m\n\u001b[1;32m     10\u001b[0m \u001b[38;5;28;01mreturn\u001b[39;00m process\u001b[38;5;241m.\u001b[39mstdout\u001b[38;5;241m.\u001b[39mdecode(\u001b[38;5;124m\"\u001b[39m\u001b[38;5;124mutf-8\u001b[39m\u001b[38;5;124m\"\u001b[39m)\u001b[38;5;241m.\u001b[39mstrip()\u001b[38;5;241m.\u001b[39msplitlines()\n",
      "File \u001b[0;32m/usr/lib/python3.10/subprocess.py:503\u001b[0m, in \u001b[0;36mrun\u001b[0;34m(input, capture_output, timeout, check, *popenargs, **kwargs)\u001b[0m\n\u001b[1;32m    501\u001b[0m \u001b[38;5;28;01mwith\u001b[39;00m Popen(\u001b[38;5;241m*\u001b[39mpopenargs, \u001b[38;5;241m*\u001b[39m\u001b[38;5;241m*\u001b[39mkwargs) \u001b[38;5;28;01mas\u001b[39;00m process:\n\u001b[1;32m    502\u001b[0m     \u001b[38;5;28;01mtry\u001b[39;00m:\n\u001b[0;32m--> 503\u001b[0m         stdout, stderr \u001b[38;5;241m=\u001b[39m \u001b[43mprocess\u001b[49m\u001b[38;5;241;43m.\u001b[39;49m\u001b[43mcommunicate\u001b[49m\u001b[43m(\u001b[49m\u001b[38;5;28;43minput\u001b[39;49m\u001b[43m,\u001b[49m\u001b[43m \u001b[49m\u001b[43mtimeout\u001b[49m\u001b[38;5;241;43m=\u001b[39;49m\u001b[43mtimeout\u001b[49m\u001b[43m)\u001b[49m\n\u001b[1;32m    504\u001b[0m     \u001b[38;5;28;01mexcept\u001b[39;00m TimeoutExpired \u001b[38;5;28;01mas\u001b[39;00m exc:\n\u001b[1;32m    505\u001b[0m         process\u001b[38;5;241m.\u001b[39mkill()\n",
      "File \u001b[0;32m/usr/lib/python3.10/subprocess.py:1136\u001b[0m, in \u001b[0;36mPopen.communicate\u001b[0;34m(self, input, timeout)\u001b[0m\n\u001b[1;32m   1134\u001b[0m     \u001b[38;5;28mself\u001b[39m\u001b[38;5;241m.\u001b[39m_stdin_write(\u001b[38;5;28minput\u001b[39m)\n\u001b[1;32m   1135\u001b[0m \u001b[38;5;28;01melif\u001b[39;00m \u001b[38;5;28mself\u001b[39m\u001b[38;5;241m.\u001b[39mstdout:\n\u001b[0;32m-> 1136\u001b[0m     stdout \u001b[38;5;241m=\u001b[39m \u001b[38;5;28;43mself\u001b[39;49m\u001b[38;5;241;43m.\u001b[39;49m\u001b[43mstdout\u001b[49m\u001b[38;5;241;43m.\u001b[39;49m\u001b[43mread\u001b[49m\u001b[43m(\u001b[49m\u001b[43m)\u001b[49m\n\u001b[1;32m   1137\u001b[0m     \u001b[38;5;28mself\u001b[39m\u001b[38;5;241m.\u001b[39mstdout\u001b[38;5;241m.\u001b[39mclose()\n\u001b[1;32m   1138\u001b[0m \u001b[38;5;28;01melif\u001b[39;00m \u001b[38;5;28mself\u001b[39m\u001b[38;5;241m.\u001b[39mstderr:\n",
      "\u001b[0;31mKeyboardInterrupt\u001b[0m: "
     ]
    }
   ],
   "source": [
    "while True:\n",
    "    matches = a.findMatches()\n",
    "    print(matches)\n",
    "    if len(matches) > 0:\n",
    "        adb(f\"shell input tap {matches[0][1][0]} {matches[0][1][1]}\")\n",
    "    time.sleep(3.75)"
   ]
  },
  {
   "cell_type": "code",
   "execution_count": null,
   "id": "02487eca-61b7-4653-af47-98e2c1b30c32",
   "metadata": {},
   "outputs": [],
   "source": []
  }
 ],
 "metadata": {
  "kernelspec": {
   "display_name": "Python 3 (ipykernel)",
   "language": "python",
   "name": "python3"
  },
  "language_info": {
   "codemirror_mode": {
    "name": "ipython",
    "version": 3
   },
   "file_extension": ".py",
   "mimetype": "text/x-python",
   "name": "python",
   "nbconvert_exporter": "python",
   "pygments_lexer": "ipython3",
   "version": "3.10.4"
  },
  "widgets": {
   "application/vnd.jupyter.widget-state+json": {
    "state": {},
    "version_major": 2,
    "version_minor": 0
   }
  }
 },
 "nbformat": 4,
 "nbformat_minor": 5
}
