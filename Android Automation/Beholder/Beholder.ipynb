{
 "cells": [
  {
   "cell_type": "code",
   "execution_count": 32,
   "id": "f61688a7-e460-4504-8445-7abe8ad104c4",
   "metadata": {},
   "outputs": [],
   "source": [
    "import io\n",
    "import json\n",
    "import os\n",
    "import random\n",
    "import subprocess\n",
    "import time\n",
    "from collections import defaultdict\n",
    "from datetime import datetime\n",
    "from pathlib import Path\n",
    "\n",
    "import numpy\n",
    "import pytesseract\n",
    "from IPython.display import clear_output, display\n",
    "from PIL import Image, ImageDraw, ImageEnhance, ImageFilter\n",
    "from tqdm import tqdm"
   ]
  },
  {
   "cell_type": "code",
   "execution_count": 33,
   "id": "c603a842-6eda-45f2-b19b-0a61fec67284",
   "metadata": {},
   "outputs": [],
   "source": [
    "import cv2\n",
    "import numpy as np"
   ]
  },
  {
   "cell_type": "code",
   "execution_count": 34,
   "id": "802da14a-8cd8-4a45-b11d-b9f34c38df57",
   "metadata": {},
   "outputs": [],
   "source": [
    "from matplotlib import pyplot as plt"
   ]
  },
  {
   "cell_type": "code",
   "execution_count": 35,
   "id": "77f97c09-8c68-4d34-802f-8f092b099920",
   "metadata": {},
   "outputs": [],
   "source": [
    "def shell(cmd, debug=False, returns_POpen=False, close_fds=False):\n",
    "    if debug:\n",
    "        print(cmd)\n",
    "\n",
    "    if returns_POpen:\n",
    "        process = subprocess.Popen(cmd, close_fds=close_fds)\n",
    "        return process\n",
    "\n",
    "    process = subprocess.run(cmd, stdout=subprocess.PIPE)\n",
    "    return process.stdout.decode(\"utf-8\").strip().splitlines()"
   ]
  },
  {
   "cell_type": "code",
   "execution_count": 36,
   "id": "d188e3df-b7e6-4b62-9272-e78f0c7df603",
   "metadata": {},
   "outputs": [
    {
     "data": {
      "text/plain": [
       "[]"
      ]
     },
     "execution_count": 36,
     "metadata": {},
     "output_type": "execute_result"
    }
   ],
   "source": [
    "def adb(cmd, debug=False, returns_POpen=False, close_fds=False):\n",
    "    # This function runs adb commands on your connected device or emulator.\n",
    "    if type(cmd) == str:\n",
    "        cmd = cmd.split(\" \")\n",
    "    cmd = [\"adb\"] + cmd\n",
    "    return shell(cmd, debug=debug, returns_POpen=returns_POpen, close_fds=close_fds)\n",
    "\n",
    "\n",
    "def TypeTextOnPhone(text):\n",
    "    adb([\"shell\", \"input\", \"text\", text.replace(\" \", \"%s\")])\n",
    "    adb([\"shell\", \"input\", \"keyevent\", \"66\"])\n",
    "\n",
    "\n",
    "adb(\"wait-for-device\")"
   ]
  },
  {
   "cell_type": "code",
   "execution_count": 37,
   "id": "0cef4d81-75b3-477e-8e01-7dcacdcf3b4f",
   "metadata": {},
   "outputs": [],
   "source": [
    "# TypeTextOnPhone(\"\")"
   ]
  },
  {
   "cell_type": "code",
   "execution_count": 38,
   "id": "90258d41-202e-42f9-9e7e-5b99354b2d6c",
   "metadata": {},
   "outputs": [],
   "source": [
    "def pullPhoneScreen(resize_ratio=None, as_numpy=False, print_times=False):\n",
    "    s = time.time()\n",
    "    adb(\"shell screencap -p /sdcard/screen.png\")\n",
    "    adb(\"pull /sdcard/screen.png ./game.png\")\n",
    "    adb(\"shell rm /sdcard/screen.png\")\n",
    "    im = Image.open(\"game.png\")\n",
    "    im = im.convert(\"RGB\")\n",
    "    if resize_ratio is not None:\n",
    "        im = im.resize(\n",
    "            (int(im.width * resize_ratio), int(im.height * resize_ratio)),\n",
    "            Image.Resampling.LANCZOS,\n",
    "        )\n",
    "    if print_times:\n",
    "        print(\"pull image took \", time.time() - s)\n",
    "    if as_numpy:\n",
    "        return numpy.array(im)\n",
    "    return im"
   ]
  },
  {
   "cell_type": "code",
   "execution_count": 39,
   "id": "f74a8edf-4198-46f0-9fc4-4ead9389116a",
   "metadata": {},
   "outputs": [],
   "source": [
    "def PillowToCv2(img):\n",
    "    img = np.array(img)\n",
    "    im = cv2.cvtColor(img, cv2.COLOR_RGB2BGR)\n",
    "    return im"
   ]
  },
  {
   "cell_type": "code",
   "execution_count": 40,
   "id": "33b6dddb-0f2e-4066-9586-4b07f755be42",
   "metadata": {},
   "outputs": [],
   "source": [
    "class Beholder_Layer:\n",
    "    def __init__(self, name, data, offsets=None):\n",
    "        self.offsets = offsets\n",
    "        self.name = name\n",
    "        self.data = data\n",
    "\n",
    "    def show(self):\n",
    "        img = cv2.cvtColor(self.data, cv2.COLOR_BGR2RGB)\n",
    "        display(Image.fromarray(img))\n",
    "\n",
    "    def chop(self, new_name, x, y, h, w):\n",
    "        return Beholder_Layer(\n",
    "            name=new_name, data=self.data[y : y + h, x : x + w], offsets=(x, y)\n",
    "        )"
   ]
  },
  {
   "cell_type": "code",
   "execution_count": 41,
   "id": "ff6cd617-0f20-441b-b37a-4548a76299ba",
   "metadata": {},
   "outputs": [],
   "source": [
    "class Beholder_Layer_Chopper:\n",
    "    def __init__(self, name):\n",
    "        self.name = name\n",
    "\n",
    "    def run(self, bh):\n",
    "        pass"
   ]
  },
  {
   "cell_type": "code",
   "execution_count": 42,
   "id": "d936e8f1-d881-435e-bc8b-168bcdbb89ee",
   "metadata": {},
   "outputs": [],
   "source": [
    "class Beholder_Matcher:\n",
    "    def __init__(self, name, layer, data):\n",
    "        self.name = name\n",
    "        self.layer = layer\n",
    "        self.data = data\n",
    "\n",
    "    def show(self):\n",
    "        img = cv2.cvtColor(self.data, cv2.COLOR_BGR2RGB)\n",
    "        display(Image.fromarray(img))\n",
    "\n",
    "    def __repr__(self):\n",
    "        return f\"BW: {self.name}\""
   ]
  },
  {
   "cell_type": "code",
   "execution_count": null,
   "id": "8e010fc5-6f87-4ff4-902e-1b8462c38ca5",
   "metadata": {},
   "outputs": [],
   "source": []
  },
  {
   "cell_type": "code",
   "execution_count": 43,
   "id": "0938e497-7499-494e-9431-2a15744f50f6",
   "metadata": {},
   "outputs": [],
   "source": [
    "class Beholder:\n",
    "    def __init__(self, videoFrameGenerator):\n",
    "        self.generator = videoFrameGenerator\n",
    "        self.matchers = {}\n",
    "        self.threshhold = 0.95\n",
    "        self.layers = {}\n",
    "        self.layer_modifiers = []\n",
    "\n",
    "    def addLayerModifer(self, ch: Beholder_Layer_Chopper):\n",
    "        self.layer_modifiers.append(ch)\n",
    "\n",
    "    def addDefaultMatcher(self, name, filename, layer=\"gray\", convertToGray=True):\n",
    "        if Path(filename).exists():\n",
    "\n",
    "            img = PillowToCv2(Image.open(filename))\n",
    "            if convertToGray:\n",
    "                img = cv2.cvtColor(img, cv2.COLOR_BGR2GRAY)\n",
    "\n",
    "            self.matchers[name] = Beholder_Matcher(name, layer, img)\n",
    "        else:\n",
    "            print(\"File is missing\")\n",
    "\n",
    "    def readNextImage(self):\n",
    "        self.layers[\"image\"] = Beholder_Layer(\n",
    "            name=\"image\", data=PillowToCv2(self.generator())\n",
    "        )\n",
    "\n",
    "    def digestImage(self):\n",
    "        for m in self.layer_modifiers:\n",
    "            try:\n",
    "                self.layers.update(m.run(self))\n",
    "            except Exception as e:\n",
    "                print(e)\n",
    "\n",
    "    def findMatches(self, matchers=None):\n",
    "        if matchers is None:\n",
    "            matchers = self.matchers\n",
    "        self.readNextImage()\n",
    "        self.digestImage()\n",
    "        matches = defaultdict(list)\n",
    "        for m in matchers:\n",
    "            m = matchers[m]\n",
    "\n",
    "            result = cv2.matchTemplate(\n",
    "                self.layers[m.layer].data, m.data, method=cv2.TM_CCOEFF_NORMED\n",
    "            )\n",
    "            min_val, max_val, min_loc, max_loc = cv2.minMaxLoc(result)\n",
    "\n",
    "            if max_val > self.threshhold:\n",
    "                height, width = m.data.shape[:2]\n",
    "                layer_offset_y = 0\n",
    "                layer_offset_x = 0\n",
    "                if self.layers[m.layer].offsets is not None:\n",
    "                    layer_offset_x, layer_offset_y = self.layers[m.layer].offsets\n",
    "                top_left = max_loc\n",
    "                center = (\n",
    "                    (layer_offset_x + top_left[0] + (width / 2)),\n",
    "                    (layer_offset_y + top_left[1] + (height / 2)),\n",
    "                )\n",
    "\n",
    "                threshold = 0.8\n",
    "                loc = np.where(result >= threshold)\n",
    "\n",
    "                f = set()\n",
    "                sensitivity = 60\n",
    "                for pt in zip(*loc[::-1]):\n",
    "                    f.add(\n",
    "                        (\n",
    "                            round(layer_offset_x + pt[0] / sensitivity),\n",
    "                            layer_offset_y + round(pt[1] / sensitivity),\n",
    "                        )\n",
    "                    )\n",
    "\n",
    "                found_count = len(f)\n",
    "                matches[m.name].append((m, center, found_count))\n",
    "\n",
    "        return dict(matches)"
   ]
  },
  {
   "cell_type": "code",
   "execution_count": 44,
   "id": "57103a5f-6f1f-4b98-b1ff-0d394f90e76a",
   "metadata": {},
   "outputs": [],
   "source": [
    "class Beholder_Layer_Chopper_Grayscale(Beholder_Layer_Chopper):\n",
    "    def __init__(self, name, from_layer):\n",
    "        self.name = name\n",
    "        self.from_layer = from_layer\n",
    "\n",
    "    def run(self, bh: Beholder):\n",
    "        o = {}\n",
    "        o[self.name] = Beholder_Layer(\n",
    "            name=self.name,\n",
    "            data=cv2.cvtColor(bh.layers[self.from_layer].data, cv2.COLOR_BGR2GRAY),\n",
    "        )\n",
    "        return o"
   ]
  },
  {
   "cell_type": "code",
   "execution_count": 45,
   "id": "a29704de-7a77-4d4f-80bd-af07ee7111e4",
   "metadata": {},
   "outputs": [],
   "source": [
    "class Beholder_Layer_Tesseract(Beholder_Layer_Chopper):\n",
    "    def __init__(self, name, from_layer):\n",
    "        self.name = name\n",
    "        self.from_layer = from_layer\n",
    "\n",
    "    def run(self, bh: Beholder):\n",
    "        o = {}"
   ]
  },
  {
   "cell_type": "code",
   "execution_count": 46,
   "id": "f4cafc8a-04de-410f-b124-63001d9255b1",
   "metadata": {},
   "outputs": [],
   "source": [
    "class Beholder_Layer_Chopper_AtCord(Beholder_Layer_Chopper):\n",
    "    def __init__(self, name, from_layer, x, y, h, w, extract_text=False):\n",
    "        self.name = name\n",
    "        self.from_layer = from_layer\n",
    "        self.x = x\n",
    "        self.y = y\n",
    "        self.w = w\n",
    "        self.h = h\n",
    "        self.extract_text = extract_text\n",
    "\n",
    "    def run(self, bh: Beholder):\n",
    "        o = {}\n",
    "        o[self.name] = Beholder_Layer(\n",
    "            name=self.name,\n",
    "            data=bh.layers[self.from_layer].data[\n",
    "                self.y : self.y + self.h, self.x : self.x + self.w\n",
    "            ],\n",
    "            offsets=(self.x, self.y),\n",
    "        )\n",
    "        if self.extract_text:\n",
    "            img = Image.fromarray(bh[self.from_layer].data)\n",
    "            img = img.convert(\"L\")  # grayscale\n",
    "            img = img.filter(ImageFilter.MedianFilter())  # a little blur\n",
    "            img = img.point(lambda x: 0 if x < 140 else 255)  # threshold (binarize)\n",
    "\n",
    "            txt = pytesseract.image_to_string(img)\n",
    "            o[f\"{self.name}_Text\"] = txt.splitlines()\n",
    "        return o"
   ]
  },
  {
   "cell_type": "code",
   "execution_count": 47,
   "id": "c69ac7c4-c2b7-4e2c-acd5-d806213c3b09",
   "metadata": {},
   "outputs": [],
   "source": [
    "a = Beholder(videoFrameGenerator=pullPhoneScreen)\n",
    "\n",
    "a.addLayerModifer(Beholder_Layer_Chopper_Grayscale(name=\"gray\", from_layer=\"image\"))\n",
    "\n",
    "a.addLayerModifer(\n",
    "    Beholder_Layer_Chopper_AtCord(\n",
    "        name=\"inventory\", from_layer=\"gray\", x=1903, y=355, w=2222 - 1903, h=905 - 355\n",
    "    )\n",
    ")"
   ]
  },
  {
   "cell_type": "markdown",
   "id": "d5ddee04-cf82-4974-981f-9bb770f3080a",
   "metadata": {
    "tags": []
   },
   "source": [
    "# Below is Auto-Resmith\n"
   ]
  },
  {
   "cell_type": "code",
   "execution_count": 55,
   "id": "7c0cd436-ad5e-4c5a-8fae-b668d3ebc5d7",
   "metadata": {},
   "outputs": [
    {
     "name": "stdout",
     "output_type": "stream",
     "text": [
      "{'Button': [(BW: Button, (1772.0, 1016.0), 1)]}\n",
      "{'UnfinishedSmithing': [(BW: UnfinishedSmithing, (1942.0, 548.0), 1)]}\n",
      "11 since heating\n",
      "{'UnfinishedSmithing': [(BW: UnfinishedSmithing, (1942.0, 548.0), 1)]}\n",
      "28 since heating\n",
      "{'UnfinishedSmithing': [(BW: UnfinishedSmithing, (1942.0, 548.0), 1)]}\n",
      "44 since heating\n",
      "time for heating\n",
      "returning to anvil\n",
      "{'UnfinishedSmithing': [(BW: UnfinishedSmithing, (1942.0, 548.0), 1)]}\n",
      "16 since heating\n",
      "{'UnfinishedSmithing': [(BW: UnfinishedSmithing, (1942.0, 548.0), 1)]}\n",
      "33 since heating\n",
      "time for heating\n",
      "returning to anvil\n"
     ]
    },
    {
     "ename": "KeyboardInterrupt",
     "evalue": "",
     "output_type": "error",
     "traceback": [
      "\u001b[0;31m---------------------------------------------------------------------------\u001b[0m",
      "\u001b[0;31mKeyboardInterrupt\u001b[0m                         Traceback (most recent call last)",
      "Input \u001b[0;32mIn [55]\u001b[0m, in \u001b[0;36m<cell line: 23>\u001b[0;34m()\u001b[0m\n\u001b[1;32m     22\u001b[0m Anvil_count \u001b[38;5;241m=\u001b[39m \u001b[38;5;241m0\u001b[39m\n\u001b[1;32m     23\u001b[0m \u001b[38;5;28;01mwhile\u001b[39;00m \u001b[38;5;28;01mTrue\u001b[39;00m:\n\u001b[0;32m---> 24\u001b[0m     matches \u001b[38;5;241m=\u001b[39m \u001b[43ma\u001b[49m\u001b[38;5;241;43m.\u001b[39;49m\u001b[43mfindMatches\u001b[49m\u001b[43m(\u001b[49m\u001b[43m)\u001b[49m\n\u001b[1;32m     25\u001b[0m     \u001b[38;5;28;01mif\u001b[39;00m \u001b[38;5;28mlen\u001b[39m(matches) \u001b[38;5;241m>\u001b[39m \u001b[38;5;241m0\u001b[39m:\n\u001b[1;32m     26\u001b[0m         \u001b[38;5;28mprint\u001b[39m(matches)\n",
      "Input \u001b[0;32mIn [43]\u001b[0m, in \u001b[0;36mBeholder.findMatches\u001b[0;34m(self, matchers)\u001b[0m\n\u001b[1;32m     36\u001b[0m \u001b[38;5;28;01mif\u001b[39;00m matchers \u001b[38;5;129;01mis\u001b[39;00m \u001b[38;5;28;01mNone\u001b[39;00m:\n\u001b[1;32m     37\u001b[0m     matchers \u001b[38;5;241m=\u001b[39m \u001b[38;5;28mself\u001b[39m\u001b[38;5;241m.\u001b[39mmatchers\n\u001b[0;32m---> 38\u001b[0m \u001b[38;5;28;43mself\u001b[39;49m\u001b[38;5;241;43m.\u001b[39;49m\u001b[43mreadNextImage\u001b[49m\u001b[43m(\u001b[49m\u001b[43m)\u001b[49m\n\u001b[1;32m     39\u001b[0m \u001b[38;5;28mself\u001b[39m\u001b[38;5;241m.\u001b[39mdigestImage()\n\u001b[1;32m     40\u001b[0m matches \u001b[38;5;241m=\u001b[39m defaultdict(\u001b[38;5;28mlist\u001b[39m)\n",
      "Input \u001b[0;32mIn [43]\u001b[0m, in \u001b[0;36mBeholder.readNextImage\u001b[0;34m(self)\u001b[0m\n\u001b[1;32m     23\u001b[0m \u001b[38;5;28;01mdef\u001b[39;00m \u001b[38;5;21mreadNextImage\u001b[39m(\u001b[38;5;28mself\u001b[39m):\n\u001b[1;32m     24\u001b[0m     \u001b[38;5;28mself\u001b[39m\u001b[38;5;241m.\u001b[39mlayers[\u001b[38;5;124m\"\u001b[39m\u001b[38;5;124mimage\u001b[39m\u001b[38;5;124m\"\u001b[39m] \u001b[38;5;241m=\u001b[39m Beholder_Layer(\n\u001b[0;32m---> 25\u001b[0m         name\u001b[38;5;241m=\u001b[39m\u001b[38;5;124m\"\u001b[39m\u001b[38;5;124mimage\u001b[39m\u001b[38;5;124m\"\u001b[39m, data\u001b[38;5;241m=\u001b[39mPillowToCv2(\u001b[38;5;28;43mself\u001b[39;49m\u001b[38;5;241;43m.\u001b[39;49m\u001b[43mgenerator\u001b[49m\u001b[43m(\u001b[49m\u001b[43m)\u001b[49m)\n\u001b[1;32m     26\u001b[0m     )\n",
      "Input \u001b[0;32mIn [38]\u001b[0m, in \u001b[0;36mpullPhoneScreen\u001b[0;34m(resize_ratio, as_numpy, print_times)\u001b[0m\n\u001b[1;32m      2\u001b[0m s \u001b[38;5;241m=\u001b[39m time\u001b[38;5;241m.\u001b[39mtime()\n\u001b[1;32m      3\u001b[0m adb(\u001b[38;5;124m\"\u001b[39m\u001b[38;5;124mshell screencap -p /sdcard/screen.png\u001b[39m\u001b[38;5;124m\"\u001b[39m)\n\u001b[0;32m----> 4\u001b[0m \u001b[43madb\u001b[49m\u001b[43m(\u001b[49m\u001b[38;5;124;43m\"\u001b[39;49m\u001b[38;5;124;43mpull /sdcard/screen.png ./game.png\u001b[39;49m\u001b[38;5;124;43m\"\u001b[39;49m\u001b[43m)\u001b[49m\n\u001b[1;32m      5\u001b[0m adb(\u001b[38;5;124m\"\u001b[39m\u001b[38;5;124mshell rm /sdcard/screen.png\u001b[39m\u001b[38;5;124m\"\u001b[39m)\n\u001b[1;32m      6\u001b[0m im \u001b[38;5;241m=\u001b[39m Image\u001b[38;5;241m.\u001b[39mopen(\u001b[38;5;124m\"\u001b[39m\u001b[38;5;124mgame.png\u001b[39m\u001b[38;5;124m\"\u001b[39m)\n",
      "Input \u001b[0;32mIn [36]\u001b[0m, in \u001b[0;36madb\u001b[0;34m(cmd, debug, returns_POpen, close_fds)\u001b[0m\n\u001b[1;32m      4\u001b[0m     cmd \u001b[38;5;241m=\u001b[39m cmd\u001b[38;5;241m.\u001b[39msplit(\u001b[38;5;124m\"\u001b[39m\u001b[38;5;124m \u001b[39m\u001b[38;5;124m\"\u001b[39m)\n\u001b[1;32m      5\u001b[0m cmd \u001b[38;5;241m=\u001b[39m [\u001b[38;5;124m\"\u001b[39m\u001b[38;5;124madb\u001b[39m\u001b[38;5;124m\"\u001b[39m] \u001b[38;5;241m+\u001b[39m cmd\n\u001b[0;32m----> 6\u001b[0m \u001b[38;5;28;01mreturn\u001b[39;00m \u001b[43mshell\u001b[49m\u001b[43m(\u001b[49m\u001b[43mcmd\u001b[49m\u001b[43m,\u001b[49m\u001b[43m \u001b[49m\u001b[43mdebug\u001b[49m\u001b[38;5;241;43m=\u001b[39;49m\u001b[43mdebug\u001b[49m\u001b[43m,\u001b[49m\u001b[43m \u001b[49m\u001b[43mreturns_POpen\u001b[49m\u001b[38;5;241;43m=\u001b[39;49m\u001b[43mreturns_POpen\u001b[49m\u001b[43m,\u001b[49m\u001b[43m \u001b[49m\u001b[43mclose_fds\u001b[49m\u001b[38;5;241;43m=\u001b[39;49m\u001b[43mclose_fds\u001b[49m\u001b[43m)\u001b[49m\n",
      "Input \u001b[0;32mIn [35]\u001b[0m, in \u001b[0;36mshell\u001b[0;34m(cmd, debug, returns_POpen, close_fds)\u001b[0m\n\u001b[1;32m      6\u001b[0m     process \u001b[38;5;241m=\u001b[39m subprocess\u001b[38;5;241m.\u001b[39mPopen(cmd, close_fds\u001b[38;5;241m=\u001b[39mclose_fds)\n\u001b[1;32m      7\u001b[0m     \u001b[38;5;28;01mreturn\u001b[39;00m process\n\u001b[0;32m----> 9\u001b[0m process \u001b[38;5;241m=\u001b[39m \u001b[43msubprocess\u001b[49m\u001b[38;5;241;43m.\u001b[39;49m\u001b[43mrun\u001b[49m\u001b[43m(\u001b[49m\u001b[43mcmd\u001b[49m\u001b[43m,\u001b[49m\u001b[43m \u001b[49m\u001b[43mstdout\u001b[49m\u001b[38;5;241;43m=\u001b[39;49m\u001b[43msubprocess\u001b[49m\u001b[38;5;241;43m.\u001b[39;49m\u001b[43mPIPE\u001b[49m\u001b[43m)\u001b[49m\n\u001b[1;32m     10\u001b[0m \u001b[38;5;28;01mreturn\u001b[39;00m process\u001b[38;5;241m.\u001b[39mstdout\u001b[38;5;241m.\u001b[39mdecode(\u001b[38;5;124m\"\u001b[39m\u001b[38;5;124mutf-8\u001b[39m\u001b[38;5;124m\"\u001b[39m)\u001b[38;5;241m.\u001b[39mstrip()\u001b[38;5;241m.\u001b[39msplitlines()\n",
      "File \u001b[0;32m/usr/lib/python3.10/subprocess.py:503\u001b[0m, in \u001b[0;36mrun\u001b[0;34m(input, capture_output, timeout, check, *popenargs, **kwargs)\u001b[0m\n\u001b[1;32m    501\u001b[0m \u001b[38;5;28;01mwith\u001b[39;00m Popen(\u001b[38;5;241m*\u001b[39mpopenargs, \u001b[38;5;241m*\u001b[39m\u001b[38;5;241m*\u001b[39mkwargs) \u001b[38;5;28;01mas\u001b[39;00m process:\n\u001b[1;32m    502\u001b[0m     \u001b[38;5;28;01mtry\u001b[39;00m:\n\u001b[0;32m--> 503\u001b[0m         stdout, stderr \u001b[38;5;241m=\u001b[39m \u001b[43mprocess\u001b[49m\u001b[38;5;241;43m.\u001b[39;49m\u001b[43mcommunicate\u001b[49m\u001b[43m(\u001b[49m\u001b[38;5;28;43minput\u001b[39;49m\u001b[43m,\u001b[49m\u001b[43m \u001b[49m\u001b[43mtimeout\u001b[49m\u001b[38;5;241;43m=\u001b[39;49m\u001b[43mtimeout\u001b[49m\u001b[43m)\u001b[49m\n\u001b[1;32m    504\u001b[0m     \u001b[38;5;28;01mexcept\u001b[39;00m TimeoutExpired \u001b[38;5;28;01mas\u001b[39;00m exc:\n\u001b[1;32m    505\u001b[0m         process\u001b[38;5;241m.\u001b[39mkill()\n",
      "File \u001b[0;32m/usr/lib/python3.10/subprocess.py:1136\u001b[0m, in \u001b[0;36mPopen.communicate\u001b[0;34m(self, input, timeout)\u001b[0m\n\u001b[1;32m   1134\u001b[0m     \u001b[38;5;28mself\u001b[39m\u001b[38;5;241m.\u001b[39m_stdin_write(\u001b[38;5;28minput\u001b[39m)\n\u001b[1;32m   1135\u001b[0m \u001b[38;5;28;01melif\u001b[39;00m \u001b[38;5;28mself\u001b[39m\u001b[38;5;241m.\u001b[39mstdout:\n\u001b[0;32m-> 1136\u001b[0m     stdout \u001b[38;5;241m=\u001b[39m \u001b[38;5;28;43mself\u001b[39;49m\u001b[38;5;241;43m.\u001b[39;49m\u001b[43mstdout\u001b[49m\u001b[38;5;241;43m.\u001b[39;49m\u001b[43mread\u001b[49m\u001b[43m(\u001b[49m\u001b[43m)\u001b[49m\n\u001b[1;32m   1137\u001b[0m     \u001b[38;5;28mself\u001b[39m\u001b[38;5;241m.\u001b[39mstdout\u001b[38;5;241m.\u001b[39mclose()\n\u001b[1;32m   1138\u001b[0m \u001b[38;5;28;01melif\u001b[39;00m \u001b[38;5;28mself\u001b[39m\u001b[38;5;241m.\u001b[39mstderr:\n",
      "\u001b[0;31mKeyboardInterrupt\u001b[0m: "
     ]
    }
   ],
   "source": [
    "a.matchers = {}\n",
    "a.addDefaultMatcher(\n",
    "    name=\"Button\",\n",
    "    layer=\"gray\",\n",
    "    filename=\"./templates/Button.png\",\n",
    "    convertToGray=True,\n",
    ")\n",
    "a.addDefaultMatcher(\n",
    "    name=\"UnfinishedSmithing\",\n",
    "    layer=\"inventory\",\n",
    "    filename=\"./templates/forge_item.png\",\n",
    ")\n",
    "a.addDefaultMatcher(\n",
    "    name=\"FinishedArrow\",\n",
    "    layer=\"gray\",\n",
    "    filename=\"./templates/FinishedArrow.png\",\n",
    "    convertToGray=True,\n",
    ")\n",
    "\n",
    "time_since_heat = time.time()\n",
    "Button_count = 0\n",
    "Anvil_count = 0\n",
    "while True:\n",
    "    matches = a.findMatches()\n",
    "    if len(matches) > 0:\n",
    "        print(matches)\n",
    "        if \"UnfinishedSmithing\" in matches:\n",
    "            Button_count = 0\n",
    "            Anvil_count = 0\n",
    "            if time_since_heat != 0:\n",
    "                print(int(time.time() - time_since_heat), \"since heating\")\n",
    "            if time.time() - time_since_heat > 30:\n",
    "                print(\"time for heating\")\n",
    "                adb(f\"shell input tap 1192 150\")\n",
    "                time.sleep(5)\n",
    "                print(\"returning to anvil\")\n",
    "                adb(f\"shell input tap 1550 525\")\n",
    "                time_since_heat = time.time()\n",
    "            time.sleep(15)\n",
    "            continue\n",
    "        if \"FinishedArrow\" in matches:\n",
    "            center = matches[\"FinishedArrow\"][0][1]\n",
    "            adb(f\"shell input tap {center[0]} {center[1]}\")\n",
    "        if \"Button\" in matches:\n",
    "            if Button_count == 0:\n",
    "                center = matches[\"Button\"][0][1]\n",
    "                adb(f\"shell input tap {center[0]} {center[1]}\")\n",
    "                Button_count += 1\n",
    "            else:\n",
    "                print(\"Cannot continue smithing.\")\n",
    "                break\n",
    "\n",
    "    else:\n",
    "        if Anvil_count == 0:\n",
    "            print(\"opening anvil menu\")\n",
    "            adb(f\"shell input tap 1550 525\")\n",
    "            time_since_heat = 0\n",
    "            Anvil_count += 1\n",
    "        else:\n",
    "            print(\"Cannot continue smithing.\")\n",
    "            break\n",
    "    time.sleep(3.75)"
   ]
  },
  {
   "cell_type": "markdown",
   "id": "406d905f-7dc9-4595-8a55-f534b2e5ddfd",
   "metadata": {
    "tags": []
   },
   "source": [
    "# Below is Auto Feathers on Bolts"
   ]
  },
  {
   "cell_type": "raw",
   "id": "fd505c77-9f06-44f8-a7ac-73c628f53cbc",
   "metadata": {},
   "source": [
    "a.matchers = {}\n",
    "a.addDefaultMatcher(\n",
    "    name=\"bolts\",\n",
    "    layer=\"gray\",\n",
    "    filename=\"./templates/mith_bolts.png\",\n",
    "    convertToGray=True,\n",
    ")\n",
    "a.addDefaultMatcher(\n",
    "    name=\"fletch\",\n",
    "    layer=\"gray\",\n",
    "    filename=\"./templates/fletch.png\",\n",
    "    convertToGray=True,\n",
    ")\n",
    "a.addDefaultMatcher(\n",
    "    name=\"close_btb\",\n",
    "    layer=\"gray\",\n",
    "    filename=\"./templates/crafting_dialog_close_button.png\",\n",
    "    convertToGray=True,\n",
    ")\n",
    "\n",
    "in_menu = False\n",
    "while True:\n",
    "    matches = a.findMatches()\n",
    "    if len(matches) > 0:\n",
    "        if 'close_btb' in matches:\n",
    "            print(\"Currently Crafting\")\n",
    "            time.sleep(2)\n",
    "            continue\n",
    "        if in_menu:\n",
    "            if \"fletch\" in matches:\n",
    "                center = matches[\"fletch\"][1]\n",
    "                adb(f\"shell input tap {center[0]} {center[1]}\")\n",
    "                in_menu = False\n",
    "        else:\n",
    "            if \"bolts\" in matches:\n",
    "            center = matches[\"bolts\"][1]\n",
    "                adb(f\"shell input tap {center[0]} {center[1]}\")\n",
    "                in_menu = True\n",
    "    time.sleep(2)"
   ]
  },
  {
   "cell_type": "markdown",
   "id": "f862e728-bba9-4b0c-9ef5-42dd9590ac5a",
   "metadata": {
    "tags": []
   },
   "source": [
    "# Auto OreChest/NotePaper/Mining Reset"
   ]
  },
  {
   "cell_type": "code",
   "execution_count": 16,
   "id": "4315bc70-2416-4abd-9f5f-03d4994c5065",
   "metadata": {},
   "outputs": [],
   "source": [
    "a.matchers = {}\n",
    "a.addDefaultMatcher(\n",
    "    name=\"paper\", layer=\"inventory\", filename=\"./templates/items/notepaper.png\"\n",
    ")\n",
    "a.addDefaultMatcher(\n",
    "    name=\"ore\",\n",
    "    layer=\"inventory\",\n",
    "    filename=\"./templates/ore/oricalhalcite_inventory.png\",\n",
    ")\n",
    "a.addDefaultMatcher(\n",
    "    name=\"orebox\", layer=\"inventory\", filename=\"./templates/ore/box2.png\"\n",
    ")\n",
    "\n",
    "s = time.time()\n",
    "ore_box_full = False\n",
    "\n",
    "start_mining = 0\n",
    "previous_ore_count = 0\n",
    "while True:\n",
    "    if time.time() - start_mining >= 20:\n",
    "        print(\"reset mining\")\n",
    "        adb(f\"shell input tap 1215 830\")\n",
    "        start_mining = time.time()\n",
    "    matches = a.findMatches()\n",
    "    if len(matches.keys()) > 0:\n",
    "        if \"ore\" in matches:\n",
    "            if previous_ore_count != matches[\"ore\"][0][2]:\n",
    "                print(f\"{matches['ore'][0][2]} ores in inventory\")\n",
    "                previous_ore_count = matches[\"ore\"][0][2]\n",
    "            if matches[\"ore\"][0][2] >= 10:\n",
    "                print(f\"Took {time.time() - s} Seconds to mine 10 ore\")\n",
    "\n",
    "                s = time.time()\n",
    "                if not ore_box_full:\n",
    "                    if \"orebox\" in matches:\n",
    "                        print(\"oreboxing\")\n",
    "                        center = matches[\"orebox\"][0][1]\n",
    "                        adb(f\"shell input tap {center[0]} {center[1]}\")\n",
    "                        time.sleep(1)\n",
    "                        matches = a.findMatches()\n",
    "                        if \"ore\" in matches.keys():\n",
    "                            print(\"I think the ore box is full!\")\n",
    "                            ore_box_full = True\n",
    "                        else:\n",
    "                            start_mining = 0\n",
    "                            continue\n",
    "\n",
    "                if \"ore\" in matches:\n",
    "                    print(\"papering\")\n",
    "                    center = matches[\"ore\"][0][1]\n",
    "                    adb(f\"shell input tap {center[0]} {center[1]}\")\n",
    "                    time.sleep(0.5)\n",
    "                    center = matches[\"paper\"][0][1]\n",
    "                    adb(f\"shell input tap {center[0]} {center[1]}\")\n",
    "                    start_mining = 0\n",
    "                    time.sleep(2)\n",
    "    if start_mining != 0:\n",
    "        time.sleep(10)"
   ]
  },
  {
   "cell_type": "markdown",
   "id": "b172f295-2e0a-4f77-badf-454cce886859",
   "metadata": {},
   "source": [
    "# Other Stuff"
   ]
  },
  {
   "cell_type": "code",
   "execution_count": null,
   "id": "3fa6c2c0-650c-4338-b852-ddbdc1603fff",
   "metadata": {},
   "outputs": [],
   "source": [
    "time.time() - s"
   ]
  },
  {
   "cell_type": "code",
   "execution_count": null,
   "id": "09a63535-2a88-4740-b63a-1a50db7bb698",
   "metadata": {},
   "outputs": [],
   "source": [
    "447 / 20"
   ]
  },
  {
   "cell_type": "raw",
   "id": "abe17f89-a0b1-49fc-9efc-f31ca2654b27",
   "metadata": {},
   "source": [
    "10 oricahalcite ore = 223.00 \n",
    "10 oricahalcite ore = 220.85\n",
    "\n",
    "10 rune ore         = 103.64 seconds\n",
    "10 coal ore         = 47.87 Seconds"
   ]
  },
  {
   "cell_type": "code",
   "execution_count": null,
   "id": "db47e10f-6c10-4d52-a382-9795172b0327",
   "metadata": {},
   "outputs": [],
   "source": [
    "a.readNextImage()\n",
    "a.digestImage()\n",
    "for item in a.layers.keys():\n",
    "    print(item, a.layers[item].data.shape)"
   ]
  },
  {
   "cell_type": "code",
   "execution_count": null,
   "id": "91deb48e-6bab-48f9-b033-6533b46cb016",
   "metadata": {},
   "outputs": [],
   "source": [
    "for item in a.matchers:\n",
    "    print(item.name, item.data.shape)"
   ]
  },
  {
   "cell_type": "code",
   "execution_count": null,
   "id": "3a95a2e7-d30a-4f0e-b494-14e05082f072",
   "metadata": {},
   "outputs": [],
   "source": [
    "matches = a.findMatches()\n",
    "print(matches.keys())"
   ]
  },
  {
   "cell_type": "code",
   "execution_count": null,
   "id": "f7a899cd-ad1b-46b0-993e-26aef28d6096",
   "metadata": {},
   "outputs": [],
   "source": []
  },
  {
   "cell_type": "code",
   "execution_count": null,
   "id": "9bbc537e-4b88-48b2-8de9-8e7ed649ebea",
   "metadata": {},
   "outputs": [],
   "source": []
  },
  {
   "cell_type": "code",
   "execution_count": null,
   "id": "7b0a87f6-0985-4b3a-beed-30ba559a17cb",
   "metadata": {},
   "outputs": [],
   "source": [
    "a.layers[\"gray\"].data.shape"
   ]
  },
  {
   "cell_type": "code",
   "execution_count": null,
   "id": "6abf2ae1-42f0-49db-9c31-a1c4d2f1679f",
   "metadata": {},
   "outputs": [],
   "source": []
  },
  {
   "cell_type": "code",
   "execution_count": null,
   "id": "cbe571c6-fdfb-462a-b5d1-635096ddecfc",
   "metadata": {},
   "outputs": [],
   "source": []
  },
  {
   "cell_type": "code",
   "execution_count": null,
   "id": "457ab48e-f7d0-466c-aced-61f0562a840e",
   "metadata": {},
   "outputs": [],
   "source": []
  },
  {
   "cell_type": "code",
   "execution_count": null,
   "id": "02acda08-d6e1-4a8f-b9ae-075826819779",
   "metadata": {},
   "outputs": [],
   "source": []
  }
 ],
 "metadata": {
  "kernelspec": {
   "display_name": "Python 3 (ipykernel)",
   "language": "python",
   "name": "python3"
  },
  "language_info": {
   "codemirror_mode": {
    "name": "ipython",
    "version": 3
   },
   "file_extension": ".py",
   "mimetype": "text/x-python",
   "name": "python",
   "nbconvert_exporter": "python",
   "pygments_lexer": "ipython3",
   "version": "3.10.4"
  },
  "widgets": {
   "application/vnd.jupyter.widget-state+json": {
    "state": {},
    "version_major": 2,
    "version_minor": 0
   }
  }
 },
 "nbformat": 4,
 "nbformat_minor": 5
}
