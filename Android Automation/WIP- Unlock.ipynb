{
 "cells": [
  {
   "cell_type": "code",
   "execution_count": 20,
   "id": "7eb53343-37df-4235-b184-eed178512d20",
   "metadata": {},
   "outputs": [],
   "source": [
    "from Beholder.Libs.Beholder import adb"
   ]
  },
  {
   "cell_type": "markdown",
   "id": "5779f947-b1d8-4284-a1c6-5d70bb267b5d",
   "metadata": {},
   "source": [
    "Porting https://github.com/mattwilson1024/android-pattern-unlock/blob/master/unlock.sh"
   ]
  },
  {
   "cell_type": "code",
   "execution_count": 21,
   "id": "938e1625-29d9-4508-ae71-c3bd4bb23c2d",
   "metadata": {},
   "outputs": [],
   "source": [
    "PATTERN = \"1 2 3 6 5 4 7 8 9\"  # The unlock pattern to draw, space seperated\n",
    "\n",
    "COL_1 = 166  # X coordinate of column 1 (in pixels)\n",
    "COL_2 = 384  # X coordinate of column 2 (in pixels)\n",
    "COL_3 = 576  # X coordinate of column 3 (in pixels)\n",
    "\n",
    "ROW_1 = 553  # Y coordinate of row 1 (in pixels)\n",
    "ROW_2 = 738  # Y coordinate of row 2 (in pixels)\n",
    "ROW_3 = 984  # Y coordinate of row 3 (in pixels)\n",
    "\n",
    "MULTIPLIER = 2  # Multiplication factor for coordinates. For Nexus 4, set this to 2. For low res phones such as\n",
    "# Samsung Galaxy S2, set this to 1. Experiment with this value if you can't see anything happening.\n",
    "\n",
    "WAKE_SCREEN_ENABLED = (\n",
    "    True  # If true, the script will start by sending the power button press event\n",
    ")\n",
    "\n",
    "SWIPE_UP_ENABLED = True  # If true, the script will swipe upwards before drawing the pattern (e.g. for lollipop lockscreen)\n",
    "SWIPE_UP_X = (\n",
    "    450  # X coordinate for initial upward swipe. Only used if SWIPE_UP_ENABLED is true\n",
    ")\n",
    "SWIPE_UP_Y_FROM = 1000  # Start Y coordinate for initial upward swipe. Only used if SWIPE_UP_ENABLED is true\n",
    "SWIPE_UP_Y_TO = 200  # End Y coordinate for initial upward swipe. Only used if SWIPE_UP_ENABLED is true\n",
    "\n",
    "# ======================================================================================================================="
   ]
  },
  {
   "cell_type": "code",
   "execution_count": 22,
   "id": "cffd058c-42db-4e60-8b1b-cbcb2bb3dae6",
   "metadata": {},
   "outputs": [],
   "source": [
    "# Define X&Y coordinates for each of the 9 positions.\n",
    "\n",
    "X = {}\n",
    "X[1] = COL_1 * MULTIPLIER\n",
    "X[2] = COL_2 * MULTIPLIER\n",
    "X[3] = COL_3 * MULTIPLIER\n",
    "X[4] = COL_1 * MULTIPLIER\n",
    "X[5] = COL_2 * MULTIPLIER\n",
    "X[6] = COL_3 * MULTIPLIER\n",
    "X[7] = COL_1 * MULTIPLIER\n",
    "X[8] = COL_2 * MULTIPLIER\n",
    "X[9] = COL_3 * MULTIPLIER\n",
    "\n",
    "\n",
    "Y = {}\n",
    "Y[1] = ROW_1 * MULTIPLIER\n",
    "Y[2] = ROW_1 * MULTIPLIER\n",
    "Y[3] = ROW_1 * MULTIPLIER\n",
    "Y[4] = ROW_2 * MULTIPLIER\n",
    "Y[5] = ROW_2 * MULTIPLIER\n",
    "Y[6] = ROW_2 * MULTIPLIER\n",
    "Y[7] = ROW_3 * MULTIPLIER\n",
    "Y[8] = ROW_3 * MULTIPLIER\n",
    "Y[9] = ROW_3 * MULTIPLIER"
   ]
  },
  {
   "cell_type": "code",
   "execution_count": 23,
   "id": "70683d67-fc35-4459-8048-aac35b538f36",
   "metadata": {},
   "outputs": [],
   "source": [
    "def WakeScreen():\n",
    "    adb(\"shell input keyevent 26\")"
   ]
  },
  {
   "cell_type": "code",
   "execution_count": 24,
   "id": "82610781-8d88-40c6-9693-2101d87f843d",
   "metadata": {},
   "outputs": [],
   "source": [
    "def SwipeUp():\n",
    "    adb(\n",
    "        f\"shell input swipe {SWIPE_UP_X} {SWIPE_UP_Y_FROM} {SWIPE_UP_X} {SWIPE_UP_Y_TO}\"\n",
    "    )"
   ]
  },
  {
   "cell_type": "code",
   "execution_count": 34,
   "id": "8e6bc96e-d73b-4b35-bc01-24551c8c0c84",
   "metadata": {},
   "outputs": [],
   "source": [
    "input_device = \"/dev/input/event3\"\n",
    "\n",
    "\n",
    "def StartTouch():\n",
    "    adb(f\"shell sendevent {input_device} 3 57 14\")\n",
    "\n",
    "\n",
    "def SendCoordinates(x, y):\n",
    "    adb(f\"shell sendevent {input_device}  3 53 {x}\")\n",
    "    adb(f\"shell sendevent {input_device}  3 54 {y}\")\n",
    "    adb(f\"shell sendevent {input_device}  3 58 57\")\n",
    "    adb(f\"shell sendevent {input_device}  0 0 0\")\n",
    "\n",
    "\n",
    "def FinishTouch():\n",
    "    adb(f\"shell sendevent {input_device}  3 57 4294967295\")\n",
    "    adb(f\"shell sendevent {input_device} 0 0 0\")\n",
    "\n",
    "\n",
    "def SwipePattern():\n",
    "    for NUM in PATTERN.split(\" \"):\n",
    "        NUM = int(NUM)\n",
    "        print(f\"Sending {NUM}: {X[NUM]}, {Y[NUM]}\")\n",
    "        SendCoordinates(X[NUM], Y[NUM])"
   ]
  },
  {
   "cell_type": "code",
   "execution_count": 35,
   "id": "07d2494f-b88d-4d2a-9d06-18d0448be829",
   "metadata": {},
   "outputs": [
    {
     "name": "stderr",
     "output_type": "stream",
     "text": [
      "sendevent: /dev/input/event3: Permission denied\n",
      "sendevent: /dev/input/event3: Permission denied\n",
      "sendevent: /dev/input/event3: Permission denied\n",
      "sendevent: /dev/input/event3: Permission denied\n",
      "sendevent: /dev/input/event3: Permission denied\n",
      "sendevent: /dev/input/event3: Permission denied\n",
      "sendevent: /dev/input/event3: Permission denied\n",
      "sendevent: /dev/input/event3: Permission denied\n"
     ]
    },
    {
     "name": "stdout",
     "output_type": "stream",
     "text": [
      "Sending 1: 332, 1106\n",
      "Sending 2: 768, 1106\n"
     ]
    },
    {
     "name": "stderr",
     "output_type": "stream",
     "text": [
      "sendevent: /dev/input/event3: Permission denied\n",
      "sendevent: /dev/input/event3: Permission denied\n",
      "sendevent: /dev/input/event3: Permission denied\n",
      "sendevent: /dev/input/event3: Permission denied\n",
      "sendevent: /dev/input/event3: Permission denied\n",
      "sendevent: /dev/input/event3: Permission denied\n",
      "sendevent: /dev/input/event3: Permission denied\n",
      "sendevent: /dev/input/event3: Permission denied\n",
      "sendevent: /dev/input/event3: Permission denied\n"
     ]
    },
    {
     "name": "stdout",
     "output_type": "stream",
     "text": [
      "Sending 3: 1152, 1106\n",
      "Sending 6: 1152, 1476\n",
      "Sending 5: 768, 1476\n"
     ]
    },
    {
     "name": "stderr",
     "output_type": "stream",
     "text": [
      "sendevent: /dev/input/event3: Permission denied\n",
      "sendevent: /dev/input/event3: Permission denied\n",
      "sendevent: /dev/input/event3: Permission denied\n",
      "sendevent: /dev/input/event3: Permission denied\n",
      "sendevent: /dev/input/event3: Permission denied\n",
      "sendevent: /dev/input/event3: Permission denied\n",
      "sendevent: /dev/input/event3: Permission denied\n",
      "sendevent: /dev/input/event3: Permission denied\n",
      "sendevent: /dev/input/event3: Permission denied\n"
     ]
    },
    {
     "name": "stdout",
     "output_type": "stream",
     "text": [
      "Sending 4: 332, 1476\n",
      "Sending 7: 332, 1968\n"
     ]
    },
    {
     "name": "stderr",
     "output_type": "stream",
     "text": [
      "sendevent: /dev/input/event3: Permission denied\n",
      "sendevent: /dev/input/event3: Permission denied\n",
      "sendevent: /dev/input/event3: Permission denied\n",
      "sendevent: /dev/input/event3: Permission denied\n",
      "sendevent: /dev/input/event3: Permission denied\n",
      "sendevent: /dev/input/event3: Permission denied\n",
      "sendevent: /dev/input/event3: Permission denied\n"
     ]
    },
    {
     "name": "stdout",
     "output_type": "stream",
     "text": [
      "Sending 8: 768, 1968\n",
      "Sending 9: 1152, 1968\n"
     ]
    },
    {
     "name": "stderr",
     "output_type": "stream",
     "text": [
      "sendevent: /dev/input/event3: Permission denied\n",
      "sendevent: /dev/input/event3: Permission denied\n",
      "sendevent: /dev/input/event3: Permission denied\n",
      "sendevent: /dev/input/event3: Permission denied\n",
      "sendevent: /dev/input/event3: Permission denied\n",
      "sendevent: /dev/input/event3: Permission denied\n"
     ]
    }
   ],
   "source": [
    "WakeScreen()\n",
    "SwipeUp()\n",
    "StartTouch()\n",
    "SwipePattern()\n",
    "FinishTouch()"
   ]
  },
  {
   "cell_type": "markdown",
   "id": "f45e2322-e8e8-4b42-8da0-c6199de12266",
   "metadata": {},
   "source": [
    "# sendevent: /dev/input/event3: Permission denied\n",
    "It appears that selinux stops you from swiping"
   ]
  },
  {
   "cell_type": "code",
   "execution_count": null,
   "id": "575f1e62-bd28-47d7-a1bc-51c0bbd8b094",
   "metadata": {},
   "outputs": [],
   "source": []
  }
 ],
 "metadata": {
  "kernelspec": {
   "display_name": "Python 3 (ipykernel)",
   "language": "python",
   "name": "python3"
  },
  "language_info": {
   "codemirror_mode": {
    "name": "ipython",
    "version": 3
   },
   "file_extension": ".py",
   "mimetype": "text/x-python",
   "name": "python",
   "nbconvert_exporter": "python",
   "pygments_lexer": "ipython3",
   "version": "3.10.4"
  },
  "scenes_data": {
   "active_scene": "Default Scene",
   "init_scene": "",
   "scenes": [
    "Default Scene"
   ]
  },
  "widgets": {
   "application/vnd.jupyter.widget-state+json": {
    "state": {},
    "version_major": 2,
    "version_minor": 0
   }
  }
 },
 "nbformat": 4,
 "nbformat_minor": 5
}
