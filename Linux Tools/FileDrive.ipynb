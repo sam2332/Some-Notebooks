{
    "cells": [
        {
            "cell_type": "code",
            "execution_count": 5,
            "id": "2386ff11-202a-4bd8-9eaa-af7460330700",
            "metadata": {},
            "outputs": [],
            "source": [
                "from subprocess import check_output\n",
                "from pathlib import Path\n",
                "import os\n",
                "from subprocess import Popen, PIPE\n",
                "from getpass import getpass"
            ]
        },
        {
            "cell_type": "code",
            "execution_count": 28,
            "id": "966d7ae9-c4c3-4d86-8742-49a59b0c20ef",
            "metadata": {},
            "outputs": [],
            "source": [
                "class Drive():\n",
                "    mountpoint = None\n",
                "\n",
                "    def __init__(self, block_file_path,img_size_in_mb=1024*4,sudo_pw=None):\n",
                "        self.sudoPw = sudo_pw\n",
                "        if self.sudoPw is None:\n",
                "            self.sudoPw = getpass(\"Please input your Sudo password for mount\")\n",
                "        self.block_file_path = block_file_path\n",
                "        self.img_size_in_mb = img_size_in_mb\n",
                "        self.debug=False\n",
                "        if not Path(self.block_file_path).exists():\n",
                "            self.makeDrive()\n",
                "            \n",
                "    def makeDrive(self):\n",
                "        print(self.block_file_path, self.img_size_in_mb)\n",
                "        check_output([\"/usr/bin/dd\", \"if=/dev/zero\", f\"of={self.block_file_path}\", \"bs=1M\", f\"count={self.img_size_in_mb}\"])\n",
                "        p = Popen(['sudo', '-S', 'mkfs.ext4',f'-E', f'root_owner={os.getuid()}:{os.getgid()}', f\"{self.block_file_path}\",f'{self.img_size_in_mb}'], stdin=PIPE, stdout=PIPE, stderr=PIPE)\n",
                "        stdout, stderr = p.communicate(self.sudoPw.encode('utf-8')+b\"\\n\")\n",
                "        if self.debug:\n",
                "            print(stdout,stderr)\n",
                "\n",
                "        \n",
                "    def makeMountpoint(self):\n",
                "        Path(self.mountpoint).mkdir()\n",
                "        \n",
                "    def mount(self, mountpoint):\n",
                "        self.mountpoint = mountpoint\n",
                "        \n",
                "        if not Path(self.mountpoint).exists():\n",
                "            self.makeMountpoint()\n",
                "        cmd= ['mount', '-o', 'loop,rw,sync', f\"{self.block_file_path}\",f\"{self.mountpoint}\"]\n",
                "        print(' '.join(cmd))\n",
                "        p = Popen(['sudo', '-S', ]+cmd, stdin=PIPE, stdout=PIPE, stderr=PIPE)\n",
                "        stdout, stderr = p.communicate(self.sudoPw.encode('utf-8')+b\"\\n\")\n",
                "        if self.debug:\n",
                "            print(stdout, stderr)\n",
                "        \n",
                "    def dismount(self):\n",
                "        p = Popen(['sudo', '-S', 'umount','-l', self.mountpoint], stdin=PIPE, stdout=PIPE, stderr=PIPE)\n",
                "        stdout, stderr = p.communicate(self.sudoPw.encode('utf-8')+b\"\\n\")\n",
                "        if self.debug:\n",
                "            print(stdout, stderr)\n",
                "        self.mountpoint = None\n",
                "    \n",
                "    def __repr__(self):\n",
                "        out = []\n",
                "        out.append(f\"{self.block_file_path}\")\n",
                "        out.append(f' Size: {self.img_size_in_mb} MB')\n",
                "        out.append(f' MountPoint: {self.mountpoint}')\n",
                "        return '|'.join(out)"
            ]
        },
        {
            "cell_type": "code",
            "execution_count": 29,
            "id": "b3dfc16d-46e6-4b8a-8617-5940620cd4c1",
            "metadata": {},
            "outputs": [],
            "source": [
                "a = Drive('./bobo.drive')\n",
                "a.debug=True"
            ]
        },
        {
            "cell_type": "code",
            "execution_count": null,
            "id": "828f053d-7e7c-4129-816d-18eeac11fdc9",
            "metadata": {},
            "outputs": [],
            "source": []
        },
        {
            "cell_type": "code",
            "execution_count": 35,
            "id": "c87863a6-3b0f-4ced-a3b1-cab9b9dbdd8f",
            "metadata": {},
            "outputs": [],
            "source": [
                "a.mount('./mountpoint')\n",
                "a"
            ]
        },
        {
            "cell_type": "code",
            "execution_count": 31,
            "id": "512ed0aa-f8e0-4a39-acca-3b3353977e58",
            "metadata": {},
            "outputs": [],
            "source": [
                "os.listdir(a.mountpoint)"
            ]
        },
        {
            "cell_type": "code",
            "execution_count": 36,
            "id": "51ba9dc1-4783-4c7a-8109-7893d2ab5ab6",
            "metadata": {},
            "outputs": [],
            "source": [
                "a.dismount()"
            ]
        },
        {
            "cell_type": "code",
            "execution_count": 17,
            "id": "814ba152-90eb-4867-99a4-3a771a5e5532",
            "metadata": {},
            "outputs": [],
            "source": [
                "a.mountpoint"
            ]
        },
        {
            "cell_type": "code",
            "execution_count": 48,
            "id": "edecdd67-e363-47fe-84a2-bca687e6ea3a",
            "metadata": {},
            "outputs": [],
            "source": [
                "os.listdir(a.mountpoint)"
            ]
        },
        {
            "cell_type": "code",
            "execution_count": null,
            "id": "1a6d6a2c-9c14-4145-a94a-118ea54eea9f",
            "metadata": {},
            "outputs": [],
            "source": []
        }
    ],
    "metadata": {
        "kernelspec": {
            "display_name": "Python 3 (ipykernel)",
            "language": "python",
            "name": "python3"
        },
        "language_info": {
            "codemirror_mode": {
                "name": "ipython",
                "version": 3
            },
            "file_extension": ".py",
            "mimetype": "text/x-python",
            "name": "python",
            "nbconvert_exporter": "python",
            "pygments_lexer": "ipython3",
            "version": "3.10.4"
        }
    },
    "nbformat": 4,
    "nbformat_minor": 5
}