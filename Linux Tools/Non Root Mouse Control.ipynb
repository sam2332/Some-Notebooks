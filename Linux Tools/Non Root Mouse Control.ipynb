{
 "cells": [
  {
   "cell_type": "code",
   "execution_count": 4,
   "id": "a866fe38-ff87-45d9-9717-8d7eae555832",
   "metadata": {},
   "outputs": [],
   "source": [
    "import time"
   ]
  },
  {
   "cell_type": "code",
   "execution_count": null,
   "id": "531133bc-9d65-405b-a589-cbe4347c8c6b",
   "metadata": {},
   "outputs": [],
   "source": [
    "from subprocess import check_output"
   ]
  },
  {
   "cell_type": "code",
   "execution_count": 3,
   "id": "224eb7a6-af83-4f77-aa56-c4e3cfe2f9a5",
   "metadata": {},
   "outputs": [
    {
     "data": {
      "text/plain": [
       "b''"
      ]
     },
     "execution_count": 3,
     "metadata": {},
     "output_type": "execute_result"
    }
   ],
   "source": [
    "x=1\n",
    "y=500\n",
    "check_output(f\"xdotool mousemove {x} {y}\".split())"
   ]
  },
  {
   "cell_type": "code",
   "execution_count": 27,
   "id": "23b85a80-a55b-42bd-a76f-628dd80e3e73",
   "metadata": {},
   "outputs": [
    {
     "data": {
      "text/plain": [
       "b''"
      ]
     },
     "execution_count": 27,
     "metadata": {},
     "output_type": "execute_result"
    }
   ],
   "source": [
    "check_output(f\"xdotool click 2\".split())"
   ]
  },
  {
   "cell_type": "code",
   "execution_count": 34,
   "id": "9f4e57d2-7062-4869-addf-a77a079a98f1",
   "metadata": {},
   "outputs": [
    {
     "data": {
      "text/plain": [
       "{'x': '3379', 'y': '1004', 'screen': '0', 'window': '50331658'}"
      ]
     },
     "execution_count": 34,
     "metadata": {},
     "output_type": "execute_result"
    }
   ],
   "source": [
    "time.sleep(3)\n",
    "ml = {k:v for k,v in [ele.split(':') for ele in check_output(f\"xdotool getmouselocation\".split()).decode().split()]}\n",
    "ml"
   ]
  },
  {
   "cell_type": "code",
   "execution_count": 38,
   "id": "81b74db4-29da-4bff-a377-f25a4992b583",
   "metadata": {},
   "outputs": [
    {
     "name": "stdout",
     "output_type": "stream",
     "text": [
      "srudloff@IT16094: ~/github/Some-Notebooks\n",
      "704228\n",
      "Window 50331658\n",
      "  Position: 3062,605 (screen: 0)\n",
      "  Geometry: 1470x497\n"
     ]
    }
   ],
   "source": [
    "print(check_output(f\"xdotool getwindowname {ml['window']}\".split()).decode().strip())\n",
    "print(check_output(f\"xdotool getwindowpid {ml['window']}\".split()).decode().strip())\n",
    "print(check_output(f\"xdotool getwindowgeometry {ml['window']}\".split()).decode().strip())"
   ]
  },
  {
   "cell_type": "code",
   "execution_count": 30,
   "id": "29b7748a-bf6f-4f6b-8b86-51c1d6448cdc",
   "metadata": {},
   "outputs": [
    {
     "name": "stdout",
     "output_type": "stream",
     "text": [
      "Available commands:\n",
      "  getactivewindow\n",
      "  getwindowfocus\n",
      "  getwindowname\n",
      "  getwindowpid\n",
      "  getwindowgeometry\n",
      "  getdisplaygeometry\n",
      "  search\n",
      "  selectwindow\n",
      "  help\n",
      "  version\n",
      "  behave\n",
      "  behave_screen_edge\n",
      "  click\n",
      "  getmouselocation\n",
      "  key\n",
      "  keydown\n",
      "  keyup\n",
      "  mousedown\n",
      "  mousemove\n",
      "  mousemove_relative\n",
      "  mouseup\n",
      "  set_window\n",
      "  type\n",
      "  windowactivate\n",
      "  windowfocus\n",
      "  windowkill\n",
      "  windowclose\n",
      "  windowmap\n",
      "  windowminimize\n",
      "  windowmove\n",
      "  windowraise\n",
      "  windowreparent\n",
      "  windowsize\n",
      "  windowunmap\n",
      "  set_num_desktops\n",
      "  get_num_desktops\n",
      "  set_desktop\n",
      "  get_desktop\n",
      "  set_desktop_for_window\n",
      "  get_desktop_for_window\n",
      "  get_desktop_viewport\n",
      "  set_desktop_viewport\n",
      "  exec\n",
      "  sleep\n",
      "\n"
     ]
    }
   ],
   "source": [
    "print(check_output(f\"xdotool help\".split()).decode())"
   ]
  },
  {
   "cell_type": "code",
   "execution_count": null,
   "id": "40dfc81c-2bc1-4303-b996-726e5e4feba5",
   "metadata": {},
   "outputs": [],
   "source": []
  }
 ],
 "metadata": {
  "kernelspec": {
   "display_name": "Python 3 (ipykernel)",
   "language": "python",
   "name": "python3"
  },
  "language_info": {
   "codemirror_mode": {
    "name": "ipython",
    "version": 3
   },
   "file_extension": ".py",
   "mimetype": "text/x-python",
   "name": "python",
   "nbconvert_exporter": "python",
   "pygments_lexer": "ipython3",
   "version": "3.8.10"
  }
 },
 "nbformat": 4,
 "nbformat_minor": 5
}
