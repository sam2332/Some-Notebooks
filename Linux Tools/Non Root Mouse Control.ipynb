{
 "cells": [
  {
   "cell_type": "code",
   "execution_count": 1,
   "id": "c1f41d81-1210-4eb3-bf9f-cb15f3139087",
   "metadata": {},
   "outputs": [],
   "source": [
    "import time\n",
    "from subprocess import check_output\n",
    "\n",
    "\n",
    "class Mouse:\n",
    "    def setPosition(self, x, y):\n",
    "        check_output(f\"xdotool mousemove {x} {y}\".split())\n",
    "\n",
    "    def getPosition(self):\n",
    "        out = []\n",
    "        for i in check_output(f\"xdotool getmouselocation\".split()).decode().split():\n",
    "            i = i.split(\":\")\n",
    "            if i[0] in [\"x\", \"y\"]:\n",
    "                out.append(int(i[1]))\n",
    "        return out\n",
    "\n",
    "    def click(self, button=1):\n",
    "        check_output(f\"xdotool click {button}\".split())\n",
    "\n",
    "\n",
    "m = Mouse()"
   ]
  },
  {
   "cell_type": "code",
   "execution_count": 2,
   "id": "9f4e57d2-7062-4869-addf-a77a079a98f1",
   "metadata": {},
   "outputs": [
    {
     "data": {
      "text/plain": [
       "[2134, 729]"
      ]
     },
     "execution_count": 2,
     "metadata": {},
     "output_type": "execute_result"
    }
   ],
   "source": [
    "time.sleep(5)\n",
    "m.getPosition()"
   ]
  },
  {
   "cell_type": "code",
   "execution_count": 3,
   "id": "40dfc81c-2bc1-4303-b996-726e5e4feba5",
   "metadata": {},
   "outputs": [],
   "source": [
    "def _hookcb():\n",
    "    old = m.getPosition()\n",
    "\n",
    "    m.click()\n",
    "    time.sleep(0.5)\n",
    "\n",
    "    m.click()\n",
    "    time.sleep(0.5)\n",
    "\n",
    "    m.setPosition(1314, 265)  # radio dropdown\n",
    "    time.sleep(0.5)\n",
    "    m.click()\n",
    "\n",
    "    time.sleep(0.5)\n",
    "    m.setPosition(1272, 310)  # select radio button\n",
    "    m.click()\n",
    "\n",
    "    m.setPosition(2909, 270)  # Save Button\n",
    "    time.sleep(1)\n",
    "    m.click()\n",
    "\n",
    "    m.setPosition(*old)\n",
    "    time.sleep(0.5)\n",
    "    m.click()\n",
    "\n",
    "    time.sleep(0.5)\n",
    "    m.click()\n",
    "\n",
    "    m.setPosition(1461, 482)  # Name Dropdown"
   ]
  },
  {
   "cell_type": "code",
   "execution_count": 4,
   "id": "6b61af92-2164-433c-9e1e-2867f8dcafe3",
   "metadata": {},
   "outputs": [
    {
     "name": "stdout",
     "output_type": "stream",
     "text": [
      "hotkey pressed!\n",
      "hotkey pressed!\n"
     ]
    },
    {
     "ename": "KeyboardInterrupt",
     "evalue": "",
     "output_type": "error",
     "traceback": [
      "\u001b[0;31m---------------------------------------------------------------------------\u001b[0m",
      "\u001b[0;31mKeyboardInterrupt\u001b[0m                         Traceback (most recent call last)",
      "Input \u001b[0;32mIn [4]\u001b[0m, in \u001b[0;36m<cell line: 14>\u001b[0;34m()\u001b[0m\n\u001b[1;32m     13\u001b[0m hotkey \u001b[38;5;241m=\u001b[39m keyboard\u001b[38;5;241m.\u001b[39mHotKey(keyboard\u001b[38;5;241m.\u001b[39mHotKey\u001b[38;5;241m.\u001b[39mparse(\u001b[38;5;124m\"\u001b[39m\u001b[38;5;124m<alt>+a\u001b[39m\u001b[38;5;124m\"\u001b[39m), on_activate)\n\u001b[1;32m     14\u001b[0m \u001b[38;5;28;01mwith\u001b[39;00m keyboard\u001b[38;5;241m.\u001b[39mListener(\n\u001b[1;32m     15\u001b[0m     on_press\u001b[38;5;241m=\u001b[39mfor_canonical(hotkey\u001b[38;5;241m.\u001b[39mpress), on_release\u001b[38;5;241m=\u001b[39mfor_canonical(hotkey\u001b[38;5;241m.\u001b[39mrelease)\n\u001b[1;32m     16\u001b[0m ) \u001b[38;5;28;01mas\u001b[39;00m l:\n\u001b[0;32m---> 17\u001b[0m     \u001b[43ml\u001b[49m\u001b[38;5;241;43m.\u001b[39;49m\u001b[43mjoin\u001b[49m\u001b[43m(\u001b[49m\u001b[43m)\u001b[49m\n",
      "File \u001b[0;32m~/.local/lib/python3.10/site-packages/pynput/_util/__init__.py:269\u001b[0m, in \u001b[0;36mAbstractListener.join\u001b[0;34m(self, *args)\u001b[0m\n\u001b[1;32m    268\u001b[0m \u001b[38;5;28;01mdef\u001b[39;00m \u001b[38;5;21mjoin\u001b[39m(\u001b[38;5;28mself\u001b[39m, \u001b[38;5;241m*\u001b[39margs):\n\u001b[0;32m--> 269\u001b[0m     \u001b[38;5;28;43msuper\u001b[39;49m\u001b[43m(\u001b[49m\u001b[43mAbstractListener\u001b[49m\u001b[43m,\u001b[49m\u001b[43m \u001b[49m\u001b[38;5;28;43mself\u001b[39;49m\u001b[43m)\u001b[49m\u001b[38;5;241;43m.\u001b[39;49m\u001b[43mjoin\u001b[49m\u001b[43m(\u001b[49m\u001b[38;5;241;43m*\u001b[39;49m\u001b[43margs\u001b[49m\u001b[43m)\u001b[49m\n\u001b[1;32m    271\u001b[0m     \u001b[38;5;66;03m# Reraise any exceptions\u001b[39;00m\n\u001b[1;32m    272\u001b[0m     \u001b[38;5;28;01mtry\u001b[39;00m:\n",
      "File \u001b[0;32m/usr/lib/python3.10/threading.py:1096\u001b[0m, in \u001b[0;36mThread.join\u001b[0;34m(self, timeout)\u001b[0m\n\u001b[1;32m   1093\u001b[0m     \u001b[38;5;28;01mraise\u001b[39;00m \u001b[38;5;167;01mRuntimeError\u001b[39;00m(\u001b[38;5;124m\"\u001b[39m\u001b[38;5;124mcannot join current thread\u001b[39m\u001b[38;5;124m\"\u001b[39m)\n\u001b[1;32m   1095\u001b[0m \u001b[38;5;28;01mif\u001b[39;00m timeout \u001b[38;5;129;01mis\u001b[39;00m \u001b[38;5;28;01mNone\u001b[39;00m:\n\u001b[0;32m-> 1096\u001b[0m     \u001b[38;5;28;43mself\u001b[39;49m\u001b[38;5;241;43m.\u001b[39;49m\u001b[43m_wait_for_tstate_lock\u001b[49m\u001b[43m(\u001b[49m\u001b[43m)\u001b[49m\n\u001b[1;32m   1097\u001b[0m \u001b[38;5;28;01melse\u001b[39;00m:\n\u001b[1;32m   1098\u001b[0m     \u001b[38;5;66;03m# the behavior of a negative timeout isn't documented, but\u001b[39;00m\n\u001b[1;32m   1099\u001b[0m     \u001b[38;5;66;03m# historically .join(timeout=x) for x<0 has acted as if timeout=0\u001b[39;00m\n\u001b[1;32m   1100\u001b[0m     \u001b[38;5;28mself\u001b[39m\u001b[38;5;241m.\u001b[39m_wait_for_tstate_lock(timeout\u001b[38;5;241m=\u001b[39m\u001b[38;5;28mmax\u001b[39m(timeout, \u001b[38;5;241m0\u001b[39m))\n",
      "File \u001b[0;32m/usr/lib/python3.10/threading.py:1116\u001b[0m, in \u001b[0;36mThread._wait_for_tstate_lock\u001b[0;34m(self, block, timeout)\u001b[0m\n\u001b[1;32m   1113\u001b[0m     \u001b[38;5;28;01mreturn\u001b[39;00m\n\u001b[1;32m   1115\u001b[0m \u001b[38;5;28;01mtry\u001b[39;00m:\n\u001b[0;32m-> 1116\u001b[0m     \u001b[38;5;28;01mif\u001b[39;00m \u001b[43mlock\u001b[49m\u001b[38;5;241;43m.\u001b[39;49m\u001b[43macquire\u001b[49m\u001b[43m(\u001b[49m\u001b[43mblock\u001b[49m\u001b[43m,\u001b[49m\u001b[43m \u001b[49m\u001b[43mtimeout\u001b[49m\u001b[43m)\u001b[49m:\n\u001b[1;32m   1117\u001b[0m         lock\u001b[38;5;241m.\u001b[39mrelease()\n\u001b[1;32m   1118\u001b[0m         \u001b[38;5;28mself\u001b[39m\u001b[38;5;241m.\u001b[39m_stop()\n",
      "\u001b[0;31mKeyboardInterrupt\u001b[0m: "
     ]
    }
   ],
   "source": [
    "from pynput import keyboard\n",
    "\n",
    "\n",
    "def on_activate():\n",
    "    print(\"hotkey pressed!\")\n",
    "    _hookcb()\n",
    "\n",
    "\n",
    "def for_canonical(f):\n",
    "    return lambda k: f(l.canonical(k))\n",
    "\n",
    "\n",
    "hotkey = keyboard.HotKey(keyboard.HotKey.parse(\"<alt>+1\"), on_activate)\n",
    "with keyboard.Listener(\n",
    "    on_press=for_canonical(hotkey.press), on_release=for_canonical(hotkey.release)\n",
    ") as l:\n",
    "    l.join()"
   ]
  },
  {
   "cell_type": "code",
   "execution_count": null,
   "id": "6cb346a0-ae54-4962-a83a-e821a861217a",
   "metadata": {},
   "outputs": [],
   "source": []
  },
  {
   "cell_type": "code",
   "execution_count": null,
   "id": "d27883a6-813d-48c5-beb8-9d738f3ab79b",
   "metadata": {},
   "outputs": [],
   "source": []
  }
 ],
 "metadata": {
  "kernelspec": {
   "display_name": "Python 3 (ipykernel)",
   "language": "python",
   "name": "python3"
  },
  "language_info": {
   "codemirror_mode": {
    "name": "ipython",
    "version": 3
   },
   "file_extension": ".py",
   "mimetype": "text/x-python",
   "name": "python",
   "nbconvert_exporter": "python",
   "pygments_lexer": "ipython3",
   "version": "3.10.6"
  },
  "scenes_data": {
   "active_scene": "Default Scene",
   "init_scene": "",
   "scenes": [
    "Default Scene"
   ]
  },
  "widgets": {
   "application/vnd.jupyter.widget-state+json": {
    "state": {},
    "version_major": 2,
    "version_minor": 0
   }
  }
 },
 "nbformat": 4,
 "nbformat_minor": 5
}
