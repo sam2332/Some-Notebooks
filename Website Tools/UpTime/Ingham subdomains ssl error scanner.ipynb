{
 "cells": [
  {
   "cell_type": "code",
   "execution_count": null,
   "id": "bd51ace8-5354-431b-bcaa-fbe56d7999da",
   "metadata": {},
   "outputs": [],
   "source": [
    "import requests\n",
    "from bs4 import BeautifulSoup\n",
    "from tqdm import tqdm "
   ]
  },
  {
   "cell_type": "code",
   "execution_count": null,
   "id": "fb9a3ef8-e4eb-4e8e-a5c2-5e0447947402",
   "metadata": {
    "tags": []
   },
   "outputs": [],
   "source": [
    "from urllib.parse import urlparse\n",
    "\n",
    "def get_domain(url):\n",
    "    parsed_url = urlparse(url)\n",
    "    # Extract the scheme (protocol) and domain (netloc) from the parsed URL\n",
    "    domain_with_protocol = f\"{parsed_url.scheme}://{parsed_url.netloc}\"\n",
    "    return domain_with_protocol"
   ]
  },
  {
   "cell_type": "code",
   "execution_count": null,
   "id": "04e36004-b917-407f-a969-3454c9cec00a",
   "metadata": {
    "tags": []
   },
   "outputs": [],
   "source": [
    "res = requests.get(\"https://ingham.org/Departments.aspx\")\n",
    "soup = BeautifulSoup(res.text)\n",
    "content = soup.find('div',{'id':'dnn_FeaturedContentPane'})"
   ]
  },
  {
   "cell_type": "code",
   "execution_count": 42,
   "id": "53a3072c-2110-44e3-8415-8329a508fc54",
   "metadata": {},
   "outputs": [],
   "source": [
    "domains = []\n",
    "for l in content.find_all('a'):\n",
    "    if l.text.strip() == \"\": continue\n",
    "    d = get_domain(l['href'])\n",
    "    if d not in domains:\n",
    "        domains.append(d)"
   ]
  },
  {
   "cell_type": "code",
   "execution_count": 43,
   "id": "f7f45e5e-e0a8-4025-9ab7-f05d49ab478c",
   "metadata": {},
   "outputs": [
    {
     "name": "stderr",
     "output_type": "stream",
     "text": [
      "100%|███████████████████████████████████████████| 33/33 [00:18<00:00,  1.82it/s]\n"
     ]
    }
   ],
   "source": [
    "down = []\n",
    "up = []\n",
    "for domain in tqdm(domains):\n",
    "    try:\n",
    "        res = requests.get(domain)\n",
    "        up.append(domain)\n",
    "    except requests.exceptions.SSLError as e:\n",
    "        down.append(domain)\n",
    "    except Exception as e:\n",
    "        print(type(e),e)"
   ]
  },
  {
   "cell_type": "code",
   "execution_count": 44,
   "id": "e066da90-9884-449d-91ea-56d5dd4f027c",
   "metadata": {
    "tags": []
   },
   "outputs": [
    {
     "name": "stdout",
     "output_type": "stream",
     "text": [
      "The following domains are online\n",
      "http://ac.ingham.org\n",
      "http://bc.ingham.org\n",
      "http://cc.ingham.org\n",
      "http://co.ingham.org\n",
      "http://clerk.ingham.org\n",
      "http://dc.ingham.org\n",
      "http://dei.ingham.org\n",
      "http://dr.ingham.org\n",
      "http://dv.ingham.org\n",
      "http://eq.ingham.org\n",
      "http://fa.ingham.org\n",
      "https://cc.ingham.org\n",
      "http://fs.ingham.org\n",
      "http://fc.ingham.org\n",
      "http://hd.ingham.org\n",
      "http://hc.ingham.org\n",
      "http://pe.ingham.org\n",
      "http://ic911.ingham.org\n",
      "http://fb.ingham.org\n",
      "http://dp.ingham.org\n",
      "http://ja.ingham.org\n",
      "http://ce.ingham.org\n",
      "http://pk.ingham.org\n",
      "http://potterparkzoo.org\n",
      "http://pr.ingham.org\n",
      "http://pa.ingham.org\n",
      "http://pd.ingham.org\n",
      "http://pu.ingham.org\n",
      "http://rd.ingham.org\n",
      "http://rc.ingham.org\n",
      "http://sh.ingham.org\n",
      "http://tr.ingham.org\n",
      "http://va.ingham.org\n"
     ]
    }
   ],
   "source": [
    "print(\"The following domains are online\")\n",
    "for d in up:\n",
    "    print(d)"
   ]
  },
  {
   "cell_type": "code",
   "execution_count": 45,
   "id": "51fba3ae-fbd3-4c61-9f28-6d1d14c7b9e8",
   "metadata": {
    "tags": []
   },
   "outputs": [
    {
     "name": "stdout",
     "output_type": "stream",
     "text": [
      "The following domains have ssl errors\n"
     ]
    }
   ],
   "source": [
    "print(\"The following domains have ssl errors\")\n",
    "for d in down:\n",
    "    print(d)"
   ]
  },
  {
   "cell_type": "code",
   "execution_count": null,
   "id": "ee2c80e9-eab9-4e87-b317-f9a63fd56d11",
   "metadata": {},
   "outputs": [],
   "source": []
  }
 ],
 "metadata": {
  "kernelspec": {
   "display_name": "Python 3 (ipykernel)",
   "language": "python",
   "name": "python3"
  },
  "language_info": {
   "codemirror_mode": {
    "name": "ipython",
    "version": 3
   },
   "file_extension": ".py",
   "mimetype": "text/x-python",
   "name": "python",
   "nbconvert_exporter": "python",
   "pygments_lexer": "ipython3",
   "version": "3.10.7"
  }
 },
 "nbformat": 4,
 "nbformat_minor": 5
}
