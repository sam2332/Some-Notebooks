{
 "cells": [
  {
   "cell_type": "code",
   "execution_count": 1,
   "id": "b11047bc-2389-4e40-bf5e-73358288e178",
   "metadata": {},
   "outputs": [
    {
     "data": {
      "text/plain": [
       "True"
      ]
     },
     "execution_count": 1,
     "metadata": {},
     "output_type": "execute_result"
    }
   ],
   "source": [
    "import os\n",
    "from pathlib import Path\n",
    "\n",
    "from dotenv import load_dotenv\n",
    "\n",
    "env_path = Path(\"~\").expanduser() / \"ldap.env\"\n",
    "load_dotenv(dotenv_path=env_path)"
   ]
  },
  {
   "cell_type": "code",
   "execution_count": 2,
   "id": "16c63011-824a-4c4a-af9b-8f4be1da3dff",
   "metadata": {},
   "outputs": [],
   "source": [
    "from ldap3 import (\n",
    "    ALL,\n",
    "    ALL_ATTRIBUTES,\n",
    "    ALL_OPERATIONAL_ATTRIBUTES,\n",
    "    AUTO_BIND_NO_TLS,\n",
    "    NTLM,\n",
    "    SUBTREE,\n",
    "    Connection,\n",
    "    Server,\n",
    ")\n",
    "from ldap3.core.exceptions import LDAPCursorError\n",
    "\n",
    "\n",
    "class Ldaper:\n",
    "    def __init__(self, server_name, base_dn, domain, user_name, password):\n",
    "        self.server_name = server_name\n",
    "        self.domain = domain\n",
    "        self.user_name = user_name\n",
    "        self.base_dn = base_dn\n",
    "        self.password = password\n",
    "        self.connect()\n",
    "\n",
    "    def connect(self):\n",
    "        self.server = Server(self.server_name, get_info=ALL)\n",
    "        self.connection = Connection(\n",
    "            self.server,\n",
    "            user=\"{}\\\\{}\".format(self.domain, self.user_name),\n",
    "            password=self.password,\n",
    "            authentication=NTLM,\n",
    "            auto_bind=True,\n",
    "        )\n",
    "\n",
    "    def lookupDepartmentUsers(self, department_name, paged_size=500):\n",
    "        user_filter = \"(&(department={})(!(useraccountcontrol:=2)))\".format(\n",
    "            department_name\n",
    "        )\n",
    "        return self._rawLookup(user_filter, paged_size)\n",
    "\n",
    "    def lookupUser(self, search_username, paged_size=5):\n",
    "        user_filter = \"(&(sAMAccountName={})(!(useraccountcontrol:=2)))\".format(\n",
    "            search_username\n",
    "        )\n",
    "        return self._rawLookup(user_filter, paged_size)\n",
    "\n",
    "    def _rawLookup(self, query_filter, paged_size=1):\n",
    "        searchParam = {\n",
    "            \"search_base\": self.base_dn,\n",
    "            \"search_filter\": query_filter,\n",
    "            \"search_scope\": SUBTREE,\n",
    "            \"attributes\": ALL_ATTRIBUTES,\n",
    "            \"paged_size\": paged_size,\n",
    "        }\n",
    "\n",
    "        try:\n",
    "            while True:\n",
    "                result = self.connection.search(**searchParam)\n",
    "                results = []\n",
    "                for entry in self.connection.entries:\n",
    "                    user = entry.entry_attributes_as_dict\n",
    "                    results.append(user)\n",
    "                return results\n",
    "\n",
    "                cookie = conn.result[\"controls\"][\"1.2.840.113556.1.4.319\"][\"value\"][\n",
    "                    \"cookie\"\n",
    "                ]\n",
    "                if cookie:\n",
    "                    searchParam[\"paged_cookie\"] = cookie\n",
    "                else:\n",
    "                    break\n",
    "        except ldap3.LDAPSocketSendError:\n",
    "            self.connect()\n",
    "            return self.lookupUser(search_username)"
   ]
  },
  {
   "cell_type": "code",
   "execution_count": 3,
   "id": "bd998cb9-ab18-496d-b22d-e4ed4aa1c26f",
   "metadata": {},
   "outputs": [],
   "source": [
    "ld = Ldaper(\n",
    "    server_name=os.environ[\"ldap_server_name\"],\n",
    "    base_dn=os.environ[\"ldap_base_dn\"],\n",
    "    user_name=os.environ[\"ldap_user_name\"],\n",
    "    password=os.environ[\"ldap_password\"],\n",
    "    domain=os.environ[\"ldap_domain\"],\n",
    ")"
   ]
  },
  {
   "cell_type": "code",
   "execution_count": 4,
   "id": "fd3d7328-aa81-40df-ab8c-a0471034f11f",
   "metadata": {},
   "outputs": [
    {
     "name": "stdout",
     "output_type": "stream",
     "text": [
      "['Steve Walters'] ['swalters@ingham.org'] ['swalters@ingham.org']\n",
      "['Desiree Cook'] ['DCook@ingham.org'] ['DCook@ingham.org']\n",
      "['Jacob Willett'] ['JWillett@ingham.org'] ['JWillett@ingham.org']\n",
      "['misadmin'] ['MAdministrator@ingham.org'] ['MAdministrator@ingham.org']\n",
      "['Aaron'] ['jonesaa@oakgov.com'] ['aaron@mi.ingham.org']\n",
      "['Nicholas Thomas'] ['ndthomas@ingham.org'] ['ndthomas@ingham.org']\n",
      "['Alexys Rosales'] ['ARosales@ingham.org'] ['arosales@ingham.org']\n",
      "['Michael Nolen'] ['MNolen@ingham.org'] ['MNolen@ingham.org']\n",
      "['Chris Hosler'] ['CHosler@ingham.org'] ['CHosler@ingham.org']\n",
      "['Long Le'] ['LLe@ingham.org'] ['LLe@ingham.org']\n",
      "['Rod Villarreal'] ['rvillarreal@ingham.org'] ['RVillarreal@ingham.org']\n",
      "['Lori Miles'] ['Lmiles@ingham.org'] ['Lmiles@ingham.org']\n",
      "['Helpdesk'] ['H@ingham.org'] ['H@ingham.org']\n",
      "['Heather Booher'] ['HBooher@ingham.org'] ['HBooher@ingham.org']\n",
      "['Silly Name'] ['SW@ingham.org'] ['dp_walters@ingham.org']\n",
      "['Galen Flourry'] ['GFlourry@ingham.org'] ['GFlourry@ingham.org']\n",
      "['John Barber'] ['JBarber@ingham.org'] ['JBarber@ingham.org']\n",
      "['Web Master'] ['webmaster@ingham.org'] ['webmaster@ingham.org']\n",
      "['Scanner-Copier'] ['scannercopier@ingham.org'] ['scannercopier@ingham.org']\n",
      "['VAN-MIS'] ['van-mis@ingham.org'] ['van-mis@ingham.org']\n",
      "['Deb Fett'] ['DFett@ingham.org'] ['dfett@ingham.org']\n",
      "['Hiram Miller III'] ['hmiller@ingham.org'] ['hmiller@ingham.org']\n",
      "['Brent Abbotts'] ['BAbbotts@ingham.org'] ['babbotts@ingham.org']\n",
      "['Marcell McCastle'] ['MMcCastle@ingham.org'] ['mmccastle@ingham.org']\n",
      "['Jorge Ismael'] ['JIsmael@ingham.org'] ['jismael@ingham.org']\n",
      "['Andrew Grigsby'] ['AGrigsby@ingham.org'] ['agrigsby@ingham.org']\n",
      "['Lori Miles-TestAccount'] ['LMiles-TestAccount@ingham.org'] ['lmilestest@ingham.org']\n",
      "['Bryan Stanton'] ['bstanton@ingham.org'] ['bstanton@ingham.org']\n",
      "['Jennifer Plowman'] ['JPlowman@ingham.org'] ['jplowman@ingham.org']\n",
      "['Samuel Rudloff'] ['SRudloff@ingham.org'] ['srudloff@ingham.org']\n",
      "['Support Central'] ['supportcentral@ingham.org'] ['supportcentral@ingham.org']\n",
      "['Holly Getts'] ['HGetts@ingham.org'] ['hgetts@ingham.org']\n",
      "['CIP - Computer Replacement Program'] ['cip@ingham.org'] ['cip@ingham.org']\n",
      "['Ingham Notifications'] ['notifications@ingham.org'] ['notifications@ingham.org']\n",
      "['Kari Getts'] ['kGetts@ingham.org'] ['kgetts@ingham.org']\n",
      "['ss-app'] ['ss-app@ingham.org'] ['ss-app@ingham.org']\n",
      "['Jason Hatter'] ['JHatter@ingham.org'] ['jhatter@ingham.org']\n",
      "['Stu Jones'] ['SDJones@ingham.org'] ['sdjones@ingham.org']\n",
      "['itdfax'] ['itdfax@ingham.org'] ['itdfax@ingham.org']\n"
     ]
    }
   ],
   "source": [
    "service_accounts = []\n",
    "for user in ld.lookupDepartmentUsers(\"ITD\"):\n",
    "    if \"userPrincipalName\" in user and \"mail\" in user:\n",
    "        print(user[\"name\"], user[\"mail\"], user[\"userPrincipalName\"])\n",
    "    else:\n",
    "        service_accounts.append(user)"
   ]
  },
  {
   "cell_type": "code",
   "execution_count": 5,
   "id": "27361944-a3ea-402e-b7e1-126829a0db82",
   "metadata": {},
   "outputs": [
    {
     "name": "stdout",
     "output_type": "stream",
     "text": [
      "['misguest'] [546]\n",
      "['ARCAdmin'] [66048]\n",
      "['SCCM Admin'] [66048]\n",
      "['SCCM Service'] [66048]\n",
      "['AD Service Account, Firewall'] [66048]\n",
      "['Nessus Scanner'] [66048]\n",
      "['Cisco ACS AD Authentication'] [66048]\n",
      "['NetVault Backup Service'] [66048]\n",
      "['Backup, Veeam'] [66048]\n",
      "['SUPPORT_388945a0'] [66050]\n",
      "['SophosVMA'] [514]\n",
      "['OnCall Tech'] [66048]\n",
      "['MIS System Monitor'] [512]\n",
      "['Law RAM Services'] [66048]\n",
      "['FTP User'] [66048]\n",
      "['LDAP USER'] [66048]\n",
      "['Sophos Backup'] [66048]\n",
      "['BOSS Administrator'] [66048]\n",
      "['Jake'] [512]\n",
      "['Wireless, IT'] [66048]\n",
      "['copier user, copier user'] [66048]\n",
      "['Wireless, Phones'] [66048]\n",
      "['XIBOSQL'] [66048]\n",
      "['Sun Backup'] [66048]\n",
      "['Administrator, Server'] [66050]\n",
      "['DISPLAY-IT-TEST'] [66048]\n",
      "['Office Status'] [66048]\n",
      "['Samuel Test'] [512]\n",
      "['CiscoFirewallReadonlyAccount, Service'] [66048]\n",
      "['Lori MilesTech'] [66048]\n",
      "['Nack Test'] [66048]\n",
      "['Animal Control Database'] [66048]\n",
      "['Test Account'] [66048]\n",
      "['SCCM Domain Join'] [66048]\n",
      "['MSOL_46f05302be44'] [66048]\n",
      "['dynamometrics_exporter Service account'] [66048]\n",
      "['ADSelf Service'] [66048]\n",
      "['HRB Training'] [66048]\n",
      "['Nick Test'] [66048]\n"
     ]
    }
   ],
   "source": [
    "for item in service_accounts:\n",
    "    print(item[\"name\"], item[\"userAccountControl\"])"
   ]
  },
  {
   "cell_type": "code",
   "execution_count": 6,
   "id": "650e4827-e25f-4803-ba40-cae4f862acaf",
   "metadata": {},
   "outputs": [
    {
     "ename": "IndexError",
     "evalue": "list index out of range",
     "output_type": "error",
     "traceback": [
      "\u001b[0;31m---------------------------------------------------------------------------\u001b[0m",
      "\u001b[0;31mIndexError\u001b[0m                                Traceback (most recent call last)",
      "Input \u001b[0;32mIn [6]\u001b[0m, in \u001b[0;36m<cell line: 1>\u001b[0;34m()\u001b[0m\n\u001b[0;32m----> 1\u001b[0m \u001b[43mld\u001b[49m\u001b[38;5;241;43m.\u001b[39;49m\u001b[43mlookupUser\u001b[49m\u001b[43m(\u001b[49m\u001b[38;5;124;43m\"\u001b[39;49m\u001b[38;5;124;43m\"\u001b[39;49m\u001b[43m)\u001b[49m\u001b[43m[\u001b[49m\u001b[38;5;241;43m0\u001b[39;49m\u001b[43m]\u001b[49m\n",
      "\u001b[0;31mIndexError\u001b[0m: list index out of range"
     ]
    }
   ],
   "source": [
    "ld.lookupUser(\"\")[0]"
   ]
  }
 ],
 "metadata": {
  "kernelspec": {
   "display_name": "Python 3 (ipykernel)",
   "language": "python",
   "name": "python3"
  },
  "language_info": {
   "codemirror_mode": {
    "name": "ipython",
    "version": 3
   },
   "file_extension": ".py",
   "mimetype": "text/x-python",
   "name": "python",
   "nbconvert_exporter": "python",
   "pygments_lexer": "ipython3",
   "version": "3.10.6"
  },
  "widgets": {
   "application/vnd.jupyter.widget-state+json": {
    "state": {},
    "version_major": 2,
    "version_minor": 0
   }
  }
 },
 "nbformat": 4,
 "nbformat_minor": 5
}
