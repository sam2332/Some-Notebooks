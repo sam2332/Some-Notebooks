{
 "cells": [
  {
   "cell_type": "code",
   "execution_count": null,
   "id": "b11047bc-2389-4e40-bf5e-73358288e178",
   "metadata": {},
   "outputs": [],
   "source": [
    "import os\n",
    "from pathlib import Path\n",
    "\n",
    "from dotenv import load_dotenv\n",
    "\n",
    "env_path = Path(\"~\").expanduser() / \"ldap.env\"\n",
    "load_dotenv(dotenv_path=env_path)"
   ]
  },
  {
   "cell_type": "code",
   "execution_count": null,
   "id": "16c63011-824a-4c4a-af9b-8f4be1da3dff",
   "metadata": {},
   "outputs": [],
   "source": [
    "from ldap3 import (\n",
    "    ALL,\n",
    "    ALL_ATTRIBUTES,\n",
    "    ALL_OPERATIONAL_ATTRIBUTES,\n",
    "    AUTO_BIND_NO_TLS,\n",
    "    NTLM,\n",
    "    SUBTREE,\n",
    "    Connection,\n",
    "    Server,\n",
    ")\n",
    "from ldap3.core.exceptions import LDAPCursorError\n",
    "\n",
    "\n",
    "class Ldaper:\n",
    "    def __init__(self, server_name, base_dn, domain, user_name, password):\n",
    "        self.server_name = server_name\n",
    "        self.domain = domain\n",
    "        self.user_name = user_name\n",
    "        self.base_dn = base_dn\n",
    "        self.password = password\n",
    "        self.connect()\n",
    "\n",
    "    def connect(self):\n",
    "        self.server = Server(self.server_name, get_info=ALL)\n",
    "        self.connection = Connection(\n",
    "            self.server,\n",
    "            user=\"{}\\\\{}\".format(self.domain, self.user_name),\n",
    "            password=self.password,\n",
    "            authentication=NTLM,\n",
    "            auto_bind=True,\n",
    "        )\n",
    "\n",
    "    def lookupDepartmentUsers(self, department_name, paged_size=500):\n",
    "        user_filter = \"(&(department={})(!(useraccountcontrol:=2)))\".format(\n",
    "            department_name\n",
    "        )\n",
    "        return self._rawLookup(user_filter, paged_size)\n",
    "\n",
    "    def lookupUser(self, search_username, paged_size=5):\n",
    "        user_filter = \"(&(sAMAccountName={})(!(useraccountcontrol:=2)))\".format(\n",
    "            search_username\n",
    "        )\n",
    "        return self._rawLookup(user_filter, paged_size)\n",
    "\n",
    "    def _rawLookup(self, query_filter, paged_size=1):\n",
    "        try:\n",
    "            result = self.connection.search(\n",
    "                self.base_dn,\n",
    "                search_filter=query_filter,\n",
    "                search_scope=SUBTREE,\n",
    "                attributes=ALL_ATTRIBUTES,\n",
    "                paged_size=paged_size,\n",
    "            )\n",
    "            results = []\n",
    "            for entry in self.connection.entries:\n",
    "                user = entry.entry_attributes_as_dict\n",
    "                results.append(user)\n",
    "            return results\n",
    "        except ldap3.LDAPSocketSendError:\n",
    "            self.connect()\n",
    "            return self.lookupUser(search_username)"
   ]
  },
  {
   "cell_type": "code",
   "execution_count": null,
   "id": "bd998cb9-ab18-496d-b22d-e4ed4aa1c26f",
   "metadata": {},
   "outputs": [],
   "source": [
    "ld = Ldaper(\n",
    "    server_name=os.environ[\"ldap_server_name\"],\n",
    "    base_dn=os.environ[\"ldap_base_dn\"],\n",
    "    user_name=os.environ[\"ldap_user_name\"],\n",
    "    password=os.environ[\"ldap_password\"],\n",
    "    domain=os.environ[\"ldap_domain\"],\n",
    ")"
   ]
  },
  {
   "cell_type": "code",
   "execution_count": null,
   "id": "fd3d7328-aa81-40df-ab8c-a0471034f11f",
   "metadata": {},
   "outputs": [],
   "source": [
    "service_accounts = []\n",
    "for user in ld.lookupDepartmentUsers(\"ITD\"):\n",
    "    if \"userPrincipalName\" in user and \"mail\" in user:\n",
    "        print(user[\"name\"], user[\"mail\"], user[\"userPrincipalName\"])\n",
    "    else:\n",
    "        service_accounts.append(user)"
   ]
  },
  {
   "cell_type": "code",
   "execution_count": null,
   "id": "27361944-a3ea-402e-b7e1-126829a0db82",
   "metadata": {},
   "outputs": [],
   "source": [
    "for item in service_accounts:\n",
    "    print(item[\"name\"], item[\"userAccountControl\"])"
   ]
  },
  {
   "cell_type": "code",
   "execution_count": null,
   "id": "650e4827-e25f-4803-ba40-cae4f862acaf",
   "metadata": {},
   "outputs": [],
   "source": [
    "ld.lookupUser(\"\")[0]"
   ]
  }
 ],
 "metadata": {
  "kernelspec": {
   "display_name": "Python 3 (ipykernel)",
   "language": "python",
   "name": "python3"
  },
  "language_info": {
   "codemirror_mode": {
    "name": "ipython",
    "version": 3
   },
   "file_extension": ".py",
   "mimetype": "text/x-python",
   "name": "python",
   "nbconvert_exporter": "python",
   "pygments_lexer": "ipython3",
   "version": "3.10.6"
  },
  "widgets": {
   "application/vnd.jupyter.widget-state+json": {
    "state": {},
    "version_major": 2,
    "version_minor": 0
   }
  }
 },
 "nbformat": 4,
 "nbformat_minor": 5
}
