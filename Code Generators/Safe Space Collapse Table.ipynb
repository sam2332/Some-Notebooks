{
    "cells": [
        {
            "cell_type": "code",
            "execution_count": 72,
            "id": "68902b46-1c52-4eba-a262-7571fd3cd88d",
            "metadata": {},
            "outputs": [],
            "source": [
                "import pyperclip"
            ]
        },
        {
            "cell_type": "code",
            "execution_count": 73,
            "id": "5ff01478-8a83-41f2-a0b9-3c900fb3f336",
            "metadata": {},
            "outputs": [],
            "source": [
                "import jinja2\n",
                "import uuid"
            ]
        },
        {
            "cell_type": "code",
            "execution_count": 74,
            "id": "603c0e47-8b81-47c2-bbad-7f88b460bf23",
            "metadata": {},
            "outputs": [],
            "source": [
                "def jinga2TemplateString(TEMPLATE_STRING, args={}):\n",
                "    return jinja2.Environment(loader=jinja2.BaseLoader).from_string(TEMPLATE_STRING).render(**args)"
            ]
        },
        {
            "cell_type": "code",
            "execution_count": 75,
            "id": "3345243c-a7dc-4d60-aeb9-419356694ff2",
            "metadata": {},
            "outputs": [],
            "source": [
                "class Person():\n",
                "    def __init__(self, name, department, steering):\n",
                "        self.id = str(uuid.uuid4())\n",
                "        self.name = name\n",
                "        self.department = department\n",
                "        self.steering = steering\n",
                "\n",
                "    def __repr__(self):\n",
                "        return f\"{self.id} {self.name}\""
            ]
        },
        {
            "cell_type": "code",
            "execution_count": 76,
            "id": "1f0c00e7-c5e0-4956-855f-640ee6b0f48d",
            "metadata": {},
            "outputs": [],
            "source": [
                "class Department():\n",
                "    def __init__(self, name):\n",
                "        self.id = str(uuid.uuid4())\n",
                "        self.name = name\n",
                "        self.emps = []\n",
                "        self.open = ''\n",
                "\n",
                "    def setOpen(self):\n",
                "        self.open = ' in'\n",
                "\n",
                "    def setClose(self):\n",
                "        self.open = ''\n",
                "\n",
                "    def addEmp(self, emp):\n",
                "        self.emps.append(emp)\n",
                "\n",
                "    def __repr__(self):\n",
                "        return f\"{self.id} {self.name} {len(self.emps)}\""
            ]
        },
        {
            "cell_type": "code",
            "execution_count": 77,
            "id": "9bcf0315-1936-47a0-a732-f80e8662bdea",
            "metadata": {
                "tags": []
            },
            "outputs": [],
            "source": [
                "raw_import_data = \"\"\"Kisha Beverly* - Health Department\n",
                "Dionnedra Bond* - Friend of the Court\n",
                "Ryan Buck* - Circuit Court Clerk's Office\n",
                "Morgan Cole* - Probate Court\n",
                "Desiree Cook* - IT Department\n",
                "Amber Denney* - Public Defender's Office\n",
                "Deb Fett* - IT Department\n",
                "Thomas Husby* - Road Department\n",
                "Stephanie Keith* - Human Resources Department\n",
                "Steve Kwasnik* - Prosecuting Attorney's Office\n",
                "Kimberly Milton-Mackey* - Circuit Court Clerk's Office\n",
                "Rachel Prettenhofer* - Controller's Office\n",
                "Kelly Rankin-Gomez* - Retiree\n",
                "Sidra Alvi-Waller - Prosecuting Attorney's Office\n",
                "Hon. Rosemarie Aquilina - Circuit Court\n",
                "Kezhia Chesney - Circuit Court Clerk's Office\n",
                "Bridget Colosimo - Circuit Court Clerk's Office\n",
                "Robert Hotchkiss - Friend of the Court\n",
                "Mariah Martinez - Potter Park Zoo\n",
                "Elisabeth Richardson - Treasurer's Office\n",
                "Kacie Smith - Circuit Court\n",
                "Nicole Smith - Circuit Court\n",
                "Tracy Smith - Circuit Court Clerk's Office\n",
                "Lisa Strong - Circuit Court Clerk's Office\n",
                "Dana Watson - Health Department\n",
                "Heidi Williams - Animal Control\n",
                "Paige Bartkowiak - Health Department\n",
                "Krisanne Hatfield - Health Department\n",
                "Emily Fabry - 55th District Court\n",
                "Imelda Maloney - Human Resources Department\n",
                "William Fowler - Equalization Department\n",
                "Dia Ridley-Gowens - Health Department\n",
                "Amber Irrer - Health Department\n",
                "Erika Brenton - Prosecuting Attorney's Office\n",
                "Feliz Rodriguez - Office of Diversity, Equity, and Inclusion\n",
                "Ashley Bernardino - Health Department\n",
                "Kyle Hayter - Health Department\n",
                "Trisha Gerring - Register of Deeds Office\n",
                "Kari Getts - Innovation & Technology Department\n",
                "Josh Treat - Sheriff's Office\n",
                "Janet Mendez - Friend of the Court\n",
                "Lisa Davis - Prosecuting Attorney's Office\n",
                "Cathy Haskins - Prosecuting Attorney's Office\n",
                "Clarissa Vang - Public Defenders Office\n",
                "Cristin Larder - Health Department\n",
                "Amarah Doerr - Health Department\"\"\".splitlines()"
            ]
        },
        {
            "cell_type": "code",
            "execution_count": 78,
            "id": "2d161fde-a8d8-44ff-b773-3d82e2b12775",
            "metadata": {},
            "outputs": [],
            "source": [
                "people = {}\n",
                "for item in raw_import_data:\n",
                "    item = item.split(' - ')\n",
                "    item = [i.strip() for i in item]\n",
                "    steering = item[0].endswith('*')\n",
                "    if steering:\n",
                "        item[0] = item[0].strip('*')\n",
                "    if item[1] not in people:\n",
                "        \n",
                "        people[item[1]] = Department(item[1])\n",
                "        if len(people.keys())==1:\n",
                "            people[item[1]].setOpen()\n",
                "    people[item[1]].addEmp(Person(\n",
                "        name=item[0],\n",
                "        department=item[1],\n",
                "        steering=steering\n",
                "    ))\n",
                "people = dict(people)\n",
                "people"
            ]
        },
        {
            "cell_type": "code",
            "execution_count": 79,
            "id": "f2beabe1-fd4f-4c00-8e30-12f3278b696f",
            "metadata": {},
            "outputs": [],
            "source": [
                "def renderDepts(departments):\n",
                "    return jinga2TemplateString(\"\"\"<div class=\"panel-group\" id=\"accordion\" role=\"tablist\" aria-multiselectable=\"true\">\n",
                " {% for dept in departments %}\n",
                " <div class=\"panel panel-default\">\n",
                "    <div class=\"panel-heading\" role=\"tab\" id=\"header{{departments[dept].id}}\">\n",
                "      <h4 class=\"panel-title\">\n",
                "        <a data-toggle=\"collapse\" data-parent=\"#accordion\" href=\"#collapse{{departments[dept].id}}\" aria-expanded=\"true\" aria-controls=\"collapse{{departments[dept].id}}\">\n",
                "          {{departments[dept].name}}\n",
                "        </a>\n",
                "      </h4>\n",
                "    </div>\n",
                "    <div id=\"collapse{{departments[dept].id}}\" class=\"panel-collapse collapse{{departments[dept].open}}\" role=\"tabpanel\" aria-labelledby=\"header{{departments[dept].id}}\">\n",
                "      <div class=\"panel-body\"> {% for emp in departments[dept].emps %}\n",
                "         <div id='{{emp.id}}'>{{emp.name}}{% if emp.steering %}* {% endif %}</div>         {% endfor %}\n",
                "      </div>\n",
                "    </div>\n",
                "  </div>\n",
                "  {% endfor %}\n",
                "</div>\n",
                "\n",
                "\"\"\",locals())"
            ]
        },
        {
            "cell_type": "raw",
            "id": "f5ef4923-0e94-4e2b-8673-c8e6f2b969ee",
            "metadata": {},
            "source": [
                "print(renderDepts(people))"
            ]
        },
        {
            "cell_type": "code",
            "execution_count": 82,
            "id": "60714a27-459f-4fcc-ba54-d3ca5ced7b59",
            "metadata": {},
            "outputs": [],
            "source": [
                "pyperclip.copy(renderDepts(people))"
            ]
        },
        {
            "cell_type": "code",
            "execution_count": null,
            "id": "8291dbea-9ad4-4f11-9ce0-0639ae1fb573",
            "metadata": {},
            "outputs": [],
            "source": []
        }
    ],
    "metadata": {
        "kernelspec": {
            "display_name": "Python 3 (ipykernel)",
            "language": "python",
            "name": "python3"
        },
        "language_info": {
            "codemirror_mode": {
                "name": "ipython",
                "version": 3
            },
            "file_extension": ".py",
            "mimetype": "text/x-python",
            "name": "python",
            "nbconvert_exporter": "python",
            "pygments_lexer": "ipython3",
            "version": "3.8.10"
        }
    },
    "nbformat": 4,
    "nbformat_minor": 5
}