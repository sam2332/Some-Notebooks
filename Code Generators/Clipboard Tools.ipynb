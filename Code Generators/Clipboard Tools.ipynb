{
 "cells": [
  {
   "cell_type": "code",
   "execution_count": null,
   "id": "ca76b0dd-fb33-430c-b860-250073a73ff0",
   "metadata": {
    "tags": []
   },
   "outputs": [],
   "source": [
    "import pyclip\n",
    "import jinja2\n",
    "from jinja2 import Environment, BaseLoader\n",
    "import os\n",
    "import openai\n",
    "import keyring\n",
    "from datetime import datetime"
   ]
  },
  {
   "cell_type": "code",
   "execution_count": null,
   "id": "bd4ef2b9-53e1-4159-af5d-17a6bf9d87e1",
   "metadata": {
    "tags": []
   },
   "outputs": [],
   "source": [
    "def _TS(TEMPLATE_STRING, args={}):\n",
    "    return jinja2.Environment(loader=jinja2.BaseLoader).from_string(TEMPLATE_STRING).render(**args)"
   ]
  },
  {
   "cell_type": "code",
   "execution_count": null,
   "id": "e75e7b9c-1830-4ffe-baf2-b9c8777d6ebc",
   "metadata": {
    "tags": []
   },
   "outputs": [],
   "source": [
    "openai.api_key =keyring.get_password(\"system\", \"openai_key\")\n",
    "def GPT(system,user,model=\"gpt-3.5-turbo\"):\n",
    "    # Define the conversation messages\n",
    "    completion = openai.ChatCompletion.create(\n",
    "        model=model,\n",
    "        messages=[\n",
    "            {\"role\": \"system\", \"content\": system},\n",
    "            {\"role\":\"user\", \"content\":user }\n",
    "        ]\n",
    "    )\n",
    "    return completion.choices[0].message['content'].strip(\"'\").strip()"
   ]
  },
  {
   "cell_type": "code",
   "execution_count": null,
   "id": "bb328eb4-f475-45c9-a56a-24680b503481",
   "metadata": {
    "tags": []
   },
   "outputs": [],
   "source": [
    "SYSTEM_PROMPT_CONCISE=\"\"\"\n",
    "\n",
    "Only answer what is asked. Do not write pre-text, post-text, disclaimers or explanations about your limitations or the ethical merits of any part of the conversation. Do not talk about yourself. Don't introduce unnecessary fluff into answers. Always answer what is asked. If you cannot answer, only reply that you cannot answer and do not elaborate. Avoid including patronizing or pedentic elaboration, explanation or advice that hasn't been asked for. Always follow these guidelines.\n",
    "Try and make sure you represent diversity in your responses,\n",
    "if you do not know the answer to something please say I do not know\n",
    "\n",
    "\"\"\"\n",
    "\n",
    "SYSTEM_PROMPT_CODING=\"\"\"\n",
    "\n",
    "write testable python code that will run without error. \n",
    "answer with each function in its own code block.\n",
    "skip outputting the code cell that contains import statements\n",
    "Pretend to be a highly skilled computer programmer and review your response before sending it\n",
    "\n",
    "\"\"\"\n",
    "\n",
    "SYSTEM_PROMPT_CLIPBOARD =\"\"\"\n",
    "\n",
    "This is a warning that the next lines of data come from the system clipboard.\n",
    "please do your best with what you are given.\n",
    "\n",
    "\"\"\""
   ]
  },
  {
   "cell_type": "code",
   "execution_count": null,
   "id": "2718cfc3-27c3-46d5-b37f-a715784c26c0",
   "metadata": {
    "jupyter": {
     "source_hidden": true
    },
    "tags": []
   },
   "outputs": [],
   "source": [
    "today = datetime.now()\n",
    "formatted_date = today.strftime(\"%b %d\")\n",
    "formatted_date"
   ]
  },
  {
   "cell_type": "code",
   "execution_count": null,
   "id": "9440ebbb-38c1-48b0-bc37-e8b63f032744",
   "metadata": {
    "jupyter": {
     "source_hidden": true
    },
    "tags": []
   },
   "outputs": [],
   "source": [
    "response = GPT(SYSTEM_PROMPT_CONCISE,f\"can i have 10 things that happen on the following Month and Day in History: {formatted_date}\")\n",
    "print(response)"
   ]
  },
  {
   "cell_type": "code",
   "execution_count": null,
   "id": "81495377-0464-4f70-a17a-faeb26e2edf8",
   "metadata": {
    "jupyter": {
     "source_hidden": true
    },
    "tags": []
   },
   "outputs": [],
   "source": [
    "response = GPT(SYSTEM_PROMPT_CONCISE,f\"can i have 10 things that happen on the following Month and Day in History: {formatted_date}\",model='gpt-4')\n",
    "print(response)"
   ]
  },
  {
   "cell_type": "code",
   "execution_count": null,
   "id": "cc1dd6e0-93af-4dda-9d1e-92cd9ba37b04",
   "metadata": {
    "tags": []
   },
   "outputs": [],
   "source": [
    "function_description=\"\"\"\n",
    "\n",
    "count to ten in reverse while outputting the numbers in the opposite sequence from 0-10\n",
    "the code should count from zero to ten and the print statement should output ten to 0\n",
    "\n",
    "\"\"\"\n",
    "response = GPT(SYSTEM_PROMPT_CONCISE+SYSTEM_PROMPT_CODING,f\"I need you to write a function to {function_description}.\",model='gpt-4')\n",
    "print(response)"
   ]
  },
  {
   "cell_type": "code",
   "execution_count": 51,
   "id": "fce5269d-19ce-48f3-abdf-3ffeb4760045",
   "metadata": {
    "tags": []
   },
   "outputs": [
    {
     "name": "stdout",
     "output_type": "stream",
     "text": [
      "<div class=\"alert alert-info\">\n",
      "  <strong>Important:</strong> This page contains guidelines for different special occasion and holiday parenting time schedules. These schedules outline the specific times and duration for each event, taking into consideration factors like school days, weekends, and alternating arrangements between parents. Please review the schedule carefully to make informed decisions.\n",
      "</div>\n"
     ]
    }
   ],
   "source": [
    "clipboard_data = pyclip.paste()\n",
    "response = GPT(SYSTEM_PROMPT_CONCISE+SYSTEM_PROMPT_CLIPBOARD,f\"\"\"\n",
    "\n",
    "write a bootstrap5 info alert with bolded text first and then a blurb which should explain the page using the following as source material, dont explain all of the options but do explain the idea behind the selections and some considerations:\n",
    "\n",
    "```\n",
    "{clipboard_data}\n",
    "```\n",
    "\n",
    "\"\"\",model='gpt-4')\n",
    "print(response)\n",
    "pyclip.copy(response)"
   ]
  },
  {
   "cell_type": "code",
   "execution_count": null,
   "id": "43cd823a-81cc-4e77-b30f-1da39ec45c3e",
   "metadata": {},
   "outputs": [],
   "source": []
  },
  {
   "cell_type": "code",
   "execution_count": null,
   "id": "b6d822b6-09c1-45d2-b61d-cee9a4fcf664",
   "metadata": {},
   "outputs": [],
   "source": []
  }
 ],
 "metadata": {
  "kernelspec": {
   "display_name": "Python 3 (ipykernel)",
   "language": "python",
   "name": "python3"
  },
  "language_info": {
   "codemirror_mode": {
    "name": "ipython",
    "version": 3
   },
   "file_extension": ".py",
   "mimetype": "text/x-python",
   "name": "python",
   "nbconvert_exporter": "python",
   "pygments_lexer": "ipython3",
   "version": "3.10.6"
  }
 },
 "nbformat": 4,
 "nbformat_minor": 5
}
