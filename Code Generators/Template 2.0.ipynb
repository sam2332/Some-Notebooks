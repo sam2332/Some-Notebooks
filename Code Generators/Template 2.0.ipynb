{
 "cells": [
  {
   "cell_type": "code",
   "execution_count": 39,
   "id": "a62768f1-2b31-4708-ab01-b9d66482ccf5",
   "metadata": {},
   "outputs": [],
   "source": [
    "import jinja2\n",
    "from jinja2 import Environment, BaseLoader\n",
    "def jinga2TemplateString(TEMPLATE_STRING, args={}):\n",
    "    rtemplate = Environment(loader=BaseLoader).from_string(TEMPLATE_STRING)\n",
    "    outputText = rtemplate.render(**args)\n",
    "    return outputText"
   ]
  },
  {
   "cell_type": "code",
   "execution_count": 96,
   "id": "eea8df3d-b8b6-4357-95b7-79e9278c0bc0",
   "metadata": {},
   "outputs": [],
   "source": [
    "data = {\n",
    "    \"Purchasing\":[\n",
    "        {\n",
    "            'name':'James C. Hudgins, Jr.',\n",
    "            'email':'jhudgins@ingham.org',\n",
    "            'position':'Director of Purchasing',\n",
    "        },\n",
    "        {\n",
    "            'name':'Julie Buckmaster',\n",
    "            'email':'jbuckmaster@ingham.org',\n",
    "            'position':'Purchasing Assistant',\n",
    "        },\n",
    "        {\n",
    "            'name':'Timothy Stay Jr.',\n",
    "            'email':'tstay@ingham.org',\n",
    "            'position':'Administrative Assistant',\n",
    "        }\n",
    "    ],\n",
    "    \"Roads Department Purchasing\":[\n",
    "        {\n",
    "            'name':'Bobbie Mayes',\n",
    "            'email':'bmayes@ingham.org',\n",
    "            'position':'Purchasing Agent',\n",
    "        },\n",
    "        {\n",
    "            'name':'Seth Johnson',\n",
    "            'email':'SJohnson3@ingham.org',\n",
    "            'position':'Buyer',\n",
    "        }\n",
    "    ],\n",
    "    \"Copy Center\":[\n",
    "        {\n",
    "            'name':'Jodi Sweezy',\n",
    "            'email':'copycenter@ingham.org',\n",
    "            'position':'Copy Center Coordinator',\n",
    "        }\n",
    "    ],\n",
    "    \"Courier\":[\n",
    "        {\n",
    "            'name':'Corree Baughan',\n",
    "            'email':'CBaughan@ingham.org',\n",
    "            'position':'Courier'\n",
    "        }\n",
    "    ]\n",
    "}"
   ]
  },
  {
   "cell_type": "markdown",
   "id": "9b946d00-2a10-41de-9c99-072151b68c19",
   "metadata": {},
   "source": [
    "# New Way\n"
   ]
  },
  {
   "cell_type": "code",
   "execution_count": 95,
   "id": "01d3172b-d39f-417f-8096-c4d2e5c90256",
   "metadata": {},
   "outputs": [],
   "source": [
    "class Generic:\n",
    "    def __init__(self,**kwargs):\n",
    "        for item in kwargs:\n",
    "            if item != 'self':\n",
    "                setattr(self, item, kwargs[item])\n",
    "    def __repr_html__(self):\n",
    "        raise Exception(\"Not implemented\")\n",
    "    \n",
    "class Group(Generic):\n",
    "    name = \"\"\n",
    "    children=[]\n",
    "    def __repr_html__(self):\n",
    "        return (jinga2TemplateString(\"\"\"<u>{{name}}</u><br>\n",
    "{% for user in children %}{{user.__repr_html__()}}\n",
    "{% endfor %}<br>\n",
    "    \"\"\",{'name':self.name, 'children':self.children}))\n",
    "    \n",
    "class Person(Generic):\n",
    "    name=\"\"\n",
    "    email=\"\"\n",
    "    postion=\"\"\n",
    "    def __repr_html__(self):\n",
    "         return (jinga2TemplateString(\"\"\"<strong><a href='mailto:{{user[\"email\"]}}'>{{user['name']}}, {{user['position']}}</a></strong><br>\"\"\",{'user':{'name':self.name, 'email':self.email,'position':self.position}}))\n",
    "            "
   ]
  },
  {
   "cell_type": "raw",
   "id": "bdbf2a27-30f2-4f5c-a288-fd2d4470ff89",
   "metadata": {},
   "source": [
    "Group(name=\"testing\", children=[Person(name='bob',position='qa',email='none')]).__repr_html__()"
   ]
  },
  {
   "cell_type": "code",
   "execution_count": 97,
   "id": "0f5bc35b-3d36-4bb1-be00-4490f244ee2f",
   "metadata": {},
   "outputs": [],
   "source": [
    "groups = []\n",
    "for group_name in data:\n",
    "    users = []\n",
    "    for p in data[group_name]:\n",
    "        users.append(Person(**p))\n",
    "    groups.append(Group(name=group_name, children=users))"
   ]
  },
  {
   "cell_type": "code",
   "execution_count": 99,
   "id": "51b7cd21-1350-4052-b168-736912b044a8",
   "metadata": {},
   "outputs": [
    {
     "name": "stdout",
     "output_type": "stream",
     "text": [
      "<span style=\"font-size: 13px;\"><strong>Click on name to email:&nbsp;<br>\n",
      "\n",
      "<u>Purchasing</u><br>\n",
      "<strong><a href='mailto:jhudgins@ingham.org'>James C. Hudgins, Jr., Director of Purchasing</a></strong><br>\n",
      "<strong><a href='mailto:jbuckmaster@ingham.org'>Julie Buckmaster, Purchasing Assistant</a></strong><br>\n",
      "<strong><a href='mailto:tstay@ingham.org'>Timothy Stay Jr., Administrative Assistant</a></strong><br>\n",
      "<br>\n",
      "    \n",
      "<u>Roads Department Purchasing</u><br>\n",
      "<strong><a href='mailto:bmayes@ingham.org'>Bobbie Mayes, Purchasing Agent</a></strong><br>\n",
      "<strong><a href='mailto:SJohnson3@ingham.org'>Seth Johnson, Buyer</a></strong><br>\n",
      "<br>\n",
      "    \n",
      "<u>Copy Center</u><br>\n",
      "<strong><a href='mailto:copycenter@ingham.org'>Jodi Sweezy, Copy Center Coordinator</a></strong><br>\n",
      "<br>\n",
      "    \n",
      "<u>Courier</u><br>\n",
      "<strong><a href='mailto:CBaughan@ingham.org'>Corree Baughan, Courier</a></strong><br>\n",
      "<br>\n",
      "    \n",
      " \n"
     ]
    }
   ],
   "source": [
    "html = jinga2TemplateString(\"\"\"<span style=\"font-size: 13px;\"><strong>Click on name to email:&nbsp;<br>\n",
    "{% for user in children %}\n",
    "{{user.__repr_html__()}}{% endfor %}\n",
    " \"\"\",{'children':groups})\n",
    "print(html)"
   ]
  },
  {
   "cell_type": "markdown",
   "id": "6e7f7ab6-a4ad-4f94-85f2-ceeb0c1eb9b0",
   "metadata": {},
   "source": [
    "# Old Way"
   ]
  },
  {
   "cell_type": "code",
   "execution_count": 100,
   "id": "ab644794-e6b0-450d-aeae-29239e3232f3",
   "metadata": {},
   "outputs": [
    {
     "name": "stdout",
     "output_type": "stream",
     "text": [
      "\n",
      "<span style=\"font-size: 13px;\"><strong>Click on name to email:&nbsp;<br>\n",
      "<u>Purchasing</u><br>\n",
      "<strong><a href='mailto:jhudgins@ingham.org'>James C. Hudgins, Jr., Director of Purchasing</a></strong><br>\n",
      "<strong><a href='mailto:jbuckmaster@ingham.org'>Julie Buckmaster, Purchasing Assistant</a></strong><br>\n",
      "<strong><a href='mailto:tstay@ingham.org'>Timothy Stay Jr., Administrative Assistant</a></strong><br>\n",
      "<br>\n",
      "\n",
      "<u>Roads Department Purchasing</u><br>\n",
      "<strong><a href='mailto:bmayes@ingham.org'>Bobbie Mayes, Purchasing Agent</a></strong><br>\n",
      "<strong><a href='mailto:SJohnson3@ingham.org'>Seth Johnson, Buyer</a></strong><br>\n",
      "<br>\n",
      "\n",
      "<u>Copy Center</u><br>\n",
      "<strong><a href='mailto:copycenter@ingham.org'>Jodi Sweezy, Copy Center Coordinator</a></strong><br>\n",
      "<br>\n",
      "\n",
      "<u>Courier</u><br>\n",
      "<strong><a href='mailto:CBaughan@ingham.org'>Corree Baughan, Courier</a></strong><br>\n",
      "<br>\n",
      "\n",
      "\n"
     ]
    }
   ],
   "source": [
    "print(jinga2TemplateString(\"\"\"\n",
    "<span style=\"font-size: 13px;\"><strong>Click on name to email:&nbsp;<br>\n",
    "{% for groupname in data %}<u>{{groupname}}</u><br>\n",
    "{% for user in data[groupname] %}<strong><a href='mailto:{{user[\"email\"]}}'>{{user['name']}}, {{user['position']}}</a></strong><br>\n",
    "{% endfor %}<br>\n",
    "\n",
    "{% endfor %}\"\"\",{'data':data}))"
   ]
  },
  {
   "cell_type": "code",
   "execution_count": null,
   "id": "18d2af28-50e8-4bff-b7c9-8818d4fb3c56",
   "metadata": {},
   "outputs": [],
   "source": []
  },
  {
   "cell_type": "code",
   "execution_count": null,
   "id": "651c1e51-0443-4914-9c4c-ffdf5dde9b13",
   "metadata": {},
   "outputs": [],
   "source": []
  }
 ],
 "metadata": {
  "kernelspec": {
   "display_name": "Python 3 (ipykernel)",
   "language": "python",
   "name": "python3"
  },
  "language_info": {
   "codemirror_mode": {
    "name": "ipython",
    "version": 3
   },
   "file_extension": ".py",
   "mimetype": "text/x-python",
   "name": "python",
   "nbconvert_exporter": "python",
   "pygments_lexer": "ipython3",
   "version": "3.10.4"
  },
  "widgets": {
   "application/vnd.jupyter.widget-state+json": {
    "state": {},
    "version_major": 2,
    "version_minor": 0
   }
  }
 },
 "nbformat": 4,
 "nbformat_minor": 5
}
