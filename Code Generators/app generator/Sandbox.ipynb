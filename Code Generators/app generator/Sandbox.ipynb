{
 "cells": [
  {
   "cell_type": "code",
   "execution_count": null,
   "id": "75711fdb-bb11-467c-b945-ee718814ce86",
   "metadata": {
    "tags": []
   },
   "outputs": [],
   "source": [
    "from pathlib import Path\n",
    "import json"
   ]
  },
  {
   "cell_type": "code",
   "execution_count": null,
   "id": "274041b9-cee6-4f71-a875-1b9a4d830da1",
   "metadata": {
    "tags": []
   },
   "outputs": [],
   "source": [
    "import openai\n",
    "import keyring\n",
    "openai.api_key =keyring.get_password(\"system\", \"openai_key\")\n",
    "\n",
    "def GPT(system,user):\n",
    "    # Define the conversation messages\n",
    "    completion = openai.ChatCompletion.create(\n",
    "      model=\"gpt-3.5-turbo\",\n",
    "      messages=[\n",
    "        {\"role\": \"system\", \"content\": system},\n",
    "        {\"role\":\"user\", \"content\":user }\n",
    "      ]\n",
    "    )\n",
    "    return completion.choices[0].message['content'].strip(\"'\").strip()"
   ]
  },
  {
   "cell_type": "code",
   "execution_count": null,
   "id": "08116d8c-2f0d-4ab8-8c9c-bd0d1e2c0b1b",
   "metadata": {
    "tags": []
   },
   "outputs": [],
   "source": [
    "ProjectDescription=\" \".join(\"\"\"\n",
    "My webapp is for friends to gather\n",
    "and share ideas in a chat room style experience\n",
    "\"\"\".strip().split('\\n'))\n",
    "ProjectDescription"
   ]
  },
  {
   "cell_type": "code",
   "execution_count": null,
   "id": "29f3b230-b61f-4070-a176-bcab6b25aa1e",
   "metadata": {
    "tags": []
   },
   "outputs": [],
   "source": [
    "SiteMapRaw = GPT(\"\"\"\n",
    "You are a good webdesigner, you know how to use flask, bootstrap,html, jquery\n",
    "Please respond in a json array\n",
    "formated like the following , BUT\n",
    "\n",
    "[\n",
    "{ \"PageTitle\":\"\",\"Features\":[\"\",\"\",\"\"],\"PageDescription\":\"\"},\n",
    "{ \"PageTitle\":\"\",\"Features\":[\"\",\"\",\"\"],\"PageDescription\":\"\"},\n",
    "{ \"PageTitle\":\"\",\"Features\":[\"\",\"\",\"\"],\"PageDescription\":\"\"},\n",
    "{ \"PageTitle\":\"\",\"Features\":[\"\",\"\",\"\"],\"PageDescription\":\"\"},\n",
    "]\n",
    "\n",
    "Please provide the user with a sitemap for their new website based on the following\n",
    "MAKE SURE YOUR OUTPUT IS VALID JSON!\n",
    "\"\"\",ProjectDescription)\n",
    "print(SiteMapRaw)"
   ]
  },
  {
   "cell_type": "code",
   "execution_count": null,
   "id": "9bd1516b-df50-4d5e-b6ed-c2e19728d0ba",
   "metadata": {
    "tags": []
   },
   "outputs": [],
   "source": [
    "PagesObj = json.loads(SiteMap)"
   ]
  },
  {
   "cell_type": "code",
   "execution_count": null,
   "id": "66d3c9a8-4b37-43ec-b805-726037da4cec",
   "metadata": {
    "tags": []
   },
   "outputs": [],
   "source": [
    "for page in PagesObj:\n",
    "    print(page)\n",
    "    PageContent = GPT(\"\"\"\n",
    "    You are a good webdesigner, you know how to use flask, bootstrap,html, jquery\n",
    "    Please respond in a only html\n",
    "    Please provide the user with html new website based on the following requirements.\n",
    "    \"\"\",f\"\"\"    \n",
    "    Page Name: {page[\"PageTitle\"]}\n",
    "    Page Description: {page[\"PageDescription\"]}\n",
    "    Page Features: {page[\"Features\"]}\n",
    "    \n",
    "    Orginal App Description: {ProjectDescription}\n",
    "    Keep in mind the following json sitemap: {json.dumps(Pages)}\n",
    "    \"\"\")\n",
    "    print(PageContent)\n",
    "    Path(\"WorkSpace\",page['PageTitle']+'.html').write_text(PageContent)"
   ]
  },
  {
   "cell_type": "code",
   "execution_count": null,
   "id": "affbf756-a3fa-435c-8ed6-300bfec1c656",
   "metadata": {},
   "outputs": [],
   "source": []
  }
 ],
 "metadata": {
  "kernelspec": {
   "display_name": "Python 3 (ipykernel)",
   "language": "python",
   "name": "python3"
  },
  "language_info": {
   "codemirror_mode": {
    "name": "ipython",
    "version": 3
   },
   "file_extension": ".py",
   "mimetype": "text/x-python",
   "name": "python",
   "nbconvert_exporter": "python",
   "pygments_lexer": "ipython3",
   "version": "3.10.7"
  }
 },
 "nbformat": 4,
 "nbformat_minor": 5
}
