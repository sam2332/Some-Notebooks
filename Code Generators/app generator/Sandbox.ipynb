{
 "cells": [
  {
   "cell_type": "code",
   "execution_count": null,
   "id": "75711fdb-bb11-467c-b945-ee718814ce86",
   "metadata": {
    "tags": []
   },
   "outputs": [],
   "source": [
    "from pathlib import Path\n",
    "import json"
   ]
  },
  {
   "cell_type": "code",
   "execution_count": null,
   "id": "274041b9-cee6-4f71-a875-1b9a4d830da1",
   "metadata": {
    "tags": []
   },
   "outputs": [],
   "source": [
    "import openai\n",
    "import keyring\n",
    "openai.api_key =keyring.get_password(\"system\", \"openai_key\")\n",
    "\n",
    "def GPT(system,user):\n",
    "    # Define the conversation messages\n",
    "    completion = openai.ChatCompletion.create(\n",
    "      model=\"gpt-3.5-turbo\",\n",
    "      messages=[\n",
    "        {\"role\": \"system\", \"content\": system},\n",
    "        {\"role\":\"user\", \"content\":user }\n",
    "      ]\n",
    "    )\n",
    "    return completion.choices[0].message['content'].strip(\"'\").strip()"
   ]
  },
  {
   "cell_type": "code",
   "execution_count": 29,
   "id": "54e4db23-8893-42c8-983a-2d906418d5b1",
   "metadata": {
    "tags": []
   },
   "outputs": [],
   "source": [
    "AppName=\"ChatHub\"\n",
    "\n",
    "ProjectDescription=GPT(\"Improve this Project Description with more details, add bullet points of each items mentioned\",\" \".join(\"\"\"\n",
    "\n",
    "\n",
    "My webapp is for friends to gather\n",
    "and share ideas in a chat room style experience\n",
    "\n",
    "\n",
    "\"\"\".strip().split('\\n')))\n",
    "print(ProjectDescription)"
   ]
  },
  {
   "cell_type": "code",
   "execution_count": 31,
   "id": "670bfb00-b57c-419e-8cf5-53761f991f6c",
   "metadata": {
    "tags": []
   },
   "outputs": [
    {
     "name": "stdout",
     "output_type": "stream",
     "text": [
      "Here are the tasks and estimated timelines for each bullet point:\n",
      "\n",
      "- Chat Room:\n",
      "  - Develop the chat room functionality: 2 weeks\n",
      "  - Implement real-time messaging: 1 week\n",
      "  - Design the chat room UI: 1 week\n",
      "  - Test and debug the chat room feature: 1 week\n",
      "\n",
      "- Idea-sharing:\n",
      "  - Develop the idea-sharing feature: 2 weeks\n",
      "  - Implement a forum-like setting to allow users to post their ideas: 1 week\n",
      "  - Design the UI/UX for the idea-sharing feature: 2 weeks\n",
      "  - Test and debug the idea-sharing feature: 1 week\n",
      "\n",
      "- Commenting and Feedback:\n",
      "  - Develop the commenting and feedback feature: 2 weeks\n",
      "  - Implement a comment section for each post: 1 week\n",
      "  - Design the UI/UX for the commenting and feedback feature: 2 weeks\n",
      "  - Test and debug the commenting and feedback feature: 1 week\n",
      "\n",
      "- User profiles:\n",
      "  - Develop the user profile functionality: 2 weeks\n",
      "  - Implement user personalization options: 1 week\n",
      "  - Design the UI/UX for user profiles: 2 weeks\n",
      "  - Test and debug the user profile feature: 1 week\n",
      "\n",
      "- Notification system:\n",
      "  - Develop the notification system: 2 weeks\n",
      "  - Add notification preferences options for users: 1 week\n",
      "  - Design the UI/UX for notifications: 2 weeks\n",
      "  - Test and debug the notification system: 1 week\n",
      "\n",
      "Overall, the development of the entire webapp could take around 3-4 months, depending on the complexity of the features and the size of the development team. It's crucial to prioritize the development of the most important features, such as the chat room, idea-sharing, and user profiles, to ensure the webapp's success.\n"
     ]
    }
   ],
   "source": [
    "ProjectTimeline=GPT(\"Please make a list of tasks needed for each bullet point as a sub bullet point, include timeline estimates, Project Description to follow:\",ProjectDescription)\n",
    "print(ProjectTimeline)"
   ]
  },
  {
   "cell_type": "code",
   "execution_count": null,
   "id": "29f3b230-b61f-4070-a176-bcab6b25aa1e",
   "metadata": {
    "tags": []
   },
   "outputs": [],
   "source": [
    "SiteMapRaw = GPT(\"\"\"\n",
    "You are a good webdesigner, you know how to use flask, bootstrap,html, jquery\n",
    "Please respond in a json array\n",
    "formated like the following:\n",
    "[\n",
    "{ \"PageTitle\":\"\",\"Features\":[\"\",\"\",\"\"],\"PageDescription\":\"\"},\n",
    "{ \"PageTitle\":\"\",\"Features\":[\"\",\"\",\"\"],\"PageDescription\":\"\"},\n",
    "{ \"PageTitle\":\"\",\"Features\":[\"\",\"\",\"\"],\"PageDescription\":\"\"},\n",
    "{ \"PageTitle\":\"\",\"Features\":[\"\",\"\",\"\"],\"PageDescription\":\"\"},\n",
    "]\n",
    "\n",
    "Please provide the user with a sitemap for their new website based on the following\n",
    "MAKE SURE YOUR OUTPUT IS VALID JSON!\n",
    "\"\"\",f\"\"\"App Name:{AppName}\\nDescription: {ProjectDescription}\"\"\")\n",
    "print(SiteMapRaw)"
   ]
  },
  {
   "cell_type": "code",
   "execution_count": null,
   "id": "9bd1516b-df50-4d5e-b6ed-c2e19728d0ba",
   "metadata": {
    "tags": []
   },
   "outputs": [],
   "source": [
    "PagesObj = json.loads(SiteMapRaw)"
   ]
  },
  {
   "cell_type": "code",
   "execution_count": null,
   "id": "66d3c9a8-4b37-43ec-b805-726037da4cec",
   "metadata": {
    "tags": []
   },
   "outputs": [],
   "source": [
    "for page in PagesObj:\n",
    "    print(page)\n",
    "    PageContent = GPT(\"\"\"\n",
    "    You are a good webdesigner, you know how to use flask, bootstrap,html, jquery\n",
    "    Please respond in a only html\n",
    "    Please provide the user with html new website based on the following requirements.\n",
    "    \"\"\",f\"\"\"    \n",
    "    Page Name: {page[\"PageTitle\"]}\n",
    "    Page Description: {page[\"PageDescription\"]}\n",
    "    \n",
    "    Please add the following Page Features:\n",
    "    {page[\"Features\"]}\n",
    "    \n",
    "    \n",
    "    Orginal App Name: {AppName}\n",
    "    Orginal App Description: {ProjectDescription}\n",
    "    Keep in mind the following json sitemap when generating links between pages: {json.dumps(Pages)}\n",
    "    \n",
    "    \"\"\")\n",
    "    print(PageContent)\n",
    "    Path(\"WorkSpace\",page['PageTitle']+'.html').write_text(PageContent)"
   ]
  },
  {
   "cell_type": "code",
   "execution_count": null,
   "id": "affbf756-a3fa-435c-8ed6-300bfec1c656",
   "metadata": {},
   "outputs": [],
   "source": []
  }
 ],
 "metadata": {
  "kernelspec": {
   "display_name": "Python 3 (ipykernel)",
   "language": "python",
   "name": "python3"
  },
  "language_info": {
   "codemirror_mode": {
    "name": "ipython",
    "version": 3
   },
   "file_extension": ".py",
   "mimetype": "text/x-python",
   "name": "python",
   "nbconvert_exporter": "python",
   "pygments_lexer": "ipython3",
   "version": "3.10.7"
  }
 },
 "nbformat": 4,
 "nbformat_minor": 5
}
