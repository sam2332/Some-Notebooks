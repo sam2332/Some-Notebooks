{
    "cells": [
        {
            "cell_type": "code",
            "execution_count": null,
            "id": "91d9825e-28ad-4766-9673-14b1efd8a9f2",
            "metadata": {},
            "outputs": [],
            "source": [
                "from PIL import Image\n",
                "from IPython.display import display \n",
                "from collections import defaultdict"
            ]
        },
        {
            "cell_type": "code",
            "execution_count": 336,
            "id": "1fc5bacd-3fa0-4dd8-8674-9f19946d8c4b",
            "metadata": {},
            "outputs": [],
            "source": [
                "tiles_o = Image.open(\"tiles_cropped.jpg\")\n",
                "tiles = tiles_o.convert('L')\n",
                "print('h',tiles.height)\n",
                "print('w',tiles.width)\n",
                "display(tiles)"
            ]
        },
        {
            "cell_type": "code",
            "execution_count": 337,
            "id": "841c04c6-281d-4737-944b-79df3f9b9024",
            "metadata": {},
            "outputs": [],
            "source": [
                "import jsonpickle"
            ]
        },
        {
            "cell_type": "code",
            "execution_count": 338,
            "id": "6274c9ee-13d2-4b21-905e-fe30b381e3fe",
            "metadata": {},
            "outputs": [],
            "source": [
                "class ResultSet():\n",
                "    def __init__(self):\n",
                "        self.list = []\n",
                "    def append(self,item):\n",
                "        self.list.append(item)\n",
                "    def __repr__(self):\n",
                "        return jsonpickle.encode(self.list,indent=4)"
            ]
        },
        {
            "cell_type": "code",
            "execution_count": 339,
            "id": "d2e8646c-e4ee-4386-bb78-e67b21a41f1b",
            "metadata": {},
            "outputs": [],
            "source": [
                "class VerticalResult():\n",
                "    def __init__(self, y,lines):\n",
                "        self.lines = lines\n",
                "        self.y = y\n",
                "    def __repr__(self):\n",
                "        return f\"{self.y}: {str(self.lines)}\""
            ]
        },
        {
            "cell_type": "code",
            "execution_count": 342,
            "id": "39a7c68f-d008-4218-9737-0ef9e89069d5",
            "metadata": {},
            "outputs": [],
            "source": [
                "scans = ResultSet()\n",
                "y_avg=6\n",
                "for y in range(8,tiles.height-50,50):\n",
                "    print('scanning y axis:',y)\n",
                "    s = []\n",
                "    inline= False\n",
                "    sl =None\n",
                "    for x in range(0,tiles.width,1):\n",
                "        cs = []\n",
                "        for cy in range(y-y_avg,y+y_avg):\n",
                "            if cy<0 or cy>tiles.width:\n",
                "                break\n",
                "            c = tiles.getpixel((x, cy))\n",
                "            cs.append(c)\n",
                "        if (sum(cs)/len(cs))<100:\n",
                "            if inline:\n",
                "                continue #print('still inline')\n",
                "            else:\n",
                "                #print('sl',x)\n",
                "                sl=x\n",
                "                inline = True\n",
                "        elif inline:\n",
                "            s.append(range(sl,x))\n",
                "            print('line at x: ',sl,'-',x)\n",
                "            inline = False\n",
                "    print('verticle lines',len(s), s)\n",
                "    \n",
                "    print()\n",
                "    scans.append(VerticalResult(y,s))"
            ]
        },
        {
            "cell_type": "code",
            "execution_count": 343,
            "id": "9e3b192c-b0c1-452c-ab7d-a0b19e84f5e8",
            "metadata": {},
            "outputs": [],
            "source": [
                "columns = defaultdict(int)\n",
                "for item in scans.list:\n",
                "    for column in item.lines:\n",
                "        columns[column]+=1"
            ]
        },
        {
            "cell_type": "code",
            "execution_count": 344,
            "id": "36ffb177-72ed-4a67-9da1-2751284884d9",
            "metadata": {},
            "outputs": [],
            "source": [
                "avg = sum(columns.values())/len(columns.values())\n",
                "print ('required row attendance', avg)"
            ]
        },
        {
            "cell_type": "code",
            "execution_count": 345,
            "id": "6685140c-cd55-484d-bb14-6ca569a7d894",
            "metadata": {},
            "outputs": [],
            "source": [
                "class xcutImageResult():\n",
                "    def __init__(self, pos, image):\n",
                "        self.pos = pos\n",
                "        self.image = image"
            ]
        },
        {
            "cell_type": "code",
            "execution_count": 346,
            "id": "104e6e3b-c2be-4650-82a2-c15389317a97",
            "metadata": {},
            "outputs": [],
            "source": [
                "class Cutter():\n",
                "    def __init__(self,image):\n",
                "        self.image = image\n",
                "        self.x_cols = []\n",
                "        self.x_slices=[]\n",
                "    def addVerticleCut(self, x):\n",
                "        x=list(x)\n",
                "        if len(x)==1:\n",
                "            x.append(x[0]+1)\n",
                "        print(f\"V-Cut added at {x}\")\n",
                "        self.x_cols.append(x)\n",
                "    def slicex(self):\n",
                "        in_line = True\n",
                "        prev = 0\n",
                "        prev_x=0\n",
                "        for x in range(0,self.image.width):\n",
                "            if any([x in f for f in self.x_cols]):\n",
                "                if in_line:\n",
                "                    prev_x = x\n",
                "                    in_line=False\n",
                "                else:\n",
                "                    if x-prev_x<5: \n",
                "                        continue\n",
                "                    in_line=True\n",
                "                    print(f\"Image from {prev_x}-{x}\")\n",
                "                    self.x_slices.append(xcutImageResult(pos=(prev_x,x),image=self.image.crop((prev_x,0,x,self.image.height))))\n",
                "            previous = x\n",
                "        "
            ]
        },
        {
            "cell_type": "code",
            "execution_count": 347,
            "id": "9a28fe10-778a-442b-b050-b3e958ee7722",
            "metadata": {},
            "outputs": [],
            "source": [
                "cutr = Cutter(tiles)\n",
                "\n",
                "for col in columns:\n",
                "    if columns[col] >= avg:\n",
                "        cutr.addVerticleCut(col)"
            ]
        },
        {
            "cell_type": "code",
            "execution_count": 348,
            "id": "a1f13bf7-53b2-4b5b-a424-d006d012273d",
            "metadata": {},
            "outputs": [],
            "source": [
                "cutr.slicex()"
            ]
        },
        {
            "cell_type": "code",
            "execution_count": 353,
            "id": "5106ae07-2369-4526-ab7b-f26e72393962",
            "metadata": {},
            "outputs": [],
            "source": [
                "x_avg = 6\n",
                "img_num=0\n",
                "for item in cutr.x_slices:\n",
                "    print(item)\n",
                "    x_pos = int(item.image.width/2)\n",
                "    for y in range(0,item.image.height,2):        \n",
                "        \n",
                "        cs = []\n",
                "        for cx in range(x_pos-x_avg,x_pos+x_avg):\n",
                "            if cx<0 or cx>item.image.width:\n",
                "                break\n",
                "            c = tiles.getpixel((cx, y))\n",
                "            cs.append(c)\n",
                "        #print(cs,sum(cs)/len(cs))\n",
                "        if (sum(cs)/len(cs))<125:\n",
                "            img = item.image.crop((0,y,100,y+100))\n",
                "            img.save(f'new_split/{img_num}.png')\n",
                "            img_num+=1\n",
                "            display(img)\n",
                "            "
            ]
        },
        {
            "cell_type": "code",
            "execution_count": null,
            "id": "030aed2a-3e06-48d5-ab3f-fee77f81daac",
            "metadata": {},
            "outputs": [],
            "source": []
        },
        {
            "cell_type": "code",
            "execution_count": null,
            "id": "e16d6bb3-fef7-4a9d-9f5a-46a00015507c",
            "metadata": {},
            "outputs": [],
            "source": [
                "box_size = 95\n",
                "border_x = 5\n",
                "border_y=7\n",
                "for yi,y in enumerate(range(0,tiles.height-box_size,box_size)):\n",
                "    for xi,x in enumerate(range(0,tiles.width-box_size,box_size)):\n",
                "        ty=(yi*border_y)+y\n",
                "        tx = (xi*border_x)+x\n",
                "        im1 = tiles.crop((tx, ty, tx+box_size, ty+box_size))\n",
                "        display(im1)\n",
                "        im1.save(f\"split/{yi}-{xi}.png\")\n",
                "        print(f\"split/{yi}-{xi}.png\")\n",
                "        print()"
            ]
        },
        {
            "cell_type": "code",
            "execution_count": null,
            "id": "5f027146-5d49-40f1-81f8-3e676fd477f0",
            "metadata": {},
            "outputs": [],
            "source": []
        }
    ],
    "metadata": {
        "kernelspec": {
            "display_name": "Python 3 (ipykernel)",
            "language": "python",
            "name": "python3"
        },
        "language_info": {
            "codemirror_mode": {
                "name": "ipython",
                "version": 3
            },
            "file_extension": ".py",
            "mimetype": "text/x-python",
            "name": "python",
            "nbconvert_exporter": "python",
            "pygments_lexer": "ipython3",
            "version": "3.10.4"
        },
        "scenes_data": {
            "active_scene": "Default Scene",
            "init_scene": "",
            "scenes": [
                "Default Scene"
            ]
        },
        "widgets": {
            "application/vnd.jupyter.widget-state+json": {
                "state": {},
                "version_major": 2,
                "version_minor": 0
            }
        }
    },
    "nbformat": 4,
    "nbformat_minor": 5
}