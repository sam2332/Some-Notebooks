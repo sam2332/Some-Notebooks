{
    "cells": [
        {
            "cell_type": "code",
            "execution_count": 10,
            "id": "1c4182dd-e77a-4fc5-aa22-bae0a2e6fa4c",
            "metadata": {},
            "outputs": [],
            "source": [
                "from PIL import Image\n",
                "from IPython.display import display \n",
                "from collections import defaultdict\n",
                "tiles_o = Image.open(\"tiles.jpg\")\n",
                "tiles = tiles_o.convert('L')\n",
                "print('h',tiles.height)\n",
                "print('w',tiles.width)\n",
                "display(tiles)"
            ]
        },
        {
            "cell_type": "code",
            "execution_count": 11,
            "id": "e5442adc-4951-4b84-ac01-43694bf6f64f",
            "metadata": {},
            "outputs": [],
            "source": [
                "def leftEdgeIsBlack(image):\n",
                "    cs = []\n",
                "    for i in range(0,image.height):\n",
                "        c = tiles.getpixel((0, i))\n",
                "        cs.append(c)\n",
                "    if (sum(cs)/len(cs))<150:\n",
                "        return True\n",
                "    return False"
            ]
        },
        {
            "cell_type": "code",
            "execution_count": 12,
            "id": "a3065727-dc45-4eb2-979e-cbfd56363c48",
            "metadata": {},
            "outputs": [],
            "source": [
                "def topEdgeIsBlack(image):\n",
                "    cs = []\n",
                "    for i in range(0,image.width):\n",
                "        c = tiles.getpixel((i,0))\n",
                "        cs.append(c)\n",
                "    \n",
                "    #print(cs,sum(cs)/len(cs))\n",
                "    if (sum(cs)/len(cs))<150:\n",
                "        return True\n",
                "    return False"
            ]
        },
        {
            "cell_type": "code",
            "execution_count": 13,
            "id": "26d819ae-df20-419c-b7b2-ac28d853c749",
            "metadata": {},
            "outputs": [],
            "source": [
                "def topEdgeIsWhite(image):\n",
                "    cs = []\n",
                "    for i in range(0,image.width):\n",
                "        c = tiles.getpixel((i,0))\n",
                "        cs.append(c)\n",
                "    \n",
                "    #print(cs,sum(cs)/len(cs))\n",
                "    if (sum(cs)/len(cs))>150:\n",
                "        return True\n",
                "    return False"
            ]
        },
        {
            "cell_type": "code",
            "execution_count": 14,
            "id": "d7d71484-15d7-43d7-8549-97eab09d0efb",
            "metadata": {},
            "outputs": [],
            "source": [
                "trim = 1\n",
                "while(leftEdgeIsBlack(tiles)):\n",
                "    tiles = tiles.crop((trim,0,tiles.width,tiles.height))\n",
                "    print('trimming')\n",
                "display(tiles)"
            ]
        },
        {
            "cell_type": "code",
            "execution_count": 15,
            "id": "d8f18593-5201-4abe-b386-b21cbd96b388",
            "metadata": {},
            "outputs": [],
            "source": [
                "while(topEdgeIsWhite(tiles)):\n",
                "    tiles = tiles.crop((0,trim,tiles.width,tiles.height))\n",
                "    print('trimming')\n",
                "display(tiles)"
            ]
        },
        {
            "cell_type": "code",
            "execution_count": 16,
            "id": "9a6fd401-4eba-4367-b1ed-df1b3d002667",
            "metadata": {},
            "outputs": [],
            "source": [
                "trim = 1\n",
                "while(topEdgeIsBlack(tiles)):\n",
                "    tiles = tiles.crop((0,trim,tiles.width,tiles.height))\n",
                "    print('trimming')\n",
                "display(tiles)"
            ]
        },
        {
            "cell_type": "code",
            "execution_count": 18,
            "id": "2e962ef1-1ba9-4394-a032-feb8ef2893e3",
            "metadata": {},
            "outputs": [],
            "source": [
                "tiles = tiles.crop((0,trim,tiles.width,tiles.height))\n",
                "print('trimming')\n",
                "display(tiles)"
            ]
        },
        {
            "cell_type": "code",
            "execution_count": 20,
            "id": "42a5108c-8b4e-40fe-92bc-fc0605a79d47",
            "metadata": {},
            "outputs": [],
            "source": [
                "tiles.save('tiles_cropped.jpg')"
            ]
        },
        {
            "cell_type": "code",
            "execution_count": null,
            "id": "047e9809-1bcf-461b-a0bc-0600042d27f7",
            "metadata": {},
            "outputs": [],
            "source": []
        }
    ],
    "metadata": {
        "kernelspec": {
            "display_name": "Python 3 (ipykernel)",
            "language": "python",
            "name": "python3"
        },
        "language_info": {
            "codemirror_mode": {
                "name": "ipython",
                "version": 3
            },
            "file_extension": ".py",
            "mimetype": "text/x-python",
            "name": "python",
            "nbconvert_exporter": "python",
            "pygments_lexer": "ipython3",
            "version": "3.8.10"
        }
    },
    "nbformat": 4,
    "nbformat_minor": 5
}